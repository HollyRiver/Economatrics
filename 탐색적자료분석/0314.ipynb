{
 "cells": [
  {
   "cell_type": "markdown",
   "id": "b033bb07-2174-4d54-aeb5-6a5c9c1de193",
   "metadata": {},
   "source": [
    "### 4장 : 수치요약과 상자그림"
   ]
  },
  {
   "cell_type": "markdown",
   "id": "a1fe284f-8fa3-4653-be1f-5e6dc679b571",
   "metadata": {},
   "source": [
    "`-` review\n",
    "\n",
    "> 줄기-잎 그림은 막대그래프와 유사하나, 정보가 더 많다.\n",
    ">\n",
    "> 데이터의 분포(어느 쪽으로 치우친 분포인지, 이상치가 있는지)"
   ]
  },
  {
   "attachments": {
    "35fc8aed-1c28-4362-8c00-3588b42a9fac.png": {
     "image/png": "[encoded data removed]"
    }
   },
   "cell_type": "markdown",
   "id": "c089728b-54f6-465b-96b5-81ca7c6b61c5",
   "metadata": {},
   "source": [
    "* 데이터 분석에서는 저항성 있는 통계량을 선호한다 : 중앙값 (자료가 기울어져 있거나 이상치가 있는 경우)\n",
    "\n",
    "> 오른쪽으로 긴 꼬리에서의 평균은 전체의 절반 이상이 미달\n",
    ">\n",
    "> 왼쪽으로 긴 꼬리에서의 평균은 전체의 절반 이상이 초과\n",
    "\n",
    "* 다섯 수치의 요약 : 최소값, 아래 경첩(제 1사분위수), 중위수, 위 경첩(제 3사분위수), 최대값\n",
    "\n",
    "> $N$ : 자료의 갯수\n",
    ">\n",
    "> $X_{(1)} ≤ \\dots ≤ X_{(N)}$ : 순서통계량\n",
    ">\n",
    "> ![image.png](attachment:35fc8aed-1c28-4362-8c00-3588b42a9fac.png)\n",
    "\n",
    "* 중위수의 깊이\n",
    "\n",
    "> 위 또는 아래에서 몇 번째 숫자인지.\n",
    ">\n",
    "> $min$(위로부터 순위, 아래로부터의 순위)\n",
    "\n",
    "$\\to$ 중위수 깊이 $d(M) = (N+1)/2$ (짝수일 경우 내림)\n",
    "\n",
    "* 경첩(hinge)\n",
    "\n",
    "> $d(H) = [d(ME) + 1]/2$, 단, $[x] = x$를 넘지 않는 최대의 정수\n",
    ">\n",
    "> $H_L = $아래 경첩(Lower Hinge), $H_U = $위 경첩(Upper Hinge).\n",
    ">\n",
    "> $\\frac{(H_U - M) - (M - H_L)}{(H_U - M) + (M - H_L)}$"
   ]
  },
  {
   "cell_type": "markdown",
   "id": "6e50065d-259c-419c-acc7-16e305b95765",
   "metadata": {},
   "source": [
    "* <span style:background-color>R 함수를 이용한 계산\n",
    "\n",
    "`summary(series)` : 다섯 수치 + 평균"
   ]
  },
  {
   "cell_type": "markdown",
   "id": "b04cfd73-05e8-412e-a495-b209303920f1",
   "metadata": {},
   "source": [
    "$X_{(1)} ≤ \\dots ≤ X_{(k)} ≤ \\dots ≤ X_{(N)}$ : 순서통계량\n",
    "\n",
    "`-` 비율(p)로부터 순위(k)찾기 : 보간법 이용\n",
    "\n",
    "$p(k) = \\frac{k - \\frac{1}{3}}{N + \\frac{1}{3}} = Np + \\frac{p}{3} + \\frac{1}{3}$\n",
    "\n",
    "> 중위수가 x의 분포와 상관없이 불편성을 지니기 때문에 사용한다."
   ]
  },
  {
   "cell_type": "markdown",
   "id": "ab9792b5-9d7d-458e-bdb4-6ed281834bbe",
   "metadata": {},
   "source": [
    "* R : `quantile(data_arr, percentage_arr, type = int[1:9])` (옵션 : type 불연속 1\\~3 / 연 4~9) type = 8 사용.\n",
    "\n",
    "> `type = 8`이 저항성이 높은 통계량을 사용한다."
   ]
  },
  {
   "cell_type": "markdown",
   "id": "5de7778c-2265-4d5b-a91c-7cafb79b2e8e",
   "metadata": {},
   "source": [
    "`-` 문자값 전시 : 수치요약을 일정한 형식으로 전시함\n",
    "\n",
    "중앙값 M / 4분위수 H / 8분위수 E / 16분위수 D : 각 수치의 중앙값의 추이로 왜도를 측정한다.\n",
    "\n",
    "> 중앙값이 계속 작아지면 왼쪽으로 기울어진 분포 / 계속 커지면 오른쪽으로 기울어진 분포\n",
    "\n",
    "분위수의 산포(범위)로 첨도를 측정한다.\n",
    "\n",
    "> 산포가 작았다가 급격하게 커질수록 첨도가 커진다."
   ]
  },
  {
   "cell_type": "code",
   "execution_count": 26,
   "id": "143727e3-7c69-4438-8deb-d8234913d772",
   "metadata": {},
   "outputs": [],
   "source": [
    "chi <- rchisq(1000, 2)"
   ]
  },
  {
   "cell_type": "code",
   "execution_count": 27,
   "id": "ced14ef9-a9ed-469b-ad29-7af0d97e2467",
   "metadata": {},
   "outputs": [
    {
     "data": {
      "text/html": [
       "<style>\n",
       ".dl-inline {width: auto; margin:0; padding: 0}\n",
       ".dl-inline>dt, .dl-inline>dd {float: none; width: auto; display: inline-block}\n",
       ".dl-inline>dt::after {content: \":\\0020\"; padding-right: .5ex}\n",
       ".dl-inline>dt:not(:first-of-type) {padding-left: .5ex}\n",
       "</style><dl class=dl-inline><dt>6.25%</dt><dd>0.119928787366446</dd><dt>12.5%</dt><dd>0.258402822328039</dd><dt>25%</dt><dd>0.589439760120787</dd><dt>50%</dt><dd>1.37989847002045</dd></dl>\n"
      ],
      "text/latex": [
       "\\begin{description*}\n",
       "\\item[6.25\\textbackslash{}\\%] 0.119928787366446\n",
       "\\item[12.5\\textbackslash{}\\%] 0.258402822328039\n",
       "\\item[25\\textbackslash{}\\%] 0.589439760120787\n",
       "\\item[50\\textbackslash{}\\%] 1.37989847002045\n",
       "\\end{description*}\n"
      ],
      "text/markdown": [
       "6.25%\n",
       ":   0.11992878736644612.5%\n",
       ":   0.25840282232803925%\n",
       ":   0.58943976012078750%\n",
       ":   1.37989847002045\n",
       "\n"
      ],
      "text/plain": [
       "    6.25%     12.5%       25%       50% \n",
       "0.1199288 0.2584028 0.5894398 1.3798985 "
      ]
     },
     "metadata": {},
     "output_type": "display_data"
    }
   ],
   "source": [
    "L = quantile(chi, c(0.0625, 0.125, 0.25, 0.5), type = 8)\n",
    "L  ## lower quantile"
   ]
  },
  {
   "cell_type": "code",
   "execution_count": 28,
   "id": "7b1ef134-ce9f-4be4-963e-b91e637c34d9",
   "metadata": {},
   "outputs": [
    {
     "data": {
      "text/html": [
       "<style>\n",
       ".dl-inline {width: auto; margin:0; padding: 0}\n",
       ".dl-inline>dt, .dl-inline>dd {float: none; width: auto; display: inline-block}\n",
       ".dl-inline>dt::after {content: \":\\0020\"; padding-right: .5ex}\n",
       ".dl-inline>dt:not(:first-of-type) {padding-left: .5ex}\n",
       "</style><dl class=dl-inline><dt>93.75%</dt><dd>5.42559526687209</dd><dt>87.5%</dt><dd>4.22804911006056</dd><dt>75%</dt><dd>2.66046365415044</dd><dt>50%</dt><dd>1.37989847002045</dd></dl>\n"
      ],
      "text/latex": [
       "\\begin{description*}\n",
       "\\item[93.75\\textbackslash{}\\%] 5.42559526687209\n",
       "\\item[87.5\\textbackslash{}\\%] 4.22804911006056\n",
       "\\item[75\\textbackslash{}\\%] 2.66046365415044\n",
       "\\item[50\\textbackslash{}\\%] 1.37989847002045\n",
       "\\end{description*}\n"
      ],
      "text/markdown": [
       "93.75%\n",
       ":   5.4255952668720987.5%\n",
       ":   4.2280491100605675%\n",
       ":   2.6604636541504450%\n",
       ":   1.37989847002045\n",
       "\n"
      ],
      "text/plain": [
       "  93.75%    87.5%      75%      50% \n",
       "5.425595 4.228049 2.660464 1.379898 "
      ]
     },
     "metadata": {},
     "output_type": "display_data"
    }
   ],
   "source": [
    "U = quantile(chi, c(0.9375, 0.875, 0.75, 0.5), type = 8)\n",
    "U  ## upper quantile"
   ]
  },
  {
   "cell_type": "code",
   "execution_count": 29,
   "id": "cb5fffa9-d14b-4840-a9fe-918737450be9",
   "metadata": {},
   "outputs": [
    {
     "data": {
      "text/html": [
       "<style>\n",
       ".dl-inline {width: auto; margin:0; padding: 0}\n",
       ".dl-inline>dt, .dl-inline>dd {float: none; width: auto; display: inline-block}\n",
       ".dl-inline>dt::after {content: \":\\0020\"; padding-right: .5ex}\n",
       ".dl-inline>dt:not(:first-of-type) {padding-left: .5ex}\n",
       "</style><dl class=dl-inline><dt>6.25%</dt><dd>2.77276202711927</dd><dt>12.5%</dt><dd>2.2432259661943</dd><dt>25%</dt><dd>1.62495170713561</dd><dt>50%</dt><dd>1.37989847002045</dd></dl>\n"
      ],
      "text/latex": [
       "\\begin{description*}\n",
       "\\item[6.25\\textbackslash{}\\%] 2.77276202711927\n",
       "\\item[12.5\\textbackslash{}\\%] 2.2432259661943\n",
       "\\item[25\\textbackslash{}\\%] 1.62495170713561\n",
       "\\item[50\\textbackslash{}\\%] 1.37989847002045\n",
       "\\end{description*}\n"
      ],
      "text/markdown": [
       "6.25%\n",
       ":   2.7727620271192712.5%\n",
       ":   2.243225966194325%\n",
       ":   1.6249517071356150%\n",
       ":   1.37989847002045\n",
       "\n"
      ],
      "text/plain": [
       "   6.25%    12.5%      25%      50% \n",
       "2.772762 2.243226 1.624952 1.379898 "
      ]
     },
     "metadata": {},
     "output_type": "display_data"
    }
   ],
   "source": [
    "apply(data.frame(L, U), 1, mean)"
   ]
  },
  {
   "cell_type": "markdown",
   "id": "c8c75a95-a5e1-45ec-8f8c-3188690db11f",
   "metadata": {},
   "source": [
    "> 위와 같이 직접 확인해보면 중앙값이 점점 커지는 것을 확인할 수 있다.(오른쪽으로 기울어진 분포)"
   ]
  }
 ],
 "metadata": {
  "kernelspec": {
   "display_name": "R",
   "language": "R",
   "name": "ir"
  },
  "language_info": {
   "codemirror_mode": "r",
   "file_extension": ".r",
   "mimetype": "text/x-r-source",
   "name": "R",
   "pygments_lexer": "r",
   "version": "4.3.3"
  }
 },
 "nbformat": 4,
 "nbformat_minor": 5
}
