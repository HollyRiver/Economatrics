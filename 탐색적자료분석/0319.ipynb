{
 "cells": [
  {
   "cell_type": "markdown",
   "id": "7f9ba5ad-6913-4e87-9fe8-db66e4a201d5",
   "metadata": {},
   "source": [
    "정규분포의 분위수\n",
    "\n",
    "* H(Harf) : $H_L = \\mu - 0.675\\sigma, H_U = \\mu + 0.675\\sigma$\n",
    "* E(Eight)\n",
    "* D(Double Eight)"
   ]
  },
  {
   "cell_type": "code",
   "execution_count": 4,
   "id": "ba3bbf06-3bc3-4d73-b161-4ef6873bcef3",
   "metadata": {},
   "outputs": [
    {
     "data": {
      "text/html": [
       "-1.53412054435255"
      ],
      "text/latex": [
       "-1.53412054435255"
      ],
      "text/markdown": [
       "-1.53412054435255"
      ],
      "text/plain": [
       "[1] -1.534121"
      ]
     },
     "metadata": {},
     "output_type": "display_data"
    }
   ],
   "source": [
    "qnorm(0.0625)"
   ]
  },
  {
   "cell_type": "markdown",
   "id": "2acc1d66-25a3-430b-ac8e-0861fe88998d",
   "metadata": {},
   "source": [
    "`-` median과 spread\n",
    "\n",
    "$spr(H) = 1.35\\sigma$ (두배) : pseudo-sigma(유사 표준편차, EDA에서 사용)\n",
    "\n",
    "`-` 왜도 skewness\n",
    "\n",
    "$\\frac{(H_U - M) - (M - H_L)}{(H_U - M) + (M - H_L)}$\n",
    "\n",
    "`-` 첨도 kurto\n",
    "\n",
    "$KURTO_{E/H} = \\frac{E_U - E_L}{H_U - H_L} - 1.704 = \\frac{spr(E)}{spr(H)} - 1.704$\n",
    "\n",
    "$KURTO_{D/H} = \\frac{D_U - D_L}{H_U - H_L} - 2.274 = \\frac{spr(D)}{spr(H)} - 2.274$\n",
    "\n",
    "> 정규분포에서는 왜도와 첨도 모두 0"
   ]
  },
  {
   "cell_type": "markdown",
   "id": "74b1f598-f30c-4886-a708-ab30fa5d78c7",
   "metadata": {},
   "source": [
    "* 균일분포$(\\mu - \\alpha, \\mu + \\alpha)$\n",
    "\n",
    "$M = \\mu$\n",
    "\n",
    "$H_L = \\mu - 0.5\\alpha$\n",
    "\n",
    "$E_L = \\mu - 0.75\\alpha$\n",
    "\n",
    "$D_L = \\mu - 0.875\\alpha$\n",
    "\n",
    "$KURTO_{E/H}$ = spr(E)/spr(H) - 1.704 = -0.204"
   ]
  },
  {
   "cell_type": "code",
   "execution_count": null,
   "id": "c71b44fd-6d74-4c5a-8d4d-97d87db86ada",
   "metadata": {},
   "outputs": [],
   "source": [
    "f1 <- function(x) {\n",
    "    return (1/sqrt(2*pi)*exp(-x^2/2))\n",
    "}\n",
    "\n",
    "f2 <- function(x) {\n",
    "    return (1/2)\n",
    "}"
   ]
  },
  {
   "cell_type": "markdown",
   "id": "ed726c77-a63b-4380-abee-902ee257ffea",
   "metadata": {},
   "source": [
    "* 이중지수분포\n",
    "\n",
    "$$f(x) = \\frac{\\lambda}{2} exp[-\\lambda | x - \\mu |], -\\inf < x < \\inf$$\n",
    "\n",
    "> \n",
    ">\n",
    "> $H_L$등을 구할 때 적분을 한쪽 방향으로 하고 분위를 대입하여 구한다."
   ]
  },
  {
   "cell_type": "code",
   "execution_count": null,
   "id": "5d3c0c25-a4c8-4819-b738-92798d58e46d",
   "metadata": {},
   "outputs": [],
   "source": []
  }
 ],
 "metadata": {
  "kernelspec": {
   "display_name": "R",
   "language": "R",
   "name": "ir"
  },
  "language_info": {
   "codemirror_mode": "r",
   "file_extension": ".r",
   "mimetype": "text/x-r-source",
   "name": "R",
   "pygments_lexer": "r",
   "version": "4.3.3"
  }
 },
 "nbformat": 4,
 "nbformat_minor": 5
}
