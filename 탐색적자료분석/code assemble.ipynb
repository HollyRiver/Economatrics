{
 "cells": [
  {
   "cell_type": "markdown",
   "id": "234e69e2-6296-4f6d-a34d-49ca0ecbf546",
   "metadata": {},
   "source": [
    "### 기본 설정"
   ]
  },
  {
   "cell_type": "code",
   "execution_count": null,
   "id": "e59aecdb-8ff9-4c73-b2b3-621b944883e3",
   "metadata": {},
   "outputs": [],
   "source": [
    "read.table(\"directory\", header = TRUE)  ## read뒤에 자료형을 붙여준다."
   ]
  },
  {
   "cell_type": "markdown",
   "id": "993a5ad3-524f-4865-95fa-6bb667cdb6e6",
   "metadata": {},
   "source": [
    "### 줄기-잎 그림"
   ]
  },
  {
   "cell_type": "code",
   "execution_count": null,
   "id": "d1d8e853-7a88-4736-b1ca-e31f88c34d0d",
   "metadata": {},
   "outputs": [],
   "source": [
    "stem(data, scale = float)  ## scale default = 1"
   ]
  },
  {
   "cell_type": "code",
   "execution_count": null,
   "id": "f6efe7e1-6587-4af3-b443-e2c4d93cf957",
   "metadata": {},
   "outputs": [],
   "source": [
    "## \"aplpack\" 라이브러리\n",
    "stem.leaf.backback(a, b)  ## 벡터를 넣어주면 마주보는 줄기-잎 그림을 그려준다."
   ]
  },
  {
   "cell_type": "markdown",
   "id": "fb778c14-dd1f-4d31-a46c-7224da4bc67f",
   "metadata": {},
   "source": [
    "### 분위수 계산"
   ]
  },
  {
   "cell_type": "code",
   "execution_count": null,
   "id": "c574cc8a-66f2-4a58-a481-b2975cef7159",
   "metadata": {},
   "outputs": [],
   "source": [
    "quantile(vector, quantile vector, type = int)\n",
    "## 관측치의 벡터, 산출할 분위수의 비율값, 계산 방식을 넣어주면 분위수 산출\n",
    "## type = 8이 보간법을 이용하여 산출함. Np + p/3 + 1/3\n",
    "\n",
    "apply(data.frame(L, U), 1, mean)  ## df.apply(function, axis = 0)느낌"
   ]
  }
 ],
 "metadata": {
  "kernelspec": {
   "display_name": "R",
   "language": "R",
   "name": "ir"
  },
  "language_info": {
   "codemirror_mode": "r",
   "file_extension": ".r",
   "mimetype": "text/x-r-source",
   "name": "R",
   "pygments_lexer": "r",
   "version": "4.3.3"
  }
 },
 "nbformat": 4,
 "nbformat_minor": 5
}
