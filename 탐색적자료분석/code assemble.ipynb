{
 "cells": [
  {
   "cell_type": "markdown",
   "id": "867dce79-7d0b-4e55-aeca-c96d9ac050a6",
   "metadata": {},
   "source": [
    "### 데이터 분석\n",
    "\n",
    "저항성이 있는 중위수를 통계량으로 사용하고, 잔차로 데이터를 분석하며, 데이터를 대칭화하거나 산포를 비슷하게 만들고, 그래픽으로 표현하여 탐색한다."
   ]
  },
  {
   "cell_type": "markdown",
   "id": "234e69e2-6296-4f6d-a34d-49ca0ecbf546",
   "metadata": {},
   "source": [
    "### 기본 설정"
   ]
  },
  {
   "cell_type": "code",
   "execution_count": null,
   "id": "e59aecdb-8ff9-4c73-b2b3-621b944883e3",
   "metadata": {},
   "outputs": [],
   "source": [
    "read.table(\"directory\", header = TRUE)  ## read뒤에 자료형을 붙여준다."
   ]
  },
  {
   "cell_type": "markdown",
   "id": "993a5ad3-524f-4865-95fa-6bb667cdb6e6",
   "metadata": {},
   "source": [
    "### 줄기-잎 그림\n",
    "\n",
    "`-` 장점\n",
    "\n",
    "1. 사분위수나 중앙값을 찾기 쉬움\n",
    "2. 분포의 전체적인 모양을 쉽게 알 수 있음\n",
    "3. 이상치 유무 파악이 용이함\n",
    "\n",
    "`-` 단점\n",
    "\n",
    "1. 자료가 많은 경우 부적합\n",
    "\n",
    "`-` 히스토그램과의 비교\n",
    "\n",
    "* 정보가 손실되지 않음\n",
    "* 줄기 수 변환이 쉬움(???)\n",
    "* 구간의 폭을 조정할 수 없음\n",
    "\n",
    "`-` 취득 가능 정보\n",
    "\n",
    "* 군집의 수(솟은 지점) / 집중도\n",
    "* 대칭성\n",
    "* 자료의 범위 및 산포\n",
    "* 특이점의 존재 여부\n",
    "  \n",
    "> 대체로 히스토그램과 유사하다고 보면 된다."
   ]
  },
  {
   "cell_type": "code",
   "execution_count": null,
   "id": "d1d8e853-7a88-4736-b1ca-e31f88c34d0d",
   "metadata": {},
   "outputs": [],
   "source": [
    "stem(data, scale = float)  ## scale default = 1"
   ]
  },
  {
   "cell_type": "code",
   "execution_count": null,
   "id": "f6efe7e1-6587-4af3-b443-e2c4d93cf957",
   "metadata": {},
   "outputs": [],
   "source": [
    "## \"aplpack\" 라이브러리\n",
    "stem.leaf.backback(a, b)  ## 벡터를 넣어주면 마주보는 줄기-잎 그림을 그려준다."
   ]
  },
  {
   "cell_type": "markdown",
   "id": "fb778c14-dd1f-4d31-a46c-7224da4bc67f",
   "metadata": {},
   "source": [
    "### 수치요약 / 상자그림\n",
    "\n",
    "`-` 다섯 수치의 요약 : 최소값, 아래경첩, 중위수, 위경첩, 최대값\n",
    "\n",
    "`-` 중위수의 깊이 $d(M) = [(N+1)/2]$, 단, $[x] = x$를 넘지 않는 최대의 정수"
   ]
  },
  {
   "cell_type": "markdown",
   "id": "3096aadc-a116-4db4-8001-fff4ccd9c115",
   "metadata": {},
   "source": [
    "`-` 경첩과 분위수\n",
    "\n",
    "> $p(k) = \\frac{k - \\frac{1}{3}}{N + \\frac13}$ : k번째 자료의 누적비율\n",
    ">\n",
    "> $k(p) = Np + \\frac{p}3 + \\frac13$ : p% 자료, 보간법은 저항성이 높다.\n",
    "\n",
    "\n",
    "$$w = k(p) - k_1(p) \\Rightarrow q_p = (1-w)×k_1(p) + w×k_2(p)$$\n",
    "\n",
    "> $k(p)$를 구하고, 소수부분을 뗀 뒤, 큰 정수에 그만큼 가중치를 주고 작은 정수에는 1에서 그만큼을 뺀 만큼 가중치를 주어 더한다."
   ]
  },
  {
   "cell_type": "code",
   "execution_count": null,
   "id": "c574cc8a-66f2-4a58-a481-b2975cef7159",
   "metadata": {},
   "outputs": [],
   "source": [
    "quantile(vector, quantile vector, type = int)\n",
    "## 관측치의 벡터, 산출할 분위수의 비율값, 계산 방식을 넣어주면 분위수 산출\n",
    "## type = 8이 보간법을 이용하여 산출함. Np + p/3 + 1/3\n",
    "\n",
    "apply(data.frame(L, U), 1, mean)  ## df.apply(function, axis = 0)느낌"
   ]
  },
  {
   "cell_type": "markdown",
   "id": "9445b44d-ff79-4674-b093-31f0f810b02d",
   "metadata": {},
   "source": [
    "`-` 문자값 전시\n",
    "\n",
    "||문자값|mid|spr|\n",
    "|-|-|-|-|\n",
    "|M|$M$|$M$|0|\n",
    "|H|$H_L, ~ H_U$|$\\frac{H_L + H_U}{2}$|$H_U - H_L$|\n",
    "|E|$E_L, ~ E_U$|$\\frac{E_L + E_U}{2}$|$E_U - E_L$|\n",
    "|D|$D_L, ~ D_U$|$\\frac{D_L + D_U}{2}$|$D_U - D_L$|"
   ]
  },
  {
   "cell_type": "markdown",
   "id": "5956357f-93b0-4b97-85f9-1897fb37dd59",
   "metadata": {},
   "source": [
    "`-` 왜도와 첨도\n",
    "\n",
    "$Skewness = \\frac{(H_U - M) - (M - H_L)}{(H_U - M) + (M - H_L)}$\n",
    "\n",
    "$Kurto_{E/H} = \\frac{E_U-E_L}{H_U-H_L} - 1.704 = \\frac{spr(E)}{spr(H)} - 1.704$\n",
    "\n",
    "$Kurto_{D/E} = \\frac{D_U-D_L}{E_U-E_L} - 2.274 = \\frac{spr(D)}{spr(E)} - 2.274$\n",
    "\n",
    "> 첨도의 경우 수가 클수록 외곽 값이 멀리있고 가운데 값이 좁게 있다는 뜻이므로 솟아있음.\n",
    ">\n",
    "> 정규분포에서는 왜도와 첨도 모두 0"
   ]
  },
  {
   "cell_type": "markdown",
   "id": "f2e7fe13-737f-4f14-9c07-d44df3208b2a",
   "metadata": {},
   "source": [
    "`-` 이중지수분포\n",
    "\n",
    "$$f(x) = \\frac{\\lambda}{2} e^{-\\lambda|x-\\mu|} I(-\\inf<x<\\inf)$$\n",
    "\n",
    "> 한쪽 방향으로 적분 후 비율을 이용"
   ]
  },
  {
   "cell_type": "markdown",
   "id": "b680cab6-e0d7-48fd-81a4-8da683a2e9ba",
   "metadata": {},
   "source": [
    "`-` 상자 그림 작성 순서\n",
    "\n",
    "1. 다섯 수치 요약을 구한다. (최소값, 아래경첩, 중앙값, 위경첩, 최대값)\n",
    "2. 위 아래 경첩에 해당하는 위치에 상자를 그리고, 상자 내에 중앙값을 표시한다.\n",
    "3. 양쪽 안울타리 값(Inner Fance)을 계산하고,\n",
    "   > $IF_L = H_L - 1.5spr(H)$\n",
    "   >\n",
    "   > $IF_U = H_U + 1.5spr(H)$\n",
    "\n",
    "    양쪽 안울타리 안쪽에 있으면서 경계에 가장 가까운 값(Adjecent Value)을 찾고, 인접값과 상자의 양끝을 줄로 연결한다.\n",
    "4. 안울타리 바깥에 있는 자료를 특이값으로 간주하고 점으로 표시한다."
   ]
  },
  {
   "cell_type": "code",
   "execution_count": null,
   "id": "414d53a8-df19-49db-9399-c75e48b586bc",
   "metadata": {},
   "outputs": [],
   "source": [
    "boxplot(y~x, data = data.frame)"
   ]
  },
  {
   "cell_type": "markdown",
   "id": "7f60435a-1ebd-4963-8fdf-f04877ba9c4f",
   "metadata": {},
   "source": [
    "`-` 움푹 패인 상자 그림 Notched box-plot\n",
    "\n",
    "> 중위수의 CI를 표시한 그림이다. $CI = M ± \\frac{1.58 IQR}{\\sqrt{n}}$, 그림의 패인 부분이 겹치면, 중앙값이 다르다고 할 수 없다.(검정)"
   ]
  },
  {
   "cell_type": "code",
   "execution_count": null,
   "id": "632f1479-7cc0-4560-a19f-892a5b810b00",
   "metadata": {},
   "outputs": [],
   "source": [
    "boxplot(y~x, data = data.frame, notch = TRUE)"
   ]
  },
  {
   "cell_type": "markdown",
   "id": "73d4f45e-e2b6-4823-a902-48a12154e69e",
   "metadata": {},
   "source": [
    "`-` `ggplot2`를 이용한 시각화"
   ]
  },
  {
   "cell_type": "code",
   "execution_count": 10,
   "id": "55f80ffb-b9bb-4bd1-9908-4ddb884b111c",
   "metadata": {},
   "outputs": [
    {
     "name": "stdout",
     "output_type": "stream",
     "text": [
      "'data.frame':\t150 obs. of  5 variables:\n",
      " $ Sepal.Length: num  5.1 4.9 4.7 4.6 5 5.4 4.6 5 4.4 4.9 ...\n",
      " $ Sepal.Width : num  3.5 3 3.2 3.1 3.6 3.9 3.4 3.4 2.9 3.1 ...\n",
      " $ Petal.Length: num  1.4 1.4 1.3 1.5 1.4 1.7 1.4 1.5 1.4 1.5 ...\n",
      " $ Petal.Width : num  0.2 0.2 0.2 0.2 0.2 0.4 0.3 0.2 0.2 0.1 ...\n",
      " $ Species     : Factor w/ 3 levels \"setosa\",\"versicolor\",..: 1 1 1 1 1 1 1 1 1 1 ...\n"
     ]
    }
   ],
   "source": [
    "library(ggplot2)\n",
    "data(iris)\n",
    "str(iris)"
   ]
  },
  {
   "cell_type": "code",
   "execution_count": 24,
   "id": "00f00774-aa0f-4721-a70e-e6ca04099f94",
   "metadata": {},
   "outputs": [
    {
     "data": {
      "image/png": "[encoded data removed]",
      "text/plain": [
       "plot without title"
      ]
     },
     "metadata": {
      "image/png": {
       "height": 420,
       "width": 420
      }
     },
     "output_type": "display_data"
    }
   ],
   "source": [
    "ggplot(iris, aes(Sepal.Length, Sepal.Width)) +\n",
    " geom_point(col = c(\"red\", \"green\", \"blue\")[iris$Species], pch = c(0,2,20)[iris$Species],\n",
    "            cex = c(1, 1.5, 2)[iris$Species]) +\n",
    " geom_abline(slope = 0, intercept = 3, col = \"red\", lwd = 1, lty = 2)"
   ]
  },
  {
   "cell_type": "code",
   "execution_count": 8,
   "id": "a02c1170-b134-45e9-b0d6-e39de664e0bf",
   "metadata": {},
   "outputs": [
    {
     "data": {
      "text/html": [
       "<style>\n",
       ".list-inline {list-style: none; margin:0; padding: 0}\n",
       ".list-inline>li {display: inline-block}\n",
       ".list-inline>li:not(:last-child)::after {content: \"\\00b7\"; padding: 0 .5ex}\n",
       "</style>\n",
       "<ol class=list-inline><li>1</li><li>2</li><li>2</li><li>3</li><li>3</li><li>3</li></ol>\n"
      ],
      "text/latex": [
       "\\begin{enumerate*}\n",
       "\\item 1\n",
       "\\item 2\n",
       "\\item 2\n",
       "\\item 3\n",
       "\\item 3\n",
       "\\item 3\n",
       "\\end{enumerate*}\n"
      ],
      "text/markdown": [
       "1. 1\n",
       "2. 2\n",
       "3. 2\n",
       "4. 3\n",
       "5. 3\n",
       "6. 3\n",
       "\n",
       "\n"
      ],
      "text/plain": [
       "[1] 1 2 2 3 3 3"
      ]
     },
     "metadata": {},
     "output_type": "display_data"
    }
   ],
   "source": [
    "factor(c(\"a\", \"b\", \"c\"), levels = c(\"a\", \"b\", \"c\"))\n",
    "c(1,2,3)[factor(c(\"a\",\"b\",\"b\",\"c\",\"c\",\"c\"), levels = c(\"a\", \"b\", \"c\"))]  ## 순서있는 범주형의 경우 슬라이싱 가능"
   ]
  }
 ],
 "metadata": {
  "kernelspec": {
   "display_name": "R",
   "language": "R",
   "name": "ir"
  },
  "language_info": {
   "codemirror_mode": "r",
   "file_extension": ".r",
   "mimetype": "text/x-r-source",
   "name": "R",
   "pygments_lexer": "r",
   "version": "4.3.3"
  }
 },
 "nbformat": 4,
 "nbformat_minor": 5
}
