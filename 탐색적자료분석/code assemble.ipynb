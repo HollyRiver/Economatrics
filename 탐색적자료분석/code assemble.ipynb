{
 "cells": [
  {
   "cell_type": "markdown",
   "id": "867dce79-7d0b-4e55-aeca-c96d9ac050a6",
   "metadata": {},
   "source": [
    "### 데이터 분석\n",
    "\n",
    "저항성이 있는 중위수를 통계량으로 사용하고, 잔차로 데이터를 분석하며, 데이터를 대칭화하거나 산포를 비슷하게 만들고, 그래픽으로 표현하여 탐색한다."
   ]
  },
  {
   "cell_type": "markdown",
   "id": "234e69e2-6296-4f6d-a34d-49ca0ecbf546",
   "metadata": {},
   "source": [
    "### 기본 설정"
   ]
  },
  {
   "cell_type": "code",
   "execution_count": null,
   "id": "e59aecdb-8ff9-4c73-b2b3-621b944883e3",
   "metadata": {},
   "outputs": [],
   "source": [
    "read.table(\"directory\", header = TRUE)  ## read뒤에 자료형을 붙여준다."
   ]
  },
  {
   "cell_type": "markdown",
   "id": "993a5ad3-524f-4865-95fa-6bb667cdb6e6",
   "metadata": {},
   "source": [
    "### 줄기-잎 그림\n",
    "\n",
    "`-` 장점\n",
    "\n",
    "1. 사분위수나 중앙값을 찾기 쉬움\n",
    "2. 분포의 전체적인 모양을 쉽게 알 수 있음\n",
    "3. 이상치 유무 파악이 용이함\n",
    "\n",
    "`-` 단점\n",
    "\n",
    "1. 자료가 많은 경우 부적합\n",
    "\n",
    "`-` 히스토그램과의 비교\n",
    "\n",
    "* 정보가 손실되지 않음\n",
    "* 줄기 수 변환이 쉬움(???)\n",
    "* 구간의 폭을 조정할 수 없음\n",
    "\n",
    "`-` 취득 가능 정보\n",
    "\n",
    "* 군집의 수(솟은 지점) / 집중도\n",
    "* 대칭성\n",
    "* 자료의 범위 및 산포\n",
    "* 특이점의 존재 여부\n",
    "  \n",
    "> 대체로 히스토그램과 유사하다고 보면 된다."
   ]
  },
  {
   "cell_type": "code",
   "execution_count": null,
   "id": "d1d8e853-7a88-4736-b1ca-e31f88c34d0d",
   "metadata": {},
   "outputs": [],
   "source": [
    "stem(data, scale = float)  ## scale default = 1"
   ]
  },
  {
   "cell_type": "code",
   "execution_count": null,
   "id": "f6efe7e1-6587-4af3-b443-e2c4d93cf957",
   "metadata": {},
   "outputs": [],
   "source": [
    "## \"aplpack\" 라이브러리\n",
    "stem.leaf.backback(a, b)  ## 벡터를 넣어주면 마주보는 줄기-잎 그림을 그려준다."
   ]
  },
  {
   "cell_type": "markdown",
   "id": "fb778c14-dd1f-4d31-a46c-7224da4bc67f",
   "metadata": {},
   "source": [
    "### 수치요약 / 상자그림\n",
    "\n",
    "`-` 다섯 수치의 요약 : 최소값, 아래경첩, 중위수, 위경첩, 최대값\n",
    "\n",
    "`-` 중위수의 깊이 $d(M) = [(N+1)/2]$, 단, $[x] = x$를 넘지 않는 최대의 정수"
   ]
  },
  {
   "cell_type": "code",
   "execution_count": null,
   "id": "c574cc8a-66f2-4a58-a481-b2975cef7159",
   "metadata": {},
   "outputs": [],
   "source": [
    "quantile(vector, quantile vector, type = int)\n",
    "## 관측치의 벡터, 산출할 분위수의 비율값, 계산 방식을 넣어주면 분위수 산출\n",
    "## type = 8이 보간법을 이용하여 산출함. Np + p/3 + 1/3\n",
    "\n",
    "apply(data.frame(L, U), 1, mean)  ## df.apply(function, axis = 0)느낌"
   ]
  },
  {
   "cell_type": "code",
   "execution_count": null,
   "id": "231de1c0-130b-4c93-8c5f-2aea1f7d225e",
   "metadata": {},
   "outputs": [],
   "source": []
  }
 ],
 "metadata": {
  "kernelspec": {
   "display_name": "R",
   "language": "R",
   "name": "ir"
  },
  "language_info": {
   "codemirror_mode": "r",
   "file_extension": ".r",
   "mimetype": "text/x-r-source",
   "name": "R",
   "pygments_lexer": "r",
   "version": "4.3.3"
  }
 },
 "nbformat": 4,
 "nbformat_minor": 5
}
