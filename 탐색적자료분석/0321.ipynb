{
 "cells": [
  {
   "cell_type": "markdown",
   "id": "b41bb945-7992-42d3-8f3f-9aefa28ec8f8",
   "metadata": {},
   "source": [
    "표준정규분포, 자유도가 2인 카이제곱분포, $\\alpha = 10, \\beta = 2$인 베타분포에서의 난수 추출 및 분위수 비교"
   ]
  },
  {
   "cell_type": "code",
   "execution_count": 2,
   "id": "b84ce78e-1d56-4285-b0d1-412dd2326c4e",
   "metadata": {},
   "outputs": [],
   "source": [
    "set_norm <- rnorm(100)\n",
    "set_chi <- rchisq(100, 2)\n",
    "set_beta <- rbeta(100, 10, 2)"
   ]
  },
  {
   "cell_type": "code",
   "execution_count": 5,
   "id": "345ec610-0657-4393-b1f6-6ac3aaa054d6",
   "metadata": {},
   "outputs": [
    {
     "data": {
      "image/png": "[encoded data removed]",
      "text/plain": [
       "Plot with title “Histogram of set_beta”"
      ]
     },
     "metadata": {
      "image/png": {
       "height": 420,
       "width": 420
      }
     },
     "output_type": "display_data"
    }
   ],
   "source": [
    "par(mfcol = c(1,3))\n",
    "hist(set_norm)\n",
    "hist(set_chi)\n",
    "hist(set_beta)\n",
    "par(mfrow = c(1,1))"
   ]
  },
  {
   "cell_type": "code",
   "execution_count": 7,
   "id": "04f518fb-8d8d-435d-9c09-1896fb3d7448",
   "metadata": {},
   "outputs": [
    {
     "data": {
      "text/html": [
       "<style>\n",
       ".dl-inline {width: auto; margin:0; padding: 0}\n",
       ".dl-inline>dt, .dl-inline>dd {float: none; width: auto; display: inline-block}\n",
       ".dl-inline>dt::after {content: \":\\0020\"; padding-right: .5ex}\n",
       ".dl-inline>dt:not(:first-of-type) {padding-left: .5ex}\n",
       "</style><dl class=dl-inline><dt>6.25%</dt><dd>-1.50547488352534</dd><dt>12.5%</dt><dd>-1.12923340599223</dd><dt>25%</dt><dd>-0.5646326925376</dd><dt>50%</dt><dd>0.124687338277024</dd></dl>\n"
      ],
      "text/latex": [
       "\\begin{description*}\n",
       "\\item[6.25\\textbackslash{}\\%] -1.50547488352534\n",
       "\\item[12.5\\textbackslash{}\\%] -1.12923340599223\n",
       "\\item[25\\textbackslash{}\\%] -0.5646326925376\n",
       "\\item[50\\textbackslash{}\\%] 0.124687338277024\n",
       "\\end{description*}\n"
      ],
      "text/markdown": [
       "6.25%\n",
       ":   -1.5054748835253412.5%\n",
       ":   -1.1292334059922325%\n",
       ":   -0.564632692537650%\n",
       ":   0.124687338277024\n",
       "\n"
      ],
      "text/plain": [
       "     6.25%      12.5%        25%        50% \n",
       "-1.5054749 -1.1292334 -0.5646327  0.1246873 "
      ]
     },
     "metadata": {},
     "output_type": "display_data"
    }
   ],
   "source": [
    "quantile(set_norm, c(0.0625, 0.125, 0.25, 0.5), type = 8)"
   ]
  },
  {
   "cell_type": "code",
   "execution_count": 9,
   "id": "5f0f0f56-66d0-4094-9a43-d3509fbec801",
   "metadata": {},
   "outputs": [
    {
     "data": {
      "text/html": [
       "<style>\n",
       ".dl-inline {width: auto; margin:0; padding: 0}\n",
       ".dl-inline>dt, .dl-inline>dd {float: none; width: auto; display: inline-block}\n",
       ".dl-inline>dt::after {content: \":\\0020\"; padding-right: .5ex}\n",
       ".dl-inline>dt:not(:first-of-type) {padding-left: .5ex}\n",
       "</style><dl class=dl-inline><dt>6.25%</dt><dd>0.139906220013931</dd><dt>12.5%</dt><dd>0.245981394971006</dd><dt>25%</dt><dd>0.466497231143759</dd><dt>50%</dt><dd>1.23551422793311</dd></dl>\n"
      ],
      "text/latex": [
       "\\begin{description*}\n",
       "\\item[6.25\\textbackslash{}\\%] 0.139906220013931\n",
       "\\item[12.5\\textbackslash{}\\%] 0.245981394971006\n",
       "\\item[25\\textbackslash{}\\%] 0.466497231143759\n",
       "\\item[50\\textbackslash{}\\%] 1.23551422793311\n",
       "\\end{description*}\n"
      ],
      "text/markdown": [
       "6.25%\n",
       ":   0.13990622001393112.5%\n",
       ":   0.24598139497100625%\n",
       ":   0.46649723114375950%\n",
       ":   1.23551422793311\n",
       "\n"
      ],
      "text/plain": [
       "    6.25%     12.5%       25%       50% \n",
       "0.1399062 0.2459814 0.4664972 1.2355142 "
      ]
     },
     "metadata": {},
     "output_type": "display_data"
    }
   ],
   "source": [
    "quantile(set_chi, c(0.0625, 0.125, 0.25, 0.5), type = 8)"
   ]
  },
  {
   "cell_type": "code",
   "execution_count": 10,
   "id": "91197429-7dd2-4413-b73f-fdca144f4c7f",
   "metadata": {},
   "outputs": [
    {
     "data": {
      "text/html": [
       "<style>\n",
       ".dl-inline {width: auto; margin:0; padding: 0}\n",
       ".dl-inline>dt, .dl-inline>dd {float: none; width: auto; display: inline-block}\n",
       ".dl-inline>dt::after {content: \":\\0020\"; padding-right: .5ex}\n",
       ".dl-inline>dt:not(:first-of-type) {padding-left: .5ex}\n",
       "</style><dl class=dl-inline><dt>6.25%</dt><dd>0.674178051611045</dd><dt>12.5%</dt><dd>0.723872540525765</dd><dt>25%</dt><dd>0.782172783409502</dd><dt>50%</dt><dd>0.850347677912</dd></dl>\n"
      ],
      "text/latex": [
       "\\begin{description*}\n",
       "\\item[6.25\\textbackslash{}\\%] 0.674178051611045\n",
       "\\item[12.5\\textbackslash{}\\%] 0.723872540525765\n",
       "\\item[25\\textbackslash{}\\%] 0.782172783409502\n",
       "\\item[50\\textbackslash{}\\%] 0.850347677912\n",
       "\\end{description*}\n"
      ],
      "text/markdown": [
       "6.25%\n",
       ":   0.67417805161104512.5%\n",
       ":   0.72387254052576525%\n",
       ":   0.78217278340950250%\n",
       ":   0.850347677912\n",
       "\n"
      ],
      "text/plain": [
       "    6.25%     12.5%       25%       50% \n",
       "0.6741781 0.7238725 0.7821728 0.8503477 "
      ]
     },
     "metadata": {},
     "output_type": "display_data"
    }
   ],
   "source": [
    "quantile(set_beta, c(0.0625, 0.125, 0.25, 0.5), type = 8)"
   ]
  },
  {
   "cell_type": "markdown",
   "id": "14b5d331-e4ef-4709-a857-a5a98116f0db",
   "metadata": {},
   "source": [
    "> $p(k) = \\frac{k-\\frac13}{N+\\frac13}$ : k번째 수의 분위수\n",
    ">\n",
    "> $k(p) = Np + \\frac{p}3 + \\frac13$ : p분위수의 위치"
   ]
  },
  {
   "cell_type": "markdown",
   "id": "e5e73696-fbe0-4702-a5f9-f46c8e4ecbab",
   "metadata": {},
   "source": [
    "### 상자그림"
   ]
  },
  {
   "cell_type": "markdown",
   "id": "bed0a220-b998-42d6-93a9-1cbc862758f8",
   "metadata": {},
   "source": [
    "* Notched(움푹 패인) Box Plot\n",
    "\n",
    "> 두 그룹에 대한 Notched Box Plot을 그렸을 때, confidence interval($±\\frac{1.58*IQR}{\\sqrt{n}}$)가 겹치는 구간이 있으면 중앙값이 다르다고 말할 수 없다."
   ]
  },
  {
   "cell_type": "markdown",
   "id": "18656477-4236-45e2-847b-eaa24707e1f2",
   "metadata": {},
   "source": [
    "상자 그림이 주어졌을 때, 힌지 값과 중앙값을 참고하여 왜도와 첨도를 구해 분포를 비교할 수 있다.\n",
    "\n",
    "`-` 상자 그림 작성 순서\n",
    "\n",
    "1. 다섯 수치 요약을 구함(최소값, 아래경첩, 중앙값, 위경첩, 최대값)\n",
    "2. 위 아래 사분위수에 해당하는 위치에 상자를 그리고 상자 내에 중앙값을 표시\n",
    "3. 양쪽 안울타리 값 IF(Inner Fance) 계산\n",
    "    > $IF_L = H_L - 1.5spr(H)$\n",
    "    >\n",
    "    > $IF_U = H_U + 1.5spr(H)$\n",
    "4. 양쪽 안울타리 안쪽에 있으면서 경계에 가장 가까운 값(인접값 : AV)을 찾고, 인접값과 상자의 양끝을 줄로 연결\n",
    "5. 안울타리 바깥에 있는 자료 점을 특이값이라 간주하고 점으로 표시"
   ]
  },
  {
   "cell_type": "markdown",
   "id": "d32fdb65-491b-4355-814b-6cfe8a269571",
   "metadata": {},
   "source": [
    "* 특이점\n",
    "\n",
    "$N(\\mu, \\sigma^2)$의 경우\n",
    "\n",
    "> $H = \\mu ± 0.675\\sigma, ~~ spr(H) = 1.35\\sigma$\n",
    ">\n",
    "> $IF = H ± 1.5spr(H) = \\mu ± 2.7\\sigma$"
   ]
  },
  {
   "cell_type": "code",
   "execution_count": 15,
   "id": "4ed62625-1b8f-447a-867c-df0cc9afc7fe",
   "metadata": {},
   "outputs": [
    {
     "data": {
      "text/html": [
       "2.69795900078433"
      ],
      "text/latex": [
       "2.69795900078433"
      ],
      "text/markdown": [
       "2.69795900078433"
      ],
      "text/plain": [
       "[1] 2.697959"
      ]
     },
     "metadata": {},
     "output_type": "display_data"
    }
   ],
   "source": [
    "H = qnorm(0.75)\n",
    "spr_H = 2*qnorm(0.75)\n",
    "IF = H + 1.5*spr_H\n",
    "IF"
   ]
  },
  {
   "cell_type": "code",
   "execution_count": 17,
   "id": "fe5e9eeb-9c36-4b55-9c9a-29d5f584b5d5",
   "metadata": {},
   "outputs": [
    {
     "data": {
      "text/html": [
       "0.00697660323928024"
      ],
      "text/latex": [
       "0.00697660323928024"
      ],
      "text/markdown": [
       "0.00697660323928024"
      ],
      "text/plain": [
       "[1] 0.006976603"
      ]
     },
     "metadata": {},
     "output_type": "display_data"
    }
   ],
   "source": [
    "pnorm(IF, lower.tail = FALSE)*2"
   ]
  },
  {
   "cell_type": "markdown",
   "id": "2fe9687f-a172-491a-a931-589b3cdf7462",
   "metadata": {},
   "source": [
    "> 0.007, 즉, 0.7%가 특이점이다. 자료의 수가 1000개라면 7개가 이상점의 개수이다."
   ]
  },
  {
   "cell_type": "code",
   "execution_count": 19,
   "id": "dd50929d-5726-414c-a1b7-a5ab73ed71bf",
   "metadata": {},
   "outputs": [],
   "source": [
    "data(trees)\n",
    "attach(trees)"
   ]
  },
  {
   "cell_type": "code",
   "execution_count": 20,
   "id": "86bffa16-3a4a-4e47-a194-7ca709d8db0a",
   "metadata": {},
   "outputs": [
    {
     "data": {
      "image/png": "[encoded data removed]",
      "text/plain": [
       "plot without title"
      ]
     },
     "metadata": {
      "image/png": {
       "height": 420,
       "width": 420
      }
     },
     "output_type": "display_data"
    }
   ],
   "source": [
    "boxplot(Volume)"
   ]
  },
  {
   "cell_type": "code",
   "execution_count": 21,
   "id": "cbed58b9-b946-4c59-a084-9dadfee1b66b",
   "metadata": {},
   "outputs": [
    {
     "name": "stderr",
     "output_type": "stream",
     "text": [
      "Warning message in (function (z, notch = FALSE, width = NULL, varwidth = FALSE, :\n",
      "“some notches went outside hinges ('box'): maybe set notch=FALSE”\n"
     ]
    },
    {
     "data": {
      "image/png": "[encoded data removed]",
      "text/plain": [
       "plot without title"
      ]
     },
     "metadata": {
      "image/png": {
       "height": 420,
       "width": 420
      }
     },
     "output_type": "display_data"
    }
   ],
   "source": [
    "boxplot(Volume, notch = TRUE)"
   ]
  },
  {
   "cell_type": "markdown",
   "id": "cca48c43-352d-4bba-ba4d-5b114712b556",
   "metadata": {},
   "source": [
    "> 경사가 바뀌는 지점은 $M ± \\frac{1.58spr(H)}{\\sqrt{n}}$, 양 끝단은 아래경첩, 위경첩"
   ]
  },
  {
   "cell_type": "markdown",
   "id": "bac4dc74-f624-445c-a4d7-d6e48a2940b1",
   "metadata": {},
   "source": [
    "* 여러 상자 그림의 비교\n",
    "\n",
    "> 중위수 비교, 산포의 비교, 특이점(하한 / 상한)의 비교가 가능"
   ]
  },
  {
   "cell_type": "markdown",
   "id": "849f0932-9d83-4507-a7d1-74f34a32e2a6",
   "metadata": {},
   "source": [
    "```\n",
    "## boxplot() option\n",
    "\n",
    "notch = bool, ylab = chr, names = c(each_boxplot, names), main = chr, col = c(each, colors)\n",
    "```"
   ]
  },
  {
   "cell_type": "markdown",
   "id": "309cc292-a7e2-4bd7-ae5f-4e684accf629",
   "metadata": {},
   "source": [
    "* `ggplot2`를 이용한 시각화"
   ]
  },
  {
   "cell_type": "code",
   "execution_count": 41,
   "id": "13ff172d-a239-4e3a-8137-e0996ab387b3",
   "metadata": {},
   "outputs": [],
   "source": [
    "library(ggplot2)"
   ]
  },
  {
   "cell_type": "code",
   "execution_count": 48,
   "id": "014d0773-e91a-4c44-be4b-5a5b67f55810",
   "metadata": {},
   "outputs": [
    {
     "data": {
      "text/html": [
       "<style>\n",
       ".list-inline {list-style: none; margin:0; padding: 0}\n",
       ".list-inline>li {display: inline-block}\n",
       ".list-inline>li:not(:last-child)::after {content: \"\\00b7\"; padding: 0 .5ex}\n",
       "</style>\n",
       "<ol class=list-inline><li>'Sepal.Length'</li><li>'Sepal.Width'</li><li>'Petal.Length'</li><li>'Petal.Width'</li><li>'Species'</li></ol>\n"
      ],
      "text/latex": [
       "\\begin{enumerate*}\n",
       "\\item 'Sepal.Length'\n",
       "\\item 'Sepal.Width'\n",
       "\\item 'Petal.Length'\n",
       "\\item 'Petal.Width'\n",
       "\\item 'Species'\n",
       "\\end{enumerate*}\n"
      ],
      "text/markdown": [
       "1. 'Sepal.Length'\n",
       "2. 'Sepal.Width'\n",
       "3. 'Petal.Length'\n",
       "4. 'Petal.Width'\n",
       "5. 'Species'\n",
       "\n",
       "\n"
      ],
      "text/plain": [
       "[1] \"Sepal.Length\" \"Sepal.Width\"  \"Petal.Length\" \"Petal.Width\"  \"Species\"     "
      ]
     },
     "metadata": {},
     "output_type": "display_data"
    }
   ],
   "source": [
    "data(iris)\n",
    "colnames(iris)"
   ]
  },
  {
   "cell_type": "code",
   "execution_count": 64,
   "id": "8fa965ad-6326-41cc-a0e6-31f1b914def3",
   "metadata": {},
   "outputs": [
    {
     "data": {
      "text/html": [
       "<style>\n",
       ".list-inline {list-style: none; margin:0; padding: 0}\n",
       ".list-inline>li {display: inline-block}\n",
       ".list-inline>li:not(:last-child)::after {content: \"\\00b7\"; padding: 0 .5ex}\n",
       "</style>\n",
       "<ol class=list-inline><li>setosa</li><li>versicolor</li><li>virginica</li></ol>\n",
       "\n",
       "<details>\n",
       "\t<summary style=display:list-item;cursor:pointer>\n",
       "\t\t<strong>Levels</strong>:\n",
       "\t</summary>\n",
       "\t<style>\n",
       "\t.list-inline {list-style: none; margin:0; padding: 0}\n",
       "\t.list-inline>li {display: inline-block}\n",
       "\t.list-inline>li:not(:last-child)::after {content: \"\\00b7\"; padding: 0 .5ex}\n",
       "\t</style>\n",
       "\t<ol class=list-inline><li>'setosa'</li><li>'versicolor'</li><li>'virginica'</li></ol>\n",
       "</details>"
      ],
      "text/latex": [
       "\\begin{enumerate*}\n",
       "\\item setosa\n",
       "\\item versicolor\n",
       "\\item virginica\n",
       "\\end{enumerate*}\n",
       "\n",
       "\\emph{Levels}: \\begin{enumerate*}\n",
       "\\item 'setosa'\n",
       "\\item 'versicolor'\n",
       "\\item 'virginica'\n",
       "\\end{enumerate*}\n"
      ],
      "text/markdown": [
       "1. setosa\n",
       "2. versicolor\n",
       "3. virginica\n",
       "\n",
       "\n",
       "\n",
       "**Levels**: 1. 'setosa'\n",
       "2. 'versicolor'\n",
       "3. 'virginica'\n",
       "\n",
       "\n"
      ],
      "text/plain": [
       "[1] setosa     versicolor virginica \n",
       "Levels: setosa versicolor virginica"
      ]
     },
     "metadata": {},
     "output_type": "display_data"
    }
   ],
   "source": [
    "unique(iris$Species)"
   ]
  },
  {
   "cell_type": "code",
   "execution_count": 66,
   "id": "a923085d-0f75-43d0-8593-817c24b66615",
   "metadata": {},
   "outputs": [
    {
     "data": {
      "text/html": [
       "<style>\n",
       ".list-inline {list-style: none; margin:0; padding: 0}\n",
       ".list-inline>li {display: inline-block}\n",
       ".list-inline>li:not(:last-child)::after {content: \"\\00b7\"; padding: 0 .5ex}\n",
       "</style>\n",
       "<ol class=list-inline><li>0</li><li>0</li><li>0</li><li>0</li><li>0</li><li>0</li><li>0</li><li>0</li><li>0</li><li>0</li><li>0</li><li>0</li><li>0</li><li>0</li><li>0</li><li>0</li><li>0</li><li>0</li><li>0</li><li>0</li><li>0</li><li>0</li><li>0</li><li>0</li><li>0</li><li>0</li><li>0</li><li>0</li><li>0</li><li>0</li><li>0</li><li>0</li><li>0</li><li>0</li><li>0</li><li>0</li><li>0</li><li>0</li><li>0</li><li>0</li><li>0</li><li>0</li><li>0</li><li>0</li><li>0</li><li>0</li><li>0</li><li>0</li><li>0</li><li>0</li><li>2</li><li>2</li><li>2</li><li>2</li><li>2</li><li>2</li><li>2</li><li>2</li><li>2</li><li>2</li><li>2</li><li>2</li><li>2</li><li>2</li><li>2</li><li>2</li><li>2</li><li>2</li><li>2</li><li>2</li><li>2</li><li>2</li><li>2</li><li>2</li><li>2</li><li>2</li><li>2</li><li>2</li><li>2</li><li>2</li><li>2</li><li>2</li><li>2</li><li>2</li><li>2</li><li>2</li><li>2</li><li>2</li><li>2</li><li>2</li><li>2</li><li>2</li><li>2</li><li>2</li><li>2</li><li>2</li><li>2</li><li>2</li><li>2</li><li>2</li><li>20</li><li>20</li><li>20</li><li>20</li><li>20</li><li>20</li><li>20</li><li>20</li><li>20</li><li>20</li><li>20</li><li>20</li><li>20</li><li>20</li><li>20</li><li>20</li><li>20</li><li>20</li><li>20</li><li>20</li><li>20</li><li>20</li><li>20</li><li>20</li><li>20</li><li>20</li><li>20</li><li>20</li><li>20</li><li>20</li><li>20</li><li>20</li><li>20</li><li>20</li><li>20</li><li>20</li><li>20</li><li>20</li><li>20</li><li>20</li><li>20</li><li>20</li><li>20</li><li>20</li><li>20</li><li>20</li><li>20</li><li>20</li><li>20</li><li>20</li></ol>\n"
      ],
      "text/latex": [
       "\\begin{enumerate*}\n",
       "\\item 0\n",
       "\\item 0\n",
       "\\item 0\n",
       "\\item 0\n",
       "\\item 0\n",
       "\\item 0\n",
       "\\item 0\n",
       "\\item 0\n",
       "\\item 0\n",
       "\\item 0\n",
       "\\item 0\n",
       "\\item 0\n",
       "\\item 0\n",
       "\\item 0\n",
       "\\item 0\n",
       "\\item 0\n",
       "\\item 0\n",
       "\\item 0\n",
       "\\item 0\n",
       "\\item 0\n",
       "\\item 0\n",
       "\\item 0\n",
       "\\item 0\n",
       "\\item 0\n",
       "\\item 0\n",
       "\\item 0\n",
       "\\item 0\n",
       "\\item 0\n",
       "\\item 0\n",
       "\\item 0\n",
       "\\item 0\n",
       "\\item 0\n",
       "\\item 0\n",
       "\\item 0\n",
       "\\item 0\n",
       "\\item 0\n",
       "\\item 0\n",
       "\\item 0\n",
       "\\item 0\n",
       "\\item 0\n",
       "\\item 0\n",
       "\\item 0\n",
       "\\item 0\n",
       "\\item 0\n",
       "\\item 0\n",
       "\\item 0\n",
       "\\item 0\n",
       "\\item 0\n",
       "\\item 0\n",
       "\\item 0\n",
       "\\item 2\n",
       "\\item 2\n",
       "\\item 2\n",
       "\\item 2\n",
       "\\item 2\n",
       "\\item 2\n",
       "\\item 2\n",
       "\\item 2\n",
       "\\item 2\n",
       "\\item 2\n",
       "\\item 2\n",
       "\\item 2\n",
       "\\item 2\n",
       "\\item 2\n",
       "\\item 2\n",
       "\\item 2\n",
       "\\item 2\n",
       "\\item 2\n",
       "\\item 2\n",
       "\\item 2\n",
       "\\item 2\n",
       "\\item 2\n",
       "\\item 2\n",
       "\\item 2\n",
       "\\item 2\n",
       "\\item 2\n",
       "\\item 2\n",
       "\\item 2\n",
       "\\item 2\n",
       "\\item 2\n",
       "\\item 2\n",
       "\\item 2\n",
       "\\item 2\n",
       "\\item 2\n",
       "\\item 2\n",
       "\\item 2\n",
       "\\item 2\n",
       "\\item 2\n",
       "\\item 2\n",
       "\\item 2\n",
       "\\item 2\n",
       "\\item 2\n",
       "\\item 2\n",
       "\\item 2\n",
       "\\item 2\n",
       "\\item 2\n",
       "\\item 2\n",
       "\\item 2\n",
       "\\item 2\n",
       "\\item 2\n",
       "\\item 20\n",
       "\\item 20\n",
       "\\item 20\n",
       "\\item 20\n",
       "\\item 20\n",
       "\\item 20\n",
       "\\item 20\n",
       "\\item 20\n",
       "\\item 20\n",
       "\\item 20\n",
       "\\item 20\n",
       "\\item 20\n",
       "\\item 20\n",
       "\\item 20\n",
       "\\item 20\n",
       "\\item 20\n",
       "\\item 20\n",
       "\\item 20\n",
       "\\item 20\n",
       "\\item 20\n",
       "\\item 20\n",
       "\\item 20\n",
       "\\item 20\n",
       "\\item 20\n",
       "\\item 20\n",
       "\\item 20\n",
       "\\item 20\n",
       "\\item 20\n",
       "\\item 20\n",
       "\\item 20\n",
       "\\item 20\n",
       "\\item 20\n",
       "\\item 20\n",
       "\\item 20\n",
       "\\item 20\n",
       "\\item 20\n",
       "\\item 20\n",
       "\\item 20\n",
       "\\item 20\n",
       "\\item 20\n",
       "\\item 20\n",
       "\\item 20\n",
       "\\item 20\n",
       "\\item 20\n",
       "\\item 20\n",
       "\\item 20\n",
       "\\item 20\n",
       "\\item 20\n",
       "\\item 20\n",
       "\\item 20\n",
       "\\end{enumerate*}\n"
      ],
      "text/markdown": [
       "1. 0\n",
       "2. 0\n",
       "3. 0\n",
       "4. 0\n",
       "5. 0\n",
       "6. 0\n",
       "7. 0\n",
       "8. 0\n",
       "9. 0\n",
       "10. 0\n",
       "11. 0\n",
       "12. 0\n",
       "13. 0\n",
       "14. 0\n",
       "15. 0\n",
       "16. 0\n",
       "17. 0\n",
       "18. 0\n",
       "19. 0\n",
       "20. 0\n",
       "21. 0\n",
       "22. 0\n",
       "23. 0\n",
       "24. 0\n",
       "25. 0\n",
       "26. 0\n",
       "27. 0\n",
       "28. 0\n",
       "29. 0\n",
       "30. 0\n",
       "31. 0\n",
       "32. 0\n",
       "33. 0\n",
       "34. 0\n",
       "35. 0\n",
       "36. 0\n",
       "37. 0\n",
       "38. 0\n",
       "39. 0\n",
       "40. 0\n",
       "41. 0\n",
       "42. 0\n",
       "43. 0\n",
       "44. 0\n",
       "45. 0\n",
       "46. 0\n",
       "47. 0\n",
       "48. 0\n",
       "49. 0\n",
       "50. 0\n",
       "51. 2\n",
       "52. 2\n",
       "53. 2\n",
       "54. 2\n",
       "55. 2\n",
       "56. 2\n",
       "57. 2\n",
       "58. 2\n",
       "59. 2\n",
       "60. 2\n",
       "61. 2\n",
       "62. 2\n",
       "63. 2\n",
       "64. 2\n",
       "65. 2\n",
       "66. 2\n",
       "67. 2\n",
       "68. 2\n",
       "69. 2\n",
       "70. 2\n",
       "71. 2\n",
       "72. 2\n",
       "73. 2\n",
       "74. 2\n",
       "75. 2\n",
       "76. 2\n",
       "77. 2\n",
       "78. 2\n",
       "79. 2\n",
       "80. 2\n",
       "81. 2\n",
       "82. 2\n",
       "83. 2\n",
       "84. 2\n",
       "85. 2\n",
       "86. 2\n",
       "87. 2\n",
       "88. 2\n",
       "89. 2\n",
       "90. 2\n",
       "91. 2\n",
       "92. 2\n",
       "93. 2\n",
       "94. 2\n",
       "95. 2\n",
       "96. 2\n",
       "97. 2\n",
       "98. 2\n",
       "99. 2\n",
       "100. 2\n",
       "101. 20\n",
       "102. 20\n",
       "103. 20\n",
       "104. 20\n",
       "105. 20\n",
       "106. 20\n",
       "107. 20\n",
       "108. 20\n",
       "109. 20\n",
       "110. 20\n",
       "111. 20\n",
       "112. 20\n",
       "113. 20\n",
       "114. 20\n",
       "115. 20\n",
       "116. 20\n",
       "117. 20\n",
       "118. 20\n",
       "119. 20\n",
       "120. 20\n",
       "121. 20\n",
       "122. 20\n",
       "123. 20\n",
       "124. 20\n",
       "125. 20\n",
       "126. 20\n",
       "127. 20\n",
       "128. 20\n",
       "129. 20\n",
       "130. 20\n",
       "131. 20\n",
       "132. 20\n",
       "133. 20\n",
       "134. 20\n",
       "135. 20\n",
       "136. 20\n",
       "137. 20\n",
       "138. 20\n",
       "139. 20\n",
       "140. 20\n",
       "141. 20\n",
       "142. 20\n",
       "143. 20\n",
       "144. 20\n",
       "145. 20\n",
       "146. 20\n",
       "147. 20\n",
       "148. 20\n",
       "149. 20\n",
       "150. 20\n",
       "\n",
       "\n"
      ],
      "text/plain": [
       "  [1]  0  0  0  0  0  0  0  0  0  0  0  0  0  0  0  0  0  0  0  0  0  0  0  0  0\n",
       " [26]  0  0  0  0  0  0  0  0  0  0  0  0  0  0  0  0  0  0  0  0  0  0  0  0  0\n",
       " [51]  2  2  2  2  2  2  2  2  2  2  2  2  2  2  2  2  2  2  2  2  2  2  2  2  2\n",
       " [76]  2  2  2  2  2  2  2  2  2  2  2  2  2  2  2  2  2  2  2  2  2  2  2  2  2\n",
       "[101] 20 20 20 20 20 20 20 20 20 20 20 20 20 20 20 20 20 20 20 20 20 20 20 20 20\n",
       "[126] 20 20 20 20 20 20 20 20 20 20 20 20 20 20 20 20 20 20 20 20 20 20 20 20 20"
      ]
     },
     "metadata": {},
     "output_type": "display_data"
    }
   ],
   "source": [
    "c(0, 2, 20)[iris$Species]  ## 순서있는 범주형 자료의 경우 인덱싱처럼 처리가 가능함"
   ]
  },
  {
   "cell_type": "code",
   "execution_count": 65,
   "id": "f82781c4-8521-41aa-a90d-95b5bba0949b",
   "metadata": {},
   "outputs": [
    {
     "data": {
      "image/png": "[encoded data removed]",
      "text/plain": [
       "plot without title"
      ]
     },
     "metadata": {
      "image/png": {
       "height": 420,
       "width": 420
      }
     },
     "output_type": "display_data"
    }
   ],
   "source": [
    "ggplot(iris, aes(Sepal.Length, Sepal.Width)) +\n",
    " geom_point(col = c(\"purple\", \"blue\", \"green\")[iris$Species],\n",
    "            pch = c(0, 2, 20)[iris$Species], cex = c(1, 1.5, 2)[iris$Species])\n",
    "## 범주형 자료를 포함할 경우 그룹별로 붂을 수 있음"
   ]
  },
  {
   "cell_type": "code",
   "execution_count": 61,
   "id": "9c00b06e-1d39-4ce5-aa04-190b33c75de8",
   "metadata": {},
   "outputs": [],
   "source": [
    "## + geom_line() + geom_boxplot() + geom_histogram() + geom_bar()"
   ]
  },
  {
   "cell_type": "code",
   "execution_count": null,
   "id": "e47dc208-46bf-40c1-8e3d-7d25ea68c1da",
   "metadata": {},
   "outputs": [],
   "source": [
    "## + geom_abline() + geom_hline() + geom_vline() + geom_rect() + geom_text()  ## 도형 그리기 함"
   ]
  },
  {
   "cell_type": "code",
   "execution_count": 101,
   "id": "64168ab7-2d16-4495-bc91-663b1a61808b",
   "metadata": {},
   "outputs": [
    {
     "data": {
      "image/png": "[encoded data removed]",
      "text/plain": [
       "plot without title"
      ]
     },
     "metadata": {
      "image/png": {
       "height": 420,
       "width": 420
      }
     },
     "output_type": "display_data"
    }
   ],
   "source": [
    "ggplot(iris, aes(Sepal.Length, Sepal.Width)) +\n",
    " geom_point(col = c(\"purple\", \"blue\", \"green\")[iris$Species],\n",
    "            pch = c(0, 2, 20)[iris$Species], cex = c(1, 1.5, 2)[iris$Species]) +\n",
    " geom_abline(slope = 0, intercept = 3, col = \"red\", lwd = 1, lty = 2)"
   ]
  },
  {
   "cell_type": "code",
   "execution_count": null,
   "id": "8181221b-b4ec-4a8b-989c-cccb02af7861",
   "metadata": {},
   "outputs": [],
   "source": []
  }
 ],
 "metadata": {
  "kernelspec": {
   "display_name": "R",
   "language": "R",
   "name": "ir"
  },
  "language_info": {
   "codemirror_mode": "r",
   "file_extension": ".r",
   "mimetype": "text/x-r-source",
   "name": "R",
   "pygments_lexer": "r",
   "version": "4.3.3"
  }
 },
 "nbformat": 4,
 "nbformat_minor": 5
}
