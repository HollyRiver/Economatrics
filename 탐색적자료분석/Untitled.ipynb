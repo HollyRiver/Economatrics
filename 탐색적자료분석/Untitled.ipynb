{
 "cells": [
  {
   "cell_type": "code",
   "execution_count": null,
   "id": "c1955c48-3465-485a-be82-7f70c00dfc35",
   "metadata": {},
   "outputs": [
    {
     "name": "stderr",
     "output_type": "stream",
     "text": [
      "also installing the dependencies ‘deldir’, ‘png’, ‘jpeg’, ‘interp’, ‘latticeExtra’\n",
      "\n",
      "\n"
     ]
    }
   ],
   "source": [
    "install.packages(\"DAAG\")"
   ]
  },
  {
   "cell_type": "code",
   "execution_count": null,
   "id": "64012c78-ac99-4b9f-85a8-b67f2a81df15",
   "metadata": {},
   "outputs": [],
   "source": []
  }
 ],
 "metadata": {
  "kernelspec": {
   "display_name": "R",
   "language": "R",
   "name": "ir"
  },
  "language_info": {
   "codemirror_mode": "r",
   "file_extension": ".r",
   "mimetype": "text/x-r-source",
   "name": "R",
   "pygments_lexer": "r",
   "version": "4.3.3"
  }
 },
 "nbformat": 4,
 "nbformat_minor": 5
}
