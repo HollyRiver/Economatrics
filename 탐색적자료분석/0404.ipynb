{
 "cells": [
  {
   "cell_type": "markdown",
   "id": "24a3984c-c385-43be-913e-5bf3ec9a5fe8",
   "metadata": {},
   "source": [
    "### 확률플롯의 활용"
   ]
  },
  {
   "cell_type": "markdown",
   "id": "520d070f-b186-4cd0-95dc-86a03f8cc7bb",
   "metadata": {},
   "source": [
    "1. 특정 분포의 cdf와 표본 자료의 cdf가 유사하다면, 표본은 그 분포를 따르지 않을까?\n",
    "   > : P-P plot(probability-probability plot), 개별 값에 해당하는 면적을 비교\n",
    "2. 특정 분포의 분위수와 표본 자료의 분위수가 유사하다면, 그 표본은 그 분포를 따르지 않을까?\n",
    "   > : Q-Q plot(quantile-quantile plot), 면적에 해당하는 개별 값을 비교"
   ]
  },
  {
   "cell_type": "markdown",
   "id": "c0f3f5bb-e0c2-4d01-8ba5-06b0f3dc626f",
   "metadata": {},
   "source": [
    "`-` 정규확률 플롯 : 사전 자료의 그룹화가 필요치 않고, 작은 크기의 표본에도 적용 가능하다. (CLT)"
   ]
  },
  {
   "cell_type": "markdown",
   "id": "e7bf3bcc-52f8-48a6-be8b-2ab29f9c2342",
   "metadata": {},
   "source": [
    "* 확률모형(확률분포함수 pdf)이란?\n",
    "\n",
    "> 이산변수는 막대그래프로, 연속변수는 면적으로 표현\n",
    "\n",
    "* 확률플롯의 이용\n",
    "\n",
    "> 시뮬레이션에서 나온 자료가 특정 분포를 따르는지\n",
    ">\n",
    "> 회귀분석에서 오차항이 정규분포를 따르는지(잔차분석)\n",
    ">\n",
    "> 소표본에서 모평균을 검정할 때 표본자료가 정규분포를 따르는지"
   ]
  },
  {
   "cell_type": "markdown",
   "id": "8cc5dfc5-ea5f-4bb9-87fa-38a84bfc83db",
   "metadata": {},
   "source": [
    "`-` $\\chi^2 - test$\n",
    "\n",
    "표본을 통해 히스토그램을 그리고, 각 구간별 관측된 도수와 모집단의 분포로 예상되는 기대도수를 비교하여 검정한다.\n",
    "\n",
    "> $\\chi^2$ 적합도 검정\n",
    ">\n",
    "> $$T = \\Sigma\\frac{O_i - E_i}{E_i} \\sim \\chi^2(k-c-1)$$\n",
    ">\n",
    "> k는 구간의 수, c는 추정된 모수의 개수(표본으로 추정한 모수가 몇개인지)\n",
    "> \n",
    "> 해당 검정통계량이 작을수록 귀무가설(해당 분포를 따른다)을 기각하기 어려움."
   ]
  },
  {
   "cell_type": "markdown",
   "id": "a3785041-c90e-4341-b923-b60461b066e0",
   "metadata": {},
   "source": [
    "ex) 이산균등분포\n",
    "\n",
    "> 주사위를 1000번 굴렸을 때 각 눈금이 나온 수의 분포\n",
    "\n",
    "|눈금|1|2|3|4|5|6|\n",
    "|:-:|:-:|:-:|:-:|:-:|:-:|:-:|\n",
    "|$O_i$|150|160|165|155|170|200|\n",
    "|$E_i$|166.67|166.67|166.67|166.67|166.67|166.67|\n",
    "\n",
    "> 검정통계량은 자유도가 5인 카이제곱분포를 따름. $\\chi^2 = 9.47$"
   ]
  },
  {
   "cell_type": "code",
   "execution_count": 9,
   "id": "bd874b0e-bf08-40a7-806d-5baf5899d354",
   "metadata": {},
   "outputs": [
    {
     "data": {
      "text/html": [
       "11.0704976935164"
      ],
      "text/latex": [
       "11.0704976935164"
      ],
      "text/markdown": [
       "11.0704976935164"
      ],
      "text/plain": [
       "[1] 11.0705"
      ]
     },
     "metadata": {},
     "output_type": "display_data"
    }
   ],
   "source": [
    "qchisq(0.95, 5)"
   ]
  },
  {
   "cell_type": "markdown",
   "id": "6f156a51-40cf-4eb8-8f7c-cad6802abfab",
   "metadata": {},
   "source": [
    "> 따라서 귀무가설을 기각할 수 없고(이산균등분포를 따름), 주사위는 공정하다."
   ]
  },
  {
   "cell_type": "markdown",
   "id": "15af9d17-abd1-4fbb-94d1-a2fb29c02f4b",
   "metadata": {},
   "source": [
    "ex2) 이항분포와의 비교\n",
    "\n",
    "|남아의 수|0|1|2|3|\n",
    "|:-:|:-:|:-:|:-:|:-:|\n",
    "|$O_i$|100|350|400|150|\n",
    "|$E_i$|125|375|375|125|\n",
    "\n",
    "1000가구 대상으로 p = 0.5인지"
   ]
  },
  {
   "cell_type": "code",
   "execution_count": 45,
   "id": "52ee6abc-38cc-4a75-9022-91ecf20e14bc",
   "metadata": {},
   "outputs": [
    {
     "name": "stdout",
     "output_type": "stream",
     "text": [
      "[1] 0.125\n",
      "[1] 0.375\n",
      "[1] 0.375\n",
      "[1] 0.125\n"
     ]
    }
   ],
   "source": [
    "for (i in 0:3) {\n",
    "    print(dbinom(i, 3, 0.5))\n",
    "}"
   ]
  },
  {
   "cell_type": "code",
   "execution_count": 5,
   "id": "dd2e594d-fb65-4426-a814-371429ad1909",
   "metadata": {},
   "outputs": [
    {
     "data": {
      "text/html": [
       "13.3333333333333"
      ],
      "text/latex": [
       "13.3333333333333"
      ],
      "text/markdown": [
       "13.3333333333333"
      ],
      "text/plain": [
       "[1] 13.33333"
      ]
     },
     "metadata": {},
     "output_type": "display_data"
    }
   ],
   "source": [
    "(100-125)^2/125 + (350-375)^2/375 + (400-375)^2/375 + (150 - 125)^2/125"
   ]
  },
  {
   "cell_type": "code",
   "execution_count": 7,
   "id": "9d31378f-1bac-4123-8d51-715f47fbe321",
   "metadata": {},
   "outputs": [
    {
     "data": {
      "text/html": [
       "7.81472790325118"
      ],
      "text/latex": [
       "7.81472790325118"
      ],
      "text/markdown": [
       "7.81472790325118"
      ],
      "text/plain": [
       "[1] 7.814728"
      ]
     },
     "metadata": {},
     "output_type": "display_data"
    }
   ],
   "source": [
    "qchisq(0.95, 3)"
   ]
  },
  {
   "cell_type": "markdown",
   "id": "4c4c574c-10c1-49f3-8a87-8404c3cd39c0",
   "metadata": {},
   "source": [
    "> 기각되어 0.5라고 할 수 없다."
   ]
  },
  {
   "cell_type": "markdown",
   "id": "de9df225-8387-4b9a-8c92-55a05bf84b22",
   "metadata": {},
   "source": [
    "ex3) 포아송분포와의 비교\n",
    "\n",
    "|사망자의 수|0|1|2|3|4+|total|\n",
    "|:-:|:-:|:-:|:-:|:-:|:-:|:-:|\n",
    "|$O_i$|109|25|22|3|1|200|\n",
    "\n",
    "> 모수 $\\lambda$가 주어지지 않았으므로 추정"
   ]
  },
  {
   "cell_type": "code",
   "execution_count": 27,
   "id": "5ad16cb4-4d49-4d97-95b1-de173a937b8e",
   "metadata": {},
   "outputs": [
    {
     "data": {
      "text/html": [
       "0.61"
      ],
      "text/latex": [
       "0.61"
      ],
      "text/markdown": [
       "0.61"
      ],
      "text/plain": [
       "[1] 0.61"
      ]
     },
     "metadata": {},
     "output_type": "display_data"
    }
   ],
   "source": [
    "lambda = (65+22*2+3*3+1*4)/200\n",
    "lambda"
   ]
  },
  {
   "cell_type": "markdown",
   "id": "7c4d3137-7ee7-46d2-bb4e-c3ebbb30d964",
   "metadata": {},
   "source": [
    "$$\\frac{\\lambda^x e^{-\\lambda}}{x!}$$"
   ]
  },
  {
   "cell_type": "code",
   "execution_count": 15,
   "id": "09f5be13-450a-486b-be84-3b1b558a2c95",
   "metadata": {
    "scrolled": true
   },
   "outputs": [
    {
     "data": {
      "text/html": [
       "108.6701738149"
      ],
      "text/latex": [
       "108.6701738149"
      ],
      "text/markdown": [
       "108.6701738149"
      ],
      "text/plain": [
       "[1] 108.6702"
      ]
     },
     "metadata": {},
     "output_type": "display_data"
    }
   ],
   "source": [
    "dpois(0, 0.61) * 200"
   ]
  },
  {
   "cell_type": "code",
   "execution_count": 16,
   "id": "ce7665be-a0f5-4b9c-b26d-087b6c2fe19b",
   "metadata": {},
   "outputs": [
    {
     "data": {
      "text/html": [
       "66.288806027089"
      ],
      "text/latex": [
       "66.288806027089"
      ],
      "text/markdown": [
       "66.288806027089"
      ],
      "text/plain": [
       "[1] 66.28881"
      ]
     },
     "metadata": {},
     "output_type": "display_data"
    }
   ],
   "source": [
    "dpois(1, 0.61) * 200"
   ]
  },
  {
   "cell_type": "code",
   "execution_count": 17,
   "id": "286714e4-0f15-4b51-8776-d117e537b597",
   "metadata": {},
   "outputs": [
    {
     "data": {
      "text/html": [
       "20.2180858382621"
      ],
      "text/latex": [
       "20.2180858382621"
      ],
      "text/markdown": [
       "20.2180858382621"
      ],
      "text/plain": [
       "[1] 20.21809"
      ]
     },
     "metadata": {},
     "output_type": "display_data"
    }
   ],
   "source": [
    "dpois(2, 0.61) * 200"
   ]
  },
  {
   "cell_type": "code",
   "execution_count": 18,
   "id": "e1cc7a99-bba7-47f2-ac48-f59c8ecbe3ee",
   "metadata": {},
   "outputs": [
    {
     "data": {
      "text/html": [
       "4.1110107871133"
      ],
      "text/latex": [
       "4.1110107871133"
      ],
      "text/markdown": [
       "4.1110107871133"
      ],
      "text/plain": [
       "[1] 4.111011"
      ]
     },
     "metadata": {},
     "output_type": "display_data"
    }
   ],
   "source": [
    "dpois(3, 0.61) * 200"
   ]
  },
  {
   "cell_type": "code",
   "execution_count": 20,
   "id": "074b9e0b-5bcd-42dd-8011-be1083c99cbe",
   "metadata": {},
   "outputs": [
    {
     "data": {
      "text/html": [
       "0.71192353263565"
      ],
      "text/latex": [
       "0.71192353263565"
      ],
      "text/markdown": [
       "0.71192353263565"
      ],
      "text/plain": [
       "[1] 0.7119235"
      ]
     },
     "metadata": {},
     "output_type": "display_data"
    }
   ],
   "source": [
    "(1 - ppois(3, 0.61)) * 200"
   ]
  },
  {
   "cell_type": "markdown",
   "id": "528f4aad-1b1d-48a8-90d6-6a16f2c485a4",
   "metadata": {},
   "source": [
    "|사망자의 수|0|1|2|3|4+|total|\n",
    "|:-:|:-:|:-:|:-:|:-:|:-:|:-:|\n",
    "|$O_i$|109|62|22|3|1|200|\n",
    "|$E_i$|108.7|66.3|20.2|4.1|0.7|200|"
   ]
  },
  {
   "cell_type": "markdown",
   "id": "5c998fa2-bad2-4725-8256-ce489290bf56",
   "metadata": {},
   "source": [
    "$\\chi^2 = \\Sigma \\frac{(O_i-E_i)^2}{E_i} = $"
   ]
  },
  {
   "cell_type": "code",
   "execution_count": 30,
   "id": "2c726446-004b-47cd-b74a-e45288f723e0",
   "metadata": {},
   "outputs": [
    {
     "data": {
      "text/html": [
       "0.863011119239117"
      ],
      "text/latex": [
       "0.863011119239117"
      ],
      "text/markdown": [
       "0.863011119239117"
      ],
      "text/plain": [
       "[1] 0.8630111"
      ]
     },
     "metadata": {},
     "output_type": "display_data"
    }
   ],
   "source": [
    "chi = (109 - 108.7)^2/108.7 + (62 - 66.3)^2/66.3 + (22 - 20.2)^2/20.3 + (3 - 4.1)^2/4.1 + (1 - 0.7)^2/0.7\n",
    "chi"
   ]
  },
  {
   "cell_type": "code",
   "execution_count": 29,
   "id": "978fee1e-dedd-4a40-9e51-5f14f93b960c",
   "metadata": {},
   "outputs": [
    {
     "data": {
      "text/html": [
       "7.81472790325118"
      ],
      "text/latex": [
       "7.81472790325118"
      ],
      "text/markdown": [
       "7.81472790325118"
      ],
      "text/plain": [
       "[1] 7.814728"
      ]
     },
     "metadata": {},
     "output_type": "display_data"
    }
   ],
   "source": [
    "qchisq(0.95, 5-1-1)"
   ]
  },
  {
   "cell_type": "code",
   "execution_count": 37,
   "id": "c34b98d9-2b84-4507-9e53-6a901601d0bd",
   "metadata": {},
   "outputs": [
    {
     "data": {
      "text/html": [
       "0.834343632556906"
      ],
      "text/latex": [
       "0.834343632556906"
      ],
      "text/markdown": [
       "0.834343632556906"
      ],
      "text/plain": [
       "[1] 0.8343436"
      ]
     },
     "metadata": {},
     "output_type": "display_data"
    }
   ],
   "source": [
    "pchisq(chi, 5-1-1, lower.tail = FALSE)  ## p-value가 매우 낮게 나옴"
   ]
  },
  {
   "cell_type": "markdown",
   "id": "6244a3e6-8e59-4c6c-93f7-77b2b03776ac",
   "metadata": {},
   "source": [
    "* $\\chi^2 -$ 적합도 검정은 모든 셀의 기대빈돗수가 5이상이여야 근사된다.\n",
    "\n",
    "* 기대빈도수 5미만의 셀이 전체의 20%보다 적으면 적용 가능\n",
    "\n",
    "* 20%가 넘는다면 이웃의 셀과 합쳐 기대빈도수를 계산하여 이용\n",
    "\n",
    "* 합칠 수 없으면 exact test를 권장함"
   ]
  },
  {
   "cell_type": "markdown",
   "id": "33cc4111-7528-4940-b325-fc27a614b702",
   "metadata": {},
   "source": [
    "`-` 연속형의 경우"
   ]
  },
  {
   "cell_type": "markdown",
   "id": "8f4859ad-e7f5-44e4-84a0-209f0c2b1ec4",
   "metadata": {},
   "source": [
    "P-P plot\n",
    "\n",
    "$(\\frac{i - 0.5}{n}, F(x_{(i)}))$의 산점도에 해당함. (Hazen Methods)\n",
    "\n",
    "* $\\frac{i - 0.5}{n}$ : 표본자료에서 i번째 자료 이전까지 나올 확률. n = 100이면 0.5, 1.5, 2.5, ... , 99.5\n",
    "* $F(x_{(i)})$ : 표본자료를 순서통계량으로 나타냈을 때 해당 값의 정규분포에서의 누적비율.\n",
    "\n",
    "> 각 값의 범위가 [0,1]임\n",
    "\n",
    "Q-Q plot\n",
    "\n",
    "$(x_{(i)}, F^{-1}(\\frac{i - 0.5}{n}))$\n",
    "\n",
    "* $x_{(i)}$ : 표본자료에서 i번째 자료의 값. 순서통계량\n",
    "* $F^{-1}(\\frac{i - 0.5}{n})$\n",
    "\n",
    "> 각 값의 범위는 무한"
   ]
  },
  {
   "cell_type": "code",
   "execution_count": 49,
   "id": "855a72a8-964b-4a26-994c-9d8927ce6416",
   "metadata": {},
   "outputs": [
    {
     "data": {
      "image/png": "[encoded data removed]",
      "text/plain": [
       "Plot with title “P-P plot”"
      ]
     },
     "metadata": {
      "image/png": {
       "height": 420,
       "width": 420
      }
     },
     "output_type": "display_data"
    }
   ],
   "source": [
    "x <- rexp(100, 0.5)  ## 평균이 2인 지수분포\n",
    "qqnorm(x, main = \"P-P plot\")  ## qqplot\n",
    "qqline(x)"
   ]
  },
  {
   "cell_type": "code",
   "execution_count": 51,
   "id": "34e6a448-6914-475a-bf7a-557ddce876e1",
   "metadata": {},
   "outputs": [
    {
     "name": "stderr",
     "output_type": "stream",
     "text": [
      "Updating HTML index of packages in '.Library'\n",
      "\n",
      "Making 'packages.html' ...\n",
      " done\n",
      "\n"
     ]
    }
   ],
   "source": [
    "install.packages(\"nortest\")\n",
    "library(nortest)"
   ]
  },
  {
   "cell_type": "code",
   "execution_count": 52,
   "id": "30bdb42b-6d7a-4e92-b087-a3a5891c8cca",
   "metadata": {},
   "outputs": [
    {
     "data": {
      "text/plain": [
       "\n",
       "\tAnderson-Darling normality test\n",
       "\n",
       "data:  x\n",
       "A = 5.3526, p-value = 2.649e-13\n"
      ]
     },
     "metadata": {},
     "output_type": "display_data"
    }
   ],
   "source": [
    "ad.test(x)"
   ]
  },
  {
   "cell_type": "markdown",
   "id": "b27512c5-493b-471f-9909-3a2ae078f986",
   "metadata": {},
   "source": [
    "> 귀무가설을 기각. 즉, 정규분포를 따르지 않음."
   ]
  },
  {
   "cell_type": "markdown",
   "id": "eb14053c-2cbc-4d9a-97ed-250789bce158",
   "metadata": {},
   "source": [
    "`-` 정규확률플롯 작성단계\n",
    "\n",
    "(1) 순서통계량을 구함 : $x_{(1)}, \\dots, x_{(n)}$\n",
    "\n",
    "(2) 표본에서 $p_i$의 분위수 $x_{(i)}$ 계산 : $p_i = \\frac{i - 0.5}{n}$\n",
    "\n",
    "(3) $N(\\mu, \\sigma^2)$에서 $p_i$에 해당하는 $x$값 계산\n",
    "\n",
    "> $P(X < x_i) = p_i \\to z = \\Psi^{-1}(p_i)$\n",
    "\n",
    "(4) $(x_{(i)}, z)$를 그림. 직선이면 표본자료는 정규분포를 따름."
   ]
  },
  {
   "cell_type": "markdown",
   "id": "f69bf020-edbd-4ee8-be23-ef8ae8939e7f",
   "metadata": {},
   "source": [
    "> sorting을 함 $\\to$ 각 순서통계량의 분위수를 구함 $\\to$ 해당 분위수를 표준정규분포의 누적분포함수의 역함수에 넣음(qnorm(p_i))"
   ]
  },
  {
   "cell_type": "code",
   "execution_count": null,
   "id": "11b7cf22-4442-4a36-a9e9-225f94aeb291",
   "metadata": {},
   "outputs": [],
   "source": [
    "darvin <- c(49, -67, 8, 16, 6, 23, 28, 41, 14, 29, 56, 24, 75, 60, -48)\n",
    "p <- (1:length(darvin) - 0.5)/length(darvin)\n",
    "z <- qnorm(p)"
   ]
  }
 ],
 "metadata": {
  "kernelspec": {
   "display_name": "R",
   "language": "R",
   "name": "ir"
  },
  "language_info": {
   "codemirror_mode": "r",
   "file_extension": ".r",
   "mimetype": "text/x-r-source",
   "name": "R",
   "pygments_lexer": "r",
   "version": "4.3.3"
  }
 },
 "nbformat": 4,
 "nbformat_minor": 5
}
