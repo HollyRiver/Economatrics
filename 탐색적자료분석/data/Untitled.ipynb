{
 "cells": [
  {
   "cell_type": "code",
   "execution_count": 4,
   "id": "96cb1166-dc5f-407d-8dba-1c6d6f2bd0e8",
   "metadata": {},
   "outputs": [
    {
     "data": {
      "text/html": [
       "2.44774683068082"
      ],
      "text/latex": [
       "2.44774683068082"
      ],
      "text/markdown": [
       "2.44774683068082"
      ],
      "text/plain": [
       "[1] 2.447747"
      ]
     },
     "metadata": {},
     "output_type": "display_data"
    }
   ],
   "source": [
    "sqrt(qexp(0.95, 1/2))"
   ]
  }
 ],
 "metadata": {
  "kernelspec": {
   "display_name": "R",
   "language": "R",
   "name": "ir"
  },
  "language_info": {
   "codemirror_mode": "r",
   "file_extension": ".r",
   "mimetype": "text/x-r-source",
   "name": "R",
   "pygments_lexer": "r",
   "version": "4.3.3"
  }
 },
 "nbformat": 4,
 "nbformat_minor": 5
}
