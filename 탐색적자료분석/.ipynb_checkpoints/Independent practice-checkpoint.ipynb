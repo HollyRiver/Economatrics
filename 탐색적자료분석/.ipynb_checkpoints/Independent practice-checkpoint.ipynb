{
 "cells": [
  {
   "cell_type": "code",
   "execution_count": 1,
   "id": "c1955c48-3465-485a-be82-7f70c00dfc35",
   "metadata": {},
   "outputs": [
    {
     "name": "stderr",
     "output_type": "stream",
     "text": [
      "also installing the dependencies ‘deldir’, ‘png’, ‘jpeg’, ‘interp’, ‘latticeExtra’\n",
      "\n",
      "\n",
      "Updating HTML index of packages in '.Library'\n",
      "\n",
      "Making 'packages.html' ...\n",
      " done\n",
      "\n"
     ]
    }
   ],
   "source": [
    "install.packages(\"DAAG\")"
   ]
  },
  {
   "cell_type": "code",
   "execution_count": 16,
   "id": "64012c78-ac99-4b9f-85a8-b67f2a81df15",
   "metadata": {},
   "outputs": [],
   "source": [
    "species <- c('a','b','c','b')"
   ]
  },
  {
   "cell_type": "code",
   "execution_count": 13,
   "id": "257233e0-8b47-44f1-adba-d5fc5eb1b018",
   "metadata": {},
   "outputs": [
    {
     "data": {
      "text/html": [
       "<dl>\n",
       "\t<dt>$a</dt>\n",
       "\t\t<dd>1</dd>\n",
       "\t<dt>$b</dt>\n",
       "\t\t<dd>2</dd>\n",
       "\t<dt>$c</dt>\n",
       "\t\t<dd>3</dd>\n",
       "</dl>\n"
      ],
      "text/latex": [
       "\\begin{description}\n",
       "\\item[\\$a] 1\n",
       "\\item[\\$b] 2\n",
       "\\item[\\$c] 3\n",
       "\\end{description}\n"
      ],
      "text/markdown": [
       "$a\n",
       ":   1\n",
       "$b\n",
       ":   2\n",
       "$c\n",
       ":   3\n",
       "\n",
       "\n"
      ],
      "text/plain": [
       "$a\n",
       "[1] 1\n",
       "\n",
       "$b\n",
       "[1] 2\n",
       "\n",
       "$c\n",
       "[1] 3\n"
      ]
     },
     "metadata": {},
     "output_type": "display_data"
    }
   ],
   "source": [
    "list(a = 1, b = 2, c = 3)"
   ]
  },
  {
   "cell_type": "code",
   "execution_count": 23,
   "id": "0c54e62a-5389-4c90-b029-5c7ebb0ccfee",
   "metadata": {},
   "outputs": [],
   "source": [
    "species_f <- factor(species, levels = c('a', 'b', 'c'))"
   ]
  },
  {
   "cell_type": "code",
   "execution_count": 24,
   "id": "ab6a00a2-1953-4254-8696-176e25c5241f",
   "metadata": {},
   "outputs": [],
   "source": [
    "levels(species_f) <- c(\"total bee\", \"heracules bittle\", \"pikaia\")"
   ]
  },
  {
   "cell_type": "code",
   "execution_count": 26,
   "id": "2530eb1a-99a9-427e-b2fa-3e4de065d63a",
   "metadata": {},
   "outputs": [
    {
     "data": {
      "text/plain": [
       "species_f\n",
       "       total bee heracules bittle           pikaia \n",
       "               1                2                1 "
      ]
     },
     "metadata": {},
     "output_type": "display_data"
    }
   ],
   "source": [
    "table(species_f)"
   ]
  },
  {
   "cell_type": "code",
   "execution_count": null,
   "id": "fcb700d7-ad86-40bd-8b1d-19fcc0b6af55",
   "metadata": {},
   "outputs": [],
   "source": [
    "transform()"
   ]
  }
 ],
 "metadata": {
  "kernelspec": {
   "display_name": "R",
   "language": "R",
   "name": "ir"
  },
  "language_info": {
   "codemirror_mode": "r",
   "file_extension": ".r",
   "mimetype": "text/x-r-source",
   "name": "R",
   "pygments_lexer": "r",
   "version": "4.3.3"
  }
 },
 "nbformat": 4,
 "nbformat_minor": 5
}
