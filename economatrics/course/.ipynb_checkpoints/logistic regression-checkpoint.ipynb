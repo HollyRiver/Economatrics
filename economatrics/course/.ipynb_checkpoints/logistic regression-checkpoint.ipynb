{
 "cells": [
  {
   "cell_type": "markdown",
   "id": "447b8236-5b52-4589-899f-6265fc10d6a6",
   "metadata": {},
   "source": [
    "`-` 먼저 함수를 정의해보자."
   ]
  },
  {
   "cell_type": "code",
   "execution_count": 2,
   "id": "77e0ff88-855f-47f2-a164-7b08b09e351f",
   "metadata": {},
   "outputs": [],
   "source": [
    "z = seq(-6, 6, length = 100)"
   ]
  },
  {
   "cell_type": "code",
   "execution_count": 3,
   "id": "5733847c-e037-4f11-8901-96444ce9a8ca",
   "metadata": {},
   "outputs": [],
   "source": [
    "G <- function(z) {\n",
    "    exp(z) / (1+exp(z))\n",
    "}"
   ]
  },
  {
   "cell_type": "code",
   "execution_count": 8,
   "id": "660c9d82-17eb-43b8-b80f-81c18eda0fba",
   "metadata": {},
   "outputs": [
    {
     "data": {
      "image/png": "[encoded data removed]",
      "text/plain": [
       "plot without title"
      ]
     },
     "metadata": {
      "image/png": {
       "height": 420,
       "width": 420
      }
     },
     "output_type": "display_data"
    }
   ],
   "source": [
    "plot(z,G(z), xlab=expression(z),type='l', ylab=expression(pi))"
   ]
  },
  {
   "cell_type": "markdown",
   "id": "c358fd5a-9a4a-4fbc-a395-b1744569d645",
   "metadata": {},
   "source": [
    "`-` 데이터를 분석해보자."
   ]
  },
  {
   "cell_type": "code",
   "execution_count": 9,
   "id": "3643b09f-bc1c-45f0-b8e6-b9cc19550782",
   "metadata": {},
   "outputs": [],
   "source": [
    "load(\"mroz.RData\")  ## data라는 이름으로 들어왔다."
   ]
  },
  {
   "cell_type": "code",
   "execution_count": 10,
   "id": "7462dac9-5e91-4eeb-a957-f0bdb8953b3f",
   "metadata": {},
   "outputs": [
    {
     "data": {
      "text/html": [
       "<table class=\"dataframe\">\n",
       "<caption>A data.frame: 6 × 22</caption>\n",
       "<thead>\n",
       "\t<tr><th></th><th scope=col>inlf</th><th scope=col>hours</th><th scope=col>kidslt6</th><th scope=col>kidsge6</th><th scope=col>age</th><th scope=col>educ</th><th scope=col>wage</th><th scope=col>repwage</th><th scope=col>hushrs</th><th scope=col>husage</th><th scope=col>⋯</th><th scope=col>faminc</th><th scope=col>mtr</th><th scope=col>motheduc</th><th scope=col>fatheduc</th><th scope=col>unem</th><th scope=col>city</th><th scope=col>exper</th><th scope=col>nwifeinc</th><th scope=col>lwage</th><th scope=col>expersq</th></tr>\n",
       "\t<tr><th></th><th scope=col>&lt;int&gt;</th><th scope=col>&lt;int&gt;</th><th scope=col>&lt;int&gt;</th><th scope=col>&lt;int&gt;</th><th scope=col>&lt;int&gt;</th><th scope=col>&lt;int&gt;</th><th scope=col>&lt;dbl&gt;</th><th scope=col>&lt;dbl&gt;</th><th scope=col>&lt;int&gt;</th><th scope=col>&lt;int&gt;</th><th scope=col>⋯</th><th scope=col>&lt;dbl&gt;</th><th scope=col>&lt;dbl&gt;</th><th scope=col>&lt;int&gt;</th><th scope=col>&lt;int&gt;</th><th scope=col>&lt;dbl&gt;</th><th scope=col>&lt;int&gt;</th><th scope=col>&lt;int&gt;</th><th scope=col>&lt;dbl&gt;</th><th scope=col>&lt;dbl&gt;</th><th scope=col>&lt;int&gt;</th></tr>\n",
       "</thead>\n",
       "<tbody>\n",
       "\t<tr><th scope=row>1</th><td>1</td><td>1610</td><td>1</td><td>0</td><td>32</td><td>12</td><td>3.3540</td><td>2.65</td><td>2708</td><td>34</td><td>⋯</td><td>16310</td><td>0.7215</td><td>12</td><td> 7</td><td> 5.0</td><td>0</td><td>14</td><td>10.910060</td><td>1.21015370</td><td> 196</td></tr>\n",
       "\t<tr><th scope=row>2</th><td>1</td><td>1656</td><td>0</td><td>2</td><td>30</td><td>12</td><td>1.3889</td><td>2.65</td><td>2310</td><td>30</td><td>⋯</td><td>21800</td><td>0.6615</td><td> 7</td><td> 7</td><td>11.0</td><td>1</td><td> 5</td><td>19.499981</td><td>0.32851210</td><td>  25</td></tr>\n",
       "\t<tr><th scope=row>3</th><td>1</td><td>1980</td><td>1</td><td>3</td><td>35</td><td>12</td><td>4.5455</td><td>4.04</td><td>3072</td><td>40</td><td>⋯</td><td>21040</td><td>0.6915</td><td>12</td><td> 7</td><td> 5.0</td><td>0</td><td>15</td><td>12.039910</td><td>1.51413774</td><td> 225</td></tr>\n",
       "\t<tr><th scope=row>4</th><td>1</td><td> 456</td><td>0</td><td>3</td><td>34</td><td>12</td><td>1.0965</td><td>3.25</td><td>1920</td><td>53</td><td>⋯</td><td> 7300</td><td>0.7815</td><td> 7</td><td> 7</td><td> 5.0</td><td>0</td><td> 6</td><td> 6.799996</td><td>0.09212332</td><td>  36</td></tr>\n",
       "\t<tr><th scope=row>5</th><td>1</td><td>1568</td><td>1</td><td>2</td><td>31</td><td>14</td><td>4.5918</td><td>3.60</td><td>2000</td><td>32</td><td>⋯</td><td>27300</td><td>0.6215</td><td>12</td><td>14</td><td> 9.5</td><td>1</td><td> 7</td><td>20.100058</td><td>1.52427220</td><td>  49</td></tr>\n",
       "\t<tr><th scope=row>6</th><td>1</td><td>2032</td><td>0</td><td>0</td><td>54</td><td>12</td><td>4.7421</td><td>4.70</td><td>1040</td><td>57</td><td>⋯</td><td>19495</td><td>0.6915</td><td>14</td><td> 7</td><td> 7.5</td><td>1</td><td>33</td><td> 9.859054</td><td>1.55648005</td><td>1089</td></tr>\n",
       "</tbody>\n",
       "</table>\n"
      ],
      "text/latex": [
       "A data.frame: 6 × 22\n",
       "\\begin{tabular}{r|lllllllllllllllllllll}\n",
       "  & inlf & hours & kidslt6 & kidsge6 & age & educ & wage & repwage & hushrs & husage & ⋯ & faminc & mtr & motheduc & fatheduc & unem & city & exper & nwifeinc & lwage & expersq\\\\\n",
       "  & <int> & <int> & <int> & <int> & <int> & <int> & <dbl> & <dbl> & <int> & <int> & ⋯ & <dbl> & <dbl> & <int> & <int> & <dbl> & <int> & <int> & <dbl> & <dbl> & <int>\\\\\n",
       "\\hline\n",
       "\t1 & 1 & 1610 & 1 & 0 & 32 & 12 & 3.3540 & 2.65 & 2708 & 34 & ⋯ & 16310 & 0.7215 & 12 &  7 &  5.0 & 0 & 14 & 10.910060 & 1.21015370 &  196\\\\\n",
       "\t2 & 1 & 1656 & 0 & 2 & 30 & 12 & 1.3889 & 2.65 & 2310 & 30 & ⋯ & 21800 & 0.6615 &  7 &  7 & 11.0 & 1 &  5 & 19.499981 & 0.32851210 &   25\\\\\n",
       "\t3 & 1 & 1980 & 1 & 3 & 35 & 12 & 4.5455 & 4.04 & 3072 & 40 & ⋯ & 21040 & 0.6915 & 12 &  7 &  5.0 & 0 & 15 & 12.039910 & 1.51413774 &  225\\\\\n",
       "\t4 & 1 &  456 & 0 & 3 & 34 & 12 & 1.0965 & 3.25 & 1920 & 53 & ⋯ &  7300 & 0.7815 &  7 &  7 &  5.0 & 0 &  6 &  6.799996 & 0.09212332 &   36\\\\\n",
       "\t5 & 1 & 1568 & 1 & 2 & 31 & 14 & 4.5918 & 3.60 & 2000 & 32 & ⋯ & 27300 & 0.6215 & 12 & 14 &  9.5 & 1 &  7 & 20.100058 & 1.52427220 &   49\\\\\n",
       "\t6 & 1 & 2032 & 0 & 0 & 54 & 12 & 4.7421 & 4.70 & 1040 & 57 & ⋯ & 19495 & 0.6915 & 14 &  7 &  7.5 & 1 & 33 &  9.859054 & 1.55648005 & 1089\\\\\n",
       "\\end{tabular}\n"
      ],
      "text/markdown": [
       "\n",
       "A data.frame: 6 × 22\n",
       "\n",
       "| <!--/--> | inlf &lt;int&gt; | hours &lt;int&gt; | kidslt6 &lt;int&gt; | kidsge6 &lt;int&gt; | age &lt;int&gt; | educ &lt;int&gt; | wage &lt;dbl&gt; | repwage &lt;dbl&gt; | hushrs &lt;int&gt; | husage &lt;int&gt; | ⋯ ⋯ | faminc &lt;dbl&gt; | mtr &lt;dbl&gt; | motheduc &lt;int&gt; | fatheduc &lt;int&gt; | unem &lt;dbl&gt; | city &lt;int&gt; | exper &lt;int&gt; | nwifeinc &lt;dbl&gt; | lwage &lt;dbl&gt; | expersq &lt;int&gt; |\n",
       "|---|---|---|---|---|---|---|---|---|---|---|---|---|---|---|---|---|---|---|---|---|---|\n",
       "| 1 | 1 | 1610 | 1 | 0 | 32 | 12 | 3.3540 | 2.65 | 2708 | 34 | ⋯ | 16310 | 0.7215 | 12 |  7 |  5.0 | 0 | 14 | 10.910060 | 1.21015370 |  196 |\n",
       "| 2 | 1 | 1656 | 0 | 2 | 30 | 12 | 1.3889 | 2.65 | 2310 | 30 | ⋯ | 21800 | 0.6615 |  7 |  7 | 11.0 | 1 |  5 | 19.499981 | 0.32851210 |   25 |\n",
       "| 3 | 1 | 1980 | 1 | 3 | 35 | 12 | 4.5455 | 4.04 | 3072 | 40 | ⋯ | 21040 | 0.6915 | 12 |  7 |  5.0 | 0 | 15 | 12.039910 | 1.51413774 |  225 |\n",
       "| 4 | 1 |  456 | 0 | 3 | 34 | 12 | 1.0965 | 3.25 | 1920 | 53 | ⋯ |  7300 | 0.7815 |  7 |  7 |  5.0 | 0 |  6 |  6.799996 | 0.09212332 |   36 |\n",
       "| 5 | 1 | 1568 | 1 | 2 | 31 | 14 | 4.5918 | 3.60 | 2000 | 32 | ⋯ | 27300 | 0.6215 | 12 | 14 |  9.5 | 1 |  7 | 20.100058 | 1.52427220 |   49 |\n",
       "| 6 | 1 | 2032 | 0 | 0 | 54 | 12 | 4.7421 | 4.70 | 1040 | 57 | ⋯ | 19495 | 0.6915 | 14 |  7 |  7.5 | 1 | 33 |  9.859054 | 1.55648005 | 1089 |\n",
       "\n"
      ],
      "text/plain": [
       "  inlf hours kidslt6 kidsge6 age educ wage   repwage hushrs husage ⋯ faminc\n",
       "1 1    1610  1       0       32  12   3.3540 2.65    2708   34     ⋯ 16310 \n",
       "2 1    1656  0       2       30  12   1.3889 2.65    2310   30     ⋯ 21800 \n",
       "3 1    1980  1       3       35  12   4.5455 4.04    3072   40     ⋯ 21040 \n",
       "4 1     456  0       3       34  12   1.0965 3.25    1920   53     ⋯  7300 \n",
       "5 1    1568  1       2       31  14   4.5918 3.60    2000   32     ⋯ 27300 \n",
       "6 1    2032  0       0       54  12   4.7421 4.70    1040   57     ⋯ 19495 \n",
       "  mtr    motheduc fatheduc unem city exper nwifeinc  lwage      expersq\n",
       "1 0.7215 12        7        5.0 0    14    10.910060 1.21015370  196   \n",
       "2 0.6615  7        7       11.0 1     5    19.499981 0.32851210   25   \n",
       "3 0.6915 12        7        5.0 0    15    12.039910 1.51413774  225   \n",
       "4 0.7815  7        7        5.0 0     6     6.799996 0.09212332   36   \n",
       "5 0.6215 12       14        9.5 1     7    20.100058 1.52427220   49   \n",
       "6 0.6915 14        7        7.5 1    33     9.859054 1.55648005 1089   "
      ]
     },
     "metadata": {},
     "output_type": "display_data"
    }
   ],
   "source": [
    "head(data)"
   ]
  },
  {
   "cell_type": "markdown",
   "id": "fa9bd8d9-972b-4155-81ca-c6a51712176e",
   "metadata": {},
   "source": [
    "- 이론적 이해를 위해 드래곤볼로 만듦"
   ]
  },
  {
   "cell_type": "code",
   "execution_count": 11,
   "id": "c34b8185-f818-49df-8bd6-faef9584f0e7",
   "metadata": {},
   "outputs": [],
   "source": [
    "inlf <- data$inlf #this variable (y=inlf) has either 1 or 0\n",
    "nwifeinc <- data$nwifeinc\n",
    "educ <- data$educ\n",
    "exper <- data$exper\n",
    "exper2 <- exper^2\n",
    "age <- data$age\n",
    "kidslt6 <- data$kidslt6 \n",
    "kidsge6 <- data$kidsge6"
   ]
  },
  {
   "cell_type": "code",
   "execution_count": 15,
   "id": "dd5fb5fd-38e4-406b-b3ba-a1d70f21f894",
   "metadata": {},
   "outputs": [],
   "source": [
    "X <- cbind(1, kidslt6, educ)"
   ]
  },
  {
   "cell_type": "code",
   "execution_count": 18,
   "id": "147625ad-cd1e-4c4e-8256-02c146d219bf",
   "metadata": {},
   "outputs": [],
   "source": [
    "logit_mle <- function(theta_logit) {\n",
    "    X_beta <- X%*%theta_logit\n",
    "    sum(-inlf*log(G(X_beta))-(1-inlf)*log(1-G(X_beta)))  ## 행렬 전체의 합이 나옴\n",
    "}"
   ]
  },
  {
   "cell_type": "code",
   "execution_count": 19,
   "id": "549ea36e-6820-4310-8e30-34f838b2f42c",
   "metadata": {},
   "outputs": [],
   "source": [
    "logit_out <- optim(theta_logit <- c(-0.4, -1.5, 0.3),\n",
    "                  method = 'BFGS',\n",
    "                  logit_mle,\n",
    "                  hessian = TRUE)"
   ]
  },
  {
   "cell_type": "code",
   "execution_count": 23,
   "id": "bf4c9a78-62a6-41f2-b804-063ac051b4e9",
   "metadata": {},
   "outputs": [
    {
     "data": {
      "text/html": [
       "<style>\n",
       ".list-inline {list-style: none; margin:0; padding: 0}\n",
       ".list-inline>li {display: inline-block}\n",
       ".list-inline>li:not(:last-child)::after {content: \"\\00b7\"; padding: 0 .5ex}\n",
       "</style>\n",
       "<ol class=list-inline><li>-2.05414317496249</li><li>-1.01019351597027</li><li>0.21018981909379</li></ol>\n"
      ],
      "text/latex": [
       "\\begin{enumerate*}\n",
       "\\item -2.05414317496249\n",
       "\\item -1.01019351597027\n",
       "\\item 0.21018981909379\n",
       "\\end{enumerate*}\n"
      ],
      "text/markdown": [
       "1. -2.05414317496249\n",
       "2. -1.01019351597027\n",
       "3. 0.21018981909379\n",
       "\n",
       "\n"
      ],
      "text/plain": [
       "[1] -2.0541432 -1.0101935  0.2101898"
      ]
     },
     "metadata": {},
     "output_type": "display_data"
    }
   ],
   "source": [
    "estimate <- logit_out$par  ## beta_hats\n",
    "estimate"
   ]
  },
  {
   "cell_type": "code",
   "execution_count": 24,
   "id": "c551ca52-7ee2-4594-8095-118e5ad90022",
   "metadata": {},
   "outputs": [
    {
     "data": {
      "text/html": [
       "<table class=\"dataframe\">\n",
       "<caption>A matrix: 3 × 3 of type dbl</caption>\n",
       "<tbody>\n",
       "\t<tr><td> 167.86947</td><td> 36.69552</td><td> 2037.2365</td></tr>\n",
       "\t<tr><td>  36.69552</td><td> 47.23582</td><td>  478.3535</td></tr>\n",
       "\t<tr><td>2037.23646</td><td>478.35347</td><td>25502.8205</td></tr>\n",
       "</tbody>\n",
       "</table>\n"
      ],
      "text/latex": [
       "A matrix: 3 × 3 of type dbl\n",
       "\\begin{tabular}{lll}\n",
       "\t  167.86947 &  36.69552 &  2037.2365\\\\\n",
       "\t   36.69552 &  47.23582 &   478.3535\\\\\n",
       "\t 2037.23646 & 478.35347 & 25502.8205\\\\\n",
       "\\end{tabular}\n"
      ],
      "text/markdown": [
       "\n",
       "A matrix: 3 × 3 of type dbl\n",
       "\n",
       "|  167.86947 |  36.69552 |  2037.2365 |\n",
       "|   36.69552 |  47.23582 |   478.3535 |\n",
       "| 2037.23646 | 478.35347 | 25502.8205 |\n",
       "\n"
      ],
      "text/plain": [
       "     [,1]       [,2]      [,3]      \n",
       "[1,]  167.86947  36.69552  2037.2365\n",
       "[2,]   36.69552  47.23582   478.3535\n",
       "[3,] 2037.23646 478.35347 25502.8205"
      ]
     },
     "metadata": {},
     "output_type": "display_data"
    }
   ],
   "source": [
    "information.m <- logit_out$hessian  ## I = -H, 그런데 이미 loglikelihood에 마이너스 붙임\n",
    "information.m  ## information matrix"
   ]
  },
  {
   "cell_type": "code",
   "execution_count": 27,
   "id": "3108ad0c-489a-4e32-90df-da495aa3d2f3",
   "metadata": {},
   "outputs": [
    {
     "data": {
      "text/html": [
       "<table class=\"dataframe\">\n",
       "<caption>A matrix: 3 × 3 of type dbl</caption>\n",
       "<tbody>\n",
       "\t<tr><td> 0.197269036</td><td> 0.007819355</td><td>-0.015905068</td></tr>\n",
       "\t<tr><td> 0.007819355</td><td> 0.026444580</td><td>-0.001120650</td></tr>\n",
       "\t<tr><td>-0.015905068</td><td>-0.001120650</td><td> 0.001330772</td></tr>\n",
       "</tbody>\n",
       "</table>\n"
      ],
      "text/latex": [
       "A matrix: 3 × 3 of type dbl\n",
       "\\begin{tabular}{lll}\n",
       "\t  0.197269036 &  0.007819355 & -0.015905068\\\\\n",
       "\t  0.007819355 &  0.026444580 & -0.001120650\\\\\n",
       "\t -0.015905068 & -0.001120650 &  0.001330772\\\\\n",
       "\\end{tabular}\n"
      ],
      "text/markdown": [
       "\n",
       "A matrix: 3 × 3 of type dbl\n",
       "\n",
       "|  0.197269036 |  0.007819355 | -0.015905068 |\n",
       "|  0.007819355 |  0.026444580 | -0.001120650 |\n",
       "| -0.015905068 | -0.001120650 |  0.001330772 |\n",
       "\n"
      ],
      "text/plain": [
       "     [,1]         [,2]         [,3]        \n",
       "[1,]  0.197269036  0.007819355 -0.015905068\n",
       "[2,]  0.007819355  0.026444580 -0.001120650\n",
       "[3,] -0.015905068 -0.001120650  0.001330772"
      ]
     },
     "metadata": {},
     "output_type": "display_data"
    }
   ],
   "source": [
    "var_beta <- solve(information.m)  ## var(theta) = I^(-1) ; inverse\n",
    "var_beta"
   ]
  },
  {
   "cell_type": "code",
   "execution_count": 34,
   "id": "17794cfe-134d-426b-972f-d0920e9785e0",
   "metadata": {},
   "outputs": [
    {
     "data": {
      "text/html": [
       "<style>\n",
       ".list-inline {list-style: none; margin:0; padding: 0}\n",
       ".list-inline>li {display: inline-block}\n",
       ".list-inline>li:not(:last-child)::after {content: \"\\00b7\"; padding: 0 .5ex}\n",
       "</style>\n",
       "<ol class=list-inline><li>0.444149789660556</li><li>0.162617895955354</li><li>0.0364797538263931</li></ol>\n"
      ],
      "text/latex": [
       "\\begin{enumerate*}\n",
       "\\item 0.444149789660556\n",
       "\\item 0.162617895955354\n",
       "\\item 0.0364797538263931\n",
       "\\end{enumerate*}\n"
      ],
      "text/markdown": [
       "1. 0.444149789660556\n",
       "2. 0.162617895955354\n",
       "3. 0.0364797538263931\n",
       "\n",
       "\n"
      ],
      "text/plain": [
       "[1] 0.44414979 0.16261790 0.03647975"
      ]
     },
     "metadata": {},
     "output_type": "display_data"
    }
   ],
   "source": [
    "se <- sqrt(diag(var_beta))  ## 분산-공분산행렬의 대각원소의 제곱근\n",
    "se"
   ]
  },
  {
   "cell_type": "code",
   "execution_count": 37,
   "id": "e9d1385d-c0d8-49c4-b1e7-eeff87484c8d",
   "metadata": {},
   "outputs": [
    {
     "data": {
      "text/html": [
       "<style>\n",
       ".list-inline {list-style: none; margin:0; padding: 0}\n",
       ".list-inline>li {display: inline-block}\n",
       ".list-inline>li:not(:last-child)::after {content: \"\\00b7\"; padding: 0 .5ex}\n",
       "</style>\n",
       "<ol class=list-inline><li>-4.62488832097023</li><li>-6.21206854285964</li><li>5.76182120345663</li></ol>\n"
      ],
      "text/latex": [
       "\\begin{enumerate*}\n",
       "\\item -4.62488832097023\n",
       "\\item -6.21206854285964\n",
       "\\item 5.76182120345663\n",
       "\\end{enumerate*}\n"
      ],
      "text/markdown": [
       "1. -4.62488832097023\n",
       "2. -6.21206854285964\n",
       "3. 5.76182120345663\n",
       "\n",
       "\n"
      ],
      "text/plain": [
       "[1] -4.624888 -6.212069  5.761821"
      ]
     },
     "metadata": {},
     "output_type": "display_data"
    }
   ],
   "source": [
    "t <- estimate/se  ## t_{beta_hat}\n",
    "t"
   ]
  },
  {
   "cell_type": "markdown",
   "id": "19768c3b-7c1f-44af-a4f5-5fc3345ff1f5",
   "metadata": {},
   "source": [
    "> 모두 절댓값이 1.96보다 작으므로 통계적으로 0이 아니다."
   ]
  },
  {
   "cell_type": "code",
   "execution_count": 38,
   "id": "f3138da2-5a4b-455b-9135-e27d2a8e83a1",
   "metadata": {},
   "outputs": [],
   "source": [
    "beta <- c('beta0', 'beta1', 'beta2')\n",
    "output <- data.frame(beta, estimate, se, t)"
   ]
  },
  {
   "cell_type": "code",
   "execution_count": 39,
   "id": "5620dff8-8e94-438f-9903-c014768ea9db",
   "metadata": {},
   "outputs": [
    {
     "data": {
      "text/html": [
       "<table class=\"dataframe\">\n",
       "<caption>A data.frame: 3 × 4</caption>\n",
       "<thead>\n",
       "\t<tr><th scope=col>beta</th><th scope=col>estimate</th><th scope=col>se</th><th scope=col>t</th></tr>\n",
       "\t<tr><th scope=col>&lt;chr&gt;</th><th scope=col>&lt;dbl&gt;</th><th scope=col>&lt;dbl&gt;</th><th scope=col>&lt;dbl&gt;</th></tr>\n",
       "</thead>\n",
       "<tbody>\n",
       "\t<tr><td>beta0</td><td>-2.0541432</td><td>0.44414979</td><td>-4.624888</td></tr>\n",
       "\t<tr><td>beta1</td><td>-1.0101935</td><td>0.16261790</td><td>-6.212069</td></tr>\n",
       "\t<tr><td>beta2</td><td> 0.2101898</td><td>0.03647975</td><td> 5.761821</td></tr>\n",
       "</tbody>\n",
       "</table>\n"
      ],
      "text/latex": [
       "A data.frame: 3 × 4\n",
       "\\begin{tabular}{llll}\n",
       " beta & estimate & se & t\\\\\n",
       " <chr> & <dbl> & <dbl> & <dbl>\\\\\n",
       "\\hline\n",
       "\t beta0 & -2.0541432 & 0.44414979 & -4.624888\\\\\n",
       "\t beta1 & -1.0101935 & 0.16261790 & -6.212069\\\\\n",
       "\t beta2 &  0.2101898 & 0.03647975 &  5.761821\\\\\n",
       "\\end{tabular}\n"
      ],
      "text/markdown": [
       "\n",
       "A data.frame: 3 × 4\n",
       "\n",
       "| beta &lt;chr&gt; | estimate &lt;dbl&gt; | se &lt;dbl&gt; | t &lt;dbl&gt; |\n",
       "|---|---|---|---|\n",
       "| beta0 | -2.0541432 | 0.44414979 | -4.624888 |\n",
       "| beta1 | -1.0101935 | 0.16261790 | -6.212069 |\n",
       "| beta2 |  0.2101898 | 0.03647975 |  5.761821 |\n",
       "\n"
      ],
      "text/plain": [
       "  beta  estimate   se         t        \n",
       "1 beta0 -2.0541432 0.44414979 -4.624888\n",
       "2 beta1 -1.0101935 0.16261790 -6.212069\n",
       "3 beta2  0.2101898 0.03647975  5.761821"
      ]
     },
     "metadata": {},
     "output_type": "display_data"
    }
   ],
   "source": [
    "output"
   ]
  },
  {
   "cell_type": "markdown",
   "id": "53b111e6-55b0-4cc6-bc27-92571691412c",
   "metadata": {},
   "source": [
    "> 최종 테이블."
   ]
  },
  {
   "cell_type": "code",
   "execution_count": null,
   "id": "6b72ad4c-f8fb-4200-ab3a-f774087df244",
   "metadata": {},
   "outputs": [],
   "source": []
  }
 ],
 "metadata": {
  "kernelspec": {
   "display_name": "R",
   "language": "R",
   "name": "ir"
  },
  "language_info": {
   "codemirror_mode": "r",
   "file_extension": ".r",
   "mimetype": "text/x-r-source",
   "name": "R",
   "pygments_lexer": "r",
   "version": "4.3.2"
  }
 },
 "nbformat": 4,
 "nbformat_minor": 5
}
