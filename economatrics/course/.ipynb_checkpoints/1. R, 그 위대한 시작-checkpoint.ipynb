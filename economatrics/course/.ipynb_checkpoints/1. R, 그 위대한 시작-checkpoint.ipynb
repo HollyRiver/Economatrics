{
 "cells": [
  {
   "cell_type": "markdown",
   "id": "d1501458-f5d2-4379-a941-f870cc44f61c",
   "metadata": {},
   "source": [
    "> `R`의 필수적이고 기초적인 문법들을 한번에 싹 어셈블리해보자.~(그렇게 거창하게는 아니고...)~"
   ]
  },
  {
   "cell_type": "markdown",
   "id": "f3619ed7-1623-4b7b-9072-d3a32b93a36f",
   "metadata": {},
   "source": [
    "## 1. 사용할 라이브러리"
   ]
  },
  {
   "cell_type": "code",
   "execution_count": 2,
   "id": "0976df64-7cea-4444-b0fe-a30c08032623",
   "metadata": {},
   "outputs": [
    {
     "name": "stderr",
     "output_type": "stream",
     "text": [
      "Updating HTML index of packages in '.Library'\n",
      "\n",
      "Making 'packages.html' ...\n",
      " done\n",
      "\n"
     ]
    }
   ],
   "source": [
    "install.packages(\"Deriv\")\n",
    "library(Deriv)"
   ]
  },
  {
   "cell_type": "markdown",
   "id": "12748254-cced-4edb-b77b-f82ac5e8db81",
   "metadata": {},
   "source": [
    "## 2. 기초"
   ]
  },
  {
   "cell_type": "markdown",
   "id": "9a5e3161-f992-4bcf-a75a-5b475accc8fa",
   "metadata": {},
   "source": [
    "### **A. 기본기 중의 기본기**\n",
    "---\n",
    "\n",
    "\n"
   ]
  },
  {
   "cell_type": "markdown",
   "id": "4d02eba0-2f41-4795-a3b8-c20fb1f7dac8",
   "metadata": {},
   "source": [
    "`-` 원래 응당 헬로우 월드부터 하는 게 옳기는 하나... ~우리 그럴 레벨 아니잖아요?~\n",
    "\n",
    "> 그래도 해보자!"
   ]
  },
  {
   "cell_type": "code",
   "execution_count": 3,
   "id": "827d04cf-2f56-4cb1-a9cc-f353543e3ef7",
   "metadata": {},
   "outputs": [
    {
     "name": "stdout",
     "output_type": "stream",
     "text": [
      "[1] \"hello world!\"\n"
     ]
    }
   ],
   "source": [
    "print(\"hello world!\")"
   ]
  },
  {
   "cell_type": "markdown",
   "id": "a6a13b5f-e80c-4d5f-9656-433a876cbaec",
   "metadata": {},
   "source": [
    "`-` `rm(list = ls())`\n",
    "\n",
    "* 기존에 저장된 변수나 함수들을 전부 지우고 가볍게 시작한다. R의 경우는 프로그램을 종요해도 로그가 캐시로 남아있기 때문에...(그정도까진 아님) 분석 시작 때에 사용하면 용이하다."
   ]
  },
  {
   "cell_type": "code",
   "execution_count": 4,
   "id": "fafe866c-be0a-4b0d-8ce8-83bee0968b8f",
   "metadata": {},
   "outputs": [],
   "source": [
    "rm(list = ls())"
   ]
  },
  {
   "cell_type": "markdown",
   "id": "65e59f63-afbb-4876-9cc2-817367dea6be",
   "metadata": {},
   "source": [
    "> R-studio등에서 실습하고 있다면, environment탭의 Data가 전부 깔끔하게 비워지는 것을 볼 수 있다..."
   ]
  },
  {
   "cell_type": "markdown",
   "id": "a99ad10f-f1be-4e00-83d5-3af149d30457",
   "metadata": {},
   "source": [
    "`-` 연산\n",
    "\n",
    "* 다른 프로그램에서 하는 것과 그냥 거의 동일하다고 보면 된다. 다른 것이나 몇 가지 추가된 게 있긴 하지만...(잘 안쓰니까)"
   ]
  },
  {
   "cell_type": "code",
   "execution_count": 11,
   "id": "6a6c11f8-94b4-4ba0-bfcd-92af998ec7e6",
   "metadata": {},
   "outputs": [
    {
     "data": {
      "text/html": [
       "579"
      ],
      "text/latex": [
       "579"
      ],
      "text/markdown": [
       "579"
      ],
      "text/plain": [
       "[1] 579"
      ]
     },
     "metadata": {},
     "output_type": "display_data"
    }
   ],
   "source": [
    "123 + 456 ## 더하기"
   ]
  },
  {
   "cell_type": "code",
   "execution_count": 12,
   "id": "cab9c3f9-af77-4baf-b3fb-cd5e9b0bf2be",
   "metadata": {},
   "outputs": [
    {
     "data": {
      "text/html": [
       "53"
      ],
      "text/latex": [
       "53"
      ],
      "text/markdown": [
       "53"
      ],
      "text/plain": [
       "[1] 53"
      ]
     },
     "metadata": {},
     "output_type": "display_data"
    }
   ],
   "source": [
    "164 - 111 ## 빼기"
   ]
  },
  {
   "cell_type": "code",
   "execution_count": 14,
   "id": "693db1c6-d6bd-49e4-a09a-dd93c78d9413",
   "metadata": {},
   "outputs": [
    {
     "data": {
      "text/html": [
       "565"
      ],
      "text/latex": [
       "565"
      ],
      "text/markdown": [
       "565"
      ],
      "text/plain": [
       "[1] 565"
      ]
     },
     "metadata": {},
     "output_type": "display_data"
    }
   ],
   "source": [
    "5*113  ## 곱하기"
   ]
  },
  {
   "cell_type": "code",
   "execution_count": 13,
   "id": "0acac815-12a8-4f00-88e6-4d2b00bcf1ba",
   "metadata": {},
   "outputs": [
    {
     "data": {
      "text/html": [
       "3"
      ],
      "text/latex": [
       "3"
      ],
      "text/markdown": [
       "3"
      ],
      "text/plain": [
       "[1] 3"
      ]
     },
     "metadata": {},
     "output_type": "display_data"
    }
   ],
   "source": [
    "12/4  ## 나누기"
   ]
  },
  {
   "cell_type": "code",
   "execution_count": 20,
   "id": "fcbc20ab-3f85-4d47-ae47-b4fec37add08",
   "metadata": {},
   "outputs": [
    {
     "data": {
      "text/html": [
       "64"
      ],
      "text/latex": [
       "64"
      ],
      "text/markdown": [
       "64"
      ],
      "text/plain": [
       "[1] 64"
      ]
     },
     "metadata": {},
     "output_type": "display_data"
    }
   ],
   "source": [
    "2**6  ## 제곱"
   ]
  },
  {
   "cell_type": "markdown",
   "id": "4f0283ed-c850-4f27-a314-a30ba45c15fc",
   "metadata": {},
   "source": [
    "* 이 아래부터는 파이썬과 다르게 써야 한다..."
   ]
  },
  {
   "cell_type": "code",
   "execution_count": 18,
   "id": "f37781c0-d0aa-4eee-ab19-c91d23839666",
   "metadata": {},
   "outputs": [
    {
     "data": {
      "text/html": [
       "1"
      ],
      "text/latex": [
       "1"
      ],
      "text/markdown": [
       "1"
      ],
      "text/plain": [
       "[1] 1"
      ]
     },
     "metadata": {},
     "output_type": "display_data"
    }
   ],
   "source": [
    "13%%4  ## 나머지, 안타깝게도 그냥 %이 아니다..."
   ]
  },
  {
   "cell_type": "code",
   "execution_count": 19,
   "id": "b53b6d4c-a42b-4e60-a726-62675283c13d",
   "metadata": {},
   "outputs": [
    {
     "data": {
      "text/html": [
       "3"
      ],
      "text/latex": [
       "3"
      ],
      "text/markdown": [
       "3"
      ],
      "text/plain": [
       "[1] 3"
      ]
     },
     "metadata": {},
     "output_type": "display_data"
    }
   ],
   "source": [
    "13%/%4  ## 몫, 정말 안타깝게도 그냥 //이 아니다..."
   ]
  },
  {
   "cell_type": "code",
   "execution_count": 22,
   "id": "04b9b654-983b-45ea-adfd-1ddc7bf3c113",
   "metadata": {},
   "outputs": [
    {
     "data": {
      "text/html": [
       "64"
      ],
      "text/latex": [
       "64"
      ],
      "text/markdown": [
       "64"
      ],
      "text/plain": [
       "[1] 64"
      ]
     },
     "metadata": {},
     "output_type": "display_data"
    }
   ],
   "source": [
    "2^6  ## 제곱의 다른 형태, 이건 그냥 알아만 두자."
   ]
  },
  {
   "cell_type": "markdown",
   "id": "67085bc1-3042-4dd5-996a-8ab670add576",
   "metadata": {},
   "source": [
    "`-` 행렬, 벡터, 리스트\n",
    "\n",
    "* "
   ]
  },
  {
   "cell_type": "code",
   "execution_count": null,
   "id": "c91dce50-f11b-4e47-b1dd-1c82ac11c432",
   "metadata": {},
   "outputs": [],
   "source": []
  }
 ],
 "metadata": {
  "kernelspec": {
   "display_name": "R",
   "language": "R",
   "name": "ir"
  },
  "language_info": {
   "codemirror_mode": "r",
   "file_extension": ".r",
   "mimetype": "text/x-r-source",
   "name": "R",
   "pygments_lexer": "r",
   "version": "4.3.2"
  }
 },
 "nbformat": 4,
 "nbformat_minor": 5
}
