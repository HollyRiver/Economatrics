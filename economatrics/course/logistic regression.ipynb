{
 "cells": [
  {
   "cell_type": "markdown",
   "id": "68c34813-1998-4ccb-a77d-9f4a624270eb",
   "metadata": {},
   "source": [
    "> `logit_model`에서 `MLE`를 산출하는 방법을 알아보자."
   ]
  },
  {
   "cell_type": "markdown",
   "id": "465d680e-8221-4505-942e-55ea58358f8d",
   "metadata": {},
   "source": [
    "## 1. 데이터 불러오기"
   ]
  },
  {
   "cell_type": "code",
   "execution_count": 13,
   "id": "ad760fbf-7fda-47b3-9f74-53d17428d37a",
   "metadata": {},
   "outputs": [],
   "source": [
    "mroz <- load(\"./data/mroz.RData\")"
   ]
  },
  {
   "cell_type": "code",
   "execution_count": 14,
   "id": "c402c0d7-b8cc-4d32-9b92-bd88e1a9cc4a",
   "metadata": {},
   "outputs": [
    {
     "data": {
      "text/html": [
       "<style>\n",
       ".list-inline {list-style: none; margin:0; padding: 0}\n",
       ".list-inline>li {display: inline-block}\n",
       ".list-inline>li:not(:last-child)::after {content: \"\\00b7\"; padding: 0 .5ex}\n",
       "</style>\n",
       "<ol class=list-inline><li>'data'</li><li>'desc'</li><li>'self'</li></ol>\n"
      ],
      "text/latex": [
       "\\begin{enumerate*}\n",
       "\\item 'data'\n",
       "\\item 'desc'\n",
       "\\item 'self'\n",
       "\\end{enumerate*}\n"
      ],
      "text/markdown": [
       "1. 'data'\n",
       "2. 'desc'\n",
       "3. 'self'\n",
       "\n",
       "\n"
      ],
      "text/plain": [
       "[1] \"data\" \"desc\" \"self\""
      ]
     },
     "metadata": {},
     "output_type": "display_data"
    }
   ],
   "source": [
    "mroz"
   ]
  },
  {
   "cell_type": "markdown",
   "id": "774d0858-c983-4e8d-86cf-dd389c961741",
   "metadata": {},
   "source": [
    "> `.RData` 포맷의 데이터를 불러오게 되면 이렇게 세 가지 변수가 들어오게 되는데 첫째는 데이터고, 둘째는 데이터에 대한 설명(description), 셋째는 파일 이름이 들어온다."
   ]
  },
  {
   "cell_type": "code",
   "execution_count": 15,
   "id": "7d67f766-7d11-46cf-ace8-2170faa5e8d8",
   "metadata": {},
   "outputs": [
    {
     "data": {
      "text/html": [
       "<table class=\"dataframe\">\n",
       "<caption>A data.frame: 6 × 22</caption>\n",
       "<thead>\n",
       "\t<tr><th></th><th scope=col>inlf</th><th scope=col>hours</th><th scope=col>kidslt6</th><th scope=col>kidsge6</th><th scope=col>age</th><th scope=col>educ</th><th scope=col>wage</th><th scope=col>repwage</th><th scope=col>hushrs</th><th scope=col>husage</th><th scope=col>⋯</th><th scope=col>faminc</th><th scope=col>mtr</th><th scope=col>motheduc</th><th scope=col>fatheduc</th><th scope=col>unem</th><th scope=col>city</th><th scope=col>exper</th><th scope=col>nwifeinc</th><th scope=col>lwage</th><th scope=col>expersq</th></tr>\n",
       "\t<tr><th></th><th scope=col>&lt;int&gt;</th><th scope=col>&lt;int&gt;</th><th scope=col>&lt;int&gt;</th><th scope=col>&lt;int&gt;</th><th scope=col>&lt;int&gt;</th><th scope=col>&lt;int&gt;</th><th scope=col>&lt;dbl&gt;</th><th scope=col>&lt;dbl&gt;</th><th scope=col>&lt;int&gt;</th><th scope=col>&lt;int&gt;</th><th scope=col>⋯</th><th scope=col>&lt;dbl&gt;</th><th scope=col>&lt;dbl&gt;</th><th scope=col>&lt;int&gt;</th><th scope=col>&lt;int&gt;</th><th scope=col>&lt;dbl&gt;</th><th scope=col>&lt;int&gt;</th><th scope=col>&lt;int&gt;</th><th scope=col>&lt;dbl&gt;</th><th scope=col>&lt;dbl&gt;</th><th scope=col>&lt;int&gt;</th></tr>\n",
       "</thead>\n",
       "<tbody>\n",
       "\t<tr><th scope=row>1</th><td>1</td><td>1610</td><td>1</td><td>0</td><td>32</td><td>12</td><td>3.3540</td><td>2.65</td><td>2708</td><td>34</td><td>⋯</td><td>16310</td><td>0.7215</td><td>12</td><td> 7</td><td> 5.0</td><td>0</td><td>14</td><td>10.910060</td><td>1.21015370</td><td> 196</td></tr>\n",
       "\t<tr><th scope=row>2</th><td>1</td><td>1656</td><td>0</td><td>2</td><td>30</td><td>12</td><td>1.3889</td><td>2.65</td><td>2310</td><td>30</td><td>⋯</td><td>21800</td><td>0.6615</td><td> 7</td><td> 7</td><td>11.0</td><td>1</td><td> 5</td><td>19.499981</td><td>0.32851210</td><td>  25</td></tr>\n",
       "\t<tr><th scope=row>3</th><td>1</td><td>1980</td><td>1</td><td>3</td><td>35</td><td>12</td><td>4.5455</td><td>4.04</td><td>3072</td><td>40</td><td>⋯</td><td>21040</td><td>0.6915</td><td>12</td><td> 7</td><td> 5.0</td><td>0</td><td>15</td><td>12.039910</td><td>1.51413774</td><td> 225</td></tr>\n",
       "\t<tr><th scope=row>4</th><td>1</td><td> 456</td><td>0</td><td>3</td><td>34</td><td>12</td><td>1.0965</td><td>3.25</td><td>1920</td><td>53</td><td>⋯</td><td> 7300</td><td>0.7815</td><td> 7</td><td> 7</td><td> 5.0</td><td>0</td><td> 6</td><td> 6.799996</td><td>0.09212332</td><td>  36</td></tr>\n",
       "\t<tr><th scope=row>5</th><td>1</td><td>1568</td><td>1</td><td>2</td><td>31</td><td>14</td><td>4.5918</td><td>3.60</td><td>2000</td><td>32</td><td>⋯</td><td>27300</td><td>0.6215</td><td>12</td><td>14</td><td> 9.5</td><td>1</td><td> 7</td><td>20.100058</td><td>1.52427220</td><td>  49</td></tr>\n",
       "\t<tr><th scope=row>6</th><td>1</td><td>2032</td><td>0</td><td>0</td><td>54</td><td>12</td><td>4.7421</td><td>4.70</td><td>1040</td><td>57</td><td>⋯</td><td>19495</td><td>0.6915</td><td>14</td><td> 7</td><td> 7.5</td><td>1</td><td>33</td><td> 9.859054</td><td>1.55648005</td><td>1089</td></tr>\n",
       "</tbody>\n",
       "</table>\n"
      ],
      "text/latex": [
       "A data.frame: 6 × 22\n",
       "\\begin{tabular}{r|lllllllllllllllllllll}\n",
       "  & inlf & hours & kidslt6 & kidsge6 & age & educ & wage & repwage & hushrs & husage & ⋯ & faminc & mtr & motheduc & fatheduc & unem & city & exper & nwifeinc & lwage & expersq\\\\\n",
       "  & <int> & <int> & <int> & <int> & <int> & <int> & <dbl> & <dbl> & <int> & <int> & ⋯ & <dbl> & <dbl> & <int> & <int> & <dbl> & <int> & <int> & <dbl> & <dbl> & <int>\\\\\n",
       "\\hline\n",
       "\t1 & 1 & 1610 & 1 & 0 & 32 & 12 & 3.3540 & 2.65 & 2708 & 34 & ⋯ & 16310 & 0.7215 & 12 &  7 &  5.0 & 0 & 14 & 10.910060 & 1.21015370 &  196\\\\\n",
       "\t2 & 1 & 1656 & 0 & 2 & 30 & 12 & 1.3889 & 2.65 & 2310 & 30 & ⋯ & 21800 & 0.6615 &  7 &  7 & 11.0 & 1 &  5 & 19.499981 & 0.32851210 &   25\\\\\n",
       "\t3 & 1 & 1980 & 1 & 3 & 35 & 12 & 4.5455 & 4.04 & 3072 & 40 & ⋯ & 21040 & 0.6915 & 12 &  7 &  5.0 & 0 & 15 & 12.039910 & 1.51413774 &  225\\\\\n",
       "\t4 & 1 &  456 & 0 & 3 & 34 & 12 & 1.0965 & 3.25 & 1920 & 53 & ⋯ &  7300 & 0.7815 &  7 &  7 &  5.0 & 0 &  6 &  6.799996 & 0.09212332 &   36\\\\\n",
       "\t5 & 1 & 1568 & 1 & 2 & 31 & 14 & 4.5918 & 3.60 & 2000 & 32 & ⋯ & 27300 & 0.6215 & 12 & 14 &  9.5 & 1 &  7 & 20.100058 & 1.52427220 &   49\\\\\n",
       "\t6 & 1 & 2032 & 0 & 0 & 54 & 12 & 4.7421 & 4.70 & 1040 & 57 & ⋯ & 19495 & 0.6915 & 14 &  7 &  7.5 & 1 & 33 &  9.859054 & 1.55648005 & 1089\\\\\n",
       "\\end{tabular}\n"
      ],
      "text/markdown": [
       "\n",
       "A data.frame: 6 × 22\n",
       "\n",
       "| <!--/--> | inlf &lt;int&gt; | hours &lt;int&gt; | kidslt6 &lt;int&gt; | kidsge6 &lt;int&gt; | age &lt;int&gt; | educ &lt;int&gt; | wage &lt;dbl&gt; | repwage &lt;dbl&gt; | hushrs &lt;int&gt; | husage &lt;int&gt; | ⋯ ⋯ | faminc &lt;dbl&gt; | mtr &lt;dbl&gt; | motheduc &lt;int&gt; | fatheduc &lt;int&gt; | unem &lt;dbl&gt; | city &lt;int&gt; | exper &lt;int&gt; | nwifeinc &lt;dbl&gt; | lwage &lt;dbl&gt; | expersq &lt;int&gt; |\n",
       "|---|---|---|---|---|---|---|---|---|---|---|---|---|---|---|---|---|---|---|---|---|---|\n",
       "| 1 | 1 | 1610 | 1 | 0 | 32 | 12 | 3.3540 | 2.65 | 2708 | 34 | ⋯ | 16310 | 0.7215 | 12 |  7 |  5.0 | 0 | 14 | 10.910060 | 1.21015370 |  196 |\n",
       "| 2 | 1 | 1656 | 0 | 2 | 30 | 12 | 1.3889 | 2.65 | 2310 | 30 | ⋯ | 21800 | 0.6615 |  7 |  7 | 11.0 | 1 |  5 | 19.499981 | 0.32851210 |   25 |\n",
       "| 3 | 1 | 1980 | 1 | 3 | 35 | 12 | 4.5455 | 4.04 | 3072 | 40 | ⋯ | 21040 | 0.6915 | 12 |  7 |  5.0 | 0 | 15 | 12.039910 | 1.51413774 |  225 |\n",
       "| 4 | 1 |  456 | 0 | 3 | 34 | 12 | 1.0965 | 3.25 | 1920 | 53 | ⋯ |  7300 | 0.7815 |  7 |  7 |  5.0 | 0 |  6 |  6.799996 | 0.09212332 |   36 |\n",
       "| 5 | 1 | 1568 | 1 | 2 | 31 | 14 | 4.5918 | 3.60 | 2000 | 32 | ⋯ | 27300 | 0.6215 | 12 | 14 |  9.5 | 1 |  7 | 20.100058 | 1.52427220 |   49 |\n",
       "| 6 | 1 | 2032 | 0 | 0 | 54 | 12 | 4.7421 | 4.70 | 1040 | 57 | ⋯ | 19495 | 0.6915 | 14 |  7 |  7.5 | 1 | 33 |  9.859054 | 1.55648005 | 1089 |\n",
       "\n"
      ],
      "text/plain": [
       "  inlf hours kidslt6 kidsge6 age educ wage   repwage hushrs husage ⋯ faminc\n",
       "1 1    1610  1       0       32  12   3.3540 2.65    2708   34     ⋯ 16310 \n",
       "2 1    1656  0       2       30  12   1.3889 2.65    2310   30     ⋯ 21800 \n",
       "3 1    1980  1       3       35  12   4.5455 4.04    3072   40     ⋯ 21040 \n",
       "4 1     456  0       3       34  12   1.0965 3.25    1920   53     ⋯  7300 \n",
       "5 1    1568  1       2       31  14   4.5918 3.60    2000   32     ⋯ 27300 \n",
       "6 1    2032  0       0       54  12   4.7421 4.70    1040   57     ⋯ 19495 \n",
       "  mtr    motheduc fatheduc unem city exper nwifeinc  lwage      expersq\n",
       "1 0.7215 12        7        5.0 0    14    10.910060 1.21015370  196   \n",
       "2 0.6615  7        7       11.0 1     5    19.499981 0.32851210   25   \n",
       "3 0.6915 12        7        5.0 0    15    12.039910 1.51413774  225   \n",
       "4 0.7815  7        7        5.0 0     6     6.799996 0.09212332   36   \n",
       "5 0.6215 12       14        9.5 1     7    20.100058 1.52427220   49   \n",
       "6 0.6915 14        7        7.5 1    33     9.859054 1.55648005 1089   "
      ]
     },
     "metadata": {},
     "output_type": "display_data"
    }
   ],
   "source": [
    "head(data)"
   ]
  },
  {
   "cell_type": "code",
   "execution_count": 21,
   "id": "c78cf24c-de17-41a3-a6c5-1ff991162b2a",
   "metadata": {},
   "outputs": [
    {
     "data": {
      "text/html": [
       "<table class=\"dataframe\">\n",
       "<caption>A data.frame: 22 × 2</caption>\n",
       "<thead>\n",
       "\t<tr><th scope=col>variable</th><th scope=col>label</th></tr>\n",
       "\t<tr><th scope=col>&lt;fct&gt;</th><th scope=col>&lt;fct&gt;</th></tr>\n",
       "</thead>\n",
       "<tbody>\n",
       "\t<tr><td>inlf    </td><td>=1 if in lab frce, 1975        </td></tr>\n",
       "\t<tr><td>hours   </td><td>hours worked, 1975             </td></tr>\n",
       "\t<tr><td>kidslt6 </td><td><span style=white-space:pre-wrap># kids &lt; 6 years               </span></td></tr>\n",
       "\t<tr><td>kidsge6 </td><td># kids 6-18                    </td></tr>\n",
       "\t<tr><td>age     </td><td>woman's age in yrs             </td></tr>\n",
       "\t<tr><td>educ    </td><td>years of schooling             </td></tr>\n",
       "\t<tr><td>wage    </td><td>est. wage from earn, hrs       </td></tr>\n",
       "\t<tr><td>repwage </td><td>rep. wage at interview in 1976 </td></tr>\n",
       "\t<tr><td>hushrs  </td><td>hours worked by husband, 1975  </td></tr>\n",
       "\t<tr><td>husage  </td><td>husband's age                  </td></tr>\n",
       "\t<tr><td>huseduc </td><td>husband's years of schooling   </td></tr>\n",
       "\t<tr><td>huswage </td><td>husband's hourly wage, 1975    </td></tr>\n",
       "\t<tr><td>faminc  </td><td>family income, 1975            </td></tr>\n",
       "\t<tr><td>mtr     </td><td>fed. marg. tax rte facing woman</td></tr>\n",
       "\t<tr><td>motheduc</td><td>mother's years of schooling    </td></tr>\n",
       "\t<tr><td>fatheduc</td><td>father's years of schooling    </td></tr>\n",
       "\t<tr><td>unem    </td><td>unem. rate in county of resid. </td></tr>\n",
       "\t<tr><td>city    </td><td>=1 if live in SMSA             </td></tr>\n",
       "\t<tr><td>exper   </td><td>actual labor mkt exper         </td></tr>\n",
       "\t<tr><td>nwifeinc</td><td>(faminc - wage*hours)/1000     </td></tr>\n",
       "\t<tr><td>lwage   </td><td>log(wage)                      </td></tr>\n",
       "\t<tr><td>expersq </td><td>exper^2                        </td></tr>\n",
       "</tbody>\n",
       "</table>\n"
      ],
      "text/latex": [
       "A data.frame: 22 × 2\n",
       "\\begin{tabular}{ll}\n",
       " variable & label\\\\\n",
       " <fct> & <fct>\\\\\n",
       "\\hline\n",
       "\t inlf     & =1 if in lab frce, 1975        \\\\\n",
       "\t hours    & hours worked, 1975             \\\\\n",
       "\t kidslt6  & \\# kids < 6 years               \\\\\n",
       "\t kidsge6  & \\# kids 6-18                    \\\\\n",
       "\t age      & woman's age in yrs             \\\\\n",
       "\t educ     & years of schooling             \\\\\n",
       "\t wage     & est. wage from earn, hrs       \\\\\n",
       "\t repwage  & rep. wage at interview in 1976 \\\\\n",
       "\t hushrs   & hours worked by husband, 1975  \\\\\n",
       "\t husage   & husband's age                  \\\\\n",
       "\t huseduc  & husband's years of schooling   \\\\\n",
       "\t huswage  & husband's hourly wage, 1975    \\\\\n",
       "\t faminc   & family income, 1975            \\\\\n",
       "\t mtr      & fed. marg. tax rte facing woman\\\\\n",
       "\t motheduc & mother's years of schooling    \\\\\n",
       "\t fatheduc & father's years of schooling    \\\\\n",
       "\t unem     & unem. rate in county of resid. \\\\\n",
       "\t city     & =1 if live in SMSA             \\\\\n",
       "\t exper    & actual labor mkt exper         \\\\\n",
       "\t nwifeinc & (faminc - wage*hours)/1000     \\\\\n",
       "\t lwage    & log(wage)                      \\\\\n",
       "\t expersq  & exper\\textasciicircum{}2                        \\\\\n",
       "\\end{tabular}\n"
      ],
      "text/markdown": [
       "\n",
       "A data.frame: 22 × 2\n",
       "\n",
       "| variable &lt;fct&gt; | label &lt;fct&gt; |\n",
       "|---|---|\n",
       "| inlf     | =1 if in lab frce, 1975         |\n",
       "| hours    | hours worked, 1975              |\n",
       "| kidslt6  | # kids &lt; 6 years                |\n",
       "| kidsge6  | # kids 6-18                     |\n",
       "| age      | woman's age in yrs              |\n",
       "| educ     | years of schooling              |\n",
       "| wage     | est. wage from earn, hrs        |\n",
       "| repwage  | rep. wage at interview in 1976  |\n",
       "| hushrs   | hours worked by husband, 1975   |\n",
       "| husage   | husband's age                   |\n",
       "| huseduc  | husband's years of schooling    |\n",
       "| huswage  | husband's hourly wage, 1975     |\n",
       "| faminc   | family income, 1975             |\n",
       "| mtr      | fed. marg. tax rte facing woman |\n",
       "| motheduc | mother's years of schooling     |\n",
       "| fatheduc | father's years of schooling     |\n",
       "| unem     | unem. rate in county of resid.  |\n",
       "| city     | =1 if live in SMSA              |\n",
       "| exper    | actual labor mkt exper          |\n",
       "| nwifeinc | (faminc - wage*hours)/1000      |\n",
       "| lwage    | log(wage)                       |\n",
       "| expersq  | exper^2                         |\n",
       "\n"
      ],
      "text/plain": [
       "   variable label                          \n",
       "1  inlf     =1 if in lab frce, 1975        \n",
       "2  hours    hours worked, 1975             \n",
       "3  kidslt6  # kids < 6 years               \n",
       "4  kidsge6  # kids 6-18                    \n",
       "5  age      woman's age in yrs             \n",
       "6  educ     years of schooling             \n",
       "7  wage     est. wage from earn, hrs       \n",
       "8  repwage  rep. wage at interview in 1976 \n",
       "9  hushrs   hours worked by husband, 1975  \n",
       "10 husage   husband's age                  \n",
       "11 huseduc  husband's years of schooling   \n",
       "12 huswage  husband's hourly wage, 1975    \n",
       "13 faminc   family income, 1975            \n",
       "14 mtr      fed. marg. tax rte facing woman\n",
       "15 motheduc mother's years of schooling    \n",
       "16 fatheduc father's years of schooling    \n",
       "17 unem     unem. rate in county of resid. \n",
       "18 city     =1 if live in SMSA             \n",
       "19 exper    actual labor mkt exper         \n",
       "20 nwifeinc (faminc - wage*hours)/1000     \n",
       "21 lwage    log(wage)                      \n",
       "22 expersq  exper^2                        "
      ]
     },
     "metadata": {},
     "output_type": "display_data"
    }
   ],
   "source": [
    "desc"
   ]
  },
  {
   "cell_type": "markdown",
   "id": "865fa218-cbbd-4fce-b106-5fb2a85eaec0",
   "metadata": {},
   "source": [
    "## 2. 분석"
   ]
  },
  {
   "cell_type": "markdown",
   "id": "0e0f80d0-5b03-428b-a0e3-b484f2929171",
   "metadata": {},
   "source": [
    "`data`에서 반응변수는 `inlf`, 이것은 노동력(lab force)에 속하는 지 여부를 나타낸다. 즉, `binary choice model`로 분석해야 하며 해당 분석에 필요한 몇 가지 함수들을 정의하고자 한다."
   ]
  },
  {
   "cell_type": "markdown",
   "id": "2920d0eb-93dc-41f5-95e2-be7e268144fb",
   "metadata": {},
   "source": [
    "### **A. 로짓 함수**\n",
    "---\n",
    "\n",
    "\n"
   ]
  },
  {
   "cell_type": "markdown",
   "id": "aee5feee-2720-41ce-9a4a-0273726212d5",
   "metadata": {},
   "source": [
    "`-` 반응변수가 범주형일 경우 선형 확률 모형으로 모형을 구축하는 것은 직관적으로 이해하기에 편리하지만, 추정한 확률값이 0과 1 사이를 벗어날 수도 있으며 논리적으로 불가능한 한계효과 값을 얻을 수 있다.\n",
    "\n",
    "따라서 확률값을 나타낼 새로운 변환을 고려해야 하는데, 이것이 바로 로짓 모형이다."
   ]
  },
  {
   "cell_type": "code",
   "execution_count": 22,
   "id": "0860527a-9068-4581-944a-eb34a341e4d2",
   "metadata": {},
   "outputs": [],
   "source": [
    "G <- function(z) {\n",
    "    exp(z)/(1+exp(z))\n",
    "}"
   ]
  },
  {
   "cell_type": "code",
   "execution_count": 59,
   "id": "996835d5-c0a8-4a9d-8217-4bb0f6282fe6",
   "metadata": {},
   "outputs": [
    {
     "data": {
      "image/png": "[encoded data removed]",
      "text/plain": [
       "Plot with title “logit model”"
      ]
     },
     "metadata": {
      "image/png": {
       "height": 420,
       "width": 420
      }
     },
     "output_type": "display_data"
    }
   ],
   "source": [
    "x <- seq(-6, 6, by = 0.01)\n",
    "y <- G(x)\n",
    "\n",
    "plot(y~x, pch = 16, cex = 0.5, col = 'red', main = 'logit model')\n",
    "legend(x = 'bottomright', legend = c('1'), col = c('red'), lty = 1, cex = 2)"
   ]
  },
  {
   "cell_type": "markdown",
   "id": "c6dd7643-8a4a-435f-aced-4b8cad25aeda",
   "metadata": {},
   "source": [
    "> 이런식으로 확률값이 0에서 1사이에 있게 만들 수 있다."
   ]
  },
  {
   "cell_type": "markdown",
   "id": "fa2ccf03-6aa7-443a-b092-59c108b1c6a2",
   "metadata": {},
   "source": [
    "### **B. 가능도 함수**\n",
    "---\n",
    "\n",
    "\n"
   ]
  },
  {
   "cell_type": "markdown",
   "id": "454001b6-1cf8-4a6a-9554-77a50ace84bd",
   "metadata": {},
   "source": [
    "`-` 로짓 모형을 확률값으로 두고, 베르누이 분포를 따르는 확률변수를 가져온다면 다음과 같이 가능도함수를 정의할 수 있다."
   ]
  },
  {
   "cell_type": "code",
   "execution_count": 62,
   "id": "494cafe5-0502-4ddf-9226-99efa4005b91",
   "metadata": {},
   "outputs": [],
   "source": [
    "logit_mle <- function(theta_start) {\n",
    "    X_beta = theta_start[1] + theta_start[2]*X1 + theta_start[3]*X2\n",
    "    sum(-y*log(G(X_beta)) - (1-y)*log(1-G(X_beta)))\n",
    "}"
   ]
  },
  {
   "cell_type": "markdown",
   "id": "0815fb61-793e-4b8c-9482-ff00b8521285",
   "metadata": {},
   "source": [
    "> 로그 가능도 함수에 음수를 취한 값이며, 변수인 `theta_start`는 초깃값으로 뉴턴랩슨 알고리즘을 돌리기 위해 지정한 것이다."
   ]
  },
  {
   "cell_type": "markdown",
   "id": "7046fc02-c642-4f98-8747-353953809280",
   "metadata": {},
   "source": [
    "### **C. 최대가능도 추정량 산출**\n",
    "---\n",
    "\n",
    "\n"
   ]
  },
  {
   "cell_type": "markdown",
   "id": "acebfb0e-bf56-4eb0-9c50-13e6ef299377",
   "metadata": {},
   "source": [
    "`-` 뉴턴랩슨 방법은 특이한 방법으로 베타의 해가 되는 근삿값을 찾아준다. 이것을 사용하는 방식은 다음과 같다."
   ]
  },
  {
   "cell_type": "code",
   "execution_count": 61,
   "id": "a13c7532-9e69-4cb7-9b4a-d0a5d91c8d3b",
   "metadata": {},
   "outputs": [
    {
     "ename": "ERROR",
     "evalue": "Error in match.arg(method): 'arg' should be one of “Nelder-Mead”, “BFGS”, “CG”, “L-BFGS-B”, “SANN”, “Brent”\n",
     "output_type": "error",
     "traceback": [
      "Error in match.arg(method): 'arg' should be one of “Nelder-Mead”, “BFGS”, “CG”, “L-BFGS-B”, “SANN”, “Brent”\nTraceback:\n",
      "1. optim(theta_start = c(1, 2, 3), logit_mle, method = \"BGRS\", hessian = TRUE)",
      "2. match.arg(method)",
      "3. stop(sprintf(ngettext(length(chs <- unique(choices[nzchar(choices)])), \n .     \"'arg' should be %s\", \"'arg' should be one of %s\"), paste(dQuote(chs), \n .     collapse = \", \")), domain = NA)"
     ]
    }
   ],
   "source": [
    "model <- optim(theta_start = c(1,2,3),\n",
    "              logit_mle,\n",
    "              method = 'BGRS',\n",
    "              hessian = TRUE)"
   ]
  },
  {
   "cell_type": "code",
   "execution_count": null,
   "id": "0e1cde3a-0b2d-49e0-a29e-ee4cba051e7e",
   "metadata": {},
   "outputs": [],
   "source": []
  }
 ],
 "metadata": {
  "kernelspec": {
   "display_name": "R",
   "language": "R",
   "name": "ir"
  },
  "language_info": {
   "codemirror_mode": "r",
   "file_extension": ".r",
   "mimetype": "text/x-r-source",
   "name": "R",
   "pygments_lexer": "r",
   "version": "4.3.2"
  }
 },
 "nbformat": 4,
 "nbformat_minor": 5
}
