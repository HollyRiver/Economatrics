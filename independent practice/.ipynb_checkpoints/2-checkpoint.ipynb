{
 "cells": [
  {
   "cell_type": "markdown",
   "id": "f5165bc9-507c-4878-b07f-5da27c0ebc47",
   "metadata": {},
   "source": [
    "## R 연습(2장 : 자료형)"
   ]
  },
  {
   "cell_type": "markdown",
   "id": "a19ea9cb-9ea9-412f-8572-96dba3e5b5d0",
   "metadata": {},
   "source": [
    "### 1. 상수(atomic) 데이터 객체"
   ]
  },
  {
   "cell_type": "markdown",
   "id": "a3f70910-b394-4068-b39f-e90c792ab949",
   "metadata": {},
   "source": [
    "* `double(float)`"
   ]
  },
  {
   "cell_type": "code",
   "execution_count": 5,
   "id": "7905ef40-4dd9-4779-856e-a7ca92e91ab0",
   "metadata": {},
   "outputs": [
    {
     "data": {
      "text/html": [
       "'double'"
      ],
      "text/latex": [
       "'double'"
      ],
      "text/markdown": [
       "'double'"
      ],
      "text/plain": [
       "[1] \"double\""
      ]
     },
     "metadata": {},
     "output_type": "display_data"
    }
   ],
   "source": [
    "typeof(10)"
   ]
  },
  {
   "cell_type": "markdown",
   "id": "200cd786-6678-493a-9ee9-d5b27ef35540",
   "metadata": {},
   "source": [
    "> R에서는 허수가 아닌 모든 수를 실수로 선언한다."
   ]
  },
  {
   "cell_type": "markdown",
   "id": "04093f76-48e9-4c5d-89ff-327e2bfa603b",
   "metadata": {},
   "source": [
    "* `integer`"
   ]
  },
  {
   "cell_type": "code",
   "execution_count": 7,
   "id": "9f351d9a-4578-4a42-ada9-856a6c0d89c7",
   "metadata": {},
   "outputs": [
    {
     "data": {
      "text/html": [
       "'integer'"
      ],
      "text/latex": [
       "'integer'"
      ],
      "text/markdown": [
       "'integer'"
      ],
      "text/plain": [
       "[1] \"integer\""
      ]
     },
     "metadata": {},
     "output_type": "display_data"
    }
   ],
   "source": [
    "typeof(10L)  ## L을 붙여야 정수형으로 받아들임(f의 반대)"
   ]
  },
  {
   "cell_type": "markdown",
   "id": "b4b9b1ea-2d02-4609-af6e-ea62c75d8a71",
   "metadata": {},
   "source": [
    "*  character(string)"
   ]
  },
  {
   "cell_type": "code",
   "execution_count": 8,
   "id": "95d3625a-4cac-4f20-8030-651e435d4413",
   "metadata": {},
   "outputs": [
    {
     "data": {
      "text/html": [
       "'character'"
      ],
      "text/latex": [
       "'character'"
      ],
      "text/markdown": [
       "'character'"
      ],
      "text/plain": [
       "[1] \"character\""
      ]
     },
     "metadata": {},
     "output_type": "display_data"
    },
    {
     "data": {
      "text/html": [
       "'character'"
      ],
      "text/latex": [
       "'character'"
      ],
      "text/markdown": [
       "'character'"
      ],
      "text/plain": [
       "[1] \"character\""
      ]
     },
     "metadata": {},
     "output_type": "display_data"
    }
   ],
   "source": [
    "typeof(\"string\")\n",
    "typeof('character')"
   ]
  },
  {
   "cell_type": "markdown",
   "id": "0ef7b0bc-d5dc-4404-83bc-eb48cc9dd193",
   "metadata": {},
   "source": [
    "* logical(bool)"
   ]
  },
  {
   "cell_type": "code",
   "execution_count": 9,
   "id": "24882b9d-e068-4988-85fc-a821faa39739",
   "metadata": {},
   "outputs": [
    {
     "data": {
      "text/html": [
       "'logical'"
      ],
      "text/latex": [
       "'logical'"
      ],
      "text/markdown": [
       "'logical'"
      ],
      "text/plain": [
       "[1] \"logical\""
      ]
     },
     "metadata": {},
     "output_type": "display_data"
    }
   ],
   "source": [
    "typeof(2 < 4)"
   ]
  },
  {
   "cell_type": "markdown",
   "id": "3f0bc4d4-fe88-49bb-ad10-49cdca62fb02",
   "metadata": {},
   "source": [
    "### 2. 벡터(vector) 데이터 객체"
   ]
  },
  {
   "cell_type": "markdown",
   "id": "fd2e9d3a-6ca4-4e33-8fc7-e4727146d946",
   "metadata": {},
   "source": [
    "- 하나 이상의 원소로 이뤄져 있으며, 각 원소는 타입이 동일해진다."
   ]
  },
  {
   "cell_type": "code",
   "execution_count": 13,
   "id": "93ffa0c5-8d6a-4f99-8b14-0b033d08a8a6",
   "metadata": {},
   "outputs": [
    {
     "name": "stdout",
     "output_type": "stream",
     "text": [
      " [1] \"1\"   \"2\"   \"3\"   \"4\"   \"Aaa\" \"Bbb\" \"Ccc\" \"10\"  \"11\"  \"12\"  \"13\"  \"14\" \n",
      "[13] \"15\"  \"1\"   \"2\"   \"3\"   \"4\"   \"0\"   \"Aaa\" \"Bbb\" \"Ccc\"\n"
     ]
    }
   ],
   "source": [
    "x1 <- c(1,2,3,4)  ## Double vector\n",
    "x2 <- c(\"Aaa\", \"Bbb\", \"Ccc\")  ## Character vector\n",
    "x3 <- 10:15  ## Create seqence vector ; 파이썬과 다르게 끝 정수까지 포함하여 수열 생성\n",
    "y <- c(x1, 0, x2)  ## Binding serveral vectors\n",
    "\n",
    "print(c(x1, x2, x3, y))"
   ]
  },
  {
   "cell_type": "code",
   "execution_count": null,
   "id": "be655621-dc63-4cc0-8e9d-e5815c370dbd",
   "metadata": {},
   "outputs": [],
   "source": []
  }
 ],
 "metadata": {
  "kernelspec": {
   "display_name": "R",
   "language": "R",
   "name": "ir"
  },
  "language_info": {
   "codemirror_mode": "r",
   "file_extension": ".r",
   "mimetype": "text/x-r-source",
   "name": "R",
   "pygments_lexer": "r",
   "version": "4.3.2"
  }
 },
 "nbformat": 4,
 "nbformat_minor": 5
}
