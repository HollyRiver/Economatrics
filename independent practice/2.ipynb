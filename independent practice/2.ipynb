{
 "cells": [
  {
   "cell_type": "markdown",
   "id": "f5165bc9-507c-4878-b07f-5da27c0ebc47",
   "metadata": {},
   "source": [
    "## R 연습(2장 : 자료형)"
   ]
  },
  {
   "cell_type": "markdown",
   "id": "a19ea9cb-9ea9-412f-8572-96dba3e5b5d0",
   "metadata": {},
   "source": [
    "### 1. 상수(atomic) 데이터 객체"
   ]
  },
  {
   "cell_type": "markdown",
   "id": "a3f70910-b394-4068-b39f-e90c792ab949",
   "metadata": {},
   "source": [
    "* `double(float)`"
   ]
  },
  {
   "cell_type": "code",
   "execution_count": 5,
   "id": "7905ef40-4dd9-4779-856e-a7ca92e91ab0",
   "metadata": {},
   "outputs": [
    {
     "data": {
      "text/html": [
       "'double'"
      ],
      "text/latex": [
       "'double'"
      ],
      "text/markdown": [
       "'double'"
      ],
      "text/plain": [
       "[1] \"double\""
      ]
     },
     "metadata": {},
     "output_type": "display_data"
    }
   ],
   "source": [
    "typeof(10)"
   ]
  },
  {
   "cell_type": "markdown",
   "id": "200cd786-6678-493a-9ee9-d5b27ef35540",
   "metadata": {},
   "source": [
    "> R에서는 허수가 아닌 모든 수를 실수로 선언한다."
   ]
  },
  {
   "cell_type": "markdown",
   "id": "04093f76-48e9-4c5d-89ff-327e2bfa603b",
   "metadata": {},
   "source": [
    "* `integer`"
   ]
  },
  {
   "cell_type": "code",
   "execution_count": 7,
   "id": "9f351d9a-4578-4a42-ada9-856a6c0d89c7",
   "metadata": {},
   "outputs": [
    {
     "data": {
      "text/html": [
       "'integer'"
      ],
      "text/latex": [
       "'integer'"
      ],
      "text/markdown": [
       "'integer'"
      ],
      "text/plain": [
       "[1] \"integer\""
      ]
     },
     "metadata": {},
     "output_type": "display_data"
    }
   ],
   "source": [
    "typeof(10L)  ## L을 붙여야 정수형으로 받아들임(f의 반대)"
   ]
  },
  {
   "cell_type": "markdown",
   "id": "b4b9b1ea-2d02-4609-af6e-ea62c75d8a71",
   "metadata": {},
   "source": [
    "*  character(string)"
   ]
  },
  {
   "cell_type": "code",
   "execution_count": 8,
   "id": "95d3625a-4cac-4f20-8030-651e435d4413",
   "metadata": {},
   "outputs": [
    {
     "data": {
      "text/html": [
       "'character'"
      ],
      "text/latex": [
       "'character'"
      ],
      "text/markdown": [
       "'character'"
      ],
      "text/plain": [
       "[1] \"character\""
      ]
     },
     "metadata": {},
     "output_type": "display_data"
    },
    {
     "data": {
      "text/html": [
       "'character'"
      ],
      "text/latex": [
       "'character'"
      ],
      "text/markdown": [
       "'character'"
      ],
      "text/plain": [
       "[1] \"character\""
      ]
     },
     "metadata": {},
     "output_type": "display_data"
    }
   ],
   "source": [
    "typeof(\"string\")\n",
    "typeof('character')"
   ]
  },
  {
   "cell_type": "markdown",
   "id": "0ef7b0bc-d5dc-4404-83bc-eb48cc9dd193",
   "metadata": {},
   "source": [
    "* logical(bool)"
   ]
  },
  {
   "cell_type": "code",
   "execution_count": 9,
   "id": "24882b9d-e068-4988-85fc-a821faa39739",
   "metadata": {},
   "outputs": [
    {
     "data": {
      "text/html": [
       "'logical'"
      ],
      "text/latex": [
       "'logical'"
      ],
      "text/markdown": [
       "'logical'"
      ],
      "text/plain": [
       "[1] \"logical\""
      ]
     },
     "metadata": {},
     "output_type": "display_data"
    }
   ],
   "source": [
    "typeof(2 < 4)"
   ]
  },
  {
   "cell_type": "markdown",
   "id": "3f0bc4d4-fe88-49bb-ad10-49cdca62fb02",
   "metadata": {},
   "source": [
    "### 2. 벡터(vector) 데이터 객체"
   ]
  },
  {
   "cell_type": "markdown",
   "id": "fd2e9d3a-6ca4-4e33-8fc7-e4727146d946",
   "metadata": {},
   "source": [
    "- 하나 이상의 원소로 이뤄져 있으며, 각 원소는 타입이 동일해진다."
   ]
  },
  {
   "cell_type": "code",
   "execution_count": 13,
   "id": "93ffa0c5-8d6a-4f99-8b14-0b033d08a8a6",
   "metadata": {},
   "outputs": [
    {
     "name": "stdout",
     "output_type": "stream",
     "text": [
      " [1] \"1\"   \"2\"   \"3\"   \"4\"   \"Aaa\" \"Bbb\" \"Ccc\" \"10\"  \"11\"  \"12\"  \"13\"  \"14\" \n",
      "[13] \"15\"  \"1\"   \"2\"   \"3\"   \"4\"   \"0\"   \"Aaa\" \"Bbb\" \"Ccc\"\n"
     ]
    }
   ],
   "source": [
    "x1 <- c(1,2,3,4)  ## Double vector\n",
    "x2 <- c(\"Aaa\", \"Bbb\", \"Ccc\")  ## Character vector\n",
    "x3 <- 10:15  ## Create seqence vector ; 파이썬과 다르게 끝 정수까지 포함하여 수열 생성\n",
    "y <- c(x1, 0, x2)  ## Binding serveral vectors\n",
    "\n",
    "print(c(x1, x2, x3, y))  ## 결합된 벡터의 자료형이 character로 변환됨"
   ]
  },
  {
   "cell_type": "markdown",
   "id": "a3448430-8b7e-425a-bd18-57b083aaf702",
   "metadata": {},
   "source": [
    "* `rep`(repeat) : 같은 수의 반복"
   ]
  },
  {
   "cell_type": "code",
   "execution_count": 21,
   "id": "29f5c170-df39-4bc6-8f1e-23f57cc5ae98",
   "metadata": {},
   "outputs": [
    {
     "name": "stdout",
     "output_type": "stream",
     "text": [
      " [1] 2 2 2 2 2 2 2 2 2 2\n",
      " [1] 1 1 1 1 1 2 2 2 2 2\n"
     ]
    }
   ],
   "source": [
    "print(rep(2, 10))\n",
    "print(rep(c(1, 2), each = 5))  ## each를 활용하여 벡터의 각 원소마다 반복 횟수를 지정"
   ]
  },
  {
   "cell_type": "markdown",
   "id": "3a639a2f-f92d-4ffb-89a5-e52e9787569f",
   "metadata": {},
   "source": [
    "* `seq`(sequence) : 등차 수열"
   ]
  },
  {
   "cell_type": "code",
   "execution_count": 23,
   "id": "26a55c0e-09ab-4965-96a1-459a6b9f5b75",
   "metadata": {},
   "outputs": [
    {
     "name": "stdout",
     "output_type": "stream",
     "text": [
      " [1] 0.0 0.1 0.2 0.3 0.4 0.5 0.6 0.7 0.8 0.9 1.0\n",
      " [1] 0.0 0.1 0.2 0.3 0.4 0.5 0.6 0.7 0.8 0.9 1.0\n"
     ]
    }
   ],
   "source": [
    "print(seq(0, 1, length = 11))\n",
    "print(seq(0, 1, by = 0.1))"
   ]
  },
  {
   "cell_type": "markdown",
   "id": "1a9a9c3f-269e-4276-bd96-d2b56be36bbf",
   "metadata": {},
   "source": [
    "* 자료형을 벡터로 할당"
   ]
  },
  {
   "cell_type": "code",
   "execution_count": 27,
   "id": "5e62d3b0-5169-4f6c-8bd2-49bba33cbcf6",
   "metadata": {},
   "outputs": [
    {
     "data": {
      "text/html": [
       "<style>\n",
       ".list-inline {list-style: none; margin:0; padding: 0}\n",
       ".list-inline>li {display: inline-block}\n",
       ".list-inline>li:not(:last-child)::after {content: \"\\00b7\"; padding: 0 .5ex}\n",
       "</style>\n",
       "<ol class=list-inline><li>''</li><li>''</li><li>''</li><li>''</li><li>''</li><li>''</li><li>''</li><li>''</li><li>''</li><li>''</li></ol>\n"
      ],
      "text/latex": [
       "\\begin{enumerate*}\n",
       "\\item ''\n",
       "\\item ''\n",
       "\\item ''\n",
       "\\item ''\n",
       "\\item ''\n",
       "\\item ''\n",
       "\\item ''\n",
       "\\item ''\n",
       "\\item ''\n",
       "\\item ''\n",
       "\\end{enumerate*}\n"
      ],
      "text/markdown": [
       "1. ''\n",
       "2. ''\n",
       "3. ''\n",
       "4. ''\n",
       "5. ''\n",
       "6. ''\n",
       "7. ''\n",
       "8. ''\n",
       "9. ''\n",
       "10. ''\n",
       "\n",
       "\n"
      ],
      "text/plain": [
       " [1] \"\" \"\" \"\" \"\" \"\" \"\" \"\" \"\" \"\" \"\""
      ]
     },
     "metadata": {},
     "output_type": "display_data"
    }
   ],
   "source": [
    "character(length = 10)"
   ]
  },
  {
   "cell_type": "code",
   "execution_count": 29,
   "id": "fedb0487-32c9-476d-801b-2a05034c9a2d",
   "metadata": {},
   "outputs": [
    {
     "data": {
      "text/html": [
       "<style>\n",
       ".list-inline {list-style: none; margin:0; padding: 0}\n",
       ".list-inline>li {display: inline-block}\n",
       ".list-inline>li:not(:last-child)::after {content: \"\\00b7\"; padding: 0 .5ex}\n",
       "</style>\n",
       "<ol class=list-inline><li>0</li><li>0</li><li>0</li><li>0</li><li>0</li><li>0</li><li>0</li><li>0</li><li>0</li><li>0</li></ol>\n"
      ],
      "text/latex": [
       "\\begin{enumerate*}\n",
       "\\item 0\n",
       "\\item 0\n",
       "\\item 0\n",
       "\\item 0\n",
       "\\item 0\n",
       "\\item 0\n",
       "\\item 0\n",
       "\\item 0\n",
       "\\item 0\n",
       "\\item 0\n",
       "\\end{enumerate*}\n"
      ],
      "text/markdown": [
       "1. 0\n",
       "2. 0\n",
       "3. 0\n",
       "4. 0\n",
       "5. 0\n",
       "6. 0\n",
       "7. 0\n",
       "8. 0\n",
       "9. 0\n",
       "10. 0\n",
       "\n",
       "\n"
      ],
      "text/plain": [
       " [1] 0 0 0 0 0 0 0 0 0 0"
      ]
     },
     "metadata": {},
     "output_type": "display_data"
    }
   ],
   "source": [
    "double(10)"
   ]
  },
  {
   "cell_type": "code",
   "execution_count": 30,
   "id": "3c0f7b76-9bc9-4295-967f-7c0227e2bf49",
   "metadata": {},
   "outputs": [
    {
     "data": {
      "text/html": [
       "<style>\n",
       ".list-inline {list-style: none; margin:0; padding: 0}\n",
       ".list-inline>li {display: inline-block}\n",
       ".list-inline>li:not(:last-child)::after {content: \"\\00b7\"; padding: 0 .5ex}\n",
       "</style>\n",
       "<ol class=list-inline><li>FALSE</li><li>FALSE</li><li>FALSE</li><li>FALSE</li><li>FALSE</li><li>FALSE</li><li>FALSE</li><li>FALSE</li><li>FALSE</li><li>FALSE</li></ol>\n"
      ],
      "text/latex": [
       "\\begin{enumerate*}\n",
       "\\item FALSE\n",
       "\\item FALSE\n",
       "\\item FALSE\n",
       "\\item FALSE\n",
       "\\item FALSE\n",
       "\\item FALSE\n",
       "\\item FALSE\n",
       "\\item FALSE\n",
       "\\item FALSE\n",
       "\\item FALSE\n",
       "\\end{enumerate*}\n"
      ],
      "text/markdown": [
       "1. FALSE\n",
       "2. FALSE\n",
       "3. FALSE\n",
       "4. FALSE\n",
       "5. FALSE\n",
       "6. FALSE\n",
       "7. FALSE\n",
       "8. FALSE\n",
       "9. FALSE\n",
       "10. FALSE\n",
       "\n",
       "\n"
      ],
      "text/plain": [
       " [1] FALSE FALSE FALSE FALSE FALSE FALSE FALSE FALSE FALSE FALSE"
      ]
     },
     "metadata": {},
     "output_type": "display_data"
    }
   ],
   "source": [
    "logical(10)"
   ]
  },
  {
   "cell_type": "markdown",
   "id": "2491ef55-a1f3-4818-8064-e5820e7bf26b",
   "metadata": {},
   "source": [
    "* 벡터의 클래스\n",
    "\n",
    "> `numeric` : 연속형\n",
    "> \n",
    "> `factor` : 범주형\n",
    "> \n",
    "> `ordered` : 순서있는 범주형"
   ]
  },
  {
   "cell_type": "code",
   "execution_count": 38,
   "id": "96f0e5a5-c23c-4800-b64f-7b4a785ae2ea",
   "metadata": {},
   "outputs": [
    {
     "data": {
      "text/html": [
       "<style>\n",
       ".list-inline {list-style: none; margin:0; padding: 0}\n",
       ".list-inline>li {display: inline-block}\n",
       ".list-inline>li:not(:last-child)::after {content: \"\\00b7\"; padding: 0 .5ex}\n",
       "</style>\n",
       "<ol class=list-inline><li>1</li><li>2</li><li>3</li><li>4</li><li>5</li><li>6</li><li>7</li><li>8</li><li>9</li><li>10</li></ol>\n",
       "\n",
       "<details>\n",
       "\t<summary style=display:list-item;cursor:pointer>\n",
       "\t\t<strong>Levels</strong>:\n",
       "\t</summary>\n",
       "\t<style>\n",
       "\t.list-inline {list-style: none; margin:0; padding: 0}\n",
       "\t.list-inline>li {display: inline-block}\n",
       "\t.list-inline>li:not(:last-child)::after {content: \"\\00b7\"; padding: 0 .5ex}\n",
       "\t</style>\n",
       "\t<ol class=list-inline><li>'1'</li><li>'2'</li><li>'3'</li><li>'4'</li><li>'5'</li><li>'6'</li><li>'7'</li><li>'8'</li><li>'9'</li><li>'10'</li></ol>\n",
       "</details>"
      ],
      "text/latex": [
       "\\begin{enumerate*}\n",
       "\\item 1\n",
       "\\item 2\n",
       "\\item 3\n",
       "\\item 4\n",
       "\\item 5\n",
       "\\item 6\n",
       "\\item 7\n",
       "\\item 8\n",
       "\\item 9\n",
       "\\item 10\n",
       "\\end{enumerate*}\n",
       "\n",
       "\\emph{Levels}: \\begin{enumerate*}\n",
       "\\item '1'\n",
       "\\item '2'\n",
       "\\item '3'\n",
       "\\item '4'\n",
       "\\item '5'\n",
       "\\item '6'\n",
       "\\item '7'\n",
       "\\item '8'\n",
       "\\item '9'\n",
       "\\item '10'\n",
       "\\end{enumerate*}\n"
      ],
      "text/markdown": [
       "1. 1\n",
       "2. 2\n",
       "3. 3\n",
       "4. 4\n",
       "5. 5\n",
       "6. 6\n",
       "7. 7\n",
       "8. 8\n",
       "9. 9\n",
       "10. 10\n",
       "\n",
       "\n",
       "\n",
       "**Levels**: 1. '1'\n",
       "2. '2'\n",
       "3. '3'\n",
       "4. '4'\n",
       "5. '5'\n",
       "6. '6'\n",
       "7. '7'\n",
       "8. '8'\n",
       "9. '9'\n",
       "10. '10'\n",
       "\n",
       "\n"
      ],
      "text/plain": [
       " [1] 1  2  3  4  5  6  7  8  9  10\n",
       "Levels: 1 2 3 4 5 6 7 8 9 10"
      ]
     },
     "metadata": {},
     "output_type": "display_data"
    }
   ],
   "source": [
    "factor(1:10)"
   ]
  },
  {
   "cell_type": "markdown",
   "id": "411cba8b-c8f9-4706-aa6f-e706b27c021c",
   "metadata": {},
   "source": [
    "* 벡터의 이용"
   ]
  },
  {
   "cell_type": "code",
   "execution_count": 57,
   "id": "f547e0dc-bf86-4200-bee9-9baf2dafaaa6",
   "metadata": {},
   "outputs": [
    {
     "name": "stdout",
     "output_type": "stream",
     "text": [
      "[1] 10  7\n",
      "a c \n",
      "1 7 \n"
     ]
    }
   ],
   "source": [
    "x <- c(1, 10, 7)\n",
    "print(x[c(2:3)])  ## 2~3번째 인덱스 원소를 호출\n",
    "\n",
    "y <- c(a = 1, b = 10, c = 7)  ## 컴포넌트 이름 지정\n",
    "print(y[c(\"a\", \"c\")])"
   ]
  },
  {
   "cell_type": "markdown",
   "id": "5b56842d-55f8-40e2-aece-5694caa5610a",
   "metadata": {},
   "source": [
    "### 3. 행렬(matrix) 데이터 객채"
   ]
  },
  {
   "cell_type": "code",
   "execution_count": 46,
   "id": "2b60db49-e65f-4e0b-8746-80f2dd8a4b65",
   "metadata": {},
   "outputs": [
    {
     "data": {
      "text/html": [
       "<table class=\"dataframe\">\n",
       "<caption>A matrix: 4 × 3 of type dbl</caption>\n",
       "<tbody>\n",
       "\t<tr><td> 2</td><td> 3</td><td> 5</td></tr>\n",
       "\t<tr><td>12</td><td>31</td><td> 5</td></tr>\n",
       "\t<tr><td> 5</td><td>13</td><td> 7</td></tr>\n",
       "\t<tr><td> 6</td><td>35</td><td>72</td></tr>\n",
       "</tbody>\n",
       "</table>\n"
      ],
      "text/latex": [
       "A matrix: 4 × 3 of type dbl\n",
       "\\begin{tabular}{lll}\n",
       "\t  2 &  3 &  5\\\\\n",
       "\t 12 & 31 &  5\\\\\n",
       "\t  5 & 13 &  7\\\\\n",
       "\t  6 & 35 & 72\\\\\n",
       "\\end{tabular}\n"
      ],
      "text/markdown": [
       "\n",
       "A matrix: 4 × 3 of type dbl\n",
       "\n",
       "|  2 |  3 |  5 |\n",
       "| 12 | 31 |  5 |\n",
       "|  5 | 13 |  7 |\n",
       "|  6 | 35 | 72 |\n",
       "\n"
      ],
      "text/plain": [
       "     [,1] [,2] [,3]\n",
       "[1,]  2    3    5  \n",
       "[2,] 12   31    5  \n",
       "[3,]  5   13    7  \n",
       "[4,]  6   35   72  "
      ]
     },
     "metadata": {},
     "output_type": "display_data"
    }
   ],
   "source": [
    "A <- matrix(c(2,12,5,6,3,31,13,35,5,5,7,72), ncol=3); A"
   ]
  },
  {
   "cell_type": "code",
   "execution_count": 47,
   "id": "de5f7abe-320c-4e13-93d5-5cb79a174bd2",
   "metadata": {},
   "outputs": [
    {
     "data": {
      "text/html": [
       "<table class=\"dataframe\">\n",
       "<caption>A matrix: 5 × 5 of type dbl</caption>\n",
       "<tbody>\n",
       "\t<tr><td>1</td><td>0</td><td>0</td><td>0</td><td>0</td></tr>\n",
       "\t<tr><td>0</td><td>1</td><td>0</td><td>0</td><td>0</td></tr>\n",
       "\t<tr><td>0</td><td>0</td><td>1</td><td>0</td><td>0</td></tr>\n",
       "\t<tr><td>0</td><td>0</td><td>0</td><td>1</td><td>0</td></tr>\n",
       "\t<tr><td>0</td><td>0</td><td>0</td><td>0</td><td>1</td></tr>\n",
       "</tbody>\n",
       "</table>\n"
      ],
      "text/latex": [
       "A matrix: 5 × 5 of type dbl\n",
       "\\begin{tabular}{lllll}\n",
       "\t 1 & 0 & 0 & 0 & 0\\\\\n",
       "\t 0 & 1 & 0 & 0 & 0\\\\\n",
       "\t 0 & 0 & 1 & 0 & 0\\\\\n",
       "\t 0 & 0 & 0 & 1 & 0\\\\\n",
       "\t 0 & 0 & 0 & 0 & 1\\\\\n",
       "\\end{tabular}\n"
      ],
      "text/markdown": [
       "\n",
       "A matrix: 5 × 5 of type dbl\n",
       "\n",
       "| 1 | 0 | 0 | 0 | 0 |\n",
       "| 0 | 1 | 0 | 0 | 0 |\n",
       "| 0 | 0 | 1 | 0 | 0 |\n",
       "| 0 | 0 | 0 | 1 | 0 |\n",
       "| 0 | 0 | 0 | 0 | 1 |\n",
       "\n"
      ],
      "text/plain": [
       "     [,1] [,2] [,3] [,4] [,5]\n",
       "[1,] 1    0    0    0    0   \n",
       "[2,] 0    1    0    0    0   \n",
       "[3,] 0    0    1    0    0   \n",
       "[4,] 0    0    0    1    0   \n",
       "[5,] 0    0    0    0    1   "
      ]
     },
     "metadata": {},
     "output_type": "display_data"
    }
   ],
   "source": [
    "X1 <- diag(1, 5); X1"
   ]
  },
  {
   "cell_type": "code",
   "execution_count": 48,
   "id": "4c6ca8b6-6663-4c2d-8791-ef5678954939",
   "metadata": {},
   "outputs": [
    {
     "data": {
      "text/html": [
       "<style>\n",
       ".list-inline {list-style: none; margin:0; padding: 0}\n",
       ".list-inline>li {display: inline-block}\n",
       ".list-inline>li:not(:last-child)::after {content: \"\\00b7\"; padding: 0 .5ex}\n",
       "</style>\n",
       "<ol class=list-inline><li>1</li><li>1</li><li>1</li><li>1</li><li>1</li></ol>\n"
      ],
      "text/latex": [
       "\\begin{enumerate*}\n",
       "\\item 1\n",
       "\\item 1\n",
       "\\item 1\n",
       "\\item 1\n",
       "\\item 1\n",
       "\\end{enumerate*}\n"
      ],
      "text/markdown": [
       "1. 1\n",
       "2. 1\n",
       "3. 1\n",
       "4. 1\n",
       "5. 1\n",
       "\n",
       "\n"
      ],
      "text/plain": [
       "[1] 1 1 1 1 1"
      ]
     },
     "metadata": {},
     "output_type": "display_data"
    }
   ],
   "source": [
    "diag(X1)  ## 대각원소의 추출"
   ]
  },
  {
   "cell_type": "code",
   "execution_count": 52,
   "id": "5c3f4293-418e-4f65-acf3-42cf08a853c2",
   "metadata": {},
   "outputs": [
    {
     "name": "stdout",
     "output_type": "stream",
     "text": [
      "  [,1] [,2] [,3]\n",
      "x    1    2    3\n",
      "y    4    5    6\n",
      "     x y\n",
      "[1,] 1 4\n",
      "[2,] 2 5\n",
      "[3,] 3 6\n"
     ]
    }
   ],
   "source": [
    "x <- c(1, 2, 3); y <- c(4,5,6)\n",
    "print(rbind(x, y))  ## row bind\n",
    "print(cbind(x, y))  ## column bind"
   ]
  },
  {
   "cell_type": "code",
   "execution_count": 53,
   "id": "4e96a171-e8df-4871-9096-cfc8a56a4423",
   "metadata": {},
   "outputs": [
    {
     "data": {
      "text/html": [
       "<table class=\"dataframe\">\n",
       "<caption>A matrix: 2 × 3 of type dbl</caption>\n",
       "<tbody>\n",
       "\t<tr><td> 1</td><td> 6</td><td>10</td></tr>\n",
       "\t<tr><td>-2</td><td>12</td><td>-6</td></tr>\n",
       "</tbody>\n",
       "</table>\n"
      ],
      "text/latex": [
       "A matrix: 2 × 3 of type dbl\n",
       "\\begin{tabular}{lll}\n",
       "\t  1 &  6 & 10\\\\\n",
       "\t -2 & 12 & -6\\\\\n",
       "\\end{tabular}\n"
      ],
      "text/markdown": [
       "\n",
       "A matrix: 2 × 3 of type dbl\n",
       "\n",
       "|  1 |  6 | 10 |\n",
       "| -2 | 12 | -6 |\n",
       "\n"
      ],
      "text/plain": [
       "     [,1] [,2] [,3]\n",
       "[1,]  1    6   10  \n",
       "[2,] -2   12   -6  "
      ]
     },
     "metadata": {},
     "output_type": "display_data"
    }
   ],
   "source": [
    "x <- matrix(c(1:6), ncol = 3)\n",
    "y <- matrix(c(1, -1, 2, 3, 2, -1), ncol = 3)\n",
    "\n",
    "x*y  ## 행렬 원소간 곱(행렬곱이 아님)"
   ]
  },
  {
   "cell_type": "code",
   "execution_count": 54,
   "id": "5acaa94d-50c7-4b32-a2e2-8cfa98ee4064",
   "metadata": {},
   "outputs": [
    {
     "data": {
      "text/html": [
       "<table class=\"dataframe\">\n",
       "<caption>A matrix: 3 × 2 of type int</caption>\n",
       "<tbody>\n",
       "\t<tr><td>1</td><td>2</td></tr>\n",
       "\t<tr><td>3</td><td>4</td></tr>\n",
       "\t<tr><td>5</td><td>6</td></tr>\n",
       "</tbody>\n",
       "</table>\n"
      ],
      "text/latex": [
       "A matrix: 3 × 2 of type int\n",
       "\\begin{tabular}{ll}\n",
       "\t 1 & 2\\\\\n",
       "\t 3 & 4\\\\\n",
       "\t 5 & 6\\\\\n",
       "\\end{tabular}\n"
      ],
      "text/markdown": [
       "\n",
       "A matrix: 3 × 2 of type int\n",
       "\n",
       "| 1 | 2 |\n",
       "| 3 | 4 |\n",
       "| 5 | 6 |\n",
       "\n"
      ],
      "text/plain": [
       "     [,1] [,2]\n",
       "[1,] 1    2   \n",
       "[2,] 3    4   \n",
       "[3,] 5    6   "
      ]
     },
     "metadata": {},
     "output_type": "display_data"
    }
   ],
   "source": [
    "t(x)"
   ]
  },
  {
   "cell_type": "code",
   "execution_count": 55,
   "id": "336efc93-7468-4443-8365-84f06540f4e6",
   "metadata": {},
   "outputs": [
    {
     "data": {
      "text/html": [
       "<table class=\"dataframe\">\n",
       "<caption>A matrix: 2 × 2 of type dbl</caption>\n",
       "<tbody>\n",
       "\t<tr><td>17</td><td>3</td></tr>\n",
       "\t<tr><td>22</td><td>4</td></tr>\n",
       "</tbody>\n",
       "</table>\n"
      ],
      "text/latex": [
       "A matrix: 2 × 2 of type dbl\n",
       "\\begin{tabular}{ll}\n",
       "\t 17 & 3\\\\\n",
       "\t 22 & 4\\\\\n",
       "\\end{tabular}\n"
      ],
      "text/markdown": [
       "\n",
       "A matrix: 2 × 2 of type dbl\n",
       "\n",
       "| 17 | 3 |\n",
       "| 22 | 4 |\n",
       "\n"
      ],
      "text/plain": [
       "     [,1] [,2]\n",
       "[1,] 17   3   \n",
       "[2,] 22   4   "
      ]
     },
     "metadata": {},
     "output_type": "display_data"
    }
   ],
   "source": [
    "x%*%t(y)  ## 행렬 곱"
   ]
  },
  {
   "cell_type": "code",
   "execution_count": 56,
   "id": "10232592-9523-4704-8c5d-c767707e875a",
   "metadata": {},
   "outputs": [
    {
     "data": {
      "text/html": [
       "<table class=\"dataframe\">\n",
       "<caption>A matrix: 2 × 2 of type dbl</caption>\n",
       "<tbody>\n",
       "\t<tr><td>  2</td><td>-1.5</td></tr>\n",
       "\t<tr><td>-11</td><td> 8.5</td></tr>\n",
       "</tbody>\n",
       "</table>\n"
      ],
      "text/latex": [
       "A matrix: 2 × 2 of type dbl\n",
       "\\begin{tabular}{ll}\n",
       "\t   2 & -1.5\\\\\n",
       "\t -11 &  8.5\\\\\n",
       "\\end{tabular}\n"
      ],
      "text/markdown": [
       "\n",
       "A matrix: 2 × 2 of type dbl\n",
       "\n",
       "|   2 | -1.5 |\n",
       "| -11 |  8.5 |\n",
       "\n"
      ],
      "text/plain": [
       "     [,1] [,2]\n",
       "[1,]   2  -1.5\n",
       "[2,] -11   8.5"
      ]
     },
     "metadata": {},
     "output_type": "display_data"
    }
   ],
   "source": [
    "solve(x%*%t(y))  ## 역행렬"
   ]
  },
  {
   "cell_type": "markdown",
   "id": "c1282d03-919b-4415-a768-7cdc88cf59f8",
   "metadata": {},
   "source": [
    "### 4. 리스트(list)"
   ]
  },
  {
   "cell_type": "code",
   "execution_count": 62,
   "id": "0da05daa-94d9-4977-849f-856a4b78d5c9",
   "metadata": {},
   "outputs": [
    {
     "data": {
      "text/html": [
       "<dl>\n",
       "\t<dt>$name</dt>\n",
       "\t\t<dd>'John'</dd>\n",
       "\t<dt>$wife</dt>\n",
       "\t\t<dd>'Jane'</dd>\n",
       "\t<dt>$child.ages</dt>\n",
       "\t\t<dd><style>\n",
       ".list-inline {list-style: none; margin:0; padding: 0}\n",
       ".list-inline>li {display: inline-block}\n",
       ".list-inline>li:not(:last-child)::after {content: \"\\00b7\"; padding: 0 .5ex}\n",
       "</style>\n",
       "<ol class=list-inline><li>4</li><li>5</li><li>11</li></ol>\n",
       "</dd>\n",
       "</dl>\n"
      ],
      "text/latex": [
       "\\begin{description}\n",
       "\\item[\\$name] 'John'\n",
       "\\item[\\$wife] 'Jane'\n",
       "\\item[\\$child.ages] \\begin{enumerate*}\n",
       "\\item 4\n",
       "\\item 5\n",
       "\\item 11\n",
       "\\end{enumerate*}\n",
       "\n",
       "\\end{description}\n"
      ],
      "text/markdown": [
       "$name\n",
       ":   'John'\n",
       "$wife\n",
       ":   'Jane'\n",
       "$child.ages\n",
       ":   1. 4\n",
       "2. 5\n",
       "3. 11\n",
       "\n",
       "\n",
       "\n",
       "\n",
       "\n"
      ],
      "text/plain": [
       "$name\n",
       "[1] \"John\"\n",
       "\n",
       "$wife\n",
       "[1] \"Jane\"\n",
       "\n",
       "$child.ages\n",
       "[1]  4  5 11\n"
      ]
     },
     "metadata": {},
     "output_type": "display_data"
    }
   ],
   "source": [
    "Lst <- list(name = \"John\", wife = \"Jane\", child.ages = c(4, 5, 11))\n",
    "Lst"
   ]
  },
  {
   "cell_type": "markdown",
   "id": "19d93877-5f14-4713-b66e-d93c8d5f3257",
   "metadata": {},
   "source": [
    "* 리스트의 원소에 접근하는 법"
   ]
  },
  {
   "cell_type": "code",
   "execution_count": 73,
   "id": "27d65363-34ec-423a-ad30-b0dfea1e1592",
   "metadata": {},
   "outputs": [
    {
     "name": "stdout",
     "output_type": "stream",
     "text": [
      "$name\n",
      "[1] \"John\"\n",
      "\n",
      "$name\n",
      "[1] \"John\"\n",
      "\n"
     ]
    }
   ],
   "source": [
    "print(Lst[1])\n",
    "print(Lst[\"name\"])"
   ]
  },
  {
   "cell_type": "code",
   "execution_count": 74,
   "id": "613d7d25-5817-4ad2-89f6-7dc9d812e0d2",
   "metadata": {},
   "outputs": [
    {
     "name": "stdout",
     "output_type": "stream",
     "text": [
      "[1] \"John\"\n",
      "[1] \"John\"\n",
      "[1] \"John\"\n"
     ]
    }
   ],
   "source": [
    "print(Lst[[1]])\n",
    "print(Lst[[\"name\"]])\n",
    "print(Lst$name)"
   ]
  },
  {
   "cell_type": "code",
   "execution_count": 79,
   "id": "3fcaa35f-4522-46d5-9133-d92531ea91a3",
   "metadata": {},
   "outputs": [
    {
     "data": {
      "text/html": [
       "<strong>$wife</strong> = 'Jane'"
      ],
      "text/latex": [
       "\\textbf{\\$wife} = 'Jane'"
      ],
      "text/markdown": [
       "**$wife** = 'Jane'"
      ],
      "text/plain": [
       "$wife\n",
       "[1] \"Jane\"\n"
      ]
     },
     "metadata": {},
     "output_type": "display_data"
    }
   ],
   "source": [
    "lst <- Lst[2:3]\n",
    "lst[1]"
   ]
  },
  {
   "cell_type": "markdown",
   "id": "c01293b5-775e-4417-8940-e7d34cb71d3b",
   "metadata": {},
   "source": [
    "* `length()` 함수"
   ]
  },
  {
   "cell_type": "code",
   "execution_count": 80,
   "id": "c40134d2-4ea6-418a-950b-6f6e5a3aa88e",
   "metadata": {},
   "outputs": [
    {
     "data": {
      "text/html": [
       "5"
      ],
      "text/latex": [
       "5"
      ],
      "text/markdown": [
       "5"
      ],
      "text/plain": [
       "[1] 5"
      ]
     },
     "metadata": {},
     "output_type": "display_data"
    }
   ],
   "source": [
    "length(Lst) + length(lst)"
   ]
  },
  {
   "cell_type": "markdown",
   "id": "3e7756ff-39be-4822-90a8-395b0e896994",
   "metadata": {},
   "source": [
    "* 리스트의 결합(벡터의 결합과 동일)"
   ]
  },
  {
   "cell_type": "code",
   "execution_count": null,
   "id": "92e5050d-3c04-4766-9fe8-1f3144328a87",
   "metadata": {},
   "outputs": [],
   "source": []
  }
 ],
 "metadata": {
  "kernelspec": {
   "display_name": "R",
   "language": "R",
   "name": "ir"
  },
  "language_info": {
   "codemirror_mode": "r",
   "file_extension": ".r",
   "mimetype": "text/x-r-source",
   "name": "R",
   "pygments_lexer": "r",
   "version": "4.3.2"
  }
 },
 "nbformat": 4,
 "nbformat_minor": 5
}
