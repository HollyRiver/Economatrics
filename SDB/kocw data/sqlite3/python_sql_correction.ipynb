{
 "cells": [
  {
   "cell_type": "code",
   "execution_count": 161,
   "id": "7cbc11c1-cef1-46bf-9793-eecf2fbcdb32",
   "metadata": {},
   "outputs": [],
   "source": [
    "import sqlite3\n",
    "import pandas as pd"
   ]
  },
  {
   "cell_type": "code",
   "execution_count": 433,
   "id": "2a4a3323-3d7a-4903-8b9b-7f5bdb8ec8c4",
   "metadata": {},
   "outputs": [],
   "source": [
    "sql_query = \"\"\"SELECT name FROM sqlite_master\n",
    "    WHERE type='table';\"\"\""
   ]
  },
  {
   "cell_type": "code",
   "execution_count": 442,
   "id": "e22e3fd6-8918-4746-81c4-73bb62cc5ec1",
   "metadata": {},
   "outputs": [],
   "source": [
    "professor_df = pd.read_excel(\"/Users/99ksh/TDB/professor.xlsx\")\n",
    "course_classed_df = pd.read_excel(\"/Users/99ksh/TDB/course_classed.xlsx\")\n",
    "norm_course_df = pd.read_excel(\"/Users/99ksh/TDB/norm_course.xlsx\")\n",
    "charge_df = pd.read_excel(\"/Users/99ksh/TDB/charge.xlsx\")\n",
    "university_df = pd.read_excel(\"/Users/99ksh/TDB/university.xlsx\")"
   ]
  },
  {
   "cell_type": "code",
   "execution_count": 443,
   "id": "d066a75d-9f88-4125-a387-80377534b0e0",
   "metadata": {},
   "outputs": [],
   "source": [
    "professor_df = professor_df.iloc[:, 1:]\n",
    "course_classed_df = course_classed_df.iloc[:, 1:]\n",
    "norm_course_df = norm_course_df.iloc[:, 1:]\n",
    "charge_df = charge_df.iloc[:, 1:]\n",
    "university_df = university_df.iloc[:, 1:]"
   ]
  },
  {
   "cell_type": "code",
   "execution_count": 444,
   "id": "c868ade3-87a0-4ab3-a8e2-1a8bdff947ce",
   "metadata": {},
   "outputs": [],
   "source": [
    "university_df.rename(columns={\"사립/국립 구분\": \"구분\"}, inplace=True)\n",
    "university_df.rename(columns={\"대학소재지(시/도)\": \"대학소재지\"}, inplace=True)"
   ]
  },
  {
   "cell_type": "code",
   "execution_count": 445,
   "id": "656b3bb8-8fcc-48ae-8b0c-ca4969cc1ffe",
   "metadata": {},
   "outputs": [],
   "source": [
    "con = sqlite3.connect('kocw.db')"
   ]
  },
  {
   "cell_type": "code",
   "execution_count": 446,
   "id": "120aaa19-7b2f-4914-a2c6-5176b94287e0",
   "metadata": {},
   "outputs": [
    {
     "name": "stdout",
     "output_type": "stream",
     "text": [
      "[]\n"
     ]
    }
   ],
   "source": [
    "cur = con.cursor()\n",
    "cur.execute(sql_query)\n",
    "con.execute(\"PRAGMA foreign_keys = ON\")\n",
    "print(cur.fetchall())"
   ]
  },
  {
   "cell_type": "code",
   "execution_count": 447,
   "id": "6ec57501-dfdd-4cc6-b5f7-19b47812e6e4",
   "metadata": {},
   "outputs": [
    {
     "data": {
      "text/plain": [
       "<sqlite3.Cursor at 0x1661129c0>"
      ]
     },
     "execution_count": 447,
     "metadata": {},
     "output_type": "execute_result"
    }
   ],
   "source": [
    "cur.execute(\"DROP TABLE IF EXISTS charge\")\n",
    "cur.execute(\"DROP TABLE IF EXISTS norm_course\")\n",
    "cur.execute(\"DROP TABLE IF EXISTS course_classed\")\n",
    "cur.execute(\"DROP TABLE IF EXISTS professor\")\n",
    "cur.execute(\"DROP TABLE IF EXISTS university\")"
   ]
  },
  {
   "cell_type": "code",
   "execution_count": 448,
   "id": "90dc6706-9e6f-4d9f-97df-c15c6ebd34cc",
   "metadata": {},
   "outputs": [],
   "source": [
    "university = \"\"\" CREATE TABLE university (\n",
    "            제공대학명 CHAR(50) PRIMARY KEY NOT NULL UNIQUE,\n",
    "            대학소재지 CHAR(50) ,\n",
    "            구분 CHAR(50)\n",
    "        ); \"\"\""
   ]
  },
  {
   "cell_type": "code",
   "execution_count": 449,
   "id": "8e51b2bf-bec9-42aa-95eb-61a5ec52794d",
   "metadata": {},
   "outputs": [],
   "source": [
    "professor = \"\"\" CREATE TABLE professor (\n",
    "            교수코드 INTEGER PRIMARY KEY NOT NULL UNIQUE,\n",
    "            담당교수명 CHAR(50) ,\n",
    "            담당분야 CHAR(50),\n",
    "            소속대학명 CHAR(50),\n",
    "            FOREIGN KEY (소속대학명) REFERENCES university (제공대학명)\n",
    "                ON UPDATE CASCADE\n",
    "                ON DELETE SET NULL\n",
    "        ); \"\"\""
   ]
  },
  {
   "cell_type": "code",
   "execution_count": 450,
   "id": "570547a6-b686-4df1-ae8f-e1e2367d34db",
   "metadata": {},
   "outputs": [],
   "source": [
    "norm_course = \"\"\" CREATE TABLE norm_course (\n",
    "    강의코드 INTEGER PRIMARY KEY NOT NULL UNIQUE,\n",
    "    강의명 CHAR(50),\n",
    "    강의년도 INTEGER,\n",
    "    강의학기 INT,\n",
    "    제공대학명 CHAR(50),\n",
    "    제공일자 DATE,\n",
    "    FOREIGN KEY (제공대학명) REFERENCES university (제공대학명)\n",
    "    \n",
    "        ); \"\"\""
   ]
  },
  {
   "cell_type": "code",
   "execution_count": 451,
   "id": "1ce38fc2-e256-414b-8248-b4921e2c49ab",
   "metadata": {},
   "outputs": [],
   "source": [
    "course_classed  = \"\"\" CREATE TABLE course_classed (\n",
    "    강의명 CHAR(50) PRIMARY KEY NOT NULL UNIQUE,\n",
    "    교육분류 CHAR(50)\n",
    "        ); \"\"\""
   ]
  },
  {
   "cell_type": "code",
   "execution_count": 452,
   "id": "08c7fafd-79ff-456a-b5f6-3f07a2106b19",
   "metadata": {},
   "outputs": [],
   "source": [
    "charge = \"\"\" CREATE TABLE charge (\n",
    "    교수코드 INTEGER,\n",
    "    강의코드 INTEGER,\n",
    "    PRIMARY KEY (교수코드, 강의코드),\n",
    "    FOREIGN KEY (교수코드) REFERENCES professor (교수코드)\n",
    "        ON UPDATE CASCADE\n",
    "        ON DELETE CASCADE,\n",
    "    FOREIGN KEY (강의코드) REFERENCES norm_course (강의코드)\n",
    "        ON UPDATE CASCADE\n",
    "        ON DELETE CASCADE\n",
    "        ); \"\"\""
   ]
  },
  {
   "cell_type": "code",
   "execution_count": 453,
   "id": "f68bd088-d513-4e8d-9e4c-0bdc6706c970",
   "metadata": {},
   "outputs": [
    {
     "name": "stdout",
     "output_type": "stream",
     "text": [
      "<map object at 0x1666b12d0>\n"
     ]
    },
    {
     "data": {
      "text/plain": [
       "<sqlite3.Cursor at 0x1661129c0>"
      ]
     },
     "execution_count": 453,
     "metadata": {},
     "output_type": "execute_result"
    }
   ],
   "source": [
    "cur.execute(university)\n",
    "print(university_df.itertuples())\n",
    "for row in university_df.itertuples():\n",
    "    university_1 = \"INSERT INTO university(제공대학명, 대학소재지, 구분) VALUES (?, ?, ?)\"\n",
    "    cur.execute(university_1, (row[1], row[2], row[3]))\n",
    "con.commit()\n",
    "#cur.execute('DELETE FROM target_db')\n",
    "cur.execute('SELECT * FROM university')"
   ]
  },
  {
   "cell_type": "code",
   "execution_count": 454,
   "id": "4c167df1-c812-4066-a67a-ea90a93be4eb",
   "metadata": {
    "scrolled": true
   },
   "outputs": [
    {
     "name": "stdout",
     "output_type": "stream",
     "text": [
      "<map object at 0x1666b2110>\n"
     ]
    },
    {
     "data": {
      "text/plain": [
       "<sqlite3.Cursor at 0x1661129c0>"
      ]
     },
     "execution_count": 454,
     "metadata": {},
     "output_type": "execute_result"
    }
   ],
   "source": [
    "cur.execute(professor)\n",
    "print(professor_df.itertuples())\n",
    "for row in professor_df.itertuples():\n",
    "    professor_1 = \"INSERT INTO professor(교수코드, 담당교수명, 담당분야, 소속대학명) VALUES (?, ?, ?, ?)\"\n",
    "    cur.execute(professor_1, (row[1], row[2], row[3], row[4]))\n",
    "con.commit()\n",
    "cur.execute('SELECT * FROM professor')"
   ]
  },
  {
   "cell_type": "code",
   "execution_count": 455,
   "id": "39ce6051-9b85-47f5-a10a-ae4cc1287456",
   "metadata": {},
   "outputs": [
    {
     "name": "stdout",
     "output_type": "stream",
     "text": [
      "<map object at 0x1666c5000>\n"
     ]
    },
    {
     "data": {
      "text/plain": [
       "<sqlite3.Cursor at 0x1661129c0>"
      ]
     },
     "execution_count": 455,
     "metadata": {},
     "output_type": "execute_result"
    }
   ],
   "source": [
    "cur.execute(norm_course)\n",
    "print(norm_course_df.itertuples())\n",
    "for row in norm_course_df.itertuples():\n",
    "    norm_course_1 = \"INSERT INTO norm_course(강의코드, 강의명, 강의년도, 강의학기, 제공대학명, 제공일자) VALUES (?, ?, ?, ?, ?, ?)\"\n",
    "    cur.execute(norm_course_1, (row[1], row[2], row[3], row[4], row[5], row[6]))\n",
    "con.commit()\n",
    "cur.execute('SELECT * FROM norm_course')\n",
    "#cur.fetchall()"
   ]
  },
  {
   "cell_type": "code",
   "execution_count": 456,
   "id": "d92fb7cf-66ca-43e6-859c-24a9e0a453c2",
   "metadata": {},
   "outputs": [
    {
     "name": "stdout",
     "output_type": "stream",
     "text": [
      "<map object at 0x1606b5ed0>\n"
     ]
    },
    {
     "data": {
      "text/plain": [
       "<sqlite3.Cursor at 0x1661129c0>"
      ]
     },
     "execution_count": 456,
     "metadata": {},
     "output_type": "execute_result"
    }
   ],
   "source": [
    "cur.execute(course_classed)\n",
    "print(course_classed_df.itertuples())\n",
    "for row in course_classed_df.itertuples():\n",
    "    course_classed_1 = \"INSERT INTO course_classed(강의명, 교육분류) VALUES (?, ?)\"\n",
    "    cur.execute(course_classed_1, (row[1], row[2]))\n",
    "con.commit()\n",
    "cur.execute('SELECT * FROM course_classed')\n",
    "#cur.fetchall()"
   ]
  },
  {
   "cell_type": "code",
   "execution_count": 457,
   "id": "221eb6c2-521e-466d-931e-43ea06c152cb",
   "metadata": {},
   "outputs": [
    {
     "name": "stdout",
     "output_type": "stream",
     "text": [
      "<map object at 0x16571cf70>\n"
     ]
    },
    {
     "data": {
      "text/plain": [
       "<sqlite3.Cursor at 0x1661129c0>"
      ]
     },
     "execution_count": 457,
     "metadata": {},
     "output_type": "execute_result"
    }
   ],
   "source": [
    "cur.execute(charge)\n",
    "print(charge_df.itertuples())\n",
    "for row in charge_df.itertuples():\n",
    "    charge_1 = \"INSERT INTO charge(교수코드, 강의코드) VALUES (?, ?)\"\n",
    "    cur.execute(charge_1, (row[1], row[2]))\n",
    "con.commit()\n",
    "cur.execute('SELECT * FROM charge')\n",
    "#cur.fetchall()"
   ]
  },
  {
   "cell_type": "code",
   "execution_count": 459,
   "id": "9c3c4084-7f12-4210-a871-f5173fc3df96",
   "metadata": {},
   "outputs": [
    {
     "data": {
      "text/plain": [
       "[('university',),\n",
       " ('professor',),\n",
       " ('norm_course',),\n",
       " ('course_classed',),\n",
       " ('charge',)]"
      ]
     },
     "execution_count": 459,
     "metadata": {},
     "output_type": "execute_result"
    }
   ],
   "source": [
    "cur.execute(sql_query)\n",
    "cur.fetchall()"
   ]
  },
  {
   "cell_type": "code",
   "execution_count": 327,
   "id": "cd578065-951d-4340-a7db-02d04c016e1d",
   "metadata": {},
   "outputs": [
    {
     "data": {
      "text/plain": [
       "<function Connection.close()>"
      ]
     },
     "execution_count": 327,
     "metadata": {},
     "output_type": "execute_result"
    }
   ],
   "source": [
    "conn.close"
   ]
  },
  {
   "cell_type": "code",
   "execution_count": 460,
   "id": "91dd8d69-9e97-4c4f-bf2d-e28838aba43f",
   "metadata": {},
   "outputs": [
    {
     "name": "stdout",
     "output_type": "stream",
     "text": [
      "['university', 'professor', 'norm_course', 'course_classed', 'charge']\n",
      "table: university\n",
      "[(0, '제공대학명', 'CHAR(50)', 1, None, 1), (1, '대학소재지', 'CHAR(50)', 0, None, 0), (2, '구분', 'CHAR(50)', 0, None, 0)]\n",
      "[]\n",
      "table: professor\n",
      "[(0, '교수코드', 'INTEGER', 1, None, 1), (1, '담당교수명', 'CHAR(50)', 0, None, 0), (2, '담당분야', 'CHAR(50)', 0, None, 0), (3, '소속대학명', 'CHAR(50)', 0, None, 0)]\n",
      "[(0, 0, 'university', '소속대학명', '제공대학명', 'CASCADE', 'SET NULL', 'NONE')]\n",
      "table: norm_course\n",
      "[(0, '강의코드', 'INTEGER', 1, None, 1), (1, '강의명', 'CHAR(50)', 0, None, 0), (2, '강의년도', 'INTEGER', 0, None, 0), (3, '강의학기', 'INT', 0, None, 0), (4, '제공대학명', 'CHAR(50)', 0, None, 0), (5, '제공일자', 'DATE', 0, None, 0)]\n",
      "[(0, 0, 'university', '제공대학명', '제공대학명', 'NO ACTION', 'NO ACTION', 'NONE')]\n",
      "table: course_classed\n",
      "[(0, '강의명', 'CHAR(50)', 1, None, 1), (1, '교육분류', 'CHAR(50)', 0, None, 0)]\n",
      "[]\n",
      "table: charge\n",
      "[(0, '교수코드', 'INTEGER', 0, None, 1), (1, '강의코드', 'INTEGER', 0, None, 2)]\n",
      "[(0, 0, 'norm_course', '강의코드', '강의코드', 'CASCADE', 'CASCADE', 'NONE'), (1, 0, 'professor', '교수코드', '교수코드', 'CASCADE', 'CASCADE', 'NONE')]\n"
     ]
    }
   ],
   "source": [
    "rows = cur.execute(\"SELECT name FROM sqlite_master WHERE type = 'table'\")\n",
    "tables = [row[0] for row in rows]\n",
    "print(tables)\n",
    "\n",
    "def sql_identifier(s):\n",
    "    return '\"' + s.replace('\"', '\"\"') + '\"'\n",
    "\n",
    "for table in tables:\n",
    "    print(\"table: \" + table)\n",
    "    rows = cur.execute(\"PRAGMA table_info({})\".format(sql_identifier(table)))\n",
    "    print(rows.fetchall())\n",
    "    rows = cur.execute(\"PRAGMA foreign_key_list({})\".format(sql_identifier(table)))\n",
    "    print(rows.fetchall())"
   ]
  },
  {
   "cell_type": "code",
   "execution_count": null,
   "id": "61800443-f9ea-41a1-984c-9c6af185d3b9",
   "metadata": {},
   "outputs": [],
   "source": []
  }
 ],
 "metadata": {
  "kernelspec": {
   "display_name": "Python 3 (ipykernel)",
   "language": "python",
   "name": "python3"
  },
  "language_info": {
   "codemirror_mode": {
    "name": "ipython",
    "version": 3
   },
   "file_extension": ".py",
   "mimetype": "text/x-python",
   "name": "python",
   "nbconvert_exporter": "python",
   "pygments_lexer": "ipython3",
   "version": "3.12.0"
  }
 },
 "nbformat": 4,
 "nbformat_minor": 5
}
