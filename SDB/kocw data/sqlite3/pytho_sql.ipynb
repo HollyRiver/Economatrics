{
 "cells": [
  {
   "cell_type": "markdown",
   "id": "c9723445-5993-49ee-88ba-85be7259aa49",
   "metadata": {},
   "source": [
    "### KOCW 데이터베이스 시연(`Python`)"
   ]
  },
  {
   "cell_type": "code",
   "execution_count": 1,
   "id": "7cbc11c1-cef1-46bf-9793-eecf2fbcdb32",
   "metadata": {},
   "outputs": [],
   "source": [
    "import sqlite3\n",
    "import pandas as pd"
   ]
  },
  {
   "cell_type": "code",
   "execution_count": 2,
   "id": "2a4a3323-3d7a-4903-8b9b-7f5bdb8ec8c4",
   "metadata": {},
   "outputs": [],
   "source": [
    "sql_query = \"\"\"SELECT name FROM sqlite_master\n",
    "    WHERE type='table';\"\"\""
   ]
  },
  {
   "cell_type": "code",
   "execution_count": 148,
   "id": "e22e3fd6-8918-4746-81c4-73bb62cc5ec1",
   "metadata": {},
   "outputs": [],
   "source": [
    "professor_df = pd.read_excel(\"/Users/99ksh/TDB/professor.xlsx\")\n",
    "course_classed_df = pd.read_excel(\"/Users/99ksh/TDB/course_classed.xlsx\")\n",
    "norm_course_df = pd.read_excel(\"/Users/99ksh/TDB/norm_course.xlsx\")\n",
    "charge_df = pd.read_excel(\"/Users/99ksh/TDB/charge.xlsx\")\n",
    "university_df = pd.read_excel(\"/Users/99ksh/TDB/university.xlsx\")"
   ]
  },
  {
   "cell_type": "code",
   "execution_count": 149,
   "id": "d066a75d-9f88-4125-a387-80377534b0e0",
   "metadata": {},
   "outputs": [],
   "source": [
    "professor_df = professor_df.iloc[:, 1:]\n",
    "course_classed_df = course_classed_df.iloc[:, 1:]\n",
    "norm_course_df = norm_course_df.iloc[:, 1:]\n",
    "charge_df = charge_df.iloc[:, 1:]\n",
    "university_df = university_df.iloc[:, 1:]"
   ]
  },
  {
   "cell_type": "code",
   "execution_count": 3,
   "id": "656b3bb8-8fcc-48ae-8b0c-ca4969cc1ffe",
   "metadata": {},
   "outputs": [],
   "source": [
    "con = sqlite3.connect('kocw.db')"
   ]
  },
  {
   "cell_type": "code",
   "execution_count": 151,
   "id": "120aaa19-7b2f-4914-a2c6-5176b94287e0",
   "metadata": {},
   "outputs": [
    {
     "name": "stdout",
     "output_type": "stream",
     "text": [
      "[]\n"
     ]
    }
   ],
   "source": [
    "cur = con.cursor()\n",
    "cur.execute(sql_query)\n",
    "con.execute(\"PRAGMA foreign_keys = 1\")\n",
    "print(cur.fetchall())"
   ]
  },
  {
   "cell_type": "code",
   "execution_count": 153,
   "id": "6ec57501-dfdd-4cc6-b5f7-19b47812e6e4",
   "metadata": {},
   "outputs": [
    {
     "data": {
      "text/plain": [
       "<sqlite3.Cursor at 0x160774240>"
      ]
     },
     "execution_count": 153,
     "metadata": {},
     "output_type": "execute_result"
    }
   ],
   "source": [
    "cur.execute(\"DROP TABLE IF EXISTS charge\")\n",
    "cur.execute(\"DROP TABLE IF EXISTS norm_course\")\n",
    "cur.execute(\"DROP TABLE IF EXISTS course_classed\")\n",
    "cur.execute(\"DROP TABLE IF EXISTS professor\")\n",
    "cur.execute(\"DROP TABLE IF EXISTS university\")"
   ]
  },
  {
   "cell_type": "code",
   "execution_count": 133,
   "id": "90dc6706-9e6f-4d9f-97df-c15c6ebd34cc",
   "metadata": {},
   "outputs": [],
   "source": [
    "university = \"\"\" CREATE TABLE university (\n",
    "            제공대학명 CHAR(50) PRIMARY KEY,\n",
    "            대학소재지(시/도) CHAR(50) ,\n",
    "            사립/국립 구분 CHAR(50)\n",
    "        ); \"\"\""
   ]
  },
  {
   "cell_type": "code",
   "execution_count": 134,
   "id": "8e51b2bf-bec9-42aa-95eb-61a5ec52794d",
   "metadata": {},
   "outputs": [],
   "source": [
    "professor = \"\"\" CREATE TABLE professor (\n",
    "            교수코드 INTEGER PRIMARY KEY,\n",
    "            담당교수명 CHAR(50) ,\n",
    "            담당분야 CHAR(50),\n",
    "            소속대학명 CHAR(50),\n",
    "            FOREIGN KEY (소속대학명) REFERENCES university (제공대학명)\n",
    "                ON UPDATE CASCADE\n",
    "                ON DELETE SET NULL\n",
    "        ); \"\"\""
   ]
  },
  {
   "cell_type": "code",
   "execution_count": 135,
   "id": "570547a6-b686-4df1-ae8f-e1e2367d34db",
   "metadata": {},
   "outputs": [],
   "source": [
    "norm_course = \"\"\" CREATE TABLE norm_course (\n",
    "    강의코드 INTEGER PRIMARY KEY,\n",
    "    강의명 CHAR(50),\n",
    "    교육분류 CHAR(50),\n",
    "    강의년도 INTEGER,\n",
    "    강의학기 INT,\n",
    "    제공대학명 CHAR(50),\n",
    "    제공일자 DATE,\n",
    "    FOREIGN KEY (제공대학명) REFERENCES university (제공대학명)\n",
    "    \n",
    "        ); \"\"\""
   ]
  },
  {
   "cell_type": "code",
   "execution_count": 136,
   "id": "08c7fafd-79ff-456a-b5f6-3f07a2106b19",
   "metadata": {},
   "outputs": [],
   "source": [
    "charge = \"\"\" CREATE TABLE charge (\n",
    "    교수코드 INTEGER,\n",
    "    강의코드 INTEGER,\n",
    "    PRIMARY KEY (교수코드, 강의코드),\n",
    "    FOREIGN KEY (교수코드) REFERENCES professor (교수코드)\n",
    "        ON UPDATE CASCADE\n",
    "        ON DELETE CASCADE,\n",
    "    FOREIGN KEY (강의코드) REFERENCES nomr_course (강의코드)\n",
    "        ON UPDATE CASCADE\n",
    "        ON DELETE CASCADE\n",
    "        ); \"\"\""
   ]
  },
  {
   "cell_type": "code",
   "execution_count": 140,
   "id": "e0622b9d-3e6b-4802-b2ac-9b9925fb28f7",
   "metadata": {},
   "outputs": [],
   "source": [
    "course_classed  = \"\"\" CREATE TABLE course_classed (\n",
    "    강의명 CHAR(50) PRIMARY KEY,\n",
    "    교육분류 CHAR(50)\n",
    "        ); \"\"\""
   ]
  },
  {
   "cell_type": "code",
   "execution_count": 141,
   "id": "eb2c7b57-3e1b-45f9-a2b7-dd6398297dd5",
   "metadata": {},
   "outputs": [
    {
     "data": {
      "text/plain": [
       "186"
      ]
     },
     "execution_count": 141,
     "metadata": {},
     "output_type": "execute_result"
    }
   ],
   "source": [
    "professor_df.to_sql('professor', con, if_exists='replace', index=False)\n",
    "course_classed_df.to_sql('course_classed', con, if_exists='replace', index=False)\n",
    "norm_course_df.to_sql('norm_course', con, if_exists='replace', index=False)\n",
    "charge_df.to_sql('charge', con, if_exists='replace', index=False)\n",
    "university_df.to_sql('university', con, if_exists='replace', index=False)"
   ]
  },
  {
   "cell_type": "code",
   "execution_count": 6,
   "id": "9c3c4084-7f12-4210-a871-f5173fc3df96",
   "metadata": {
    "scrolled": true
   },
   "outputs": [
    {
     "data": {
      "text/plain": [
       "[('professor',),\n",
       " ('course_classed',),\n",
       " ('norm_course',),\n",
       " ('charge',),\n",
       " ('university',)]"
      ]
     },
     "execution_count": 6,
     "metadata": {},
     "output_type": "execute_result"
    }
   ],
   "source": [
    "cur.execute(sql_query)\n",
    "cur.fetchall()"
   ]
  },
  {
   "cell_type": "code",
   "execution_count": 144,
   "id": "cd578065-951d-4340-a7db-02d04c016e1d",
   "metadata": {},
   "outputs": [
    {
     "data": {
      "text/plain": [
       "<function Connection.close()>"
      ]
     },
     "execution_count": 144,
     "metadata": {},
     "output_type": "execute_result"
    }
   ],
   "source": [
    "conn.close"
   ]
  },
  {
   "cell_type": "code",
   "execution_count": 4,
   "id": "413a6469-02cf-4ea0-8e35-2117c406fc69",
   "metadata": {},
   "outputs": [],
   "source": [
    "con = sqlite3.connect('kocw.db')\n",
    "cur = con.cursor()"
   ]
  },
  {
   "cell_type": "code",
   "execution_count": 7,
   "id": "e77906f1-e878-4e1c-a287-816701669d01",
   "metadata": {},
   "outputs": [
    {
     "data": {
      "text/plain": [
       "[(0, '안상욱', '자연계열', '한경대학교'),\n",
       " (1, '이중호', '자연계열', '가천대학교'),\n",
       " (2, '최수한', '자연계열', '단국대학교'),\n",
       " (3, '김문현', '자연계열', '성균관대학교'),\n",
       " (4, '이상준', '자연계열', '덕성여자대학교')]"
      ]
     },
     "execution_count": 7,
     "metadata": {},
     "output_type": "execute_result"
    }
   ],
   "source": [
    "cur.execute(\"SELECT * FROM professor LIMIT 5\")\n",
    "cur.fetchall()"
   ]
  },
  {
   "cell_type": "code",
   "execution_count": 46,
   "id": "dcacbef8-dfee-4e48-8f15-ec0c8ab35061",
   "metadata": {},
   "outputs": [
    {
     "data": {
      "text/plain": [
       "<sqlite3.Cursor at 0x7f1ceb44e9c0>"
      ]
     },
     "execution_count": 46,
     "metadata": {},
     "output_type": "execute_result"
    }
   ],
   "source": [
    "cur.execute(\"INSERT INTO professor VALUES (-1, '강신성', '자연계열', '전북대학교');\")\n",
    "cur.execute(\"SELECT * FROM professor LIMIT 300 OFFSET 8670\")"
   ]
  },
  {
   "cell_type": "code",
   "execution_count": 48,
   "id": "69d6cb40-3b45-4509-bf1b-cc7e2dc56ac9",
   "metadata": {},
   "outputs": [
    {
     "name": "stdout",
     "output_type": "stream",
     "text": [
      "['professor', 'course_classed', 'norm_course', 'charge', 'university']\n",
      "table: professor\n",
      "[(0, '교수코드', 'INTEGER', 0, None, 0), (1, '담당교수명', 'TEXT', 0, None, 0), (2, '담당분야', 'TEXT', 0, None, 0), (3, '제공대학명', 'TEXT', 0, None, 0)]\n",
      "[]\n",
      "table: course_classed\n",
      "[(0, '강의명', 'TEXT', 0, None, 0), (1, '교육분류', 'TEXT', 0, None, 0)]\n",
      "[]\n",
      "table: norm_course\n",
      "[(0, '강의코드', 'INTEGER', 0, None, 0), (1, '강의명', 'TEXT', 0, None, 0), (2, '강의년도', 'INTEGER', 0, None, 0), (3, '강의학기', 'INTEGER', 0, None, 0), (4, '제공대학명', 'TEXT', 0, None, 0), (5, '제공일자', 'TEXT', 0, None, 0)]\n",
      "[]\n",
      "table: charge\n",
      "[(0, '교수코드', 'INTEGER', 0, None, 0), (1, '강의코드', 'INTEGER', 0, None, 0)]\n",
      "[]\n",
      "table: university\n",
      "[(0, '제공대학명', 'TEXT', 0, None, 0), (1, '대학소재지(시/도)', 'TEXT', 0, None, 0), (2, '사립/국립 구분', 'TEXT', 0, None, 0)]\n",
      "[]\n"
     ]
    }
   ],
   "source": [
    "rows = cur.execute(\"SELECT name FROM sqlite_master WHERE type = 'table'\")\n",
    "tables = [row[0] for row in rows]\n",
    "print(tables)\n",
    "\n",
    "def sql_identifier(s):\n",
    "    return '\"' + s.replace('\"', '\"\"') + '\"'\n",
    "\n",
    "for table in tables:\n",
    "    print(\"table: \" + table)\n",
    "    rows = cur.execute(\"PRAGMA table_info({})\".format(sql_identifier(table)))\n",
    "    print(rows.fetchall())\n",
    "    rows = cur.execute(\"PRAGMA foreign_key_list({})\".format(sql_identifier(table)))\n",
    "    print(rows.fetchall())"
   ]
  },
  {
   "cell_type": "code",
   "execution_count": 47,
   "id": "4b6cb1a8-557c-429c-83c1-a9433245ca23",
   "metadata": {},
   "outputs": [
    {
     "data": {
      "text/plain": [
       "[(8908, '서원호', '공학계열', '한양대학교'),\n",
       " (8909, '김주일', '공학계열', '한동대학교'),\n",
       " (8910, '여창환', '공학계열', '동아대학교'),\n",
       " (8911, '조형규', '공학계열', '창원대학교'),\n",
       " (8912, '김희영', '자연계열', '고려대학교'),\n",
       " (8913, '좌수경', '자연계열', '울산과학대학교'),\n",
       " (-1, '강신성', '자연계열', '전북대학교'),\n",
       " (-1, '강신성', '자연계열', '전북대학교'),\n",
       " (-1, '강신성', '자연계열', '전북대학교'),\n",
       " (-1, '강신성', '자연계열', '전북대학교'),\n",
       " (-1, '강신성', '자연계열', '전북대학교'),\n",
       " (-1, '강신성', '자연계열', '전북대학교'),\n",
       " (-1, '강신성', '자연계열', '전북대학교'),\n",
       " (-1, '강신성', '자연계열', '전북대학교'),\n",
       " (-1, '강신성', '자연계열', '전북대학교'),\n",
       " (-1, '강신성', '자연계열', '전북대학교'),\n",
       " (-1, '강신성', '자연계열', '전북대학교'),\n",
       " (-1, '강신성', '자연계열', '전북대학교'),\n",
       " (-1, '강신성', '자연계열', '전북대학교'),\n",
       " (-1, '강신성', '자연계열', '전북대학교'),\n",
       " (-1, '강신성', '자연계열', '전북대학교'),\n",
       " (-1, '강신성', '자연계열', '전북대학교'),\n",
       " (-1, '강신성', '자연계열', '전북대학교'),\n",
       " (-1, '강신성', '자연계열', '전북대학교'),\n",
       " (-1, '강신성', '자연계열', '전북대학교'),\n",
       " (-1, '강신성', '자연계열', '전북대학교'),\n",
       " (-1, '강신성', '자연계열', '전북대학교'),\n",
       " (-1, '강신성', '자연계열', '전북대학교'),\n",
       " (-1, '강신성', '자연계열', '전북대학교')]"
      ]
     },
     "execution_count": 47,
     "metadata": {},
     "output_type": "execute_result"
    }
   ],
   "source": [
    "cur.fetchall()"
   ]
  },
  {
   "cell_type": "code",
   "execution_count": 49,
   "id": "e0ea94d6-f853-414f-a405-436acfe447b4",
   "metadata": {},
   "outputs": [],
   "source": [
    "con = sqlite3.connect('RDB.db')\n",
    "cur = con.cursor()"
   ]
  },
  {
   "cell_type": "code",
   "execution_count": 50,
   "id": "0c76352d-ec17-4601-a7da-08957e4d17d6",
   "metadata": {},
   "outputs": [
    {
     "name": "stdout",
     "output_type": "stream",
     "text": [
      "['university', 'norm_course', 'professor', 'charge', 'course_classed']\n",
      "table: university\n",
      "[(0, '제공대학명', 'TEXT', 0, None, 1), (1, '대학소재지', 'TEXT', 0, None, 0), (2, '구분', 'TEXT', 0, None, 0)]\n",
      "[]\n",
      "table: norm_course\n",
      "[(0, '강의코드', 'INTEGER', 0, None, 1), (1, '강의명', 'TEXT', 0, None, 0), (2, '강의년도', 'INTEGER', 0, None, 0), (3, '강의학기', 'INTEGER', 0, None, 0), (4, '제공일자', 'TEXT', 0, None, 0), (5, '제공대학명', 'TEXT', 0, None, 0)]\n",
      "[(0, 0, 'university', '제공대학명', '제공대학명', 'NO ACTION', 'NO ACTION', 'NONE')]\n",
      "table: professor\n",
      "[(0, '교수코드', 'INTEGER', 0, None, 1), (1, '담당교수명', 'TEXT', 0, None, 0), (2, '담당분야', 'TEXT', 0, None, 0), (3, '제공대학명', 'TEXT', 0, None, 0)]\n",
      "[(0, 0, 'university', '제공대학명', '제공대학명', 'CASCADE', 'SET NULL', 'NONE')]\n",
      "table: charge\n",
      "[(0, '교수코드', 'INTEGER', 0, None, 1), (1, '강의코드', 'INTEGER', 0, None, 2)]\n",
      "[(0, 0, 'norm_course', '강의코드', '강의코드', 'CASCADE', 'CASCADE', 'NONE'), (1, 0, 'professor', '교수코드', '교수코드', 'CASCADE', 'CASCADE', 'NONE')]\n",
      "table: course_classed\n",
      "[(0, '강의명', 'TEXT', 0, None, 1), (1, '교육분류', 'TEXT', 0, None, 0)]\n",
      "[]\n"
     ]
    }
   ],
   "source": [
    "rows = cur.execute(\"SELECT name FROM sqlite_master WHERE type = 'table'\")\n",
    "tables = [row[0] for row in rows]\n",
    "print(tables)\n",
    "\n",
    "def sql_identifier(s):\n",
    "    return '\"' + s.replace('\"', '\"\"') + '\"'\n",
    "\n",
    "for table in tables:\n",
    "    print(\"table: \" + table)\n",
    "    rows = cur.execute(\"PRAGMA table_info({})\".format(sql_identifier(table)))\n",
    "    print(rows.fetchall())\n",
    "    rows = cur.execute(\"PRAGMA foreign_key_list({})\".format(sql_identifier(table)))\n",
    "    print(rows.fetchall())"
   ]
  },
  {
   "cell_type": "code",
   "execution_count": null,
   "id": "23a32fae-f288-4607-a0cb-e4bf67ebdebd",
   "metadata": {},
   "outputs": [],
   "source": []
  }
 ],
 "metadata": {
  "kernelspec": {
   "display_name": "Python 3 (ipykernel)",
   "language": "python",
   "name": "python3"
  },
  "language_info": {
   "codemirror_mode": {
    "name": "ipython",
    "version": 3
   },
   "file_extension": ".py",
   "mimetype": "text/x-python",
   "name": "python",
   "nbconvert_exporter": "python",
   "pygments_lexer": "ipython3",
   "version": "3.12.0"
  }
 },
 "nbformat": 4,
 "nbformat_minor": 5
}
