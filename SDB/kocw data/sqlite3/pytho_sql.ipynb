{
 "cells": [
  {
   "cell_type": "markdown",
   "id": "c9723445-5993-49ee-88ba-85be7259aa49",
   "metadata": {},
   "source": [
    "### KOCW 데이터베이스 시연(`Python`)"
   ]
  },
  {
   "cell_type": "code",
   "execution_count": 61,
   "id": "7cbc11c1-cef1-46bf-9793-eecf2fbcdb32",
   "metadata": {},
   "outputs": [],
   "source": [
    "import sqlite3\n",
    "import pandas as pd"
   ]
  },
  {
   "cell_type": "code",
   "execution_count": 62,
   "id": "2a4a3323-3d7a-4903-8b9b-7f5bdb8ec8c4",
   "metadata": {},
   "outputs": [],
   "source": [
    "sql_query = \"\"\"SELECT name FROM sqlite_master\n",
    "    WHERE type='table';\"\"\""
   ]
  },
  {
   "cell_type": "code",
   "execution_count": 63,
   "id": "656b3bb8-8fcc-48ae-8b0c-ca4969cc1ffe",
   "metadata": {},
   "outputs": [],
   "source": [
    "con = sqlite3.connect('kocw.db')"
   ]
  },
  {
   "cell_type": "code",
   "execution_count": 64,
   "id": "120aaa19-7b2f-4914-a2c6-5176b94287e0",
   "metadata": {},
   "outputs": [
    {
     "name": "stdout",
     "output_type": "stream",
     "text": [
      "[('university',), ('professor',), ('norm_course',), ('course_classed',), ('charge',)]\n"
     ]
    }
   ],
   "source": [
    "cur = con.cursor()\n",
    "cur.execute(sql_query)\n",
    "con.execute(\"PRAGMA foreign_keys = 1\")\n",
    "print(cur.fetchall())"
   ]
  },
  {
   "cell_type": "code",
   "execution_count": 65,
   "id": "9c3c4084-7f12-4210-a871-f5173fc3df96",
   "metadata": {
    "scrolled": true
   },
   "outputs": [
    {
     "data": {
      "text/plain": [
       "[('university',),\n",
       " ('professor',),\n",
       " ('norm_course',),\n",
       " ('course_classed',),\n",
       " ('charge',)]"
      ]
     },
     "execution_count": 65,
     "metadata": {},
     "output_type": "execute_result"
    }
   ],
   "source": [
    "cur.execute(sql_query)\n",
    "cur.fetchall()"
   ]
  },
  {
   "cell_type": "code",
   "execution_count": 66,
   "id": "e77906f1-e878-4e1c-a287-816701669d01",
   "metadata": {},
   "outputs": [
    {
     "data": {
      "text/plain": [
       "[(0, '안상욱', '자연계열', '한경대학교'),\n",
       " (1, '이중호', '자연계열', '가천대학교'),\n",
       " (2, '최수한', '자연계열', '단국대학교'),\n",
       " (3, '김문현', '자연계열', '성균관대학교'),\n",
       " (4, '이상준', '자연계열', '덕성여자대학교')]"
      ]
     },
     "execution_count": 66,
     "metadata": {},
     "output_type": "execute_result"
    }
   ],
   "source": [
    "cur.execute(\"SELECT * FROM professor LIMIT 5\")\n",
    "cur.fetchall()"
   ]
  },
  {
   "cell_type": "code",
   "execution_count": 70,
   "id": "dcacbef8-dfee-4e48-8f15-ec0c8ab35061",
   "metadata": {},
   "outputs": [
    {
     "ename": "IntegrityError",
     "evalue": "UNIQUE constraint failed: professor.교수코드",
     "output_type": "error",
     "traceback": [
      "\u001b[0;31m---------------------------------------------------------------------------\u001b[0m",
      "\u001b[0;31mIntegrityError\u001b[0m                            Traceback (most recent call last)",
      "Cell \u001b[0;32mIn[70], line 1\u001b[0m\n\u001b[0;32m----> 1\u001b[0m \u001b[43mcur\u001b[49m\u001b[38;5;241;43m.\u001b[39;49m\u001b[43mexecute\u001b[49m\u001b[43m(\u001b[49m\u001b[38;5;124;43m\"\u001b[39;49m\u001b[38;5;124;43mINSERT INTO professor VALUES (-1, \u001b[39;49m\u001b[38;5;124;43m'\u001b[39;49m\u001b[38;5;124;43m강신성\u001b[39;49m\u001b[38;5;124;43m'\u001b[39;49m\u001b[38;5;124;43m, \u001b[39;49m\u001b[38;5;124;43m'\u001b[39;49m\u001b[38;5;124;43m자연계열\u001b[39;49m\u001b[38;5;124;43m'\u001b[39;49m\u001b[38;5;124;43m, \u001b[39;49m\u001b[38;5;124;43m'\u001b[39;49m\u001b[38;5;124;43m전북대학교\u001b[39;49m\u001b[38;5;124;43m'\u001b[39;49m\u001b[38;5;124;43m);\u001b[39;49m\u001b[38;5;124;43m\"\u001b[39;49m\u001b[43m)\u001b[49m\n\u001b[1;32m      2\u001b[0m cur\u001b[38;5;241m.\u001b[39mexecute(\u001b[38;5;124m\"\u001b[39m\u001b[38;5;124mSELECT * FROM professor LIMIT 300 OFFSET 8670\u001b[39m\u001b[38;5;124m\"\u001b[39m)\n",
      "\u001b[0;31mIntegrityError\u001b[0m: UNIQUE constraint failed: professor.교수코드"
     ]
    }
   ],
   "source": [
    "cur.execute(\"INSERT INTO professor VALUES (-1, '강신성', '자연계열', '전북대학교');\")\n",
    "cur.execute(\"SELECT * FROM professor LIMIT 300 OFFSET 8670\")"
   ]
  },
  {
   "cell_type": "code",
   "execution_count": 69,
   "id": "25655ac0-11ba-486b-bc3d-773e61effea7",
   "metadata": {},
   "outputs": [
    {
     "data": {
      "text/plain": [
       "[(-1, '강신성', '자연계열', '전북대학교'),\n",
       " (0, '안상욱', '자연계열', '한경대학교'),\n",
       " (1, '이중호', '자연계열', '가천대학교'),\n",
       " (2, '최수한', '자연계열', '단국대학교'),\n",
       " (3, '김문현', '자연계열', '성균관대학교'),\n",
       " (4, '이상준', '자연계열', '덕성여자대학교'),\n",
       " (5, '나성호', '자연계열', '과학기술연합대학원대학교'),\n",
       " (6, '강주성', '자연계열', '국민대학교'),\n",
       " (7, '박원광', '자연계열', '국민대학교'),\n",
       " (8, '임완수', '자연계열', '금오공과대학교')]"
      ]
     },
     "execution_count": 69,
     "metadata": {},
     "output_type": "execute_result"
    }
   ],
   "source": [
    "cur.execute(\"SELECT * FROM professor LIMIT 10\")\n",
    "cur.fetchall()"
   ]
  },
  {
   "cell_type": "code",
   "execution_count": 48,
   "id": "69d6cb40-3b45-4509-bf1b-cc7e2dc56ac9",
   "metadata": {},
   "outputs": [
    {
     "name": "stdout",
     "output_type": "stream",
     "text": [
      "['professor', 'course_classed', 'norm_course', 'charge', 'university']\n",
      "table: professor\n",
      "[(0, '교수코드', 'INTEGER', 0, None, 0), (1, '담당교수명', 'TEXT', 0, None, 0), (2, '담당분야', 'TEXT', 0, None, 0), (3, '제공대학명', 'TEXT', 0, None, 0)]\n",
      "[]\n",
      "table: course_classed\n",
      "[(0, '강의명', 'TEXT', 0, None, 0), (1, '교육분류', 'TEXT', 0, None, 0)]\n",
      "[]\n",
      "table: norm_course\n",
      "[(0, '강의코드', 'INTEGER', 0, None, 0), (1, '강의명', 'TEXT', 0, None, 0), (2, '강의년도', 'INTEGER', 0, None, 0), (3, '강의학기', 'INTEGER', 0, None, 0), (4, '제공대학명', 'TEXT', 0, None, 0), (5, '제공일자', 'TEXT', 0, None, 0)]\n",
      "[]\n",
      "table: charge\n",
      "[(0, '교수코드', 'INTEGER', 0, None, 0), (1, '강의코드', 'INTEGER', 0, None, 0)]\n",
      "[]\n",
      "table: university\n",
      "[(0, '제공대학명', 'TEXT', 0, None, 0), (1, '대학소재지(시/도)', 'TEXT', 0, None, 0), (2, '사립/국립 구분', 'TEXT', 0, None, 0)]\n",
      "[]\n"
     ]
    }
   ],
   "source": [
    "rows = cur.execute(\"SELECT name FROM sqlite_master WHERE type = 'table'\")\n",
    "tables = [row[0] for row in rows]\n",
    "print(tables)\n",
    "\n",
    "def sql_identifier(s):\n",
    "    return '\"' + s.replace('\"', '\"\"') + '\"'\n",
    "\n",
    "for table in tables:\n",
    "    print(\"table: \" + table)\n",
    "    rows = cur.execute(\"PRAGMA table_info({})\".format(sql_identifier(table)))\n",
    "    print(rows.fetchall())\n",
    "    rows = cur.execute(\"PRAGMA foreign_key_list({})\".format(sql_identifier(table)))\n",
    "    print(rows.fetchall())"
   ]
  }
 ],
 "metadata": {
  "kernelspec": {
   "display_name": "Python 3 (ipykernel)",
   "language": "python",
   "name": "python3"
  },
  "language_info": {
   "codemirror_mode": {
    "name": "ipython",
    "version": 3
   },
   "file_extension": ".py",
   "mimetype": "text/x-python",
   "name": "python",
   "nbconvert_exporter": "python",
   "pygments_lexer": "ipython3",
   "version": "3.12.0"
  }
 },
 "nbformat": 4,
 "nbformat_minor": 5
}
