{
 "cells": [
  {
   "cell_type": "code",
   "execution_count": 161,
   "id": "7cbc11c1-cef1-46bf-9793-eecf2fbcdb32",
   "metadata": {},
   "outputs": [],
   "source": [
    "import sqlite3\n",
    "import pandas as pd"
   ]
  },
  {
   "cell_type": "code",
   "execution_count": 221,
   "id": "2a4a3323-3d7a-4903-8b9b-7f5bdb8ec8c4",
   "metadata": {},
   "outputs": [],
   "source": [
    "sql_query = \"\"\"SELECT name FROM sqlite_master\n",
    "    WHERE type='table';\"\"\""
   ]
  },
  {
   "cell_type": "code",
   "execution_count": 313,
   "id": "e22e3fd6-8918-4746-81c4-73bb62cc5ec1",
   "metadata": {},
   "outputs": [],
   "source": [
    "professor_df = pd.read_excel(\"/Users/99ksh/TDB/professor.xlsx\")\n",
    "course_classed_df = pd.read_excel(\"/Users/99ksh/TDB/course_classed.xlsx\")\n",
    "norm_course_df = pd.read_excel(\"/Users/99ksh/TDB/norm_course.xlsx\")\n",
    "charge_df = pd.read_excel(\"/Users/99ksh/TDB/charge.xlsx\")\n",
    "university_df = pd.read_excel(\"/Users/99ksh/TDB/university.xlsx\")"
   ]
  },
  {
   "cell_type": "code",
   "execution_count": 314,
   "id": "d066a75d-9f88-4125-a387-80377534b0e0",
   "metadata": {},
   "outputs": [],
   "source": [
    "professor_df = professor_df.iloc[:, 1:]\n",
    "course_classed_df = course_classed_df.iloc[:, 1:]\n",
    "norm_course_df = norm_course_df.iloc[:, 1:]\n",
    "charge_df = charge_df.iloc[:, 1:]\n",
    "university_df = university_df.iloc[:, 1:]"
   ]
  },
  {
   "cell_type": "code",
   "execution_count": 315,
   "id": "c868ade3-87a0-4ab3-a8e2-1a8bdff947ce",
   "metadata": {},
   "outputs": [],
   "source": [
    "university_df.rename(columns={\"사립/국립 구분\": \"구분\"}, inplace=True)\n",
    "university_df.rename(columns={\"대학소재지(시/도)\": \"대학소재지\"}, inplace=True)"
   ]
  },
  {
   "cell_type": "code",
   "execution_count": 316,
   "id": "656b3bb8-8fcc-48ae-8b0c-ca4969cc1ffe",
   "metadata": {},
   "outputs": [],
   "source": [
    "con = sqlite3.connect('kocw.db')"
   ]
  },
  {
   "cell_type": "code",
   "execution_count": 317,
   "id": "120aaa19-7b2f-4914-a2c6-5176b94287e0",
   "metadata": {},
   "outputs": [
    {
     "name": "stdout",
     "output_type": "stream",
     "text": [
      "[]\n"
     ]
    }
   ],
   "source": [
    "cur = con.cursor()\n",
    "cur.execute(sql_query)\n",
    "con.execute(\"PRAGMA foreign_keys = ON\")\n",
    "print(cur.fetchall())"
   ]
  },
  {
   "cell_type": "code",
   "execution_count": 318,
   "id": "6ec57501-dfdd-4cc6-b5f7-19b47812e6e4",
   "metadata": {},
   "outputs": [
    {
     "data": {
      "text/plain": [
       "<sqlite3.Cursor at 0x165fe7540>"
      ]
     },
     "execution_count": 318,
     "metadata": {},
     "output_type": "execute_result"
    }
   ],
   "source": [
    "cur.execute(\"DROP TABLE IF EXISTS charge\")\n",
    "cur.execute(\"DROP TABLE IF EXISTS norm_course\")\n",
    "cur.execute(\"DROP TABLE IF EXISTS course_classed\")\n",
    "cur.execute(\"DROP TABLE IF EXISTS professor\")\n",
    "cur.execute(\"DROP TABLE IF EXISTS university\")"
   ]
  },
  {
   "cell_type": "code",
   "execution_count": 319,
   "id": "90dc6706-9e6f-4d9f-97df-c15c6ebd34cc",
   "metadata": {},
   "outputs": [],
   "source": [
    "university = \"\"\" CREATE TABLE university (\n",
    "            제공대학명 CHAR(50) PRIMARY KEY NOT NULL UNIQUE,\n",
    "            대학소재지 CHAR(50) ,\n",
    "            구분 CHAR(50)\n",
    "        ); \"\"\""
   ]
  },
  {
   "cell_type": "code",
   "execution_count": 320,
   "id": "8e51b2bf-bec9-42aa-95eb-61a5ec52794d",
   "metadata": {},
   "outputs": [],
   "source": [
    "professor = \"\"\" CREATE TABLE professor (\n",
    "            교수코드 INTEGER PRIMARY KEY NOT NULL UNIQUE,\n",
    "            담당교수명 CHAR(50) ,\n",
    "            담당분야 CHAR(50),\n",
    "            소속대학명 CHAR(50),\n",
    "            FOREIGN KEY (소속대학명) REFERENCES university (제공대학명)\n",
    "                ON UPDATE CASCADE\n",
    "                ON DELETE SET NULL\n",
    "        ); \"\"\""
   ]
  },
  {
   "cell_type": "code",
   "execution_count": 321,
   "id": "570547a6-b686-4df1-ae8f-e1e2367d34db",
   "metadata": {},
   "outputs": [],
   "source": [
    "norm_course = \"\"\" CREATE TABLE norm_course (\n",
    "    강의코드 INTEGER PRIMARY KEY NOT NULL UNIQUE,\n",
    "    강의명 CHAR(50),\n",
    "    교육분류 CHAR(50),\n",
    "    강의년도 INTEGER,\n",
    "    강의학기 INT,\n",
    "    제공대학명 CHAR(50),\n",
    "    제공일자 DATE,\n",
    "    FOREIGN KEY (제공대학명) REFERENCES university (제공대학명)\n",
    "    \n",
    "        ); \"\"\""
   ]
  },
  {
   "cell_type": "code",
   "execution_count": 322,
   "id": "1ce38fc2-e256-414b-8248-b4921e2c49ab",
   "metadata": {},
   "outputs": [],
   "source": [
    "course_classed  = \"\"\" CREATE TABLE course_classed (\n",
    "    강의명 CHAR(50) PRIMARY KEY NOT NULL UNIQUE,\n",
    "    교육분류 CHAR(50)\n",
    "        ); \"\"\""
   ]
  },
  {
   "cell_type": "code",
   "execution_count": 323,
   "id": "08c7fafd-79ff-456a-b5f6-3f07a2106b19",
   "metadata": {},
   "outputs": [],
   "source": [
    "charge = \"\"\" CREATE TABLE charge (\n",
    "    교수코드 INTEGER,\n",
    "    강의코드 INTEGER,\n",
    "    PRIMARY KEY (교수코드, 강의코드),\n",
    "    FOREIGN KEY (교수코드) REFERENCES professor (교수코드)\n",
    "        ON UPDATE CASCADE\n",
    "        ON DELETE CASCADE,\n",
    "    FOREIGN KEY (강의코드) REFERENCES norm_course (강의코드)\n",
    "        ON UPDATE CASCADE\n",
    "        ON DELETE CASCADE\n",
    "        ); \"\"\""
   ]
  },
  {
   "cell_type": "code",
   "execution_count": 324,
   "id": "07f891c1-2aae-4a5d-8e43-8ed1727c7eff",
   "metadata": {},
   "outputs": [
    {
     "data": {
      "text/plain": [
       "<sqlite3.Cursor at 0x165fe7540>"
      ]
     },
     "execution_count": 324,
     "metadata": {},
     "output_type": "execute_result"
    }
   ],
   "source": [
    "cur.execute(charge)\n",
    "cur.execute(university)\n",
    "cur.execute(professor)\n",
    "cur.execute(norm_course)\n",
    "cur.execute(course_classed)"
   ]
  },
  {
   "cell_type": "code",
   "execution_count": 325,
   "id": "9c3c4084-7f12-4210-a871-f5173fc3df96",
   "metadata": {},
   "outputs": [
    {
     "data": {
      "text/plain": [
       "[('charge',),\n",
       " ('university',),\n",
       " ('professor',),\n",
       " ('norm_course',),\n",
       " ('course_classed',)]"
      ]
     },
     "execution_count": 325,
     "metadata": {},
     "output_type": "execute_result"
    }
   ],
   "source": [
    "cur.execute(sql_query)\n",
    "cur.fetchall()"
   ]
  },
  {
   "cell_type": "code",
   "execution_count": 326,
   "id": "f556678b-b0d4-47ee-8c1f-54f419ceb8de",
   "metadata": {
    "scrolled": true
   },
   "outputs": [
    {
     "ename": "DatabaseError",
     "evalue": "Execution failed on sql 'DROP TABLE \"norm_course\"': foreign key mismatch - \"charge\" referencing \"professor\"",
     "output_type": "error",
     "traceback": [
      "\u001b[0;31m---------------------------------------------------------------------------\u001b[0m",
      "\u001b[0;31mOperationalError\u001b[0m                          Traceback (most recent call last)",
      "File \u001b[0;32m~/anaconda3/envs/aienv/lib/python3.12/site-packages/pandas/io/sql.py:2674\u001b[0m, in \u001b[0;36mSQLiteDatabase.execute\u001b[0;34m(self, sql, params)\u001b[0m\n\u001b[1;32m   2673\u001b[0m \u001b[38;5;28;01mtry\u001b[39;00m:\n\u001b[0;32m-> 2674\u001b[0m     cur\u001b[38;5;241m.\u001b[39mexecute(sql, \u001b[38;5;241m*\u001b[39margs)\n\u001b[1;32m   2675\u001b[0m     \u001b[38;5;28;01mreturn\u001b[39;00m cur\n",
      "\u001b[0;31mOperationalError\u001b[0m: foreign key mismatch - \"charge\" referencing \"professor\"",
      "\nThe above exception was the direct cause of the following exception:\n",
      "\u001b[0;31mDatabaseError\u001b[0m                             Traceback (most recent call last)",
      "Cell \u001b[0;32mIn[326], line 3\u001b[0m\n\u001b[1;32m      1\u001b[0m professor_df\u001b[38;5;241m.\u001b[39mto_sql(\u001b[38;5;124m'\u001b[39m\u001b[38;5;124mprofessor\u001b[39m\u001b[38;5;124m'\u001b[39m, con, if_exists\u001b[38;5;241m=\u001b[39m\u001b[38;5;124m'\u001b[39m\u001b[38;5;124mreplace\u001b[39m\u001b[38;5;124m'\u001b[39m, index\u001b[38;5;241m=\u001b[39m\u001b[38;5;28;01mFalse\u001b[39;00m)\n\u001b[1;32m      2\u001b[0m course_classed_df\u001b[38;5;241m.\u001b[39mto_sql(\u001b[38;5;124m'\u001b[39m\u001b[38;5;124mcourse_classed\u001b[39m\u001b[38;5;124m'\u001b[39m, con, if_exists\u001b[38;5;241m=\u001b[39m\u001b[38;5;124m'\u001b[39m\u001b[38;5;124mreplace\u001b[39m\u001b[38;5;124m'\u001b[39m, index\u001b[38;5;241m=\u001b[39m\u001b[38;5;28;01mFalse\u001b[39;00m)\n\u001b[0;32m----> 3\u001b[0m norm_course_df\u001b[38;5;241m.\u001b[39mto_sql(\u001b[38;5;124m'\u001b[39m\u001b[38;5;124mnorm_course\u001b[39m\u001b[38;5;124m'\u001b[39m, con, if_exists\u001b[38;5;241m=\u001b[39m\u001b[38;5;124m'\u001b[39m\u001b[38;5;124mreplace\u001b[39m\u001b[38;5;124m'\u001b[39m, index\u001b[38;5;241m=\u001b[39m\u001b[38;5;28;01mFalse\u001b[39;00m)\n\u001b[1;32m      4\u001b[0m charge_df\u001b[38;5;241m.\u001b[39mto_sql(\u001b[38;5;124m'\u001b[39m\u001b[38;5;124mcharge\u001b[39m\u001b[38;5;124m'\u001b[39m, con, if_exists\u001b[38;5;241m=\u001b[39m\u001b[38;5;124m'\u001b[39m\u001b[38;5;124mreplace\u001b[39m\u001b[38;5;124m'\u001b[39m, index\u001b[38;5;241m=\u001b[39m\u001b[38;5;28;01mFalse\u001b[39;00m)\n\u001b[1;32m      5\u001b[0m university_df\u001b[38;5;241m.\u001b[39mto_sql(\u001b[38;5;124m'\u001b[39m\u001b[38;5;124muniversity\u001b[39m\u001b[38;5;124m'\u001b[39m, con, if_exists\u001b[38;5;241m=\u001b[39m\u001b[38;5;124m'\u001b[39m\u001b[38;5;124mreplace\u001b[39m\u001b[38;5;124m'\u001b[39m, index\u001b[38;5;241m=\u001b[39m\u001b[38;5;28;01mFalse\u001b[39;00m)\n",
      "File \u001b[0;32m~/anaconda3/envs/aienv/lib/python3.12/site-packages/pandas/util/_decorators.py:333\u001b[0m, in \u001b[0;36mdeprecate_nonkeyword_arguments.<locals>.decorate.<locals>.wrapper\u001b[0;34m(*args, **kwargs)\u001b[0m\n\u001b[1;32m    327\u001b[0m \u001b[38;5;28;01mif\u001b[39;00m \u001b[38;5;28mlen\u001b[39m(args) \u001b[38;5;241m>\u001b[39m num_allow_args:\n\u001b[1;32m    328\u001b[0m     warnings\u001b[38;5;241m.\u001b[39mwarn(\n\u001b[1;32m    329\u001b[0m         msg\u001b[38;5;241m.\u001b[39mformat(arguments\u001b[38;5;241m=\u001b[39m_format_argument_list(allow_args)),\n\u001b[1;32m    330\u001b[0m         \u001b[38;5;167;01mFutureWarning\u001b[39;00m,\n\u001b[1;32m    331\u001b[0m         stacklevel\u001b[38;5;241m=\u001b[39mfind_stack_level(),\n\u001b[1;32m    332\u001b[0m     )\n\u001b[0;32m--> 333\u001b[0m \u001b[38;5;28;01mreturn\u001b[39;00m func(\u001b[38;5;241m*\u001b[39margs, \u001b[38;5;241m*\u001b[39m\u001b[38;5;241m*\u001b[39mkwargs)\n",
      "File \u001b[0;32m~/anaconda3/envs/aienv/lib/python3.12/site-packages/pandas/core/generic.py:3087\u001b[0m, in \u001b[0;36mNDFrame.to_sql\u001b[0;34m(self, name, con, schema, if_exists, index, index_label, chunksize, dtype, method)\u001b[0m\n\u001b[1;32m   2889\u001b[0m \u001b[38;5;250m\u001b[39m\u001b[38;5;124;03m\"\"\"\u001b[39;00m\n\u001b[1;32m   2890\u001b[0m \u001b[38;5;124;03mWrite records stored in a DataFrame to a SQL database.\u001b[39;00m\n\u001b[1;32m   2891\u001b[0m \n\u001b[0;32m   (...)\u001b[0m\n\u001b[1;32m   3083\u001b[0m \u001b[38;5;124;03m[(1,), (None,), (2,)]\u001b[39;00m\n\u001b[1;32m   3084\u001b[0m \u001b[38;5;124;03m\"\"\"\u001b[39;00m  \u001b[38;5;66;03m# noqa: E501\u001b[39;00m\n\u001b[1;32m   3085\u001b[0m \u001b[38;5;28;01mfrom\u001b[39;00m \u001b[38;5;21;01mpandas\u001b[39;00m\u001b[38;5;21;01m.\u001b[39;00m\u001b[38;5;21;01mio\u001b[39;00m \u001b[38;5;28;01mimport\u001b[39;00m sql\n\u001b[0;32m-> 3087\u001b[0m \u001b[38;5;28;01mreturn\u001b[39;00m sql\u001b[38;5;241m.\u001b[39mto_sql(\n\u001b[1;32m   3088\u001b[0m     \u001b[38;5;28mself\u001b[39m,\n\u001b[1;32m   3089\u001b[0m     name,\n\u001b[1;32m   3090\u001b[0m     con,\n\u001b[1;32m   3091\u001b[0m     schema\u001b[38;5;241m=\u001b[39mschema,\n\u001b[1;32m   3092\u001b[0m     if_exists\u001b[38;5;241m=\u001b[39mif_exists,\n\u001b[1;32m   3093\u001b[0m     index\u001b[38;5;241m=\u001b[39mindex,\n\u001b[1;32m   3094\u001b[0m     index_label\u001b[38;5;241m=\u001b[39mindex_label,\n\u001b[1;32m   3095\u001b[0m     chunksize\u001b[38;5;241m=\u001b[39mchunksize,\n\u001b[1;32m   3096\u001b[0m     dtype\u001b[38;5;241m=\u001b[39mdtype,\n\u001b[1;32m   3097\u001b[0m     method\u001b[38;5;241m=\u001b[39mmethod,\n\u001b[1;32m   3098\u001b[0m )\n",
      "File \u001b[0;32m~/anaconda3/envs/aienv/lib/python3.12/site-packages/pandas/io/sql.py:842\u001b[0m, in \u001b[0;36mto_sql\u001b[0;34m(frame, name, con, schema, if_exists, index, index_label, chunksize, dtype, method, engine, **engine_kwargs)\u001b[0m\n\u001b[1;32m    837\u001b[0m     \u001b[38;5;28;01mraise\u001b[39;00m \u001b[38;5;167;01mNotImplementedError\u001b[39;00m(\n\u001b[1;32m    838\u001b[0m         \u001b[38;5;124m\"\u001b[39m\u001b[38;5;124m'\u001b[39m\u001b[38;5;124mframe\u001b[39m\u001b[38;5;124m'\u001b[39m\u001b[38;5;124m argument should be either a Series or a DataFrame\u001b[39m\u001b[38;5;124m\"\u001b[39m\n\u001b[1;32m    839\u001b[0m     )\n\u001b[1;32m    841\u001b[0m \u001b[38;5;28;01mwith\u001b[39;00m pandasSQL_builder(con, schema\u001b[38;5;241m=\u001b[39mschema, need_transaction\u001b[38;5;241m=\u001b[39m\u001b[38;5;28;01mTrue\u001b[39;00m) \u001b[38;5;28;01mas\u001b[39;00m pandas_sql:\n\u001b[0;32m--> 842\u001b[0m     \u001b[38;5;28;01mreturn\u001b[39;00m pandas_sql\u001b[38;5;241m.\u001b[39mto_sql(\n\u001b[1;32m    843\u001b[0m         frame,\n\u001b[1;32m    844\u001b[0m         name,\n\u001b[1;32m    845\u001b[0m         if_exists\u001b[38;5;241m=\u001b[39mif_exists,\n\u001b[1;32m    846\u001b[0m         index\u001b[38;5;241m=\u001b[39mindex,\n\u001b[1;32m    847\u001b[0m         index_label\u001b[38;5;241m=\u001b[39mindex_label,\n\u001b[1;32m    848\u001b[0m         schema\u001b[38;5;241m=\u001b[39mschema,\n\u001b[1;32m    849\u001b[0m         chunksize\u001b[38;5;241m=\u001b[39mchunksize,\n\u001b[1;32m    850\u001b[0m         dtype\u001b[38;5;241m=\u001b[39mdtype,\n\u001b[1;32m    851\u001b[0m         method\u001b[38;5;241m=\u001b[39mmethod,\n\u001b[1;32m    852\u001b[0m         engine\u001b[38;5;241m=\u001b[39mengine,\n\u001b[1;32m    853\u001b[0m         \u001b[38;5;241m*\u001b[39m\u001b[38;5;241m*\u001b[39mengine_kwargs,\n\u001b[1;32m    854\u001b[0m     )\n",
      "File \u001b[0;32m~/anaconda3/envs/aienv/lib/python3.12/site-packages/pandas/io/sql.py:2850\u001b[0m, in \u001b[0;36mSQLiteDatabase.to_sql\u001b[0;34m(self, frame, name, if_exists, index, index_label, schema, chunksize, dtype, method, engine, **engine_kwargs)\u001b[0m\n\u001b[1;32m   2839\u001b[0m             \u001b[38;5;28;01mraise\u001b[39;00m \u001b[38;5;167;01mValueError\u001b[39;00m(\u001b[38;5;124mf\u001b[39m\u001b[38;5;124m\"\u001b[39m\u001b[38;5;132;01m{\u001b[39;00mcol\u001b[38;5;132;01m}\u001b[39;00m\u001b[38;5;124m (\u001b[39m\u001b[38;5;132;01m{\u001b[39;00mmy_type\u001b[38;5;132;01m}\u001b[39;00m\u001b[38;5;124m) not a string\u001b[39m\u001b[38;5;124m\"\u001b[39m)\n\u001b[1;32m   2841\u001b[0m table \u001b[38;5;241m=\u001b[39m SQLiteTable(\n\u001b[1;32m   2842\u001b[0m     name,\n\u001b[1;32m   2843\u001b[0m     \u001b[38;5;28mself\u001b[39m,\n\u001b[0;32m   (...)\u001b[0m\n\u001b[1;32m   2848\u001b[0m     dtype\u001b[38;5;241m=\u001b[39mdtype,\n\u001b[1;32m   2849\u001b[0m )\n\u001b[0;32m-> 2850\u001b[0m table\u001b[38;5;241m.\u001b[39mcreate()\n\u001b[1;32m   2851\u001b[0m \u001b[38;5;28;01mreturn\u001b[39;00m table\u001b[38;5;241m.\u001b[39minsert(chunksize, method)\n",
      "File \u001b[0;32m~/anaconda3/envs/aienv/lib/python3.12/site-packages/pandas/io/sql.py:988\u001b[0m, in \u001b[0;36mSQLTable.create\u001b[0;34m(self)\u001b[0m\n\u001b[1;32m    986\u001b[0m     \u001b[38;5;28;01mraise\u001b[39;00m \u001b[38;5;167;01mValueError\u001b[39;00m(\u001b[38;5;124mf\u001b[39m\u001b[38;5;124m\"\u001b[39m\u001b[38;5;124mTable \u001b[39m\u001b[38;5;124m'\u001b[39m\u001b[38;5;132;01m{\u001b[39;00m\u001b[38;5;28mself\u001b[39m\u001b[38;5;241m.\u001b[39mname\u001b[38;5;132;01m}\u001b[39;00m\u001b[38;5;124m'\u001b[39m\u001b[38;5;124m already exists.\u001b[39m\u001b[38;5;124m\"\u001b[39m)\n\u001b[1;32m    987\u001b[0m \u001b[38;5;28;01mif\u001b[39;00m \u001b[38;5;28mself\u001b[39m\u001b[38;5;241m.\u001b[39mif_exists \u001b[38;5;241m==\u001b[39m \u001b[38;5;124m\"\u001b[39m\u001b[38;5;124mreplace\u001b[39m\u001b[38;5;124m\"\u001b[39m:\n\u001b[0;32m--> 988\u001b[0m     \u001b[38;5;28mself\u001b[39m\u001b[38;5;241m.\u001b[39mpd_sql\u001b[38;5;241m.\u001b[39mdrop_table(\u001b[38;5;28mself\u001b[39m\u001b[38;5;241m.\u001b[39mname, \u001b[38;5;28mself\u001b[39m\u001b[38;5;241m.\u001b[39mschema)\n\u001b[1;32m    989\u001b[0m     \u001b[38;5;28mself\u001b[39m\u001b[38;5;241m.\u001b[39m_execute_create()\n\u001b[1;32m    990\u001b[0m \u001b[38;5;28;01melif\u001b[39;00m \u001b[38;5;28mself\u001b[39m\u001b[38;5;241m.\u001b[39mif_exists \u001b[38;5;241m==\u001b[39m \u001b[38;5;124m\"\u001b[39m\u001b[38;5;124mappend\u001b[39m\u001b[38;5;124m\"\u001b[39m:\n",
      "File \u001b[0;32m~/anaconda3/envs/aienv/lib/python3.12/site-packages/pandas/io/sql.py:2872\u001b[0m, in \u001b[0;36mSQLiteDatabase.drop_table\u001b[0;34m(self, name, schema)\u001b[0m\n\u001b[1;32m   2870\u001b[0m \u001b[38;5;28;01mdef\u001b[39;00m \u001b[38;5;21mdrop_table\u001b[39m(\u001b[38;5;28mself\u001b[39m, name: \u001b[38;5;28mstr\u001b[39m, schema: \u001b[38;5;28mstr\u001b[39m \u001b[38;5;241m|\u001b[39m \u001b[38;5;28;01mNone\u001b[39;00m \u001b[38;5;241m=\u001b[39m \u001b[38;5;28;01mNone\u001b[39;00m) \u001b[38;5;241m-\u001b[39m\u001b[38;5;241m>\u001b[39m \u001b[38;5;28;01mNone\u001b[39;00m:\n\u001b[1;32m   2871\u001b[0m     drop_sql \u001b[38;5;241m=\u001b[39m \u001b[38;5;124mf\u001b[39m\u001b[38;5;124m\"\u001b[39m\u001b[38;5;124mDROP TABLE \u001b[39m\u001b[38;5;132;01m{\u001b[39;00m_get_valid_sqlite_name(name)\u001b[38;5;132;01m}\u001b[39;00m\u001b[38;5;124m\"\u001b[39m\n\u001b[0;32m-> 2872\u001b[0m     \u001b[38;5;28mself\u001b[39m\u001b[38;5;241m.\u001b[39mexecute(drop_sql)\n",
      "File \u001b[0;32m~/anaconda3/envs/aienv/lib/python3.12/site-packages/pandas/io/sql.py:2686\u001b[0m, in \u001b[0;36mSQLiteDatabase.execute\u001b[0;34m(self, sql, params)\u001b[0m\n\u001b[1;32m   2683\u001b[0m     \u001b[38;5;28;01mraise\u001b[39;00m ex \u001b[38;5;28;01mfrom\u001b[39;00m \u001b[38;5;21;01minner_exc\u001b[39;00m\n\u001b[1;32m   2685\u001b[0m ex \u001b[38;5;241m=\u001b[39m DatabaseError(\u001b[38;5;124mf\u001b[39m\u001b[38;5;124m\"\u001b[39m\u001b[38;5;124mExecution failed on sql \u001b[39m\u001b[38;5;124m'\u001b[39m\u001b[38;5;132;01m{\u001b[39;00msql\u001b[38;5;132;01m}\u001b[39;00m\u001b[38;5;124m'\u001b[39m\u001b[38;5;124m: \u001b[39m\u001b[38;5;132;01m{\u001b[39;00mexc\u001b[38;5;132;01m}\u001b[39;00m\u001b[38;5;124m\"\u001b[39m)\n\u001b[0;32m-> 2686\u001b[0m \u001b[38;5;28;01mraise\u001b[39;00m ex \u001b[38;5;28;01mfrom\u001b[39;00m \u001b[38;5;21;01mexc\u001b[39;00m\n",
      "\u001b[0;31mDatabaseError\u001b[0m: Execution failed on sql 'DROP TABLE \"norm_course\"': foreign key mismatch - \"charge\" referencing \"professor\""
     ]
    }
   ],
   "source": [
    "professor_df.to_sql('professor', con, if_exists='replace', index=False)\n",
    "course_classed_df.to_sql('course_classed', con, if_exists='replace', index=False)\n",
    "norm_course_df.to_sql('norm_course', con, if_exists='replace', index=False)\n",
    "charge_df.to_sql('charge', con, if_exists='replace', index=False)\n",
    "university_df.to_sql('university', con, if_exists='replace', index=False)"
   ]
  },
  {
   "cell_type": "code",
   "execution_count": 175,
   "id": "cd578065-951d-4340-a7db-02d04c016e1d",
   "metadata": {},
   "outputs": [
    {
     "data": {
      "text/plain": [
       "<function Connection.close()>"
      ]
     },
     "execution_count": 175,
     "metadata": {},
     "output_type": "execute_result"
    }
   ],
   "source": [
    "conn.close"
   ]
  },
  {
   "cell_type": "code",
   "execution_count": 218,
   "id": "91dd8d69-9e97-4c4f-bf2d-e28838aba43f",
   "metadata": {},
   "outputs": [
    {
     "name": "stdout",
     "output_type": "stream",
     "text": [
      "['professor', 'course_classed', 'norm_course', 'charge', 'university']\n",
      "table: professor\n",
      "[(0, '교수코드', 'INTEGER', 0, None, 0), (1, '담당교수명', 'TEXT', 0, None, 0), (2, '담당분야', 'TEXT', 0, None, 0), (3, '제공대학명', 'TEXT', 0, None, 0)]\n",
      "[]\n",
      "table: course_classed\n",
      "[(0, '강의명', 'TEXT', 0, None, 0), (1, '교육분류', 'TEXT', 0, None, 0)]\n",
      "[]\n",
      "table: norm_course\n",
      "[(0, '강의코드', 'INTEGER', 0, None, 0), (1, '강의명', 'TEXT', 0, None, 0), (2, '강의년도', 'INTEGER', 0, None, 0), (3, '강의학기', 'INTEGER', 0, None, 0), (4, '제공대학명', 'TEXT', 0, None, 0), (5, '제공일자', 'TEXT', 0, None, 0)]\n",
      "[]\n",
      "table: charge\n",
      "[(0, '교수코드', 'INTEGER', 0, None, 0), (1, '강의코드', 'INTEGER', 0, None, 0)]\n",
      "[]\n",
      "table: university\n",
      "[(0, '제공대학명', 'TEXT', 0, None, 0), (1, '대학소재지(시/도)', 'TEXT', 0, None, 0), (2, '사립/국립 구분', 'TEXT', 0, None, 0)]\n",
      "[]\n"
     ]
    }
   ],
   "source": [
    "rows = cur.execute(\"SELECT name FROM sqlite_master WHERE type = 'table'\")\n",
    "tables = [row[0] for row in rows]\n",
    "print(tables)\n",
    "\n",
    "def sql_identifier(s):\n",
    "    return '\"' + s.replace('\"', '\"\"') + '\"'\n",
    "\n",
    "for table in tables:\n",
    "    print(\"table: \" + table)\n",
    "    rows = cur.execute(\"PRAGMA table_info({})\".format(sql_identifier(table)))\n",
    "    print(rows.fetchall())\n",
    "    rows = cur.execute(\"PRAGMA foreign_key_list({})\".format(sql_identifier(table)))\n",
    "    print(rows.fetchall())"
   ]
  },
  {
   "cell_type": "code",
   "execution_count": null,
   "id": "61800443-f9ea-41a1-984c-9c6af185d3b9",
   "metadata": {},
   "outputs": [],
   "source": []
  }
 ],
 "metadata": {
  "kernelspec": {
   "display_name": "Python 3 (ipykernel)",
   "language": "python",
   "name": "python3"
  },
  "language_info": {
   "codemirror_mode": {
    "name": "ipython",
    "version": 3
   },
   "file_extension": ".py",
   "mimetype": "text/x-python",
   "name": "python",
   "nbconvert_exporter": "python",
   "pygments_lexer": "ipython3",
   "version": "3.12.0"
  }
 },
 "nbformat": 4,
 "nbformat_minor": 5
}
