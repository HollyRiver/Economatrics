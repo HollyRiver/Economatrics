{
 "cells": [
  {
   "cell_type": "markdown",
   "id": "8d71f651-461c-4fdc-87a2-cdb51822a371",
   "metadata": {},
   "source": [
    "* sql로 정보 추출(조인, groupby 등등)\n",
    "\n",
    "* EDA나 간단한 분석(회귀분석도 막 ANOVA 뽑거나 그러지 말고 그냥 직선만 그리세요)\n",
    "> 데이터 시각화로 잘 표현해주는 것이 중요함. ㅇㅇ\n",
    "\n",
    "* 발표에 포함해야 할 20개의 내용 정도를 정리해서 올려줄 예정, 이걸 평가기준이라고 생각하면 됨."
   ]
  },
  {
   "cell_type": "code",
   "execution_count": 30,
   "id": "ed3768ba-99b5-408e-bfc4-fcff7d8ac3f6",
   "metadata": {},
   "outputs": [],
   "source": [
    "import pandas as pd\n",
    "import sqlite3"
   ]
  },
  {
   "cell_type": "code",
   "execution_count": 31,
   "id": "c4cc91d4-cc82-4563-80dd-556b4fd25f02",
   "metadata": {},
   "outputs": [
    {
     "data": {
      "text/plain": [
       "<sqlite3.Cursor at 0x7f8131637840>"
      ]
     },
     "execution_count": 31,
     "metadata": {},
     "output_type": "execute_result"
    }
   ],
   "source": [
    "con = sqlite3.connect(\":memory:\")  ## Access to memory\n",
    "con = sqlite3.connect(\"./KOCW_py.db\")  ## Access to DB file or Create DB file\n",
    "con.execute(\"PRAGMA foreign_keys = 1\")"
   ]
  },
  {
   "cell_type": "code",
   "execution_count": 35,
   "id": "a488ef48-7d8c-49a8-9939-4569aef4c659",
   "metadata": {},
   "outputs": [
    {
     "data": {
      "text/plain": [
       "<sqlite3.Cursor at 0x7f813150f840>"
      ]
     },
     "execution_count": 35,
     "metadata": {},
     "output_type": "execute_result"
    }
   ],
   "source": [
    "table = \"\"\" CREATE TABLE norm_course (\n",
    "            강의코드 INT PRIMARY KEY,\n",
    "            강의명 CHAR(25),\n",
    "            강의년도 INT,\n",
    "            강의학기 INT,\n",
    "            제공대학명 CHAR(25),\n",
    "            제공일자 DATE\n",
    "        ); \"\"\"\n",
    "\n",
    "cur = con.cursor()\n",
    "cur.execute(table)"
   ]
  },
  {
   "cell_type": "code",
   "execution_count": 36,
   "id": "d06aa8b4-357c-4f96-80ad-f6460371b589",
   "metadata": {},
   "outputs": [
    {
     "name": "stdout",
     "output_type": "stream",
     "text": [
      "[]\n"
     ]
    }
   ],
   "source": [
    "cur.execute(\"SELECT * FROM norm_course\")\n",
    "print(cur.fetchall())"
   ]
  },
  {
   "cell_type": "code",
   "execution_count": 37,
   "id": "a0862e62-f066-4034-9404-934f6a58047e",
   "metadata": {},
   "outputs": [
    {
     "data": {
      "text/html": [
       "<div>\n",
       "<style scoped>\n",
       "    .dataframe tbody tr th:only-of-type {\n",
       "        vertical-align: middle;\n",
       "    }\n",
       "\n",
       "    .dataframe tbody tr th {\n",
       "        vertical-align: top;\n",
       "    }\n",
       "\n",
       "    .dataframe thead th {\n",
       "        text-align: right;\n",
       "    }\n",
       "</style>\n",
       "<table border=\"1\" class=\"dataframe\">\n",
       "  <thead>\n",
       "    <tr style=\"text-align: right;\">\n",
       "      <th></th>\n",
       "      <th>강의코드</th>\n",
       "      <th>강의명</th>\n",
       "      <th>강의년도</th>\n",
       "      <th>강의학기</th>\n",
       "      <th>제공대학명</th>\n",
       "      <th>제공일자</th>\n",
       "    </tr>\n",
       "  </thead>\n",
       "  <tbody>\n",
       "    <tr>\n",
       "      <th>0</th>\n",
       "      <td>1095582</td>\n",
       "      <td>대학수학1</td>\n",
       "      <td>2015</td>\n",
       "      <td>1</td>\n",
       "      <td>한경대학교</td>\n",
       "      <td>2015-08-30</td>\n",
       "    </tr>\n",
       "    <tr>\n",
       "      <th>1</th>\n",
       "      <td>1104074</td>\n",
       "      <td>수학1</td>\n",
       "      <td>2015</td>\n",
       "      <td>1</td>\n",
       "      <td>가천대학교</td>\n",
       "      <td>2015-09-14</td>\n",
       "    </tr>\n",
       "    <tr>\n",
       "      <th>2</th>\n",
       "      <td>1110603</td>\n",
       "      <td>미적분학</td>\n",
       "      <td>2015</td>\n",
       "      <td>1</td>\n",
       "      <td>단국대학교</td>\n",
       "      <td>2015-10-08</td>\n",
       "    </tr>\n",
       "    <tr>\n",
       "      <th>3</th>\n",
       "      <td>1112400</td>\n",
       "      <td>공학수학1</td>\n",
       "      <td>2015</td>\n",
       "      <td>1</td>\n",
       "      <td>성균관대학교</td>\n",
       "      <td>2015-11-02</td>\n",
       "    </tr>\n",
       "    <tr>\n",
       "      <th>4</th>\n",
       "      <td>1118072</td>\n",
       "      <td>정수론</td>\n",
       "      <td>2015</td>\n",
       "      <td>2</td>\n",
       "      <td>덕성여자대학교</td>\n",
       "      <td>2015-12-16</td>\n",
       "    </tr>\n",
       "    <tr>\n",
       "      <th>...</th>\n",
       "      <td>...</td>\n",
       "      <td>...</td>\n",
       "      <td>...</td>\n",
       "      <td>...</td>\n",
       "      <td>...</td>\n",
       "      <td>...</td>\n",
       "    </tr>\n",
       "    <tr>\n",
       "      <th>16809</th>\n",
       "      <td>1430653</td>\n",
       "      <td>다변량통계학(II)</td>\n",
       "      <td>2021</td>\n",
       "      <td>2</td>\n",
       "      <td>부산대학교</td>\n",
       "      <td>2015-01-08</td>\n",
       "    </tr>\n",
       "    <tr>\n",
       "      <th>16810</th>\n",
       "      <td>1443736</td>\n",
       "      <td>AI를 위한 딥러닝</td>\n",
       "      <td>2022</td>\n",
       "      <td>1</td>\n",
       "      <td>중앙대학교</td>\n",
       "      <td>2016-04-07</td>\n",
       "    </tr>\n",
       "    <tr>\n",
       "      <th>16811</th>\n",
       "      <td>1445911</td>\n",
       "      <td>회귀분석(II)</td>\n",
       "      <td>2021</td>\n",
       "      <td>2</td>\n",
       "      <td>부산대학교</td>\n",
       "      <td>2017-10-17</td>\n",
       "    </tr>\n",
       "    <tr>\n",
       "      <th>16812</th>\n",
       "      <td>820840</td>\n",
       "      <td>과학사 이해</td>\n",
       "      <td>2013</td>\n",
       "      <td>2</td>\n",
       "      <td>신라대학교</td>\n",
       "      <td>2012-02-29</td>\n",
       "    </tr>\n",
       "    <tr>\n",
       "      <th>16813</th>\n",
       "      <td>1398367</td>\n",
       "      <td>예방치과학의 이해</td>\n",
       "      <td>2020</td>\n",
       "      <td>2</td>\n",
       "      <td>울산과학대학교</td>\n",
       "      <td>2013-01-31</td>\n",
       "    </tr>\n",
       "  </tbody>\n",
       "</table>\n",
       "<p>16814 rows × 6 columns</p>\n",
       "</div>"
      ],
      "text/plain": [
       "          강의코드         강의명  강의년도  강의학기    제공대학명        제공일자\n",
       "0      1095582       대학수학1  2015     1    한경대학교  2015-08-30\n",
       "1      1104074         수학1  2015     1    가천대학교  2015-09-14\n",
       "2      1110603        미적분학  2015     1    단국대학교  2015-10-08\n",
       "3      1112400       공학수학1  2015     1   성균관대학교  2015-11-02\n",
       "4      1118072         정수론  2015     2  덕성여자대학교  2015-12-16\n",
       "...        ...         ...   ...   ...      ...         ...\n",
       "16809  1430653  다변량통계학(II)  2021     2    부산대학교  2015-01-08\n",
       "16810  1443736  AI를 위한 딥러닝  2022     1    중앙대학교  2016-04-07\n",
       "16811  1445911    회귀분석(II)  2021     2    부산대학교  2017-10-17\n",
       "16812   820840      과학사 이해  2013     2    신라대학교  2012-02-29\n",
       "16813  1398367   예방치과학의 이해  2020     2  울산과학대학교  2013-01-31\n",
       "\n",
       "[16814 rows x 6 columns]"
      ]
     },
     "execution_count": 37,
     "metadata": {},
     "output_type": "execute_result"
    }
   ],
   "source": [
    "df = pd.read_excel(\"./norm_course.xlsx\", index_col = 0)\n",
    "df"
   ]
  },
  {
   "cell_type": "code",
   "execution_count": 38,
   "id": "c88aafe3-8651-4553-9837-04c0c8fac30c",
   "metadata": {},
   "outputs": [
    {
     "data": {
      "text/plain": [
       "16814"
      ]
     },
     "execution_count": 38,
     "metadata": {},
     "output_type": "execute_result"
    }
   ],
   "source": [
    "## 기존 있는 스키마에 집어넣음, 인덱스 열 제거\n",
    "df.to_sql('norm_course', con, if_exists = \"append\", index = False)"
   ]
  },
  {
   "cell_type": "code",
   "execution_count": 40,
   "id": "e42a9e47-7aa2-4165-adb7-19f6c3ee4e8f",
   "metadata": {},
   "outputs": [
    {
     "data": {
      "text/html": [
       "<div>\n",
       "<style scoped>\n",
       "    .dataframe tbody tr th:only-of-type {\n",
       "        vertical-align: middle;\n",
       "    }\n",
       "\n",
       "    .dataframe tbody tr th {\n",
       "        vertical-align: top;\n",
       "    }\n",
       "\n",
       "    .dataframe thead th {\n",
       "        text-align: right;\n",
       "    }\n",
       "</style>\n",
       "<table border=\"1\" class=\"dataframe\">\n",
       "  <thead>\n",
       "    <tr style=\"text-align: right;\">\n",
       "      <th></th>\n",
       "      <th>0</th>\n",
       "      <th>1</th>\n",
       "      <th>2</th>\n",
       "      <th>3</th>\n",
       "      <th>4</th>\n",
       "      <th>5</th>\n",
       "    </tr>\n",
       "  </thead>\n",
       "  <tbody>\n",
       "    <tr>\n",
       "      <th>0</th>\n",
       "      <td>1095582</td>\n",
       "      <td>대학수학1</td>\n",
       "      <td>2015</td>\n",
       "      <td>1</td>\n",
       "      <td>한경대학교</td>\n",
       "      <td>2015-08-30</td>\n",
       "    </tr>\n",
       "    <tr>\n",
       "      <th>1</th>\n",
       "      <td>1104074</td>\n",
       "      <td>수학1</td>\n",
       "      <td>2015</td>\n",
       "      <td>1</td>\n",
       "      <td>가천대학교</td>\n",
       "      <td>2015-09-14</td>\n",
       "    </tr>\n",
       "    <tr>\n",
       "      <th>2</th>\n",
       "      <td>1110603</td>\n",
       "      <td>미적분학</td>\n",
       "      <td>2015</td>\n",
       "      <td>1</td>\n",
       "      <td>단국대학교</td>\n",
       "      <td>2015-10-08</td>\n",
       "    </tr>\n",
       "    <tr>\n",
       "      <th>3</th>\n",
       "      <td>1112400</td>\n",
       "      <td>공학수학1</td>\n",
       "      <td>2015</td>\n",
       "      <td>1</td>\n",
       "      <td>성균관대학교</td>\n",
       "      <td>2015-11-02</td>\n",
       "    </tr>\n",
       "    <tr>\n",
       "      <th>4</th>\n",
       "      <td>1118072</td>\n",
       "      <td>정수론</td>\n",
       "      <td>2015</td>\n",
       "      <td>2</td>\n",
       "      <td>덕성여자대학교</td>\n",
       "      <td>2015-12-16</td>\n",
       "    </tr>\n",
       "    <tr>\n",
       "      <th>...</th>\n",
       "      <td>...</td>\n",
       "      <td>...</td>\n",
       "      <td>...</td>\n",
       "      <td>...</td>\n",
       "      <td>...</td>\n",
       "      <td>...</td>\n",
       "    </tr>\n",
       "    <tr>\n",
       "      <th>16809</th>\n",
       "      <td>1430653</td>\n",
       "      <td>다변량통계학(II)</td>\n",
       "      <td>2021</td>\n",
       "      <td>2</td>\n",
       "      <td>부산대학교</td>\n",
       "      <td>2015-01-08</td>\n",
       "    </tr>\n",
       "    <tr>\n",
       "      <th>16810</th>\n",
       "      <td>1443736</td>\n",
       "      <td>AI를 위한 딥러닝</td>\n",
       "      <td>2022</td>\n",
       "      <td>1</td>\n",
       "      <td>중앙대학교</td>\n",
       "      <td>2016-04-07</td>\n",
       "    </tr>\n",
       "    <tr>\n",
       "      <th>16811</th>\n",
       "      <td>1445911</td>\n",
       "      <td>회귀분석(II)</td>\n",
       "      <td>2021</td>\n",
       "      <td>2</td>\n",
       "      <td>부산대학교</td>\n",
       "      <td>2017-10-17</td>\n",
       "    </tr>\n",
       "    <tr>\n",
       "      <th>16812</th>\n",
       "      <td>820840</td>\n",
       "      <td>과학사 이해</td>\n",
       "      <td>2013</td>\n",
       "      <td>2</td>\n",
       "      <td>신라대학교</td>\n",
       "      <td>2012-02-29</td>\n",
       "    </tr>\n",
       "    <tr>\n",
       "      <th>16813</th>\n",
       "      <td>1398367</td>\n",
       "      <td>예방치과학의 이해</td>\n",
       "      <td>2020</td>\n",
       "      <td>2</td>\n",
       "      <td>울산과학대학교</td>\n",
       "      <td>2013-01-31</td>\n",
       "    </tr>\n",
       "  </tbody>\n",
       "</table>\n",
       "<p>16814 rows × 6 columns</p>\n",
       "</div>"
      ],
      "text/plain": [
       "             0           1     2  3        4           5\n",
       "0      1095582       대학수학1  2015  1    한경대학교  2015-08-30\n",
       "1      1104074         수학1  2015  1    가천대학교  2015-09-14\n",
       "2      1110603        미적분학  2015  1    단국대학교  2015-10-08\n",
       "3      1112400       공학수학1  2015  1   성균관대학교  2015-11-02\n",
       "4      1118072         정수론  2015  2  덕성여자대학교  2015-12-16\n",
       "...        ...         ...   ... ..      ...         ...\n",
       "16809  1430653  다변량통계학(II)  2021  2    부산대학교  2015-01-08\n",
       "16810  1443736  AI를 위한 딥러닝  2022  1    중앙대학교  2016-04-07\n",
       "16811  1445911    회귀분석(II)  2021  2    부산대학교  2017-10-17\n",
       "16812   820840      과학사 이해  2013  2    신라대학교  2012-02-29\n",
       "16813  1398367   예방치과학의 이해  2020  2  울산과학대학교  2013-01-31\n",
       "\n",
       "[16814 rows x 6 columns]"
      ]
     },
     "execution_count": 40,
     "metadata": {},
     "output_type": "execute_result"
    }
   ],
   "source": [
    "cur.execute(\"SELECT * FROM norm_course\")\n",
    "pd.DataFrame(cur.fetchall()).set_axis([\"강의코드\", \"강의명\"])"
   ]
  },
  {
   "cell_type": "code",
   "execution_count": null,
   "id": "5ead1f87-a1cc-44f1-b08f-ef690a58d347",
   "metadata": {},
   "outputs": [],
   "source": []
  }
 ],
 "metadata": {
  "kernelspec": {
   "display_name": "Python 3 (ipykernel)",
   "language": "python",
   "name": "python3"
  },
  "language_info": {
   "codemirror_mode": {
    "name": "ipython",
    "version": 3
   },
   "file_extension": ".py",
   "mimetype": "text/x-python",
   "name": "python",
   "nbconvert_exporter": "python",
   "pygments_lexer": "ipython3",
   "version": "3.12.0"
  }
 },
 "nbformat": 4,
 "nbformat_minor": 5
}
