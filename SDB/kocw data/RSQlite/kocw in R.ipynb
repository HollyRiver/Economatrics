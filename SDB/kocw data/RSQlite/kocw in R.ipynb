{
 "cells": [
  {
   "cell_type": "markdown",
   "id": "55b8fe6b-ecf9-4fa6-a084-098f07e07583",
   "metadata": {},
   "source": [
    "## KOCW 데이터베이스 시연(`R`)"
   ]
  },
  {
   "cell_type": "code",
   "execution_count": 13,
   "id": "85812f3f-5be9-406a-b433-85f8124029fa",
   "metadata": {},
   "outputs": [],
   "source": [
    "library(DBI)\n",
    "library(RSQLite)\n",
    "library(readxl)"
   ]
  },
  {
   "cell_type": "code",
   "execution_count": 14,
   "id": "ca258980-9a81-4b32-8b69-624387ee3020",
   "metadata": {},
   "outputs": [],
   "source": [
    "conn = dbConnect(SQLite(), \"kocw.db\")"
   ]
  },
  {
   "cell_type": "code",
   "execution_count": 15,
   "id": "ab1e4354-2952-49dc-8321-2870dad7b617",
   "metadata": {},
   "outputs": [
    {
     "data": {
      "text/html": [
       "<style>\n",
       ".list-inline {list-style: none; margin:0; padding: 0}\n",
       ".list-inline>li {display: inline-block}\n",
       ".list-inline>li:not(:last-child)::after {content: \"\\00b7\"; padding: 0 .5ex}\n",
       "</style>\n",
       "<ol class=list-inline><li>'charge'</li><li>'course_classed'</li><li>'norm_course'</li><li>'professor'</li><li>'university'</li></ol>\n"
      ],
      "text/latex": [
       "\\begin{enumerate*}\n",
       "\\item 'charge'\n",
       "\\item 'course\\_classed'\n",
       "\\item 'norm\\_course'\n",
       "\\item 'professor'\n",
       "\\item 'university'\n",
       "\\end{enumerate*}\n"
      ],
      "text/markdown": [
       "1. 'charge'\n",
       "2. 'course_classed'\n",
       "3. 'norm_course'\n",
       "4. 'professor'\n",
       "5. 'university'\n",
       "\n",
       "\n"
      ],
      "text/plain": [
       "[1] \"charge\"         \"course_classed\" \"norm_course\"    \"professor\"     \n",
       "[5] \"university\"    "
      ]
     },
     "metadata": {},
     "output_type": "display_data"
    }
   ],
   "source": [
    "dbListTables(conn)"
   ]
  },
  {
   "cell_type": "code",
   "execution_count": 16,
   "id": "1793bd72-ab55-429e-b3fe-7fd98cecf7ae",
   "metadata": {},
   "outputs": [
    {
     "data": {
      "text/html": [
       "0"
      ],
      "text/latex": [
       "0"
      ],
      "text/markdown": [
       "0"
      ],
      "text/plain": [
       "[1] 0"
      ]
     },
     "metadata": {},
     "output_type": "display_data"
    }
   ],
   "source": [
    "dbExecute(conn, \"PRAGMA foreign_keys = ON\")"
   ]
  },
  {
   "cell_type": "markdown",
   "id": "cb948cf2-4aaf-4f34-b594-3bbf9928673a",
   "metadata": {
    "jp-MarkdownHeadingCollapsed": true
   },
   "source": [
    "### 1. 기본키 설정이 맞는지 확인 + 튜플의 수정 및 삭제"
   ]
  },
  {
   "cell_type": "markdown",
   "id": "e39304a5-b89a-4720-abd5-3e677326488a",
   "metadata": {},
   "source": [
    "`-` 중복되지 않는 기본키를 가지는 튜플 삽입 시(정상조작)"
   ]
  },
  {
   "cell_type": "code",
   "execution_count": 33,
   "id": "4dc64887-ef57-4864-9ea4-7ab0df521574",
   "metadata": {},
   "outputs": [
    {
     "data": {
      "text/html": [
       "1"
      ],
      "text/latex": [
       "1"
      ],
      "text/markdown": [
       "1"
      ],
      "text/plain": [
       "[1] 1"
      ]
     },
     "metadata": {},
     "output_type": "display_data"
    },
    {
     "data": {
      "text/html": [
       "<table class=\"dataframe\">\n",
       "<caption>A data.frame: 5 × 4</caption>\n",
       "<thead>\n",
       "\t<tr><th scope=col>교수코드</th><th scope=col>담당교수명</th><th scope=col>담당분야</th><th scope=col>제공대학명</th></tr>\n",
       "\t<tr><th scope=col>&lt;int&gt;</th><th scope=col>&lt;chr&gt;</th><th scope=col>&lt;chr&gt;</th><th scope=col>&lt;chr&gt;</th></tr>\n",
       "</thead>\n",
       "<tbody>\n",
       "\t<tr><td>-1</td><td>강신성</td><td>자연계열</td><td>전북대학교  </td></tr>\n",
       "\t<tr><td> 0</td><td>안상욱</td><td>자연계열</td><td>한경대학교  </td></tr>\n",
       "\t<tr><td> 1</td><td>이중호</td><td>자연계열</td><td>가천대학교  </td></tr>\n",
       "\t<tr><td> 2</td><td>최수한</td><td>자연계열</td><td>단국대학교  </td></tr>\n",
       "\t<tr><td> 3</td><td>김문현</td><td>자연계열</td><td>성균관대학교</td></tr>\n",
       "</tbody>\n",
       "</table>\n"
      ],
      "text/latex": [
       "A data.frame: 5 × 4\n",
       "\\begin{tabular}{llll}\n",
       " 교수코드 & 담당교수명 & 담당분야 & 제공대학명\\\\\n",
       " <int> & <chr> & <chr> & <chr>\\\\\n",
       "\\hline\n",
       "\t -1 & 강신성 & 자연계열 & 전북대학교  \\\\\n",
       "\t  0 & 안상욱 & 자연계열 & 한경대학교  \\\\\n",
       "\t  1 & 이중호 & 자연계열 & 가천대학교  \\\\\n",
       "\t  2 & 최수한 & 자연계열 & 단국대학교  \\\\\n",
       "\t  3 & 김문현 & 자연계열 & 성균관대학교\\\\\n",
       "\\end{tabular}\n"
      ],
      "text/markdown": [
       "\n",
       "A data.frame: 5 × 4\n",
       "\n",
       "| 교수코드 &lt;int&gt; | 담당교수명 &lt;chr&gt; | 담당분야 &lt;chr&gt; | 제공대학명 &lt;chr&gt; |\n",
       "|---|---|---|---|\n",
       "| -1 | 강신성 | 자연계열 | 전북대학교   |\n",
       "|  0 | 안상욱 | 자연계열 | 한경대학교   |\n",
       "|  1 | 이중호 | 자연계열 | 가천대학교   |\n",
       "|  2 | 최수한 | 자연계열 | 단국대학교   |\n",
       "|  3 | 김문현 | 자연계열 | 성균관대학교 |\n",
       "\n"
      ],
      "text/plain": [
       "  교수코드 담당교수명 담당분야 제공대학명  \n",
       "1 -1       강신성     자연계열 전북대학교  \n",
       "2  0       안상욱     자연계열 한경대학교  \n",
       "3  1       이중호     자연계열 가천대학교  \n",
       "4  2       최수한     자연계열 단국대학교  \n",
       "5  3       김문현     자연계열 성균관대학교"
      ]
     },
     "metadata": {},
     "output_type": "display_data"
    },
    {
     "data": {
      "text/html": [
       "1"
      ],
      "text/latex": [
       "1"
      ],
      "text/markdown": [
       "1"
      ],
      "text/plain": [
       "[1] 1"
      ]
     },
     "metadata": {},
     "output_type": "display_data"
    },
    {
     "data": {
      "text/html": [
       "<table class=\"dataframe\">\n",
       "<caption>A data.frame: 5 × 4</caption>\n",
       "<thead>\n",
       "\t<tr><th scope=col>교수코드</th><th scope=col>담당교수명</th><th scope=col>담당분야</th><th scope=col>제공대학명</th></tr>\n",
       "\t<tr><th scope=col>&lt;int&gt;</th><th scope=col>&lt;chr&gt;</th><th scope=col>&lt;chr&gt;</th><th scope=col>&lt;chr&gt;</th></tr>\n",
       "</thead>\n",
       "<tbody>\n",
       "\t<tr><td>-1</td><td>강신성</td><td>자연계열</td><td>1조대학교   </td></tr>\n",
       "\t<tr><td> 0</td><td>안상욱</td><td>자연계열</td><td>한경대학교  </td></tr>\n",
       "\t<tr><td> 1</td><td>이중호</td><td>자연계열</td><td>가천대학교  </td></tr>\n",
       "\t<tr><td> 2</td><td>최수한</td><td>자연계열</td><td>단국대학교  </td></tr>\n",
       "\t<tr><td> 3</td><td>김문현</td><td>자연계열</td><td>성균관대학교</td></tr>\n",
       "</tbody>\n",
       "</table>\n"
      ],
      "text/latex": [
       "A data.frame: 5 × 4\n",
       "\\begin{tabular}{llll}\n",
       " 교수코드 & 담당교수명 & 담당분야 & 제공대학명\\\\\n",
       " <int> & <chr> & <chr> & <chr>\\\\\n",
       "\\hline\n",
       "\t -1 & 강신성 & 자연계열 & 1조대학교   \\\\\n",
       "\t  0 & 안상욱 & 자연계열 & 한경대학교  \\\\\n",
       "\t  1 & 이중호 & 자연계열 & 가천대학교  \\\\\n",
       "\t  2 & 최수한 & 자연계열 & 단국대학교  \\\\\n",
       "\t  3 & 김문현 & 자연계열 & 성균관대학교\\\\\n",
       "\\end{tabular}\n"
      ],
      "text/markdown": [
       "\n",
       "A data.frame: 5 × 4\n",
       "\n",
       "| 교수코드 &lt;int&gt; | 담당교수명 &lt;chr&gt; | 담당분야 &lt;chr&gt; | 제공대학명 &lt;chr&gt; |\n",
       "|---|---|---|---|\n",
       "| -1 | 강신성 | 자연계열 | 1조대학교    |\n",
       "|  0 | 안상욱 | 자연계열 | 한경대학교   |\n",
       "|  1 | 이중호 | 자연계열 | 가천대학교   |\n",
       "|  2 | 최수한 | 자연계열 | 단국대학교   |\n",
       "|  3 | 김문현 | 자연계열 | 성균관대학교 |\n",
       "\n"
      ],
      "text/plain": [
       "  교수코드 담당교수명 담당분야 제공대학명  \n",
       "1 -1       강신성     자연계열 1조대학교   \n",
       "2  0       안상욱     자연계열 한경대학교  \n",
       "3  1       이중호     자연계열 가천대학교  \n",
       "4  2       최수한     자연계열 단국대학교  \n",
       "5  3       김문현     자연계열 성균관대학교"
      ]
     },
     "metadata": {},
     "output_type": "display_data"
    },
    {
     "data": {
      "text/html": [
       "1"
      ],
      "text/latex": [
       "1"
      ],
      "text/markdown": [
       "1"
      ],
      "text/plain": [
       "[1] 1"
      ]
     },
     "metadata": {},
     "output_type": "display_data"
    },
    {
     "data": {
      "text/html": [
       "<table class=\"dataframe\">\n",
       "<caption>A data.frame: 5 × 4</caption>\n",
       "<thead>\n",
       "\t<tr><th scope=col>교수코드</th><th scope=col>담당교수명</th><th scope=col>담당분야</th><th scope=col>제공대학명</th></tr>\n",
       "\t<tr><th scope=col>&lt;int&gt;</th><th scope=col>&lt;chr&gt;</th><th scope=col>&lt;chr&gt;</th><th scope=col>&lt;chr&gt;</th></tr>\n",
       "</thead>\n",
       "<tbody>\n",
       "\t<tr><td>0</td><td>안상욱</td><td>자연계열</td><td>한경대학교    </td></tr>\n",
       "\t<tr><td>1</td><td>이중호</td><td>자연계열</td><td>가천대학교    </td></tr>\n",
       "\t<tr><td>2</td><td>최수한</td><td>자연계열</td><td>단국대학교    </td></tr>\n",
       "\t<tr><td>3</td><td>김문현</td><td>자연계열</td><td>성균관대학교  </td></tr>\n",
       "\t<tr><td>4</td><td>이상준</td><td>자연계열</td><td>덕성여자대학교</td></tr>\n",
       "</tbody>\n",
       "</table>\n"
      ],
      "text/latex": [
       "A data.frame: 5 × 4\n",
       "\\begin{tabular}{llll}\n",
       " 교수코드 & 담당교수명 & 담당분야 & 제공대학명\\\\\n",
       " <int> & <chr> & <chr> & <chr>\\\\\n",
       "\\hline\n",
       "\t 0 & 안상욱 & 자연계열 & 한경대학교    \\\\\n",
       "\t 1 & 이중호 & 자연계열 & 가천대학교    \\\\\n",
       "\t 2 & 최수한 & 자연계열 & 단국대학교    \\\\\n",
       "\t 3 & 김문현 & 자연계열 & 성균관대학교  \\\\\n",
       "\t 4 & 이상준 & 자연계열 & 덕성여자대학교\\\\\n",
       "\\end{tabular}\n"
      ],
      "text/markdown": [
       "\n",
       "A data.frame: 5 × 4\n",
       "\n",
       "| 교수코드 &lt;int&gt; | 담당교수명 &lt;chr&gt; | 담당분야 &lt;chr&gt; | 제공대학명 &lt;chr&gt; |\n",
       "|---|---|---|---|\n",
       "| 0 | 안상욱 | 자연계열 | 한경대학교     |\n",
       "| 1 | 이중호 | 자연계열 | 가천대학교     |\n",
       "| 2 | 최수한 | 자연계열 | 단국대학교     |\n",
       "| 3 | 김문현 | 자연계열 | 성균관대학교   |\n",
       "| 4 | 이상준 | 자연계열 | 덕성여자대학교 |\n",
       "\n"
      ],
      "text/plain": [
       "  교수코드 담당교수명 담당분야 제공대학명    \n",
       "1 0        안상욱     자연계열 한경대학교    \n",
       "2 1        이중호     자연계열 가천대학교    \n",
       "3 2        최수한     자연계열 단국대학교    \n",
       "4 3        김문현     자연계열 성균관대학교  \n",
       "5 4        이상준     자연계열 덕성여자대학교"
      ]
     },
     "metadata": {},
     "output_type": "display_data"
    }
   ],
   "source": [
    "## professor 중복되지 않는 기본키를 가지는 튜플 삽입 시 정상\n",
    "dbExecute(conn, \"INSERT INTO professor VALUES(-1, '강신성', '자연계열', '전북대학교')\")\n",
    "dbGetQuery(conn, \"SELECT * FROM professor LIMIT 5\")\n",
    "\n",
    "## 수정\n",
    "dbExecute(conn, \"UPDATE professor SET 제공대학명 = '1조대학교' WHERE 교수코드 = -1\")\n",
    "dbGetQuery(conn, \"SELECT * FROM professor LIMIT 5\")\n",
    "\n",
    "## 삭제\n",
    "dbExecute(conn, \"DELETE FROM professor WHERE 교수코드 = -1\")\n",
    "dbGetQuery(conn, \"SELECT * FROM professor LIMIT 5\")"
   ]
  },
  {
   "cell_type": "code",
   "execution_count": 50,
   "id": "65fc0cab-f57f-41a5-949e-1b5421d93484",
   "metadata": {},
   "outputs": [
    {
     "data": {
      "text/html": [
       "1"
      ],
      "text/latex": [
       "1"
      ],
      "text/markdown": [
       "1"
      ],
      "text/plain": [
       "[1] 1"
      ]
     },
     "metadata": {},
     "output_type": "display_data"
    },
    {
     "data": {
      "text/html": [
       "<table class=\"dataframe\">\n",
       "<caption>A data.frame: 5 × 3</caption>\n",
       "<thead>\n",
       "\t<tr><th scope=col>제공대학명</th><th scope=col>대학소재지</th><th scope=col>구분</th></tr>\n",
       "\t<tr><th scope=col>&lt;chr&gt;</th><th scope=col>&lt;chr&gt;</th><th scope=col>&lt;chr&gt;</th></tr>\n",
       "</thead>\n",
       "<tbody>\n",
       "\t<tr><td>사이버한국외국어대학교</td><td>서울특별시    </td><td>사립</td></tr>\n",
       "\t<tr><td>수원대학교            </td><td>경기도        </td><td>사립</td></tr>\n",
       "\t<tr><td>구미대학교            </td><td>경상북도      </td><td>사립</td></tr>\n",
       "\t<tr><td>가톨릭관동대학교      </td><td>강원특별자치도</td><td>사립</td></tr>\n",
       "\t<tr><td>1조대학교             </td><td>뉴욕          </td><td>사립</td></tr>\n",
       "</tbody>\n",
       "</table>\n"
      ],
      "text/latex": [
       "A data.frame: 5 × 3\n",
       "\\begin{tabular}{lll}\n",
       " 제공대학명 & 대학소재지 & 구분\\\\\n",
       " <chr> & <chr> & <chr>\\\\\n",
       "\\hline\n",
       "\t 사이버한국외국어대학교 & 서울특별시     & 사립\\\\\n",
       "\t 수원대학교             & 경기도         & 사립\\\\\n",
       "\t 구미대학교             & 경상북도       & 사립\\\\\n",
       "\t 가톨릭관동대학교       & 강원특별자치도 & 사립\\\\\n",
       "\t 1조대학교              & 뉴욕           & 사립\\\\\n",
       "\\end{tabular}\n"
      ],
      "text/markdown": [
       "\n",
       "A data.frame: 5 × 3\n",
       "\n",
       "| 제공대학명 &lt;chr&gt; | 대학소재지 &lt;chr&gt; | 구분 &lt;chr&gt; |\n",
       "|---|---|---|\n",
       "| 사이버한국외국어대학교 | 서울특별시     | 사립 |\n",
       "| 수원대학교             | 경기도         | 사립 |\n",
       "| 구미대학교             | 경상북도       | 사립 |\n",
       "| 가톨릭관동대학교       | 강원특별자치도 | 사립 |\n",
       "| 1조대학교              | 뉴욕           | 사립 |\n",
       "\n"
      ],
      "text/plain": [
       "  제공대학명             대학소재지     구분\n",
       "1 사이버한국외국어대학교 서울특별시     사립\n",
       "2 수원대학교             경기도         사립\n",
       "3 구미대학교             경상북도       사립\n",
       "4 가톨릭관동대학교       강원특별자치도 사립\n",
       "5 1조대학교              뉴욕           사립"
      ]
     },
     "metadata": {},
     "output_type": "display_data"
    },
    {
     "data": {
      "text/html": [
       "1"
      ],
      "text/latex": [
       "1"
      ],
      "text/markdown": [
       "1"
      ],
      "text/plain": [
       "[1] 1"
      ]
     },
     "metadata": {},
     "output_type": "display_data"
    }
   ],
   "source": [
    "## university 중복되지 않은 기본키를 가지는 튜플 삽입 시 정상\n",
    "dbExecute(conn, \"INSERT INTO university VALUES('1조대학교', '뉴욕', '사립')\")\n",
    "dbGetQuery(conn, \"SELECT * FROM university LIMIT 10 OFFSET 182\")\n",
    "dbExecute(conn, \"DELETE FROM university WHERE 제공대학명 = '1조대학교'\")"
   ]
  },
  {
   "cell_type": "markdown",
   "id": "73088d80-eef1-410d-b62b-b13d1e7c4aef",
   "metadata": {},
   "source": [
    "`-` 중복되는 기본키를 가지는 튜플 삽입 시(비정상 조작)"
   ]
  },
  {
   "cell_type": "code",
   "execution_count": 36,
   "id": "c36f1a12-d704-4111-9c92-eeb0649e1c8c",
   "metadata": {},
   "outputs": [
    {
     "ename": "ERROR",
     "evalue": "Error: UNIQUE constraint failed: professor.교수코드\n",
     "output_type": "error",
     "traceback": [
      "Error: UNIQUE constraint failed: professor.교수코드\nTraceback:\n",
      "1. dbExecute(conn, \"INSERT INTO professor VALUES(1, '강신성2', '자연계열', '전북대학교')\")",
      "2. dbExecute(conn, \"INSERT INTO professor VALUES(1, '강신성2', '자연계열', '전북대학교')\")",
      "3. dbSendStatement(conn, statement, ...)",
      "4. dbSendStatement(conn, statement, ...)",
      "5. dbSendQuery(conn, statement, ...)",
      "6. dbSendQuery(conn, statement, ...)",
      "7. .local(conn, statement, ...)",
      "8. new(\"SQLiteResult\", sql = statement, ptr = result_create(conn@ptr, \n .     statement), conn = conn, bigint = conn@bigint)",
      "9. initialize(value, ...)",
      "10. initialize(value, ...)",
      "11. result_create(conn@ptr, statement)"
     ]
    }
   ],
   "source": [
    "## 중복되는 기본키를 가지는 튜플 삽입 시 오류 발생 -> 정상적으로 기본키 설정됨\n",
    "dbExecute(conn, \"INSERT INTO professor VALUES(1, '강신성2', '자연계열', '전북대학교')\")"
   ]
  },
  {
   "cell_type": "code",
   "execution_count": 46,
   "id": "c6f16a8b-c659-4812-ae7a-f0deb9a97e79",
   "metadata": {},
   "outputs": [
    {
     "ename": "ERROR",
     "evalue": "Error: UNIQUE constraint failed: university.제공대학명\n",
     "output_type": "error",
     "traceback": [
      "Error: UNIQUE constraint failed: university.제공대학명\nTraceback:\n",
      "1. dbExecute(conn, \"INSERT INTO university VALUES('전북대학교', '뉴욕', '국립')\")",
      "2. dbExecute(conn, \"INSERT INTO university VALUES('전북대학교', '뉴욕', '국립')\")",
      "3. dbSendStatement(conn, statement, ...)",
      "4. dbSendStatement(conn, statement, ...)",
      "5. dbSendQuery(conn, statement, ...)",
      "6. dbSendQuery(conn, statement, ...)",
      "7. .local(conn, statement, ...)",
      "8. new(\"SQLiteResult\", sql = statement, ptr = result_create(conn@ptr, \n .     statement), conn = conn, bigint = conn@bigint)",
      "9. initialize(value, ...)",
      "10. initialize(value, ...)",
      "11. result_create(conn@ptr, statement)"
     ]
    }
   ],
   "source": [
    "## 중복되는 기본키를 가지는 튜플 삽입 시 오류 발생 -> 정상적으로 기본키 설정됨\n",
    "dbExecute(conn, \"INSERT INTO university VALUES('전북대학교', '뉴욕', '국립')\")"
   ]
  },
  {
   "cell_type": "markdown",
   "id": "5b78db1e-96c7-42d4-8aeb-fb839951852d",
   "metadata": {},
   "source": [
    "### 2. 기본키 삭제에 따른 외래키의 변화 확인"
   ]
  },
  {
   "cell_type": "markdown",
   "id": "6329113c-7fd1-4560-822c-db49ffb9f562",
   "metadata": {},
   "source": [
    "`-` 외래키가 있는 릴레이션의 CASCADE / SET NULL 기준 서술\n",
    "\n",
    "1. 담당교수 릴레이션\n",
    "\n",
    "   * 소속대학명 `ON UPDATE CASCADE, ON DELETE SET NULL`\n",
    "\n",
    "   > UPDATE : 소속된 대학의 이름이 바뀌어도 교수가 그 대학에 소속되었다는 사실은 변하지 않음.\n",
    "   >\n",
    "   > DELETE : 소속된 대학이 사라져도 교수는 강의를 제공했기 때문에 교수에 대한 정보를 유지하고자 함.\n",
    "\n",
    "3. 강의 릴레이션\n",
    "\n",
    "    * 제공대학명 `ON UPDATE CASCADE, ON DELETE SET NULL`\n",
    "  \n",
    "   > UPDATE : 제공한 대학의 이름이 바뀌어도 그 대학이 강의를 제공했었다는 사실은 변하지 않음\n",
    "   >\n",
    "   > DELETE : 제공한 대학이 사라져도 제공되었던 강의 정보를 유지하고자 함.\n",
    "\n",
    "    * 강의명 `ON UPDATE CASCADE, ON DELETE CASCADE`\n",
    "  \n",
    "    > UPDATE : 기존에 있었던 강의명이 바뀌어도 다른 속성값들은 그대로임.\n",
    "    >\n",
    "    > DELETE : 강의명을 없앤다는 것 자체의 의도가 해당 강의를 없애고 싶다는 의미이므로 같이 삭제하는 게 합리적.\n",
    "\n",
    "3. 담당 릴레이션\n",
    "\n",
    "    * 교수코드 및 강의코드 `ON UPDATE CASCADE, ON DELETE CASCADE`\n",
    "  \n",
    "   > UPDATE : 교수코드 및 강의코드가 수정되어도 매핑 정보를 유지해줘야 함.\n",
    "   >\n",
    "   > DELETE : 삭제했을 시 남겨둬야 할 정보가 없음 & 기본키에 NULL이 존재하면 개체 무결성 제약 깨짐"
   ]
  },
  {
   "cell_type": "code",
   "execution_count": 5,
   "id": "2c8add87-48c2-46ee-a428-b579c99d999e",
   "metadata": {},
   "outputs": [
    {
     "data": {
      "text/html": [
       "<table class=\"dataframe\">\n",
       "<caption>A data.frame: 5 × 4</caption>\n",
       "<thead>\n",
       "\t<tr><th scope=col>교수코드</th><th scope=col>담당교수명</th><th scope=col>담당분야</th><th scope=col>제공대학명</th></tr>\n",
       "\t<tr><th scope=col>&lt;int&gt;</th><th scope=col>&lt;chr&gt;</th><th scope=col>&lt;chr&gt;</th><th scope=col>&lt;chr&gt;</th></tr>\n",
       "</thead>\n",
       "<tbody>\n",
       "\t<tr><td>  9</td><td>마인숙</td><td>자연계열</td><td>전북대학교</td></tr>\n",
       "\t<tr><td>103</td><td>곽지이</td><td>자연계열</td><td>전북대학교</td></tr>\n",
       "\t<tr><td>104</td><td>이선영</td><td>자연계열</td><td>전북대학교</td></tr>\n",
       "\t<tr><td>105</td><td>정수미</td><td>자연계열</td><td>전북대학교</td></tr>\n",
       "\t<tr><td>106</td><td>최일선</td><td>자연계열</td><td>전북대학교</td></tr>\n",
       "</tbody>\n",
       "</table>\n"
      ],
      "text/latex": [
       "A data.frame: 5 × 4\n",
       "\\begin{tabular}{llll}\n",
       " 교수코드 & 담당교수명 & 담당분야 & 제공대학명\\\\\n",
       " <int> & <chr> & <chr> & <chr>\\\\\n",
       "\\hline\n",
       "\t   9 & 마인숙 & 자연계열 & 전북대학교\\\\\n",
       "\t 103 & 곽지이 & 자연계열 & 전북대학교\\\\\n",
       "\t 104 & 이선영 & 자연계열 & 전북대학교\\\\\n",
       "\t 105 & 정수미 & 자연계열 & 전북대학교\\\\\n",
       "\t 106 & 최일선 & 자연계열 & 전북대학교\\\\\n",
       "\\end{tabular}\n"
      ],
      "text/markdown": [
       "\n",
       "A data.frame: 5 × 4\n",
       "\n",
       "| 교수코드 &lt;int&gt; | 담당교수명 &lt;chr&gt; | 담당분야 &lt;chr&gt; | 제공대학명 &lt;chr&gt; |\n",
       "|---|---|---|---|\n",
       "|   9 | 마인숙 | 자연계열 | 전북대학교 |\n",
       "| 103 | 곽지이 | 자연계열 | 전북대학교 |\n",
       "| 104 | 이선영 | 자연계열 | 전북대학교 |\n",
       "| 105 | 정수미 | 자연계열 | 전북대학교 |\n",
       "| 106 | 최일선 | 자연계열 | 전북대학교 |\n",
       "\n"
      ],
      "text/plain": [
       "  교수코드 담당교수명 담당분야 제공대학명\n",
       "1   9      마인숙     자연계열 전북대학교\n",
       "2 103      곽지이     자연계열 전북대학교\n",
       "3 104      이선영     자연계열 전북대학교\n",
       "4 105      정수미     자연계열 전북대학교\n",
       "5 106      최일선     자연계열 전북대학교"
      ]
     },
     "metadata": {},
     "output_type": "display_data"
    }
   ],
   "source": [
    "dbGetQuery(conn, \"SELECT * FROM professor WHERE 제공대학명 = '전북대학교' LIMIT 5\")"
   ]
  },
  {
   "cell_type": "code",
   "execution_count": 6,
   "id": "702886b7-ed48-47e0-94f9-a943dfe964db",
   "metadata": {},
   "outputs": [
    {
     "data": {
      "text/html": [
       "<table class=\"dataframe\">\n",
       "<caption>A data.frame: 5 × 6</caption>\n",
       "<thead>\n",
       "\t<tr><th scope=col>강의코드</th><th scope=col>강의명</th><th scope=col>강의년도</th><th scope=col>강의학기</th><th scope=col>제공일자</th><th scope=col>제공대학명</th></tr>\n",
       "\t<tr><th scope=col>&lt;int&gt;</th><th scope=col>&lt;chr&gt;</th><th scope=col>&lt;int&gt;</th><th scope=col>&lt;int&gt;</th><th scope=col>&lt;chr&gt;</th><th scope=col>&lt;chr&gt;</th></tr>\n",
       "</thead>\n",
       "<tbody>\n",
       "\t<tr><td>133761</td><td>자바 프로그래밍      </td><td>2009</td><td>1</td><td>2008-12-11</td><td>전북대학교</td></tr>\n",
       "\t<tr><td>145685</td><td>조경수 관리          </td><td>2009</td><td>1</td><td>2009-11-05</td><td>전북대학교</td></tr>\n",
       "\t<tr><td>153670</td><td>전력전자 및 실험     </td><td>2009</td><td>2</td><td>2010-04-28</td><td>전북대학교</td></tr>\n",
       "\t<tr><td>156266</td><td>기능생리학 1         </td><td>2009</td><td>1</td><td>2010-06-10</td><td>전북대학교</td></tr>\n",
       "\t<tr><td>156446</td><td>BIN융합개론및세미나 1</td><td>2009</td><td>1</td><td>2010-06-11</td><td>전북대학교</td></tr>\n",
       "</tbody>\n",
       "</table>\n"
      ],
      "text/latex": [
       "A data.frame: 5 × 6\n",
       "\\begin{tabular}{llllll}\n",
       " 강의코드 & 강의명 & 강의년도 & 강의학기 & 제공일자 & 제공대학명\\\\\n",
       " <int> & <chr> & <int> & <int> & <chr> & <chr>\\\\\n",
       "\\hline\n",
       "\t 133761 & 자바 프로그래밍       & 2009 & 1 & 2008-12-11 & 전북대학교\\\\\n",
       "\t 145685 & 조경수 관리           & 2009 & 1 & 2009-11-05 & 전북대학교\\\\\n",
       "\t 153670 & 전력전자 및 실험      & 2009 & 2 & 2010-04-28 & 전북대학교\\\\\n",
       "\t 156266 & 기능생리학 1          & 2009 & 1 & 2010-06-10 & 전북대학교\\\\\n",
       "\t 156446 & BIN융합개론및세미나 1 & 2009 & 1 & 2010-06-11 & 전북대학교\\\\\n",
       "\\end{tabular}\n"
      ],
      "text/markdown": [
       "\n",
       "A data.frame: 5 × 6\n",
       "\n",
       "| 강의코드 &lt;int&gt; | 강의명 &lt;chr&gt; | 강의년도 &lt;int&gt; | 강의학기 &lt;int&gt; | 제공일자 &lt;chr&gt; | 제공대학명 &lt;chr&gt; |\n",
       "|---|---|---|---|---|---|\n",
       "| 133761 | 자바 프로그래밍       | 2009 | 1 | 2008-12-11 | 전북대학교 |\n",
       "| 145685 | 조경수 관리           | 2009 | 1 | 2009-11-05 | 전북대학교 |\n",
       "| 153670 | 전력전자 및 실험      | 2009 | 2 | 2010-04-28 | 전북대학교 |\n",
       "| 156266 | 기능생리학 1          | 2009 | 1 | 2010-06-10 | 전북대학교 |\n",
       "| 156446 | BIN융합개론및세미나 1 | 2009 | 1 | 2010-06-11 | 전북대학교 |\n",
       "\n"
      ],
      "text/plain": [
       "  강의코드 강의명                강의년도 강의학기 제공일자   제공대학명\n",
       "1 133761   자바 프로그래밍       2009     1        2008-12-11 전북대학교\n",
       "2 145685   조경수 관리           2009     1        2009-11-05 전북대학교\n",
       "3 153670   전력전자 및 실험      2009     2        2010-04-28 전북대학교\n",
       "4 156266   기능생리학 1          2009     1        2010-06-10 전북대학교\n",
       "5 156446   BIN융합개론및세미나 1 2009     1        2010-06-11 전북대학교"
      ]
     },
     "metadata": {},
     "output_type": "display_data"
    }
   ],
   "source": [
    "dbGetQuery(conn, \"SELECT * FROM norm_course WHERE 제공대학명 = '전북대학교' LIMIT 5\")"
   ]
  },
  {
   "cell_type": "code",
   "execution_count": 7,
   "id": "2493c446-4dba-4ab0-97e7-98d693ae6e79",
   "metadata": {},
   "outputs": [
    {
     "data": {
      "text/html": [
       "<table class=\"dataframe\">\n",
       "<caption>A data.frame: 1 × 3</caption>\n",
       "<thead>\n",
       "\t<tr><th scope=col>제공대학명</th><th scope=col>대학소재지</th><th scope=col>구분</th></tr>\n",
       "\t<tr><th scope=col>&lt;chr&gt;</th><th scope=col>&lt;chr&gt;</th><th scope=col>&lt;chr&gt;</th></tr>\n",
       "</thead>\n",
       "<tbody>\n",
       "\t<tr><td>전북대학교</td><td>전라북도</td><td>국립</td></tr>\n",
       "</tbody>\n",
       "</table>\n"
      ],
      "text/latex": [
       "A data.frame: 1 × 3\n",
       "\\begin{tabular}{lll}\n",
       " 제공대학명 & 대학소재지 & 구분\\\\\n",
       " <chr> & <chr> & <chr>\\\\\n",
       "\\hline\n",
       "\t 전북대학교 & 전라북도 & 국립\\\\\n",
       "\\end{tabular}\n"
      ],
      "text/markdown": [
       "\n",
       "A data.frame: 1 × 3\n",
       "\n",
       "| 제공대학명 &lt;chr&gt; | 대학소재지 &lt;chr&gt; | 구분 &lt;chr&gt; |\n",
       "|---|---|---|\n",
       "| 전북대학교 | 전라북도 | 국립 |\n",
       "\n"
      ],
      "text/plain": [
       "  제공대학명 대학소재지 구분\n",
       "1 전북대학교 전라북도   국립"
      ]
     },
     "metadata": {},
     "output_type": "display_data"
    }
   ],
   "source": [
    "dbGetQuery(conn, \"SELECT * FROM university WHERE 제공대학명 = '전북대학교'\")"
   ]
  },
  {
   "cell_type": "code",
   "execution_count": 8,
   "id": "ec5ffbee-4e15-40b4-805c-b88b2b5884d4",
   "metadata": {},
   "outputs": [
    {
     "data": {
      "text/html": [
       "<table class=\"dataframe\">\n",
       "<caption>A data.frame: 5 × 6</caption>\n",
       "<thead>\n",
       "\t<tr><th scope=col>강의코드</th><th scope=col>강의명</th><th scope=col>강의년도</th><th scope=col>강의학기</th><th scope=col>제공일자</th><th scope=col>제공대학명</th></tr>\n",
       "\t<tr><th scope=col>&lt;int&gt;</th><th scope=col>&lt;chr&gt;</th><th scope=col>&lt;int&gt;</th><th scope=col>&lt;int&gt;</th><th scope=col>&lt;chr&gt;</th><th scope=col>&lt;chr&gt;</th></tr>\n",
       "</thead>\n",
       "<tbody>\n",
       "\t<tr><td>133761</td><td>자바 프로그래밍      </td><td>2009</td><td>1</td><td>2008-12-11</td><td>전북대학교</td></tr>\n",
       "\t<tr><td>145685</td><td>조경수 관리          </td><td>2009</td><td>1</td><td>2009-11-05</td><td>전북대학교</td></tr>\n",
       "\t<tr><td>153670</td><td>전력전자 및 실험     </td><td>2009</td><td>2</td><td>2010-04-28</td><td>전북대학교</td></tr>\n",
       "\t<tr><td>156266</td><td>기능생리학 1         </td><td>2009</td><td>1</td><td>2010-06-10</td><td>전북대학교</td></tr>\n",
       "\t<tr><td>156446</td><td>BIN융합개론및세미나 1</td><td>2009</td><td>1</td><td>2010-06-11</td><td>전북대학교</td></tr>\n",
       "</tbody>\n",
       "</table>\n"
      ],
      "text/latex": [
       "A data.frame: 5 × 6\n",
       "\\begin{tabular}{llllll}\n",
       " 강의코드 & 강의명 & 강의년도 & 강의학기 & 제공일자 & 제공대학명\\\\\n",
       " <int> & <chr> & <int> & <int> & <chr> & <chr>\\\\\n",
       "\\hline\n",
       "\t 133761 & 자바 프로그래밍       & 2009 & 1 & 2008-12-11 & 전북대학교\\\\\n",
       "\t 145685 & 조경수 관리           & 2009 & 1 & 2009-11-05 & 전북대학교\\\\\n",
       "\t 153670 & 전력전자 및 실험      & 2009 & 2 & 2010-04-28 & 전북대학교\\\\\n",
       "\t 156266 & 기능생리학 1          & 2009 & 1 & 2010-06-10 & 전북대학교\\\\\n",
       "\t 156446 & BIN융합개론및세미나 1 & 2009 & 1 & 2010-06-11 & 전북대학교\\\\\n",
       "\\end{tabular}\n"
      ],
      "text/markdown": [
       "\n",
       "A data.frame: 5 × 6\n",
       "\n",
       "| 강의코드 &lt;int&gt; | 강의명 &lt;chr&gt; | 강의년도 &lt;int&gt; | 강의학기 &lt;int&gt; | 제공일자 &lt;chr&gt; | 제공대학명 &lt;chr&gt; |\n",
       "|---|---|---|---|---|---|\n",
       "| 133761 | 자바 프로그래밍       | 2009 | 1 | 2008-12-11 | 전북대학교 |\n",
       "| 145685 | 조경수 관리           | 2009 | 1 | 2009-11-05 | 전북대학교 |\n",
       "| 153670 | 전력전자 및 실험      | 2009 | 2 | 2010-04-28 | 전북대학교 |\n",
       "| 156266 | 기능생리학 1          | 2009 | 1 | 2010-06-10 | 전북대학교 |\n",
       "| 156446 | BIN융합개론및세미나 1 | 2009 | 1 | 2010-06-11 | 전북대학교 |\n",
       "\n"
      ],
      "text/plain": [
       "  강의코드 강의명                강의년도 강의학기 제공일자   제공대학명\n",
       "1 133761   자바 프로그래밍       2009     1        2008-12-11 전북대학교\n",
       "2 145685   조경수 관리           2009     1        2009-11-05 전북대학교\n",
       "3 153670   전력전자 및 실험      2009     2        2010-04-28 전북대학교\n",
       "4 156266   기능생리학 1          2009     1        2010-06-10 전북대학교\n",
       "5 156446   BIN융합개론및세미나 1 2009     1        2010-06-11 전북대학교"
      ]
     },
     "metadata": {},
     "output_type": "display_data"
    }
   ],
   "source": [
    "dbGetQuery(conn, \"SELECT * FROM norm_course WHERE 제공대학명 = '전북대학교' LIMIT 5\")"
   ]
  },
  {
   "cell_type": "code",
   "execution_count": 9,
   "id": "86cae95b-e2da-46d7-bac9-659cb98e76bf",
   "metadata": {},
   "outputs": [
    {
     "ename": "ERROR",
     "evalue": "Error: FOREIGN KEY constraint failed\n",
     "output_type": "error",
     "traceback": [
      "Error: FOREIGN KEY constraint failed\nTraceback:\n",
      "1. dbExecute(conn, \"UPDATE university SET 제공대학명 = 'ㅁㄴㅇㄹ' WHERE 제공대학명 = '전북대학교'\")",
      "2. dbExecute(conn, \"UPDATE university SET 제공대학명 = 'ㅁㄴㅇㄹ' WHERE 제공대학명 = '전북대학교'\")",
      "3. dbSendStatement(conn, statement, ...)",
      "4. dbSendStatement(conn, statement, ...)",
      "5. dbSendQuery(conn, statement, ...)",
      "6. dbSendQuery(conn, statement, ...)",
      "7. .local(conn, statement, ...)",
      "8. new(\"SQLiteResult\", sql = statement, ptr = result_create(conn@ptr, \n .     statement), conn = conn, bigint = conn@bigint)",
      "9. initialize(value, ...)",
      "10. initialize(value, ...)",
      "11. result_create(conn@ptr, statement)"
     ]
    }
   ],
   "source": [
    "dbExecute(conn, \"UPDATE university SET 제공대학명 = 'ㅁㄴㅇㄹ' WHERE 제공대학명 = '전북대학교'\")\n",
    "dbGetQuery(conn, \"SELECT * FROM norm_course WHERE 제공대학명 = '전북대학교' LIMIT 5\")\n",
    "dbExecute(conn, \"UPDATE university SET 제공대학명 = '전북대학교' WHERE 제공대학명 = '전북특별자치대학교'\")"
   ]
  },
  {
   "cell_type": "code",
   "execution_count": 31,
   "id": "32ba501b-038a-4e72-8988-62b1e49bb56b",
   "metadata": {},
   "outputs": [
    {
     "data": {
      "text/html": [
       "<table class=\"dataframe\">\n",
       "<caption>A data.frame: 1 × 3</caption>\n",
       "<thead>\n",
       "\t<tr><th scope=col>제공대학명</th><th scope=col>대학소재지</th><th scope=col>구분</th></tr>\n",
       "\t<tr><th scope=col>&lt;chr&gt;</th><th scope=col>&lt;chr&gt;</th><th scope=col>&lt;chr&gt;</th></tr>\n",
       "</thead>\n",
       "<tbody>\n",
       "\t<tr><td>전북대학교</td><td>전라북도</td><td>국립</td></tr>\n",
       "</tbody>\n",
       "</table>\n"
      ],
      "text/latex": [
       "A data.frame: 1 × 3\n",
       "\\begin{tabular}{lll}\n",
       " 제공대학명 & 대학소재지 & 구분\\\\\n",
       " <chr> & <chr> & <chr>\\\\\n",
       "\\hline\n",
       "\t 전북대학교 & 전라북도 & 국립\\\\\n",
       "\\end{tabular}\n"
      ],
      "text/markdown": [
       "\n",
       "A data.frame: 1 × 3\n",
       "\n",
       "| 제공대학명 &lt;chr&gt; | 대학소재지 &lt;chr&gt; | 구분 &lt;chr&gt; |\n",
       "|---|---|---|\n",
       "| 전북대학교 | 전라북도 | 국립 |\n",
       "\n"
      ],
      "text/plain": [
       "  제공대학명 대학소재지 구분\n",
       "1 전북대학교 전라북도   국립"
      ]
     },
     "metadata": {},
     "output_type": "display_data"
    }
   ],
   "source": [
    "dbGetQuery(conn, \"SELECT * FROM university WHERE 제공대학명 = '전북대학교'\")"
   ]
  },
  {
   "cell_type": "code",
   "execution_count": 15,
   "id": "64d3d8da-2309-445d-91e5-404e3621274d",
   "metadata": {},
   "outputs": [
    {
     "data": {
      "text/html": [
       "<table class=\"dataframe\">\n",
       "<caption>A data.frame: 1 × 5</caption>\n",
       "<thead>\n",
       "\t<tr><th scope=col>type</th><th scope=col>name</th><th scope=col>tbl_name</th><th scope=col>rootpage</th><th scope=col>sql</th></tr>\n",
       "\t<tr><th scope=col>&lt;chr&gt;</th><th scope=col>&lt;chr&gt;</th><th scope=col>&lt;chr&gt;</th><th scope=col>&lt;int&gt;</th><th scope=col>&lt;chr&gt;</th></tr>\n",
       "</thead>\n",
       "<tbody>\n",
       "\t<tr><td>table</td><td>professor</td><td>professor</td><td>5</td><td>CREATE TABLE professor (\n",
       "  교수코드 INTEGER PRIMARY KEY,\n",
       "  담당교수명 TEXT,\n",
       "  담당분야 TEXT,\n",
       "  제공대학명 TEXT,\n",
       "  FOREIGN KEY (제공대학명)\n",
       "  REFERENCES university(제공대학명)\n",
       "  ON UPDATE CASCADE\n",
       "  ON DELETE SET NUll\n",
       ")</td></tr>\n",
       "</tbody>\n",
       "</table>\n"
      ],
      "text/latex": [
       "A data.frame: 1 × 5\n",
       "\\begin{tabular}{lllll}\n",
       " type & name & tbl\\_name & rootpage & sql\\\\\n",
       " <chr> & <chr> & <chr> & <int> & <chr>\\\\\n",
       "\\hline\n",
       "\t table & professor & professor & 5 & CREATE TABLE professor (\n",
       "  교수코드 INTEGER PRIMARY KEY,\n",
       "  담당교수명 TEXT,\n",
       "  담당분야 TEXT,\n",
       "  제공대학명 TEXT,\n",
       "  FOREIGN KEY (제공대학명)\n",
       "  REFERENCES university(제공대학명)\n",
       "  ON UPDATE CASCADE\n",
       "  ON DELETE SET NUll\n",
       ")\\\\\n",
       "\\end{tabular}\n"
      ],
      "text/markdown": [
       "\n",
       "A data.frame: 1 × 5\n",
       "\n",
       "| type &lt;chr&gt; | name &lt;chr&gt; | tbl_name &lt;chr&gt; | rootpage &lt;int&gt; | sql &lt;chr&gt; |\n",
       "|---|---|---|---|---|\n",
       "| table | professor | professor | 5 | CREATE TABLE professor (\n",
       "  교수코드 INTEGER PRIMARY KEY,\n",
       "  담당교수명 TEXT,\n",
       "  담당분야 TEXT,\n",
       "  제공대학명 TEXT,\n",
       "  FOREIGN KEY (제공대학명)\n",
       "  REFERENCES university(제공대학명)\n",
       "  ON UPDATE CASCADE\n",
       "  ON DELETE SET NUll\n",
       ") |\n",
       "\n"
      ],
      "text/plain": [
       "  type  name      tbl_name  rootpage\n",
       "1 table professor professor 5       \n",
       "  sql                                                                                                                                                                                                                               \n",
       "1 CREATE TABLE professor (\\n  교수코드 INTEGER PRIMARY KEY,\\n  담당교수명 TEXT,\\n  담당분야 TEXT,\\n  제공대학명 TEXT,\\n  FOREIGN KEY (제공대학명)\\n  REFERENCES university(제공대학명)\\n  ON UPDATE CASCADE\\n  ON DELETE SET NUll\\n)"
      ]
     },
     "metadata": {},
     "output_type": "display_data"
    },
    {
     "data": {
      "text/html": [
       "<table class=\"dataframe\">\n",
       "<caption>A data.frame: 1 × 5</caption>\n",
       "<thead>\n",
       "\t<tr><th scope=col>type</th><th scope=col>name</th><th scope=col>tbl_name</th><th scope=col>rootpage</th><th scope=col>sql</th></tr>\n",
       "\t<tr><th scope=col>&lt;chr&gt;</th><th scope=col>&lt;chr&gt;</th><th scope=col>&lt;chr&gt;</th><th scope=col>&lt;int&gt;</th><th scope=col>&lt;chr&gt;</th></tr>\n",
       "</thead>\n",
       "<tbody>\n",
       "\t<tr><td>table</td><td>norm_course</td><td>norm_course</td><td>4</td><td>CREATE TABLE norm_course (\n",
       "  강의코드 INTEGER PRIMARY KEY,\n",
       "  강의명 TEXT,\n",
       "  강의년도 INTEGER,\n",
       "  강의학기 INTEGER,\n",
       "  제공일자 TEXT,\n",
       "  제공대학명 TEXT,\n",
       "  FOREIGN KEY (제공대학명) \n",
       "  REFERENCES university(제공대학명)\n",
       ")</td></tr>\n",
       "</tbody>\n",
       "</table>\n"
      ],
      "text/latex": [
       "A data.frame: 1 × 5\n",
       "\\begin{tabular}{lllll}\n",
       " type & name & tbl\\_name & rootpage & sql\\\\\n",
       " <chr> & <chr> & <chr> & <int> & <chr>\\\\\n",
       "\\hline\n",
       "\t table & norm\\_course & norm\\_course & 4 & CREATE TABLE norm\\_course (\n",
       "  강의코드 INTEGER PRIMARY KEY,\n",
       "  강의명 TEXT,\n",
       "  강의년도 INTEGER,\n",
       "  강의학기 INTEGER,\n",
       "  제공일자 TEXT,\n",
       "  제공대학명 TEXT,\n",
       "  FOREIGN KEY (제공대학명) \n",
       "  REFERENCES university(제공대학명)\n",
       ")\\\\\n",
       "\\end{tabular}\n"
      ],
      "text/markdown": [
       "\n",
       "A data.frame: 1 × 5\n",
       "\n",
       "| type &lt;chr&gt; | name &lt;chr&gt; | tbl_name &lt;chr&gt; | rootpage &lt;int&gt; | sql &lt;chr&gt; |\n",
       "|---|---|---|---|---|\n",
       "| table | norm_course | norm_course | 4 | CREATE TABLE norm_course (\n",
       "  강의코드 INTEGER PRIMARY KEY,\n",
       "  강의명 TEXT,\n",
       "  강의년도 INTEGER,\n",
       "  강의학기 INTEGER,\n",
       "  제공일자 TEXT,\n",
       "  제공대학명 TEXT,\n",
       "  FOREIGN KEY (제공대학명) \n",
       "  REFERENCES university(제공대학명)\n",
       ") |\n",
       "\n"
      ],
      "text/plain": [
       "  type  name        tbl_name    rootpage\n",
       "1 table norm_course norm_course 4       \n",
       "  sql                                                                                                                                                                                                                             \n",
       "1 CREATE TABLE norm_course (\\n  강의코드 INTEGER PRIMARY KEY,\\n  강의명 TEXT,\\n  강의년도 INTEGER,\\n  강의학기 INTEGER,\\n  제공일자 TEXT,\\n  제공대학명 TEXT,\\n  FOREIGN KEY (제공대학명) \\n  REFERENCES university(제공대학명)\\n)"
      ]
     },
     "metadata": {},
     "output_type": "display_data"
    },
    {
     "data": {
      "text/html": [
       "<table class=\"dataframe\">\n",
       "<caption>A data.frame: 1 × 5</caption>\n",
       "<thead>\n",
       "\t<tr><th scope=col>type</th><th scope=col>name</th><th scope=col>tbl_name</th><th scope=col>rootpage</th><th scope=col>sql</th></tr>\n",
       "\t<tr><th scope=col>&lt;chr&gt;</th><th scope=col>&lt;chr&gt;</th><th scope=col>&lt;chr&gt;</th><th scope=col>&lt;int&gt;</th><th scope=col>&lt;chr&gt;</th></tr>\n",
       "</thead>\n",
       "<tbody>\n",
       "\t<tr><td>table</td><td>charge</td><td>charge</td><td>6</td><td>CREATE TABLE charge (\n",
       "  교수코드 INTEGER,\n",
       "  강의코드 INTEGER,\n",
       "  FOREIGN KEY (교수코드)\n",
       "  REFERENCES professor(교수코드)\n",
       "  ON UPDATE CASCADE\n",
       "  ON DELETE CASCADE\n",
       "  FOREIGN KEY (강의코드)\n",
       "  REFERENCES norm_course(강의코드)\n",
       "  ON UPDATE CASCADE\n",
       "  ON DELETE CASCADE\n",
       "  PRIMARY KEY (교수코드, 강의코드)\n",
       ")</td></tr>\n",
       "</tbody>\n",
       "</table>\n"
      ],
      "text/latex": [
       "A data.frame: 1 × 5\n",
       "\\begin{tabular}{lllll}\n",
       " type & name & tbl\\_name & rootpage & sql\\\\\n",
       " <chr> & <chr> & <chr> & <int> & <chr>\\\\\n",
       "\\hline\n",
       "\t table & charge & charge & 6 & CREATE TABLE charge (\n",
       "  교수코드 INTEGER,\n",
       "  강의코드 INTEGER,\n",
       "  FOREIGN KEY (교수코드)\n",
       "  REFERENCES professor(교수코드)\n",
       "  ON UPDATE CASCADE\n",
       "  ON DELETE CASCADE\n",
       "  FOREIGN KEY (강의코드)\n",
       "  REFERENCES norm\\_course(강의코드)\n",
       "  ON UPDATE CASCADE\n",
       "  ON DELETE CASCADE\n",
       "  PRIMARY KEY (교수코드, 강의코드)\n",
       ")\\\\\n",
       "\\end{tabular}\n"
      ],
      "text/markdown": [
       "\n",
       "A data.frame: 1 × 5\n",
       "\n",
       "| type &lt;chr&gt; | name &lt;chr&gt; | tbl_name &lt;chr&gt; | rootpage &lt;int&gt; | sql &lt;chr&gt; |\n",
       "|---|---|---|---|---|\n",
       "| table | charge | charge | 6 | CREATE TABLE charge (\n",
       "  교수코드 INTEGER,\n",
       "  강의코드 INTEGER,\n",
       "  FOREIGN KEY (교수코드)\n",
       "  REFERENCES professor(교수코드)\n",
       "  ON UPDATE CASCADE\n",
       "  ON DELETE CASCADE\n",
       "  FOREIGN KEY (강의코드)\n",
       "  REFERENCES norm_course(강의코드)\n",
       "  ON UPDATE CASCADE\n",
       "  ON DELETE CASCADE\n",
       "  PRIMARY KEY (교수코드, 강의코드)\n",
       ") |\n",
       "\n"
      ],
      "text/plain": [
       "  type  name   tbl_name rootpage\n",
       "1 table charge charge   6       \n",
       "  sql                                                                                                                                                                                                                                                                                                                 \n",
       "1 CREATE TABLE charge (\\n  교수코드 INTEGER,\\n  강의코드 INTEGER,\\n  FOREIGN KEY (교수코드)\\n  REFERENCES professor(교수코드)\\n  ON UPDATE CASCADE\\n  ON DELETE CASCADE\\n  FOREIGN KEY (강의코드)\\n  REFERENCES norm_course(강의코드)\\n  ON UPDATE CASCADE\\n  ON DELETE CASCADE\\n  PRIMARY KEY (교수코드, 강의코드)\\n)"
      ]
     },
     "metadata": {},
     "output_type": "display_data"
    }
   ],
   "source": [
    "dbGetQuery(conn, \"SELECT * FROM sqlite_schema WHERE name = 'professor'\")\n",
    "dbGetQuery(conn, \"SELECT * FROM sqlite_schema WHERE name = 'norm_course'\")\n",
    "dbGetQuery(conn, \"SELECT * FROM sqlite_schema WHERE name = 'charge'\")"
   ]
  },
  {
   "cell_type": "code",
   "execution_count": 11,
   "id": "d8d98566-42d9-491d-9f0b-f38cc5f58b5d",
   "metadata": {},
   "outputs": [
    {
     "data": {
      "text/html": [
       "<table class=\"dataframe\">\n",
       "<caption>A data.frame: 1 × 5</caption>\n",
       "<thead>\n",
       "\t<tr><th scope=col>type</th><th scope=col>name</th><th scope=col>tbl_name</th><th scope=col>rootpage</th><th scope=col>sql</th></tr>\n",
       "\t<tr><th scope=col>&lt;chr&gt;</th><th scope=col>&lt;chr&gt;</th><th scope=col>&lt;chr&gt;</th><th scope=col>&lt;int&gt;</th><th scope=col>&lt;chr&gt;</th></tr>\n",
       "</thead>\n",
       "<tbody>\n",
       "\t<tr><td>table</td><td>university</td><td>university</td><td>2</td><td>CREATE TABLE university (\n",
       "  제공대학명 TEXT PRIMARY KEY,\n",
       "  대학소재지 TEXT,\n",
       "  구분 TEXT\n",
       ")</td></tr>\n",
       "</tbody>\n",
       "</table>\n"
      ],
      "text/latex": [
       "A data.frame: 1 × 5\n",
       "\\begin{tabular}{lllll}\n",
       " type & name & tbl\\_name & rootpage & sql\\\\\n",
       " <chr> & <chr> & <chr> & <int> & <chr>\\\\\n",
       "\\hline\n",
       "\t table & university & university & 2 & CREATE TABLE university (\n",
       "  제공대학명 TEXT PRIMARY KEY,\n",
       "  대학소재지 TEXT,\n",
       "  구분 TEXT\n",
       ")\\\\\n",
       "\\end{tabular}\n"
      ],
      "text/markdown": [
       "\n",
       "A data.frame: 1 × 5\n",
       "\n",
       "| type &lt;chr&gt; | name &lt;chr&gt; | tbl_name &lt;chr&gt; | rootpage &lt;int&gt; | sql &lt;chr&gt; |\n",
       "|---|---|---|---|---|\n",
       "| table | university | university | 2 | CREATE TABLE university (\n",
       "  제공대학명 TEXT PRIMARY KEY,\n",
       "  대학소재지 TEXT,\n",
       "  구분 TEXT\n",
       ") |\n",
       "\n"
      ],
      "text/plain": [
       "  type  name       tbl_name   rootpage\n",
       "1 table university university 2       \n",
       "  sql                                                                                          \n",
       "1 CREATE TABLE university (\\n  제공대학명 TEXT PRIMARY KEY,\\n  대학소재지 TEXT,\\n  구분 TEXT\\n)"
      ]
     },
     "metadata": {},
     "output_type": "display_data"
    }
   ],
   "source": [
    "dbGetQuery(conn, \"SELECT * FROM sqlite_schema WHERE name = 'university'\")"
   ]
  },
  {
   "cell_type": "code",
   "execution_count": null,
   "id": "a2abb442-2576-41b3-a20b-d8709ddbb560",
   "metadata": {},
   "outputs": [],
   "source": [
    "dbExecute(conn, \"INSERT\")"
   ]
  },
  {
   "cell_type": "code",
   "execution_count": 10,
   "id": "57a9a452-6260-47f6-8bc3-b1c742ab1905",
   "metadata": {},
   "outputs": [
    {
     "data": {
      "text/html": [
       "10"
      ],
      "text/latex": [
       "10"
      ],
      "text/markdown": [
       "10"
      ],
      "text/plain": [
       "[1] 10"
      ]
     },
     "metadata": {},
     "output_type": "display_data"
    }
   ],
   "source": [
    "dbExecute(conn, \"DELETE FROM professor WHERE 교수코드 = 0\")"
   ]
  },
  {
   "cell_type": "code",
   "execution_count": 17,
   "id": "c0ccf59b-bc26-4255-a771-5e7d087c0ef7",
   "metadata": {},
   "outputs": [
    {
     "data": {
      "text/html": [
       "<table class=\"dataframe\">\n",
       "<caption>A data.frame: 20 × 2</caption>\n",
       "<thead>\n",
       "\t<tr><th scope=col>교수코드</th><th scope=col>강의코드</th></tr>\n",
       "\t<tr><th scope=col>&lt;int&gt;</th><th scope=col>&lt;int&gt;</th></tr>\n",
       "</thead>\n",
       "<tbody>\n",
       "\t<tr><td> 0</td><td>1095582</td></tr>\n",
       "\t<tr><td> 1</td><td>1104074</td></tr>\n",
       "\t<tr><td> 2</td><td>1110603</td></tr>\n",
       "\t<tr><td> 3</td><td>1112400</td></tr>\n",
       "\t<tr><td> 4</td><td>1118072</td></tr>\n",
       "\t<tr><td> 4</td><td>1118158</td></tr>\n",
       "\t<tr><td> 5</td><td>1118268</td></tr>\n",
       "\t<tr><td> 6</td><td>1123826</td></tr>\n",
       "\t<tr><td> 7</td><td>1125165</td></tr>\n",
       "\t<tr><td> 8</td><td>1127202</td></tr>\n",
       "\t<tr><td> 0</td><td>1128714</td></tr>\n",
       "\t<tr><td> 9</td><td>1128876</td></tr>\n",
       "\t<tr><td>10</td><td>1128981</td></tr>\n",
       "\t<tr><td>11</td><td>1130882</td></tr>\n",
       "\t<tr><td>12</td><td>1131651</td></tr>\n",
       "\t<tr><td>13</td><td>1132857</td></tr>\n",
       "\t<tr><td> 5</td><td>1133115</td></tr>\n",
       "\t<tr><td>14</td><td>1135672</td></tr>\n",
       "\t<tr><td>15</td><td>1135717</td></tr>\n",
       "\t<tr><td>14</td><td>1135792</td></tr>\n",
       "</tbody>\n",
       "</table>\n"
      ],
      "text/latex": [
       "A data.frame: 20 × 2\n",
       "\\begin{tabular}{ll}\n",
       " 교수코드 & 강의코드\\\\\n",
       " <int> & <int>\\\\\n",
       "\\hline\n",
       "\t  0 & 1095582\\\\\n",
       "\t  1 & 1104074\\\\\n",
       "\t  2 & 1110603\\\\\n",
       "\t  3 & 1112400\\\\\n",
       "\t  4 & 1118072\\\\\n",
       "\t  4 & 1118158\\\\\n",
       "\t  5 & 1118268\\\\\n",
       "\t  6 & 1123826\\\\\n",
       "\t  7 & 1125165\\\\\n",
       "\t  8 & 1127202\\\\\n",
       "\t  0 & 1128714\\\\\n",
       "\t  9 & 1128876\\\\\n",
       "\t 10 & 1128981\\\\\n",
       "\t 11 & 1130882\\\\\n",
       "\t 12 & 1131651\\\\\n",
       "\t 13 & 1132857\\\\\n",
       "\t  5 & 1133115\\\\\n",
       "\t 14 & 1135672\\\\\n",
       "\t 15 & 1135717\\\\\n",
       "\t 14 & 1135792\\\\\n",
       "\\end{tabular}\n"
      ],
      "text/markdown": [
       "\n",
       "A data.frame: 20 × 2\n",
       "\n",
       "| 교수코드 &lt;int&gt; | 강의코드 &lt;int&gt; |\n",
       "|---|---|\n",
       "|  0 | 1095582 |\n",
       "|  1 | 1104074 |\n",
       "|  2 | 1110603 |\n",
       "|  3 | 1112400 |\n",
       "|  4 | 1118072 |\n",
       "|  4 | 1118158 |\n",
       "|  5 | 1118268 |\n",
       "|  6 | 1123826 |\n",
       "|  7 | 1125165 |\n",
       "|  8 | 1127202 |\n",
       "|  0 | 1128714 |\n",
       "|  9 | 1128876 |\n",
       "| 10 | 1128981 |\n",
       "| 11 | 1130882 |\n",
       "| 12 | 1131651 |\n",
       "| 13 | 1132857 |\n",
       "|  5 | 1133115 |\n",
       "| 14 | 1135672 |\n",
       "| 15 | 1135717 |\n",
       "| 14 | 1135792 |\n",
       "\n"
      ],
      "text/plain": [
       "   교수코드 강의코드\n",
       "1   0       1095582 \n",
       "2   1       1104074 \n",
       "3   2       1110603 \n",
       "4   3       1112400 \n",
       "5   4       1118072 \n",
       "6   4       1118158 \n",
       "7   5       1118268 \n",
       "8   6       1123826 \n",
       "9   7       1125165 \n",
       "10  8       1127202 \n",
       "11  0       1128714 \n",
       "12  9       1128876 \n",
       "13 10       1128981 \n",
       "14 11       1130882 \n",
       "15 12       1131651 \n",
       "16 13       1132857 \n",
       "17  5       1133115 \n",
       "18 14       1135672 \n",
       "19 15       1135717 \n",
       "20 14       1135792 "
      ]
     },
     "metadata": {},
     "output_type": "display_data"
    }
   ],
   "source": [
    "dbGetQuery(conn, \"SELECT * FROM charge LIMIT 20\")"
   ]
  },
  {
   "cell_type": "code",
   "execution_count": 13,
   "id": "d315d6f0-bd89-48cc-80c5-0450eba48ae3",
   "metadata": {},
   "outputs": [
    {
     "data": {
      "text/html": [
       "<table class=\"dataframe\">\n",
       "<caption>A data.frame: 1 × 5</caption>\n",
       "<thead>\n",
       "\t<tr><th scope=col>type</th><th scope=col>name</th><th scope=col>tbl_name</th><th scope=col>rootpage</th><th scope=col>sql</th></tr>\n",
       "\t<tr><th scope=col>&lt;chr&gt;</th><th scope=col>&lt;chr&gt;</th><th scope=col>&lt;chr&gt;</th><th scope=col>&lt;int&gt;</th><th scope=col>&lt;chr&gt;</th></tr>\n",
       "</thead>\n",
       "<tbody>\n",
       "\t<tr><td>table</td><td>charge</td><td>charge</td><td>2</td><td>CREATE TABLE charge (\n",
       "  교수코드 INTEGER,\n",
       "  강의코드 INTEGER,\n",
       "  PRIMARY KEY (교수코드, 강의코드),\n",
       "  FOREIGN KEY (교수코드) \n",
       "  REFERENCES professor(교수코드),\n",
       "  FOREIGN KEY (강의코드) \n",
       "  REFERENCES norm_course(강의코드)\n",
       ")</td></tr>\n",
       "</tbody>\n",
       "</table>\n"
      ],
      "text/latex": [
       "A data.frame: 1 × 5\n",
       "\\begin{tabular}{lllll}\n",
       " type & name & tbl\\_name & rootpage & sql\\\\\n",
       " <chr> & <chr> & <chr> & <int> & <chr>\\\\\n",
       "\\hline\n",
       "\t table & charge & charge & 2 & CREATE TABLE charge (\n",
       "  교수코드 INTEGER,\n",
       "  강의코드 INTEGER,\n",
       "  PRIMARY KEY (교수코드, 강의코드),\n",
       "  FOREIGN KEY (교수코드) \n",
       "  REFERENCES professor(교수코드),\n",
       "  FOREIGN KEY (강의코드) \n",
       "  REFERENCES norm\\_course(강의코드)\n",
       ")\\\\\n",
       "\\end{tabular}\n"
      ],
      "text/markdown": [
       "\n",
       "A data.frame: 1 × 5\n",
       "\n",
       "| type &lt;chr&gt; | name &lt;chr&gt; | tbl_name &lt;chr&gt; | rootpage &lt;int&gt; | sql &lt;chr&gt; |\n",
       "|---|---|---|---|---|\n",
       "| table | charge | charge | 2 | CREATE TABLE charge (\n",
       "  교수코드 INTEGER,\n",
       "  강의코드 INTEGER,\n",
       "  PRIMARY KEY (교수코드, 강의코드),\n",
       "  FOREIGN KEY (교수코드) \n",
       "  REFERENCES professor(교수코드),\n",
       "  FOREIGN KEY (강의코드) \n",
       "  REFERENCES norm_course(강의코드)\n",
       ") |\n",
       "\n"
      ],
      "text/plain": [
       "  type  name   tbl_name rootpage\n",
       "1 table charge charge   2       \n",
       "  sql                                                                                                                                                                                                                                 \n",
       "1 CREATE TABLE charge (\\n  교수코드 INTEGER,\\n  강의코드 INTEGER,\\n  PRIMARY KEY (교수코드, 강의코드),\\n  FOREIGN KEY (교수코드) \\n  REFERENCES professor(교수코드),\\n  FOREIGN KEY (강의코드) \\n  REFERENCES norm_course(강의코드)\\n)"
      ]
     },
     "metadata": {},
     "output_type": "display_data"
    }
   ],
   "source": [
    "dbGetQuery(conn, \"SELECT * FROM sqlite_schema WHERE name = 'charge'\")"
   ]
  },
  {
   "cell_type": "code",
   "execution_count": 1,
   "id": "e10671f2-3ee0-41b1-bb0f-4b9f94e39be1",
   "metadata": {},
   "outputs": [
    {
     "ename": "ERROR",
     "evalue": "Error in read_excel(\"C:/Users/leesj/Downloads/professor (2).xlsx\"): could not find function \"read_excel\"\n",
     "output_type": "error",
     "traceback": [
      "Error in read_excel(\"C:/Users/leesj/Downloads/professor (2).xlsx\"): could not find function \"read_excel\"\nTraceback:\n"
     ]
    }
   ],
   "source": [
    "professor_data <- read_excel(\"C:/Users/leesj/Downloads/professor (2).xlsx\")\n",
    "course_classed_data <- read_excel(\"C:/Users/leesj/Downloads/course_classed (2).xlsx\")\n",
    "norm_course_data <- read_excel(\"C:/Users/leesj/Downloads/norm_course (3).xlsx\")\n",
    "charge_data <- read_excel(\"C:/Users/leesj/Downloads/charge (3).xlsx\")\n",
    "university_data <- read_excel(\"C:/Users/leesj/Downloads/university (3).xlsx\")\n",
    "\n",
    "professor_data <- professor_data[,-1]\n",
    "course_classed_data <- course_classed_data[,-1]\n",
    "norm_course_data <- norm_course_data[,-1]\n",
    "charge_data <- charge_data[,-1]\n",
    "university_data <- university_data[,-1]\n",
    "\n",
    "names(university_data)[names(university_data) == \"대학소재지(시/도)\"] <- \"대학소재지\"\n",
    "names(university_data)[names(university_data) == \"사립/국립 구분\"] <- \"구분\"\n",
    "\n",
    "conn <- dbConnect(RSQLite::SQLite(), \"kocw.db\")\n",
    "\n",
    "dbExecute(conn, \"PRAGMA foreign_keys = ON\")\n",
    "\n",
    "dbExecute(conn, \"\n",
    "CREATE TABLE charge (\n",
    "  FOREIGN KEY (교수코드) \n",
    "  REFERENCES professor(교수코드)\n",
    "  ON UPDATE SET CASCADE\n",
    "  ON DELECT SET NULL,\n",
    "  FOREIGN KEY (강의코드) \n",
    "  REFERENCES norm_course(강의코드)\n",
    "  ON UPDATE CASCADE\n",
    "  ON DELECT SET NULL,\n",
    "  PRIMARY KEY (교수코드, 강의코드)\n",
    ")\")\n",
    "\n",
    "dbExecute(conn, \"\n",
    "CREATE TABLE norm_course (\n",
    "  강의코드 INTEGER PRIMARY KEY,\n",
    "  강의명 TEXT,\n",
    "  강의년도 INTEGER,\n",
    "  강의학기 INTEGER,\n",
    "  제공대학명 TEXT,\n",
    "  제공일자 TEXT,\n",
    "  FOREIGN KEY (제공대학명) \n",
    "  REFERENCES university(제공대학명)\n",
    ")\")\n",
    "\n",
    "dbExecute(conn, \"\n",
    "CREATE TABLE course_classed (\n",
    "  강의명 TEXT PRIMARY KEY,\n",
    "  교육분류 TEXT\n",
    ")\")\n",
    "\n",
    "dbExecute(conn, \"\n",
    "CREATE TABLE professor (\n",
    "  교수코드 INTEGER PRIMARY KEY,\n",
    "  담당교수명 TEXT,\n",
    "  담당분야 TEXT,\n",
    "  제공대학명 TEXT,\n",
    "  FOREIGN KEY (제공대학명)\n",
    "  REFERENCES university(제공대학명)\n",
    ")\")\n",
    "\n",
    "dbExecute(conn, \"\n",
    "CREATE TABLE university (\n",
    "  제공대학명 TEXT PRIMARY KEY,\n",
    "  대학소재지 TEXT,\n",
    "  구분 TEXT\n",
    ")\")\n",
    "\n",
    "dbWriteTable(conn, \"university\", university_data, append = TRUE, row.names = FALSE)\n",
    "dbWriteTablea(conn, \"professor\", professor_data, append = TRUE, row.names = FALSE)\n",
    "dbWriteTable(conn, \"norm_course\", norm_course_data, append = TRUE, row.names = FALSE)\n",
    "dbWriteTable(conn, \"course_classed\", course_classed_data, append = TRUE, row.names = FALSE)\n",
    "dbWriteTable(conn, \"charge\", charge_data, append = TRUE, row.names = FALSE)\n",
    "\n",
    "\n",
    "dbListTables(conn)\n",
    "\n",
    "\n",
    "\n",
    "dbDisconnect(conn)"
   ]
  }
 ],
 "metadata": {
  "kernelspec": {
   "display_name": "R",
   "language": "R",
   "name": "ir"
  },
  "language_info": {
   "codemirror_mode": "r",
   "file_extension": ".r",
   "mimetype": "text/x-r-source",
   "name": "R",
   "pygments_lexer": "r",
   "version": "4.3.3"
  }
 },
 "nbformat": 4,
 "nbformat_minor": 5
}
