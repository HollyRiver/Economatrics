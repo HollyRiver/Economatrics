{
 "cells": [
  {
   "cell_type": "markdown",
   "metadata": {
    "id": "DVCYKWROjzQd"
   },
   "source": [
    "\n",
    "## SQLite in python (1 & 2)\n",
    "\n",
    "\n",
    "\n",
    "\n",
    "2023년 1학기 통계학과 김광수"
   ]
  },
  {
   "cell_type": "code",
   "execution_count": 7,
   "metadata": {
    "colab": {
     "base_uri": "https://localhost:8080/"
    },
    "id": "dbuKFN65Rmad",
    "outputId": "e641019a-bd7c-4f5f-d6e9-3e3e0ab89f67"
   },
   "outputs": [
    {
     "name": "stdout",
     "output_type": "stream",
     "text": [
      "[]\n"
     ]
    },
    {
     "data": {
      "text/plain": [
       "<sqlite3.Cursor at 0x7f48f83d1040>"
      ]
     },
     "execution_count": 7,
     "metadata": {},
     "output_type": "execute_result"
    }
   ],
   "source": [
    "import sqlite3\n",
    "con = sqlite3.connect(':memory:')\n",
    "con = sqlite3.connect('./test.db')\n",
    "\n",
    "sql_query = \"\"\"SELECT name FROM sqlite_master\n",
    "    WHERE type='table';\"\"\"\n",
    "\n",
    "cur = con.cursor()\n",
    "cur.execute(sql_query)\n",
    "print(cur.fetchall())\n",
    "con.execute(\"PRAGMA foreign_keys = 1\")"
   ]
  },
  {
   "cell_type": "markdown",
   "metadata": {
    "id": "w15k1P8FwmoG"
   },
   "source": [
    "## **데이터 베이스 생성**\n",
    "\n",
    "1. con으로 데이터베이스 및 연결이름 생성\n",
    "2. sql_quey는 스키마를 확인하기 위한 구문\n",
    "3. cursor를 통해서 각종 구문을 실행하게 함\n",
    "4. fetchall()은 모든 결과를 보여주는 출력 구문"
   ]
  },
  {
   "cell_type": "code",
   "execution_count": 8,
   "metadata": {
    "colab": {
     "base_uri": "https://localhost:8080/",
     "height": 223
    },
    "id": "gcdbWs2-3d7p",
    "outputId": "0a9f7100-e0a6-4339-b486-dc23bfef04cc"
   },
   "outputs": [
    {
     "name": "stdout",
     "output_type": "stream",
     "text": [
      "Table is Ready\n",
      "[]\n"
     ]
    }
   ],
   "source": [
    "table = \"\"\" CREATE TABLE GEEK (\n",
    "            Email VARCHAR(255) NOT NULL,\n",
    "            First_Name CHAR(25) NOT NULL,\n",
    "            Last_Name CHAR(25),\n",
    "            Score INT\n",
    "        ); \"\"\"\n",
    "cur.execute(table)\n",
    "print(\"Table is Ready\")\n",
    "\n",
    "cur.execute(\"SELECT * FROM GEEK\")\n",
    "print(cur.fetchall())"
   ]
  },
  {
   "cell_type": "markdown",
   "metadata": {
    "id": "xRqoC560QTkB"
   },
   "source": [
    "###**테이블 조작: 생성** **굵은 텍스트**\n",
    "1. 스키마가 지정된 테이블을 생성\n",
    "2. execute 구문을 이용\n",
    "3. 내용을 출력"
   ]
  },
  {
   "cell_type": "code",
   "execution_count": 9,
   "metadata": {
    "colab": {
     "base_uri": "https://localhost:8080/"
    },
    "id": "2hG5Bt_0IP9Y",
    "outputId": "c5addf0e-67e4-4fb2-fa65-2224c4647312"
   },
   "outputs": [
    {
     "name": "stdout",
     "output_type": "stream",
     "text": [
      "[('Ihj@jbnu.ac.kr', 'GY', 'KIM', 30)]\n",
      "[]\n"
     ]
    }
   ],
   "source": [
    "cur.execute(\"INSERT INTO GEEK VALUES (?,?,?,?);\", ( 'Ihj@jbnu.ac.kr', 'GY', 'KIM', 30) )\n",
    "cur.execute(\"SELECT * FROM GEEK\")\n",
    "print (cur.fetchall())\n",
    "\n",
    "cur.execute('DELETE FROM GEEK WHERE Score > 20' )\n",
    "cur.execute(\"SELECT * FROM GEEK\")\n",
    "print (cur.fetchall())"
   ]
  },
  {
   "cell_type": "markdown",
   "metadata": {
    "id": "CmexGiOWwhgW"
   },
   "source": [
    "###**테이블 조작: 입력과 삭제**\n",
    "1. 각각의 변수명에 대응해서 값을 입력 (INSERT INTO table VALUES ...)\n",
    "2. 확인하고 Score가 20이 넘으면 삭제 (DELETE FROM table WHERE ...)\n",
    "3. 확인 **굵은 텍스트**"
   ]
  },
  {
   "cell_type": "code",
   "execution_count": 10,
   "metadata": {
    "colab": {
     "base_uri": "https://localhost:8080/"
    },
    "id": "x1iMxffOtGNT",
    "outputId": "42a80b5a-1d78-402b-c071-3093ac9dbc86"
   },
   "outputs": [
    {
     "name": "stdout",
     "output_type": "stream",
     "text": [
      "          e-mail    first  last  score\n",
      "0    g@naver.com   Minhee  Kang     50\n",
      "1    jk@daum.net  Shinwoo   Kim     70\n",
      "2  hg@jbnu.ac.kr    Heedo  Kwon     90\n",
      "3   gg@naver.com    Junsu   Lee     59\n",
      "4  jop@gmail.com   Jungsu   Lee     89\n",
      "[(0, 'g@naver.com', 'Minhee', 'Kang', 50), (1, 'jk@daum.net', 'Shinwoo', 'Kim', 70), (2, 'hg@jbnu.ac.kr', 'Heedo', 'Kwon', 90), (3, 'gg@naver.com', 'Junsu', 'Lee', 59), (4, 'jop@gmail.com', 'Jungsu', 'Lee', 89)]\n"
     ]
    }
   ],
   "source": [
    "import pandas as pd\n",
    "df = pd.read_csv('./ZP.csv')\n",
    "print(df)\n",
    "\n",
    "df.to_sql('test', con)\n",
    "cur.execute(\"SELECT * FROM test\")\n",
    "print(cur.fetchall())"
   ]
  },
  {
   "cell_type": "markdown",
   "metadata": {
    "id": "8G8wOrL657ip"
   },
   "source": [
    "###**테이블 조작: 외부데이터로 생성**\n",
    "1. pandas를 이용해서 .csv 파일 로딩\n",
    "2. 구문 <dataframe name>.to_sql 로 입력 (테이터베이스 및 테이블 이름 지정)"
   ]
  },
  {
   "cell_type": "code",
   "execution_count": 12,
   "metadata": {
    "colab": {
     "base_uri": "https://localhost:8080/"
    },
    "id": "EgDS75dn6EuP",
    "outputId": "29fb0ea9-7410-45ac-903d-74288b657a7b"
   },
   "outputs": [
    {
     "name": "stdout",
     "output_type": "stream",
     "text": [
      "[(0, 'g@naver.com', 'Minhee', 'Kang', 50), (1, 'jk@daum.net', 'Shinwoo', 'Kim', 70), (2, 'hg@jbnu.ac.kr', 'Heedo', 'Kwon', 90), (3, 'gg@naver.com', 'Junsu', 'Lee', 59), (4, 'jop@gmail.com', 'Jungsu', 'Lee', 89), (6, 'aq@daum.net', 'Hong', 'Lee', 40), (11, 'd@naver.com', 'Heesu', 'Kim', 50), (12, 'aq@daum.net', 'Hong', 'Lee', 40)]\n"
     ]
    }
   ],
   "source": [
    "cur.execute(\"INSERT INTO TEST VALUES (?,?,?,?,?);\", (6,'aq@daum.net','Hong','Lee', 40))\n",
    "ag = 'INSERT INTO TEST VALUES (?,?,?,?,?);'\n",
    "vals = [(11,'d@naver.com','Heesu','Kim', 50), (12,'aq@daum.net','Hong','Lee', 40)]\n",
    "cur = con.cursor()\n",
    "cur.executemany(ag, vals)\n",
    "cur.execute(\"SELECT * FROM TEST\")\n",
    "cur.execute(\"SELECT * FROM TEST\")\n",
    "print(cur.fetchall())"
   ]
  },
  {
   "cell_type": "markdown",
   "metadata": {
    "id": "CpcmZlO8DXLc"
   },
   "source": [
    "###**테이블 조작: 추가 삽입**\n",
    "1. insert 구문을 이용해서 하나의 튜플을 삽입\n",
    "2. insert 구문을 이용해서 두개의 튜플을 삽입"
   ]
  },
  {
   "cell_type": "code",
   "execution_count": 13,
   "metadata": {
    "colab": {
     "base_uri": "https://localhost:8080/"
    },
    "id": "ORH_8EJh6Iic",
    "outputId": "e68c28ff-2771-42aa-c4d8-96f9ad88f613"
   },
   "outputs": [
    {
     "name": "stdout",
     "output_type": "stream",
     "text": [
      "[(6, 'aq@daum.net', 'Hong', 'Lee', 40), (12, 'aq@daum.net', 'Hong', 'Lee', 40)]\n",
      "[(6, 'aq@daum.net', 'Hong', 'Lee', 60), (12, 'aq@daum.net', 'Hong', 'Lee', 60)]\n"
     ]
    }
   ],
   "source": [
    "cur.execute(\"DELETE FROM test WHERE score > 40\")\n",
    "cur.execute(\"SELECT * FROM test\")\n",
    "print(cur.fetchall())\n",
    "cur.execute(\"UPDATE TEST SET SCORE = 60 WHERE SCORE = 40\")\n",
    "cur.execute(\"SELECT * FROM test\")\n",
    "print(cur.fetchall())"
   ]
  },
  {
   "cell_type": "markdown",
   "metadata": {
    "id": "GfOAws6ZDlrq"
   },
   "source": [
    "###**테이블 조작: 삭제 및 갱신**\n",
    "1. Score가 40을 초과하면 삭제\n",
    "2. Score가 40이면 60으로 수정 (UPDATE table SET ... WHERE ...)    "
   ]
  },
  {
   "cell_type": "code",
   "execution_count": 14,
   "metadata": {
    "colab": {
     "base_uri": "https://localhost:8080/"
    },
    "id": "M0WYVHDs17vX",
    "outputId": "327813a4-138d-4ec4-91ad-18fe54372f0d"
   },
   "outputs": [
    {
     "name": "stdout",
     "output_type": "stream",
     "text": [
      "[('GEEK',), ('test',)]\n"
     ]
    }
   ],
   "source": [
    "# cur.execute('DROP table target_db')\n",
    "cur.execute(sql_query)\n",
    "print(cur.fetchall())"
   ]
  },
  {
   "cell_type": "markdown",
   "metadata": {
    "id": "lSmyi44JGxBz"
   },
   "source": [
    "#####현재 테이블들을 확인"
   ]
  },
  {
   "cell_type": "code",
   "execution_count": 15,
   "metadata": {
    "colab": {
     "base_uri": "https://localhost:8080/"
    },
    "id": "ZmrUM73R2OFF",
    "outputId": "800722a6-a182-4502-d2fa-dad0d6151151"
   },
   "outputs": [
    {
     "name": "stdout",
     "output_type": "stream",
     "text": [
      "<map object at 0x7f4492f51480>\n",
      "[('g@naver.com', 'Minhee', 'Kang', 50), ('jk@daum.net', 'Shinwoo', 'Kim', 70), ('hg@jbnu.ac.kr', 'Heedo', 'Kwon', 90), ('gg@naver.com', 'Junsu', 'Lee', 59), ('jop@gmail.com', 'Jungsu', 'Lee', 89)]\n"
     ]
    }
   ],
   "source": [
    "table_db = \"\"\" CREATE TABLE target_db (\n",
    "            Email VARCHAR(255) PRIMARY KEY,\n",
    "            First_Name CHAR(25) NOT NULL,\n",
    "            Last_Name CHAR(25),\n",
    "            Score INT CHECK(Score>10)\n",
    "        ); \"\"\"\n",
    "\n",
    "cur.execute(table_db)\n",
    "cur = con.cursor()\n",
    "print(df.itertuples())\n",
    "for row in df.itertuples():\n",
    "    sql = \"INSERT INTO target_db(Email, First_Name, Last_Name, Score) VALUES (?, ?, ?, ?)\"\n",
    "    cur.execute(sql, (row[1], row[2], row[3], row[4]))\n",
    "con.commit()\n",
    "#cur.execute('DELETE FROM target_db')\n",
    "cur.execute('SELECT * FROM target_db')\n",
    "print(cur.fetchall())"
   ]
  },
  {
   "cell_type": "markdown",
   "metadata": {
    "id": "qIp94CVfG4Z8"
   },
   "source": [
    "###**테이블 조작: 스키마 지정 테이블 생성 및 입력**\n",
    "\n",
    "1. 스키마 지정 테이블 생성\n",
    "2. 루프문을 이용해서 외부데이터 입력\n",
    "3. 내용 확인"
   ]
  },
  {
   "cell_type": "code",
   "execution_count": 16,
   "metadata": {
    "colab": {
     "base_uri": "https://localhost:8080/",
     "height": 240
    },
    "id": "sMyagCmXHL57",
    "outputId": "51334a66-69b5-414e-bf20-0ad494903b8d"
   },
   "outputs": [
    {
     "name": "stdout",
     "output_type": "stream",
     "text": [
      "[('g@naver.com', 'Minhee', 'Kang', 50), ('jk@daum.net', 'Shinwoo', 'Kim', 70), ('hg@jbnu.ac.kr', 'Heedo', 'Kwon', 90), ('gg@naver.com', 'Junsu', 'Lee', 59), ('jop@gmail.com', 'Jungsu', 'Lee', 89), ('G@NAVER.COM', 'kYUNGSU', 'LEE', 49)]\n"
     ]
    },
    {
     "ename": "IntegrityError",
     "evalue": "UNIQUE constraint failed: target_db.Email",
     "output_type": "error",
     "traceback": [
      "\u001b[0;31m---------------------------------------------------------------------------\u001b[0m",
      "\u001b[0;31mIntegrityError\u001b[0m                            Traceback (most recent call last)",
      "Cell \u001b[0;32mIn[16], line 4\u001b[0m\n\u001b[1;32m      2\u001b[0m cur\u001b[38;5;241m.\u001b[39mexecute(\u001b[38;5;124m'\u001b[39m\u001b[38;5;124mSELECT * FROM  target_db\u001b[39m\u001b[38;5;124m'\u001b[39m)\n\u001b[1;32m      3\u001b[0m \u001b[38;5;28mprint\u001b[39m(cur\u001b[38;5;241m.\u001b[39mfetchall())\n\u001b[0;32m----> 4\u001b[0m \u001b[43mcur\u001b[49m\u001b[38;5;241;43m.\u001b[39;49m\u001b[43mexecute\u001b[49m\u001b[43m(\u001b[49m\u001b[38;5;124;43m\"\u001b[39;49m\u001b[38;5;124;43mINSERT INTO target_db(Email, First_Name, Last_Name, Score) values (\u001b[39;49m\u001b[38;5;124;43m'\u001b[39;49m\u001b[38;5;124;43mg@naver.com\u001b[39;49m\u001b[38;5;124;43m'\u001b[39;49m\u001b[38;5;124;43m,\u001b[39;49m\u001b[38;5;124;43m'\u001b[39;49m\u001b[38;5;124;43mkYUNGSU\u001b[39;49m\u001b[38;5;124;43m'\u001b[39;49m\u001b[38;5;124;43m,\u001b[39;49m\u001b[38;5;124;43m'\u001b[39;49m\u001b[38;5;124;43mLEE\u001b[39;49m\u001b[38;5;124;43m'\u001b[39;49m\u001b[38;5;124;43m, 49)\u001b[39;49m\u001b[38;5;124;43m\"\u001b[39;49m\u001b[43m)\u001b[49m\n",
      "\u001b[0;31mIntegrityError\u001b[0m: UNIQUE constraint failed: target_db.Email"
     ]
    }
   ],
   "source": [
    "cur.execute(\"INSERT INTO target_db(Email, First_Name, Last_Name, Score) values ('G@NAVER.COM','kYUNGSU','LEE', 49)\")\n",
    "cur.execute('SELECT * FROM  target_db')\n",
    "print(cur.fetchall())\n",
    "cur.execute(\"INSERT INTO target_db(Email, First_Name, Last_Name, Score) values ('g@naver.com','kYUNGSU','LEE', 49)\")"
   ]
  },
  {
   "cell_type": "markdown",
   "metadata": {},
   "source": [
    "> 유니크 조건 불만족 : 삽입 불가"
   ]
  },
  {
   "cell_type": "markdown",
   "metadata": {
    "id": "wuamfftVmqeu"
   },
   "source": [
    "###**기본키: 제약 조건**\n",
    "1. 하나의 행을 생성된 테이블에 집어 넣음\n",
    "2. 두번째 집어 넣은 행은 기본키 제약 조건에 어긋나 입력이 안됨  "
   ]
  },
  {
   "cell_type": "code",
   "execution_count": 17,
   "metadata": {
    "colab": {
     "base_uri": "https://localhost:8080/"
    },
    "id": "XWB6EVY8HYJk",
    "outputId": "d5e6adbd-4913-4866-bbbc-24086e6e4c42"
   },
   "outputs": [
    {
     "data": {
      "text/plain": [
       "<sqlite3.Cursor at 0x7f44923d5ec0>"
      ]
     },
     "execution_count": 17,
     "metadata": {},
     "output_type": "execute_result"
    }
   ],
   "source": [
    "cur.execute('DROP table target_db')\n",
    "table_db = \"\"\" CREATE TABLE target_db (\n",
    "            ID INTEGER ,\n",
    "            First_Name CHAR(25) NOT NULL,\n",
    "            Last_Name CHAR(25),\n",
    "            Score INT CHECK(Score>10) PRIMARY KEY NOT NULL UNIQUE\n",
    "        ); \"\"\"\n",
    "cur.execute(table_db)"
   ]
  },
  {
   "cell_type": "markdown",
   "metadata": {
    "id": "-5cZDZ55WMGf"
   },
   "source": [
    "#####조작용 코드######"
   ]
  },
  {
   "cell_type": "code",
   "execution_count": 18,
   "metadata": {
    "colab": {
     "base_uri": "https://localhost:8080/"
    },
    "id": "C7_xYhj4LEFt",
    "outputId": "15a49d76-d982-4780-c8d9-3b6a9d546d01"
   },
   "outputs": [
    {
     "name": "stdout",
     "output_type": "stream",
     "text": [
      "[('GEEK',), ('test',), ('target_db',)]\n",
      "(0, 'ID', 'INTEGER', 0, None, 0)\n",
      "(1, 'First_Name', 'CHAR(25)', 1, None, 0)\n",
      "(2, 'Last_Name', 'CHAR(25)', 0, None, 0)\n",
      "(3, 'Score', 'INT', 1, None, 1)\n"
     ]
    }
   ],
   "source": [
    "cur.execute(sql_query)\n",
    "print(cur.fetchall())\n",
    "\n",
    "rr = cur.execute(\"PRAGMA table_info('target_db')\")\n",
    "for r2 in rr:\n",
    "  print (r2)"
   ]
  },
  {
   "cell_type": "markdown",
   "metadata": {
    "id": "oYR56kz9m4dr"
   },
   "source": [
    "##**기본키**\n",
    "1. 테이블 이름을 출력\n",
    "2. 티에블 정보를 rr에 저장해서 출력 (변수정보 마지막 원소가 1인 경우 기본키)"
   ]
  },
  {
   "cell_type": "code",
   "execution_count": null,
   "metadata": {
    "colab": {
     "base_uri": "https://localhost:8080/"
    },
    "id": "hIhg1icWYeTM",
    "outputId": "173513cb-b7b7-4c9e-edbc-2e1b44b577eb"
   },
   "outputs": [
    {
     "name": "stdout",
     "output_type": "stream",
     "text": [
      "['GEEK', 'test', 'target_db']\n",
      "table: GEEK\n",
      "[(0, 'Email', 'VARCHAR(255)', 1, None, 0), (1, 'First_Name', 'CHAR(25)', 1, None, 0), (2, 'Last_Name', 'CHAR(25)', 0, None, 0), (3, 'Score', 'INT', 0, None, 0)]\n",
      "[]\n",
      "table: test\n",
      "[(0, 'index', 'INTEGER', 0, None, 0), (1, 'e-mail', 'TEXT', 0, None, 0), (2, 'first', 'TEXT', 0, None, 0), (3, 'last', 'TEXT', 0, None, 0), (4, 'score', 'INTEGER', 0, None, 0)]\n",
      "[]\n",
      "table: target_db\n",
      "[(0, 'ID', 'INTEGER', 0, None, 0), (1, 'First_Name', 'CHAR(25)', 1, None, 0), (2, 'Last_Name', 'CHAR(25)', 0, None, 0), (3, 'Score', 'INT', 1, None, 1)]\n",
      "[]\n"
     ]
    }
   ],
   "source": [
    "rows = cur.execute(\"SELECT name FROM sqlite_master WHERE type = 'table'\")\n",
    "tables = [row[0] for row in rows]\n",
    "print(tables)\n",
    "\n",
    "def sql_identifier(s):\n",
    "    return '\"' + s.replace('\"', '\"\"') + '\"'\n",
    "\n",
    "for table in tables:\n",
    "    print(\"table: \" + table)\n",
    "    rows = cur.execute(\"PRAGMA table_info({})\".format(sql_identifier(table)))\n",
    "    print(rows.fetchall())\n",
    "    rows = cur.execute(\"PRAGMA foreign_key_list({})\".format(sql_identifier(table)))\n",
    "    print(rows.fetchall())\n"
   ]
  },
  {
   "cell_type": "markdown",
   "metadata": {
    "id": "xQaqS777Z7tM"
   },
   "source": [
    "###**기본키: 스키마 확인**\n",
    "1. 모든 테이블 이름 확인\n",
    "2. 모든 테이블의 스키마를 한번에 출력"
   ]
  },
  {
   "cell_type": "code",
   "execution_count": null,
   "metadata": {
    "id": "h5jft_J-m4ey"
   },
   "outputs": [],
   "source": [
    "con.close()"
   ]
  },
  {
   "cell_type": "markdown",
   "metadata": {
    "id": "Fn-L6IP-5QJS"
   },
   "source": [
    "#####데이터베이스와 연결을 끊음#####"
   ]
  },
  {
   "cell_type": "code",
   "execution_count": null,
   "metadata": {
    "colab": {
     "base_uri": "https://localhost:8080/"
    },
    "id": "DM4hhxhpnVin",
    "outputId": "48c4d23c-eb2f-402c-98cd-51a43acedd58"
   },
   "outputs": [
    {
     "name": "stdout",
     "output_type": "stream",
     "text": [
      "[('target_db',), ('target',)]\n"
     ]
    }
   ],
   "source": [
    "import sqlite3\n",
    "conn = sqlite3.connect(':memory:')\n",
    "conn = sqlite3.connect('./test1.db')\n",
    "conn.execute(\"PRAGMA foreign_keys = 1\")\n",
    "\n",
    "cur = conn.cursor()\n",
    "\n",
    "cur.execute('DROP table target_db')\n",
    "cur = conn.cursor()\n",
    "table_db = \"\"\" CREATE TABLE target_db (\n",
    "            EMail CHAR(255),\n",
    "            First_Name CHAR(25) NOT NULL,\n",
    "            Last_Name CHAR(25) PRIMARY KEY,\n",
    "            Score INT CHECK(Score>10) NOT NULL UNIQUE\n",
    "        ); \"\"\"\n",
    "cur.execute(table_db)\n",
    "cur.execute('DROP TABLE target')\n",
    "tg = \"\"\"   CREATE TABLE target (\n",
    "            Email CHAR(255),\n",
    "            First_Name CHAR(25) NOT NULL,\n",
    "            Last_Name CHAR(25),\n",
    "            Score INT CHECK(Score>10),\n",
    "            FOREIGN KEY (Last_Name) REFERENCES target_db(Last_Name)\n",
    "            ON DELETE SET NULL ON UPDATE SET NULL\n",
    "        ); \"\"\"\n",
    "cur.execute(tg)\n",
    "\n",
    "cur.execute(sql_query)\n",
    "print(cur.fetchall())"
   ]
  },
  {
   "cell_type": "markdown",
   "metadata": {
    "id": "sZaavmQW5jEK"
   },
   "source": [
    "###**기본키와 외래키: 데이터베이스 및 테이블 생성**\n",
    "1. 새로운 데이터베이스 생성\n",
    "2. 두 개의 테이블을 구성, 하나는 기본키가 성으로 되어 있고 또 하나는 다른 테이블의 기본외를 외래키로 가져옴\n",
    "3. 제약조건의 규칙은 만약 기본키가 삭제되면 NULL로 바꾸는 규칙임\n",
    "4. 외래키과 제약조건의 활성화는 접속설정 이후 막바로 해야 함"
   ]
  },
  {
   "cell_type": "code",
   "execution_count": null,
   "metadata": {
    "colab": {
     "base_uri": "https://localhost:8080/"
    },
    "id": "aDuxOLcCxn6I",
    "outputId": "5cb60c20-c5fd-4697-e647-821279ebd70e"
   },
   "outputs": [
    {
     "name": "stdout",
     "output_type": "stream",
     "text": [
      "[('d@naver.com', 'Heesu', 'KIM', 50), ('Ihj@jbnu.ac.kr', 'Hong', 'LEE', 40)]\n",
      "[('gg@naver.com', 'Heesu', 'KIM', 40), ('weg@jbnu.ac.kr', 'Dong', 'LEE', 20)]\n"
     ]
    }
   ],
   "source": [
    "ag = 'INSERT INTO target_db VALUES (?,?,?,?);'\n",
    "vals = [('d@naver.com','Heesu','KIM', 50), ('Ihj@jbnu.ac.kr','Hong','LEE', 40)]\n",
    "\n",
    "cur.executemany(ag, vals)\n",
    "cur.execute('SELECT * FROM target_db')\n",
    "print(cur.fetchall())\n",
    "\n",
    "ag = 'INSERT INTO target VALUES (?,?,?,?);'\n",
    "vals = [('gg@naver.com','Heesu','KIM', 40), ('weg@jbnu.ac.kr','Dong','LEE', 20)]\n",
    "\n",
    "cur.executemany(ag, vals)\n",
    "\n",
    "cur.execute('SELECT * FROM target')\n",
    "print(cur.fetchall())"
   ]
  },
  {
   "cell_type": "code",
   "execution_count": null,
   "metadata": {
    "colab": {
     "base_uri": "https://localhost:8080/"
    },
    "id": "0sneySJ96l27",
    "outputId": "a163b716-df55-49a8-8560-8ec7a183df50"
   },
   "outputs": [
    {
     "data": {
      "text/plain": [
       "<sqlite3.Cursor at 0x7f82e8d1cd40>"
      ]
     },
     "execution_count": 14,
     "metadata": {},
     "output_type": "execute_result"
    }
   ],
   "source": [
    "# cur.execute('DELETE FROM target_db WHERE Score > -1')\n",
    "# cur.execute('DELETE FROM target WHERE Score > -1')"
   ]
  },
  {
   "cell_type": "markdown",
   "metadata": {
    "id": "yLddaAZ-6OIV"
   },
   "source": [
    "###**기본키와 외래키: 제약 조건**\n",
    "1. 두 개의 테이블에 값을 입력하고 확인\n",
    "2. 만약에 제약조건을 어긴다면 문제가 발생"
   ]
  },
  {
   "cell_type": "code",
   "execution_count": null,
   "metadata": {
    "colab": {
     "base_uri": "https://localhost:8080/"
    },
    "id": "XS1hSOMjqt96",
    "outputId": "c7417d03-ee25-4cc9-a428-867f8a53d822"
   },
   "outputs": [
    {
     "name": "stdout",
     "output_type": "stream",
     "text": [
      "[('Ihj@jbnu.ac.kr', 'Hong', 'LEE', 40)]\n",
      "[('gg@naver.com', 'Heesu', None, 40), ('weg@jbnu.ac.kr', 'Dong', 'LEE', 20)]\n"
     ]
    }
   ],
   "source": [
    "cur.execute(\"DELETE FROM target_db WHERE Last_Name='KIM'\")\n",
    "cur.execute('SELECT * FROM target_db')\n",
    "print(cur.fetchall())\n",
    "\n",
    "cur.execute(\"PRAGMA foreign_keys = ON\")\n",
    "cur.execute('SELECT * FROM target')\n",
    "print(cur.fetchall())"
   ]
  },
  {
   "cell_type": "markdown",
   "metadata": {
    "id": "hMOqFDJP8X7j"
   },
   "source": [
    "\n",
    "###**기본키와 외래키: 참조무결성**\n",
    "1. 기본키가 있는 테이블에서 KIM이 삭제\n",
    "2. 외래키를 사용한 테이블에서 NULL로 대체됨"
   ]
  },
  {
   "cell_type": "code",
   "execution_count": null,
   "metadata": {
    "colab": {
     "base_uri": "https://localhost:8080/"
    },
    "id": "uI923ILi9Anl",
    "outputId": "8c23829c-1fca-4b16-ae81-46436c779586"
   },
   "outputs": [
    {
     "data": {
      "text/plain": [
       "[('gg@naver.com', 'Heesu', 'KIM', 40), ('weg@jbnu.ac.kr', 'Dong', 'le', 20)]"
      ]
     },
     "execution_count": 30,
     "metadata": {},
     "output_type": "execute_result"
    }
   ],
   "source": [
    "tg = \"\"\" CREATE TABLE tmpp (\n",
    "         Email CHAR(255),\n",
    "         First_Name CHAR(25),\n",
    "         Last_Name CHAR(25),\n",
    "         Score INTEGER,\n",
    "         FOREIGN KEY (Last_Name) REFERENCES target_db(Last_Name)\n",
    "         ON DELETE CASCADE ON UPDATE CASCADE\n",
    "     ); \"\"\"\n",
    "cur.execute(tg)\n",
    "\n",
    "cur.execute('INSERT INTO tmpp SELECT * FROM target')\n",
    "# cur.execute('SELECT * FROM tmpp').fetchall()\n",
    "cur.execute(\"DROP TABLE target\")\n",
    "cur.execute(\"ALTER TABLE tmpp RENAME to target\")\n",
    "\n",
    "cur.execute(\"UPDATE target_db SET Last_Name = 'le' WHERE Last_Name = 'LEE'\")\n",
    "cur.execute(\"SELECT * FROM target\").fetchall()"
   ]
  },
  {
   "cell_type": "markdown",
   "metadata": {
    "id": "CkEYl8ztI6Ym"
   },
   "source": [
    "###**기본키와 외래키: 참조무결성**\n",
    "1. 외래키의 규칙을 바꿈 (외래키가 기본키 변화를 따라가는 규칙)\n",
    "2. 결과를 확인"
   ]
  },
  {
   "cell_type": "code",
   "execution_count": null,
   "metadata": {
    "id": "ZAAKZ9n6Kb4q"
   },
   "outputs": [],
   "source": [
    "conn.close()"
   ]
  },
  {
   "cell_type": "markdown",
   "metadata": {
    "id": "wwtqYoB7HZYO"
   },
   "source": [
    "#####접속을 끊음#####"
   ]
  },
  {
   "cell_type": "code",
   "execution_count": null,
   "metadata": {
    "colab": {
     "base_uri": "https://localhost:8080/"
    },
    "id": "iNoQyGQuLlgU",
    "outputId": "53165641-43ff-41f3-e320-f8e8421d2c9d"
   },
   "outputs": [
    {
     "name": "stdout",
     "output_type": "stream",
     "text": [
      "[('t1',), ('t2',), ('t3',)]\n",
      "[(0, 20.0), (3, 20.0), (4, 60.0)]\n"
     ]
    },
    {
     "data": {
      "text/plain": [
       "[(0, 10.0), (1, 30.0)]"
      ]
     },
     "execution_count": 32,
     "metadata": {},
     "output_type": "execute_result"
    }
   ],
   "source": [
    "import sqlite3\n",
    "conn = sqlite3.connect(':memory:')\n",
    "conn = sqlite3.connect('./test2.db')\n",
    "\n",
    "cur = conn.cursor()\n",
    "cur.execute(\"CREATE TABLE t1 (id INT PRIMARY KEY, score1 REAL)\")\n",
    "cur.execute(\"CREATE TABLE t2 (id INT PRIMARY KEY, score2 REAL)\")\n",
    "cur.execute(\"CREATE TABLE t3 (id INT PRIMARY KEY, score3 INT)\")\n",
    "\n",
    "sql_query = \"\"\"SELECT name FROM sqlite_master WHERE type ='table'\"\"\"\n",
    "print(cur.execute(sql_query).fetchall())\n",
    "\n",
    "cur.execute(\"INSERT INTO t1 VALUES (0, 20)\")\n",
    "cur.execute(\"INSERT INTO t1 VALUES (3, 20),(4, 60)\")\n",
    "print(cur.execute(\"SELECT * FROM t1\").fetchall())\n",
    "\n",
    "cur.execute(\"INSERT INTO t2 VALUES (0, 10), (1, 30)\")\n",
    "cur.execute(\"SELECT * FROM t2\").fetchall()"
   ]
  },
  {
   "cell_type": "markdown",
   "metadata": {
    "id": "N3RH8rhbHdQf"
   },
   "source": [
    "###**조인: 데이터베이스 및 테이블 생성**\n",
    "1. 세 개의 테이블을 구성\n",
    "2. 모든 테이블들에서 id를 기본키로 설정"
   ]
  },
  {
   "cell_type": "code",
   "execution_count": null,
   "metadata": {
    "colab": {
     "base_uri": "https://localhost:8080/"
    },
    "id": "k4HOe_cMQ9tx",
    "outputId": "2f7bbeb5-ff39-439d-bc9f-00315a6145b8"
   },
   "outputs": [
    {
     "data": {
      "text/plain": [
       "[(0, 10), (3, 10), (4, 12)]"
      ]
     },
     "execution_count": 33,
     "metadata": {},
     "output_type": "execute_result"
    }
   ],
   "source": [
    "cur.execute(\"INSERT INTO t3 VALUES (0,10),(3,10),(4,12)\")\n",
    "cur.execute(\"SELECT * FROM t3\").fetchall()"
   ]
  },
  {
   "cell_type": "code",
   "execution_count": null,
   "metadata": {
    "colab": {
     "base_uri": "https://localhost:8080/"
    },
    "id": "F2InRUcERrMG",
    "outputId": "4de19bb9-4ff1-482e-d542-4ca4744ad569"
   },
   "outputs": [
    {
     "name": "stdout",
     "output_type": "stream",
     "text": [
      "[(0, 20.0, 0, 10.0), (None, None, 1, 30.0)]\n",
      "[(None, None, 1, 30.0), (0, 20.0, 0, 10.0), (3, 20.0, None, None), (4, 60.0, None, None)]\n",
      "['id', 'score1', 'id', 'score2']\n"
     ]
    }
   ],
   "source": [
    "cur.execute(\"SELECT t1.id, t1.score1, t2.id, t2.score2 FROM t1 LEFT JOIN t2 ON t1.id = t2.id\")\n",
    "cur.execute(\"SELECT t1.id, t1.score1, t2.id, t2.score2 FROM t2 LEFT JOIN t1 ON t1.id = t2.id\")\n",
    "print(cur.fetchall())\n",
    "\n",
    "cur.execute(\"SELECT t1.id, t1.score1, t2.id, t2.score2 FROM t1 LEFT JOIN t2 ON t1.id = t2.id UNION SELECT t1.id, t1.score1, t2.id, t2.score2 FROM t2 LEFT JOIN t1 ON t1.id = t2.id\")\n",
    "print(cur.fetchall())\n",
    "\n",
    "headers = list(map(lambda attr : attr[0], cur.description))\n",
    "print(headers)\n",
    "# cur.execute(\"SELECT * FROM t1 INNER JOIN t2 ON t1.id = t2.id\")\n",
    "# import pandas as pd\n",
    "# df = pd.DataFrame(cur.fetchall(), columns=['t1.id','t1.score','t2.id','t2.score'])\n",
    "# print(df)"
   ]
  },
  {
   "cell_type": "markdown",
   "metadata": {
    "id": "fejWCUy9Hnez"
   },
   "source": [
    "###**조인: 여러 유형의 조인**\n",
    "1. 내부 조인, 왼쪽 조인을 시행함\n",
    "2. 왼족 조인을 이용해서 전체 외부 조인을 얻음, 여기에서 UNION 문을 이용"
   ]
  },
  {
   "cell_type": "code",
   "execution_count": null,
   "metadata": {
    "colab": {
     "base_uri": "https://localhost:8080/"
    },
    "id": "8bpl5hqf_3_K",
    "outputId": "88f083af-dc88-4338-c5a4-525afd4d2058"
   },
   "outputs": [
    {
     "name": "stdout",
     "output_type": "stream",
     "text": [
      "['index', 'speed', 'dst']\n",
      "[(50,)]\n"
     ]
    },
    {
     "data": {
      "text/plain": [
       "[(8, 1),\n",
       " (9, 1),\n",
       " (22, 1),\n",
       " (23, 1),\n",
       " (25, 1),\n",
       " (4, 2),\n",
       " (7, 2),\n",
       " (11, 2),\n",
       " (16, 2),\n",
       " (10, 3),\n",
       " (15, 3),\n",
       " (17, 3),\n",
       " (19, 3),\n",
       " (12, 4),\n",
       " (13, 4),\n",
       " (14, 4),\n",
       " (18, 4),\n",
       " (24, 4),\n",
       " (20, 5)]"
      ]
     },
     "execution_count": 39,
     "metadata": {},
     "output_type": "execute_result"
    }
   ],
   "source": [
    "import pandas as pd\n",
    "df = pd.read_csv('./ZQ.csv')\n",
    "\n",
    "# print(df)\n",
    "cur.execute(\"DROP TABLE test\")\n",
    "df.to_sql('test', conn)\n",
    "\n",
    "cur.execute('SELECT * FROM test')\n",
    "headers = list(map(lambda attr : attr[0], cur.description))\n",
    "print(headers)\n",
    "\n",
    "rs = cur.execute('SELECT COUNT(*) FROM test').fetchall()\n",
    "print(rs)\n",
    "cur.execute('SELECT speed, COUNT(dst) FROM test GROUP BY speed ORDER by COUNT(*)').fetchall()\n",
    "# cur.execute('SELECT speed, AVG(dst) FROM test GROUP BY speed ORDER by speed').fetchall()"
   ]
  },
  {
   "cell_type": "markdown",
   "metadata": {
    "id": "Igl4n89uH0NN"
   },
   "source": [
    "###**통계량**\n",
    "\n",
    "1. 외부데이터를 읽어서 테이블을 생성\n",
    "2. 테이블 정보 확인\n",
    "3. 개수나 평균을 확인 (GROUP BY, ORDER BY)  "
   ]
  }
 ],
 "metadata": {
  "colab": {
   "provenance": []
  },
  "kernelspec": {
   "display_name": "Python 3 (ipykernel)",
   "language": "python",
   "name": "python3"
  },
  "language_info": {
   "codemirror_mode": {
    "name": "ipython",
    "version": 3
   },
   "file_extension": ".py",
   "mimetype": "text/x-python",
   "name": "python",
   "nbconvert_exporter": "python",
   "pygments_lexer": "ipython3",
   "version": "3.12.0"
  }
 },
 "nbformat": 4,
 "nbformat_minor": 4
}
