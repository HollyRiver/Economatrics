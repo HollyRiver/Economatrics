{
 "cells": [
  {
   "cell_type": "markdown",
   "id": "af817882-fd00-48a4-af6d-f42d222d023c",
   "metadata": {},
   "source": [
    "발표와 질의응답 : 발표를 누가 하든지 질의응답에서 대답을 잘 못하면 개별 감점이 있습니다.\n",
    "\n",
    "보강이 필요한데, 영상으로 진행할 예정입니다. 세 시간 정도 앞에서 배운 내용을 요약해주는 형식입니다. 왠만해서는 영상으로 보강이 가능하도록 할 겁니다.\n",
    "\n",
    "퀴즈는 발표주차 바로 전에 보도록 하겠습니다. 15~20분 정도 분량입니다. 간단히 확인할 수 있는 정도의 문제 -> 조별 편차가 얼마 안나기 때문에 만들어놓은 겁니다."
   ]
  },
  {
   "cell_type": "markdown",
   "id": "aef700b7-86ae-41d6-a2aa-33a2b969b42a",
   "metadata": {},
   "source": [
    "### SQLite"
   ]
  },
  {
   "cell_type": "markdown",
   "id": "0146b43c-7e2e-4f29-b510-85a2c5e5b532",
   "metadata": {},
   "source": [
    "오픈 소스, 가벼운 유형으로 모든 시스템에서 사용이 가능하다.\n",
    "\n",
    "데이터 형식의 다양성(스키마 지정), 수평 확장성(데이터베이스 네트워크 간 확장), 데이터 관리의 엄격성에서는 다소 약점이 있고 이런 부분에서는 MySQL이 강점을 가지고 있다.\n",
    "\n",
    "> 실제 상황과의 괴리 : 실제는 서버에서 돌아가고, 대용량 데이터가 여러 데이터베이스간 교차하여 작동함."
   ]
  },
  {
   "cell_type": "markdown",
   "id": "9ac36122-7769-4170-8f02-8ff0e9ed57c8",
   "metadata": {},
   "source": [
    "지원하는 데이터 유형\n",
    "\n",
    "* TEXT 문자열(UTF-8, UTF-16BE, UTF16LE)\n",
    "* REAL 8바이트 부동 소수점 값. float32\n",
    "* NULL\n",
    "* INTEGER 8바이트 정수값. int32\n",
    "* BLOB 입력형태 그대로 저장(이미지, 오디오, 멀티미디어 파일)"
   ]
  },
  {
   "cell_type": "code",
   "execution_count": 1,
   "id": "f51eddd5-39d6-4933-9c4f-aa54e996f85f",
   "metadata": {},
   "outputs": [
    {
     "name": "stderr",
     "output_type": "stream",
     "text": [
      "Updating HTML index of packages in '.Library'\n",
      "\n",
      "Making 'packages.html' ...\n",
      " done\n",
      "\n",
      "Updating HTML index of packages in '.Library'\n",
      "\n",
      "Making 'packages.html' ...\n",
      " done\n",
      "\n"
     ]
    }
   ],
   "source": [
    "install.packages(\"DBI\")\n",
    "install.packages(\"RSQLite\")\n",
    "library(DBI)\n",
    "library(RSQLite)"
   ]
  },
  {
   "cell_type": "markdown",
   "id": "40643116-8f7e-4d5d-90f0-193c7c826fe7",
   "metadata": {},
   "source": [
    "### practice"
   ]
  },
  {
   "cell_type": "code",
   "execution_count": 85,
   "id": "e7f58d89-9622-4b9f-b3b4-2d2fcd155b94",
   "metadata": {},
   "outputs": [],
   "source": [
    "library(DBI)\n",
    "library(RSQLite)"
   ]
  },
  {
   "cell_type": "code",
   "execution_count": 92,
   "id": "5a88c25f-02e8-4830-8b55-c976e5350429",
   "metadata": {},
   "outputs": [
    {
     "data": {
      "text/html": [
       "<table class=\"dataframe\">\n",
       "<caption>A data.frame: 6 × 12</caption>\n",
       "<thead>\n",
       "\t<tr><th></th><th scope=col>mpg</th><th scope=col>cyl</th><th scope=col>disp</th><th scope=col>hp</th><th scope=col>drat</th><th scope=col>wt</th><th scope=col>qsec</th><th scope=col>vs</th><th scope=col>am</th><th scope=col>gear</th><th scope=col>carb</th><th scope=col>car_names</th></tr>\n",
       "\t<tr><th></th><th scope=col>&lt;dbl&gt;</th><th scope=col>&lt;dbl&gt;</th><th scope=col>&lt;dbl&gt;</th><th scope=col>&lt;dbl&gt;</th><th scope=col>&lt;dbl&gt;</th><th scope=col>&lt;dbl&gt;</th><th scope=col>&lt;dbl&gt;</th><th scope=col>&lt;dbl&gt;</th><th scope=col>&lt;dbl&gt;</th><th scope=col>&lt;dbl&gt;</th><th scope=col>&lt;dbl&gt;</th><th scope=col>&lt;chr&gt;</th></tr>\n",
       "</thead>\n",
       "<tbody>\n",
       "\t<tr><th scope=row>1</th><td>21.0</td><td>6</td><td>160</td><td>110</td><td>3.90</td><td>2.620</td><td>16.46</td><td>0</td><td>1</td><td>4</td><td>4</td><td>Mazda RX4        </td></tr>\n",
       "\t<tr><th scope=row>2</th><td>21.0</td><td>6</td><td>160</td><td>110</td><td>3.90</td><td>2.875</td><td>17.02</td><td>0</td><td>1</td><td>4</td><td>4</td><td>Mazda RX4 Wag    </td></tr>\n",
       "\t<tr><th scope=row>3</th><td>22.8</td><td>4</td><td>108</td><td> 93</td><td>3.85</td><td>2.320</td><td>18.61</td><td>1</td><td>1</td><td>4</td><td>1</td><td>Datsun 710       </td></tr>\n",
       "\t<tr><th scope=row>4</th><td>21.4</td><td>6</td><td>258</td><td>110</td><td>3.08</td><td>3.215</td><td>19.44</td><td>1</td><td>0</td><td>3</td><td>1</td><td>Hornet 4 Drive   </td></tr>\n",
       "\t<tr><th scope=row>5</th><td>18.7</td><td>8</td><td>360</td><td>175</td><td>3.15</td><td>3.440</td><td>17.02</td><td>0</td><td>0</td><td>3</td><td>2</td><td>Hornet Sportabout</td></tr>\n",
       "\t<tr><th scope=row>6</th><td>18.1</td><td>6</td><td>225</td><td>105</td><td>2.76</td><td>3.460</td><td>20.22</td><td>1</td><td>0</td><td>3</td><td>1</td><td>Valiant          </td></tr>\n",
       "</tbody>\n",
       "</table>\n"
      ],
      "text/latex": [
       "A data.frame: 6 × 12\n",
       "\\begin{tabular}{r|llllllllllll}\n",
       "  & mpg & cyl & disp & hp & drat & wt & qsec & vs & am & gear & carb & car\\_names\\\\\n",
       "  & <dbl> & <dbl> & <dbl> & <dbl> & <dbl> & <dbl> & <dbl> & <dbl> & <dbl> & <dbl> & <dbl> & <chr>\\\\\n",
       "\\hline\n",
       "\t1 & 21.0 & 6 & 160 & 110 & 3.90 & 2.620 & 16.46 & 0 & 1 & 4 & 4 & Mazda RX4        \\\\\n",
       "\t2 & 21.0 & 6 & 160 & 110 & 3.90 & 2.875 & 17.02 & 0 & 1 & 4 & 4 & Mazda RX4 Wag    \\\\\n",
       "\t3 & 22.8 & 4 & 108 &  93 & 3.85 & 2.320 & 18.61 & 1 & 1 & 4 & 1 & Datsun 710       \\\\\n",
       "\t4 & 21.4 & 6 & 258 & 110 & 3.08 & 3.215 & 19.44 & 1 & 0 & 3 & 1 & Hornet 4 Drive   \\\\\n",
       "\t5 & 18.7 & 8 & 360 & 175 & 3.15 & 3.440 & 17.02 & 0 & 0 & 3 & 2 & Hornet Sportabout\\\\\n",
       "\t6 & 18.1 & 6 & 225 & 105 & 2.76 & 3.460 & 20.22 & 1 & 0 & 3 & 1 & Valiant          \\\\\n",
       "\\end{tabular}\n"
      ],
      "text/markdown": [
       "\n",
       "A data.frame: 6 × 12\n",
       "\n",
       "| <!--/--> | mpg &lt;dbl&gt; | cyl &lt;dbl&gt; | disp &lt;dbl&gt; | hp &lt;dbl&gt; | drat &lt;dbl&gt; | wt &lt;dbl&gt; | qsec &lt;dbl&gt; | vs &lt;dbl&gt; | am &lt;dbl&gt; | gear &lt;dbl&gt; | carb &lt;dbl&gt; | car_names &lt;chr&gt; |\n",
       "|---|---|---|---|---|---|---|---|---|---|---|---|---|\n",
       "| 1 | 21.0 | 6 | 160 | 110 | 3.90 | 2.620 | 16.46 | 0 | 1 | 4 | 4 | Mazda RX4         |\n",
       "| 2 | 21.0 | 6 | 160 | 110 | 3.90 | 2.875 | 17.02 | 0 | 1 | 4 | 4 | Mazda RX4 Wag     |\n",
       "| 3 | 22.8 | 4 | 108 |  93 | 3.85 | 2.320 | 18.61 | 1 | 1 | 4 | 1 | Datsun 710        |\n",
       "| 4 | 21.4 | 6 | 258 | 110 | 3.08 | 3.215 | 19.44 | 1 | 0 | 3 | 1 | Hornet 4 Drive    |\n",
       "| 5 | 18.7 | 8 | 360 | 175 | 3.15 | 3.440 | 17.02 | 0 | 0 | 3 | 2 | Hornet Sportabout |\n",
       "| 6 | 18.1 | 6 | 225 | 105 | 2.76 | 3.460 | 20.22 | 1 | 0 | 3 | 1 | Valiant           |\n",
       "\n"
      ],
      "text/plain": [
       "  mpg  cyl disp hp  drat wt    qsec  vs am gear carb car_names        \n",
       "1 21.0 6   160  110 3.90 2.620 16.46 0  1  4    4    Mazda RX4        \n",
       "2 21.0 6   160  110 3.90 2.875 17.02 0  1  4    4    Mazda RX4 Wag    \n",
       "3 22.8 4   108   93 3.85 2.320 18.61 1  1  4    1    Datsun 710       \n",
       "4 21.4 6   258  110 3.08 3.215 19.44 1  0  3    1    Hornet 4 Drive   \n",
       "5 18.7 8   360  175 3.15 3.440 17.02 0  0  3    2    Hornet Sportabout\n",
       "6 18.1 6   225  105 2.76 3.460 20.22 1  0  3    1    Valiant          "
      ]
     },
     "metadata": {},
     "output_type": "display_data"
    }
   ],
   "source": [
    "data(\"mtcars\")\n",
    "mtcars$car_names = rownames(mtcars) ## 인덱스를 데이터로 따로 받아 새 열로 추가\n",
    "rownames(mtcars) = NULL  ## 인덱스 초기화\n",
    "head(mtcars)"
   ]
  },
  {
   "cell_type": "markdown",
   "id": "6a6f665c-d0cd-4c2e-8b7c-1f6b1f9725b7",
   "metadata": {},
   "source": [
    "`-` Creating Database File : `dbConnect()`"
   ]
  },
  {
   "cell_type": "code",
   "execution_count": 93,
   "id": "c0dff70b-90d9-42fe-b6c2-a69dab6def68",
   "metadata": {},
   "outputs": [],
   "source": [
    "conn = dbConnect(RSQLite::SQLite(), \"CarsDB.db\")  ## create db file"
   ]
  },
  {
   "cell_type": "markdown",
   "id": "40b6db21-ecaf-4709-8e6f-8353edbc3461",
   "metadata": {},
   "source": [
    "`-` Writing table : `dbWriteTable()` 데이터프레임 삽입에 유리(append)"
   ]
  },
  {
   "cell_type": "code",
   "execution_count": 94,
   "id": "4c0ca3b2-8f7b-4b39-8592-7f61f773f3d6",
   "metadata": {},
   "outputs": [
    {
     "data": {
      "text/html": [
       "'cars_data'"
      ],
      "text/latex": [
       "'cars\\_data'"
      ],
      "text/markdown": [
       "'cars_data'"
      ],
      "text/plain": [
       "[1] \"cars_data\""
      ]
     },
     "metadata": {},
     "output_type": "display_data"
    }
   ],
   "source": [
    "dbWriteTable(conn, \"cars_data\", mtcars)  ## Write table(relation)\n",
    "dbListTables(conn)  ## debuging"
   ]
  },
  {
   "cell_type": "code",
   "execution_count": 95,
   "id": "f3f5fbd3-490a-4cd6-9420-c459aa739ed2",
   "metadata": {},
   "outputs": [],
   "source": [
    "car <- c('Camaro', 'California', 'Mustang', 'Explorer')\n",
    "make <- c('Chevrolet','Ferrari','Ford','Ford')\n",
    "df1 <- data.frame(car,make)\n",
    "car <- c('Corolla', 'Lancer', 'Sportage', 'XE')\n",
    "make <- c('Toyota','Mitsubishi','Kia','Jaguar')\n",
    "df2 <- data.frame(car,make)"
   ]
  },
  {
   "cell_type": "code",
   "execution_count": 96,
   "id": "f8134f0e-611b-4010-8ecc-55db4f435ea3",
   "metadata": {},
   "outputs": [
    {
     "data": {
      "text/html": [
       "<style>\n",
       ".list-inline {list-style: none; margin:0; padding: 0}\n",
       ".list-inline>li {display: inline-block}\n",
       ".list-inline>li:not(:last-child)::after {content: \"\\00b7\"; padding: 0 .5ex}\n",
       "</style>\n",
       "<ol class=list-inline><li>'Cars_and_Makes'</li><li>'cars_data'</li></ol>\n"
      ],
      "text/latex": [
       "\\begin{enumerate*}\n",
       "\\item 'Cars\\_and\\_Makes'\n",
       "\\item 'cars\\_data'\n",
       "\\end{enumerate*}\n"
      ],
      "text/markdown": [
       "1. 'Cars_and_Makes'\n",
       "2. 'cars_data'\n",
       "\n",
       "\n"
      ],
      "text/plain": [
       "[1] \"Cars_and_Makes\" \"cars_data\"     "
      ]
     },
     "metadata": {},
     "output_type": "display_data"
    }
   ],
   "source": [
    "dfList = list(df1, df2)\n",
    "\n",
    "for (i in 1:length(dfList)) {\n",
    "    dbWriteTable(conn, \"Cars_and_Makes\", dfList[[i]], append = TRUE)  ## write new table\n",
    "}\n",
    "\n",
    "dbListTables(conn)"
   ]
  },
  {
   "cell_type": "markdown",
   "id": "f87b0fb5-c6b2-4fb8-8fb5-2c9d2a031ac5",
   "metadata": {},
   "source": [
    "* arguments\n",
    "\n",
    "> append = TRUE : 기존 테이블에 추가\n",
    ">\n",
    "> 작성 후 반드시 dbDisconnect()를 하라고 경고가 발생"
   ]
  },
  {
   "cell_type": "markdown",
   "id": "f017dc43-f9ef-4ccb-b736-42bf877a100f",
   "metadata": {},
   "source": [
    "`-` Query : `dbGetQuery()` 결과물만 반환할 수 있음."
   ]
  },
  {
   "cell_type": "code",
   "execution_count": 98,
   "id": "4fdcc69a-b4df-4615-807e-0314ed36867c",
   "metadata": {},
   "outputs": [
    {
     "data": {
      "text/html": [
       "<table class=\"dataframe\">\n",
       "<caption>A data.frame: 32 × 3</caption>\n",
       "<thead>\n",
       "\t<tr><th scope=col>car_names</th><th scope=col>hp</th><th scope=col>cyl</th></tr>\n",
       "\t<tr><th scope=col>&lt;chr&gt;</th><th scope=col>&lt;dbl&gt;</th><th scope=col>&lt;dbl&gt;</th></tr>\n",
       "</thead>\n",
       "<tbody>\n",
       "\t<tr><td>Mazda RX4          </td><td>110</td><td>6</td></tr>\n",
       "\t<tr><td>Mazda RX4 Wag      </td><td>110</td><td>6</td></tr>\n",
       "\t<tr><td>Datsun 710         </td><td> 93</td><td>4</td></tr>\n",
       "\t<tr><td>Hornet 4 Drive     </td><td>110</td><td>6</td></tr>\n",
       "\t<tr><td>Hornet Sportabout  </td><td>175</td><td>8</td></tr>\n",
       "\t<tr><td>Valiant            </td><td>105</td><td>6</td></tr>\n",
       "\t<tr><td>Duster 360         </td><td>245</td><td>8</td></tr>\n",
       "\t<tr><td>Merc 240D          </td><td> 62</td><td>4</td></tr>\n",
       "\t<tr><td>Merc 230           </td><td> 95</td><td>4</td></tr>\n",
       "\t<tr><td>Merc 280           </td><td>123</td><td>6</td></tr>\n",
       "\t<tr><td>Merc 280C          </td><td>123</td><td>6</td></tr>\n",
       "\t<tr><td>Merc 450SE         </td><td>180</td><td>8</td></tr>\n",
       "\t<tr><td>Merc 450SL         </td><td>180</td><td>8</td></tr>\n",
       "\t<tr><td>Merc 450SLC        </td><td>180</td><td>8</td></tr>\n",
       "\t<tr><td>Cadillac Fleetwood </td><td>205</td><td>8</td></tr>\n",
       "\t<tr><td>Lincoln Continental</td><td>215</td><td>8</td></tr>\n",
       "\t<tr><td>Chrysler Imperial  </td><td>230</td><td>8</td></tr>\n",
       "\t<tr><td>Fiat 128           </td><td> 66</td><td>4</td></tr>\n",
       "\t<tr><td>Honda Civic        </td><td> 52</td><td>4</td></tr>\n",
       "\t<tr><td>Toyota Corolla     </td><td> 65</td><td>4</td></tr>\n",
       "\t<tr><td>Toyota Corona      </td><td> 97</td><td>4</td></tr>\n",
       "\t<tr><td>Dodge Challenger   </td><td>150</td><td>8</td></tr>\n",
       "\t<tr><td>AMC Javelin        </td><td>150</td><td>8</td></tr>\n",
       "\t<tr><td>Camaro Z28         </td><td>245</td><td>8</td></tr>\n",
       "\t<tr><td>Pontiac Firebird   </td><td>175</td><td>8</td></tr>\n",
       "\t<tr><td>Fiat X1-9          </td><td> 66</td><td>4</td></tr>\n",
       "\t<tr><td>Porsche 914-2      </td><td> 91</td><td>4</td></tr>\n",
       "\t<tr><td>Lotus Europa       </td><td>113</td><td>4</td></tr>\n",
       "\t<tr><td>Ford Pantera L     </td><td>264</td><td>8</td></tr>\n",
       "\t<tr><td>Ferrari Dino       </td><td>175</td><td>6</td></tr>\n",
       "\t<tr><td>Maserati Bora      </td><td>335</td><td>8</td></tr>\n",
       "\t<tr><td>Volvo 142E         </td><td>109</td><td>4</td></tr>\n",
       "</tbody>\n",
       "</table>\n"
      ],
      "text/latex": [
       "A data.frame: 32 × 3\n",
       "\\begin{tabular}{lll}\n",
       " car\\_names & hp & cyl\\\\\n",
       " <chr> & <dbl> & <dbl>\\\\\n",
       "\\hline\n",
       "\t Mazda RX4           & 110 & 6\\\\\n",
       "\t Mazda RX4 Wag       & 110 & 6\\\\\n",
       "\t Datsun 710          &  93 & 4\\\\\n",
       "\t Hornet 4 Drive      & 110 & 6\\\\\n",
       "\t Hornet Sportabout   & 175 & 8\\\\\n",
       "\t Valiant             & 105 & 6\\\\\n",
       "\t Duster 360          & 245 & 8\\\\\n",
       "\t Merc 240D           &  62 & 4\\\\\n",
       "\t Merc 230            &  95 & 4\\\\\n",
       "\t Merc 280            & 123 & 6\\\\\n",
       "\t Merc 280C           & 123 & 6\\\\\n",
       "\t Merc 450SE          & 180 & 8\\\\\n",
       "\t Merc 450SL          & 180 & 8\\\\\n",
       "\t Merc 450SLC         & 180 & 8\\\\\n",
       "\t Cadillac Fleetwood  & 205 & 8\\\\\n",
       "\t Lincoln Continental & 215 & 8\\\\\n",
       "\t Chrysler Imperial   & 230 & 8\\\\\n",
       "\t Fiat 128            &  66 & 4\\\\\n",
       "\t Honda Civic         &  52 & 4\\\\\n",
       "\t Toyota Corolla      &  65 & 4\\\\\n",
       "\t Toyota Corona       &  97 & 4\\\\\n",
       "\t Dodge Challenger    & 150 & 8\\\\\n",
       "\t AMC Javelin         & 150 & 8\\\\\n",
       "\t Camaro Z28          & 245 & 8\\\\\n",
       "\t Pontiac Firebird    & 175 & 8\\\\\n",
       "\t Fiat X1-9           &  66 & 4\\\\\n",
       "\t Porsche 914-2       &  91 & 4\\\\\n",
       "\t Lotus Europa        & 113 & 4\\\\\n",
       "\t Ford Pantera L      & 264 & 8\\\\\n",
       "\t Ferrari Dino        & 175 & 6\\\\\n",
       "\t Maserati Bora       & 335 & 8\\\\\n",
       "\t Volvo 142E          & 109 & 4\\\\\n",
       "\\end{tabular}\n"
      ],
      "text/markdown": [
       "\n",
       "A data.frame: 32 × 3\n",
       "\n",
       "| car_names &lt;chr&gt; | hp &lt;dbl&gt; | cyl &lt;dbl&gt; |\n",
       "|---|---|---|\n",
       "| Mazda RX4           | 110 | 6 |\n",
       "| Mazda RX4 Wag       | 110 | 6 |\n",
       "| Datsun 710          |  93 | 4 |\n",
       "| Hornet 4 Drive      | 110 | 6 |\n",
       "| Hornet Sportabout   | 175 | 8 |\n",
       "| Valiant             | 105 | 6 |\n",
       "| Duster 360          | 245 | 8 |\n",
       "| Merc 240D           |  62 | 4 |\n",
       "| Merc 230            |  95 | 4 |\n",
       "| Merc 280            | 123 | 6 |\n",
       "| Merc 280C           | 123 | 6 |\n",
       "| Merc 450SE          | 180 | 8 |\n",
       "| Merc 450SL          | 180 | 8 |\n",
       "| Merc 450SLC         | 180 | 8 |\n",
       "| Cadillac Fleetwood  | 205 | 8 |\n",
       "| Lincoln Continental | 215 | 8 |\n",
       "| Chrysler Imperial   | 230 | 8 |\n",
       "| Fiat 128            |  66 | 4 |\n",
       "| Honda Civic         |  52 | 4 |\n",
       "| Toyota Corolla      |  65 | 4 |\n",
       "| Toyota Corona       |  97 | 4 |\n",
       "| Dodge Challenger    | 150 | 8 |\n",
       "| AMC Javelin         | 150 | 8 |\n",
       "| Camaro Z28          | 245 | 8 |\n",
       "| Pontiac Firebird    | 175 | 8 |\n",
       "| Fiat X1-9           |  66 | 4 |\n",
       "| Porsche 914-2       |  91 | 4 |\n",
       "| Lotus Europa        | 113 | 4 |\n",
       "| Ford Pantera L      | 264 | 8 |\n",
       "| Ferrari Dino        | 175 | 6 |\n",
       "| Maserati Bora       | 335 | 8 |\n",
       "| Volvo 142E          | 109 | 4 |\n",
       "\n"
      ],
      "text/plain": [
       "   car_names           hp  cyl\n",
       "1  Mazda RX4           110 6  \n",
       "2  Mazda RX4 Wag       110 6  \n",
       "3  Datsun 710           93 4  \n",
       "4  Hornet 4 Drive      110 6  \n",
       "5  Hornet Sportabout   175 8  \n",
       "6  Valiant             105 6  \n",
       "7  Duster 360          245 8  \n",
       "8  Merc 240D            62 4  \n",
       "9  Merc 230             95 4  \n",
       "10 Merc 280            123 6  \n",
       "11 Merc 280C           123 6  \n",
       "12 Merc 450SE          180 8  \n",
       "13 Merc 450SL          180 8  \n",
       "14 Merc 450SLC         180 8  \n",
       "15 Cadillac Fleetwood  205 8  \n",
       "16 Lincoln Continental 215 8  \n",
       "17 Chrysler Imperial   230 8  \n",
       "18 Fiat 128             66 4  \n",
       "19 Honda Civic          52 4  \n",
       "20 Toyota Corolla       65 4  \n",
       "21 Toyota Corona        97 4  \n",
       "22 Dodge Challenger    150 8  \n",
       "23 AMC Javelin         150 8  \n",
       "24 Camaro Z28          245 8  \n",
       "25 Pontiac Firebird    175 8  \n",
       "26 Fiat X1-9            66 4  \n",
       "27 Porsche 914-2        91 4  \n",
       "28 Lotus Europa        113 4  \n",
       "29 Ford Pantera L      264 8  \n",
       "30 Ferrari Dino        175 6  \n",
       "31 Maserati Bora       335 8  \n",
       "32 Volvo 142E          109 4  "
      ]
     },
     "metadata": {},
     "output_type": "display_data"
    }
   ],
   "source": [
    "# dbGetQuery(conn, \"SELECT * FROM Cars_and_Makes\")\n",
    "# dbGetQuery(conn, \"SELECT * FROM cars_data LIMIT 20\")\n",
    "dbGetQuery(conn, \"SELECT car_names, hp, cyl FROM cars_data\")"
   ]
  },
  {
   "cell_type": "markdown",
   "id": "44ed90f5-08e3-4530-b1ae-0bb549a56955",
   "metadata": {},
   "source": [
    "`-` Query : `dbExecute()` 작업만 수행하고 결과물을 반환하지 않음. 스키마 생성 시 유용"
   ]
  },
  {
   "cell_type": "code",
   "execution_count": 99,
   "id": "d2ccfe02-806d-4c57-b760-3f6be7aea0c5",
   "metadata": {},
   "outputs": [],
   "source": [
    "conn = dbConnect(SQLite(), \".temp.db\")"
   ]
  },
  {
   "cell_type": "code",
   "execution_count": 100,
   "id": "4eab2e31-2709-4746-9473-2b6e318cab3d",
   "metadata": {},
   "outputs": [
    {
     "data": {
      "text/html": [
       "0"
      ],
      "text/latex": [
       "0"
      ],
      "text/markdown": [
       "0"
      ],
      "text/plain": [
       "[1] 0"
      ]
     },
     "metadata": {},
     "output_type": "display_data"
    }
   ],
   "source": [
    "## creating table with schema\n",
    "dbExecute(conn, \"CREATE TABLE mytable\n",
    "          (a INTEGER PRIMARY KEY, \n",
    "         b TEXT)\")"
   ]
  },
  {
   "cell_type": "code",
   "execution_count": 101,
   "id": "913e9002-01df-4a84-bf72-98b0ac53389d",
   "metadata": {},
   "outputs": [
    {
     "data": {
      "text/html": [
       "3"
      ],
      "text/latex": [
       "3"
      ],
      "text/markdown": [
       "3"
      ],
      "text/plain": [
       "[1] 3"
      ]
     },
     "metadata": {},
     "output_type": "display_data"
    }
   ],
   "source": [
    "dbExecute(conn, \"INSERT INTO mytable VALUES(1, 'test'), (2, 'test'), (6, 'test')\")"
   ]
  },
  {
   "cell_type": "code",
   "execution_count": 103,
   "id": "0a1914c1-ff5b-4a96-a4f4-66d0b7a5f5db",
   "metadata": {},
   "outputs": [
    {
     "data": {
      "text/html": [
       "<table class=\"dataframe\">\n",
       "<caption>A data.frame: 3 × 2</caption>\n",
       "<thead>\n",
       "\t<tr><th scope=col>a</th><th scope=col>b</th></tr>\n",
       "\t<tr><th scope=col>&lt;int&gt;</th><th scope=col>&lt;chr&gt;</th></tr>\n",
       "</thead>\n",
       "<tbody>\n",
       "\t<tr><td>1</td><td>test</td></tr>\n",
       "\t<tr><td>2</td><td>test</td></tr>\n",
       "\t<tr><td>6</td><td>test</td></tr>\n",
       "</tbody>\n",
       "</table>\n"
      ],
      "text/latex": [
       "A data.frame: 3 × 2\n",
       "\\begin{tabular}{ll}\n",
       " a & b\\\\\n",
       " <int> & <chr>\\\\\n",
       "\\hline\n",
       "\t 1 & test\\\\\n",
       "\t 2 & test\\\\\n",
       "\t 6 & test\\\\\n",
       "\\end{tabular}\n"
      ],
      "text/markdown": [
       "\n",
       "A data.frame: 3 × 2\n",
       "\n",
       "| a &lt;int&gt; | b &lt;chr&gt; |\n",
       "|---|---|\n",
       "| 1 | test |\n",
       "| 2 | test |\n",
       "| 6 | test |\n",
       "\n"
      ],
      "text/plain": [
       "  a b   \n",
       "1 1 test\n",
       "2 2 test\n",
       "3 6 test"
      ]
     },
     "metadata": {},
     "output_type": "display_data"
    }
   ],
   "source": [
    "dbGetQuery(conn, \"SELECT * FROM mytable\")"
   ]
  },
  {
   "cell_type": "markdown",
   "id": "8f164813-6f6c-47c0-a41f-29ec539713b4",
   "metadata": {},
   "source": [
    "`-` Query : `dbSendQuery()` 작업을 수행하고 어떤 데이터가 들어갔는지 결과를 반환"
   ]
  },
  {
   "cell_type": "code",
   "execution_count": 105,
   "id": "79096ec9-0e17-4df1-8403-16dc75599c6f",
   "metadata": {},
   "outputs": [
    {
     "data": {
      "text/plain": [
       "<SQLiteResult>\n",
       "  SQL  INSERT INTO mytable VALUES(4, 'test')\n",
       "  ROWS Fetched: 0 [complete]\n",
       "       Changed: 1"
      ]
     },
     "metadata": {},
     "output_type": "display_data"
    }
   ],
   "source": [
    "dbSendQuery(conn, \"INSERT INTO mytable VALUES(4, 'test')\")"
   ]
  },
  {
   "cell_type": "code",
   "execution_count": 106,
   "id": "cd89b9fe-808b-43c7-8432-0b6081195898",
   "metadata": {},
   "outputs": [
    {
     "name": "stderr",
     "output_type": "stream",
     "text": [
      "Warning message:\n",
      "“Closing open result set, pending rows”\n"
     ]
    },
    {
     "data": {
      "text/html": [
       "<table class=\"dataframe\">\n",
       "<caption>A data.frame: 4 × 2</caption>\n",
       "<thead>\n",
       "\t<tr><th scope=col>a</th><th scope=col>b</th></tr>\n",
       "\t<tr><th scope=col>&lt;int&gt;</th><th scope=col>&lt;chr&gt;</th></tr>\n",
       "</thead>\n",
       "<tbody>\n",
       "\t<tr><td>1</td><td>test</td></tr>\n",
       "\t<tr><td>2</td><td>test</td></tr>\n",
       "\t<tr><td>4</td><td>test</td></tr>\n",
       "\t<tr><td>6</td><td>test</td></tr>\n",
       "</tbody>\n",
       "</table>\n"
      ],
      "text/latex": [
       "A data.frame: 4 × 2\n",
       "\\begin{tabular}{ll}\n",
       " a & b\\\\\n",
       " <int> & <chr>\\\\\n",
       "\\hline\n",
       "\t 1 & test\\\\\n",
       "\t 2 & test\\\\\n",
       "\t 4 & test\\\\\n",
       "\t 6 & test\\\\\n",
       "\\end{tabular}\n"
      ],
      "text/markdown": [
       "\n",
       "A data.frame: 4 × 2\n",
       "\n",
       "| a &lt;int&gt; | b &lt;chr&gt; |\n",
       "|---|---|\n",
       "| 1 | test |\n",
       "| 2 | test |\n",
       "| 4 | test |\n",
       "| 6 | test |\n",
       "\n"
      ],
      "text/plain": [
       "  a b   \n",
       "1 1 test\n",
       "2 2 test\n",
       "3 4 test\n",
       "4 6 test"
      ]
     },
     "metadata": {},
     "output_type": "display_data"
    }
   ],
   "source": [
    "dbGetQuery(conn, \"SELECT * FROM mytable\")"
   ]
  },
  {
   "cell_type": "markdown",
   "id": "f4dd3424-e0f4-4c73-b63c-b82273f62a16",
   "metadata": {},
   "source": [
    "`-` Removing table : `dbRemoveTable()`"
   ]
  },
  {
   "cell_type": "code",
   "execution_count": null,
   "id": "79dbaad2-0df6-488d-a491-c81fcae3fd86",
   "metadata": {},
   "outputs": [],
   "source": [
    "dbRemoveTable(conn, 'test_table')"
   ]
  },
  {
   "cell_type": "markdown",
   "id": "95f17f18-d4c1-4fdf-89fd-873e9316738e",
   "metadata": {},
   "source": [
    "`-` Query 문법"
   ]
  },
  {
   "cell_type": "markdown",
   "id": "11c2234b-a69f-4a9e-aea8-3f83262f2307",
   "metadata": {},
   "source": [
    "`\"SELECT col_name1 AS col1, AVG(col2) AS average_col_2 FROM table GROUP BY col1 ORDER BY average_col_2\"`\n",
    "\n",
    "> 범용적인 문법, 테이블을 바꾸지 않음. `dbGetQuery()`에서 주로 사용.\n",
    ">\n",
    "> `AS`로 열 이름을 변경해서 호출, `AVG()`로 평균을 호출, `GROUP BY`에 해당하는 열 그룹을 기준으로 그룹화하여 통계량 산출, `ORDER BY`에 해당하는 열 그룹을 기준으로 sorting.\n",
    "\n",
    "`\"INSERT INTO table (col1, col2, ...) VALUES (val11, val12, ...), (val21, val22, ...), ...\"`\n",
    "\n",
    "> 테이블에 튜플 삽입, `dbExecute()`, `dbSendQuery()`에서 사용.\n",
    "\n",
    "`\"DELETE FROM table WHERE col_name = value\"`\n",
    "\n",
    "> 테이블의 튜플 제거, `dbExecute()`, `dbSendQuery()`에서 사용.\n",
    "\n",
    "`\"UPDATE table SET col_name = value WHERE col_name = value\"`\n",
    "\n",
    "> 테이블의 튜플 수정, `dbExecute()`, `dbSendQuery()`에서 사용."
   ]
  }
 ],
 "metadata": {
  "kernelspec": {
   "display_name": "R",
   "language": "R",
   "name": "ir"
  },
  "language_info": {
   "codemirror_mode": "r",
   "file_extension": ".r",
   "mimetype": "text/x-r-source",
   "name": "R",
   "pygments_lexer": "r",
   "version": "4.3.3"
  }
 },
 "nbformat": 4,
 "nbformat_minor": 5
}
