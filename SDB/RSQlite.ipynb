{
 "cells": [
  {
   "cell_type": "markdown",
   "id": "af817882-fd00-48a4-af6d-f42d222d023c",
   "metadata": {},
   "source": [
    "발표와 질의응답 : 발표를 누가 하든지 질의응답에서 대답을 잘 못하면 개별 감점이 있습니다.\n",
    "\n",
    "보강이 필요한데, 영상으로 진행할 예정입니다. 세 시간 정도 앞에서 배운 내용을 요약해주는 형식입니다. 왠만해서는 영상으로 보강이 가능하도록 할 겁니다.\n",
    "\n",
    "퀴즈는 발표주차 바로 전에 보도록 하겠습니다. 15~20분 정도 분량입니다. 간단히 확인할 수 있는 정도의 문제 -> 조별 편차가 얼마 안나기 때문에 만들어놓은 겁니다."
   ]
  },
  {
   "cell_type": "markdown",
   "id": "aef700b7-86ae-41d6-a2aa-33a2b969b42a",
   "metadata": {},
   "source": [
    "### SQLite"
   ]
  },
  {
   "cell_type": "markdown",
   "id": "0146b43c-7e2e-4f29-b510-85a2c5e5b532",
   "metadata": {},
   "source": [
    "오픈 소스, 가벼운 유형으로 모든 시스템에서 사용이 가능하다.\n",
    "\n",
    "데이터 형식의 다양성(스키마 지정), 수평 확장성(데이터베이스 네트워크 간 확장), 데이터 관리의 엄격성에서는 다소 약점이 있고 이런 부분에서는 MySQL이 강점을 가지고 있다.\n",
    "\n",
    "> 실제 상황과의 괴리 : 실제는 서버에서 돌아가고, 대용량 데이터가 여러 데이터베이스간 교차하여 작동함."
   ]
  },
  {
   "cell_type": "markdown",
   "id": "9ac36122-7769-4170-8f02-8ff0e9ed57c8",
   "metadata": {},
   "source": [
    "지원하는 데이터 유형\n",
    "\n",
    "* TEXT 문자열(UTF-8, UTF-16BE, UTF16LE)\n",
    "* REAL 8바이트 부동 소수점 값. float32\n",
    "* NULL\n",
    "* INTEGER 8바이트 정수값. int32\n",
    "* BLOB 입력형태 그대로 저장(이미지, 오디오, 멀티미디어 파일)"
   ]
  },
  {
   "cell_type": "code",
   "execution_count": 1,
   "id": "f51eddd5-39d6-4933-9c4f-aa54e996f85f",
   "metadata": {},
   "outputs": [
    {
     "name": "stderr",
     "output_type": "stream",
     "text": [
      "Updating HTML index of packages in '.Library'\n",
      "\n",
      "Making 'packages.html' ...\n",
      " done\n",
      "\n",
      "Updating HTML index of packages in '.Library'\n",
      "\n",
      "Making 'packages.html' ...\n",
      " done\n",
      "\n"
     ]
    }
   ],
   "source": [
    "install.packages(\"DBI\")\n",
    "install.packages(\"RSQLite\")\n",
    "library(DBI)\n",
    "library(RSQLite)"
   ]
  },
  {
   "cell_type": "code",
   "execution_count": 8,
   "id": "d19d1647-e354-42e3-825e-ff4402717a4e",
   "metadata": {},
   "outputs": [],
   "source": [
    "conn = dbConnect(RSQLite::SQLite(), \"CarsDB.db\")  ## create DB file of current working space"
   ]
  },
  {
   "cell_type": "markdown",
   "id": "91002cad-fd51-467d-ab4a-ca877fb39839",
   "metadata": {},
   "source": [
    "> 작업공간에 데이터베이스 파일 생성, conn으로 호출"
   ]
  },
  {
   "cell_type": "code",
   "execution_count": 6,
   "id": "98d3877a-f305-47da-9c32-aada0b847a35",
   "metadata": {},
   "outputs": [
    {
     "data": {
      "text/html": [
       "<table class=\"dataframe\">\n",
       "<caption>A data.frame: 6 × 12</caption>\n",
       "<thead>\n",
       "\t<tr><th></th><th scope=col>mpg</th><th scope=col>cyl</th><th scope=col>disp</th><th scope=col>hp</th><th scope=col>drat</th><th scope=col>wt</th><th scope=col>qsec</th><th scope=col>vs</th><th scope=col>am</th><th scope=col>gear</th><th scope=col>carb</th><th scope=col>car_names</th></tr>\n",
       "\t<tr><th></th><th scope=col>&lt;dbl&gt;</th><th scope=col>&lt;dbl&gt;</th><th scope=col>&lt;dbl&gt;</th><th scope=col>&lt;dbl&gt;</th><th scope=col>&lt;dbl&gt;</th><th scope=col>&lt;dbl&gt;</th><th scope=col>&lt;dbl&gt;</th><th scope=col>&lt;dbl&gt;</th><th scope=col>&lt;dbl&gt;</th><th scope=col>&lt;dbl&gt;</th><th scope=col>&lt;dbl&gt;</th><th scope=col>&lt;chr&gt;</th></tr>\n",
       "</thead>\n",
       "<tbody>\n",
       "\t<tr><th scope=row>1</th><td>21.0</td><td>6</td><td>160</td><td>110</td><td>3.90</td><td>2.620</td><td>16.46</td><td>0</td><td>1</td><td>4</td><td>4</td><td>Mazda RX4        </td></tr>\n",
       "\t<tr><th scope=row>2</th><td>21.0</td><td>6</td><td>160</td><td>110</td><td>3.90</td><td>2.875</td><td>17.02</td><td>0</td><td>1</td><td>4</td><td>4</td><td>Mazda RX4 Wag    </td></tr>\n",
       "\t<tr><th scope=row>3</th><td>22.8</td><td>4</td><td>108</td><td> 93</td><td>3.85</td><td>2.320</td><td>18.61</td><td>1</td><td>1</td><td>4</td><td>1</td><td>Datsun 710       </td></tr>\n",
       "\t<tr><th scope=row>4</th><td>21.4</td><td>6</td><td>258</td><td>110</td><td>3.08</td><td>3.215</td><td>19.44</td><td>1</td><td>0</td><td>3</td><td>1</td><td>Hornet 4 Drive   </td></tr>\n",
       "\t<tr><th scope=row>5</th><td>18.7</td><td>8</td><td>360</td><td>175</td><td>3.15</td><td>3.440</td><td>17.02</td><td>0</td><td>0</td><td>3</td><td>2</td><td>Hornet Sportabout</td></tr>\n",
       "\t<tr><th scope=row>6</th><td>18.1</td><td>6</td><td>225</td><td>105</td><td>2.76</td><td>3.460</td><td>20.22</td><td>1</td><td>0</td><td>3</td><td>1</td><td>Valiant          </td></tr>\n",
       "</tbody>\n",
       "</table>\n"
      ],
      "text/latex": [
       "A data.frame: 6 × 12\n",
       "\\begin{tabular}{r|llllllllllll}\n",
       "  & mpg & cyl & disp & hp & drat & wt & qsec & vs & am & gear & carb & car\\_names\\\\\n",
       "  & <dbl> & <dbl> & <dbl> & <dbl> & <dbl> & <dbl> & <dbl> & <dbl> & <dbl> & <dbl> & <dbl> & <chr>\\\\\n",
       "\\hline\n",
       "\t1 & 21.0 & 6 & 160 & 110 & 3.90 & 2.620 & 16.46 & 0 & 1 & 4 & 4 & Mazda RX4        \\\\\n",
       "\t2 & 21.0 & 6 & 160 & 110 & 3.90 & 2.875 & 17.02 & 0 & 1 & 4 & 4 & Mazda RX4 Wag    \\\\\n",
       "\t3 & 22.8 & 4 & 108 &  93 & 3.85 & 2.320 & 18.61 & 1 & 1 & 4 & 1 & Datsun 710       \\\\\n",
       "\t4 & 21.4 & 6 & 258 & 110 & 3.08 & 3.215 & 19.44 & 1 & 0 & 3 & 1 & Hornet 4 Drive   \\\\\n",
       "\t5 & 18.7 & 8 & 360 & 175 & 3.15 & 3.440 & 17.02 & 0 & 0 & 3 & 2 & Hornet Sportabout\\\\\n",
       "\t6 & 18.1 & 6 & 225 & 105 & 2.76 & 3.460 & 20.22 & 1 & 0 & 3 & 1 & Valiant          \\\\\n",
       "\\end{tabular}\n"
      ],
      "text/markdown": [
       "\n",
       "A data.frame: 6 × 12\n",
       "\n",
       "| <!--/--> | mpg &lt;dbl&gt; | cyl &lt;dbl&gt; | disp &lt;dbl&gt; | hp &lt;dbl&gt; | drat &lt;dbl&gt; | wt &lt;dbl&gt; | qsec &lt;dbl&gt; | vs &lt;dbl&gt; | am &lt;dbl&gt; | gear &lt;dbl&gt; | carb &lt;dbl&gt; | car_names &lt;chr&gt; |\n",
       "|---|---|---|---|---|---|---|---|---|---|---|---|---|\n",
       "| 1 | 21.0 | 6 | 160 | 110 | 3.90 | 2.620 | 16.46 | 0 | 1 | 4 | 4 | Mazda RX4         |\n",
       "| 2 | 21.0 | 6 | 160 | 110 | 3.90 | 2.875 | 17.02 | 0 | 1 | 4 | 4 | Mazda RX4 Wag     |\n",
       "| 3 | 22.8 | 4 | 108 |  93 | 3.85 | 2.320 | 18.61 | 1 | 1 | 4 | 1 | Datsun 710        |\n",
       "| 4 | 21.4 | 6 | 258 | 110 | 3.08 | 3.215 | 19.44 | 1 | 0 | 3 | 1 | Hornet 4 Drive    |\n",
       "| 5 | 18.7 | 8 | 360 | 175 | 3.15 | 3.440 | 17.02 | 0 | 0 | 3 | 2 | Hornet Sportabout |\n",
       "| 6 | 18.1 | 6 | 225 | 105 | 2.76 | 3.460 | 20.22 | 1 | 0 | 3 | 1 | Valiant           |\n",
       "\n"
      ],
      "text/plain": [
       "  mpg  cyl disp hp  drat wt    qsec  vs am gear carb car_names        \n",
       "1 21.0 6   160  110 3.90 2.620 16.46 0  1  4    4    Mazda RX4        \n",
       "2 21.0 6   160  110 3.90 2.875 17.02 0  1  4    4    Mazda RX4 Wag    \n",
       "3 22.8 4   108   93 3.85 2.320 18.61 1  1  4    1    Datsun 710       \n",
       "4 21.4 6   258  110 3.08 3.215 19.44 1  0  3    1    Hornet 4 Drive   \n",
       "5 18.7 8   360  175 3.15 3.440 17.02 0  0  3    2    Hornet Sportabout\n",
       "6 18.1 6   225  105 2.76 3.460 20.22 1  0  3    1    Valiant          "
      ]
     },
     "metadata": {},
     "output_type": "display_data"
    }
   ],
   "source": [
    "data(\"mtcars\")\n",
    "mtcars$car_names = rownames(mtcars)\n",
    "rownames(mtcars) = NULL\n",
    "head(mtcars)"
   ]
  },
  {
   "cell_type": "code",
   "execution_count": 9,
   "id": "7746afb2-483a-45ed-98d3-aa1717ab6486",
   "metadata": {},
   "outputs": [
    {
     "data": {
      "text/html": [
       "'cars_data'"
      ],
      "text/latex": [
       "'cars\\_data'"
      ],
      "text/markdown": [
       "'cars_data'"
      ],
      "text/plain": [
       "[1] \"cars_data\""
      ]
     },
     "metadata": {},
     "output_type": "display_data"
    }
   ],
   "source": [
    "dbWriteTable(conn, \"cars_data\", mtcars)  ## write relation, table name : cars_data\n",
    "dbListTables(conn)  ## call DB relation list"
   ]
  },
  {
   "cell_type": "code",
   "execution_count": 10,
   "id": "fc8cf2f2-960b-47e0-8540-77678bc48ec0",
   "metadata": {},
   "outputs": [],
   "source": [
    "dbDisconnect(conn)  ## disconnecting database"
   ]
  },
  {
   "cell_type": "markdown",
   "id": "c319bdc5-1248-453d-98d0-494ae6de9a04",
   "metadata": {},
   "source": [
    "`-` 기초 예제"
   ]
  },
  {
   "cell_type": "code",
   "execution_count": 2,
   "id": "25cfc240-c0d1-4ecb-b273-c2d7a3f7272c",
   "metadata": {},
   "outputs": [],
   "source": [
    "conn = dbConnect(SQLite(), \"CarsDB.db\")  ## Connecting DB file"
   ]
  },
  {
   "cell_type": "code",
   "execution_count": 12,
   "id": "3809c1c4-4fb2-47d8-9633-daefafcaaa95",
   "metadata": {},
   "outputs": [],
   "source": [
    "## create dataframe\n",
    "car <- c('Camaro', 'California', 'Mustang', 'Explorer')\n",
    "make <- c('Chevrolet','Ferrari','Ford','Ford')\n",
    "df1 <- data.frame(car,make)\n",
    "\n",
    "car <- c('Corolla', 'Lancer', 'Sportage', 'XE')\n",
    "make <- c('Toyota','Mitsubishi','Kia','Jaguar')\n",
    "df2 = data.frame(car, make)\n",
    "dfList = list(df1, df2)\n",
    "\n",
    "for (k in 1:length(dfList)) {\n",
    "    dbWriteTable(conn, \"Cars_and_Makes\",\n",
    "                 dfList[[k]], append = TRUE)\n",
    "}  ## Write two dataframes into the Cars_and_Makes relation."
   ]
  },
  {
   "cell_type": "markdown",
   "id": "8db47465-11f0-4b82-b2cb-a55076758e95",
   "metadata": {},
   "source": [
    "> 루프를 이용하여 두 개의 데이터프레임을 추가 삽입. append = TRUE로 지정해야 기존 테이블에 추가할 수 있음."
   ]
  },
  {
   "cell_type": "code",
   "execution_count": 13,
   "id": "4248db07-3c18-4dea-826e-55b7e06e307f",
   "metadata": {},
   "outputs": [
    {
     "data": {
      "text/html": [
       "<style>\n",
       ".list-inline {list-style: none; margin:0; padding: 0}\n",
       ".list-inline>li {display: inline-block}\n",
       ".list-inline>li:not(:last-child)::after {content: \"\\00b7\"; padding: 0 .5ex}\n",
       "</style>\n",
       "<ol class=list-inline><li>'Cars_and_Makes'</li><li>'cars_data'</li></ol>\n"
      ],
      "text/latex": [
       "\\begin{enumerate*}\n",
       "\\item 'Cars\\_and\\_Makes'\n",
       "\\item 'cars\\_data'\n",
       "\\end{enumerate*}\n"
      ],
      "text/markdown": [
       "1. 'Cars_and_Makes'\n",
       "2. 'cars_data'\n",
       "\n",
       "\n"
      ],
      "text/plain": [
       "[1] \"Cars_and_Makes\" \"cars_data\"     "
      ]
     },
     "metadata": {},
     "output_type": "display_data"
    },
    {
     "data": {
      "text/html": [
       "<table class=\"dataframe\">\n",
       "<caption>A data.frame: 8 × 2</caption>\n",
       "<thead>\n",
       "\t<tr><th scope=col>car</th><th scope=col>make</th></tr>\n",
       "\t<tr><th scope=col>&lt;chr&gt;</th><th scope=col>&lt;chr&gt;</th></tr>\n",
       "</thead>\n",
       "<tbody>\n",
       "\t<tr><td>Camaro    </td><td>Chevrolet </td></tr>\n",
       "\t<tr><td>California</td><td>Ferrari   </td></tr>\n",
       "\t<tr><td>Mustang   </td><td>Ford      </td></tr>\n",
       "\t<tr><td>Explorer  </td><td>Ford      </td></tr>\n",
       "\t<tr><td>Corolla   </td><td>Toyota    </td></tr>\n",
       "\t<tr><td>Lancer    </td><td>Mitsubishi</td></tr>\n",
       "\t<tr><td>Sportage  </td><td>Kia       </td></tr>\n",
       "\t<tr><td>XE        </td><td>Jaguar    </td></tr>\n",
       "</tbody>\n",
       "</table>\n"
      ],
      "text/latex": [
       "A data.frame: 8 × 2\n",
       "\\begin{tabular}{ll}\n",
       " car & make\\\\\n",
       " <chr> & <chr>\\\\\n",
       "\\hline\n",
       "\t Camaro     & Chevrolet \\\\\n",
       "\t California & Ferrari   \\\\\n",
       "\t Mustang    & Ford      \\\\\n",
       "\t Explorer   & Ford      \\\\\n",
       "\t Corolla    & Toyota    \\\\\n",
       "\t Lancer     & Mitsubishi\\\\\n",
       "\t Sportage   & Kia       \\\\\n",
       "\t XE         & Jaguar    \\\\\n",
       "\\end{tabular}\n"
      ],
      "text/markdown": [
       "\n",
       "A data.frame: 8 × 2\n",
       "\n",
       "| car &lt;chr&gt; | make &lt;chr&gt; |\n",
       "|---|---|\n",
       "| Camaro     | Chevrolet  |\n",
       "| California | Ferrari    |\n",
       "| Mustang    | Ford       |\n",
       "| Explorer   | Ford       |\n",
       "| Corolla    | Toyota     |\n",
       "| Lancer     | Mitsubishi |\n",
       "| Sportage   | Kia        |\n",
       "| XE         | Jaguar     |\n",
       "\n"
      ],
      "text/plain": [
       "  car        make      \n",
       "1 Camaro     Chevrolet \n",
       "2 California Ferrari   \n",
       "3 Mustang    Ford      \n",
       "4 Explorer   Ford      \n",
       "5 Corolla    Toyota    \n",
       "6 Lancer     Mitsubishi\n",
       "7 Sportage   Kia       \n",
       "8 XE         Jaguar    "
      ]
     },
     "metadata": {},
     "output_type": "display_data"
    },
    {
     "data": {
      "text/html": [
       "<table class=\"dataframe\">\n",
       "<caption>A data.frame: 20 × 12</caption>\n",
       "<thead>\n",
       "\t<tr><th scope=col>mpg</th><th scope=col>cyl</th><th scope=col>disp</th><th scope=col>hp</th><th scope=col>drat</th><th scope=col>wt</th><th scope=col>qsec</th><th scope=col>vs</th><th scope=col>am</th><th scope=col>gear</th><th scope=col>carb</th><th scope=col>car_names</th></tr>\n",
       "\t<tr><th scope=col>&lt;dbl&gt;</th><th scope=col>&lt;dbl&gt;</th><th scope=col>&lt;dbl&gt;</th><th scope=col>&lt;dbl&gt;</th><th scope=col>&lt;dbl&gt;</th><th scope=col>&lt;dbl&gt;</th><th scope=col>&lt;dbl&gt;</th><th scope=col>&lt;dbl&gt;</th><th scope=col>&lt;dbl&gt;</th><th scope=col>&lt;dbl&gt;</th><th scope=col>&lt;dbl&gt;</th><th scope=col>&lt;chr&gt;</th></tr>\n",
       "</thead>\n",
       "<tbody>\n",
       "\t<tr><td>21.0</td><td>6</td><td>160.0</td><td>110</td><td>3.90</td><td>2.620</td><td>16.46</td><td>0</td><td>1</td><td>4</td><td>4</td><td>Mazda RX4          </td></tr>\n",
       "\t<tr><td>21.0</td><td>6</td><td>160.0</td><td>110</td><td>3.90</td><td>2.875</td><td>17.02</td><td>0</td><td>1</td><td>4</td><td>4</td><td>Mazda RX4 Wag      </td></tr>\n",
       "\t<tr><td>22.8</td><td>4</td><td>108.0</td><td> 93</td><td>3.85</td><td>2.320</td><td>18.61</td><td>1</td><td>1</td><td>4</td><td>1</td><td>Datsun 710         </td></tr>\n",
       "\t<tr><td>21.4</td><td>6</td><td>258.0</td><td>110</td><td>3.08</td><td>3.215</td><td>19.44</td><td>1</td><td>0</td><td>3</td><td>1</td><td>Hornet 4 Drive     </td></tr>\n",
       "\t<tr><td>18.7</td><td>8</td><td>360.0</td><td>175</td><td>3.15</td><td>3.440</td><td>17.02</td><td>0</td><td>0</td><td>3</td><td>2</td><td>Hornet Sportabout  </td></tr>\n",
       "\t<tr><td>18.1</td><td>6</td><td>225.0</td><td>105</td><td>2.76</td><td>3.460</td><td>20.22</td><td>1</td><td>0</td><td>3</td><td>1</td><td>Valiant            </td></tr>\n",
       "\t<tr><td>14.3</td><td>8</td><td>360.0</td><td>245</td><td>3.21</td><td>3.570</td><td>15.84</td><td>0</td><td>0</td><td>3</td><td>4</td><td>Duster 360         </td></tr>\n",
       "\t<tr><td>24.4</td><td>4</td><td>146.7</td><td> 62</td><td>3.69</td><td>3.190</td><td>20.00</td><td>1</td><td>0</td><td>4</td><td>2</td><td>Merc 240D          </td></tr>\n",
       "\t<tr><td>22.8</td><td>4</td><td>140.8</td><td> 95</td><td>3.92</td><td>3.150</td><td>22.90</td><td>1</td><td>0</td><td>4</td><td>2</td><td>Merc 230           </td></tr>\n",
       "\t<tr><td>19.2</td><td>6</td><td>167.6</td><td>123</td><td>3.92</td><td>3.440</td><td>18.30</td><td>1</td><td>0</td><td>4</td><td>4</td><td>Merc 280           </td></tr>\n",
       "\t<tr><td>17.8</td><td>6</td><td>167.6</td><td>123</td><td>3.92</td><td>3.440</td><td>18.90</td><td>1</td><td>0</td><td>4</td><td>4</td><td>Merc 280C          </td></tr>\n",
       "\t<tr><td>16.4</td><td>8</td><td>275.8</td><td>180</td><td>3.07</td><td>4.070</td><td>17.40</td><td>0</td><td>0</td><td>3</td><td>3</td><td>Merc 450SE         </td></tr>\n",
       "\t<tr><td>17.3</td><td>8</td><td>275.8</td><td>180</td><td>3.07</td><td>3.730</td><td>17.60</td><td>0</td><td>0</td><td>3</td><td>3</td><td>Merc 450SL         </td></tr>\n",
       "\t<tr><td>15.2</td><td>8</td><td>275.8</td><td>180</td><td>3.07</td><td>3.780</td><td>18.00</td><td>0</td><td>0</td><td>3</td><td>3</td><td>Merc 450SLC        </td></tr>\n",
       "\t<tr><td>10.4</td><td>8</td><td>472.0</td><td>205</td><td>2.93</td><td>5.250</td><td>17.98</td><td>0</td><td>0</td><td>3</td><td>4</td><td>Cadillac Fleetwood </td></tr>\n",
       "\t<tr><td>10.4</td><td>8</td><td>460.0</td><td>215</td><td>3.00</td><td>5.424</td><td>17.82</td><td>0</td><td>0</td><td>3</td><td>4</td><td>Lincoln Continental</td></tr>\n",
       "\t<tr><td>14.7</td><td>8</td><td>440.0</td><td>230</td><td>3.23</td><td>5.345</td><td>17.42</td><td>0</td><td>0</td><td>3</td><td>4</td><td>Chrysler Imperial  </td></tr>\n",
       "\t<tr><td>32.4</td><td>4</td><td> 78.7</td><td> 66</td><td>4.08</td><td>2.200</td><td>19.47</td><td>1</td><td>1</td><td>4</td><td>1</td><td>Fiat 128           </td></tr>\n",
       "\t<tr><td>30.4</td><td>4</td><td> 75.7</td><td> 52</td><td>4.93</td><td>1.615</td><td>18.52</td><td>1</td><td>1</td><td>4</td><td>2</td><td>Honda Civic        </td></tr>\n",
       "\t<tr><td>33.9</td><td>4</td><td> 71.1</td><td> 65</td><td>4.22</td><td>1.835</td><td>19.90</td><td>1</td><td>1</td><td>4</td><td>1</td><td>Toyota Corolla     </td></tr>\n",
       "</tbody>\n",
       "</table>\n"
      ],
      "text/latex": [
       "A data.frame: 20 × 12\n",
       "\\begin{tabular}{llllllllllll}\n",
       " mpg & cyl & disp & hp & drat & wt & qsec & vs & am & gear & carb & car\\_names\\\\\n",
       " <dbl> & <dbl> & <dbl> & <dbl> & <dbl> & <dbl> & <dbl> & <dbl> & <dbl> & <dbl> & <dbl> & <chr>\\\\\n",
       "\\hline\n",
       "\t 21.0 & 6 & 160.0 & 110 & 3.90 & 2.620 & 16.46 & 0 & 1 & 4 & 4 & Mazda RX4          \\\\\n",
       "\t 21.0 & 6 & 160.0 & 110 & 3.90 & 2.875 & 17.02 & 0 & 1 & 4 & 4 & Mazda RX4 Wag      \\\\\n",
       "\t 22.8 & 4 & 108.0 &  93 & 3.85 & 2.320 & 18.61 & 1 & 1 & 4 & 1 & Datsun 710         \\\\\n",
       "\t 21.4 & 6 & 258.0 & 110 & 3.08 & 3.215 & 19.44 & 1 & 0 & 3 & 1 & Hornet 4 Drive     \\\\\n",
       "\t 18.7 & 8 & 360.0 & 175 & 3.15 & 3.440 & 17.02 & 0 & 0 & 3 & 2 & Hornet Sportabout  \\\\\n",
       "\t 18.1 & 6 & 225.0 & 105 & 2.76 & 3.460 & 20.22 & 1 & 0 & 3 & 1 & Valiant            \\\\\n",
       "\t 14.3 & 8 & 360.0 & 245 & 3.21 & 3.570 & 15.84 & 0 & 0 & 3 & 4 & Duster 360         \\\\\n",
       "\t 24.4 & 4 & 146.7 &  62 & 3.69 & 3.190 & 20.00 & 1 & 0 & 4 & 2 & Merc 240D          \\\\\n",
       "\t 22.8 & 4 & 140.8 &  95 & 3.92 & 3.150 & 22.90 & 1 & 0 & 4 & 2 & Merc 230           \\\\\n",
       "\t 19.2 & 6 & 167.6 & 123 & 3.92 & 3.440 & 18.30 & 1 & 0 & 4 & 4 & Merc 280           \\\\\n",
       "\t 17.8 & 6 & 167.6 & 123 & 3.92 & 3.440 & 18.90 & 1 & 0 & 4 & 4 & Merc 280C          \\\\\n",
       "\t 16.4 & 8 & 275.8 & 180 & 3.07 & 4.070 & 17.40 & 0 & 0 & 3 & 3 & Merc 450SE         \\\\\n",
       "\t 17.3 & 8 & 275.8 & 180 & 3.07 & 3.730 & 17.60 & 0 & 0 & 3 & 3 & Merc 450SL         \\\\\n",
       "\t 15.2 & 8 & 275.8 & 180 & 3.07 & 3.780 & 18.00 & 0 & 0 & 3 & 3 & Merc 450SLC        \\\\\n",
       "\t 10.4 & 8 & 472.0 & 205 & 2.93 & 5.250 & 17.98 & 0 & 0 & 3 & 4 & Cadillac Fleetwood \\\\\n",
       "\t 10.4 & 8 & 460.0 & 215 & 3.00 & 5.424 & 17.82 & 0 & 0 & 3 & 4 & Lincoln Continental\\\\\n",
       "\t 14.7 & 8 & 440.0 & 230 & 3.23 & 5.345 & 17.42 & 0 & 0 & 3 & 4 & Chrysler Imperial  \\\\\n",
       "\t 32.4 & 4 &  78.7 &  66 & 4.08 & 2.200 & 19.47 & 1 & 1 & 4 & 1 & Fiat 128           \\\\\n",
       "\t 30.4 & 4 &  75.7 &  52 & 4.93 & 1.615 & 18.52 & 1 & 1 & 4 & 2 & Honda Civic        \\\\\n",
       "\t 33.9 & 4 &  71.1 &  65 & 4.22 & 1.835 & 19.90 & 1 & 1 & 4 & 1 & Toyota Corolla     \\\\\n",
       "\\end{tabular}\n"
      ],
      "text/markdown": [
       "\n",
       "A data.frame: 20 × 12\n",
       "\n",
       "| mpg &lt;dbl&gt; | cyl &lt;dbl&gt; | disp &lt;dbl&gt; | hp &lt;dbl&gt; | drat &lt;dbl&gt; | wt &lt;dbl&gt; | qsec &lt;dbl&gt; | vs &lt;dbl&gt; | am &lt;dbl&gt; | gear &lt;dbl&gt; | carb &lt;dbl&gt; | car_names &lt;chr&gt; |\n",
       "|---|---|---|---|---|---|---|---|---|---|---|---|\n",
       "| 21.0 | 6 | 160.0 | 110 | 3.90 | 2.620 | 16.46 | 0 | 1 | 4 | 4 | Mazda RX4           |\n",
       "| 21.0 | 6 | 160.0 | 110 | 3.90 | 2.875 | 17.02 | 0 | 1 | 4 | 4 | Mazda RX4 Wag       |\n",
       "| 22.8 | 4 | 108.0 |  93 | 3.85 | 2.320 | 18.61 | 1 | 1 | 4 | 1 | Datsun 710          |\n",
       "| 21.4 | 6 | 258.0 | 110 | 3.08 | 3.215 | 19.44 | 1 | 0 | 3 | 1 | Hornet 4 Drive      |\n",
       "| 18.7 | 8 | 360.0 | 175 | 3.15 | 3.440 | 17.02 | 0 | 0 | 3 | 2 | Hornet Sportabout   |\n",
       "| 18.1 | 6 | 225.0 | 105 | 2.76 | 3.460 | 20.22 | 1 | 0 | 3 | 1 | Valiant             |\n",
       "| 14.3 | 8 | 360.0 | 245 | 3.21 | 3.570 | 15.84 | 0 | 0 | 3 | 4 | Duster 360          |\n",
       "| 24.4 | 4 | 146.7 |  62 | 3.69 | 3.190 | 20.00 | 1 | 0 | 4 | 2 | Merc 240D           |\n",
       "| 22.8 | 4 | 140.8 |  95 | 3.92 | 3.150 | 22.90 | 1 | 0 | 4 | 2 | Merc 230            |\n",
       "| 19.2 | 6 | 167.6 | 123 | 3.92 | 3.440 | 18.30 | 1 | 0 | 4 | 4 | Merc 280            |\n",
       "| 17.8 | 6 | 167.6 | 123 | 3.92 | 3.440 | 18.90 | 1 | 0 | 4 | 4 | Merc 280C           |\n",
       "| 16.4 | 8 | 275.8 | 180 | 3.07 | 4.070 | 17.40 | 0 | 0 | 3 | 3 | Merc 450SE          |\n",
       "| 17.3 | 8 | 275.8 | 180 | 3.07 | 3.730 | 17.60 | 0 | 0 | 3 | 3 | Merc 450SL          |\n",
       "| 15.2 | 8 | 275.8 | 180 | 3.07 | 3.780 | 18.00 | 0 | 0 | 3 | 3 | Merc 450SLC         |\n",
       "| 10.4 | 8 | 472.0 | 205 | 2.93 | 5.250 | 17.98 | 0 | 0 | 3 | 4 | Cadillac Fleetwood  |\n",
       "| 10.4 | 8 | 460.0 | 215 | 3.00 | 5.424 | 17.82 | 0 | 0 | 3 | 4 | Lincoln Continental |\n",
       "| 14.7 | 8 | 440.0 | 230 | 3.23 | 5.345 | 17.42 | 0 | 0 | 3 | 4 | Chrysler Imperial   |\n",
       "| 32.4 | 4 |  78.7 |  66 | 4.08 | 2.200 | 19.47 | 1 | 1 | 4 | 1 | Fiat 128            |\n",
       "| 30.4 | 4 |  75.7 |  52 | 4.93 | 1.615 | 18.52 | 1 | 1 | 4 | 2 | Honda Civic         |\n",
       "| 33.9 | 4 |  71.1 |  65 | 4.22 | 1.835 | 19.90 | 1 | 1 | 4 | 1 | Toyota Corolla      |\n",
       "\n"
      ],
      "text/plain": [
       "   mpg  cyl disp  hp  drat wt    qsec  vs am gear carb car_names          \n",
       "1  21.0 6   160.0 110 3.90 2.620 16.46 0  1  4    4    Mazda RX4          \n",
       "2  21.0 6   160.0 110 3.90 2.875 17.02 0  1  4    4    Mazda RX4 Wag      \n",
       "3  22.8 4   108.0  93 3.85 2.320 18.61 1  1  4    1    Datsun 710         \n",
       "4  21.4 6   258.0 110 3.08 3.215 19.44 1  0  3    1    Hornet 4 Drive     \n",
       "5  18.7 8   360.0 175 3.15 3.440 17.02 0  0  3    2    Hornet Sportabout  \n",
       "6  18.1 6   225.0 105 2.76 3.460 20.22 1  0  3    1    Valiant            \n",
       "7  14.3 8   360.0 245 3.21 3.570 15.84 0  0  3    4    Duster 360         \n",
       "8  24.4 4   146.7  62 3.69 3.190 20.00 1  0  4    2    Merc 240D          \n",
       "9  22.8 4   140.8  95 3.92 3.150 22.90 1  0  4    2    Merc 230           \n",
       "10 19.2 6   167.6 123 3.92 3.440 18.30 1  0  4    4    Merc 280           \n",
       "11 17.8 6   167.6 123 3.92 3.440 18.90 1  0  4    4    Merc 280C          \n",
       "12 16.4 8   275.8 180 3.07 4.070 17.40 0  0  3    3    Merc 450SE         \n",
       "13 17.3 8   275.8 180 3.07 3.730 17.60 0  0  3    3    Merc 450SL         \n",
       "14 15.2 8   275.8 180 3.07 3.780 18.00 0  0  3    3    Merc 450SLC        \n",
       "15 10.4 8   472.0 205 2.93 5.250 17.98 0  0  3    4    Cadillac Fleetwood \n",
       "16 10.4 8   460.0 215 3.00 5.424 17.82 0  0  3    4    Lincoln Continental\n",
       "17 14.7 8   440.0 230 3.23 5.345 17.42 0  0  3    4    Chrysler Imperial  \n",
       "18 32.4 4    78.7  66 4.08 2.200 19.47 1  1  4    1    Fiat 128           \n",
       "19 30.4 4    75.7  52 4.93 1.615 18.52 1  1  4    2    Honda Civic        \n",
       "20 33.9 4    71.1  65 4.22 1.835 19.90 1  1  4    1    Toyota Corolla     "
      ]
     },
     "metadata": {},
     "output_type": "display_data"
    },
    {
     "data": {
      "text/html": [
       "<table class=\"dataframe\">\n",
       "<caption>A data.frame: 14 × 3</caption>\n",
       "<thead>\n",
       "\t<tr><th scope=col>car_names</th><th scope=col>hp</th><th scope=col>cyl</th></tr>\n",
       "\t<tr><th scope=col>&lt;chr&gt;</th><th scope=col>&lt;dbl&gt;</th><th scope=col>&lt;dbl&gt;</th></tr>\n",
       "</thead>\n",
       "<tbody>\n",
       "\t<tr><td>Hornet Sportabout  </td><td>175</td><td>8</td></tr>\n",
       "\t<tr><td>Duster 360         </td><td>245</td><td>8</td></tr>\n",
       "\t<tr><td>Merc 450SE         </td><td>180</td><td>8</td></tr>\n",
       "\t<tr><td>Merc 450SL         </td><td>180</td><td>8</td></tr>\n",
       "\t<tr><td>Merc 450SLC        </td><td>180</td><td>8</td></tr>\n",
       "\t<tr><td>Cadillac Fleetwood </td><td>205</td><td>8</td></tr>\n",
       "\t<tr><td>Lincoln Continental</td><td>215</td><td>8</td></tr>\n",
       "\t<tr><td>Chrysler Imperial  </td><td>230</td><td>8</td></tr>\n",
       "\t<tr><td>Dodge Challenger   </td><td>150</td><td>8</td></tr>\n",
       "\t<tr><td>AMC Javelin        </td><td>150</td><td>8</td></tr>\n",
       "\t<tr><td>Camaro Z28         </td><td>245</td><td>8</td></tr>\n",
       "\t<tr><td>Pontiac Firebird   </td><td>175</td><td>8</td></tr>\n",
       "\t<tr><td>Ford Pantera L     </td><td>264</td><td>8</td></tr>\n",
       "\t<tr><td>Maserati Bora      </td><td>335</td><td>8</td></tr>\n",
       "</tbody>\n",
       "</table>\n"
      ],
      "text/latex": [
       "A data.frame: 14 × 3\n",
       "\\begin{tabular}{lll}\n",
       " car\\_names & hp & cyl\\\\\n",
       " <chr> & <dbl> & <dbl>\\\\\n",
       "\\hline\n",
       "\t Hornet Sportabout   & 175 & 8\\\\\n",
       "\t Duster 360          & 245 & 8\\\\\n",
       "\t Merc 450SE          & 180 & 8\\\\\n",
       "\t Merc 450SL          & 180 & 8\\\\\n",
       "\t Merc 450SLC         & 180 & 8\\\\\n",
       "\t Cadillac Fleetwood  & 205 & 8\\\\\n",
       "\t Lincoln Continental & 215 & 8\\\\\n",
       "\t Chrysler Imperial   & 230 & 8\\\\\n",
       "\t Dodge Challenger    & 150 & 8\\\\\n",
       "\t AMC Javelin         & 150 & 8\\\\\n",
       "\t Camaro Z28          & 245 & 8\\\\\n",
       "\t Pontiac Firebird    & 175 & 8\\\\\n",
       "\t Ford Pantera L      & 264 & 8\\\\\n",
       "\t Maserati Bora       & 335 & 8\\\\\n",
       "\\end{tabular}\n"
      ],
      "text/markdown": [
       "\n",
       "A data.frame: 14 × 3\n",
       "\n",
       "| car_names &lt;chr&gt; | hp &lt;dbl&gt; | cyl &lt;dbl&gt; |\n",
       "|---|---|---|\n",
       "| Hornet Sportabout   | 175 | 8 |\n",
       "| Duster 360          | 245 | 8 |\n",
       "| Merc 450SE          | 180 | 8 |\n",
       "| Merc 450SL          | 180 | 8 |\n",
       "| Merc 450SLC         | 180 | 8 |\n",
       "| Cadillac Fleetwood  | 205 | 8 |\n",
       "| Lincoln Continental | 215 | 8 |\n",
       "| Chrysler Imperial   | 230 | 8 |\n",
       "| Dodge Challenger    | 150 | 8 |\n",
       "| AMC Javelin         | 150 | 8 |\n",
       "| Camaro Z28          | 245 | 8 |\n",
       "| Pontiac Firebird    | 175 | 8 |\n",
       "| Ford Pantera L      | 264 | 8 |\n",
       "| Maserati Bora       | 335 | 8 |\n",
       "\n"
      ],
      "text/plain": [
       "   car_names           hp  cyl\n",
       "1  Hornet Sportabout   175 8  \n",
       "2  Duster 360          245 8  \n",
       "3  Merc 450SE          180 8  \n",
       "4  Merc 450SL          180 8  \n",
       "5  Merc 450SLC         180 8  \n",
       "6  Cadillac Fleetwood  205 8  \n",
       "7  Lincoln Continental 215 8  \n",
       "8  Chrysler Imperial   230 8  \n",
       "9  Dodge Challenger    150 8  \n",
       "10 AMC Javelin         150 8  \n",
       "11 Camaro Z28          245 8  \n",
       "12 Pontiac Firebird    175 8  \n",
       "13 Ford Pantera L      264 8  \n",
       "14 Maserati Bora       335 8  "
      ]
     },
     "metadata": {},
     "output_type": "display_data"
    }
   ],
   "source": [
    "dbListTables(conn)\n",
    "\n",
    "dbGetQuery(conn, \"SELECT * FROM Cars_and_Makes\")  ## SELECT all(*) FROM Cars_and_Makes relation\n",
    "dbGetQuery(conn, \"SELECT * FROM cars_data LIMIT 20\")  ## SELECT all(*) columns FROM carsr_data relation.\n",
    "# maximun 20 tuples\n",
    "dbGetQuery(conn, \"SELECT car_names, hp, cyl FROM cars_data WHERE cyl = 8\")"
   ]
  },
  {
   "cell_type": "code",
   "execution_count": 26,
   "id": "bed7314d-24c7-4941-adec-74e96243c151",
   "metadata": {},
   "outputs": [
    {
     "data": {
      "text/html": [
       "<table class=\"dataframe\">\n",
       "<caption>A data.frame: 1 × 2</caption>\n",
       "<thead>\n",
       "\t<tr><th scope=col>cyl</th><th scope=col>AVG(hp)</th></tr>\n",
       "\t<tr><th scope=col>&lt;dbl&gt;</th><th scope=col>&lt;dbl&gt;</th></tr>\n",
       "</thead>\n",
       "<tbody>\n",
       "\t<tr><td>6</td><td>146.6875</td></tr>\n",
       "</tbody>\n",
       "</table>\n"
      ],
      "text/latex": [
       "A data.frame: 1 × 2\n",
       "\\begin{tabular}{ll}\n",
       " cyl & AVG(hp)\\\\\n",
       " <dbl> & <dbl>\\\\\n",
       "\\hline\n",
       "\t 6 & 146.6875\\\\\n",
       "\\end{tabular}\n"
      ],
      "text/markdown": [
       "\n",
       "A data.frame: 1 × 2\n",
       "\n",
       "| cyl &lt;dbl&gt; | AVG(hp) &lt;dbl&gt; |\n",
       "|---|---|\n",
       "| 6 | 146.6875 |\n",
       "\n"
      ],
      "text/plain": [
       "  cyl AVG(hp) \n",
       "1 6   146.6875"
      ]
     },
     "metadata": {},
     "output_type": "display_data"
    }
   ],
   "source": [
    "dbGetQuery(conn, \"SELECT cyl, AVG(hp) FROM cars_data\")"
   ]
  },
  {
   "cell_type": "markdown",
   "id": "5dd5cb10-ae1a-49a4-b700-a731903d8c2e",
   "metadata": {},
   "source": [
    "`\"SELECT cyl, AVG(hp) AS 'average_hp', AVG(mpg) AS 'average_mpg' FROM cars_data GROUP BY cyl ORDER BY average_mpg\"`"
   ]
  },
  {
   "cell_type": "code",
   "execution_count": 20,
   "id": "b4bef647-3ad9-462b-b699-d58100e43593",
   "metadata": {},
   "outputs": [
    {
     "data": {
      "text/html": [
       "<table class=\"dataframe\">\n",
       "<caption>A data.frame: 3 × 3</caption>\n",
       "<thead>\n",
       "\t<tr><th scope=col>cyl</th><th scope=col>average_hp</th><th scope=col>average_mpg</th></tr>\n",
       "\t<tr><th scope=col>&lt;dbl&gt;</th><th scope=col>&lt;dbl&gt;</th><th scope=col>&lt;dbl&gt;</th></tr>\n",
       "</thead>\n",
       "<tbody>\n",
       "\t<tr><td>8</td><td>209.21429</td><td>15.10000</td></tr>\n",
       "\t<tr><td>6</td><td>122.28571</td><td>19.74286</td></tr>\n",
       "\t<tr><td>4</td><td> 82.63636</td><td>26.66364</td></tr>\n",
       "</tbody>\n",
       "</table>\n"
      ],
      "text/latex": [
       "A data.frame: 3 × 3\n",
       "\\begin{tabular}{lll}\n",
       " cyl & average\\_hp & average\\_mpg\\\\\n",
       " <dbl> & <dbl> & <dbl>\\\\\n",
       "\\hline\n",
       "\t 8 & 209.21429 & 15.10000\\\\\n",
       "\t 6 & 122.28571 & 19.74286\\\\\n",
       "\t 4 &  82.63636 & 26.66364\\\\\n",
       "\\end{tabular}\n"
      ],
      "text/markdown": [
       "\n",
       "A data.frame: 3 × 3\n",
       "\n",
       "| cyl &lt;dbl&gt; | average_hp &lt;dbl&gt; | average_mpg &lt;dbl&gt; |\n",
       "|---|---|---|\n",
       "| 8 | 209.21429 | 15.10000 |\n",
       "| 6 | 122.28571 | 19.74286 |\n",
       "| 4 |  82.63636 | 26.66364 |\n",
       "\n"
      ],
      "text/plain": [
       "  cyl average_hp average_mpg\n",
       "1 8   209.21429  15.10000   \n",
       "2 6   122.28571  19.74286   \n",
       "3 4    82.63636  26.66364   "
      ]
     },
     "metadata": {},
     "output_type": "display_data"
    }
   ],
   "source": [
    "dbGetQuery(conn, \"SELECT cyl, AVG(hp) AS 'average_hp', AVG(mpg) AS 'average_mpg' FROM cars_data GROUP BY cyl ORDER BY average_mpg\")"
   ]
  },
  {
   "cell_type": "markdown",
   "id": "38751588-eef8-450a-bfe2-13ebf1c2cb51",
   "metadata": {},
   "source": [
    "SELECT cyl, AVG(hp), AVG(mpg) : hp와 mpg는 평균을 내어 산출\n",
    "\n",
    "AS 'average_hp', AS 'average_mpg' : 해당 열 이름으로\n",
    "\n",
    "FROM cars_data\n",
    "\n",
    "GROUP BY cyl : cyl의 값들을 기준으로 그룹화하여 계산"
   ]
  },
  {
   "cell_type": "markdown",
   "id": "6e33506d-70d8-4392-8662-d05116918204",
   "metadata": {},
   "source": [
    "SELECT car_names, mpg, hp, wt, FROM cars_data WHERE mpg >= ? AND hp >= ? AND wt >= ? : WHERE 구문에 AND, OR 사용 가능"
   ]
  },
  {
   "cell_type": "code",
   "execution_count": 12,
   "id": "48ce4f93-3eb5-48dd-a3ee-4ac9c6511de0",
   "metadata": {},
   "outputs": [],
   "source": [
    "assembleQuery <- function(conn, base, \n",
    " search_parameters)\n",
    "{ \n",
    "parameter_names <- names(search_parameters) \n",
    "partial_queries <- \"\" \n",
    "for(k in 1:length(parameter_names))\n",
    "{ \n",
    "filter_k <- paste(parameter_names[k], \" >= ? \") \n",
    "if(k > 1)\n",
    "{ filter_k <- paste(\"AND \", parameter_names[k], \" >= ?\") } \n",
    "partial_queries <- paste(partial_queries, filter_k) \n",
    "} \n",
    "final_paste <- paste(base, \" WHERE\", partial_queries) \n",
    "print(final_paste) \n",
    "values <- unlist(search_parameters, use.names = FALSE) \n",
    "result <- dbGetQuery(conn, final_paste, params = values) \n",
    "return(result)\n",
    "}"
   ]
  },
  {
   "cell_type": "code",
   "execution_count": 13,
   "id": "3ded02d2-a17f-49f1-893b-4f2ab1b78461",
   "metadata": {},
   "outputs": [
    {
     "name": "stdout",
     "output_type": "stream",
     "text": [
      "[1] \"SELECT car_names, mpg, hp, wt FROM cars_data  WHERE  mpg  >= ?  AND  hp  >= ? AND  wt  >= ?\"\n"
     ]
    },
    {
     "data": {
      "text/html": [
       "<table class=\"dataframe\">\n",
       "<caption>A data.frame: 5 × 4</caption>\n",
       "<thead>\n",
       "\t<tr><th scope=col>car_names</th><th scope=col>mpg</th><th scope=col>hp</th><th scope=col>wt</th></tr>\n",
       "\t<tr><th scope=col>&lt;chr&gt;</th><th scope=col>&lt;dbl&gt;</th><th scope=col>&lt;dbl&gt;</th><th scope=col>&lt;dbl&gt;</th></tr>\n",
       "</thead>\n",
       "<tbody>\n",
       "\t<tr><td>Hornet Sportabout</td><td>18.7</td><td>175</td><td>3.440</td></tr>\n",
       "\t<tr><td>Merc 450SE       </td><td>16.4</td><td>180</td><td>4.070</td></tr>\n",
       "\t<tr><td>Merc 450SL       </td><td>17.3</td><td>180</td><td>3.730</td></tr>\n",
       "\t<tr><td>Pontiac Firebird </td><td>19.2</td><td>175</td><td>3.845</td></tr>\n",
       "\t<tr><td>Ferrari Dino     </td><td>19.7</td><td>175</td><td>2.770</td></tr>\n",
       "</tbody>\n",
       "</table>\n"
      ],
      "text/latex": [
       "A data.frame: 5 × 4\n",
       "\\begin{tabular}{llll}\n",
       " car\\_names & mpg & hp & wt\\\\\n",
       " <chr> & <dbl> & <dbl> & <dbl>\\\\\n",
       "\\hline\n",
       "\t Hornet Sportabout & 18.7 & 175 & 3.440\\\\\n",
       "\t Merc 450SE        & 16.4 & 180 & 4.070\\\\\n",
       "\t Merc 450SL        & 17.3 & 180 & 3.730\\\\\n",
       "\t Pontiac Firebird  & 19.2 & 175 & 3.845\\\\\n",
       "\t Ferrari Dino      & 19.7 & 175 & 2.770\\\\\n",
       "\\end{tabular}\n"
      ],
      "text/markdown": [
       "\n",
       "A data.frame: 5 × 4\n",
       "\n",
       "| car_names &lt;chr&gt; | mpg &lt;dbl&gt; | hp &lt;dbl&gt; | wt &lt;dbl&gt; |\n",
       "|---|---|---|---|\n",
       "| Hornet Sportabout | 18.7 | 175 | 3.440 |\n",
       "| Merc 450SE        | 16.4 | 180 | 4.070 |\n",
       "| Merc 450SL        | 17.3 | 180 | 3.730 |\n",
       "| Pontiac Firebird  | 19.2 | 175 | 3.845 |\n",
       "| Ferrari Dino      | 19.7 | 175 | 2.770 |\n",
       "\n"
      ],
      "text/plain": [
       "  car_names         mpg  hp  wt   \n",
       "1 Hornet Sportabout 18.7 175 3.440\n",
       "2 Merc 450SE        16.4 180 4.070\n",
       "3 Merc 450SL        17.3 180 3.730\n",
       "4 Pontiac Firebird  19.2 175 3.845\n",
       "5 Ferrari Dino      19.7 175 2.770"
      ]
     },
     "metadata": {},
     "output_type": "display_data"
    }
   ],
   "source": [
    "base = \"SELECT car_names, mpg, hp, wt FROM cars_data\"\n",
    "search_parameters = list(\"mpg\" = 16, \"hp\" = 150, \"wt\" = 2.1)\n",
    "result = assembleQuery(conn, base, search_parameters)\n",
    "result"
   ]
  },
  {
   "cell_type": "code",
   "execution_count": 15,
   "id": "490dde08-2f51-48dc-8f3f-8643c6567340",
   "metadata": {},
   "outputs": [
    {
     "data": {
      "text/html": [
       "1"
      ],
      "text/latex": [
       "1"
      ],
      "text/markdown": [
       "1"
      ],
      "text/plain": [
       "[1] 1"
      ]
     },
     "metadata": {},
     "output_type": "display_data"
    }
   ],
   "source": [
    "dbExecute(conn, \"DELETE FROM cars_data WHERE car_names = 'Mazda RX4'\")  ## DB 내용 조작"
   ]
  },
  {
   "cell_type": "code",
   "execution_count": 16,
   "id": "40870d55-0f01-401b-a1c0-39921f0df463",
   "metadata": {},
   "outputs": [
    {
     "data": {
      "text/html": [
       "<table class=\"dataframe\">\n",
       "<caption>A data.frame: 10 × 12</caption>\n",
       "<thead>\n",
       "\t<tr><th scope=col>mpg</th><th scope=col>cyl</th><th scope=col>disp</th><th scope=col>hp</th><th scope=col>drat</th><th scope=col>wt</th><th scope=col>qsec</th><th scope=col>vs</th><th scope=col>am</th><th scope=col>gear</th><th scope=col>carb</th><th scope=col>car_names</th></tr>\n",
       "\t<tr><th scope=col>&lt;dbl&gt;</th><th scope=col>&lt;dbl&gt;</th><th scope=col>&lt;dbl&gt;</th><th scope=col>&lt;dbl&gt;</th><th scope=col>&lt;dbl&gt;</th><th scope=col>&lt;dbl&gt;</th><th scope=col>&lt;dbl&gt;</th><th scope=col>&lt;dbl&gt;</th><th scope=col>&lt;dbl&gt;</th><th scope=col>&lt;dbl&gt;</th><th scope=col>&lt;dbl&gt;</th><th scope=col>&lt;chr&gt;</th></tr>\n",
       "</thead>\n",
       "<tbody>\n",
       "\t<tr><td>21.0</td><td>6</td><td>160.0</td><td>110</td><td>3.90</td><td>2.875</td><td>17.02</td><td>0</td><td>1</td><td>4</td><td>4</td><td>Mazda RX4 Wag    </td></tr>\n",
       "\t<tr><td>22.8</td><td>4</td><td>108.0</td><td> 93</td><td>3.85</td><td>2.320</td><td>18.61</td><td>1</td><td>1</td><td>4</td><td>1</td><td>Datsun 710       </td></tr>\n",
       "\t<tr><td>21.4</td><td>6</td><td>258.0</td><td>110</td><td>3.08</td><td>3.215</td><td>19.44</td><td>1</td><td>0</td><td>3</td><td>1</td><td>Hornet 4 Drive   </td></tr>\n",
       "\t<tr><td>18.7</td><td>8</td><td>360.0</td><td>175</td><td>3.15</td><td>3.440</td><td>17.02</td><td>0</td><td>0</td><td>3</td><td>2</td><td>Hornet Sportabout</td></tr>\n",
       "\t<tr><td>18.1</td><td>6</td><td>225.0</td><td>105</td><td>2.76</td><td>3.460</td><td>20.22</td><td>1</td><td>0</td><td>3</td><td>1</td><td>Valiant          </td></tr>\n",
       "\t<tr><td>14.3</td><td>8</td><td>360.0</td><td>245</td><td>3.21</td><td>3.570</td><td>15.84</td><td>0</td><td>0</td><td>3</td><td>4</td><td>Duster 360       </td></tr>\n",
       "\t<tr><td>24.4</td><td>4</td><td>146.7</td><td> 62</td><td>3.69</td><td>3.190</td><td>20.00</td><td>1</td><td>0</td><td>4</td><td>2</td><td>Merc 240D        </td></tr>\n",
       "\t<tr><td>22.8</td><td>4</td><td>140.8</td><td> 95</td><td>3.92</td><td>3.150</td><td>22.90</td><td>1</td><td>0</td><td>4</td><td>2</td><td>Merc 230         </td></tr>\n",
       "\t<tr><td>19.2</td><td>6</td><td>167.6</td><td>123</td><td>3.92</td><td>3.440</td><td>18.30</td><td>1</td><td>0</td><td>4</td><td>4</td><td>Merc 280         </td></tr>\n",
       "\t<tr><td>17.8</td><td>6</td><td>167.6</td><td>123</td><td>3.92</td><td>3.440</td><td>18.90</td><td>1</td><td>0</td><td>4</td><td>4</td><td>Merc 280C        </td></tr>\n",
       "</tbody>\n",
       "</table>\n"
      ],
      "text/latex": [
       "A data.frame: 10 × 12\n",
       "\\begin{tabular}{llllllllllll}\n",
       " mpg & cyl & disp & hp & drat & wt & qsec & vs & am & gear & carb & car\\_names\\\\\n",
       " <dbl> & <dbl> & <dbl> & <dbl> & <dbl> & <dbl> & <dbl> & <dbl> & <dbl> & <dbl> & <dbl> & <chr>\\\\\n",
       "\\hline\n",
       "\t 21.0 & 6 & 160.0 & 110 & 3.90 & 2.875 & 17.02 & 0 & 1 & 4 & 4 & Mazda RX4 Wag    \\\\\n",
       "\t 22.8 & 4 & 108.0 &  93 & 3.85 & 2.320 & 18.61 & 1 & 1 & 4 & 1 & Datsun 710       \\\\\n",
       "\t 21.4 & 6 & 258.0 & 110 & 3.08 & 3.215 & 19.44 & 1 & 0 & 3 & 1 & Hornet 4 Drive   \\\\\n",
       "\t 18.7 & 8 & 360.0 & 175 & 3.15 & 3.440 & 17.02 & 0 & 0 & 3 & 2 & Hornet Sportabout\\\\\n",
       "\t 18.1 & 6 & 225.0 & 105 & 2.76 & 3.460 & 20.22 & 1 & 0 & 3 & 1 & Valiant          \\\\\n",
       "\t 14.3 & 8 & 360.0 & 245 & 3.21 & 3.570 & 15.84 & 0 & 0 & 3 & 4 & Duster 360       \\\\\n",
       "\t 24.4 & 4 & 146.7 &  62 & 3.69 & 3.190 & 20.00 & 1 & 0 & 4 & 2 & Merc 240D        \\\\\n",
       "\t 22.8 & 4 & 140.8 &  95 & 3.92 & 3.150 & 22.90 & 1 & 0 & 4 & 2 & Merc 230         \\\\\n",
       "\t 19.2 & 6 & 167.6 & 123 & 3.92 & 3.440 & 18.30 & 1 & 0 & 4 & 4 & Merc 280         \\\\\n",
       "\t 17.8 & 6 & 167.6 & 123 & 3.92 & 3.440 & 18.90 & 1 & 0 & 4 & 4 & Merc 280C        \\\\\n",
       "\\end{tabular}\n"
      ],
      "text/markdown": [
       "\n",
       "A data.frame: 10 × 12\n",
       "\n",
       "| mpg &lt;dbl&gt; | cyl &lt;dbl&gt; | disp &lt;dbl&gt; | hp &lt;dbl&gt; | drat &lt;dbl&gt; | wt &lt;dbl&gt; | qsec &lt;dbl&gt; | vs &lt;dbl&gt; | am &lt;dbl&gt; | gear &lt;dbl&gt; | carb &lt;dbl&gt; | car_names &lt;chr&gt; |\n",
       "|---|---|---|---|---|---|---|---|---|---|---|---|\n",
       "| 21.0 | 6 | 160.0 | 110 | 3.90 | 2.875 | 17.02 | 0 | 1 | 4 | 4 | Mazda RX4 Wag     |\n",
       "| 22.8 | 4 | 108.0 |  93 | 3.85 | 2.320 | 18.61 | 1 | 1 | 4 | 1 | Datsun 710        |\n",
       "| 21.4 | 6 | 258.0 | 110 | 3.08 | 3.215 | 19.44 | 1 | 0 | 3 | 1 | Hornet 4 Drive    |\n",
       "| 18.7 | 8 | 360.0 | 175 | 3.15 | 3.440 | 17.02 | 0 | 0 | 3 | 2 | Hornet Sportabout |\n",
       "| 18.1 | 6 | 225.0 | 105 | 2.76 | 3.460 | 20.22 | 1 | 0 | 3 | 1 | Valiant           |\n",
       "| 14.3 | 8 | 360.0 | 245 | 3.21 | 3.570 | 15.84 | 0 | 0 | 3 | 4 | Duster 360        |\n",
       "| 24.4 | 4 | 146.7 |  62 | 3.69 | 3.190 | 20.00 | 1 | 0 | 4 | 2 | Merc 240D         |\n",
       "| 22.8 | 4 | 140.8 |  95 | 3.92 | 3.150 | 22.90 | 1 | 0 | 4 | 2 | Merc 230          |\n",
       "| 19.2 | 6 | 167.6 | 123 | 3.92 | 3.440 | 18.30 | 1 | 0 | 4 | 4 | Merc 280          |\n",
       "| 17.8 | 6 | 167.6 | 123 | 3.92 | 3.440 | 18.90 | 1 | 0 | 4 | 4 | Merc 280C         |\n",
       "\n"
      ],
      "text/plain": [
       "   mpg  cyl disp  hp  drat wt    qsec  vs am gear carb car_names        \n",
       "1  21.0 6   160.0 110 3.90 2.875 17.02 0  1  4    4    Mazda RX4 Wag    \n",
       "2  22.8 4   108.0  93 3.85 2.320 18.61 1  1  4    1    Datsun 710       \n",
       "3  21.4 6   258.0 110 3.08 3.215 19.44 1  0  3    1    Hornet 4 Drive   \n",
       "4  18.7 8   360.0 175 3.15 3.440 17.02 0  0  3    2    Hornet Sportabout\n",
       "5  18.1 6   225.0 105 2.76 3.460 20.22 1  0  3    1    Valiant          \n",
       "6  14.3 8   360.0 245 3.21 3.570 15.84 0  0  3    4    Duster 360       \n",
       "7  24.4 4   146.7  62 3.69 3.190 20.00 1  0  4    2    Merc 240D        \n",
       "8  22.8 4   140.8  95 3.92 3.150 22.90 1  0  4    2    Merc 230         \n",
       "9  19.2 6   167.6 123 3.92 3.440 18.30 1  0  4    4    Merc 280         \n",
       "10 17.8 6   167.6 123 3.92 3.440 18.90 1  0  4    4    Merc 280C        "
      ]
     },
     "metadata": {},
     "output_type": "display_data"
    }
   ],
   "source": [
    "dbGetQuery(conn, \"SELECT * FROM cars_data LIMIT 10\")  ## Mazda RX4가 사라짐"
   ]
  },
  {
   "cell_type": "code",
   "execution_count": 17,
   "id": "154ad5e6-89b6-43ad-9c0a-592f8a42150d",
   "metadata": {},
   "outputs": [
    {
     "data": {
      "text/html": [
       "1"
      ],
      "text/latex": [
       "1"
      ],
      "text/markdown": [
       "1"
      ],
      "text/plain": [
       "[1] 1"
      ]
     },
     "metadata": {},
     "output_type": "display_data"
    }
   ],
   "source": [
    "dbExecute(conn, \"INSERT INTO cars_data VALUES (21.0,6,160.0,110,3.90,2.620,16.46,0,1,4,4,\n",
    "'Mazda RX4')\")"
   ]
  },
  {
   "cell_type": "code",
   "execution_count": 19,
   "id": "89a998e5-85dc-438f-b555-88a8fa2e1826",
   "metadata": {},
   "outputs": [
    {
     "data": {
      "text/html": [
       "<table class=\"dataframe\">\n",
       "<caption>A data.frame: 6 × 12</caption>\n",
       "<thead>\n",
       "\t<tr><th></th><th scope=col>mpg</th><th scope=col>cyl</th><th scope=col>disp</th><th scope=col>hp</th><th scope=col>drat</th><th scope=col>wt</th><th scope=col>qsec</th><th scope=col>vs</th><th scope=col>am</th><th scope=col>gear</th><th scope=col>carb</th><th scope=col>car_names</th></tr>\n",
       "\t<tr><th></th><th scope=col>&lt;dbl&gt;</th><th scope=col>&lt;dbl&gt;</th><th scope=col>&lt;dbl&gt;</th><th scope=col>&lt;dbl&gt;</th><th scope=col>&lt;dbl&gt;</th><th scope=col>&lt;dbl&gt;</th><th scope=col>&lt;dbl&gt;</th><th scope=col>&lt;dbl&gt;</th><th scope=col>&lt;dbl&gt;</th><th scope=col>&lt;dbl&gt;</th><th scope=col>&lt;dbl&gt;</th><th scope=col>&lt;chr&gt;</th></tr>\n",
       "</thead>\n",
       "<tbody>\n",
       "\t<tr><th scope=row>27</th><td>30.4</td><td>4</td><td> 95.1</td><td>113</td><td>3.77</td><td>1.513</td><td>16.90</td><td>1</td><td>1</td><td>5</td><td>2</td><td>Lotus Europa  </td></tr>\n",
       "\t<tr><th scope=row>28</th><td>15.8</td><td>8</td><td>351.0</td><td>264</td><td>4.22</td><td>3.170</td><td>14.50</td><td>0</td><td>1</td><td>5</td><td>4</td><td>Ford Pantera L</td></tr>\n",
       "\t<tr><th scope=row>29</th><td>19.7</td><td>6</td><td>145.0</td><td>175</td><td>3.62</td><td>2.770</td><td>15.50</td><td>0</td><td>1</td><td>5</td><td>6</td><td>Ferrari Dino  </td></tr>\n",
       "\t<tr><th scope=row>30</th><td>15.0</td><td>8</td><td>301.0</td><td>335</td><td>3.54</td><td>3.570</td><td>14.60</td><td>0</td><td>1</td><td>5</td><td>8</td><td>Maserati Bora </td></tr>\n",
       "\t<tr><th scope=row>31</th><td>21.4</td><td>4</td><td>121.0</td><td>109</td><td>4.11</td><td>2.780</td><td>18.60</td><td>1</td><td>1</td><td>4</td><td>2</td><td>Volvo 142E    </td></tr>\n",
       "\t<tr><th scope=row>32</th><td>21.0</td><td>6</td><td>160.0</td><td>110</td><td>3.90</td><td>2.620</td><td>16.46</td><td>0</td><td>1</td><td>4</td><td>4</td><td>Mazda RX4     </td></tr>\n",
       "</tbody>\n",
       "</table>\n"
      ],
      "text/latex": [
       "A data.frame: 6 × 12\n",
       "\\begin{tabular}{r|llllllllllll}\n",
       "  & mpg & cyl & disp & hp & drat & wt & qsec & vs & am & gear & carb & car\\_names\\\\\n",
       "  & <dbl> & <dbl> & <dbl> & <dbl> & <dbl> & <dbl> & <dbl> & <dbl> & <dbl> & <dbl> & <dbl> & <chr>\\\\\n",
       "\\hline\n",
       "\t27 & 30.4 & 4 &  95.1 & 113 & 3.77 & 1.513 & 16.90 & 1 & 1 & 5 & 2 & Lotus Europa  \\\\\n",
       "\t28 & 15.8 & 8 & 351.0 & 264 & 4.22 & 3.170 & 14.50 & 0 & 1 & 5 & 4 & Ford Pantera L\\\\\n",
       "\t29 & 19.7 & 6 & 145.0 & 175 & 3.62 & 2.770 & 15.50 & 0 & 1 & 5 & 6 & Ferrari Dino  \\\\\n",
       "\t30 & 15.0 & 8 & 301.0 & 335 & 3.54 & 3.570 & 14.60 & 0 & 1 & 5 & 8 & Maserati Bora \\\\\n",
       "\t31 & 21.4 & 4 & 121.0 & 109 & 4.11 & 2.780 & 18.60 & 1 & 1 & 4 & 2 & Volvo 142E    \\\\\n",
       "\t32 & 21.0 & 6 & 160.0 & 110 & 3.90 & 2.620 & 16.46 & 0 & 1 & 4 & 4 & Mazda RX4     \\\\\n",
       "\\end{tabular}\n"
      ],
      "text/markdown": [
       "\n",
       "A data.frame: 6 × 12\n",
       "\n",
       "| <!--/--> | mpg &lt;dbl&gt; | cyl &lt;dbl&gt; | disp &lt;dbl&gt; | hp &lt;dbl&gt; | drat &lt;dbl&gt; | wt &lt;dbl&gt; | qsec &lt;dbl&gt; | vs &lt;dbl&gt; | am &lt;dbl&gt; | gear &lt;dbl&gt; | carb &lt;dbl&gt; | car_names &lt;chr&gt; |\n",
       "|---|---|---|---|---|---|---|---|---|---|---|---|---|\n",
       "| 27 | 30.4 | 4 |  95.1 | 113 | 3.77 | 1.513 | 16.90 | 1 | 1 | 5 | 2 | Lotus Europa   |\n",
       "| 28 | 15.8 | 8 | 351.0 | 264 | 4.22 | 3.170 | 14.50 | 0 | 1 | 5 | 4 | Ford Pantera L |\n",
       "| 29 | 19.7 | 6 | 145.0 | 175 | 3.62 | 2.770 | 15.50 | 0 | 1 | 5 | 6 | Ferrari Dino   |\n",
       "| 30 | 15.0 | 8 | 301.0 | 335 | 3.54 | 3.570 | 14.60 | 0 | 1 | 5 | 8 | Maserati Bora  |\n",
       "| 31 | 21.4 | 4 | 121.0 | 109 | 4.11 | 2.780 | 18.60 | 1 | 1 | 4 | 2 | Volvo 142E     |\n",
       "| 32 | 21.0 | 6 | 160.0 | 110 | 3.90 | 2.620 | 16.46 | 0 | 1 | 4 | 4 | Mazda RX4      |\n",
       "\n"
      ],
      "text/plain": [
       "   mpg  cyl disp  hp  drat wt    qsec  vs am gear carb car_names     \n",
       "27 30.4 4    95.1 113 3.77 1.513 16.90 1  1  5    2    Lotus Europa  \n",
       "28 15.8 8   351.0 264 4.22 3.170 14.50 0  1  5    4    Ford Pantera L\n",
       "29 19.7 6   145.0 175 3.62 2.770 15.50 0  1  5    6    Ferrari Dino  \n",
       "30 15.0 8   301.0 335 3.54 3.570 14.60 0  1  5    8    Maserati Bora \n",
       "31 21.4 4   121.0 109 4.11 2.780 18.60 1  1  4    2    Volvo 142E    \n",
       "32 21.0 6   160.0 110 3.90 2.620 16.46 0  1  4    4    Mazda RX4     "
      ]
     },
     "metadata": {},
     "output_type": "display_data"
    }
   ],
   "source": [
    "tail(dbGetQuery(conn, \"SELECT * FROM cars_data\"))  ## Mazda RX4가 사라짐"
   ]
  },
  {
   "cell_type": "markdown",
   "id": "afc7aa68-8d12-436b-81a3-88597f070c5d",
   "metadata": {},
   "source": [
    "> 맨 마지막에 추가됨"
   ]
  },
  {
   "cell_type": "markdown",
   "id": "98e8e9dc-aaa6-462a-b7a2-cdaffbdc2da0",
   "metadata": {},
   "source": [
    "`-` 테이블 생성 및 조작"
   ]
  },
  {
   "cell_type": "code",
   "execution_count": 56,
   "id": "298fafb8-604b-497f-8f46-4f59b07fb914",
   "metadata": {},
   "outputs": [
    {
     "data": {
      "text/plain": [
       "<SQLiteResult>\n",
       "  SQL  CREATE TABLE iris_db (Sepal_Length REAL,\n",
       "Sepal_Width REAL, Petal_Length REAL, Petal_Width REAL, Species TEXT)\n",
       "  ROWS Fetched: 0 [complete]\n",
       "       Changed: 0"
      ]
     },
     "metadata": {},
     "output_type": "display_data"
    }
   ],
   "source": [
    "conn = dbConnect(SQLite(), \".temp.db\")\n",
    "\n",
    "dbSendQuery(conn, \"CREATE TABLE iris_db (Sepal_Length REAL,\\\n",
    "Sepal_Width REAL, Petal_Length REAL, Petal_Width REAL, Species TEXT)\")"
   ]
  },
  {
   "cell_type": "markdown",
   "id": "f9cf392c-9bc0-4521-b2a2-aac992af3a8e",
   "metadata": {},
   "source": [
    "> 튜플이 하나도 없어도, 스키마 정보가 있기 때문에 테이블로 저장됨. 직접 스키마를 지정해주고 싶기 때문에 먼저 스키마를 설정하고 그 다음에 데이터를 밀어넣는 것이 좋다."
   ]
  },
  {
   "cell_type": "code",
   "execution_count": 57,
   "id": "8b7d5954-d434-4a58-ab4b-068decf6b8d2",
   "metadata": {},
   "outputs": [],
   "source": [
    "library(MASS)\n",
    "data(iris)"
   ]
  },
  {
   "cell_type": "code",
   "execution_count": 58,
   "id": "36de76b3-b0e2-48eb-95aa-06ac0d7a7502",
   "metadata": {},
   "outputs": [
    {
     "name": "stderr",
     "output_type": "stream",
     "text": [
      "Warning message:\n",
      "“Closing open result set, pending rows”\n"
     ]
    }
   ],
   "source": [
    "colnames(iris) = c(\"Sepal_Length\", \"Sepal_Width\", \"Petal_Length\", \"Petal_Width\", \"Species\")\n",
    "dbWriteTable(conn, \"iris_db\", iris, append = TRUE, rownames = FALSE)  ## 테이블 이름에 맞춰 집어넣음."
   ]
  },
  {
   "cell_type": "code",
   "execution_count": 60,
   "id": "79793c99-0fc7-49c5-b30d-b975d23cd9af",
   "metadata": {},
   "outputs": [
    {
     "data": {
      "text/html": [
       "<table class=\"dataframe\">\n",
       "<caption>A data.frame: 6 × 5</caption>\n",
       "<thead>\n",
       "\t<tr><th></th><th scope=col>Sepal_Length</th><th scope=col>Sepal_Width</th><th scope=col>Petal_Length</th><th scope=col>Petal_Width</th><th scope=col>Species</th></tr>\n",
       "\t<tr><th></th><th scope=col>&lt;dbl&gt;</th><th scope=col>&lt;dbl&gt;</th><th scope=col>&lt;dbl&gt;</th><th scope=col>&lt;dbl&gt;</th><th scope=col>&lt;chr&gt;</th></tr>\n",
       "</thead>\n",
       "<tbody>\n",
       "\t<tr><th scope=row>1</th><td>5.1</td><td>3.5</td><td>1.4</td><td>0.2</td><td>setosa</td></tr>\n",
       "\t<tr><th scope=row>2</th><td>4.9</td><td>3.0</td><td>1.4</td><td>0.2</td><td>setosa</td></tr>\n",
       "\t<tr><th scope=row>3</th><td>4.7</td><td>3.2</td><td>1.3</td><td>0.2</td><td>setosa</td></tr>\n",
       "\t<tr><th scope=row>4</th><td>4.6</td><td>3.1</td><td>1.5</td><td>0.2</td><td>setosa</td></tr>\n",
       "\t<tr><th scope=row>5</th><td>5.0</td><td>3.6</td><td>1.4</td><td>0.2</td><td>setosa</td></tr>\n",
       "\t<tr><th scope=row>6</th><td>5.4</td><td>3.9</td><td>1.7</td><td>0.4</td><td>setosa</td></tr>\n",
       "</tbody>\n",
       "</table>\n"
      ],
      "text/latex": [
       "A data.frame: 6 × 5\n",
       "\\begin{tabular}{r|lllll}\n",
       "  & Sepal\\_Length & Sepal\\_Width & Petal\\_Length & Petal\\_Width & Species\\\\\n",
       "  & <dbl> & <dbl> & <dbl> & <dbl> & <chr>\\\\\n",
       "\\hline\n",
       "\t1 & 5.1 & 3.5 & 1.4 & 0.2 & setosa\\\\\n",
       "\t2 & 4.9 & 3.0 & 1.4 & 0.2 & setosa\\\\\n",
       "\t3 & 4.7 & 3.2 & 1.3 & 0.2 & setosa\\\\\n",
       "\t4 & 4.6 & 3.1 & 1.5 & 0.2 & setosa\\\\\n",
       "\t5 & 5.0 & 3.6 & 1.4 & 0.2 & setosa\\\\\n",
       "\t6 & 5.4 & 3.9 & 1.7 & 0.4 & setosa\\\\\n",
       "\\end{tabular}\n"
      ],
      "text/markdown": [
       "\n",
       "A data.frame: 6 × 5\n",
       "\n",
       "| <!--/--> | Sepal_Length &lt;dbl&gt; | Sepal_Width &lt;dbl&gt; | Petal_Length &lt;dbl&gt; | Petal_Width &lt;dbl&gt; | Species &lt;chr&gt; |\n",
       "|---|---|---|---|---|---|\n",
       "| 1 | 5.1 | 3.5 | 1.4 | 0.2 | setosa |\n",
       "| 2 | 4.9 | 3.0 | 1.4 | 0.2 | setosa |\n",
       "| 3 | 4.7 | 3.2 | 1.3 | 0.2 | setosa |\n",
       "| 4 | 4.6 | 3.1 | 1.5 | 0.2 | setosa |\n",
       "| 5 | 5.0 | 3.6 | 1.4 | 0.2 | setosa |\n",
       "| 6 | 5.4 | 3.9 | 1.7 | 0.4 | setosa |\n",
       "\n"
      ],
      "text/plain": [
       "  Sepal_Length Sepal_Width Petal_Length Petal_Width Species\n",
       "1 5.1          3.5         1.4          0.2         setosa \n",
       "2 4.9          3.0         1.4          0.2         setosa \n",
       "3 4.7          3.2         1.3          0.2         setosa \n",
       "4 4.6          3.1         1.5          0.2         setosa \n",
       "5 5.0          3.6         1.4          0.2         setosa \n",
       "6 5.4          3.9         1.7          0.4         setosa "
      ]
     },
     "metadata": {},
     "output_type": "display_data"
    }
   ],
   "source": [
    "head(dbGetQuery(conn, \"SELECT * FROM iris_db\"))"
   ]
  },
  {
   "cell_type": "markdown",
   "id": "50ebecdd-99f7-4de3-8962-092c30978c3b",
   "metadata": {},
   "source": [
    "데이터프레임 `iris`를 테이블 이름에 맞춰서 삽입(colnames를 스키마와 일치시켜야 들어감.)"
   ]
  },
  {
   "cell_type": "markdown",
   "id": "05e0c7f1-2f5a-4879-a234-cc44204a145b",
   "metadata": {},
   "source": [
    "`-` 자료를 직접 삽입(이럴 일은 별로 없을듯.)"
   ]
  },
  {
   "cell_type": "code",
   "execution_count": 62,
   "id": "2c95d1e2-b278-4d70-ae61-2778f8a17edc",
   "metadata": {},
   "outputs": [
    {
     "data": {
      "text/plain": [
       "<SQLiteResult>\n",
       "  SQL  CREATE TABLE iris_db (Sepal_Length REAL,\n",
       "Sepal_Width REAL, Petal_Length REAL, Petal_Width REAL, Species TEXT)\n",
       "  ROWS Fetched: 0 [complete]\n",
       "       Changed: 0"
      ]
     },
     "metadata": {},
     "output_type": "display_data"
    },
    {
     "name": "stderr",
     "output_type": "stream",
     "text": [
      "Warning message:\n",
      "“Closing open result set, pending rows”\n"
     ]
    },
    {
     "data": {
      "text/plain": [
       "<SQLiteResult>\n",
       "  SQL  INSERT INTO iris_db \n",
       "(Sepal_Length, Sepal_Width, Petal_Length, Petal_Width, Species) \n",
       "VALUES (5.1, 3.5, 1.4, 0.2, 'setosa'), \n",
       "(5.1, 3.3, 1.5, 0.2, 'setosa')\n",
       "  ROWS Fetched: 0 [complete]\n",
       "       Changed: 2"
      ]
     },
     "metadata": {},
     "output_type": "display_data"
    },
    {
     "name": "stderr",
     "output_type": "stream",
     "text": [
      "Warning message:\n",
      "“Closing open result set, pending rows”\n"
     ]
    },
    {
     "data": {
      "text/html": [
       "<table class=\"dataframe\">\n",
       "<caption>A data.frame: 2 × 5</caption>\n",
       "<thead>\n",
       "\t<tr><th scope=col>Sepal_Length</th><th scope=col>Sepal_Width</th><th scope=col>Petal_Length</th><th scope=col>Petal_Width</th><th scope=col>Species</th></tr>\n",
       "\t<tr><th scope=col>&lt;dbl&gt;</th><th scope=col>&lt;dbl&gt;</th><th scope=col>&lt;dbl&gt;</th><th scope=col>&lt;dbl&gt;</th><th scope=col>&lt;chr&gt;</th></tr>\n",
       "</thead>\n",
       "<tbody>\n",
       "\t<tr><td>5.1</td><td>3.5</td><td>1.4</td><td>0.2</td><td>setosa</td></tr>\n",
       "\t<tr><td>5.1</td><td>3.3</td><td>1.5</td><td>0.2</td><td>setosa</td></tr>\n",
       "</tbody>\n",
       "</table>\n"
      ],
      "text/latex": [
       "A data.frame: 2 × 5\n",
       "\\begin{tabular}{lllll}\n",
       " Sepal\\_Length & Sepal\\_Width & Petal\\_Length & Petal\\_Width & Species\\\\\n",
       " <dbl> & <dbl> & <dbl> & <dbl> & <chr>\\\\\n",
       "\\hline\n",
       "\t 5.1 & 3.5 & 1.4 & 0.2 & setosa\\\\\n",
       "\t 5.1 & 3.3 & 1.5 & 0.2 & setosa\\\\\n",
       "\\end{tabular}\n"
      ],
      "text/markdown": [
       "\n",
       "A data.frame: 2 × 5\n",
       "\n",
       "| Sepal_Length &lt;dbl&gt; | Sepal_Width &lt;dbl&gt; | Petal_Length &lt;dbl&gt; | Petal_Width &lt;dbl&gt; | Species &lt;chr&gt; |\n",
       "|---|---|---|---|---|\n",
       "| 5.1 | 3.5 | 1.4 | 0.2 | setosa |\n",
       "| 5.1 | 3.3 | 1.5 | 0.2 | setosa |\n",
       "\n"
      ],
      "text/plain": [
       "  Sepal_Length Sepal_Width Petal_Length Petal_Width Species\n",
       "1 5.1          3.5         1.4          0.2         setosa \n",
       "2 5.1          3.3         1.5          0.2         setosa "
      ]
     },
     "metadata": {},
     "output_type": "display_data"
    }
   ],
   "source": [
    "dbRemoveTable(conn, \"iris_db\")\n",
    "dbSendQuery(conn, \"CREATE TABLE iris_db (Sepal_Length REAL,\\\n",
    "Sepal_Width REAL, Petal_Length REAL, Petal_Width REAL, Species TEXT)\")\n",
    "\n",
    "dbSendQuery(conn, \"INSERT INTO iris_db \\\n",
    "(Sepal_Length, Sepal_Width, Petal_Length, Petal_Width, Species) \\\n",
    "VALUES (5.1, 3.5, 1.4, 0.2, 'setosa'), \\\n",
    "(5.1, 3.3, 1.5, 0.2, 'setosa')\")\n",
    "dbGetQuery(conn, \"SELECT * FROM iris_db\")"
   ]
  },
  {
   "cell_type": "code",
   "execution_count": 63,
   "id": "b911bdab-97b7-4cbc-b87f-81eda509a63b",
   "metadata": {},
   "outputs": [
    {
     "data": {
      "text/plain": [
       "<SQLiteResult>\n",
       "  SQL  CREATE TABLE iris_db (Sepal_Length REAL,\n",
       "Sepal_Width REAL, Petal_Length REAL, Petal_Width REAL, Species TEXT)\n",
       "  ROWS Fetched: 0 [complete]\n",
       "       Changed: 0"
      ]
     },
     "metadata": {},
     "output_type": "display_data"
    },
    {
     "name": "stderr",
     "output_type": "stream",
     "text": [
      "Warning message:\n",
      "“Closing open result set, pending rows”\n"
     ]
    },
    {
     "data": {
      "text/plain": [
       "<SQLiteResult>\n",
       "  SQL  UPDATE iris_db SET Species = 'ss' WHERE Species = 'setosa'\n",
       "  ROWS Fetched: 0 [complete]\n",
       "       Changed: 50"
      ]
     },
     "metadata": {},
     "output_type": "display_data"
    },
    {
     "name": "stderr",
     "output_type": "stream",
     "text": [
      "Warning message:\n",
      "“Closing open result set, pending rows”\n"
     ]
    },
    {
     "data": {
      "text/html": [
       "<table class=\"dataframe\">\n",
       "<caption>A data.frame: 6 × 5</caption>\n",
       "<thead>\n",
       "\t<tr><th></th><th scope=col>Sepal_Length</th><th scope=col>Sepal_Width</th><th scope=col>Petal_Length</th><th scope=col>Petal_Width</th><th scope=col>Species</th></tr>\n",
       "\t<tr><th></th><th scope=col>&lt;dbl&gt;</th><th scope=col>&lt;dbl&gt;</th><th scope=col>&lt;dbl&gt;</th><th scope=col>&lt;dbl&gt;</th><th scope=col>&lt;chr&gt;</th></tr>\n",
       "</thead>\n",
       "<tbody>\n",
       "\t<tr><th scope=row>1</th><td>5.1</td><td>3.5</td><td>1.4</td><td>0.2</td><td>ss</td></tr>\n",
       "\t<tr><th scope=row>2</th><td>4.9</td><td>3.0</td><td>1.4</td><td>0.2</td><td>ss</td></tr>\n",
       "\t<tr><th scope=row>3</th><td>4.7</td><td>3.2</td><td>1.3</td><td>0.2</td><td>ss</td></tr>\n",
       "\t<tr><th scope=row>4</th><td>4.6</td><td>3.1</td><td>1.5</td><td>0.2</td><td>ss</td></tr>\n",
       "\t<tr><th scope=row>5</th><td>5.0</td><td>3.6</td><td>1.4</td><td>0.2</td><td>ss</td></tr>\n",
       "\t<tr><th scope=row>6</th><td>5.4</td><td>3.9</td><td>1.7</td><td>0.4</td><td>ss</td></tr>\n",
       "</tbody>\n",
       "</table>\n"
      ],
      "text/latex": [
       "A data.frame: 6 × 5\n",
       "\\begin{tabular}{r|lllll}\n",
       "  & Sepal\\_Length & Sepal\\_Width & Petal\\_Length & Petal\\_Width & Species\\\\\n",
       "  & <dbl> & <dbl> & <dbl> & <dbl> & <chr>\\\\\n",
       "\\hline\n",
       "\t1 & 5.1 & 3.5 & 1.4 & 0.2 & ss\\\\\n",
       "\t2 & 4.9 & 3.0 & 1.4 & 0.2 & ss\\\\\n",
       "\t3 & 4.7 & 3.2 & 1.3 & 0.2 & ss\\\\\n",
       "\t4 & 4.6 & 3.1 & 1.5 & 0.2 & ss\\\\\n",
       "\t5 & 5.0 & 3.6 & 1.4 & 0.2 & ss\\\\\n",
       "\t6 & 5.4 & 3.9 & 1.7 & 0.4 & ss\\\\\n",
       "\\end{tabular}\n"
      ],
      "text/markdown": [
       "\n",
       "A data.frame: 6 × 5\n",
       "\n",
       "| <!--/--> | Sepal_Length &lt;dbl&gt; | Sepal_Width &lt;dbl&gt; | Petal_Length &lt;dbl&gt; | Petal_Width &lt;dbl&gt; | Species &lt;chr&gt; |\n",
       "|---|---|---|---|---|---|\n",
       "| 1 | 5.1 | 3.5 | 1.4 | 0.2 | ss |\n",
       "| 2 | 4.9 | 3.0 | 1.4 | 0.2 | ss |\n",
       "| 3 | 4.7 | 3.2 | 1.3 | 0.2 | ss |\n",
       "| 4 | 4.6 | 3.1 | 1.5 | 0.2 | ss |\n",
       "| 5 | 5.0 | 3.6 | 1.4 | 0.2 | ss |\n",
       "| 6 | 5.4 | 3.9 | 1.7 | 0.4 | ss |\n",
       "\n"
      ],
      "text/plain": [
       "  Sepal_Length Sepal_Width Petal_Length Petal_Width Species\n",
       "1 5.1          3.5         1.4          0.2         ss     \n",
       "2 4.9          3.0         1.4          0.2         ss     \n",
       "3 4.7          3.2         1.3          0.2         ss     \n",
       "4 4.6          3.1         1.5          0.2         ss     \n",
       "5 5.0          3.6         1.4          0.2         ss     \n",
       "6 5.4          3.9         1.7          0.4         ss     "
      ]
     },
     "metadata": {},
     "output_type": "display_data"
    }
   ],
   "source": [
    "#-# 테이블 생성\n",
    "dbRemoveTable(conn, \"iris_db\")\n",
    "dbSendQuery(conn, \"CREATE TABLE iris_db (Sepal_Length REAL,\\\n",
    "Sepal_Width REAL, Petal_Length REAL, Petal_Width REAL, Species TEXT)\")\n",
    "colnames(iris) = c(\"Sepal_Length\", \"Sepal_Width\", \"Petal_Length\", \"Petal_Width\", \"Species\")\n",
    "dbWriteTable(conn, \"iris_db\", iris, append = TRUE, rownames = FALSE)  ## 테이블 이름에 맞춰 집어넣음.\n",
    "\n",
    "#-# 수정\n",
    "dbSendQuery(conn, \"UPDATE iris_db SET Species = 'ss' WHERE Species = 'setosa'\")\n",
    "## 수정 : species가 setosa인 경우 그 이름을 ss로 수정\n",
    "dbGetQuery(conn, \"SELECT * FROM iris_db\") |> head()"
   ]
  },
  {
   "cell_type": "markdown",
   "id": "580b9f0e-3a28-4413-b88c-e8a6e514407f",
   "metadata": {},
   "source": [
    "`-` 삭제 : Species가 virginica인 튜플들을 삭제함"
   ]
  },
  {
   "cell_type": "code",
   "execution_count": 65,
   "id": "8472f4e5-64b1-4de6-a4c9-a8a23b786382",
   "metadata": {},
   "outputs": [
    {
     "data": {
      "text/html": [
       "0"
      ],
      "text/latex": [
       "0"
      ],
      "text/markdown": [
       "0"
      ],
      "text/plain": [
       "[1] 0"
      ]
     },
     "metadata": {},
     "output_type": "display_data"
    },
    {
     "data": {
      "text/html": [
       "<style>\n",
       ".list-inline {list-style: none; margin:0; padding: 0}\n",
       ".list-inline>li {display: inline-block}\n",
       ".list-inline>li:not(:last-child)::after {content: \"\\00b7\"; padding: 0 .5ex}\n",
       "</style>\n",
       "<ol class=list-inline><li>'ss'</li><li>'versicolor'</li></ol>\n"
      ],
      "text/latex": [
       "\\begin{enumerate*}\n",
       "\\item 'ss'\n",
       "\\item 'versicolor'\n",
       "\\end{enumerate*}\n"
      ],
      "text/markdown": [
       "1. 'ss'\n",
       "2. 'versicolor'\n",
       "\n",
       "\n"
      ],
      "text/plain": [
       "[1] \"ss\"         \"versicolor\""
      ]
     },
     "metadata": {},
     "output_type": "display_data"
    }
   ],
   "source": [
    "dbExecute(conn, \"DELETE FROM iris_db WHERE Species = 'virginica'\")\n",
    "unique(dbGetQuery(conn, \"SELECT * FROM iris_db\")$Species)"
   ]
  },
  {
   "cell_type": "code",
   "execution_count": null,
   "id": "463fce4f-a332-42b1-bdbf-d0cd34de451a",
   "metadata": {},
   "outputs": [],
   "source": [
    "dbSendQuery(conn, \"UPDATE iris\")"
   ]
  },
  {
   "cell_type": "markdown",
   "id": "7d2a5ef5-024e-41c6-a517-4ba84a57d683",
   "metadata": {},
   "source": [
    "`-` 기본키와 외래키의 사용"
   ]
  },
  {
   "cell_type": "code",
   "execution_count": 37,
   "id": "bd513269-5b85-4e6a-904a-c20262110901",
   "metadata": {},
   "outputs": [
    {
     "data": {
      "text/plain": [
       "<SQLiteResult>\n",
       "  SQL  CREATE TABLE iris_db (Sepal_Length REAL,\n",
       "Sepal_Width REAL, Petal_Length REAL, Petal_Width REAL, Species TEXT PRIMARY KEY)\n",
       "  ROWS Fetched: 0 [complete]\n",
       "       Changed: 0"
      ]
     },
     "metadata": {},
     "output_type": "display_data"
    }
   ],
   "source": [
    "conn = dbConnect(SQLite(), \".temp.db\")\n",
    "\n",
    "dbSendQuery(conn, \"CREATE TABLE iris_db (Sepal_Length REAL,\\\n",
    "Sepal_Width REAL, Petal_Length REAL, Petal_Width REAL, Species TEXT PRIMARY KEY)\")\n",
    "## Species를 기본 키로 지정"
   ]
  },
  {
   "cell_type": "code",
   "execution_count": 39,
   "id": "db1ad371-6082-41c5-90f8-ded5d9197f7d",
   "metadata": {},
   "outputs": [
    {
     "name": "stderr",
     "output_type": "stream",
     "text": [
      "Warning message:\n",
      "“Closing open result set, pending rows”\n"
     ]
    },
    {
     "data": {
      "text/plain": [
       "<SQLiteResult>\n",
       "  SQL  INSERT INTO iris_db \n",
       "(Sepal_Length, Sepal_Width, Petal_Length, Petal_Width, Species) VALUES \n",
       "(5.1, 3.5, 1.4, 0.2, 'setosa')\n",
       "  ROWS Fetched: 0 [complete]\n",
       "       Changed: 1"
      ]
     },
     "metadata": {},
     "output_type": "display_data"
    },
    {
     "name": "stderr",
     "output_type": "stream",
     "text": [
      "Warning message:\n",
      "“Closing open result set, pending rows”\n"
     ]
    },
    {
     "data": {
      "text/html": [
       "<table class=\"dataframe\">\n",
       "<caption>A data.frame: 1 × 5</caption>\n",
       "<thead>\n",
       "\t<tr><th scope=col>Sepal_Length</th><th scope=col>Sepal_Width</th><th scope=col>Petal_Length</th><th scope=col>Petal_Width</th><th scope=col>Species</th></tr>\n",
       "\t<tr><th scope=col>&lt;dbl&gt;</th><th scope=col>&lt;dbl&gt;</th><th scope=col>&lt;dbl&gt;</th><th scope=col>&lt;dbl&gt;</th><th scope=col>&lt;chr&gt;</th></tr>\n",
       "</thead>\n",
       "<tbody>\n",
       "\t<tr><td>5.1</td><td>3.5</td><td>1.4</td><td>0.2</td><td>setosa</td></tr>\n",
       "</tbody>\n",
       "</table>\n"
      ],
      "text/latex": [
       "A data.frame: 1 × 5\n",
       "\\begin{tabular}{lllll}\n",
       " Sepal\\_Length & Sepal\\_Width & Petal\\_Length & Petal\\_Width & Species\\\\\n",
       " <dbl> & <dbl> & <dbl> & <dbl> & <chr>\\\\\n",
       "\\hline\n",
       "\t 5.1 & 3.5 & 1.4 & 0.2 & setosa\\\\\n",
       "\\end{tabular}\n"
      ],
      "text/markdown": [
       "\n",
       "A data.frame: 1 × 5\n",
       "\n",
       "| Sepal_Length &lt;dbl&gt; | Sepal_Width &lt;dbl&gt; | Petal_Length &lt;dbl&gt; | Petal_Width &lt;dbl&gt; | Species &lt;chr&gt; |\n",
       "|---|---|---|---|---|\n",
       "| 5.1 | 3.5 | 1.4 | 0.2 | setosa |\n",
       "\n"
      ],
      "text/plain": [
       "  Sepal_Length Sepal_Width Petal_Length Petal_Width Species\n",
       "1 5.1          3.5         1.4          0.2         setosa "
      ]
     },
     "metadata": {},
     "output_type": "display_data"
    }
   ],
   "source": [
    "dbSendQuery(conn, \"INSERT INTO iris_db \\\n",
    "(Sepal_Length, Sepal_Width, Petal_Length, Petal_Width, Species) VALUES \\\n",
    "(5.1, 3.5, 1.4, 0.2, 'setosa')\")\n",
    "dbGetQuery(conn, \"SELECT * FROM iris_db\")"
   ]
  },
  {
   "cell_type": "code",
   "execution_count": 40,
   "id": "9441374f-41fa-4e06-901b-fdb47c2c4040",
   "metadata": {},
   "outputs": [
    {
     "ename": "ERROR",
     "evalue": "Error: UNIQUE constraint failed: iris_db.Species\n",
     "output_type": "error",
     "traceback": [
      "Error: UNIQUE constraint failed: iris_db.Species\nTraceback:\n",
      "1. dbWriteTable(conn, \"iris_db\", iris, append = TRUE, row.names = FALSE)",
      "2. dbWriteTable(conn, \"iris_db\", iris, append = TRUE, row.names = FALSE)",
      "3. .local(conn, name, value, ...)",
      "4. dbAppendTable(conn = conn, name = name, value = value)",
      "5. dbAppendTable(conn = conn, name = name, value = value)",
      "6. callNextMethod()",
      "7. .nextMethod(conn = conn, name = name, value = value)",
      "8. dbExecute(conn, query, params = unname(as.list(value)))",
      "9. dbExecute(conn, query, params = unname(as.list(value)))",
      "10. dbSendStatement(conn, statement, ...)",
      "11. dbSendStatement(conn, statement, ...)",
      "12. dbSendQuery(conn, statement, ...)",
      "13. dbSendQuery(conn, statement, ...)",
      "14. .local(conn, statement, ...)",
      "15. dbBind(rs, params)",
      "16. dbBind(rs, params)",
      "17. db_bind(res, as.list(params), ..., allow_named_superset = FALSE)",
      "18. result_bind(res@ptr, params)"
     ]
    }
   ],
   "source": [
    "dbWriteTable(conn, \"iris_db\", iris, append=TRUE, \n",
    "row.names=FALSE)"
   ]
  },
  {
   "cell_type": "markdown",
   "id": "fda76bfe-8e82-4843-ae78-96cab0fa867e",
   "metadata": {},
   "source": [
    "> 테이블에 iris 데이터프레임을 집어넣었으나, 기본키 제약을 만족하지 않음."
   ]
  },
  {
   "cell_type": "markdown",
   "id": "716c5ccc-da4c-46fb-b458-2913a0102194",
   "metadata": {},
   "source": [
    "`-` supplier"
   ]
  },
  {
   "cell_type": "code",
   "execution_count": 41,
   "id": "4b6a2c58-a036-4c74-a7f7-712cd058a450",
   "metadata": {},
   "outputs": [
    {
     "data": {
      "text/html": [
       "'iris_db'"
      ],
      "text/latex": [
       "'iris\\_db'"
      ],
      "text/markdown": [
       "'iris_db'"
      ],
      "text/plain": [
       "[1] \"iris_db\""
      ]
     },
     "metadata": {},
     "output_type": "display_data"
    }
   ],
   "source": [
    "dbListTables(conn)"
   ]
  },
  {
   "cell_type": "code",
   "execution_count": 42,
   "id": "4adb1d17-90df-40b9-9b15-66dd42abe3db",
   "metadata": {},
   "outputs": [
    {
     "data": {
      "text/html": [
       "0"
      ],
      "text/latex": [
       "0"
      ],
      "text/markdown": [
       "0"
      ],
      "text/plain": [
       "[1] 0"
      ]
     },
     "metadata": {},
     "output_type": "display_data"
    },
    {
     "data": {
      "text/html": [
       "0"
      ],
      "text/latex": [
       "0"
      ],
      "text/markdown": [
       "0"
      ],
      "text/plain": [
       "[1] 0"
      ]
     },
     "metadata": {},
     "output_type": "display_data"
    }
   ],
   "source": [
    "dbExecute(conn, \"PRAGMA foreign_keys = ON\")  ## 외래키 사용 활성화\n",
    "dbExecute(conn, \"CREATE TABLE suppliers \\\n",
    "(supplier_id INTEGER PRIMARY KEY, supplier_name TEXT, group_id INTEGER)\")"
   ]
  },
  {
   "cell_type": "code",
   "execution_count": 48,
   "id": "f68a2558-c565-4e33-b066-a1f4ae0262f6",
   "metadata": {},
   "outputs": [
    {
     "data": {
      "text/html": [
       "0"
      ],
      "text/latex": [
       "0"
      ],
      "text/markdown": [
       "0"
      ],
      "text/plain": [
       "[1] 0"
      ]
     },
     "metadata": {},
     "output_type": "display_data"
    }
   ],
   "source": [
    "dbExecute(conn, \"CREATE TABLE supplier_groups \\\n",
    "(group_id integer PRIMARY KEY, group_name text NOT NULL)\")\n",
    "## 기본키를 group_id로 가지는 공급자 집단 테이블"
   ]
  },
  {
   "cell_type": "code",
   "execution_count": 46,
   "id": "990bdca8-80ca-4793-99dd-2a2431840845",
   "metadata": {},
   "outputs": [
    {
     "ename": "ERROR",
     "evalue": "Error: no such table: suppliers\n",
     "output_type": "error",
     "traceback": [
      "Error: no such table: suppliers\nTraceback:\n",
      "1. dbRemoveTable(conn, \"suppliers\")",
      "2. dbRemoveTable(conn, \"suppliers\")",
      "3. .local(conn, name, ...)",
      "4. dbExecute(conn, paste0(\"DROP TABLE \", extra, name))",
      "5. dbExecute(conn, paste0(\"DROP TABLE \", extra, name))",
      "6. dbSendStatement(conn, statement, ...)",
      "7. dbSendStatement(conn, statement, ...)",
      "8. dbSendQuery(conn, statement, ...)",
      "9. dbSendQuery(conn, statement, ...)",
      "10. .local(conn, statement, ...)",
      "11. new(\"SQLiteResult\", sql = statement, ptr = result_create(conn@ptr, \n  .     statement), conn = conn, bigint = conn@bigint)",
      "12. initialize(value, ...)",
      "13. initialize(value, ...)",
      "14. result_create(conn@ptr, statement)"
     ]
    }
   ],
   "source": [
    "dbRemoveTable(conn, \"suppliers\")\n",
    "dbExecute(conn, \"CREATE TABLE suppliers \\\n",
    "(supplier_id INTEGER PRIMARY KEY, supplier_name TEXT NOT NULL, group_id INTEGER,\\\n",
    "FOREIGN KEY (group_id) REFERENCES supplier_groups (group_id) ON UPDATE SET NULL ON DELETE SET NULL)\")\n",
    "## 기본키가 변하면 NULL로 처리"
   ]
  },
  {
   "cell_type": "code",
   "execution_count": 50,
   "id": "ad714337-eec0-4f4f-ab08-c1ae70fc4ca0",
   "metadata": {},
   "outputs": [
    {
     "data": {
      "text/html": [
       "0"
      ],
      "text/latex": [
       "0"
      ],
      "text/markdown": [
       "0"
      ],
      "text/plain": [
       "[1] 0"
      ]
     },
     "metadata": {},
     "output_type": "display_data"
    }
   ],
   "source": [
    "dbRemoveTable(conn, \"suppliers\")\n",
    "dbExecute(conn, \"CREATE TABLE suppliers \\\n",
    "(supplier_id INTEGER PRIMARY KEY, supplier_name TEXT NOT NULL, group_id INTEGER,\\\n",
    "FOREIGN KEY (group_id) REFERENCES supplier_groups (group_id)\\\n",
    "ON UPDATE CASCADE ON DELETE CASCADE)\")  ## 기본키 변화를 외래키가 그대로 반영하는 것."
   ]
  },
  {
   "cell_type": "code",
   "execution_count": null,
   "id": "144bb81d-3572-4a06-b0ca-0302ede0713d",
   "metadata": {},
   "outputs": [],
   "source": [
    "dbSendQuery(conn, \"INSERT INTO supplier_groups (group_name) VALUES ('Domestic'), ('Global'), ('One-Time')\")\n",
    "dbExecute(conn, \"INSERT INTO suppliers\")"
   ]
  },
  {
   "cell_type": "code",
   "execution_count": null,
   "id": "3bcf43a1-6d52-4d9f-9bab-6aface9d790e",
   "metadata": {},
   "outputs": [],
   "source": [
    "dbExecute(conn, \"CREATE TABLE supplier_groups \\\n",
    "(group_id INTEGER PRIMARY KEY CHECK(group_id <= 100), \\\n",
    "group_name TEXT NOT NULL, \\\n",
    "data_time DEFAULT CURRENT_TIMESTAMP, \\\n",
    "id INTEGER DEFAULT 0, \\\n",
    "iden INTEGER UNIQUE)\")\n",
    "\n",
    "## CHECK 구문을 이용하여 제약조건을 설정\n",
    "## DEFAULT 설정은 수치형만 가능\n",
    "## CURRENT_TIMESTAMP는 현재 시각, UNIQUE는 중복을 불허하는 제약조건"
   ]
  },
  {
   "cell_type": "markdown",
   "id": "40643116-8f7e-4d5d-90f0-193c7c826fe7",
   "metadata": {},
   "source": [
    "### practice"
   ]
  },
  {
   "cell_type": "code",
   "execution_count": 85,
   "id": "e7f58d89-9622-4b9f-b3b4-2d2fcd155b94",
   "metadata": {},
   "outputs": [],
   "source": [
    "library(DBI)\n",
    "library(RSQLite)"
   ]
  },
  {
   "cell_type": "code",
   "execution_count": 92,
   "id": "5a88c25f-02e8-4830-8b55-c976e5350429",
   "metadata": {},
   "outputs": [
    {
     "data": {
      "text/html": [
       "<table class=\"dataframe\">\n",
       "<caption>A data.frame: 6 × 12</caption>\n",
       "<thead>\n",
       "\t<tr><th></th><th scope=col>mpg</th><th scope=col>cyl</th><th scope=col>disp</th><th scope=col>hp</th><th scope=col>drat</th><th scope=col>wt</th><th scope=col>qsec</th><th scope=col>vs</th><th scope=col>am</th><th scope=col>gear</th><th scope=col>carb</th><th scope=col>car_names</th></tr>\n",
       "\t<tr><th></th><th scope=col>&lt;dbl&gt;</th><th scope=col>&lt;dbl&gt;</th><th scope=col>&lt;dbl&gt;</th><th scope=col>&lt;dbl&gt;</th><th scope=col>&lt;dbl&gt;</th><th scope=col>&lt;dbl&gt;</th><th scope=col>&lt;dbl&gt;</th><th scope=col>&lt;dbl&gt;</th><th scope=col>&lt;dbl&gt;</th><th scope=col>&lt;dbl&gt;</th><th scope=col>&lt;dbl&gt;</th><th scope=col>&lt;chr&gt;</th></tr>\n",
       "</thead>\n",
       "<tbody>\n",
       "\t<tr><th scope=row>1</th><td>21.0</td><td>6</td><td>160</td><td>110</td><td>3.90</td><td>2.620</td><td>16.46</td><td>0</td><td>1</td><td>4</td><td>4</td><td>Mazda RX4        </td></tr>\n",
       "\t<tr><th scope=row>2</th><td>21.0</td><td>6</td><td>160</td><td>110</td><td>3.90</td><td>2.875</td><td>17.02</td><td>0</td><td>1</td><td>4</td><td>4</td><td>Mazda RX4 Wag    </td></tr>\n",
       "\t<tr><th scope=row>3</th><td>22.8</td><td>4</td><td>108</td><td> 93</td><td>3.85</td><td>2.320</td><td>18.61</td><td>1</td><td>1</td><td>4</td><td>1</td><td>Datsun 710       </td></tr>\n",
       "\t<tr><th scope=row>4</th><td>21.4</td><td>6</td><td>258</td><td>110</td><td>3.08</td><td>3.215</td><td>19.44</td><td>1</td><td>0</td><td>3</td><td>1</td><td>Hornet 4 Drive   </td></tr>\n",
       "\t<tr><th scope=row>5</th><td>18.7</td><td>8</td><td>360</td><td>175</td><td>3.15</td><td>3.440</td><td>17.02</td><td>0</td><td>0</td><td>3</td><td>2</td><td>Hornet Sportabout</td></tr>\n",
       "\t<tr><th scope=row>6</th><td>18.1</td><td>6</td><td>225</td><td>105</td><td>2.76</td><td>3.460</td><td>20.22</td><td>1</td><td>0</td><td>3</td><td>1</td><td>Valiant          </td></tr>\n",
       "</tbody>\n",
       "</table>\n"
      ],
      "text/latex": [
       "A data.frame: 6 × 12\n",
       "\\begin{tabular}{r|llllllllllll}\n",
       "  & mpg & cyl & disp & hp & drat & wt & qsec & vs & am & gear & carb & car\\_names\\\\\n",
       "  & <dbl> & <dbl> & <dbl> & <dbl> & <dbl> & <dbl> & <dbl> & <dbl> & <dbl> & <dbl> & <dbl> & <chr>\\\\\n",
       "\\hline\n",
       "\t1 & 21.0 & 6 & 160 & 110 & 3.90 & 2.620 & 16.46 & 0 & 1 & 4 & 4 & Mazda RX4        \\\\\n",
       "\t2 & 21.0 & 6 & 160 & 110 & 3.90 & 2.875 & 17.02 & 0 & 1 & 4 & 4 & Mazda RX4 Wag    \\\\\n",
       "\t3 & 22.8 & 4 & 108 &  93 & 3.85 & 2.320 & 18.61 & 1 & 1 & 4 & 1 & Datsun 710       \\\\\n",
       "\t4 & 21.4 & 6 & 258 & 110 & 3.08 & 3.215 & 19.44 & 1 & 0 & 3 & 1 & Hornet 4 Drive   \\\\\n",
       "\t5 & 18.7 & 8 & 360 & 175 & 3.15 & 3.440 & 17.02 & 0 & 0 & 3 & 2 & Hornet Sportabout\\\\\n",
       "\t6 & 18.1 & 6 & 225 & 105 & 2.76 & 3.460 & 20.22 & 1 & 0 & 3 & 1 & Valiant          \\\\\n",
       "\\end{tabular}\n"
      ],
      "text/markdown": [
       "\n",
       "A data.frame: 6 × 12\n",
       "\n",
       "| <!--/--> | mpg &lt;dbl&gt; | cyl &lt;dbl&gt; | disp &lt;dbl&gt; | hp &lt;dbl&gt; | drat &lt;dbl&gt; | wt &lt;dbl&gt; | qsec &lt;dbl&gt; | vs &lt;dbl&gt; | am &lt;dbl&gt; | gear &lt;dbl&gt; | carb &lt;dbl&gt; | car_names &lt;chr&gt; |\n",
       "|---|---|---|---|---|---|---|---|---|---|---|---|---|\n",
       "| 1 | 21.0 | 6 | 160 | 110 | 3.90 | 2.620 | 16.46 | 0 | 1 | 4 | 4 | Mazda RX4         |\n",
       "| 2 | 21.0 | 6 | 160 | 110 | 3.90 | 2.875 | 17.02 | 0 | 1 | 4 | 4 | Mazda RX4 Wag     |\n",
       "| 3 | 22.8 | 4 | 108 |  93 | 3.85 | 2.320 | 18.61 | 1 | 1 | 4 | 1 | Datsun 710        |\n",
       "| 4 | 21.4 | 6 | 258 | 110 | 3.08 | 3.215 | 19.44 | 1 | 0 | 3 | 1 | Hornet 4 Drive    |\n",
       "| 5 | 18.7 | 8 | 360 | 175 | 3.15 | 3.440 | 17.02 | 0 | 0 | 3 | 2 | Hornet Sportabout |\n",
       "| 6 | 18.1 | 6 | 225 | 105 | 2.76 | 3.460 | 20.22 | 1 | 0 | 3 | 1 | Valiant           |\n",
       "\n"
      ],
      "text/plain": [
       "  mpg  cyl disp hp  drat wt    qsec  vs am gear carb car_names        \n",
       "1 21.0 6   160  110 3.90 2.620 16.46 0  1  4    4    Mazda RX4        \n",
       "2 21.0 6   160  110 3.90 2.875 17.02 0  1  4    4    Mazda RX4 Wag    \n",
       "3 22.8 4   108   93 3.85 2.320 18.61 1  1  4    1    Datsun 710       \n",
       "4 21.4 6   258  110 3.08 3.215 19.44 1  0  3    1    Hornet 4 Drive   \n",
       "5 18.7 8   360  175 3.15 3.440 17.02 0  0  3    2    Hornet Sportabout\n",
       "6 18.1 6   225  105 2.76 3.460 20.22 1  0  3    1    Valiant          "
      ]
     },
     "metadata": {},
     "output_type": "display_data"
    }
   ],
   "source": [
    "data(\"mtcars\")\n",
    "mtcars$car_names = rownames(mtcars) ## 인덱스를 데이터로 따로 받아 새 열로 추가\n",
    "rownames(mtcars) = NULL  ## 인덱스 초기화\n",
    "head(mtcars)"
   ]
  },
  {
   "cell_type": "markdown",
   "id": "6a6f665c-d0cd-4c2e-8b7c-1f6b1f9725b7",
   "metadata": {},
   "source": [
    "`-` Creating Database File : `dbConnect()`"
   ]
  },
  {
   "cell_type": "code",
   "execution_count": 93,
   "id": "c0dff70b-90d9-42fe-b6c2-a69dab6def68",
   "metadata": {},
   "outputs": [],
   "source": [
    "conn = dbConnect(RSQLite::SQLite(), \"CarsDB.db\")  ## create db file"
   ]
  },
  {
   "cell_type": "markdown",
   "id": "40b6db21-ecaf-4709-8e6f-8353edbc3461",
   "metadata": {},
   "source": [
    "`-` Writing table : `dbWriteTable()` 데이터프레임 삽입에 유리(append)"
   ]
  },
  {
   "cell_type": "code",
   "execution_count": 94,
   "id": "4c0ca3b2-8f7b-4b39-8592-7f61f773f3d6",
   "metadata": {},
   "outputs": [
    {
     "data": {
      "text/html": [
       "'cars_data'"
      ],
      "text/latex": [
       "'cars\\_data'"
      ],
      "text/markdown": [
       "'cars_data'"
      ],
      "text/plain": [
       "[1] \"cars_data\""
      ]
     },
     "metadata": {},
     "output_type": "display_data"
    }
   ],
   "source": [
    "dbWriteTable(conn, \"cars_data\", mtcars)  ## Write table(relation)\n",
    "dbListTables(conn)  ## debuging"
   ]
  },
  {
   "cell_type": "code",
   "execution_count": 95,
   "id": "f3f5fbd3-490a-4cd6-9420-c459aa739ed2",
   "metadata": {},
   "outputs": [],
   "source": [
    "car <- c('Camaro', 'California', 'Mustang', 'Explorer')\n",
    "make <- c('Chevrolet','Ferrari','Ford','Ford')\n",
    "df1 <- data.frame(car,make)\n",
    "car <- c('Corolla', 'Lancer', 'Sportage', 'XE')\n",
    "make <- c('Toyota','Mitsubishi','Kia','Jaguar')\n",
    "df2 <- data.frame(car,make)"
   ]
  },
  {
   "cell_type": "code",
   "execution_count": 96,
   "id": "f8134f0e-611b-4010-8ecc-55db4f435ea3",
   "metadata": {},
   "outputs": [
    {
     "data": {
      "text/html": [
       "<style>\n",
       ".list-inline {list-style: none; margin:0; padding: 0}\n",
       ".list-inline>li {display: inline-block}\n",
       ".list-inline>li:not(:last-child)::after {content: \"\\00b7\"; padding: 0 .5ex}\n",
       "</style>\n",
       "<ol class=list-inline><li>'Cars_and_Makes'</li><li>'cars_data'</li></ol>\n"
      ],
      "text/latex": [
       "\\begin{enumerate*}\n",
       "\\item 'Cars\\_and\\_Makes'\n",
       "\\item 'cars\\_data'\n",
       "\\end{enumerate*}\n"
      ],
      "text/markdown": [
       "1. 'Cars_and_Makes'\n",
       "2. 'cars_data'\n",
       "\n",
       "\n"
      ],
      "text/plain": [
       "[1] \"Cars_and_Makes\" \"cars_data\"     "
      ]
     },
     "metadata": {},
     "output_type": "display_data"
    }
   ],
   "source": [
    "dfList = list(df1, df2)\n",
    "\n",
    "for (i in 1:length(dfList)) {\n",
    "    dbWriteTable(conn, \"Cars_and_Makes\", dfList[[i]], append = TRUE)  ## write new table\n",
    "}\n",
    "\n",
    "dbListTables(conn)"
   ]
  },
  {
   "cell_type": "markdown",
   "id": "f87b0fb5-c6b2-4fb8-8fb5-2c9d2a031ac5",
   "metadata": {},
   "source": [
    "* arguments\n",
    "\n",
    "> append = TRUE : 기존 테이블에 추가\n",
    ">\n",
    "> 작성 후 반드시 dbDisconnect()를 하라고 경고가 발생"
   ]
  },
  {
   "cell_type": "markdown",
   "id": "f017dc43-f9ef-4ccb-b736-42bf877a100f",
   "metadata": {},
   "source": [
    "`-` Query : `dbGetQuery()` 결과물만 반환할 수 있음."
   ]
  },
  {
   "cell_type": "code",
   "execution_count": 98,
   "id": "4fdcc69a-b4df-4615-807e-0314ed36867c",
   "metadata": {},
   "outputs": [
    {
     "data": {
      "text/html": [
       "<table class=\"dataframe\">\n",
       "<caption>A data.frame: 32 × 3</caption>\n",
       "<thead>\n",
       "\t<tr><th scope=col>car_names</th><th scope=col>hp</th><th scope=col>cyl</th></tr>\n",
       "\t<tr><th scope=col>&lt;chr&gt;</th><th scope=col>&lt;dbl&gt;</th><th scope=col>&lt;dbl&gt;</th></tr>\n",
       "</thead>\n",
       "<tbody>\n",
       "\t<tr><td>Mazda RX4          </td><td>110</td><td>6</td></tr>\n",
       "\t<tr><td>Mazda RX4 Wag      </td><td>110</td><td>6</td></tr>\n",
       "\t<tr><td>Datsun 710         </td><td> 93</td><td>4</td></tr>\n",
       "\t<tr><td>Hornet 4 Drive     </td><td>110</td><td>6</td></tr>\n",
       "\t<tr><td>Hornet Sportabout  </td><td>175</td><td>8</td></tr>\n",
       "\t<tr><td>Valiant            </td><td>105</td><td>6</td></tr>\n",
       "\t<tr><td>Duster 360         </td><td>245</td><td>8</td></tr>\n",
       "\t<tr><td>Merc 240D          </td><td> 62</td><td>4</td></tr>\n",
       "\t<tr><td>Merc 230           </td><td> 95</td><td>4</td></tr>\n",
       "\t<tr><td>Merc 280           </td><td>123</td><td>6</td></tr>\n",
       "\t<tr><td>Merc 280C          </td><td>123</td><td>6</td></tr>\n",
       "\t<tr><td>Merc 450SE         </td><td>180</td><td>8</td></tr>\n",
       "\t<tr><td>Merc 450SL         </td><td>180</td><td>8</td></tr>\n",
       "\t<tr><td>Merc 450SLC        </td><td>180</td><td>8</td></tr>\n",
       "\t<tr><td>Cadillac Fleetwood </td><td>205</td><td>8</td></tr>\n",
       "\t<tr><td>Lincoln Continental</td><td>215</td><td>8</td></tr>\n",
       "\t<tr><td>Chrysler Imperial  </td><td>230</td><td>8</td></tr>\n",
       "\t<tr><td>Fiat 128           </td><td> 66</td><td>4</td></tr>\n",
       "\t<tr><td>Honda Civic        </td><td> 52</td><td>4</td></tr>\n",
       "\t<tr><td>Toyota Corolla     </td><td> 65</td><td>4</td></tr>\n",
       "\t<tr><td>Toyota Corona      </td><td> 97</td><td>4</td></tr>\n",
       "\t<tr><td>Dodge Challenger   </td><td>150</td><td>8</td></tr>\n",
       "\t<tr><td>AMC Javelin        </td><td>150</td><td>8</td></tr>\n",
       "\t<tr><td>Camaro Z28         </td><td>245</td><td>8</td></tr>\n",
       "\t<tr><td>Pontiac Firebird   </td><td>175</td><td>8</td></tr>\n",
       "\t<tr><td>Fiat X1-9          </td><td> 66</td><td>4</td></tr>\n",
       "\t<tr><td>Porsche 914-2      </td><td> 91</td><td>4</td></tr>\n",
       "\t<tr><td>Lotus Europa       </td><td>113</td><td>4</td></tr>\n",
       "\t<tr><td>Ford Pantera L     </td><td>264</td><td>8</td></tr>\n",
       "\t<tr><td>Ferrari Dino       </td><td>175</td><td>6</td></tr>\n",
       "\t<tr><td>Maserati Bora      </td><td>335</td><td>8</td></tr>\n",
       "\t<tr><td>Volvo 142E         </td><td>109</td><td>4</td></tr>\n",
       "</tbody>\n",
       "</table>\n"
      ],
      "text/latex": [
       "A data.frame: 32 × 3\n",
       "\\begin{tabular}{lll}\n",
       " car\\_names & hp & cyl\\\\\n",
       " <chr> & <dbl> & <dbl>\\\\\n",
       "\\hline\n",
       "\t Mazda RX4           & 110 & 6\\\\\n",
       "\t Mazda RX4 Wag       & 110 & 6\\\\\n",
       "\t Datsun 710          &  93 & 4\\\\\n",
       "\t Hornet 4 Drive      & 110 & 6\\\\\n",
       "\t Hornet Sportabout   & 175 & 8\\\\\n",
       "\t Valiant             & 105 & 6\\\\\n",
       "\t Duster 360          & 245 & 8\\\\\n",
       "\t Merc 240D           &  62 & 4\\\\\n",
       "\t Merc 230            &  95 & 4\\\\\n",
       "\t Merc 280            & 123 & 6\\\\\n",
       "\t Merc 280C           & 123 & 6\\\\\n",
       "\t Merc 450SE          & 180 & 8\\\\\n",
       "\t Merc 450SL          & 180 & 8\\\\\n",
       "\t Merc 450SLC         & 180 & 8\\\\\n",
       "\t Cadillac Fleetwood  & 205 & 8\\\\\n",
       "\t Lincoln Continental & 215 & 8\\\\\n",
       "\t Chrysler Imperial   & 230 & 8\\\\\n",
       "\t Fiat 128            &  66 & 4\\\\\n",
       "\t Honda Civic         &  52 & 4\\\\\n",
       "\t Toyota Corolla      &  65 & 4\\\\\n",
       "\t Toyota Corona       &  97 & 4\\\\\n",
       "\t Dodge Challenger    & 150 & 8\\\\\n",
       "\t AMC Javelin         & 150 & 8\\\\\n",
       "\t Camaro Z28          & 245 & 8\\\\\n",
       "\t Pontiac Firebird    & 175 & 8\\\\\n",
       "\t Fiat X1-9           &  66 & 4\\\\\n",
       "\t Porsche 914-2       &  91 & 4\\\\\n",
       "\t Lotus Europa        & 113 & 4\\\\\n",
       "\t Ford Pantera L      & 264 & 8\\\\\n",
       "\t Ferrari Dino        & 175 & 6\\\\\n",
       "\t Maserati Bora       & 335 & 8\\\\\n",
       "\t Volvo 142E          & 109 & 4\\\\\n",
       "\\end{tabular}\n"
      ],
      "text/markdown": [
       "\n",
       "A data.frame: 32 × 3\n",
       "\n",
       "| car_names &lt;chr&gt; | hp &lt;dbl&gt; | cyl &lt;dbl&gt; |\n",
       "|---|---|---|\n",
       "| Mazda RX4           | 110 | 6 |\n",
       "| Mazda RX4 Wag       | 110 | 6 |\n",
       "| Datsun 710          |  93 | 4 |\n",
       "| Hornet 4 Drive      | 110 | 6 |\n",
       "| Hornet Sportabout   | 175 | 8 |\n",
       "| Valiant             | 105 | 6 |\n",
       "| Duster 360          | 245 | 8 |\n",
       "| Merc 240D           |  62 | 4 |\n",
       "| Merc 230            |  95 | 4 |\n",
       "| Merc 280            | 123 | 6 |\n",
       "| Merc 280C           | 123 | 6 |\n",
       "| Merc 450SE          | 180 | 8 |\n",
       "| Merc 450SL          | 180 | 8 |\n",
       "| Merc 450SLC         | 180 | 8 |\n",
       "| Cadillac Fleetwood  | 205 | 8 |\n",
       "| Lincoln Continental | 215 | 8 |\n",
       "| Chrysler Imperial   | 230 | 8 |\n",
       "| Fiat 128            |  66 | 4 |\n",
       "| Honda Civic         |  52 | 4 |\n",
       "| Toyota Corolla      |  65 | 4 |\n",
       "| Toyota Corona       |  97 | 4 |\n",
       "| Dodge Challenger    | 150 | 8 |\n",
       "| AMC Javelin         | 150 | 8 |\n",
       "| Camaro Z28          | 245 | 8 |\n",
       "| Pontiac Firebird    | 175 | 8 |\n",
       "| Fiat X1-9           |  66 | 4 |\n",
       "| Porsche 914-2       |  91 | 4 |\n",
       "| Lotus Europa        | 113 | 4 |\n",
       "| Ford Pantera L      | 264 | 8 |\n",
       "| Ferrari Dino        | 175 | 6 |\n",
       "| Maserati Bora       | 335 | 8 |\n",
       "| Volvo 142E          | 109 | 4 |\n",
       "\n"
      ],
      "text/plain": [
       "   car_names           hp  cyl\n",
       "1  Mazda RX4           110 6  \n",
       "2  Mazda RX4 Wag       110 6  \n",
       "3  Datsun 710           93 4  \n",
       "4  Hornet 4 Drive      110 6  \n",
       "5  Hornet Sportabout   175 8  \n",
       "6  Valiant             105 6  \n",
       "7  Duster 360          245 8  \n",
       "8  Merc 240D            62 4  \n",
       "9  Merc 230             95 4  \n",
       "10 Merc 280            123 6  \n",
       "11 Merc 280C           123 6  \n",
       "12 Merc 450SE          180 8  \n",
       "13 Merc 450SL          180 8  \n",
       "14 Merc 450SLC         180 8  \n",
       "15 Cadillac Fleetwood  205 8  \n",
       "16 Lincoln Continental 215 8  \n",
       "17 Chrysler Imperial   230 8  \n",
       "18 Fiat 128             66 4  \n",
       "19 Honda Civic          52 4  \n",
       "20 Toyota Corolla       65 4  \n",
       "21 Toyota Corona        97 4  \n",
       "22 Dodge Challenger    150 8  \n",
       "23 AMC Javelin         150 8  \n",
       "24 Camaro Z28          245 8  \n",
       "25 Pontiac Firebird    175 8  \n",
       "26 Fiat X1-9            66 4  \n",
       "27 Porsche 914-2        91 4  \n",
       "28 Lotus Europa        113 4  \n",
       "29 Ford Pantera L      264 8  \n",
       "30 Ferrari Dino        175 6  \n",
       "31 Maserati Bora       335 8  \n",
       "32 Volvo 142E          109 4  "
      ]
     },
     "metadata": {},
     "output_type": "display_data"
    }
   ],
   "source": [
    "# dbGetQuery(conn, \"SELECT * FROM Cars_and_Makes\")\n",
    "# dbGetQuery(conn, \"SELECT * FROM cars_data LIMIT 20\")\n",
    "dbGetQuery(conn, \"SELECT car_names, hp, cyl FROM cars_data\")"
   ]
  },
  {
   "cell_type": "markdown",
   "id": "44ed90f5-08e3-4530-b1ae-0bb549a56955",
   "metadata": {},
   "source": [
    "`-` Query : `dbExecute()` 작업만 수행하고 결과물을 반환하지 않음."
   ]
  },
  {
   "cell_type": "code",
   "execution_count": 99,
   "id": "d2ccfe02-806d-4c57-b760-3f6be7aea0c5",
   "metadata": {},
   "outputs": [],
   "source": [
    "conn = dbConnect(SQLite(), \".temp.db\")"
   ]
  },
  {
   "cell_type": "code",
   "execution_count": 100,
   "id": "4eab2e31-2709-4746-9473-2b6e318cab3d",
   "metadata": {},
   "outputs": [
    {
     "data": {
      "text/html": [
       "0"
      ],
      "text/latex": [
       "0"
      ],
      "text/markdown": [
       "0"
      ],
      "text/plain": [
       "[1] 0"
      ]
     },
     "metadata": {},
     "output_type": "display_data"
    }
   ],
   "source": [
    "## creating table with schema\n",
    "dbExecute(conn, \"CREATE TABLE mytable\n",
    "          (a INTEGER PRIMARY KEY, \n",
    "         b TEXT)\")"
   ]
  },
  {
   "cell_type": "code",
   "execution_count": 101,
   "id": "913e9002-01df-4a84-bf72-98b0ac53389d",
   "metadata": {},
   "outputs": [
    {
     "data": {
      "text/html": [
       "3"
      ],
      "text/latex": [
       "3"
      ],
      "text/markdown": [
       "3"
      ],
      "text/plain": [
       "[1] 3"
      ]
     },
     "metadata": {},
     "output_type": "display_data"
    }
   ],
   "source": [
    "dbExecute(conn, \"INSERT INTO mytable VALUES(1, 'test'), (2, 'test'), (6, 'test')\")"
   ]
  },
  {
   "cell_type": "code",
   "execution_count": 103,
   "id": "0a1914c1-ff5b-4a96-a4f4-66d0b7a5f5db",
   "metadata": {},
   "outputs": [
    {
     "data": {
      "text/html": [
       "<table class=\"dataframe\">\n",
       "<caption>A data.frame: 3 × 2</caption>\n",
       "<thead>\n",
       "\t<tr><th scope=col>a</th><th scope=col>b</th></tr>\n",
       "\t<tr><th scope=col>&lt;int&gt;</th><th scope=col>&lt;chr&gt;</th></tr>\n",
       "</thead>\n",
       "<tbody>\n",
       "\t<tr><td>1</td><td>test</td></tr>\n",
       "\t<tr><td>2</td><td>test</td></tr>\n",
       "\t<tr><td>6</td><td>test</td></tr>\n",
       "</tbody>\n",
       "</table>\n"
      ],
      "text/latex": [
       "A data.frame: 3 × 2\n",
       "\\begin{tabular}{ll}\n",
       " a & b\\\\\n",
       " <int> & <chr>\\\\\n",
       "\\hline\n",
       "\t 1 & test\\\\\n",
       "\t 2 & test\\\\\n",
       "\t 6 & test\\\\\n",
       "\\end{tabular}\n"
      ],
      "text/markdown": [
       "\n",
       "A data.frame: 3 × 2\n",
       "\n",
       "| a &lt;int&gt; | b &lt;chr&gt; |\n",
       "|---|---|\n",
       "| 1 | test |\n",
       "| 2 | test |\n",
       "| 6 | test |\n",
       "\n"
      ],
      "text/plain": [
       "  a b   \n",
       "1 1 test\n",
       "2 2 test\n",
       "3 6 test"
      ]
     },
     "metadata": {},
     "output_type": "display_data"
    }
   ],
   "source": [
    "dbGetQuery(conn, \"SELECT * FROM mytable\")"
   ]
  },
  {
   "cell_type": "markdown",
   "id": "8f164813-6f6c-47c0-a41f-29ec539713b4",
   "metadata": {},
   "source": [
    "`-` Query : `dbSendQuery()` 작업을 수행하고 어떤 데이터가 들어갔는지 결과를 반환"
   ]
  },
  {
   "cell_type": "code",
   "execution_count": 105,
   "id": "79096ec9-0e17-4df1-8403-16dc75599c6f",
   "metadata": {},
   "outputs": [
    {
     "data": {
      "text/plain": [
       "<SQLiteResult>\n",
       "  SQL  INSERT INTO mytable VALUES(4, 'test')\n",
       "  ROWS Fetched: 0 [complete]\n",
       "       Changed: 1"
      ]
     },
     "metadata": {},
     "output_type": "display_data"
    }
   ],
   "source": [
    "dbSendQuery(conn, \"INSERT INTO mytable VALUES(4, 'test')\")"
   ]
  },
  {
   "cell_type": "code",
   "execution_count": 106,
   "id": "cd89b9fe-808b-43c7-8432-0b6081195898",
   "metadata": {},
   "outputs": [
    {
     "name": "stderr",
     "output_type": "stream",
     "text": [
      "Warning message:\n",
      "“Closing open result set, pending rows”\n"
     ]
    },
    {
     "data": {
      "text/html": [
       "<table class=\"dataframe\">\n",
       "<caption>A data.frame: 4 × 2</caption>\n",
       "<thead>\n",
       "\t<tr><th scope=col>a</th><th scope=col>b</th></tr>\n",
       "\t<tr><th scope=col>&lt;int&gt;</th><th scope=col>&lt;chr&gt;</th></tr>\n",
       "</thead>\n",
       "<tbody>\n",
       "\t<tr><td>1</td><td>test</td></tr>\n",
       "\t<tr><td>2</td><td>test</td></tr>\n",
       "\t<tr><td>4</td><td>test</td></tr>\n",
       "\t<tr><td>6</td><td>test</td></tr>\n",
       "</tbody>\n",
       "</table>\n"
      ],
      "text/latex": [
       "A data.frame: 4 × 2\n",
       "\\begin{tabular}{ll}\n",
       " a & b\\\\\n",
       " <int> & <chr>\\\\\n",
       "\\hline\n",
       "\t 1 & test\\\\\n",
       "\t 2 & test\\\\\n",
       "\t 4 & test\\\\\n",
       "\t 6 & test\\\\\n",
       "\\end{tabular}\n"
      ],
      "text/markdown": [
       "\n",
       "A data.frame: 4 × 2\n",
       "\n",
       "| a &lt;int&gt; | b &lt;chr&gt; |\n",
       "|---|---|\n",
       "| 1 | test |\n",
       "| 2 | test |\n",
       "| 4 | test |\n",
       "| 6 | test |\n",
       "\n"
      ],
      "text/plain": [
       "  a b   \n",
       "1 1 test\n",
       "2 2 test\n",
       "3 4 test\n",
       "4 6 test"
      ]
     },
     "metadata": {},
     "output_type": "display_data"
    }
   ],
   "source": [
    "dbGetQuery(conn, \"SELECT * FROM mytable\")"
   ]
  },
  {
   "cell_type": "markdown",
   "id": "f4dd3424-e0f4-4c73-b63c-b82273f62a16",
   "metadata": {},
   "source": [
    "`-` Removing table : `dbRemoveTable()`"
   ]
  },
  {
   "cell_type": "code",
   "execution_count": null,
   "id": "79dbaad2-0df6-488d-a491-c81fcae3fd86",
   "metadata": {},
   "outputs": [],
   "source": [
    "dbRemoveTable(conn, 'test_table')"
   ]
  },
  {
   "cell_type": "markdown",
   "id": "95f17f18-d4c1-4fdf-89fd-873e9316738e",
   "metadata": {},
   "source": [
    "`-` Query 문법"
   ]
  },
  {
   "cell_type": "markdown",
   "id": "11c2234b-a69f-4a9e-aea8-3f83262f2307",
   "metadata": {},
   "source": [
    "`\"SELECT col_name1 AS col1, AVG(col2) AS average_col_2 FROM table GROUP BY col1 ORDER BY average_col_2\"`\n",
    "\n",
    "> 범용적인 문법, 테이블을 바꾸지 않음. `dbGetQuery()`에서 주로 사용.\n",
    ">\n",
    "> `AS`로 열 이름을 변경해서 호출, `AVG()`로 평균을 호출, `GROUP BY`에 해당하는 열 그룹을 기준으로 그룹화하여 통계량 산출, `ORDER BY`에 해당하는 열 그룹을 기준으로 sorting.\n",
    "\n",
    "`\"INSERT INTO table (col1, col2, ...) VALUES (val11, val12, ...), (val21, val22, ...), ...\"`\n",
    "\n",
    "> 테이블에 튜플 삽입, `dbExecute()`, `dbSendQuery()`에서 사용.\n",
    "\n",
    "`\"DELETE FROM table WHERE col_name = value\"`\n",
    "\n",
    "> 테이블의 튜플 제거, `dbExecute()`, `dbSendQuery()`에서 사용.\n",
    "\n",
    "`\"UPDATE table SET col_name = value WHERE col_name = value\"`\n",
    "\n",
    "> 테이블의 튜플 수정, `dbExecute()`, `dbSendQuery()`에서 사용."
   ]
  },
  {
   "cell_type": "code",
   "execution_count": null,
   "id": "0c1c338b-f270-4ccf-a5f9-4257f7b5871a",
   "metadata": {},
   "outputs": [],
   "source": []
  }
 ],
 "metadata": {
  "kernelspec": {
   "display_name": "R",
   "language": "R",
   "name": "ir"
  },
  "language_info": {
   "codemirror_mode": "r",
   "file_extension": ".r",
   "mimetype": "text/x-r-source",
   "name": "R",
   "pygments_lexer": "r",
   "version": "4.3.3"
  }
 },
 "nbformat": 4,
 "nbformat_minor": 5
}
