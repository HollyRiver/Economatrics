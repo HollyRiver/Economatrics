{
 "cells": [
  {
   "cell_type": "markdown",
   "id": "04cd8825-3a90-4448-8968-22e6335af389",
   "metadata": {},
   "source": [
    "### 통계데이터베이스 사전발표"
   ]
  },
  {
   "cell_type": "markdown",
   "id": "7d3c220b-62a2-4b96-8518-9813600088a0",
   "metadata": {},
   "source": [
    "1번째 조 : spotify 데이터\n",
    "\n",
    "* 4개 개체, 6개 관계. \n",
    "\n",
    "> 통제가능한 범위의 데이터를 운용하는 게 편할겁니다.\n",
    ">\n",
    "> 두줄 : 전체참여 / 완전종속, 실제 데이터가 다 매핑되어 있다면 두줄이 맞음.\n",
    ">\n",
    "> 개체를 통합하는 것도 가능, 관계가 속성이 없이 비어있는 관계라면 그렇게 좋은 것은 아님. 어카지?\n",
    ">\n",
    "> 우리 데이터도 관계가 속성이 없는 경우가 좀 많긴 함 ㅇㅅㅇ;; 진짜 어카징\n",
    "\n",
    "\n",
    "2번째 조 : FIFA 데이터\n",
    "\n",
    "> ㅁㄴㅇㄹ\n",
    "\n",
    "\n",
    "3번째 조 : 영화 데이터\n",
    "\n",
    "* 굉장히 복잡한 ERD, 5개의 개체와 하나를 중심으로 해서 맺어진 관계.\n",
    "\n",
    "> 완성만 된다면 제일 좋을 것 같기는 한데, 솔직히 힘들듯. 아직 자료 가져오지도 않았는데...\n",
    ">\n",
    "> 테이블이 엄청 많이 만들어짐, 기본키 안되면 그냥 복합키로 해버리면 됨."
   ]
  },
  {
   "cell_type": "markdown",
   "id": "1876774b-a098-48d1-9902-5972c5930f6a",
   "metadata": {},
   "source": [
    "개선방안\n",
    "\n",
    "1. ER 다이어그램 관점에서 관계에 들어갈 속성을 좀 생각해본다.(이게 될까???)\n",
    "2. 데이터베이스 조작과 정보추출 과정에서 새로운 관점과 유의미한 정보가 어떤 것이 나올 지 생각해본다.(이건 그냥 하면 됨)"
   ]
  },
  {
   "cell_type": "code",
   "execution_count": null,
   "id": "2319edf9-dff4-4ab4-83e4-d2d78a307868",
   "metadata": {},
   "outputs": [],
   "source": []
  }
 ],
 "metadata": {
  "kernelspec": {
   "display_name": "Python 3 (ipykernel)",
   "language": "python",
   "name": "python3"
  },
  "language_info": {
   "codemirror_mode": {
    "name": "ipython",
    "version": 3
   },
   "file_extension": ".py",
   "mimetype": "text/x-python",
   "name": "python",
   "nbconvert_exporter": "python",
   "pygments_lexer": "ipython3",
   "version": "3.12.0"
  }
 },
 "nbformat": 4,
 "nbformat_minor": 5
}
