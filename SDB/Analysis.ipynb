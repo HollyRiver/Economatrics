{
 "cells": [
  {
   "cell_type": "code",
   "execution_count": null,
   "id": "80e15508-ba67-4eca-982e-a7e04a0ad03f",
   "metadata": {},
   "outputs": [],
   "source": [
    "import pandas as pd\n",
    "import sklearn.linear_model\n",
    "import matplotlib.pyplot as plt\n",
    "import seaborn as sns"
   ]
  },
  {
   "cell_type": "markdown",
   "id": "db79811d-b6a8-4698-b5b5-44a979695dd0",
   "metadata": {},
   "source": [
    "`-` 데이터"
   ]
  },
  {
   "cell_type": "code",
   "execution_count": null,
   "id": "5f42b1e8-9d9c-4207-9afd-726d5945d699",
   "metadata": {},
   "outputs": [],
   "source": [
    "norm_course = pd.read_excel(\"./kocw data/featured data/norm_course.xlsx\", index_col = 0)\n",
    "course_classed = pd.read_excel(\"./kocw data/featured data/course_classed.xlsx\", index_col = 0)\n",
    "university = pd.read_excel(\"./kocw data/featured data/university.xlsx\", index_col = 0)\n",
    "professor = pd.read_excel(\"./kocw data/featured data/professor.xlsx\", index_col = 0)\n",
    "charge = pd.read_excel(\"./kocw data/featured data/charge.xlsx\", index_col = 0)"
   ]
  },
  {
   "cell_type": "code",
   "execution_count": null,
   "id": "b010fe0d-8a9a-4df0-b94d-b16d85abc5a9",
   "metadata": {},
   "outputs": [],
   "source": [
    "pd.merge(university, norm_course).merge(course_classed)"
   ]
  },
  {
   "cell_type": "code",
   "execution_count": null,
   "id": "e3c6eb2a-1929-401a-b7dd-fe447a166b0b",
   "metadata": {},
   "outputs": [],
   "source": [
    "tot = pd.merge(university, norm_course).merge(course_classed).drop([\"사립/국립 구분\", \"강의코드\", \"제공일자\", \"강의명\"], axis = 1)\n",
    "tot"
   ]
  },
  {
   "cell_type": "code",
   "execution_count": null,
   "id": "c6a6644c-9ce8-4d40-b489-a05c670a643f",
   "metadata": {},
   "outputs": [],
   "source": [
    "tot.reset_index().pivot_table(index = \"제공대학명\", columns = \"강의년도\" , values = \"index\", aggfunc = \"count\")"
   ]
  },
  {
   "cell_type": "code",
   "execution_count": null,
   "id": "6a1ee8dd-9405-4756-a023-58410f0a54fa",
   "metadata": {},
   "outputs": [],
   "source": [
    "pd.merge(university, professor)"
   ]
  },
  {
   "cell_type": "code",
   "execution_count": null,
   "id": "b818dce4-fd6e-4aed-b1fc-14d87084fccf",
   "metadata": {},
   "outputs": [],
   "source": []
  }
 ],
 "metadata": {
  "kernelspec": {
   "display_name": "Python 3 (ipykernel)",
   "language": "python",
   "name": "python3"
  },
  "language_info": {
   "codemirror_mode": {
    "name": "ipython",
    "version": 3
   },
   "file_extension": ".py",
   "mimetype": "text/x-python",
   "name": "python",
   "nbconvert_exporter": "python",
   "pygments_lexer": "ipython3",
   "version": "3.10.14"
  }
 },
 "nbformat": 4,
 "nbformat_minor": 5
}
