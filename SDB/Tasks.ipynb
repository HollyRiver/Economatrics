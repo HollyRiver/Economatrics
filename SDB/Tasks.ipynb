{
 "cells": [
  {
   "cell_type": "markdown",
   "id": "96e4a633-1709-4028-9271-a611e987345a",
   "metadata": {},
   "source": [
    "**Query문을 중점적으로 봐주시면 됩니다.**\n",
    "\n",
    "**Python의 경우 1~3번은 R과 동일한 예제와 SQL문을 활용해주세요.**\n",
    "\n",
    "**기본키 삭제에 따른 외래키의 변화를 확인할 때는 반드시 DB 파일을 먼저 백업해주세요.**"
   ]
  },
  {
   "cell_type": "code",
   "execution_count": 100,
   "id": "ab5cc328-d8b9-43cd-85a0-b14d1110c593",
   "metadata": {},
   "outputs": [
    {
     "data": {
      "text/html": [
       "0"
      ],
      "text/latex": [
       "0"
      ],
      "text/markdown": [
       "0"
      ],
      "text/plain": [
       "[1] 0"
      ]
     },
     "metadata": {},
     "output_type": "display_data"
    }
   ],
   "source": [
    "library(DBI)\n",
    "library(RSQLite)\n",
    "library(readxl)\n",
    "\n",
    "conn = dbConnect(SQLite(), \"./kocw data/RSQlite/kocw.db\")\n",
    "dbExecute(conn, \"PRAGMA foreign_keys = ON\")"
   ]
  },
  {
   "cell_type": "markdown",
   "id": "b3b84126-277a-434f-ad02-496159676df1",
   "metadata": {
    "jp-MarkdownHeadingCollapsed": true
   },
   "source": [
    "### 1. 기본키 설정이 맞는지 확인 + 튜플의 수정 및 삭제"
   ]
  },
  {
   "cell_type": "markdown",
   "id": "b3a7a58a-734b-4653-baa2-9e148940cc32",
   "metadata": {},
   "source": [
    "`#` 해야 할 일\n",
    "\n",
    "**설정 확인**\n",
    "\n",
    "* 기본키가 겹치지 않는 튜플을 넣어서 제대로 들어가는지 확인하고, 기본키가 중복되는 튜플을 넣어서 제대로 돌아가는지 확인합니다.\n",
    "\n",
    "**수정 및 삭제**\n",
    "\n",
    "* 기본키가 겹치지 않는 튜플을 넣은 뒤에 그 튜플을 수정한 결과와 삭제한 결과를 같이 보여주시면 됩니다."
   ]
  },
  {
   "cell_type": "markdown",
   "id": "86aeded1-f517-4d71-b27e-b6f14613d5bd",
   "metadata": {},
   "source": [
    "`#` 예시"
   ]
  },
  {
   "cell_type": "markdown",
   "id": "d4eea013-4a82-4a54-a2ec-b02a63b8a47d",
   "metadata": {},
   "source": [
    "`-` 중복되지 않는 기본키를 가지는 튜플 삽입 시(정상조작)"
   ]
  },
  {
   "cell_type": "code",
   "execution_count": 33,
   "id": "dcfb0a40-99b1-4d57-b82f-fcefe12bf966",
   "metadata": {},
   "outputs": [
    {
     "data": {
      "text/html": [
       "1"
      ],
      "text/latex": [
       "1"
      ],
      "text/markdown": [
       "1"
      ],
      "text/plain": [
       "[1] 1"
      ]
     },
     "metadata": {},
     "output_type": "display_data"
    },
    {
     "data": {
      "text/html": [
       "<table class=\"dataframe\">\n",
       "<caption>A data.frame: 5 × 4</caption>\n",
       "<thead>\n",
       "\t<tr><th scope=col>교수코드</th><th scope=col>담당교수명</th><th scope=col>담당분야</th><th scope=col>제공대학명</th></tr>\n",
       "\t<tr><th scope=col>&lt;int&gt;</th><th scope=col>&lt;chr&gt;</th><th scope=col>&lt;chr&gt;</th><th scope=col>&lt;chr&gt;</th></tr>\n",
       "</thead>\n",
       "<tbody>\n",
       "\t<tr><td>-1</td><td>강신성</td><td>자연계열</td><td>전북대학교  </td></tr>\n",
       "\t<tr><td> 0</td><td>안상욱</td><td>자연계열</td><td>한경대학교  </td></tr>\n",
       "\t<tr><td> 1</td><td>이중호</td><td>자연계열</td><td>가천대학교  </td></tr>\n",
       "\t<tr><td> 2</td><td>최수한</td><td>자연계열</td><td>단국대학교  </td></tr>\n",
       "\t<tr><td> 3</td><td>김문현</td><td>자연계열</td><td>성균관대학교</td></tr>\n",
       "</tbody>\n",
       "</table>\n"
      ],
      "text/latex": [
       "A data.frame: 5 × 4\n",
       "\\begin{tabular}{llll}\n",
       " 교수코드 & 담당교수명 & 담당분야 & 제공대학명\\\\\n",
       " <int> & <chr> & <chr> & <chr>\\\\\n",
       "\\hline\n",
       "\t -1 & 강신성 & 자연계열 & 전북대학교  \\\\\n",
       "\t  0 & 안상욱 & 자연계열 & 한경대학교  \\\\\n",
       "\t  1 & 이중호 & 자연계열 & 가천대학교  \\\\\n",
       "\t  2 & 최수한 & 자연계열 & 단국대학교  \\\\\n",
       "\t  3 & 김문현 & 자연계열 & 성균관대학교\\\\\n",
       "\\end{tabular}\n"
      ],
      "text/markdown": [
       "\n",
       "A data.frame: 5 × 4\n",
       "\n",
       "| 교수코드 &lt;int&gt; | 담당교수명 &lt;chr&gt; | 담당분야 &lt;chr&gt; | 제공대학명 &lt;chr&gt; |\n",
       "|---|---|---|---|\n",
       "| -1 | 강신성 | 자연계열 | 전북대학교   |\n",
       "|  0 | 안상욱 | 자연계열 | 한경대학교   |\n",
       "|  1 | 이중호 | 자연계열 | 가천대학교   |\n",
       "|  2 | 최수한 | 자연계열 | 단국대학교   |\n",
       "|  3 | 김문현 | 자연계열 | 성균관대학교 |\n",
       "\n"
      ],
      "text/plain": [
       "  교수코드 담당교수명 담당분야 제공대학명  \n",
       "1 -1       강신성     자연계열 전북대학교  \n",
       "2  0       안상욱     자연계열 한경대학교  \n",
       "3  1       이중호     자연계열 가천대학교  \n",
       "4  2       최수한     자연계열 단국대학교  \n",
       "5  3       김문현     자연계열 성균관대학교"
      ]
     },
     "metadata": {},
     "output_type": "display_data"
    },
    {
     "data": {
      "text/html": [
       "1"
      ],
      "text/latex": [
       "1"
      ],
      "text/markdown": [
       "1"
      ],
      "text/plain": [
       "[1] 1"
      ]
     },
     "metadata": {},
     "output_type": "display_data"
    },
    {
     "data": {
      "text/html": [
       "<table class=\"dataframe\">\n",
       "<caption>A data.frame: 5 × 4</caption>\n",
       "<thead>\n",
       "\t<tr><th scope=col>교수코드</th><th scope=col>담당교수명</th><th scope=col>담당분야</th><th scope=col>제공대학명</th></tr>\n",
       "\t<tr><th scope=col>&lt;int&gt;</th><th scope=col>&lt;chr&gt;</th><th scope=col>&lt;chr&gt;</th><th scope=col>&lt;chr&gt;</th></tr>\n",
       "</thead>\n",
       "<tbody>\n",
       "\t<tr><td>-1</td><td>강신성</td><td>자연계열</td><td>1조대학교   </td></tr>\n",
       "\t<tr><td> 0</td><td>안상욱</td><td>자연계열</td><td>한경대학교  </td></tr>\n",
       "\t<tr><td> 1</td><td>이중호</td><td>자연계열</td><td>가천대학교  </td></tr>\n",
       "\t<tr><td> 2</td><td>최수한</td><td>자연계열</td><td>단국대학교  </td></tr>\n",
       "\t<tr><td> 3</td><td>김문현</td><td>자연계열</td><td>성균관대학교</td></tr>\n",
       "</tbody>\n",
       "</table>\n"
      ],
      "text/latex": [
       "A data.frame: 5 × 4\n",
       "\\begin{tabular}{llll}\n",
       " 교수코드 & 담당교수명 & 담당분야 & 제공대학명\\\\\n",
       " <int> & <chr> & <chr> & <chr>\\\\\n",
       "\\hline\n",
       "\t -1 & 강신성 & 자연계열 & 1조대학교   \\\\\n",
       "\t  0 & 안상욱 & 자연계열 & 한경대학교  \\\\\n",
       "\t  1 & 이중호 & 자연계열 & 가천대학교  \\\\\n",
       "\t  2 & 최수한 & 자연계열 & 단국대학교  \\\\\n",
       "\t  3 & 김문현 & 자연계열 & 성균관대학교\\\\\n",
       "\\end{tabular}\n"
      ],
      "text/markdown": [
       "\n",
       "A data.frame: 5 × 4\n",
       "\n",
       "| 교수코드 &lt;int&gt; | 담당교수명 &lt;chr&gt; | 담당분야 &lt;chr&gt; | 제공대학명 &lt;chr&gt; |\n",
       "|---|---|---|---|\n",
       "| -1 | 강신성 | 자연계열 | 1조대학교    |\n",
       "|  0 | 안상욱 | 자연계열 | 한경대학교   |\n",
       "|  1 | 이중호 | 자연계열 | 가천대학교   |\n",
       "|  2 | 최수한 | 자연계열 | 단국대학교   |\n",
       "|  3 | 김문현 | 자연계열 | 성균관대학교 |\n",
       "\n"
      ],
      "text/plain": [
       "  교수코드 담당교수명 담당분야 제공대학명  \n",
       "1 -1       강신성     자연계열 1조대학교   \n",
       "2  0       안상욱     자연계열 한경대학교  \n",
       "3  1       이중호     자연계열 가천대학교  \n",
       "4  2       최수한     자연계열 단국대학교  \n",
       "5  3       김문현     자연계열 성균관대학교"
      ]
     },
     "metadata": {},
     "output_type": "display_data"
    },
    {
     "data": {
      "text/html": [
       "1"
      ],
      "text/latex": [
       "1"
      ],
      "text/markdown": [
       "1"
      ],
      "text/plain": [
       "[1] 1"
      ]
     },
     "metadata": {},
     "output_type": "display_data"
    },
    {
     "data": {
      "text/html": [
       "<table class=\"dataframe\">\n",
       "<caption>A data.frame: 5 × 4</caption>\n",
       "<thead>\n",
       "\t<tr><th scope=col>교수코드</th><th scope=col>담당교수명</th><th scope=col>담당분야</th><th scope=col>제공대학명</th></tr>\n",
       "\t<tr><th scope=col>&lt;int&gt;</th><th scope=col>&lt;chr&gt;</th><th scope=col>&lt;chr&gt;</th><th scope=col>&lt;chr&gt;</th></tr>\n",
       "</thead>\n",
       "<tbody>\n",
       "\t<tr><td>0</td><td>안상욱</td><td>자연계열</td><td>한경대학교    </td></tr>\n",
       "\t<tr><td>1</td><td>이중호</td><td>자연계열</td><td>가천대학교    </td></tr>\n",
       "\t<tr><td>2</td><td>최수한</td><td>자연계열</td><td>단국대학교    </td></tr>\n",
       "\t<tr><td>3</td><td>김문현</td><td>자연계열</td><td>성균관대학교  </td></tr>\n",
       "\t<tr><td>4</td><td>이상준</td><td>자연계열</td><td>덕성여자대학교</td></tr>\n",
       "</tbody>\n",
       "</table>\n"
      ],
      "text/latex": [
       "A data.frame: 5 × 4\n",
       "\\begin{tabular}{llll}\n",
       " 교수코드 & 담당교수명 & 담당분야 & 제공대학명\\\\\n",
       " <int> & <chr> & <chr> & <chr>\\\\\n",
       "\\hline\n",
       "\t 0 & 안상욱 & 자연계열 & 한경대학교    \\\\\n",
       "\t 1 & 이중호 & 자연계열 & 가천대학교    \\\\\n",
       "\t 2 & 최수한 & 자연계열 & 단국대학교    \\\\\n",
       "\t 3 & 김문현 & 자연계열 & 성균관대학교  \\\\\n",
       "\t 4 & 이상준 & 자연계열 & 덕성여자대학교\\\\\n",
       "\\end{tabular}\n"
      ],
      "text/markdown": [
       "\n",
       "A data.frame: 5 × 4\n",
       "\n",
       "| 교수코드 &lt;int&gt; | 담당교수명 &lt;chr&gt; | 담당분야 &lt;chr&gt; | 제공대학명 &lt;chr&gt; |\n",
       "|---|---|---|---|\n",
       "| 0 | 안상욱 | 자연계열 | 한경대학교     |\n",
       "| 1 | 이중호 | 자연계열 | 가천대학교     |\n",
       "| 2 | 최수한 | 자연계열 | 단국대학교     |\n",
       "| 3 | 김문현 | 자연계열 | 성균관대학교   |\n",
       "| 4 | 이상준 | 자연계열 | 덕성여자대학교 |\n",
       "\n"
      ],
      "text/plain": [
       "  교수코드 담당교수명 담당분야 제공대학명    \n",
       "1 0        안상욱     자연계열 한경대학교    \n",
       "2 1        이중호     자연계열 가천대학교    \n",
       "3 2        최수한     자연계열 단국대학교    \n",
       "4 3        김문현     자연계열 성균관대학교  \n",
       "5 4        이상준     자연계열 덕성여자대학교"
      ]
     },
     "metadata": {},
     "output_type": "display_data"
    }
   ],
   "source": [
    "## professor 중복되지 않는 기본키를 가지는 튜플 삽입 시 정상\n",
    "dbExecute(conn, \"INSERT INTO professor VALUES(-1, '강신성', '자연계열', '전북대학교')\")\n",
    "dbGetQuery(conn, \"SELECT * FROM professor LIMIT 5\")\n",
    "\n",
    "## 수정\n",
    "dbExecute(conn, \"UPDATE professor SET 제공대학명 = '조선대학교' WHERE 교수코드 = -1\")\n",
    "dbGetQuery(conn, \"SELECT * FROM professor LIMIT 5\")\n",
    "\n",
    "## 삭제\n",
    "dbExecute(conn, \"DELETE FROM professor WHERE 교수코드 = -1\")\n",
    "dbGetQuery(conn, \"SELECT * FROM professor LIMIT 5\")"
   ]
  },
  {
   "cell_type": "code",
   "execution_count": 50,
   "id": "6d972521-5d4a-41bb-b93e-cff32f36a96b",
   "metadata": {},
   "outputs": [
    {
     "data": {
      "text/html": [
       "1"
      ],
      "text/latex": [
       "1"
      ],
      "text/markdown": [
       "1"
      ],
      "text/plain": [
       "[1] 1"
      ]
     },
     "metadata": {},
     "output_type": "display_data"
    },
    {
     "data": {
      "text/html": [
       "<table class=\"dataframe\">\n",
       "<caption>A data.frame: 5 × 3</caption>\n",
       "<thead>\n",
       "\t<tr><th scope=col>제공대학명</th><th scope=col>대학소재지</th><th scope=col>구분</th></tr>\n",
       "\t<tr><th scope=col>&lt;chr&gt;</th><th scope=col>&lt;chr&gt;</th><th scope=col>&lt;chr&gt;</th></tr>\n",
       "</thead>\n",
       "<tbody>\n",
       "\t<tr><td>사이버한국외국어대학교</td><td>서울특별시    </td><td>사립</td></tr>\n",
       "\t<tr><td>수원대학교            </td><td>경기도        </td><td>사립</td></tr>\n",
       "\t<tr><td>구미대학교            </td><td>경상북도      </td><td>사립</td></tr>\n",
       "\t<tr><td>가톨릭관동대학교      </td><td>강원특별자치도</td><td>사립</td></tr>\n",
       "\t<tr><td>1조대학교             </td><td>뉴욕          </td><td>사립</td></tr>\n",
       "</tbody>\n",
       "</table>\n"
      ],
      "text/latex": [
       "A data.frame: 5 × 3\n",
       "\\begin{tabular}{lll}\n",
       " 제공대학명 & 대학소재지 & 구분\\\\\n",
       " <chr> & <chr> & <chr>\\\\\n",
       "\\hline\n",
       "\t 사이버한국외국어대학교 & 서울특별시     & 사립\\\\\n",
       "\t 수원대학교             & 경기도         & 사립\\\\\n",
       "\t 구미대학교             & 경상북도       & 사립\\\\\n",
       "\t 가톨릭관동대학교       & 강원특별자치도 & 사립\\\\\n",
       "\t 1조대학교              & 뉴욕           & 사립\\\\\n",
       "\\end{tabular}\n"
      ],
      "text/markdown": [
       "\n",
       "A data.frame: 5 × 3\n",
       "\n",
       "| 제공대학명 &lt;chr&gt; | 대학소재지 &lt;chr&gt; | 구분 &lt;chr&gt; |\n",
       "|---|---|---|\n",
       "| 사이버한국외국어대학교 | 서울특별시     | 사립 |\n",
       "| 수원대학교             | 경기도         | 사립 |\n",
       "| 구미대학교             | 경상북도       | 사립 |\n",
       "| 가톨릭관동대학교       | 강원특별자치도 | 사립 |\n",
       "| 1조대학교              | 뉴욕           | 사립 |\n",
       "\n"
      ],
      "text/plain": [
       "  제공대학명             대학소재지     구분\n",
       "1 사이버한국외국어대학교 서울특별시     사립\n",
       "2 수원대학교             경기도         사립\n",
       "3 구미대학교             경상북도       사립\n",
       "4 가톨릭관동대학교       강원특별자치도 사립\n",
       "5 1조대학교              뉴욕           사립"
      ]
     },
     "metadata": {},
     "output_type": "display_data"
    },
    {
     "data": {
      "text/html": [
       "1"
      ],
      "text/latex": [
       "1"
      ],
      "text/markdown": [
       "1"
      ],
      "text/plain": [
       "[1] 1"
      ]
     },
     "metadata": {},
     "output_type": "display_data"
    }
   ],
   "source": [
    "## university 중복되지 않은 기본키를 가지는 튜플 삽입 시 정상\n",
    "dbExecute(conn, \"INSERT INTO university VALUES('1조대학교', '뉴욕', '사립')\")\n",
    "dbGetQuery(conn, \"SELECT * FROM university LIMIT 10 OFFSET 182\")\n",
    "dbExecute(conn, \"DELETE FROM university WHERE 제공대학명 = '1조대학교'\")"
   ]
  },
  {
   "cell_type": "markdown",
   "id": "842e8d8b-8fbb-4f29-939d-4349bfceb130",
   "metadata": {},
   "source": [
    "`-` 중복되는 기본키를 가지는 튜플 삽입 시(비정상 조작)"
   ]
  },
  {
   "cell_type": "code",
   "execution_count": 36,
   "id": "e96fff6d-6c88-4a9e-aade-38670422e071",
   "metadata": {},
   "outputs": [
    {
     "ename": "ERROR",
     "evalue": "Error: UNIQUE constraint failed: professor.교수코드\n",
     "output_type": "error",
     "traceback": [
      "Error: UNIQUE constraint failed: professor.교수코드\nTraceback:\n",
      "1. dbExecute(conn, \"INSERT INTO professor VALUES(1, '강신성2', '자연계열', '전북대학교')\")",
      "2. dbExecute(conn, \"INSERT INTO professor VALUES(1, '강신성2', '자연계열', '전북대학교')\")",
      "3. dbSendStatement(conn, statement, ...)",
      "4. dbSendStatement(conn, statement, ...)",
      "5. dbSendQuery(conn, statement, ...)",
      "6. dbSendQuery(conn, statement, ...)",
      "7. .local(conn, statement, ...)",
      "8. new(\"SQLiteResult\", sql = statement, ptr = result_create(conn@ptr, \n .     statement), conn = conn, bigint = conn@bigint)",
      "9. initialize(value, ...)",
      "10. initialize(value, ...)",
      "11. result_create(conn@ptr, statement)"
     ]
    }
   ],
   "source": [
    "## 중복되는 기본키를 가지는 튜플 삽입 시 오류 발생 -> 정상적으로 기본키 설정됨\n",
    "dbExecute(conn, \"INSERT INTO professor VALUES(1, '강신성2', '자연계열', '전북대학교')\")"
   ]
  },
  {
   "cell_type": "code",
   "execution_count": 46,
   "id": "acd8fa52-a1f0-4c50-a65e-ed63926cb6b7",
   "metadata": {},
   "outputs": [
    {
     "ename": "ERROR",
     "evalue": "Error: UNIQUE constraint failed: university.제공대학명\n",
     "output_type": "error",
     "traceback": [
      "Error: UNIQUE constraint failed: university.제공대학명\nTraceback:\n",
      "1. dbExecute(conn, \"INSERT INTO university VALUES('전북대학교', '뉴욕', '국립')\")",
      "2. dbExecute(conn, \"INSERT INTO university VALUES('전북대학교', '뉴욕', '국립')\")",
      "3. dbSendStatement(conn, statement, ...)",
      "4. dbSendStatement(conn, statement, ...)",
      "5. dbSendQuery(conn, statement, ...)",
      "6. dbSendQuery(conn, statement, ...)",
      "7. .local(conn, statement, ...)",
      "8. new(\"SQLiteResult\", sql = statement, ptr = result_create(conn@ptr, \n .     statement), conn = conn, bigint = conn@bigint)",
      "9. initialize(value, ...)",
      "10. initialize(value, ...)",
      "11. result_create(conn@ptr, statement)"
     ]
    }
   ],
   "source": [
    "## 중복되는 기본키를 가지는 튜플 삽입 시 오류 발생 -> 정상적으로 기본키 설정됨\n",
    "dbExecute(conn, \"INSERT INTO university VALUES('전북대학교', '뉴욕', '국립')\")"
   ]
  },
  {
   "cell_type": "markdown",
   "id": "15ad4eb0-41fe-48a1-82e0-f4b975db153f",
   "metadata": {},
   "source": [
    "> 위와 유사한 예시를 사용해주세요. Python의 경우 조원에게서 R의 예시를 그대로 넘겨받아 코드를 구성해주세요."
   ]
  },
  {
   "cell_type": "markdown",
   "id": "5938790b-11bc-4253-b203-fb435c2d6ffd",
   "metadata": {
    "jp-MarkdownHeadingCollapsed": true
   },
   "source": [
    "### 2. 기본키 삭제에 따른 외래키의 변화 확인"
   ]
  },
  {
   "cell_type": "markdown",
   "id": "119b8ad1-e8fc-46ef-a747-b47439053d24",
   "metadata": {},
   "source": [
    "`#` 해야 할 일\n",
    "\n",
    "* 기본키를 삭제했을 때, 그것을 참조한 테이블에서의 값이 어떻게 변하는지를 확인합니다.\n",
    "\n",
    "* 외래키 규칙에 대한 설명이 필요합니다. 이는 R을 맡으신 분께서 진행해주세요.\n",
    "\n",
    "* 원래의 테이블을 보여주고, 외래키에 해당하는 값을 바꾸거나 삭제한 뒤 다시 원래의 테이블이 어떻게 바뀌는지 보여주세요.\n",
    "\n",
    "`-` 외래키가 있는 릴레이션의 CASCADE / SET NULL 기준 서술\n",
    "\n",
    "**기준 서술은 R의 PPT에서 진행해주세요.**\n",
    "\n",
    "1. 담당교수 릴레이션\n",
    "\n",
    "   * 소속대학명 `ON UPDATE CASCADE, ON DELETE SET NULL`\n",
    "\n",
    "   > UPDATE : 소속된 대학의 이름이 바뀌어도 교수가 그 대학에 소속되었다는 사실은 변하지 않음.\n",
    "   >\n",
    "   > DELETE : 소속된 대학이 사라져도 교수는 강의를 제공했기 때문에 교수에 대한 정보를 유지하고자 함.\n",
    "\n",
    "3. 강의 릴레이션\n",
    "\n",
    "    * 제공대학명 `ON UPDATE CASCADE, ON DELETE SET NULL`\n",
    "  \n",
    "   > UPDATE : 제공한 대학의 이름이 바뀌어도 그 대학이 강의를 제공했었다는 사실은 변하지 않음\n",
    "   >\n",
    "   > DELETE : 제공한 대학이 사라져도 제공되었던 강의 정보를 유지하고자 함.\n",
    "\n",
    "    * 강의명 `ON UPDATE CASCADE, ON DELETE CASCADE`\n",
    "  \n",
    "    > UPDATE : 기존에 있었던 강의명이 바뀌어도 다른 속성값들은 그대로임.\n",
    "    >\n",
    "    > DELETE : 강의명을 없앤다는 것 자체의 의도가 해당 강의를 없애고 싶다는 의미이므로 같이 삭제하는 게 합리적.\n",
    "\n",
    "3. 담당 릴레이션\n",
    "\n",
    "    * 교수코드 및 강의코드 `ON UPDATE CASCADE, ON DELETE CASCADE`\n",
    "  \n",
    "   > UPDATE : 교수코드 및 강의코드가 수정되어도 매핑 정보를 유지해줘야 함.\n",
    "   >\n",
    "   > DELETE : 삭제했을 시 남겨둬야 할 정보가 없음 & 기본키에 NULL이 존재하면 개체 무결성 제약 깨짐"
   ]
  },
  {
   "cell_type": "markdown",
   "id": "dd595353-6161-476d-b508-b3a87b9e4c73",
   "metadata": {},
   "source": [
    "`#` 예시\n",
    "\n",
    "구성 순서 : 바꾸기 전 원래의 테이블 보여주기 -> 내용 바꾸거나 수정하기 -> 수정 후 참조한 외래키가 있는 테이블 보여주기"
   ]
  },
  {
   "cell_type": "markdown",
   "id": "bc3c6cc2-c07b-4667-b936-19763802feeb",
   "metadata": {},
   "source": [
    "**제공대학명의 기본키**\n",
    "\n",
    "`-` 원래의 테이블 값 보여주기"
   ]
  },
  {
   "cell_type": "code",
   "execution_count": 15,
   "id": "97e263b7-e352-40ab-aebe-c56749aa6333",
   "metadata": {},
   "outputs": [
    {
     "data": {
      "text/html": [
       "<table class=\"dataframe\">\n",
       "<caption>A data.frame: 5 × 4</caption>\n",
       "<thead>\n",
       "\t<tr><th scope=col>교수코드</th><th scope=col>담당교수명</th><th scope=col>담당분야</th><th scope=col>제공대학명</th></tr>\n",
       "\t<tr><th scope=col>&lt;int&gt;</th><th scope=col>&lt;chr&gt;</th><th scope=col>&lt;chr&gt;</th><th scope=col>&lt;chr&gt;</th></tr>\n",
       "</thead>\n",
       "<tbody>\n",
       "\t<tr><td>  9</td><td>마인숙</td><td>자연계열</td><td>전북대학교</td></tr>\n",
       "\t<tr><td>103</td><td>곽지이</td><td>자연계열</td><td>전북대학교</td></tr>\n",
       "\t<tr><td>104</td><td>이선영</td><td>자연계열</td><td>전북대학교</td></tr>\n",
       "\t<tr><td>105</td><td>정수미</td><td>자연계열</td><td>전북대학교</td></tr>\n",
       "\t<tr><td>106</td><td>최일선</td><td>자연계열</td><td>전북대학교</td></tr>\n",
       "</tbody>\n",
       "</table>\n"
      ],
      "text/latex": [
       "A data.frame: 5 × 4\n",
       "\\begin{tabular}{llll}\n",
       " 교수코드 & 담당교수명 & 담당분야 & 제공대학명\\\\\n",
       " <int> & <chr> & <chr> & <chr>\\\\\n",
       "\\hline\n",
       "\t   9 & 마인숙 & 자연계열 & 전북대학교\\\\\n",
       "\t 103 & 곽지이 & 자연계열 & 전북대학교\\\\\n",
       "\t 104 & 이선영 & 자연계열 & 전북대학교\\\\\n",
       "\t 105 & 정수미 & 자연계열 & 전북대학교\\\\\n",
       "\t 106 & 최일선 & 자연계열 & 전북대학교\\\\\n",
       "\\end{tabular}\n"
      ],
      "text/markdown": [
       "\n",
       "A data.frame: 5 × 4\n",
       "\n",
       "| 교수코드 &lt;int&gt; | 담당교수명 &lt;chr&gt; | 담당분야 &lt;chr&gt; | 제공대학명 &lt;chr&gt; |\n",
       "|---|---|---|---|\n",
       "|   9 | 마인숙 | 자연계열 | 전북대학교 |\n",
       "| 103 | 곽지이 | 자연계열 | 전북대학교 |\n",
       "| 104 | 이선영 | 자연계열 | 전북대학교 |\n",
       "| 105 | 정수미 | 자연계열 | 전북대학교 |\n",
       "| 106 | 최일선 | 자연계열 | 전북대학교 |\n",
       "\n"
      ],
      "text/plain": [
       "  교수코드 담당교수명 담당분야 제공대학명\n",
       "1   9      마인숙     자연계열 전북대학교\n",
       "2 103      곽지이     자연계열 전북대학교\n",
       "3 104      이선영     자연계열 전북대학교\n",
       "4 105      정수미     자연계열 전북대학교\n",
       "5 106      최일선     자연계열 전북대학교"
      ]
     },
     "metadata": {},
     "output_type": "display_data"
    }
   ],
   "source": [
    "dbGetQuery(conn, \"SELECT * FROM professor WHERE 제공대학명 = '전북대학교' LIMIT 5\")"
   ]
  },
  {
   "cell_type": "code",
   "execution_count": 16,
   "id": "3fc33271-c5fe-473d-b79b-2ef45b661ddc",
   "metadata": {},
   "outputs": [
    {
     "data": {
      "text/html": [
       "<table class=\"dataframe\">\n",
       "<caption>A data.frame: 5 × 6</caption>\n",
       "<thead>\n",
       "\t<tr><th scope=col>강의코드</th><th scope=col>강의명</th><th scope=col>강의년도</th><th scope=col>강의학기</th><th scope=col>제공일자</th><th scope=col>제공대학명</th></tr>\n",
       "\t<tr><th scope=col>&lt;int&gt;</th><th scope=col>&lt;chr&gt;</th><th scope=col>&lt;int&gt;</th><th scope=col>&lt;int&gt;</th><th scope=col>&lt;chr&gt;</th><th scope=col>&lt;chr&gt;</th></tr>\n",
       "</thead>\n",
       "<tbody>\n",
       "\t<tr><td>133761</td><td>자바 프로그래밍      </td><td>2009</td><td>1</td><td>2008-12-11</td><td>전북대학교</td></tr>\n",
       "\t<tr><td>145685</td><td>조경수 관리          </td><td>2009</td><td>1</td><td>2009-11-05</td><td>전북대학교</td></tr>\n",
       "\t<tr><td>153670</td><td>전력전자 및 실험     </td><td>2009</td><td>2</td><td>2010-04-28</td><td>전북대학교</td></tr>\n",
       "\t<tr><td>156266</td><td>기능생리학 1         </td><td>2009</td><td>1</td><td>2010-06-10</td><td>전북대학교</td></tr>\n",
       "\t<tr><td>156446</td><td>BIN융합개론및세미나 1</td><td>2009</td><td>1</td><td>2010-06-11</td><td>전북대학교</td></tr>\n",
       "</tbody>\n",
       "</table>\n"
      ],
      "text/latex": [
       "A data.frame: 5 × 6\n",
       "\\begin{tabular}{llllll}\n",
       " 강의코드 & 강의명 & 강의년도 & 강의학기 & 제공일자 & 제공대학명\\\\\n",
       " <int> & <chr> & <int> & <int> & <chr> & <chr>\\\\\n",
       "\\hline\n",
       "\t 133761 & 자바 프로그래밍       & 2009 & 1 & 2008-12-11 & 전북대학교\\\\\n",
       "\t 145685 & 조경수 관리           & 2009 & 1 & 2009-11-05 & 전북대학교\\\\\n",
       "\t 153670 & 전력전자 및 실험      & 2009 & 2 & 2010-04-28 & 전북대학교\\\\\n",
       "\t 156266 & 기능생리학 1          & 2009 & 1 & 2010-06-10 & 전북대학교\\\\\n",
       "\t 156446 & BIN융합개론및세미나 1 & 2009 & 1 & 2010-06-11 & 전북대학교\\\\\n",
       "\\end{tabular}\n"
      ],
      "text/markdown": [
       "\n",
       "A data.frame: 5 × 6\n",
       "\n",
       "| 강의코드 &lt;int&gt; | 강의명 &lt;chr&gt; | 강의년도 &lt;int&gt; | 강의학기 &lt;int&gt; | 제공일자 &lt;chr&gt; | 제공대학명 &lt;chr&gt; |\n",
       "|---|---|---|---|---|---|\n",
       "| 133761 | 자바 프로그래밍       | 2009 | 1 | 2008-12-11 | 전북대학교 |\n",
       "| 145685 | 조경수 관리           | 2009 | 1 | 2009-11-05 | 전북대학교 |\n",
       "| 153670 | 전력전자 및 실험      | 2009 | 2 | 2010-04-28 | 전북대학교 |\n",
       "| 156266 | 기능생리학 1          | 2009 | 1 | 2010-06-10 | 전북대학교 |\n",
       "| 156446 | BIN융합개론및세미나 1 | 2009 | 1 | 2010-06-11 | 전북대학교 |\n",
       "\n"
      ],
      "text/plain": [
       "  강의코드 강의명                강의년도 강의학기 제공일자   제공대학명\n",
       "1 133761   자바 프로그래밍       2009     1        2008-12-11 전북대학교\n",
       "2 145685   조경수 관리           2009     1        2009-11-05 전북대학교\n",
       "3 153670   전력전자 및 실험      2009     2        2010-04-28 전북대학교\n",
       "4 156266   기능생리학 1          2009     1        2010-06-10 전북대학교\n",
       "5 156446   BIN융합개론및세미나 1 2009     1        2010-06-11 전북대학교"
      ]
     },
     "metadata": {},
     "output_type": "display_data"
    }
   ],
   "source": [
    "dbGetQuery(conn, \"SELECT * FROM norm_course WHERE 제공대학명 = '전북대학교' LIMIT 5\")"
   ]
  },
  {
   "cell_type": "code",
   "execution_count": 17,
   "id": "4dfec66e-12de-4a25-8e33-024b046dd5bb",
   "metadata": {},
   "outputs": [
    {
     "data": {
      "text/html": [
       "<table class=\"dataframe\">\n",
       "<caption>A data.frame: 1 × 3</caption>\n",
       "<thead>\n",
       "\t<tr><th scope=col>제공대학명</th><th scope=col>대학소재지</th><th scope=col>구분</th></tr>\n",
       "\t<tr><th scope=col>&lt;chr&gt;</th><th scope=col>&lt;chr&gt;</th><th scope=col>&lt;chr&gt;</th></tr>\n",
       "</thead>\n",
       "<tbody>\n",
       "\t<tr><td>전북대학교</td><td>전라북도</td><td>국립</td></tr>\n",
       "</tbody>\n",
       "</table>\n"
      ],
      "text/latex": [
       "A data.frame: 1 × 3\n",
       "\\begin{tabular}{lll}\n",
       " 제공대학명 & 대학소재지 & 구분\\\\\n",
       " <chr> & <chr> & <chr>\\\\\n",
       "\\hline\n",
       "\t 전북대학교 & 전라북도 & 국립\\\\\n",
       "\\end{tabular}\n"
      ],
      "text/markdown": [
       "\n",
       "A data.frame: 1 × 3\n",
       "\n",
       "| 제공대학명 &lt;chr&gt; | 대학소재지 &lt;chr&gt; | 구분 &lt;chr&gt; |\n",
       "|---|---|---|\n",
       "| 전북대학교 | 전라북도 | 국립 |\n",
       "\n"
      ],
      "text/plain": [
       "  제공대학명 대학소재지 구분\n",
       "1 전북대학교 전라북도   국립"
      ]
     },
     "metadata": {},
     "output_type": "display_data"
    }
   ],
   "source": [
    "dbGetQuery(conn, \"SELECT * FROM university WHERE 제공대학명 = '전북대학교'\")"
   ]
  },
  {
   "cell_type": "markdown",
   "id": "3e38e434-de3d-40cc-b458-03d93c6309ed",
   "metadata": {},
   "source": [
    "`-` 내용 바꾸기"
   ]
  },
  {
   "cell_type": "code",
   "execution_count": 19,
   "id": "694a698f-458f-4d9a-b77a-b71630a45e7e",
   "metadata": {},
   "outputs": [
    {
     "data": {
      "text/html": [
       "201"
      ],
      "text/latex": [
       "201"
      ],
      "text/markdown": [
       "201"
      ],
      "text/plain": [
       "[1] 201"
      ]
     },
     "metadata": {},
     "output_type": "display_data"
    },
    {
     "data": {
      "text/html": [
       "<table class=\"dataframe\">\n",
       "<caption>A data.frame: 1 × 3</caption>\n",
       "<thead>\n",
       "\t<tr><th scope=col>제공대학명</th><th scope=col>대학소재지</th><th scope=col>구분</th></tr>\n",
       "\t<tr><th scope=col>&lt;chr&gt;</th><th scope=col>&lt;chr&gt;</th><th scope=col>&lt;chr&gt;</th></tr>\n",
       "</thead>\n",
       "<tbody>\n",
       "\t<tr><td>전북특별자치대학교</td><td>전라북도</td><td>국립</td></tr>\n",
       "</tbody>\n",
       "</table>\n"
      ],
      "text/latex": [
       "A data.frame: 1 × 3\n",
       "\\begin{tabular}{lll}\n",
       " 제공대학명 & 대학소재지 & 구분\\\\\n",
       " <chr> & <chr> & <chr>\\\\\n",
       "\\hline\n",
       "\t 전북특별자치대학교 & 전라북도 & 국립\\\\\n",
       "\\end{tabular}\n"
      ],
      "text/markdown": [
       "\n",
       "A data.frame: 1 × 3\n",
       "\n",
       "| 제공대학명 &lt;chr&gt; | 대학소재지 &lt;chr&gt; | 구분 &lt;chr&gt; |\n",
       "|---|---|---|\n",
       "| 전북특별자치대학교 | 전라북도 | 국립 |\n",
       "\n"
      ],
      "text/plain": [
       "  제공대학명         대학소재지 구분\n",
       "1 전북특별자치대학교 전라북도   국립"
      ]
     },
     "metadata": {},
     "output_type": "display_data"
    },
    {
     "data": {
      "text/html": [
       "<table class=\"dataframe\">\n",
       "<caption>A data.frame: 5 × 6</caption>\n",
       "<thead>\n",
       "\t<tr><th scope=col>강의코드</th><th scope=col>강의명</th><th scope=col>강의년도</th><th scope=col>강의학기</th><th scope=col>제공일자</th><th scope=col>제공대학명</th></tr>\n",
       "\t<tr><th scope=col>&lt;int&gt;</th><th scope=col>&lt;chr&gt;</th><th scope=col>&lt;int&gt;</th><th scope=col>&lt;int&gt;</th><th scope=col>&lt;chr&gt;</th><th scope=col>&lt;chr&gt;</th></tr>\n",
       "</thead>\n",
       "<tbody>\n",
       "\t<tr><td>133761</td><td>자바 프로그래밍      </td><td>2009</td><td>1</td><td>2008-12-11</td><td>전북특별자치대학교</td></tr>\n",
       "\t<tr><td>145685</td><td>조경수 관리          </td><td>2009</td><td>1</td><td>2009-11-05</td><td>전북특별자치대학교</td></tr>\n",
       "\t<tr><td>153670</td><td>전력전자 및 실험     </td><td>2009</td><td>2</td><td>2010-04-28</td><td>전북특별자치대학교</td></tr>\n",
       "\t<tr><td>156266</td><td>기능생리학 1         </td><td>2009</td><td>1</td><td>2010-06-10</td><td>전북특별자치대학교</td></tr>\n",
       "\t<tr><td>156446</td><td>BIN융합개론및세미나 1</td><td>2009</td><td>1</td><td>2010-06-11</td><td>전북특별자치대학교</td></tr>\n",
       "</tbody>\n",
       "</table>\n"
      ],
      "text/latex": [
       "A data.frame: 5 × 6\n",
       "\\begin{tabular}{llllll}\n",
       " 강의코드 & 강의명 & 강의년도 & 강의학기 & 제공일자 & 제공대학명\\\\\n",
       " <int> & <chr> & <int> & <int> & <chr> & <chr>\\\\\n",
       "\\hline\n",
       "\t 133761 & 자바 프로그래밍       & 2009 & 1 & 2008-12-11 & 전북특별자치대학교\\\\\n",
       "\t 145685 & 조경수 관리           & 2009 & 1 & 2009-11-05 & 전북특별자치대학교\\\\\n",
       "\t 153670 & 전력전자 및 실험      & 2009 & 2 & 2010-04-28 & 전북특별자치대학교\\\\\n",
       "\t 156266 & 기능생리학 1          & 2009 & 1 & 2010-06-10 & 전북특별자치대학교\\\\\n",
       "\t 156446 & BIN융합개론및세미나 1 & 2009 & 1 & 2010-06-11 & 전북특별자치대학교\\\\\n",
       "\\end{tabular}\n"
      ],
      "text/markdown": [
       "\n",
       "A data.frame: 5 × 6\n",
       "\n",
       "| 강의코드 &lt;int&gt; | 강의명 &lt;chr&gt; | 강의년도 &lt;int&gt; | 강의학기 &lt;int&gt; | 제공일자 &lt;chr&gt; | 제공대학명 &lt;chr&gt; |\n",
       "|---|---|---|---|---|---|\n",
       "| 133761 | 자바 프로그래밍       | 2009 | 1 | 2008-12-11 | 전북특별자치대학교 |\n",
       "| 145685 | 조경수 관리           | 2009 | 1 | 2009-11-05 | 전북특별자치대학교 |\n",
       "| 153670 | 전력전자 및 실험      | 2009 | 2 | 2010-04-28 | 전북특별자치대학교 |\n",
       "| 156266 | 기능생리학 1          | 2009 | 1 | 2010-06-10 | 전북특별자치대학교 |\n",
       "| 156446 | BIN융합개론및세미나 1 | 2009 | 1 | 2010-06-11 | 전북특별자치대학교 |\n",
       "\n"
      ],
      "text/plain": [
       "  강의코드 강의명                강의년도 강의학기 제공일자  \n",
       "1 133761   자바 프로그래밍       2009     1        2008-12-11\n",
       "2 145685   조경수 관리           2009     1        2009-11-05\n",
       "3 153670   전력전자 및 실험      2009     2        2010-04-28\n",
       "4 156266   기능생리학 1          2009     1        2010-06-10\n",
       "5 156446   BIN융합개론및세미나 1 2009     1        2010-06-11\n",
       "  제공대학명        \n",
       "1 전북특별자치대학교\n",
       "2 전북특별자치대학교\n",
       "3 전북특별자치대학교\n",
       "4 전북특별자치대학교\n",
       "5 전북특별자치대학교"
      ]
     },
     "metadata": {},
     "output_type": "display_data"
    },
    {
     "data": {
      "text/html": [
       "201"
      ],
      "text/latex": [
       "201"
      ],
      "text/markdown": [
       "201"
      ],
      "text/plain": [
       "[1] 201"
      ]
     },
     "metadata": {},
     "output_type": "display_data"
    }
   ],
   "source": [
    "dbExecute(conn, \"UPDATE university SET 제공대학명 = '전북특별자치대학교' WHERE 제공대학명 = '전북대학교'\")\n",
    "dbGetQuery(conn, \"SELECT * FROM university WHERE 제공대학명 = '전북특별자치대학교'\")\n",
    "dbGetQuery(conn, \"SELECT * FROM norm_course WHERE 제공대학명 = '전북특별자치대학교' LIMIT 5\")\n",
    "dbExecute(conn, \"UPDATE university SET 제공대학명 = '전북대학교' WHERE 제공대학명 = '전북특별자치대학교'\")\n",
    "## 다시 원래대로 돌려놓은 겁니다."
   ]
  },
  {
   "cell_type": "markdown",
   "id": "198d1eb4-2709-466d-8eca-9d277635a893",
   "metadata": {},
   "source": [
    "`-` 기본키 삭제하기(`SET NULL`의 경우 : 전북대학교 없애보기)"
   ]
  },
  {
   "cell_type": "code",
   "execution_count": 22,
   "id": "14128bdd-abc3-47ec-ad9f-6a0ea8969484",
   "metadata": {},
   "outputs": [
    {
     "data": {
      "text/html": [
       "201"
      ],
      "text/latex": [
       "201"
      ],
      "text/markdown": [
       "201"
      ],
      "text/plain": [
       "[1] 201"
      ]
     },
     "metadata": {},
     "output_type": "display_data"
    },
    {
     "data": {
      "text/html": [
       "<table class=\"dataframe\">\n",
       "<caption>A data.frame: 0 × 3</caption>\n",
       "<thead>\n",
       "\t<tr><th scope=col>제공대학명</th><th scope=col>대학소재지</th><th scope=col>구분</th></tr>\n",
       "\t<tr><th scope=col>&lt;chr&gt;</th><th scope=col>&lt;chr&gt;</th><th scope=col>&lt;chr&gt;</th></tr>\n",
       "</thead>\n",
       "<tbody>\n",
       "</tbody>\n",
       "</table>\n"
      ],
      "text/latex": [
       "A data.frame: 0 × 3\n",
       "\\begin{tabular}{lll}\n",
       " 제공대학명 & 대학소재지 & 구분\\\\\n",
       " <chr> & <chr> & <chr>\\\\\n",
       "\\hline\n",
       "\\end{tabular}\n"
      ],
      "text/markdown": [
       "\n",
       "A data.frame: 0 × 3\n",
       "\n",
       "| 제공대학명 &lt;chr&gt; | 대학소재지 &lt;chr&gt; | 구분 &lt;chr&gt; |\n",
       "|---|---|---|\n",
       "\n"
      ],
      "text/plain": [
       "     제공대학명 대학소재지 구분"
      ]
     },
     "metadata": {},
     "output_type": "display_data"
    },
    {
     "data": {
      "text/html": [
       "<table class=\"dataframe\">\n",
       "<caption>A data.frame: 0 × 6</caption>\n",
       "<thead>\n",
       "\t<tr><th scope=col>강의코드</th><th scope=col>강의명</th><th scope=col>강의년도</th><th scope=col>강의학기</th><th scope=col>제공일자</th><th scope=col>제공대학명</th></tr>\n",
       "\t<tr><th scope=col>&lt;int&gt;</th><th scope=col>&lt;chr&gt;</th><th scope=col>&lt;int&gt;</th><th scope=col>&lt;int&gt;</th><th scope=col>&lt;dbl&gt;</th><th scope=col>&lt;chr&gt;</th></tr>\n",
       "</thead>\n",
       "<tbody>\n",
       "</tbody>\n",
       "</table>\n"
      ],
      "text/latex": [
       "A data.frame: 0 × 6\n",
       "\\begin{tabular}{llllll}\n",
       " 강의코드 & 강의명 & 강의년도 & 강의학기 & 제공일자 & 제공대학명\\\\\n",
       " <int> & <chr> & <int> & <int> & <dbl> & <chr>\\\\\n",
       "\\hline\n",
       "\\end{tabular}\n"
      ],
      "text/markdown": [
       "\n",
       "A data.frame: 0 × 6\n",
       "\n",
       "| 강의코드 &lt;int&gt; | 강의명 &lt;chr&gt; | 강의년도 &lt;int&gt; | 강의학기 &lt;int&gt; | 제공일자 &lt;dbl&gt; | 제공대학명 &lt;chr&gt; |\n",
       "|---|---|---|---|---|---|\n",
       "\n"
      ],
      "text/plain": [
       "     강의코드 강의명 강의년도 강의학기 제공일자 제공대학명"
      ]
     },
     "metadata": {},
     "output_type": "display_data"
    }
   ],
   "source": [
    "dbExecute(conn, \"DELETE FROM university WHERE 제공대학명 = '전북대학교'\")\n",
    "dbGetQuery(conn, \"SELECT * FROM university WHERE 제공대학명 = '전북대학교'\")\n",
    "dbGetQuery(conn, \"SELECT * FROM norm_course WHERE 제공대학명 = NULL LIMIT 5\")"
   ]
  },
  {
   "cell_type": "code",
   "execution_count": 25,
   "id": "281d7a9f-33cb-4437-b23d-6e05464e4ec4",
   "metadata": {},
   "outputs": [
    {
     "data": {
      "text/html": [
       "<table class=\"dataframe\">\n",
       "<caption>A data.frame: 5 × 6</caption>\n",
       "<thead>\n",
       "\t<tr><th scope=col>강의코드</th><th scope=col>강의명</th><th scope=col>강의년도</th><th scope=col>강의학기</th><th scope=col>제공일자</th><th scope=col>제공대학명</th></tr>\n",
       "\t<tr><th scope=col>&lt;int&gt;</th><th scope=col>&lt;chr&gt;</th><th scope=col>&lt;int&gt;</th><th scope=col>&lt;int&gt;</th><th scope=col>&lt;chr&gt;</th><th scope=col>&lt;chr&gt;</th></tr>\n",
       "</thead>\n",
       "<tbody>\n",
       "\t<tr><td>133761</td><td>자바 프로그래밍      </td><td>2009</td><td>1</td><td>2008-12-11</td><td>NA</td></tr>\n",
       "\t<tr><td>145685</td><td>조경수 관리          </td><td>2009</td><td>1</td><td>2009-11-05</td><td>NA</td></tr>\n",
       "\t<tr><td>153670</td><td>전력전자 및 실험     </td><td>2009</td><td>2</td><td>2010-04-28</td><td>NA</td></tr>\n",
       "\t<tr><td>156266</td><td>기능생리학 1         </td><td>2009</td><td>1</td><td>2010-06-10</td><td>NA</td></tr>\n",
       "\t<tr><td>156446</td><td>BIN융합개론및세미나 1</td><td>2009</td><td>1</td><td>2010-06-11</td><td>NA</td></tr>\n",
       "</tbody>\n",
       "</table>\n"
      ],
      "text/latex": [
       "A data.frame: 5 × 6\n",
       "\\begin{tabular}{llllll}\n",
       " 강의코드 & 강의명 & 강의년도 & 강의학기 & 제공일자 & 제공대학명\\\\\n",
       " <int> & <chr> & <int> & <int> & <chr> & <chr>\\\\\n",
       "\\hline\n",
       "\t 133761 & 자바 프로그래밍       & 2009 & 1 & 2008-12-11 & NA\\\\\n",
       "\t 145685 & 조경수 관리           & 2009 & 1 & 2009-11-05 & NA\\\\\n",
       "\t 153670 & 전력전자 및 실험      & 2009 & 2 & 2010-04-28 & NA\\\\\n",
       "\t 156266 & 기능생리학 1          & 2009 & 1 & 2010-06-10 & NA\\\\\n",
       "\t 156446 & BIN융합개론및세미나 1 & 2009 & 1 & 2010-06-11 & NA\\\\\n",
       "\\end{tabular}\n"
      ],
      "text/markdown": [
       "\n",
       "A data.frame: 5 × 6\n",
       "\n",
       "| 강의코드 &lt;int&gt; | 강의명 &lt;chr&gt; | 강의년도 &lt;int&gt; | 강의학기 &lt;int&gt; | 제공일자 &lt;chr&gt; | 제공대학명 &lt;chr&gt; |\n",
       "|---|---|---|---|---|---|\n",
       "| 133761 | 자바 프로그래밍       | 2009 | 1 | 2008-12-11 | NA |\n",
       "| 145685 | 조경수 관리           | 2009 | 1 | 2009-11-05 | NA |\n",
       "| 153670 | 전력전자 및 실험      | 2009 | 2 | 2010-04-28 | NA |\n",
       "| 156266 | 기능생리학 1          | 2009 | 1 | 2010-06-10 | NA |\n",
       "| 156446 | BIN융합개론및세미나 1 | 2009 | 1 | 2010-06-11 | NA |\n",
       "\n"
      ],
      "text/plain": [
       "  강의코드 강의명                강의년도 강의학기 제공일자   제공대학명\n",
       "1 133761   자바 프로그래밍       2009     1        2008-12-11 NA        \n",
       "2 145685   조경수 관리           2009     1        2009-11-05 NA        \n",
       "3 153670   전력전자 및 실험      2009     2        2010-04-28 NA        \n",
       "4 156266   기능생리학 1          2009     1        2010-06-10 NA        \n",
       "5 156446   BIN융합개론및세미나 1 2009     1        2010-06-11 NA        "
      ]
     },
     "metadata": {},
     "output_type": "display_data"
    }
   ],
   "source": [
    "dbGetQuery(conn, \"SELECT * FROM norm_course WHERE 제공대학명 IS NULL LIMIT 5\")"
   ]
  },
  {
   "cell_type": "code",
   "execution_count": 26,
   "id": "9cff1fe2-2504-4c4a-b791-5a7c9089ef2b",
   "metadata": {},
   "outputs": [
    {
     "data": {
      "text/html": [
       "<table class=\"dataframe\">\n",
       "<caption>A data.frame: 5 × 4</caption>\n",
       "<thead>\n",
       "\t<tr><th scope=col>교수코드</th><th scope=col>담당교수명</th><th scope=col>담당분야</th><th scope=col>제공대학명</th></tr>\n",
       "\t<tr><th scope=col>&lt;int&gt;</th><th scope=col>&lt;chr&gt;</th><th scope=col>&lt;chr&gt;</th><th scope=col>&lt;chr&gt;</th></tr>\n",
       "</thead>\n",
       "<tbody>\n",
       "\t<tr><td>  9</td><td>마인숙</td><td>자연계열</td><td>NA</td></tr>\n",
       "\t<tr><td>103</td><td>곽지이</td><td>자연계열</td><td>NA</td></tr>\n",
       "\t<tr><td>104</td><td>이선영</td><td>자연계열</td><td>NA</td></tr>\n",
       "\t<tr><td>105</td><td>정수미</td><td>자연계열</td><td>NA</td></tr>\n",
       "\t<tr><td>106</td><td>최일선</td><td>자연계열</td><td>NA</td></tr>\n",
       "</tbody>\n",
       "</table>\n"
      ],
      "text/latex": [
       "A data.frame: 5 × 4\n",
       "\\begin{tabular}{llll}\n",
       " 교수코드 & 담당교수명 & 담당분야 & 제공대학명\\\\\n",
       " <int> & <chr> & <chr> & <chr>\\\\\n",
       "\\hline\n",
       "\t   9 & 마인숙 & 자연계열 & NA\\\\\n",
       "\t 103 & 곽지이 & 자연계열 & NA\\\\\n",
       "\t 104 & 이선영 & 자연계열 & NA\\\\\n",
       "\t 105 & 정수미 & 자연계열 & NA\\\\\n",
       "\t 106 & 최일선 & 자연계열 & NA\\\\\n",
       "\\end{tabular}\n"
      ],
      "text/markdown": [
       "\n",
       "A data.frame: 5 × 4\n",
       "\n",
       "| 교수코드 &lt;int&gt; | 담당교수명 &lt;chr&gt; | 담당분야 &lt;chr&gt; | 제공대학명 &lt;chr&gt; |\n",
       "|---|---|---|---|\n",
       "|   9 | 마인숙 | 자연계열 | NA |\n",
       "| 103 | 곽지이 | 자연계열 | NA |\n",
       "| 104 | 이선영 | 자연계열 | NA |\n",
       "| 105 | 정수미 | 자연계열 | NA |\n",
       "| 106 | 최일선 | 자연계열 | NA |\n",
       "\n"
      ],
      "text/plain": [
       "  교수코드 담당교수명 담당분야 제공대학명\n",
       "1   9      마인숙     자연계열 NA        \n",
       "2 103      곽지이     자연계열 NA        \n",
       "3 104      이선영     자연계열 NA        \n",
       "4 105      정수미     자연계열 NA        \n",
       "5 106      최일선     자연계열 NA        "
      ]
     },
     "metadata": {},
     "output_type": "display_data"
    }
   ],
   "source": [
    "dbGetQuery(conn, \"SELECT * FROM professor WHERE 제공대학명 IS NULL LIMIT 5\")"
   ]
  },
  {
   "cell_type": "markdown",
   "id": "6852cd50-44a6-4996-b8f4-7959716fc23d",
   "metadata": {},
   "source": [
    "**강의교육분류의 기본키**"
   ]
  },
  {
   "cell_type": "markdown",
   "id": "4cd3e608-d7d8-48e2-80e7-72a24157cafb",
   "metadata": {},
   "source": [
    "`-` 기본키 삭제하기 2(`CASCADE`의 경우 : 수학1 없애기)"
   ]
  },
  {
   "cell_type": "code",
   "execution_count": 31,
   "id": "ee398ff5-eba2-46e7-aae3-d19d28e89dc2",
   "metadata": {},
   "outputs": [
    {
     "data": {
      "text/html": [
       "<table class=\"dataframe\">\n",
       "<caption>A data.frame: 5 × 2</caption>\n",
       "<thead>\n",
       "\t<tr><th scope=col>강의명</th><th scope=col>교육분류</th></tr>\n",
       "\t<tr><th scope=col>&lt;chr&gt;</th><th scope=col>&lt;chr&gt;</th></tr>\n",
       "</thead>\n",
       "<tbody>\n",
       "\t<tr><td>대학수학1</td><td>수학ㆍ물리ㆍ천문ㆍ지리</td></tr>\n",
       "\t<tr><td>수학1    </td><td>수학ㆍ물리ㆍ천문ㆍ지리</td></tr>\n",
       "\t<tr><td>미적분학 </td><td>수학ㆍ물리ㆍ천문ㆍ지리</td></tr>\n",
       "\t<tr><td>공학수학1</td><td>수학ㆍ물리ㆍ천문ㆍ지리</td></tr>\n",
       "\t<tr><td>정수론   </td><td>수학ㆍ물리ㆍ천문ㆍ지리</td></tr>\n",
       "</tbody>\n",
       "</table>\n"
      ],
      "text/latex": [
       "A data.frame: 5 × 2\n",
       "\\begin{tabular}{ll}\n",
       " 강의명 & 교육분류\\\\\n",
       " <chr> & <chr>\\\\\n",
       "\\hline\n",
       "\t 대학수학1 & 수학ㆍ물리ㆍ천문ㆍ지리\\\\\n",
       "\t 수학1     & 수학ㆍ물리ㆍ천문ㆍ지리\\\\\n",
       "\t 미적분학  & 수학ㆍ물리ㆍ천문ㆍ지리\\\\\n",
       "\t 공학수학1 & 수학ㆍ물리ㆍ천문ㆍ지리\\\\\n",
       "\t 정수론    & 수학ㆍ물리ㆍ천문ㆍ지리\\\\\n",
       "\\end{tabular}\n"
      ],
      "text/markdown": [
       "\n",
       "A data.frame: 5 × 2\n",
       "\n",
       "| 강의명 &lt;chr&gt; | 교육분류 &lt;chr&gt; |\n",
       "|---|---|\n",
       "| 대학수학1 | 수학ㆍ물리ㆍ천문ㆍ지리 |\n",
       "| 수학1     | 수학ㆍ물리ㆍ천문ㆍ지리 |\n",
       "| 미적분학  | 수학ㆍ물리ㆍ천문ㆍ지리 |\n",
       "| 공학수학1 | 수학ㆍ물리ㆍ천문ㆍ지리 |\n",
       "| 정수론    | 수학ㆍ물리ㆍ천문ㆍ지리 |\n",
       "\n"
      ],
      "text/plain": [
       "  강의명    교육분류              \n",
       "1 대학수학1 수학ㆍ물리ㆍ천문ㆍ지리\n",
       "2 수학1     수학ㆍ물리ㆍ천문ㆍ지리\n",
       "3 미적분학  수학ㆍ물리ㆍ천문ㆍ지리\n",
       "4 공학수학1 수학ㆍ물리ㆍ천문ㆍ지리\n",
       "5 정수론    수학ㆍ물리ㆍ천문ㆍ지리"
      ]
     },
     "metadata": {},
     "output_type": "display_data"
    }
   ],
   "source": [
    "dbGetQuery(conn, \"SELECT * FROM course_classed LIMIT 5\")"
   ]
  },
  {
   "cell_type": "code",
   "execution_count": 33,
   "id": "e0abd7b7-da69-4157-a317-762e90d24439",
   "metadata": {},
   "outputs": [
    {
     "data": {
      "text/html": [
       "<table class=\"dataframe\">\n",
       "<caption>A data.frame: 3 × 6</caption>\n",
       "<thead>\n",
       "\t<tr><th scope=col>강의코드</th><th scope=col>강의명</th><th scope=col>강의년도</th><th scope=col>강의학기</th><th scope=col>제공일자</th><th scope=col>제공대학명</th></tr>\n",
       "\t<tr><th scope=col>&lt;int&gt;</th><th scope=col>&lt;chr&gt;</th><th scope=col>&lt;int&gt;</th><th scope=col>&lt;int&gt;</th><th scope=col>&lt;chr&gt;</th><th scope=col>&lt;chr&gt;</th></tr>\n",
       "</thead>\n",
       "<tbody>\n",
       "\t<tr><td>1104074</td><td>수학1</td><td>2015</td><td>1</td><td>2015-09-14</td><td>가천대학교</td></tr>\n",
       "\t<tr><td>1145182</td><td>수학1</td><td>2015</td><td>1</td><td>2010-09-09</td><td>아주대학교</td></tr>\n",
       "\t<tr><td>1171850</td><td>수학1</td><td>2016</td><td>1</td><td>2016-07-20</td><td>원광대학교</td></tr>\n",
       "</tbody>\n",
       "</table>\n"
      ],
      "text/latex": [
       "A data.frame: 3 × 6\n",
       "\\begin{tabular}{llllll}\n",
       " 강의코드 & 강의명 & 강의년도 & 강의학기 & 제공일자 & 제공대학명\\\\\n",
       " <int> & <chr> & <int> & <int> & <chr> & <chr>\\\\\n",
       "\\hline\n",
       "\t 1104074 & 수학1 & 2015 & 1 & 2015-09-14 & 가천대학교\\\\\n",
       "\t 1145182 & 수학1 & 2015 & 1 & 2010-09-09 & 아주대학교\\\\\n",
       "\t 1171850 & 수학1 & 2016 & 1 & 2016-07-20 & 원광대학교\\\\\n",
       "\\end{tabular}\n"
      ],
      "text/markdown": [
       "\n",
       "A data.frame: 3 × 6\n",
       "\n",
       "| 강의코드 &lt;int&gt; | 강의명 &lt;chr&gt; | 강의년도 &lt;int&gt; | 강의학기 &lt;int&gt; | 제공일자 &lt;chr&gt; | 제공대학명 &lt;chr&gt; |\n",
       "|---|---|---|---|---|---|\n",
       "| 1104074 | 수학1 | 2015 | 1 | 2015-09-14 | 가천대학교 |\n",
       "| 1145182 | 수학1 | 2015 | 1 | 2010-09-09 | 아주대학교 |\n",
       "| 1171850 | 수학1 | 2016 | 1 | 2016-07-20 | 원광대학교 |\n",
       "\n"
      ],
      "text/plain": [
       "  강의코드 강의명 강의년도 강의학기 제공일자   제공대학명\n",
       "1 1104074  수학1  2015     1        2015-09-14 가천대학교\n",
       "2 1145182  수학1  2015     1        2010-09-09 아주대학교\n",
       "3 1171850  수학1  2016     1        2016-07-20 원광대학교"
      ]
     },
     "metadata": {},
     "output_type": "display_data"
    }
   ],
   "source": [
    "dbGetQuery(conn, \"SELECT * FROM norm_course WHERE 강의명 = '수학1'\")"
   ]
  },
  {
   "cell_type": "code",
   "execution_count": 34,
   "id": "7117a2b8-41db-4536-af1f-cfb1aae172e3",
   "metadata": {},
   "outputs": [
    {
     "data": {
      "text/html": [
       "6"
      ],
      "text/latex": [
       "6"
      ],
      "text/markdown": [
       "6"
      ],
      "text/plain": [
       "[1] 6"
      ]
     },
     "metadata": {},
     "output_type": "display_data"
    }
   ],
   "source": [
    "dbExecute(conn, \"DELETE FROM norm_course WHERE 강의명 = '수학1'\")"
   ]
  },
  {
   "cell_type": "code",
   "execution_count": 35,
   "id": "159865fa-2d00-4589-8569-a4bd7a9f8f6a",
   "metadata": {},
   "outputs": [
    {
     "data": {
      "text/html": [
       "<table class=\"dataframe\">\n",
       "<caption>A data.frame: 0 × 6</caption>\n",
       "<thead>\n",
       "\t<tr><th scope=col>강의코드</th><th scope=col>강의명</th><th scope=col>강의년도</th><th scope=col>강의학기</th><th scope=col>제공일자</th><th scope=col>제공대학명</th></tr>\n",
       "\t<tr><th scope=col>&lt;int&gt;</th><th scope=col>&lt;chr&gt;</th><th scope=col>&lt;int&gt;</th><th scope=col>&lt;int&gt;</th><th scope=col>&lt;dbl&gt;</th><th scope=col>&lt;chr&gt;</th></tr>\n",
       "</thead>\n",
       "<tbody>\n",
       "</tbody>\n",
       "</table>\n"
      ],
      "text/latex": [
       "A data.frame: 0 × 6\n",
       "\\begin{tabular}{llllll}\n",
       " 강의코드 & 강의명 & 강의년도 & 강의학기 & 제공일자 & 제공대학명\\\\\n",
       " <int> & <chr> & <int> & <int> & <dbl> & <chr>\\\\\n",
       "\\hline\n",
       "\\end{tabular}\n"
      ],
      "text/markdown": [
       "\n",
       "A data.frame: 0 × 6\n",
       "\n",
       "| 강의코드 &lt;int&gt; | 강의명 &lt;chr&gt; | 강의년도 &lt;int&gt; | 강의학기 &lt;int&gt; | 제공일자 &lt;dbl&gt; | 제공대학명 &lt;chr&gt; |\n",
       "|---|---|---|---|---|---|\n",
       "\n"
      ],
      "text/plain": [
       "     강의코드 강의명 강의년도 강의학기 제공일자 제공대학명"
      ]
     },
     "metadata": {},
     "output_type": "display_data"
    }
   ],
   "source": [
    "dbGetQuery(conn, \"SELECT * FROM norm_course WHERE 강의명 = '수학1'\")"
   ]
  },
  {
   "cell_type": "markdown",
   "id": "2518bae5-406a-40d3-9159-8d0eefc50ec3",
   "metadata": {},
   "source": [
    "> 튜플이 전부 제거되어 ON DELETE CASCADE인 것을 확인 가능"
   ]
  },
  {
   "cell_type": "markdown",
   "id": "12b5b45c-a2d0-4a65-8513-0aab726e2e60",
   "metadata": {},
   "source": [
    "모든 외래키에 대해서 설명할 수 있으면 가장 좋고, 그렇지 않다면 NULL과 CASCADE로 설정된 것들 각각만이라도 설명하고 다른 것들도 이렇게 되어있다고 해주세요.\n",
    "\n",
    "아래를 같이 보여주며 설명하는 것도 좋습니다.(각 테이블의 스키마 정보)"
   ]
  },
  {
   "cell_type": "code",
   "execution_count": 36,
   "id": "dd2d5bf1-a87d-4b04-a08e-7bf76da0a168",
   "metadata": {},
   "outputs": [
    {
     "data": {
      "text/html": [
       "<table class=\"dataframe\">\n",
       "<caption>A data.frame: 8 × 5</caption>\n",
       "<thead>\n",
       "\t<tr><th scope=col>type</th><th scope=col>name</th><th scope=col>tbl_name</th><th scope=col>rootpage</th><th scope=col>sql</th></tr>\n",
       "\t<tr><th scope=col>&lt;chr&gt;</th><th scope=col>&lt;chr&gt;</th><th scope=col>&lt;chr&gt;</th><th scope=col>&lt;int&gt;</th><th scope=col>&lt;chr&gt;</th></tr>\n",
       "</thead>\n",
       "<tbody>\n",
       "\t<tr><td>table</td><td>university                       </td><td>university    </td><td>2</td><td>CREATE TABLE university (\n",
       "  제공대학명 TEXT PRIMARY KEY,\n",
       "  대학소재지 TEXT,\n",
       "  구분 TEXT\n",
       ")                                                                                                                                                                                                                       </td></tr>\n",
       "\t<tr><td>index</td><td>sqlite_autoindex_university_1    </td><td>university    </td><td>3</td><td>NA                                                                                                                                                                                                                                                                                                                  </td></tr>\n",
       "\t<tr><td>table</td><td>norm_course                      </td><td>norm_course   </td><td>4</td><td>CREATE TABLE norm_course (\n",
       "  강의코드 INTEGER PRIMARY KEY,\n",
       "  강의명 TEXT,\n",
       "  강의년도 INTEGER,\n",
       "  강의학기 INTEGER,\n",
       "  제공일자 DATE,\n",
       "  제공대학명 TEXT,\n",
       "  FOREIGN KEY (제공대학명) \n",
       "  REFERENCES university(제공대학명)\n",
       "  ON UPDATE CASCADE\n",
       "  ON DELETE SET NUll\n",
       ")                                         </td></tr>\n",
       "\t<tr><td>table</td><td>professor                        </td><td>professor     </td><td>5</td><td>CREATE TABLE professor (\n",
       "  교수코드 INTEGER PRIMARY KEY,\n",
       "  담당교수명 TEXT,\n",
       "  담당분야 TEXT,\n",
       "  제공대학명 TEXT,\n",
       "  FOREIGN KEY (제공대학명)\n",
       "  REFERENCES university(제공대학명)\n",
       "  ON UPDATE CASCADE\n",
       "  ON DELETE SET NUll\n",
       ")                                                                                  </td></tr>\n",
       "\t<tr><td>table</td><td>charge                           </td><td>charge        </td><td>6</td><td>CREATE TABLE charge (\n",
       "  교수코드 INTEGER,\n",
       "  강의코드 INTEGER,\n",
       "  FOREIGN KEY (교수코드)\n",
       "  REFERENCES professor(교수코드)\n",
       "  ON UPDATE CASCADE\n",
       "  ON DELETE CASCADE\n",
       "  FOREIGN KEY (강의코드)\n",
       "  REFERENCES norm_course(강의코드)\n",
       "  ON UPDATE CASCADE\n",
       "  ON DELETE CASCADE\n",
       "  PRIMARY KEY (교수코드, 강의코드)\n",
       ")</td></tr>\n",
       "\t<tr><td>index</td><td>sqlite_autoindex_charge_1        </td><td>charge        </td><td>7</td><td>NA                                                                                                                                                                                                                                                                                                                  </td></tr>\n",
       "\t<tr><td>table</td><td>course_classed                   </td><td>course_classed</td><td>8</td><td>CREATE TABLE course_classed (\n",
       "  강의명 TEXT PRIMARY KEY,\n",
       "  교육분류 TEXT\n",
       ")                                                                                                                                                                                                                                       </td></tr>\n",
       "\t<tr><td>index</td><td>sqlite_autoindex_course_classed_1</td><td>course_classed</td><td>9</td><td>NA                                                                                                                                                                                                                                                                                                                  </td></tr>\n",
       "</tbody>\n",
       "</table>\n"
      ],
      "text/latex": [
       "A data.frame: 8 × 5\n",
       "\\begin{tabular}{lllll}\n",
       " type & name & tbl\\_name & rootpage & sql\\\\\n",
       " <chr> & <chr> & <chr> & <int> & <chr>\\\\\n",
       "\\hline\n",
       "\t table & university                        & university     & 2 & CREATE TABLE university (\n",
       "  제공대학명 TEXT PRIMARY KEY,\n",
       "  대학소재지 TEXT,\n",
       "  구분 TEXT\n",
       ")                                                                                                                                                                                                                       \\\\\n",
       "\t index & sqlite\\_autoindex\\_university\\_1     & university     & 3 & NA                                                                                                                                                                                                                                                                                                                  \\\\\n",
       "\t table & norm\\_course                       & norm\\_course    & 4 & CREATE TABLE norm\\_course (\n",
       "  강의코드 INTEGER PRIMARY KEY,\n",
       "  강의명 TEXT,\n",
       "  강의년도 INTEGER,\n",
       "  강의학기 INTEGER,\n",
       "  제공일자 DATE,\n",
       "  제공대학명 TEXT,\n",
       "  FOREIGN KEY (제공대학명) \n",
       "  REFERENCES university(제공대학명)\n",
       "  ON UPDATE CASCADE\n",
       "  ON DELETE SET NUll\n",
       ")                                         \\\\\n",
       "\t table & professor                         & professor      & 5 & CREATE TABLE professor (\n",
       "  교수코드 INTEGER PRIMARY KEY,\n",
       "  담당교수명 TEXT,\n",
       "  담당분야 TEXT,\n",
       "  제공대학명 TEXT,\n",
       "  FOREIGN KEY (제공대학명)\n",
       "  REFERENCES university(제공대학명)\n",
       "  ON UPDATE CASCADE\n",
       "  ON DELETE SET NUll\n",
       ")                                                                                  \\\\\n",
       "\t table & charge                            & charge         & 6 & CREATE TABLE charge (\n",
       "  교수코드 INTEGER,\n",
       "  강의코드 INTEGER,\n",
       "  FOREIGN KEY (교수코드)\n",
       "  REFERENCES professor(교수코드)\n",
       "  ON UPDATE CASCADE\n",
       "  ON DELETE CASCADE\n",
       "  FOREIGN KEY (강의코드)\n",
       "  REFERENCES norm\\_course(강의코드)\n",
       "  ON UPDATE CASCADE\n",
       "  ON DELETE CASCADE\n",
       "  PRIMARY KEY (교수코드, 강의코드)\n",
       ")\\\\\n",
       "\t index & sqlite\\_autoindex\\_charge\\_1         & charge         & 7 & NA                                                                                                                                                                                                                                                                                                                  \\\\\n",
       "\t table & course\\_classed                    & course\\_classed & 8 & CREATE TABLE course\\_classed (\n",
       "  강의명 TEXT PRIMARY KEY,\n",
       "  교육분류 TEXT\n",
       ")                                                                                                                                                                                                                                       \\\\\n",
       "\t index & sqlite\\_autoindex\\_course\\_classed\\_1 & course\\_classed & 9 & NA                                                                                                                                                                                                                                                                                                                  \\\\\n",
       "\\end{tabular}\n"
      ],
      "text/markdown": [
       "\n",
       "A data.frame: 8 × 5\n",
       "\n",
       "| type &lt;chr&gt; | name &lt;chr&gt; | tbl_name &lt;chr&gt; | rootpage &lt;int&gt; | sql &lt;chr&gt; |\n",
       "|---|---|---|---|---|\n",
       "| table | university                        | university     | 2 | CREATE TABLE university (\n",
       "  제공대학명 TEXT PRIMARY KEY,\n",
       "  대학소재지 TEXT,\n",
       "  구분 TEXT\n",
       ")                                                                                                                                                                                                                        |\n",
       "| index | sqlite_autoindex_university_1     | university     | 3 | NA                                                                                                                                                                                                                                                                                                                   |\n",
       "| table | norm_course                       | norm_course    | 4 | CREATE TABLE norm_course (\n",
       "  강의코드 INTEGER PRIMARY KEY,\n",
       "  강의명 TEXT,\n",
       "  강의년도 INTEGER,\n",
       "  강의학기 INTEGER,\n",
       "  제공일자 DATE,\n",
       "  제공대학명 TEXT,\n",
       "  FOREIGN KEY (제공대학명) \n",
       "  REFERENCES university(제공대학명)\n",
       "  ON UPDATE CASCADE\n",
       "  ON DELETE SET NUll\n",
       ")                                          |\n",
       "| table | professor                         | professor      | 5 | CREATE TABLE professor (\n",
       "  교수코드 INTEGER PRIMARY KEY,\n",
       "  담당교수명 TEXT,\n",
       "  담당분야 TEXT,\n",
       "  제공대학명 TEXT,\n",
       "  FOREIGN KEY (제공대학명)\n",
       "  REFERENCES university(제공대학명)\n",
       "  ON UPDATE CASCADE\n",
       "  ON DELETE SET NUll\n",
       ")                                                                                   |\n",
       "| table | charge                            | charge         | 6 | CREATE TABLE charge (\n",
       "  교수코드 INTEGER,\n",
       "  강의코드 INTEGER,\n",
       "  FOREIGN KEY (교수코드)\n",
       "  REFERENCES professor(교수코드)\n",
       "  ON UPDATE CASCADE\n",
       "  ON DELETE CASCADE\n",
       "  FOREIGN KEY (강의코드)\n",
       "  REFERENCES norm_course(강의코드)\n",
       "  ON UPDATE CASCADE\n",
       "  ON DELETE CASCADE\n",
       "  PRIMARY KEY (교수코드, 강의코드)\n",
       ") |\n",
       "| index | sqlite_autoindex_charge_1         | charge         | 7 | NA                                                                                                                                                                                                                                                                                                                   |\n",
       "| table | course_classed                    | course_classed | 8 | CREATE TABLE course_classed (\n",
       "  강의명 TEXT PRIMARY KEY,\n",
       "  교육분류 TEXT\n",
       ")                                                                                                                                                                                                                                        |\n",
       "| index | sqlite_autoindex_course_classed_1 | course_classed | 9 | NA                                                                                                                                                                                                                                                                                                                   |\n",
       "\n"
      ],
      "text/plain": [
       "  type  name                              tbl_name       rootpage\n",
       "1 table university                        university     2       \n",
       "2 index sqlite_autoindex_university_1     university     3       \n",
       "3 table norm_course                       norm_course    4       \n",
       "4 table professor                         professor      5       \n",
       "5 table charge                            charge         6       \n",
       "6 index sqlite_autoindex_charge_1         charge         7       \n",
       "7 table course_classed                    course_classed 8       \n",
       "8 index sqlite_autoindex_course_classed_1 course_classed 9       \n",
       "  sql                                                                                                                                                                                                                                                                                                                 \n",
       "1 CREATE TABLE university (\\n  제공대학명 TEXT PRIMARY KEY,\\n  대학소재지 TEXT,\\n  구분 TEXT\\n)                                                                                                                                                                                                                       \n",
       "2 NA                                                                                                                                                                                                                                                                                                                  \n",
       "3 CREATE TABLE norm_course (\\n  강의코드 INTEGER PRIMARY KEY,\\n  강의명 TEXT,\\n  강의년도 INTEGER,\\n  강의학기 INTEGER,\\n  제공일자 DATE,\\n  제공대학명 TEXT,\\n  FOREIGN KEY (제공대학명) \\n  REFERENCES university(제공대학명)\\n  ON UPDATE CASCADE\\n  ON DELETE SET NUll\\n)                                         \n",
       "4 CREATE TABLE professor (\\n  교수코드 INTEGER PRIMARY KEY,\\n  담당교수명 TEXT,\\n  담당분야 TEXT,\\n  제공대학명 TEXT,\\n  FOREIGN KEY (제공대학명)\\n  REFERENCES university(제공대학명)\\n  ON UPDATE CASCADE\\n  ON DELETE SET NUll\\n)                                                                                  \n",
       "5 CREATE TABLE charge (\\n  교수코드 INTEGER,\\n  강의코드 INTEGER,\\n  FOREIGN KEY (교수코드)\\n  REFERENCES professor(교수코드)\\n  ON UPDATE CASCADE\\n  ON DELETE CASCADE\\n  FOREIGN KEY (강의코드)\\n  REFERENCES norm_course(강의코드)\\n  ON UPDATE CASCADE\\n  ON DELETE CASCADE\\n  PRIMARY KEY (교수코드, 강의코드)\\n)\n",
       "6 NA                                                                                                                                                                                                                                                                                                                  \n",
       "7 CREATE TABLE course_classed (\\n  강의명 TEXT PRIMARY KEY,\\n  교육분류 TEXT\\n)                                                                                                                                                                                                                                       \n",
       "8 NA                                                                                                                                                                                                                                                                                                                  "
      ]
     },
     "metadata": {},
     "output_type": "display_data"
    }
   ],
   "source": [
    "dbGetQuery(conn, \"SELECT * FROM sqlite_schema\")"
   ]
  },
  {
   "cell_type": "markdown",
   "id": "71cdc7da-4acc-4e17-aef3-1f6cd1a872fa",
   "metadata": {
    "jp-MarkdownHeadingCollapsed": true
   },
   "source": [
    "### 3. 조인 조작의 정상성 여부 확인"
   ]
  },
  {
   "cell_type": "markdown",
   "id": "7ff99f93-92c7-40f1-902d-392bded2e6cf",
   "metadata": {},
   "source": [
    "`#` 해야할 일\n",
    "\n",
    "**조인으로 분리 전 테이블 만들어보기**\n",
    "\n",
    "* SQL 구문을 통해 쪼개기 전 테이블을 단계에 걸쳐 재구성해봅니다.\n",
    "\n",
    "* 모든 개체가 참여하며, 완전종속이고, NULL값이 없기 때문에 내부조인만으로도 가능합니다.\n",
    "\n",
    "* 2번을 수행하신 뒤라면 백업한 DB파일을 재로드하신 뒤 아래 과정을 수행하셔아 합니다. 그렇지 않으면 NA값이 생겨요."
   ]
  },
  {
   "cell_type": "markdown",
   "id": "35761fe2-aab9-48bb-976a-92f002e3d316",
   "metadata": {},
   "source": [
    "`-` 제공대학명을 기준으로 교수와 제공대학을 내부 조인"
   ]
  },
  {
   "cell_type": "code",
   "execution_count": 103,
   "id": "4dad4771-5247-4e49-ae77-fce6d6759218",
   "metadata": {},
   "outputs": [
    {
     "data": {
      "text/html": [
       "<table class=\"dataframe\">\n",
       "<caption>A data.frame: 6 × 6</caption>\n",
       "<thead>\n",
       "\t<tr><th scope=col>강의코드</th><th scope=col>강의명</th><th scope=col>강의년도</th><th scope=col>강의학기</th><th scope=col>제공일자</th><th scope=col>제공대학명</th></tr>\n",
       "\t<tr><th scope=col>&lt;int&gt;</th><th scope=col>&lt;chr&gt;</th><th scope=col>&lt;int&gt;</th><th scope=col>&lt;int&gt;</th><th scope=col>&lt;chr&gt;</th><th scope=col>&lt;chr&gt;</th></tr>\n",
       "</thead>\n",
       "<tbody>\n",
       "\t<tr><td>127521</td><td>윤리학 개론      </td><td>2009</td><td>1</td><td>2009-03-12</td><td>연세대학교          </td></tr>\n",
       "\t<tr><td>127676</td><td>발명과 특허      </td><td>2009</td><td>1</td><td>2009-04-30</td><td>부경대학교          </td></tr>\n",
       "\t<tr><td>128045</td><td>연구방법론       </td><td>2009</td><td>1</td><td>2015-08-30</td><td>삼육대학교          </td></tr>\n",
       "\t<tr><td>128322</td><td>사회복지 개론    </td><td>2009</td><td>1</td><td>2009-06-30</td><td>을지대학교          </td></tr>\n",
       "\t<tr><td>128348</td><td>부부 이마고 치료 </td><td>2009</td><td>1</td><td>2022-09-28</td><td>수도국제대학원대학교</td></tr>\n",
       "\t<tr><td>128362</td><td>레크리에이션 지도</td><td>2009</td><td>1</td><td>2009-06-30</td><td>공주대학교          </td></tr>\n",
       "</tbody>\n",
       "</table>\n"
      ],
      "text/latex": [
       "A data.frame: 6 × 6\n",
       "\\begin{tabular}{llllll}\n",
       " 강의코드 & 강의명 & 강의년도 & 강의학기 & 제공일자 & 제공대학명\\\\\n",
       " <int> & <chr> & <int> & <int> & <chr> & <chr>\\\\\n",
       "\\hline\n",
       "\t 127521 & 윤리학 개론       & 2009 & 1 & 2009-03-12 & 연세대학교          \\\\\n",
       "\t 127676 & 발명과 특허       & 2009 & 1 & 2009-04-30 & 부경대학교          \\\\\n",
       "\t 128045 & 연구방법론        & 2009 & 1 & 2015-08-30 & 삼육대학교          \\\\\n",
       "\t 128322 & 사회복지 개론     & 2009 & 1 & 2009-06-30 & 을지대학교          \\\\\n",
       "\t 128348 & 부부 이마고 치료  & 2009 & 1 & 2022-09-28 & 수도국제대학원대학교\\\\\n",
       "\t 128362 & 레크리에이션 지도 & 2009 & 1 & 2009-06-30 & 공주대학교          \\\\\n",
       "\\end{tabular}\n"
      ],
      "text/markdown": [
       "\n",
       "A data.frame: 6 × 6\n",
       "\n",
       "| 강의코드 &lt;int&gt; | 강의명 &lt;chr&gt; | 강의년도 &lt;int&gt; | 강의학기 &lt;int&gt; | 제공일자 &lt;chr&gt; | 제공대학명 &lt;chr&gt; |\n",
       "|---|---|---|---|---|---|\n",
       "| 127521 | 윤리학 개론       | 2009 | 1 | 2009-03-12 | 연세대학교           |\n",
       "| 127676 | 발명과 특허       | 2009 | 1 | 2009-04-30 | 부경대학교           |\n",
       "| 128045 | 연구방법론        | 2009 | 1 | 2015-08-30 | 삼육대학교           |\n",
       "| 128322 | 사회복지 개론     | 2009 | 1 | 2009-06-30 | 을지대학교           |\n",
       "| 128348 | 부부 이마고 치료  | 2009 | 1 | 2022-09-28 | 수도국제대학원대학교 |\n",
       "| 128362 | 레크리에이션 지도 | 2009 | 1 | 2009-06-30 | 공주대학교           |\n",
       "\n"
      ],
      "text/plain": [
       "  강의코드 강의명            강의년도 강의학기 제공일자   제공대학명          \n",
       "1 127521   윤리학 개론       2009     1        2009-03-12 연세대학교          \n",
       "2 127676   발명과 특허       2009     1        2009-04-30 부경대학교          \n",
       "3 128045   연구방법론        2009     1        2015-08-30 삼육대학교          \n",
       "4 128322   사회복지 개론     2009     1        2009-06-30 을지대학교          \n",
       "5 128348   부부 이마고 치료  2009     1        2022-09-28 수도국제대학원대학교\n",
       "6 128362   레크리에이션 지도 2009     1        2009-06-30 공주대학교          "
      ]
     },
     "metadata": {},
     "output_type": "display_data"
    }
   ],
   "source": [
    "dbGetQuery(conn, \"SELECT * FROM norm_course LIMIT 6\")"
   ]
  },
  {
   "cell_type": "code",
   "execution_count": 104,
   "id": "4f59d6db-dae9-4f67-8807-d81de776e31b",
   "metadata": {},
   "outputs": [
    {
     "data": {
      "text/html": [
       "<table class=\"dataframe\">\n",
       "<caption>A data.frame: 6 × 3</caption>\n",
       "<thead>\n",
       "\t<tr><th scope=col>제공대학명</th><th scope=col>대학소재지</th><th scope=col>구분</th></tr>\n",
       "\t<tr><th scope=col>&lt;chr&gt;</th><th scope=col>&lt;chr&gt;</th><th scope=col>&lt;chr&gt;</th></tr>\n",
       "</thead>\n",
       "<tbody>\n",
       "\t<tr><td>한경대학교              </td><td>경기도    </td><td>국립</td></tr>\n",
       "\t<tr><td>가천대학교              </td><td>경기도    </td><td>사립</td></tr>\n",
       "\t<tr><td>단국대학교              </td><td>경기도    </td><td>사립</td></tr>\n",
       "\t<tr><td>성균관대학교            </td><td>서울특별시</td><td>사립</td></tr>\n",
       "\t<tr><td>덕성여자대학교          </td><td>서울특별시</td><td>사립</td></tr>\n",
       "\t<tr><td>과학기술연합대학원대학교</td><td>대전광역시</td><td>국립</td></tr>\n",
       "</tbody>\n",
       "</table>\n"
      ],
      "text/latex": [
       "A data.frame: 6 × 3\n",
       "\\begin{tabular}{lll}\n",
       " 제공대학명 & 대학소재지 & 구분\\\\\n",
       " <chr> & <chr> & <chr>\\\\\n",
       "\\hline\n",
       "\t 한경대학교               & 경기도     & 국립\\\\\n",
       "\t 가천대학교               & 경기도     & 사립\\\\\n",
       "\t 단국대학교               & 경기도     & 사립\\\\\n",
       "\t 성균관대학교             & 서울특별시 & 사립\\\\\n",
       "\t 덕성여자대학교           & 서울특별시 & 사립\\\\\n",
       "\t 과학기술연합대학원대학교 & 대전광역시 & 국립\\\\\n",
       "\\end{tabular}\n"
      ],
      "text/markdown": [
       "\n",
       "A data.frame: 6 × 3\n",
       "\n",
       "| 제공대학명 &lt;chr&gt; | 대학소재지 &lt;chr&gt; | 구분 &lt;chr&gt; |\n",
       "|---|---|---|\n",
       "| 한경대학교               | 경기도     | 국립 |\n",
       "| 가천대학교               | 경기도     | 사립 |\n",
       "| 단국대학교               | 경기도     | 사립 |\n",
       "| 성균관대학교             | 서울특별시 | 사립 |\n",
       "| 덕성여자대학교           | 서울특별시 | 사립 |\n",
       "| 과학기술연합대학원대학교 | 대전광역시 | 국립 |\n",
       "\n"
      ],
      "text/plain": [
       "  제공대학명               대학소재지 구분\n",
       "1 한경대학교               경기도     국립\n",
       "2 가천대학교               경기도     사립\n",
       "3 단국대학교               경기도     사립\n",
       "4 성균관대학교             서울특별시 사립\n",
       "5 덕성여자대학교           서울특별시 사립\n",
       "6 과학기술연합대학원대학교 대전광역시 국립"
      ]
     },
     "metadata": {},
     "output_type": "display_data"
    }
   ],
   "source": [
    "dbGetQuery(conn, \"SELECT * FROM university LIMIT 6\")"
   ]
  },
  {
   "cell_type": "code",
   "execution_count": 129,
   "id": "dcdd455f-3875-4bd4-97b9-0615991cdd25",
   "metadata": {},
   "outputs": [
    {
     "data": {
      "text/html": [
       "<table class=\"dataframe\">\n",
       "<caption>A data.frame: 6 × 6</caption>\n",
       "<thead>\n",
       "\t<tr><th scope=col>교수코드</th><th scope=col>담당교수명</th><th scope=col>담당분야</th><th scope=col>제공대학명</th><th scope=col>대학소재지</th><th scope=col>구분</th></tr>\n",
       "\t<tr><th scope=col>&lt;int&gt;</th><th scope=col>&lt;chr&gt;</th><th scope=col>&lt;chr&gt;</th><th scope=col>&lt;chr&gt;</th><th scope=col>&lt;chr&gt;</th><th scope=col>&lt;chr&gt;</th></tr>\n",
       "</thead>\n",
       "<tbody>\n",
       "\t<tr><td>0</td><td>안상욱</td><td>자연계열</td><td>한경대학교              </td><td>경기도    </td><td>국립</td></tr>\n",
       "\t<tr><td>1</td><td>이중호</td><td>자연계열</td><td>가천대학교              </td><td>경기도    </td><td>사립</td></tr>\n",
       "\t<tr><td>2</td><td>최수한</td><td>자연계열</td><td>단국대학교              </td><td>경기도    </td><td>사립</td></tr>\n",
       "\t<tr><td>3</td><td>김문현</td><td>자연계열</td><td>성균관대학교            </td><td>서울특별시</td><td>사립</td></tr>\n",
       "\t<tr><td>4</td><td>이상준</td><td>자연계열</td><td>덕성여자대학교          </td><td>서울특별시</td><td>사립</td></tr>\n",
       "\t<tr><td>5</td><td>나성호</td><td>자연계열</td><td>과학기술연합대학원대학교</td><td>대전광역시</td><td>국립</td></tr>\n",
       "</tbody>\n",
       "</table>\n"
      ],
      "text/latex": [
       "A data.frame: 6 × 6\n",
       "\\begin{tabular}{llllll}\n",
       " 교수코드 & 담당교수명 & 담당분야 & 제공대학명 & 대학소재지 & 구분\\\\\n",
       " <int> & <chr> & <chr> & <chr> & <chr> & <chr>\\\\\n",
       "\\hline\n",
       "\t 0 & 안상욱 & 자연계열 & 한경대학교               & 경기도     & 국립\\\\\n",
       "\t 1 & 이중호 & 자연계열 & 가천대학교               & 경기도     & 사립\\\\\n",
       "\t 2 & 최수한 & 자연계열 & 단국대학교               & 경기도     & 사립\\\\\n",
       "\t 3 & 김문현 & 자연계열 & 성균관대학교             & 서울특별시 & 사립\\\\\n",
       "\t 4 & 이상준 & 자연계열 & 덕성여자대학교           & 서울특별시 & 사립\\\\\n",
       "\t 5 & 나성호 & 자연계열 & 과학기술연합대학원대학교 & 대전광역시 & 국립\\\\\n",
       "\\end{tabular}\n"
      ],
      "text/markdown": [
       "\n",
       "A data.frame: 6 × 6\n",
       "\n",
       "| 교수코드 &lt;int&gt; | 담당교수명 &lt;chr&gt; | 담당분야 &lt;chr&gt; | 제공대학명 &lt;chr&gt; | 대학소재지 &lt;chr&gt; | 구분 &lt;chr&gt; |\n",
       "|---|---|---|---|---|---|\n",
       "| 0 | 안상욱 | 자연계열 | 한경대학교               | 경기도     | 국립 |\n",
       "| 1 | 이중호 | 자연계열 | 가천대학교               | 경기도     | 사립 |\n",
       "| 2 | 최수한 | 자연계열 | 단국대학교               | 경기도     | 사립 |\n",
       "| 3 | 김문현 | 자연계열 | 성균관대학교             | 서울특별시 | 사립 |\n",
       "| 4 | 이상준 | 자연계열 | 덕성여자대학교           | 서울특별시 | 사립 |\n",
       "| 5 | 나성호 | 자연계열 | 과학기술연합대학원대학교 | 대전광역시 | 국립 |\n",
       "\n"
      ],
      "text/plain": [
       "  교수코드 담당교수명 담당분야 제공대학명               대학소재지 구분\n",
       "1 0        안상욱     자연계열 한경대학교               경기도     국립\n",
       "2 1        이중호     자연계열 가천대학교               경기도     사립\n",
       "3 2        최수한     자연계열 단국대학교               경기도     사립\n",
       "4 3        김문현     자연계열 성균관대학교             서울특별시 사립\n",
       "5 4        이상준     자연계열 덕성여자대학교           서울특별시 사립\n",
       "6 5        나성호     자연계열 과학기술연합대학원대학교 대전광역시 국립"
      ]
     },
     "metadata": {},
     "output_type": "display_data"
    }
   ],
   "source": [
    "dbGetQuery(conn, \"SELECT 교수코드, 담당교수명, 담당분야, university.제공대학명 AS 제공대학명, 대학소재지, 구분\n",
    "           FROM university INNER JOIN professor ON university.제공대학명 = professor.제공대학명 LIMIT 6\")"
   ]
  },
  {
   "cell_type": "markdown",
   "id": "697417b7-5145-4dda-ae22-c581e687b1af",
   "metadata": {},
   "source": [
    "`-` 위 테이블과 담당을 조인"
   ]
  },
  {
   "cell_type": "code",
   "execution_count": 106,
   "id": "897a98fd-333f-4bba-9624-ad2d0f4a7ec0",
   "metadata": {},
   "outputs": [
    {
     "data": {
      "text/html": [
       "<table class=\"dataframe\">\n",
       "<caption>A data.frame: 6 × 2</caption>\n",
       "<thead>\n",
       "\t<tr><th scope=col>교수코드</th><th scope=col>강의코드</th></tr>\n",
       "\t<tr><th scope=col>&lt;int&gt;</th><th scope=col>&lt;int&gt;</th></tr>\n",
       "</thead>\n",
       "<tbody>\n",
       "\t<tr><td>0</td><td>1095582</td></tr>\n",
       "\t<tr><td>1</td><td>1104074</td></tr>\n",
       "\t<tr><td>2</td><td>1110603</td></tr>\n",
       "\t<tr><td>3</td><td>1112400</td></tr>\n",
       "\t<tr><td>4</td><td>1118072</td></tr>\n",
       "\t<tr><td>4</td><td>1118158</td></tr>\n",
       "</tbody>\n",
       "</table>\n"
      ],
      "text/latex": [
       "A data.frame: 6 × 2\n",
       "\\begin{tabular}{ll}\n",
       " 교수코드 & 강의코드\\\\\n",
       " <int> & <int>\\\\\n",
       "\\hline\n",
       "\t 0 & 1095582\\\\\n",
       "\t 1 & 1104074\\\\\n",
       "\t 2 & 1110603\\\\\n",
       "\t 3 & 1112400\\\\\n",
       "\t 4 & 1118072\\\\\n",
       "\t 4 & 1118158\\\\\n",
       "\\end{tabular}\n"
      ],
      "text/markdown": [
       "\n",
       "A data.frame: 6 × 2\n",
       "\n",
       "| 교수코드 &lt;int&gt; | 강의코드 &lt;int&gt; |\n",
       "|---|---|\n",
       "| 0 | 1095582 |\n",
       "| 1 | 1104074 |\n",
       "| 2 | 1110603 |\n",
       "| 3 | 1112400 |\n",
       "| 4 | 1118072 |\n",
       "| 4 | 1118158 |\n",
       "\n"
      ],
      "text/plain": [
       "  교수코드 강의코드\n",
       "1 0        1095582 \n",
       "2 1        1104074 \n",
       "3 2        1110603 \n",
       "4 3        1112400 \n",
       "5 4        1118072 \n",
       "6 4        1118158 "
      ]
     },
     "metadata": {},
     "output_type": "display_data"
    }
   ],
   "source": [
    "dbGetQuery(conn, \"SELECT * FROM charge LIMIT 6\")"
   ]
  },
  {
   "cell_type": "code",
   "execution_count": 130,
   "id": "539a82c3-f7cd-4739-9440-269ace31a729",
   "metadata": {},
   "outputs": [
    {
     "data": {
      "text/html": [
       "<table class=\"dataframe\">\n",
       "<caption>A data.frame: 6 × 7</caption>\n",
       "<thead>\n",
       "\t<tr><th scope=col>강의코드</th><th scope=col>교수코드</th><th scope=col>담당교수명</th><th scope=col>담당분야</th><th scope=col>제공대학명</th><th scope=col>대학소재지</th><th scope=col>구분</th></tr>\n",
       "\t<tr><th scope=col>&lt;int&gt;</th><th scope=col>&lt;int&gt;</th><th scope=col>&lt;chr&gt;</th><th scope=col>&lt;chr&gt;</th><th scope=col>&lt;chr&gt;</th><th scope=col>&lt;chr&gt;</th><th scope=col>&lt;chr&gt;</th></tr>\n",
       "</thead>\n",
       "<tbody>\n",
       "\t<tr><td>1095582</td><td>0</td><td>안상욱</td><td>자연계열</td><td>한경대학교    </td><td>경기도    </td><td>국립</td></tr>\n",
       "\t<tr><td>1104074</td><td>1</td><td>이중호</td><td>자연계열</td><td>가천대학교    </td><td>경기도    </td><td>사립</td></tr>\n",
       "\t<tr><td>1110603</td><td>2</td><td>최수한</td><td>자연계열</td><td>단국대학교    </td><td>경기도    </td><td>사립</td></tr>\n",
       "\t<tr><td>1112400</td><td>3</td><td>김문현</td><td>자연계열</td><td>성균관대학교  </td><td>서울특별시</td><td>사립</td></tr>\n",
       "\t<tr><td>1118072</td><td>4</td><td>이상준</td><td>자연계열</td><td>덕성여자대학교</td><td>서울특별시</td><td>사립</td></tr>\n",
       "\t<tr><td>1118158</td><td>4</td><td>이상준</td><td>자연계열</td><td>덕성여자대학교</td><td>서울특별시</td><td>사립</td></tr>\n",
       "</tbody>\n",
       "</table>\n"
      ],
      "text/latex": [
       "A data.frame: 6 × 7\n",
       "\\begin{tabular}{lllllll}\n",
       " 강의코드 & 교수코드 & 담당교수명 & 담당분야 & 제공대학명 & 대학소재지 & 구분\\\\\n",
       " <int> & <int> & <chr> & <chr> & <chr> & <chr> & <chr>\\\\\n",
       "\\hline\n",
       "\t 1095582 & 0 & 안상욱 & 자연계열 & 한경대학교     & 경기도     & 국립\\\\\n",
       "\t 1104074 & 1 & 이중호 & 자연계열 & 가천대학교     & 경기도     & 사립\\\\\n",
       "\t 1110603 & 2 & 최수한 & 자연계열 & 단국대학교     & 경기도     & 사립\\\\\n",
       "\t 1112400 & 3 & 김문현 & 자연계열 & 성균관대학교   & 서울특별시 & 사립\\\\\n",
       "\t 1118072 & 4 & 이상준 & 자연계열 & 덕성여자대학교 & 서울특별시 & 사립\\\\\n",
       "\t 1118158 & 4 & 이상준 & 자연계열 & 덕성여자대학교 & 서울특별시 & 사립\\\\\n",
       "\\end{tabular}\n"
      ],
      "text/markdown": [
       "\n",
       "A data.frame: 6 × 7\n",
       "\n",
       "| 강의코드 &lt;int&gt; | 교수코드 &lt;int&gt; | 담당교수명 &lt;chr&gt; | 담당분야 &lt;chr&gt; | 제공대학명 &lt;chr&gt; | 대학소재지 &lt;chr&gt; | 구분 &lt;chr&gt; |\n",
       "|---|---|---|---|---|---|---|\n",
       "| 1095582 | 0 | 안상욱 | 자연계열 | 한경대학교     | 경기도     | 국립 |\n",
       "| 1104074 | 1 | 이중호 | 자연계열 | 가천대학교     | 경기도     | 사립 |\n",
       "| 1110603 | 2 | 최수한 | 자연계열 | 단국대학교     | 경기도     | 사립 |\n",
       "| 1112400 | 3 | 김문현 | 자연계열 | 성균관대학교   | 서울특별시 | 사립 |\n",
       "| 1118072 | 4 | 이상준 | 자연계열 | 덕성여자대학교 | 서울특별시 | 사립 |\n",
       "| 1118158 | 4 | 이상준 | 자연계열 | 덕성여자대학교 | 서울특별시 | 사립 |\n",
       "\n"
      ],
      "text/plain": [
       "  강의코드 교수코드 담당교수명 담당분야 제공대학명     대학소재지 구분\n",
       "1 1095582  0        안상욱     자연계열 한경대학교     경기도     국립\n",
       "2 1104074  1        이중호     자연계열 가천대학교     경기도     사립\n",
       "3 1110603  2        최수한     자연계열 단국대학교     경기도     사립\n",
       "4 1112400  3        김문현     자연계열 성균관대학교   서울특별시 사립\n",
       "5 1118072  4        이상준     자연계열 덕성여자대학교 서울특별시 사립\n",
       "6 1118158  4        이상준     자연계열 덕성여자대학교 서울특별시 사립"
      ]
     },
     "metadata": {},
     "output_type": "display_data"
    }
   ],
   "source": [
    "dbGetQuery(conn, \"SELECT 강의코드,\n",
    "           professor.교수코드 AS 교수코드, 담당교수명, 담당분야,\n",
    "           university.제공대학명 AS 제공대학명, 대학소재지, 구분\n",
    "           FROM university INNER JOIN professor ON university.제공대학명 = professor.제공대학명\n",
    "           INNER JOIN charge ON professor.교수코드 = charge.교수코드 LIMIT 6\")"
   ]
  },
  {
   "cell_type": "markdown",
   "id": "df5dd9f4-b3c2-4c77-99cf-0df873495f8b",
   "metadata": {},
   "source": [
    "`-` 위 테이블과 강의를 조인"
   ]
  },
  {
   "cell_type": "code",
   "execution_count": 112,
   "id": "4a1d9588-efe2-42c4-ac2b-e9898143c22b",
   "metadata": {},
   "outputs": [
    {
     "data": {
      "text/html": [
       "<table class=\"dataframe\">\n",
       "<caption>A data.frame: 6 × 6</caption>\n",
       "<thead>\n",
       "\t<tr><th scope=col>강의코드</th><th scope=col>강의명</th><th scope=col>강의년도</th><th scope=col>강의학기</th><th scope=col>제공일자</th><th scope=col>제공대학명</th></tr>\n",
       "\t<tr><th scope=col>&lt;int&gt;</th><th scope=col>&lt;chr&gt;</th><th scope=col>&lt;int&gt;</th><th scope=col>&lt;int&gt;</th><th scope=col>&lt;chr&gt;</th><th scope=col>&lt;chr&gt;</th></tr>\n",
       "</thead>\n",
       "<tbody>\n",
       "\t<tr><td>127521</td><td>윤리학 개론      </td><td>2009</td><td>1</td><td>2009-03-12</td><td>연세대학교          </td></tr>\n",
       "\t<tr><td>127676</td><td>발명과 특허      </td><td>2009</td><td>1</td><td>2009-04-30</td><td>부경대학교          </td></tr>\n",
       "\t<tr><td>128045</td><td>연구방법론       </td><td>2009</td><td>1</td><td>2015-08-30</td><td>삼육대학교          </td></tr>\n",
       "\t<tr><td>128322</td><td>사회복지 개론    </td><td>2009</td><td>1</td><td>2009-06-30</td><td>을지대학교          </td></tr>\n",
       "\t<tr><td>128348</td><td>부부 이마고 치료 </td><td>2009</td><td>1</td><td>2022-09-28</td><td>수도국제대학원대학교</td></tr>\n",
       "\t<tr><td>128362</td><td>레크리에이션 지도</td><td>2009</td><td>1</td><td>2009-06-30</td><td>공주대학교          </td></tr>\n",
       "</tbody>\n",
       "</table>\n"
      ],
      "text/latex": [
       "A data.frame: 6 × 6\n",
       "\\begin{tabular}{llllll}\n",
       " 강의코드 & 강의명 & 강의년도 & 강의학기 & 제공일자 & 제공대학명\\\\\n",
       " <int> & <chr> & <int> & <int> & <chr> & <chr>\\\\\n",
       "\\hline\n",
       "\t 127521 & 윤리학 개론       & 2009 & 1 & 2009-03-12 & 연세대학교          \\\\\n",
       "\t 127676 & 발명과 특허       & 2009 & 1 & 2009-04-30 & 부경대학교          \\\\\n",
       "\t 128045 & 연구방법론        & 2009 & 1 & 2015-08-30 & 삼육대학교          \\\\\n",
       "\t 128322 & 사회복지 개론     & 2009 & 1 & 2009-06-30 & 을지대학교          \\\\\n",
       "\t 128348 & 부부 이마고 치료  & 2009 & 1 & 2022-09-28 & 수도국제대학원대학교\\\\\n",
       "\t 128362 & 레크리에이션 지도 & 2009 & 1 & 2009-06-30 & 공주대학교          \\\\\n",
       "\\end{tabular}\n"
      ],
      "text/markdown": [
       "\n",
       "A data.frame: 6 × 6\n",
       "\n",
       "| 강의코드 &lt;int&gt; | 강의명 &lt;chr&gt; | 강의년도 &lt;int&gt; | 강의학기 &lt;int&gt; | 제공일자 &lt;chr&gt; | 제공대학명 &lt;chr&gt; |\n",
       "|---|---|---|---|---|---|\n",
       "| 127521 | 윤리학 개론       | 2009 | 1 | 2009-03-12 | 연세대학교           |\n",
       "| 127676 | 발명과 특허       | 2009 | 1 | 2009-04-30 | 부경대학교           |\n",
       "| 128045 | 연구방법론        | 2009 | 1 | 2015-08-30 | 삼육대학교           |\n",
       "| 128322 | 사회복지 개론     | 2009 | 1 | 2009-06-30 | 을지대학교           |\n",
       "| 128348 | 부부 이마고 치료  | 2009 | 1 | 2022-09-28 | 수도국제대학원대학교 |\n",
       "| 128362 | 레크리에이션 지도 | 2009 | 1 | 2009-06-30 | 공주대학교           |\n",
       "\n"
      ],
      "text/plain": [
       "  강의코드 강의명            강의년도 강의학기 제공일자   제공대학명          \n",
       "1 127521   윤리학 개론       2009     1        2009-03-12 연세대학교          \n",
       "2 127676   발명과 특허       2009     1        2009-04-30 부경대학교          \n",
       "3 128045   연구방법론        2009     1        2015-08-30 삼육대학교          \n",
       "4 128322   사회복지 개론     2009     1        2009-06-30 을지대학교          \n",
       "5 128348   부부 이마고 치료  2009     1        2022-09-28 수도국제대학원대학교\n",
       "6 128362   레크리에이션 지도 2009     1        2009-06-30 공주대학교          "
      ]
     },
     "metadata": {},
     "output_type": "display_data"
    }
   ],
   "source": [
    "dbGetQuery(conn, \"SELECT * FROM norm_course LIMIT 6\")"
   ]
  },
  {
   "cell_type": "code",
   "execution_count": 136,
   "id": "f1fdcc4d-9f8f-437c-8444-7ee828785646",
   "metadata": {},
   "outputs": [
    {
     "data": {
      "text/html": [
       "<table class=\"dataframe\">\n",
       "<caption>A data.frame: 6 × 11</caption>\n",
       "<thead>\n",
       "\t<tr><th scope=col>강의코드</th><th scope=col>강의명</th><th scope=col>강의년도</th><th scope=col>강의학기</th><th scope=col>제공일자</th><th scope=col>교수코드</th><th scope=col>담당교수명</th><th scope=col>담당분야</th><th scope=col>제공대학명</th><th scope=col>대학소재지</th><th scope=col>구분</th></tr>\n",
       "\t<tr><th scope=col>&lt;int&gt;</th><th scope=col>&lt;chr&gt;</th><th scope=col>&lt;int&gt;</th><th scope=col>&lt;int&gt;</th><th scope=col>&lt;chr&gt;</th><th scope=col>&lt;int&gt;</th><th scope=col>&lt;chr&gt;</th><th scope=col>&lt;chr&gt;</th><th scope=col>&lt;chr&gt;</th><th scope=col>&lt;chr&gt;</th><th scope=col>&lt;chr&gt;</th></tr>\n",
       "</thead>\n",
       "<tbody>\n",
       "\t<tr><td>1095582</td><td>대학수학1</td><td>2015</td><td>1</td><td>2015-08-30</td><td>0</td><td>안상욱</td><td>자연계열</td><td>한경대학교    </td><td>경기도    </td><td>국립</td></tr>\n",
       "\t<tr><td>1104074</td><td>수학1    </td><td>2015</td><td>1</td><td>2015-09-14</td><td>1</td><td>이중호</td><td>자연계열</td><td>가천대학교    </td><td>경기도    </td><td>사립</td></tr>\n",
       "\t<tr><td>1110603</td><td>미적분학 </td><td>2015</td><td>1</td><td>2015-10-08</td><td>2</td><td>최수한</td><td>자연계열</td><td>단국대학교    </td><td>경기도    </td><td>사립</td></tr>\n",
       "\t<tr><td>1112400</td><td>공학수학1</td><td>2015</td><td>1</td><td>2015-11-02</td><td>3</td><td>김문현</td><td>자연계열</td><td>성균관대학교  </td><td>서울특별시</td><td>사립</td></tr>\n",
       "\t<tr><td>1118072</td><td>정수론   </td><td>2015</td><td>2</td><td>2015-12-16</td><td>4</td><td>이상준</td><td>자연계열</td><td>덕성여자대학교</td><td>서울특별시</td><td>사립</td></tr>\n",
       "\t<tr><td>1118158</td><td>확률론   </td><td>2015</td><td>2</td><td>2015-12-16</td><td>4</td><td>이상준</td><td>자연계열</td><td>덕성여자대학교</td><td>서울특별시</td><td>사립</td></tr>\n",
       "</tbody>\n",
       "</table>\n"
      ],
      "text/latex": [
       "A data.frame: 6 × 11\n",
       "\\begin{tabular}{lllllllllll}\n",
       " 강의코드 & 강의명 & 강의년도 & 강의학기 & 제공일자 & 교수코드 & 담당교수명 & 담당분야 & 제공대학명 & 대학소재지 & 구분\\\\\n",
       " <int> & <chr> & <int> & <int> & <chr> & <int> & <chr> & <chr> & <chr> & <chr> & <chr>\\\\\n",
       "\\hline\n",
       "\t 1095582 & 대학수학1 & 2015 & 1 & 2015-08-30 & 0 & 안상욱 & 자연계열 & 한경대학교     & 경기도     & 국립\\\\\n",
       "\t 1104074 & 수학1     & 2015 & 1 & 2015-09-14 & 1 & 이중호 & 자연계열 & 가천대학교     & 경기도     & 사립\\\\\n",
       "\t 1110603 & 미적분학  & 2015 & 1 & 2015-10-08 & 2 & 최수한 & 자연계열 & 단국대학교     & 경기도     & 사립\\\\\n",
       "\t 1112400 & 공학수학1 & 2015 & 1 & 2015-11-02 & 3 & 김문현 & 자연계열 & 성균관대학교   & 서울특별시 & 사립\\\\\n",
       "\t 1118072 & 정수론    & 2015 & 2 & 2015-12-16 & 4 & 이상준 & 자연계열 & 덕성여자대학교 & 서울특별시 & 사립\\\\\n",
       "\t 1118158 & 확률론    & 2015 & 2 & 2015-12-16 & 4 & 이상준 & 자연계열 & 덕성여자대학교 & 서울특별시 & 사립\\\\\n",
       "\\end{tabular}\n"
      ],
      "text/markdown": [
       "\n",
       "A data.frame: 6 × 11\n",
       "\n",
       "| 강의코드 &lt;int&gt; | 강의명 &lt;chr&gt; | 강의년도 &lt;int&gt; | 강의학기 &lt;int&gt; | 제공일자 &lt;chr&gt; | 교수코드 &lt;int&gt; | 담당교수명 &lt;chr&gt; | 담당분야 &lt;chr&gt; | 제공대학명 &lt;chr&gt; | 대학소재지 &lt;chr&gt; | 구분 &lt;chr&gt; |\n",
       "|---|---|---|---|---|---|---|---|---|---|---|\n",
       "| 1095582 | 대학수학1 | 2015 | 1 | 2015-08-30 | 0 | 안상욱 | 자연계열 | 한경대학교     | 경기도     | 국립 |\n",
       "| 1104074 | 수학1     | 2015 | 1 | 2015-09-14 | 1 | 이중호 | 자연계열 | 가천대학교     | 경기도     | 사립 |\n",
       "| 1110603 | 미적분학  | 2015 | 1 | 2015-10-08 | 2 | 최수한 | 자연계열 | 단국대학교     | 경기도     | 사립 |\n",
       "| 1112400 | 공학수학1 | 2015 | 1 | 2015-11-02 | 3 | 김문현 | 자연계열 | 성균관대학교   | 서울특별시 | 사립 |\n",
       "| 1118072 | 정수론    | 2015 | 2 | 2015-12-16 | 4 | 이상준 | 자연계열 | 덕성여자대학교 | 서울특별시 | 사립 |\n",
       "| 1118158 | 확률론    | 2015 | 2 | 2015-12-16 | 4 | 이상준 | 자연계열 | 덕성여자대학교 | 서울특별시 | 사립 |\n",
       "\n"
      ],
      "text/plain": [
       "  강의코드 강의명    강의년도 강의학기 제공일자   교수코드 담당교수명 담당분야\n",
       "1 1095582  대학수학1 2015     1        2015-08-30 0        안상욱     자연계열\n",
       "2 1104074  수학1     2015     1        2015-09-14 1        이중호     자연계열\n",
       "3 1110603  미적분학  2015     1        2015-10-08 2        최수한     자연계열\n",
       "4 1112400  공학수학1 2015     1        2015-11-02 3        김문현     자연계열\n",
       "5 1118072  정수론    2015     2        2015-12-16 4        이상준     자연계열\n",
       "6 1118158  확률론    2015     2        2015-12-16 4        이상준     자연계열\n",
       "  제공대학명     대학소재지 구분\n",
       "1 한경대학교     경기도     국립\n",
       "2 가천대학교     경기도     사립\n",
       "3 단국대학교     경기도     사립\n",
       "4 성균관대학교   서울특별시 사립\n",
       "5 덕성여자대학교 서울특별시 사립\n",
       "6 덕성여자대학교 서울특별시 사립"
      ]
     },
     "metadata": {},
     "output_type": "display_data"
    }
   ],
   "source": [
    "dbGetQuery(conn, \"SELECT norm_course.강의코드 AS 강의코드, 강의명, 강의년도, 강의학기, 제공일자,\n",
    "           professor.교수코드 AS 교수코드, 담당교수명, 담당분야,\n",
    "           university.제공대학명 AS 제공대학명, 대학소재지, 구분\n",
    "           FROM university INNER JOIN professor ON university.제공대학명 = professor.제공대학명\n",
    "           INNER JOIN charge ON professor.교수코드 = charge.교수코드\n",
    "           INNER JOIN norm_course ON charge.강의코드 = norm_course.강의코드 LIMIT 6\")"
   ]
  },
  {
   "cell_type": "markdown",
   "id": "db9213c5-7da0-4634-b882-bcb9aa794164",
   "metadata": {},
   "source": [
    "`-` 위 테이블과 강의교육분류를 내부 조인"
   ]
  },
  {
   "cell_type": "code",
   "execution_count": 117,
   "id": "14ea3e1e-4647-4875-88b5-e6e597fdd201",
   "metadata": {},
   "outputs": [
    {
     "data": {
      "text/html": [
       "<table class=\"dataframe\">\n",
       "<caption>A data.frame: 6 × 2</caption>\n",
       "<thead>\n",
       "\t<tr><th scope=col>강의명</th><th scope=col>교육분류</th></tr>\n",
       "\t<tr><th scope=col>&lt;chr&gt;</th><th scope=col>&lt;chr&gt;</th></tr>\n",
       "</thead>\n",
       "<tbody>\n",
       "\t<tr><td>대학수학1</td><td>수학ㆍ물리ㆍ천문ㆍ지리</td></tr>\n",
       "\t<tr><td>수학1    </td><td>수학ㆍ물리ㆍ천문ㆍ지리</td></tr>\n",
       "\t<tr><td>미적분학 </td><td>수학ㆍ물리ㆍ천문ㆍ지리</td></tr>\n",
       "\t<tr><td>공학수학1</td><td>수학ㆍ물리ㆍ천문ㆍ지리</td></tr>\n",
       "\t<tr><td>정수론   </td><td>수학ㆍ물리ㆍ천문ㆍ지리</td></tr>\n",
       "\t<tr><td>확률론   </td><td>수학ㆍ물리ㆍ천문ㆍ지리</td></tr>\n",
       "</tbody>\n",
       "</table>\n"
      ],
      "text/latex": [
       "A data.frame: 6 × 2\n",
       "\\begin{tabular}{ll}\n",
       " 강의명 & 교육분류\\\\\n",
       " <chr> & <chr>\\\\\n",
       "\\hline\n",
       "\t 대학수학1 & 수학ㆍ물리ㆍ천문ㆍ지리\\\\\n",
       "\t 수학1     & 수학ㆍ물리ㆍ천문ㆍ지리\\\\\n",
       "\t 미적분학  & 수학ㆍ물리ㆍ천문ㆍ지리\\\\\n",
       "\t 공학수학1 & 수학ㆍ물리ㆍ천문ㆍ지리\\\\\n",
       "\t 정수론    & 수학ㆍ물리ㆍ천문ㆍ지리\\\\\n",
       "\t 확률론    & 수학ㆍ물리ㆍ천문ㆍ지리\\\\\n",
       "\\end{tabular}\n"
      ],
      "text/markdown": [
       "\n",
       "A data.frame: 6 × 2\n",
       "\n",
       "| 강의명 &lt;chr&gt; | 교육분류 &lt;chr&gt; |\n",
       "|---|---|\n",
       "| 대학수학1 | 수학ㆍ물리ㆍ천문ㆍ지리 |\n",
       "| 수학1     | 수학ㆍ물리ㆍ천문ㆍ지리 |\n",
       "| 미적분학  | 수학ㆍ물리ㆍ천문ㆍ지리 |\n",
       "| 공학수학1 | 수학ㆍ물리ㆍ천문ㆍ지리 |\n",
       "| 정수론    | 수학ㆍ물리ㆍ천문ㆍ지리 |\n",
       "| 확률론    | 수학ㆍ물리ㆍ천문ㆍ지리 |\n",
       "\n"
      ],
      "text/plain": [
       "  강의명    교육분류              \n",
       "1 대학수학1 수학ㆍ물리ㆍ천문ㆍ지리\n",
       "2 수학1     수학ㆍ물리ㆍ천문ㆍ지리\n",
       "3 미적분학  수학ㆍ물리ㆍ천문ㆍ지리\n",
       "4 공학수학1 수학ㆍ물리ㆍ천문ㆍ지리\n",
       "5 정수론    수학ㆍ물리ㆍ천문ㆍ지리\n",
       "6 확률론    수학ㆍ물리ㆍ천문ㆍ지리"
      ]
     },
     "metadata": {},
     "output_type": "display_data"
    }
   ],
   "source": [
    "dbGetQuery(conn, \"SELECT * FROM course_classed LIMIT 6\")"
   ]
  },
  {
   "cell_type": "code",
   "execution_count": 138,
   "id": "1b823fbd-f58a-43ca-8855-3d63cad5af0d",
   "metadata": {},
   "outputs": [
    {
     "data": {
      "text/html": [
       "<table class=\"dataframe\">\n",
       "<caption>A data.frame: 6 × 12</caption>\n",
       "<thead>\n",
       "\t<tr><th scope=col>강의코드</th><th scope=col>강의년도</th><th scope=col>강의학기</th><th scope=col>제공일자</th><th scope=col>강의명</th><th scope=col>교육분류</th><th scope=col>교수코드</th><th scope=col>담당교수명</th><th scope=col>담당분야</th><th scope=col>제공대학명</th><th scope=col>대학소재지</th><th scope=col>구분</th></tr>\n",
       "\t<tr><th scope=col>&lt;int&gt;</th><th scope=col>&lt;int&gt;</th><th scope=col>&lt;int&gt;</th><th scope=col>&lt;chr&gt;</th><th scope=col>&lt;chr&gt;</th><th scope=col>&lt;chr&gt;</th><th scope=col>&lt;int&gt;</th><th scope=col>&lt;chr&gt;</th><th scope=col>&lt;chr&gt;</th><th scope=col>&lt;chr&gt;</th><th scope=col>&lt;chr&gt;</th><th scope=col>&lt;chr&gt;</th></tr>\n",
       "</thead>\n",
       "<tbody>\n",
       "\t<tr><td>1095582</td><td>2015</td><td>1</td><td>2015-08-30</td><td>대학수학1</td><td>수학ㆍ물리ㆍ천문ㆍ지리</td><td>0</td><td>안상욱</td><td>자연계열</td><td>한경대학교    </td><td>경기도    </td><td>국립</td></tr>\n",
       "\t<tr><td>1104074</td><td>2015</td><td>1</td><td>2015-09-14</td><td>수학1    </td><td>수학ㆍ물리ㆍ천문ㆍ지리</td><td>1</td><td>이중호</td><td>자연계열</td><td>가천대학교    </td><td>경기도    </td><td>사립</td></tr>\n",
       "\t<tr><td>1110603</td><td>2015</td><td>1</td><td>2015-10-08</td><td>미적분학 </td><td>수학ㆍ물리ㆍ천문ㆍ지리</td><td>2</td><td>최수한</td><td>자연계열</td><td>단국대학교    </td><td>경기도    </td><td>사립</td></tr>\n",
       "\t<tr><td>1112400</td><td>2015</td><td>1</td><td>2015-11-02</td><td>공학수학1</td><td>수학ㆍ물리ㆍ천문ㆍ지리</td><td>3</td><td>김문현</td><td>자연계열</td><td>성균관대학교  </td><td>서울특별시</td><td>사립</td></tr>\n",
       "\t<tr><td>1118072</td><td>2015</td><td>2</td><td>2015-12-16</td><td>정수론   </td><td>수학ㆍ물리ㆍ천문ㆍ지리</td><td>4</td><td>이상준</td><td>자연계열</td><td>덕성여자대학교</td><td>서울특별시</td><td>사립</td></tr>\n",
       "\t<tr><td>1118158</td><td>2015</td><td>2</td><td>2015-12-16</td><td>확률론   </td><td>수학ㆍ물리ㆍ천문ㆍ지리</td><td>4</td><td>이상준</td><td>자연계열</td><td>덕성여자대학교</td><td>서울특별시</td><td>사립</td></tr>\n",
       "</tbody>\n",
       "</table>\n"
      ],
      "text/latex": [
       "A data.frame: 6 × 12\n",
       "\\begin{tabular}{llllllllllll}\n",
       " 강의코드 & 강의년도 & 강의학기 & 제공일자 & 강의명 & 교육분류 & 교수코드 & 담당교수명 & 담당분야 & 제공대학명 & 대학소재지 & 구분\\\\\n",
       " <int> & <int> & <int> & <chr> & <chr> & <chr> & <int> & <chr> & <chr> & <chr> & <chr> & <chr>\\\\\n",
       "\\hline\n",
       "\t 1095582 & 2015 & 1 & 2015-08-30 & 대학수학1 & 수학ㆍ물리ㆍ천문ㆍ지리 & 0 & 안상욱 & 자연계열 & 한경대학교     & 경기도     & 국립\\\\\n",
       "\t 1104074 & 2015 & 1 & 2015-09-14 & 수학1     & 수학ㆍ물리ㆍ천문ㆍ지리 & 1 & 이중호 & 자연계열 & 가천대학교     & 경기도     & 사립\\\\\n",
       "\t 1110603 & 2015 & 1 & 2015-10-08 & 미적분학  & 수학ㆍ물리ㆍ천문ㆍ지리 & 2 & 최수한 & 자연계열 & 단국대학교     & 경기도     & 사립\\\\\n",
       "\t 1112400 & 2015 & 1 & 2015-11-02 & 공학수학1 & 수학ㆍ물리ㆍ천문ㆍ지리 & 3 & 김문현 & 자연계열 & 성균관대학교   & 서울특별시 & 사립\\\\\n",
       "\t 1118072 & 2015 & 2 & 2015-12-16 & 정수론    & 수학ㆍ물리ㆍ천문ㆍ지리 & 4 & 이상준 & 자연계열 & 덕성여자대학교 & 서울특별시 & 사립\\\\\n",
       "\t 1118158 & 2015 & 2 & 2015-12-16 & 확률론    & 수학ㆍ물리ㆍ천문ㆍ지리 & 4 & 이상준 & 자연계열 & 덕성여자대학교 & 서울특별시 & 사립\\\\\n",
       "\\end{tabular}\n"
      ],
      "text/markdown": [
       "\n",
       "A data.frame: 6 × 12\n",
       "\n",
       "| 강의코드 &lt;int&gt; | 강의년도 &lt;int&gt; | 강의학기 &lt;int&gt; | 제공일자 &lt;chr&gt; | 강의명 &lt;chr&gt; | 교육분류 &lt;chr&gt; | 교수코드 &lt;int&gt; | 담당교수명 &lt;chr&gt; | 담당분야 &lt;chr&gt; | 제공대학명 &lt;chr&gt; | 대학소재지 &lt;chr&gt; | 구분 &lt;chr&gt; |\n",
       "|---|---|---|---|---|---|---|---|---|---|---|---|\n",
       "| 1095582 | 2015 | 1 | 2015-08-30 | 대학수학1 | 수학ㆍ물리ㆍ천문ㆍ지리 | 0 | 안상욱 | 자연계열 | 한경대학교     | 경기도     | 국립 |\n",
       "| 1104074 | 2015 | 1 | 2015-09-14 | 수학1     | 수학ㆍ물리ㆍ천문ㆍ지리 | 1 | 이중호 | 자연계열 | 가천대학교     | 경기도     | 사립 |\n",
       "| 1110603 | 2015 | 1 | 2015-10-08 | 미적분학  | 수학ㆍ물리ㆍ천문ㆍ지리 | 2 | 최수한 | 자연계열 | 단국대학교     | 경기도     | 사립 |\n",
       "| 1112400 | 2015 | 1 | 2015-11-02 | 공학수학1 | 수학ㆍ물리ㆍ천문ㆍ지리 | 3 | 김문현 | 자연계열 | 성균관대학교   | 서울특별시 | 사립 |\n",
       "| 1118072 | 2015 | 2 | 2015-12-16 | 정수론    | 수학ㆍ물리ㆍ천문ㆍ지리 | 4 | 이상준 | 자연계열 | 덕성여자대학교 | 서울특별시 | 사립 |\n",
       "| 1118158 | 2015 | 2 | 2015-12-16 | 확률론    | 수학ㆍ물리ㆍ천문ㆍ지리 | 4 | 이상준 | 자연계열 | 덕성여자대학교 | 서울특별시 | 사립 |\n",
       "\n"
      ],
      "text/plain": [
       "  강의코드 강의년도 강의학기 제공일자   강의명    교육분류              \n",
       "1 1095582  2015     1        2015-08-30 대학수학1 수학ㆍ물리ㆍ천문ㆍ지리\n",
       "2 1104074  2015     1        2015-09-14 수학1     수학ㆍ물리ㆍ천문ㆍ지리\n",
       "3 1110603  2015     1        2015-10-08 미적분학  수학ㆍ물리ㆍ천문ㆍ지리\n",
       "4 1112400  2015     1        2015-11-02 공학수학1 수학ㆍ물리ㆍ천문ㆍ지리\n",
       "5 1118072  2015     2        2015-12-16 정수론    수학ㆍ물리ㆍ천문ㆍ지리\n",
       "6 1118158  2015     2        2015-12-16 확률론    수학ㆍ물리ㆍ천문ㆍ지리\n",
       "  교수코드 담당교수명 담당분야 제공대학명     대학소재지 구분\n",
       "1 0        안상욱     자연계열 한경대학교     경기도     국립\n",
       "2 1        이중호     자연계열 가천대학교     경기도     사립\n",
       "3 2        최수한     자연계열 단국대학교     경기도     사립\n",
       "4 3        김문현     자연계열 성균관대학교   서울특별시 사립\n",
       "5 4        이상준     자연계열 덕성여자대학교 서울특별시 사립\n",
       "6 4        이상준     자연계열 덕성여자대학교 서울특별시 사립"
      ]
     },
     "metadata": {},
     "output_type": "display_data"
    }
   ],
   "source": [
    "dbGetQuery(conn, \"SELECT norm_course.강의코드 AS 강의코드, 강의년도, 강의학기, 제공일자,\n",
    "           course_classed.강의명 AS 강의명, 교육분류,\n",
    "           professor.교수코드 AS 교수코드, 담당교수명, 담당분야,\n",
    "           university.제공대학명 AS 제공대학명, 대학소재지, 구분\n",
    "           FROM university INNER JOIN professor ON university.제공대학명 = professor.제공대학명\n",
    "           INNER JOIN charge ON professor.교수코드 = charge.교수코드\n",
    "           INNER JOIN norm_course ON charge.강의코드 = norm_course.강의코드\n",
    "           INNER JOIN course_classed ON norm_course.강의명 = course_classed.강의명 LIMIT 6\")"
   ]
  },
  {
   "cell_type": "markdown",
   "id": "477d26c2-436f-47ab-bbfb-aa05c26ceb1b",
   "metadata": {},
   "source": [
    "이건 해당 과정을 그대로 사용하시면 될 것 같습니다."
   ]
  },
  {
   "cell_type": "markdown",
   "id": "55add039-12c2-4cb6-8423-a8bdde11caab",
   "metadata": {},
   "source": [
    "### 4. 정보추출을 위한 주요 변수 및 목표 서술"
   ]
  },
  {
   "cell_type": "markdown",
   "id": "e2b6820e-2daf-45e5-921e-c9de979152b3",
   "metadata": {},
   "source": [
    "`#` 해야 할 일\n",
    "\n",
    "**변수 설명과 그걸로 뭘 할 것인지**\n",
    "\n",
    "* (코드 X) 필요한 변수들과 앞으로 이 변수들을 어떻게 활용할 지 설명해야 합니다."
   ]
  },
  {
   "cell_type": "markdown",
   "id": "4193dfd5-7552-45f2-8923-7c679b5994fe",
   "metadata": {},
   "source": [
    "`-` 정보추출을 위한 주요 변수의 목록\n",
    "\n",
    "* 대학소재지\n",
    "* 대학구분\n",
    "* 강의년도\n",
    "* 강의학기\n",
    "\n",
    "`-` 목표\n",
    "\n",
    "* 지역, 대학구분에 따라 제공되는 강의 수의 차이를 파악 (R)\n",
    "\n",
    "* 시간의 흐름에 따라 제공되는 강의 수가 어떻게 바뀌는지 파악 (Python)"
   ]
  },
  {
   "cell_type": "markdown",
   "id": "07245359-1584-4e55-8edc-1f8efdc3620d",
   "metadata": {
    "jp-MarkdownHeadingCollapsed": true
   },
   "source": [
    "---\n",
    "\n",
    "## R을 통한 정보 추출"
   ]
  },
  {
   "cell_type": "markdown",
   "id": "3fc2273f-1f33-4928-bc2a-f154fea889b7",
   "metadata": {},
   "source": [
    "`#` 해야 할 일\n",
    "\n",
    "* SQL의 조인과 GROUP BY, COUNT를 이용하여 지역 및 대학구분 별 강의 수를 테이블로 나타냄.\n",
    "* 이를 데이터프레임으로 저장하여 간단한 시각화(막대그래프 등 원하는 개형으로)"
   ]
  },
  {
   "cell_type": "markdown",
   "id": "03feaceb-36e0-4699-abcc-b693799c65d0",
   "metadata": {},
   "source": [
    "`-` 지역 별 강의 수"
   ]
  },
  {
   "cell_type": "markdown",
   "id": "1b7d6a97-33f6-4b59-99ed-699d4910a2a1",
   "metadata": {},
   "source": [
    "1. 강의와 제공대학 테이블을 조인하고, 강의코드를 대학소재지별로 그룹화하여 COUNT -> 빈도 수가 나옴"
   ]
  },
  {
   "cell_type": "code",
   "execution_count": 158,
   "id": "5a91db2e-266b-45d7-9c14-62eb28020cfc",
   "metadata": {},
   "outputs": [
    {
     "data": {
      "text/html": [
       "<table class=\"dataframe\">\n",
       "<caption>A data.frame: 16 × 2</caption>\n",
       "<thead>\n",
       "\t<tr><th scope=col>강의수</th><th scope=col>대학소재지</th></tr>\n",
       "\t<tr><th scope=col>&lt;int&gt;</th><th scope=col>&lt;chr&gt;</th></tr>\n",
       "</thead>\n",
       "<tbody>\n",
       "\t<tr><td>5755</td><td>서울특별시    </td></tr>\n",
       "\t<tr><td>2934</td><td>경기도        </td></tr>\n",
       "\t<tr><td>1577</td><td>부산광역시    </td></tr>\n",
       "\t<tr><td>1175</td><td>경상북도      </td></tr>\n",
       "\t<tr><td> 859</td><td>전라북도      </td></tr>\n",
       "\t<tr><td> 762</td><td>충청남도      </td></tr>\n",
       "\t<tr><td> 757</td><td>대전광역시    </td></tr>\n",
       "\t<tr><td> 634</td><td>울산광역시    </td></tr>\n",
       "\t<tr><td> 564</td><td>충청북도      </td></tr>\n",
       "\t<tr><td> 488</td><td>광주광역시    </td></tr>\n",
       "\t<tr><td> 356</td><td>경상남도      </td></tr>\n",
       "\t<tr><td> 327</td><td>강원특별자치도</td></tr>\n",
       "\t<tr><td> 242</td><td>대구광역시    </td></tr>\n",
       "\t<tr><td> 207</td><td>전라남도      </td></tr>\n",
       "\t<tr><td> 155</td><td>인천광역시    </td></tr>\n",
       "\t<tr><td>  22</td><td>제주특별자치도</td></tr>\n",
       "</tbody>\n",
       "</table>\n"
      ],
      "text/latex": [
       "A data.frame: 16 × 2\n",
       "\\begin{tabular}{ll}\n",
       " 강의수 & 대학소재지\\\\\n",
       " <int> & <chr>\\\\\n",
       "\\hline\n",
       "\t 5755 & 서울특별시    \\\\\n",
       "\t 2934 & 경기도        \\\\\n",
       "\t 1577 & 부산광역시    \\\\\n",
       "\t 1175 & 경상북도      \\\\\n",
       "\t  859 & 전라북도      \\\\\n",
       "\t  762 & 충청남도      \\\\\n",
       "\t  757 & 대전광역시    \\\\\n",
       "\t  634 & 울산광역시    \\\\\n",
       "\t  564 & 충청북도      \\\\\n",
       "\t  488 & 광주광역시    \\\\\n",
       "\t  356 & 경상남도      \\\\\n",
       "\t  327 & 강원특별자치도\\\\\n",
       "\t  242 & 대구광역시    \\\\\n",
       "\t  207 & 전라남도      \\\\\n",
       "\t  155 & 인천광역시    \\\\\n",
       "\t   22 & 제주특별자치도\\\\\n",
       "\\end{tabular}\n"
      ],
      "text/markdown": [
       "\n",
       "A data.frame: 16 × 2\n",
       "\n",
       "| 강의수 &lt;int&gt; | 대학소재지 &lt;chr&gt; |\n",
       "|---|---|\n",
       "| 5755 | 서울특별시     |\n",
       "| 2934 | 경기도         |\n",
       "| 1577 | 부산광역시     |\n",
       "| 1175 | 경상북도       |\n",
       "|  859 | 전라북도       |\n",
       "|  762 | 충청남도       |\n",
       "|  757 | 대전광역시     |\n",
       "|  634 | 울산광역시     |\n",
       "|  564 | 충청북도       |\n",
       "|  488 | 광주광역시     |\n",
       "|  356 | 경상남도       |\n",
       "|  327 | 강원특별자치도 |\n",
       "|  242 | 대구광역시     |\n",
       "|  207 | 전라남도       |\n",
       "|  155 | 인천광역시     |\n",
       "|   22 | 제주특별자치도 |\n",
       "\n"
      ],
      "text/plain": [
       "   강의수 대학소재지    \n",
       "1  5755   서울특별시    \n",
       "2  2934   경기도        \n",
       "3  1577   부산광역시    \n",
       "4  1175   경상북도      \n",
       "5   859   전라북도      \n",
       "6   762   충청남도      \n",
       "7   757   대전광역시    \n",
       "8   634   울산광역시    \n",
       "9   564   충청북도      \n",
       "10  488   광주광역시    \n",
       "11  356   경상남도      \n",
       "12  327   강원특별자치도\n",
       "13  242   대구광역시    \n",
       "14  207   전라남도      \n",
       "15  155   인천광역시    \n",
       "16   22   제주특별자치도"
      ]
     },
     "metadata": {},
     "output_type": "display_data"
    }
   ],
   "source": [
    "dbGetQuery(conn, \"SELECT count(강의코드) AS 강의수, 대학소재지\n",
    "           FROM norm_course INNER JOIN university ON norm_course.제공대학명 = university.제공대학명\n",
    "           GROUP BY 대학소재지 ORDER BY 강의수 DESC\")"
   ]
  },
  {
   "cell_type": "markdown",
   "id": "2efd9e0c-f1e6-4da4-a3da-9f8fc4702fd0",
   "metadata": {},
   "source": [
    "2. 해당 데이터프레임을 기반으로 시각화"
   ]
  },
  {
   "cell_type": "code",
   "execution_count": 180,
   "id": "4f702ad8-e081-4e18-a1f4-8eba015b8938",
   "metadata": {},
   "outputs": [
    {
     "data": {
      "image/png": "[encoded data removed]",
      "text/plain": [
       "plot without title"
      ]
     },
     "metadata": {
      "image/png": {
       "height": 420,
       "width": 600
      }
     },
     "output_type": "display_data"
    }
   ],
   "source": [
    "df_domain = dbGetQuery(conn, \"SELECT count(강의코드) AS 강의수, 대학소재지\n",
    "           FROM norm_course INNER JOIN university ON norm_course.제공대학명 = university.제공대학명\n",
    "           GROUP BY 대학소재지 ORDER BY 강의수 DESC\")\n",
    "\n",
    "library(ggplot2)\n",
    "options(repr.plot.width = 10)\n",
    "df_domain$대학소재지 = factor(df_domain$대학소재지, levels = as.array(df_domain$대학소재지))\n",
    "\n",
    "ggplot(df_domain, aes(대학소재지, 강의수)) +\n",
    "    geom_bar(stat = 'identity') +\n",
    "    theme(axis.text.x=element_text(angle=50, hjust=1))"
   ]
  },
  {
   "cell_type": "markdown",
   "id": "7f9100df-538e-4d90-9e49-27d52c2928fa",
   "metadata": {},
   "source": [
    "`-` 대학구분 별 강의 수"
   ]
  },
  {
   "cell_type": "code",
   "execution_count": 181,
   "id": "73ab0155-b26d-4c89-82bd-07e192355ac5",
   "metadata": {},
   "outputs": [
    {
     "data": {
      "text/html": [
       "<table class=\"dataframe\">\n",
       "<caption>A data.frame: 2 × 2</caption>\n",
       "<thead>\n",
       "\t<tr><th scope=col>강의수</th><th scope=col>구분</th></tr>\n",
       "\t<tr><th scope=col>&lt;int&gt;</th><th scope=col>&lt;chr&gt;</th></tr>\n",
       "</thead>\n",
       "<tbody>\n",
       "\t<tr><td>14264</td><td>사립</td></tr>\n",
       "\t<tr><td> 2550</td><td>국립</td></tr>\n",
       "</tbody>\n",
       "</table>\n"
      ],
      "text/latex": [
       "A data.frame: 2 × 2\n",
       "\\begin{tabular}{ll}\n",
       " 강의수 & 구분\\\\\n",
       " <int> & <chr>\\\\\n",
       "\\hline\n",
       "\t 14264 & 사립\\\\\n",
       "\t  2550 & 국립\\\\\n",
       "\\end{tabular}\n"
      ],
      "text/markdown": [
       "\n",
       "A data.frame: 2 × 2\n",
       "\n",
       "| 강의수 &lt;int&gt; | 구분 &lt;chr&gt; |\n",
       "|---|---|\n",
       "| 14264 | 사립 |\n",
       "|  2550 | 국립 |\n",
       "\n"
      ],
      "text/plain": [
       "  강의수 구분\n",
       "1 14264  사립\n",
       "2  2550  국립"
      ]
     },
     "metadata": {},
     "output_type": "display_data"
    }
   ],
   "source": [
    "dbGetQuery(conn, \"SELECT count(강의코드) AS 강의수, 구분\n",
    "           FROM norm_course INNER JOIN university ON norm_course.제공대학명 = university.제공대학명\n",
    "           GROUP BY 구분 ORDER BY 강의수 DESC\")"
   ]
  },
  {
   "cell_type": "code",
   "execution_count": 185,
   "id": "06f35e7e-0b62-4640-b840-2792824d507b",
   "metadata": {},
   "outputs": [
    {
     "data": {
      "image/png": "[encoded data removed]",
      "text/plain": [
       "plot without title"
      ]
     },
     "metadata": {
      "image/png": {
       "height": 420,
       "width": 420
      }
     },
     "output_type": "display_data"
    }
   ],
   "source": [
    "df_domain = dbGetQuery(conn, \"SELECT count(강의코드) AS 강의수, 구분\n",
    "           FROM norm_course INNER JOIN university ON norm_course.제공대학명 = university.제공대학명\n",
    "           GROUP BY 구분 ORDER BY 강의수 DESC\")\n",
    "\n",
    "library(ggplot2)\n",
    "options(repr.plot.width = 7)\n",
    "\n",
    "ggplot(df_domain, aes(구분, 강의수)) +\n",
    "    geom_bar(stat = 'identity')"
   ]
  },
  {
   "cell_type": "markdown",
   "id": "46be7b12-69e8-4f05-9098-8c47ca85a462",
   "metadata": {},
   "source": [
    "> 하다보니까 다 해놓은 것 같네요. 그래프 파라메터는 알아서 조정해주세요. 추가해야 할 내용 있으면 추가해주세요."
   ]
  },
  {
   "cell_type": "markdown",
   "id": "efe86dfb-d0ff-4417-8143-42026c0b646c",
   "metadata": {},
   "source": [
    "---\n",
    "\n",
    "## Python을 통한 정보 추출"
   ]
  },
  {
   "cell_type": "markdown",
   "id": "11c7a8a1-e009-4cd2-be2f-845ded103d70",
   "metadata": {},
   "source": [
    "`#` 해야 할 일\n",
    "\n",
    "* SQL의 조인과 GROUP BY, COUNT 등을 이용하여 시간에 따른 강의 수의 변화를 테이블로 나타냄\n",
    "* 이를 데이터프레임으로 저장하여 이상치를 제외한 구간 별 회귀분석을 진행하고, 왜 이러한 결과가 나오는 지 설명."
   ]
  },
  {
   "cell_type": "markdown",
   "id": "d9472fe2-decf-49d7-9982-60fd52c95453",
   "metadata": {},
   "source": [
    "### Imports and DB file"
   ]
  },
  {
   "cell_type": "code",
   "execution_count": 1,
   "id": "47666ef6-7aed-44ec-8879-3e4bce292793",
   "metadata": {},
   "outputs": [],
   "source": [
    "import pandas as pd\n",
    "import sqlite3"
   ]
  },
  {
   "cell_type": "code",
   "execution_count": 2,
   "id": "e2e33547-381d-41d5-a39a-b146e51567fe",
   "metadata": {},
   "outputs": [],
   "source": [
    "con = sqlite3.connect(':memory:')\n",
    "con = sqlite3.connect('./kocw data/sqlite3/kocw.db')\n",
    "cur = con.cursor()"
   ]
  },
  {
   "cell_type": "markdown",
   "id": "4f45ca90-878d-4db3-be16-ece31dbf1725",
   "metadata": {},
   "source": [
    "`-` 시간 별 강의 수\n",
    "\n",
    "1. 강의 테이블을 강의학기와 강의년도 둘의 튜플 조합 별로 그룹화하여 COUNT"
   ]
  },
  {
   "cell_type": "code",
   "execution_count": 3,
   "id": "62e9076d-1fcb-48ec-8eaf-e36b1671a1de",
   "metadata": {},
   "outputs": [
    {
     "data": {
      "text/plain": [
       "[(127521, '윤리학 개론', 2009, 1, '연세대학교', '2009-03-12'),\n",
       " (127676, '발명과 특허', 2009, 1, '부경대학교', '2009-04-30'),\n",
       " (128045, '연구방법론', 2009, 1, '삼육대학교', '2015-08-30'),\n",
       " (128322, '사회복지 개론', 2009, 1, '을지대학교', '2009-06-30'),\n",
       " (128348, '부부 이마고 치료', 2009, 1, '수도국제대학원대학교', '2022-09-28'),\n",
       " (128362, '레크리에이션 지도', 2009, 1, '공주대학교', '2009-06-30')]"
      ]
     },
     "execution_count": 3,
     "metadata": {},
     "output_type": "execute_result"
    }
   ],
   "source": [
    "cur.execute(\"SELECT * FROM norm_course LIMIT 6\")\n",
    "cur.fetchall()"
   ]
  },
  {
   "cell_type": "code",
   "execution_count": 4,
   "id": "4929e144-c85b-4cea-a6e6-f3f7af39d3b6",
   "metadata": {},
   "outputs": [
    {
     "data": {
      "text/plain": [
       "[(1, 2007, 1),\n",
       " (1414, 2009, 1),\n",
       " (85, 2009, 2),\n",
       " (179, 2010, 1),\n",
       " (205, 2010, 2),\n",
       " (431, 2011, 1),\n",
       " (466, 2011, 2),\n",
       " (714, 2012, 1),\n",
       " (724, 2012, 2),\n",
       " (771, 2013, 1),\n",
       " (769, 2013, 2),\n",
       " (777, 2014, 1),\n",
       " (951, 2014, 2),\n",
       " (799, 2015, 1),\n",
       " (975, 2015, 2),\n",
       " (718, 2016, 1),\n",
       " (801, 2016, 2),\n",
       " (621, 2017, 1),\n",
       " (861, 2017, 2),\n",
       " (469, 2018, 1),\n",
       " (576, 2018, 2),\n",
       " (466, 2019, 1),\n",
       " (641, 2019, 2),\n",
       " (378, 2020, 1),\n",
       " (635, 2020, 2),\n",
       " (666, 2021, 1),\n",
       " (480, 2021, 2),\n",
       " (213, 2022, 1),\n",
       " (28, 2022, 2)]"
      ]
     },
     "execution_count": 4,
     "metadata": {},
     "output_type": "execute_result"
    }
   ],
   "source": [
    "cur.execute(\"\"\"SELECT COUNT(*) AS 강의수, 강의년도, 강의학기\n",
    "               FROM norm_course GROUP BY 강의년도, 강의학기\n",
    "\"\"\")\n",
    "\n",
    "cur.fetchall()"
   ]
  },
  {
   "cell_type": "markdown",
   "id": "f98aad10-7c32-40ae-9c32-7cab128acfbf",
   "metadata": {},
   "source": [
    "`-` 데이터프레임 구성 후 두 열의 정보를 연결하여 시계열 자료로 구성"
   ]
  },
  {
   "cell_type": "code",
   "execution_count": 5,
   "id": "0315ab47-1aa6-4f06-b405-f39c0630c690",
   "metadata": {},
   "outputs": [
    {
     "data": {
      "text/html": [
       "<div>\n",
       "<style scoped>\n",
       "    .dataframe tbody tr th:only-of-type {\n",
       "        vertical-align: middle;\n",
       "    }\n",
       "\n",
       "    .dataframe tbody tr th {\n",
       "        vertical-align: top;\n",
       "    }\n",
       "\n",
       "    .dataframe thead th {\n",
       "        text-align: right;\n",
       "    }\n",
       "</style>\n",
       "<table border=\"1\" class=\"dataframe\">\n",
       "  <thead>\n",
       "    <tr style=\"text-align: right;\">\n",
       "      <th></th>\n",
       "      <th>강의수</th>\n",
       "      <th>강의년도</th>\n",
       "      <th>강의학기</th>\n",
       "    </tr>\n",
       "  </thead>\n",
       "  <tbody>\n",
       "    <tr>\n",
       "      <th>0</th>\n",
       "      <td>1</td>\n",
       "      <td>2007</td>\n",
       "      <td>1</td>\n",
       "    </tr>\n",
       "    <tr>\n",
       "      <th>1</th>\n",
       "      <td>1414</td>\n",
       "      <td>2009</td>\n",
       "      <td>1</td>\n",
       "    </tr>\n",
       "    <tr>\n",
       "      <th>2</th>\n",
       "      <td>85</td>\n",
       "      <td>2009</td>\n",
       "      <td>2</td>\n",
       "    </tr>\n",
       "    <tr>\n",
       "      <th>3</th>\n",
       "      <td>179</td>\n",
       "      <td>2010</td>\n",
       "      <td>1</td>\n",
       "    </tr>\n",
       "    <tr>\n",
       "      <th>4</th>\n",
       "      <td>205</td>\n",
       "      <td>2010</td>\n",
       "      <td>2</td>\n",
       "    </tr>\n",
       "    <tr>\n",
       "      <th>5</th>\n",
       "      <td>431</td>\n",
       "      <td>2011</td>\n",
       "      <td>1</td>\n",
       "    </tr>\n",
       "    <tr>\n",
       "      <th>6</th>\n",
       "      <td>466</td>\n",
       "      <td>2011</td>\n",
       "      <td>2</td>\n",
       "    </tr>\n",
       "    <tr>\n",
       "      <th>7</th>\n",
       "      <td>714</td>\n",
       "      <td>2012</td>\n",
       "      <td>1</td>\n",
       "    </tr>\n",
       "    <tr>\n",
       "      <th>8</th>\n",
       "      <td>724</td>\n",
       "      <td>2012</td>\n",
       "      <td>2</td>\n",
       "    </tr>\n",
       "    <tr>\n",
       "      <th>9</th>\n",
       "      <td>771</td>\n",
       "      <td>2013</td>\n",
       "      <td>1</td>\n",
       "    </tr>\n",
       "    <tr>\n",
       "      <th>10</th>\n",
       "      <td>769</td>\n",
       "      <td>2013</td>\n",
       "      <td>2</td>\n",
       "    </tr>\n",
       "    <tr>\n",
       "      <th>11</th>\n",
       "      <td>777</td>\n",
       "      <td>2014</td>\n",
       "      <td>1</td>\n",
       "    </tr>\n",
       "    <tr>\n",
       "      <th>12</th>\n",
       "      <td>951</td>\n",
       "      <td>2014</td>\n",
       "      <td>2</td>\n",
       "    </tr>\n",
       "    <tr>\n",
       "      <th>13</th>\n",
       "      <td>799</td>\n",
       "      <td>2015</td>\n",
       "      <td>1</td>\n",
       "    </tr>\n",
       "    <tr>\n",
       "      <th>14</th>\n",
       "      <td>975</td>\n",
       "      <td>2015</td>\n",
       "      <td>2</td>\n",
       "    </tr>\n",
       "    <tr>\n",
       "      <th>15</th>\n",
       "      <td>718</td>\n",
       "      <td>2016</td>\n",
       "      <td>1</td>\n",
       "    </tr>\n",
       "    <tr>\n",
       "      <th>16</th>\n",
       "      <td>801</td>\n",
       "      <td>2016</td>\n",
       "      <td>2</td>\n",
       "    </tr>\n",
       "    <tr>\n",
       "      <th>17</th>\n",
       "      <td>621</td>\n",
       "      <td>2017</td>\n",
       "      <td>1</td>\n",
       "    </tr>\n",
       "    <tr>\n",
       "      <th>18</th>\n",
       "      <td>861</td>\n",
       "      <td>2017</td>\n",
       "      <td>2</td>\n",
       "    </tr>\n",
       "    <tr>\n",
       "      <th>19</th>\n",
       "      <td>469</td>\n",
       "      <td>2018</td>\n",
       "      <td>1</td>\n",
       "    </tr>\n",
       "    <tr>\n",
       "      <th>20</th>\n",
       "      <td>576</td>\n",
       "      <td>2018</td>\n",
       "      <td>2</td>\n",
       "    </tr>\n",
       "    <tr>\n",
       "      <th>21</th>\n",
       "      <td>466</td>\n",
       "      <td>2019</td>\n",
       "      <td>1</td>\n",
       "    </tr>\n",
       "    <tr>\n",
       "      <th>22</th>\n",
       "      <td>641</td>\n",
       "      <td>2019</td>\n",
       "      <td>2</td>\n",
       "    </tr>\n",
       "    <tr>\n",
       "      <th>23</th>\n",
       "      <td>378</td>\n",
       "      <td>2020</td>\n",
       "      <td>1</td>\n",
       "    </tr>\n",
       "    <tr>\n",
       "      <th>24</th>\n",
       "      <td>635</td>\n",
       "      <td>2020</td>\n",
       "      <td>2</td>\n",
       "    </tr>\n",
       "    <tr>\n",
       "      <th>25</th>\n",
       "      <td>666</td>\n",
       "      <td>2021</td>\n",
       "      <td>1</td>\n",
       "    </tr>\n",
       "    <tr>\n",
       "      <th>26</th>\n",
       "      <td>480</td>\n",
       "      <td>2021</td>\n",
       "      <td>2</td>\n",
       "    </tr>\n",
       "    <tr>\n",
       "      <th>27</th>\n",
       "      <td>213</td>\n",
       "      <td>2022</td>\n",
       "      <td>1</td>\n",
       "    </tr>\n",
       "    <tr>\n",
       "      <th>28</th>\n",
       "      <td>28</td>\n",
       "      <td>2022</td>\n",
       "      <td>2</td>\n",
       "    </tr>\n",
       "  </tbody>\n",
       "</table>\n",
       "</div>"
      ],
      "text/plain": [
       "     강의수  강의년도  강의학기\n",
       "0      1  2007     1\n",
       "1   1414  2009     1\n",
       "2     85  2009     2\n",
       "3    179  2010     1\n",
       "4    205  2010     2\n",
       "5    431  2011     1\n",
       "6    466  2011     2\n",
       "7    714  2012     1\n",
       "8    724  2012     2\n",
       "9    771  2013     1\n",
       "10   769  2013     2\n",
       "11   777  2014     1\n",
       "12   951  2014     2\n",
       "13   799  2015     1\n",
       "14   975  2015     2\n",
       "15   718  2016     1\n",
       "16   801  2016     2\n",
       "17   621  2017     1\n",
       "18   861  2017     2\n",
       "19   469  2018     1\n",
       "20   576  2018     2\n",
       "21   466  2019     1\n",
       "22   641  2019     2\n",
       "23   378  2020     1\n",
       "24   635  2020     2\n",
       "25   666  2021     1\n",
       "26   480  2021     2\n",
       "27   213  2022     1\n",
       "28    28  2022     2"
      ]
     },
     "execution_count": 5,
     "metadata": {},
     "output_type": "execute_result"
    }
   ],
   "source": [
    "cur.execute(\"\"\"SELECT COUNT(*) AS 강의수, 강의년도, 강의학기\n",
    "               FROM norm_course GROUP BY 강의년도, 강의학기\n",
    "\"\"\")\n",
    "\n",
    "df_time = pd.DataFrame(cur.fetchall()).rename({0 : \"강의수\", 1 : \"강의년도\", 2 : \"강의학기\"}, axis = 1)\n",
    "df_time"
   ]
  },
  {
   "cell_type": "markdown",
   "id": "c7cd711a-fde6-4307-b32c-b3e943905287",
   "metadata": {},
   "source": [
    "`-` 분석 및 시각화"
   ]
  },
  {
   "cell_type": "code",
   "execution_count": 6,
   "id": "ee83c2bc-8198-4c99-ad69-fdcd866e93e0",
   "metadata": {},
   "outputs": [],
   "source": [
    "import sklearn.linear_model\n",
    "import plotly.io as pio  ## matplotlib이나 seaborn으로 하셔도 됩니다.\n",
    "import plotly.graph_objects as go"
   ]
  },
  {
   "cell_type": "code",
   "execution_count": 114,
   "id": "505072bf-c2d5-4ae3-90f5-e82eabc908c0",
   "metadata": {},
   "outputs": [],
   "source": [
    "pd.options.plotting.backend = 'plotly'\n",
    "pio.templates.default = 'plotly_white'\n",
    "# pio.renderers.default = \"notebook\"\n",
    "pio.renderers.default = \"colab\""
   ]
  },
  {
   "cell_type": "code",
   "execution_count": 7,
   "id": "c9d28cbb-ac1e-439d-be64-14927bcd2209",
   "metadata": {},
   "outputs": [
    {
     "data": {
      "text/html": [
       "<div>\n",
       "<style scoped>\n",
       "    .dataframe tbody tr th:only-of-type {\n",
       "        vertical-align: middle;\n",
       "    }\n",
       "\n",
       "    .dataframe tbody tr th {\n",
       "        vertical-align: top;\n",
       "    }\n",
       "\n",
       "    .dataframe thead th {\n",
       "        text-align: right;\n",
       "    }\n",
       "</style>\n",
       "<table border=\"1\" class=\"dataframe\">\n",
       "  <thead>\n",
       "    <tr style=\"text-align: right;\">\n",
       "      <th></th>\n",
       "      <th>강의수</th>\n",
       "      <th>강의년도</th>\n",
       "    </tr>\n",
       "  </thead>\n",
       "  <tbody>\n",
       "    <tr>\n",
       "      <th>0</th>\n",
       "      <td>1</td>\n",
       "      <td>2007-01-01</td>\n",
       "    </tr>\n",
       "    <tr>\n",
       "      <th>1</th>\n",
       "      <td>1414</td>\n",
       "      <td>2009-01-01</td>\n",
       "    </tr>\n",
       "    <tr>\n",
       "      <th>2</th>\n",
       "      <td>85</td>\n",
       "      <td>2009-07-01</td>\n",
       "    </tr>\n",
       "    <tr>\n",
       "      <th>3</th>\n",
       "      <td>179</td>\n",
       "      <td>2010-01-01</td>\n",
       "    </tr>\n",
       "    <tr>\n",
       "      <th>4</th>\n",
       "      <td>205</td>\n",
       "      <td>2010-07-01</td>\n",
       "    </tr>\n",
       "    <tr>\n",
       "      <th>5</th>\n",
       "      <td>431</td>\n",
       "      <td>2011-01-01</td>\n",
       "    </tr>\n",
       "    <tr>\n",
       "      <th>6</th>\n",
       "      <td>466</td>\n",
       "      <td>2011-07-01</td>\n",
       "    </tr>\n",
       "    <tr>\n",
       "      <th>7</th>\n",
       "      <td>714</td>\n",
       "      <td>2012-01-01</td>\n",
       "    </tr>\n",
       "    <tr>\n",
       "      <th>8</th>\n",
       "      <td>724</td>\n",
       "      <td>2012-07-01</td>\n",
       "    </tr>\n",
       "    <tr>\n",
       "      <th>9</th>\n",
       "      <td>771</td>\n",
       "      <td>2013-01-01</td>\n",
       "    </tr>\n",
       "    <tr>\n",
       "      <th>10</th>\n",
       "      <td>769</td>\n",
       "      <td>2013-07-01</td>\n",
       "    </tr>\n",
       "    <tr>\n",
       "      <th>11</th>\n",
       "      <td>777</td>\n",
       "      <td>2014-01-01</td>\n",
       "    </tr>\n",
       "    <tr>\n",
       "      <th>12</th>\n",
       "      <td>951</td>\n",
       "      <td>2014-07-01</td>\n",
       "    </tr>\n",
       "    <tr>\n",
       "      <th>13</th>\n",
       "      <td>799</td>\n",
       "      <td>2015-01-01</td>\n",
       "    </tr>\n",
       "    <tr>\n",
       "      <th>14</th>\n",
       "      <td>975</td>\n",
       "      <td>2015-07-01</td>\n",
       "    </tr>\n",
       "    <tr>\n",
       "      <th>15</th>\n",
       "      <td>718</td>\n",
       "      <td>2016-01-01</td>\n",
       "    </tr>\n",
       "    <tr>\n",
       "      <th>16</th>\n",
       "      <td>801</td>\n",
       "      <td>2016-07-01</td>\n",
       "    </tr>\n",
       "    <tr>\n",
       "      <th>17</th>\n",
       "      <td>621</td>\n",
       "      <td>2017-01-01</td>\n",
       "    </tr>\n",
       "    <tr>\n",
       "      <th>18</th>\n",
       "      <td>861</td>\n",
       "      <td>2017-07-01</td>\n",
       "    </tr>\n",
       "    <tr>\n",
       "      <th>19</th>\n",
       "      <td>469</td>\n",
       "      <td>2018-01-01</td>\n",
       "    </tr>\n",
       "    <tr>\n",
       "      <th>20</th>\n",
       "      <td>576</td>\n",
       "      <td>2018-07-01</td>\n",
       "    </tr>\n",
       "    <tr>\n",
       "      <th>21</th>\n",
       "      <td>466</td>\n",
       "      <td>2019-01-01</td>\n",
       "    </tr>\n",
       "    <tr>\n",
       "      <th>22</th>\n",
       "      <td>641</td>\n",
       "      <td>2019-07-01</td>\n",
       "    </tr>\n",
       "    <tr>\n",
       "      <th>23</th>\n",
       "      <td>378</td>\n",
       "      <td>2020-01-01</td>\n",
       "    </tr>\n",
       "    <tr>\n",
       "      <th>24</th>\n",
       "      <td>635</td>\n",
       "      <td>2020-07-01</td>\n",
       "    </tr>\n",
       "    <tr>\n",
       "      <th>25</th>\n",
       "      <td>666</td>\n",
       "      <td>2021-01-01</td>\n",
       "    </tr>\n",
       "    <tr>\n",
       "      <th>26</th>\n",
       "      <td>480</td>\n",
       "      <td>2021-07-01</td>\n",
       "    </tr>\n",
       "    <tr>\n",
       "      <th>27</th>\n",
       "      <td>213</td>\n",
       "      <td>2022-01-01</td>\n",
       "    </tr>\n",
       "    <tr>\n",
       "      <th>28</th>\n",
       "      <td>28</td>\n",
       "      <td>2022-07-01</td>\n",
       "    </tr>\n",
       "  </tbody>\n",
       "</table>\n",
       "</div>"
      ],
      "text/plain": [
       "     강의수       강의년도\n",
       "0      1 2007-01-01\n",
       "1   1414 2009-01-01\n",
       "2     85 2009-07-01\n",
       "3    179 2010-01-01\n",
       "4    205 2010-07-01\n",
       "5    431 2011-01-01\n",
       "6    466 2011-07-01\n",
       "7    714 2012-01-01\n",
       "8    724 2012-07-01\n",
       "9    771 2013-01-01\n",
       "10   769 2013-07-01\n",
       "11   777 2014-01-01\n",
       "12   951 2014-07-01\n",
       "13   799 2015-01-01\n",
       "14   975 2015-07-01\n",
       "15   718 2016-01-01\n",
       "16   801 2016-07-01\n",
       "17   621 2017-01-01\n",
       "18   861 2017-07-01\n",
       "19   469 2018-01-01\n",
       "20   576 2018-07-01\n",
       "21   466 2019-01-01\n",
       "22   641 2019-07-01\n",
       "23   378 2020-01-01\n",
       "24   635 2020-07-01\n",
       "25   666 2021-01-01\n",
       "26   480 2021-07-01\n",
       "27   213 2022-01-01\n",
       "28    28 2022-07-01"
      ]
     },
     "execution_count": 7,
     "metadata": {},
     "output_type": "execute_result"
    }
   ],
   "source": [
    "## 해당 코드는 발표 시 블락처리하고, 그냥 아래 데이터프레임처럼 만들었다고 해주세요.\n",
    "featured_df = df_time.assign(강의학기 = lambda _df : _df.강의학기.map(lambda x : '-01-01' if x == 1 else '-07-01'))\\\n",
    ".assign(강의년도 = lambda _df : _df.astype('str').강의년도).assign(강의년도 = lambda _df : _df.강의년도 + _df.강의학기)\\\n",
    ".drop('강의학기', axis = 1).assign(강의년도 = lambda _df : pd.to_datetime(_df.강의년도))\n",
    "\n",
    "featured_df"
   ]
  },
  {
   "cell_type": "code",
   "execution_count": 116,
   "id": "d5da1761-96c1-476c-8ecd-4c7278782944",
   "metadata": {},
   "outputs": [
    {
     "data": {
      "text/html": [
       "<html>\n",
       "<head><meta charset=\"utf-8\" /></head>\n",
       "<body>\n",
       "    <div>            <script src=\"https://cdnjs.cloudflare.com/ajax/libs/mathjax/2.7.5/MathJax.js?config=TeX-AMS-MML_SVG\"></script><script type=\"text/javascript\">if (window.MathJax && window.MathJax.Hub && window.MathJax.Hub.Config) {window.MathJax.Hub.Config({SVG: {font: \"STIX-Web\"}});}</script>                <script type=\"text/javascript\">window.PlotlyConfig = {MathJaxConfig: 'local'};</script>\n",
       "        <script charset=\"utf-8\" src=\"https://cdn.plot.ly/plotly-2.32.0.min.js\"></script>                <div id=\"85557bf6-12fe-45e7-9eac-6fc7d4604bb1\" class=\"plotly-graph-div\" style=\"height:525px; width:100%;\"></div>            <script type=\"text/javascript\">                                    window.PLOTLYENV=window.PLOTLYENV || {};                                    if (document.getElementById(\"85557bf6-12fe-45e7-9eac-6fc7d4604bb1\")) {                    Plotly.newPlot(                        \"85557bf6-12fe-45e7-9eac-6fc7d4604bb1\",                        [{\"hovertemplate\":\"\\uac15\\uc758\\ub144\\ub3c4=%{x}\\u003cbr\\u003e\\uac15\\uc758\\uc218=%{y}\\u003cextra\\u003e\\u003c\\u002fextra\\u003e\",\"legendgroup\":\"\",\"line\":{\"color\":\"#636efa\",\"dash\":\"solid\"},\"marker\":{\"symbol\":\"circle\"},\"mode\":\"lines\",\"name\":\"\",\"orientation\":\"v\",\"showlegend\":false,\"x\":[\"2007-01-01T00:00:00\",\"2009-01-01T00:00:00\",\"2009-07-01T00:00:00\",\"2010-01-01T00:00:00\",\"2010-07-01T00:00:00\",\"2011-01-01T00:00:00\",\"2011-07-01T00:00:00\",\"2012-01-01T00:00:00\",\"2012-07-01T00:00:00\",\"2013-01-01T00:00:00\",\"2013-07-01T00:00:00\",\"2014-01-01T00:00:00\",\"2014-07-01T00:00:00\",\"2015-01-01T00:00:00\",\"2015-07-01T00:00:00\",\"2016-01-01T00:00:00\",\"2016-07-01T00:00:00\",\"2017-01-01T00:00:00\",\"2017-07-01T00:00:00\",\"2018-01-01T00:00:00\",\"2018-07-01T00:00:00\",\"2019-01-01T00:00:00\",\"2019-07-01T00:00:00\",\"2020-01-01T00:00:00\",\"2020-07-01T00:00:00\",\"2021-01-01T00:00:00\",\"2021-07-01T00:00:00\",\"2022-01-01T00:00:00\",\"2022-07-01T00:00:00\"],\"xaxis\":\"x\",\"y\":[1,1414,85,179,205,431,466,714,724,771,769,777,951,799,975,718,801,621,861,469,576,466,641,378,635,666,480,213,28],\"yaxis\":\"y\",\"type\":\"scatter\"}],                        {\"template\":{\"data\":{\"histogram2dcontour\":[{\"type\":\"histogram2dcontour\",\"colorbar\":{\"outlinewidth\":0,\"ticks\":\"\"},\"colorscale\":[[0.0,\"#0d0887\"],[0.1111111111111111,\"#46039f\"],[0.2222222222222222,\"#7201a8\"],[0.3333333333333333,\"#9c179e\"],[0.4444444444444444,\"#bd3786\"],[0.5555555555555556,\"#d8576b\"],[0.6666666666666666,\"#ed7953\"],[0.7777777777777778,\"#fb9f3a\"],[0.8888888888888888,\"#fdca26\"],[1.0,\"#f0f921\"]]}],\"choropleth\":[{\"type\":\"choropleth\",\"colorbar\":{\"outlinewidth\":0,\"ticks\":\"\"}}],\"histogram2d\":[{\"type\":\"histogram2d\",\"colorbar\":{\"outlinewidth\":0,\"ticks\":\"\"},\"colorscale\":[[0.0,\"#0d0887\"],[0.1111111111111111,\"#46039f\"],[0.2222222222222222,\"#7201a8\"],[0.3333333333333333,\"#9c179e\"],[0.4444444444444444,\"#bd3786\"],[0.5555555555555556,\"#d8576b\"],[0.6666666666666666,\"#ed7953\"],[0.7777777777777778,\"#fb9f3a\"],[0.8888888888888888,\"#fdca26\"],[1.0,\"#f0f921\"]]}],\"heatmap\":[{\"type\":\"heatmap\",\"colorbar\":{\"outlinewidth\":0,\"ticks\":\"\"},\"colorscale\":[[0.0,\"#0d0887\"],[0.1111111111111111,\"#46039f\"],[0.2222222222222222,\"#7201a8\"],[0.3333333333333333,\"#9c179e\"],[0.4444444444444444,\"#bd3786\"],[0.5555555555555556,\"#d8576b\"],[0.6666666666666666,\"#ed7953\"],[0.7777777777777778,\"#fb9f3a\"],[0.8888888888888888,\"#fdca26\"],[1.0,\"#f0f921\"]]}],\"heatmapgl\":[{\"type\":\"heatmapgl\",\"colorbar\":{\"outlinewidth\":0,\"ticks\":\"\"},\"colorscale\":[[0.0,\"#0d0887\"],[0.1111111111111111,\"#46039f\"],[0.2222222222222222,\"#7201a8\"],[0.3333333333333333,\"#9c179e\"],[0.4444444444444444,\"#bd3786\"],[0.5555555555555556,\"#d8576b\"],[0.6666666666666666,\"#ed7953\"],[0.7777777777777778,\"#fb9f3a\"],[0.8888888888888888,\"#fdca26\"],[1.0,\"#f0f921\"]]}],\"contourcarpet\":[{\"type\":\"contourcarpet\",\"colorbar\":{\"outlinewidth\":0,\"ticks\":\"\"}}],\"contour\":[{\"type\":\"contour\",\"colorbar\":{\"outlinewidth\":0,\"ticks\":\"\"},\"colorscale\":[[0.0,\"#0d0887\"],[0.1111111111111111,\"#46039f\"],[0.2222222222222222,\"#7201a8\"],[0.3333333333333333,\"#9c179e\"],[0.4444444444444444,\"#bd3786\"],[0.5555555555555556,\"#d8576b\"],[0.6666666666666666,\"#ed7953\"],[0.7777777777777778,\"#fb9f3a\"],[0.8888888888888888,\"#fdca26\"],[1.0,\"#f0f921\"]]}],\"surface\":[{\"type\":\"surface\",\"colorbar\":{\"outlinewidth\":0,\"ticks\":\"\"},\"colorscale\":[[0.0,\"#0d0887\"],[0.1111111111111111,\"#46039f\"],[0.2222222222222222,\"#7201a8\"],[0.3333333333333333,\"#9c179e\"],[0.4444444444444444,\"#bd3786\"],[0.5555555555555556,\"#d8576b\"],[0.6666666666666666,\"#ed7953\"],[0.7777777777777778,\"#fb9f3a\"],[0.8888888888888888,\"#fdca26\"],[1.0,\"#f0f921\"]]}],\"mesh3d\":[{\"type\":\"mesh3d\",\"colorbar\":{\"outlinewidth\":0,\"ticks\":\"\"}}],\"scatter\":[{\"fillpattern\":{\"fillmode\":\"overlay\",\"size\":10,\"solidity\":0.2},\"type\":\"scatter\"}],\"parcoords\":[{\"type\":\"parcoords\",\"line\":{\"colorbar\":{\"outlinewidth\":0,\"ticks\":\"\"}}}],\"scatterpolargl\":[{\"type\":\"scatterpolargl\",\"marker\":{\"colorbar\":{\"outlinewidth\":0,\"ticks\":\"\"}}}],\"bar\":[{\"error_x\":{\"color\":\"#2a3f5f\"},\"error_y\":{\"color\":\"#2a3f5f\"},\"marker\":{\"line\":{\"color\":\"white\",\"width\":0.5},\"pattern\":{\"fillmode\":\"overlay\",\"size\":10,\"solidity\":0.2}},\"type\":\"bar\"}],\"scattergeo\":[{\"type\":\"scattergeo\",\"marker\":{\"colorbar\":{\"outlinewidth\":0,\"ticks\":\"\"}}}],\"scatterpolar\":[{\"type\":\"scatterpolar\",\"marker\":{\"colorbar\":{\"outlinewidth\":0,\"ticks\":\"\"}}}],\"histogram\":[{\"marker\":{\"pattern\":{\"fillmode\":\"overlay\",\"size\":10,\"solidity\":0.2}},\"type\":\"histogram\"}],\"scattergl\":[{\"type\":\"scattergl\",\"marker\":{\"colorbar\":{\"outlinewidth\":0,\"ticks\":\"\"}}}],\"scatter3d\":[{\"type\":\"scatter3d\",\"line\":{\"colorbar\":{\"outlinewidth\":0,\"ticks\":\"\"}},\"marker\":{\"colorbar\":{\"outlinewidth\":0,\"ticks\":\"\"}}}],\"scattermapbox\":[{\"type\":\"scattermapbox\",\"marker\":{\"colorbar\":{\"outlinewidth\":0,\"ticks\":\"\"}}}],\"scatterternary\":[{\"type\":\"scatterternary\",\"marker\":{\"colorbar\":{\"outlinewidth\":0,\"ticks\":\"\"}}}],\"scattercarpet\":[{\"type\":\"scattercarpet\",\"marker\":{\"colorbar\":{\"outlinewidth\":0,\"ticks\":\"\"}}}],\"carpet\":[{\"aaxis\":{\"endlinecolor\":\"#2a3f5f\",\"gridcolor\":\"#C8D4E3\",\"linecolor\":\"#C8D4E3\",\"minorgridcolor\":\"#C8D4E3\",\"startlinecolor\":\"#2a3f5f\"},\"baxis\":{\"endlinecolor\":\"#2a3f5f\",\"gridcolor\":\"#C8D4E3\",\"linecolor\":\"#C8D4E3\",\"minorgridcolor\":\"#C8D4E3\",\"startlinecolor\":\"#2a3f5f\"},\"type\":\"carpet\"}],\"table\":[{\"cells\":{\"fill\":{\"color\":\"#EBF0F8\"},\"line\":{\"color\":\"white\"}},\"header\":{\"fill\":{\"color\":\"#C8D4E3\"},\"line\":{\"color\":\"white\"}},\"type\":\"table\"}],\"barpolar\":[{\"marker\":{\"line\":{\"color\":\"white\",\"width\":0.5},\"pattern\":{\"fillmode\":\"overlay\",\"size\":10,\"solidity\":0.2}},\"type\":\"barpolar\"}],\"pie\":[{\"automargin\":true,\"type\":\"pie\"}]},\"layout\":{\"autotypenumbers\":\"strict\",\"colorway\":[\"#636efa\",\"#EF553B\",\"#00cc96\",\"#ab63fa\",\"#FFA15A\",\"#19d3f3\",\"#FF6692\",\"#B6E880\",\"#FF97FF\",\"#FECB52\"],\"font\":{\"color\":\"#2a3f5f\"},\"hovermode\":\"closest\",\"hoverlabel\":{\"align\":\"left\"},\"paper_bgcolor\":\"white\",\"plot_bgcolor\":\"white\",\"polar\":{\"bgcolor\":\"white\",\"angularaxis\":{\"gridcolor\":\"#EBF0F8\",\"linecolor\":\"#EBF0F8\",\"ticks\":\"\"},\"radialaxis\":{\"gridcolor\":\"#EBF0F8\",\"linecolor\":\"#EBF0F8\",\"ticks\":\"\"}},\"ternary\":{\"bgcolor\":\"white\",\"aaxis\":{\"gridcolor\":\"#DFE8F3\",\"linecolor\":\"#A2B1C6\",\"ticks\":\"\"},\"baxis\":{\"gridcolor\":\"#DFE8F3\",\"linecolor\":\"#A2B1C6\",\"ticks\":\"\"},\"caxis\":{\"gridcolor\":\"#DFE8F3\",\"linecolor\":\"#A2B1C6\",\"ticks\":\"\"}},\"coloraxis\":{\"colorbar\":{\"outlinewidth\":0,\"ticks\":\"\"}},\"colorscale\":{\"sequential\":[[0.0,\"#0d0887\"],[0.1111111111111111,\"#46039f\"],[0.2222222222222222,\"#7201a8\"],[0.3333333333333333,\"#9c179e\"],[0.4444444444444444,\"#bd3786\"],[0.5555555555555556,\"#d8576b\"],[0.6666666666666666,\"#ed7953\"],[0.7777777777777778,\"#fb9f3a\"],[0.8888888888888888,\"#fdca26\"],[1.0,\"#f0f921\"]],\"sequentialminus\":[[0.0,\"#0d0887\"],[0.1111111111111111,\"#46039f\"],[0.2222222222222222,\"#7201a8\"],[0.3333333333333333,\"#9c179e\"],[0.4444444444444444,\"#bd3786\"],[0.5555555555555556,\"#d8576b\"],[0.6666666666666666,\"#ed7953\"],[0.7777777777777778,\"#fb9f3a\"],[0.8888888888888888,\"#fdca26\"],[1.0,\"#f0f921\"]],\"diverging\":[[0,\"#8e0152\"],[0.1,\"#c51b7d\"],[0.2,\"#de77ae\"],[0.3,\"#f1b6da\"],[0.4,\"#fde0ef\"],[0.5,\"#f7f7f7\"],[0.6,\"#e6f5d0\"],[0.7,\"#b8e186\"],[0.8,\"#7fbc41\"],[0.9,\"#4d9221\"],[1,\"#276419\"]]},\"xaxis\":{\"gridcolor\":\"#EBF0F8\",\"linecolor\":\"#EBF0F8\",\"ticks\":\"\",\"title\":{\"standoff\":15},\"zerolinecolor\":\"#EBF0F8\",\"automargin\":true,\"zerolinewidth\":2},\"yaxis\":{\"gridcolor\":\"#EBF0F8\",\"linecolor\":\"#EBF0F8\",\"ticks\":\"\",\"title\":{\"standoff\":15},\"zerolinecolor\":\"#EBF0F8\",\"automargin\":true,\"zerolinewidth\":2},\"scene\":{\"xaxis\":{\"backgroundcolor\":\"white\",\"gridcolor\":\"#DFE8F3\",\"linecolor\":\"#EBF0F8\",\"showbackground\":true,\"ticks\":\"\",\"zerolinecolor\":\"#EBF0F8\",\"gridwidth\":2},\"yaxis\":{\"backgroundcolor\":\"white\",\"gridcolor\":\"#DFE8F3\",\"linecolor\":\"#EBF0F8\",\"showbackground\":true,\"ticks\":\"\",\"zerolinecolor\":\"#EBF0F8\",\"gridwidth\":2},\"zaxis\":{\"backgroundcolor\":\"white\",\"gridcolor\":\"#DFE8F3\",\"linecolor\":\"#EBF0F8\",\"showbackground\":true,\"ticks\":\"\",\"zerolinecolor\":\"#EBF0F8\",\"gridwidth\":2}},\"shapedefaults\":{\"line\":{\"color\":\"#2a3f5f\"}},\"annotationdefaults\":{\"arrowcolor\":\"#2a3f5f\",\"arrowhead\":0,\"arrowwidth\":1},\"geo\":{\"bgcolor\":\"white\",\"landcolor\":\"white\",\"subunitcolor\":\"#C8D4E3\",\"showland\":true,\"showlakes\":true,\"lakecolor\":\"white\"},\"title\":{\"x\":0.05},\"mapbox\":{\"style\":\"light\"}}},\"xaxis\":{\"anchor\":\"y\",\"domain\":[0.0,1.0],\"title\":{\"text\":\"\\uac15\\uc758\\ub144\\ub3c4\"}},\"yaxis\":{\"anchor\":\"x\",\"domain\":[0.0,1.0],\"title\":{\"text\":\"\\uac15\\uc758\\uc218\"}},\"legend\":{\"tracegroupgap\":0},\"margin\":{\"t\":60}},                        {\"responsive\": true}                    ).then(function(){\n",
       "                            \n",
       "var gd = document.getElementById('85557bf6-12fe-45e7-9eac-6fc7d4604bb1');\n",
       "var x = new MutationObserver(function (mutations, observer) {{\n",
       "        var display = window.getComputedStyle(gd).display;\n",
       "        if (!display || display === 'none') {{\n",
       "            console.log([gd, 'removed!']);\n",
       "            Plotly.purge(gd);\n",
       "            observer.disconnect();\n",
       "        }}\n",
       "}});\n",
       "\n",
       "// Listen for the removal of the full notebook cells\n",
       "var notebookContainer = gd.closest('#notebook-container');\n",
       "if (notebookContainer) {{\n",
       "    x.observe(notebookContainer, {childList: true});\n",
       "}}\n",
       "\n",
       "// Listen for the clearing of the current output cell\n",
       "var outputEl = gd.closest('.output');\n",
       "if (outputEl) {{\n",
       "    x.observe(outputEl, {childList: true});\n",
       "}}\n",
       "\n",
       "                        })                };                            </script>        </div>\n",
       "</body>\n",
       "</html>"
      ]
     },
     "metadata": {},
     "output_type": "display_data"
    }
   ],
   "source": [
    "featured_df.plot.line(x = \"강의년도\", y = \"강의수\")"
   ]
  },
  {
   "attachments": {},
   "cell_type": "markdown",
   "id": "87b87c32-13cb-4b8c-abf6-47c4aae0c8ae",
   "metadata": {},
   "source": [
    "`-` 구간 별 회귀분석"
   ]
  },
  {
   "attachments": {
    "1064355d-c129-4a28-8869-c9579657bf48.png": {
     "image/png": "[encoded data removed]"
    }
   },
   "cell_type": "markdown",
   "id": "65aa4625-c7e2-4ecc-a640-47de3226c396",
   "metadata": {},
   "source": [
    "https://namu.wiki/w/K-MOOC\n",
    "\n",
    "상단 링크의 해당 표를 이용하여 해석해주세요.(운영개시일) 첫 이상치는 운영 개시 후 사실상 첫 시기라 많았다고 해석하시면 됩니다.\n",
    "\n",
    "2015-2학기의 값과 해당 정보를 기반으로 말씀해주세요.\n",
    "\n",
    "![image.png](attachment:1064355d-c129-4a28-8869-c9579657bf48.png)"
   ]
  },
  {
   "cell_type": "code",
   "execution_count": 8,
   "id": "fb3b1ade-f2a2-4114-9e03-7f2b3709099f",
   "metadata": {},
   "outputs": [],
   "source": [
    "## 1. data\n",
    "X = pd.DataFrame({'강의년도' : list(featured_df.drop(1).index)}).assign(구간 = lambda _df : _df.강의년도.map(lambda x : 0 if x <= 14 else x - 14))\n",
    "X.iloc[0, 0] = -3\n",
    "y = featured_df.drop(1).강의수\n",
    "\n",
    "## 2. predictor\n",
    "predictr = sklearn.linear_model.LinearRegression()\n",
    "\n",
    "## 3. fitting\n",
    "predictr.fit(X, y)\n",
    "\n",
    "## 4. prediction\n",
    "yhat = predictr.predict(X)\n",
    "yhat_matrix = pd.DataFrame({'yhat' : yhat}, index = y.index).reset_index().rename({\"yhat\" : \"강의수\"}, axis = 1)\\\n",
    ".merge(featured_df.강의년도.reset_index()).drop(\"index\", axis = 1)"
   ]
  },
  {
   "cell_type": "code",
   "execution_count": 165,
   "id": "a2560de4-8d90-4322-ac45-eda82ce406e1",
   "metadata": {},
   "outputs": [
    {
     "data": {
      "text/html": [
       "<html>\n",
       "<head><meta charset=\"utf-8\" /></head>\n",
       "<body>\n",
       "    <div>            <script src=\"https://cdnjs.cloudflare.com/ajax/libs/mathjax/2.7.5/MathJax.js?config=TeX-AMS-MML_SVG\"></script><script type=\"text/javascript\">if (window.MathJax && window.MathJax.Hub && window.MathJax.Hub.Config) {window.MathJax.Hub.Config({SVG: {font: \"STIX-Web\"}});}</script>                <script type=\"text/javascript\">window.PlotlyConfig = {MathJaxConfig: 'local'};</script>\n",
       "        <script charset=\"utf-8\" src=\"https://cdn.plot.ly/plotly-2.32.0.min.js\"></script>                <div id=\"899c5a57-8629-4306-a20d-efe31369b82c\" class=\"plotly-graph-div\" style=\"height:525px; width:100%;\"></div>            <script type=\"text/javascript\">                                    window.PLOTLYENV=window.PLOTLYENV || {};                                    if (document.getElementById(\"899c5a57-8629-4306-a20d-efe31369b82c\")) {                    Plotly.newPlot(                        \"899c5a57-8629-4306-a20d-efe31369b82c\",                        [{\"hovertemplate\":\"\\uac15\\uc758\\ub144\\ub3c4=%{x}\\u003cbr\\u003e\\uac15\\uc758\\uc218=%{y}\\u003cextra\\u003e\\u003c\\u002fextra\\u003e\",\"legendgroup\":\"\",\"line\":{\"color\":\"#636efa\",\"dash\":\"solid\"},\"marker\":{\"symbol\":\"circle\"},\"mode\":\"lines\",\"name\":\"\",\"orientation\":\"v\",\"showlegend\":false,\"x\":[\"2007-01-01T00:00:00\",\"2009-01-01T00:00:00\",\"2009-07-01T00:00:00\",\"2010-01-01T00:00:00\",\"2010-07-01T00:00:00\",\"2011-01-01T00:00:00\",\"2011-07-01T00:00:00\",\"2012-01-01T00:00:00\",\"2012-07-01T00:00:00\",\"2013-01-01T00:00:00\",\"2013-07-01T00:00:00\",\"2014-01-01T00:00:00\",\"2014-07-01T00:00:00\",\"2015-01-01T00:00:00\",\"2015-07-01T00:00:00\",\"2016-01-01T00:00:00\",\"2016-07-01T00:00:00\",\"2017-01-01T00:00:00\",\"2017-07-01T00:00:00\",\"2018-01-01T00:00:00\",\"2018-07-01T00:00:00\",\"2019-01-01T00:00:00\",\"2019-07-01T00:00:00\",\"2020-01-01T00:00:00\",\"2020-07-01T00:00:00\",\"2021-01-01T00:00:00\",\"2021-07-01T00:00:00\",\"2022-01-01T00:00:00\",\"2022-07-01T00:00:00\"],\"xaxis\":\"x\",\"y\":[1,1414,85,179,205,431,466,714,724,771,769,777,951,799,975,718,801,621,861,469,576,466,641,378,635,666,480,213,28],\"yaxis\":\"y\",\"type\":\"scatter\"},{\"x\":[\"2007-01-01T00:00:00\",\"2009-07-01T00:00:00\",\"2010-01-01T00:00:00\",\"2010-07-01T00:00:00\",\"2011-01-01T00:00:00\",\"2011-07-01T00:00:00\",\"2012-01-01T00:00:00\",\"2012-07-01T00:00:00\",\"2013-01-01T00:00:00\",\"2013-07-01T00:00:00\",\"2014-01-01T00:00:00\",\"2014-07-01T00:00:00\",\"2015-01-01T00:00:00\",\"2015-07-01T00:00:00\",\"2016-01-01T00:00:00\",\"2016-07-01T00:00:00\",\"2017-01-01T00:00:00\",\"2017-07-01T00:00:00\",\"2018-01-01T00:00:00\",\"2018-07-01T00:00:00\",\"2019-01-01T00:00:00\",\"2019-07-01T00:00:00\",\"2020-01-01T00:00:00\",\"2020-07-01T00:00:00\",\"2021-01-01T00:00:00\",\"2021-07-01T00:00:00\",\"2022-01-01T00:00:00\",\"2022-07-01T00:00:00\"],\"y\":[-56.18191044018758,234.53762722118682,292.68153475346173,350.8254422857366,408.96934981801144,467.11325735028635,525.2571648825613,583.4010724148361,641.544979947111,699.6888874793858,757.8327950116608,815.9767025439356,874.1206100762105,932.2645176084854,882.9337054420903,833.6028932756954,784.2720811093002,734.9412689429053,685.6104567765102,636.279644610115,586.94883244372,537.6180202773251,488.28720811093,438.95639594453496,389.6255837781398,340.2947716117447,290.9639594453498,241.63314727895465],\"type\":\"scatter\"}],                        {\"template\":{\"data\":{\"histogram2dcontour\":[{\"type\":\"histogram2dcontour\",\"colorbar\":{\"outlinewidth\":0,\"ticks\":\"\"},\"colorscale\":[[0.0,\"#0d0887\"],[0.1111111111111111,\"#46039f\"],[0.2222222222222222,\"#7201a8\"],[0.3333333333333333,\"#9c179e\"],[0.4444444444444444,\"#bd3786\"],[0.5555555555555556,\"#d8576b\"],[0.6666666666666666,\"#ed7953\"],[0.7777777777777778,\"#fb9f3a\"],[0.8888888888888888,\"#fdca26\"],[1.0,\"#f0f921\"]]}],\"choropleth\":[{\"type\":\"choropleth\",\"colorbar\":{\"outlinewidth\":0,\"ticks\":\"\"}}],\"histogram2d\":[{\"type\":\"histogram2d\",\"colorbar\":{\"outlinewidth\":0,\"ticks\":\"\"},\"colorscale\":[[0.0,\"#0d0887\"],[0.1111111111111111,\"#46039f\"],[0.2222222222222222,\"#7201a8\"],[0.3333333333333333,\"#9c179e\"],[0.4444444444444444,\"#bd3786\"],[0.5555555555555556,\"#d8576b\"],[0.6666666666666666,\"#ed7953\"],[0.7777777777777778,\"#fb9f3a\"],[0.8888888888888888,\"#fdca26\"],[1.0,\"#f0f921\"]]}],\"heatmap\":[{\"type\":\"heatmap\",\"colorbar\":{\"outlinewidth\":0,\"ticks\":\"\"},\"colorscale\":[[0.0,\"#0d0887\"],[0.1111111111111111,\"#46039f\"],[0.2222222222222222,\"#7201a8\"],[0.3333333333333333,\"#9c179e\"],[0.4444444444444444,\"#bd3786\"],[0.5555555555555556,\"#d8576b\"],[0.6666666666666666,\"#ed7953\"],[0.7777777777777778,\"#fb9f3a\"],[0.8888888888888888,\"#fdca26\"],[1.0,\"#f0f921\"]]}],\"heatmapgl\":[{\"type\":\"heatmapgl\",\"colorbar\":{\"outlinewidth\":0,\"ticks\":\"\"},\"colorscale\":[[0.0,\"#0d0887\"],[0.1111111111111111,\"#46039f\"],[0.2222222222222222,\"#7201a8\"],[0.3333333333333333,\"#9c179e\"],[0.4444444444444444,\"#bd3786\"],[0.5555555555555556,\"#d8576b\"],[0.6666666666666666,\"#ed7953\"],[0.7777777777777778,\"#fb9f3a\"],[0.8888888888888888,\"#fdca26\"],[1.0,\"#f0f921\"]]}],\"contourcarpet\":[{\"type\":\"contourcarpet\",\"colorbar\":{\"outlinewidth\":0,\"ticks\":\"\"}}],\"contour\":[{\"type\":\"contour\",\"colorbar\":{\"outlinewidth\":0,\"ticks\":\"\"},\"colorscale\":[[0.0,\"#0d0887\"],[0.1111111111111111,\"#46039f\"],[0.2222222222222222,\"#7201a8\"],[0.3333333333333333,\"#9c179e\"],[0.4444444444444444,\"#bd3786\"],[0.5555555555555556,\"#d8576b\"],[0.6666666666666666,\"#ed7953\"],[0.7777777777777778,\"#fb9f3a\"],[0.8888888888888888,\"#fdca26\"],[1.0,\"#f0f921\"]]}],\"surface\":[{\"type\":\"surface\",\"colorbar\":{\"outlinewidth\":0,\"ticks\":\"\"},\"colorscale\":[[0.0,\"#0d0887\"],[0.1111111111111111,\"#46039f\"],[0.2222222222222222,\"#7201a8\"],[0.3333333333333333,\"#9c179e\"],[0.4444444444444444,\"#bd3786\"],[0.5555555555555556,\"#d8576b\"],[0.6666666666666666,\"#ed7953\"],[0.7777777777777778,\"#fb9f3a\"],[0.8888888888888888,\"#fdca26\"],[1.0,\"#f0f921\"]]}],\"mesh3d\":[{\"type\":\"mesh3d\",\"colorbar\":{\"outlinewidth\":0,\"ticks\":\"\"}}],\"scatter\":[{\"fillpattern\":{\"fillmode\":\"overlay\",\"size\":10,\"solidity\":0.2},\"type\":\"scatter\"}],\"parcoords\":[{\"type\":\"parcoords\",\"line\":{\"colorbar\":{\"outlinewidth\":0,\"ticks\":\"\"}}}],\"scatterpolargl\":[{\"type\":\"scatterpolargl\",\"marker\":{\"colorbar\":{\"outlinewidth\":0,\"ticks\":\"\"}}}],\"bar\":[{\"error_x\":{\"color\":\"#2a3f5f\"},\"error_y\":{\"color\":\"#2a3f5f\"},\"marker\":{\"line\":{\"color\":\"white\",\"width\":0.5},\"pattern\":{\"fillmode\":\"overlay\",\"size\":10,\"solidity\":0.2}},\"type\":\"bar\"}],\"scattergeo\":[{\"type\":\"scattergeo\",\"marker\":{\"colorbar\":{\"outlinewidth\":0,\"ticks\":\"\"}}}],\"scatterpolar\":[{\"type\":\"scatterpolar\",\"marker\":{\"colorbar\":{\"outlinewidth\":0,\"ticks\":\"\"}}}],\"histogram\":[{\"marker\":{\"pattern\":{\"fillmode\":\"overlay\",\"size\":10,\"solidity\":0.2}},\"type\":\"histogram\"}],\"scattergl\":[{\"type\":\"scattergl\",\"marker\":{\"colorbar\":{\"outlinewidth\":0,\"ticks\":\"\"}}}],\"scatter3d\":[{\"type\":\"scatter3d\",\"line\":{\"colorbar\":{\"outlinewidth\":0,\"ticks\":\"\"}},\"marker\":{\"colorbar\":{\"outlinewidth\":0,\"ticks\":\"\"}}}],\"scattermapbox\":[{\"type\":\"scattermapbox\",\"marker\":{\"colorbar\":{\"outlinewidth\":0,\"ticks\":\"\"}}}],\"scatterternary\":[{\"type\":\"scatterternary\",\"marker\":{\"colorbar\":{\"outlinewidth\":0,\"ticks\":\"\"}}}],\"scattercarpet\":[{\"type\":\"scattercarpet\",\"marker\":{\"colorbar\":{\"outlinewidth\":0,\"ticks\":\"\"}}}],\"carpet\":[{\"aaxis\":{\"endlinecolor\":\"#2a3f5f\",\"gridcolor\":\"#C8D4E3\",\"linecolor\":\"#C8D4E3\",\"minorgridcolor\":\"#C8D4E3\",\"startlinecolor\":\"#2a3f5f\"},\"baxis\":{\"endlinecolor\":\"#2a3f5f\",\"gridcolor\":\"#C8D4E3\",\"linecolor\":\"#C8D4E3\",\"minorgridcolor\":\"#C8D4E3\",\"startlinecolor\":\"#2a3f5f\"},\"type\":\"carpet\"}],\"table\":[{\"cells\":{\"fill\":{\"color\":\"#EBF0F8\"},\"line\":{\"color\":\"white\"}},\"header\":{\"fill\":{\"color\":\"#C8D4E3\"},\"line\":{\"color\":\"white\"}},\"type\":\"table\"}],\"barpolar\":[{\"marker\":{\"line\":{\"color\":\"white\",\"width\":0.5},\"pattern\":{\"fillmode\":\"overlay\",\"size\":10,\"solidity\":0.2}},\"type\":\"barpolar\"}],\"pie\":[{\"automargin\":true,\"type\":\"pie\"}]},\"layout\":{\"autotypenumbers\":\"strict\",\"colorway\":[\"#636efa\",\"#EF553B\",\"#00cc96\",\"#ab63fa\",\"#FFA15A\",\"#19d3f3\",\"#FF6692\",\"#B6E880\",\"#FF97FF\",\"#FECB52\"],\"font\":{\"color\":\"#2a3f5f\"},\"hovermode\":\"closest\",\"hoverlabel\":{\"align\":\"left\"},\"paper_bgcolor\":\"white\",\"plot_bgcolor\":\"white\",\"polar\":{\"bgcolor\":\"white\",\"angularaxis\":{\"gridcolor\":\"#EBF0F8\",\"linecolor\":\"#EBF0F8\",\"ticks\":\"\"},\"radialaxis\":{\"gridcolor\":\"#EBF0F8\",\"linecolor\":\"#EBF0F8\",\"ticks\":\"\"}},\"ternary\":{\"bgcolor\":\"white\",\"aaxis\":{\"gridcolor\":\"#DFE8F3\",\"linecolor\":\"#A2B1C6\",\"ticks\":\"\"},\"baxis\":{\"gridcolor\":\"#DFE8F3\",\"linecolor\":\"#A2B1C6\",\"ticks\":\"\"},\"caxis\":{\"gridcolor\":\"#DFE8F3\",\"linecolor\":\"#A2B1C6\",\"ticks\":\"\"}},\"coloraxis\":{\"colorbar\":{\"outlinewidth\":0,\"ticks\":\"\"}},\"colorscale\":{\"sequential\":[[0.0,\"#0d0887\"],[0.1111111111111111,\"#46039f\"],[0.2222222222222222,\"#7201a8\"],[0.3333333333333333,\"#9c179e\"],[0.4444444444444444,\"#bd3786\"],[0.5555555555555556,\"#d8576b\"],[0.6666666666666666,\"#ed7953\"],[0.7777777777777778,\"#fb9f3a\"],[0.8888888888888888,\"#fdca26\"],[1.0,\"#f0f921\"]],\"sequentialminus\":[[0.0,\"#0d0887\"],[0.1111111111111111,\"#46039f\"],[0.2222222222222222,\"#7201a8\"],[0.3333333333333333,\"#9c179e\"],[0.4444444444444444,\"#bd3786\"],[0.5555555555555556,\"#d8576b\"],[0.6666666666666666,\"#ed7953\"],[0.7777777777777778,\"#fb9f3a\"],[0.8888888888888888,\"#fdca26\"],[1.0,\"#f0f921\"]],\"diverging\":[[0,\"#8e0152\"],[0.1,\"#c51b7d\"],[0.2,\"#de77ae\"],[0.3,\"#f1b6da\"],[0.4,\"#fde0ef\"],[0.5,\"#f7f7f7\"],[0.6,\"#e6f5d0\"],[0.7,\"#b8e186\"],[0.8,\"#7fbc41\"],[0.9,\"#4d9221\"],[1,\"#276419\"]]},\"xaxis\":{\"gridcolor\":\"#EBF0F8\",\"linecolor\":\"#EBF0F8\",\"ticks\":\"\",\"title\":{\"standoff\":15},\"zerolinecolor\":\"#EBF0F8\",\"automargin\":true,\"zerolinewidth\":2},\"yaxis\":{\"gridcolor\":\"#EBF0F8\",\"linecolor\":\"#EBF0F8\",\"ticks\":\"\",\"title\":{\"standoff\":15},\"zerolinecolor\":\"#EBF0F8\",\"automargin\":true,\"zerolinewidth\":2},\"scene\":{\"xaxis\":{\"backgroundcolor\":\"white\",\"gridcolor\":\"#DFE8F3\",\"linecolor\":\"#EBF0F8\",\"showbackground\":true,\"ticks\":\"\",\"zerolinecolor\":\"#EBF0F8\",\"gridwidth\":2},\"yaxis\":{\"backgroundcolor\":\"white\",\"gridcolor\":\"#DFE8F3\",\"linecolor\":\"#EBF0F8\",\"showbackground\":true,\"ticks\":\"\",\"zerolinecolor\":\"#EBF0F8\",\"gridwidth\":2},\"zaxis\":{\"backgroundcolor\":\"white\",\"gridcolor\":\"#DFE8F3\",\"linecolor\":\"#EBF0F8\",\"showbackground\":true,\"ticks\":\"\",\"zerolinecolor\":\"#EBF0F8\",\"gridwidth\":2}},\"shapedefaults\":{\"line\":{\"color\":\"#2a3f5f\"}},\"annotationdefaults\":{\"arrowcolor\":\"#2a3f5f\",\"arrowhead\":0,\"arrowwidth\":1},\"geo\":{\"bgcolor\":\"white\",\"landcolor\":\"white\",\"subunitcolor\":\"#C8D4E3\",\"showland\":true,\"showlakes\":true,\"lakecolor\":\"white\"},\"title\":{\"x\":0.05},\"mapbox\":{\"style\":\"light\"}}},\"xaxis\":{\"anchor\":\"y\",\"domain\":[0.0,1.0],\"title\":{\"text\":\"\\uac15\\uc758\\ub144\\ub3c4\"}},\"yaxis\":{\"anchor\":\"x\",\"domain\":[0.0,1.0],\"title\":{\"text\":\"\\uac15\\uc758\\uc218\"}},\"legend\":{\"tracegroupgap\":0},\"margin\":{\"t\":60}},                        {\"responsive\": true}                    ).then(function(){\n",
       "                            \n",
       "var gd = document.getElementById('899c5a57-8629-4306-a20d-efe31369b82c');\n",
       "var x = new MutationObserver(function (mutations, observer) {{\n",
       "        var display = window.getComputedStyle(gd).display;\n",
       "        if (!display || display === 'none') {{\n",
       "            console.log([gd, 'removed!']);\n",
       "            Plotly.purge(gd);\n",
       "            observer.disconnect();\n",
       "        }}\n",
       "}});\n",
       "\n",
       "// Listen for the removal of the full notebook cells\n",
       "var notebookContainer = gd.closest('#notebook-container');\n",
       "if (notebookContainer) {{\n",
       "    x.observe(notebookContainer, {childList: true});\n",
       "}}\n",
       "\n",
       "// Listen for the clearing of the current output cell\n",
       "var outputEl = gd.closest('.output');\n",
       "if (outputEl) {{\n",
       "    x.observe(outputEl, {childList: true});\n",
       "}}\n",
       "\n",
       "                        })                };                            </script>        </div>\n",
       "</body>\n",
       "</html>"
      ]
     },
     "metadata": {},
     "output_type": "display_data"
    }
   ],
   "source": [
    "fig = featured_df.plot.line(x = \"강의년도\", y = \"강의수\")\n",
    "fig.add_trace(go.Scatter(x = yhat_matrix.강의년도, y = yhat_matrix.강의수))\n",
    "\n",
    "fig.show()"
   ]
  },
  {
   "cell_type": "code",
   "execution_count": 9,
   "id": "87b81652-b4a7-4e9d-b9fd-09eef7fd42a0",
   "metadata": {},
   "outputs": [],
   "source": [
    "import matplotlib.pyplot as plt\n",
    "import seaborn as sns\n",
    "from matplotlib import rc"
   ]
  },
  {
   "cell_type": "code",
   "execution_count": 11,
   "id": "7ada0bfb-1e9b-4eb4-bd7d-abd410b841b5",
   "metadata": {},
   "outputs": [],
   "source": [
    "rc('font', family='NanumBarunGothic')\n",
    "\n",
    "plt.rcParams['axes.unicode_minus'] = False"
   ]
  },
  {
   "cell_type": "code",
   "execution_count": 13,
   "id": "e4303a90-1d20-4c49-8f74-ead5eafa3ed7",
   "metadata": {},
   "outputs": [
    {
     "data": {
      "text/html": [
       "<div>\n",
       "<style scoped>\n",
       "    .dataframe tbody tr th:only-of-type {\n",
       "        vertical-align: middle;\n",
       "    }\n",
       "\n",
       "    .dataframe tbody tr th {\n",
       "        vertical-align: top;\n",
       "    }\n",
       "\n",
       "    .dataframe thead th {\n",
       "        text-align: right;\n",
       "    }\n",
       "</style>\n",
       "<table border=\"1\" class=\"dataframe\">\n",
       "  <thead>\n",
       "    <tr style=\"text-align: right;\">\n",
       "      <th></th>\n",
       "      <th>강의수</th>\n",
       "      <th>강의년도</th>\n",
       "    </tr>\n",
       "  </thead>\n",
       "  <tbody>\n",
       "    <tr>\n",
       "      <th>0</th>\n",
       "      <td>-56.181910</td>\n",
       "      <td>2007-01-01</td>\n",
       "    </tr>\n",
       "    <tr>\n",
       "      <th>1</th>\n",
       "      <td>234.537627</td>\n",
       "      <td>2009-07-01</td>\n",
       "    </tr>\n",
       "    <tr>\n",
       "      <th>2</th>\n",
       "      <td>292.681535</td>\n",
       "      <td>2010-01-01</td>\n",
       "    </tr>\n",
       "    <tr>\n",
       "      <th>3</th>\n",
       "      <td>350.825442</td>\n",
       "      <td>2010-07-01</td>\n",
       "    </tr>\n",
       "    <tr>\n",
       "      <th>4</th>\n",
       "      <td>408.969350</td>\n",
       "      <td>2011-01-01</td>\n",
       "    </tr>\n",
       "    <tr>\n",
       "      <th>5</th>\n",
       "      <td>467.113257</td>\n",
       "      <td>2011-07-01</td>\n",
       "    </tr>\n",
       "    <tr>\n",
       "      <th>6</th>\n",
       "      <td>525.257165</td>\n",
       "      <td>2012-01-01</td>\n",
       "    </tr>\n",
       "    <tr>\n",
       "      <th>7</th>\n",
       "      <td>583.401072</td>\n",
       "      <td>2012-07-01</td>\n",
       "    </tr>\n",
       "    <tr>\n",
       "      <th>8</th>\n",
       "      <td>641.544980</td>\n",
       "      <td>2013-01-01</td>\n",
       "    </tr>\n",
       "    <tr>\n",
       "      <th>9</th>\n",
       "      <td>699.688887</td>\n",
       "      <td>2013-07-01</td>\n",
       "    </tr>\n",
       "    <tr>\n",
       "      <th>10</th>\n",
       "      <td>757.832795</td>\n",
       "      <td>2014-01-01</td>\n",
       "    </tr>\n",
       "    <tr>\n",
       "      <th>11</th>\n",
       "      <td>815.976703</td>\n",
       "      <td>2014-07-01</td>\n",
       "    </tr>\n",
       "    <tr>\n",
       "      <th>12</th>\n",
       "      <td>874.120610</td>\n",
       "      <td>2015-01-01</td>\n",
       "    </tr>\n",
       "    <tr>\n",
       "      <th>13</th>\n",
       "      <td>932.264518</td>\n",
       "      <td>2015-07-01</td>\n",
       "    </tr>\n",
       "    <tr>\n",
       "      <th>14</th>\n",
       "      <td>882.933705</td>\n",
       "      <td>2016-01-01</td>\n",
       "    </tr>\n",
       "    <tr>\n",
       "      <th>15</th>\n",
       "      <td>833.602893</td>\n",
       "      <td>2016-07-01</td>\n",
       "    </tr>\n",
       "    <tr>\n",
       "      <th>16</th>\n",
       "      <td>784.272081</td>\n",
       "      <td>2017-01-01</td>\n",
       "    </tr>\n",
       "    <tr>\n",
       "      <th>17</th>\n",
       "      <td>734.941269</td>\n",
       "      <td>2017-07-01</td>\n",
       "    </tr>\n",
       "    <tr>\n",
       "      <th>18</th>\n",
       "      <td>685.610457</td>\n",
       "      <td>2018-01-01</td>\n",
       "    </tr>\n",
       "    <tr>\n",
       "      <th>19</th>\n",
       "      <td>636.279645</td>\n",
       "      <td>2018-07-01</td>\n",
       "    </tr>\n",
       "    <tr>\n",
       "      <th>20</th>\n",
       "      <td>586.948832</td>\n",
       "      <td>2019-01-01</td>\n",
       "    </tr>\n",
       "    <tr>\n",
       "      <th>21</th>\n",
       "      <td>537.618020</td>\n",
       "      <td>2019-07-01</td>\n",
       "    </tr>\n",
       "    <tr>\n",
       "      <th>22</th>\n",
       "      <td>488.287208</td>\n",
       "      <td>2020-01-01</td>\n",
       "    </tr>\n",
       "    <tr>\n",
       "      <th>23</th>\n",
       "      <td>438.956396</td>\n",
       "      <td>2020-07-01</td>\n",
       "    </tr>\n",
       "    <tr>\n",
       "      <th>24</th>\n",
       "      <td>389.625584</td>\n",
       "      <td>2021-01-01</td>\n",
       "    </tr>\n",
       "    <tr>\n",
       "      <th>25</th>\n",
       "      <td>340.294772</td>\n",
       "      <td>2021-07-01</td>\n",
       "    </tr>\n",
       "    <tr>\n",
       "      <th>26</th>\n",
       "      <td>290.963959</td>\n",
       "      <td>2022-01-01</td>\n",
       "    </tr>\n",
       "    <tr>\n",
       "      <th>27</th>\n",
       "      <td>241.633147</td>\n",
       "      <td>2022-07-01</td>\n",
       "    </tr>\n",
       "  </tbody>\n",
       "</table>\n",
       "</div>"
      ],
      "text/plain": [
       "           강의수       강의년도\n",
       "0   -56.181910 2007-01-01\n",
       "1   234.537627 2009-07-01\n",
       "2   292.681535 2010-01-01\n",
       "3   350.825442 2010-07-01\n",
       "4   408.969350 2011-01-01\n",
       "5   467.113257 2011-07-01\n",
       "6   525.257165 2012-01-01\n",
       "7   583.401072 2012-07-01\n",
       "8   641.544980 2013-01-01\n",
       "9   699.688887 2013-07-01\n",
       "10  757.832795 2014-01-01\n",
       "11  815.976703 2014-07-01\n",
       "12  874.120610 2015-01-01\n",
       "13  932.264518 2015-07-01\n",
       "14  882.933705 2016-01-01\n",
       "15  833.602893 2016-07-01\n",
       "16  784.272081 2017-01-01\n",
       "17  734.941269 2017-07-01\n",
       "18  685.610457 2018-01-01\n",
       "19  636.279645 2018-07-01\n",
       "20  586.948832 2019-01-01\n",
       "21  537.618020 2019-07-01\n",
       "22  488.287208 2020-01-01\n",
       "23  438.956396 2020-07-01\n",
       "24  389.625584 2021-01-01\n",
       "25  340.294772 2021-07-01\n",
       "26  290.963959 2022-01-01\n",
       "27  241.633147 2022-07-01"
      ]
     },
     "execution_count": 13,
     "metadata": {},
     "output_type": "execute_result"
    }
   ],
   "source": [
    "yhat_matrix"
   ]
  },
  {
   "cell_type": "code",
   "execution_count": 12,
   "id": "a5858eec-c286-48cb-a2a3-65616df0f4b9",
   "metadata": {},
   "outputs": [
    {
     "data": {
      "image/png": "[encoded data removed]",
      "text/plain": [
       "<Figure size 640x480 with 1 Axes>"
      ]
     },
     "metadata": {},
     "output_type": "display_data"
    }
   ],
   "source": [
    "fig, ax = plt.subplots()\n",
    "featured_df.plot.line(x=\"강의년도\", y=\"강의수\", ax=ax)\n",
    "\n",
    "ax.plot(yhat_matrix.강의년도, yhat_matrix.강의수, linestyle='-', color='r')\n",
    "\n",
    "plt.show()"
   ]
  }
 ],
 "metadata": {
  "kernelspec": {
   "display_name": "Python 3 (ipykernel)",
   "language": "python",
   "name": "python3"
  },
  "language_info": {
   "codemirror_mode": {
    "name": "ipython",
    "version": 3
   },
   "file_extension": ".py",
   "mimetype": "text/x-python",
   "name": "python",
   "nbconvert_exporter": "python",
   "pygments_lexer": "ipython3",
   "version": "3.12.0"
  }
 },
 "nbformat": 4,
 "nbformat_minor": 5
}
