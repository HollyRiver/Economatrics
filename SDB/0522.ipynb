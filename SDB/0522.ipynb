{
 "cells": [
  {
   "cell_type": "markdown",
   "id": "aef700b7-86ae-41d6-a2aa-33a2b969b42a",
   "metadata": {},
   "source": [
    "### SQLite"
   ]
  },
  {
   "cell_type": "markdown",
   "id": "0146b43c-7e2e-4f29-b510-85a2c5e5b532",
   "metadata": {},
   "source": [
    "오픈 소스, 가벼운 유형으로 모든 시스템에서 사용이 가능하다.\n",
    "\n",
    "데이터 형식의 다양성(스키마 지정), 수평 확장성(데이터베이스 네트워크 간 확장), 데이터 관리의 엄격성에서는 다소 약점이 있고 이런 부분에서는 MySQL이 강점을 가지고 있다.\n",
    "\n",
    "> 실제 상황과의 괴리 : 실제는 서버에서 돌아가고, 대용량 데이터가 여러 데이터베이스간 교차하여 작동함."
   ]
  },
  {
   "cell_type": "markdown",
   "id": "9ac36122-7769-4170-8f02-8ff0e9ed57c8",
   "metadata": {},
   "source": [
    "지원하는 데이터 유형\n",
    "\n",
    "* TEXT 문자열(UTF-8, UTF-16BE, UTF16LE)\n",
    "* REAL 8바이트 부동 소수점 값. float32\n",
    "* NULL\n",
    "* INTEGER 8바이트 정수값. int32\n",
    "* BLOB 입력형태 그대로 저장(이미지, 오디오, 멀티미디어 파일)"
   ]
  },
  {
   "cell_type": "code",
   "execution_count": 1,
   "id": "f51eddd5-39d6-4933-9c4f-aa54e996f85f",
   "metadata": {},
   "outputs": [
    {
     "name": "stderr",
     "output_type": "stream",
     "text": [
      "Updating HTML index of packages in '.Library'\n",
      "\n",
      "Making 'packages.html' ...\n",
      " done\n",
      "\n",
      "Updating HTML index of packages in '.Library'\n",
      "\n",
      "Making 'packages.html' ...\n",
      " done\n",
      "\n"
     ]
    }
   ],
   "source": [
    "install.packages(\"DBI\")\n",
    "install.packages(\"RSQLite\")\n",
    "library(DBI)\n",
    "library(RSQLite)"
   ]
  },
  {
   "cell_type": "code",
   "execution_count": 8,
   "id": "d19d1647-e354-42e3-825e-ff4402717a4e",
   "metadata": {},
   "outputs": [],
   "source": [
    "conn = dbConnect(RSQLite::SQLite(), \"CarsDB.db\")  ## create DB file of current working space"
   ]
  },
  {
   "cell_type": "markdown",
   "id": "91002cad-fd51-467d-ab4a-ca877fb39839",
   "metadata": {},
   "source": [
    "> 작업공간에 데이터베이스 파일 생성, conn으로 호출"
   ]
  },
  {
   "cell_type": "code",
   "execution_count": 6,
   "id": "98d3877a-f305-47da-9c32-aada0b847a35",
   "metadata": {},
   "outputs": [
    {
     "data": {
      "text/html": [
       "<table class=\"dataframe\">\n",
       "<caption>A data.frame: 6 × 12</caption>\n",
       "<thead>\n",
       "\t<tr><th></th><th scope=col>mpg</th><th scope=col>cyl</th><th scope=col>disp</th><th scope=col>hp</th><th scope=col>drat</th><th scope=col>wt</th><th scope=col>qsec</th><th scope=col>vs</th><th scope=col>am</th><th scope=col>gear</th><th scope=col>carb</th><th scope=col>car_names</th></tr>\n",
       "\t<tr><th></th><th scope=col>&lt;dbl&gt;</th><th scope=col>&lt;dbl&gt;</th><th scope=col>&lt;dbl&gt;</th><th scope=col>&lt;dbl&gt;</th><th scope=col>&lt;dbl&gt;</th><th scope=col>&lt;dbl&gt;</th><th scope=col>&lt;dbl&gt;</th><th scope=col>&lt;dbl&gt;</th><th scope=col>&lt;dbl&gt;</th><th scope=col>&lt;dbl&gt;</th><th scope=col>&lt;dbl&gt;</th><th scope=col>&lt;chr&gt;</th></tr>\n",
       "</thead>\n",
       "<tbody>\n",
       "\t<tr><th scope=row>1</th><td>21.0</td><td>6</td><td>160</td><td>110</td><td>3.90</td><td>2.620</td><td>16.46</td><td>0</td><td>1</td><td>4</td><td>4</td><td>Mazda RX4        </td></tr>\n",
       "\t<tr><th scope=row>2</th><td>21.0</td><td>6</td><td>160</td><td>110</td><td>3.90</td><td>2.875</td><td>17.02</td><td>0</td><td>1</td><td>4</td><td>4</td><td>Mazda RX4 Wag    </td></tr>\n",
       "\t<tr><th scope=row>3</th><td>22.8</td><td>4</td><td>108</td><td> 93</td><td>3.85</td><td>2.320</td><td>18.61</td><td>1</td><td>1</td><td>4</td><td>1</td><td>Datsun 710       </td></tr>\n",
       "\t<tr><th scope=row>4</th><td>21.4</td><td>6</td><td>258</td><td>110</td><td>3.08</td><td>3.215</td><td>19.44</td><td>1</td><td>0</td><td>3</td><td>1</td><td>Hornet 4 Drive   </td></tr>\n",
       "\t<tr><th scope=row>5</th><td>18.7</td><td>8</td><td>360</td><td>175</td><td>3.15</td><td>3.440</td><td>17.02</td><td>0</td><td>0</td><td>3</td><td>2</td><td>Hornet Sportabout</td></tr>\n",
       "\t<tr><th scope=row>6</th><td>18.1</td><td>6</td><td>225</td><td>105</td><td>2.76</td><td>3.460</td><td>20.22</td><td>1</td><td>0</td><td>3</td><td>1</td><td>Valiant          </td></tr>\n",
       "</tbody>\n",
       "</table>\n"
      ],
      "text/latex": [
       "A data.frame: 6 × 12\n",
       "\\begin{tabular}{r|llllllllllll}\n",
       "  & mpg & cyl & disp & hp & drat & wt & qsec & vs & am & gear & carb & car\\_names\\\\\n",
       "  & <dbl> & <dbl> & <dbl> & <dbl> & <dbl> & <dbl> & <dbl> & <dbl> & <dbl> & <dbl> & <dbl> & <chr>\\\\\n",
       "\\hline\n",
       "\t1 & 21.0 & 6 & 160 & 110 & 3.90 & 2.620 & 16.46 & 0 & 1 & 4 & 4 & Mazda RX4        \\\\\n",
       "\t2 & 21.0 & 6 & 160 & 110 & 3.90 & 2.875 & 17.02 & 0 & 1 & 4 & 4 & Mazda RX4 Wag    \\\\\n",
       "\t3 & 22.8 & 4 & 108 &  93 & 3.85 & 2.320 & 18.61 & 1 & 1 & 4 & 1 & Datsun 710       \\\\\n",
       "\t4 & 21.4 & 6 & 258 & 110 & 3.08 & 3.215 & 19.44 & 1 & 0 & 3 & 1 & Hornet 4 Drive   \\\\\n",
       "\t5 & 18.7 & 8 & 360 & 175 & 3.15 & 3.440 & 17.02 & 0 & 0 & 3 & 2 & Hornet Sportabout\\\\\n",
       "\t6 & 18.1 & 6 & 225 & 105 & 2.76 & 3.460 & 20.22 & 1 & 0 & 3 & 1 & Valiant          \\\\\n",
       "\\end{tabular}\n"
      ],
      "text/markdown": [
       "\n",
       "A data.frame: 6 × 12\n",
       "\n",
       "| <!--/--> | mpg &lt;dbl&gt; | cyl &lt;dbl&gt; | disp &lt;dbl&gt; | hp &lt;dbl&gt; | drat &lt;dbl&gt; | wt &lt;dbl&gt; | qsec &lt;dbl&gt; | vs &lt;dbl&gt; | am &lt;dbl&gt; | gear &lt;dbl&gt; | carb &lt;dbl&gt; | car_names &lt;chr&gt; |\n",
       "|---|---|---|---|---|---|---|---|---|---|---|---|---|\n",
       "| 1 | 21.0 | 6 | 160 | 110 | 3.90 | 2.620 | 16.46 | 0 | 1 | 4 | 4 | Mazda RX4         |\n",
       "| 2 | 21.0 | 6 | 160 | 110 | 3.90 | 2.875 | 17.02 | 0 | 1 | 4 | 4 | Mazda RX4 Wag     |\n",
       "| 3 | 22.8 | 4 | 108 |  93 | 3.85 | 2.320 | 18.61 | 1 | 1 | 4 | 1 | Datsun 710        |\n",
       "| 4 | 21.4 | 6 | 258 | 110 | 3.08 | 3.215 | 19.44 | 1 | 0 | 3 | 1 | Hornet 4 Drive    |\n",
       "| 5 | 18.7 | 8 | 360 | 175 | 3.15 | 3.440 | 17.02 | 0 | 0 | 3 | 2 | Hornet Sportabout |\n",
       "| 6 | 18.1 | 6 | 225 | 105 | 2.76 | 3.460 | 20.22 | 1 | 0 | 3 | 1 | Valiant           |\n",
       "\n"
      ],
      "text/plain": [
       "  mpg  cyl disp hp  drat wt    qsec  vs am gear carb car_names        \n",
       "1 21.0 6   160  110 3.90 2.620 16.46 0  1  4    4    Mazda RX4        \n",
       "2 21.0 6   160  110 3.90 2.875 17.02 0  1  4    4    Mazda RX4 Wag    \n",
       "3 22.8 4   108   93 3.85 2.320 18.61 1  1  4    1    Datsun 710       \n",
       "4 21.4 6   258  110 3.08 3.215 19.44 1  0  3    1    Hornet 4 Drive   \n",
       "5 18.7 8   360  175 3.15 3.440 17.02 0  0  3    2    Hornet Sportabout\n",
       "6 18.1 6   225  105 2.76 3.460 20.22 1  0  3    1    Valiant          "
      ]
     },
     "metadata": {},
     "output_type": "display_data"
    }
   ],
   "source": [
    "data(\"mtcars\")\n",
    "mtcars$car_names = rownames(mtcars)\n",
    "rownames(mtcars) = NULL\n",
    "head(mtcars)"
   ]
  },
  {
   "cell_type": "code",
   "execution_count": 9,
   "id": "7746afb2-483a-45ed-98d3-aa1717ab6486",
   "metadata": {},
   "outputs": [
    {
     "data": {
      "text/html": [
       "'cars_data'"
      ],
      "text/latex": [
       "'cars\\_data'"
      ],
      "text/markdown": [
       "'cars_data'"
      ],
      "text/plain": [
       "[1] \"cars_data\""
      ]
     },
     "metadata": {},
     "output_type": "display_data"
    }
   ],
   "source": [
    "dbWriteTable(conn, \"cars_data\", mtcars)  ## write relation, table name : cars_data\n",
    "dbListTables(conn)  ## call DB relation list"
   ]
  },
  {
   "cell_type": "code",
   "execution_count": 10,
   "id": "fc8cf2f2-960b-47e0-8540-77678bc48ec0",
   "metadata": {},
   "outputs": [],
   "source": [
    "dbDisconnect(conn)  ## disconnecting database"
   ]
  },
  {
   "cell_type": "markdown",
   "id": "c319bdc5-1248-453d-98d0-494ae6de9a04",
   "metadata": {},
   "source": [
    "`-` 기초 예제"
   ]
  },
  {
   "cell_type": "code",
   "execution_count": 11,
   "id": "25cfc240-c0d1-4ecb-b273-c2d7a3f7272c",
   "metadata": {},
   "outputs": [],
   "source": [
    "conn = dbConnect(SQLite(), \"CarsDB.db\")  ## Connecting DB file"
   ]
  },
  {
   "cell_type": "code",
   "execution_count": 12,
   "id": "3809c1c4-4fb2-47d8-9633-daefafcaaa95",
   "metadata": {},
   "outputs": [],
   "source": [
    "## create dataframe\n",
    "car <- c('Camaro', 'California', 'Mustang', 'Explorer')\n",
    "make <- c('Chevrolet','Ferrari','Ford','Ford')\n",
    "df1 <- data.frame(car,make)\n",
    "\n",
    "car <- c('Corolla', 'Lancer', 'Sportage', 'XE')\n",
    "make <- c('Toyota','Mitsubishi','Kia','Jaguar')\n",
    "df2 = data.frame(car, make)\n",
    "dfList = list(df1, df2)\n",
    "\n",
    "for (k in 1:length(dfList)) {\n",
    "    dbWriteTable(conn, \"Cars_and_Makes\",\n",
    "                 dfList[[k]], append = TRUE)\n",
    "}  ## Write two dataframes into the Cars_and_Makes relation."
   ]
  },
  {
   "cell_type": "code",
   "execution_count": 13,
   "id": "4248db07-3c18-4dea-826e-55b7e06e307f",
   "metadata": {},
   "outputs": [
    {
     "data": {
      "text/html": [
       "<style>\n",
       ".list-inline {list-style: none; margin:0; padding: 0}\n",
       ".list-inline>li {display: inline-block}\n",
       ".list-inline>li:not(:last-child)::after {content: \"\\00b7\"; padding: 0 .5ex}\n",
       "</style>\n",
       "<ol class=list-inline><li>'Cars_and_Makes'</li><li>'cars_data'</li></ol>\n"
      ],
      "text/latex": [
       "\\begin{enumerate*}\n",
       "\\item 'Cars\\_and\\_Makes'\n",
       "\\item 'cars\\_data'\n",
       "\\end{enumerate*}\n"
      ],
      "text/markdown": [
       "1. 'Cars_and_Makes'\n",
       "2. 'cars_data'\n",
       "\n",
       "\n"
      ],
      "text/plain": [
       "[1] \"Cars_and_Makes\" \"cars_data\"     "
      ]
     },
     "metadata": {},
     "output_type": "display_data"
    },
    {
     "data": {
      "text/html": [
       "<table class=\"dataframe\">\n",
       "<caption>A data.frame: 8 × 2</caption>\n",
       "<thead>\n",
       "\t<tr><th scope=col>car</th><th scope=col>make</th></tr>\n",
       "\t<tr><th scope=col>&lt;chr&gt;</th><th scope=col>&lt;chr&gt;</th></tr>\n",
       "</thead>\n",
       "<tbody>\n",
       "\t<tr><td>Camaro    </td><td>Chevrolet </td></tr>\n",
       "\t<tr><td>California</td><td>Ferrari   </td></tr>\n",
       "\t<tr><td>Mustang   </td><td>Ford      </td></tr>\n",
       "\t<tr><td>Explorer  </td><td>Ford      </td></tr>\n",
       "\t<tr><td>Corolla   </td><td>Toyota    </td></tr>\n",
       "\t<tr><td>Lancer    </td><td>Mitsubishi</td></tr>\n",
       "\t<tr><td>Sportage  </td><td>Kia       </td></tr>\n",
       "\t<tr><td>XE        </td><td>Jaguar    </td></tr>\n",
       "</tbody>\n",
       "</table>\n"
      ],
      "text/latex": [
       "A data.frame: 8 × 2\n",
       "\\begin{tabular}{ll}\n",
       " car & make\\\\\n",
       " <chr> & <chr>\\\\\n",
       "\\hline\n",
       "\t Camaro     & Chevrolet \\\\\n",
       "\t California & Ferrari   \\\\\n",
       "\t Mustang    & Ford      \\\\\n",
       "\t Explorer   & Ford      \\\\\n",
       "\t Corolla    & Toyota    \\\\\n",
       "\t Lancer     & Mitsubishi\\\\\n",
       "\t Sportage   & Kia       \\\\\n",
       "\t XE         & Jaguar    \\\\\n",
       "\\end{tabular}\n"
      ],
      "text/markdown": [
       "\n",
       "A data.frame: 8 × 2\n",
       "\n",
       "| car &lt;chr&gt; | make &lt;chr&gt; |\n",
       "|---|---|\n",
       "| Camaro     | Chevrolet  |\n",
       "| California | Ferrari    |\n",
       "| Mustang    | Ford       |\n",
       "| Explorer   | Ford       |\n",
       "| Corolla    | Toyota     |\n",
       "| Lancer     | Mitsubishi |\n",
       "| Sportage   | Kia        |\n",
       "| XE         | Jaguar     |\n",
       "\n"
      ],
      "text/plain": [
       "  car        make      \n",
       "1 Camaro     Chevrolet \n",
       "2 California Ferrari   \n",
       "3 Mustang    Ford      \n",
       "4 Explorer   Ford      \n",
       "5 Corolla    Toyota    \n",
       "6 Lancer     Mitsubishi\n",
       "7 Sportage   Kia       \n",
       "8 XE         Jaguar    "
      ]
     },
     "metadata": {},
     "output_type": "display_data"
    },
    {
     "data": {
      "text/html": [
       "<table class=\"dataframe\">\n",
       "<caption>A data.frame: 20 × 12</caption>\n",
       "<thead>\n",
       "\t<tr><th scope=col>mpg</th><th scope=col>cyl</th><th scope=col>disp</th><th scope=col>hp</th><th scope=col>drat</th><th scope=col>wt</th><th scope=col>qsec</th><th scope=col>vs</th><th scope=col>am</th><th scope=col>gear</th><th scope=col>carb</th><th scope=col>car_names</th></tr>\n",
       "\t<tr><th scope=col>&lt;dbl&gt;</th><th scope=col>&lt;dbl&gt;</th><th scope=col>&lt;dbl&gt;</th><th scope=col>&lt;dbl&gt;</th><th scope=col>&lt;dbl&gt;</th><th scope=col>&lt;dbl&gt;</th><th scope=col>&lt;dbl&gt;</th><th scope=col>&lt;dbl&gt;</th><th scope=col>&lt;dbl&gt;</th><th scope=col>&lt;dbl&gt;</th><th scope=col>&lt;dbl&gt;</th><th scope=col>&lt;chr&gt;</th></tr>\n",
       "</thead>\n",
       "<tbody>\n",
       "\t<tr><td>21.0</td><td>6</td><td>160.0</td><td>110</td><td>3.90</td><td>2.620</td><td>16.46</td><td>0</td><td>1</td><td>4</td><td>4</td><td>Mazda RX4          </td></tr>\n",
       "\t<tr><td>21.0</td><td>6</td><td>160.0</td><td>110</td><td>3.90</td><td>2.875</td><td>17.02</td><td>0</td><td>1</td><td>4</td><td>4</td><td>Mazda RX4 Wag      </td></tr>\n",
       "\t<tr><td>22.8</td><td>4</td><td>108.0</td><td> 93</td><td>3.85</td><td>2.320</td><td>18.61</td><td>1</td><td>1</td><td>4</td><td>1</td><td>Datsun 710         </td></tr>\n",
       "\t<tr><td>21.4</td><td>6</td><td>258.0</td><td>110</td><td>3.08</td><td>3.215</td><td>19.44</td><td>1</td><td>0</td><td>3</td><td>1</td><td>Hornet 4 Drive     </td></tr>\n",
       "\t<tr><td>18.7</td><td>8</td><td>360.0</td><td>175</td><td>3.15</td><td>3.440</td><td>17.02</td><td>0</td><td>0</td><td>3</td><td>2</td><td>Hornet Sportabout  </td></tr>\n",
       "\t<tr><td>18.1</td><td>6</td><td>225.0</td><td>105</td><td>2.76</td><td>3.460</td><td>20.22</td><td>1</td><td>0</td><td>3</td><td>1</td><td>Valiant            </td></tr>\n",
       "\t<tr><td>14.3</td><td>8</td><td>360.0</td><td>245</td><td>3.21</td><td>3.570</td><td>15.84</td><td>0</td><td>0</td><td>3</td><td>4</td><td>Duster 360         </td></tr>\n",
       "\t<tr><td>24.4</td><td>4</td><td>146.7</td><td> 62</td><td>3.69</td><td>3.190</td><td>20.00</td><td>1</td><td>0</td><td>4</td><td>2</td><td>Merc 240D          </td></tr>\n",
       "\t<tr><td>22.8</td><td>4</td><td>140.8</td><td> 95</td><td>3.92</td><td>3.150</td><td>22.90</td><td>1</td><td>0</td><td>4</td><td>2</td><td>Merc 230           </td></tr>\n",
       "\t<tr><td>19.2</td><td>6</td><td>167.6</td><td>123</td><td>3.92</td><td>3.440</td><td>18.30</td><td>1</td><td>0</td><td>4</td><td>4</td><td>Merc 280           </td></tr>\n",
       "\t<tr><td>17.8</td><td>6</td><td>167.6</td><td>123</td><td>3.92</td><td>3.440</td><td>18.90</td><td>1</td><td>0</td><td>4</td><td>4</td><td>Merc 280C          </td></tr>\n",
       "\t<tr><td>16.4</td><td>8</td><td>275.8</td><td>180</td><td>3.07</td><td>4.070</td><td>17.40</td><td>0</td><td>0</td><td>3</td><td>3</td><td>Merc 450SE         </td></tr>\n",
       "\t<tr><td>17.3</td><td>8</td><td>275.8</td><td>180</td><td>3.07</td><td>3.730</td><td>17.60</td><td>0</td><td>0</td><td>3</td><td>3</td><td>Merc 450SL         </td></tr>\n",
       "\t<tr><td>15.2</td><td>8</td><td>275.8</td><td>180</td><td>3.07</td><td>3.780</td><td>18.00</td><td>0</td><td>0</td><td>3</td><td>3</td><td>Merc 450SLC        </td></tr>\n",
       "\t<tr><td>10.4</td><td>8</td><td>472.0</td><td>205</td><td>2.93</td><td>5.250</td><td>17.98</td><td>0</td><td>0</td><td>3</td><td>4</td><td>Cadillac Fleetwood </td></tr>\n",
       "\t<tr><td>10.4</td><td>8</td><td>460.0</td><td>215</td><td>3.00</td><td>5.424</td><td>17.82</td><td>0</td><td>0</td><td>3</td><td>4</td><td>Lincoln Continental</td></tr>\n",
       "\t<tr><td>14.7</td><td>8</td><td>440.0</td><td>230</td><td>3.23</td><td>5.345</td><td>17.42</td><td>0</td><td>0</td><td>3</td><td>4</td><td>Chrysler Imperial  </td></tr>\n",
       "\t<tr><td>32.4</td><td>4</td><td> 78.7</td><td> 66</td><td>4.08</td><td>2.200</td><td>19.47</td><td>1</td><td>1</td><td>4</td><td>1</td><td>Fiat 128           </td></tr>\n",
       "\t<tr><td>30.4</td><td>4</td><td> 75.7</td><td> 52</td><td>4.93</td><td>1.615</td><td>18.52</td><td>1</td><td>1</td><td>4</td><td>2</td><td>Honda Civic        </td></tr>\n",
       "\t<tr><td>33.9</td><td>4</td><td> 71.1</td><td> 65</td><td>4.22</td><td>1.835</td><td>19.90</td><td>1</td><td>1</td><td>4</td><td>1</td><td>Toyota Corolla     </td></tr>\n",
       "</tbody>\n",
       "</table>\n"
      ],
      "text/latex": [
       "A data.frame: 20 × 12\n",
       "\\begin{tabular}{llllllllllll}\n",
       " mpg & cyl & disp & hp & drat & wt & qsec & vs & am & gear & carb & car\\_names\\\\\n",
       " <dbl> & <dbl> & <dbl> & <dbl> & <dbl> & <dbl> & <dbl> & <dbl> & <dbl> & <dbl> & <dbl> & <chr>\\\\\n",
       "\\hline\n",
       "\t 21.0 & 6 & 160.0 & 110 & 3.90 & 2.620 & 16.46 & 0 & 1 & 4 & 4 & Mazda RX4          \\\\\n",
       "\t 21.0 & 6 & 160.0 & 110 & 3.90 & 2.875 & 17.02 & 0 & 1 & 4 & 4 & Mazda RX4 Wag      \\\\\n",
       "\t 22.8 & 4 & 108.0 &  93 & 3.85 & 2.320 & 18.61 & 1 & 1 & 4 & 1 & Datsun 710         \\\\\n",
       "\t 21.4 & 6 & 258.0 & 110 & 3.08 & 3.215 & 19.44 & 1 & 0 & 3 & 1 & Hornet 4 Drive     \\\\\n",
       "\t 18.7 & 8 & 360.0 & 175 & 3.15 & 3.440 & 17.02 & 0 & 0 & 3 & 2 & Hornet Sportabout  \\\\\n",
       "\t 18.1 & 6 & 225.0 & 105 & 2.76 & 3.460 & 20.22 & 1 & 0 & 3 & 1 & Valiant            \\\\\n",
       "\t 14.3 & 8 & 360.0 & 245 & 3.21 & 3.570 & 15.84 & 0 & 0 & 3 & 4 & Duster 360         \\\\\n",
       "\t 24.4 & 4 & 146.7 &  62 & 3.69 & 3.190 & 20.00 & 1 & 0 & 4 & 2 & Merc 240D          \\\\\n",
       "\t 22.8 & 4 & 140.8 &  95 & 3.92 & 3.150 & 22.90 & 1 & 0 & 4 & 2 & Merc 230           \\\\\n",
       "\t 19.2 & 6 & 167.6 & 123 & 3.92 & 3.440 & 18.30 & 1 & 0 & 4 & 4 & Merc 280           \\\\\n",
       "\t 17.8 & 6 & 167.6 & 123 & 3.92 & 3.440 & 18.90 & 1 & 0 & 4 & 4 & Merc 280C          \\\\\n",
       "\t 16.4 & 8 & 275.8 & 180 & 3.07 & 4.070 & 17.40 & 0 & 0 & 3 & 3 & Merc 450SE         \\\\\n",
       "\t 17.3 & 8 & 275.8 & 180 & 3.07 & 3.730 & 17.60 & 0 & 0 & 3 & 3 & Merc 450SL         \\\\\n",
       "\t 15.2 & 8 & 275.8 & 180 & 3.07 & 3.780 & 18.00 & 0 & 0 & 3 & 3 & Merc 450SLC        \\\\\n",
       "\t 10.4 & 8 & 472.0 & 205 & 2.93 & 5.250 & 17.98 & 0 & 0 & 3 & 4 & Cadillac Fleetwood \\\\\n",
       "\t 10.4 & 8 & 460.0 & 215 & 3.00 & 5.424 & 17.82 & 0 & 0 & 3 & 4 & Lincoln Continental\\\\\n",
       "\t 14.7 & 8 & 440.0 & 230 & 3.23 & 5.345 & 17.42 & 0 & 0 & 3 & 4 & Chrysler Imperial  \\\\\n",
       "\t 32.4 & 4 &  78.7 &  66 & 4.08 & 2.200 & 19.47 & 1 & 1 & 4 & 1 & Fiat 128           \\\\\n",
       "\t 30.4 & 4 &  75.7 &  52 & 4.93 & 1.615 & 18.52 & 1 & 1 & 4 & 2 & Honda Civic        \\\\\n",
       "\t 33.9 & 4 &  71.1 &  65 & 4.22 & 1.835 & 19.90 & 1 & 1 & 4 & 1 & Toyota Corolla     \\\\\n",
       "\\end{tabular}\n"
      ],
      "text/markdown": [
       "\n",
       "A data.frame: 20 × 12\n",
       "\n",
       "| mpg &lt;dbl&gt; | cyl &lt;dbl&gt; | disp &lt;dbl&gt; | hp &lt;dbl&gt; | drat &lt;dbl&gt; | wt &lt;dbl&gt; | qsec &lt;dbl&gt; | vs &lt;dbl&gt; | am &lt;dbl&gt; | gear &lt;dbl&gt; | carb &lt;dbl&gt; | car_names &lt;chr&gt; |\n",
       "|---|---|---|---|---|---|---|---|---|---|---|---|\n",
       "| 21.0 | 6 | 160.0 | 110 | 3.90 | 2.620 | 16.46 | 0 | 1 | 4 | 4 | Mazda RX4           |\n",
       "| 21.0 | 6 | 160.0 | 110 | 3.90 | 2.875 | 17.02 | 0 | 1 | 4 | 4 | Mazda RX4 Wag       |\n",
       "| 22.8 | 4 | 108.0 |  93 | 3.85 | 2.320 | 18.61 | 1 | 1 | 4 | 1 | Datsun 710          |\n",
       "| 21.4 | 6 | 258.0 | 110 | 3.08 | 3.215 | 19.44 | 1 | 0 | 3 | 1 | Hornet 4 Drive      |\n",
       "| 18.7 | 8 | 360.0 | 175 | 3.15 | 3.440 | 17.02 | 0 | 0 | 3 | 2 | Hornet Sportabout   |\n",
       "| 18.1 | 6 | 225.0 | 105 | 2.76 | 3.460 | 20.22 | 1 | 0 | 3 | 1 | Valiant             |\n",
       "| 14.3 | 8 | 360.0 | 245 | 3.21 | 3.570 | 15.84 | 0 | 0 | 3 | 4 | Duster 360          |\n",
       "| 24.4 | 4 | 146.7 |  62 | 3.69 | 3.190 | 20.00 | 1 | 0 | 4 | 2 | Merc 240D           |\n",
       "| 22.8 | 4 | 140.8 |  95 | 3.92 | 3.150 | 22.90 | 1 | 0 | 4 | 2 | Merc 230            |\n",
       "| 19.2 | 6 | 167.6 | 123 | 3.92 | 3.440 | 18.30 | 1 | 0 | 4 | 4 | Merc 280            |\n",
       "| 17.8 | 6 | 167.6 | 123 | 3.92 | 3.440 | 18.90 | 1 | 0 | 4 | 4 | Merc 280C           |\n",
       "| 16.4 | 8 | 275.8 | 180 | 3.07 | 4.070 | 17.40 | 0 | 0 | 3 | 3 | Merc 450SE          |\n",
       "| 17.3 | 8 | 275.8 | 180 | 3.07 | 3.730 | 17.60 | 0 | 0 | 3 | 3 | Merc 450SL          |\n",
       "| 15.2 | 8 | 275.8 | 180 | 3.07 | 3.780 | 18.00 | 0 | 0 | 3 | 3 | Merc 450SLC         |\n",
       "| 10.4 | 8 | 472.0 | 205 | 2.93 | 5.250 | 17.98 | 0 | 0 | 3 | 4 | Cadillac Fleetwood  |\n",
       "| 10.4 | 8 | 460.0 | 215 | 3.00 | 5.424 | 17.82 | 0 | 0 | 3 | 4 | Lincoln Continental |\n",
       "| 14.7 | 8 | 440.0 | 230 | 3.23 | 5.345 | 17.42 | 0 | 0 | 3 | 4 | Chrysler Imperial   |\n",
       "| 32.4 | 4 |  78.7 |  66 | 4.08 | 2.200 | 19.47 | 1 | 1 | 4 | 1 | Fiat 128            |\n",
       "| 30.4 | 4 |  75.7 |  52 | 4.93 | 1.615 | 18.52 | 1 | 1 | 4 | 2 | Honda Civic         |\n",
       "| 33.9 | 4 |  71.1 |  65 | 4.22 | 1.835 | 19.90 | 1 | 1 | 4 | 1 | Toyota Corolla      |\n",
       "\n"
      ],
      "text/plain": [
       "   mpg  cyl disp  hp  drat wt    qsec  vs am gear carb car_names          \n",
       "1  21.0 6   160.0 110 3.90 2.620 16.46 0  1  4    4    Mazda RX4          \n",
       "2  21.0 6   160.0 110 3.90 2.875 17.02 0  1  4    4    Mazda RX4 Wag      \n",
       "3  22.8 4   108.0  93 3.85 2.320 18.61 1  1  4    1    Datsun 710         \n",
       "4  21.4 6   258.0 110 3.08 3.215 19.44 1  0  3    1    Hornet 4 Drive     \n",
       "5  18.7 8   360.0 175 3.15 3.440 17.02 0  0  3    2    Hornet Sportabout  \n",
       "6  18.1 6   225.0 105 2.76 3.460 20.22 1  0  3    1    Valiant            \n",
       "7  14.3 8   360.0 245 3.21 3.570 15.84 0  0  3    4    Duster 360         \n",
       "8  24.4 4   146.7  62 3.69 3.190 20.00 1  0  4    2    Merc 240D          \n",
       "9  22.8 4   140.8  95 3.92 3.150 22.90 1  0  4    2    Merc 230           \n",
       "10 19.2 6   167.6 123 3.92 3.440 18.30 1  0  4    4    Merc 280           \n",
       "11 17.8 6   167.6 123 3.92 3.440 18.90 1  0  4    4    Merc 280C          \n",
       "12 16.4 8   275.8 180 3.07 4.070 17.40 0  0  3    3    Merc 450SE         \n",
       "13 17.3 8   275.8 180 3.07 3.730 17.60 0  0  3    3    Merc 450SL         \n",
       "14 15.2 8   275.8 180 3.07 3.780 18.00 0  0  3    3    Merc 450SLC        \n",
       "15 10.4 8   472.0 205 2.93 5.250 17.98 0  0  3    4    Cadillac Fleetwood \n",
       "16 10.4 8   460.0 215 3.00 5.424 17.82 0  0  3    4    Lincoln Continental\n",
       "17 14.7 8   440.0 230 3.23 5.345 17.42 0  0  3    4    Chrysler Imperial  \n",
       "18 32.4 4    78.7  66 4.08 2.200 19.47 1  1  4    1    Fiat 128           \n",
       "19 30.4 4    75.7  52 4.93 1.615 18.52 1  1  4    2    Honda Civic        \n",
       "20 33.9 4    71.1  65 4.22 1.835 19.90 1  1  4    1    Toyota Corolla     "
      ]
     },
     "metadata": {},
     "output_type": "display_data"
    },
    {
     "data": {
      "text/html": [
       "<table class=\"dataframe\">\n",
       "<caption>A data.frame: 14 × 3</caption>\n",
       "<thead>\n",
       "\t<tr><th scope=col>car_names</th><th scope=col>hp</th><th scope=col>cyl</th></tr>\n",
       "\t<tr><th scope=col>&lt;chr&gt;</th><th scope=col>&lt;dbl&gt;</th><th scope=col>&lt;dbl&gt;</th></tr>\n",
       "</thead>\n",
       "<tbody>\n",
       "\t<tr><td>Hornet Sportabout  </td><td>175</td><td>8</td></tr>\n",
       "\t<tr><td>Duster 360         </td><td>245</td><td>8</td></tr>\n",
       "\t<tr><td>Merc 450SE         </td><td>180</td><td>8</td></tr>\n",
       "\t<tr><td>Merc 450SL         </td><td>180</td><td>8</td></tr>\n",
       "\t<tr><td>Merc 450SLC        </td><td>180</td><td>8</td></tr>\n",
       "\t<tr><td>Cadillac Fleetwood </td><td>205</td><td>8</td></tr>\n",
       "\t<tr><td>Lincoln Continental</td><td>215</td><td>8</td></tr>\n",
       "\t<tr><td>Chrysler Imperial  </td><td>230</td><td>8</td></tr>\n",
       "\t<tr><td>Dodge Challenger   </td><td>150</td><td>8</td></tr>\n",
       "\t<tr><td>AMC Javelin        </td><td>150</td><td>8</td></tr>\n",
       "\t<tr><td>Camaro Z28         </td><td>245</td><td>8</td></tr>\n",
       "\t<tr><td>Pontiac Firebird   </td><td>175</td><td>8</td></tr>\n",
       "\t<tr><td>Ford Pantera L     </td><td>264</td><td>8</td></tr>\n",
       "\t<tr><td>Maserati Bora      </td><td>335</td><td>8</td></tr>\n",
       "</tbody>\n",
       "</table>\n"
      ],
      "text/latex": [
       "A data.frame: 14 × 3\n",
       "\\begin{tabular}{lll}\n",
       " car\\_names & hp & cyl\\\\\n",
       " <chr> & <dbl> & <dbl>\\\\\n",
       "\\hline\n",
       "\t Hornet Sportabout   & 175 & 8\\\\\n",
       "\t Duster 360          & 245 & 8\\\\\n",
       "\t Merc 450SE          & 180 & 8\\\\\n",
       "\t Merc 450SL          & 180 & 8\\\\\n",
       "\t Merc 450SLC         & 180 & 8\\\\\n",
       "\t Cadillac Fleetwood  & 205 & 8\\\\\n",
       "\t Lincoln Continental & 215 & 8\\\\\n",
       "\t Chrysler Imperial   & 230 & 8\\\\\n",
       "\t Dodge Challenger    & 150 & 8\\\\\n",
       "\t AMC Javelin         & 150 & 8\\\\\n",
       "\t Camaro Z28          & 245 & 8\\\\\n",
       "\t Pontiac Firebird    & 175 & 8\\\\\n",
       "\t Ford Pantera L      & 264 & 8\\\\\n",
       "\t Maserati Bora       & 335 & 8\\\\\n",
       "\\end{tabular}\n"
      ],
      "text/markdown": [
       "\n",
       "A data.frame: 14 × 3\n",
       "\n",
       "| car_names &lt;chr&gt; | hp &lt;dbl&gt; | cyl &lt;dbl&gt; |\n",
       "|---|---|---|\n",
       "| Hornet Sportabout   | 175 | 8 |\n",
       "| Duster 360          | 245 | 8 |\n",
       "| Merc 450SE          | 180 | 8 |\n",
       "| Merc 450SL          | 180 | 8 |\n",
       "| Merc 450SLC         | 180 | 8 |\n",
       "| Cadillac Fleetwood  | 205 | 8 |\n",
       "| Lincoln Continental | 215 | 8 |\n",
       "| Chrysler Imperial   | 230 | 8 |\n",
       "| Dodge Challenger    | 150 | 8 |\n",
       "| AMC Javelin         | 150 | 8 |\n",
       "| Camaro Z28          | 245 | 8 |\n",
       "| Pontiac Firebird    | 175 | 8 |\n",
       "| Ford Pantera L      | 264 | 8 |\n",
       "| Maserati Bora       | 335 | 8 |\n",
       "\n"
      ],
      "text/plain": [
       "   car_names           hp  cyl\n",
       "1  Hornet Sportabout   175 8  \n",
       "2  Duster 360          245 8  \n",
       "3  Merc 450SE          180 8  \n",
       "4  Merc 450SL          180 8  \n",
       "5  Merc 450SLC         180 8  \n",
       "6  Cadillac Fleetwood  205 8  \n",
       "7  Lincoln Continental 215 8  \n",
       "8  Chrysler Imperial   230 8  \n",
       "9  Dodge Challenger    150 8  \n",
       "10 AMC Javelin         150 8  \n",
       "11 Camaro Z28          245 8  \n",
       "12 Pontiac Firebird    175 8  \n",
       "13 Ford Pantera L      264 8  \n",
       "14 Maserati Bora       335 8  "
      ]
     },
     "metadata": {},
     "output_type": "display_data"
    }
   ],
   "source": [
    "dbListTables(conn)\n",
    "\n",
    "dbGetQuery(conn, \"SELECT * FROM Cars_and_Makes\")  ## SELECT all(*) FROM Cars_and_Makes relation\n",
    "dbGetQuery(conn, \"SELECT * FROM cars_data LIMIT 20\")  ## SELECT all(*) columns FROM carsr_data relation.\n",
    "# maximun 20 tuples\n",
    "dbGetQuery(conn, \"SELECT car_names, hp, cyl FROM cars_data WHERE cyl = 8\")"
   ]
  },
  {
   "cell_type": "code",
   "execution_count": 26,
   "id": "bed7314d-24c7-4941-adec-74e96243c151",
   "metadata": {},
   "outputs": [
    {
     "data": {
      "text/html": [
       "<table class=\"dataframe\">\n",
       "<caption>A data.frame: 1 × 2</caption>\n",
       "<thead>\n",
       "\t<tr><th scope=col>cyl</th><th scope=col>AVG(hp)</th></tr>\n",
       "\t<tr><th scope=col>&lt;dbl&gt;</th><th scope=col>&lt;dbl&gt;</th></tr>\n",
       "</thead>\n",
       "<tbody>\n",
       "\t<tr><td>6</td><td>146.6875</td></tr>\n",
       "</tbody>\n",
       "</table>\n"
      ],
      "text/latex": [
       "A data.frame: 1 × 2\n",
       "\\begin{tabular}{ll}\n",
       " cyl & AVG(hp)\\\\\n",
       " <dbl> & <dbl>\\\\\n",
       "\\hline\n",
       "\t 6 & 146.6875\\\\\n",
       "\\end{tabular}\n"
      ],
      "text/markdown": [
       "\n",
       "A data.frame: 1 × 2\n",
       "\n",
       "| cyl &lt;dbl&gt; | AVG(hp) &lt;dbl&gt; |\n",
       "|---|---|\n",
       "| 6 | 146.6875 |\n",
       "\n"
      ],
      "text/plain": [
       "  cyl AVG(hp) \n",
       "1 6   146.6875"
      ]
     },
     "metadata": {},
     "output_type": "display_data"
    }
   ],
   "source": [
    "dbGetQuery(conn, \"SELECT cyl, AVG(hp) FROM cars_data\")"
   ]
  },
  {
   "cell_type": "code",
   "execution_count": 20,
   "id": "b4bef647-3ad9-462b-b699-d58100e43593",
   "metadata": {},
   "outputs": [
    {
     "data": {
      "text/html": [
       "<table class=\"dataframe\">\n",
       "<caption>A data.frame: 3 × 3</caption>\n",
       "<thead>\n",
       "\t<tr><th scope=col>cyl</th><th scope=col>average_hp</th><th scope=col>average_mpg</th></tr>\n",
       "\t<tr><th scope=col>&lt;dbl&gt;</th><th scope=col>&lt;dbl&gt;</th><th scope=col>&lt;dbl&gt;</th></tr>\n",
       "</thead>\n",
       "<tbody>\n",
       "\t<tr><td>8</td><td>209.21429</td><td>15.10000</td></tr>\n",
       "\t<tr><td>6</td><td>122.28571</td><td>19.74286</td></tr>\n",
       "\t<tr><td>4</td><td> 82.63636</td><td>26.66364</td></tr>\n",
       "</tbody>\n",
       "</table>\n"
      ],
      "text/latex": [
       "A data.frame: 3 × 3\n",
       "\\begin{tabular}{lll}\n",
       " cyl & average\\_hp & average\\_mpg\\\\\n",
       " <dbl> & <dbl> & <dbl>\\\\\n",
       "\\hline\n",
       "\t 8 & 209.21429 & 15.10000\\\\\n",
       "\t 6 & 122.28571 & 19.74286\\\\\n",
       "\t 4 &  82.63636 & 26.66364\\\\\n",
       "\\end{tabular}\n"
      ],
      "text/markdown": [
       "\n",
       "A data.frame: 3 × 3\n",
       "\n",
       "| cyl &lt;dbl&gt; | average_hp &lt;dbl&gt; | average_mpg &lt;dbl&gt; |\n",
       "|---|---|---|\n",
       "| 8 | 209.21429 | 15.10000 |\n",
       "| 6 | 122.28571 | 19.74286 |\n",
       "| 4 |  82.63636 | 26.66364 |\n",
       "\n"
      ],
      "text/plain": [
       "  cyl average_hp average_mpg\n",
       "1 8   209.21429  15.10000   \n",
       "2 6   122.28571  19.74286   \n",
       "3 4    82.63636  26.66364   "
      ]
     },
     "metadata": {},
     "output_type": "display_data"
    }
   ],
   "source": [
    "dbGetQuery(conn, \"SELECT cyl, AVG(hp) AS 'average_hp', AVG(mpg) AS 'average_mpg' FROM cars_data GROUP BY cyl ORDER BY average_mpg\")"
   ]
  },
  {
   "cell_type": "markdown",
   "id": "38751588-eef8-450a-bfe2-13ebf1c2cb51",
   "metadata": {},
   "source": [
    "SELECT cyl, AVG(hp), AVG(mpg) : hp와 mpg는 평균을 내어 산출\n",
    "\n",
    "AS 'average_hp', AS 'average_mpg' : 해당 열 이름으로\n",
    "\n",
    "FROM cars_data\n",
    "\n",
    "GROUP BY cyl : cyl의 값들을 기준으로 그룹화하여 계산"
   ]
  },
  {
   "cell_type": "markdown",
   "id": "6e33506d-70d8-4392-8662-d05116918204",
   "metadata": {},
   "source": [
    "SELECT car_names, mpg, hp, wt, FROM cars_data WHERE mpg >= ? AND hp >= ? AND wt >= ? : WHERE 구문에 AND, OR 사용 가능"
   ]
  }
 ],
 "metadata": {
  "kernelspec": {
   "display_name": "R",
   "language": "R",
   "name": "ir"
  },
  "language_info": {
   "codemirror_mode": "r",
   "file_extension": ".r",
   "mimetype": "text/x-r-source",
   "name": "R",
   "pygments_lexer": "r",
   "version": "4.3.3"
  }
 },
 "nbformat": 4,
 "nbformat_minor": 5
}
