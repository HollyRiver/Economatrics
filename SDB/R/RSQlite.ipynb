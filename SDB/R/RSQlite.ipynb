{
 "cells": [
  {
   "cell_type": "markdown",
   "id": "b21f281c-93b0-4f63-8720-7455f387aff1",
   "metadata": {},
   "source": [
    "### **발표 양식(실제 DB)**\n",
    "\n",
    "`-` DB의 스키마 표시 `SELECT * FROM sqlite_schema WHERE name = 'table_name'`\n",
    "\n",
    "`-` 기본키로 설정을 해놨는데 삽입(중복된 것)을 하면 어떻게 되는지 `INSERT`구문\n",
    "\n",
    "`-` 수정, 삽입, 갱신에 대한 구문도 간단히 해야 한다. `INSERT, DELETE`구문\n",
    "\n",
    "`-` 조인을 통한 데이터 결합 `SELECT FULL JOIN`구문\n",
    "\n",
    "`-` 시간이 좀 더 있다면 어떤 데이터를 입력이나 수정할 지 현장에서 요구할 수도 있다.\n",
    "\n",
    "`-` 간단한 분석\n",
    "\n",
    "`-` 등등..."
   ]
  },
  {
   "cell_type": "markdown",
   "id": "af817882-fd00-48a4-af6d-f42d222d023c",
   "metadata": {},
   "source": [
    "    cf) 발표와 질의응답 : 발표를 누가 하든지 질의응답에서 대답을 잘 못하면 개별 감점이 있습니다.\n",
    "\n",
    "    보강이 필요한데, 영상으로 진행할 예정입니다. 세 시간 정도 앞에서 배운 내용을 요약해주는 형식입니다. 왠만해서는 영상으로 보강이 가능하도록 할 겁니다.\n",
    "\n",
    "    퀴즈는 발표주차 바로 전에 보도록 하겠습니다. 15~20분 정도 분량입니다. 간단히 확인할 수 있는 정도의 문제."
   ]
  },
  {
   "cell_type": "markdown",
   "id": "aef700b7-86ae-41d6-a2aa-33a2b969b42a",
   "metadata": {},
   "source": [
    "## 1. SQLite에 대한 설명"
   ]
  },
  {
   "cell_type": "markdown",
   "id": "0146b43c-7e2e-4f29-b510-85a2c5e5b532",
   "metadata": {},
   "source": [
    "오픈 소스, 가벼운 유형으로 모든 시스템에서 사용이 가능하다.\n",
    "\n",
    "데이터 형식의 다양성(스키마 지정), 수평 확장성(데이터베이스 네트워크 간 확장), 데이터 관리의 엄격성에서는 다소 약점이 있고 이런 부분에서는 MySQL이 강점을 가지고 있다.\n",
    "\n",
    "> 실제 상황과의 괴리 : 실제는 서버에서 돌아가고, 대용량 데이터가 여러 데이터베이스간 교차하여 작동함."
   ]
  },
  {
   "cell_type": "markdown",
   "id": "9ac36122-7769-4170-8f02-8ff0e9ed57c8",
   "metadata": {},
   "source": [
    "지원하는 데이터 유형\n",
    "\n",
    "* TEXT 문자열(UTF-8, UTF-16BE, UTF16LE)\n",
    "* REAL 8바이트 부동 소수점 값. float32\n",
    "* NULL\n",
    "* INTEGER 8바이트 정수값. int32\n",
    "* BLOB 입력형태 그대로 저장(이미지, 오디오, 멀티미디어 파일)"
   ]
  },
  {
   "cell_type": "markdown",
   "id": "d3d1a863-e4e2-49cb-ba91-0b680a293ff1",
   "metadata": {},
   "source": [
    "## 2. Imports"
   ]
  },
  {
   "cell_type": "code",
   "execution_count": 2,
   "id": "f51eddd5-39d6-4933-9c4f-aa54e996f85f",
   "metadata": {},
   "outputs": [],
   "source": [
    "# install.packages(\"DBI\")\n",
    "# install.packages(\"RSQLite\")\n",
    "library(DBI)\n",
    "library(RSQLite)"
   ]
  },
  {
   "cell_type": "markdown",
   "id": "ea297854-3c76-453b-b222-8adf47d4a034",
   "metadata": {},
   "source": [
    "## 3. Function"
   ]
  },
  {
   "cell_type": "markdown",
   "id": "40643116-8f7e-4d5d-90f0-193c7c826fe7",
   "metadata": {},
   "source": [
    "### **A. Connecting**\n",
    "\n",
    "---"
   ]
  },
  {
   "cell_type": "code",
   "execution_count": 92,
   "id": "5a88c25f-02e8-4830-8b55-c976e5350429",
   "metadata": {},
   "outputs": [
    {
     "data": {
      "text/html": [
       "<table class=\"dataframe\">\n",
       "<caption>A data.frame: 6 × 12</caption>\n",
       "<thead>\n",
       "\t<tr><th></th><th scope=col>mpg</th><th scope=col>cyl</th><th scope=col>disp</th><th scope=col>hp</th><th scope=col>drat</th><th scope=col>wt</th><th scope=col>qsec</th><th scope=col>vs</th><th scope=col>am</th><th scope=col>gear</th><th scope=col>carb</th><th scope=col>car_names</th></tr>\n",
       "\t<tr><th></th><th scope=col>&lt;dbl&gt;</th><th scope=col>&lt;dbl&gt;</th><th scope=col>&lt;dbl&gt;</th><th scope=col>&lt;dbl&gt;</th><th scope=col>&lt;dbl&gt;</th><th scope=col>&lt;dbl&gt;</th><th scope=col>&lt;dbl&gt;</th><th scope=col>&lt;dbl&gt;</th><th scope=col>&lt;dbl&gt;</th><th scope=col>&lt;dbl&gt;</th><th scope=col>&lt;dbl&gt;</th><th scope=col>&lt;chr&gt;</th></tr>\n",
       "</thead>\n",
       "<tbody>\n",
       "\t<tr><th scope=row>1</th><td>21.0</td><td>6</td><td>160</td><td>110</td><td>3.90</td><td>2.620</td><td>16.46</td><td>0</td><td>1</td><td>4</td><td>4</td><td>Mazda RX4        </td></tr>\n",
       "\t<tr><th scope=row>2</th><td>21.0</td><td>6</td><td>160</td><td>110</td><td>3.90</td><td>2.875</td><td>17.02</td><td>0</td><td>1</td><td>4</td><td>4</td><td>Mazda RX4 Wag    </td></tr>\n",
       "\t<tr><th scope=row>3</th><td>22.8</td><td>4</td><td>108</td><td> 93</td><td>3.85</td><td>2.320</td><td>18.61</td><td>1</td><td>1</td><td>4</td><td>1</td><td>Datsun 710       </td></tr>\n",
       "\t<tr><th scope=row>4</th><td>21.4</td><td>6</td><td>258</td><td>110</td><td>3.08</td><td>3.215</td><td>19.44</td><td>1</td><td>0</td><td>3</td><td>1</td><td>Hornet 4 Drive   </td></tr>\n",
       "\t<tr><th scope=row>5</th><td>18.7</td><td>8</td><td>360</td><td>175</td><td>3.15</td><td>3.440</td><td>17.02</td><td>0</td><td>0</td><td>3</td><td>2</td><td>Hornet Sportabout</td></tr>\n",
       "\t<tr><th scope=row>6</th><td>18.1</td><td>6</td><td>225</td><td>105</td><td>2.76</td><td>3.460</td><td>20.22</td><td>1</td><td>0</td><td>3</td><td>1</td><td>Valiant          </td></tr>\n",
       "</tbody>\n",
       "</table>\n"
      ],
      "text/latex": [
       "A data.frame: 6 × 12\n",
       "\\begin{tabular}{r|llllllllllll}\n",
       "  & mpg & cyl & disp & hp & drat & wt & qsec & vs & am & gear & carb & car\\_names\\\\\n",
       "  & <dbl> & <dbl> & <dbl> & <dbl> & <dbl> & <dbl> & <dbl> & <dbl> & <dbl> & <dbl> & <dbl> & <chr>\\\\\n",
       "\\hline\n",
       "\t1 & 21.0 & 6 & 160 & 110 & 3.90 & 2.620 & 16.46 & 0 & 1 & 4 & 4 & Mazda RX4        \\\\\n",
       "\t2 & 21.0 & 6 & 160 & 110 & 3.90 & 2.875 & 17.02 & 0 & 1 & 4 & 4 & Mazda RX4 Wag    \\\\\n",
       "\t3 & 22.8 & 4 & 108 &  93 & 3.85 & 2.320 & 18.61 & 1 & 1 & 4 & 1 & Datsun 710       \\\\\n",
       "\t4 & 21.4 & 6 & 258 & 110 & 3.08 & 3.215 & 19.44 & 1 & 0 & 3 & 1 & Hornet 4 Drive   \\\\\n",
       "\t5 & 18.7 & 8 & 360 & 175 & 3.15 & 3.440 & 17.02 & 0 & 0 & 3 & 2 & Hornet Sportabout\\\\\n",
       "\t6 & 18.1 & 6 & 225 & 105 & 2.76 & 3.460 & 20.22 & 1 & 0 & 3 & 1 & Valiant          \\\\\n",
       "\\end{tabular}\n"
      ],
      "text/markdown": [
       "\n",
       "A data.frame: 6 × 12\n",
       "\n",
       "| <!--/--> | mpg &lt;dbl&gt; | cyl &lt;dbl&gt; | disp &lt;dbl&gt; | hp &lt;dbl&gt; | drat &lt;dbl&gt; | wt &lt;dbl&gt; | qsec &lt;dbl&gt; | vs &lt;dbl&gt; | am &lt;dbl&gt; | gear &lt;dbl&gt; | carb &lt;dbl&gt; | car_names &lt;chr&gt; |\n",
       "|---|---|---|---|---|---|---|---|---|---|---|---|---|\n",
       "| 1 | 21.0 | 6 | 160 | 110 | 3.90 | 2.620 | 16.46 | 0 | 1 | 4 | 4 | Mazda RX4         |\n",
       "| 2 | 21.0 | 6 | 160 | 110 | 3.90 | 2.875 | 17.02 | 0 | 1 | 4 | 4 | Mazda RX4 Wag     |\n",
       "| 3 | 22.8 | 4 | 108 |  93 | 3.85 | 2.320 | 18.61 | 1 | 1 | 4 | 1 | Datsun 710        |\n",
       "| 4 | 21.4 | 6 | 258 | 110 | 3.08 | 3.215 | 19.44 | 1 | 0 | 3 | 1 | Hornet 4 Drive    |\n",
       "| 5 | 18.7 | 8 | 360 | 175 | 3.15 | 3.440 | 17.02 | 0 | 0 | 3 | 2 | Hornet Sportabout |\n",
       "| 6 | 18.1 | 6 | 225 | 105 | 2.76 | 3.460 | 20.22 | 1 | 0 | 3 | 1 | Valiant           |\n",
       "\n"
      ],
      "text/plain": [
       "  mpg  cyl disp hp  drat wt    qsec  vs am gear carb car_names        \n",
       "1 21.0 6   160  110 3.90 2.620 16.46 0  1  4    4    Mazda RX4        \n",
       "2 21.0 6   160  110 3.90 2.875 17.02 0  1  4    4    Mazda RX4 Wag    \n",
       "3 22.8 4   108   93 3.85 2.320 18.61 1  1  4    1    Datsun 710       \n",
       "4 21.4 6   258  110 3.08 3.215 19.44 1  0  3    1    Hornet 4 Drive   \n",
       "5 18.7 8   360  175 3.15 3.440 17.02 0  0  3    2    Hornet Sportabout\n",
       "6 18.1 6   225  105 2.76 3.460 20.22 1  0  3    1    Valiant          "
      ]
     },
     "metadata": {},
     "output_type": "display_data"
    }
   ],
   "source": [
    "data(\"mtcars\")\n",
    "mtcars$car_names = rownames(mtcars) ## 인덱스를 데이터로 따로 받아 새 열로 추가\n",
    "rownames(mtcars) = NULL  ## 인덱스 초기화\n",
    "head(mtcars)"
   ]
  },
  {
   "cell_type": "markdown",
   "id": "6a6f665c-d0cd-4c2e-8b7c-1f6b1f9725b7",
   "metadata": {},
   "source": [
    "`-` Connecting Database File : `dbConnect()`"
   ]
  },
  {
   "cell_type": "code",
   "execution_count": 93,
   "id": "c0dff70b-90d9-42fe-b6c2-a69dab6def68",
   "metadata": {},
   "outputs": [],
   "source": [
    "conn = dbConnect(RSQLite::SQLite(), \"CarsDB.db\")  ## 데이터베이스 파일이 존재하지 않으면 생성"
   ]
  },
  {
   "cell_type": "markdown",
   "id": "40b6db21-ecaf-4709-8e6f-8353edbc3461",
   "metadata": {},
   "source": [
    "`-` Writing table : `dbWriteTable()` 정제된 데이터프레임 삽입에 유리(append)"
   ]
  },
  {
   "cell_type": "code",
   "execution_count": 94,
   "id": "4c0ca3b2-8f7b-4b39-8592-7f61f773f3d6",
   "metadata": {},
   "outputs": [
    {
     "data": {
      "text/html": [
       "'cars_data'"
      ],
      "text/latex": [
       "'cars\\_data'"
      ],
      "text/markdown": [
       "'cars_data'"
      ],
      "text/plain": [
       "[1] \"cars_data\""
      ]
     },
     "metadata": {},
     "output_type": "display_data"
    }
   ],
   "source": [
    "dbWriteTable(conn, \"cars_data\", mtcars)  ## Write table(relation)\n",
    "dbListTables(conn)  ## debuging"
   ]
  },
  {
   "cell_type": "code",
   "execution_count": 95,
   "id": "f3f5fbd3-490a-4cd6-9420-c459aa739ed2",
   "metadata": {},
   "outputs": [],
   "source": [
    "car <- c('Camaro', 'California', 'Mustang', 'Explorer')\n",
    "make <- c('Chevrolet','Ferrari','Ford','Ford')\n",
    "df1 <- data.frame(car,make)\n",
    "car <- c('Corolla', 'Lancer', 'Sportage', 'XE')\n",
    "make <- c('Toyota','Mitsubishi','Kia','Jaguar')\n",
    "df2 <- data.frame(car,make)"
   ]
  },
  {
   "cell_type": "code",
   "execution_count": 96,
   "id": "f8134f0e-611b-4010-8ecc-55db4f435ea3",
   "metadata": {},
   "outputs": [
    {
     "data": {
      "text/html": [
       "<style>\n",
       ".list-inline {list-style: none; margin:0; padding: 0}\n",
       ".list-inline>li {display: inline-block}\n",
       ".list-inline>li:not(:last-child)::after {content: \"\\00b7\"; padding: 0 .5ex}\n",
       "</style>\n",
       "<ol class=list-inline><li>'Cars_and_Makes'</li><li>'cars_data'</li></ol>\n"
      ],
      "text/latex": [
       "\\begin{enumerate*}\n",
       "\\item 'Cars\\_and\\_Makes'\n",
       "\\item 'cars\\_data'\n",
       "\\end{enumerate*}\n"
      ],
      "text/markdown": [
       "1. 'Cars_and_Makes'\n",
       "2. 'cars_data'\n",
       "\n",
       "\n"
      ],
      "text/plain": [
       "[1] \"Cars_and_Makes\" \"cars_data\"     "
      ]
     },
     "metadata": {},
     "output_type": "display_data"
    }
   ],
   "source": [
    "dfList = list(df1, df2)\n",
    "\n",
    "for (i in 1:length(dfList)) {\n",
    "    dbWriteTable(conn, \"Cars_and_Makes\", dfList[[i]], append = TRUE)  ## write new table\n",
    "}\n",
    "\n",
    "dbListTables(conn)"
   ]
  },
  {
   "cell_type": "markdown",
   "id": "f87b0fb5-c6b2-4fb8-8fb5-2c9d2a031ac5",
   "metadata": {},
   "source": [
    "* arguments\n",
    "\n",
    "> append = TRUE : 기존 테이블에 추가. 해당 기능 덕분에 스키마를 만들어두고 그대로 집어넣기가 용이하다.\n",
    ">\n",
    "> 작성 후 반드시 dbDisconnect()를 하라고 경고가 발생"
   ]
  },
  {
   "cell_type": "markdown",
   "id": "be532f29-29de-4dd0-8216-37374e780455",
   "metadata": {},
   "source": [
    "### **B. Query**\n",
    "\n",
    "---"
   ]
  },
  {
   "cell_type": "markdown",
   "id": "f017dc43-f9ef-4ccb-b736-42bf877a100f",
   "metadata": {},
   "source": [
    "`-` Query : `dbGetQuery()` 작업은 불가능하고 쿼리 결과 테이블만 반환할 수 있음."
   ]
  },
  {
   "cell_type": "code",
   "execution_count": 98,
   "id": "4fdcc69a-b4df-4615-807e-0314ed36867c",
   "metadata": {},
   "outputs": [
    {
     "data": {
      "text/html": [
       "<table class=\"dataframe\">\n",
       "<caption>A data.frame: 32 × 3</caption>\n",
       "<thead>\n",
       "\t<tr><th scope=col>car_names</th><th scope=col>hp</th><th scope=col>cyl</th></tr>\n",
       "\t<tr><th scope=col>&lt;chr&gt;</th><th scope=col>&lt;dbl&gt;</th><th scope=col>&lt;dbl&gt;</th></tr>\n",
       "</thead>\n",
       "<tbody>\n",
       "\t<tr><td>Mazda RX4          </td><td>110</td><td>6</td></tr>\n",
       "\t<tr><td>Mazda RX4 Wag      </td><td>110</td><td>6</td></tr>\n",
       "\t<tr><td>Datsun 710         </td><td> 93</td><td>4</td></tr>\n",
       "\t<tr><td>Hornet 4 Drive     </td><td>110</td><td>6</td></tr>\n",
       "\t<tr><td>Hornet Sportabout  </td><td>175</td><td>8</td></tr>\n",
       "\t<tr><td>Valiant            </td><td>105</td><td>6</td></tr>\n",
       "\t<tr><td>Duster 360         </td><td>245</td><td>8</td></tr>\n",
       "\t<tr><td>Merc 240D          </td><td> 62</td><td>4</td></tr>\n",
       "\t<tr><td>Merc 230           </td><td> 95</td><td>4</td></tr>\n",
       "\t<tr><td>Merc 280           </td><td>123</td><td>6</td></tr>\n",
       "\t<tr><td>Merc 280C          </td><td>123</td><td>6</td></tr>\n",
       "\t<tr><td>Merc 450SE         </td><td>180</td><td>8</td></tr>\n",
       "\t<tr><td>Merc 450SL         </td><td>180</td><td>8</td></tr>\n",
       "\t<tr><td>Merc 450SLC        </td><td>180</td><td>8</td></tr>\n",
       "\t<tr><td>Cadillac Fleetwood </td><td>205</td><td>8</td></tr>\n",
       "\t<tr><td>Lincoln Continental</td><td>215</td><td>8</td></tr>\n",
       "\t<tr><td>Chrysler Imperial  </td><td>230</td><td>8</td></tr>\n",
       "\t<tr><td>Fiat 128           </td><td> 66</td><td>4</td></tr>\n",
       "\t<tr><td>Honda Civic        </td><td> 52</td><td>4</td></tr>\n",
       "\t<tr><td>Toyota Corolla     </td><td> 65</td><td>4</td></tr>\n",
       "\t<tr><td>Toyota Corona      </td><td> 97</td><td>4</td></tr>\n",
       "\t<tr><td>Dodge Challenger   </td><td>150</td><td>8</td></tr>\n",
       "\t<tr><td>AMC Javelin        </td><td>150</td><td>8</td></tr>\n",
       "\t<tr><td>Camaro Z28         </td><td>245</td><td>8</td></tr>\n",
       "\t<tr><td>Pontiac Firebird   </td><td>175</td><td>8</td></tr>\n",
       "\t<tr><td>Fiat X1-9          </td><td> 66</td><td>4</td></tr>\n",
       "\t<tr><td>Porsche 914-2      </td><td> 91</td><td>4</td></tr>\n",
       "\t<tr><td>Lotus Europa       </td><td>113</td><td>4</td></tr>\n",
       "\t<tr><td>Ford Pantera L     </td><td>264</td><td>8</td></tr>\n",
       "\t<tr><td>Ferrari Dino       </td><td>175</td><td>6</td></tr>\n",
       "\t<tr><td>Maserati Bora      </td><td>335</td><td>8</td></tr>\n",
       "\t<tr><td>Volvo 142E         </td><td>109</td><td>4</td></tr>\n",
       "</tbody>\n",
       "</table>\n"
      ],
      "text/latex": [
       "A data.frame: 32 × 3\n",
       "\\begin{tabular}{lll}\n",
       " car\\_names & hp & cyl\\\\\n",
       " <chr> & <dbl> & <dbl>\\\\\n",
       "\\hline\n",
       "\t Mazda RX4           & 110 & 6\\\\\n",
       "\t Mazda RX4 Wag       & 110 & 6\\\\\n",
       "\t Datsun 710          &  93 & 4\\\\\n",
       "\t Hornet 4 Drive      & 110 & 6\\\\\n",
       "\t Hornet Sportabout   & 175 & 8\\\\\n",
       "\t Valiant             & 105 & 6\\\\\n",
       "\t Duster 360          & 245 & 8\\\\\n",
       "\t Merc 240D           &  62 & 4\\\\\n",
       "\t Merc 230            &  95 & 4\\\\\n",
       "\t Merc 280            & 123 & 6\\\\\n",
       "\t Merc 280C           & 123 & 6\\\\\n",
       "\t Merc 450SE          & 180 & 8\\\\\n",
       "\t Merc 450SL          & 180 & 8\\\\\n",
       "\t Merc 450SLC         & 180 & 8\\\\\n",
       "\t Cadillac Fleetwood  & 205 & 8\\\\\n",
       "\t Lincoln Continental & 215 & 8\\\\\n",
       "\t Chrysler Imperial   & 230 & 8\\\\\n",
       "\t Fiat 128            &  66 & 4\\\\\n",
       "\t Honda Civic         &  52 & 4\\\\\n",
       "\t Toyota Corolla      &  65 & 4\\\\\n",
       "\t Toyota Corona       &  97 & 4\\\\\n",
       "\t Dodge Challenger    & 150 & 8\\\\\n",
       "\t AMC Javelin         & 150 & 8\\\\\n",
       "\t Camaro Z28          & 245 & 8\\\\\n",
       "\t Pontiac Firebird    & 175 & 8\\\\\n",
       "\t Fiat X1-9           &  66 & 4\\\\\n",
       "\t Porsche 914-2       &  91 & 4\\\\\n",
       "\t Lotus Europa        & 113 & 4\\\\\n",
       "\t Ford Pantera L      & 264 & 8\\\\\n",
       "\t Ferrari Dino        & 175 & 6\\\\\n",
       "\t Maserati Bora       & 335 & 8\\\\\n",
       "\t Volvo 142E          & 109 & 4\\\\\n",
       "\\end{tabular}\n"
      ],
      "text/markdown": [
       "\n",
       "A data.frame: 32 × 3\n",
       "\n",
       "| car_names &lt;chr&gt; | hp &lt;dbl&gt; | cyl &lt;dbl&gt; |\n",
       "|---|---|---|\n",
       "| Mazda RX4           | 110 | 6 |\n",
       "| Mazda RX4 Wag       | 110 | 6 |\n",
       "| Datsun 710          |  93 | 4 |\n",
       "| Hornet 4 Drive      | 110 | 6 |\n",
       "| Hornet Sportabout   | 175 | 8 |\n",
       "| Valiant             | 105 | 6 |\n",
       "| Duster 360          | 245 | 8 |\n",
       "| Merc 240D           |  62 | 4 |\n",
       "| Merc 230            |  95 | 4 |\n",
       "| Merc 280            | 123 | 6 |\n",
       "| Merc 280C           | 123 | 6 |\n",
       "| Merc 450SE          | 180 | 8 |\n",
       "| Merc 450SL          | 180 | 8 |\n",
       "| Merc 450SLC         | 180 | 8 |\n",
       "| Cadillac Fleetwood  | 205 | 8 |\n",
       "| Lincoln Continental | 215 | 8 |\n",
       "| Chrysler Imperial   | 230 | 8 |\n",
       "| Fiat 128            |  66 | 4 |\n",
       "| Honda Civic         |  52 | 4 |\n",
       "| Toyota Corolla      |  65 | 4 |\n",
       "| Toyota Corona       |  97 | 4 |\n",
       "| Dodge Challenger    | 150 | 8 |\n",
       "| AMC Javelin         | 150 | 8 |\n",
       "| Camaro Z28          | 245 | 8 |\n",
       "| Pontiac Firebird    | 175 | 8 |\n",
       "| Fiat X1-9           |  66 | 4 |\n",
       "| Porsche 914-2       |  91 | 4 |\n",
       "| Lotus Europa        | 113 | 4 |\n",
       "| Ford Pantera L      | 264 | 8 |\n",
       "| Ferrari Dino        | 175 | 6 |\n",
       "| Maserati Bora       | 335 | 8 |\n",
       "| Volvo 142E          | 109 | 4 |\n",
       "\n"
      ],
      "text/plain": [
       "   car_names           hp  cyl\n",
       "1  Mazda RX4           110 6  \n",
       "2  Mazda RX4 Wag       110 6  \n",
       "3  Datsun 710           93 4  \n",
       "4  Hornet 4 Drive      110 6  \n",
       "5  Hornet Sportabout   175 8  \n",
       "6  Valiant             105 6  \n",
       "7  Duster 360          245 8  \n",
       "8  Merc 240D            62 4  \n",
       "9  Merc 230             95 4  \n",
       "10 Merc 280            123 6  \n",
       "11 Merc 280C           123 6  \n",
       "12 Merc 450SE          180 8  \n",
       "13 Merc 450SL          180 8  \n",
       "14 Merc 450SLC         180 8  \n",
       "15 Cadillac Fleetwood  205 8  \n",
       "16 Lincoln Continental 215 8  \n",
       "17 Chrysler Imperial   230 8  \n",
       "18 Fiat 128             66 4  \n",
       "19 Honda Civic          52 4  \n",
       "20 Toyota Corolla       65 4  \n",
       "21 Toyota Corona        97 4  \n",
       "22 Dodge Challenger    150 8  \n",
       "23 AMC Javelin         150 8  \n",
       "24 Camaro Z28          245 8  \n",
       "25 Pontiac Firebird    175 8  \n",
       "26 Fiat X1-9            66 4  \n",
       "27 Porsche 914-2        91 4  \n",
       "28 Lotus Europa        113 4  \n",
       "29 Ford Pantera L      264 8  \n",
       "30 Ferrari Dino        175 6  \n",
       "31 Maserati Bora       335 8  \n",
       "32 Volvo 142E          109 4  "
      ]
     },
     "metadata": {},
     "output_type": "display_data"
    }
   ],
   "source": [
    "# dbGetQuery(conn, \"SELECT * FROM Cars_and_Makes\")\n",
    "# dbGetQuery(conn, \"SELECT * FROM cars_data LIMIT 20\")\n",
    "dbGetQuery(conn, \"SELECT car_names, hp, cyl FROM cars_data\")"
   ]
  },
  {
   "cell_type": "markdown",
   "id": "44ed90f5-08e3-4530-b1ae-0bb549a56955",
   "metadata": {},
   "source": [
    "`-` Query : `dbExecute()` 작업만 수행하고 결과물을 반환하지 않음. 스키마 생성 시 유용, 스키마 생성 쿼리문은 하단 기술"
   ]
  },
  {
   "cell_type": "code",
   "execution_count": 3,
   "id": "d2ccfe02-806d-4c57-b760-3f6be7aea0c5",
   "metadata": {},
   "outputs": [],
   "source": [
    "conn = dbConnect(SQLite(), \".temp.db\")"
   ]
  },
  {
   "cell_type": "code",
   "execution_count": 100,
   "id": "4eab2e31-2709-4746-9473-2b6e318cab3d",
   "metadata": {},
   "outputs": [
    {
     "data": {
      "text/html": [
       "0"
      ],
      "text/latex": [
       "0"
      ],
      "text/markdown": [
       "0"
      ],
      "text/plain": [
       "[1] 0"
      ]
     },
     "metadata": {},
     "output_type": "display_data"
    }
   ],
   "source": [
    "## creating table with schema\n",
    "dbExecute(conn, \"CREATE TABLE mytable\n",
    "          (a INTEGER PRIMARY KEY, \n",
    "         b TEXT)\")"
   ]
  },
  {
   "cell_type": "code",
   "execution_count": 101,
   "id": "913e9002-01df-4a84-bf72-98b0ac53389d",
   "metadata": {},
   "outputs": [
    {
     "data": {
      "text/html": [
       "3"
      ],
      "text/latex": [
       "3"
      ],
      "text/markdown": [
       "3"
      ],
      "text/plain": [
       "[1] 3"
      ]
     },
     "metadata": {},
     "output_type": "display_data"
    }
   ],
   "source": [
    "dbExecute(conn, \"INSERT INTO mytable VALUES(1, 'test'), (2, 'test'), (6, 'test')\")"
   ]
  },
  {
   "cell_type": "code",
   "execution_count": 103,
   "id": "0a1914c1-ff5b-4a96-a4f4-66d0b7a5f5db",
   "metadata": {},
   "outputs": [
    {
     "data": {
      "text/html": [
       "<table class=\"dataframe\">\n",
       "<caption>A data.frame: 3 × 2</caption>\n",
       "<thead>\n",
       "\t<tr><th scope=col>a</th><th scope=col>b</th></tr>\n",
       "\t<tr><th scope=col>&lt;int&gt;</th><th scope=col>&lt;chr&gt;</th></tr>\n",
       "</thead>\n",
       "<tbody>\n",
       "\t<tr><td>1</td><td>test</td></tr>\n",
       "\t<tr><td>2</td><td>test</td></tr>\n",
       "\t<tr><td>6</td><td>test</td></tr>\n",
       "</tbody>\n",
       "</table>\n"
      ],
      "text/latex": [
       "A data.frame: 3 × 2\n",
       "\\begin{tabular}{ll}\n",
       " a & b\\\\\n",
       " <int> & <chr>\\\\\n",
       "\\hline\n",
       "\t 1 & test\\\\\n",
       "\t 2 & test\\\\\n",
       "\t 6 & test\\\\\n",
       "\\end{tabular}\n"
      ],
      "text/markdown": [
       "\n",
       "A data.frame: 3 × 2\n",
       "\n",
       "| a &lt;int&gt; | b &lt;chr&gt; |\n",
       "|---|---|\n",
       "| 1 | test |\n",
       "| 2 | test |\n",
       "| 6 | test |\n",
       "\n"
      ],
      "text/plain": [
       "  a b   \n",
       "1 1 test\n",
       "2 2 test\n",
       "3 6 test"
      ]
     },
     "metadata": {},
     "output_type": "display_data"
    }
   ],
   "source": [
    "dbGetQuery(conn, \"SELECT * FROM mytable\")"
   ]
  },
  {
   "cell_type": "markdown",
   "id": "8f164813-6f6c-47c0-a41f-29ec539713b4",
   "metadata": {},
   "source": [
    "`-` Query : `dbSendQuery()` 위 함수와 비슷하나, 작업을 수행하고 어떤 데이터가 들어갔는지 결과를 반환"
   ]
  },
  {
   "cell_type": "code",
   "execution_count": 105,
   "id": "79096ec9-0e17-4df1-8403-16dc75599c6f",
   "metadata": {},
   "outputs": [
    {
     "data": {
      "text/plain": [
       "<SQLiteResult>\n",
       "  SQL  INSERT INTO mytable VALUES(4, 'test')\n",
       "  ROWS Fetched: 0 [complete]\n",
       "       Changed: 1"
      ]
     },
     "metadata": {},
     "output_type": "display_data"
    }
   ],
   "source": [
    "dbSendQuery(conn, \"INSERT INTO mytable VALUES(4, 'test')\")"
   ]
  },
  {
   "cell_type": "code",
   "execution_count": 106,
   "id": "cd89b9fe-808b-43c7-8432-0b6081195898",
   "metadata": {},
   "outputs": [
    {
     "name": "stderr",
     "output_type": "stream",
     "text": [
      "Warning message:\n",
      "“Closing open result set, pending rows”\n"
     ]
    },
    {
     "data": {
      "text/html": [
       "<table class=\"dataframe\">\n",
       "<caption>A data.frame: 4 × 2</caption>\n",
       "<thead>\n",
       "\t<tr><th scope=col>a</th><th scope=col>b</th></tr>\n",
       "\t<tr><th scope=col>&lt;int&gt;</th><th scope=col>&lt;chr&gt;</th></tr>\n",
       "</thead>\n",
       "<tbody>\n",
       "\t<tr><td>1</td><td>test</td></tr>\n",
       "\t<tr><td>2</td><td>test</td></tr>\n",
       "\t<tr><td>4</td><td>test</td></tr>\n",
       "\t<tr><td>6</td><td>test</td></tr>\n",
       "</tbody>\n",
       "</table>\n"
      ],
      "text/latex": [
       "A data.frame: 4 × 2\n",
       "\\begin{tabular}{ll}\n",
       " a & b\\\\\n",
       " <int> & <chr>\\\\\n",
       "\\hline\n",
       "\t 1 & test\\\\\n",
       "\t 2 & test\\\\\n",
       "\t 4 & test\\\\\n",
       "\t 6 & test\\\\\n",
       "\\end{tabular}\n"
      ],
      "text/markdown": [
       "\n",
       "A data.frame: 4 × 2\n",
       "\n",
       "| a &lt;int&gt; | b &lt;chr&gt; |\n",
       "|---|---|\n",
       "| 1 | test |\n",
       "| 2 | test |\n",
       "| 4 | test |\n",
       "| 6 | test |\n",
       "\n"
      ],
      "text/plain": [
       "  a b   \n",
       "1 1 test\n",
       "2 2 test\n",
       "3 4 test\n",
       "4 6 test"
      ]
     },
     "metadata": {},
     "output_type": "display_data"
    }
   ],
   "source": [
    "dbGetQuery(conn, \"SELECT * FROM mytable\")"
   ]
  },
  {
   "cell_type": "markdown",
   "id": "f4dd3424-e0f4-4c73-b63c-b82273f62a16",
   "metadata": {},
   "source": [
    "`-` Removing table : `dbRemoveTable()` 기존 테이블을 제거"
   ]
  },
  {
   "cell_type": "code",
   "execution_count": null,
   "id": "79dbaad2-0df6-488d-a491-c81fcae3fd86",
   "metadata": {},
   "outputs": [],
   "source": [
    "dbRemoveTable(conn, 'test_table')"
   ]
  },
  {
   "cell_type": "markdown",
   "id": "95f17f18-d4c1-4fdf-89fd-873e9316738e",
   "metadata": {},
   "source": [
    "## 4. SQLite Query"
   ]
  },
  {
   "cell_type": "markdown",
   "id": "11c2234b-a69f-4a9e-aea8-3f83262f2307",
   "metadata": {},
   "source": [
    "`-` `SELECT`\n",
    "\n",
    "* 사용예시 : `\"SELECT col_name1 AS col1, AVG(col2) AS average_col_2 FROM table GROUP BY col1 ORDER BY average_col_2\"`\n",
    "\n",
    "> 범용적인 문법, 테이블을 바꾸지 않음. `dbGetQuery()`에서 주로 사용.\n",
    ">\n",
    "> `AS`로 열 이름을 변경해서 호출, `AVG()`로 평균을 호출, `GROUP BY`에 해당하는 열 그룹을 기준으로 그룹화하여 통계량 산출, `ORDER BY`에 해당하는 열 그룹을 기준으로 sorting."
   ]
  },
  {
   "cell_type": "markdown",
   "id": "d8197e06-d205-46be-837c-20e858588adf",
   "metadata": {},
   "source": [
    "`-` `INSERT`\n",
    "\n",
    "`\"INSERT INTO table (col1, col2, ...) VALUES (val11, val12, ...), (val21, val22, ...), ...\"`\n",
    "\n",
    "> 테이블에 튜플 삽입, `dbExecute()`, `dbSendQuery()`에서 사용."
   ]
  },
  {
   "cell_type": "markdown",
   "id": "71c15746-9a2f-4a2a-9885-c18833d89356",
   "metadata": {},
   "source": [
    "`-` `DELETE`\n",
    "\n",
    "`\"DELETE FROM table WHERE col_name = value\"`\n",
    "\n",
    "> 테이블의 튜플 제거, `dbExecute()`, `dbSendQuery()`에서 사용."
   ]
  },
  {
   "cell_type": "markdown",
   "id": "ad829c69-529e-4e29-a0d3-aa68c19ad685",
   "metadata": {},
   "source": [
    "`-` `UPDATE`\n",
    "\n",
    "`\"UPDATE table SET col_name = value WHERE col_name = value\"`\n",
    "\n",
    "> 테이블의 튜플 수정, `dbExecute()`, `dbSendQuery()`에서 사용."
   ]
  },
  {
   "cell_type": "markdown",
   "id": "4f27402f-6d8e-4ddb-bd40-9b16daa91c29",
   "metadata": {},
   "source": [
    "`-` `PRAGMA`\n",
    "\n",
    "`\"PRAGMA foreign_keys = ON\"`\n",
    "\n",
    "> `PRAGMA`를 통해 데이터베이스 동작 방식을 선언할 수 있다. 위 경우 파라메터를 변경하였다. `dbExecute()`, `dbSendQuery()`에서 사용."
   ]
  },
  {
   "cell_type": "markdown",
   "id": "27fc0540-00cf-48da-b8c0-bbba218668c1",
   "metadata": {},
   "source": [
    "`-` **스키마 지정**"
   ]
  },
  {
   "cell_type": "code",
   "execution_count": null,
   "id": "6084455c-a006-4ffa-b5c1-6d2e42229e68",
   "metadata": {},
   "outputs": [],
   "source": [
    "\"CREATE TABLE table_name \n",
    "(x1 INTEGER PRIMARY KEY,\n",
    " x2 TEXT NOT NULL,\n",
    " x3 DEFAULT CURRENT_TIMESTAMP,\n",
    " x4 INTEGER CHECK (x4 >= 100),\n",
    " id INTEGER UNIQUE,\n",
    " FOREIGN KEY (y1) REFERENCES ref_table (y1)\n",
    " ON UPDATE SET CASCADE\n",
    " ON DELETE SET NULL)\""
   ]
  },
  {
   "cell_type": "markdown",
   "id": "48dff929-14ea-4a9e-aeca-18315b1bfe4c",
   "metadata": {},
   "source": [
    "> 테이블을 생성하고, 스키마를 지정.\n",
    "\n",
    "`INTEGER`, `TEXT`, `REAL`, `DATE`, $\\cdots$ : 자료형\n",
    "\n",
    "`NOT NULL` : `NULL`값을 허용하지 않음\n",
    "\n",
    "`UNIQUE` : 중복되는 값을 입력할 수 없음\n",
    "\n",
    "`CHECK (logical)` : 값이 가질 수 있는 제약조건을 명시할 수 있음\n",
    "\n",
    "`PRIMARY KEY` : 기본키, `UNIQUE`와 `NOT NULL`제약조건을 기본적으로 포함. 사용 전 반드시 DB 파일의 외래키 사용 활성화 필요. (`dbExecute(conn, \"PRAGMA foreign_keys = ON\")`)\n",
    "\n",
    "`FOREIGN KEY (att1) REFERENCES table (att2)` : 외래키, 어느 릴레이션의 어느 속성을 참조할 것인지 `REFFERENCES`에서 명시하고`(att2)`, 어느 이름으로 가져올 것인지 명시`(att1)`\n",
    "\n",
    "외래키의 경우 기존 테이블의 정보가 변경되거나 삭제되었을 때 어떻게 변할 것인지 명시해야 함.\n",
    "\n",
    "> `ON UPDATE SET NULL` : 기본키 변화 시 외래키는 `NULL`\n",
    ">\n",
    "> `ON DELETE SET NULL` : 기본키 제거 시 외래키는 `NULL`\n",
    "> \n",
    "> `ON UPDATE SET CASCADE` : 기본키 변화 시 외래키도 같이 변화\n",
    ">\n",
    "> `ON DELETE SET CASCADE` : 기본키 제거 시 외래키도 제거\n",
    "\n",
    "기본키를 여러 개 지정하려면 속성을 스키마로 미리 넣어두고 `PRIMARY KEY (x1, x2)`로 하면 된다. 외래키를 기본키로 지정하려면 `FOREIGN KEY (y1) REFERENCES ref_table1 (y1), FOREIGN KEY (y2) REFERENCES ref_table2 (y2)`를 하고, `PRIMARY KEY (y1, y2)`를 하면 된다."
   ]
  },
  {
   "cell_type": "markdown",
   "id": "24c54441-f5b9-41d6-a3ff-0404eff01be4",
   "metadata": {},
   "source": [
    "`-` `Join` 문법 (`demand_groups`, `supplier_groups`, `custom_groups` 릴레이션이 존재하는 상태)"
   ]
  },
  {
   "cell_type": "code",
   "execution_count": null,
   "id": "258ca04c-50dd-4e0d-8201-55044a4b6d17",
   "metadata": {},
   "outputs": [],
   "source": [
    "## Generating\n",
    "dbExecute(conn, \"CREATE TABLE demand_groups (\n",
    "          group_id INTEGER PRIMARY KEY CHECK(GROUP_ID <= 100),\n",
    ")\")"
   ]
  },
  {
   "cell_type": "code",
   "execution_count": null,
   "id": "42290aae-635b-4c27-97d4-b5504b11a2c9",
   "metadata": {},
   "outputs": [],
   "source": [
    "## Join\n",
    "dbGetQuery(conn, \"SELECT dgroup_name, idy,\n",
    "           demand_groups.group_id AS d_id,\n",
    "           supplier_groups.group_id AS s_id,\n",
    "           FROM demand_groups\n",
    "           INNER JOIN supplier_groups ON\n",
    "           supplier_groups.group_id = demand_groups.group_id\")"
   ]
  },
  {
   "cell_type": "markdown",
   "id": "6a9976b0-dac0-47fb-b3e3-1c2cfd73ea2b",
   "metadata": {},
   "source": [
    "> `demand_groups`와 `supplier_groups`를 조인하는데, 기준이 되는 열은 `group_id`이다. 어느 릴레이션에서 속성을 가져올지는 `table_name.column_name`으로 입력한다. 판다스 데이터프레임을 다루는 방식과 유사하다. 어떤 테이블에서 가져올지를 명시하지 않으면 첫번째 걸로 된다.\n",
    "\n",
    "조인은 FULL OUTER, RIGHT OUTER, LETF OUTER 다 됨."
   ]
  },
  {
   "cell_type": "code",
   "execution_count": null,
   "id": "9982f397-5677-4ae7-9087-d9789a746e89",
   "metadata": {},
   "outputs": [],
   "source": [
    "dbGetQuery(conn, \"SELECT dgroup_name, idy,\n",
    "           demand_groups.group_id AS d_id,\n",
    "           supplier_groups.group_id AS s_id,\n",
    "           FROM demand_groups\n",
    "           FULL OUTER JOIN supplier_groups ON\n",
    "           supplier_groups.group_id = demand_groups.group_id\")"
   ]
  },
  {
   "cell_type": "markdown",
   "id": "f53c6074-1b4d-40dc-b601-b27f4b7e7859",
   "metadata": {},
   "source": [
    "JOIN을 할 때, 알아서 열들을 다 가져온다고 생각하겠으나, 실제로는 SELECT를 통해 열들을 일일히 다 가져와줘야 한다."
   ]
  },
  {
   "cell_type": "code",
   "execution_count": null,
   "id": "f57f51cc-3aae-4ead-ba9c-98bca7d751f1",
   "metadata": {},
   "outputs": [],
   "source": [
    "dbGetQuery(conn, \"SELECT dgroup_name, idy,\n",
    "           demand_groups.group_id AS d_id,\n",
    "           supplier_groups.group_id AS s_id,\n",
    "           custom_groups.group_id AS c_id,\n",
    "           supplier_groups.idx AS s_idx,\n",
    "           custom_groups.idz AS c_qty\n",
    "           FROM demand_groups\n",
    "           LEFT OUTER JOIN suppliers ON\n",
    "           supplier_groups.group_id = demand_groups.group_id\n",
    "           LEFT OUTER JOIN custom_groups ON\n",
    "           custom_groups.group_id = demand_groups.group_id\")"
   ]
  },
  {
   "cell_type": "markdown",
   "id": "2ccad5d9-b913-42a7-be8c-580949412c1e",
   "metadata": {},
   "source": [
    "3개 이상의 테이블을 조인하는 것도 가능함. 가능하면 INNER, LEFT OUTER, FULL OUTER로만 사용하는 것을 추천."
   ]
  },
  {
   "cell_type": "code",
   "execution_count": null,
   "id": "04379343-dff1-4a5a-8200-ac5c94900adc",
   "metadata": {},
   "outputs": [],
   "source": [
    "dbGetQuery(conn, \"SELECT dgroup_name, idy,\n",
    "           demand_groups.group_id AS d_id,\n",
    "           supplier_groups.group_id AS s_id,\n",
    "           /* custom_groups.group_id AS c_id, */\n",
    "           supplier_groups.idx AS s_idx,\n",
    "           /* custom_groups.idz AS c_qty */\n",
    "           FROM demand_groups\n",
    "           LEFT OUTER JOIN suppliers ON\n",
    "           supplier_groups.group_id = demand_groups.group_id AND\n",
    "           demand_groups.idy > supplier_groups.idx\")"
   ]
  },
  {
   "cell_type": "markdown",
   "id": "e98151f0-fcae-487c-92ce-72d9fafb76f6",
   "metadata": {},
   "source": [
    "THETA JOIN은 그냥 부등호를 사용하면 된다."
   ]
  },
  {
   "cell_type": "code",
   "execution_count": null,
   "id": "5e2422e5-348e-490f-a889-4ced0e99cf0d",
   "metadata": {},
   "outputs": [],
   "source": [
    "dbGetQuery(conn, \"SELECT *\n",
    "           FROM demand_groups\n",
    "           CROSS JOIN supplier_groups\")"
   ]
  },
  {
   "cell_type": "markdown",
   "id": "c610e941-b3a2-4830-8e11-92fab75409b1",
   "metadata": {},
   "source": [
    "카티션 프로덕트의 경우 그냥 CROSS 조인의 구문 유형으로 처리하고 있음."
   ]
  },
  {
   "cell_type": "code",
   "execution_count": null,
   "id": "b62dd9e5-5991-4c16-bd0a-4681fcbd5179",
   "metadata": {},
   "outputs": [],
   "source": [
    "dbGetQuery(conn, \"SELECT * FROM sqlite_schema\n",
    "           WHERE name = 'gg_data'\")"
   ]
  },
  {
   "cell_type": "markdown",
   "id": "a8e4c731-2a18-49be-8297-f1c03eb7000d",
   "metadata": {},
   "source": [
    "테이블의 스키마를 호출"
   ]
  },
  {
   "cell_type": "code",
   "execution_count": 8,
   "id": "a7bf6a31-720a-4c5d-b191-c4467028d726",
   "metadata": {},
   "outputs": [
    {
     "data": {
      "text/plain": [
       "<SQLiteResult>\n",
       "  SQL  CREATE TABLE IF NOT EXISTS tmp (id INTEGER, name TEXT, address TRXT)\n",
       "  ROWS Fetched: 0 [complete]\n",
       "       Changed: 0"
      ]
     },
     "metadata": {},
     "output_type": "display_data"
    },
    {
     "name": "stderr",
     "output_type": "stream",
     "text": [
      "Warning message:\n",
      "“Closing open result set, pending rows”\n"
     ]
    },
    {
     "data": {
      "text/plain": [
       "<SQLiteResult>\n",
       "  SQL  ALTER TABLE tmp RENAME TO tmp1\n",
       "  ROWS Fetched: 0 [complete]\n",
       "       Changed: 0"
      ]
     },
     "metadata": {},
     "output_type": "display_data"
    },
    {
     "name": "stderr",
     "output_type": "stream",
     "text": [
      "Warning message:\n",
      "“Closing open result set, pending rows”\n"
     ]
    },
    {
     "data": {
      "text/html": [
       "<table class=\"dataframe\">\n",
       "<caption>A data.frame: 0 × 3</caption>\n",
       "<thead>\n",
       "\t<tr><th scope=col>id</th><th scope=col>name</th><th scope=col>address</th></tr>\n",
       "\t<tr><th scope=col>&lt;int&gt;</th><th scope=col>&lt;chr&gt;</th><th scope=col>&lt;dbl&gt;</th></tr>\n",
       "</thead>\n",
       "<tbody>\n",
       "</tbody>\n",
       "</table>\n"
      ],
      "text/latex": [
       "A data.frame: 0 × 3\n",
       "\\begin{tabular}{lll}\n",
       " id & name & address\\\\\n",
       " <int> & <chr> & <dbl>\\\\\n",
       "\\hline\n",
       "\\end{tabular}\n"
      ],
      "text/markdown": [
       "\n",
       "A data.frame: 0 × 3\n",
       "\n",
       "| id &lt;int&gt; | name &lt;chr&gt; | address &lt;dbl&gt; |\n",
       "|---|---|---|\n",
       "\n"
      ],
      "text/plain": [
       "     id name address"
      ]
     },
     "metadata": {},
     "output_type": "display_data"
    }
   ],
   "source": [
    "conn = dbConnect(SQLite(), \"tmp.db\")\n",
    "dbSendQuery(conn, \"CREATE TABLE IF NOT EXISTS tmp (id INTEGER, name TEXT, address TRXT)\")\n",
    "dbSendQuery(conn, \"ALTER TABLE tmp RENAME TO tmp1\")  ## mv와 비슷하다고 보면 됨. 이름을 바꿈.\n",
    "dbGetQuery(conn, \"SELECT * FROM tmp1\")"
   ]
  },
  {
   "cell_type": "code",
   "execution_count": 15,
   "id": "bc13261b-80ee-4a18-bcbc-bcd19c0a1565",
   "metadata": {},
   "outputs": [
    {
     "data": {
      "text/plain": [
       "<SQLiteResult>\n",
       "  SQL  CREATE TABLE IF NOT EXISTS tmp2 (id INTEGER, name TEXT)\n",
       "  ROWS Fetched: 0 [complete]\n",
       "       Changed: 0"
      ]
     },
     "metadata": {},
     "output_type": "display_data"
    },
    {
     "name": "stderr",
     "output_type": "stream",
     "text": [
      "Warning message:\n",
      "“Closing open result set, pending rows”\n"
     ]
    },
    {
     "data": {
      "text/plain": [
       "<SQLiteResult>\n",
       "  SQL  ALTER TABLE tmp2 ADD COLUMN misc TEXT DEFAULT(NULL)\n",
       "  ROWS Fetched: 0 [complete]\n",
       "       Changed: 0"
      ]
     },
     "metadata": {},
     "output_type": "display_data"
    },
    {
     "name": "stderr",
     "output_type": "stream",
     "text": [
      "Warning message:\n",
      "“Closing open result set, pending rows”\n"
     ]
    },
    {
     "data": {
      "text/html": [
       "<table class=\"dataframe\">\n",
       "<caption>A data.frame: 0 × 3</caption>\n",
       "<thead>\n",
       "\t<tr><th scope=col>id</th><th scope=col>name</th><th scope=col>misc</th></tr>\n",
       "\t<tr><th scope=col>&lt;int&gt;</th><th scope=col>&lt;chr&gt;</th><th scope=col>&lt;chr&gt;</th></tr>\n",
       "</thead>\n",
       "<tbody>\n",
       "</tbody>\n",
       "</table>\n"
      ],
      "text/latex": [
       "A data.frame: 0 × 3\n",
       "\\begin{tabular}{lll}\n",
       " id & name & misc\\\\\n",
       " <int> & <chr> & <chr>\\\\\n",
       "\\hline\n",
       "\\end{tabular}\n"
      ],
      "text/markdown": [
       "\n",
       "A data.frame: 0 × 3\n",
       "\n",
       "| id &lt;int&gt; | name &lt;chr&gt; | misc &lt;chr&gt; |\n",
       "|---|---|---|\n",
       "\n"
      ],
      "text/plain": [
       "     id name misc"
      ]
     },
     "metadata": {},
     "output_type": "display_data"
    }
   ],
   "source": [
    "dbSendQuery(conn, \"CREATE TABLE IF NOT EXISTS tmp2 (id INTEGER, name TEXT)\")\n",
    "dbSendQuery(conn, \"ALTER TABLE tmp2 ADD COLUMN misc TEXT DEFAULT(NULL)\")\n",
    "dbGetQuery(conn, \"SELECT * FROM tmp2\")"
   ]
  },
  {
   "cell_type": "code",
   "execution_count": 16,
   "id": "91d09b4f-538c-4fdb-8b8a-800dcf65a847",
   "metadata": {},
   "outputs": [
    {
     "data": {
      "text/html": [
       "<table class=\"dataframe\">\n",
       "<caption>A data.frame: 3 × 5</caption>\n",
       "<thead>\n",
       "\t<tr><th scope=col>type</th><th scope=col>name</th><th scope=col>tbl_name</th><th scope=col>rootpage</th><th scope=col>sql</th></tr>\n",
       "\t<tr><th scope=col>&lt;chr&gt;</th><th scope=col>&lt;chr&gt;</th><th scope=col>&lt;chr&gt;</th><th scope=col>&lt;int&gt;</th><th scope=col>&lt;chr&gt;</th></tr>\n",
       "</thead>\n",
       "<tbody>\n",
       "\t<tr><td>table</td><td>cars_data     </td><td>cars_data     </td><td>2</td><td>CREATE TABLE `cars_data` (\n",
       "  `mpg` REAL,\n",
       "  `cyl` REAL,\n",
       "  `disp` REAL,\n",
       "  `hp` REAL,\n",
       "  `drat` REAL,\n",
       "  `wt` REAL,\n",
       "  `qsec` REAL,\n",
       "  `vs` REAL,\n",
       "  `am` REAL,\n",
       "  `gear` REAL,\n",
       "  `carb` REAL,\n",
       "  `car_names` TEXT\n",
       ")</td></tr>\n",
       "\t<tr><td>table</td><td>Cars_and_Makes</td><td>Cars_and_Makes</td><td>3</td><td>CREATE TABLE `Cars_and_Makes` (\n",
       "  `car` TEXT,\n",
       "  `make` TEXT\n",
       ")                                                                                                                                                       </td></tr>\n",
       "\t<tr><td>table</td><td>tmp2          </td><td>tmp2          </td><td>4</td><td>CREATE TABLE tmp2 (id INTEGER, name TEXT, misc TEXT DEFAULT(NULL))                                                                                                                                                     </td></tr>\n",
       "</tbody>\n",
       "</table>\n"
      ],
      "text/latex": [
       "A data.frame: 3 × 5\n",
       "\\begin{tabular}{lllll}\n",
       " type & name & tbl\\_name & rootpage & sql\\\\\n",
       " <chr> & <chr> & <chr> & <int> & <chr>\\\\\n",
       "\\hline\n",
       "\t table & cars\\_data      & cars\\_data      & 2 & CREATE TABLE `cars\\_data` (\n",
       "  `mpg` REAL,\n",
       "  `cyl` REAL,\n",
       "  `disp` REAL,\n",
       "  `hp` REAL,\n",
       "  `drat` REAL,\n",
       "  `wt` REAL,\n",
       "  `qsec` REAL,\n",
       "  `vs` REAL,\n",
       "  `am` REAL,\n",
       "  `gear` REAL,\n",
       "  `carb` REAL,\n",
       "  `car\\_names` TEXT\n",
       ")\\\\\n",
       "\t table & Cars\\_and\\_Makes & Cars\\_and\\_Makes & 3 & CREATE TABLE `Cars\\_and\\_Makes` (\n",
       "  `car` TEXT,\n",
       "  `make` TEXT\n",
       ")                                                                                                                                                       \\\\\n",
       "\t table & tmp2           & tmp2           & 4 & CREATE TABLE tmp2 (id INTEGER, name TEXT, misc TEXT DEFAULT(NULL))                                                                                                                                                     \\\\\n",
       "\\end{tabular}\n"
      ],
      "text/markdown": [
       "\n",
       "A data.frame: 3 × 5\n",
       "\n",
       "| type &lt;chr&gt; | name &lt;chr&gt; | tbl_name &lt;chr&gt; | rootpage &lt;int&gt; | sql &lt;chr&gt; |\n",
       "|---|---|---|---|---|\n",
       "| table | cars_data      | cars_data      | 2 | CREATE TABLE `cars_data` (\n",
       "  `mpg` REAL,\n",
       "  `cyl` REAL,\n",
       "  `disp` REAL,\n",
       "  `hp` REAL,\n",
       "  `drat` REAL,\n",
       "  `wt` REAL,\n",
       "  `qsec` REAL,\n",
       "  `vs` REAL,\n",
       "  `am` REAL,\n",
       "  `gear` REAL,\n",
       "  `carb` REAL,\n",
       "  `car_names` TEXT\n",
       ") |\n",
       "| table | Cars_and_Makes | Cars_and_Makes | 3 | CREATE TABLE `Cars_and_Makes` (\n",
       "  `car` TEXT,\n",
       "  `make` TEXT\n",
       ")                                                                                                                                                        |\n",
       "| table | tmp2           | tmp2           | 4 | CREATE TABLE tmp2 (id INTEGER, name TEXT, misc TEXT DEFAULT(NULL))                                                                                                                                                      |\n",
       "\n"
      ],
      "text/plain": [
       "  type  name           tbl_name       rootpage\n",
       "1 table cars_data      cars_data      2       \n",
       "2 table Cars_and_Makes Cars_and_Makes 3       \n",
       "3 table tmp2           tmp2           4       \n",
       "  sql                                                                                                                                                                                                                    \n",
       "1 CREATE TABLE `cars_data` (\\n  `mpg` REAL,\\n  `cyl` REAL,\\n  `disp` REAL,\\n  `hp` REAL,\\n  `drat` REAL,\\n  `wt` REAL,\\n  `qsec` REAL,\\n  `vs` REAL,\\n  `am` REAL,\\n  `gear` REAL,\\n  `carb` REAL,\\n  `car_names` TEXT\\n)\n",
       "2 CREATE TABLE `Cars_and_Makes` (\\n  `car` TEXT,\\n  `make` TEXT\\n)                                                                                                                                                       \n",
       "3 CREATE TABLE tmp2 (id INTEGER, name TEXT, misc TEXT DEFAULT(NULL))                                                                                                                                                     "
      ]
     },
     "metadata": {},
     "output_type": "display_data"
    }
   ],
   "source": [
    "dbGetQuery(conn, \"SELECT * FROM sqlite_schema\")"
   ]
  },
  {
   "cell_type": "markdown",
   "id": "8f350a3c-af14-4795-8196-4b9b8d4b2b14",
   "metadata": {},
   "source": [
    "ALTER를 통한 작업"
   ]
  },
  {
   "cell_type": "markdown",
   "id": "e773b827-b84f-4865-8d7f-664e99746ac8",
   "metadata": {},
   "source": [
    "`-` 테이블 변경으로 인한 스키마 변경(잡기술)"
   ]
  },
  {
   "cell_type": "code",
   "execution_count": null,
   "id": "43bd6e35-c0e5-4c55-b843-8597c71acee6",
   "metadata": {},
   "outputs": [],
   "source": [
    "dbSendQuery(conn, \"CREATE TABLE IF NOT EXISTS tmpp (id INTEGER, name TEXT)\")\n",
    "dbExecute(conn, \"INSERT INTO tmpp (id, name) SELECT id, name FROM tmp1\")  ## 새로운 테이블에 속성 붙임.\n",
    "dbGetQuery(conn, \"SELECT * FROM tmpp\")\n",
    "dbExecute(conn, \"DROP TABLE tmp1\")\n",
    "dbExecute(conn, \"ALTER TABLE tmpp RENAME TO tmp1\")"
   ]
  },
  {
   "cell_type": "markdown",
   "id": "40eca8e4-c1fa-4da7-adfd-659ce41a63e4",
   "metadata": {},
   "source": [
    "> 처음부터 스키마를 잘 구성하는 편이 좋다. 스키마 깨지면 그냥 처음부터 다시 구성하는 게 좋다."
   ]
  },
  {
   "cell_type": "markdown",
   "id": "0f863660-fea0-4e9e-87eb-8eab1738726e",
   "metadata": {},
   "source": [
    "`-` 통계량 `COUNT`"
   ]
  },
  {
   "cell_type": "code",
   "execution_count": 6,
   "id": "170e4571-f89d-4a1b-bc0d-b25f8883939e",
   "metadata": {},
   "outputs": [],
   "source": [
    "conn = dbConnect(SQLite(), \"./R/CarsDB.db\")"
   ]
  },
  {
   "cell_type": "code",
   "execution_count": 7,
   "id": "1701125c-a3b9-490d-bc9a-d8613c91a04d",
   "metadata": {},
   "outputs": [
    {
     "data": {
      "text/html": [
       "<style>\n",
       ".list-inline {list-style: none; margin:0; padding: 0}\n",
       ".list-inline>li {display: inline-block}\n",
       ".list-inline>li:not(:last-child)::after {content: \"\\00b7\"; padding: 0 .5ex}\n",
       "</style>\n",
       "<ol class=list-inline><li>'Cars_and_Makes'</li><li>'cars_data'</li></ol>\n"
      ],
      "text/latex": [
       "\\begin{enumerate*}\n",
       "\\item 'Cars\\_and\\_Makes'\n",
       "\\item 'cars\\_data'\n",
       "\\end{enumerate*}\n"
      ],
      "text/markdown": [
       "1. 'Cars_and_Makes'\n",
       "2. 'cars_data'\n",
       "\n",
       "\n"
      ],
      "text/plain": [
       "[1] \"Cars_and_Makes\" \"cars_data\"     "
      ]
     },
     "metadata": {},
     "output_type": "display_data"
    }
   ],
   "source": [
    "dbListTables(conn)"
   ]
  },
  {
   "cell_type": "code",
   "execution_count": 5,
   "id": "02df44cb-daa9-4142-b1c5-32c73d3bb9d0",
   "metadata": {},
   "outputs": [
    {
     "name": "stderr",
     "output_type": "stream",
     "text": [
      "Warning message in data(\"mtcats\"):\n",
      "“data set ‘mtcats’ not found”\n"
     ]
    },
    {
     "data": {
      "text/html": [
       "<table class=\"dataframe\">\n",
       "<caption>A data.frame: 6 × 12</caption>\n",
       "<thead>\n",
       "\t<tr><th></th><th scope=col>mpg</th><th scope=col>cyl</th><th scope=col>disp</th><th scope=col>hp</th><th scope=col>drat</th><th scope=col>wt</th><th scope=col>qsec</th><th scope=col>vs</th><th scope=col>am</th><th scope=col>gear</th><th scope=col>carb</th><th scope=col>car_names</th></tr>\n",
       "\t<tr><th></th><th scope=col>&lt;dbl&gt;</th><th scope=col>&lt;dbl&gt;</th><th scope=col>&lt;dbl&gt;</th><th scope=col>&lt;dbl&gt;</th><th scope=col>&lt;dbl&gt;</th><th scope=col>&lt;dbl&gt;</th><th scope=col>&lt;dbl&gt;</th><th scope=col>&lt;dbl&gt;</th><th scope=col>&lt;dbl&gt;</th><th scope=col>&lt;dbl&gt;</th><th scope=col>&lt;dbl&gt;</th><th scope=col>&lt;chr&gt;</th></tr>\n",
       "</thead>\n",
       "<tbody>\n",
       "\t<tr><th scope=row>1</th><td>21.0</td><td>6</td><td>160</td><td>110</td><td>3.90</td><td>2.620</td><td>16.46</td><td>0</td><td>1</td><td>4</td><td>4</td><td>Mazda RX4        </td></tr>\n",
       "\t<tr><th scope=row>2</th><td>21.0</td><td>6</td><td>160</td><td>110</td><td>3.90</td><td>2.875</td><td>17.02</td><td>0</td><td>1</td><td>4</td><td>4</td><td>Mazda RX4 Wag    </td></tr>\n",
       "\t<tr><th scope=row>3</th><td>22.8</td><td>4</td><td>108</td><td> 93</td><td>3.85</td><td>2.320</td><td>18.61</td><td>1</td><td>1</td><td>4</td><td>1</td><td>Datsun 710       </td></tr>\n",
       "\t<tr><th scope=row>4</th><td>21.4</td><td>6</td><td>258</td><td>110</td><td>3.08</td><td>3.215</td><td>19.44</td><td>1</td><td>0</td><td>3</td><td>1</td><td>Hornet 4 Drive   </td></tr>\n",
       "\t<tr><th scope=row>5</th><td>18.7</td><td>8</td><td>360</td><td>175</td><td>3.15</td><td>3.440</td><td>17.02</td><td>0</td><td>0</td><td>3</td><td>2</td><td>Hornet Sportabout</td></tr>\n",
       "\t<tr><th scope=row>6</th><td>18.1</td><td>6</td><td>225</td><td>105</td><td>2.76</td><td>3.460</td><td>20.22</td><td>1</td><td>0</td><td>3</td><td>1</td><td>Valiant          </td></tr>\n",
       "</tbody>\n",
       "</table>\n"
      ],
      "text/latex": [
       "A data.frame: 6 × 12\n",
       "\\begin{tabular}{r|llllllllllll}\n",
       "  & mpg & cyl & disp & hp & drat & wt & qsec & vs & am & gear & carb & car\\_names\\\\\n",
       "  & <dbl> & <dbl> & <dbl> & <dbl> & <dbl> & <dbl> & <dbl> & <dbl> & <dbl> & <dbl> & <dbl> & <chr>\\\\\n",
       "\\hline\n",
       "\t1 & 21.0 & 6 & 160 & 110 & 3.90 & 2.620 & 16.46 & 0 & 1 & 4 & 4 & Mazda RX4        \\\\\n",
       "\t2 & 21.0 & 6 & 160 & 110 & 3.90 & 2.875 & 17.02 & 0 & 1 & 4 & 4 & Mazda RX4 Wag    \\\\\n",
       "\t3 & 22.8 & 4 & 108 &  93 & 3.85 & 2.320 & 18.61 & 1 & 1 & 4 & 1 & Datsun 710       \\\\\n",
       "\t4 & 21.4 & 6 & 258 & 110 & 3.08 & 3.215 & 19.44 & 1 & 0 & 3 & 1 & Hornet 4 Drive   \\\\\n",
       "\t5 & 18.7 & 8 & 360 & 175 & 3.15 & 3.440 & 17.02 & 0 & 0 & 3 & 2 & Hornet Sportabout\\\\\n",
       "\t6 & 18.1 & 6 & 225 & 105 & 2.76 & 3.460 & 20.22 & 1 & 0 & 3 & 1 & Valiant          \\\\\n",
       "\\end{tabular}\n"
      ],
      "text/markdown": [
       "\n",
       "A data.frame: 6 × 12\n",
       "\n",
       "| <!--/--> | mpg &lt;dbl&gt; | cyl &lt;dbl&gt; | disp &lt;dbl&gt; | hp &lt;dbl&gt; | drat &lt;dbl&gt; | wt &lt;dbl&gt; | qsec &lt;dbl&gt; | vs &lt;dbl&gt; | am &lt;dbl&gt; | gear &lt;dbl&gt; | carb &lt;dbl&gt; | car_names &lt;chr&gt; |\n",
       "|---|---|---|---|---|---|---|---|---|---|---|---|---|\n",
       "| 1 | 21.0 | 6 | 160 | 110 | 3.90 | 2.620 | 16.46 | 0 | 1 | 4 | 4 | Mazda RX4         |\n",
       "| 2 | 21.0 | 6 | 160 | 110 | 3.90 | 2.875 | 17.02 | 0 | 1 | 4 | 4 | Mazda RX4 Wag     |\n",
       "| 3 | 22.8 | 4 | 108 |  93 | 3.85 | 2.320 | 18.61 | 1 | 1 | 4 | 1 | Datsun 710        |\n",
       "| 4 | 21.4 | 6 | 258 | 110 | 3.08 | 3.215 | 19.44 | 1 | 0 | 3 | 1 | Hornet 4 Drive    |\n",
       "| 5 | 18.7 | 8 | 360 | 175 | 3.15 | 3.440 | 17.02 | 0 | 0 | 3 | 2 | Hornet Sportabout |\n",
       "| 6 | 18.1 | 6 | 225 | 105 | 2.76 | 3.460 | 20.22 | 1 | 0 | 3 | 1 | Valiant           |\n",
       "\n"
      ],
      "text/plain": [
       "  mpg  cyl disp hp  drat wt    qsec  vs am gear carb car_names        \n",
       "1 21.0 6   160  110 3.90 2.620 16.46 0  1  4    4    Mazda RX4        \n",
       "2 21.0 6   160  110 3.90 2.875 17.02 0  1  4    4    Mazda RX4 Wag    \n",
       "3 22.8 4   108   93 3.85 2.320 18.61 1  1  4    1    Datsun 710       \n",
       "4 21.4 6   258  110 3.08 3.215 19.44 1  0  3    1    Hornet 4 Drive   \n",
       "5 18.7 8   360  175 3.15 3.440 17.02 0  0  3    2    Hornet Sportabout\n",
       "6 18.1 6   225  105 2.76 3.460 20.22 1  0  3    1    Valiant          "
      ]
     },
     "metadata": {},
     "output_type": "display_data"
    }
   ],
   "source": [
    "data(\"mtcats\")\n",
    "mtcars$car_names = rownames(mtcars)\n",
    "rownames(mtcars) = NULL\n",
    "head(mtcars)"
   ]
  },
  {
   "cell_type": "code",
   "execution_count": 8,
   "id": "6dad5b1c-7113-41ea-a934-0d089ce0402d",
   "metadata": {},
   "outputs": [
    {
     "data": {
      "text/html": [
       "<table class=\"dataframe\">\n",
       "<caption>A data.frame: 1 × 1</caption>\n",
       "<thead>\n",
       "\t<tr><th scope=col>COUNT(cyl)</th></tr>\n",
       "\t<tr><th scope=col>&lt;int&gt;</th></tr>\n",
       "</thead>\n",
       "<tbody>\n",
       "\t<tr><td>32</td></tr>\n",
       "</tbody>\n",
       "</table>\n"
      ],
      "text/latex": [
       "A data.frame: 1 × 1\n",
       "\\begin{tabular}{l}\n",
       " COUNT(cyl)\\\\\n",
       " <int>\\\\\n",
       "\\hline\n",
       "\t 32\\\\\n",
       "\\end{tabular}\n"
      ],
      "text/markdown": [
       "\n",
       "A data.frame: 1 × 1\n",
       "\n",
       "| COUNT(cyl) &lt;int&gt; |\n",
       "|---|\n",
       "| 32 |\n",
       "\n"
      ],
      "text/plain": [
       "  COUNT(cyl)\n",
       "1 32        "
      ]
     },
     "metadata": {},
     "output_type": "display_data"
    },
    {
     "data": {
      "text/html": [
       "<table class=\"dataframe\">\n",
       "<caption>A data.frame: 1 × 1</caption>\n",
       "<thead>\n",
       "\t<tr><th scope=col>COUNT(DISTINCT mpg)</th></tr>\n",
       "\t<tr><th scope=col>&lt;int&gt;</th></tr>\n",
       "</thead>\n",
       "<tbody>\n",
       "\t<tr><td>25</td></tr>\n",
       "</tbody>\n",
       "</table>\n"
      ],
      "text/latex": [
       "A data.frame: 1 × 1\n",
       "\\begin{tabular}{l}\n",
       " COUNT(DISTINCT mpg)\\\\\n",
       " <int>\\\\\n",
       "\\hline\n",
       "\t 25\\\\\n",
       "\\end{tabular}\n"
      ],
      "text/markdown": [
       "\n",
       "A data.frame: 1 × 1\n",
       "\n",
       "| COUNT(DISTINCT mpg) &lt;int&gt; |\n",
       "|---|\n",
       "| 25 |\n",
       "\n"
      ],
      "text/plain": [
       "  COUNT(DISTINCT mpg)\n",
       "1 25                 "
      ]
     },
     "metadata": {},
     "output_type": "display_data"
    }
   ],
   "source": [
    "dbGetQuery(conn, \"SELECT COUNT(cyl) FROM cars_data\")\n",
    "dbGetQuery(conn, \"SELECT COUNT(DISTINCT mpg) FROM cars_data\")  ## mpg에서 구별되는(distincted) 값 개수"
   ]
  },
  {
   "cell_type": "code",
   "execution_count": 18,
   "id": "b041465a-9c40-45b2-8de7-fa206ed78a3f",
   "metadata": {},
   "outputs": [
    {
     "data": {
      "text/html": [
       "32"
      ],
      "text/latex": [
       "32"
      ],
      "text/markdown": [
       "32"
      ],
      "text/plain": [
       "[1] 32"
      ]
     },
     "metadata": {},
     "output_type": "display_data"
    },
    {
     "data": {
      "text/html": [
       "25"
      ],
      "text/latex": [
       "25"
      ],
      "text/markdown": [
       "25"
      ],
      "text/plain": [
       "[1] 25"
      ]
     },
     "metadata": {},
     "output_type": "display_data"
    }
   ],
   "source": [
    "length(mtcars$cyl)\n",
    "length(unique(mtcars$mpg))"
   ]
  },
  {
   "cell_type": "code",
   "execution_count": 9,
   "id": "b3cdfdf6-b2fb-49a5-95fa-e1f65d2a1cb4",
   "metadata": {},
   "outputs": [
    {
     "data": {
      "text/html": [
       "<table class=\"dataframe\">\n",
       "<caption>A data.frame: 3 × 2</caption>\n",
       "<thead>\n",
       "\t<tr><th scope=col>cyl</th><th scope=col>COUNT(*)</th></tr>\n",
       "\t<tr><th scope=col>&lt;dbl&gt;</th><th scope=col>&lt;int&gt;</th></tr>\n",
       "</thead>\n",
       "<tbody>\n",
       "\t<tr><td>6</td><td> 7</td></tr>\n",
       "\t<tr><td>4</td><td>11</td></tr>\n",
       "\t<tr><td>8</td><td>14</td></tr>\n",
       "</tbody>\n",
       "</table>\n"
      ],
      "text/latex": [
       "A data.frame: 3 × 2\n",
       "\\begin{tabular}{ll}\n",
       " cyl & COUNT(*)\\\\\n",
       " <dbl> & <int>\\\\\n",
       "\\hline\n",
       "\t 6 &  7\\\\\n",
       "\t 4 & 11\\\\\n",
       "\t 8 & 14\\\\\n",
       "\\end{tabular}\n"
      ],
      "text/markdown": [
       "\n",
       "A data.frame: 3 × 2\n",
       "\n",
       "| cyl &lt;dbl&gt; | COUNT(*) &lt;int&gt; |\n",
       "|---|---|\n",
       "| 6 |  7 |\n",
       "| 4 | 11 |\n",
       "| 8 | 14 |\n",
       "\n"
      ],
      "text/plain": [
       "  cyl COUNT(*)\n",
       "1 6    7      \n",
       "2 4   11      \n",
       "3 8   14      "
      ]
     },
     "metadata": {},
     "output_type": "display_data"
    }
   ],
   "source": [
    "dbGetQuery(conn, \"SELECT cyl, COUNT(*) FROM cars_data\n",
    "           GROUP BY cyl HAVING COUNT(*) > 0\n",
    "           ORDER BY COUNT(*)\")"
   ]
  },
  {
   "cell_type": "markdown",
   "id": "e8537eb0-96b2-4f4a-8bee-728244fab52e",
   "metadata": {},
   "source": [
    "속성 cyl을 기준으로 튜플의 개수(COUNT)를 반환. 개수가 0보다 큰 것을 cyl별 개수(COUNT)로 정렬(ORDER BY)하여 반환"
   ]
  },
  {
   "cell_type": "markdown",
   "id": "540cc696-ccff-4bb5-8525-c511b8d3b51c",
   "metadata": {},
   "source": [
    "중앙값 통계량 산출\n",
    "\n",
    "짝수 : 가운데 두 개의 값의 평균(floor(n/2), floor(n/2 + 1))\n",
    "\n",
    "홀수 : 가운데 값(n/2)"
   ]
  },
  {
   "cell_type": "code",
   "execution_count": 14,
   "id": "269e3e19-68f6-4ce4-9858-690ee61f3640",
   "metadata": {},
   "outputs": [
    {
     "data": {
      "text/html": [
       "<table class=\"dataframe\">\n",
       "<caption>A data.frame: 2 × 1</caption>\n",
       "<thead>\n",
       "\t<tr><th scope=col>cyl</th></tr>\n",
       "\t<tr><th scope=col>&lt;dbl&gt;</th></tr>\n",
       "</thead>\n",
       "<tbody>\n",
       "\t<tr><td>4</td></tr>\n",
       "\t<tr><td>6</td></tr>\n",
       "</tbody>\n",
       "</table>\n"
      ],
      "text/latex": [
       "A data.frame: 2 × 1\n",
       "\\begin{tabular}{l}\n",
       " cyl\\\\\n",
       " <dbl>\\\\\n",
       "\\hline\n",
       "\t 4\\\\\n",
       "\t 6\\\\\n",
       "\\end{tabular}\n"
      ],
      "text/markdown": [
       "\n",
       "A data.frame: 2 × 1\n",
       "\n",
       "| cyl &lt;dbl&gt; |\n",
       "|---|\n",
       "| 4 |\n",
       "| 6 |\n",
       "\n"
      ],
      "text/plain": [
       "  cyl\n",
       "1 4  \n",
       "2 6  "
      ]
     },
     "metadata": {},
     "output_type": "display_data"
    }
   ],
   "source": [
    "dbGetQuery(conn, \"SELECT cyl FROM cars_data\n",
    "           ORDER BY cyl\n",
    "           LIMIT 2 - (SELECT COUNT(*) FROM cars_data) % 2\n",
    "           OFFSET (SELECT (COUNT(*) - 1) / 2 FROM cars_data)\")"
   ]
  },
  {
   "cell_type": "markdown",
   "id": "f9d360be-3daf-45f0-9235-1797ef96ca7a",
   "metadata": {},
   "source": [
    "짝수면 두 줄을 봐야 하고(`LIMIT 2`), 홀수면 한 줄을 봐야 한다(`LIMIT 2 - n%2`)\n",
    "\n",
    "(n-1)/2번째 부터 두 줄(한 줄)을 봐야 한다(`OFFSET`)"
   ]
  }
 ],
 "metadata": {
  "kernelspec": {
   "display_name": "R",
   "language": "R",
   "name": "ir"
  },
  "language_info": {
   "codemirror_mode": "r",
   "file_extension": ".r",
   "mimetype": "text/x-r-source",
   "name": "R",
   "pygments_lexer": "r",
   "version": "4.3.3"
  }
 },
 "nbformat": 4,
 "nbformat_minor": 5
}
