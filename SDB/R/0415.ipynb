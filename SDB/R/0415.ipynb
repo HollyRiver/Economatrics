{
 "cells": [
  {
   "cell_type": "code",
   "execution_count": 1,
   "id": "0c19a2a8-bc58-4cf5-9248-5deefdd7ac4d",
   "metadata": {},
   "outputs": [
    {
     "data": {
      "text/html": [
       "<style>\n",
       ".list-inline {list-style: none; margin:0; padding: 0}\n",
       ".list-inline>li {display: inline-block}\n",
       ".list-inline>li:not(:last-child)::after {content: \"\\00b7\"; padding: 0 .5ex}\n",
       "</style>\n",
       "<ol class=list-inline><li>3</li><li>4</li><li>5</li></ol>\n"
      ],
      "text/latex": [
       "\\begin{enumerate*}\n",
       "\\item 3\n",
       "\\item 4\n",
       "\\item 5\n",
       "\\end{enumerate*}\n"
      ],
      "text/markdown": [
       "1. 3\n",
       "2. 4\n",
       "3. 5\n",
       "\n",
       "\n"
      ],
      "text/plain": [
       "[1] 3 4 5"
      ]
     },
     "metadata": {},
     "output_type": "display_data"
    }
   ],
   "source": [
    "1:3 + 2"
   ]
  },
  {
   "cell_type": "code",
   "execution_count": 2,
   "id": "f4d41c8b-064a-497c-8230-4b2d2b33c7f0",
   "metadata": {},
   "outputs": [
    {
     "data": {
      "text/html": [
       "<style>\n",
       ".list-inline {list-style: none; margin:0; padding: 0}\n",
       ".list-inline>li {display: inline-block}\n",
       ".list-inline>li:not(:last-child)::after {content: \"\\00b7\"; padding: 0 .5ex}\n",
       "</style>\n",
       "<ol class=list-inline><li>8</li><li>16</li></ol>\n"
      ],
      "text/latex": [
       "\\begin{enumerate*}\n",
       "\\item 8\n",
       "\\item 16\n",
       "\\end{enumerate*}\n"
      ],
      "text/markdown": [
       "1. 8\n",
       "2. 16\n",
       "\n",
       "\n"
      ],
      "text/plain": [
       "[1]  8 16"
      ]
     },
     "metadata": {},
     "output_type": "display_data"
    }
   ],
   "source": [
    "2^(3:4)"
   ]
  },
  {
   "cell_type": "code",
   "execution_count": 3,
   "id": "876121a2-9acd-4410-9577-5693b2924f6c",
   "metadata": {},
   "outputs": [
    {
     "data": {
      "text/html": [
       "'character'"
      ],
      "text/latex": [
       "'character'"
      ],
      "text/markdown": [
       "'character'"
      ],
      "text/plain": [
       "[1] \"character\""
      ]
     },
     "metadata": {},
     "output_type": "display_data"
    },
    {
     "data": {
      "text/html": [
       "'character'"
      ],
      "text/latex": [
       "'character'"
      ],
      "text/markdown": [
       "'character'"
      ],
      "text/plain": [
       "[1] \"character\""
      ]
     },
     "metadata": {},
     "output_type": "display_data"
    }
   ],
   "source": [
    "d = c(T, \"G\")\n",
    "class(d)\n",
    "mode(d)"
   ]
  },
  {
   "cell_type": "code",
   "execution_count": 5,
   "id": "b4bd3ac1-f1f3-4742-bba9-d9237c899add",
   "metadata": {},
   "outputs": [
    {
     "data": {
      "text/html": [
       "<style>\n",
       ".list-inline {list-style: none; margin:0; padding: 0}\n",
       ".list-inline>li {display: inline-block}\n",
       ".list-inline>li:not(:last-child)::after {content: \"\\00b7\"; padding: 0 .5ex}\n",
       "</style>\n",
       "<ol class=list-inline><li>1</li><li>2</li></ol>\n"
      ],
      "text/latex": [
       "\\begin{enumerate*}\n",
       "\\item 1\n",
       "\\item 2\n",
       "\\end{enumerate*}\n"
      ],
      "text/markdown": [
       "1. 1\n",
       "2. 2\n",
       "\n",
       "\n"
      ],
      "text/plain": [
       "[1] 1 2"
      ]
     },
     "metadata": {},
     "output_type": "display_data"
    }
   ],
   "source": [
    "lv = as.factor(c(2, 3))\n",
    "as.numeric(lv)  ## index, 순서가 나온드."
   ]
  },
  {
   "cell_type": "code",
   "execution_count": 7,
   "id": "63fd455e-8a7d-4acf-8358-2b5be53fc283",
   "metadata": {},
   "outputs": [
    {
     "data": {
      "text/html": [
       "'factor'"
      ],
      "text/latex": [
       "'factor'"
      ],
      "text/markdown": [
       "'factor'"
      ],
      "text/plain": [
       "[1] \"factor\""
      ]
     },
     "metadata": {},
     "output_type": "display_data"
    },
    {
     "data": {
      "text/html": [
       "'numeric'"
      ],
      "text/latex": [
       "'numeric'"
      ],
      "text/markdown": [
       "'numeric'"
      ],
      "text/plain": [
       "[1] \"numeric\""
      ]
     },
     "metadata": {},
     "output_type": "display_data"
    }
   ],
   "source": [
    "class(lv)  ## 범주로도 먹히고\n",
    "mode(lv)  ## 숫자로도 먹힘"
   ]
  },
  {
   "cell_type": "code",
   "execution_count": 9,
   "id": "1d1ff5e2-9aa6-4692-bddf-d5faf3c046d0",
   "metadata": {},
   "outputs": [
    {
     "data": {
      "text/html": [
       "3"
      ],
      "text/latex": [
       "3"
      ],
      "text/markdown": [
       "3"
      ],
      "text/plain": [
       "[1] 3"
      ]
     },
     "metadata": {},
     "output_type": "display_data"
    },
    {
     "name": "stderr",
     "output_type": "stream",
     "text": [
      "Warning message in eval(expr, envir, enclos):\n",
      "“NAs introduced by coercion”\n"
     ]
    },
    {
     "data": {
      "text/html": [
       "&lt;NA&gt;"
      ],
      "text/latex": [
       "<NA>"
      ],
      "text/markdown": [
       "&lt;NA&gt;"
      ],
      "text/plain": [
       "[1] NA"
      ]
     },
     "metadata": {},
     "output_type": "display_data"
    }
   ],
   "source": [
    "as.numeric('3')\n",
    "as.numeric(\"r\")"
   ]
  },
  {
   "cell_type": "code",
   "execution_count": 12,
   "id": "d7243f7f-07d6-41c9-ad06-977b65ee768b",
   "metadata": {},
   "outputs": [
    {
     "ename": "ERROR",
     "evalue": "Error in A * B: non-conformable arrays\n",
     "output_type": "error",
     "traceback": [
      "Error in A * B: non-conformable arrays\nTraceback:\n"
     ]
    }
   ],
   "source": [
    "A = matrix(1:10, 2)\n",
    "B = matrix(1:10, 5, byrow = TRUE)\n",
    "\n",
    "A*B  ## need to same size"
   ]
  },
  {
   "cell_type": "code",
   "execution_count": 14,
   "id": "e832d09d-5267-417e-95c7-456323c97517",
   "metadata": {},
   "outputs": [
    {
     "data": {
      "text/html": [
       "<table class=\"dataframe\">\n",
       "<caption>A matrix: 2 × 2 of type dbl</caption>\n",
       "<tbody>\n",
       "\t<tr><td>165</td><td>190</td></tr>\n",
       "\t<tr><td>190</td><td>220</td></tr>\n",
       "</tbody>\n",
       "</table>\n"
      ],
      "text/latex": [
       "A matrix: 2 × 2 of type dbl\n",
       "\\begin{tabular}{ll}\n",
       "\t 165 & 190\\\\\n",
       "\t 190 & 220\\\\\n",
       "\\end{tabular}\n"
      ],
      "text/markdown": [
       "\n",
       "A matrix: 2 × 2 of type dbl\n",
       "\n",
       "| 165 | 190 |\n",
       "| 190 | 220 |\n",
       "\n"
      ],
      "text/plain": [
       "     [,1] [,2]\n",
       "[1,] 165  190 \n",
       "[2,] 190  220 "
      ]
     },
     "metadata": {},
     "output_type": "display_data"
    },
    {
     "data": {
      "text/html": [
       "<table class=\"dataframe\">\n",
       "<caption>A matrix: 5 × 5 of type dbl</caption>\n",
       "<tbody>\n",
       "\t<tr><td> 5</td><td>11</td><td> 17</td><td> 23</td><td> 29</td></tr>\n",
       "\t<tr><td>11</td><td>25</td><td> 39</td><td> 53</td><td> 67</td></tr>\n",
       "\t<tr><td>17</td><td>39</td><td> 61</td><td> 83</td><td>105</td></tr>\n",
       "\t<tr><td>23</td><td>53</td><td> 83</td><td>113</td><td>143</td></tr>\n",
       "\t<tr><td>29</td><td>67</td><td>105</td><td>143</td><td>181</td></tr>\n",
       "</tbody>\n",
       "</table>\n"
      ],
      "text/latex": [
       "A matrix: 5 × 5 of type dbl\n",
       "\\begin{tabular}{lllll}\n",
       "\t  5 & 11 &  17 &  23 &  29\\\\\n",
       "\t 11 & 25 &  39 &  53 &  67\\\\\n",
       "\t 17 & 39 &  61 &  83 & 105\\\\\n",
       "\t 23 & 53 &  83 & 113 & 143\\\\\n",
       "\t 29 & 67 & 105 & 143 & 181\\\\\n",
       "\\end{tabular}\n"
      ],
      "text/markdown": [
       "\n",
       "A matrix: 5 × 5 of type dbl\n",
       "\n",
       "|  5 | 11 |  17 |  23 |  29 |\n",
       "| 11 | 25 |  39 |  53 |  67 |\n",
       "| 17 | 39 |  61 |  83 | 105 |\n",
       "| 23 | 53 |  83 | 113 | 143 |\n",
       "| 29 | 67 | 105 | 143 | 181 |\n",
       "\n"
      ],
      "text/plain": [
       "     [,1] [,2] [,3] [,4] [,5]\n",
       "[1,]  5   11    17   23   29 \n",
       "[2,] 11   25    39   53   67 \n",
       "[3,] 17   39    61   83  105 \n",
       "[4,] 23   53    83  113  143 \n",
       "[5,] 29   67   105  143  181 "
      ]
     },
     "metadata": {},
     "output_type": "display_data"
    }
   ],
   "source": [
    "A%*%B\n",
    "B%*%A"
   ]
  },
  {
   "cell_type": "code",
   "execution_count": 15,
   "id": "071bc2e1-887d-44ff-9b4a-ad3ae86748ac",
   "metadata": {},
   "outputs": [
    {
     "data": {
      "text/html": [
       "<style>\n",
       ".list-inline {list-style: none; margin:0; padding: 0}\n",
       ".list-inline>li {display: inline-block}\n",
       ".list-inline>li:not(:last-child)::after {content: \"\\00b7\"; padding: 0 .5ex}\n",
       "</style>\n",
       "<ol class=list-inline><li>-1.6</li><li>1.4</li></ol>\n"
      ],
      "text/latex": [
       "\\begin{enumerate*}\n",
       "\\item -1.6\n",
       "\\item 1.4\n",
       "\\end{enumerate*}\n"
      ],
      "text/markdown": [
       "1. -1.6\n",
       "2. 1.4\n",
       "\n",
       "\n"
      ],
      "text/plain": [
       "[1] -1.6  1.4"
      ]
     },
     "metadata": {},
     "output_type": "display_data"
    },
    {
     "data": {
      "text/html": [
       "<table class=\"dataframe\">\n",
       "<caption>A matrix: 2 × 2 of type dbl</caption>\n",
       "<tbody>\n",
       "\t<tr><td> 1.10</td><td>-0.950</td></tr>\n",
       "\t<tr><td>-0.95</td><td> 0.825</td></tr>\n",
       "</tbody>\n",
       "</table>\n"
      ],
      "text/latex": [
       "A matrix: 2 × 2 of type dbl\n",
       "\\begin{tabular}{ll}\n",
       "\t  1.10 & -0.950\\\\\n",
       "\t -0.95 &  0.825\\\\\n",
       "\\end{tabular}\n"
      ],
      "text/markdown": [
       "\n",
       "A matrix: 2 × 2 of type dbl\n",
       "\n",
       "|  1.10 | -0.950 |\n",
       "| -0.95 |  0.825 |\n",
       "\n"
      ],
      "text/plain": [
       "     [,1]  [,2]  \n",
       "[1,]  1.10 -0.950\n",
       "[2,] -0.95  0.825"
      ]
     },
     "metadata": {},
     "output_type": "display_data"
    }
   ],
   "source": [
    "b = c(2, 4)\n",
    "solve(A %*% B, b)  ## with constants vector, matrix equation\n",
    "solve(A %*% B)  ## with identity"
   ]
  },
  {
   "cell_type": "code",
   "execution_count": 16,
   "id": "c1d06849-61ef-4f87-9f5a-4eaa70413305",
   "metadata": {},
   "outputs": [
    {
     "data": {
      "text/html": [
       "<style>\n",
       ".list-inline {list-style: none; margin:0; padding: 0}\n",
       ".list-inline>li {display: inline-block}\n",
       ".list-inline>li:not(:last-child)::after {content: \"\\00b7\"; padding: 0 .5ex}\n",
       "</style>\n",
       "<ol class=list-inline><li>2</li><li>5</li></ol>\n"
      ],
      "text/latex": [
       "\\begin{enumerate*}\n",
       "\\item 2\n",
       "\\item 5\n",
       "\\end{enumerate*}\n"
      ],
      "text/markdown": [
       "1. 2\n",
       "2. 5\n",
       "\n",
       "\n"
      ],
      "text/plain": [
       "[1] 2 5"
      ]
     },
     "metadata": {},
     "output_type": "display_data"
    },
    {
     "data": {
      "text/html": [
       "<style>\n",
       ".list-inline {list-style: none; margin:0; padding: 0}\n",
       ".list-inline>li {display: inline-block}\n",
       ".list-inline>li:not(:last-child)::after {content: \"\\00b7\"; padding: 0 .5ex}\n",
       "</style>\n",
       "<ol class=list-inline><li>'matrix'</li><li>'array'</li></ol>\n"
      ],
      "text/latex": [
       "\\begin{enumerate*}\n",
       "\\item 'matrix'\n",
       "\\item 'array'\n",
       "\\end{enumerate*}\n"
      ],
      "text/markdown": [
       "1. 'matrix'\n",
       "2. 'array'\n",
       "\n",
       "\n"
      ],
      "text/plain": [
       "[1] \"matrix\" \"array\" "
      ]
     },
     "metadata": {},
     "output_type": "display_data"
    },
    {
     "data": {
      "text/html": [
       "'numeric'"
      ],
      "text/latex": [
       "'numeric'"
      ],
      "text/markdown": [
       "'numeric'"
      ],
      "text/plain": [
       "[1] \"numeric\""
      ]
     },
     "metadata": {},
     "output_type": "display_data"
    }
   ],
   "source": [
    "dim(A); class(A); mode(A)"
   ]
  },
  {
   "cell_type": "code",
   "execution_count": 19,
   "id": "2efea3fa-d545-4fe6-98b4-71fc35be74dc",
   "metadata": {},
   "outputs": [],
   "source": [
    "df = data.frame(a = rnorm(10), b = LETTERS[1:10])"
   ]
  },
  {
   "cell_type": "code",
   "execution_count": 24,
   "id": "cdc1daf0-f05e-4796-9888-077d39fe5d68",
   "metadata": {},
   "outputs": [
    {
     "data": {
      "text/html": [
       "<style>\n",
       ".list-inline {list-style: none; margin:0; padding: 0}\n",
       ".list-inline>li {display: inline-block}\n",
       ".list-inline>li:not(:last-child)::after {content: \"\\00b7\"; padding: 0 .5ex}\n",
       "</style>\n",
       "<ol class=list-inline><li>'a1'</li><li>'b2'</li><li>'c3'</li></ol>\n"
      ],
      "text/latex": [
       "\\begin{enumerate*}\n",
       "\\item 'a1'\n",
       "\\item 'b2'\n",
       "\\item 'c3'\n",
       "\\end{enumerate*}\n"
      ],
      "text/markdown": [
       "1. 'a1'\n",
       "2. 'b2'\n",
       "3. 'c3'\n",
       "\n",
       "\n"
      ],
      "text/plain": [
       "[1] \"a1\" \"b2\" \"c3\""
      ]
     },
     "metadata": {},
     "output_type": "display_data"
    },
    {
     "data": {
      "text/html": [
       "'a1, b2, c3'"
      ],
      "text/latex": [
       "'a1, b2, c3'"
      ],
      "text/markdown": [
       "'a1, b2, c3'"
      ],
      "text/plain": [
       "[1] \"a1, b2, c3\""
      ]
     },
     "metadata": {},
     "output_type": "display_data"
    }
   ],
   "source": [
    "paste(c('a', 'b', 'c'), 1:3, sep = \"\")\n",
    "paste(c('a', 'b', 'c'), 1:3, collapse = \", \", sep = \"\")"
   ]
  },
  {
   "cell_type": "code",
   "execution_count": 25,
   "id": "d60635db-6808-4d53-a409-ce2c39d71858",
   "metadata": {},
   "outputs": [],
   "source": [
    "A = list(a = rnorm(10), b = LETTERS[1:10])\n",
    "B = list(A = A, v = 1:10)"
   ]
  },
  {
   "cell_type": "code",
   "execution_count": 30,
   "id": "7c994ec8-300e-49d7-9c0c-887c35a1f347",
   "metadata": {},
   "outputs": [
    {
     "data": {
      "text/html": [
       "2"
      ],
      "text/latex": [
       "2"
      ],
      "text/markdown": [
       "2"
      ],
      "text/plain": [
       "[1] 2"
      ]
     },
     "metadata": {},
     "output_type": "display_data"
    },
    {
     "data": {
      "text/html": [
       "2"
      ],
      "text/latex": [
       "2"
      ],
      "text/markdown": [
       "2"
      ],
      "text/plain": [
       "[1] 2"
      ]
     },
     "metadata": {},
     "output_type": "display_data"
    }
   ],
   "source": [
    "length(A); length(data.frame(A))  ## vector의 length가 아닌 list 원소의 개수(딕셔너리 key-value의 수)"
   ]
  },
  {
   "cell_type": "code",
   "execution_count": 32,
   "id": "524dc5aa-465c-4a1a-a175-cfab66cc55b2",
   "metadata": {},
   "outputs": [
    {
     "data": {
      "text/plain": [
       "NULL"
      ]
     },
     "metadata": {},
     "output_type": "display_data"
    },
    {
     "data": {
      "text/plain": [
       "NULL"
      ]
     },
     "metadata": {},
     "output_type": "display_data"
    },
    {
     "data": {
      "text/html": [
       "<style>\n",
       ".list-inline {list-style: none; margin:0; padding: 0}\n",
       ".list-inline>li {display: inline-block}\n",
       ".list-inline>li:not(:last-child)::after {content: \"\\00b7\"; padding: 0 .5ex}\n",
       "</style>\n",
       "<ol class=list-inline><li>10</li><li>2</li></ol>\n"
      ],
      "text/latex": [
       "\\begin{enumerate*}\n",
       "\\item 10\n",
       "\\item 2\n",
       "\\end{enumerate*}\n"
      ],
      "text/markdown": [
       "1. 10\n",
       "2. 2\n",
       "\n",
       "\n"
      ],
      "text/plain": [
       "[1] 10  2"
      ]
     },
     "metadata": {},
     "output_type": "display_data"
    }
   ],
   "source": [
    "dim(A); dim(B); dim(data.frame(A))  ## 데이터프레임처럼 matrix구조만 차원이 나옴"
   ]
  },
  {
   "cell_type": "code",
   "execution_count": 36,
   "id": "3d3b3975-7bb1-4149-a3e6-ab824e6ae995",
   "metadata": {},
   "outputs": [
    {
     "ename": "ERROR",
     "evalue": "Error in rep(1:3, 1:2): invalid 'times' argument\n",
     "output_type": "error",
     "traceback": [
      "Error in rep(1:3, 1:2): invalid 'times' argument\nTraceback:\n"
     ]
    }
   ],
   "source": [
    "rep(1:3, 1:2)  ## rep의 경우 times를 더 자세히 지정해줘야 함. 일반 vector operation과 다름"
   ]
  },
  {
   "cell_type": "code",
   "execution_count": 40,
   "id": "8f6832d0-72b6-465f-988c-8193ba54f993",
   "metadata": {},
   "outputs": [
    {
     "data": {
      "text/html": [
       "<table class=\"dataframe\">\n",
       "<caption>A matrix: 5 × 2 of type dbl</caption>\n",
       "<thead>\n",
       "\t<tr><th scope=col>v</th><th scope=col>vv</th></tr>\n",
       "</thead>\n",
       "<tbody>\n",
       "\t<tr><td>1</td><td>0.3333333</td></tr>\n",
       "\t<tr><td>2</td><td>0.6666667</td></tr>\n",
       "\t<tr><td>3</td><td>1.0000000</td></tr>\n",
       "\t<tr><td>4</td><td>1.3333333</td></tr>\n",
       "\t<tr><td>5</td><td>1.6666667</td></tr>\n",
       "</tbody>\n",
       "</table>\n"
      ],
      "text/latex": [
       "A matrix: 5 × 2 of type dbl\n",
       "\\begin{tabular}{ll}\n",
       " v & vv\\\\\n",
       "\\hline\n",
       "\t 1 & 0.3333333\\\\\n",
       "\t 2 & 0.6666667\\\\\n",
       "\t 3 & 1.0000000\\\\\n",
       "\t 4 & 1.3333333\\\\\n",
       "\t 5 & 1.6666667\\\\\n",
       "\\end{tabular}\n"
      ],
      "text/markdown": [
       "\n",
       "A matrix: 5 × 2 of type dbl\n",
       "\n",
       "| v | vv |\n",
       "|---|---|\n",
       "| 1 | 0.3333333 |\n",
       "| 2 | 0.6666667 |\n",
       "| 3 | 1.0000000 |\n",
       "| 4 | 1.3333333 |\n",
       "| 5 | 1.6666667 |\n",
       "\n"
      ],
      "text/plain": [
       "     v vv       \n",
       "[1,] 1 0.3333333\n",
       "[2,] 2 0.6666667\n",
       "[3,] 3 1.0000000\n",
       "[4,] 4 1.3333333\n",
       "[5,] 5 1.6666667"
      ]
     },
     "metadata": {},
     "output_type": "display_data"
    },
    {
     "data": {
      "text/html": [
       "<table class=\"dataframe\">\n",
       "<caption>A matrix: 10 × 2 of type dbl</caption>\n",
       "<thead>\n",
       "\t<tr><th scope=col>v</th><th scope=col>vv</th></tr>\n",
       "</thead>\n",
       "<tbody>\n",
       "\t<tr><td>1</td><td>0.3333333</td></tr>\n",
       "\t<tr><td>2</td><td>0.6666667</td></tr>\n",
       "\t<tr><td>3</td><td>1.0000000</td></tr>\n",
       "\t<tr><td>4</td><td>1.3333333</td></tr>\n",
       "\t<tr><td>5</td><td>1.6666667</td></tr>\n",
       "\t<tr><td>1</td><td>0.3333333</td></tr>\n",
       "\t<tr><td>2</td><td>0.6666667</td></tr>\n",
       "\t<tr><td>3</td><td>1.0000000</td></tr>\n",
       "\t<tr><td>4</td><td>1.3333333</td></tr>\n",
       "\t<tr><td>5</td><td>1.6666667</td></tr>\n",
       "</tbody>\n",
       "</table>\n"
      ],
      "text/latex": [
       "A matrix: 10 × 2 of type dbl\n",
       "\\begin{tabular}{ll}\n",
       " v & vv\\\\\n",
       "\\hline\n",
       "\t 1 & 0.3333333\\\\\n",
       "\t 2 & 0.6666667\\\\\n",
       "\t 3 & 1.0000000\\\\\n",
       "\t 4 & 1.3333333\\\\\n",
       "\t 5 & 1.6666667\\\\\n",
       "\t 1 & 0.3333333\\\\\n",
       "\t 2 & 0.6666667\\\\\n",
       "\t 3 & 1.0000000\\\\\n",
       "\t 4 & 1.3333333\\\\\n",
       "\t 5 & 1.6666667\\\\\n",
       "\\end{tabular}\n"
      ],
      "text/markdown": [
       "\n",
       "A matrix: 10 × 2 of type dbl\n",
       "\n",
       "| v | vv |\n",
       "|---|---|\n",
       "| 1 | 0.3333333 |\n",
       "| 2 | 0.6666667 |\n",
       "| 3 | 1.0000000 |\n",
       "| 4 | 1.3333333 |\n",
       "| 5 | 1.6666667 |\n",
       "| 1 | 0.3333333 |\n",
       "| 2 | 0.6666667 |\n",
       "| 3 | 1.0000000 |\n",
       "| 4 | 1.3333333 |\n",
       "| 5 | 1.6666667 |\n",
       "\n"
      ],
      "text/plain": [
       "      v vv       \n",
       " [1,] 1 0.3333333\n",
       " [2,] 2 0.6666667\n",
       " [3,] 3 1.0000000\n",
       " [4,] 4 1.3333333\n",
       " [5,] 5 1.6666667\n",
       " [6,] 1 0.3333333\n",
       " [7,] 2 0.6666667\n",
       " [8,] 3 1.0000000\n",
       " [9,] 4 1.3333333\n",
       "[10,] 5 1.6666667"
      ]
     },
     "metadata": {},
     "output_type": "display_data"
    },
    {
     "data": {
      "text/html": [
       "<table class=\"dataframe\">\n",
       "<caption>A matrix: 5 × 2 of type dbl</caption>\n",
       "<thead>\n",
       "\t<tr><th scope=col>v</th><th scope=col>vv</th></tr>\n",
       "</thead>\n",
       "<tbody>\n",
       "\t<tr><td>1</td><td>0.3333333</td></tr>\n",
       "\t<tr><td>2</td><td>0.6666667</td></tr>\n",
       "\t<tr><td>3</td><td>1.0000000</td></tr>\n",
       "\t<tr><td>4</td><td>1.3333333</td></tr>\n",
       "\t<tr><td>5</td><td>1.6666667</td></tr>\n",
       "</tbody>\n",
       "</table>\n"
      ],
      "text/latex": [
       "A matrix: 5 × 2 of type dbl\n",
       "\\begin{tabular}{ll}\n",
       " v & vv\\\\\n",
       "\\hline\n",
       "\t 1 & 0.3333333\\\\\n",
       "\t 2 & 0.6666667\\\\\n",
       "\t 3 & 1.0000000\\\\\n",
       "\t 4 & 1.3333333\\\\\n",
       "\t 5 & 1.6666667\\\\\n",
       "\\end{tabular}\n"
      ],
      "text/markdown": [
       "\n",
       "A matrix: 5 × 2 of type dbl\n",
       "\n",
       "| v | vv |\n",
       "|---|---|\n",
       "| 1 | 0.3333333 |\n",
       "| 2 | 0.6666667 |\n",
       "| 3 | 1.0000000 |\n",
       "| 4 | 1.3333333 |\n",
       "| 5 | 1.6666667 |\n",
       "\n"
      ],
      "text/plain": [
       "     v vv       \n",
       "[1,] 1 0.3333333\n",
       "[2,] 2 0.6666667\n",
       "[3,] 3 1.0000000\n",
       "[4,] 4 1.3333333\n",
       "[5,] 5 1.6666667"
      ]
     },
     "metadata": {},
     "output_type": "display_data"
    }
   ],
   "source": [
    "v = 1:5; vv = v/3\n",
    "\n",
    "vv = cbind(v, vv); vv\n",
    "vv = rbind(vv, vv); vv\n",
    "unique(vv)"
   ]
  },
  {
   "cell_type": "code",
   "execution_count": 41,
   "id": "c530ab1b-c872-41a7-ac23-0d17e390e73f",
   "metadata": {},
   "outputs": [
    {
     "data": {
      "text/html": [
       "<table class=\"dataframe\">\n",
       "<caption>A matrix: 5 × 2 of type dbl</caption>\n",
       "<thead>\n",
       "\t<tr><th scope=col>v</th><th scope=col>vv</th></tr>\n",
       "</thead>\n",
       "<tbody>\n",
       "\t<tr><td>1</td><td>0.3333333</td></tr>\n",
       "\t<tr><td>2</td><td>0.6666667</td></tr>\n",
       "\t<tr><td>3</td><td>1.0000000</td></tr>\n",
       "\t<tr><td>4</td><td>1.3333333</td></tr>\n",
       "\t<tr><td>5</td><td>1.6666667</td></tr>\n",
       "</tbody>\n",
       "</table>\n"
      ],
      "text/latex": [
       "A matrix: 5 × 2 of type dbl\n",
       "\\begin{tabular}{ll}\n",
       " v & vv\\\\\n",
       "\\hline\n",
       "\t 1 & 0.3333333\\\\\n",
       "\t 2 & 0.6666667\\\\\n",
       "\t 3 & 1.0000000\\\\\n",
       "\t 4 & 1.3333333\\\\\n",
       "\t 5 & 1.6666667\\\\\n",
       "\\end{tabular}\n"
      ],
      "text/markdown": [
       "\n",
       "A matrix: 5 × 2 of type dbl\n",
       "\n",
       "| v | vv |\n",
       "|---|---|\n",
       "| 1 | 0.3333333 |\n",
       "| 2 | 0.6666667 |\n",
       "| 3 | 1.0000000 |\n",
       "| 4 | 1.3333333 |\n",
       "| 5 | 1.6666667 |\n",
       "\n"
      ],
      "text/plain": [
       "     v vv       \n",
       "[1,] 1 0.3333333\n",
       "[2,] 2 0.6666667\n",
       "[3,] 3 1.0000000\n",
       "[4,] 4 1.3333333\n",
       "[5,] 5 1.6666667"
      ]
     },
     "metadata": {},
     "output_type": "display_data"
    }
   ],
   "source": [
    "vv[!duplicated(vv),]"
   ]
  },
  {
   "cell_type": "code",
   "execution_count": 42,
   "id": "2a002068-b03d-4523-ac7c-0f104a5107d0",
   "metadata": {},
   "outputs": [
    {
     "data": {
      "text/html": [
       "<style>\n",
       ".list-inline {list-style: none; margin:0; padding: 0}\n",
       ".list-inline>li {display: inline-block}\n",
       ".list-inline>li:not(:last-child)::after {content: \"\\00b7\"; padding: 0 .5ex}\n",
       "</style>\n",
       "<ol class=list-inline><li>FALSE</li><li>FALSE</li><li>FALSE</li><li>FALSE</li><li>FALSE</li><li>TRUE</li><li>TRUE</li><li>TRUE</li><li>TRUE</li><li>TRUE</li></ol>\n"
      ],
      "text/latex": [
       "\\begin{enumerate*}\n",
       "\\item FALSE\n",
       "\\item FALSE\n",
       "\\item FALSE\n",
       "\\item FALSE\n",
       "\\item FALSE\n",
       "\\item TRUE\n",
       "\\item TRUE\n",
       "\\item TRUE\n",
       "\\item TRUE\n",
       "\\item TRUE\n",
       "\\end{enumerate*}\n"
      ],
      "text/markdown": [
       "1. FALSE\n",
       "2. FALSE\n",
       "3. FALSE\n",
       "4. FALSE\n",
       "5. FALSE\n",
       "6. TRUE\n",
       "7. TRUE\n",
       "8. TRUE\n",
       "9. TRUE\n",
       "10. TRUE\n",
       "\n",
       "\n"
      ],
      "text/plain": [
       " [1] FALSE FALSE FALSE FALSE FALSE  TRUE  TRUE  TRUE  TRUE  TRUE"
      ]
     },
     "metadata": {},
     "output_type": "display_data"
    }
   ],
   "source": [
    "duplicated(vv)  ## 복사된 것들은 TRUE로 산출"
   ]
  },
  {
   "cell_type": "code",
   "execution_count": 45,
   "id": "e5ca48fd-6c98-4cc9-83ef-fb8659580737",
   "metadata": {},
   "outputs": [],
   "source": [
    "v = data.frame(matrix(c(1, 3, 2, 4), 2, 2, byrow = TRUE))\n",
    "vv = data.frame(matrix(c(2,4,5,6), 2, 2, byrow = TRUE))"
   ]
  },
  {
   "cell_type": "code",
   "execution_count": 49,
   "id": "7e50676c-694b-40c6-98af-268233850523",
   "metadata": {},
   "outputs": [
    {
     "data": {
      "text/html": [
       "<table class=\"dataframe\">\n",
       "<caption>A data.frame: 3 × 3</caption>\n",
       "<thead>\n",
       "\t<tr><th scope=col>X1</th><th scope=col>X2.x</th><th scope=col>X2.y</th></tr>\n",
       "\t<tr><th scope=col>&lt;dbl&gt;</th><th scope=col>&lt;dbl&gt;</th><th scope=col>&lt;dbl&gt;</th></tr>\n",
       "</thead>\n",
       "<tbody>\n",
       "\t<tr><td>1</td><td> 3</td><td>NA</td></tr>\n",
       "\t<tr><td>2</td><td> 4</td><td> 4</td></tr>\n",
       "\t<tr><td>5</td><td>NA</td><td> 6</td></tr>\n",
       "</tbody>\n",
       "</table>\n"
      ],
      "text/latex": [
       "A data.frame: 3 × 3\n",
       "\\begin{tabular}{lll}\n",
       " X1 & X2.x & X2.y\\\\\n",
       " <dbl> & <dbl> & <dbl>\\\\\n",
       "\\hline\n",
       "\t 1 &  3 & NA\\\\\n",
       "\t 2 &  4 &  4\\\\\n",
       "\t 5 & NA &  6\\\\\n",
       "\\end{tabular}\n"
      ],
      "text/markdown": [
       "\n",
       "A data.frame: 3 × 3\n",
       "\n",
       "| X1 &lt;dbl&gt; | X2.x &lt;dbl&gt; | X2.y &lt;dbl&gt; |\n",
       "|---|---|---|\n",
       "| 1 |  3 | NA |\n",
       "| 2 |  4 |  4 |\n",
       "| 5 | NA |  6 |\n",
       "\n"
      ],
      "text/plain": [
       "  X1 X2.x X2.y\n",
       "1 1   3   NA  \n",
       "2 2   4    4  \n",
       "3 5  NA    6  "
      ]
     },
     "metadata": {},
     "output_type": "display_data"
    }
   ],
   "source": [
    "merge(v, vv, by = \"X1\", all.x = T, all.y = T)"
   ]
  },
  {
   "cell_type": "code",
   "execution_count": 55,
   "id": "fb378921-0dbc-4c51-b110-d5d3786d80d9",
   "metadata": {},
   "outputs": [
    {
     "data": {
      "text/html": [
       "'3.3330000'"
      ],
      "text/latex": [
       "'3.3330000'"
      ],
      "text/markdown": [
       "'3.3330000'"
      ],
      "text/plain": [
       "[1] \"3.3330000\""
      ]
     },
     "metadata": {},
     "output_type": "display_data"
    },
    {
     "data": {
      "text/html": [
       "'3.3'"
      ],
      "text/latex": [
       "'3.3'"
      ],
      "text/markdown": [
       "'3.3'"
      ],
      "text/plain": [
       "[1] \"3.3\""
      ]
     },
     "metadata": {},
     "output_type": "display_data"
    }
   ],
   "source": [
    "format(3.333, nsmall = 7)\n",
    "format(3.333, digits = 2)"
   ]
  },
  {
   "cell_type": "code",
   "execution_count": 56,
   "id": "36a04f2c-1924-4f46-bd13-214af61e0222",
   "metadata": {},
   "outputs": [
    {
     "data": {
      "text/html": [
       "<style>\n",
       ".list-inline {list-style: none; margin:0; padding: 0}\n",
       ".list-inline>li {display: inline-block}\n",
       ".list-inline>li:not(:last-child)::after {content: \"\\00b7\"; padding: 0 .5ex}\n",
       "</style>\n",
       "<ol class=list-inline><li>'a1'</li><li>'a2'</li></ol>\n"
      ],
      "text/latex": [
       "\\begin{enumerate*}\n",
       "\\item 'a1'\n",
       "\\item 'a2'\n",
       "\\end{enumerate*}\n"
      ],
      "text/markdown": [
       "1. 'a1'\n",
       "2. 'a2'\n",
       "\n",
       "\n"
      ],
      "text/plain": [
       "[1] \"a1\" \"a2\""
      ]
     },
     "metadata": {},
     "output_type": "display_data"
    },
    {
     "data": {
      "text/html": [
       "<style>\n",
       ".list-inline {list-style: none; margin:0; padding: 0}\n",
       ".list-inline>li {display: inline-block}\n",
       ".list-inline>li:not(:last-child)::after {content: \"\\00b7\"; padding: 0 .5ex}\n",
       "</style>\n",
       "<ol class=list-inline><li>'a1'</li><li>'a2'</li></ol>\n"
      ],
      "text/latex": [
       "\\begin{enumerate*}\n",
       "\\item 'a1'\n",
       "\\item 'a2'\n",
       "\\end{enumerate*}\n"
      ],
      "text/markdown": [
       "1. 'a1'\n",
       "2. 'a2'\n",
       "\n",
       "\n"
      ],
      "text/plain": [
       "[1] \"a1\" \"a2\""
      ]
     },
     "metadata": {},
     "output_type": "display_data"
    },
    {
     "data": {
      "text/html": [
       "'1'"
      ],
      "text/latex": [
       "'1'"
      ],
      "text/markdown": [
       "'1'"
      ],
      "text/plain": [
       "[1] \"1\""
      ]
     },
     "metadata": {},
     "output_type": "display_data"
    }
   ],
   "source": [
    "A = data.frame(a1=1, a2 = T)\n",
    "names(A)\n",
    "colnames(A)\n",
    "rownames(A)"
   ]
  },
  {
   "cell_type": "code",
   "execution_count": null,
   "id": "0285d9d3-a304-4c07-8de7-0bf1efeda104",
   "metadata": {},
   "outputs": [],
   "source": [
    "a = rnorm(100)\n",
    "aa = data.frame(a = rnorm(100), b = rpois(100, a))\n",
    "write.table(file = \"s.txt\", aa)\n",
    "a = read.table(file = \"s.txt\")\n",
    "write.csv(file = \"s.csv\", a)\n",
    "b = read.csv(file = \"s.csv\")  ## 인덱스 열을 제거해줄 필요가 있음"
   ]
  },
  {
   "cell_type": "markdown",
   "id": "40c0f7ae-f944-46a2-9bea-093269c6c877",
   "metadata": {},
   "source": [
    "`-` `dplyr`"
   ]
  },
  {
   "cell_type": "code",
   "execution_count": 57,
   "id": "cb314333-c15c-40df-8a55-e0ca19671582",
   "metadata": {},
   "outputs": [],
   "source": [
    "rm(list = ls())"
   ]
  },
  {
   "cell_type": "code",
   "execution_count": 58,
   "id": "aeb67ed1-cd71-4963-94fd-ecd6f8a4d21b",
   "metadata": {},
   "outputs": [
    {
     "data": {
      "text/html": [
       "<table class=\"dataframe\">\n",
       "<caption>A matrix: 252 × 16 of type chr</caption>\n",
       "<thead>\n",
       "\t<tr><th></th><th scope=col>Package</th><th scope=col>LibPath</th><th scope=col>Version</th><th scope=col>Priority</th><th scope=col>Depends</th><th scope=col>Imports</th><th scope=col>LinkingTo</th><th scope=col>Suggests</th><th scope=col>Enhances</th><th scope=col>License</th><th scope=col>License_is_FOSS</th><th scope=col>License_restricts_use</th><th scope=col>OS_type</th><th scope=col>MD5sum</th><th scope=col>NeedsCompilation</th><th scope=col>Built</th></tr>\n",
       "</thead>\n",
       "<tbody>\n",
       "\t<tr><th scope=row>DAAG</th><td><span style=white-space:pre-wrap>DAAG        </span></td><td>/root/anaconda3/envs/r_env/lib/R/library</td><td><span style=white-space:pre-wrap>1.25.4    </span></td><td><span style=white-space:pre-wrap>NA         </span></td><td><span style=white-space:pre-wrap>R (&gt;= 3.5.0)                                       </span></td><td><span style=white-space:pre-wrap>lattice, latticeExtra, methods, Rdpack                                                                                                  </span></td><td><span style=white-space:pre-wrap>NA  </span></td><td><span style=white-space:pre-wrap>leaps, oz, lme4, quantreg, knitr, boot, rpart, randomForest,\n",
       "MASS, survival, mgcv, rmarkdown, bookdown                                                                                        </span></td><td><span style=white-space:pre-wrap>NA            </span></td><td><span style=white-space:pre-wrap>GPL-3                    </span></td><td>NA </td><td>NA</td><td>NA</td><td>NA</td><td>no </td><td>4.3.3</td></tr>\n",
       "\t<tr><th scope=row>DBI</th><td><span style=white-space:pre-wrap>DBI         </span></td><td>/root/anaconda3/envs/r_env/lib/R/library</td><td><span style=white-space:pre-wrap>1.2.2     </span></td><td><span style=white-space:pre-wrap>NA         </span></td><td><span style=white-space:pre-wrap>methods, R (&gt;= 3.0.0)                              </span></td><td><span style=white-space:pre-wrap>NA                                                                                                                                      </span></td><td><span style=white-space:pre-wrap>NA  </span></td><td>arrow, blob, covr, DBItest, dbplyr, downlit, dplyr, glue,\n",
       "hms, knitr, magrittr, nanoarrow (&gt;= 0.3.0.1), RMariaDB,\n",
       "rmarkdown, rprojroot, RSQLite (&gt;= 1.1-2), testthat (&gt;= 3.0.0),\n",
       "vctrs, xml2</td><td><span style=white-space:pre-wrap>NA            </span></td><td><span style=white-space:pre-wrap>LGPL (&gt;= 2.1)            </span></td><td>NA </td><td>NA</td><td>NA</td><td>NA</td><td>no </td><td>4.3.2</td></tr>\n",
       "\t<tr><th scope=row>Deriv</th><td><span style=white-space:pre-wrap>Deriv       </span></td><td>/root/anaconda3/envs/r_env/lib/R/library</td><td><span style=white-space:pre-wrap>4.1.3     </span></td><td><span style=white-space:pre-wrap>NA         </span></td><td><span style=white-space:pre-wrap>NA                                                 </span></td><td><span style=white-space:pre-wrap>methods                                                                                                                                 </span></td><td><span style=white-space:pre-wrap>NA  </span></td><td><span style=white-space:pre-wrap>testthat                                                                                                                                                                                       </span></td><td><span style=white-space:pre-wrap>NA            </span></td><td><span style=white-space:pre-wrap>GPL (&gt;= 3)               </span></td><td>NA </td><td>NA</td><td>NA</td><td>NA</td><td>no </td><td>4.3.2</td></tr>\n",
       "\t<tr><th scope=row>IRdisplay</th><td><span style=white-space:pre-wrap>IRdisplay   </span></td><td>/root/anaconda3/envs/r_env/lib/R/library</td><td><span style=white-space:pre-wrap>1.1       </span></td><td><span style=white-space:pre-wrap>NA         </span></td><td><span style=white-space:pre-wrap>R (&gt;= 3.0.1)                                       </span></td><td><span style=white-space:pre-wrap>methods,\n",
       "repr                                                                                                                          </span></td><td><span style=white-space:pre-wrap>NA  </span></td><td><span style=white-space:pre-wrap>testthat,\n",
       "withr                                                                                                                                                                               </span></td><td><span style=white-space:pre-wrap>NA            </span></td><td><span style=white-space:pre-wrap>MIT + file LICENSE       </span></td><td>NA </td><td>NA</td><td>NA</td><td>NA</td><td>NA </td><td>4.3.0</td></tr>\n",
       "\t<tr><th scope=row>IRkernel</th><td><span style=white-space:pre-wrap>IRkernel    </span></td><td>/root/anaconda3/envs/r_env/lib/R/library</td><td><span style=white-space:pre-wrap>1.3.2     </span></td><td><span style=white-space:pre-wrap>NA         </span></td><td><span style=white-space:pre-wrap>R (&gt;= 3.2.0)                                       </span></td><td>repr (&gt;= 0.4.99), methods, evaluate (&gt;= 0.10), IRdisplay (&gt;=\n",
       "0.3.0.9999), pbdZMQ (&gt;= 0.2-1), crayon, jsonlite (&gt;= 0.9.6),\n",
       "uuid, digest</td><td><span style=white-space:pre-wrap>NA  </span></td><td><span style=white-space:pre-wrap>testthat, roxygen2                                                                                                                                                                             </span></td><td><span style=white-space:pre-wrap>NA            </span></td><td><span style=white-space:pre-wrap>MIT + file LICENSE       </span></td><td>NA </td><td>NA</td><td>NA</td><td>NA</td><td>no </td><td>4.3.0</td></tr>\n",
       "\t<tr><th scope=row>ISLR</th><td><span style=white-space:pre-wrap>ISLR        </span></td><td>/root/anaconda3/envs/r_env/lib/R/library</td><td><span style=white-space:pre-wrap>1.4       </span></td><td><span style=white-space:pre-wrap>NA         </span></td><td><span style=white-space:pre-wrap>R (&gt;= 3.5.0)                                       </span></td><td><span style=white-space:pre-wrap>NA                                                                                                                                      </span></td><td><span style=white-space:pre-wrap>NA  </span></td><td><span style=white-space:pre-wrap>MASS                                                                                                                                                                                           </span></td><td><span style=white-space:pre-wrap>NA            </span></td><td><span style=white-space:pre-wrap>GPL-2                    </span></td><td>NA </td><td>NA</td><td>NA</td><td>NA</td><td>no </td><td>4.3.2</td></tr>\n",
       "\t<tr><th scope=row>KernSmooth</th><td><span style=white-space:pre-wrap>KernSmooth  </span></td><td>/root/anaconda3/envs/r_env/lib/R/library</td><td><span style=white-space:pre-wrap>2.23-22   </span></td><td>recommended</td><td><span style=white-space:pre-wrap>R (&gt;= 2.5.0), stats                                </span></td><td><span style=white-space:pre-wrap>NA                                                                                                                                      </span></td><td><span style=white-space:pre-wrap>NA  </span></td><td><span style=white-space:pre-wrap>MASS, carData                                                                                                                                                                                  </span></td><td><span style=white-space:pre-wrap>NA            </span></td><td><span style=white-space:pre-wrap>Unlimited                </span></td><td>NA </td><td>NA</td><td>NA</td><td>NA</td><td>yes</td><td>4.3.0</td></tr>\n",
       "\t<tr><th scope=row>MASS</th><td><span style=white-space:pre-wrap>MASS        </span></td><td>/root/anaconda3/envs/r_env/lib/R/library</td><td>7.3-60.0.1</td><td>recommended</td><td><span style=white-space:pre-wrap>R (&gt;= 4.0), grDevices, graphics, stats, utils      </span></td><td><span style=white-space:pre-wrap>methods                                                                                                                                 </span></td><td><span style=white-space:pre-wrap>NA  </span></td><td><span style=white-space:pre-wrap>lattice, nlme, nnet, survival                                                                                                                                                                  </span></td><td><span style=white-space:pre-wrap>NA            </span></td><td><span style=white-space:pre-wrap>GPL-2 | GPL-3            </span></td><td>NA </td><td>NA</td><td>NA</td><td>NA</td><td>yes</td><td>4.3.3</td></tr>\n",
       "\t<tr><th scope=row>Matrix</th><td><span style=white-space:pre-wrap>Matrix      </span></td><td>/root/anaconda3/envs/r_env/lib/R/library</td><td><span style=white-space:pre-wrap>1.6-5     </span></td><td>recommended</td><td><span style=white-space:pre-wrap>R (&gt;= 3.5.0), methods                              </span></td><td><span style=white-space:pre-wrap>grDevices, graphics, grid, lattice, stats, utils                                                                                        </span></td><td><span style=white-space:pre-wrap>NA  </span></td><td><span style=white-space:pre-wrap>MASS, datasets, sfsmisc, tools                                                                                                                                                                 </span></td><td>SparseM, graph</td><td>GPL (&gt;= 2) | file LICENCE</td><td>NA </td><td>NA</td><td>NA</td><td>NA</td><td>yes</td><td>4.3.2</td></tr>\n",
       "\t<tr><th scope=row>MatrixModels</th><td>MatrixModels</td><td>/root/anaconda3/envs/r_env/lib/R/library</td><td><span style=white-space:pre-wrap>0.5-3     </span></td><td><span style=white-space:pre-wrap>NA         </span></td><td><span style=white-space:pre-wrap>R (&gt;= 3.6.0)                                       </span></td><td><span style=white-space:pre-wrap>stats, methods, Matrix (&gt;= 1.6-0)                                                                                                       </span></td><td><span style=white-space:pre-wrap>NA  </span></td><td><span style=white-space:pre-wrap>NA                                                                                                                                                                                             </span></td><td><span style=white-space:pre-wrap>NA            </span></td><td><span style=white-space:pre-wrap>GPL (&gt;= 2)               </span></td><td>NA </td><td>NA</td><td>NA</td><td>NA</td><td>no </td><td>4.3.3</td></tr>\n",
       "\t<tr><th scope=row>ModelMetrics</th><td>ModelMetrics</td><td>/root/anaconda3/envs/r_env/lib/R/library</td><td><span style=white-space:pre-wrap>1.2.2.2   </span></td><td><span style=white-space:pre-wrap>NA         </span></td><td><span style=white-space:pre-wrap>R (&gt;= 3.2.2)                                       </span></td><td><span style=white-space:pre-wrap>Rcpp, data.table                                                                                                                        </span></td><td>Rcpp</td><td><span style=white-space:pre-wrap>testthat                                                                                                                                                                                       </span></td><td><span style=white-space:pre-wrap>NA            </span></td><td><span style=white-space:pre-wrap>GPL (&gt;= 2)               </span></td><td>NA </td><td>NA</td><td>NA</td><td>NA</td><td>yes</td><td>4.3.0</td></tr>\n",
       "\t<tr><th scope=row>R6</th><td><span style=white-space:pre-wrap>R6          </span></td><td>/root/anaconda3/envs/r_env/lib/R/library</td><td><span style=white-space:pre-wrap>2.5.1     </span></td><td><span style=white-space:pre-wrap>NA         </span></td><td><span style=white-space:pre-wrap>R (&gt;= 3.0)                                         </span></td><td><span style=white-space:pre-wrap>NA                                                                                                                                      </span></td><td><span style=white-space:pre-wrap>NA  </span></td><td><span style=white-space:pre-wrap>testthat, pryr                                                                                                                                                                                 </span></td><td><span style=white-space:pre-wrap>NA            </span></td><td><span style=white-space:pre-wrap>MIT + file LICENSE       </span></td><td>NA </td><td>NA</td><td>NA</td><td>NA</td><td>no </td><td>4.3.0</td></tr>\n",
       "\t<tr><th scope=row>RColorBrewer</th><td>RColorBrewer</td><td>/root/anaconda3/envs/r_env/lib/R/library</td><td><span style=white-space:pre-wrap>1.1-3     </span></td><td><span style=white-space:pre-wrap>NA         </span></td><td><span style=white-space:pre-wrap>R (&gt;= 2.0.0)                                       </span></td><td><span style=white-space:pre-wrap>NA                                                                                                                                      </span></td><td><span style=white-space:pre-wrap>NA  </span></td><td><span style=white-space:pre-wrap>NA                                                                                                                                                                                             </span></td><td><span style=white-space:pre-wrap>NA            </span></td><td><span style=white-space:pre-wrap>Apache License 2.0       </span></td><td>NA </td><td>NA</td><td>NA</td><td>NA</td><td>no </td><td>4.3.0</td></tr>\n",
       "\t<tr><th scope=row>Rcpp</th><td><span style=white-space:pre-wrap>Rcpp        </span></td><td>/root/anaconda3/envs/r_env/lib/R/library</td><td><span style=white-space:pre-wrap>1.0.12    </span></td><td><span style=white-space:pre-wrap>NA         </span></td><td><span style=white-space:pre-wrap>NA                                                 </span></td><td><span style=white-space:pre-wrap>methods, utils                                                                                                                          </span></td><td><span style=white-space:pre-wrap>NA  </span></td><td><span style=white-space:pre-wrap>tinytest, inline, rbenchmark, pkgKitten (&gt;= 0.1.2)                                                                                                                                             </span></td><td><span style=white-space:pre-wrap>NA            </span></td><td><span style=white-space:pre-wrap>GPL (&gt;= 2)               </span></td><td>NA </td><td>NA</td><td>NA</td><td>NA</td><td>yes</td><td>4.3.2</td></tr>\n",
       "\t<tr><th scope=row>RcppEigen</th><td><span style=white-space:pre-wrap>RcppEigen   </span></td><td>/root/anaconda3/envs/r_env/lib/R/library</td><td>0.3.4.0.0 </td><td><span style=white-space:pre-wrap>NA         </span></td><td><span style=white-space:pre-wrap>R (&gt;= 3.6.0)                                       </span></td><td><span style=white-space:pre-wrap>Rcpp (&gt;= 0.11.0), stats, utils                                                                                                          </span></td><td>Rcpp</td><td><span style=white-space:pre-wrap>Matrix, inline, tinytest, pkgKitten, microbenchmark                                                                                                                                            </span></td><td><span style=white-space:pre-wrap>NA            </span></td><td>GPL (&gt;= 2) | file LICENSE</td><td>NA </td><td>NA</td><td>NA</td><td>NA</td><td>yes</td><td>4.3.2</td></tr>\n",
       "\t<tr><th scope=row>Rdpack</th><td><span style=white-space:pre-wrap>Rdpack      </span></td><td>/root/anaconda3/envs/r_env/lib/R/library</td><td><span style=white-space:pre-wrap>2.6       </span></td><td><span style=white-space:pre-wrap>NA         </span></td><td><span style=white-space:pre-wrap>R (&gt;= 2.15.0), methods                             </span></td><td><span style=white-space:pre-wrap>tools, utils, rbibutils (&gt;= 1.3)                                                                                                        </span></td><td><span style=white-space:pre-wrap>NA  </span></td><td><span style=white-space:pre-wrap>grDevices, testthat, rstudioapi, rprojroot, gbRd                                                                                                                                               </span></td><td><span style=white-space:pre-wrap>NA            </span></td><td><span style=white-space:pre-wrap>GPL (&gt;= 2)               </span></td><td>NA </td><td>NA</td><td>NA</td><td>NA</td><td>no </td><td>4.3.2</td></tr>\n",
       "\t<tr><th scope=row>Rttf2pt1</th><td><span style=white-space:pre-wrap>Rttf2pt1    </span></td><td>/root/anaconda3/envs/r_env/lib/R/library</td><td><span style=white-space:pre-wrap>1.3.12    </span></td><td><span style=white-space:pre-wrap>NA         </span></td><td><span style=white-space:pre-wrap>R (&gt;= 2.15)                                        </span></td><td><span style=white-space:pre-wrap>NA                                                                                                                                      </span></td><td><span style=white-space:pre-wrap>NA  </span></td><td><span style=white-space:pre-wrap>NA                                                                                                                                                                                             </span></td><td><span style=white-space:pre-wrap>NA            </span></td><td><span style=white-space:pre-wrap>file LICENSE             </span></td><td>yes</td><td>NA</td><td>NA</td><td>NA</td><td>yes</td><td>4.3.3</td></tr>\n",
       "\t<tr><th scope=row>SQUAREM</th><td><span style=white-space:pre-wrap>SQUAREM     </span></td><td>/root/anaconda3/envs/r_env/lib/R/library</td><td><span style=white-space:pre-wrap>2021.1    </span></td><td><span style=white-space:pre-wrap>NA         </span></td><td><span style=white-space:pre-wrap>R (&gt;= 3.0)                                         </span></td><td><span style=white-space:pre-wrap>NA                                                                                                                                      </span></td><td><span style=white-space:pre-wrap>NA  </span></td><td><span style=white-space:pre-wrap>setRNG                                                                                                                                                                                         </span></td><td><span style=white-space:pre-wrap>NA            </span></td><td><span style=white-space:pre-wrap>GPL (&gt;= 2)               </span></td><td>NA </td><td>NA</td><td>NA</td><td>NA</td><td>no </td><td>4.3.0</td></tr>\n",
       "\t<tr><th scope=row>SparseM</th><td><span style=white-space:pre-wrap>SparseM     </span></td><td>/root/anaconda3/envs/r_env/lib/R/library</td><td><span style=white-space:pre-wrap>1.81      </span></td><td><span style=white-space:pre-wrap>NA         </span></td><td><span style=white-space:pre-wrap>R (&gt;= 2.15), methods                               </span></td><td><span style=white-space:pre-wrap>graphics, stats, utils                                                                                                                  </span></td><td><span style=white-space:pre-wrap>NA  </span></td><td><span style=white-space:pre-wrap>NA                                                                                                                                                                                             </span></td><td><span style=white-space:pre-wrap>NA            </span></td><td><span style=white-space:pre-wrap>GPL (&gt;= 2)               </span></td><td>NA </td><td>NA</td><td>NA</td><td>NA</td><td>yes</td><td>4.3.3</td></tr>\n",
       "\t<tr><th scope=row>TTR</th><td><span style=white-space:pre-wrap>TTR         </span></td><td>/root/anaconda3/envs/r_env/lib/R/library</td><td><span style=white-space:pre-wrap>0.24.4    </span></td><td><span style=white-space:pre-wrap>NA         </span></td><td><span style=white-space:pre-wrap>NA                                                 </span></td><td><span style=white-space:pre-wrap>xts (&gt;= 0.10-0), zoo, curl                                                                                                              </span></td><td>xts </td><td><span style=white-space:pre-wrap>RUnit                                                                                                                                                                                          </span></td><td><span style=white-space:pre-wrap>quantmod      </span></td><td><span style=white-space:pre-wrap>GPL (&gt;= 2)               </span></td><td>NA </td><td>NA</td><td>NA</td><td>NA</td><td>yes</td><td>4.3.2</td></tr>\n",
       "\t<tr><th scope=row>abind</th><td><span style=white-space:pre-wrap>abind       </span></td><td>/root/anaconda3/envs/r_env/lib/R/library</td><td><span style=white-space:pre-wrap>1.4-5     </span></td><td><span style=white-space:pre-wrap>NA         </span></td><td><span style=white-space:pre-wrap>R (&gt;= 1.5.0)                                       </span></td><td><span style=white-space:pre-wrap>methods, utils                                                                                                                          </span></td><td><span style=white-space:pre-wrap>NA  </span></td><td><span style=white-space:pre-wrap>NA                                                                                                                                                                                             </span></td><td><span style=white-space:pre-wrap>NA            </span></td><td><span style=white-space:pre-wrap>LGPL (&gt;= 2)              </span></td><td>NA </td><td>NA</td><td>NA</td><td>NA</td><td>no </td><td>4.3.3</td></tr>\n",
       "\t<tr><th scope=row>aplpack</th><td><span style=white-space:pre-wrap>aplpack     </span></td><td>/root/anaconda3/envs/r_env/lib/R/library</td><td><span style=white-space:pre-wrap>1.3.5     </span></td><td><span style=white-space:pre-wrap>NA         </span></td><td><span style=white-space:pre-wrap>R (&gt;= 3.0.0)                                       </span></td><td><span style=white-space:pre-wrap>NA                                                                                                                                      </span></td><td><span style=white-space:pre-wrap>NA  </span></td><td><span style=white-space:pre-wrap>tkrplot, jpeg, png, splines, utils, tcltk                                                                                                                                                      </span></td><td><span style=white-space:pre-wrap>NA            </span></td><td><span style=white-space:pre-wrap>GPL (&gt;= 2)               </span></td><td>NA </td><td>NA</td><td>NA</td><td>NA</td><td>no </td><td>4.3.3</td></tr>\n",
       "\t<tr><th scope=row>askpass</th><td><span style=white-space:pre-wrap>askpass     </span></td><td>/root/anaconda3/envs/r_env/lib/R/library</td><td><span style=white-space:pre-wrap>1.2.0     </span></td><td><span style=white-space:pre-wrap>NA         </span></td><td><span style=white-space:pre-wrap>NA                                                 </span></td><td><span style=white-space:pre-wrap>sys (&gt;= 2.1)                                                                                                                            </span></td><td><span style=white-space:pre-wrap>NA  </span></td><td><span style=white-space:pre-wrap>testthat                                                                                                                                                                                       </span></td><td><span style=white-space:pre-wrap>NA            </span></td><td><span style=white-space:pre-wrap>MIT + file LICENSE       </span></td><td>NA </td><td>NA</td><td>NA</td><td>NA</td><td>yes</td><td>4.3.1</td></tr>\n",
       "\t<tr><th scope=row>assertthat</th><td>assertthat  </td><td>/root/anaconda3/envs/r_env/lib/R/library</td><td>0.2.1     </td><td>NA         </td><td>NA                                                 </td><td>tools                                                                                                                                   </td><td>NA  </td><td>testthat, covr                                                                                                                                                                                 </td><td>NA            </td><td>GPL-3                    </td><td>NA </td><td>NA</td><td>NA</td><td>NA</td><td>no </td><td>4.3.0</td></tr>\n",
       "\t<tr><th scope=row>backports</th><td><span style=white-space:pre-wrap>backports   </span></td><td>/root/anaconda3/envs/r_env/lib/R/library</td><td><span style=white-space:pre-wrap>1.4.1     </span></td><td><span style=white-space:pre-wrap>NA         </span></td><td><span style=white-space:pre-wrap>R (&gt;= 3.0.0)                                       </span></td><td><span style=white-space:pre-wrap>NA                                                                                                                                      </span></td><td><span style=white-space:pre-wrap>NA  </span></td><td><span style=white-space:pre-wrap>NA                                                                                                                                                                                             </span></td><td><span style=white-space:pre-wrap>NA            </span></td><td><span style=white-space:pre-wrap>GPL-2 | GPL-3            </span></td><td>NA </td><td>NA</td><td>NA</td><td>NA</td><td>yes</td><td>4.3.0</td></tr>\n",
       "\t<tr><th scope=row>base</th><td>base        </td><td>/root/anaconda3/envs/r_env/lib/R/library</td><td>4.3.3     </td><td>base       </td><td>NA                                                 </td><td>NA                                                                                                                                      </td><td>NA  </td><td>methods                                                                                                                                                                                        </td><td>NA            </td><td>Part of R 4.3.3          </td><td>NA </td><td>NA</td><td>NA</td><td>NA</td><td>NA </td><td>4.3.3</td></tr>\n",
       "\t<tr><th scope=row>base64enc</th><td><span style=white-space:pre-wrap>base64enc   </span></td><td>/root/anaconda3/envs/r_env/lib/R/library</td><td><span style=white-space:pre-wrap>0.1-3     </span></td><td><span style=white-space:pre-wrap>NA         </span></td><td><span style=white-space:pre-wrap>R (&gt;= 2.9.0)                                       </span></td><td><span style=white-space:pre-wrap>NA                                                                                                                                      </span></td><td><span style=white-space:pre-wrap>NA  </span></td><td><span style=white-space:pre-wrap>NA                                                                                                                                                                                             </span></td><td><span style=white-space:pre-wrap>png           </span></td><td><span style=white-space:pre-wrap>GPL-2 | GPL-3            </span></td><td>NA </td><td>NA</td><td>NA</td><td>NA</td><td>yes</td><td>4.3.0</td></tr>\n",
       "\t<tr><th scope=row>bit</th><td><span style=white-space:pre-wrap>bit         </span></td><td>/root/anaconda3/envs/r_env/lib/R/library</td><td><span style=white-space:pre-wrap>4.0.5     </span></td><td><span style=white-space:pre-wrap>NA         </span></td><td><span style=white-space:pre-wrap>R (&gt;= 2.9.2)                                       </span></td><td><span style=white-space:pre-wrap>NA                                                                                                                                      </span></td><td><span style=white-space:pre-wrap>NA  </span></td><td><span style=white-space:pre-wrap>testthat (&gt;= 0.11.0), roxygen2, knitr, rmarkdown,\n",
       "microbenchmark, bit64 (&gt;= 4.0.0), ff (&gt;= 4.0.0)                                                                                             </span></td><td><span style=white-space:pre-wrap>NA            </span></td><td><span style=white-space:pre-wrap>GPL-2 | GPL-3            </span></td><td>NA </td><td>NA</td><td>NA</td><td>NA</td><td>yes</td><td>4.3.0</td></tr>\n",
       "\t<tr><th scope=row>bit64</th><td><span style=white-space:pre-wrap>bit64       </span></td><td>/root/anaconda3/envs/r_env/lib/R/library</td><td><span style=white-space:pre-wrap>4.0.5     </span></td><td><span style=white-space:pre-wrap>NA         </span></td><td>R (&gt;= 3.0.1), bit (&gt;= 4.0.0), utils, methods, stats</td><td><span style=white-space:pre-wrap>NA                                                                                                                                      </span></td><td><span style=white-space:pre-wrap>NA  </span></td><td><span style=white-space:pre-wrap>NA                                                                                                                                                                                             </span></td><td><span style=white-space:pre-wrap>NA            </span></td><td><span style=white-space:pre-wrap>GPL-2 | GPL-3            </span></td><td>NA </td><td>NA</td><td>NA</td><td>NA</td><td>yes</td><td>4.3.0</td></tr>\n",
       "\t<tr><th scope=row>blob</th><td><span style=white-space:pre-wrap>blob        </span></td><td>/root/anaconda3/envs/r_env/lib/R/library</td><td><span style=white-space:pre-wrap>1.2.4     </span></td><td><span style=white-space:pre-wrap>NA         </span></td><td><span style=white-space:pre-wrap>NA                                                 </span></td><td><span style=white-space:pre-wrap>methods, rlang, vctrs (&gt;= 0.2.1)                                                                                                        </span></td><td><span style=white-space:pre-wrap>NA  </span></td><td><span style=white-space:pre-wrap>covr, crayon, pillar (&gt;= 1.2.1), testthat                                                                                                                                                      </span></td><td><span style=white-space:pre-wrap>NA            </span></td><td><span style=white-space:pre-wrap>MIT + file LICENSE       </span></td><td>NA </td><td>NA</td><td>NA</td><td>NA</td><td>no </td><td>4.3.0</td></tr>\n",
       "\t<tr><th scope=row>⋮</th><td>⋮</td><td>⋮</td><td>⋮</td><td>⋮</td><td>⋮</td><td>⋮</td><td>⋮</td><td>⋮</td><td>⋮</td><td>⋮</td><td>⋮</td><td>⋮</td><td>⋮</td><td>⋮</td><td>⋮</td><td>⋮</td></tr>\n",
       "\t<tr><th scope=row>tibble</th><td><span style=white-space:pre-wrap>tibble     </span></td><td>/root/anaconda3/envs/r_env/lib/R/library</td><td><span style=white-space:pre-wrap>3.2.1   </span></td><td><span style=white-space:pre-wrap>NA  </span></td><td><span style=white-space:pre-wrap>R (&gt;= 3.4.0)                 </span></td><td><span style=white-space:pre-wrap>fansi (&gt;= 0.4.0), lifecycle (&gt;= 1.0.0), magrittr, methods,\n",
       "pillar (&gt;= 1.8.1), pkgconfig, rlang (&gt;= 1.0.2), utils, vctrs\n",
       "(&gt;= 0.4.2)                                                                                                                                                                                                                                                                                                                                                                                                                                                                       </span></td><td><span style=white-space:pre-wrap>NA                                                    </span></td><td>bench, bit64, blob, brio, callr, cli, covr, crayon (&gt;=\n",
       "1.3.4), DiagrammeR, dplyr, evaluate, formattable, ggplot2,\n",
       "here, hms, htmltools, knitr, lubridate, mockr, nycflights13,\n",
       "pkgbuild, pkgload, purrr, rmarkdown, stringi, testthat (&gt;=\n",
       "3.0.2), tidyr, withr</td><td>NA</td><td><span style=white-space:pre-wrap>MIT + file LICENSE                    </span></td><td>NA</td><td>NA</td><td>NA</td><td>NA</td><td>yes</td><td>4.3.0</td></tr>\n",
       "\t<tr><th scope=row>tidyr</th><td><span style=white-space:pre-wrap>tidyr      </span></td><td>/root/anaconda3/envs/r_env/lib/R/library</td><td><span style=white-space:pre-wrap>1.3.1   </span></td><td><span style=white-space:pre-wrap>NA  </span></td><td><span style=white-space:pre-wrap>R (&gt;= 3.6)                   </span></td><td><span style=white-space:pre-wrap>cli (&gt;= 3.4.1), dplyr (&gt;= 1.0.10), glue, lifecycle (&gt;= 1.0.3),\n",
       "magrittr, purrr (&gt;= 1.0.1), rlang (&gt;= 1.1.1), stringr (&gt;=\n",
       "1.5.0), tibble (&gt;= 2.1.1), tidyselect (&gt;= 1.2.0), utils, vctrs\n",
       "(&gt;= 0.5.2)                                                                                                                                                                                                                                                                                                                                                                                                      </span></td><td><span style=white-space:pre-wrap>cpp11 (&gt;= 0.4.0)                                      </span></td><td><span style=white-space:pre-wrap>covr, data.table, knitr, readr, repurrrsive (&gt;= 1.1.0),\n",
       "rmarkdown, testthat (&gt;= 3.0.0)                                                                                                                                                                           </span></td><td>NA</td><td><span style=white-space:pre-wrap>MIT + file LICENSE                    </span></td><td>NA</td><td>NA</td><td>NA</td><td>NA</td><td>yes</td><td>4.3.2</td></tr>\n",
       "\t<tr><th scope=row>tidyselect</th><td>tidyselect </td><td>/root/anaconda3/envs/r_env/lib/R/library</td><td><span style=white-space:pre-wrap>1.2.0   </span></td><td><span style=white-space:pre-wrap>NA  </span></td><td><span style=white-space:pre-wrap>R (&gt;= 3.4)                   </span></td><td><span style=white-space:pre-wrap>cli (&gt;= 3.3.0), glue (&gt;= 1.3.0), lifecycle (&gt;= 1.0.3), rlang\n",
       "(&gt;= 1.0.4), vctrs (&gt;= 0.4.1), withr                                                                                                                                                                                                                                                                                                                                                                                                                                                                                                          </span></td><td><span style=white-space:pre-wrap>NA                                                    </span></td><td><span style=white-space:pre-wrap>covr, crayon, dplyr, knitr, magrittr, rmarkdown, stringr,\n",
       "testthat (&gt;= 3.1.1), tibble (&gt;= 2.1.3)                                                                                                                                                                 </span></td><td>NA</td><td><span style=white-space:pre-wrap>MIT + file LICENSE                    </span></td><td>NA</td><td>NA</td><td>NA</td><td>NA</td><td>no </td><td>4.3.0</td></tr>\n",
       "\t<tr><th scope=row>tidyverse</th><td><span style=white-space:pre-wrap>tidyverse  </span></td><td>/root/anaconda3/envs/r_env/lib/R/library</td><td><span style=white-space:pre-wrap>2.0.0   </span></td><td><span style=white-space:pre-wrap>NA  </span></td><td><span style=white-space:pre-wrap>R (&gt;= 3.3)                   </span></td><td>broom (&gt;= 1.0.3), conflicted (&gt;= 1.2.0), cli (&gt;= 3.6.0),\n",
       "dbplyr (&gt;= 2.3.0), dplyr (&gt;= 1.1.0), dtplyr (&gt;= 1.2.2), forcats\n",
       "(&gt;= 1.0.0), ggplot2 (&gt;= 3.4.1), googledrive (&gt;= 2.0.0),\n",
       "googlesheets4 (&gt;= 1.0.1), haven (&gt;= 2.5.1), hms (&gt;= 1.1.2),\n",
       "httr (&gt;= 1.4.4), jsonlite (&gt;= 1.8.4), lubridate (&gt;= 1.9.2),\n",
       "magrittr (&gt;= 2.0.3), modelr (&gt;= 0.1.10), pillar (&gt;= 1.8.1),\n",
       "purrr (&gt;= 1.0.1), ragg (&gt;= 1.2.5), readr (&gt;= 2.1.4), readxl (&gt;=\n",
       "1.4.2), reprex (&gt;= 2.0.2), rlang (&gt;= 1.0.6), rstudioapi (&gt;=\n",
       "0.14), rvest (&gt;= 1.0.3), stringr (&gt;= 1.5.0), tibble (&gt;= 3.1.8),\n",
       "tidyr (&gt;= 1.3.0), xml2 (&gt;= 1.3.3)</td><td><span style=white-space:pre-wrap>NA                                                    </span></td><td><span style=white-space:pre-wrap>covr (&gt;= 3.6.1), feather (&gt;= 0.3.5), glue (&gt;= 1.6.2), mockr\n",
       "(&gt;= 0.2.0), knitr (&gt;= 1.41), rmarkdown (&gt;= 2.20), testthat (&gt;=\n",
       "3.1.6)                                                                                                                               </span></td><td>NA</td><td><span style=white-space:pre-wrap>MIT + file LICENSE                    </span></td><td>NA</td><td>NA</td><td>NA</td><td>NA</td><td>no </td><td>4.3.3</td></tr>\n",
       "\t<tr><th scope=row>timeDate</th><td><span style=white-space:pre-wrap>timeDate   </span></td><td>/root/anaconda3/envs/r_env/lib/R/library</td><td>4032.109</td><td><span style=white-space:pre-wrap>NA  </span></td><td><span style=white-space:pre-wrap>R (&gt;= 3.6.0), methods        </span></td><td><span style=white-space:pre-wrap>graphics, utils, stats                                                                                                                                                                                                                                                                                                                                                                                                                                                                                                                                                                                     </span></td><td><span style=white-space:pre-wrap>NA                                                    </span></td><td><span style=white-space:pre-wrap>RUnit                                                                                                                                                                                                                                                             </span></td><td>NA</td><td><span style=white-space:pre-wrap>GPL (&gt;= 2)                            </span></td><td>NA</td><td>NA</td><td>NA</td><td>NA</td><td>no </td><td>4.3.2</td></tr>\n",
       "\t<tr><th scope=row>timechange</th><td>timechange </td><td>/root/anaconda3/envs/r_env/lib/R/library</td><td><span style=white-space:pre-wrap>0.3.0   </span></td><td><span style=white-space:pre-wrap>NA  </span></td><td><span style=white-space:pre-wrap>R (&gt;= 3.3)                   </span></td><td><span style=white-space:pre-wrap>NA                                                                                                                                                                                                                                                                                                                                                                                                                                                                                                                                                                                                         </span></td><td><span style=white-space:pre-wrap>cpp11 (&gt;= 0.2.7)                                      </span></td><td><span style=white-space:pre-wrap>testthat (&gt;= 0.7.1.99), knitr                                                                                                                                                                                                                                     </span></td><td>NA</td><td><span style=white-space:pre-wrap>GPL (&gt;= 3)                            </span></td><td>NA</td><td>NA</td><td>NA</td><td>NA</td><td>yes</td><td>4.3.2</td></tr>\n",
       "\t<tr><th scope=row>tinytex</th><td><span style=white-space:pre-wrap>tinytex    </span></td><td>/root/anaconda3/envs/r_env/lib/R/library</td><td><span style=white-space:pre-wrap>0.49    </span></td><td><span style=white-space:pre-wrap>NA  </span></td><td><span style=white-space:pre-wrap>NA                           </span></td><td><span style=white-space:pre-wrap>xfun (&gt;= 0.29)                                                                                                                                                                                                                                                                                                                                                                                                                                                                                                                                                                                             </span></td><td><span style=white-space:pre-wrap>NA                                                    </span></td><td><span style=white-space:pre-wrap>testit, rstudioapi                                                                                                                                                                                                                                                </span></td><td>NA</td><td><span style=white-space:pre-wrap>MIT + file LICENSE                    </span></td><td>NA</td><td>NA</td><td>NA</td><td>NA</td><td>no </td><td>4.3.2</td></tr>\n",
       "\t<tr><th scope=row>tools</th><td>tools      </td><td>/root/anaconda3/envs/r_env/lib/R/library</td><td>4.3.3   </td><td>base</td><td>NA                           </td><td>NA                                                                                                                                                                                                                                                                                                                                                                                                                                                                                                                                                                                                         </td><td>NA                                                    </td><td>codetools, methods, xml2, curl, commonmark, knitr, xfun,\n",
       "mathjaxr, V8                                                                                                                                                                                            </td><td>NA</td><td>Part of R 4.3.3                       </td><td>NA</td><td>NA</td><td>NA</td><td>NA</td><td>yes</td><td>4.3.3</td></tr>\n",
       "\t<tr><th scope=row>triebeard</th><td>triebeard  </td><td>/root/anaconda3/envs/r_env/lib/R/library</td><td>0.4.1   </td><td>NA  </td><td>NA                           </td><td>Rcpp                                                                                                                                                                                                                                                                                                                                                                                                                                                                                                                                                                                                       </td><td>Rcpp                                                  </td><td>knitr, rmarkdown, testthat                                                                                                                                                                                                                                        </td><td>NA</td><td>MIT + file LICENSE                    </td><td>NA</td><td>NA</td><td>NA</td><td>NA</td><td>yes</td><td>4.3.0</td></tr>\n",
       "\t<tr><th scope=row>tzdb</th><td><span style=white-space:pre-wrap>tzdb       </span></td><td>/root/anaconda3/envs/r_env/lib/R/library</td><td><span style=white-space:pre-wrap>0.4.0   </span></td><td><span style=white-space:pre-wrap>NA  </span></td><td><span style=white-space:pre-wrap>R (&gt;= 3.5.0)                 </span></td><td><span style=white-space:pre-wrap>NA                                                                                                                                                                                                                                                                                                                                                                                                                                                                                                                                                                                                         </span></td><td><span style=white-space:pre-wrap>cpp11 (&gt;= 0.4.2)                                      </span></td><td><span style=white-space:pre-wrap>covr, testthat (&gt;= 3.0.0)                                                                                                                                                                                                                                         </span></td><td>NA</td><td><span style=white-space:pre-wrap>MIT + file LICENSE                    </span></td><td>NA</td><td>NA</td><td>NA</td><td>NA</td><td>yes</td><td>4.3.0</td></tr>\n",
       "\t<tr><th scope=row>urlchecker</th><td>urlchecker </td><td>/root/anaconda3/envs/r_env/lib/R/library</td><td><span style=white-space:pre-wrap>1.0.1   </span></td><td><span style=white-space:pre-wrap>NA  </span></td><td><span style=white-space:pre-wrap>R (&gt;= 3.3)                   </span></td><td><span style=white-space:pre-wrap>cli, curl, tools, xml2                                                                                                                                                                                                                                                                                                                                                                                                                                                                                                                                                                                     </span></td><td><span style=white-space:pre-wrap>NA                                                    </span></td><td><span style=white-space:pre-wrap>covr                                                                                                                                                                                                                                                              </span></td><td>NA</td><td><span style=white-space:pre-wrap>GPL-3                                 </span></td><td>NA</td><td>NA</td><td>NA</td><td>NA</td><td>no </td><td>4.3.3</td></tr>\n",
       "\t<tr><th scope=row>urltools</th><td><span style=white-space:pre-wrap>urltools   </span></td><td>/root/anaconda3/envs/r_env/lib/R/library</td><td><span style=white-space:pre-wrap>1.7.3   </span></td><td><span style=white-space:pre-wrap>NA  </span></td><td><span style=white-space:pre-wrap>R (&gt;= 2.10)                  </span></td><td><span style=white-space:pre-wrap>Rcpp, methods, triebeard                                                                                                                                                                                                                                                                                                                                                                                                                                                                                                                                                                                   </span></td><td><span style=white-space:pre-wrap>Rcpp                                                  </span></td><td><span style=white-space:pre-wrap>testthat, knitr                                                                                                                                                                                                                                                   </span></td><td>NA</td><td><span style=white-space:pre-wrap>MIT + file LICENSE                    </span></td><td>NA</td><td>NA</td><td>NA</td><td>NA</td><td>yes</td><td>4.3.0</td></tr>\n",
       "\t<tr><th scope=row>usethis</th><td><span style=white-space:pre-wrap>usethis    </span></td><td>/root/anaconda3/envs/r_env/lib/R/library</td><td><span style=white-space:pre-wrap>2.2.3   </span></td><td><span style=white-space:pre-wrap>NA  </span></td><td><span style=white-space:pre-wrap>R (&gt;= 3.6)                   </span></td><td><span style=white-space:pre-wrap>cli (&gt;= 3.0.1), clipr (&gt;= 0.3.0), crayon, curl (&gt;= 2.7), desc\n",
       "(&gt;= 1.4.2), fs (&gt;= 1.3.0), gert (&gt;= 1.4.1), gh (&gt;= 1.2.1), glue\n",
       "(&gt;= 1.3.0), jsonlite, lifecycle (&gt;= 1.0.0), purrr, rappdirs,\n",
       "rlang (&gt;= 1.1.0), rprojroot (&gt;= 1.2), rstudioapi, stats, utils,\n",
       "whisker, withr (&gt;= 2.3.0), yaml                                                                                                                                                                                                                                                                                                             </span></td><td><span style=white-space:pre-wrap>NA                                                    </span></td><td><span style=white-space:pre-wrap>covr, knitr, magick, pkgload (&gt;= 1.3.2.1), rmarkdown,\n",
       "roxygen2 (&gt;= 7.1.2), spelling (&gt;= 1.2), styler (&gt;= 1.2.0),\n",
       "testthat (&gt;= 3.1.8)                                                                                                                            </span></td><td>NA</td><td><span style=white-space:pre-wrap>MIT + file LICENSE                    </span></td><td>NA</td><td>NA</td><td>NA</td><td>NA</td><td>no </td><td>4.3.3</td></tr>\n",
       "\t<tr><th scope=row>utf8</th><td><span style=white-space:pre-wrap>utf8       </span></td><td>/root/anaconda3/envs/r_env/lib/R/library</td><td><span style=white-space:pre-wrap>1.2.4   </span></td><td><span style=white-space:pre-wrap>NA  </span></td><td><span style=white-space:pre-wrap>R (&gt;= 2.10)                  </span></td><td><span style=white-space:pre-wrap>NA                                                                                                                                                                                                                                                                                                                                                                                                                                                                                                                                                                                                         </span></td><td><span style=white-space:pre-wrap>NA                                                    </span></td><td><span style=white-space:pre-wrap>cli, covr, knitr, rlang, rmarkdown, testthat (&gt;= 3.0.0),\n",
       "withr                                                                                                                                                                                                   </span></td><td>NA</td><td>Apache License (== 2.0) | file LICENSE</td><td>NA</td><td>NA</td><td>NA</td><td>NA</td><td>yes</td><td>4.3.1</td></tr>\n",
       "\t<tr><th scope=row>utils</th><td>utils      </td><td>/root/anaconda3/envs/r_env/lib/R/library</td><td>4.3.3   </td><td>base</td><td>NA                           </td><td>NA                                                                                                                                                                                                                                                                                                                                                                                                                                                                                                                                                                                                         </td><td>NA                                                    </td><td>methods, xml2, commonmark, knitr                                                                                                                                                                                                                                  </td><td>NA</td><td>Part of R 4.3.3                       </td><td>NA</td><td>NA</td><td>NA</td><td>NA</td><td>yes</td><td>4.3.3</td></tr>\n",
       "\t<tr><th scope=row>uuid</th><td><span style=white-space:pre-wrap>uuid       </span></td><td>/root/anaconda3/envs/r_env/lib/R/library</td><td><span style=white-space:pre-wrap>1.2-0   </span></td><td><span style=white-space:pre-wrap>NA  </span></td><td><span style=white-space:pre-wrap>R (&gt;= 2.9.0)                 </span></td><td><span style=white-space:pre-wrap>NA                                                                                                                                                                                                                                                                                                                                                                                                                                                                                                                                                                                                         </span></td><td><span style=white-space:pre-wrap>NA                                                    </span></td><td><span style=white-space:pre-wrap>NA                                                                                                                                                                                                                                                                </span></td><td>NA</td><td><span style=white-space:pre-wrap>MIT + file LICENSE                    </span></td><td>NA</td><td>NA</td><td>NA</td><td>NA</td><td>yes</td><td>4.3.2</td></tr>\n",
       "\t<tr><th scope=row>vctrs</th><td><span style=white-space:pre-wrap>vctrs      </span></td><td>/root/anaconda3/envs/r_env/lib/R/library</td><td><span style=white-space:pre-wrap>0.6.5   </span></td><td><span style=white-space:pre-wrap>NA  </span></td><td><span style=white-space:pre-wrap>R (&gt;= 3.5.0)                 </span></td><td><span style=white-space:pre-wrap>cli (&gt;= 3.4.0), glue, lifecycle (&gt;= 1.0.3), rlang (&gt;= 1.1.0)                                                                                                                                                                                                                                                                                                                                                                                                                                                                                                                                               </span></td><td><span style=white-space:pre-wrap>NA                                                    </span></td><td><span style=white-space:pre-wrap>bit64, covr, crayon, dplyr (&gt;= 0.8.5), generics, knitr,\n",
       "pillar (&gt;= 1.4.4), pkgdown (&gt;= 2.0.1), rmarkdown, testthat (&gt;=\n",
       "3.0.0), tibble (&gt;= 3.1.3), waldo (&gt;= 0.2.0), withr, xml2,\n",
       "zeallot                                                                       </span></td><td>NA</td><td><span style=white-space:pre-wrap>MIT + file LICENSE                    </span></td><td>NA</td><td>NA</td><td>NA</td><td>NA</td><td>yes</td><td>4.3.2</td></tr>\n",
       "\t<tr><th scope=row>viridisLite</th><td>viridisLite</td><td>/root/anaconda3/envs/r_env/lib/R/library</td><td><span style=white-space:pre-wrap>0.4.2   </span></td><td><span style=white-space:pre-wrap>NA  </span></td><td><span style=white-space:pre-wrap>R (&gt;= 2.10)                  </span></td><td><span style=white-space:pre-wrap>NA                                                                                                                                                                                                                                                                                                                                                                                                                                                                                                                                                                                                         </span></td><td><span style=white-space:pre-wrap>NA                                                    </span></td><td><span style=white-space:pre-wrap>hexbin (&gt;= 1.27.0), ggplot2 (&gt;= 1.0.1), testthat, covr                                                                                                                                                                                                            </span></td><td>NA</td><td><span style=white-space:pre-wrap>MIT + file LICENSE                    </span></td><td>NA</td><td>NA</td><td>NA</td><td>NA</td><td>no </td><td>4.3.0</td></tr>\n",
       "\t<tr><th scope=row>vroom</th><td><span style=white-space:pre-wrap>vroom      </span></td><td>/root/anaconda3/envs/r_env/lib/R/library</td><td><span style=white-space:pre-wrap>1.6.5   </span></td><td><span style=white-space:pre-wrap>NA  </span></td><td><span style=white-space:pre-wrap>R (&gt;= 3.6)                   </span></td><td><span style=white-space:pre-wrap>bit64, cli (&gt;= 3.2.0), crayon, glue, hms, lifecycle (&gt;=\n",
       "1.0.3), methods, rlang (&gt;= 0.4.2), stats, tibble (&gt;= 2.0.0),\n",
       "tidyselect, tzdb (&gt;= 0.1.1), vctrs (&gt;= 0.2.0), withr                                                                                                                                                                                                                                                                                                                                                                                                                                </span></td><td>cpp11 (&gt;= 0.2.0), progress (&gt;= 1.2.1), tzdb (&gt;= 0.1.1)</td><td><span style=white-space:pre-wrap>archive, bench (&gt;= 1.1.0), covr, curl, dplyr, forcats, fs,\n",
       "ggplot2, knitr, patchwork, prettyunits, purrr, rmarkdown,\n",
       "rstudioapi, scales, spelling, testthat (&gt;= 2.1.0), tidyr,\n",
       "utils, waldo, xml2                                                              </span></td><td>NA</td><td><span style=white-space:pre-wrap>MIT + file LICENSE                    </span></td><td>NA</td><td>NA</td><td>NA</td><td>NA</td><td>yes</td><td>4.3.2</td></tr>\n",
       "\t<tr><th scope=row>waldo</th><td><span style=white-space:pre-wrap>waldo      </span></td><td>/root/anaconda3/envs/r_env/lib/R/library</td><td><span style=white-space:pre-wrap>0.5.2   </span></td><td><span style=white-space:pre-wrap>NA  </span></td><td><span style=white-space:pre-wrap>R (&gt;= 3.6)                   </span></td><td><span style=white-space:pre-wrap>cli, diffobj (&gt;= 0.3.4), fansi, glue, methods, rematch2, rlang\n",
       "(&gt;= 1.0.0), tibble                                                                                                                                                                                                                                                                                                                                                                                                                                                                                                                         </span></td><td><span style=white-space:pre-wrap>NA                                                    </span></td><td><span style=white-space:pre-wrap>covr, R6, testthat (&gt;= 3.0.0), withr, xml2                                                                                                                                                                                                                        </span></td><td>NA</td><td><span style=white-space:pre-wrap>MIT + file LICENSE                    </span></td><td>NA</td><td>NA</td><td>NA</td><td>NA</td><td>no </td><td>4.3.3</td></tr>\n",
       "\t<tr><th scope=row>whisker</th><td>whisker    </td><td>/root/anaconda3/envs/r_env/lib/R/library</td><td>0.4.1   </td><td>NA  </td><td>NA                           </td><td>NA                                                                                                                                                                                                                                                                                                                                                                                                                                                                                                                                                                                                         </td><td>NA                                                    </td><td>markdown                                                                                                                                                                                                                                                          </td><td>NA</td><td>GPL-3                                 </td><td>NA</td><td>NA</td><td>NA</td><td>NA</td><td>no </td><td>4.3.3</td></tr>\n",
       "\t<tr><th scope=row>withr</th><td><span style=white-space:pre-wrap>withr      </span></td><td>/root/anaconda3/envs/r_env/lib/R/library</td><td><span style=white-space:pre-wrap>3.0.0   </span></td><td><span style=white-space:pre-wrap>NA  </span></td><td><span style=white-space:pre-wrap>R (&gt;= 3.5.0)                 </span></td><td><span style=white-space:pre-wrap>graphics, grDevices,                                                                                                                                                                                                                                                                                                                                                                                                                                                                                                                                                                                       </span></td><td><span style=white-space:pre-wrap>NA                                                    </span></td><td><span style=white-space:pre-wrap>callr, covr, DBI, knitr, lattice, methods, rlang, rmarkdown\n",
       "(&gt;= 2.12), RSQLite, testthat (&gt;= 3.0.0)                                                                                                                                                              </span></td><td>NA</td><td><span style=white-space:pre-wrap>MIT + file LICENSE                    </span></td><td>NA</td><td>NA</td><td>NA</td><td>NA</td><td>no </td><td>4.3.2</td></tr>\n",
       "\t<tr><th scope=row>xfun</th><td><span style=white-space:pre-wrap>xfun       </span></td><td>/root/anaconda3/envs/r_env/lib/R/library</td><td><span style=white-space:pre-wrap>0.42    </span></td><td><span style=white-space:pre-wrap>NA  </span></td><td><span style=white-space:pre-wrap>NA                           </span></td><td><span style=white-space:pre-wrap>grDevices, stats, tools                                                                                                                                                                                                                                                                                                                                                                                                                                                                                                                                                                                    </span></td><td><span style=white-space:pre-wrap>NA                                                    </span></td><td><span style=white-space:pre-wrap>testit, parallel, codetools, rstudioapi, tinytex (&gt;= 0.30),\n",
       "mime, markdown (&gt;= 1.5), knitr (&gt;= 1.42), htmltools, remotes,\n",
       "pak, rhub, renv, curl, jsonlite, magick, yaml, rmarkdown                                                                              </span></td><td>NA</td><td><span style=white-space:pre-wrap>MIT + file LICENSE                    </span></td><td>NA</td><td>NA</td><td>NA</td><td>NA</td><td>yes</td><td>4.3.2</td></tr>\n",
       "\t<tr><th scope=row>xml2</th><td><span style=white-space:pre-wrap>xml2       </span></td><td>/root/anaconda3/envs/r_env/lib/R/library</td><td><span style=white-space:pre-wrap>1.3.6   </span></td><td><span style=white-space:pre-wrap>NA  </span></td><td><span style=white-space:pre-wrap>R (&gt;= 3.6.0)                 </span></td><td><span style=white-space:pre-wrap>cli, methods, rlang (&gt;= 1.1.0)                                                                                                                                                                                                                                                                                                                                                                                                                                                                                                                                                                             </span></td><td><span style=white-space:pre-wrap>NA                                                    </span></td><td><span style=white-space:pre-wrap>covr, curl, httr, knitr, magrittr, mockery, rmarkdown,\n",
       "testthat (&gt;= 3.0.0)                                                                                                                                                                                       </span></td><td>NA</td><td><span style=white-space:pre-wrap>MIT + file LICENSE                    </span></td><td>NA</td><td>NA</td><td>NA</td><td>NA</td><td>yes</td><td>4.3.2</td></tr>\n",
       "\t<tr><th scope=row>xopen</th><td><span style=white-space:pre-wrap>xopen      </span></td><td>/root/anaconda3/envs/r_env/lib/R/library</td><td><span style=white-space:pre-wrap>1.0.0   </span></td><td><span style=white-space:pre-wrap>NA  </span></td><td><span style=white-space:pre-wrap>R (&gt;= 3.1)                   </span></td><td><span style=white-space:pre-wrap>processx                                                                                                                                                                                                                                                                                                                                                                                                                                                                                                                                                                                                   </span></td><td><span style=white-space:pre-wrap>NA                                                    </span></td><td><span style=white-space:pre-wrap>ps, testthat                                                                                                                                                                                                                                                      </span></td><td>NA</td><td><span style=white-space:pre-wrap>MIT + file LICENSE                    </span></td><td>NA</td><td>NA</td><td>NA</td><td>NA</td><td>no </td><td>4.3.3</td></tr>\n",
       "\t<tr><th scope=row>xtable</th><td><span style=white-space:pre-wrap>xtable     </span></td><td>/root/anaconda3/envs/r_env/lib/R/library</td><td><span style=white-space:pre-wrap>1.8-4   </span></td><td><span style=white-space:pre-wrap>NA  </span></td><td><span style=white-space:pre-wrap>R (&gt;= 2.10.0)                </span></td><td><span style=white-space:pre-wrap>stats, utils                                                                                                                                                                                                                                                                                                                                                                                                                                                                                                                                                                                               </span></td><td><span style=white-space:pre-wrap>NA                                                    </span></td><td><span style=white-space:pre-wrap>knitr, plm, zoo, survival                                                                                                                                                                                                                                         </span></td><td>NA</td><td><span style=white-space:pre-wrap>GPL (&gt;= 2)                            </span></td><td>NA</td><td>NA</td><td>NA</td><td>NA</td><td>no </td><td>4.3.0</td></tr>\n",
       "\t<tr><th scope=row>xts</th><td><span style=white-space:pre-wrap>xts        </span></td><td>/root/anaconda3/envs/r_env/lib/R/library</td><td><span style=white-space:pre-wrap>0.13.2  </span></td><td><span style=white-space:pre-wrap>NA  </span></td><td>R (&gt;= 3.6.0), zoo (&gt;= 1.7-12)</td><td><span style=white-space:pre-wrap>methods                                                                                                                                                                                                                                                                                                                                                                                                                                                                                                                                                                                                    </span></td><td><span style=white-space:pre-wrap>zoo                                                   </span></td><td><span style=white-space:pre-wrap>timeSeries, timeDate, tseries, chron, tinytest                                                                                                                                                                                                                    </span></td><td>NA</td><td><span style=white-space:pre-wrap>GPL (&gt;= 2)                            </span></td><td>NA</td><td>NA</td><td>NA</td><td>NA</td><td>yes</td><td>4.3.2</td></tr>\n",
       "\t<tr><th scope=row>yaml</th><td>yaml       </td><td>/root/anaconda3/envs/r_env/lib/R/library</td><td>2.3.8   </td><td>NA  </td><td>NA                           </td><td>NA                                                                                                                                                                                                                                                                                                                                                                                                                                                                                                                                                                                                         </td><td>NA                                                    </td><td>RUnit                                                                                                                                                                                                                                                             </td><td>NA</td><td>BSD_3_clause + file LICENSE           </td><td>NA</td><td>NA</td><td>NA</td><td>NA</td><td>yes</td><td>4.3.2</td></tr>\n",
       "\t<tr><th scope=row>zip</th><td>zip        </td><td>/root/anaconda3/envs/r_env/lib/R/library</td><td>2.3.1   </td><td>NA  </td><td>NA                           </td><td>NA                                                                                                                                                                                                                                                                                                                                                                                                                                                                                                                                                                                                         </td><td>NA                                                    </td><td>covr, processx, R6, testthat, withr                                                                                                                                                                                                                               </td><td>NA</td><td>MIT + file LICENSE                    </td><td>NA</td><td>NA</td><td>NA</td><td>NA</td><td>yes</td><td>4.3.3</td></tr>\n",
       "\t<tr><th scope=row>zoo</th><td><span style=white-space:pre-wrap>zoo        </span></td><td>/root/anaconda3/envs/r_env/lib/R/library</td><td><span style=white-space:pre-wrap>1.8-12  </span></td><td><span style=white-space:pre-wrap>NA  </span></td><td><span style=white-space:pre-wrap>R (&gt;= 3.1.0), stats          </span></td><td><span style=white-space:pre-wrap>utils, graphics, grDevices, lattice (&gt;= 0.20-27)                                                                                                                                                                                                                                                                                                                                                                                                                                                                                                                                                           </span></td><td><span style=white-space:pre-wrap>NA                                                    </span></td><td><span style=white-space:pre-wrap>AER, coda, chron, ggplot2 (&gt;= 3.0.0), mondate, scales,\n",
       "stinepack, strucchange, timeDate, timeSeries, tis, tseries, xts                                                                                                                                           </span></td><td>NA</td><td><span style=white-space:pre-wrap>GPL-2 | GPL-3                         </span></td><td>NA</td><td>NA</td><td>NA</td><td>NA</td><td>yes</td><td>4.3.0</td></tr>\n",
       "</tbody>\n",
       "</table>\n"
      ],
      "text/latex": [
       "A matrix: 252 × 16 of type chr\n",
       "\\begin{tabular}{r|llllllllllllllll}\n",
       "  & Package & LibPath & Version & Priority & Depends & Imports & LinkingTo & Suggests & Enhances & License & License\\_is\\_FOSS & License\\_restricts\\_use & OS\\_type & MD5sum & NeedsCompilation & Built\\\\\n",
       "\\hline\n",
       "\tDAAG & DAAG         & /root/anaconda3/envs/r\\_env/lib/R/library & 1.25.4     & NA          & R (>= 3.5.0)                                        & lattice, latticeExtra, methods, Rdpack                                                                                                   & NA   & leaps, oz, lme4, quantreg, knitr, boot, rpart, randomForest,\n",
       "MASS, survival, mgcv, rmarkdown, bookdown                                                                                         & NA             & GPL-3                     & NA  & NA & NA & NA & no  & 4.3.3\\\\\n",
       "\tDBI & DBI          & /root/anaconda3/envs/r\\_env/lib/R/library & 1.2.2      & NA          & methods, R (>= 3.0.0)                               & NA                                                                                                                                       & NA   & arrow, blob, covr, DBItest, dbplyr, downlit, dplyr, glue,\n",
       "hms, knitr, magrittr, nanoarrow (>= 0.3.0.1), RMariaDB,\n",
       "rmarkdown, rprojroot, RSQLite (>= 1.1-2), testthat (>= 3.0.0),\n",
       "vctrs, xml2 & NA             & LGPL (>= 2.1)             & NA  & NA & NA & NA & no  & 4.3.2\\\\\n",
       "\tDeriv & Deriv        & /root/anaconda3/envs/r\\_env/lib/R/library & 4.1.3      & NA          & NA                                                  & methods                                                                                                                                  & NA   & testthat                                                                                                                                                                                        & NA             & GPL (>= 3)                & NA  & NA & NA & NA & no  & 4.3.2\\\\\n",
       "\tIRdisplay & IRdisplay    & /root/anaconda3/envs/r\\_env/lib/R/library & 1.1        & NA          & R (>= 3.0.1)                                        & methods,\n",
       "repr                                                                                                                           & NA   & testthat,\n",
       "withr                                                                                                                                                                                & NA             & MIT + file LICENSE        & NA  & NA & NA & NA & NA  & 4.3.0\\\\\n",
       "\tIRkernel & IRkernel     & /root/anaconda3/envs/r\\_env/lib/R/library & 1.3.2      & NA          & R (>= 3.2.0)                                        & repr (>= 0.4.99), methods, evaluate (>= 0.10), IRdisplay (>=\n",
       "0.3.0.9999), pbdZMQ (>= 0.2-1), crayon, jsonlite (>= 0.9.6),\n",
       "uuid, digest & NA   & testthat, roxygen2                                                                                                                                                                              & NA             & MIT + file LICENSE        & NA  & NA & NA & NA & no  & 4.3.0\\\\\n",
       "\tISLR & ISLR         & /root/anaconda3/envs/r\\_env/lib/R/library & 1.4        & NA          & R (>= 3.5.0)                                        & NA                                                                                                                                       & NA   & MASS                                                                                                                                                                                            & NA             & GPL-2                     & NA  & NA & NA & NA & no  & 4.3.2\\\\\n",
       "\tKernSmooth & KernSmooth   & /root/anaconda3/envs/r\\_env/lib/R/library & 2.23-22    & recommended & R (>= 2.5.0), stats                                 & NA                                                                                                                                       & NA   & MASS, carData                                                                                                                                                                                   & NA             & Unlimited                 & NA  & NA & NA & NA & yes & 4.3.0\\\\\n",
       "\tMASS & MASS         & /root/anaconda3/envs/r\\_env/lib/R/library & 7.3-60.0.1 & recommended & R (>= 4.0), grDevices, graphics, stats, utils       & methods                                                                                                                                  & NA   & lattice, nlme, nnet, survival                                                                                                                                                                   & NA             & GPL-2 \\textbar{} GPL-3             & NA  & NA & NA & NA & yes & 4.3.3\\\\\n",
       "\tMatrix & Matrix       & /root/anaconda3/envs/r\\_env/lib/R/library & 1.6-5      & recommended & R (>= 3.5.0), methods                               & grDevices, graphics, grid, lattice, stats, utils                                                                                         & NA   & MASS, datasets, sfsmisc, tools                                                                                                                                                                  & SparseM, graph & GPL (>= 2) \\textbar{} file LICENCE & NA  & NA & NA & NA & yes & 4.3.2\\\\\n",
       "\tMatrixModels & MatrixModels & /root/anaconda3/envs/r\\_env/lib/R/library & 0.5-3      & NA          & R (>= 3.6.0)                                        & stats, methods, Matrix (>= 1.6-0)                                                                                                        & NA   & NA                                                                                                                                                                                              & NA             & GPL (>= 2)                & NA  & NA & NA & NA & no  & 4.3.3\\\\\n",
       "\tModelMetrics & ModelMetrics & /root/anaconda3/envs/r\\_env/lib/R/library & 1.2.2.2    & NA          & R (>= 3.2.2)                                        & Rcpp, data.table                                                                                                                         & Rcpp & testthat                                                                                                                                                                                        & NA             & GPL (>= 2)                & NA  & NA & NA & NA & yes & 4.3.0\\\\\n",
       "\tR6 & R6           & /root/anaconda3/envs/r\\_env/lib/R/library & 2.5.1      & NA          & R (>= 3.0)                                          & NA                                                                                                                                       & NA   & testthat, pryr                                                                                                                                                                                  & NA             & MIT + file LICENSE        & NA  & NA & NA & NA & no  & 4.3.0\\\\\n",
       "\tRColorBrewer & RColorBrewer & /root/anaconda3/envs/r\\_env/lib/R/library & 1.1-3      & NA          & R (>= 2.0.0)                                        & NA                                                                                                                                       & NA   & NA                                                                                                                                                                                              & NA             & Apache License 2.0        & NA  & NA & NA & NA & no  & 4.3.0\\\\\n",
       "\tRcpp & Rcpp         & /root/anaconda3/envs/r\\_env/lib/R/library & 1.0.12     & NA          & NA                                                  & methods, utils                                                                                                                           & NA   & tinytest, inline, rbenchmark, pkgKitten (>= 0.1.2)                                                                                                                                              & NA             & GPL (>= 2)                & NA  & NA & NA & NA & yes & 4.3.2\\\\\n",
       "\tRcppEigen & RcppEigen    & /root/anaconda3/envs/r\\_env/lib/R/library & 0.3.4.0.0  & NA          & R (>= 3.6.0)                                        & Rcpp (>= 0.11.0), stats, utils                                                                                                           & Rcpp & Matrix, inline, tinytest, pkgKitten, microbenchmark                                                                                                                                             & NA             & GPL (>= 2) \\textbar{} file LICENSE & NA  & NA & NA & NA & yes & 4.3.2\\\\\n",
       "\tRdpack & Rdpack       & /root/anaconda3/envs/r\\_env/lib/R/library & 2.6        & NA          & R (>= 2.15.0), methods                              & tools, utils, rbibutils (>= 1.3)                                                                                                         & NA   & grDevices, testthat, rstudioapi, rprojroot, gbRd                                                                                                                                                & NA             & GPL (>= 2)                & NA  & NA & NA & NA & no  & 4.3.2\\\\\n",
       "\tRttf2pt1 & Rttf2pt1     & /root/anaconda3/envs/r\\_env/lib/R/library & 1.3.12     & NA          & R (>= 2.15)                                         & NA                                                                                                                                       & NA   & NA                                                                                                                                                                                              & NA             & file LICENSE              & yes & NA & NA & NA & yes & 4.3.3\\\\\n",
       "\tSQUAREM & SQUAREM      & /root/anaconda3/envs/r\\_env/lib/R/library & 2021.1     & NA          & R (>= 3.0)                                          & NA                                                                                                                                       & NA   & setRNG                                                                                                                                                                                          & NA             & GPL (>= 2)                & NA  & NA & NA & NA & no  & 4.3.0\\\\\n",
       "\tSparseM & SparseM      & /root/anaconda3/envs/r\\_env/lib/R/library & 1.81       & NA          & R (>= 2.15), methods                                & graphics, stats, utils                                                                                                                   & NA   & NA                                                                                                                                                                                              & NA             & GPL (>= 2)                & NA  & NA & NA & NA & yes & 4.3.3\\\\\n",
       "\tTTR & TTR          & /root/anaconda3/envs/r\\_env/lib/R/library & 0.24.4     & NA          & NA                                                  & xts (>= 0.10-0), zoo, curl                                                                                                               & xts  & RUnit                                                                                                                                                                                           & quantmod       & GPL (>= 2)                & NA  & NA & NA & NA & yes & 4.3.2\\\\\n",
       "\tabind & abind        & /root/anaconda3/envs/r\\_env/lib/R/library & 1.4-5      & NA          & R (>= 1.5.0)                                        & methods, utils                                                                                                                           & NA   & NA                                                                                                                                                                                              & NA             & LGPL (>= 2)               & NA  & NA & NA & NA & no  & 4.3.3\\\\\n",
       "\taplpack & aplpack      & /root/anaconda3/envs/r\\_env/lib/R/library & 1.3.5      & NA          & R (>= 3.0.0)                                        & NA                                                                                                                                       & NA   & tkrplot, jpeg, png, splines, utils, tcltk                                                                                                                                                       & NA             & GPL (>= 2)                & NA  & NA & NA & NA & no  & 4.3.3\\\\\n",
       "\taskpass & askpass      & /root/anaconda3/envs/r\\_env/lib/R/library & 1.2.0      & NA          & NA                                                  & sys (>= 2.1)                                                                                                                             & NA   & testthat                                                                                                                                                                                        & NA             & MIT + file LICENSE        & NA  & NA & NA & NA & yes & 4.3.1\\\\\n",
       "\tassertthat & assertthat   & /root/anaconda3/envs/r\\_env/lib/R/library & 0.2.1      & NA          & NA                                                  & tools                                                                                                                                    & NA   & testthat, covr                                                                                                                                                                                  & NA             & GPL-3                     & NA  & NA & NA & NA & no  & 4.3.0\\\\\n",
       "\tbackports & backports    & /root/anaconda3/envs/r\\_env/lib/R/library & 1.4.1      & NA          & R (>= 3.0.0)                                        & NA                                                                                                                                       & NA   & NA                                                                                                                                                                                              & NA             & GPL-2 \\textbar{} GPL-3             & NA  & NA & NA & NA & yes & 4.3.0\\\\\n",
       "\tbase & base         & /root/anaconda3/envs/r\\_env/lib/R/library & 4.3.3      & base        & NA                                                  & NA                                                                                                                                       & NA   & methods                                                                                                                                                                                         & NA             & Part of R 4.3.3           & NA  & NA & NA & NA & NA  & 4.3.3\\\\\n",
       "\tbase64enc & base64enc    & /root/anaconda3/envs/r\\_env/lib/R/library & 0.1-3      & NA          & R (>= 2.9.0)                                        & NA                                                                                                                                       & NA   & NA                                                                                                                                                                                              & png            & GPL-2 \\textbar{} GPL-3             & NA  & NA & NA & NA & yes & 4.3.0\\\\\n",
       "\tbit & bit          & /root/anaconda3/envs/r\\_env/lib/R/library & 4.0.5      & NA          & R (>= 2.9.2)                                        & NA                                                                                                                                       & NA   & testthat (>= 0.11.0), roxygen2, knitr, rmarkdown,\n",
       "microbenchmark, bit64 (>= 4.0.0), ff (>= 4.0.0)                                                                                              & NA             & GPL-2 \\textbar{} GPL-3             & NA  & NA & NA & NA & yes & 4.3.0\\\\\n",
       "\tbit64 & bit64        & /root/anaconda3/envs/r\\_env/lib/R/library & 4.0.5      & NA          & R (>= 3.0.1), bit (>= 4.0.0), utils, methods, stats & NA                                                                                                                                       & NA   & NA                                                                                                                                                                                              & NA             & GPL-2 \\textbar{} GPL-3             & NA  & NA & NA & NA & yes & 4.3.0\\\\\n",
       "\tblob & blob         & /root/anaconda3/envs/r\\_env/lib/R/library & 1.2.4      & NA          & NA                                                  & methods, rlang, vctrs (>= 0.2.1)                                                                                                         & NA   & covr, crayon, pillar (>= 1.2.1), testthat                                                                                                                                                       & NA             & MIT + file LICENSE        & NA  & NA & NA & NA & no  & 4.3.0\\\\\n",
       "\t⋮ & ⋮ & ⋮ & ⋮ & ⋮ & ⋮ & ⋮ & ⋮ & ⋮ & ⋮ & ⋮ & ⋮ & ⋮ & ⋮ & ⋮ & ⋮ & ⋮\\\\\n",
       "\ttibble & tibble      & /root/anaconda3/envs/r\\_env/lib/R/library & 3.2.1    & NA   & R (>= 3.4.0)                  & fansi (>= 0.4.0), lifecycle (>= 1.0.0), magrittr, methods,\n",
       "pillar (>= 1.8.1), pkgconfig, rlang (>= 1.0.2), utils, vctrs\n",
       "(>= 0.4.2)                                                                                                                                                                                                                                                                                                                                                                                                                                                                        & NA                                                     & bench, bit64, blob, brio, callr, cli, covr, crayon (>=\n",
       "1.3.4), DiagrammeR, dplyr, evaluate, formattable, ggplot2,\n",
       "here, hms, htmltools, knitr, lubridate, mockr, nycflights13,\n",
       "pkgbuild, pkgload, purrr, rmarkdown, stringi, testthat (>=\n",
       "3.0.2), tidyr, withr & NA & MIT + file LICENSE                     & NA & NA & NA & NA & yes & 4.3.0\\\\\n",
       "\ttidyr & tidyr       & /root/anaconda3/envs/r\\_env/lib/R/library & 1.3.1    & NA   & R (>= 3.6)                    & cli (>= 3.4.1), dplyr (>= 1.0.10), glue, lifecycle (>= 1.0.3),\n",
       "magrittr, purrr (>= 1.0.1), rlang (>= 1.1.1), stringr (>=\n",
       "1.5.0), tibble (>= 2.1.1), tidyselect (>= 1.2.0), utils, vctrs\n",
       "(>= 0.5.2)                                                                                                                                                                                                                                                                                                                                                                                                       & cpp11 (>= 0.4.0)                                       & covr, data.table, knitr, readr, repurrrsive (>= 1.1.0),\n",
       "rmarkdown, testthat (>= 3.0.0)                                                                                                                                                                            & NA & MIT + file LICENSE                     & NA & NA & NA & NA & yes & 4.3.2\\\\\n",
       "\ttidyselect & tidyselect  & /root/anaconda3/envs/r\\_env/lib/R/library & 1.2.0    & NA   & R (>= 3.4)                    & cli (>= 3.3.0), glue (>= 1.3.0), lifecycle (>= 1.0.3), rlang\n",
       "(>= 1.0.4), vctrs (>= 0.4.1), withr                                                                                                                                                                                                                                                                                                                                                                                                                                                                                                           & NA                                                     & covr, crayon, dplyr, knitr, magrittr, rmarkdown, stringr,\n",
       "testthat (>= 3.1.1), tibble (>= 2.1.3)                                                                                                                                                                  & NA & MIT + file LICENSE                     & NA & NA & NA & NA & no  & 4.3.0\\\\\n",
       "\ttidyverse & tidyverse   & /root/anaconda3/envs/r\\_env/lib/R/library & 2.0.0    & NA   & R (>= 3.3)                    & broom (>= 1.0.3), conflicted (>= 1.2.0), cli (>= 3.6.0),\n",
       "dbplyr (>= 2.3.0), dplyr (>= 1.1.0), dtplyr (>= 1.2.2), forcats\n",
       "(>= 1.0.0), ggplot2 (>= 3.4.1), googledrive (>= 2.0.0),\n",
       "googlesheets4 (>= 1.0.1), haven (>= 2.5.1), hms (>= 1.1.2),\n",
       "httr (>= 1.4.4), jsonlite (>= 1.8.4), lubridate (>= 1.9.2),\n",
       "magrittr (>= 2.0.3), modelr (>= 0.1.10), pillar (>= 1.8.1),\n",
       "purrr (>= 1.0.1), ragg (>= 1.2.5), readr (>= 2.1.4), readxl (>=\n",
       "1.4.2), reprex (>= 2.0.2), rlang (>= 1.0.6), rstudioapi (>=\n",
       "0.14), rvest (>= 1.0.3), stringr (>= 1.5.0), tibble (>= 3.1.8),\n",
       "tidyr (>= 1.3.0), xml2 (>= 1.3.3) & NA                                                     & covr (>= 3.6.1), feather (>= 0.3.5), glue (>= 1.6.2), mockr\n",
       "(>= 0.2.0), knitr (>= 1.41), rmarkdown (>= 2.20), testthat (>=\n",
       "3.1.6)                                                                                                                                & NA & MIT + file LICENSE                     & NA & NA & NA & NA & no  & 4.3.3\\\\\n",
       "\ttimeDate & timeDate    & /root/anaconda3/envs/r\\_env/lib/R/library & 4032.109 & NA   & R (>= 3.6.0), methods         & graphics, utils, stats                                                                                                                                                                                                                                                                                                                                                                                                                                                                                                                                                                                      & NA                                                     & RUnit                                                                                                                                                                                                                                                              & NA & GPL (>= 2)                             & NA & NA & NA & NA & no  & 4.3.2\\\\\n",
       "\ttimechange & timechange  & /root/anaconda3/envs/r\\_env/lib/R/library & 0.3.0    & NA   & R (>= 3.3)                    & NA                                                                                                                                                                                                                                                                                                                                                                                                                                                                                                                                                                                                          & cpp11 (>= 0.2.7)                                       & testthat (>= 0.7.1.99), knitr                                                                                                                                                                                                                                      & NA & GPL (>= 3)                             & NA & NA & NA & NA & yes & 4.3.2\\\\\n",
       "\ttinytex & tinytex     & /root/anaconda3/envs/r\\_env/lib/R/library & 0.49     & NA   & NA                            & xfun (>= 0.29)                                                                                                                                                                                                                                                                                                                                                                                                                                                                                                                                                                                              & NA                                                     & testit, rstudioapi                                                                                                                                                                                                                                                 & NA & MIT + file LICENSE                     & NA & NA & NA & NA & no  & 4.3.2\\\\\n",
       "\ttools & tools       & /root/anaconda3/envs/r\\_env/lib/R/library & 4.3.3    & base & NA                            & NA                                                                                                                                                                                                                                                                                                                                                                                                                                                                                                                                                                                                          & NA                                                     & codetools, methods, xml2, curl, commonmark, knitr, xfun,\n",
       "mathjaxr, V8                                                                                                                                                                                             & NA & Part of R 4.3.3                        & NA & NA & NA & NA & yes & 4.3.3\\\\\n",
       "\ttriebeard & triebeard   & /root/anaconda3/envs/r\\_env/lib/R/library & 0.4.1    & NA   & NA                            & Rcpp                                                                                                                                                                                                                                                                                                                                                                                                                                                                                                                                                                                                        & Rcpp                                                   & knitr, rmarkdown, testthat                                                                                                                                                                                                                                         & NA & MIT + file LICENSE                     & NA & NA & NA & NA & yes & 4.3.0\\\\\n",
       "\ttzdb & tzdb        & /root/anaconda3/envs/r\\_env/lib/R/library & 0.4.0    & NA   & R (>= 3.5.0)                  & NA                                                                                                                                                                                                                                                                                                                                                                                                                                                                                                                                                                                                          & cpp11 (>= 0.4.2)                                       & covr, testthat (>= 3.0.0)                                                                                                                                                                                                                                          & NA & MIT + file LICENSE                     & NA & NA & NA & NA & yes & 4.3.0\\\\\n",
       "\turlchecker & urlchecker  & /root/anaconda3/envs/r\\_env/lib/R/library & 1.0.1    & NA   & R (>= 3.3)                    & cli, curl, tools, xml2                                                                                                                                                                                                                                                                                                                                                                                                                                                                                                                                                                                      & NA                                                     & covr                                                                                                                                                                                                                                                               & NA & GPL-3                                  & NA & NA & NA & NA & no  & 4.3.3\\\\\n",
       "\turltools & urltools    & /root/anaconda3/envs/r\\_env/lib/R/library & 1.7.3    & NA   & R (>= 2.10)                   & Rcpp, methods, triebeard                                                                                                                                                                                                                                                                                                                                                                                                                                                                                                                                                                                    & Rcpp                                                   & testthat, knitr                                                                                                                                                                                                                                                    & NA & MIT + file LICENSE                     & NA & NA & NA & NA & yes & 4.3.0\\\\\n",
       "\tusethis & usethis     & /root/anaconda3/envs/r\\_env/lib/R/library & 2.2.3    & NA   & R (>= 3.6)                    & cli (>= 3.0.1), clipr (>= 0.3.0), crayon, curl (>= 2.7), desc\n",
       "(>= 1.4.2), fs (>= 1.3.0), gert (>= 1.4.1), gh (>= 1.2.1), glue\n",
       "(>= 1.3.0), jsonlite, lifecycle (>= 1.0.0), purrr, rappdirs,\n",
       "rlang (>= 1.1.0), rprojroot (>= 1.2), rstudioapi, stats, utils,\n",
       "whisker, withr (>= 2.3.0), yaml                                                                                                                                                                                                                                                                                                              & NA                                                     & covr, knitr, magick, pkgload (>= 1.3.2.1), rmarkdown,\n",
       "roxygen2 (>= 7.1.2), spelling (>= 1.2), styler (>= 1.2.0),\n",
       "testthat (>= 3.1.8)                                                                                                                             & NA & MIT + file LICENSE                     & NA & NA & NA & NA & no  & 4.3.3\\\\\n",
       "\tutf8 & utf8        & /root/anaconda3/envs/r\\_env/lib/R/library & 1.2.4    & NA   & R (>= 2.10)                   & NA                                                                                                                                                                                                                                                                                                                                                                                                                                                                                                                                                                                                          & NA                                                     & cli, covr, knitr, rlang, rmarkdown, testthat (>= 3.0.0),\n",
       "withr                                                                                                                                                                                                    & NA & Apache License (== 2.0) \\textbar{} file LICENSE & NA & NA & NA & NA & yes & 4.3.1\\\\\n",
       "\tutils & utils       & /root/anaconda3/envs/r\\_env/lib/R/library & 4.3.3    & base & NA                            & NA                                                                                                                                                                                                                                                                                                                                                                                                                                                                                                                                                                                                          & NA                                                     & methods, xml2, commonmark, knitr                                                                                                                                                                                                                                   & NA & Part of R 4.3.3                        & NA & NA & NA & NA & yes & 4.3.3\\\\\n",
       "\tuuid & uuid        & /root/anaconda3/envs/r\\_env/lib/R/library & 1.2-0    & NA   & R (>= 2.9.0)                  & NA                                                                                                                                                                                                                                                                                                                                                                                                                                                                                                                                                                                                          & NA                                                     & NA                                                                                                                                                                                                                                                                 & NA & MIT + file LICENSE                     & NA & NA & NA & NA & yes & 4.3.2\\\\\n",
       "\tvctrs & vctrs       & /root/anaconda3/envs/r\\_env/lib/R/library & 0.6.5    & NA   & R (>= 3.5.0)                  & cli (>= 3.4.0), glue, lifecycle (>= 1.0.3), rlang (>= 1.1.0)                                                                                                                                                                                                                                                                                                                                                                                                                                                                                                                                                & NA                                                     & bit64, covr, crayon, dplyr (>= 0.8.5), generics, knitr,\n",
       "pillar (>= 1.4.4), pkgdown (>= 2.0.1), rmarkdown, testthat (>=\n",
       "3.0.0), tibble (>= 3.1.3), waldo (>= 0.2.0), withr, xml2,\n",
       "zeallot                                                                        & NA & MIT + file LICENSE                     & NA & NA & NA & NA & yes & 4.3.2\\\\\n",
       "\tviridisLite & viridisLite & /root/anaconda3/envs/r\\_env/lib/R/library & 0.4.2    & NA   & R (>= 2.10)                   & NA                                                                                                                                                                                                                                                                                                                                                                                                                                                                                                                                                                                                          & NA                                                     & hexbin (>= 1.27.0), ggplot2 (>= 1.0.1), testthat, covr                                                                                                                                                                                                             & NA & MIT + file LICENSE                     & NA & NA & NA & NA & no  & 4.3.0\\\\\n",
       "\tvroom & vroom       & /root/anaconda3/envs/r\\_env/lib/R/library & 1.6.5    & NA   & R (>= 3.6)                    & bit64, cli (>= 3.2.0), crayon, glue, hms, lifecycle (>=\n",
       "1.0.3), methods, rlang (>= 0.4.2), stats, tibble (>= 2.0.0),\n",
       "tidyselect, tzdb (>= 0.1.1), vctrs (>= 0.2.0), withr                                                                                                                                                                                                                                                                                                                                                                                                                                 & cpp11 (>= 0.2.0), progress (>= 1.2.1), tzdb (>= 0.1.1) & archive, bench (>= 1.1.0), covr, curl, dplyr, forcats, fs,\n",
       "ggplot2, knitr, patchwork, prettyunits, purrr, rmarkdown,\n",
       "rstudioapi, scales, spelling, testthat (>= 2.1.0), tidyr,\n",
       "utils, waldo, xml2                                                               & NA & MIT + file LICENSE                     & NA & NA & NA & NA & yes & 4.3.2\\\\\n",
       "\twaldo & waldo       & /root/anaconda3/envs/r\\_env/lib/R/library & 0.5.2    & NA   & R (>= 3.6)                    & cli, diffobj (>= 0.3.4), fansi, glue, methods, rematch2, rlang\n",
       "(>= 1.0.0), tibble                                                                                                                                                                                                                                                                                                                                                                                                                                                                                                                          & NA                                                     & covr, R6, testthat (>= 3.0.0), withr, xml2                                                                                                                                                                                                                         & NA & MIT + file LICENSE                     & NA & NA & NA & NA & no  & 4.3.3\\\\\n",
       "\twhisker & whisker     & /root/anaconda3/envs/r\\_env/lib/R/library & 0.4.1    & NA   & NA                            & NA                                                                                                                                                                                                                                                                                                                                                                                                                                                                                                                                                                                                          & NA                                                     & markdown                                                                                                                                                                                                                                                           & NA & GPL-3                                  & NA & NA & NA & NA & no  & 4.3.3\\\\\n",
       "\twithr & withr       & /root/anaconda3/envs/r\\_env/lib/R/library & 3.0.0    & NA   & R (>= 3.5.0)                  & graphics, grDevices,                                                                                                                                                                                                                                                                                                                                                                                                                                                                                                                                                                                        & NA                                                     & callr, covr, DBI, knitr, lattice, methods, rlang, rmarkdown\n",
       "(>= 2.12), RSQLite, testthat (>= 3.0.0)                                                                                                                                                               & NA & MIT + file LICENSE                     & NA & NA & NA & NA & no  & 4.3.2\\\\\n",
       "\txfun & xfun        & /root/anaconda3/envs/r\\_env/lib/R/library & 0.42     & NA   & NA                            & grDevices, stats, tools                                                                                                                                                                                                                                                                                                                                                                                                                                                                                                                                                                                     & NA                                                     & testit, parallel, codetools, rstudioapi, tinytex (>= 0.30),\n",
       "mime, markdown (>= 1.5), knitr (>= 1.42), htmltools, remotes,\n",
       "pak, rhub, renv, curl, jsonlite, magick, yaml, rmarkdown                                                                               & NA & MIT + file LICENSE                     & NA & NA & NA & NA & yes & 4.3.2\\\\\n",
       "\txml2 & xml2        & /root/anaconda3/envs/r\\_env/lib/R/library & 1.3.6    & NA   & R (>= 3.6.0)                  & cli, methods, rlang (>= 1.1.0)                                                                                                                                                                                                                                                                                                                                                                                                                                                                                                                                                                              & NA                                                     & covr, curl, httr, knitr, magrittr, mockery, rmarkdown,\n",
       "testthat (>= 3.0.0)                                                                                                                                                                                        & NA & MIT + file LICENSE                     & NA & NA & NA & NA & yes & 4.3.2\\\\\n",
       "\txopen & xopen       & /root/anaconda3/envs/r\\_env/lib/R/library & 1.0.0    & NA   & R (>= 3.1)                    & processx                                                                                                                                                                                                                                                                                                                                                                                                                                                                                                                                                                                                    & NA                                                     & ps, testthat                                                                                                                                                                                                                                                       & NA & MIT + file LICENSE                     & NA & NA & NA & NA & no  & 4.3.3\\\\\n",
       "\txtable & xtable      & /root/anaconda3/envs/r\\_env/lib/R/library & 1.8-4    & NA   & R (>= 2.10.0)                 & stats, utils                                                                                                                                                                                                                                                                                                                                                                                                                                                                                                                                                                                                & NA                                                     & knitr, plm, zoo, survival                                                                                                                                                                                                                                          & NA & GPL (>= 2)                             & NA & NA & NA & NA & no  & 4.3.0\\\\\n",
       "\txts & xts         & /root/anaconda3/envs/r\\_env/lib/R/library & 0.13.2   & NA   & R (>= 3.6.0), zoo (>= 1.7-12) & methods                                                                                                                                                                                                                                                                                                                                                                                                                                                                                                                                                                                                     & zoo                                                    & timeSeries, timeDate, tseries, chron, tinytest                                                                                                                                                                                                                     & NA & GPL (>= 2)                             & NA & NA & NA & NA & yes & 4.3.2\\\\\n",
       "\tyaml & yaml        & /root/anaconda3/envs/r\\_env/lib/R/library & 2.3.8    & NA   & NA                            & NA                                                                                                                                                                                                                                                                                                                                                                                                                                                                                                                                                                                                          & NA                                                     & RUnit                                                                                                                                                                                                                                                              & NA & BSD\\_3\\_clause + file LICENSE            & NA & NA & NA & NA & yes & 4.3.2\\\\\n",
       "\tzip & zip         & /root/anaconda3/envs/r\\_env/lib/R/library & 2.3.1    & NA   & NA                            & NA                                                                                                                                                                                                                                                                                                                                                                                                                                                                                                                                                                                                          & NA                                                     & covr, processx, R6, testthat, withr                                                                                                                                                                                                                                & NA & MIT + file LICENSE                     & NA & NA & NA & NA & yes & 4.3.3\\\\\n",
       "\tzoo & zoo         & /root/anaconda3/envs/r\\_env/lib/R/library & 1.8-12   & NA   & R (>= 3.1.0), stats           & utils, graphics, grDevices, lattice (>= 0.20-27)                                                                                                                                                                                                                                                                                                                                                                                                                                                                                                                                                            & NA                                                     & AER, coda, chron, ggplot2 (>= 3.0.0), mondate, scales,\n",
       "stinepack, strucchange, timeDate, timeSeries, tis, tseries, xts                                                                                                                                            & NA & GPL-2 \\textbar{} GPL-3                          & NA & NA & NA & NA & yes & 4.3.0\\\\\n",
       "\\end{tabular}\n"
      ],
      "text/markdown": [
       "\n",
       "A matrix: 252 × 16 of type chr\n",
       "\n",
       "| <!--/--> | Package | LibPath | Version | Priority | Depends | Imports | LinkingTo | Suggests | Enhances | License | License_is_FOSS | License_restricts_use | OS_type | MD5sum | NeedsCompilation | Built |\n",
       "|---|---|---|---|---|---|---|---|---|---|---|---|---|---|---|---|---|\n",
       "| DAAG | DAAG         | /root/anaconda3/envs/r_env/lib/R/library | 1.25.4     | NA          | R (&gt;= 3.5.0)                                        | lattice, latticeExtra, methods, Rdpack                                                                                                   | NA   | leaps, oz, lme4, quantreg, knitr, boot, rpart, randomForest,\n",
       "MASS, survival, mgcv, rmarkdown, bookdown                                                                                         | NA             | GPL-3                     | NA  | NA | NA | NA | no  | 4.3.3 |\n",
       "| DBI | DBI          | /root/anaconda3/envs/r_env/lib/R/library | 1.2.2      | NA          | methods, R (&gt;= 3.0.0)                               | NA                                                                                                                                       | NA   | arrow, blob, covr, DBItest, dbplyr, downlit, dplyr, glue,\n",
       "hms, knitr, magrittr, nanoarrow (&gt;= 0.3.0.1), RMariaDB,\n",
       "rmarkdown, rprojroot, RSQLite (&gt;= 1.1-2), testthat (&gt;= 3.0.0),\n",
       "vctrs, xml2 | NA             | LGPL (&gt;= 2.1)             | NA  | NA | NA | NA | no  | 4.3.2 |\n",
       "| Deriv | Deriv        | /root/anaconda3/envs/r_env/lib/R/library | 4.1.3      | NA          | NA                                                  | methods                                                                                                                                  | NA   | testthat                                                                                                                                                                                        | NA             | GPL (&gt;= 3)                | NA  | NA | NA | NA | no  | 4.3.2 |\n",
       "| IRdisplay | IRdisplay    | /root/anaconda3/envs/r_env/lib/R/library | 1.1        | NA          | R (&gt;= 3.0.1)                                        | methods,\n",
       "repr                                                                                                                           | NA   | testthat,\n",
       "withr                                                                                                                                                                                | NA             | MIT + file LICENSE        | NA  | NA | NA | NA | NA  | 4.3.0 |\n",
       "| IRkernel | IRkernel     | /root/anaconda3/envs/r_env/lib/R/library | 1.3.2      | NA          | R (&gt;= 3.2.0)                                        | repr (&gt;= 0.4.99), methods, evaluate (&gt;= 0.10), IRdisplay (&gt;=\n",
       "0.3.0.9999), pbdZMQ (&gt;= 0.2-1), crayon, jsonlite (&gt;= 0.9.6),\n",
       "uuid, digest | NA   | testthat, roxygen2                                                                                                                                                                              | NA             | MIT + file LICENSE        | NA  | NA | NA | NA | no  | 4.3.0 |\n",
       "| ISLR | ISLR         | /root/anaconda3/envs/r_env/lib/R/library | 1.4        | NA          | R (&gt;= 3.5.0)                                        | NA                                                                                                                                       | NA   | MASS                                                                                                                                                                                            | NA             | GPL-2                     | NA  | NA | NA | NA | no  | 4.3.2 |\n",
       "| KernSmooth | KernSmooth   | /root/anaconda3/envs/r_env/lib/R/library | 2.23-22    | recommended | R (&gt;= 2.5.0), stats                                 | NA                                                                                                                                       | NA   | MASS, carData                                                                                                                                                                                   | NA             | Unlimited                 | NA  | NA | NA | NA | yes | 4.3.0 |\n",
       "| MASS | MASS         | /root/anaconda3/envs/r_env/lib/R/library | 7.3-60.0.1 | recommended | R (&gt;= 4.0), grDevices, graphics, stats, utils       | methods                                                                                                                                  | NA   | lattice, nlme, nnet, survival                                                                                                                                                                   | NA             | GPL-2 | GPL-3             | NA  | NA | NA | NA | yes | 4.3.3 |\n",
       "| Matrix | Matrix       | /root/anaconda3/envs/r_env/lib/R/library | 1.6-5      | recommended | R (&gt;= 3.5.0), methods                               | grDevices, graphics, grid, lattice, stats, utils                                                                                         | NA   | MASS, datasets, sfsmisc, tools                                                                                                                                                                  | SparseM, graph | GPL (&gt;= 2) | file LICENCE | NA  | NA | NA | NA | yes | 4.3.2 |\n",
       "| MatrixModels | MatrixModels | /root/anaconda3/envs/r_env/lib/R/library | 0.5-3      | NA          | R (&gt;= 3.6.0)                                        | stats, methods, Matrix (&gt;= 1.6-0)                                                                                                        | NA   | NA                                                                                                                                                                                              | NA             | GPL (&gt;= 2)                | NA  | NA | NA | NA | no  | 4.3.3 |\n",
       "| ModelMetrics | ModelMetrics | /root/anaconda3/envs/r_env/lib/R/library | 1.2.2.2    | NA          | R (&gt;= 3.2.2)                                        | Rcpp, data.table                                                                                                                         | Rcpp | testthat                                                                                                                                                                                        | NA             | GPL (&gt;= 2)                | NA  | NA | NA | NA | yes | 4.3.0 |\n",
       "| R6 | R6           | /root/anaconda3/envs/r_env/lib/R/library | 2.5.1      | NA          | R (&gt;= 3.0)                                          | NA                                                                                                                                       | NA   | testthat, pryr                                                                                                                                                                                  | NA             | MIT + file LICENSE        | NA  | NA | NA | NA | no  | 4.3.0 |\n",
       "| RColorBrewer | RColorBrewer | /root/anaconda3/envs/r_env/lib/R/library | 1.1-3      | NA          | R (&gt;= 2.0.0)                                        | NA                                                                                                                                       | NA   | NA                                                                                                                                                                                              | NA             | Apache License 2.0        | NA  | NA | NA | NA | no  | 4.3.0 |\n",
       "| Rcpp | Rcpp         | /root/anaconda3/envs/r_env/lib/R/library | 1.0.12     | NA          | NA                                                  | methods, utils                                                                                                                           | NA   | tinytest, inline, rbenchmark, pkgKitten (&gt;= 0.1.2)                                                                                                                                              | NA             | GPL (&gt;= 2)                | NA  | NA | NA | NA | yes | 4.3.2 |\n",
       "| RcppEigen | RcppEigen    | /root/anaconda3/envs/r_env/lib/R/library | 0.3.4.0.0  | NA          | R (&gt;= 3.6.0)                                        | Rcpp (&gt;= 0.11.0), stats, utils                                                                                                           | Rcpp | Matrix, inline, tinytest, pkgKitten, microbenchmark                                                                                                                                             | NA             | GPL (&gt;= 2) | file LICENSE | NA  | NA | NA | NA | yes | 4.3.2 |\n",
       "| Rdpack | Rdpack       | /root/anaconda3/envs/r_env/lib/R/library | 2.6        | NA          | R (&gt;= 2.15.0), methods                              | tools, utils, rbibutils (&gt;= 1.3)                                                                                                         | NA   | grDevices, testthat, rstudioapi, rprojroot, gbRd                                                                                                                                                | NA             | GPL (&gt;= 2)                | NA  | NA | NA | NA | no  | 4.3.2 |\n",
       "| Rttf2pt1 | Rttf2pt1     | /root/anaconda3/envs/r_env/lib/R/library | 1.3.12     | NA          | R (&gt;= 2.15)                                         | NA                                                                                                                                       | NA   | NA                                                                                                                                                                                              | NA             | file LICENSE              | yes | NA | NA | NA | yes | 4.3.3 |\n",
       "| SQUAREM | SQUAREM      | /root/anaconda3/envs/r_env/lib/R/library | 2021.1     | NA          | R (&gt;= 3.0)                                          | NA                                                                                                                                       | NA   | setRNG                                                                                                                                                                                          | NA             | GPL (&gt;= 2)                | NA  | NA | NA | NA | no  | 4.3.0 |\n",
       "| SparseM | SparseM      | /root/anaconda3/envs/r_env/lib/R/library | 1.81       | NA          | R (&gt;= 2.15), methods                                | graphics, stats, utils                                                                                                                   | NA   | NA                                                                                                                                                                                              | NA             | GPL (&gt;= 2)                | NA  | NA | NA | NA | yes | 4.3.3 |\n",
       "| TTR | TTR          | /root/anaconda3/envs/r_env/lib/R/library | 0.24.4     | NA          | NA                                                  | xts (&gt;= 0.10-0), zoo, curl                                                                                                               | xts  | RUnit                                                                                                                                                                                           | quantmod       | GPL (&gt;= 2)                | NA  | NA | NA | NA | yes | 4.3.2 |\n",
       "| abind | abind        | /root/anaconda3/envs/r_env/lib/R/library | 1.4-5      | NA          | R (&gt;= 1.5.0)                                        | methods, utils                                                                                                                           | NA   | NA                                                                                                                                                                                              | NA             | LGPL (&gt;= 2)               | NA  | NA | NA | NA | no  | 4.3.3 |\n",
       "| aplpack | aplpack      | /root/anaconda3/envs/r_env/lib/R/library | 1.3.5      | NA          | R (&gt;= 3.0.0)                                        | NA                                                                                                                                       | NA   | tkrplot, jpeg, png, splines, utils, tcltk                                                                                                                                                       | NA             | GPL (&gt;= 2)                | NA  | NA | NA | NA | no  | 4.3.3 |\n",
       "| askpass | askpass      | /root/anaconda3/envs/r_env/lib/R/library | 1.2.0      | NA          | NA                                                  | sys (&gt;= 2.1)                                                                                                                             | NA   | testthat                                                                                                                                                                                        | NA             | MIT + file LICENSE        | NA  | NA | NA | NA | yes | 4.3.1 |\n",
       "| assertthat | assertthat   | /root/anaconda3/envs/r_env/lib/R/library | 0.2.1      | NA          | NA                                                  | tools                                                                                                                                    | NA   | testthat, covr                                                                                                                                                                                  | NA             | GPL-3                     | NA  | NA | NA | NA | no  | 4.3.0 |\n",
       "| backports | backports    | /root/anaconda3/envs/r_env/lib/R/library | 1.4.1      | NA          | R (&gt;= 3.0.0)                                        | NA                                                                                                                                       | NA   | NA                                                                                                                                                                                              | NA             | GPL-2 | GPL-3             | NA  | NA | NA | NA | yes | 4.3.0 |\n",
       "| base | base         | /root/anaconda3/envs/r_env/lib/R/library | 4.3.3      | base        | NA                                                  | NA                                                                                                                                       | NA   | methods                                                                                                                                                                                         | NA             | Part of R 4.3.3           | NA  | NA | NA | NA | NA  | 4.3.3 |\n",
       "| base64enc | base64enc    | /root/anaconda3/envs/r_env/lib/R/library | 0.1-3      | NA          | R (&gt;= 2.9.0)                                        | NA                                                                                                                                       | NA   | NA                                                                                                                                                                                              | png            | GPL-2 | GPL-3             | NA  | NA | NA | NA | yes | 4.3.0 |\n",
       "| bit | bit          | /root/anaconda3/envs/r_env/lib/R/library | 4.0.5      | NA          | R (&gt;= 2.9.2)                                        | NA                                                                                                                                       | NA   | testthat (&gt;= 0.11.0), roxygen2, knitr, rmarkdown,\n",
       "microbenchmark, bit64 (&gt;= 4.0.0), ff (&gt;= 4.0.0)                                                                                              | NA             | GPL-2 | GPL-3             | NA  | NA | NA | NA | yes | 4.3.0 |\n",
       "| bit64 | bit64        | /root/anaconda3/envs/r_env/lib/R/library | 4.0.5      | NA          | R (&gt;= 3.0.1), bit (&gt;= 4.0.0), utils, methods, stats | NA                                                                                                                                       | NA   | NA                                                                                                                                                                                              | NA             | GPL-2 | GPL-3             | NA  | NA | NA | NA | yes | 4.3.0 |\n",
       "| blob | blob         | /root/anaconda3/envs/r_env/lib/R/library | 1.2.4      | NA          | NA                                                  | methods, rlang, vctrs (&gt;= 0.2.1)                                                                                                         | NA   | covr, crayon, pillar (&gt;= 1.2.1), testthat                                                                                                                                                       | NA             | MIT + file LICENSE        | NA  | NA | NA | NA | no  | 4.3.0 |\n",
       "| ⋮ | ⋮ | ⋮ | ⋮ | ⋮ | ⋮ | ⋮ | ⋮ | ⋮ | ⋮ | ⋮ | ⋮ | ⋮ | ⋮ | ⋮ | ⋮ | ⋮ |\n",
       "| tibble | tibble      | /root/anaconda3/envs/r_env/lib/R/library | 3.2.1    | NA   | R (&gt;= 3.4.0)                  | fansi (&gt;= 0.4.0), lifecycle (&gt;= 1.0.0), magrittr, methods,\n",
       "pillar (&gt;= 1.8.1), pkgconfig, rlang (&gt;= 1.0.2), utils, vctrs\n",
       "(&gt;= 0.4.2)                                                                                                                                                                                                                                                                                                                                                                                                                                                                        | NA                                                     | bench, bit64, blob, brio, callr, cli, covr, crayon (&gt;=\n",
       "1.3.4), DiagrammeR, dplyr, evaluate, formattable, ggplot2,\n",
       "here, hms, htmltools, knitr, lubridate, mockr, nycflights13,\n",
       "pkgbuild, pkgload, purrr, rmarkdown, stringi, testthat (&gt;=\n",
       "3.0.2), tidyr, withr | NA | MIT + file LICENSE                     | NA | NA | NA | NA | yes | 4.3.0 |\n",
       "| tidyr | tidyr       | /root/anaconda3/envs/r_env/lib/R/library | 1.3.1    | NA   | R (&gt;= 3.6)                    | cli (&gt;= 3.4.1), dplyr (&gt;= 1.0.10), glue, lifecycle (&gt;= 1.0.3),\n",
       "magrittr, purrr (&gt;= 1.0.1), rlang (&gt;= 1.1.1), stringr (&gt;=\n",
       "1.5.0), tibble (&gt;= 2.1.1), tidyselect (&gt;= 1.2.0), utils, vctrs\n",
       "(&gt;= 0.5.2)                                                                                                                                                                                                                                                                                                                                                                                                       | cpp11 (&gt;= 0.4.0)                                       | covr, data.table, knitr, readr, repurrrsive (&gt;= 1.1.0),\n",
       "rmarkdown, testthat (&gt;= 3.0.0)                                                                                                                                                                            | NA | MIT + file LICENSE                     | NA | NA | NA | NA | yes | 4.3.2 |\n",
       "| tidyselect | tidyselect  | /root/anaconda3/envs/r_env/lib/R/library | 1.2.0    | NA   | R (&gt;= 3.4)                    | cli (&gt;= 3.3.0), glue (&gt;= 1.3.0), lifecycle (&gt;= 1.0.3), rlang\n",
       "(&gt;= 1.0.4), vctrs (&gt;= 0.4.1), withr                                                                                                                                                                                                                                                                                                                                                                                                                                                                                                           | NA                                                     | covr, crayon, dplyr, knitr, magrittr, rmarkdown, stringr,\n",
       "testthat (&gt;= 3.1.1), tibble (&gt;= 2.1.3)                                                                                                                                                                  | NA | MIT + file LICENSE                     | NA | NA | NA | NA | no  | 4.3.0 |\n",
       "| tidyverse | tidyverse   | /root/anaconda3/envs/r_env/lib/R/library | 2.0.0    | NA   | R (&gt;= 3.3)                    | broom (&gt;= 1.0.3), conflicted (&gt;= 1.2.0), cli (&gt;= 3.6.0),\n",
       "dbplyr (&gt;= 2.3.0), dplyr (&gt;= 1.1.0), dtplyr (&gt;= 1.2.2), forcats\n",
       "(&gt;= 1.0.0), ggplot2 (&gt;= 3.4.1), googledrive (&gt;= 2.0.0),\n",
       "googlesheets4 (&gt;= 1.0.1), haven (&gt;= 2.5.1), hms (&gt;= 1.1.2),\n",
       "httr (&gt;= 1.4.4), jsonlite (&gt;= 1.8.4), lubridate (&gt;= 1.9.2),\n",
       "magrittr (&gt;= 2.0.3), modelr (&gt;= 0.1.10), pillar (&gt;= 1.8.1),\n",
       "purrr (&gt;= 1.0.1), ragg (&gt;= 1.2.5), readr (&gt;= 2.1.4), readxl (&gt;=\n",
       "1.4.2), reprex (&gt;= 2.0.2), rlang (&gt;= 1.0.6), rstudioapi (&gt;=\n",
       "0.14), rvest (&gt;= 1.0.3), stringr (&gt;= 1.5.0), tibble (&gt;= 3.1.8),\n",
       "tidyr (&gt;= 1.3.0), xml2 (&gt;= 1.3.3) | NA                                                     | covr (&gt;= 3.6.1), feather (&gt;= 0.3.5), glue (&gt;= 1.6.2), mockr\n",
       "(&gt;= 0.2.0), knitr (&gt;= 1.41), rmarkdown (&gt;= 2.20), testthat (&gt;=\n",
       "3.1.6)                                                                                                                                | NA | MIT + file LICENSE                     | NA | NA | NA | NA | no  | 4.3.3 |\n",
       "| timeDate | timeDate    | /root/anaconda3/envs/r_env/lib/R/library | 4032.109 | NA   | R (&gt;= 3.6.0), methods         | graphics, utils, stats                                                                                                                                                                                                                                                                                                                                                                                                                                                                                                                                                                                      | NA                                                     | RUnit                                                                                                                                                                                                                                                              | NA | GPL (&gt;= 2)                             | NA | NA | NA | NA | no  | 4.3.2 |\n",
       "| timechange | timechange  | /root/anaconda3/envs/r_env/lib/R/library | 0.3.0    | NA   | R (&gt;= 3.3)                    | NA                                                                                                                                                                                                                                                                                                                                                                                                                                                                                                                                                                                                          | cpp11 (&gt;= 0.2.7)                                       | testthat (&gt;= 0.7.1.99), knitr                                                                                                                                                                                                                                      | NA | GPL (&gt;= 3)                             | NA | NA | NA | NA | yes | 4.3.2 |\n",
       "| tinytex | tinytex     | /root/anaconda3/envs/r_env/lib/R/library | 0.49     | NA   | NA                            | xfun (&gt;= 0.29)                                                                                                                                                                                                                                                                                                                                                                                                                                                                                                                                                                                              | NA                                                     | testit, rstudioapi                                                                                                                                                                                                                                                 | NA | MIT + file LICENSE                     | NA | NA | NA | NA | no  | 4.3.2 |\n",
       "| tools | tools       | /root/anaconda3/envs/r_env/lib/R/library | 4.3.3    | base | NA                            | NA                                                                                                                                                                                                                                                                                                                                                                                                                                                                                                                                                                                                          | NA                                                     | codetools, methods, xml2, curl, commonmark, knitr, xfun,\n",
       "mathjaxr, V8                                                                                                                                                                                             | NA | Part of R 4.3.3                        | NA | NA | NA | NA | yes | 4.3.3 |\n",
       "| triebeard | triebeard   | /root/anaconda3/envs/r_env/lib/R/library | 0.4.1    | NA   | NA                            | Rcpp                                                                                                                                                                                                                                                                                                                                                                                                                                                                                                                                                                                                        | Rcpp                                                   | knitr, rmarkdown, testthat                                                                                                                                                                                                                                         | NA | MIT + file LICENSE                     | NA | NA | NA | NA | yes | 4.3.0 |\n",
       "| tzdb | tzdb        | /root/anaconda3/envs/r_env/lib/R/library | 0.4.0    | NA   | R (&gt;= 3.5.0)                  | NA                                                                                                                                                                                                                                                                                                                                                                                                                                                                                                                                                                                                          | cpp11 (&gt;= 0.4.2)                                       | covr, testthat (&gt;= 3.0.0)                                                                                                                                                                                                                                          | NA | MIT + file LICENSE                     | NA | NA | NA | NA | yes | 4.3.0 |\n",
       "| urlchecker | urlchecker  | /root/anaconda3/envs/r_env/lib/R/library | 1.0.1    | NA   | R (&gt;= 3.3)                    | cli, curl, tools, xml2                                                                                                                                                                                                                                                                                                                                                                                                                                                                                                                                                                                      | NA                                                     | covr                                                                                                                                                                                                                                                               | NA | GPL-3                                  | NA | NA | NA | NA | no  | 4.3.3 |\n",
       "| urltools | urltools    | /root/anaconda3/envs/r_env/lib/R/library | 1.7.3    | NA   | R (&gt;= 2.10)                   | Rcpp, methods, triebeard                                                                                                                                                                                                                                                                                                                                                                                                                                                                                                                                                                                    | Rcpp                                                   | testthat, knitr                                                                                                                                                                                                                                                    | NA | MIT + file LICENSE                     | NA | NA | NA | NA | yes | 4.3.0 |\n",
       "| usethis | usethis     | /root/anaconda3/envs/r_env/lib/R/library | 2.2.3    | NA   | R (&gt;= 3.6)                    | cli (&gt;= 3.0.1), clipr (&gt;= 0.3.0), crayon, curl (&gt;= 2.7), desc\n",
       "(&gt;= 1.4.2), fs (&gt;= 1.3.0), gert (&gt;= 1.4.1), gh (&gt;= 1.2.1), glue\n",
       "(&gt;= 1.3.0), jsonlite, lifecycle (&gt;= 1.0.0), purrr, rappdirs,\n",
       "rlang (&gt;= 1.1.0), rprojroot (&gt;= 1.2), rstudioapi, stats, utils,\n",
       "whisker, withr (&gt;= 2.3.0), yaml                                                                                                                                                                                                                                                                                                              | NA                                                     | covr, knitr, magick, pkgload (&gt;= 1.3.2.1), rmarkdown,\n",
       "roxygen2 (&gt;= 7.1.2), spelling (&gt;= 1.2), styler (&gt;= 1.2.0),\n",
       "testthat (&gt;= 3.1.8)                                                                                                                             | NA | MIT + file LICENSE                     | NA | NA | NA | NA | no  | 4.3.3 |\n",
       "| utf8 | utf8        | /root/anaconda3/envs/r_env/lib/R/library | 1.2.4    | NA   | R (&gt;= 2.10)                   | NA                                                                                                                                                                                                                                                                                                                                                                                                                                                                                                                                                                                                          | NA                                                     | cli, covr, knitr, rlang, rmarkdown, testthat (&gt;= 3.0.0),\n",
       "withr                                                                                                                                                                                                    | NA | Apache License (== 2.0) | file LICENSE | NA | NA | NA | NA | yes | 4.3.1 |\n",
       "| utils | utils       | /root/anaconda3/envs/r_env/lib/R/library | 4.3.3    | base | NA                            | NA                                                                                                                                                                                                                                                                                                                                                                                                                                                                                                                                                                                                          | NA                                                     | methods, xml2, commonmark, knitr                                                                                                                                                                                                                                   | NA | Part of R 4.3.3                        | NA | NA | NA | NA | yes | 4.3.3 |\n",
       "| uuid | uuid        | /root/anaconda3/envs/r_env/lib/R/library | 1.2-0    | NA   | R (&gt;= 2.9.0)                  | NA                                                                                                                                                                                                                                                                                                                                                                                                                                                                                                                                                                                                          | NA                                                     | NA                                                                                                                                                                                                                                                                 | NA | MIT + file LICENSE                     | NA | NA | NA | NA | yes | 4.3.2 |\n",
       "| vctrs | vctrs       | /root/anaconda3/envs/r_env/lib/R/library | 0.6.5    | NA   | R (&gt;= 3.5.0)                  | cli (&gt;= 3.4.0), glue, lifecycle (&gt;= 1.0.3), rlang (&gt;= 1.1.0)                                                                                                                                                                                                                                                                                                                                                                                                                                                                                                                                                | NA                                                     | bit64, covr, crayon, dplyr (&gt;= 0.8.5), generics, knitr,\n",
       "pillar (&gt;= 1.4.4), pkgdown (&gt;= 2.0.1), rmarkdown, testthat (&gt;=\n",
       "3.0.0), tibble (&gt;= 3.1.3), waldo (&gt;= 0.2.0), withr, xml2,\n",
       "zeallot                                                                        | NA | MIT + file LICENSE                     | NA | NA | NA | NA | yes | 4.3.2 |\n",
       "| viridisLite | viridisLite | /root/anaconda3/envs/r_env/lib/R/library | 0.4.2    | NA   | R (&gt;= 2.10)                   | NA                                                                                                                                                                                                                                                                                                                                                                                                                                                                                                                                                                                                          | NA                                                     | hexbin (&gt;= 1.27.0), ggplot2 (&gt;= 1.0.1), testthat, covr                                                                                                                                                                                                             | NA | MIT + file LICENSE                     | NA | NA | NA | NA | no  | 4.3.0 |\n",
       "| vroom | vroom       | /root/anaconda3/envs/r_env/lib/R/library | 1.6.5    | NA   | R (&gt;= 3.6)                    | bit64, cli (&gt;= 3.2.0), crayon, glue, hms, lifecycle (&gt;=\n",
       "1.0.3), methods, rlang (&gt;= 0.4.2), stats, tibble (&gt;= 2.0.0),\n",
       "tidyselect, tzdb (&gt;= 0.1.1), vctrs (&gt;= 0.2.0), withr                                                                                                                                                                                                                                                                                                                                                                                                                                 | cpp11 (&gt;= 0.2.0), progress (&gt;= 1.2.1), tzdb (&gt;= 0.1.1) | archive, bench (&gt;= 1.1.0), covr, curl, dplyr, forcats, fs,\n",
       "ggplot2, knitr, patchwork, prettyunits, purrr, rmarkdown,\n",
       "rstudioapi, scales, spelling, testthat (&gt;= 2.1.0), tidyr,\n",
       "utils, waldo, xml2                                                               | NA | MIT + file LICENSE                     | NA | NA | NA | NA | yes | 4.3.2 |\n",
       "| waldo | waldo       | /root/anaconda3/envs/r_env/lib/R/library | 0.5.2    | NA   | R (&gt;= 3.6)                    | cli, diffobj (&gt;= 0.3.4), fansi, glue, methods, rematch2, rlang\n",
       "(&gt;= 1.0.0), tibble                                                                                                                                                                                                                                                                                                                                                                                                                                                                                                                          | NA                                                     | covr, R6, testthat (&gt;= 3.0.0), withr, xml2                                                                                                                                                                                                                         | NA | MIT + file LICENSE                     | NA | NA | NA | NA | no  | 4.3.3 |\n",
       "| whisker | whisker     | /root/anaconda3/envs/r_env/lib/R/library | 0.4.1    | NA   | NA                            | NA                                                                                                                                                                                                                                                                                                                                                                                                                                                                                                                                                                                                          | NA                                                     | markdown                                                                                                                                                                                                                                                           | NA | GPL-3                                  | NA | NA | NA | NA | no  | 4.3.3 |\n",
       "| withr | withr       | /root/anaconda3/envs/r_env/lib/R/library | 3.0.0    | NA   | R (&gt;= 3.5.0)                  | graphics, grDevices,                                                                                                                                                                                                                                                                                                                                                                                                                                                                                                                                                                                        | NA                                                     | callr, covr, DBI, knitr, lattice, methods, rlang, rmarkdown\n",
       "(&gt;= 2.12), RSQLite, testthat (&gt;= 3.0.0)                                                                                                                                                               | NA | MIT + file LICENSE                     | NA | NA | NA | NA | no  | 4.3.2 |\n",
       "| xfun | xfun        | /root/anaconda3/envs/r_env/lib/R/library | 0.42     | NA   | NA                            | grDevices, stats, tools                                                                                                                                                                                                                                                                                                                                                                                                                                                                                                                                                                                     | NA                                                     | testit, parallel, codetools, rstudioapi, tinytex (&gt;= 0.30),\n",
       "mime, markdown (&gt;= 1.5), knitr (&gt;= 1.42), htmltools, remotes,\n",
       "pak, rhub, renv, curl, jsonlite, magick, yaml, rmarkdown                                                                               | NA | MIT + file LICENSE                     | NA | NA | NA | NA | yes | 4.3.2 |\n",
       "| xml2 | xml2        | /root/anaconda3/envs/r_env/lib/R/library | 1.3.6    | NA   | R (&gt;= 3.6.0)                  | cli, methods, rlang (&gt;= 1.1.0)                                                                                                                                                                                                                                                                                                                                                                                                                                                                                                                                                                              | NA                                                     | covr, curl, httr, knitr, magrittr, mockery, rmarkdown,\n",
       "testthat (&gt;= 3.0.0)                                                                                                                                                                                        | NA | MIT + file LICENSE                     | NA | NA | NA | NA | yes | 4.3.2 |\n",
       "| xopen | xopen       | /root/anaconda3/envs/r_env/lib/R/library | 1.0.0    | NA   | R (&gt;= 3.1)                    | processx                                                                                                                                                                                                                                                                                                                                                                                                                                                                                                                                                                                                    | NA                                                     | ps, testthat                                                                                                                                                                                                                                                       | NA | MIT + file LICENSE                     | NA | NA | NA | NA | no  | 4.3.3 |\n",
       "| xtable | xtable      | /root/anaconda3/envs/r_env/lib/R/library | 1.8-4    | NA   | R (&gt;= 2.10.0)                 | stats, utils                                                                                                                                                                                                                                                                                                                                                                                                                                                                                                                                                                                                | NA                                                     | knitr, plm, zoo, survival                                                                                                                                                                                                                                          | NA | GPL (&gt;= 2)                             | NA | NA | NA | NA | no  | 4.3.0 |\n",
       "| xts | xts         | /root/anaconda3/envs/r_env/lib/R/library | 0.13.2   | NA   | R (&gt;= 3.6.0), zoo (&gt;= 1.7-12) | methods                                                                                                                                                                                                                                                                                                                                                                                                                                                                                                                                                                                                     | zoo                                                    | timeSeries, timeDate, tseries, chron, tinytest                                                                                                                                                                                                                     | NA | GPL (&gt;= 2)                             | NA | NA | NA | NA | yes | 4.3.2 |\n",
       "| yaml | yaml        | /root/anaconda3/envs/r_env/lib/R/library | 2.3.8    | NA   | NA                            | NA                                                                                                                                                                                                                                                                                                                                                                                                                                                                                                                                                                                                          | NA                                                     | RUnit                                                                                                                                                                                                                                                              | NA | BSD_3_clause + file LICENSE            | NA | NA | NA | NA | yes | 4.3.2 |\n",
       "| zip | zip         | /root/anaconda3/envs/r_env/lib/R/library | 2.3.1    | NA   | NA                            | NA                                                                                                                                                                                                                                                                                                                                                                                                                                                                                                                                                                                                          | NA                                                     | covr, processx, R6, testthat, withr                                                                                                                                                                                                                                | NA | MIT + file LICENSE                     | NA | NA | NA | NA | yes | 4.3.3 |\n",
       "| zoo | zoo         | /root/anaconda3/envs/r_env/lib/R/library | 1.8-12   | NA   | R (&gt;= 3.1.0), stats           | utils, graphics, grDevices, lattice (&gt;= 0.20-27)                                                                                                                                                                                                                                                                                                                                                                                                                                                                                                                                                            | NA                                                     | AER, coda, chron, ggplot2 (&gt;= 3.0.0), mondate, scales,\n",
       "stinepack, strucchange, timeDate, timeSeries, tis, tseries, xts                                                                                                                                            | NA | GPL-2 | GPL-3                          | NA | NA | NA | NA | yes | 4.3.0 |\n",
       "\n"
      ],
      "text/plain": [
       "             Package      LibPath                                  Version   \n",
       "DAAG         DAAG         /root/anaconda3/envs/r_env/lib/R/library 1.25.4    \n",
       "DBI          DBI          /root/anaconda3/envs/r_env/lib/R/library 1.2.2     \n",
       "Deriv        Deriv        /root/anaconda3/envs/r_env/lib/R/library 4.1.3     \n",
       "IRdisplay    IRdisplay    /root/anaconda3/envs/r_env/lib/R/library 1.1       \n",
       "IRkernel     IRkernel     /root/anaconda3/envs/r_env/lib/R/library 1.3.2     \n",
       "ISLR         ISLR         /root/anaconda3/envs/r_env/lib/R/library 1.4       \n",
       "KernSmooth   KernSmooth   /root/anaconda3/envs/r_env/lib/R/library 2.23-22   \n",
       "MASS         MASS         /root/anaconda3/envs/r_env/lib/R/library 7.3-60.0.1\n",
       "Matrix       Matrix       /root/anaconda3/envs/r_env/lib/R/library 1.6-5     \n",
       "MatrixModels MatrixModels /root/anaconda3/envs/r_env/lib/R/library 0.5-3     \n",
       "ModelMetrics ModelMetrics /root/anaconda3/envs/r_env/lib/R/library 1.2.2.2   \n",
       "R6           R6           /root/anaconda3/envs/r_env/lib/R/library 2.5.1     \n",
       "RColorBrewer RColorBrewer /root/anaconda3/envs/r_env/lib/R/library 1.1-3     \n",
       "Rcpp         Rcpp         /root/anaconda3/envs/r_env/lib/R/library 1.0.12    \n",
       "RcppEigen    RcppEigen    /root/anaconda3/envs/r_env/lib/R/library 0.3.4.0.0 \n",
       "Rdpack       Rdpack       /root/anaconda3/envs/r_env/lib/R/library 2.6       \n",
       "Rttf2pt1     Rttf2pt1     /root/anaconda3/envs/r_env/lib/R/library 1.3.12    \n",
       "SQUAREM      SQUAREM      /root/anaconda3/envs/r_env/lib/R/library 2021.1    \n",
       "SparseM      SparseM      /root/anaconda3/envs/r_env/lib/R/library 1.81      \n",
       "TTR          TTR          /root/anaconda3/envs/r_env/lib/R/library 0.24.4    \n",
       "abind        abind        /root/anaconda3/envs/r_env/lib/R/library 1.4-5     \n",
       "aplpack      aplpack      /root/anaconda3/envs/r_env/lib/R/library 1.3.5     \n",
       "askpass      askpass      /root/anaconda3/envs/r_env/lib/R/library 1.2.0     \n",
       "assertthat   assertthat   /root/anaconda3/envs/r_env/lib/R/library 0.2.1     \n",
       "backports    backports    /root/anaconda3/envs/r_env/lib/R/library 1.4.1     \n",
       "base         base         /root/anaconda3/envs/r_env/lib/R/library 4.3.3     \n",
       "base64enc    base64enc    /root/anaconda3/envs/r_env/lib/R/library 0.1-3     \n",
       "bit          bit          /root/anaconda3/envs/r_env/lib/R/library 4.0.5     \n",
       "bit64        bit64        /root/anaconda3/envs/r_env/lib/R/library 4.0.5     \n",
       "blob         blob         /root/anaconda3/envs/r_env/lib/R/library 1.2.4     \n",
       "⋮            ⋮            ⋮                                        ⋮         \n",
       "tibble       tibble       /root/anaconda3/envs/r_env/lib/R/library 3.2.1     \n",
       "tidyr        tidyr        /root/anaconda3/envs/r_env/lib/R/library 1.3.1     \n",
       "tidyselect   tidyselect   /root/anaconda3/envs/r_env/lib/R/library 1.2.0     \n",
       "tidyverse    tidyverse    /root/anaconda3/envs/r_env/lib/R/library 2.0.0     \n",
       "timeDate     timeDate     /root/anaconda3/envs/r_env/lib/R/library 4032.109  \n",
       "timechange   timechange   /root/anaconda3/envs/r_env/lib/R/library 0.3.0     \n",
       "tinytex      tinytex      /root/anaconda3/envs/r_env/lib/R/library 0.49      \n",
       "tools        tools        /root/anaconda3/envs/r_env/lib/R/library 4.3.3     \n",
       "triebeard    triebeard    /root/anaconda3/envs/r_env/lib/R/library 0.4.1     \n",
       "tzdb         tzdb         /root/anaconda3/envs/r_env/lib/R/library 0.4.0     \n",
       "urlchecker   urlchecker   /root/anaconda3/envs/r_env/lib/R/library 1.0.1     \n",
       "urltools     urltools     /root/anaconda3/envs/r_env/lib/R/library 1.7.3     \n",
       "usethis      usethis      /root/anaconda3/envs/r_env/lib/R/library 2.2.3     \n",
       "utf8         utf8         /root/anaconda3/envs/r_env/lib/R/library 1.2.4     \n",
       "utils        utils        /root/anaconda3/envs/r_env/lib/R/library 4.3.3     \n",
       "uuid         uuid         /root/anaconda3/envs/r_env/lib/R/library 1.2-0     \n",
       "vctrs        vctrs        /root/anaconda3/envs/r_env/lib/R/library 0.6.5     \n",
       "viridisLite  viridisLite  /root/anaconda3/envs/r_env/lib/R/library 0.4.2     \n",
       "vroom        vroom        /root/anaconda3/envs/r_env/lib/R/library 1.6.5     \n",
       "waldo        waldo        /root/anaconda3/envs/r_env/lib/R/library 0.5.2     \n",
       "whisker      whisker      /root/anaconda3/envs/r_env/lib/R/library 0.4.1     \n",
       "withr        withr        /root/anaconda3/envs/r_env/lib/R/library 3.0.0     \n",
       "xfun         xfun         /root/anaconda3/envs/r_env/lib/R/library 0.42      \n",
       "xml2         xml2         /root/anaconda3/envs/r_env/lib/R/library 1.3.6     \n",
       "xopen        xopen        /root/anaconda3/envs/r_env/lib/R/library 1.0.0     \n",
       "xtable       xtable       /root/anaconda3/envs/r_env/lib/R/library 1.8-4     \n",
       "xts          xts          /root/anaconda3/envs/r_env/lib/R/library 0.13.2    \n",
       "yaml         yaml         /root/anaconda3/envs/r_env/lib/R/library 2.3.8     \n",
       "zip          zip          /root/anaconda3/envs/r_env/lib/R/library 2.3.1     \n",
       "zoo          zoo          /root/anaconda3/envs/r_env/lib/R/library 1.8-12    \n",
       "             Priority    Depends                                            \n",
       "DAAG         NA          R (>= 3.5.0)                                       \n",
       "DBI          NA          methods, R (>= 3.0.0)                              \n",
       "Deriv        NA          NA                                                 \n",
       "IRdisplay    NA          R (>= 3.0.1)                                       \n",
       "IRkernel     NA          R (>= 3.2.0)                                       \n",
       "ISLR         NA          R (>= 3.5.0)                                       \n",
       "KernSmooth   recommended R (>= 2.5.0), stats                                \n",
       "MASS         recommended R (>= 4.0), grDevices, graphics, stats, utils      \n",
       "Matrix       recommended R (>= 3.5.0), methods                              \n",
       "MatrixModels NA          R (>= 3.6.0)                                       \n",
       "ModelMetrics NA          R (>= 3.2.2)                                       \n",
       "R6           NA          R (>= 3.0)                                         \n",
       "RColorBrewer NA          R (>= 2.0.0)                                       \n",
       "Rcpp         NA          NA                                                 \n",
       "RcppEigen    NA          R (>= 3.6.0)                                       \n",
       "Rdpack       NA          R (>= 2.15.0), methods                             \n",
       "Rttf2pt1     NA          R (>= 2.15)                                        \n",
       "SQUAREM      NA          R (>= 3.0)                                         \n",
       "SparseM      NA          R (>= 2.15), methods                               \n",
       "TTR          NA          NA                                                 \n",
       "abind        NA          R (>= 1.5.0)                                       \n",
       "aplpack      NA          R (>= 3.0.0)                                       \n",
       "askpass      NA          NA                                                 \n",
       "assertthat   NA          NA                                                 \n",
       "backports    NA          R (>= 3.0.0)                                       \n",
       "base         base        NA                                                 \n",
       "base64enc    NA          R (>= 2.9.0)                                       \n",
       "bit          NA          R (>= 2.9.2)                                       \n",
       "bit64        NA          R (>= 3.0.1), bit (>= 4.0.0), utils, methods, stats\n",
       "blob         NA          NA                                                 \n",
       "⋮            ⋮           ⋮                                                  \n",
       "tibble       NA          R (>= 3.4.0)                                       \n",
       "tidyr        NA          R (>= 3.6)                                         \n",
       "tidyselect   NA          R (>= 3.4)                                         \n",
       "tidyverse    NA          R (>= 3.3)                                         \n",
       "timeDate     NA          R (>= 3.6.0), methods                              \n",
       "timechange   NA          R (>= 3.3)                                         \n",
       "tinytex      NA          NA                                                 \n",
       "tools        base        NA                                                 \n",
       "triebeard    NA          NA                                                 \n",
       "tzdb         NA          R (>= 3.5.0)                                       \n",
       "urlchecker   NA          R (>= 3.3)                                         \n",
       "urltools     NA          R (>= 2.10)                                        \n",
       "usethis      NA          R (>= 3.6)                                         \n",
       "utf8         NA          R (>= 2.10)                                        \n",
       "utils        base        NA                                                 \n",
       "uuid         NA          R (>= 2.9.0)                                       \n",
       "vctrs        NA          R (>= 3.5.0)                                       \n",
       "viridisLite  NA          R (>= 2.10)                                        \n",
       "vroom        NA          R (>= 3.6)                                         \n",
       "waldo        NA          R (>= 3.6)                                         \n",
       "whisker      NA          NA                                                 \n",
       "withr        NA          R (>= 3.5.0)                                       \n",
       "xfun         NA          NA                                                 \n",
       "xml2         NA          R (>= 3.6.0)                                       \n",
       "xopen        NA          R (>= 3.1)                                         \n",
       "xtable       NA          R (>= 2.10.0)                                      \n",
       "xts          NA          R (>= 3.6.0), zoo (>= 1.7-12)                      \n",
       "yaml         NA          NA                                                 \n",
       "zip          NA          NA                                                 \n",
       "zoo          NA          R (>= 3.1.0), stats                                \n",
       "             Imports                                                                                                                                                                                                                                                                                                                                                                                                                                                                                                                                                                                                    \n",
       "DAAG         lattice, latticeExtra, methods, Rdpack                                                                                                                                                                                                                                                                                                                                                                                                                                                                                                                                                                     \n",
       "DBI          NA                                                                                                                                                                                                                                                                                                                                                                                                                                                                                                                                                                                                         \n",
       "Deriv        methods                                                                                                                                                                                                                                                                                                                                                                                                                                                                                                                                                                                                    \n",
       "IRdisplay    methods,\\nrepr                                                                                                                                                                                                                                                                                                                                                                                                                                                                                                                                                                                             \n",
       "IRkernel     repr (>= 0.4.99), methods, evaluate (>= 0.10), IRdisplay (>=\\n0.3.0.9999), pbdZMQ (>= 0.2-1), crayon, jsonlite (>= 0.9.6),\\nuuid, digest                                                                                                                                                                                                                                                                                                                                                                                                                                                                   \n",
       "ISLR         NA                                                                                                                                                                                                                                                                                                                                                                                                                                                                                                                                                                                                         \n",
       "KernSmooth   NA                                                                                                                                                                                                                                                                                                                                                                                                                                                                                                                                                                                                         \n",
       "MASS         methods                                                                                                                                                                                                                                                                                                                                                                                                                                                                                                                                                                                                    \n",
       "Matrix       grDevices, graphics, grid, lattice, stats, utils                                                                                                                                                                                                                                                                                                                                                                                                                                                                                                                                                           \n",
       "MatrixModels stats, methods, Matrix (>= 1.6-0)                                                                                                                                                                                                                                                                                                                                                                                                                                                                                                                                                                          \n",
       "ModelMetrics Rcpp, data.table                                                                                                                                                                                                                                                                                                                                                                                                                                                                                                                                                                                           \n",
       "R6           NA                                                                                                                                                                                                                                                                                                                                                                                                                                                                                                                                                                                                         \n",
       "RColorBrewer NA                                                                                                                                                                                                                                                                                                                                                                                                                                                                                                                                                                                                         \n",
       "Rcpp         methods, utils                                                                                                                                                                                                                                                                                                                                                                                                                                                                                                                                                                                             \n",
       "RcppEigen    Rcpp (>= 0.11.0), stats, utils                                                                                                                                                                                                                                                                                                                                                                                                                                                                                                                                                                             \n",
       "Rdpack       tools, utils, rbibutils (>= 1.3)                                                                                                                                                                                                                                                                                                                                                                                                                                                                                                                                                                           \n",
       "Rttf2pt1     NA                                                                                                                                                                                                                                                                                                                                                                                                                                                                                                                                                                                                         \n",
       "SQUAREM      NA                                                                                                                                                                                                                                                                                                                                                                                                                                                                                                                                                                                                         \n",
       "SparseM      graphics, stats, utils                                                                                                                                                                                                                                                                                                                                                                                                                                                                                                                                                                                     \n",
       "TTR          xts (>= 0.10-0), zoo, curl                                                                                                                                                                                                                                                                                                                                                                                                                                                                                                                                                                                 \n",
       "abind        methods, utils                                                                                                                                                                                                                                                                                                                                                                                                                                                                                                                                                                                             \n",
       "aplpack      NA                                                                                                                                                                                                                                                                                                                                                                                                                                                                                                                                                                                                         \n",
       "askpass      sys (>= 2.1)                                                                                                                                                                                                                                                                                                                                                                                                                                                                                                                                                                                               \n",
       "assertthat   tools                                                                                                                                                                                                                                                                                                                                                                                                                                                                                                                                                                                                      \n",
       "backports    NA                                                                                                                                                                                                                                                                                                                                                                                                                                                                                                                                                                                                         \n",
       "base         NA                                                                                                                                                                                                                                                                                                                                                                                                                                                                                                                                                                                                         \n",
       "base64enc    NA                                                                                                                                                                                                                                                                                                                                                                                                                                                                                                                                                                                                         \n",
       "bit          NA                                                                                                                                                                                                                                                                                                                                                                                                                                                                                                                                                                                                         \n",
       "bit64        NA                                                                                                                                                                                                                                                                                                                                                                                                                                                                                                                                                                                                         \n",
       "blob         methods, rlang, vctrs (>= 0.2.1)                                                                                                                                                                                                                                                                                                                                                                                                                                                                                                                                                                           \n",
       "⋮            ⋮                                                                                                                                                                                                                                                                                                                                                                                                                                                                                                                                                                                                          \n",
       "tibble       fansi (>= 0.4.0), lifecycle (>= 1.0.0), magrittr, methods,\\npillar (>= 1.8.1), pkgconfig, rlang (>= 1.0.2), utils, vctrs\\n(>= 0.4.2)                                                                                                                                                                                                                                                                                                                                                                                                                                                                       \n",
       "tidyr        cli (>= 3.4.1), dplyr (>= 1.0.10), glue, lifecycle (>= 1.0.3),\\nmagrittr, purrr (>= 1.0.1), rlang (>= 1.1.1), stringr (>=\\n1.5.0), tibble (>= 2.1.1), tidyselect (>= 1.2.0), utils, vctrs\\n(>= 0.5.2)                                                                                                                                                                                                                                                                                                                                                                                                      \n",
       "tidyselect   cli (>= 3.3.0), glue (>= 1.3.0), lifecycle (>= 1.0.3), rlang\\n(>= 1.0.4), vctrs (>= 0.4.1), withr                                                                                                                                                                                                                                                                                                                                                                                                                                                                                                          \n",
       "tidyverse    broom (>= 1.0.3), conflicted (>= 1.2.0), cli (>= 3.6.0),\\ndbplyr (>= 2.3.0), dplyr (>= 1.1.0), dtplyr (>= 1.2.2), forcats\\n(>= 1.0.0), ggplot2 (>= 3.4.1), googledrive (>= 2.0.0),\\ngooglesheets4 (>= 1.0.1), haven (>= 2.5.1), hms (>= 1.1.2),\\nhttr (>= 1.4.4), jsonlite (>= 1.8.4), lubridate (>= 1.9.2),\\nmagrittr (>= 2.0.3), modelr (>= 0.1.10), pillar (>= 1.8.1),\\npurrr (>= 1.0.1), ragg (>= 1.2.5), readr (>= 2.1.4), readxl (>=\\n1.4.2), reprex (>= 2.0.2), rlang (>= 1.0.6), rstudioapi (>=\\n0.14), rvest (>= 1.0.3), stringr (>= 1.5.0), tibble (>= 3.1.8),\\ntidyr (>= 1.3.0), xml2 (>= 1.3.3)\n",
       "timeDate     graphics, utils, stats                                                                                                                                                                                                                                                                                                                                                                                                                                                                                                                                                                                     \n",
       "timechange   NA                                                                                                                                                                                                                                                                                                                                                                                                                                                                                                                                                                                                         \n",
       "tinytex      xfun (>= 0.29)                                                                                                                                                                                                                                                                                                                                                                                                                                                                                                                                                                                             \n",
       "tools        NA                                                                                                                                                                                                                                                                                                                                                                                                                                                                                                                                                                                                         \n",
       "triebeard    Rcpp                                                                                                                                                                                                                                                                                                                                                                                                                                                                                                                                                                                                       \n",
       "tzdb         NA                                                                                                                                                                                                                                                                                                                                                                                                                                                                                                                                                                                                         \n",
       "urlchecker   cli, curl, tools, xml2                                                                                                                                                                                                                                                                                                                                                                                                                                                                                                                                                                                     \n",
       "urltools     Rcpp, methods, triebeard                                                                                                                                                                                                                                                                                                                                                                                                                                                                                                                                                                                   \n",
       "usethis      cli (>= 3.0.1), clipr (>= 0.3.0), crayon, curl (>= 2.7), desc\\n(>= 1.4.2), fs (>= 1.3.0), gert (>= 1.4.1), gh (>= 1.2.1), glue\\n(>= 1.3.0), jsonlite, lifecycle (>= 1.0.0), purrr, rappdirs,\\nrlang (>= 1.1.0), rprojroot (>= 1.2), rstudioapi, stats, utils,\\nwhisker, withr (>= 2.3.0), yaml                                                                                                                                                                                                                                                                                                             \n",
       "utf8         NA                                                                                                                                                                                                                                                                                                                                                                                                                                                                                                                                                                                                         \n",
       "utils        NA                                                                                                                                                                                                                                                                                                                                                                                                                                                                                                                                                                                                         \n",
       "uuid         NA                                                                                                                                                                                                                                                                                                                                                                                                                                                                                                                                                                                                         \n",
       "vctrs        cli (>= 3.4.0), glue, lifecycle (>= 1.0.3), rlang (>= 1.1.0)                                                                                                                                                                                                                                                                                                                                                                                                                                                                                                                                               \n",
       "viridisLite  NA                                                                                                                                                                                                                                                                                                                                                                                                                                                                                                                                                                                                         \n",
       "vroom        bit64, cli (>= 3.2.0), crayon, glue, hms, lifecycle (>=\\n1.0.3), methods, rlang (>= 0.4.2), stats, tibble (>= 2.0.0),\\ntidyselect, tzdb (>= 0.1.1), vctrs (>= 0.2.0), withr                                                                                                                                                                                                                                                                                                                                                                                                                                \n",
       "waldo        cli, diffobj (>= 0.3.4), fansi, glue, methods, rematch2, rlang\\n(>= 1.0.0), tibble                                                                                                                                                                                                                                                                                                                                                                                                                                                                                                                         \n",
       "whisker      NA                                                                                                                                                                                                                                                                                                                                                                                                                                                                                                                                                                                                         \n",
       "withr        graphics, grDevices,                                                                                                                                                                                                                                                                                                                                                                                                                                                                                                                                                                                       \n",
       "xfun         grDevices, stats, tools                                                                                                                                                                                                                                                                                                                                                                                                                                                                                                                                                                                    \n",
       "xml2         cli, methods, rlang (>= 1.1.0)                                                                                                                                                                                                                                                                                                                                                                                                                                                                                                                                                                             \n",
       "xopen        processx                                                                                                                                                                                                                                                                                                                                                                                                                                                                                                                                                                                                   \n",
       "xtable       stats, utils                                                                                                                                                                                                                                                                                                                                                                                                                                                                                                                                                                                               \n",
       "xts          methods                                                                                                                                                                                                                                                                                                                                                                                                                                                                                                                                                                                                    \n",
       "yaml         NA                                                                                                                                                                                                                                                                                                                                                                                                                                                                                                                                                                                                         \n",
       "zip          NA                                                                                                                                                                                                                                                                                                                                                                                                                                                                                                                                                                                                         \n",
       "zoo          utils, graphics, grDevices, lattice (>= 0.20-27)                                                                                                                                                                                                                                                                                                                                                                                                                                                                                                                                                           \n",
       "             LinkingTo                                             \n",
       "DAAG         NA                                                    \n",
       "DBI          NA                                                    \n",
       "Deriv        NA                                                    \n",
       "IRdisplay    NA                                                    \n",
       "IRkernel     NA                                                    \n",
       "ISLR         NA                                                    \n",
       "KernSmooth   NA                                                    \n",
       "MASS         NA                                                    \n",
       "Matrix       NA                                                    \n",
       "MatrixModels NA                                                    \n",
       "ModelMetrics Rcpp                                                  \n",
       "R6           NA                                                    \n",
       "RColorBrewer NA                                                    \n",
       "Rcpp         NA                                                    \n",
       "RcppEigen    Rcpp                                                  \n",
       "Rdpack       NA                                                    \n",
       "Rttf2pt1     NA                                                    \n",
       "SQUAREM      NA                                                    \n",
       "SparseM      NA                                                    \n",
       "TTR          xts                                                   \n",
       "abind        NA                                                    \n",
       "aplpack      NA                                                    \n",
       "askpass      NA                                                    \n",
       "assertthat   NA                                                    \n",
       "backports    NA                                                    \n",
       "base         NA                                                    \n",
       "base64enc    NA                                                    \n",
       "bit          NA                                                    \n",
       "bit64        NA                                                    \n",
       "blob         NA                                                    \n",
       "⋮            ⋮                                                     \n",
       "tibble       NA                                                    \n",
       "tidyr        cpp11 (>= 0.4.0)                                      \n",
       "tidyselect   NA                                                    \n",
       "tidyverse    NA                                                    \n",
       "timeDate     NA                                                    \n",
       "timechange   cpp11 (>= 0.2.7)                                      \n",
       "tinytex      NA                                                    \n",
       "tools        NA                                                    \n",
       "triebeard    Rcpp                                                  \n",
       "tzdb         cpp11 (>= 0.4.2)                                      \n",
       "urlchecker   NA                                                    \n",
       "urltools     Rcpp                                                  \n",
       "usethis      NA                                                    \n",
       "utf8         NA                                                    \n",
       "utils        NA                                                    \n",
       "uuid         NA                                                    \n",
       "vctrs        NA                                                    \n",
       "viridisLite  NA                                                    \n",
       "vroom        cpp11 (>= 0.2.0), progress (>= 1.2.1), tzdb (>= 0.1.1)\n",
       "waldo        NA                                                    \n",
       "whisker      NA                                                    \n",
       "withr        NA                                                    \n",
       "xfun         NA                                                    \n",
       "xml2         NA                                                    \n",
       "xopen        NA                                                    \n",
       "xtable       NA                                                    \n",
       "xts          zoo                                                   \n",
       "yaml         NA                                                    \n",
       "zip          NA                                                    \n",
       "zoo          NA                                                    \n",
       "             Suggests                                                                                                                                                                                                                                                          \n",
       "DAAG         leaps, oz, lme4, quantreg, knitr, boot, rpart, randomForest,\\nMASS, survival, mgcv, rmarkdown, bookdown                                                                                                                                                           \n",
       "DBI          arrow, blob, covr, DBItest, dbplyr, downlit, dplyr, glue,\\nhms, knitr, magrittr, nanoarrow (>= 0.3.0.1), RMariaDB,\\nrmarkdown, rprojroot, RSQLite (>= 1.1-2), testthat (>= 3.0.0),\\nvctrs, xml2                                                                   \n",
       "Deriv        testthat                                                                                                                                                                                                                                                          \n",
       "IRdisplay    testthat,\\nwithr                                                                                                                                                                                                                                                  \n",
       "IRkernel     testthat, roxygen2                                                                                                                                                                                                                                                \n",
       "ISLR         MASS                                                                                                                                                                                                                                                              \n",
       "KernSmooth   MASS, carData                                                                                                                                                                                                                                                     \n",
       "MASS         lattice, nlme, nnet, survival                                                                                                                                                                                                                                     \n",
       "Matrix       MASS, datasets, sfsmisc, tools                                                                                                                                                                                                                                    \n",
       "MatrixModels NA                                                                                                                                                                                                                                                                \n",
       "ModelMetrics testthat                                                                                                                                                                                                                                                          \n",
       "R6           testthat, pryr                                                                                                                                                                                                                                                    \n",
       "RColorBrewer NA                                                                                                                                                                                                                                                                \n",
       "Rcpp         tinytest, inline, rbenchmark, pkgKitten (>= 0.1.2)                                                                                                                                                                                                                \n",
       "RcppEigen    Matrix, inline, tinytest, pkgKitten, microbenchmark                                                                                                                                                                                                               \n",
       "Rdpack       grDevices, testthat, rstudioapi, rprojroot, gbRd                                                                                                                                                                                                                  \n",
       "Rttf2pt1     NA                                                                                                                                                                                                                                                                \n",
       "SQUAREM      setRNG                                                                                                                                                                                                                                                            \n",
       "SparseM      NA                                                                                                                                                                                                                                                                \n",
       "TTR          RUnit                                                                                                                                                                                                                                                             \n",
       "abind        NA                                                                                                                                                                                                                                                                \n",
       "aplpack      tkrplot, jpeg, png, splines, utils, tcltk                                                                                                                                                                                                                         \n",
       "askpass      testthat                                                                                                                                                                                                                                                          \n",
       "assertthat   testthat, covr                                                                                                                                                                                                                                                    \n",
       "backports    NA                                                                                                                                                                                                                                                                \n",
       "base         methods                                                                                                                                                                                                                                                           \n",
       "base64enc    NA                                                                                                                                                                                                                                                                \n",
       "bit          testthat (>= 0.11.0), roxygen2, knitr, rmarkdown,\\nmicrobenchmark, bit64 (>= 4.0.0), ff (>= 4.0.0)                                                                                                                                                                \n",
       "bit64        NA                                                                                                                                                                                                                                                                \n",
       "blob         covr, crayon, pillar (>= 1.2.1), testthat                                                                                                                                                                                                                         \n",
       "⋮            ⋮                                                                                                                                                                                                                                                                 \n",
       "tibble       bench, bit64, blob, brio, callr, cli, covr, crayon (>=\\n1.3.4), DiagrammeR, dplyr, evaluate, formattable, ggplot2,\\nhere, hms, htmltools, knitr, lubridate, mockr, nycflights13,\\npkgbuild, pkgload, purrr, rmarkdown, stringi, testthat (>=\\n3.0.2), tidyr, withr\n",
       "tidyr        covr, data.table, knitr, readr, repurrrsive (>= 1.1.0),\\nrmarkdown, testthat (>= 3.0.0)                                                                                                                                                                           \n",
       "tidyselect   covr, crayon, dplyr, knitr, magrittr, rmarkdown, stringr,\\ntestthat (>= 3.1.1), tibble (>= 2.1.3)                                                                                                                                                                 \n",
       "tidyverse    covr (>= 3.6.1), feather (>= 0.3.5), glue (>= 1.6.2), mockr\\n(>= 0.2.0), knitr (>= 1.41), rmarkdown (>= 2.20), testthat (>=\\n3.1.6)                                                                                                                               \n",
       "timeDate     RUnit                                                                                                                                                                                                                                                             \n",
       "timechange   testthat (>= 0.7.1.99), knitr                                                                                                                                                                                                                                     \n",
       "tinytex      testit, rstudioapi                                                                                                                                                                                                                                                \n",
       "tools        codetools, methods, xml2, curl, commonmark, knitr, xfun,\\nmathjaxr, V8                                                                                                                                                                                            \n",
       "triebeard    knitr, rmarkdown, testthat                                                                                                                                                                                                                                        \n",
       "tzdb         covr, testthat (>= 3.0.0)                                                                                                                                                                                                                                         \n",
       "urlchecker   covr                                                                                                                                                                                                                                                              \n",
       "urltools     testthat, knitr                                                                                                                                                                                                                                                   \n",
       "usethis      covr, knitr, magick, pkgload (>= 1.3.2.1), rmarkdown,\\nroxygen2 (>= 7.1.2), spelling (>= 1.2), styler (>= 1.2.0),\\ntestthat (>= 3.1.8)                                                                                                                            \n",
       "utf8         cli, covr, knitr, rlang, rmarkdown, testthat (>= 3.0.0),\\nwithr                                                                                                                                                                                                   \n",
       "utils        methods, xml2, commonmark, knitr                                                                                                                                                                                                                                  \n",
       "uuid         NA                                                                                                                                                                                                                                                                \n",
       "vctrs        bit64, covr, crayon, dplyr (>= 0.8.5), generics, knitr,\\npillar (>= 1.4.4), pkgdown (>= 2.0.1), rmarkdown, testthat (>=\\n3.0.0), tibble (>= 3.1.3), waldo (>= 0.2.0), withr, xml2,\\nzeallot                                                                       \n",
       "viridisLite  hexbin (>= 1.27.0), ggplot2 (>= 1.0.1), testthat, covr                                                                                                                                                                                                            \n",
       "vroom        archive, bench (>= 1.1.0), covr, curl, dplyr, forcats, fs,\\nggplot2, knitr, patchwork, prettyunits, purrr, rmarkdown,\\nrstudioapi, scales, spelling, testthat (>= 2.1.0), tidyr,\\nutils, waldo, xml2                                                              \n",
       "waldo        covr, R6, testthat (>= 3.0.0), withr, xml2                                                                                                                                                                                                                        \n",
       "whisker      markdown                                                                                                                                                                                                                                                          \n",
       "withr        callr, covr, DBI, knitr, lattice, methods, rlang, rmarkdown\\n(>= 2.12), RSQLite, testthat (>= 3.0.0)                                                                                                                                                              \n",
       "xfun         testit, parallel, codetools, rstudioapi, tinytex (>= 0.30),\\nmime, markdown (>= 1.5), knitr (>= 1.42), htmltools, remotes,\\npak, rhub, renv, curl, jsonlite, magick, yaml, rmarkdown                                                                              \n",
       "xml2         covr, curl, httr, knitr, magrittr, mockery, rmarkdown,\\ntestthat (>= 3.0.0)                                                                                                                                                                                       \n",
       "xopen        ps, testthat                                                                                                                                                                                                                                                      \n",
       "xtable       knitr, plm, zoo, survival                                                                                                                                                                                                                                         \n",
       "xts          timeSeries, timeDate, tseries, chron, tinytest                                                                                                                                                                                                                    \n",
       "yaml         RUnit                                                                                                                                                                                                                                                             \n",
       "zip          covr, processx, R6, testthat, withr                                                                                                                                                                                                                               \n",
       "zoo          AER, coda, chron, ggplot2 (>= 3.0.0), mondate, scales,\\nstinepack, strucchange, timeDate, timeSeries, tis, tseries, xts                                                                                                                                           \n",
       "             Enhances       License                               \n",
       "DAAG         NA             GPL-3                                 \n",
       "DBI          NA             LGPL (>= 2.1)                         \n",
       "Deriv        NA             GPL (>= 3)                            \n",
       "IRdisplay    NA             MIT + file LICENSE                    \n",
       "IRkernel     NA             MIT + file LICENSE                    \n",
       "ISLR         NA             GPL-2                                 \n",
       "KernSmooth   NA             Unlimited                             \n",
       "MASS         NA             GPL-2 | GPL-3                         \n",
       "Matrix       SparseM, graph GPL (>= 2) | file LICENCE             \n",
       "MatrixModels NA             GPL (>= 2)                            \n",
       "ModelMetrics NA             GPL (>= 2)                            \n",
       "R6           NA             MIT + file LICENSE                    \n",
       "RColorBrewer NA             Apache License 2.0                    \n",
       "Rcpp         NA             GPL (>= 2)                            \n",
       "RcppEigen    NA             GPL (>= 2) | file LICENSE             \n",
       "Rdpack       NA             GPL (>= 2)                            \n",
       "Rttf2pt1     NA             file LICENSE                          \n",
       "SQUAREM      NA             GPL (>= 2)                            \n",
       "SparseM      NA             GPL (>= 2)                            \n",
       "TTR          quantmod       GPL (>= 2)                            \n",
       "abind        NA             LGPL (>= 2)                           \n",
       "aplpack      NA             GPL (>= 2)                            \n",
       "askpass      NA             MIT + file LICENSE                    \n",
       "assertthat   NA             GPL-3                                 \n",
       "backports    NA             GPL-2 | GPL-3                         \n",
       "base         NA             Part of R 4.3.3                       \n",
       "base64enc    png            GPL-2 | GPL-3                         \n",
       "bit          NA             GPL-2 | GPL-3                         \n",
       "bit64        NA             GPL-2 | GPL-3                         \n",
       "blob         NA             MIT + file LICENSE                    \n",
       "⋮            ⋮              ⋮                                     \n",
       "tibble       NA             MIT + file LICENSE                    \n",
       "tidyr        NA             MIT + file LICENSE                    \n",
       "tidyselect   NA             MIT + file LICENSE                    \n",
       "tidyverse    NA             MIT + file LICENSE                    \n",
       "timeDate     NA             GPL (>= 2)                            \n",
       "timechange   NA             GPL (>= 3)                            \n",
       "tinytex      NA             MIT + file LICENSE                    \n",
       "tools        NA             Part of R 4.3.3                       \n",
       "triebeard    NA             MIT + file LICENSE                    \n",
       "tzdb         NA             MIT + file LICENSE                    \n",
       "urlchecker   NA             GPL-3                                 \n",
       "urltools     NA             MIT + file LICENSE                    \n",
       "usethis      NA             MIT + file LICENSE                    \n",
       "utf8         NA             Apache License (== 2.0) | file LICENSE\n",
       "utils        NA             Part of R 4.3.3                       \n",
       "uuid         NA             MIT + file LICENSE                    \n",
       "vctrs        NA             MIT + file LICENSE                    \n",
       "viridisLite  NA             MIT + file LICENSE                    \n",
       "vroom        NA             MIT + file LICENSE                    \n",
       "waldo        NA             MIT + file LICENSE                    \n",
       "whisker      NA             GPL-3                                 \n",
       "withr        NA             MIT + file LICENSE                    \n",
       "xfun         NA             MIT + file LICENSE                    \n",
       "xml2         NA             MIT + file LICENSE                    \n",
       "xopen        NA             MIT + file LICENSE                    \n",
       "xtable       NA             GPL (>= 2)                            \n",
       "xts          NA             GPL (>= 2)                            \n",
       "yaml         NA             BSD_3_clause + file LICENSE           \n",
       "zip          NA             MIT + file LICENSE                    \n",
       "zoo          NA             GPL-2 | GPL-3                         \n",
       "             License_is_FOSS License_restricts_use OS_type MD5sum\n",
       "DAAG         NA              NA                    NA      NA    \n",
       "DBI          NA              NA                    NA      NA    \n",
       "Deriv        NA              NA                    NA      NA    \n",
       "IRdisplay    NA              NA                    NA      NA    \n",
       "IRkernel     NA              NA                    NA      NA    \n",
       "ISLR         NA              NA                    NA      NA    \n",
       "KernSmooth   NA              NA                    NA      NA    \n",
       "MASS         NA              NA                    NA      NA    \n",
       "Matrix       NA              NA                    NA      NA    \n",
       "MatrixModels NA              NA                    NA      NA    \n",
       "ModelMetrics NA              NA                    NA      NA    \n",
       "R6           NA              NA                    NA      NA    \n",
       "RColorBrewer NA              NA                    NA      NA    \n",
       "Rcpp         NA              NA                    NA      NA    \n",
       "RcppEigen    NA              NA                    NA      NA    \n",
       "Rdpack       NA              NA                    NA      NA    \n",
       "Rttf2pt1     yes             NA                    NA      NA    \n",
       "SQUAREM      NA              NA                    NA      NA    \n",
       "SparseM      NA              NA                    NA      NA    \n",
       "TTR          NA              NA                    NA      NA    \n",
       "abind        NA              NA                    NA      NA    \n",
       "aplpack      NA              NA                    NA      NA    \n",
       "askpass      NA              NA                    NA      NA    \n",
       "assertthat   NA              NA                    NA      NA    \n",
       "backports    NA              NA                    NA      NA    \n",
       "base         NA              NA                    NA      NA    \n",
       "base64enc    NA              NA                    NA      NA    \n",
       "bit          NA              NA                    NA      NA    \n",
       "bit64        NA              NA                    NA      NA    \n",
       "blob         NA              NA                    NA      NA    \n",
       "⋮            ⋮               ⋮                     ⋮       ⋮     \n",
       "tibble       NA              NA                    NA      NA    \n",
       "tidyr        NA              NA                    NA      NA    \n",
       "tidyselect   NA              NA                    NA      NA    \n",
       "tidyverse    NA              NA                    NA      NA    \n",
       "timeDate     NA              NA                    NA      NA    \n",
       "timechange   NA              NA                    NA      NA    \n",
       "tinytex      NA              NA                    NA      NA    \n",
       "tools        NA              NA                    NA      NA    \n",
       "triebeard    NA              NA                    NA      NA    \n",
       "tzdb         NA              NA                    NA      NA    \n",
       "urlchecker   NA              NA                    NA      NA    \n",
       "urltools     NA              NA                    NA      NA    \n",
       "usethis      NA              NA                    NA      NA    \n",
       "utf8         NA              NA                    NA      NA    \n",
       "utils        NA              NA                    NA      NA    \n",
       "uuid         NA              NA                    NA      NA    \n",
       "vctrs        NA              NA                    NA      NA    \n",
       "viridisLite  NA              NA                    NA      NA    \n",
       "vroom        NA              NA                    NA      NA    \n",
       "waldo        NA              NA                    NA      NA    \n",
       "whisker      NA              NA                    NA      NA    \n",
       "withr        NA              NA                    NA      NA    \n",
       "xfun         NA              NA                    NA      NA    \n",
       "xml2         NA              NA                    NA      NA    \n",
       "xopen        NA              NA                    NA      NA    \n",
       "xtable       NA              NA                    NA      NA    \n",
       "xts          NA              NA                    NA      NA    \n",
       "yaml         NA              NA                    NA      NA    \n",
       "zip          NA              NA                    NA      NA    \n",
       "zoo          NA              NA                    NA      NA    \n",
       "             NeedsCompilation Built\n",
       "DAAG         no               4.3.3\n",
       "DBI          no               4.3.2\n",
       "Deriv        no               4.3.2\n",
       "IRdisplay    NA               4.3.0\n",
       "IRkernel     no               4.3.0\n",
       "ISLR         no               4.3.2\n",
       "KernSmooth   yes              4.3.0\n",
       "MASS         yes              4.3.3\n",
       "Matrix       yes              4.3.2\n",
       "MatrixModels no               4.3.3\n",
       "ModelMetrics yes              4.3.0\n",
       "R6           no               4.3.0\n",
       "RColorBrewer no               4.3.0\n",
       "Rcpp         yes              4.3.2\n",
       "RcppEigen    yes              4.3.2\n",
       "Rdpack       no               4.3.2\n",
       "Rttf2pt1     yes              4.3.3\n",
       "SQUAREM      no               4.3.0\n",
       "SparseM      yes              4.3.3\n",
       "TTR          yes              4.3.2\n",
       "abind        no               4.3.3\n",
       "aplpack      no               4.3.3\n",
       "askpass      yes              4.3.1\n",
       "assertthat   no               4.3.0\n",
       "backports    yes              4.3.0\n",
       "base         NA               4.3.3\n",
       "base64enc    yes              4.3.0\n",
       "bit          yes              4.3.0\n",
       "bit64        yes              4.3.0\n",
       "blob         no               4.3.0\n",
       "⋮            ⋮                ⋮    \n",
       "tibble       yes              4.3.0\n",
       "tidyr        yes              4.3.2\n",
       "tidyselect   no               4.3.0\n",
       "tidyverse    no               4.3.3\n",
       "timeDate     no               4.3.2\n",
       "timechange   yes              4.3.2\n",
       "tinytex      no               4.3.2\n",
       "tools        yes              4.3.3\n",
       "triebeard    yes              4.3.0\n",
       "tzdb         yes              4.3.0\n",
       "urlchecker   no               4.3.3\n",
       "urltools     yes              4.3.0\n",
       "usethis      no               4.3.3\n",
       "utf8         yes              4.3.1\n",
       "utils        yes              4.3.3\n",
       "uuid         yes              4.3.2\n",
       "vctrs        yes              4.3.2\n",
       "viridisLite  no               4.3.0\n",
       "vroom        yes              4.3.2\n",
       "waldo        no               4.3.3\n",
       "whisker      no               4.3.3\n",
       "withr        no               4.3.2\n",
       "xfun         yes              4.3.2\n",
       "xml2         yes              4.3.2\n",
       "xopen        no               4.3.3\n",
       "xtable       no               4.3.0\n",
       "xts          yes              4.3.2\n",
       "yaml         yes              4.3.2\n",
       "zip          yes              4.3.3\n",
       "zoo          yes              4.3.0"
      ]
     },
     "metadata": {},
     "output_type": "display_data"
    }
   ],
   "source": [
    "installed.packages()"
   ]
  },
  {
   "cell_type": "code",
   "execution_count": 61,
   "id": "daaee9a0-5638-43cc-be38-8e0c093410f4",
   "metadata": {},
   "outputs": [
    {
     "name": "stderr",
     "output_type": "stream",
     "text": [
      "also installing the dependencies ‘mvtnorm’, ‘locfit’, ‘ash’, ‘FNN’, ‘kernlab’, ‘mclust’, ‘multicool’, ‘pracma’, ‘pcaPP’, ‘hdrcde’, ‘ks’, ‘bitops’, ‘rainbow’, ‘RCurl’, ‘fds’, ‘deSolve’\n",
      "\n",
      "\n",
      "Updating HTML index of packages in '.Library'\n",
      "\n",
      "Making 'packages.html' ...\n",
      " done\n",
      "\n"
     ]
    }
   ],
   "source": [
    "install.packages(\"fda\")"
   ]
  },
  {
   "cell_type": "code",
   "execution_count": 60,
   "id": "f198b508-49a4-4f7b-bda3-8e69ec10fae3",
   "metadata": {},
   "outputs": [
    {
     "ename": "ERROR",
     "evalue": "Error in library(fda): there is no package called ‘fda’\n",
     "output_type": "error",
     "traceback": [
      "Error in library(fda): there is no package called ‘fda’\nTraceback:\n",
      "1. library(fda)"
     ]
    }
   ],
   "source": [
    "library(fda)\n",
    "ls(\"package:fda\")"
   ]
  },
  {
   "cell_type": "code",
   "execution_count": 62,
   "id": "ad69eae2-c5eb-412a-a8a3-9c742084b7e2",
   "metadata": {},
   "outputs": [],
   "source": [
    "me = function(a, b) {\n",
    "    rs = sum(a > b)\n",
    "    return(rs = list(rs = rs, a = a, b = b))\n",
    "}\n",
    "\n",
    "rs = me(rnorm(100), rnorm(100))"
   ]
  },
  {
   "cell_type": "code",
   "execution_count": 63,
   "id": "d4d85101-9f97-45eb-92dc-b4f874feafa6",
   "metadata": {},
   "outputs": [
    {
     "name": "stderr",
     "output_type": "stream",
     "text": [
      "\n",
      "Attaching package: ‘dplyr’\n",
      "\n",
      "\n",
      "The following objects are masked from ‘package:stats’:\n",
      "\n",
      "    filter, lag\n",
      "\n",
      "\n",
      "The following objects are masked from ‘package:base’:\n",
      "\n",
      "    intersect, setdiff, setequal, union\n",
      "\n",
      "\n"
     ]
    },
    {
     "name": "stdout",
     "output_type": "stream",
     "text": [
      "\u001b[90m# A tibble: 87 × 14\u001b[39m\n",
      "   name                  height   mass hair_color    skin_color         \n",
      "   \u001b[3m\u001b[90m<chr>\u001b[39m\u001b[23m                  \u001b[3m\u001b[90m<int>\u001b[39m\u001b[23m  \u001b[3m\u001b[90m<dbl>\u001b[39m\u001b[23m \u001b[3m\u001b[90m<chr>\u001b[39m\u001b[23m         \u001b[3m\u001b[90m<chr>\u001b[39m\u001b[23m              \n",
      "\u001b[90m 1\u001b[39m Luke Skywalker           172   77   blond         fair               \n",
      "\u001b[90m 2\u001b[39m C-3PO                    167   75   \u001b[31mNA\u001b[39m            gold               \n",
      "\u001b[90m 3\u001b[39m R2-D2                     96   32   \u001b[31mNA\u001b[39m            white, blue        \n",
      "\u001b[90m 4\u001b[39m Darth Vader              202  136   none          white              \n",
      "\u001b[90m 5\u001b[39m Leia Organa              150   49   brown         light              \n",
      "\u001b[90m 6\u001b[39m Owen Lars                178  120   brown, grey   light              \n",
      "\u001b[90m 7\u001b[39m Beru Whitesun Lars       165   75   brown         light              \n",
      "\u001b[90m 8\u001b[39m R5-D4                     97   32   \u001b[31mNA\u001b[39m            white, red         \n",
      "\u001b[90m 9\u001b[39m Biggs Darklighter        183   84   black         light              \n",
      "\u001b[90m10\u001b[39m Obi-Wan Kenobi           182   77   auburn, white fair               \n",
      "\u001b[90m11\u001b[39m Anakin Skywalker         188   84   blond         fair               \n",
      "\u001b[90m12\u001b[39m Wilhuff Tarkin           180   \u001b[31mNA\u001b[39m   auburn, grey  fair               \n",
      "\u001b[90m13\u001b[39m Chewbacca                228  112   brown         unknown            \n",
      "\u001b[90m14\u001b[39m Han Solo                 180   80   brown         fair               \n",
      "\u001b[90m15\u001b[39m Greedo                   173   74   \u001b[31mNA\u001b[39m            green              \n",
      "\u001b[90m16\u001b[39m Jabba Desilijic Tiure    175 \u001b[4m1\u001b[24m358   \u001b[31mNA\u001b[39m            green-tan, brown   \n",
      "\u001b[90m17\u001b[39m Wedge Antilles           170   77   brown         fair               \n",
      "\u001b[90m18\u001b[39m Jek Tono Porkins         180  110   brown         fair               \n",
      "\u001b[90m19\u001b[39m Yoda                      66   17   white         green              \n",
      "\u001b[90m20\u001b[39m Palpatine                170   75   grey          pale               \n",
      "\u001b[90m21\u001b[39m Boba Fett                183   78.2 black         fair               \n",
      "\u001b[90m22\u001b[39m IG-88                    200  140   none          metal              \n",
      "\u001b[90m23\u001b[39m Bossk                    190  113   none          green              \n",
      "\u001b[90m24\u001b[39m Lando Calrissian         177   79   black         dark               \n",
      "\u001b[90m25\u001b[39m Lobot                    175   79   none          light              \n",
      "\u001b[90m26\u001b[39m Ackbar                   180   83   none          brown mottle       \n",
      "\u001b[90m27\u001b[39m Mon Mothma               150   \u001b[31mNA\u001b[39m   auburn        fair               \n",
      "\u001b[90m28\u001b[39m Arvel Crynyd              \u001b[31mNA\u001b[39m   \u001b[31mNA\u001b[39m   brown         fair               \n",
      "\u001b[90m29\u001b[39m Wicket Systri Warrick     88   20   brown         brown              \n",
      "\u001b[90m30\u001b[39m Nien Nunb                160   68   none          grey               \n",
      "\u001b[90m31\u001b[39m Qui-Gon Jinn             193   89   brown         fair               \n",
      "\u001b[90m32\u001b[39m Nute Gunray              191   90   none          mottled green      \n",
      "\u001b[90m33\u001b[39m Finis Valorum            170   \u001b[31mNA\u001b[39m   blond         fair               \n",
      "\u001b[90m34\u001b[39m Padmé Amidala            185   45   brown         light              \n",
      "\u001b[90m35\u001b[39m Jar Jar Binks            196   66   none          orange             \n",
      "\u001b[90m36\u001b[39m Roos Tarpals             224   82   none          grey               \n",
      "\u001b[90m37\u001b[39m Rugor Nass               206   \u001b[31mNA\u001b[39m   none          green              \n",
      "\u001b[90m38\u001b[39m Ric Olié                 183   \u001b[31mNA\u001b[39m   brown         fair               \n",
      "\u001b[90m39\u001b[39m Watto                    137   \u001b[31mNA\u001b[39m   black         blue, grey         \n",
      "\u001b[90m40\u001b[39m Sebulba                  112   40   none          grey, red          \n",
      "\u001b[90m41\u001b[39m Quarsh Panaka            183   \u001b[31mNA\u001b[39m   black         dark               \n",
      "\u001b[90m42\u001b[39m Shmi Skywalker           163   \u001b[31mNA\u001b[39m   black         fair               \n",
      "\u001b[90m43\u001b[39m Darth Maul               175   80   none          red                \n",
      "\u001b[90m44\u001b[39m Bib Fortuna              180   \u001b[31mNA\u001b[39m   none          pale               \n",
      "\u001b[90m45\u001b[39m Ayla Secura              178   55   none          blue               \n",
      "\u001b[90m46\u001b[39m Ratts Tyerel              79   15   none          grey, blue         \n",
      "\u001b[90m47\u001b[39m Dud Bolt                  94   45   none          blue, grey         \n",
      "\u001b[90m48\u001b[39m Gasgano                  122   \u001b[31mNA\u001b[39m   none          white, blue        \n",
      "\u001b[90m49\u001b[39m Ben Quadinaros           163   65   none          grey, green, yellow\n",
      "\u001b[90m50\u001b[39m Mace Windu               188   84   none          dark               \n",
      "\u001b[90m51\u001b[39m Ki-Adi-Mundi             198   82   white         pale               \n",
      "\u001b[90m52\u001b[39m Kit Fisto                196   87   none          green              \n",
      "\u001b[90m53\u001b[39m Eeth Koth                171   \u001b[31mNA\u001b[39m   black         brown              \n",
      "\u001b[90m54\u001b[39m Adi Gallia               184   50   none          dark               \n",
      "\u001b[90m55\u001b[39m Saesee Tiin              188   \u001b[31mNA\u001b[39m   none          pale               \n",
      "\u001b[90m56\u001b[39m Yarael Poof              264   \u001b[31mNA\u001b[39m   none          white              \n",
      "\u001b[90m57\u001b[39m Plo Koon                 188   80   none          orange             \n",
      "\u001b[90m58\u001b[39m Mas Amedda               196   \u001b[31mNA\u001b[39m   none          blue               \n",
      "\u001b[90m59\u001b[39m Gregar Typho             185   85   black         dark               \n",
      "\u001b[90m60\u001b[39m Cordé                    157   \u001b[31mNA\u001b[39m   brown         light              \n",
      "\u001b[90m61\u001b[39m Cliegg Lars              183   \u001b[31mNA\u001b[39m   brown         fair               \n",
      "\u001b[90m62\u001b[39m Poggle the Lesser        183   80   none          green              \n",
      "\u001b[90m63\u001b[39m Luminara Unduli          170   56.2 black         yellow             \n",
      "\u001b[90m64\u001b[39m Barriss Offee            166   50   black         yellow             \n",
      "\u001b[90m65\u001b[39m Dormé                    165   \u001b[31mNA\u001b[39m   brown         light              \n",
      "\u001b[90m66\u001b[39m Dooku                    193   80   white         fair               \n",
      "\u001b[90m67\u001b[39m Bail Prestor Organa      191   \u001b[31mNA\u001b[39m   black         tan                \n",
      "\u001b[90m68\u001b[39m Jango Fett               183   79   black         tan                \n",
      "\u001b[90m69\u001b[39m Zam Wesell               168   55   blonde        fair, green, yellow\n",
      "\u001b[90m70\u001b[39m Dexter Jettster          198  102   none          brown              \n",
      "\u001b[90m71\u001b[39m Lama Su                  229   88   none          grey               \n",
      "\u001b[90m72\u001b[39m Taun We                  213   \u001b[31mNA\u001b[39m   none          grey               \n",
      "\u001b[90m73\u001b[39m Jocasta Nu               167   \u001b[31mNA\u001b[39m   white         fair               \n",
      "\u001b[90m74\u001b[39m R4-P17                    96   \u001b[31mNA\u001b[39m   none          silver, red        \n",
      "\u001b[90m75\u001b[39m Wat Tambor               193   48   none          green, grey        \n",
      "\u001b[90m76\u001b[39m San Hill                 191   \u001b[31mNA\u001b[39m   none          grey               \n",
      "\u001b[90m77\u001b[39m Shaak Ti                 178   57   none          red, blue, white   \n",
      "\u001b[90m78\u001b[39m Grievous                 216  159   none          brown, white       \n",
      "\u001b[90m79\u001b[39m Tarfful                  234  136   brown         brown              \n",
      "\u001b[90m80\u001b[39m Raymus Antilles          188   79   brown         light              \n",
      "\u001b[90m81\u001b[39m Sly Moore                178   48   none          pale               \n",
      "\u001b[90m82\u001b[39m Tion Medon               206   80   none          grey               \n",
      "\u001b[90m83\u001b[39m Finn                      \u001b[31mNA\u001b[39m   \u001b[31mNA\u001b[39m   black         dark               \n",
      "\u001b[90m84\u001b[39m Rey                       \u001b[31mNA\u001b[39m   \u001b[31mNA\u001b[39m   brown         light              \n",
      "\u001b[90m85\u001b[39m Poe Dameron               \u001b[31mNA\u001b[39m   \u001b[31mNA\u001b[39m   brown         light              \n",
      "\u001b[90m86\u001b[39m BB8                       \u001b[31mNA\u001b[39m   \u001b[31mNA\u001b[39m   none          none               \n",
      "\u001b[90m87\u001b[39m Captain Phasma            \u001b[31mNA\u001b[39m   \u001b[31mNA\u001b[39m   none          none               \n",
      "   eye_color     birth_year sex            gender    homeworld     \n",
      "   \u001b[3m\u001b[90m<chr>\u001b[39m\u001b[23m              \u001b[3m\u001b[90m<dbl>\u001b[39m\u001b[23m \u001b[3m\u001b[90m<chr>\u001b[39m\u001b[23m          \u001b[3m\u001b[90m<chr>\u001b[39m\u001b[23m     \u001b[3m\u001b[90m<chr>\u001b[39m\u001b[23m         \n",
      "\u001b[90m 1\u001b[39m blue                19   male           masculine Tatooine      \n",
      "\u001b[90m 2\u001b[39m yellow             112   none           masculine Tatooine      \n",
      "\u001b[90m 3\u001b[39m red                 33   none           masculine Naboo         \n",
      "\u001b[90m 4\u001b[39m yellow              41.9 male           masculine Tatooine      \n",
      "\u001b[90m 5\u001b[39m brown               19   female         feminine  Alderaan      \n",
      "\u001b[90m 6\u001b[39m blue                52   male           masculine Tatooine      \n",
      "\u001b[90m 7\u001b[39m blue                47   female         feminine  Tatooine      \n",
      "\u001b[90m 8\u001b[39m red                 \u001b[31mNA\u001b[39m   none           masculine Tatooine      \n",
      "\u001b[90m 9\u001b[39m brown               24   male           masculine Tatooine      \n",
      "\u001b[90m10\u001b[39m blue-gray           57   male           masculine Stewjon       \n",
      "\u001b[90m11\u001b[39m blue                41.9 male           masculine Tatooine      \n",
      "\u001b[90m12\u001b[39m blue                64   male           masculine Eriadu        \n",
      "\u001b[90m13\u001b[39m blue               200   male           masculine Kashyyyk      \n",
      "\u001b[90m14\u001b[39m brown               29   male           masculine Corellia      \n",
      "\u001b[90m15\u001b[39m black               44   male           masculine Rodia         \n",
      "\u001b[90m16\u001b[39m orange             600   hermaphroditic masculine Nal Hutta     \n",
      "\u001b[90m17\u001b[39m hazel               21   male           masculine Corellia      \n",
      "\u001b[90m18\u001b[39m blue                \u001b[31mNA\u001b[39m   \u001b[31mNA\u001b[39m             \u001b[31mNA\u001b[39m        Bestine IV    \n",
      "\u001b[90m19\u001b[39m brown              896   male           masculine \u001b[31mNA\u001b[39m            \n",
      "\u001b[90m20\u001b[39m yellow              82   male           masculine Naboo         \n",
      "\u001b[90m21\u001b[39m brown               31.5 male           masculine Kamino        \n",
      "\u001b[90m22\u001b[39m red                 15   none           masculine \u001b[31mNA\u001b[39m            \n",
      "\u001b[90m23\u001b[39m red                 53   male           masculine Trandosha     \n",
      "\u001b[90m24\u001b[39m brown               31   male           masculine Socorro       \n",
      "\u001b[90m25\u001b[39m blue                37   male           masculine Bespin        \n",
      "\u001b[90m26\u001b[39m orange              41   male           masculine Mon Cala      \n",
      "\u001b[90m27\u001b[39m blue                48   female         feminine  Chandrila     \n",
      "\u001b[90m28\u001b[39m brown               \u001b[31mNA\u001b[39m   male           masculine \u001b[31mNA\u001b[39m            \n",
      "\u001b[90m29\u001b[39m brown                8   male           masculine Endor         \n",
      "\u001b[90m30\u001b[39m black               \u001b[31mNA\u001b[39m   male           masculine Sullust       \n",
      "\u001b[90m31\u001b[39m blue                92   male           masculine \u001b[31mNA\u001b[39m            \n",
      "\u001b[90m32\u001b[39m red                 \u001b[31mNA\u001b[39m   male           masculine Cato Neimoidia\n",
      "\u001b[90m33\u001b[39m blue                91   male           masculine Coruscant     \n",
      "\u001b[90m34\u001b[39m brown               46   female         feminine  Naboo         \n",
      "\u001b[90m35\u001b[39m orange              52   male           masculine Naboo         \n",
      "\u001b[90m36\u001b[39m orange              \u001b[31mNA\u001b[39m   male           masculine Naboo         \n",
      "\u001b[90m37\u001b[39m orange              \u001b[31mNA\u001b[39m   male           masculine Naboo         \n",
      "\u001b[90m38\u001b[39m blue                \u001b[31mNA\u001b[39m   male           masculine Naboo         \n",
      "\u001b[90m39\u001b[39m yellow              \u001b[31mNA\u001b[39m   male           masculine Toydaria      \n",
      "\u001b[90m40\u001b[39m orange              \u001b[31mNA\u001b[39m   male           masculine Malastare     \n",
      "\u001b[90m41\u001b[39m brown               62   male           masculine Naboo         \n",
      "\u001b[90m42\u001b[39m brown               72   female         feminine  Tatooine      \n",
      "\u001b[90m43\u001b[39m yellow              54   male           masculine Dathomir      \n",
      "\u001b[90m44\u001b[39m pink                \u001b[31mNA\u001b[39m   male           masculine Ryloth        \n",
      "\u001b[90m45\u001b[39m hazel               48   female         feminine  Ryloth        \n",
      "\u001b[90m46\u001b[39m unknown             \u001b[31mNA\u001b[39m   male           masculine Aleen Minor   \n",
      "\u001b[90m47\u001b[39m yellow              \u001b[31mNA\u001b[39m   male           masculine Vulpter       \n",
      "\u001b[90m48\u001b[39m black               \u001b[31mNA\u001b[39m   male           masculine Troiken       \n",
      "\u001b[90m49\u001b[39m orange              \u001b[31mNA\u001b[39m   male           masculine Tund          \n",
      "\u001b[90m50\u001b[39m brown               72   male           masculine Haruun Kal    \n",
      "\u001b[90m51\u001b[39m yellow              92   male           masculine Cerea         \n",
      "\u001b[90m52\u001b[39m black               \u001b[31mNA\u001b[39m   male           masculine Glee Anselm   \n",
      "\u001b[90m53\u001b[39m brown               \u001b[31mNA\u001b[39m   male           masculine Iridonia      \n",
      "\u001b[90m54\u001b[39m blue                \u001b[31mNA\u001b[39m   female         feminine  Coruscant     \n",
      "\u001b[90m55\u001b[39m orange              \u001b[31mNA\u001b[39m   male           masculine Iktotch       \n",
      "\u001b[90m56\u001b[39m yellow              \u001b[31mNA\u001b[39m   male           masculine Quermia       \n",
      "\u001b[90m57\u001b[39m black               22   male           masculine Dorin         \n",
      "\u001b[90m58\u001b[39m blue                \u001b[31mNA\u001b[39m   male           masculine Champala      \n",
      "\u001b[90m59\u001b[39m brown               \u001b[31mNA\u001b[39m   \u001b[31mNA\u001b[39m             \u001b[31mNA\u001b[39m        Naboo         \n",
      "\u001b[90m60\u001b[39m brown               \u001b[31mNA\u001b[39m   \u001b[31mNA\u001b[39m             \u001b[31mNA\u001b[39m        Naboo         \n",
      "\u001b[90m61\u001b[39m blue                82   male           masculine Tatooine      \n",
      "\u001b[90m62\u001b[39m yellow              \u001b[31mNA\u001b[39m   male           masculine Geonosis      \n",
      "\u001b[90m63\u001b[39m blue                58   female         feminine  Mirial        \n",
      "\u001b[90m64\u001b[39m blue                40   female         feminine  Mirial        \n",
      "\u001b[90m65\u001b[39m brown               \u001b[31mNA\u001b[39m   female         feminine  Naboo         \n",
      "\u001b[90m66\u001b[39m brown              102   male           masculine Serenno       \n",
      "\u001b[90m67\u001b[39m brown               67   male           masculine Alderaan      \n",
      "\u001b[90m68\u001b[39m brown               66   male           masculine Concord Dawn  \n",
      "\u001b[90m69\u001b[39m yellow              \u001b[31mNA\u001b[39m   female         feminine  Zolan         \n",
      "\u001b[90m70\u001b[39m yellow              \u001b[31mNA\u001b[39m   male           masculine Ojom          \n",
      "\u001b[90m71\u001b[39m black               \u001b[31mNA\u001b[39m   male           masculine Kamino        \n",
      "\u001b[90m72\u001b[39m black               \u001b[31mNA\u001b[39m   female         feminine  Kamino        \n",
      "\u001b[90m73\u001b[39m blue                \u001b[31mNA\u001b[39m   female         feminine  Coruscant     \n",
      "\u001b[90m74\u001b[39m red, blue           \u001b[31mNA\u001b[39m   none           feminine  \u001b[31mNA\u001b[39m            \n",
      "\u001b[90m75\u001b[39m unknown             \u001b[31mNA\u001b[39m   male           masculine Skako         \n",
      "\u001b[90m76\u001b[39m gold                \u001b[31mNA\u001b[39m   male           masculine Muunilinst    \n",
      "\u001b[90m77\u001b[39m black               \u001b[31mNA\u001b[39m   female         feminine  Shili         \n",
      "\u001b[90m78\u001b[39m green, yellow       \u001b[31mNA\u001b[39m   male           masculine Kalee         \n",
      "\u001b[90m79\u001b[39m blue                \u001b[31mNA\u001b[39m   male           masculine Kashyyyk      \n",
      "\u001b[90m80\u001b[39m brown               \u001b[31mNA\u001b[39m   male           masculine Alderaan      \n",
      "\u001b[90m81\u001b[39m white               \u001b[31mNA\u001b[39m   \u001b[31mNA\u001b[39m             \u001b[31mNA\u001b[39m        Umbara        \n",
      "\u001b[90m82\u001b[39m black               \u001b[31mNA\u001b[39m   male           masculine Utapau        \n",
      "\u001b[90m83\u001b[39m dark                \u001b[31mNA\u001b[39m   male           masculine \u001b[31mNA\u001b[39m            \n",
      "\u001b[90m84\u001b[39m hazel               \u001b[31mNA\u001b[39m   female         feminine  \u001b[31mNA\u001b[39m            \n",
      "\u001b[90m85\u001b[39m brown               \u001b[31mNA\u001b[39m   male           masculine \u001b[31mNA\u001b[39m            \n",
      "\u001b[90m86\u001b[39m black               \u001b[31mNA\u001b[39m   none           masculine \u001b[31mNA\u001b[39m            \n",
      "\u001b[90m87\u001b[39m unknown             \u001b[31mNA\u001b[39m   female         feminine  \u001b[31mNA\u001b[39m            \n",
      "   species        films     vehicles  starships\n",
      "   \u001b[3m\u001b[90m<chr>\u001b[39m\u001b[23m          \u001b[3m\u001b[90m<list>\u001b[39m\u001b[23m    \u001b[3m\u001b[90m<list>\u001b[39m\u001b[23m    \u001b[3m\u001b[90m<list>\u001b[39m\u001b[23m   \n",
      "\u001b[90m 1\u001b[39m Human          \u001b[90m<chr [5]>\u001b[39m \u001b[90m<chr [2]>\u001b[39m \u001b[90m<chr [2]>\u001b[39m\n",
      "\u001b[90m 2\u001b[39m Droid          \u001b[90m<chr [6]>\u001b[39m \u001b[90m<chr [0]>\u001b[39m \u001b[90m<chr [0]>\u001b[39m\n",
      "\u001b[90m 3\u001b[39m Droid          \u001b[90m<chr [7]>\u001b[39m \u001b[90m<chr [0]>\u001b[39m \u001b[90m<chr [0]>\u001b[39m\n",
      "\u001b[90m 4\u001b[39m Human          \u001b[90m<chr [4]>\u001b[39m \u001b[90m<chr [0]>\u001b[39m \u001b[90m<chr [1]>\u001b[39m\n",
      "\u001b[90m 5\u001b[39m Human          \u001b[90m<chr [5]>\u001b[39m \u001b[90m<chr [1]>\u001b[39m \u001b[90m<chr [0]>\u001b[39m\n",
      "\u001b[90m 6\u001b[39m Human          \u001b[90m<chr [3]>\u001b[39m \u001b[90m<chr [0]>\u001b[39m \u001b[90m<chr [0]>\u001b[39m\n",
      "\u001b[90m 7\u001b[39m Human          \u001b[90m<chr [3]>\u001b[39m \u001b[90m<chr [0]>\u001b[39m \u001b[90m<chr [0]>\u001b[39m\n",
      "\u001b[90m 8\u001b[39m Droid          \u001b[90m<chr [1]>\u001b[39m \u001b[90m<chr [0]>\u001b[39m \u001b[90m<chr [0]>\u001b[39m\n",
      "\u001b[90m 9\u001b[39m Human          \u001b[90m<chr [1]>\u001b[39m \u001b[90m<chr [0]>\u001b[39m \u001b[90m<chr [1]>\u001b[39m\n",
      "\u001b[90m10\u001b[39m Human          \u001b[90m<chr [6]>\u001b[39m \u001b[90m<chr [1]>\u001b[39m \u001b[90m<chr [5]>\u001b[39m\n",
      "\u001b[90m11\u001b[39m Human          \u001b[90m<chr [3]>\u001b[39m \u001b[90m<chr [2]>\u001b[39m \u001b[90m<chr [3]>\u001b[39m\n",
      "\u001b[90m12\u001b[39m Human          \u001b[90m<chr [2]>\u001b[39m \u001b[90m<chr [0]>\u001b[39m \u001b[90m<chr [0]>\u001b[39m\n",
      "\u001b[90m13\u001b[39m Wookiee        \u001b[90m<chr [5]>\u001b[39m \u001b[90m<chr [1]>\u001b[39m \u001b[90m<chr [2]>\u001b[39m\n",
      "\u001b[90m14\u001b[39m Human          \u001b[90m<chr [4]>\u001b[39m \u001b[90m<chr [0]>\u001b[39m \u001b[90m<chr [2]>\u001b[39m\n",
      "\u001b[90m15\u001b[39m Rodian         \u001b[90m<chr [1]>\u001b[39m \u001b[90m<chr [0]>\u001b[39m \u001b[90m<chr [0]>\u001b[39m\n",
      "\u001b[90m16\u001b[39m Hutt           \u001b[90m<chr [3]>\u001b[39m \u001b[90m<chr [0]>\u001b[39m \u001b[90m<chr [0]>\u001b[39m\n",
      "\u001b[90m17\u001b[39m Human          \u001b[90m<chr [3]>\u001b[39m \u001b[90m<chr [1]>\u001b[39m \u001b[90m<chr [1]>\u001b[39m\n",
      "\u001b[90m18\u001b[39m \u001b[31mNA\u001b[39m             \u001b[90m<chr [1]>\u001b[39m \u001b[90m<chr [0]>\u001b[39m \u001b[90m<chr [1]>\u001b[39m\n",
      "\u001b[90m19\u001b[39m Yoda's species \u001b[90m<chr [5]>\u001b[39m \u001b[90m<chr [0]>\u001b[39m \u001b[90m<chr [0]>\u001b[39m\n",
      "\u001b[90m20\u001b[39m Human          \u001b[90m<chr [5]>\u001b[39m \u001b[90m<chr [0]>\u001b[39m \u001b[90m<chr [0]>\u001b[39m\n",
      "\u001b[90m21\u001b[39m Human          \u001b[90m<chr [3]>\u001b[39m \u001b[90m<chr [0]>\u001b[39m \u001b[90m<chr [1]>\u001b[39m\n",
      "\u001b[90m22\u001b[39m Droid          \u001b[90m<chr [1]>\u001b[39m \u001b[90m<chr [0]>\u001b[39m \u001b[90m<chr [0]>\u001b[39m\n",
      "\u001b[90m23\u001b[39m Trandoshan     \u001b[90m<chr [1]>\u001b[39m \u001b[90m<chr [0]>\u001b[39m \u001b[90m<chr [0]>\u001b[39m\n",
      "\u001b[90m24\u001b[39m Human          \u001b[90m<chr [2]>\u001b[39m \u001b[90m<chr [0]>\u001b[39m \u001b[90m<chr [1]>\u001b[39m\n",
      "\u001b[90m25\u001b[39m Human          \u001b[90m<chr [1]>\u001b[39m \u001b[90m<chr [0]>\u001b[39m \u001b[90m<chr [0]>\u001b[39m\n",
      "\u001b[90m26\u001b[39m Mon Calamari   \u001b[90m<chr [2]>\u001b[39m \u001b[90m<chr [0]>\u001b[39m \u001b[90m<chr [0]>\u001b[39m\n",
      "\u001b[90m27\u001b[39m Human          \u001b[90m<chr [1]>\u001b[39m \u001b[90m<chr [0]>\u001b[39m \u001b[90m<chr [0]>\u001b[39m\n",
      "\u001b[90m28\u001b[39m Human          \u001b[90m<chr [1]>\u001b[39m \u001b[90m<chr [0]>\u001b[39m \u001b[90m<chr [1]>\u001b[39m\n",
      "\u001b[90m29\u001b[39m Ewok           \u001b[90m<chr [1]>\u001b[39m \u001b[90m<chr [0]>\u001b[39m \u001b[90m<chr [0]>\u001b[39m\n",
      "\u001b[90m30\u001b[39m Sullustan      \u001b[90m<chr [1]>\u001b[39m \u001b[90m<chr [0]>\u001b[39m \u001b[90m<chr [1]>\u001b[39m\n",
      "\u001b[90m31\u001b[39m Human          \u001b[90m<chr [1]>\u001b[39m \u001b[90m<chr [1]>\u001b[39m \u001b[90m<chr [0]>\u001b[39m\n",
      "\u001b[90m32\u001b[39m Neimodian      \u001b[90m<chr [3]>\u001b[39m \u001b[90m<chr [0]>\u001b[39m \u001b[90m<chr [0]>\u001b[39m\n",
      "\u001b[90m33\u001b[39m Human          \u001b[90m<chr [1]>\u001b[39m \u001b[90m<chr [0]>\u001b[39m \u001b[90m<chr [0]>\u001b[39m\n",
      "\u001b[90m34\u001b[39m Human          \u001b[90m<chr [3]>\u001b[39m \u001b[90m<chr [0]>\u001b[39m \u001b[90m<chr [3]>\u001b[39m\n",
      "\u001b[90m35\u001b[39m Gungan         \u001b[90m<chr [2]>\u001b[39m \u001b[90m<chr [0]>\u001b[39m \u001b[90m<chr [0]>\u001b[39m\n",
      "\u001b[90m36\u001b[39m Gungan         \u001b[90m<chr [1]>\u001b[39m \u001b[90m<chr [0]>\u001b[39m \u001b[90m<chr [0]>\u001b[39m\n",
      "\u001b[90m37\u001b[39m Gungan         \u001b[90m<chr [1]>\u001b[39m \u001b[90m<chr [0]>\u001b[39m \u001b[90m<chr [0]>\u001b[39m\n",
      "\u001b[90m38\u001b[39m Human          \u001b[90m<chr [1]>\u001b[39m \u001b[90m<chr [0]>\u001b[39m \u001b[90m<chr [1]>\u001b[39m\n",
      "\u001b[90m39\u001b[39m Toydarian      \u001b[90m<chr [2]>\u001b[39m \u001b[90m<chr [0]>\u001b[39m \u001b[90m<chr [0]>\u001b[39m\n",
      "\u001b[90m40\u001b[39m Dug            \u001b[90m<chr [1]>\u001b[39m \u001b[90m<chr [0]>\u001b[39m \u001b[90m<chr [0]>\u001b[39m\n",
      "\u001b[90m41\u001b[39m Human          \u001b[90m<chr [1]>\u001b[39m \u001b[90m<chr [0]>\u001b[39m \u001b[90m<chr [0]>\u001b[39m\n",
      "\u001b[90m42\u001b[39m Human          \u001b[90m<chr [2]>\u001b[39m \u001b[90m<chr [0]>\u001b[39m \u001b[90m<chr [0]>\u001b[39m\n",
      "\u001b[90m43\u001b[39m Zabrak         \u001b[90m<chr [1]>\u001b[39m \u001b[90m<chr [1]>\u001b[39m \u001b[90m<chr [1]>\u001b[39m\n",
      "\u001b[90m44\u001b[39m Twi'lek        \u001b[90m<chr [1]>\u001b[39m \u001b[90m<chr [0]>\u001b[39m \u001b[90m<chr [0]>\u001b[39m\n",
      "\u001b[90m45\u001b[39m Twi'lek        \u001b[90m<chr [3]>\u001b[39m \u001b[90m<chr [0]>\u001b[39m \u001b[90m<chr [0]>\u001b[39m\n",
      "\u001b[90m46\u001b[39m Aleena         \u001b[90m<chr [1]>\u001b[39m \u001b[90m<chr [0]>\u001b[39m \u001b[90m<chr [0]>\u001b[39m\n",
      "\u001b[90m47\u001b[39m Vulptereen     \u001b[90m<chr [1]>\u001b[39m \u001b[90m<chr [0]>\u001b[39m \u001b[90m<chr [0]>\u001b[39m\n",
      "\u001b[90m48\u001b[39m Xexto          \u001b[90m<chr [1]>\u001b[39m \u001b[90m<chr [0]>\u001b[39m \u001b[90m<chr [0]>\u001b[39m\n",
      "\u001b[90m49\u001b[39m Toong          \u001b[90m<chr [1]>\u001b[39m \u001b[90m<chr [0]>\u001b[39m \u001b[90m<chr [0]>\u001b[39m\n",
      "\u001b[90m50\u001b[39m Human          \u001b[90m<chr [3]>\u001b[39m \u001b[90m<chr [0]>\u001b[39m \u001b[90m<chr [0]>\u001b[39m\n",
      "\u001b[90m51\u001b[39m Cerean         \u001b[90m<chr [3]>\u001b[39m \u001b[90m<chr [0]>\u001b[39m \u001b[90m<chr [0]>\u001b[39m\n",
      "\u001b[90m52\u001b[39m Nautolan       \u001b[90m<chr [3]>\u001b[39m \u001b[90m<chr [0]>\u001b[39m \u001b[90m<chr [0]>\u001b[39m\n",
      "\u001b[90m53\u001b[39m Zabrak         \u001b[90m<chr [2]>\u001b[39m \u001b[90m<chr [0]>\u001b[39m \u001b[90m<chr [0]>\u001b[39m\n",
      "\u001b[90m54\u001b[39m Tholothian     \u001b[90m<chr [2]>\u001b[39m \u001b[90m<chr [0]>\u001b[39m \u001b[90m<chr [0]>\u001b[39m\n",
      "\u001b[90m55\u001b[39m Iktotchi       \u001b[90m<chr [2]>\u001b[39m \u001b[90m<chr [0]>\u001b[39m \u001b[90m<chr [0]>\u001b[39m\n",
      "\u001b[90m56\u001b[39m Quermian       \u001b[90m<chr [1]>\u001b[39m \u001b[90m<chr [0]>\u001b[39m \u001b[90m<chr [0]>\u001b[39m\n",
      "\u001b[90m57\u001b[39m Kel Dor        \u001b[90m<chr [3]>\u001b[39m \u001b[90m<chr [0]>\u001b[39m \u001b[90m<chr [1]>\u001b[39m\n",
      "\u001b[90m58\u001b[39m Chagrian       \u001b[90m<chr [2]>\u001b[39m \u001b[90m<chr [0]>\u001b[39m \u001b[90m<chr [0]>\u001b[39m\n",
      "\u001b[90m59\u001b[39m \u001b[31mNA\u001b[39m             \u001b[90m<chr [1]>\u001b[39m \u001b[90m<chr [0]>\u001b[39m \u001b[90m<chr [1]>\u001b[39m\n",
      "\u001b[90m60\u001b[39m \u001b[31mNA\u001b[39m             \u001b[90m<chr [1]>\u001b[39m \u001b[90m<chr [0]>\u001b[39m \u001b[90m<chr [0]>\u001b[39m\n",
      "\u001b[90m61\u001b[39m Human          \u001b[90m<chr [1]>\u001b[39m \u001b[90m<chr [0]>\u001b[39m \u001b[90m<chr [0]>\u001b[39m\n",
      "\u001b[90m62\u001b[39m Geonosian      \u001b[90m<chr [2]>\u001b[39m \u001b[90m<chr [0]>\u001b[39m \u001b[90m<chr [0]>\u001b[39m\n",
      "\u001b[90m63\u001b[39m Mirialan       \u001b[90m<chr [2]>\u001b[39m \u001b[90m<chr [0]>\u001b[39m \u001b[90m<chr [0]>\u001b[39m\n",
      "\u001b[90m64\u001b[39m Mirialan       \u001b[90m<chr [1]>\u001b[39m \u001b[90m<chr [0]>\u001b[39m \u001b[90m<chr [0]>\u001b[39m\n",
      "\u001b[90m65\u001b[39m Human          \u001b[90m<chr [1]>\u001b[39m \u001b[90m<chr [0]>\u001b[39m \u001b[90m<chr [0]>\u001b[39m\n",
      "\u001b[90m66\u001b[39m Human          \u001b[90m<chr [2]>\u001b[39m \u001b[90m<chr [1]>\u001b[39m \u001b[90m<chr [0]>\u001b[39m\n",
      "\u001b[90m67\u001b[39m Human          \u001b[90m<chr [2]>\u001b[39m \u001b[90m<chr [0]>\u001b[39m \u001b[90m<chr [0]>\u001b[39m\n",
      "\u001b[90m68\u001b[39m Human          \u001b[90m<chr [1]>\u001b[39m \u001b[90m<chr [0]>\u001b[39m \u001b[90m<chr [0]>\u001b[39m\n",
      "\u001b[90m69\u001b[39m Clawdite       \u001b[90m<chr [1]>\u001b[39m \u001b[90m<chr [1]>\u001b[39m \u001b[90m<chr [0]>\u001b[39m\n",
      "\u001b[90m70\u001b[39m Besalisk       \u001b[90m<chr [1]>\u001b[39m \u001b[90m<chr [0]>\u001b[39m \u001b[90m<chr [0]>\u001b[39m\n",
      "\u001b[90m71\u001b[39m Kaminoan       \u001b[90m<chr [1]>\u001b[39m \u001b[90m<chr [0]>\u001b[39m \u001b[90m<chr [0]>\u001b[39m\n",
      "\u001b[90m72\u001b[39m Kaminoan       \u001b[90m<chr [1]>\u001b[39m \u001b[90m<chr [0]>\u001b[39m \u001b[90m<chr [0]>\u001b[39m\n",
      "\u001b[90m73\u001b[39m Human          \u001b[90m<chr [1]>\u001b[39m \u001b[90m<chr [0]>\u001b[39m \u001b[90m<chr [0]>\u001b[39m\n",
      "\u001b[90m74\u001b[39m Droid          \u001b[90m<chr [2]>\u001b[39m \u001b[90m<chr [0]>\u001b[39m \u001b[90m<chr [0]>\u001b[39m\n",
      "\u001b[90m75\u001b[39m Skakoan        \u001b[90m<chr [1]>\u001b[39m \u001b[90m<chr [0]>\u001b[39m \u001b[90m<chr [0]>\u001b[39m\n",
      "\u001b[90m76\u001b[39m Muun           \u001b[90m<chr [1]>\u001b[39m \u001b[90m<chr [0]>\u001b[39m \u001b[90m<chr [0]>\u001b[39m\n",
      "\u001b[90m77\u001b[39m Togruta        \u001b[90m<chr [2]>\u001b[39m \u001b[90m<chr [0]>\u001b[39m \u001b[90m<chr [0]>\u001b[39m\n",
      "\u001b[90m78\u001b[39m Kaleesh        \u001b[90m<chr [1]>\u001b[39m \u001b[90m<chr [1]>\u001b[39m \u001b[90m<chr [1]>\u001b[39m\n",
      "\u001b[90m79\u001b[39m Wookiee        \u001b[90m<chr [1]>\u001b[39m \u001b[90m<chr [0]>\u001b[39m \u001b[90m<chr [0]>\u001b[39m\n",
      "\u001b[90m80\u001b[39m Human          \u001b[90m<chr [2]>\u001b[39m \u001b[90m<chr [0]>\u001b[39m \u001b[90m<chr [0]>\u001b[39m\n",
      "\u001b[90m81\u001b[39m \u001b[31mNA\u001b[39m             \u001b[90m<chr [2]>\u001b[39m \u001b[90m<chr [0]>\u001b[39m \u001b[90m<chr [0]>\u001b[39m\n",
      "\u001b[90m82\u001b[39m Pau'an         \u001b[90m<chr [1]>\u001b[39m \u001b[90m<chr [0]>\u001b[39m \u001b[90m<chr [0]>\u001b[39m\n",
      "\u001b[90m83\u001b[39m Human          \u001b[90m<chr [1]>\u001b[39m \u001b[90m<chr [0]>\u001b[39m \u001b[90m<chr [0]>\u001b[39m\n",
      "\u001b[90m84\u001b[39m Human          \u001b[90m<chr [1]>\u001b[39m \u001b[90m<chr [0]>\u001b[39m \u001b[90m<chr [0]>\u001b[39m\n",
      "\u001b[90m85\u001b[39m Human          \u001b[90m<chr [1]>\u001b[39m \u001b[90m<chr [0]>\u001b[39m \u001b[90m<chr [1]>\u001b[39m\n",
      "\u001b[90m86\u001b[39m Droid          \u001b[90m<chr [1]>\u001b[39m \u001b[90m<chr [0]>\u001b[39m \u001b[90m<chr [0]>\u001b[39m\n",
      "\u001b[90m87\u001b[39m Human          \u001b[90m<chr [1]>\u001b[39m \u001b[90m<chr [0]>\u001b[39m \u001b[90m<chr [0]>\u001b[39m\n",
      "\u001b[90m# A tibble: 87 × 14\u001b[39m\n",
      "   name     height  mass hair_color skin_color eye_color birth_year sex   gender\n",
      "   \u001b[3m\u001b[90m<chr>\u001b[39m\u001b[23m     \u001b[3m\u001b[90m<int>\u001b[39m\u001b[23m \u001b[3m\u001b[90m<dbl>\u001b[39m\u001b[23m \u001b[3m\u001b[90m<chr>\u001b[39m\u001b[23m      \u001b[3m\u001b[90m<chr>\u001b[39m\u001b[23m      \u001b[3m\u001b[90m<chr>\u001b[39m\u001b[23m          \u001b[3m\u001b[90m<dbl>\u001b[39m\u001b[23m \u001b[3m\u001b[90m<chr>\u001b[39m\u001b[23m \u001b[3m\u001b[90m<chr>\u001b[39m\u001b[23m \n",
      "\u001b[90m 1\u001b[39m Luke Sk…    172    77 blond      fair       blue            19   male  mascu…\n",
      "\u001b[90m 2\u001b[39m C-3PO       167    75 \u001b[31mNA\u001b[39m         gold       yellow         112   none  mascu…\n",
      "\u001b[90m 3\u001b[39m R2-D2        96    32 \u001b[31mNA\u001b[39m         white, bl… red             33   none  mascu…\n",
      "\u001b[90m 4\u001b[39m Darth V…    202   136 none       white      yellow          41.9 male  mascu…\n",
      "\u001b[90m 5\u001b[39m Leia Or…    150    49 brown      light      brown           19   fema… femin…\n",
      "\u001b[90m 6\u001b[39m Owen La…    178   120 brown, gr… light      blue            52   male  mascu…\n",
      "\u001b[90m 7\u001b[39m Beru Wh…    165    75 brown      light      blue            47   fema… femin…\n",
      "\u001b[90m 8\u001b[39m R5-D4        97    32 \u001b[31mNA\u001b[39m         white, red red             \u001b[31mNA\u001b[39m   none  mascu…\n",
      "\u001b[90m 9\u001b[39m Biggs D…    183    84 black      light      brown           24   male  mascu…\n",
      "\u001b[90m10\u001b[39m Obi-Wan…    182    77 auburn, w… fair       blue-gray       57   male  mascu…\n",
      "\u001b[90m# ℹ 77 more rows\u001b[39m\n",
      "\u001b[90m# ℹ 5 more variables: homeworld <chr>, species <chr>, films <list>,\u001b[39m\n",
      "\u001b[90m#   vehicles <list>, starships <list>\u001b[39m\n"
     ]
    }
   ],
   "source": [
    "library(dplyr)\n",
    "print(starwars, n=Inf, width=Inf)\n",
    "print(starwars)"
   ]
  },
  {
   "cell_type": "code",
   "execution_count": 65,
   "id": "4e3b18a6-996f-4b71-96c0-310651bfc180",
   "metadata": {},
   "outputs": [
    {
     "name": "stdout",
     "output_type": "stream",
     "text": [
      "\u001b[90m# A tibble: 6 × 14\u001b[39m\n",
      "  name   height  mass hair_color skin_color  eye_color birth_year sex   gender  \n",
      "  \u001b[3m\u001b[90m<chr>\u001b[39m\u001b[23m   \u001b[3m\u001b[90m<int>\u001b[39m\u001b[23m \u001b[3m\u001b[90m<dbl>\u001b[39m\u001b[23m \u001b[3m\u001b[90m<chr>\u001b[39m\u001b[23m      \u001b[3m\u001b[90m<chr>\u001b[39m\u001b[23m       \u001b[3m\u001b[90m<chr>\u001b[39m\u001b[23m          \u001b[3m\u001b[90m<dbl>\u001b[39m\u001b[23m \u001b[3m\u001b[90m<chr>\u001b[39m\u001b[23m \u001b[3m\u001b[90m<chr>\u001b[39m\u001b[23m   \n",
      "\u001b[90m1\u001b[39m C-3PO     167    75 \u001b[31mNA\u001b[39m         gold        yellow           112 none  masculi…\n",
      "\u001b[90m2\u001b[39m R2-D2      96    32 \u001b[31mNA\u001b[39m         white, blue red               33 none  masculi…\n",
      "\u001b[90m3\u001b[39m R5-D4      97    32 \u001b[31mNA\u001b[39m         white, red  red               \u001b[31mNA\u001b[39m none  masculi…\n",
      "\u001b[90m4\u001b[39m IG-88     200   140 none       metal       red               15 none  masculi…\n",
      "\u001b[90m5\u001b[39m R4-P17     96    \u001b[31mNA\u001b[39m none       silver, red red, blue         \u001b[31mNA\u001b[39m none  feminine\n",
      "\u001b[90m6\u001b[39m BB8        \u001b[31mNA\u001b[39m    \u001b[31mNA\u001b[39m none       none        black             \u001b[31mNA\u001b[39m none  masculi…\n",
      "\u001b[90m# ℹ 5 more variables: homeworld <chr>, species <chr>, films <list>,\u001b[39m\n",
      "\u001b[90m#   vehicles <list>, starships <list>\u001b[39m\n"
     ]
    }
   ],
   "source": [
    "a = starwars |> filter(species == \"Droid\"); print(a)  ## select"
   ]
  },
  {
   "cell_type": "code",
   "execution_count": 67,
   "id": "1c99d3b7-5221-4434-8236-baf40b91f54f",
   "metadata": {},
   "outputs": [
    {
     "name": "stdout",
     "output_type": "stream",
     "text": [
      "\u001b[90m# A tibble: 5 × 14\u001b[39m\n",
      "  name   height  mass hair_color skin_color  eye_color birth_year sex   gender  \n",
      "  \u001b[3m\u001b[90m<chr>\u001b[39m\u001b[23m   \u001b[3m\u001b[90m<int>\u001b[39m\u001b[23m \u001b[3m\u001b[90m<dbl>\u001b[39m\u001b[23m \u001b[3m\u001b[90m<chr>\u001b[39m\u001b[23m      \u001b[3m\u001b[90m<chr>\u001b[39m\u001b[23m       \u001b[3m\u001b[90m<chr>\u001b[39m\u001b[23m          \u001b[3m\u001b[90m<dbl>\u001b[39m\u001b[23m \u001b[3m\u001b[90m<chr>\u001b[39m\u001b[23m \u001b[3m\u001b[90m<chr>\u001b[39m\u001b[23m   \n",
      "\u001b[90m1\u001b[39m C-3PO     167    75 \u001b[31mNA\u001b[39m         gold        yellow           112 none  masculi…\n",
      "\u001b[90m2\u001b[39m R2-D2      96    32 \u001b[31mNA\u001b[39m         white, blue red               33 none  masculi…\n",
      "\u001b[90m3\u001b[39m R5-D4      97    32 \u001b[31mNA\u001b[39m         white, red  red               \u001b[31mNA\u001b[39m none  masculi…\n",
      "\u001b[90m4\u001b[39m IG-88     200   140 none       metal       red               15 none  masculi…\n",
      "\u001b[90m5\u001b[39m R4-P17     96    \u001b[31mNA\u001b[39m none       silver, red red, blue         \u001b[31mNA\u001b[39m none  feminine\n",
      "\u001b[90m# ℹ 5 more variables: homeworld <chr>, species <chr>, films <list>,\u001b[39m\n",
      "\u001b[90m#   vehicles <list>, starships <list>\u001b[39m\n"
     ]
    }
   ],
   "source": [
    "aa = starwars |> filter(height >= 10 & species == \"Droid\"); print(aa) ## compared vectors"
   ]
  },
  {
   "cell_type": "code",
   "execution_count": 68,
   "id": "835c94bf-6c98-4408-950a-1c652c10e04f",
   "metadata": {},
   "outputs": [
    {
     "name": "stdout",
     "output_type": "stream",
     "text": [
      "\u001b[90m# A tibble: 87 × 6\u001b[39m\n",
      "   name               hair_color    skin_color  eye_color birth_year gender   \n",
      "   \u001b[3m\u001b[90m<chr>\u001b[39m\u001b[23m              \u001b[3m\u001b[90m<chr>\u001b[39m\u001b[23m         \u001b[3m\u001b[90m<chr>\u001b[39m\u001b[23m       \u001b[3m\u001b[90m<chr>\u001b[39m\u001b[23m          \u001b[3m\u001b[90m<dbl>\u001b[39m\u001b[23m \u001b[3m\u001b[90m<chr>\u001b[39m\u001b[23m    \n",
      "\u001b[90m 1\u001b[39m Luke Skywalker     blond         fair        blue            19   masculine\n",
      "\u001b[90m 2\u001b[39m C-3PO              \u001b[31mNA\u001b[39m            gold        yellow         112   masculine\n",
      "\u001b[90m 3\u001b[39m R2-D2              \u001b[31mNA\u001b[39m            white, blue red             33   masculine\n",
      "\u001b[90m 4\u001b[39m Darth Vader        none          white       yellow          41.9 masculine\n",
      "\u001b[90m 5\u001b[39m Leia Organa        brown         light       brown           19   feminine \n",
      "\u001b[90m 6\u001b[39m Owen Lars          brown, grey   light       blue            52   masculine\n",
      "\u001b[90m 7\u001b[39m Beru Whitesun Lars brown         light       blue            47   feminine \n",
      "\u001b[90m 8\u001b[39m R5-D4              \u001b[31mNA\u001b[39m            white, red  red             \u001b[31mNA\u001b[39m   masculine\n",
      "\u001b[90m 9\u001b[39m Biggs Darklighter  black         light       brown           24   masculine\n",
      "\u001b[90m10\u001b[39m Obi-Wan Kenobi     auburn, white fair        blue-gray       57   masculine\n",
      "\u001b[90m# ℹ 77 more rows\u001b[39m\n"
     ]
    }
   ],
   "source": [
    "b = starwars %>% select(name, ends_with(\"r\")); print(b)  ## project"
   ]
  },
  {
   "cell_type": "code",
   "execution_count": 71,
   "id": "dd0307fc-e225-498b-a811-f78a1b23a0be",
   "metadata": {},
   "outputs": [
    {
     "name": "stdout",
     "output_type": "stream",
     "text": [
      "\u001b[90m# A tibble: 87 × 14\u001b[39m\n",
      "   name     height  mass hair_color skin_color eye_color birth_year sex   gender\n",
      "   \u001b[3m\u001b[90m<chr>\u001b[39m\u001b[23m     \u001b[3m\u001b[90m<int>\u001b[39m\u001b[23m \u001b[3m\u001b[90m<dbl>\u001b[39m\u001b[23m \u001b[3m\u001b[90m<chr>\u001b[39m\u001b[23m      \u001b[3m\u001b[90m<chr>\u001b[39m\u001b[23m      \u001b[3m\u001b[90m<chr>\u001b[39m\u001b[23m          \u001b[3m\u001b[90m<dbl>\u001b[39m\u001b[23m \u001b[3m\u001b[90m<chr>\u001b[39m\u001b[23m \u001b[3m\u001b[90m<chr>\u001b[39m\u001b[23m \n",
      "\u001b[90m 1\u001b[39m Jabba D…    175  \u001b[4m1\u001b[24m358 \u001b[31mNA\u001b[39m         green-tan… orange         600   herm… mascu…\n",
      "\u001b[90m 2\u001b[39m Grievous    216   159 none       brown, wh… green, y…       \u001b[31mNA\u001b[39m   male  mascu…\n",
      "\u001b[90m 3\u001b[39m IG-88       200   140 none       metal      red             15   none  mascu…\n",
      "\u001b[90m 4\u001b[39m Darth V…    202   136 none       white      yellow          41.9 male  mascu…\n",
      "\u001b[90m 5\u001b[39m Tarfful     234   136 brown      brown      blue            \u001b[31mNA\u001b[39m   male  mascu…\n",
      "\u001b[90m 6\u001b[39m Owen La…    178   120 brown, gr… light      blue            52   male  mascu…\n",
      "\u001b[90m 7\u001b[39m Bossk       190   113 none       green      red             53   male  mascu…\n",
      "\u001b[90m 8\u001b[39m Chewbac…    228   112 brown      unknown    blue           200   male  mascu…\n",
      "\u001b[90m 9\u001b[39m Jek Ton…    180   110 brown      fair       blue            \u001b[31mNA\u001b[39m   \u001b[31mNA\u001b[39m    \u001b[31mNA\u001b[39m    \n",
      "\u001b[90m10\u001b[39m Dexter …    198   102 none       brown      yellow          \u001b[31mNA\u001b[39m   male  mascu…\n",
      "\u001b[90m# ℹ 77 more rows\u001b[39m\n",
      "\u001b[90m# ℹ 5 more variables: homeworld <chr>, species <chr>, films <list>,\u001b[39m\n",
      "\u001b[90m#   vehicles <list>, starships <list>\u001b[39m\n"
     ]
    }
   ],
   "source": [
    "d = starwars %>% arrange(desc(mass)); print(d)  ## sorting, descending by mass"
   ]
  },
  {
   "cell_type": "code",
   "execution_count": 73,
   "id": "c9b38f81-26f4-4441-b324-9a1e4183a10a",
   "metadata": {},
   "outputs": [
    {
     "name": "stdout",
     "output_type": "stream",
     "text": [
      "\u001b[90m# A tibble: 32 × 3\u001b[39m\n",
      "   species       n  mass\n",
      "   \u001b[3m\u001b[90m<chr>\u001b[39m\u001b[23m     \u001b[3m\u001b[90m<int>\u001b[39m\u001b[23m \u001b[3m\u001b[90m<dbl>\u001b[39m\u001b[23m\n",
      "\u001b[90m 1\u001b[39m Aleena        1  15  \n",
      "\u001b[90m 2\u001b[39m Besalisk      1 102  \n",
      "\u001b[90m 3\u001b[39m Cerean        1  82  \n",
      "\u001b[90m 4\u001b[39m Clawdite      1  55  \n",
      "\u001b[90m 5\u001b[39m Droid         6  69.8\n",
      "\u001b[90m 6\u001b[39m Dug           1  40  \n",
      "\u001b[90m 7\u001b[39m Ewok          1  20  \n",
      "\u001b[90m 8\u001b[39m Geonosian     1  80  \n",
      "\u001b[90m 9\u001b[39m Gungan        3  74  \n",
      "\u001b[90m10\u001b[39m Human        35  81.3\n",
      "\u001b[90m# ℹ 22 more rows\u001b[39m\n"
     ]
    }
   ],
   "source": [
    "e = starwars %>% group_by(species) |> summarise(n = n(), mass = mean(mass, na.rm = TRUE)) |> filter(n > 0, mass > 0); print(e)"
   ]
  },
  {
   "cell_type": "code",
   "execution_count": 75,
   "id": "df4c78ce-52d8-4240-b5b3-767019ce3fff",
   "metadata": {},
   "outputs": [
    {
     "name": "stdout",
     "output_type": "stream",
     "text": [
      "\u001b[90m# A tibble: 46 × 1\u001b[39m\n",
      "   height\n",
      "    \u001b[3m\u001b[90m<int>\u001b[39m\u001b[23m\n",
      "\u001b[90m 1\u001b[39m    172\n",
      "\u001b[90m 2\u001b[39m    167\n",
      "\u001b[90m 3\u001b[39m     96\n",
      "\u001b[90m 4\u001b[39m    202\n",
      "\u001b[90m 5\u001b[39m    150\n",
      "\u001b[90m 6\u001b[39m    178\n",
      "\u001b[90m 7\u001b[39m    165\n",
      "\u001b[90m 8\u001b[39m     97\n",
      "\u001b[90m 9\u001b[39m    183\n",
      "\u001b[90m10\u001b[39m    182\n",
      "\u001b[90m# ℹ 36 more rows\u001b[39m\n"
     ]
    }
   ],
   "source": [
    "df2 = starwars |> distinct(height, .keep_all = FALSE); print(df2)  ## seperal, clearing data uniqueness. and do not .keep_all other attributes"
   ]
  },
  {
   "cell_type": "code",
   "execution_count": 76,
   "id": "854d1277-bfe3-4864-a698-3f13363c8d13",
   "metadata": {},
   "outputs": [
    {
     "name": "stdout",
     "output_type": "stream",
     "text": [
      "\u001b[90m# A tibble: 39 × 14\u001b[39m\n",
      "   name     height  mass hair_color skin_color eye_color birth_year sex   gender\n",
      "   \u001b[3m\u001b[90m<chr>\u001b[39m\u001b[23m     \u001b[3m\u001b[90m<int>\u001b[39m\u001b[23m \u001b[3m\u001b[90m<dbl>\u001b[39m\u001b[23m \u001b[3m\u001b[90m<chr>\u001b[39m\u001b[23m      \u001b[3m\u001b[90m<chr>\u001b[39m\u001b[23m      \u001b[3m\u001b[90m<chr>\u001b[39m\u001b[23m          \u001b[3m\u001b[90m<dbl>\u001b[39m\u001b[23m \u001b[3m\u001b[90m<chr>\u001b[39m\u001b[23m \u001b[3m\u001b[90m<chr>\u001b[39m\u001b[23m \n",
      "\u001b[90m 1\u001b[39m C-3PO       167    75 \u001b[31mNA\u001b[39m         gold       yellow         112   none  mascu…\n",
      "\u001b[90m 2\u001b[39m R2-D2        96    32 \u001b[31mNA\u001b[39m         white, bl… red             33   none  mascu…\n",
      "\u001b[90m 3\u001b[39m Darth V…    202   136 none       white      yellow          41.9 male  mascu…\n",
      "\u001b[90m 4\u001b[39m Leia Or…    150    49 brown      light      brown           19   fema… femin…\n",
      "\u001b[90m 5\u001b[39m Owen La…    178   120 brown, gr… light      blue            52   male  mascu…\n",
      "\u001b[90m 6\u001b[39m Beru Wh…    165    75 brown      light      blue            47   fema… femin…\n",
      "\u001b[90m 7\u001b[39m R5-D4        97    32 \u001b[31mNA\u001b[39m         white, red red             \u001b[31mNA\u001b[39m   none  mascu…\n",
      "\u001b[90m 8\u001b[39m Biggs D…    183    84 black      light      brown           24   male  mascu…\n",
      "\u001b[90m 9\u001b[39m Obi-Wan…    182    77 auburn, w… fair       blue-gray       57   male  mascu…\n",
      "\u001b[90m10\u001b[39m Anakin …    188    84 blond      fair       blue            41.9 male  mascu…\n",
      "\u001b[90m# ℹ 29 more rows\u001b[39m\n",
      "\u001b[90m# ℹ 5 more variables: homeworld <chr>, species <chr>, films <list>,\u001b[39m\n",
      "\u001b[90m#   vehicles <list>, starships <list>\u001b[39m\n"
     ]
    }
   ],
   "source": [
    "df3 = starwars |> slice(2:40); print(df3)  ## select"
   ]
  },
  {
   "cell_type": "code",
   "execution_count": 77,
   "id": "7173bdd1-05ec-4202-a0a7-31de43c77c77",
   "metadata": {},
   "outputs": [],
   "source": [
    "set.seed(222)\n",
    "d1 = data.frame(id = rep(1:10, each=1), c = rpois(10*1,2))\n",
    "d2 = data.frame(id = 2:11, d = rpois(10,4))"
   ]
  },
  {
   "cell_type": "code",
   "execution_count": 79,
   "id": "551ea6de-879a-42e8-b4e7-5bbef3188f5f",
   "metadata": {},
   "outputs": [
    {
     "data": {
      "text/html": [
       "<table class=\"dataframe\">\n",
       "<caption>A data.frame: 9 × 3</caption>\n",
       "<thead>\n",
       "\t<tr><th scope=col>id</th><th scope=col>c</th><th scope=col>d</th></tr>\n",
       "\t<tr><th scope=col>&lt;int&gt;</th><th scope=col>&lt;int&gt;</th><th scope=col>&lt;int&gt;</th></tr>\n",
       "</thead>\n",
       "<tbody>\n",
       "\t<tr><td> 2</td><td>0</td><td>3</td></tr>\n",
       "\t<tr><td> 3</td><td>2</td><td>1</td></tr>\n",
       "\t<tr><td> 4</td><td>0</td><td>2</td></tr>\n",
       "\t<tr><td> 5</td><td>4</td><td>5</td></tr>\n",
       "\t<tr><td> 6</td><td>5</td><td>7</td></tr>\n",
       "\t<tr><td> 7</td><td>1</td><td>1</td></tr>\n",
       "\t<tr><td> 8</td><td>2</td><td>5</td></tr>\n",
       "\t<tr><td> 9</td><td>2</td><td>1</td></tr>\n",
       "\t<tr><td>10</td><td>1</td><td>2</td></tr>\n",
       "</tbody>\n",
       "</table>\n"
      ],
      "text/latex": [
       "A data.frame: 9 × 3\n",
       "\\begin{tabular}{lll}\n",
       " id & c & d\\\\\n",
       " <int> & <int> & <int>\\\\\n",
       "\\hline\n",
       "\t  2 & 0 & 3\\\\\n",
       "\t  3 & 2 & 1\\\\\n",
       "\t  4 & 0 & 2\\\\\n",
       "\t  5 & 4 & 5\\\\\n",
       "\t  6 & 5 & 7\\\\\n",
       "\t  7 & 1 & 1\\\\\n",
       "\t  8 & 2 & 5\\\\\n",
       "\t  9 & 2 & 1\\\\\n",
       "\t 10 & 1 & 2\\\\\n",
       "\\end{tabular}\n"
      ],
      "text/markdown": [
       "\n",
       "A data.frame: 9 × 3\n",
       "\n",
       "| id &lt;int&gt; | c &lt;int&gt; | d &lt;int&gt; |\n",
       "|---|---|---|\n",
       "|  2 | 0 | 3 |\n",
       "|  3 | 2 | 1 |\n",
       "|  4 | 0 | 2 |\n",
       "|  5 | 4 | 5 |\n",
       "|  6 | 5 | 7 |\n",
       "|  7 | 1 | 1 |\n",
       "|  8 | 2 | 5 |\n",
       "|  9 | 2 | 1 |\n",
       "| 10 | 1 | 2 |\n",
       "\n"
      ],
      "text/plain": [
       "  id c d\n",
       "1  2 0 3\n",
       "2  3 2 1\n",
       "3  4 0 2\n",
       "4  5 4 5\n",
       "5  6 5 7\n",
       "6  7 1 1\n",
       "7  8 2 5\n",
       "8  9 2 1\n",
       "9 10 1 2"
      ]
     },
     "metadata": {},
     "output_type": "display_data"
    },
    {
     "data": {
      "text/html": [
       "<table class=\"dataframe\">\n",
       "<caption>A data.frame: 11 × 3</caption>\n",
       "<thead>\n",
       "\t<tr><th scope=col>id</th><th scope=col>c</th><th scope=col>d</th></tr>\n",
       "\t<tr><th scope=col>&lt;int&gt;</th><th scope=col>&lt;int&gt;</th><th scope=col>&lt;int&gt;</th></tr>\n",
       "</thead>\n",
       "<tbody>\n",
       "\t<tr><td> 1</td><td> 4</td><td>NA</td></tr>\n",
       "\t<tr><td> 2</td><td> 0</td><td> 3</td></tr>\n",
       "\t<tr><td> 3</td><td> 2</td><td> 1</td></tr>\n",
       "\t<tr><td> 4</td><td> 0</td><td> 2</td></tr>\n",
       "\t<tr><td> 5</td><td> 4</td><td> 5</td></tr>\n",
       "\t<tr><td> 6</td><td> 5</td><td> 7</td></tr>\n",
       "\t<tr><td> 7</td><td> 1</td><td> 1</td></tr>\n",
       "\t<tr><td> 8</td><td> 2</td><td> 5</td></tr>\n",
       "\t<tr><td> 9</td><td> 2</td><td> 1</td></tr>\n",
       "\t<tr><td>10</td><td> 1</td><td> 2</td></tr>\n",
       "\t<tr><td>11</td><td>NA</td><td> 2</td></tr>\n",
       "</tbody>\n",
       "</table>\n"
      ],
      "text/latex": [
       "A data.frame: 11 × 3\n",
       "\\begin{tabular}{lll}\n",
       " id & c & d\\\\\n",
       " <int> & <int> & <int>\\\\\n",
       "\\hline\n",
       "\t  1 &  4 & NA\\\\\n",
       "\t  2 &  0 &  3\\\\\n",
       "\t  3 &  2 &  1\\\\\n",
       "\t  4 &  0 &  2\\\\\n",
       "\t  5 &  4 &  5\\\\\n",
       "\t  6 &  5 &  7\\\\\n",
       "\t  7 &  1 &  1\\\\\n",
       "\t  8 &  2 &  5\\\\\n",
       "\t  9 &  2 &  1\\\\\n",
       "\t 10 &  1 &  2\\\\\n",
       "\t 11 & NA &  2\\\\\n",
       "\\end{tabular}\n"
      ],
      "text/markdown": [
       "\n",
       "A data.frame: 11 × 3\n",
       "\n",
       "| id &lt;int&gt; | c &lt;int&gt; | d &lt;int&gt; |\n",
       "|---|---|---|\n",
       "|  1 |  4 | NA |\n",
       "|  2 |  0 |  3 |\n",
       "|  3 |  2 |  1 |\n",
       "|  4 |  0 |  2 |\n",
       "|  5 |  4 |  5 |\n",
       "|  6 |  5 |  7 |\n",
       "|  7 |  1 |  1 |\n",
       "|  8 |  2 |  5 |\n",
       "|  9 |  2 |  1 |\n",
       "| 10 |  1 |  2 |\n",
       "| 11 | NA |  2 |\n",
       "\n"
      ],
      "text/plain": [
       "   id c  d \n",
       "1   1  4 NA\n",
       "2   2  0  3\n",
       "3   3  2  1\n",
       "4   4  0  2\n",
       "5   5  4  5\n",
       "6   6  5  7\n",
       "7   7  1  1\n",
       "8   8  2  5\n",
       "9   9  2  1\n",
       "10 10  1  2\n",
       "11 11 NA  2"
      ]
     },
     "metadata": {},
     "output_type": "display_data"
    }
   ],
   "source": [
    "inner_join(d1, d2, by = \"id\")  ## natural join\n",
    "full_join(d1, d2, by = \"id\")  ## total outer join"
   ]
  },
  {
   "cell_type": "code",
   "execution_count": 80,
   "id": "206f7693-96b7-491b-b10e-74a7739a8a74",
   "metadata": {},
   "outputs": [],
   "source": [
    "set.seed(222)\n",
    "d1 = data.frame(id1 = 1:10, id2 = rep(1:5, each=2), c = rpois(10*1,2))\n",
    "d2 = data.frame(id1 = 2:3,  id2 = rep(2,2), d = rpois(2,4))"
   ]
  },
  {
   "cell_type": "code",
   "execution_count": 84,
   "id": "1badece3-9ef9-4b95-8776-657ff48c1dbf",
   "metadata": {},
   "outputs": [
    {
     "name": "stderr",
     "output_type": "stream",
     "text": [
      "Warning message in inner_join(d1, d2, by = \"id2\"):\n",
      "“\u001b[1m\u001b[22mDetected an unexpected many-to-many relationship between `x` and `y`.\n",
      "\u001b[36mℹ\u001b[39m Row 3 of `x` matches multiple rows in `y`.\n",
      "\u001b[36mℹ\u001b[39m Row 1 of `y` matches multiple rows in `x`.\n",
      "\u001b[36mℹ\u001b[39m If a many-to-many relationship is expected, set `relationship =\n",
      "  \"many-to-many\"` to silence this warning.”\n"
     ]
    },
    {
     "data": {
      "text/html": [
       "<table class=\"dataframe\">\n",
       "<caption>A data.frame: 4 × 5</caption>\n",
       "<thead>\n",
       "\t<tr><th scope=col>id1.x</th><th scope=col>id2</th><th scope=col>c</th><th scope=col>id1.y</th><th scope=col>d</th></tr>\n",
       "\t<tr><th scope=col>&lt;int&gt;</th><th scope=col>&lt;dbl&gt;</th><th scope=col>&lt;int&gt;</th><th scope=col>&lt;int&gt;</th><th scope=col>&lt;int&gt;</th></tr>\n",
       "</thead>\n",
       "<tbody>\n",
       "\t<tr><td>3</td><td>2</td><td>2</td><td>2</td><td>3</td></tr>\n",
       "\t<tr><td>3</td><td>2</td><td>2</td><td>3</td><td>1</td></tr>\n",
       "\t<tr><td>4</td><td>2</td><td>0</td><td>2</td><td>3</td></tr>\n",
       "\t<tr><td>4</td><td>2</td><td>0</td><td>3</td><td>1</td></tr>\n",
       "</tbody>\n",
       "</table>\n"
      ],
      "text/latex": [
       "A data.frame: 4 × 5\n",
       "\\begin{tabular}{lllll}\n",
       " id1.x & id2 & c & id1.y & d\\\\\n",
       " <int> & <dbl> & <int> & <int> & <int>\\\\\n",
       "\\hline\n",
       "\t 3 & 2 & 2 & 2 & 3\\\\\n",
       "\t 3 & 2 & 2 & 3 & 1\\\\\n",
       "\t 4 & 2 & 0 & 2 & 3\\\\\n",
       "\t 4 & 2 & 0 & 3 & 1\\\\\n",
       "\\end{tabular}\n"
      ],
      "text/markdown": [
       "\n",
       "A data.frame: 4 × 5\n",
       "\n",
       "| id1.x &lt;int&gt; | id2 &lt;dbl&gt; | c &lt;int&gt; | id1.y &lt;int&gt; | d &lt;int&gt; |\n",
       "|---|---|---|---|---|\n",
       "| 3 | 2 | 2 | 2 | 3 |\n",
       "| 3 | 2 | 2 | 3 | 1 |\n",
       "| 4 | 2 | 0 | 2 | 3 |\n",
       "| 4 | 2 | 0 | 3 | 1 |\n",
       "\n"
      ],
      "text/plain": [
       "  id1.x id2 c id1.y d\n",
       "1 3     2   2 2     3\n",
       "2 3     2   2 3     1\n",
       "3 4     2   0 2     3\n",
       "4 4     2   0 3     1"
      ]
     },
     "metadata": {},
     "output_type": "display_data"
    }
   ],
   "source": [
    "inner_join(d1, d2, by = \"id2\")"
   ]
  },
  {
   "cell_type": "markdown",
   "id": "8519229f-b0b3-4ca8-bb2e-81eac587f95b",
   "metadata": {},
   "source": [
    "> `id2`가 같은 것이 2개씩 있다. 이에 따라 Warning을 송출하고 카티션 프로덕트를 산출한다."
   ]
  },
  {
   "cell_type": "code",
   "execution_count": 85,
   "id": "95d73556-f50c-4d9b-ab6b-1f54a445aea8",
   "metadata": {},
   "outputs": [
    {
     "data": {
      "text/html": [
       "<table class=\"dataframe\">\n",
       "<caption>A data.frame: 10 × 5</caption>\n",
       "<thead>\n",
       "\t<tr><th scope=col>id1</th><th scope=col>id2.x</th><th scope=col>c</th><th scope=col>id2.y</th><th scope=col>d</th></tr>\n",
       "\t<tr><th scope=col>&lt;int&gt;</th><th scope=col>&lt;int&gt;</th><th scope=col>&lt;int&gt;</th><th scope=col>&lt;dbl&gt;</th><th scope=col>&lt;int&gt;</th></tr>\n",
       "</thead>\n",
       "<tbody>\n",
       "\t<tr><td> 1</td><td>1</td><td>4</td><td>NA</td><td>NA</td></tr>\n",
       "\t<tr><td> 2</td><td>1</td><td>0</td><td> 2</td><td> 3</td></tr>\n",
       "\t<tr><td> 3</td><td>2</td><td>2</td><td> 2</td><td> 1</td></tr>\n",
       "\t<tr><td> 4</td><td>2</td><td>0</td><td>NA</td><td>NA</td></tr>\n",
       "\t<tr><td> 5</td><td>3</td><td>4</td><td>NA</td><td>NA</td></tr>\n",
       "\t<tr><td> 6</td><td>3</td><td>5</td><td>NA</td><td>NA</td></tr>\n",
       "\t<tr><td> 7</td><td>4</td><td>1</td><td>NA</td><td>NA</td></tr>\n",
       "\t<tr><td> 8</td><td>4</td><td>2</td><td>NA</td><td>NA</td></tr>\n",
       "\t<tr><td> 9</td><td>5</td><td>2</td><td>NA</td><td>NA</td></tr>\n",
       "\t<tr><td>10</td><td>5</td><td>1</td><td>NA</td><td>NA</td></tr>\n",
       "</tbody>\n",
       "</table>\n"
      ],
      "text/latex": [
       "A data.frame: 10 × 5\n",
       "\\begin{tabular}{lllll}\n",
       " id1 & id2.x & c & id2.y & d\\\\\n",
       " <int> & <int> & <int> & <dbl> & <int>\\\\\n",
       "\\hline\n",
       "\t  1 & 1 & 4 & NA & NA\\\\\n",
       "\t  2 & 1 & 0 &  2 &  3\\\\\n",
       "\t  3 & 2 & 2 &  2 &  1\\\\\n",
       "\t  4 & 2 & 0 & NA & NA\\\\\n",
       "\t  5 & 3 & 4 & NA & NA\\\\\n",
       "\t  6 & 3 & 5 & NA & NA\\\\\n",
       "\t  7 & 4 & 1 & NA & NA\\\\\n",
       "\t  8 & 4 & 2 & NA & NA\\\\\n",
       "\t  9 & 5 & 2 & NA & NA\\\\\n",
       "\t 10 & 5 & 1 & NA & NA\\\\\n",
       "\\end{tabular}\n"
      ],
      "text/markdown": [
       "\n",
       "A data.frame: 10 × 5\n",
       "\n",
       "| id1 &lt;int&gt; | id2.x &lt;int&gt; | c &lt;int&gt; | id2.y &lt;dbl&gt; | d &lt;int&gt; |\n",
       "|---|---|---|---|---|\n",
       "|  1 | 1 | 4 | NA | NA |\n",
       "|  2 | 1 | 0 |  2 |  3 |\n",
       "|  3 | 2 | 2 |  2 |  1 |\n",
       "|  4 | 2 | 0 | NA | NA |\n",
       "|  5 | 3 | 4 | NA | NA |\n",
       "|  6 | 3 | 5 | NA | NA |\n",
       "|  7 | 4 | 1 | NA | NA |\n",
       "|  8 | 4 | 2 | NA | NA |\n",
       "|  9 | 5 | 2 | NA | NA |\n",
       "| 10 | 5 | 1 | NA | NA |\n",
       "\n"
      ],
      "text/plain": [
       "   id1 id2.x c id2.y d \n",
       "1   1  1     4 NA    NA\n",
       "2   2  1     0  2     3\n",
       "3   3  2     2  2     1\n",
       "4   4  2     0 NA    NA\n",
       "5   5  3     4 NA    NA\n",
       "6   6  3     5 NA    NA\n",
       "7   7  4     1 NA    NA\n",
       "8   8  4     2 NA    NA\n",
       "9   9  5     2 NA    NA\n",
       "10 10  5     1 NA    NA"
      ]
     },
     "metadata": {},
     "output_type": "display_data"
    }
   ],
   "source": [
    "full_join(d1, d2, by = \"id1\")"
   ]
  },
  {
   "cell_type": "code",
   "execution_count": 91,
   "id": "15f42079-9ec5-49f8-b8cf-052c59c1a4fc",
   "metadata": {},
   "outputs": [
    {
     "data": {
      "text/html": [
       "<table class=\"dataframe\">\n",
       "<caption>A data.frame: 2 × 5</caption>\n",
       "<thead>\n",
       "\t<tr><th scope=col>id1</th><th scope=col>id2.x</th><th scope=col>c</th><th scope=col>id2.y</th><th scope=col>d</th></tr>\n",
       "\t<tr><th scope=col>&lt;int&gt;</th><th scope=col>&lt;int&gt;</th><th scope=col>&lt;int&gt;</th><th scope=col>&lt;dbl&gt;</th><th scope=col>&lt;int&gt;</th></tr>\n",
       "</thead>\n",
       "<tbody>\n",
       "\t<tr><td>2</td><td>1</td><td>0</td><td>2</td><td>3</td></tr>\n",
       "\t<tr><td>3</td><td>2</td><td>2</td><td>2</td><td>1</td></tr>\n",
       "</tbody>\n",
       "</table>\n"
      ],
      "text/latex": [
       "A data.frame: 2 × 5\n",
       "\\begin{tabular}{lllll}\n",
       " id1 & id2.x & c & id2.y & d\\\\\n",
       " <int> & <int> & <int> & <dbl> & <int>\\\\\n",
       "\\hline\n",
       "\t 2 & 1 & 0 & 2 & 3\\\\\n",
       "\t 3 & 2 & 2 & 2 & 1\\\\\n",
       "\\end{tabular}\n"
      ],
      "text/markdown": [
       "\n",
       "A data.frame: 2 × 5\n",
       "\n",
       "| id1 &lt;int&gt; | id2.x &lt;int&gt; | c &lt;int&gt; | id2.y &lt;dbl&gt; | d &lt;int&gt; |\n",
       "|---|---|---|---|---|\n",
       "| 2 | 1 | 0 | 2 | 3 |\n",
       "| 3 | 2 | 2 | 2 | 1 |\n",
       "\n"
      ],
      "text/plain": [
       "  id1 id2.x c id2.y d\n",
       "1 2   1     0 2     3\n",
       "2 3   2     2 2     1"
      ]
     },
     "metadata": {},
     "output_type": "display_data"
    },
    {
     "data": {
      "text/html": [
       "<table class=\"dataframe\">\n",
       "<caption>A data.frame: 2 × 5</caption>\n",
       "<thead>\n",
       "\t<tr><th scope=col>id1</th><th scope=col>id2.x</th><th scope=col>c</th><th scope=col>id2.y</th><th scope=col>d</th></tr>\n",
       "\t<tr><th scope=col>&lt;int&gt;</th><th scope=col>&lt;int&gt;</th><th scope=col>&lt;int&gt;</th><th scope=col>&lt;dbl&gt;</th><th scope=col>&lt;int&gt;</th></tr>\n",
       "</thead>\n",
       "<tbody>\n",
       "\t<tr><td>2</td><td>1</td><td>0</td><td>2</td><td>3</td></tr>\n",
       "\t<tr><td>3</td><td>2</td><td>2</td><td>2</td><td>1</td></tr>\n",
       "</tbody>\n",
       "</table>\n"
      ],
      "text/latex": [
       "A data.frame: 2 × 5\n",
       "\\begin{tabular}{lllll}\n",
       " id1 & id2.x & c & id2.y & d\\\\\n",
       " <int> & <int> & <int> & <dbl> & <int>\\\\\n",
       "\\hline\n",
       "\t 2 & 1 & 0 & 2 & 3\\\\\n",
       "\t 3 & 2 & 2 & 2 & 1\\\\\n",
       "\\end{tabular}\n"
      ],
      "text/markdown": [
       "\n",
       "A data.frame: 2 × 5\n",
       "\n",
       "| id1 &lt;int&gt; | id2.x &lt;int&gt; | c &lt;int&gt; | id2.y &lt;dbl&gt; | d &lt;int&gt; |\n",
       "|---|---|---|---|---|\n",
       "| 2 | 1 | 0 | 2 | 3 |\n",
       "| 3 | 2 | 2 | 2 | 1 |\n",
       "\n"
      ],
      "text/plain": [
       "  id1 id2.x c id2.y d\n",
       "1 2   1     0 2     3\n",
       "2 3   2     2 2     1"
      ]
     },
     "metadata": {},
     "output_type": "display_data"
    }
   ],
   "source": [
    "right_join(d1, d2, by = \"id1\")  ## d2만 살림\n",
    "inner_join(d1, d2, by = \"id1\")  ## 자연조인과 동일"
   ]
  },
  {
   "cell_type": "code",
   "execution_count": 90,
   "id": "d6066aad-bebf-4750-9a56-5d317e06ba2c",
   "metadata": {},
   "outputs": [
    {
     "data": {
      "text/html": [
       "<table class=\"dataframe\">\n",
       "<caption>A data.frame: 10 × 5</caption>\n",
       "<thead>\n",
       "\t<tr><th scope=col>id1</th><th scope=col>id2.x</th><th scope=col>c</th><th scope=col>id2.y</th><th scope=col>d</th></tr>\n",
       "\t<tr><th scope=col>&lt;int&gt;</th><th scope=col>&lt;int&gt;</th><th scope=col>&lt;int&gt;</th><th scope=col>&lt;dbl&gt;</th><th scope=col>&lt;int&gt;</th></tr>\n",
       "</thead>\n",
       "<tbody>\n",
       "\t<tr><td> 1</td><td>1</td><td>4</td><td>NA</td><td>NA</td></tr>\n",
       "\t<tr><td> 2</td><td>1</td><td>0</td><td> 2</td><td> 3</td></tr>\n",
       "\t<tr><td> 3</td><td>2</td><td>2</td><td> 2</td><td> 1</td></tr>\n",
       "\t<tr><td> 4</td><td>2</td><td>0</td><td>NA</td><td>NA</td></tr>\n",
       "\t<tr><td> 5</td><td>3</td><td>4</td><td>NA</td><td>NA</td></tr>\n",
       "\t<tr><td> 6</td><td>3</td><td>5</td><td>NA</td><td>NA</td></tr>\n",
       "\t<tr><td> 7</td><td>4</td><td>1</td><td>NA</td><td>NA</td></tr>\n",
       "\t<tr><td> 8</td><td>4</td><td>2</td><td>NA</td><td>NA</td></tr>\n",
       "\t<tr><td> 9</td><td>5</td><td>2</td><td>NA</td><td>NA</td></tr>\n",
       "\t<tr><td>10</td><td>5</td><td>1</td><td>NA</td><td>NA</td></tr>\n",
       "</tbody>\n",
       "</table>\n"
      ],
      "text/latex": [
       "A data.frame: 10 × 5\n",
       "\\begin{tabular}{lllll}\n",
       " id1 & id2.x & c & id2.y & d\\\\\n",
       " <int> & <int> & <int> & <dbl> & <int>\\\\\n",
       "\\hline\n",
       "\t  1 & 1 & 4 & NA & NA\\\\\n",
       "\t  2 & 1 & 0 &  2 &  3\\\\\n",
       "\t  3 & 2 & 2 &  2 &  1\\\\\n",
       "\t  4 & 2 & 0 & NA & NA\\\\\n",
       "\t  5 & 3 & 4 & NA & NA\\\\\n",
       "\t  6 & 3 & 5 & NA & NA\\\\\n",
       "\t  7 & 4 & 1 & NA & NA\\\\\n",
       "\t  8 & 4 & 2 & NA & NA\\\\\n",
       "\t  9 & 5 & 2 & NA & NA\\\\\n",
       "\t 10 & 5 & 1 & NA & NA\\\\\n",
       "\\end{tabular}\n"
      ],
      "text/markdown": [
       "\n",
       "A data.frame: 10 × 5\n",
       "\n",
       "| id1 &lt;int&gt; | id2.x &lt;int&gt; | c &lt;int&gt; | id2.y &lt;dbl&gt; | d &lt;int&gt; |\n",
       "|---|---|---|---|---|\n",
       "|  1 | 1 | 4 | NA | NA |\n",
       "|  2 | 1 | 0 |  2 |  3 |\n",
       "|  3 | 2 | 2 |  2 |  1 |\n",
       "|  4 | 2 | 0 | NA | NA |\n",
       "|  5 | 3 | 4 | NA | NA |\n",
       "|  6 | 3 | 5 | NA | NA |\n",
       "|  7 | 4 | 1 | NA | NA |\n",
       "|  8 | 4 | 2 | NA | NA |\n",
       "|  9 | 5 | 2 | NA | NA |\n",
       "| 10 | 5 | 1 | NA | NA |\n",
       "\n"
      ],
      "text/plain": [
       "   id1 id2.x c id2.y d \n",
       "1   1  1     4 NA    NA\n",
       "2   2  1     0  2     3\n",
       "3   3  2     2  2     1\n",
       "4   4  2     0 NA    NA\n",
       "5   5  3     4 NA    NA\n",
       "6   6  3     5 NA    NA\n",
       "7   7  4     1 NA    NA\n",
       "8   8  4     2 NA    NA\n",
       "9   9  5     2 NA    NA\n",
       "10 10  5     1 NA    NA"
      ]
     },
     "metadata": {},
     "output_type": "display_data"
    }
   ],
   "source": [
    "left_join(d1, d2, by = \"id1\")  ## outer join과 동일"
   ]
  },
  {
   "cell_type": "markdown",
   "id": "86552320-c01a-46c5-b7fa-4b84f7e7c764",
   "metadata": {},
   "source": [
    "`-` 과제 summary\n",
    "\n",
    "* 데이터베이스 정의 : 각 4개의 데이터, 그 특성\n",
    "* 핵심적인 단어가 들어가있는 것이 중요.\n",
    "\n",
    "* 데이터베이스 속성 : 4가지\n",
    "\n",
    "* 무결성에 대해서 아는대로 쓰면...\n",
    "> 개체 무결성 : 기본키는 NULL이 없어야 한다.\n",
    ">\n",
    "> 참조 무결성 : 외래키는 NULL을 허용하고, 기본키와 도메인이 같다.\n",
    "\n",
    "* 외부단계와 내부단계, 개념단계 아는대로 쓰면...\n",
    "> 외부단계 : 사용자 입장에서 스키마가 정의되어 스키마가 여러 개 존재할 수 있고, 사용자마다 스키마가 다를 수 있다.\n",
    ">\n",
    "> 개념단계 : 데이터베이스 관리자 관점에서 데이터베이스의 논리적 구조 설계, 데이터 관계 및 제약 조건 등에 대한 정의가 이루어지는 단계로 하나의 스키마를 가진다.\n",
    "> \n",
    "> 내부단계 : 물리적 데이터 저장 방식에 대한 단계로 단일 스키마를 가진다. 데이터베이스가 물리적인 저장장치에 실제로 저장되는 방법을 정의한다.\n",
    ">\n",
    "> 각 단계는 독립적으로 존재하여 매핑으로 연결된다. 매핑에 대한 정보는 데이터 사전에 저장된다.\n",
    "\n",
    "* 릴레이션 연산 : 상당히 중요해요\n",
    "\n",
    "* E-R 다이어그램 : 상당히 중요해요 2"
   ]
  },
  {
   "cell_type": "markdown",
   "id": "50f48b84-cabd-4f98-84ba-f803959ba0ee",
   "metadata": {},
   "source": [
    "4가지 정의, 4가지 특성, 데이터 종류, 데이터 분류, DBMS의 정의, 정의 조작 제어, 장단점 요약\n",
    "\n",
    "관계 DBMS의 세대, 외부/개념/내부 단계($\\star\\star$), 독립성 유지를 위한 스키마 사상관계, 데이터 사전\n",
    "\n",
    "데이터 모델링($\\star$), E-R 다이어그램 이해($\\star\\star$), 개체 간 관계, 일대일 / 일대다 / 다대다, 관계의 종속성 : 완전종속, E-R 다이어그램에서 관계 데이터 모델로의 이행, 도메인의 정의, 릴레이션의 특징$\\star\\star$, 키 속성의 종류, 무결성 제약\n",
    "\n",
    "비정형 데이터베이스의 데이터 저장 방식, 몽고 DB의 데이터 저장 방식, 텐서\n",
    "\n",
    "관계데이터 연산, 관계대수$\\star\\star\\star\\star$\n",
    "\n",
    "R-basic, R-packages : dplyr::Join부분을 특히 중요하게. merge도."
   ]
  }
 ],
 "metadata": {
  "kernelspec": {
   "display_name": "R",
   "language": "R",
   "name": "ir"
  },
  "language_info": {
   "codemirror_mode": "r",
   "file_extension": ".r",
   "mimetype": "text/x-r-source",
   "name": "R",
   "pygments_lexer": "r",
   "version": "4.3.3"
  }
 },
 "nbformat": 4,
 "nbformat_minor": 5
}
