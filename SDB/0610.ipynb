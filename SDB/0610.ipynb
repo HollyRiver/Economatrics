{
 "cells": [
  {
   "cell_type": "markdown",
   "id": "f10e53a8-7402-405f-bb23-85f4108eb9e4",
   "metadata": {},
   "source": [
    "5개조 발표 면담 / 출석 / 파이썬 DB 구현 실습\n",
    "\n",
    "수요일 2시 15분 간 퀴즈(`123번 문제 유형 간단히 쓰시오 / OX 문`) / 전체적인 리뷰 및 질문"
   ]
  },
  {
   "cell_type": "markdown",
   "id": "0be8de25-b53e-4646-81a4-8ddf81811eab",
   "metadata": {},
   "source": [
    "* 음"
   ]
  }
 ],
 "metadata": {
  "kernelspec": {
   "display_name": "Python 3 (ipykernel)",
   "language": "python",
   "name": "python3"
  },
  "language_info": {
   "codemirror_mode": {
    "name": "ipython",
    "version": 3
   },
   "file_extension": ".py",
   "mimetype": "text/x-python",
   "name": "python",
   "nbconvert_exporter": "python",
   "pygments_lexer": "ipython3",
   "version": "3.12.0"
  }
 },
 "nbformat": 4,
 "nbformat_minor": 5
}
