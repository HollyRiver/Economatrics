{
 "cells": [
  {
   "cell_type": "markdown",
   "id": "0b5b4c9a-81df-4162-a93d-e22bf2a1374a",
   "metadata": {},
   "source": [
    "발표 : 6월 17일 / 6월 19일\n",
    "\n",
    "면담 : E-R 다이어그램, 발표 면담으로 진행\n",
    "\n",
    "> PPT? A4용지? 해보고 의견을 들어보는 방향으로\n",
    "\n",
    "1. 어떤 DB를 썼는지\n",
    "2. E-R 다이어그램 그림\n",
    "3. 테이블 어떻게 만드는지(**스키마 관련**)\n",
    "4. 정규화를 할 수 있다면"
   ]
  },
  {
   "cell_type": "markdown",
   "id": "62d5c69c-fd5c-4189-8ec1-61bdbf9cb6d5",
   "metadata": {},
   "source": [
    "## 1. 라이브러리 imports"
   ]
  },
  {
   "cell_type": "code",
   "execution_count": 13,
   "id": "ac7a9e42-fc7b-4618-87c8-657748e93bf2",
   "metadata": {},
   "outputs": [],
   "source": [
    "import sqlite3\n",
    "import pandas as pd"
   ]
  },
  {
   "cell_type": "code",
   "execution_count": 8,
   "id": "ec195727-dc93-44d0-995c-a26e736b6936",
   "metadata": {},
   "outputs": [
    {
     "name": "stdout",
     "output_type": "stream",
     "text": [
      "[]\n"
     ]
    },
    {
     "data": {
      "text/plain": [
       "<sqlite3.Cursor at 0x7f950a20c9c0>"
      ]
     },
     "execution_count": 8,
     "metadata": {},
     "output_type": "execute_result"
    }
   ],
   "source": [
    "con = sqlite3.connect(':memory:')  ## 메모리에 접근\n",
    "con = sqlite3.connect('./test.db')  ## DB 파일에 접근 또는 생성\n",
    "\n",
    "sql_query = \"\"\"SELECT name FROM sqlite_master\n",
    "            WHERE type = 'table';\"\"\"\n",
    "## 테이블인 것의 이름을 전부 가져옴\n",
    "\n",
    "cur = con.cursor()  ## con을 조작하기 위한 인스턴스 생성\n",
    "cur.execute(sql_query)  ## execute query\n",
    "print(cur.fetchall())  ## send query result\n",
    "con.execute(\"PRAGMA foreign_keys = 1\")  ## foreign_keys activate. 인스턴스에서 지정하는 파라메터가 아님."
   ]
  },
  {
   "cell_type": "markdown",
   "id": "3b9272a3-12fe-435c-894a-f24d401195cc",
   "metadata": {},
   "source": [
    "## 2. 데이터 베이스 생성"
   ]
  },
  {
   "cell_type": "code",
   "execution_count": 9,
   "id": "754b138d-0be9-4e47-b67b-ff55b5021506",
   "metadata": {},
   "outputs": [
    {
     "name": "stdout",
     "output_type": "stream",
     "text": [
      "Table is Ready\n",
      "[]\n"
     ]
    }
   ],
   "source": [
    "table = \"\"\" CREATE TABLE GEEK (\n",
    "            Email VARCHAR(255) NOT NULL,\n",
    "            First_Name CHAR(25) NOT NULL,\n",
    "            Last_Name CHAR(25),\n",
    "            Score INT\n",
    "        ); \"\"\"\n",
    "## 스키마 지정 VARCHAR : 가변문자, CHAR : 그냥 문자\n",
    "cur.execute(table)\n",
    "print(\"Table is Ready\")  ## debuging\n",
    "\n",
    "cur.execute(\"SELECT * FROM GEEK\")\n",
    "print(cur.fetchall())  ## showing all tuples"
   ]
  },
  {
   "cell_type": "code",
   "execution_count": 11,
   "id": "6f740c95-8ac9-4b37-b5e8-d76a26345043",
   "metadata": {},
   "outputs": [
    {
     "name": "stdout",
     "output_type": "stream",
     "text": [
      "[('GEEK',)]\n"
     ]
    }
   ],
   "source": [
    "cur.execute(sql_query)  ## 테이블 네임 호출\n",
    "print(cur.fetchall())"
   ]
  },
  {
   "cell_type": "code",
   "execution_count": 27,
   "id": "1bed1cc6-2a05-4564-ae85-053b253c4c4d",
   "metadata": {},
   "outputs": [
    {
     "name": "stdout",
     "output_type": "stream",
     "text": [
      "[('Ihj@jbnu.ac.kr', 'GY', 'KIM', 10), ('Ihj@jbnu.ac.kr', 'GY', 'KIM', 10), ('Ihj@jbnu.ac.kr', 'GY', 'KIM', 10), ('Ihj@jbnu.ac.kr', 'GY', 'KIM', 10), ('Ihj@jbnu.ac.kr', 'GY', 'KIM', 10), ('Ihj@jbnu.ac.kr', 'GY', 'KIM', 10), ('Ihj@jbnu.ac.kr', 'GY', 'KIM', 10)]\n",
      "[('Ihj@jbnu.ac.kr', 'GY', 'KIM', 10), ('Ihj@jbnu.ac.kr', 'GY', 'KIM', 10), ('Ihj@jbnu.ac.kr', 'GY', 'KIM', 10), ('Ihj@jbnu.ac.kr', 'GY', 'KIM', 10), ('Ihj@jbnu.ac.kr', 'GY', 'KIM', 10), ('Ihj@jbnu.ac.kr', 'GY', 'KIM', 10), ('Ihj@jbnu.ac.kr', 'GY', 'KIM', 10)]\n"
     ]
    }
   ],
   "source": [
    "cur.execute(\"INSERT INTO GEEK VALUES (?,?,?,?);\", ( 'Ihj@jbnu.ac.kr', 'GY', 'KIM', 10) )\n",
    "## 테이블과 넣을 튜플\n",
    "cur.execute(\"SELECT * FROM GEEK\")  ## 전부가져옴\n",
    "print (cur.fetchall())\n",
    "\n",
    "cur.execute('DELETE FROM GEEK WHERE Score > 20' )  ## score가 20 이상인 튜플을 삭제\n",
    "cur.execute(\"SELECT * FROM GEEK\")\n",
    "print (cur.fetchall())"
   ]
  },
  {
   "cell_type": "markdown",
   "id": "f7ea6b93-2555-41f7-a5c9-b4f36c30004b",
   "metadata": {},
   "source": [
    "> UNIQUE하게 두지 않았기 때문에 계속 시행하면 무한정 늘어남."
   ]
  },
  {
   "cell_type": "markdown",
   "id": "7de7f3ac-a5b4-4c30-95d5-01db5b200a46",
   "metadata": {},
   "source": [
    "## 3. 판다스 라이브러리와의 연동"
   ]
  },
  {
   "cell_type": "code",
   "execution_count": null,
   "id": "1eab2b7e-aa8c-4864-98cf-3559711b132c",
   "metadata": {},
   "outputs": [],
   "source": [
    "import pandas as pd\n",
    "df = pd.read_csv('./ZP.csv')\n",
    "print(df)\n",
    "\n",
    "df.to_sql('test', con)  ## con의 test 테이블에 df를 삽입\n",
    "cur.execute(\"SELECT * FROM test\")\n",
    "print(cur.fetchall())"
   ]
  },
  {
   "cell_type": "code",
   "execution_count": null,
   "id": "95383ce5-2f05-42fd-8ab6-af09df67d5ae",
   "metadata": {},
   "outputs": [],
   "source": [
    "cur.execute(\"INSERT INTO test VALUES (?,?,?,?,?);\", (6,'aq@daum.net','Hong','Lee', 40))\n",
    "ag = 'INSERT INTO test VALUES (?,?,?,?,?);'\n",
    "vals = [(11,'d@naver.com','Heesu','Kim', 50), (12,'aq@daum.net','Hong','Lee', 40)]\n",
    "## 리스트로 여러 개의 튜플을 집어넣을 수 있음.\n",
    "cur = con.cursor()  ## create instance\n",
    "cur.executemany(ag, vals)  ## insert many tuples\n",
    "cur.execute(\"SELECT * FROM TEST\")\n",
    "print(cur.fetchall())  ## debuging"
   ]
  },
  {
   "cell_type": "code",
   "execution_count": null,
   "id": "98705c81-33b0-4c7f-a21e-89339569438c",
   "metadata": {},
   "outputs": [],
   "source": []
  }
 ],
 "metadata": {
  "kernelspec": {
   "display_name": "Python 3 (ipykernel)",
   "language": "python",
   "name": "python3"
  },
  "language_info": {
   "codemirror_mode": {
    "name": "ipython",
    "version": 3
   },
   "file_extension": ".py",
   "mimetype": "text/x-python",
   "name": "python",
   "nbconvert_exporter": "python",
   "pygments_lexer": "ipython3",
   "version": "3.12.0"
  }
 },
 "nbformat": 4,
 "nbformat_minor": 5
}
