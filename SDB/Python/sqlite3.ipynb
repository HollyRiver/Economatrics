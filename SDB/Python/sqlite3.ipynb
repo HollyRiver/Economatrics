{
 "cells": [
  {
   "cell_type": "markdown",
   "id": "0b5b4c9a-81df-4162-a93d-e22bf2a1374a",
   "metadata": {},
   "source": [
    "발표 : 6월 17일 / 6월 19일\n",
    "\n",
    "면담 : E-R 다이어그램, 발표 면담으로 진행\n",
    "\n",
    "> PPT? A4용지? 해보고 의견을 들어보는 방향으로\n",
    "\n",
    "1. 어떤 DB를 썼는지\n",
    "2. E-R 다이어그램 그림\n",
    "3. 테이블 어떻게 만드는지(**스키마 관련**)\n",
    "4. 정규화를 할 수 있다면"
   ]
  },
  {
   "cell_type": "markdown",
   "id": "62d5c69c-fd5c-4189-8ec1-61bdbf9cb6d5",
   "metadata": {},
   "source": [
    "## 1. 라이브러리 imports"
   ]
  },
  {
   "cell_type": "code",
   "execution_count": 7,
   "id": "ac7a9e42-fc7b-4618-87c8-657748e93bf2",
   "metadata": {},
   "outputs": [],
   "source": [
    "import sqlite3\n",
    "import pandas as pd"
   ]
  },
  {
   "cell_type": "code",
   "execution_count": 8,
   "id": "ec195727-dc93-44d0-995c-a26e736b6936",
   "metadata": {},
   "outputs": [
    {
     "name": "stdout",
     "output_type": "stream",
     "text": [
      "[]\n"
     ]
    },
    {
     "data": {
      "text/plain": [
       "<sqlite3.Cursor at 0x7f9f4ad6ecc0>"
      ]
     },
     "execution_count": 8,
     "metadata": {},
     "output_type": "execute_result"
    }
   ],
   "source": [
    "con = sqlite3.connect(':memory:')  ## 메모리에 접근\n",
    "con = sqlite3.connect('./test.db')  ## DB 파일에 접근 또는 생성\n",
    "\n",
    "sql_query = \"\"\"SELECT name FROM sqlite_master\n",
    "            WHERE type = 'table';\"\"\"\n",
    "## 테이블인 것의 이름을 전부 가져옴\n",
    "\n",
    "cur = con.cursor()  ## con을 조작하기 위한 인스턴스 생성\n",
    "cur.execute(sql_query)  ## execute query\n",
    "print(cur.fetchall())  ## send query result\n",
    "con.execute(\"PRAGMA foreign_keys = 1\")  ## foreign_keys activate. 인스턴스에서 지정하는 파라메터가 아님."
   ]
  },
  {
   "cell_type": "markdown",
   "id": "3b9272a3-12fe-435c-894a-f24d401195cc",
   "metadata": {},
   "source": [
    "## 2. 데이터 베이스 생성"
   ]
  },
  {
   "cell_type": "code",
   "execution_count": 9,
   "id": "754b138d-0be9-4e47-b67b-ff55b5021506",
   "metadata": {},
   "outputs": [
    {
     "name": "stdout",
     "output_type": "stream",
     "text": [
      "Table is Ready\n",
      "[]\n"
     ]
    }
   ],
   "source": [
    "table = \"\"\" CREATE TABLE GEEK (\n",
    "            Email VARCHAR(255) NOT NULL,\n",
    "            First_Name CHAR(25) NOT NULL,\n",
    "            Last_Name CHAR(25),\n",
    "            Score INT\n",
    "        ); \"\"\"\n",
    "## 스키마 지정 VARCHAR : 가변문자, CHAR : 그냥 문자\n",
    "cur.execute(table)\n",
    "print(\"Table is Ready\")  ## debuging\n",
    "\n",
    "cur.execute(\"SELECT * FROM GEEK\")\n",
    "print(cur.fetchall())  ## showing all tuples"
   ]
  },
  {
   "cell_type": "code",
   "execution_count": 10,
   "id": "6f740c95-8ac9-4b37-b5e8-d76a26345043",
   "metadata": {},
   "outputs": [
    {
     "name": "stdout",
     "output_type": "stream",
     "text": [
      "[('GEEK',)]\n"
     ]
    }
   ],
   "source": [
    "cur.execute(sql_query)  ## 테이블 네임 호출\n",
    "print(cur.fetchall())"
   ]
  },
  {
   "cell_type": "code",
   "execution_count": 11,
   "id": "1bed1cc6-2a05-4564-ae85-053b253c4c4d",
   "metadata": {},
   "outputs": [
    {
     "name": "stdout",
     "output_type": "stream",
     "text": [
      "[('Ihj@jbnu.ac.kr', 'GY', 'KIM', 10)]\n",
      "[('Ihj@jbnu.ac.kr', 'GY', 'KIM', 10)]\n"
     ]
    }
   ],
   "source": [
    "cur.execute(\"INSERT INTO GEEK VALUES (?,?,?,?);\", ( 'Ihj@jbnu.ac.kr', 'GY', 'KIM', 10) )\n",
    "## 테이블과 넣을 튜플\n",
    "cur.execute(\"SELECT * FROM GEEK\")  ## 전부가져옴\n",
    "print (cur.fetchall())\n",
    "\n",
    "cur.execute('DELETE FROM GEEK WHERE Score > 20' )  ## score가 20 이상인 튜플을 삭제\n",
    "cur.execute(\"SELECT * FROM GEEK\")\n",
    "print (cur.fetchall())"
   ]
  },
  {
   "cell_type": "markdown",
   "id": "f7ea6b93-2555-41f7-a5c9-b4f36c30004b",
   "metadata": {},
   "source": [
    "> UNIQUE하게 두지 않았기 때문에 계속 시행하면 무한정 늘어남."
   ]
  },
  {
   "cell_type": "markdown",
   "id": "7de7f3ac-a5b4-4c30-95d5-01db5b200a46",
   "metadata": {},
   "source": [
    "## 3. 판다스 라이브러리와의 연동"
   ]
  },
  {
   "cell_type": "code",
   "execution_count": 12,
   "id": "1eab2b7e-aa8c-4864-98cf-3559711b132c",
   "metadata": {},
   "outputs": [
    {
     "name": "stdout",
     "output_type": "stream",
     "text": [
      "          e-mail    first  last  score\n",
      "0    g@naver.com   Minhee  Kang     50\n",
      "1    jk@daum.net  Shinwoo   Kim     70\n",
      "2  hg@jbnu.ac.kr    Heedo  Kwon     90\n",
      "3   gg@naver.com    Junsu   Lee     59\n",
      "4  jop@gmail.com   Jungsu   Lee     89\n",
      "[(0, 'g@naver.com', 'Minhee', 'Kang', 50), (1, 'jk@daum.net', 'Shinwoo', 'Kim', 70), (2, 'hg@jbnu.ac.kr', 'Heedo', 'Kwon', 90), (3, 'gg@naver.com', 'Junsu', 'Lee', 59), (4, 'jop@gmail.com', 'Jungsu', 'Lee', 89)]\n"
     ]
    }
   ],
   "source": [
    "import pandas as pd\n",
    "df = pd.read_csv('Python/ZP.csv')\n",
    "print(df)\n",
    "\n",
    "df.to_sql('test', con)  ## con의 test 테이블에 df를 삽입\n",
    "cur.execute(\"SELECT * FROM test\")\n",
    "print(cur.fetchall())"
   ]
  },
  {
   "cell_type": "code",
   "execution_count": 13,
   "id": "95383ce5-2f05-42fd-8ab6-af09df67d5ae",
   "metadata": {},
   "outputs": [
    {
     "name": "stdout",
     "output_type": "stream",
     "text": [
      "[(0, 'g@naver.com', 'Minhee', 'Kang', 50), (1, 'jk@daum.net', 'Shinwoo', 'Kim', 70), (2, 'hg@jbnu.ac.kr', 'Heedo', 'Kwon', 90), (3, 'gg@naver.com', 'Junsu', 'Lee', 59), (4, 'jop@gmail.com', 'Jungsu', 'Lee', 89), (6, 'aq@daum.net', 'Hong', 'Lee', 40), (11, 'd@naver.com', 'Heesu', 'Kim', 50), (12, 'aq@daum.net', 'Hong', 'Lee', 40)]\n"
     ]
    }
   ],
   "source": [
    "cur.execute(\"INSERT INTO test VALUES (?,?,?,?,?);\", (6,'aq@daum.net','Hong','Lee', 40))\n",
    "ag = 'INSERT INTO test VALUES (?,?,?,?,?);'\n",
    "vals = [(11,'d@naver.com','Heesu','Kim', 50), (12,'aq@daum.net','Hong','Lee', 40)]\n",
    "## 리스트로 여러 개의 튜플을 집어넣을 수 있음.\n",
    "cur = con.cursor()  ## create instance\n",
    "cur.executemany(ag, vals)  ## insert many tuples\n",
    "cur.execute(\"SELECT * FROM TEST\")\n",
    "print(cur.fetchall())  ## debuging"
   ]
  },
  {
   "cell_type": "markdown",
   "id": "c1dd8d82-efa7-42cf-b467-7f661b0f8f8f",
   "metadata": {},
   "source": [
    "`-` 테이블 조작 : 추가 삽입"
   ]
  },
  {
   "cell_type": "code",
   "execution_count": 14,
   "id": "39af442d-39c7-4f2c-8a9e-a212e97650be",
   "metadata": {},
   "outputs": [
    {
     "name": "stdout",
     "output_type": "stream",
     "text": [
      "[(6, 'aq@daum.net', 'Hong', 'Lee', 40), (12, 'aq@daum.net', 'Hong', 'Lee', 40)]\n",
      "[(6, 'aq@daum.net', 'Hong', 'Lee', 60), (12, 'aq@daum.net', 'Hong', 'Lee', 60)]\n"
     ]
    }
   ],
   "source": [
    "cur.execute(\"DELETE FROM test WHERE score > 40\")\n",
    "cur.execute(\"SELECT * FROM test\")\n",
    "print(cur.fetchall())\n",
    "cur.execute(\"UPDATE TEST SET SCORE = 60 WHERE SCORE = 40\")\n",
    "cur.execute(\"SELECT * FROM test\")\n",
    "print(cur.fetchall())"
   ]
  },
  {
   "cell_type": "code",
   "execution_count": 16,
   "id": "98705c81-33b0-4c7f-a21e-89339569438c",
   "metadata": {},
   "outputs": [
    {
     "data": {
      "text/plain": [
       "[('GEEK',), ('test',)]"
      ]
     },
     "execution_count": 16,
     "metadata": {},
     "output_type": "execute_result"
    }
   ],
   "source": [
    "cur.execute(sql_query)  ## 스키마 마스터 이름을 호출\n",
    "cur.fetchall()"
   ]
  },
  {
   "cell_type": "markdown",
   "id": "42241055-136b-47bf-920b-3a96e94a05b4",
   "metadata": {},
   "source": [
    "`-` 현재 테이블들을 확인"
   ]
  },
  {
   "cell_type": "code",
   "execution_count": 17,
   "id": "d5aff9ae-e6ff-4876-8beb-53587cfac2be",
   "metadata": {},
   "outputs": [
    {
     "name": "stdout",
     "output_type": "stream",
     "text": [
      "<map object at 0x7fa3b20c10c0>\n",
      "[('g@naver.com', 'Minhee', 'Kang', 50), ('jk@daum.net', 'Shinwoo', 'Kim', 70), ('hg@jbnu.ac.kr', 'Heedo', 'Kwon', 90), ('gg@naver.com', 'Junsu', 'Lee', 59), ('jop@gmail.com', 'Jungsu', 'Lee', 89)]\n"
     ]
    }
   ],
   "source": [
    "table_db = \"\"\" CREATE TABLE target_db (\n",
    "            Email VARCHAR(255) PRIMARY KEY,\n",
    "            First_Name CHAR(25) NOT NULL,\n",
    "            Last_Name CHAR(25),\n",
    "            Score INT CHECK(Score>10)\n",
    "        ); \"\"\"\n",
    "\n",
    "cur.execute(table_db)  ## 새 테이블 생성\n",
    "cur = con.cursor()\n",
    "print(df.itertuples())\n",
    "for row in df.itertuples():\n",
    "    sql = \"INSERT INTO target_db(Email, First_Name, Last_Name, Score) VALUES (?, ?, ?, ?)\"\n",
    "    cur.execute(sql, (row[1], row[2], row[3], row[4]))\n",
    "con.commit()\n",
    "#cur.execute('DELETE FROM target_db')\n",
    "cur.execute('SELECT * FROM target_db')\n",
    "print(cur.fetchall())"
   ]
  },
  {
   "cell_type": "markdown",
   "id": "fe5fa729-ebf9-4094-85f6-8fb224553091",
   "metadata": {},
   "source": [
    "`-` 테이블 조작 : 스키마 지정 테이블 생성 및 입력\n",
    "\n",
    "1. 스키마 지정 테이블 생성\n",
    "2. 루프문을 이용하여 외부데이터 입력\n",
    "3. 내용 확인"
   ]
  },
  {
   "cell_type": "code",
   "execution_count": 18,
   "id": "b2d77f19-d67c-4adf-8302-d1c768e56c10",
   "metadata": {},
   "outputs": [
    {
     "name": "stdout",
     "output_type": "stream",
     "text": [
      "[('g@naver.com', 'Minhee', 'Kang', 50), ('jk@daum.net', 'Shinwoo', 'Kim', 70), ('hg@jbnu.ac.kr', 'Heedo', 'Kwon', 90), ('gg@naver.com', 'Junsu', 'Lee', 59), ('jop@gmail.com', 'Jungsu', 'Lee', 89), ('G@NAVER.COM', 'kYUNGSU', 'LEE', 49)]\n"
     ]
    },
    {
     "ename": "IntegrityError",
     "evalue": "UNIQUE constraint failed: target_db.Email",
     "output_type": "error",
     "traceback": [
      "\u001b[0;31m---------------------------------------------------------------------------\u001b[0m",
      "\u001b[0;31mIntegrityError\u001b[0m                            Traceback (most recent call last)",
      "Cell \u001b[0;32mIn[18], line 4\u001b[0m\n\u001b[1;32m      2\u001b[0m cur\u001b[38;5;241m.\u001b[39mexecute(\u001b[38;5;124m'\u001b[39m\u001b[38;5;124mSELECT * FROM  target_db\u001b[39m\u001b[38;5;124m'\u001b[39m)\n\u001b[1;32m      3\u001b[0m \u001b[38;5;28mprint\u001b[39m(cur\u001b[38;5;241m.\u001b[39mfetchall())\n\u001b[0;32m----> 4\u001b[0m \u001b[43mcur\u001b[49m\u001b[38;5;241;43m.\u001b[39;49m\u001b[43mexecute\u001b[49m\u001b[43m(\u001b[49m\u001b[38;5;124;43m\"\u001b[39;49m\u001b[38;5;124;43mINSERT INTO target_db(Email, First_Name, Last_Name, Score) values (\u001b[39;49m\u001b[38;5;124;43m'\u001b[39;49m\u001b[38;5;124;43mg@naver.com\u001b[39;49m\u001b[38;5;124;43m'\u001b[39;49m\u001b[38;5;124;43m,\u001b[39;49m\u001b[38;5;124;43m'\u001b[39;49m\u001b[38;5;124;43mkYUNGSU\u001b[39;49m\u001b[38;5;124;43m'\u001b[39;49m\u001b[38;5;124;43m,\u001b[39;49m\u001b[38;5;124;43m'\u001b[39;49m\u001b[38;5;124;43mLEE\u001b[39;49m\u001b[38;5;124;43m'\u001b[39;49m\u001b[38;5;124;43m, 49)\u001b[39;49m\u001b[38;5;124;43m\"\u001b[39;49m\u001b[43m)\u001b[49m\n",
      "\u001b[0;31mIntegrityError\u001b[0m: UNIQUE constraint failed: target_db.Email"
     ]
    }
   ],
   "source": [
    "cur.execute(\"INSERT INTO target_db(Email, First_Name, Last_Name, Score) values ('G@NAVER.COM','kYUNGSU','LEE', 49)\")\n",
    "cur.execute('SELECT * FROM  target_db')\n",
    "print(cur.fetchall())\n",
    "cur.execute(\"INSERT INTO target_db(Email, First_Name, Last_Name, Score) values ('g@naver.com','kYUNGSU','LEE', 49)\")"
   ]
  },
  {
   "cell_type": "markdown",
   "id": "a3ce0c56-40f4-49a4-83be-75bb801fc237",
   "metadata": {},
   "source": [
    "> 유니크함이 깨짐. 이메일이 기본키이므로 같은 것을 넣으면 깨짐.\n",
    "\n",
    "**기본키에서 똑같은 값을 넣으면 작동이 안되는지 확인해야**"
   ]
  },
  {
   "cell_type": "markdown",
   "id": "cb0cd3b7-1c34-4d96-ae52-a128a62af60d",
   "metadata": {},
   "source": [
    "`-` 기본키 + 제약조건. 뒤에는 필요없는 중복 내용"
   ]
  },
  {
   "cell_type": "code",
   "execution_count": 19,
   "id": "26665491-c292-4858-9974-68bb8d1f5057",
   "metadata": {},
   "outputs": [
    {
     "data": {
      "text/plain": [
       "<sqlite3.Cursor at 0x7f9f4af83740>"
      ]
     },
     "execution_count": 19,
     "metadata": {},
     "output_type": "execute_result"
    }
   ],
   "source": [
    "cur.execute('DROP table target_db')\n",
    "table_db = \"\"\" CREATE TABLE target_db (\n",
    "            ID INTEGER ,\n",
    "            First_Name CHAR(25) NOT NULL,\n",
    "            Last_Name CHAR(25),\n",
    "            Score INT CHECK(Score>10) PRIMARY KEY NOT NULL UNIQUE\n",
    "        ); \"\"\"\n",
    "cur.execute(table_db)"
   ]
  },
  {
   "cell_type": "code",
   "execution_count": 21,
   "id": "f8389fa7-f923-48a5-9e9e-e5addbac3dd3",
   "metadata": {},
   "outputs": [
    {
     "name": "stdout",
     "output_type": "stream",
     "text": [
      "[('GEEK',), ('test',), ('target_db',)]\n"
     ]
    }
   ],
   "source": [
    "cur.execute(sql_query)\n",
    "print(cur.fetchall())"
   ]
  },
  {
   "cell_type": "code",
   "execution_count": 23,
   "id": "29e5dd16-e516-4198-84c5-6962705928b5",
   "metadata": {},
   "outputs": [
    {
     "name": "stdout",
     "output_type": "stream",
     "text": [
      "(0, 'ID', 'INTEGER', 0, None, 0)\n",
      "(1, 'First_Name', 'CHAR(25)', 1, None, 0)\n",
      "(2, 'Last_Name', 'CHAR(25)', 0, None, 0)\n",
      "(3, 'Score', 'INT', 1, None, 1)\n"
     ]
    }
   ],
   "source": [
    "rr = cur.execute(\"PRAGMA table_info('target_db')\")\n",
    "for r2 in rr :\n",
    "    print(r2)"
   ]
  },
  {
   "cell_type": "markdown",
   "id": "19de55da-8516-41c1-b688-05f970312c31",
   "metadata": {},
   "source": [
    "> 인덱스, 열1, 열2, 열3. 뒤의 세 값은 어떤 것을 의미하는지 메뉴얼을 찾아봐야 함."
   ]
  },
  {
   "cell_type": "markdown",
   "id": "c2650ea9-a50f-4954-b73b-0d71389981c4",
   "metadata": {},
   "source": [
    "`-` 기본키와 외래키, 스키마 전부 출력"
   ]
  },
  {
   "cell_type": "code",
   "execution_count": 24,
   "id": "dca20982-0c18-43db-8f02-b3e6caf991a0",
   "metadata": {},
   "outputs": [
    {
     "name": "stdout",
     "output_type": "stream",
     "text": [
      "['GEEK', 'test', 'target_db']\n",
      "table: GEEK\n",
      "[(0, 'Email', 'VARCHAR(255)', 1, None, 0), (1, 'First_Name', 'CHAR(25)', 1, None, 0), (2, 'Last_Name', 'CHAR(25)', 0, None, 0), (3, 'Score', 'INT', 0, None, 0)]\n",
      "[]\n",
      "table: test\n",
      "[(0, 'index', 'INTEGER', 0, None, 0), (1, 'e-mail', 'TEXT', 0, None, 0), (2, 'first', 'TEXT', 0, None, 0), (3, 'last', 'TEXT', 0, None, 0), (4, 'score', 'INTEGER', 0, None, 0)]\n",
      "[]\n",
      "table: target_db\n",
      "[(0, 'ID', 'INTEGER', 0, None, 0), (1, 'First_Name', 'CHAR(25)', 1, None, 0), (2, 'Last_Name', 'CHAR(25)', 0, None, 0), (3, 'Score', 'INT', 1, None, 1)]\n",
      "[]\n"
     ]
    }
   ],
   "source": [
    "rows = cur.execute(\"SELECT name FROM sqlite_master WHERE type = 'table'\")\n",
    "tables = [row[0] for row in rows]\n",
    "print(tables)\n",
    "\n",
    "def sql_identifier(s):\n",
    "    return '\"' + s.replace('\"', '\"\"') + '\"'\n",
    "\n",
    "for table in tables:\n",
    "    print(\"table: \" + table)\n",
    "    rows = cur.execute(\"PRAGMA table_info({})\".format(sql_identifier(table)))\n",
    "    print(rows.fetchall())\n",
    "    rows = cur.execute(\"PRAGMA foreign_key_list({})\".format(sql_identifier(table)))\n",
    "    print(rows.fetchall())\n"
   ]
  },
  {
   "cell_type": "code",
   "execution_count": 25,
   "id": "8e7495e3-a308-4b1d-b2a1-8125f8bb0ed7",
   "metadata": {},
   "outputs": [],
   "source": [
    "con.close()  ## 데이터베이스와 연결 종료"
   ]
  },
  {
   "cell_type": "code",
   "execution_count": 29,
   "id": "0cc00176-bfbd-4fb5-aadd-76a86ee0e13a",
   "metadata": {},
   "outputs": [
    {
     "name": "stdout",
     "output_type": "stream",
     "text": [
      "[('target_db',), ('target',)]\n"
     ]
    }
   ],
   "source": [
    "conn = sqlite3.connect(':memory:')\n",
    "conn = sqlite3.connect('./test1.db')  ## 새로운 DB test1을 만듦\n",
    "conn.execute(\"PRAGMA foreign_keys = 1\")\n",
    "\n",
    "cur = conn.cursor()\n",
    "\n",
    "cur = conn.cursor()\n",
    "table_db = \"\"\" CREATE TABLE target_db (\n",
    "            EMail CHAR(255),\n",
    "            First_Name CHAR(25) NOT NULL,\n",
    "            Last_Name CHAR(25) PRIMARY KEY,\n",
    "            Score INT CHECK(Score>10) NOT NULL UNIQUE\n",
    "        ); \"\"\"\n",
    "cur.execute(table_db)\n",
    "tg = \"\"\"   CREATE TABLE target (\n",
    "            Email CHAR(255),\n",
    "            First_Name CHAR(25) NOT NULL,\n",
    "            Last_Name CHAR(25),\n",
    "            Score INT CHECK(Score>10),\n",
    "            FOREIGN KEY (Last_Name) REFERENCES target_db(Last_Name)\n",
    "            ON DELETE SET NULL ON UPDATE SET NULL\n",
    "        ); \"\"\"\n",
    "cur.execute(tg)\n",
    "\n",
    "cur.execute(sql_query)\n",
    "print(cur.fetchall())"
   ]
  },
  {
   "cell_type": "markdown",
   "id": "deca8303-a0cf-4337-a33d-c4fd6972eb4b",
   "metadata": {},
   "source": [
    "`-` 외래키"
   ]
  },
  {
   "cell_type": "code",
   "execution_count": 30,
   "id": "0c7819c7-226a-4118-b49a-ce73eca569c2",
   "metadata": {},
   "outputs": [
    {
     "name": "stdout",
     "output_type": "stream",
     "text": [
      "[('d@naver.com', 'Heesu', 'KIM', 50), ('Ihj@jbnu.ac.kr', 'Hong', 'LEE', 40)]\n",
      "[('gg@naver.com', 'Heesu', 'KIM', 40), ('weg@jbnu.ac.kr', 'Dong', 'LEE', 20)]\n"
     ]
    }
   ],
   "source": [
    "ag = 'INSERT INTO target_db VALUES (?,?,?,?);'\n",
    "vals = [('d@naver.com','Heesu','KIM', 50), ('Ihj@jbnu.ac.kr','Hong','LEE', 40)]\n",
    "\n",
    "cur.executemany(ag, vals)  ## 값을 직접 삽입\n",
    "cur.execute('SELECT * FROM target_db')\n",
    "print(cur.fetchall())\n",
    "\n",
    "ag = 'INSERT INTO target VALUES (?,?,?,?);'\n",
    "vals = [('gg@naver.com','Heesu','KIM', 40), ('weg@jbnu.ac.kr','Dong','LEE', 20)]\n",
    "\n",
    "cur.executemany(ag, vals)  ## 또 직접 삽입\n",
    "\n",
    "cur.execute('SELECT * FROM target')\n",
    "print(cur.fetchall())"
   ]
  },
  {
   "cell_type": "code",
   "execution_count": 31,
   "id": "622eb843-b8b7-4ec9-9a61-6cd8d1226388",
   "metadata": {},
   "outputs": [
    {
     "name": "stdout",
     "output_type": "stream",
     "text": [
      "[('Ihj@jbnu.ac.kr', 'Hong', 'LEE', 40)]\n",
      "[('gg@naver.com', 'Heesu', None, 40), ('weg@jbnu.ac.kr', 'Dong', 'LEE', 20)]\n"
     ]
    }
   ],
   "source": [
    "cur.execute(\"DELETE FROM target_db WHERE Last_Name='KIM'\")\n",
    "cur.execute('SELECT * FROM target_db')\n",
    "print(cur.fetchall())\n",
    "\n",
    "cur.execute(\"PRAGMA foreign_keys = ON\")  ## 이건 con에 해야됨\n",
    "cur.execute('SELECT * FROM target')\n",
    "print(cur.fetchall())"
   ]
  },
  {
   "cell_type": "code",
   "execution_count": 32,
   "id": "c642afc4-f437-42e2-ba0a-28f7545ea012",
   "metadata": {},
   "outputs": [
    {
     "data": {
      "text/plain": [
       "[('gg@naver.com', 'Heesu', None, 40), ('weg@jbnu.ac.kr', 'Dong', 'le', 20)]"
      ]
     },
     "execution_count": 32,
     "metadata": {},
     "output_type": "execute_result"
    }
   ],
   "source": [
    "tg = \"\"\" CREATE TABLE tmpp (\n",
    "         Email CHAR(255),\n",
    "         First_Name CHAR(25),\n",
    "         Last_Name CHAR(25),\n",
    "         Score INTEGER,\n",
    "         FOREIGN KEY (Last_Name) REFERENCES target_db(Last_Name)\n",
    "         ON DELETE CASCADE ON UPDATE CASCADE\n",
    "     ); \"\"\"\n",
    "cur.execute(tg)\n",
    "\n",
    "cur.execute('INSERT INTO tmpp SELECT * FROM target')\n",
    "# cur.execute('SELECT * FROM tmpp').fetchall()\n",
    "cur.execute(\"DROP TABLE target\")\n",
    "cur.execute(\"ALTER TABLE tmpp RENAME to target\")\n",
    "\n",
    "cur.execute(\"UPDATE target_db SET Last_Name = 'le' WHERE Last_Name = 'LEE'\")\n",
    "cur.execute(\"SELECT * FROM target\").fetchall()"
   ]
  },
  {
   "cell_type": "code",
   "execution_count": null,
   "id": "c62e0b16-3323-40e9-b8d2-72a6975341f3",
   "metadata": {},
   "outputs": [],
   "source": []
  }
 ],
 "metadata": {
  "kernelspec": {
   "display_name": "Python 3 (ipykernel)",
   "language": "python",
   "name": "python3"
  },
  "language_info": {
   "codemirror_mode": {
    "name": "ipython",
    "version": 3
   },
   "file_extension": ".py",
   "mimetype": "text/x-python",
   "name": "python",
   "nbconvert_exporter": "python",
   "pygments_lexer": "ipython3",
   "version": "3.12.0"
  }
 },
 "nbformat": 4,
 "nbformat_minor": 5
}
