{
 "cells": [
  {
   "cell_type": "code",
   "execution_count": 1,
   "id": "46d7fa0c-72bd-444c-a5c8-fc24844fba89",
   "metadata": {},
   "outputs": [],
   "source": [
    "library(MASS)\n",
    "data(Animals)"
   ]
  },
  {
   "cell_type": "code",
   "execution_count": 5,
   "id": "5a7bb244-9774-4043-a89f-53c7f2bdf5d6",
   "metadata": {},
   "outputs": [
    {
     "data": {
      "text/html": [
       "<style>\n",
       ".list-inline {list-style: none; margin:0; padding: 0}\n",
       ".list-inline>li {display: inline-block}\n",
       ".list-inline>li:not(:last-child)::after {content: \"\\00b7\"; padding: 0 .5ex}\n",
       "</style>\n",
       "<ol class=list-inline><li>8.1</li><li>423</li><li>119.5</li><li>115</li><li>5.5</li><li>50</li><li>4603</li><li>419</li><li>655</li><li>115</li><li>25.6</li><li>680</li><li>406</li><li>1320</li><li>5712</li><li>70</li><li>179</li><li>56</li><li>1</li><li>0.4</li><li>12.1</li><li>175</li><li>157</li><li>440</li><li>1.9</li><li>154.5</li><li>3</li><li>180</li></ol>\n"
      ],
      "text/latex": [
       "\\begin{enumerate*}\n",
       "\\item 8.1\n",
       "\\item 423\n",
       "\\item 119.5\n",
       "\\item 115\n",
       "\\item 5.5\n",
       "\\item 50\n",
       "\\item 4603\n",
       "\\item 419\n",
       "\\item 655\n",
       "\\item 115\n",
       "\\item 25.6\n",
       "\\item 680\n",
       "\\item 406\n",
       "\\item 1320\n",
       "\\item 5712\n",
       "\\item 70\n",
       "\\item 179\n",
       "\\item 56\n",
       "\\item 1\n",
       "\\item 0.4\n",
       "\\item 12.1\n",
       "\\item 175\n",
       "\\item 157\n",
       "\\item 440\n",
       "\\item 1.9\n",
       "\\item 154.5\n",
       "\\item 3\n",
       "\\item 180\n",
       "\\end{enumerate*}\n"
      ],
      "text/markdown": [
       "1. 8.1\n",
       "2. 423\n",
       "3. 119.5\n",
       "4. 115\n",
       "5. 5.5\n",
       "6. 50\n",
       "7. 4603\n",
       "8. 419\n",
       "9. 655\n",
       "10. 115\n",
       "11. 25.6\n",
       "12. 680\n",
       "13. 406\n",
       "14. 1320\n",
       "15. 5712\n",
       "16. 70\n",
       "17. 179\n",
       "18. 56\n",
       "19. 1\n",
       "20. 0.4\n",
       "21. 12.1\n",
       "22. 175\n",
       "23. 157\n",
       "24. 440\n",
       "25. 1.9\n",
       "26. 154.5\n",
       "27. 3\n",
       "28. 180\n",
       "\n",
       "\n"
      ],
      "text/plain": [
       " [1]    8.1  423.0  119.5  115.0    5.5   50.0 4603.0  419.0  655.0  115.0\n",
       "[11]   25.6  680.0  406.0 1320.0 5712.0   70.0  179.0   56.0    1.0    0.4\n",
       "[21]   12.1  175.0  157.0  440.0    1.9  154.5    3.0  180.0"
      ]
     },
     "metadata": {},
     "output_type": "display_data"
    }
   ],
   "source": [
    "Animals$brain"
   ]
  },
  {
   "cell_type": "code",
   "execution_count": 9,
   "id": "378480d9-def6-407d-8e4d-13a1499f159a",
   "metadata": {},
   "outputs": [],
   "source": [
    "quantiles <- quantile(Animals$brain, type = 8)\n",
    "H_L <- quantiles[2]\n",
    "H_U <- quantiles[4]\n",
    "M <- quantiles[3]"
   ]
  },
  {
   "cell_type": "code",
   "execution_count": 17,
   "id": "78ec6ae1-d6ae-43ef-a9bd-d40d6faaec8a",
   "metadata": {},
   "outputs": [],
   "source": [
    "app_p <- as.double(1 - ((H_L + H_U)/2 - M)/(((H_L - M)^2 + (H_U - M)^2)/(4*M)))"
   ]
  },
  {
   "cell_type": "code",
   "execution_count": 21,
   "id": "f2b788fc-a20a-4a8c-bf66-730d9ba27466",
   "metadata": {},
   "outputs": [
    {
     "data": {
      "image/png": "[encoded data removed]",
      "text/plain": [
       "Plot with title “Histogram of Animals$brain^app_p”"
      ]
     },
     "metadata": {
      "image/png": {
       "height": 420,
       "width": 420
      }
     },
     "output_type": "display_data"
    }
   ],
   "source": [
    "hist(Animals$brain^app_p, breaks = 10)"
   ]
  }
 ],
 "metadata": {
  "kernelspec": {
   "display_name": "R",
   "language": "R",
   "name": "ir"
  },
  "language_info": {
   "codemirror_mode": "r",
   "file_extension": ".r",
   "mimetype": "text/x-r-source",
   "name": "R",
   "pygments_lexer": "r",
   "version": "4.3.3"
  }
 },
 "nbformat": 4,
 "nbformat_minor": 5
}
