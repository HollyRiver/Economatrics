{
 "cells": [
  {
   "cell_type": "code",
   "execution_count": null,
   "id": "6a96b50a-4314-4621-89b5-6947d2ce75c3",
   "metadata": {},
   "outputs": [],
   "source": [
    "ggplot(data, aes(x, y)) +\n",
    " geom_boxplot() +\n",
    " geom_jitter(color, size, alpha) ## 점을 표기, 흐트러지게"
   ]
  },
  {
   "cell_type": "code",
   "execution_count": null,
   "id": "8e6b2898-9828-4365-bdf2-f58394578fbc",
   "metadata": {},
   "outputs": [],
   "source": [
    "ggplot(data, aes(x, y, fill = name)) +\n",
    " geom_violin(width)  ## 바이올린 플롯"
   ]
  },
  {
   "cell_type": "markdown",
   "id": "b1e18a1a-888d-416e-8638-03c0eab0db33",
   "metadata": {},
   "source": [
    "> 바이올린 플롯을 그려 분포에 대한 정보를 더 많이 제공할 수 있다."
   ]
  },
  {
   "cell_type": "markdown",
   "id": "3ba17ddb-294e-4e81-8ba4-0e4cbae656eb",
   "metadata": {},
   "source": [
    "### 자료의 재표현"
   ]
  },
  {
   "cell_type": "markdown",
   "id": "63cb087c-4ee4-443a-aa4c-e97ac35f72bd",
   "metadata": {},
   "source": [
    "* 정규분포를 표준정규분포로 변환하여도 분포의 모양에는 변함이 없다.\n",
    "\n",
    "* 시계열 자료를 대수변환하면 선형관계가 되어 해석이 쉬워진다. (로그변환 등)\n",
    "\n",
    "\n",
    "`-` 자료를 재표현하는 목적\n",
    "\n",
    "* **분포를 대칭화**하면 대표값(평균)의 의미가 있음\n",
    "* **산포를 비슷하게** 하면 여러 집단의 비교가 쉬움\n",
    "* **변수들 간의 관계를 단순화-직선화**하면 결과의 해석이 편리\n",
    "\n",
    "> 제곱근, 로그, 역변환 등"
   ]
  },
  {
   "cell_type": "markdown",
   "id": "f14401c7-ac4f-4f1a-9036-5e9cbe95e8e5",
   "metadata": {},
   "source": [
    "* 역변환 : 인구 밀도 -> 1인 당 면적\n",
    "* 대수변환 : 오른쪽으로 많이 기울어진 분포에 적당\n",
    "* 제곱변환 : 왼쪽으로 기울어진 분포에 적당"
   ]
  },
  {
   "cell_type": "markdown",
   "id": "13e4b5d7-4f7a-4068-b6be-b6daf19ab352",
   "metadata": {},
   "source": [
    "1. 자료의 대칭화\n",
    "\n",
    "ex) 10분위 별 근로자가구 소득\n",
    "\n",
    "제 1 10분위수 : 194만원 / 오른쪽으로 꼬리가 긴 분포(높은 쪽에 이상치 많음)"
   ]
  },
  {
   "cell_type": "code",
   "execution_count": 2,
   "id": "add0d2a0-df66-434f-bfed-a96f87ab3f25",
   "metadata": {},
   "outputs": [
    {
     "data": {
      "image/png": "[encoded data removed]",
      "text/plain": [
       "Plot with title “Histogram of log(income)”"
      ]
     },
     "metadata": {
      "image/png": {
       "height": 420,
       "width": 420
      }
     },
     "output_type": "display_data"
    }
   ],
   "source": [
    "par(mfrow = c(1,2))\n",
    "income<-c(1940,3100,3818,4448,5088,5844,6640,7689, 9257, 14519)\n",
    "hist(income)\n",
    "hist(log(income))"
   ]
  },
  {
   "cell_type": "code",
   "execution_count": 3,
   "id": "158038e9-89b5-4b24-8328-5244922dbc34",
   "metadata": {},
   "outputs": [
    {
     "name": "stdout",
     "output_type": "stream",
     "text": [
      "   Min. 1st Qu.  Median    Mean 3rd Qu.    Max. \n",
      "   1940    3976    5466    6234    7427   14519 \n",
      "   Min. 1st Qu.  Median    Mean 3rd Qu.    Max. \n",
      "  7.570   8.286   8.604   8.593   8.911   9.583 \n"
     ]
    }
   ],
   "source": [
    "print(summary(income))\n",
    "print(summary(log(income)))"
   ]
  },
  {
   "cell_type": "markdown",
   "id": "ed3a4c54-6491-43d8-99ef-ec0b7e4477d2",
   "metadata": {},
   "source": [
    "> 오른쪽으로 꼬리가 긴 분포(큰 값이 많은 분포)에 대해서 로그를 취해주면 이상치가 완화된다."
   ]
  },
  {
   "cell_type": "markdown",
   "id": "6695c395-780d-4d3d-8dd1-c990fb87f265",
   "metadata": {},
   "source": [
    "* 오른쪽으로 기울어져 있으면 제곱근 / 대수변환\n",
    "* 왼쪽으로 기울어져 있으면 제곱 / 지수변환"
   ]
  },
  {
   "cell_type": "code",
   "execution_count": null,
   "id": "9badc418-fe0c-4bb1-9c51-7d64b41e88d8",
   "metadata": {},
   "outputs": [],
   "source": []
  }
 ],
 "metadata": {
  "kernelspec": {
   "display_name": "R",
   "language": "R",
   "name": "ir"
  },
  "language_info": {
   "codemirror_mode": "r",
   "file_extension": ".r",
   "mimetype": "text/x-r-source",
   "name": "R",
   "pygments_lexer": "r",
   "version": "4.3.3"
  }
 },
 "nbformat": 4,
 "nbformat_minor": 5
}
