{
 "cells": [
  {
   "cell_type": "markdown",
   "id": "cdf3d5bf-b7d8-4f55-b288-afa9b0da5290",
   "metadata": {},
   "source": [
    "* 지수 분포의 확률플롯"
   ]
  },
  {
   "cell_type": "markdown",
   "id": "77773e09-e569-41db-99a3-d9a823879f2d",
   "metadata": {},
   "source": [
    "`-` 검정을 이용하여 하는 방법(카이제곱 검정)\n",
    "\n",
    "`-` 확률플롯을 이용\n",
    "\n",
    "> $F^{-1}(x) = -\\frac{1}{\\lambda}log(1-x) \\Rightarrow q_i = -\\frac{1}{\\lambda}log(1-p_i)$\n",
    ">\n",
    "> $\\therefore [-log(1-p_i), x_{(i)}]$는 기울기가 $\\frac{1}{\\lambda}$"
   ]
  },
  {
   "cell_type": "markdown",
   "id": "27c91aaa-0be0-4254-9b04-950c508d44f2",
   "metadata": {},
   "source": [
    "* 와이블 분포의 확률플롯"
   ]
  },
  {
   "cell_type": "markdown",
   "id": "7c0d4498-25fa-487b-aa26-250350a2c70a",
   "metadata": {},
   "source": [
    "$$[log(x_{(i)}), log(log(1-p_i))]$$"
   ]
  },
  {
   "cell_type": "code",
   "execution_count": null,
   "id": "c7ea7003-2197-43df-bad8-332e67643026",
   "metadata": {},
   "outputs": [],
   "source": [
    "leukemia <- c(1,1,2,2,3,4,4,5,5,8,8,8,8,11,11,12,12,15,17,22,23)\n",
    "qqmath(~leukemia, distribution = function(p))"
   ]
  },
  {
   "cell_type": "markdown",
   "id": "8645b783-489a-49f4-8cad-2ee1ee0c7085",
   "metadata": {},
   "source": [
    "$$[q_i, F^{-1}(p_i)]$$\n",
    "\n",
    "확률플롯을 그려서 비교하면 대략적으로만 알 수 있음, 확실하게 그 분포를 따른다고 하기는 힘들다."
   ]
  },
  {
   "cell_type": "markdown",
   "id": "3dd9e2fd-018a-4233-b9f5-c38d3a4db8a8",
   "metadata": {},
   "source": [
    "* shapiro.test"
   ]
  },
  {
   "cell_type": "code",
   "execution_count": 1,
   "id": "7a660ce8-6018-4534-a938-c55ccb193b61",
   "metadata": {},
   "outputs": [
    {
     "data": {
      "text/plain": [
       "\n",
       "\tShapiro-Wilk normality test\n",
       "\n",
       "data:  rnorm(100, 5, 3)\n",
       "W = 0.98964, p-value = 0.6355\n"
      ]
     },
     "metadata": {},
     "output_type": "display_data"
    }
   ],
   "source": [
    "shapiro.test(rnorm(100, 5, 3))"
   ]
  },
  {
   "cell_type": "markdown",
   "id": "f4735c35-5e7d-4509-8a58-482eb6c95cfa",
   "metadata": {},
   "source": [
    "> 기각 불가, 따라서 정규분포를 따르지 않다고 할 수 없다."
   ]
  },
  {
   "cell_type": "code",
   "execution_count": 2,
   "id": "89d429b0-bbcf-40f9-bd96-16d922272dce",
   "metadata": {},
   "outputs": [
    {
     "data": {
      "text/plain": [
       "\n",
       "\tShapiro-Wilk normality test\n",
       "\n",
       "data:  runif(100, 2, 4)\n",
       "W = 0.95374, p-value = 0.001475\n"
      ]
     },
     "metadata": {},
     "output_type": "display_data"
    }
   ],
   "source": [
    "shapiro.test(runif(100, 2, 4))"
   ]
  },
  {
   "cell_type": "markdown",
   "id": "362b29a4-78d9-49d1-adc8-b98e1dd463da",
   "metadata": {},
   "source": [
    "> 귀무가설 기각, 대립가설 수용. 따라서 정규분포를 따르지 않는다."
   ]
  },
  {
   "cell_type": "markdown",
   "id": "74acc998-ad5b-4b90-85c1-b2087374b18e",
   "metadata": {},
   "source": [
    "### 두 표본의 등화"
   ]
  },
  {
   "cell_type": "markdown",
   "id": "0fdc33eb-0580-4a4c-a6df-467f4c98e51e",
   "metadata": {},
   "source": [
    "두 표본 데이터의 분포를 비교하여 차이를 없애야 할 경우 QQ플롯이 유용함 -> 두 분포의 백분위 수를 일치하게 함."
   ]
  },
  {
   "cell_type": "code",
   "execution_count": 5,
   "id": "6e0ff8a6-3429-4672-b0de-8e96b910f9f1",
   "metadata": {},
   "outputs": [
    {
     "data": {
      "image/png": "[encoded data removed]",
      "text/plain": [
       "plot without title"
      ]
     },
     "metadata": {
      "image/png": {
       "height": 420,
       "width": 420
      }
     },
     "output_type": "display_data"
    }
   ],
   "source": [
    "x = rbeta(800, 2, 3)*100\n",
    "y = rbeta(1200, 3, 2)*100\n",
    "\n",
    "par(mfcol = c(1,2))\n",
    "qqplot(x, y)\n",
    "qqplot(x, y, type = 'l')"
   ]
  },
  {
   "cell_type": "markdown",
   "id": "ed040bc1-5930-4256-b20d-53f01ec42c09",
   "metadata": {},
   "source": [
    "> x축의 값들을 y로 매핑해서 점수를 매기면 분포 간 차이를 반영할 수 있다."
   ]
  },
  {
   "cell_type": "markdown",
   "id": "b552152f-1626-450b-9e34-f4f660dc65ea",
   "metadata": {},
   "source": [
    "* 등 사분위수 등화\n",
    "\n",
    "> 두 표본의 자료 크기가 작을 때는 다섯 수치 요약값만을 일치시킨다."
   ]
  },
  {
   "cell_type": "markdown",
   "id": "177b16d1-a035-4273-98f1-782b4bd3fe18",
   "metadata": {},
   "source": [
    "### 시험"
   ]
  },
  {
   "cell_type": "markdown",
   "id": "176d2931-72d9-4187-8dea-2de31698a0d6",
   "metadata": {},
   "source": [
    "* 1장 : 언어\n",
    "> R 프로그램 예제, 이러한 결과가 나오려면 어떻게 코드를 짜야 하느냐?\n",
    "\n",
    "* 2~3장 별 얘깃거리가 없다는데.\n",
    "\n",
    "* 4장 : 수치요약 및 상자그림\n",
    "> 데이터를 주면 직접 수치요약과 상자그림을 제시하고 탐색하여라.\n",
    ">\n",
    "> 상자그림을 주고 이 분포가 어떤 형태냐 물어볼수도 있음.\n",
    ">\n",
    "> 자료를 주고 자료 분포 상태를 파악하라고 할수도 있음 : 히스토그램, 바이올린 플롯, \n",
    "\n",
    "* 5장 : 자료의 재표현\n",
    "> 자료를 주고 대칭화하려면 어떻게 변환해야 하는가.\n",
    ">\n",
    "> 산포를 균일하게 하려면 어떻게 변환해야 하는가.\n",
    "\n",
    "* 6장 : 확률플롯\n",
    "> pdf를 주고 여기에서 나온 자료가 이렇게 생겼다고 하면 주어진 자료가 이 pdf를 따른다고 할 수 있는가를 물어볼거임.\n",
    "\n",
    "그렇게 4문제 정도\n",
    "\n",
    "데이터를 하나를 주고 다 물어볼 수도 있고, 인터넷에서 데이터 불러오는 방법도 미리 알고 있어야 함 : excel 파일, txt 파일.\n",
    "\n",
    "* 상자 그림을 그리시오 / 이 데이터는 분포 모양이 어떻게 생겼는가? / 주어진 데이터가 어떤 분포를 따르는 것 같느냐?\n",
    "\n",
    "> 데이터를 불러들여야 하면 컴퓨터 사용할건데, 안불러도 되면 안쓴다는데. 컴퓨터 써서 풀이. 컴퓨터를 사용하되, 내용을 알고 있는지.\n",
    ">\n",
    "> 이론적으로 계산하는 문제도 나옴.\n",
    ">\n",
    "> PC 사용"
   ]
  }
 ],
 "metadata": {
  "kernelspec": {
   "display_name": "R",
   "language": "R",
   "name": "ir"
  },
  "language_info": {
   "codemirror_mode": "r",
   "file_extension": ".r",
   "mimetype": "text/x-r-source",
   "name": "R",
   "pygments_lexer": "r",
   "version": "4.3.3"
  }
 },
 "nbformat": 4,
 "nbformat_minor": 5
}
