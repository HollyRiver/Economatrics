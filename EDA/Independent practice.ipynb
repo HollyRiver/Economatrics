{
 "cells": [
  {
   "cell_type": "code",
   "execution_count": 5,
   "id": "3bf3ad12-4872-429a-b553-e036d8f9ab8a",
   "metadata": {},
   "outputs": [
    {
     "data": {
      "text/html": [
       "7.81472790325118"
      ],
      "text/latex": [
       "7.81472790325118"
      ],
      "text/markdown": [
       "7.81472790325118"
      ],
      "text/plain": [
       "[1] 7.814728"
      ]
     },
     "metadata": {},
     "output_type": "display_data"
    }
   ],
   "source": [
    "qchisq(0.95, 3)"
   ]
  },
  {
   "cell_type": "code",
   "execution_count": 24,
   "id": "87eab381-5508-41b5-9948-9a14eb0d4938",
   "metadata": {},
   "outputs": [
    {
     "data": {
      "text/html": [
       "0.0849943876008518"
      ],
      "text/latex": [
       "0.0849943876008518"
      ],
      "text/markdown": [
       "0.0849943876008518"
      ],
      "text/plain": [
       "[1] 0.08499439"
      ]
     },
     "metadata": {},
     "output_type": "display_data"
    }
   ],
   "source": [
    "ppois(4, 0.61, lower.tail = FALSE)*200"
   ]
  },
  {
   "cell_type": "code",
   "execution_count": 1,
   "id": "c1955c48-3465-485a-be82-7f70c00dfc35",
   "metadata": {},
   "outputs": [
    {
     "name": "stderr",
     "output_type": "stream",
     "text": [
      "also installing the dependencies ‘deldir’, ‘png’, ‘jpeg’, ‘interp’, ‘latticeExtra’\n",
      "\n",
      "\n",
      "Updating HTML index of packages in '.Library'\n",
      "\n",
      "Making 'packages.html' ...\n",
      " done\n",
      "\n"
     ]
    }
   ],
   "source": [
    "install.packages(\"DAAG\")"
   ]
  },
  {
   "cell_type": "code",
   "execution_count": 16,
   "id": "64012c78-ac99-4b9f-85a8-b67f2a81df15",
   "metadata": {},
   "outputs": [],
   "source": [
    "species <- c('a','b','c','b')"
   ]
  },
  {
   "cell_type": "code",
   "execution_count": 13,
   "id": "257233e0-8b47-44f1-adba-d5fc5eb1b018",
   "metadata": {},
   "outputs": [
    {
     "data": {
      "text/html": [
       "<dl>\n",
       "\t<dt>$a</dt>\n",
       "\t\t<dd>1</dd>\n",
       "\t<dt>$b</dt>\n",
       "\t\t<dd>2</dd>\n",
       "\t<dt>$c</dt>\n",
       "\t\t<dd>3</dd>\n",
       "</dl>\n"
      ],
      "text/latex": [
       "\\begin{description}\n",
       "\\item[\\$a] 1\n",
       "\\item[\\$b] 2\n",
       "\\item[\\$c] 3\n",
       "\\end{description}\n"
      ],
      "text/markdown": [
       "$a\n",
       ":   1\n",
       "$b\n",
       ":   2\n",
       "$c\n",
       ":   3\n",
       "\n",
       "\n"
      ],
      "text/plain": [
       "$a\n",
       "[1] 1\n",
       "\n",
       "$b\n",
       "[1] 2\n",
       "\n",
       "$c\n",
       "[1] 3\n"
      ]
     },
     "metadata": {},
     "output_type": "display_data"
    }
   ],
   "source": [
    "list(a = 1, b = 2, c = 3)"
   ]
  },
  {
   "cell_type": "code",
   "execution_count": 23,
   "id": "0c54e62a-5389-4c90-b029-5c7ebb0ccfee",
   "metadata": {},
   "outputs": [],
   "source": [
    "species_f <- factor(species, levels = c('a', 'b', 'c'))"
   ]
  },
  {
   "cell_type": "code",
   "execution_count": 24,
   "id": "ab6a00a2-1953-4254-8696-176e25c5241f",
   "metadata": {},
   "outputs": [],
   "source": [
    "levels(species_f) <- c(\"total bee\", \"heracules bittle\", \"pikaia\")"
   ]
  },
  {
   "cell_type": "code",
   "execution_count": 26,
   "id": "2530eb1a-99a9-427e-b2fa-3e4de065d63a",
   "metadata": {},
   "outputs": [
    {
     "data": {
      "text/plain": [
       "species_f\n",
       "       total bee heracules bittle           pikaia \n",
       "               1                2                1 "
      ]
     },
     "metadata": {},
     "output_type": "display_data"
    }
   ],
   "source": [
    "table(species_f)"
   ]
  },
  {
   "cell_type": "code",
   "execution_count": 47,
   "id": "fcb700d7-ad86-40bd-8b1d-19fcc0b6af55",
   "metadata": {},
   "outputs": [],
   "source": [
    "x <- c(1,2,3,4,5)\n",
    "y <- c(\"캄브리아기\", \"실루리아기\", \"데본기\", \"석탄기\", \"페름기\")"
   ]
  },
  {
   "cell_type": "code",
   "execution_count": 48,
   "id": "7b60bef5-d85a-43f8-a559-b71b5a814dcd",
   "metadata": {},
   "outputs": [],
   "source": [
    "d2 <- list(index = x, time = y)"
   ]
  },
  {
   "cell_type": "code",
   "execution_count": 49,
   "id": "09301dfb-3e23-4199-92e2-2c993175e687",
   "metadata": {},
   "outputs": [],
   "source": [
    "d2a <- transform(d2, creature = c(\"pikaia\", \"bug\", \"R.Hirsti\", \"유시류\", \"외시류\"))"
   ]
  },
  {
   "cell_type": "code",
   "execution_count": 50,
   "id": "1188e0dd-b172-441a-a8e0-08697b3d8abd",
   "metadata": {},
   "outputs": [],
   "source": [
    "x <- c(5,2,1,3,4)"
   ]
  },
  {
   "cell_type": "code",
   "execution_count": 53,
   "id": "2d8dd84d-5165-44db-89b5-789083dde533",
   "metadata": {},
   "outputs": [
    {
     "data": {
      "text/html": [
       "<style>\n",
       ".list-inline {list-style: none; margin:0; padding: 0}\n",
       ".list-inline>li {display: inline-block}\n",
       ".list-inline>li:not(:last-child)::after {content: \"\\00b7\"; padding: 0 .5ex}\n",
       "</style>\n",
       "<ol class=list-inline><li>3</li><li>2</li><li>4</li><li>5</li><li>1</li></ol>\n"
      ],
      "text/latex": [
       "\\begin{enumerate*}\n",
       "\\item 3\n",
       "\\item 2\n",
       "\\item 4\n",
       "\\item 5\n",
       "\\item 1\n",
       "\\end{enumerate*}\n"
      ],
      "text/markdown": [
       "1. 3\n",
       "2. 2\n",
       "3. 4\n",
       "4. 5\n",
       "5. 1\n",
       "\n",
       "\n"
      ],
      "text/plain": [
       "[1] 3 2 4 5 1"
      ]
     },
     "metadata": {},
     "output_type": "display_data"
    }
   ],
   "source": [
    "order(x)"
   ]
  },
  {
   "cell_type": "code",
   "execution_count": 55,
   "id": "d427dc34-a644-4e3d-a101-113c9780fe48",
   "metadata": {},
   "outputs": [
    {
     "data": {
      "text/html": [
       "<style>\n",
       ".list-inline {list-style: none; margin:0; padding: 0}\n",
       ".list-inline>li {display: inline-block}\n",
       ".list-inline>li:not(:last-child)::after {content: \"\\00b7\"; padding: 0 .5ex}\n",
       "</style>\n",
       "<ol class=list-inline><li>1</li><li>2</li><li>3</li><li>4</li><li>5</li></ol>\n"
      ],
      "text/latex": [
       "\\begin{enumerate*}\n",
       "\\item 1\n",
       "\\item 2\n",
       "\\item 3\n",
       "\\item 4\n",
       "\\item 5\n",
       "\\end{enumerate*}\n"
      ],
      "text/markdown": [
       "1. 1\n",
       "2. 2\n",
       "3. 3\n",
       "4. 4\n",
       "5. 5\n",
       "\n",
       "\n"
      ],
      "text/plain": [
       "[1] 1 2 3 4 5"
      ]
     },
     "metadata": {},
     "output_type": "display_data"
    }
   ],
   "source": [
    "x[order(x)]"
   ]
  },
  {
   "cell_type": "code",
   "execution_count": 56,
   "id": "707853b6-53e2-4b49-8154-bb7ab5bffe5c",
   "metadata": {},
   "outputs": [
    {
     "data": {
      "text/html": [
       "<style>\n",
       ".list-inline {list-style: none; margin:0; padding: 0}\n",
       ".list-inline>li {display: inline-block}\n",
       ".list-inline>li:not(:last-child)::after {content: \"\\00b7\"; padding: 0 .5ex}\n",
       "</style>\n",
       "<ol class=list-inline><li>1</li><li>2</li><li>3</li><li>4</li><li>5</li></ol>\n"
      ],
      "text/latex": [
       "\\begin{enumerate*}\n",
       "\\item 1\n",
       "\\item 2\n",
       "\\item 3\n",
       "\\item 4\n",
       "\\item 5\n",
       "\\end{enumerate*}\n"
      ],
      "text/markdown": [
       "1. 1\n",
       "2. 2\n",
       "3. 3\n",
       "4. 4\n",
       "5. 5\n",
       "\n",
       "\n"
      ],
      "text/plain": [
       "[1] 1 2 3 4 5"
      ]
     },
     "metadata": {},
     "output_type": "display_data"
    }
   ],
   "source": [
    "sort(x)"
   ]
  },
  {
   "cell_type": "code",
   "execution_count": 62,
   "id": "c016e915-5e53-4460-a7ae-07165b94fdf8",
   "metadata": {},
   "outputs": [],
   "source": [
    "x <- c(10, 12, 21, 13, 11, 11)"
   ]
  },
  {
   "cell_type": "code",
   "execution_count": 63,
   "id": "0b47c522-da30-4cac-ac25-097e8d7784ce",
   "metadata": {},
   "outputs": [
    {
     "data": {
      "text/html": [
       "<style>\n",
       ".list-inline {list-style: none; margin:0; padding: 0}\n",
       ".list-inline>li {display: inline-block}\n",
       ".list-inline>li:not(:last-child)::after {content: \"\\00b7\"; padding: 0 .5ex}\n",
       "</style>\n",
       "<ol class=list-inline><li>1</li><li>4</li><li>6</li><li>5</li><li>2.5</li><li>2.5</li></ol>\n"
      ],
      "text/latex": [
       "\\begin{enumerate*}\n",
       "\\item 1\n",
       "\\item 4\n",
       "\\item 6\n",
       "\\item 5\n",
       "\\item 2.5\n",
       "\\item 2.5\n",
       "\\end{enumerate*}\n"
      ],
      "text/markdown": [
       "1. 1\n",
       "2. 4\n",
       "3. 6\n",
       "4. 5\n",
       "5. 2.5\n",
       "6. 2.5\n",
       "\n",
       "\n"
      ],
      "text/plain": [
       "[1] 1.0 4.0 6.0 5.0 2.5 2.5"
      ]
     },
     "metadata": {},
     "output_type": "display_data"
    }
   ],
   "source": [
    "rank(x)"
   ]
  },
  {
   "cell_type": "code",
   "execution_count": 64,
   "id": "c0762f16-5f5a-43da-a4a9-155c1e4075a1",
   "metadata": {},
   "outputs": [
    {
     "data": {
      "text/html": [
       "<style>\n",
       ".list-inline {list-style: none; margin:0; padding: 0}\n",
       ".list-inline>li {display: inline-block}\n",
       ".list-inline>li:not(:last-child)::after {content: \"\\00b7\"; padding: 0 .5ex}\n",
       "</style>\n",
       "<ol class=list-inline><li>1</li><li>4</li><li>6</li><li>5</li><li>3</li><li>2</li></ol>\n"
      ],
      "text/latex": [
       "\\begin{enumerate*}\n",
       "\\item 1\n",
       "\\item 4\n",
       "\\item 6\n",
       "\\item 5\n",
       "\\item 3\n",
       "\\item 2\n",
       "\\end{enumerate*}\n"
      ],
      "text/markdown": [
       "1. 1\n",
       "2. 4\n",
       "3. 6\n",
       "4. 5\n",
       "5. 3\n",
       "6. 2\n",
       "\n",
       "\n"
      ],
      "text/plain": [
       "[1] 1 4 6 5 3 2"
      ]
     },
     "metadata": {},
     "output_type": "display_data"
    }
   ],
   "source": [
    "rank(x, ties.method = \"random\")  ## default는 first, 동일한 숫자가 있을 시 평균으로 산출한다."
   ]
  },
  {
   "cell_type": "code",
   "execution_count": null,
   "id": "a86b556a-9c62-42f4-bb00-4f48f7384d76",
   "metadata": {},
   "outputs": [],
   "source": []
  }
 ],
 "metadata": {
  "kernelspec": {
   "display_name": "R",
   "language": "R",
   "name": "ir"
  },
  "language_info": {
   "codemirror_mode": "r",
   "file_extension": ".r",
   "mimetype": "text/x-r-source",
   "name": "R",
   "pygments_lexer": "r",
   "version": "4.3.3"
  }
 },
 "nbformat": 4,
 "nbformat_minor": 5
}
