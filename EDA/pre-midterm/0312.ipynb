{
 "cells": [
  {
   "cell_type": "markdown",
   "id": "46f0d6a4-aec1-4ff7-8506-bfe8dd244b47",
   "metadata": {},
   "source": [
    "### 2주차 첫번째 시간"
   ]
  },
  {
   "cell_type": "markdown",
   "id": "608949ec-9803-4f4e-920b-24c8ef170997",
   "metadata": {},
   "source": [
    "* 줄기-잎 그림\n",
    "\n",
    "> 주된 정보인 줄기와, 나머지 정보인 잎으로 생각할 수 있다."
   ]
  },
  {
   "cell_type": "code",
   "execution_count": 2,
   "id": "a543a5c1-f29f-4e67-bf9d-545ccdf6a75d",
   "metadata": {},
   "outputs": [],
   "source": [
    "rm(list = ls())"
   ]
  },
  {
   "cell_type": "markdown",
   "id": "fc68250f-8429-4e03-a4d0-579ddbd7ecf9",
   "metadata": {},
   "source": [
    "```\n",
    "exam <- read.table(\"directory\", header = True)  ## 레포트 제출 여부(ex)와 수리통계학 점수(score)로 나뉘어진 테이블 데이터\n",
    "\n",
    "attach(exam)\n",
    "stem(score)  ## 이산형 자료(하나의 열)를 줄기-잎 그림으로 만듦\n",
    "```"
   ]
  },
  {
   "cell_type": "markdown",
   "id": "2be3777c-83e9-43fe-93dc-7e85bbd5a451",
   "metadata": {},
   "source": [
    "`-` `stem()`\n",
    "\n",
    "* `stem(data, scale = (0, $\\inf$])`, scale default : 1\n",
    "\n",
    "> 줄기의 수를 늘릴 경우 (`scale = 2`) 0*(0,1,2,3,4) / 0.(5,6,7,8,9)로 나뉜다.\n",
    "\n",
    "* 장점\n",
    "\n",
    "> * 사분위수나 중앙값을 찾기 쉬움\n",
    "> * 분포의 전체적인 모양을 쉽게 알 수 있음\n",
    "> * 이상치 유무 파악이 가능\n",
    "\n",
    "* 단점\n",
    "\n",
    "> 자료가 많은 경우 부적합(50개 이하가 적당)"
   ]
  },
  {
   "cell_type": "markdown",
   "id": "eabfa08e-a65c-4048-817a-cf1792843c23",
   "metadata": {},
   "source": [
    "* 히스토그램과의 비교\n",
    "\n",
    "> * 정보가 손실되지 않음\n",
    "> * 줄기 수 변환이 쉬움\n",
    "> * 구간의 폭을 조정할 수 없음\n",
    "\n",
    "* 폭의 조절 : 표시해야 할 정보가 무엇이냐에 따라 달라진다.\n",
    "\n",
    "* 줄기-잎 그림에서 알 수 있는 것\n",
    "\n",
    "> * 군집의 수(솟아있는 지점)\n",
    "> * 집중도\n",
    "> * 대칭성\n",
    "> * 자료의 범위 및 산포\n",
    "> * 특이점의 존재 여부"
   ]
  },
  {
   "cell_type": "markdown",
   "id": "54714f94-5c9a-41f7-b0c2-8b50868e6e9b",
   "metadata": {},
   "source": [
    "### 라이브러리"
   ]
  },
  {
   "cell_type": "markdown",
   "id": "8608a9f4-d28e-4451-896a-4aeeb30d6517",
   "metadata": {},
   "source": [
    "* 마주보는 줄기-잎 그림"
   ]
  },
  {
   "cell_type": "code",
   "execution_count": 2,
   "id": "1432fca7-2d4d-4799-aed0-82d0004fdcae",
   "metadata": {},
   "outputs": [
    {
     "name": "stderr",
     "output_type": "stream",
     "text": [
      "Updating HTML index of packages in '.Library'\n",
      "\n",
      "Making 'packages.html' ...\n",
      " done\n",
      "\n"
     ]
    }
   ],
   "source": [
    "install.packages(\"aplpack\")\n",
    "library(aplpack)\n",
    "\n",
    "#stem.leaf.backback(a, b)  ## 벡터를 넣어주면 마주보는 줄기-잎 그림을 그려준다."
   ]
  },
  {
   "cell_type": "markdown",
   "id": "16fc62dd-e85d-40b6-aaae-e5cb984b0a8e",
   "metadata": {},
   "source": [
    "* 숙제 : 등을 맞댄 그래프를 그려보세요."
   ]
  },
  {
   "cell_type": "code",
   "execution_count": null,
   "id": "fd916fc5-2b2c-4031-bafc-269cbc2a85d3",
   "metadata": {},
   "outputs": [],
   "source": [
    "stem"
   ]
  },
  {
   "cell_type": "code",
   "execution_count": 3,
   "id": "4454ad1d-389d-46f2-8cdf-067e7d205f4e",
   "metadata": {},
   "outputs": [
    {
     "name": "stdout",
     "output_type": "stream",
     "text": [
      "______________________________\n",
      "  1 | 2: represents 12, leaf unit: 1 \n",
      "           a      b       \n",
      "______________________________\n",
      "            | -4 |            \n",
      "   2      89| -3 |3       1   \n",
      "   3       3| -2 |0       2   \n",
      "   4       6| -1 |643     5   \n",
      "   8    5678| -0 |6332    9   \n",
      "  (3)    771|  0 |3      (1)  \n",
      "   9      66|  1 |03579  (5)  \n",
      "   7     961|  2 |49      5   \n",
      "   4      21|  3 |4       3   \n",
      "   2       4|  4 |23      2   \n",
      "   1       3|  5 |            \n",
      "            |  6 |            \n",
      "______________________________\n",
      "n:        20      20      \n",
      "______________________________\n"
     ]
    }
   ],
   "source": [
    "a = rnorm(20, 10, 25) |> round(1)\n",
    "b = rnorm(20, 8, 16) |> round(1)\n",
    "\n",
    "stem.leaf.backback(a, b)"
   ]
  }
 ],
 "metadata": {
  "kernelspec": {
   "display_name": "R",
   "language": "R",
   "name": "ir"
  },
  "language_info": {
   "codemirror_mode": "r",
   "file_extension": ".r",
   "mimetype": "text/x-r-source",
   "name": "R",
   "pygments_lexer": "r",
   "version": "4.3.3"
  }
 },
 "nbformat": 4,
 "nbformat_minor": 5
}
