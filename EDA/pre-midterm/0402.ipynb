{
 "cells": [
  {
   "cell_type": "markdown",
   "id": "76d0c772-368c-4177-a945-20196cfc9eb3",
   "metadata": {},
   "source": [
    "### 표준화 변환\n",
    "\n",
    "확률변수에 대한 선형 변환\n",
    "\n",
    "$x_1, x_2, \\dots, x_{n_1}$ : X 시험을 친 A그룹의 점수\n",
    "\n",
    "$y_1, y_2, \\dots, y_{n_2}$ : Y 시험을 친 B그룹의 점수\n",
    "\n",
    "> 기존 $\\bar{X}$로 표준화를 하면 저항성이 없어 이상치에 영향을 많이 받음. 따라서 중앙값으로 표준화를 시행."
   ]
  },
  {
   "cell_type": "markdown",
   "id": "c682e8ce-fc5f-46c7-ad41-62d3916f76f2",
   "metadata": {},
   "source": [
    "* 로버스트 표준화 변환\n",
    "\n",
    "$$\\tilde{Z_i} = \\frac{x_i - med_x}{\\tilde{\\sigma_x}}, ~ \\tilde{\\sigma_x} = IQR/1.35$$\n",
    "\n",
    "> 중위수와 의사 표준편차 사용"
   ]
  },
  {
   "cell_type": "code",
   "execution_count": null,
   "id": "bb58f84e-7931-4019-8620-70937f02afa9",
   "metadata": {},
   "outputs": [],
   "source": [
    "X <- rnorm(100, 40, 10)\n",
    "Y <- c(rnorm(90, 40, 10), rnorm(10, 80, 5))\n",
    "\n",
    "Z_x <- (x - mean(x))/sd(x)\n",
    "Z_y <- (y - mean(y))/sd(y)\n",
    "\n",
    "ZZ_x <- (x - median(x))/(IQR(x)/1.35)\n",
    "ZZ_y <- (y - median(y))/(IQR(y)/1.35)\n",
    "\n",
    "par(mfrow = c(2,2))"
   ]
  },
  {
   "cell_type": "markdown",
   "id": "d3d1eda5-d855-49bb-b82e-7e0af6cc6a5d",
   "metadata": {},
   "source": [
    "* 분포를 대칭화 할 때 변환\n",
    "\n",
    "> $x$ : 원자료, $x^p$ : 변환된 자료\n",
    "\n",
    "$$f(x) = x^p$$\n",
    "\n",
    "$x = M$(중위수)에 대한 테일러급수 전개\n",
    "\n",
    "$$f(x) \\approx f(M) + f'(M)(x - M) + \\frac{f''(M)(x - M)^2}{2!}$$\n",
    "\n",
    "$${H_L}^p \\approx M^p + pM^{p-1}(H_L - M) + \\frac{p(p-1)M^{p-2}(H_L - M)}{2!}$$\n",
    "\n",
    "$${H_U}^p \\approx M^p + pM^{p-1}(H_U - M) + \\frac{p(p-1)M^{p-2}(H_U - M)}{2!}$$\n",
    "\n",
    "> 변환한 힌지의 값을 이렇게 쓴다.\n",
    "\n",
    "* 대칭이 되려면 $M^p - {H_L}^P = {H_U}^p - M^p$여야 한다. 즉, 해당 식을 p에 관해 정리하여 p의 값을 근사할 수 있다.\n",
    "\n",
    "$$p \\approx 1 - \\frac{\\frac{H_L + H_U}{2}-M}{\\frac{(H_L-M)^2 + (H_U-M)^2}{4M}}$$"
   ]
  },
  {
   "cell_type": "markdown",
   "id": "60d767c0-862b-4edd-a89a-f0d46cdf246d",
   "metadata": {},
   "source": [
    "Box-Cox 변환 재표현 사다리\n",
    "\n",
    "p = 1 : 무변환\n",
    "\n",
    "p = ±1/3 안쪽에서는 0에 가깝다고 보고 그냥 로그변환을 한다."
   ]
  },
  {
   "cell_type": "markdown",
   "id": "7501ed0c-cf4d-42db-a659-be63fa09415d",
   "metadata": {},
   "source": [
    "* 몇 개 집단의 산포를 균일화시키고자 할 때\n",
    "\n",
    "$${H_U}^2 - {H_L}^p \\approx pM^{p-1}(H_U - H_L) = pM^{p-1}spr(H)$$\n",
    "\n",
    "$$log({H_U}^2 - {H_L}^p) \\approx log(p) + (p-1)$$\n",
    "\n",
    "$x^p$변환에 의하여 (모든 집단의)산포가 균일해진다면, 좌변은 (확률변수가 아니라)상수가 되어야 한다.\n",
    "\n",
    "$$log(spr(H)) \\approx (1-p)log(M) + log(상수) - log(p)$$"
   ]
  },
  {
   "cell_type": "code",
   "execution_count": 14,
   "id": "bf90bcef-977c-4aff-8aae-ce350bb6faf6",
   "metadata": {},
   "outputs": [
    {
     "data": {
      "image/png": "[encoded data removed]",
      "text/plain": [
       "plot without title"
      ]
     },
     "metadata": {
      "image/png": {
       "height": 420,
       "width": 420
      }
     },
     "output_type": "display_data"
    }
   ],
   "source": [
    "library(ggplot2)\n",
    "\n",
    "type<-rep(1:3,c(11,11,11))\n",
    "data<-c(387, 470,497,537,540,620,760,845,895,1020,1050, 6060,7600,7900,8260,8900,9250,9650,9830,10200,11000,15500, 18900,22300,27800,28100,28800,29000,31400,32800,34600,39500,43300)\n",
    "\n",
    "plank <- data.frame(type, data)\n",
    "\n",
    "ggplot(plank, aes(factor(type), data)) +\n",
    "    geom_boxplot()"
   ]
  },
  {
   "cell_type": "code",
   "execution_count": 20,
   "id": "2b74404e-2da1-4cf7-aa62-3a306baf4f17",
   "metadata": {},
   "outputs": [],
   "source": [
    "A1 <- plank[plank$type == 1,2]\n",
    "A2 <- plank[plank$type == 2,2]\n",
    "A3 <- plank[plank$type == 3,2]"
   ]
  },
  {
   "cell_type": "code",
   "execution_count": 22,
   "id": "9ea5c226-abf4-4cad-a437-3e3d5b6f8f00",
   "metadata": {},
   "outputs": [
    {
     "data": {
      "text/html": [
       "<style>\n",
       ".list-inline {list-style: none; margin:0; padding: 0}\n",
       ".list-inline>li {display: inline-block}\n",
       ".list-inline>li:not(:last-child)::after {content: \"\\00b7\"; padding: 0 .5ex}\n",
       "</style>\n",
       "<ol class=list-inline><li>387</li><li>517</li><li>620</li><li>870</li><li>1050</li></ol>\n"
      ],
      "text/latex": [
       "\\begin{enumerate*}\n",
       "\\item 387\n",
       "\\item 517\n",
       "\\item 620\n",
       "\\item 870\n",
       "\\item 1050\n",
       "\\end{enumerate*}\n"
      ],
      "text/markdown": [
       "1. 387\n",
       "2. 517\n",
       "3. 620\n",
       "4. 870\n",
       "5. 1050\n",
       "\n",
       "\n"
      ],
      "text/plain": [
       "[1]  387  517  620  870 1050"
      ]
     },
     "metadata": {},
     "output_type": "display_data"
    }
   ],
   "source": [
    "fivenum(A1)  ## 다섯 수치 요약"
   ]
  },
  {
   "cell_type": "code",
   "execution_count": 24,
   "id": "f2cf8495-4f81-44fb-8b87-f1650b90a0b5",
   "metadata": {},
   "outputs": [
    {
     "data": {
      "text/html": [
       "<table class=\"dataframe\">\n",
       "<caption>A data.frame: 5 × 3</caption>\n",
       "<thead>\n",
       "\t<tr><th scope=col>num1</th><th scope=col>num2</th><th scope=col>num3</th></tr>\n",
       "\t<tr><th scope=col>&lt;dbl&gt;</th><th scope=col>&lt;dbl&gt;</th><th scope=col>&lt;dbl&gt;</th></tr>\n",
       "</thead>\n",
       "<tbody>\n",
       "\t<tr><td> 387</td><td> 6060</td><td>18900</td></tr>\n",
       "\t<tr><td> 517</td><td> 8080</td><td>27950</td></tr>\n",
       "\t<tr><td> 620</td><td> 9250</td><td>29000</td></tr>\n",
       "\t<tr><td> 870</td><td>10015</td><td>33700</td></tr>\n",
       "\t<tr><td>1050</td><td>15500</td><td>43300</td></tr>\n",
       "</tbody>\n",
       "</table>\n"
      ],
      "text/latex": [
       "A data.frame: 5 × 3\n",
       "\\begin{tabular}{lll}\n",
       " num1 & num2 & num3\\\\\n",
       " <dbl> & <dbl> & <dbl>\\\\\n",
       "\\hline\n",
       "\t  387 &  6060 & 18900\\\\\n",
       "\t  517 &  8080 & 27950\\\\\n",
       "\t  620 &  9250 & 29000\\\\\n",
       "\t  870 & 10015 & 33700\\\\\n",
       "\t 1050 & 15500 & 43300\\\\\n",
       "\\end{tabular}\n"
      ],
      "text/markdown": [
       "\n",
       "A data.frame: 5 × 3\n",
       "\n",
       "| num1 &lt;dbl&gt; | num2 &lt;dbl&gt; | num3 &lt;dbl&gt; |\n",
       "|---|---|---|\n",
       "|  387 |  6060 | 18900 |\n",
       "|  517 |  8080 | 27950 |\n",
       "|  620 |  9250 | 29000 |\n",
       "|  870 | 10015 | 33700 |\n",
       "| 1050 | 15500 | 43300 |\n",
       "\n"
      ],
      "text/plain": [
       "  num1 num2  num3 \n",
       "1  387  6060 18900\n",
       "2  517  8080 27950\n",
       "3  620  9250 29000\n",
       "4  870 10015 33700\n",
       "5 1050 15500 43300"
      ]
     },
     "metadata": {},
     "output_type": "display_data"
    }
   ],
   "source": [
    "num1 <- fivenum(A1);  num2 <- fivenum(A2); num3 <- fivenum(A3)\n",
    "\n",
    "data <- data.frame(num1, num2, num3)\n",
    "data"
   ]
  },
  {
   "cell_type": "code",
   "execution_count": 32,
   "id": "a106696e-0a98-4aae-b2df-5a42e5968e45",
   "metadata": {},
   "outputs": [],
   "source": [
    "m1 <- data[3,1]; m2 <- data[3,2]; m3 <- data[3,3]\n",
    "\n",
    "med.trans <- c(log10(m1), log10(m2), log10(m3))\n",
    "med_trans <- c(log(m1), log(m2), log(m3))\n",
    "spr1 <- data[4,1] - data[2,1]; spr2 <- data[4,2] - data[2,2]; spr3 <- data[4,3] - data[2,3]"
   ]
  },
  {
   "cell_type": "code",
   "execution_count": 42,
   "id": "e69b1b2d-a361-4a5c-ba31-aa016c02069e",
   "metadata": {},
   "outputs": [],
   "source": [
    "spr.trans <- c(log10(spr1), log10(spr2), log10(spr3))\n",
    "spr_trans <- log(c(spr1, spr2, spr3))"
   ]
  },
  {
   "cell_type": "code",
   "execution_count": 43,
   "id": "5cbb9c69-1bcd-4a6d-a55f-d1c67ecfb683",
   "metadata": {},
   "outputs": [
    {
     "data": {
      "text/plain": [
       "\n",
       "Call:\n",
       "lm(formula = spr.trans ~ med.trans)\n",
       "\n",
       "Coefficients:\n",
       "(Intercept)    med.trans  \n",
       "     0.5486       0.7084  \n"
      ]
     },
     "metadata": {},
     "output_type": "display_data"
    }
   ],
   "source": [
    "out <- lm(spr.trans~med.trans)\n",
    "out"
   ]
  },
  {
   "cell_type": "code",
   "execution_count": null,
   "id": "cac630c9-d659-4805-838c-46b7634368f2",
   "metadata": {},
   "outputs": [],
   "source": []
  }
 ],
 "metadata": {
  "kernelspec": {
   "display_name": "R",
   "language": "R",
   "name": "ir"
  },
  "language_info": {
   "codemirror_mode": "r",
   "file_extension": ".r",
   "mimetype": "text/x-r-source",
   "name": "R",
   "pygments_lexer": "r",
   "version": "4.3.3"
  }
 },
 "nbformat": 4,
 "nbformat_minor": 5
}
