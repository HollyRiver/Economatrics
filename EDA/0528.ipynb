{
 "cells": [
  {
   "cell_type": "markdown",
   "id": "e8880835-c4dd-4163-8d1c-e1d9dc7e71fe",
   "metadata": {},
   "source": [
    "### 군집분석"
   ]
  },
  {
   "cell_type": "markdown",
   "id": "bd2f2527-03e2-416b-a4fc-441412badf31",
   "metadata": {},
   "source": [
    "* 군집의 개수나 구조에 관한 특별한 가정 없이 개체들 사이의 유사성 또는 거리(비유사성)에 근거하여 자연스러운 군집을 찾고 다음 단계의 분석을 꾀하는 탐색적인 통계분석 기법\n",
    "\n",
    "> 유클리드 거리로 거리를 측정하면 군집을 잘못 판단하는 경우도 있다."
   ]
  },
  {
   "cell_type": "markdown",
   "id": "b89b4fee-6622-483f-b440-eee73fc69985",
   "metadata": {},
   "source": [
    "`-` 계보적 군집분석 (hierarchical clustering)\n",
    "\n",
    "> 가까운 개체들을 하나씩 묶어가는 방법. 어느 개체가 한 군집에 속하면 다시는 다른 군집으로 돌아올 수 없음."
   ]
  },
  {
   "cell_type": "code",
   "execution_count": null,
   "id": "007c9722-4da3-4242-bb18-f29daa077d86",
   "metadata": {},
   "outputs": [],
   "source": [
    "plot(hclust(data))  ## 덴드로그램\n",
    "rect.hclust(hclust(data), k = float, border = \"color\")  ## 군집 구분을 박스로 표현"
   ]
  },
  {
   "cell_type": "markdown",
   "id": "1f87d589-3740-480e-a43c-27714a1d13fa",
   "metadata": {},
   "source": [
    "> 군집화 이전 각 데이터들의 범위와 분산이 다르기 때문에 표준화가 선행되어야 함.\n",
    "\n",
    "방법이 많음. 책에서 나온 것은 complete linkage(최장 연결법) 사용. 방법에 따라서 군집 형성 양상도 달라짐."
   ]
  },
  {
   "cell_type": "markdown",
   "id": "53a4e546-caef-473b-8110-4e08404b60db",
   "metadata": {},
   "source": [
    "`-` 최적분리 군집방법(k-평균 군집분석)\n",
    "\n",
    "1. 군집 초기값의 선택 주어진 군집의 개수(k)만큼 군집 초기값(cluster seed)이 선택된다.\n",
    "2. 각 개체들에 대하여 군집 초기값(중심)들과의 거리를 계산하고, 거리가 가장 가까운 초기값에 개체들을 할당. 이 때, 각 개체가 할당될 때마다 해당 군집의 중심이 그 군집에 속하는 개체들의 평균(벡터)으로 다시 계산.\n",
    "3. 각 개체들은 변경된 평균에 대하여 가장 가까운 군집 중심에 재할당되고, 군집의 중심을 다시 계산. 군집중심들의 변화가 일정 수준 이하가 될 때까지 상기 과정을 반복하여 최종 군집 형성."
   ]
  },
  {
   "cell_type": "markdown",
   "id": "30bfb6a3-0a73-405f-ac8d-16c9780bfce6",
   "metadata": {},
   "source": [
    "계보적 군집분석을 통해 이 데이터는 몇 개의 군집이 형성되는 게 좋을지를 대략적으로 감을 잡은 뒤, 최적분리 군집방법(k-means clustering)을 통해 군집을 구성한다. 최적의 군집 수가 무엇인지 검정하는 이론은 없음."
   ]
  },
  {
   "cell_type": "code",
   "execution_count": null,
   "id": "f72554f3-7240-400c-b7e1-b0ac04e66d4a",
   "metadata": {},
   "outputs": [],
   "source": [
    "kmeans(scale(data, center = TRUE, scale = TRUE), centers = k, nstart = n)  ## n번 반복하여 평균으로"
   ]
  },
  {
   "cell_type": "markdown",
   "id": "fdb9af6c-b976-4d1d-83f2-5bccc5bda544",
   "metadata": {},
   "source": [
    "`-` 분석 사례 : `factoextra::fviz_nbclust()`\n",
    "\n",
    "* SST를 계산하여 군집의 수가 몇개일 때 최적인지 계산 : k가 커질수록 거의 무조건 감소 `method = \"wss\"`\n",
    "* `method = \"silhouette\"`\n",
    "* `method = \"gap_stat\"`"
   ]
  },
  {
   "cell_type": "markdown",
   "id": "2b775363-1a25-4c46-b8c8-abe27b418edc",
   "metadata": {},
   "source": [
    "`-` 분석 사례 : `NbClust::NbClust()`\n",
    "\n",
    "선행 연구나 이것저것을 찾아보면서 몇 개의 군집이 적절할지 생각해봐야 함."
   ]
  },
  {
   "cell_type": "markdown",
   "id": "23b9482b-b22d-4544-bf97-8e5db1ead4ab",
   "metadata": {},
   "source": [
    "**그래서 결론은 제일 좋은 방법은 k-means clustering이다. 근데 이것도 잘 군집화가 됐는지 판단할 기준은 없다.**"
   ]
  },
  {
   "cell_type": "markdown",
   "id": "0af0b3df-69dd-4d56-93ad-c072d0d36e25",
   "metadata": {},
   "source": [
    "### 주성분분석\n",
    "\n",
    "이론 같은 건 다 치워버리고..."
   ]
  },
  {
   "cell_type": "markdown",
   "id": "7f74091e-4591-4aea-900c-7d3293deae1d",
   "metadata": {},
   "source": [
    "* 선형 변환(Linear Transformation)\n",
    "\n",
    "상관관계가 높은 것들로 새로운 주성분을 구성?? 주성분이 그런거였나."
   ]
  },
  {
   "cell_type": "markdown",
   "id": "d1df55d3-9114-44d5-955e-def273107eb6",
   "metadata": {},
   "source": [
    "`-` 분석 사례 : satis.csv\n",
    "\n",
    "변수 : 가격, 성능, 편의성, 디자인, 색상."
   ]
  },
  {
   "cell_type": "code",
   "execution_count": null,
   "id": "28b61d37-2725-44b6-a40a-0c1c22ae7d2b",
   "metadata": {},
   "outputs": [],
   "source": [
    "princomp()"
   ]
  },
  {
   "cell_type": "code",
   "execution_count": null,
   "id": "d6b76799-f589-42dc-b4fb-4e1b148de7c2",
   "metadata": {},
   "outputs": [],
   "source": [
    "prcomp(~x1+x2+x3+x4+x5, data = dt)"
   ]
  },
  {
   "cell_type": "markdown",
   "id": "07c76ec4-26c0-42c1-aba2-a1c68e17db92",
   "metadata": {},
   "source": [
    "변수 개수만큼 주성분이 나옴. matrix가 애초에 그렇게 나옴.\n",
    "\n",
    "> 기준 : 주성분의 고유값이 1보다 더 큰 것만 분석"
   ]
  },
  {
   "cell_type": "markdown",
   "id": "795cc927-1eb9-497c-84a8-62c80ae00719",
   "metadata": {},
   "source": [
    "* PCA는 $\\bf Z = XV$로 표현되므로, 직교 변환임.\n",
    "\n",
    "$PC1 = (0.572 x_1 + 0.397 x_2 + 0.256 x_3 + 0.462 x_4 + 0.486 x_5)$ : 제품의 전반적인 만족도?\n",
    "\n",
    "$PC2 = (0.292 x_1 + 0.600 x_2 + 0.223 x_3) - (0.598 x_4 + 0.383 x_5)$ : 제품의 기능적 요인과 외부적 요인의 차이?"
   ]
  },
  {
   "cell_type": "markdown",
   "id": "6de5390b-479a-4a78-a576-3ea26dfe5ac7",
   "metadata": {},
   "source": [
    "이런 식으로 변수를 종합적으로 해석할 수 있다."
   ]
  },
  {
   "cell_type": "markdown",
   "id": "7c5b47d1-3f56-4b5d-85ae-8907bfac0848",
   "metadata": {},
   "source": [
    "군집별로 주성분1과 주성분2를 시각화할 수도 있음. 별로 의미가 없다는데요."
   ]
  }
 ],
 "metadata": {
  "kernelspec": {
   "display_name": "R",
   "language": "R",
   "name": "ir"
  },
  "language_info": {
   "codemirror_mode": "r",
   "file_extension": ".r",
   "mimetype": "text/x-r-source",
   "name": "R",
   "pygments_lexer": "r",
   "version": "4.3.3"
  }
 },
 "nbformat": 4,
 "nbformat_minor": 5
}
