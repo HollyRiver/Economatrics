{
 "cells": [
  {
   "cell_type": "markdown",
   "id": "aed13a63-be45-4c89-8a41-13e9d636f779",
   "metadata": {},
   "source": [
    "### 시계열 자료 평활"
   ]
  }
 ],
 "metadata": {
  "kernelspec": {
   "display_name": "R",
   "language": "R",
   "name": "ir"
  },
  "language_info": {
   "codemirror_mode": "r",
   "file_extension": ".r",
   "mimetype": "text/x-r-source",
   "name": "R",
   "pygments_lexer": "r",
   "version": "4.3.3"
  }
 },
 "nbformat": 4,
 "nbformat_minor": 5
}
