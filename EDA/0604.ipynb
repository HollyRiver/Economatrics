{
 "cells": [
  {
   "cell_type": "markdown",
   "id": "9c7ce938-cfc4-42eb-ac40-ce1c6ef0f8dc",
   "metadata": {},
   "source": [
    "### 나무 모형(Decision Tree)"
   ]
  },
  {
   "cell_type": "markdown",
   "id": "c5ea440a-c477-4df4-a2ce-02ffa5017449",
   "metadata": {},
   "source": [
    "의사결정 규칙을 나무 구조로 나타내어 전체 자료를 몇 개의 소집단으로 분류하거나 예측을 수행하는 분석방법"
   ]
  },
  {
   "cell_type": "markdown",
   "id": "ef09c569-5d34-487f-9ae3-995f070189b9",
   "metadata": {},
   "source": [
    "2진 분류기법\n",
    "\n",
    "뿌리마디 Root Node\n",
    "\n",
    "부모마디 - 자식마디\n",
    "\n",
    "가지 Branch\n",
    "\n",
    "중간마디 Internal Node\n",
    "\n",
    "끝마디 / 잎 Terminal Node\n",
    "\n",
    "깊이 Depth : 뿌리마디부터 몇 번째 마디인지"
   ]
  },
  {
   "cell_type": "markdown",
   "id": "0a768466-a3e4-408a-b36b-0f2ffa8018c7",
   "metadata": {},
   "source": [
    "`-` 뿌리노드의 결정\n",
    "\n",
    "모든 변수 중 전체 자료를 가장 분명하게 구분하는 변수를 뿌리 노드로 선택"
   ]
  },
  {
   "cell_type": "markdown",
   "id": "bd882801-8453-437a-906c-f20b7a0a0890",
   "metadata": {},
   "source": [
    "`-` 목표변수가 이산형인 분류나무의 경우 가지 분할을 수행할 때 분류 기준값의 선택방법\n",
    "\n",
    "1. 엔트로피 계수 : 이 값이 클수록 자식 노드 내의 이질성이 큼. 모든 변수들에 대해 엔트로피를 구하고 최소가 되는 변수를 뿌리노드로 선정\n",
    "> $\\sum_{i = 1}^{n}-p_i \\log_2(p_i)$으로 계산한다.\n",
    "\n",
    "2. 지니계수 : 이 값이 클수록 자식 노드 내의 이질성이 큼\n",
    "> 1에서 각 개체 간 비율의 제곱을 뺀 값으로 정의한다. 같은 개체가 많을수록 비율의 제곱이 1에 가까우므로 값이 작아진다.\n",
    "\n",
    "3. 카이제곱 통계량 : 각 셀에 대한 ((실제도수 - 기대도수)의 제곱 / 기대도수)의 합. p-value로 판단\n",
    "4. 정보이득 : 뿌리마디에서 분할했을 때 분할전과 분할후의 엔트로피 차이. 분할후의 엔트로피가 낮을수록 정보이득이 큼."
   ]
  },
  {
   "cell_type": "markdown",
   "id": "a13ee130-54cc-4d1a-9740-50655c2bd33d",
   "metadata": {},
   "source": [
    "여러 개의 가지를 분할할 때는 CHAID를 씀. CART는 이진분리로 가장 널리 사용함."
   ]
  },
  {
   "cell_type": "markdown",
   "id": "ee8fba6d-66bf-46fb-93ad-bf4069179821",
   "metadata": {},
   "source": [
    "`-` `rpart()` : CART 알고리즘을 이용.\n",
    "\n",
    "> 목적변수가 이산형인 경우 지니를 사용하고, 연속형은 분산(MSE)을 이용해 이진분리를 사용."
   ]
  },
  {
   "cell_type": "code",
   "execution_count": 2,
   "id": "f1b0c7c2-88c8-41ee-907f-f31bb6f84197",
   "metadata": {},
   "outputs": [],
   "source": [
    "library(MASS)\n",
    "library(rpart)\n",
    "data(iris)\n",
    "attach(iris)"
   ]
  },
  {
   "cell_type": "code",
   "execution_count": 3,
   "id": "c396d61b-ae9b-4114-81e8-5555800c4a92",
   "metadata": {},
   "outputs": [
    {
     "data": {
      "text/plain": [
       "n= 150 \n",
       "\n",
       "node), split, n, loss, yval, (yprob)\n",
       "      * denotes terminal node\n",
       "\n",
       "1) root 150 100 setosa (0.33333333 0.33333333 0.33333333)  \n",
       "  2) Petal.Length< 2.45 50   0 setosa (1.00000000 0.00000000 0.00000000) *\n",
       "  3) Petal.Length>=2.45 100  50 versicolor (0.00000000 0.50000000 0.50000000)  \n",
       "    6) Petal.Width< 1.75 54   5 versicolor (0.00000000 0.90740741 0.09259259) *\n",
       "    7) Petal.Width>=1.75 46   1 virginica (0.00000000 0.02173913 0.97826087) *"
      ]
     },
     "metadata": {},
     "output_type": "display_data"
    }
   ],
   "source": [
    "c = rpart(Species~., data = iris)  ## 회귀모형처럼 이용\n",
    "c"
   ]
  },
  {
   "cell_type": "markdown",
   "id": "127e9e47-e3b6-47a7-ac04-75bcef627fef",
   "metadata": {},
   "source": [
    "`-` 시각화"
   ]
  },
  {
   "cell_type": "code",
   "execution_count": 13,
   "id": "358ca5e1-24fc-4266-8577-4611e9a4cfa3",
   "metadata": {},
   "outputs": [
    {
     "data": {
      "image/png": "[encoded data removed]",
      "text/plain": [
       "plot without title"
      ]
     },
     "metadata": {
      "image/png": {
       "height": 420,
       "width": 420
      }
     },
     "output_type": "display_data"
    }
   ],
   "source": [
    "plot(c, compress = T, margin = 0.2)\n",
    "text(c, cex = 1.5)"
   ]
  },
  {
   "cell_type": "code",
   "execution_count": 22,
   "id": "fe27d64d-6c57-41f6-9f05-02d03e7d6042",
   "metadata": {},
   "outputs": [
    {
     "data": {
      "text/html": [
       "<table class=\"dataframe\">\n",
       "<caption>A data.frame: 6 × 5</caption>\n",
       "<thead>\n",
       "\t<tr><th></th><th scope=col>Sepal.Length</th><th scope=col>Sepal.Width</th><th scope=col>Petal.Length</th><th scope=col>Petal.Width</th><th scope=col>Species</th></tr>\n",
       "\t<tr><th></th><th scope=col>&lt;dbl&gt;</th><th scope=col>&lt;dbl&gt;</th><th scope=col>&lt;dbl&gt;</th><th scope=col>&lt;dbl&gt;</th><th scope=col>&lt;fct&gt;</th></tr>\n",
       "</thead>\n",
       "<tbody>\n",
       "\t<tr><th scope=row>1</th><td>5.1</td><td>3.5</td><td>1.4</td><td>0.2</td><td>setosa</td></tr>\n",
       "\t<tr><th scope=row>2</th><td>4.9</td><td>3.0</td><td>1.4</td><td>0.2</td><td>setosa</td></tr>\n",
       "\t<tr><th scope=row>3</th><td>4.7</td><td>3.2</td><td>1.3</td><td>0.2</td><td>setosa</td></tr>\n",
       "\t<tr><th scope=row>4</th><td>4.6</td><td>3.1</td><td>1.5</td><td>0.2</td><td>setosa</td></tr>\n",
       "\t<tr><th scope=row>5</th><td>5.0</td><td>3.6</td><td>1.4</td><td>0.2</td><td>setosa</td></tr>\n",
       "\t<tr><th scope=row>6</th><td>5.4</td><td>3.9</td><td>1.7</td><td>0.4</td><td>setosa</td></tr>\n",
       "</tbody>\n",
       "</table>\n"
      ],
      "text/latex": [
       "A data.frame: 6 × 5\n",
       "\\begin{tabular}{r|lllll}\n",
       "  & Sepal.Length & Sepal.Width & Petal.Length & Petal.Width & Species\\\\\n",
       "  & <dbl> & <dbl> & <dbl> & <dbl> & <fct>\\\\\n",
       "\\hline\n",
       "\t1 & 5.1 & 3.5 & 1.4 & 0.2 & setosa\\\\\n",
       "\t2 & 4.9 & 3.0 & 1.4 & 0.2 & setosa\\\\\n",
       "\t3 & 4.7 & 3.2 & 1.3 & 0.2 & setosa\\\\\n",
       "\t4 & 4.6 & 3.1 & 1.5 & 0.2 & setosa\\\\\n",
       "\t5 & 5.0 & 3.6 & 1.4 & 0.2 & setosa\\\\\n",
       "\t6 & 5.4 & 3.9 & 1.7 & 0.4 & setosa\\\\\n",
       "\\end{tabular}\n"
      ],
      "text/markdown": [
       "\n",
       "A data.frame: 6 × 5\n",
       "\n",
       "| <!--/--> | Sepal.Length &lt;dbl&gt; | Sepal.Width &lt;dbl&gt; | Petal.Length &lt;dbl&gt; | Petal.Width &lt;dbl&gt; | Species &lt;fct&gt; |\n",
       "|---|---|---|---|---|---|\n",
       "| 1 | 5.1 | 3.5 | 1.4 | 0.2 | setosa |\n",
       "| 2 | 4.9 | 3.0 | 1.4 | 0.2 | setosa |\n",
       "| 3 | 4.7 | 3.2 | 1.3 | 0.2 | setosa |\n",
       "| 4 | 4.6 | 3.1 | 1.5 | 0.2 | setosa |\n",
       "| 5 | 5.0 | 3.6 | 1.4 | 0.2 | setosa |\n",
       "| 6 | 5.4 | 3.9 | 1.7 | 0.4 | setosa |\n",
       "\n"
      ],
      "text/plain": [
       "  Sepal.Length Sepal.Width Petal.Length Petal.Width Species\n",
       "1 5.1          3.5         1.4          0.2         setosa \n",
       "2 4.9          3.0         1.4          0.2         setosa \n",
       "3 4.7          3.2         1.3          0.2         setosa \n",
       "4 4.6          3.1         1.5          0.2         setosa \n",
       "5 5.0          3.6         1.4          0.2         setosa \n",
       "6 5.4          3.9         1.7          0.4         setosa "
      ]
     },
     "metadata": {},
     "output_type": "display_data"
    }
   ],
   "source": [
    "head(iris)"
   ]
  },
  {
   "cell_type": "code",
   "execution_count": 24,
   "id": "b8dd46ca-1851-4a37-81b1-72804173e3c9",
   "metadata": {},
   "outputs": [
    {
     "data": {
      "text/html": [
       "<style>\n",
       ".dl-inline {width: auto; margin:0; padding: 0}\n",
       ".dl-inline>dt, .dl-inline>dd {float: none; width: auto; display: inline-block}\n",
       ".dl-inline>dt::after {content: \":\\0020\"; padding-right: .5ex}\n",
       ".dl-inline>dt:not(:first-of-type) {padding-left: .5ex}\n",
       "</style><dl class=dl-inline><dt>1</dt><dd>setosa</dd><dt>2</dt><dd>setosa</dd><dt>3</dt><dd>setosa</dd><dt>4</dt><dd>setosa</dd><dt>5</dt><dd>setosa</dd><dt>6</dt><dd>setosa</dd></dl>\n",
       "\n",
       "<details>\n",
       "\t<summary style=display:list-item;cursor:pointer>\n",
       "\t\t<strong>Levels</strong>:\n",
       "\t</summary>\n",
       "\t<style>\n",
       "\t.list-inline {list-style: none; margin:0; padding: 0}\n",
       "\t.list-inline>li {display: inline-block}\n",
       "\t.list-inline>li:not(:last-child)::after {content: \"\\00b7\"; padding: 0 .5ex}\n",
       "\t</style>\n",
       "\t<ol class=list-inline><li>'setosa'</li><li>'versicolor'</li><li>'virginica'</li></ol>\n",
       "</details>"
      ],
      "text/latex": [
       "\\begin{description*}\n",
       "\\item[1] setosa\n",
       "\\item[2] setosa\n",
       "\\item[3] setosa\n",
       "\\item[4] setosa\n",
       "\\item[5] setosa\n",
       "\\item[6] setosa\n",
       "\\end{description*}\n",
       "\n",
       "\\emph{Levels}: \\begin{enumerate*}\n",
       "\\item 'setosa'\n",
       "\\item 'versicolor'\n",
       "\\item 'virginica'\n",
       "\\end{enumerate*}\n"
      ],
      "text/markdown": [
       "1\n",
       ":   setosa2\n",
       ":   setosa3\n",
       ":   setosa4\n",
       ":   setosa5\n",
       ":   setosa6\n",
       ":   setosa\n",
       "\n",
       "\n",
       "**Levels**: 1. 'setosa'\n",
       "2. 'versicolor'\n",
       "3. 'virginica'\n",
       "\n",
       "\n"
      ],
      "text/plain": [
       "     1      2      3      4      5      6 \n",
       "setosa setosa setosa setosa setosa setosa \n",
       "Levels: setosa versicolor virginica"
      ]
     },
     "metadata": {},
     "output_type": "display_data"
    }
   ],
   "source": [
    "predict(c, newdata = iris[, -5], type = \"class\") |> head()"
   ]
  },
  {
   "cell_type": "markdown",
   "id": "994f747e-5c3a-4d23-ac6a-8ae8efd1a5b9",
   "metadata": {},
   "source": [
    "예측이 잘 된다는 것을 확인할 수 있음."
   ]
  },
  {
   "cell_type": "markdown",
   "id": "d985a772-812f-4043-855d-14ce19910b75",
   "metadata": {},
   "source": [
    "`-` 시각화 2 : `rpart.plot`"
   ]
  },
  {
   "cell_type": "code",
   "execution_count": 28,
   "id": "277a9f9c-e227-4525-a68a-02c1e3454a12",
   "metadata": {},
   "outputs": [
    {
     "data": {
      "image/png": "[encoded data removed]",
      "text/plain": [
       "plot without title"
      ]
     },
     "metadata": {
      "image/png": {
       "height": 420,
       "width": 420
      }
     },
     "output_type": "display_data"
    }
   ],
   "source": [
    "library(rpart.plot)\n",
    "prp(c, type = 4, extra = 2)"
   ]
  },
  {
   "cell_type": "markdown",
   "id": "0dbdbe2d-d6e5-475e-8735-c85c2c396f37",
   "metadata": {},
   "source": [
    "> Petal.Length > 2.5를 만족하는 50개의 개체 중 setosa는 50개이다.\n",
    ">\n",
    "> Petal.Length <= 2.4와 Petal.Width < 1.8을 만족하는 노드에 속하는 54개의 개체 중 49개는 versicol이다."
   ]
  },
  {
   "cell_type": "markdown",
   "id": "72b3afa6-519b-470a-aa1f-e8f09d56be62",
   "metadata": {},
   "source": [
    "`-` 실습 : `rattle` 패키지의 weather자료"
   ]
  },
  {
   "cell_type": "code",
   "execution_count": 30,
   "id": "9ebd3975-ff70-4739-8799-7a273697a593",
   "metadata": {},
   "outputs": [
    {
     "name": "stderr",
     "output_type": "stream",
     "text": [
      "Loading required package: tibble\n",
      "\n",
      "Loading required package: bitops\n",
      "\n",
      "Rattle: A free graphical interface for data science with R.\n",
      "Version 5.5.1 Copyright (c) 2006-2021 Togaware Pty Ltd.\n",
      "Type 'rattle()' to shake, rattle, and roll your data.\n",
      "\n"
     ]
    }
   ],
   "source": [
    "library(rattle)\n",
    "data(weather)"
   ]
  },
  {
   "cell_type": "code",
   "execution_count": 38,
   "id": "6cca38da-40f3-48f7-8e12-6e89a5dfb7e7",
   "metadata": {},
   "outputs": [
    {
     "data": {
      "image/png": "[encoded data removed]",
      "text/plain": [
       "Plot with title “weather”"
      ]
     },
     "metadata": {
      "image/png": {
       "height": 420,
       "width": 420
      }
     },
     "output_type": "display_data"
    }
   ],
   "source": [
    "tree1 = rpart(RainTomorrow~., data = weather[, c(3:22, 24)])\n",
    "plot(tree1, main = \"weather\", margin = 0.025)\n",
    "text(tree1, use.n = TRUE, cex = 0.8)"
   ]
  },
  {
   "cell_type": "markdown",
   "id": "1e378aa4-39fe-42f7-a69f-942dd3b90ae2",
   "metadata": {},
   "source": [
    "> 이 그림은 두 개의 합산으로 주어짐."
   ]
  },
  {
   "cell_type": "code",
   "execution_count": 39,
   "id": "300fcfb0-efce-45dd-b167-11c4bb231a13",
   "metadata": {},
   "outputs": [
    {
     "data": {
      "text/plain": [
       "n= 366 \n",
       "\n",
       "node), split, n, loss, yval, (yprob)\n",
       "      * denotes terminal node\n",
       "\n",
       " 1) root 366 66 No (0.81967213 0.18032787)  \n",
       "   2) Humidity3pm< 71.5 339 46 No (0.86430678 0.13569322)  \n",
       "     4) WindGustSpeed< 64 321 34 No (0.89408100 0.10591900)  \n",
       "       8) Pressure3pm>=1011.75 268 18 No (0.93283582 0.06716418)  \n",
       "        16) Sunshine>=5.15 222  7 No (0.96846847 0.03153153) *\n",
       "        17) Sunshine< 5.15 46 11 No (0.76086957 0.23913043)  \n",
       "          34) MaxTemp< 15.8 20  0 No (1.00000000 0.00000000) *\n",
       "          35) MaxTemp>=15.8 26 11 No (0.57692308 0.42307692)  \n",
       "            70) WindSpeed3pm>=19.5 8  0 No (1.00000000 0.00000000) *\n",
       "            71) WindSpeed3pm< 19.5 18  7 Yes (0.38888889 0.61111111) *\n",
       "       9) Pressure3pm< 1011.75 53 16 No (0.69811321 0.30188679)  \n",
       "        18) Sunshine>=8.5 34  6 No (0.82352941 0.17647059) *\n",
       "        19) Sunshine< 8.5 19  9 Yes (0.47368421 0.52631579) *\n",
       "     5) WindGustSpeed>=64 18  6 Yes (0.33333333 0.66666667) *\n",
       "   3) Humidity3pm>=71.5 27  7 Yes (0.25925926 0.74074074) *"
      ]
     },
     "metadata": {},
     "output_type": "display_data"
    }
   ],
   "source": [
    "tree1"
   ]
  },
  {
   "cell_type": "markdown",
   "id": "89c970e3-1c76-4dd6-adf4-cabcbad41456",
   "metadata": {},
   "source": [
    "마지막 줄 의미\n",
    "\n",
    "Humidity3pm >= 71.5인 노드에서 사례 수가 27개이고, 손실은 7, 예측값(끝마디), 예측값 비율"
   ]
  },
  {
   "cell_type": "code",
   "execution_count": 44,
   "id": "5831e5cf-e027-471d-ace1-ca9bb93fefde",
   "metadata": {},
   "outputs": [
    {
     "data": {
      "text/plain": [
       "          observed\n",
       "tredicated  No Yes\n",
       "       No  271  13\n",
       "       Yes  29  53"
      ]
     },
     "metadata": {},
     "output_type": "display_data"
    }
   ],
   "source": [
    "pred1 = predict(tree1, type = \"prob\")[,2]\n",
    "cut = sort(pred1)[301]\n",
    "pred_la = ifelse(pred1 >= cut, \"Yes\", \"No\")\n",
    "table(pred_la, weather$RainTomorrow, dnn = c(\"tredicated\", \"observed\"))"
   ]
  },
  {
   "cell_type": "markdown",
   "id": "b9af61f2-a26e-4fd8-be82-98cadc365deb",
   "metadata": {},
   "source": [
    "정의(Confusion matrix)\n",
    "\n",
    "위음(false negative) 예측률 : no로 예측된 사례 중 실제 yes로 관측된 사례의 비율\n",
    "\n",
    "위양(false positive) 예측률 : yes로 예측된 사례 중 실제 no로 관측된 사례의 비율\n",
    "\n",
    "총 정확도 : 전체 사례 중 정확하게 예측한 사례의 비율"
   ]
  },
  {
   "cell_type": "code",
   "execution_count": 48,
   "id": "5d17887d-84ea-4d8b-9fe6-b963b444c767",
   "metadata": {},
   "outputs": [],
   "source": [
    "data(stagec)\n",
    "attach(stagec)"
   ]
  },
  {
   "cell_type": "code",
   "execution_count": 47,
   "id": "0fb874ad-187c-4fb2-be59-b48a0489756f",
   "metadata": {},
   "outputs": [
    {
     "data": {
      "text/html": [
       "<style>\n",
       ".list-inline {list-style: none; margin:0; padding: 0}\n",
       ".list-inline>li {display: inline-block}\n",
       ".list-inline>li:not(:last-child)::after {content: \"\\00b7\"; padding: 0 .5ex}\n",
       "</style>\n",
       "<ol class=list-inline><li>diploid</li><li>aneuploid</li><li>diploid</li><li>diploid</li><li>tetraploid</li><li>diploid</li><li>tetraploid</li><li>aneuploid</li><li>diploid</li><li>tetraploid</li><li>tetraploid</li><li>tetraploid</li><li>diploid</li><li>tetraploid</li><li>tetraploid</li><li>diploid</li><li>diploid</li><li>tetraploid</li><li>tetraploid</li><li>tetraploid</li><li>tetraploid</li><li>tetraploid</li><li>diploid</li><li>tetraploid</li><li>tetraploid</li><li>tetraploid</li><li>tetraploid</li><li>diploid</li><li>tetraploid</li><li>tetraploid</li><li>tetraploid</li><li>aneuploid</li><li>diploid</li><li>tetraploid</li><li>tetraploid</li><li>diploid</li><li>tetraploid</li><li>diploid</li><li>aneuploid</li><li>tetraploid</li><li>tetraploid</li><li>diploid</li><li>diploid</li><li>diploid</li><li>diploid</li><li>diploid</li><li>diploid</li><li>diploid</li><li>diploid</li><li>diploid</li><li>tetraploid</li><li>diploid</li><li>tetraploid</li><li>tetraploid</li><li>diploid</li><li>diploid</li><li>tetraploid</li><li>diploid</li><li>diploid</li><li>aneuploid</li><li>tetraploid</li><li>tetraploid</li><li>aneuploid</li><li>diploid</li><li>diploid</li><li>tetraploid</li><li>diploid</li><li>tetraploid</li><li>diploid</li><li>diploid</li><li>diploid</li><li>tetraploid</li><li>diploid</li><li>tetraploid</li><li>diploid</li><li>tetraploid</li><li>tetraploid</li><li>tetraploid</li><li>tetraploid</li><li>diploid</li><li>tetraploid</li><li>diploid</li><li>diploid</li><li>diploid</li><li>tetraploid</li><li>diploid</li><li>diploid</li><li>tetraploid</li><li>diploid</li><li>tetraploid</li><li>tetraploid</li><li>diploid</li><li>diploid</li><li>tetraploid</li><li>tetraploid</li><li>tetraploid</li><li>tetraploid</li><li>tetraploid</li><li>diploid</li><li>diploid</li><li>tetraploid</li><li>tetraploid</li><li>tetraploid</li><li>diploid</li><li>tetraploid</li><li>tetraploid</li><li>tetraploid</li><li>tetraploid</li><li>tetraploid</li><li>aneuploid</li><li>aneuploid</li><li>tetraploid</li><li>tetraploid</li><li>diploid</li><li>aneuploid</li><li>tetraploid</li><li>diploid</li><li>diploid</li><li>diploid</li><li>diploid</li><li>tetraploid</li><li>tetraploid</li><li>diploid</li><li>tetraploid</li><li>diploid</li><li>tetraploid</li><li>diploid</li><li>diploid</li><li>tetraploid</li><li>diploid</li><li>aneuploid</li><li>tetraploid</li><li>tetraploid</li><li>diploid</li><li>diploid</li><li>diploid</li><li>diploid</li><li>tetraploid</li><li>diploid</li><li>diploid</li><li>diploid</li><li>diploid</li><li>tetraploid</li><li>aneuploid</li><li>diploid</li><li>diploid</li></ol>\n",
       "\n",
       "<details>\n",
       "\t<summary style=display:list-item;cursor:pointer>\n",
       "\t\t<strong>Levels</strong>:\n",
       "\t</summary>\n",
       "\t<style>\n",
       "\t.list-inline {list-style: none; margin:0; padding: 0}\n",
       "\t.list-inline>li {display: inline-block}\n",
       "\t.list-inline>li:not(:last-child)::after {content: \"\\00b7\"; padding: 0 .5ex}\n",
       "\t</style>\n",
       "\t<ol class=list-inline><li>'diploid'</li><li>'tetraploid'</li><li>'aneuploid'</li></ol>\n",
       "</details>"
      ],
      "text/latex": [
       "\\begin{enumerate*}\n",
       "\\item diploid\n",
       "\\item aneuploid\n",
       "\\item diploid\n",
       "\\item diploid\n",
       "\\item tetraploid\n",
       "\\item diploid\n",
       "\\item tetraploid\n",
       "\\item aneuploid\n",
       "\\item diploid\n",
       "\\item tetraploid\n",
       "\\item tetraploid\n",
       "\\item tetraploid\n",
       "\\item diploid\n",
       "\\item tetraploid\n",
       "\\item tetraploid\n",
       "\\item diploid\n",
       "\\item diploid\n",
       "\\item tetraploid\n",
       "\\item tetraploid\n",
       "\\item tetraploid\n",
       "\\item tetraploid\n",
       "\\item tetraploid\n",
       "\\item diploid\n",
       "\\item tetraploid\n",
       "\\item tetraploid\n",
       "\\item tetraploid\n",
       "\\item tetraploid\n",
       "\\item diploid\n",
       "\\item tetraploid\n",
       "\\item tetraploid\n",
       "\\item tetraploid\n",
       "\\item aneuploid\n",
       "\\item diploid\n",
       "\\item tetraploid\n",
       "\\item tetraploid\n",
       "\\item diploid\n",
       "\\item tetraploid\n",
       "\\item diploid\n",
       "\\item aneuploid\n",
       "\\item tetraploid\n",
       "\\item tetraploid\n",
       "\\item diploid\n",
       "\\item diploid\n",
       "\\item diploid\n",
       "\\item diploid\n",
       "\\item diploid\n",
       "\\item diploid\n",
       "\\item diploid\n",
       "\\item diploid\n",
       "\\item diploid\n",
       "\\item tetraploid\n",
       "\\item diploid\n",
       "\\item tetraploid\n",
       "\\item tetraploid\n",
       "\\item diploid\n",
       "\\item diploid\n",
       "\\item tetraploid\n",
       "\\item diploid\n",
       "\\item diploid\n",
       "\\item aneuploid\n",
       "\\item tetraploid\n",
       "\\item tetraploid\n",
       "\\item aneuploid\n",
       "\\item diploid\n",
       "\\item diploid\n",
       "\\item tetraploid\n",
       "\\item diploid\n",
       "\\item tetraploid\n",
       "\\item diploid\n",
       "\\item diploid\n",
       "\\item diploid\n",
       "\\item tetraploid\n",
       "\\item diploid\n",
       "\\item tetraploid\n",
       "\\item diploid\n",
       "\\item tetraploid\n",
       "\\item tetraploid\n",
       "\\item tetraploid\n",
       "\\item tetraploid\n",
       "\\item diploid\n",
       "\\item tetraploid\n",
       "\\item diploid\n",
       "\\item diploid\n",
       "\\item diploid\n",
       "\\item tetraploid\n",
       "\\item diploid\n",
       "\\item diploid\n",
       "\\item tetraploid\n",
       "\\item diploid\n",
       "\\item tetraploid\n",
       "\\item tetraploid\n",
       "\\item diploid\n",
       "\\item diploid\n",
       "\\item tetraploid\n",
       "\\item tetraploid\n",
       "\\item tetraploid\n",
       "\\item tetraploid\n",
       "\\item tetraploid\n",
       "\\item diploid\n",
       "\\item diploid\n",
       "\\item tetraploid\n",
       "\\item tetraploid\n",
       "\\item tetraploid\n",
       "\\item diploid\n",
       "\\item tetraploid\n",
       "\\item tetraploid\n",
       "\\item tetraploid\n",
       "\\item tetraploid\n",
       "\\item tetraploid\n",
       "\\item aneuploid\n",
       "\\item aneuploid\n",
       "\\item tetraploid\n",
       "\\item tetraploid\n",
       "\\item diploid\n",
       "\\item aneuploid\n",
       "\\item tetraploid\n",
       "\\item diploid\n",
       "\\item diploid\n",
       "\\item diploid\n",
       "\\item diploid\n",
       "\\item tetraploid\n",
       "\\item tetraploid\n",
       "\\item diploid\n",
       "\\item tetraploid\n",
       "\\item diploid\n",
       "\\item tetraploid\n",
       "\\item diploid\n",
       "\\item diploid\n",
       "\\item tetraploid\n",
       "\\item diploid\n",
       "\\item aneuploid\n",
       "\\item tetraploid\n",
       "\\item tetraploid\n",
       "\\item diploid\n",
       "\\item diploid\n",
       "\\item diploid\n",
       "\\item diploid\n",
       "\\item tetraploid\n",
       "\\item diploid\n",
       "\\item diploid\n",
       "\\item diploid\n",
       "\\item diploid\n",
       "\\item tetraploid\n",
       "\\item aneuploid\n",
       "\\item diploid\n",
       "\\item diploid\n",
       "\\end{enumerate*}\n",
       "\n",
       "\\emph{Levels}: \\begin{enumerate*}\n",
       "\\item 'diploid'\n",
       "\\item 'tetraploid'\n",
       "\\item 'aneuploid'\n",
       "\\end{enumerate*}\n"
      ],
      "text/markdown": [
       "1. diploid\n",
       "2. aneuploid\n",
       "3. diploid\n",
       "4. diploid\n",
       "5. tetraploid\n",
       "6. diploid\n",
       "7. tetraploid\n",
       "8. aneuploid\n",
       "9. diploid\n",
       "10. tetraploid\n",
       "11. tetraploid\n",
       "12. tetraploid\n",
       "13. diploid\n",
       "14. tetraploid\n",
       "15. tetraploid\n",
       "16. diploid\n",
       "17. diploid\n",
       "18. tetraploid\n",
       "19. tetraploid\n",
       "20. tetraploid\n",
       "21. tetraploid\n",
       "22. tetraploid\n",
       "23. diploid\n",
       "24. tetraploid\n",
       "25. tetraploid\n",
       "26. tetraploid\n",
       "27. tetraploid\n",
       "28. diploid\n",
       "29. tetraploid\n",
       "30. tetraploid\n",
       "31. tetraploid\n",
       "32. aneuploid\n",
       "33. diploid\n",
       "34. tetraploid\n",
       "35. tetraploid\n",
       "36. diploid\n",
       "37. tetraploid\n",
       "38. diploid\n",
       "39. aneuploid\n",
       "40. tetraploid\n",
       "41. tetraploid\n",
       "42. diploid\n",
       "43. diploid\n",
       "44. diploid\n",
       "45. diploid\n",
       "46. diploid\n",
       "47. diploid\n",
       "48. diploid\n",
       "49. diploid\n",
       "50. diploid\n",
       "51. tetraploid\n",
       "52. diploid\n",
       "53. tetraploid\n",
       "54. tetraploid\n",
       "55. diploid\n",
       "56. diploid\n",
       "57. tetraploid\n",
       "58. diploid\n",
       "59. diploid\n",
       "60. aneuploid\n",
       "61. tetraploid\n",
       "62. tetraploid\n",
       "63. aneuploid\n",
       "64. diploid\n",
       "65. diploid\n",
       "66. tetraploid\n",
       "67. diploid\n",
       "68. tetraploid\n",
       "69. diploid\n",
       "70. diploid\n",
       "71. diploid\n",
       "72. tetraploid\n",
       "73. diploid\n",
       "74. tetraploid\n",
       "75. diploid\n",
       "76. tetraploid\n",
       "77. tetraploid\n",
       "78. tetraploid\n",
       "79. tetraploid\n",
       "80. diploid\n",
       "81. tetraploid\n",
       "82. diploid\n",
       "83. diploid\n",
       "84. diploid\n",
       "85. tetraploid\n",
       "86. diploid\n",
       "87. diploid\n",
       "88. tetraploid\n",
       "89. diploid\n",
       "90. tetraploid\n",
       "91. tetraploid\n",
       "92. diploid\n",
       "93. diploid\n",
       "94. tetraploid\n",
       "95. tetraploid\n",
       "96. tetraploid\n",
       "97. tetraploid\n",
       "98. tetraploid\n",
       "99. diploid\n",
       "100. diploid\n",
       "101. tetraploid\n",
       "102. tetraploid\n",
       "103. tetraploid\n",
       "104. diploid\n",
       "105. tetraploid\n",
       "106. tetraploid\n",
       "107. tetraploid\n",
       "108. tetraploid\n",
       "109. tetraploid\n",
       "110. aneuploid\n",
       "111. aneuploid\n",
       "112. tetraploid\n",
       "113. tetraploid\n",
       "114. diploid\n",
       "115. aneuploid\n",
       "116. tetraploid\n",
       "117. diploid\n",
       "118. diploid\n",
       "119. diploid\n",
       "120. diploid\n",
       "121. tetraploid\n",
       "122. tetraploid\n",
       "123. diploid\n",
       "124. tetraploid\n",
       "125. diploid\n",
       "126. tetraploid\n",
       "127. diploid\n",
       "128. diploid\n",
       "129. tetraploid\n",
       "130. diploid\n",
       "131. aneuploid\n",
       "132. tetraploid\n",
       "133. tetraploid\n",
       "134. diploid\n",
       "135. diploid\n",
       "136. diploid\n",
       "137. diploid\n",
       "138. tetraploid\n",
       "139. diploid\n",
       "140. diploid\n",
       "141. diploid\n",
       "142. diploid\n",
       "143. tetraploid\n",
       "144. aneuploid\n",
       "145. diploid\n",
       "146. diploid\n",
       "\n",
       "\n",
       "\n",
       "**Levels**: 1. 'diploid'\n",
       "2. 'tetraploid'\n",
       "3. 'aneuploid'\n",
       "\n",
       "\n"
      ],
      "text/plain": [
       "  [1] diploid    aneuploid  diploid    diploid    tetraploid diploid   \n",
       "  [7] tetraploid aneuploid  diploid    tetraploid tetraploid tetraploid\n",
       " [13] diploid    tetraploid tetraploid diploid    diploid    tetraploid\n",
       " [19] tetraploid tetraploid tetraploid tetraploid diploid    tetraploid\n",
       " [25] tetraploid tetraploid tetraploid diploid    tetraploid tetraploid\n",
       " [31] tetraploid aneuploid  diploid    tetraploid tetraploid diploid   \n",
       " [37] tetraploid diploid    aneuploid  tetraploid tetraploid diploid   \n",
       " [43] diploid    diploid    diploid    diploid    diploid    diploid   \n",
       " [49] diploid    diploid    tetraploid diploid    tetraploid tetraploid\n",
       " [55] diploid    diploid    tetraploid diploid    diploid    aneuploid \n",
       " [61] tetraploid tetraploid aneuploid  diploid    diploid    tetraploid\n",
       " [67] diploid    tetraploid diploid    diploid    diploid    tetraploid\n",
       " [73] diploid    tetraploid diploid    tetraploid tetraploid tetraploid\n",
       " [79] tetraploid diploid    tetraploid diploid    diploid    diploid   \n",
       " [85] tetraploid diploid    diploid    tetraploid diploid    tetraploid\n",
       " [91] tetraploid diploid    diploid    tetraploid tetraploid tetraploid\n",
       " [97] tetraploid tetraploid diploid    diploid    tetraploid tetraploid\n",
       "[103] tetraploid diploid    tetraploid tetraploid tetraploid tetraploid\n",
       "[109] tetraploid aneuploid  aneuploid  tetraploid tetraploid diploid   \n",
       "[115] aneuploid  tetraploid diploid    diploid    diploid    diploid   \n",
       "[121] tetraploid tetraploid diploid    tetraploid diploid    tetraploid\n",
       "[127] diploid    diploid    tetraploid diploid    aneuploid  tetraploid\n",
       "[133] tetraploid diploid    diploid    diploid    diploid    tetraploid\n",
       "[139] diploid    diploid    diploid    diploid    tetraploid aneuploid \n",
       "[145] diploid    diploid   \n",
       "Levels: diploid tetraploid aneuploid"
      ]
     },
     "metadata": {},
     "output_type": "display_data"
    }
   ],
   "source": [
    "stagec$ploidy"
   ]
  },
  {
   "cell_type": "code",
   "execution_count": 54,
   "id": "990212d6-dd7e-402d-8bae-67fa8537f1ad",
   "metadata": {},
   "outputs": [
    {
     "data": {
      "text/plain": [
       "\n",
       "\t Conditional inference tree with 3 terminal nodes\n",
       "\n",
       "Response:  ploidy \n",
       "Inputs:  pgtime, pgstat, age, eet, g2, grade, gleason \n",
       "Number of observations:  103 \n",
       "\n",
       "1) g2 <= 13.01; criterion = 1, statistic = 46.492\n",
       "  2) pgstat <= 0; criterion = 0.976, statistic = 8.568\n",
       "    3)*  weights = 42 \n",
       "  2) pgstat > 0\n",
       "    4)*  weights = 10 \n",
       "1) g2 > 13.01\n",
       "  5)*  weights = 51 "
      ]
     },
     "metadata": {},
     "output_type": "display_data"
    },
    {
     "data": {
      "image/png": "[encoded data removed]",
      "text/plain": [
       "plot without title"
      ]
     },
     "metadata": {
      "image/png": {
       "height": 420,
       "width": 420
      }
     },
     "output_type": "display_data"
    }
   ],
   "source": [
    "# install.packages(\"party\")\n",
    "library(party)\n",
    "\n",
    "stagec1 = subset(stagec, !is.na(g2))\n",
    "stagec2 = subset(stagec1, !is.na(gleason))\n",
    "stagec3 = subset(stagec1, !is.na(eet))\n",
    "\n",
    "set.seed(1234)\n",
    "ind = sample(2, nrow(stagec3), replace = TRUE, prob = c(0.7, 0.3))  ## 샘플 데이터 자르기\n",
    "trainData = stagec3[ind == 1,]\n",
    "testData = stagec3[ind == 2,]\n",
    "\n",
    "tree = ctree(ploidy~., data = trainData)\n",
    "tree\n",
    "plot(tree)"
   ]
  },
  {
   "cell_type": "code",
   "execution_count": 55,
   "id": "a230bbf6-c401-4d57-a6a9-fb86065536b2",
   "metadata": {},
   "outputs": [
    {
     "data": {
      "text/plain": [
       "            \n",
       "testPred     diploid tetraploid aneuploid\n",
       "  diploid         17          0         2\n",
       "  tetraploid       0         15         0\n",
       "  aneuploid        0          0         0"
      ]
     },
     "metadata": {},
     "output_type": "display_data"
    }
   ],
   "source": [
    "testPred = predict(tree, newdata = testData)\n",
    "table(testPred, testData$ploidy)"
   ]
  },
  {
   "cell_type": "markdown",
   "id": "ce92ed5e-9bb4-45b5-8195-0fa04a299284",
   "metadata": {},
   "source": [
    "> 예측에는 aneuploid가 하나도 없음, 총 정확도는 32/34정도로 잘 됨. 끝"
   ]
  },
  {
   "cell_type": "markdown",
   "id": "e4efddb7-5426-4657-8ec7-eba6d7a6065b",
   "metadata": {},
   "source": [
    "시험은 시계열 자료 분석 이후, 컴퓨터 사용 안함...?\n",
    "\n",
    "코드 / 결과 해석\n",
    "\n",
    "내용 4253H, twiceit이 뭐냐, 데이터를 주고 괄호된 부분만 계산해봐라 등등...\n",
    "\n",
    "시계열자료 로버스트 선형회귀 다변량 군집화 나무그림\n",
    "\n",
    "책 내용 중심으로 해서 코드도 보고 그림 내용도 해석할 줄 알고 해서 총체적으로 물어볼 거야\n",
    "\n",
    "ppt로 따로 보여준 거, 군집화 내용은 그냥 책 내용 이해시키려고 해놓은 거.\n",
    "\n",
    "> 다음주 화요일 날 보기로 했는데, 한시간 내로 쓸 수 있는 문제를 내야겠네. 끝"
   ]
  }
 ],
 "metadata": {
  "kernelspec": {
   "display_name": "R",
   "language": "R",
   "name": "ir"
  },
  "language_info": {
   "codemirror_mode": "r",
   "file_extension": ".r",
   "mimetype": "text/x-r-source",
   "name": "R",
   "pygments_lexer": "r",
   "version": "4.3.3"
  }
 },
 "nbformat": 4,
 "nbformat_minor": 5
}
