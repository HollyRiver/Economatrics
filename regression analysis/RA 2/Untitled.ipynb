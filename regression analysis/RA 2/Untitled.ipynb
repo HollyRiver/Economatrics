{
 "cells": [
  {
   "cell_type": "markdown",
   "id": "f4707246-fc5c-4331-8f2d-b92d964ba5a5",
   "metadata": {},
   "source": [
    "### 1. 분석 준비"
   ]
  },
  {
   "cell_type": "code",
   "execution_count": 1,
   "id": "5c85633a-454c-445f-8d61-2fd38e7bc6fc",
   "metadata": {},
   "outputs": [],
   "source": [
    "setwd(\"../data/\")\n",
    "options(repr.plot.width = 12, repr.plot.height = 6)"
   ]
  },
  {
   "cell_type": "code",
   "execution_count": 2,
   "id": "ccb6a065-8f23-433b-bbce-53d190c319e8",
   "metadata": {},
   "outputs": [],
   "source": [
    "# install.packages(\"ggplot2\")\n",
    "# install.packages(\"lmtest\")"
   ]
  },
  {
   "cell_type": "code",
   "execution_count": 3,
   "id": "188c9dd4-454a-4c7a-a0e6-92931c44ad24",
   "metadata": {},
   "outputs": [
    {
     "name": "stderr",
     "output_type": "stream",
     "text": [
      "Loading required package: zoo\n",
      "\n",
      "\n",
      "Attaching package: ‘zoo’\n",
      "\n",
      "\n",
      "The following objects are masked from ‘package:base’:\n",
      "\n",
      "    as.Date, as.Date.numeric\n",
      "\n",
      "\n"
     ]
    }
   ],
   "source": [
    "library(ggplot2)\n",
    "library(lmtest)"
   ]
  },
  {
   "cell_type": "markdown",
   "id": "fa276159-c2db-449b-96cb-fefe37f97c73",
   "metadata": {},
   "source": [
    "### 2. 광고료와 총판매액 분석"
   ]
  },
  {
   "cell_type": "markdown",
   "id": "78b45883-a836-4eb4-bafd-6e1960ae05bd",
   "metadata": {},
   "source": [
    "`-` data"
   ]
  },
  {
   "cell_type": "code",
   "execution_count": 4,
   "id": "8675f81f-e63b-437f-8272-650d99364aa6",
   "metadata": {},
   "outputs": [
    {
     "data": {
      "text/html": [
       "<table class=\"dataframe\">\n",
       "<caption>A data.frame: 10 × 2</caption>\n",
       "<thead>\n",
       "\t<tr><th scope=col>x</th><th scope=col>y</th></tr>\n",
       "\t<tr><th scope=col>&lt;dbl&gt;</th><th scope=col>&lt;dbl&gt;</th></tr>\n",
       "</thead>\n",
       "<tbody>\n",
       "\t<tr><td> 4</td><td> 9</td></tr>\n",
       "\t<tr><td> 8</td><td>20</td></tr>\n",
       "\t<tr><td> 9</td><td>22</td></tr>\n",
       "\t<tr><td> 8</td><td>15</td></tr>\n",
       "\t<tr><td> 8</td><td>17</td></tr>\n",
       "\t<tr><td>12</td><td>30</td></tr>\n",
       "\t<tr><td> 6</td><td>18</td></tr>\n",
       "\t<tr><td>10</td><td>25</td></tr>\n",
       "\t<tr><td> 6</td><td>10</td></tr>\n",
       "\t<tr><td> 9</td><td>20</td></tr>\n",
       "</tbody>\n",
       "</table>\n"
      ],
      "text/latex": [
       "A data.frame: 10 × 2\n",
       "\\begin{tabular}{ll}\n",
       " x & y\\\\\n",
       " <dbl> & <dbl>\\\\\n",
       "\\hline\n",
       "\t  4 &  9\\\\\n",
       "\t  8 & 20\\\\\n",
       "\t  9 & 22\\\\\n",
       "\t  8 & 15\\\\\n",
       "\t  8 & 17\\\\\n",
       "\t 12 & 30\\\\\n",
       "\t  6 & 18\\\\\n",
       "\t 10 & 25\\\\\n",
       "\t  6 & 10\\\\\n",
       "\t  9 & 20\\\\\n",
       "\\end{tabular}\n"
      ],
      "text/markdown": [
       "\n",
       "A data.frame: 10 × 2\n",
       "\n",
       "| x &lt;dbl&gt; | y &lt;dbl&gt; |\n",
       "|---|---|\n",
       "|  4 |  9 |\n",
       "|  8 | 20 |\n",
       "|  9 | 22 |\n",
       "|  8 | 15 |\n",
       "|  8 | 17 |\n",
       "| 12 | 30 |\n",
       "|  6 | 18 |\n",
       "| 10 | 25 |\n",
       "|  6 | 10 |\n",
       "|  9 | 20 |\n",
       "\n"
      ],
      "text/plain": [
       "   x  y \n",
       "1   4  9\n",
       "2   8 20\n",
       "3   9 22\n",
       "4   8 15\n",
       "5   8 17\n",
       "6  12 30\n",
       "7   6 18\n",
       "8  10 25\n",
       "9   6 10\n",
       "10  9 20"
      ]
     },
     "metadata": {},
     "output_type": "display_data"
    }
   ],
   "source": [
    "dt <- data.frame(x = c(4,8,9,8,8,12,6,10,6,9),\n",
    "                 y = c(9,20,22,15,17,30,18,25,10,20))\n",
    "dt"
   ]
  },
  {
   "cell_type": "markdown",
   "id": "764ef704-5be2-44bb-91cb-de704cb20348",
   "metadata": {},
   "source": [
    "`-` 산점도 그리기"
   ]
  },
  {
   "cell_type": "code",
   "execution_count": 5,
   "id": "935e9139-2dc0-4df1-85b1-497c8101fced",
   "metadata": {},
   "outputs": [
    {
     "data": {
      "image/png": "[encoded data removed]",
      "text/plain": [
       "plot without title"
      ]
     },
     "metadata": {
      "image/png": {
       "height": 360,
       "width": 720
      }
     },
     "output_type": "display_data"
    }
   ],
   "source": [
    "ggplot(dt, aes(x, y)) + geom_point(col = \"darkorange\", size = 3) + xlab(\"advertise\") + ylab(\"saler\") + theme_bw(base_family = \"NanumGothic\") + theme(axis.title = element_text(size = 14))"
   ]
  },
  {
   "cell_type": "markdown",
   "id": "0b5249f3-22f9-4943-abe4-eba1108d37db",
   "metadata": {},
   "source": [
    "`-` 상관관계 분석"
   ]
  },
  {
   "cell_type": "code",
   "execution_count": 6,
   "id": "f0b63fe1-2472-40d8-a257-4063ca5e7b41",
   "metadata": {},
   "outputs": [
    {
     "data": {
      "text/html": [
       "0.921812343945765"
      ],
      "text/latex": [
       "0.921812343945765"
      ],
      "text/markdown": [
       "0.921812343945765"
      ],
      "text/plain": [
       "[1] 0.9218123"
      ]
     },
     "metadata": {},
     "output_type": "display_data"
    }
   ],
   "source": [
    "cor(dt$x, dt$y)  ## 상관계수"
   ]
  },
  {
   "cell_type": "markdown",
   "id": "19714d89-9b23-4b1d-bd43-38fdd51547bf",
   "metadata": {},
   "source": [
    "$H_0 : \\rho_{xy} = 0 ~ ~  vs. ~ ~  H_1 : \\rho_{xy} ≠ 0$"
   ]
  },
  {
   "cell_type": "code",
   "execution_count": 7,
   "id": "a99b4471-17f3-45f5-b138-c803bcef0f5d",
   "metadata": {},
   "outputs": [
    {
     "data": {
      "text/plain": [
       "\n",
       "\tPearson's product-moment correlation\n",
       "\n",
       "data:  dt$x and dt$y\n",
       "t = 6.7261, df = 8, p-value = 0.0001487\n",
       "alternative hypothesis: true correlation is not equal to 0\n",
       "95 percent confidence interval:\n",
       " 0.6963398 0.9816763\n",
       "sample estimates:\n",
       "      cor \n",
       "0.9218123 \n"
      ]
     },
     "metadata": {},
     "output_type": "display_data"
    }
   ],
   "source": [
    "cor.test(dt$x, dt$y)  ## 피어슨 상관계수 검정"
   ]
  },
  {
   "cell_type": "markdown",
   "id": "e6728923-4068-41dd-9924-9615164e5312",
   "metadata": {},
   "source": [
    "> x와 y는 상관관계가 있다."
   ]
  },
  {
   "cell_type": "markdown",
   "id": "a12688f8-9d19-47ee-bca9-4ac601a6b36b",
   "metadata": {},
   "source": [
    "`-` 회귀모형 적합"
   ]
  },
  {
   "cell_type": "code",
   "execution_count": 8,
   "id": "9d9614d5-085c-4602-b540-62fd581ec0b9",
   "metadata": {},
   "outputs": [
    {
     "data": {
      "text/plain": [
       "\n",
       "Call:\n",
       "lm(formula = y ~ x, data = dt)\n",
       "\n",
       "Coefficients:\n",
       "(Intercept)            x  \n",
       "     -2.270        2.609  \n"
      ]
     },
     "metadata": {},
     "output_type": "display_data"
    }
   ],
   "source": [
    "model <- lm(y~x, dt)\n",
    "model"
   ]
  },
  {
   "cell_type": "code",
   "execution_count": 9,
   "id": "e8cc51e8-ba02-4594-8a1f-e7554039d058",
   "metadata": {},
   "outputs": [
    {
     "data": {
      "text/html": [
       "<style>\n",
       ".dl-inline {width: auto; margin:0; padding: 0}\n",
       ".dl-inline>dt, .dl-inline>dd {float: none; width: auto; display: inline-block}\n",
       ".dl-inline>dt::after {content: \":\\0020\"; padding-right: .5ex}\n",
       ".dl-inline>dt:not(:first-of-type) {padding-left: .5ex}\n",
       "</style><dl class=dl-inline><dt>(Intercept)</dt><dd>-2.2695652173913</dd><dt>x</dt><dd>2.60869565217391</dd></dl>\n"
      ],
      "text/latex": [
       "\\begin{description*}\n",
       "\\item[(Intercept)] -2.2695652173913\n",
       "\\item[x] 2.60869565217391\n",
       "\\end{description*}\n"
      ],
      "text/markdown": [
       "(Intercept)\n",
       ":   -2.2695652173913x\n",
       ":   2.60869565217391\n",
       "\n"
      ],
      "text/plain": [
       "(Intercept)           x \n",
       "  -2.269565    2.608696 "
      ]
     },
     "metadata": {},
     "output_type": "display_data"
    }
   ],
   "source": [
    "model$coefficients  ## coef(model)"
   ]
  },
  {
   "cell_type": "code",
   "execution_count": 10,
   "id": "5ee83c4c-4ba4-467b-9c85-f9ce0601df79",
   "metadata": {},
   "outputs": [
    {
     "data": {
      "text/html": [
       "<style>\n",
       ".list-inline {list-style: none; margin:0; padding: 0}\n",
       ".list-inline>li {display: inline-block}\n",
       ".list-inline>li:not(:last-child)::after {content: \"\\00b7\"; padding: 0 .5ex}\n",
       "</style>\n",
       "<ol class=list-inline><li>'assign'</li><li>'call'</li><li>'coefficients'</li><li>'df.residual'</li><li>'effects'</li><li>'fitted.values'</li><li>'model'</li><li>'qr'</li><li>'rank'</li><li>'residuals'</li><li>'terms'</li><li>'xlevels'</li></ol>\n"
      ],
      "text/latex": [
       "\\begin{enumerate*}\n",
       "\\item 'assign'\n",
       "\\item 'call'\n",
       "\\item 'coefficients'\n",
       "\\item 'df.residual'\n",
       "\\item 'effects'\n",
       "\\item 'fitted.values'\n",
       "\\item 'model'\n",
       "\\item 'qr'\n",
       "\\item 'rank'\n",
       "\\item 'residuals'\n",
       "\\item 'terms'\n",
       "\\item 'xlevels'\n",
       "\\end{enumerate*}\n"
      ],
      "text/markdown": [
       "1. 'assign'\n",
       "2. 'call'\n",
       "3. 'coefficients'\n",
       "4. 'df.residual'\n",
       "5. 'effects'\n",
       "6. 'fitted.values'\n",
       "7. 'model'\n",
       "8. 'qr'\n",
       "9. 'rank'\n",
       "10. 'residuals'\n",
       "11. 'terms'\n",
       "12. 'xlevels'\n",
       "\n",
       "\n"
      ],
      "text/plain": [
       " [1] \"assign\"        \"call\"          \"coefficients\"  \"df.residual\"  \n",
       " [5] \"effects\"       \"fitted.values\" \"model\"         \"qr\"           \n",
       " [9] \"rank\"          \"residuals\"     \"terms\"         \"xlevels\"      "
      ]
     },
     "metadata": {},
     "output_type": "display_data"
    }
   ],
   "source": [
    "ls(model)  ## names(model)"
   ]
  },
  {
   "cell_type": "markdown",
   "id": "0d7621b2-f865-4d15-a147-652b641464cb",
   "metadata": {},
   "source": [
    "> 따라서 추정된 회귀직선은 $\\hat{y} = -2.270 + 2.609x$"
   ]
  },
  {
   "cell_type": "code",
   "execution_count": 11,
   "id": "e3106d8c-47c3-42a4-bf80-ae6522dffaf2",
   "metadata": {},
   "outputs": [
    {
     "data": {
      "text/plain": [
       "\n",
       "Call:\n",
       "lm(formula = y ~ x, data = dt)\n",
       "\n",
       "Residuals:\n",
       "   Min     1Q Median     3Q    Max \n",
       "-3.600 -1.502  0.813  1.128  4.617 \n",
       "\n",
       "Coefficients:\n",
       "            Estimate Std. Error t value Pr(>|t|)    \n",
       "(Intercept)  -2.2696     3.2123  -0.707 0.499926    \n",
       "x             2.6087     0.3878   6.726 0.000149 ***\n",
       "---\n",
       "Signif. codes:  0 ‘***’ 0.001 ‘**’ 0.01 ‘*’ 0.05 ‘.’ 0.1 ‘ ’ 1\n",
       "\n",
       "Residual standard error: 2.631 on 8 degrees of freedom\n",
       "Multiple R-squared:  0.8497,\tAdjusted R-squared:  0.831 \n",
       "F-statistic: 45.24 on 1 and 8 DF,  p-value: 0.0001487\n"
      ]
     },
     "metadata": {},
     "output_type": "display_data"
    }
   ],
   "source": [
    "summary(model)"
   ]
  },
  {
   "cell_type": "markdown",
   "id": "01a4ce20-ff6b-4e34-bd31-b2b09f681056",
   "metadata": {},
   "source": [
    "`-` 추정된 값 : $\\hat{y_i}$"
   ]
  },
  {
   "cell_type": "code",
   "execution_count": 12,
   "id": "53dbc738-ad72-4ee5-ba1b-7d06ce87741c",
   "metadata": {},
   "outputs": [
    {
     "data": {
      "text/html": [
       "<style>\n",
       ".list-inline {list-style: none; margin:0; padding: 0}\n",
       ".list-inline>li {display: inline-block}\n",
       ".list-inline>li:not(:last-child)::after {content: \"\\00b7\"; padding: 0 .5ex}\n",
       "</style>\n",
       "<ol class=list-inline><li>8.16521739130435</li><li>18.6</li><li>21.2086956521739</li><li>18.6</li><li>18.6</li><li>29.0347826086957</li><li>13.3826086956522</li><li>23.8173913043478</li><li>13.3826086956522</li><li>21.2086956521739</li></ol>\n"
      ],
      "text/latex": [
       "\\begin{enumerate*}\n",
       "\\item 8.16521739130435\n",
       "\\item 18.6\n",
       "\\item 21.2086956521739\n",
       "\\item 18.6\n",
       "\\item 18.6\n",
       "\\item 29.0347826086957\n",
       "\\item 13.3826086956522\n",
       "\\item 23.8173913043478\n",
       "\\item 13.3826086956522\n",
       "\\item 21.2086956521739\n",
       "\\end{enumerate*}\n"
      ],
      "text/markdown": [
       "1. 8.16521739130435\n",
       "2. 18.6\n",
       "3. 21.2086956521739\n",
       "4. 18.6\n",
       "5. 18.6\n",
       "6. 29.0347826086957\n",
       "7. 13.3826086956522\n",
       "8. 23.8173913043478\n",
       "9. 13.3826086956522\n",
       "10. 21.2086956521739\n",
       "\n",
       "\n"
      ],
      "text/plain": [
       " [1]  8.165217 18.600000 21.208696 18.600000 18.600000 29.034783 13.382609\n",
       " [8] 23.817391 13.382609 21.208696"
      ]
     },
     "metadata": {},
     "output_type": "display_data"
    }
   ],
   "source": [
    "coef(model)[1] + coef(model)[2]*dt$x  ## 직접 계산"
   ]
  },
  {
   "cell_type": "code",
   "execution_count": 13,
   "id": "dbae414b-d74f-419c-bfc8-81530f4a48d3",
   "metadata": {},
   "outputs": [
    {
     "data": {
      "text/html": [
       "<style>\n",
       ".dl-inline {width: auto; margin:0; padding: 0}\n",
       ".dl-inline>dt, .dl-inline>dd {float: none; width: auto; display: inline-block}\n",
       ".dl-inline>dt::after {content: \":\\0020\"; padding-right: .5ex}\n",
       ".dl-inline>dt:not(:first-of-type) {padding-left: .5ex}\n",
       "</style><dl class=dl-inline><dt>1</dt><dd>8.16521739130434</dd><dt>2</dt><dd>18.6</dd><dt>3</dt><dd>21.2086956521739</dd><dt>4</dt><dd>18.6</dd><dt>5</dt><dd>18.6</dd><dt>6</dt><dd>29.0347826086957</dd><dt>7</dt><dd>13.3826086956522</dd><dt>8</dt><dd>23.8173913043478</dd><dt>9</dt><dd>13.3826086956522</dd><dt>10</dt><dd>21.2086956521739</dd></dl>\n"
      ],
      "text/latex": [
       "\\begin{description*}\n",
       "\\item[1] 8.16521739130434\n",
       "\\item[2] 18.6\n",
       "\\item[3] 21.2086956521739\n",
       "\\item[4] 18.6\n",
       "\\item[5] 18.6\n",
       "\\item[6] 29.0347826086957\n",
       "\\item[7] 13.3826086956522\n",
       "\\item[8] 23.8173913043478\n",
       "\\item[9] 13.3826086956522\n",
       "\\item[10] 21.2086956521739\n",
       "\\end{description*}\n"
      ],
      "text/markdown": [
       "1\n",
       ":   8.165217391304342\n",
       ":   18.63\n",
       ":   21.20869565217394\n",
       ":   18.65\n",
       ":   18.66\n",
       ":   29.03478260869577\n",
       ":   13.38260869565228\n",
       ":   23.81739130434789\n",
       ":   13.382608695652210\n",
       ":   21.2086956521739\n",
       "\n"
      ],
      "text/plain": [
       "        1         2         3         4         5         6         7         8 \n",
       " 8.165217 18.600000 21.208696 18.600000 18.600000 29.034783 13.382609 23.817391 \n",
       "        9        10 \n",
       "13.382609 21.208696 "
      ]
     },
     "metadata": {},
     "output_type": "display_data"
    }
   ],
   "source": [
    "model$fitted.values  ## fitted.values(model) or fitted(model)"
   ]
  },
  {
   "cell_type": "code",
   "execution_count": 14,
   "id": "6666815a-46ba-4645-a753-93bd55cd5f90",
   "metadata": {},
   "outputs": [
    {
     "data": {
      "image/png": "[encoded data removed]",
      "text/plain": [
       "plot without title"
      ]
     },
     "metadata": {
      "image/png": {
       "height": 360,
       "width": 720
      }
     },
     "output_type": "display_data"
    }
   ],
   "source": [
    "plot(dt$x, dt$y, pch = 16, cex = 1.5, col = \"darkorange\", xlab = \"promotion\", ylab = \"sales\")\n",
    "abline(model, col = \"red\", lwd = 2)"
   ]
  },
  {
   "cell_type": "markdown",
   "id": "3a162681-2599-4bbe-8cc2-e4bb7b1e98d0",
   "metadata": {},
   "source": [
    "`-` 회귀모형의 유의성 검정(F검정)"
   ]
  },
  {
   "cell_type": "code",
   "execution_count": 15,
   "id": "4b80c146-b8e6-46b6-810d-cb8bf27c9ae6",
   "metadata": {},
   "outputs": [
    {
     "data": {
      "text/html": [
       "<style>\n",
       ".list-inline {list-style: none; margin:0; padding: 0}\n",
       ".list-inline>li {display: inline-block}\n",
       ".list-inline>li:not(:last-child)::after {content: \"\\00b7\"; padding: 0 .5ex}\n",
       "</style>\n",
       "<ol class=list-inline><li>'call'</li><li>'terms'</li><li>'residuals'</li><li>'coefficients'</li><li>'aliased'</li><li>'sigma'</li><li>'df'</li><li>'r.squared'</li><li>'adj.r.squared'</li><li>'fstatistic'</li><li>'cov.unscaled'</li></ol>\n"
      ],
      "text/latex": [
       "\\begin{enumerate*}\n",
       "\\item 'call'\n",
       "\\item 'terms'\n",
       "\\item 'residuals'\n",
       "\\item 'coefficients'\n",
       "\\item 'aliased'\n",
       "\\item 'sigma'\n",
       "\\item 'df'\n",
       "\\item 'r.squared'\n",
       "\\item 'adj.r.squared'\n",
       "\\item 'fstatistic'\n",
       "\\item 'cov.unscaled'\n",
       "\\end{enumerate*}\n"
      ],
      "text/markdown": [
       "1. 'call'\n",
       "2. 'terms'\n",
       "3. 'residuals'\n",
       "4. 'coefficients'\n",
       "5. 'aliased'\n",
       "6. 'sigma'\n",
       "7. 'df'\n",
       "8. 'r.squared'\n",
       "9. 'adj.r.squared'\n",
       "10. 'fstatistic'\n",
       "11. 'cov.unscaled'\n",
       "\n",
       "\n"
      ],
      "text/plain": [
       " [1] \"call\"          \"terms\"         \"residuals\"     \"coefficients\" \n",
       " [5] \"aliased\"       \"sigma\"         \"df\"            \"r.squared\"    \n",
       " [9] \"adj.r.squared\" \"fstatistic\"    \"cov.unscaled\" "
      ]
     },
     "metadata": {},
     "output_type": "display_data"
    }
   ],
   "source": [
    "names(summary(model))"
   ]
  },
  {
   "cell_type": "code",
   "execution_count": 16,
   "id": "b37cede4-fefe-4e2b-bbef-ef71fd3ac471",
   "metadata": {},
   "outputs": [
    {
     "name": "stdout",
     "output_type": "stream",
     "text": [
      "   value    numdf    dendf \n",
      "45.24034  1.00000  8.00000 \n",
      "[1] 5.317655\n"
     ]
    }
   ],
   "source": [
    "print(summary(model)$fstatistic)\n",
    "print(qf(0.95, 1, 8))"
   ]
  },
  {
   "cell_type": "code",
   "execution_count": 17,
   "id": "d1cc8395-e061-4a2b-a450-152ecea38832",
   "metadata": {},
   "outputs": [
    {
     "data": {
      "text/html": [
       "<table class=\"dataframe\">\n",
       "<caption>A anova: 2 × 5</caption>\n",
       "<thead>\n",
       "\t<tr><th></th><th scope=col>Df</th><th scope=col>Sum Sq</th><th scope=col>Mean Sq</th><th scope=col>F value</th><th scope=col>Pr(&gt;F)</th></tr>\n",
       "\t<tr><th></th><th scope=col>&lt;int&gt;</th><th scope=col>&lt;dbl&gt;</th><th scope=col>&lt;dbl&gt;</th><th scope=col>&lt;dbl&gt;</th><th scope=col>&lt;dbl&gt;</th></tr>\n",
       "</thead>\n",
       "<tbody>\n",
       "\t<tr><th scope=row>x</th><td>1</td><td>313.04348</td><td>313.043478</td><td>45.24034</td><td>0.0001486582</td></tr>\n",
       "\t<tr><th scope=row>Residuals</th><td>8</td><td> 55.35652</td><td>  6.919565</td><td>      NA</td><td>          NA</td></tr>\n",
       "</tbody>\n",
       "</table>\n"
      ],
      "text/latex": [
       "A anova: 2 × 5\n",
       "\\begin{tabular}{r|lllll}\n",
       "  & Df & Sum Sq & Mean Sq & F value & Pr(>F)\\\\\n",
       "  & <int> & <dbl> & <dbl> & <dbl> & <dbl>\\\\\n",
       "\\hline\n",
       "\tx & 1 & 313.04348 & 313.043478 & 45.24034 & 0.0001486582\\\\\n",
       "\tResiduals & 8 &  55.35652 &   6.919565 &       NA &           NA\\\\\n",
       "\\end{tabular}\n"
      ],
      "text/markdown": [
       "\n",
       "A anova: 2 × 5\n",
       "\n",
       "| <!--/--> | Df &lt;int&gt; | Sum Sq &lt;dbl&gt; | Mean Sq &lt;dbl&gt; | F value &lt;dbl&gt; | Pr(&gt;F) &lt;dbl&gt; |\n",
       "|---|---|---|---|---|---|\n",
       "| x | 1 | 313.04348 | 313.043478 | 45.24034 | 0.0001486582 |\n",
       "| Residuals | 8 |  55.35652 |   6.919565 |       NA |           NA |\n",
       "\n"
      ],
      "text/plain": [
       "          Df Sum Sq    Mean Sq    F value  Pr(>F)      \n",
       "x         1  313.04348 313.043478 45.24034 0.0001486582\n",
       "Residuals 8   55.35652   6.919565       NA           NA"
      ]
     },
     "metadata": {},
     "output_type": "display_data"
    }
   ],
   "source": [
    "anova(model)"
   ]
  },
  {
   "cell_type": "markdown",
   "id": "6f1eee58-5570-4466-9c75-f17c09903eca",
   "metadata": {},
   "source": [
    "> p-value가 상당히 낮으므로 귀무가설을 기각, 즉, 적합된 회귀직선은 유의하다."
   ]
  },
  {
   "cell_type": "markdown",
   "id": "682f2c00-9924-44e3-b617-5a30743d0be7",
   "metadata": {},
   "source": [
    "`-` 회귀계수의 유의성 검정(t검정)"
   ]
  },
  {
   "cell_type": "code",
   "execution_count": 18,
   "id": "066cb922-512b-40f3-94b3-ce2b81f654e7",
   "metadata": {},
   "outputs": [
    {
     "data": {
      "text/html": [
       "<table class=\"dataframe\">\n",
       "<caption>A matrix: 2 × 4 of type dbl</caption>\n",
       "<thead>\n",
       "\t<tr><th></th><th scope=col>Estimate</th><th scope=col>Std. Error</th><th scope=col>t value</th><th scope=col>Pr(&gt;|t|)</th></tr>\n",
       "</thead>\n",
       "<tbody>\n",
       "\t<tr><th scope=row>(Intercept)</th><td>-2.269565</td><td>3.212348</td><td>-0.7065129</td><td>0.4999255886</td></tr>\n",
       "\t<tr><th scope=row>x</th><td> 2.608696</td><td>0.387847</td><td> 6.7260939</td><td>0.0001486582</td></tr>\n",
       "</tbody>\n",
       "</table>\n"
      ],
      "text/latex": [
       "A matrix: 2 × 4 of type dbl\n",
       "\\begin{tabular}{r|llll}\n",
       "  & Estimate & Std. Error & t value & Pr(>\\textbar{}t\\textbar{})\\\\\n",
       "\\hline\n",
       "\t(Intercept) & -2.269565 & 3.212348 & -0.7065129 & 0.4999255886\\\\\n",
       "\tx &  2.608696 & 0.387847 &  6.7260939 & 0.0001486582\\\\\n",
       "\\end{tabular}\n"
      ],
      "text/markdown": [
       "\n",
       "A matrix: 2 × 4 of type dbl\n",
       "\n",
       "| <!--/--> | Estimate | Std. Error | t value | Pr(&gt;|t|) |\n",
       "|---|---|---|---|---|\n",
       "| (Intercept) | -2.269565 | 3.212348 | -0.7065129 | 0.4999255886 |\n",
       "| x |  2.608696 | 0.387847 |  6.7260939 | 0.0001486582 |\n",
       "\n"
      ],
      "text/plain": [
       "            Estimate  Std. Error t value    Pr(>|t|)    \n",
       "(Intercept) -2.269565 3.212348   -0.7065129 0.4999255886\n",
       "x            2.608696 0.387847    6.7260939 0.0001486582"
      ]
     },
     "metadata": {},
     "output_type": "display_data"
    }
   ],
   "source": [
    "summary(model)$coefficients"
   ]
  },
  {
   "cell_type": "markdown",
   "id": "2dfcebd0-85b0-45d8-8218-cf74b0a14dfa",
   "metadata": {},
   "source": [
    "> 유의수준 $\\alpha = 0.05$에서 절편은 유의하지 않고, 회귀계수는 유의하다."
   ]
  },
  {
   "cell_type": "markdown",
   "id": "d491e035-a96a-4554-a26b-2ef43deeb896",
   "metadata": {},
   "source": [
    "`-` 모형의 적합도"
   ]
  },
  {
   "cell_type": "code",
   "execution_count": 22,
   "id": "1c9f2376-1dd6-40b9-9392-b05850da1f35",
   "metadata": {},
   "outputs": [
    {
     "data": {
      "text/html": [
       "<style>\n",
       ".list-inline {list-style: none; margin:0; padding: 0}\n",
       ".list-inline>li {display: inline-block}\n",
       ".list-inline>li:not(:last-child)::after {content: \"\\00b7\"; padding: 0 .5ex}\n",
       "</style>\n",
       "<ol class=list-inline><li>0.849737997450786</li><li>0.830955247132134</li></ol>\n"
      ],
      "text/latex": [
       "\\begin{enumerate*}\n",
       "\\item 0.849737997450786\n",
       "\\item 0.830955247132134\n",
       "\\end{enumerate*}\n"
      ],
      "text/markdown": [
       "1. 0.849737997450786\n",
       "2. 0.830955247132134\n",
       "\n",
       "\n"
      ],
      "text/plain": [
       "[1] 0.8497380 0.8309552"
      ]
     },
     "metadata": {},
     "output_type": "display_data"
    }
   ],
   "source": [
    "c(summary(model)$r.squared, summary(model)$adj.r.squared)"
   ]
  },
  {
   "cell_type": "markdown",
   "id": "fa5164ad-f84b-43cc-b4b2-97a3e2ac9e5c",
   "metadata": {},
   "source": [
    "`-` 회귀계수에 대한 추론\n",
    "\n",
    "* $\\hat{\\beta_1}$에 대한 추론 : confidence interval"
   ]
  },
  {
   "cell_type": "markdown",
   "id": "69dd60cf-e2dd-4b88-8a80-c60ea97dcbfe",
   "metadata": {},
   "source": [
    "수제로 구하기"
   ]
  },
  {
   "cell_type": "code",
   "execution_count": 27,
   "id": "de10ac6a-4b71-4720-b46b-441e81101163",
   "metadata": {},
   "outputs": [
    {
     "data": {
      "text/html": [
       "-2.30600413520417"
      ],
      "text/latex": [
       "-2.30600413520417"
      ],
      "text/markdown": [
       "-2.30600413520417"
      ],
      "text/plain": [
       "[1] -2.306004"
      ]
     },
     "metadata": {},
     "output_type": "display_data"
    }
   ],
   "source": [
    "qt(0.025, length(dt$x)-2)"
   ]
  },
  {
   "cell_type": "code",
   "execution_count": 23,
   "id": "19f00300-7526-4af6-8ca2-b56298d10c3f",
   "metadata": {},
   "outputs": [
    {
     "data": {
      "text/html": [
       "<table class=\"dataframe\">\n",
       "<caption>A matrix: 2 × 4 of type dbl</caption>\n",
       "<thead>\n",
       "\t<tr><th></th><th scope=col>Estimate</th><th scope=col>Std. Error</th><th scope=col>t value</th><th scope=col>Pr(&gt;|t|)</th></tr>\n",
       "</thead>\n",
       "<tbody>\n",
       "\t<tr><th scope=row>(Intercept)</th><td>-2.269565</td><td>3.212348</td><td>-0.7065129</td><td>0.4999255886</td></tr>\n",
       "\t<tr><th scope=row>x</th><td> 2.608696</td><td>0.387847</td><td> 6.7260939</td><td>0.0001486582</td></tr>\n",
       "</tbody>\n",
       "</table>\n"
      ],
      "text/latex": [
       "A matrix: 2 × 4 of type dbl\n",
       "\\begin{tabular}{r|llll}\n",
       "  & Estimate & Std. Error & t value & Pr(>\\textbar{}t\\textbar{})\\\\\n",
       "\\hline\n",
       "\t(Intercept) & -2.269565 & 3.212348 & -0.7065129 & 0.4999255886\\\\\n",
       "\tx &  2.608696 & 0.387847 &  6.7260939 & 0.0001486582\\\\\n",
       "\\end{tabular}\n"
      ],
      "text/markdown": [
       "\n",
       "A matrix: 2 × 4 of type dbl\n",
       "\n",
       "| <!--/--> | Estimate | Std. Error | t value | Pr(&gt;|t|) |\n",
       "|---|---|---|---|---|\n",
       "| (Intercept) | -2.269565 | 3.212348 | -0.7065129 | 0.4999255886 |\n",
       "| x |  2.608696 | 0.387847 |  6.7260939 | 0.0001486582 |\n",
       "\n"
      ],
      "text/plain": [
       "            Estimate  Std. Error t value    Pr(>|t|)    \n",
       "(Intercept) -2.269565 3.212348   -0.7065129 0.4999255886\n",
       "x            2.608696 0.387847    6.7260939 0.0001486582"
      ]
     },
     "metadata": {},
     "output_type": "display_data"
    }
   ],
   "source": [
    "summary(model)$coef"
   ]
  },
  {
   "cell_type": "code",
   "execution_count": 32,
   "id": "f8cb09f9-6d9b-4d07-8836-218816876fda",
   "metadata": {},
   "outputs": [
    {
     "data": {
      "text/html": [
       "<strong>x:</strong> 1.71431876109785"
      ],
      "text/latex": [
       "\\textbf{x:} 1.71431876109785"
      ],
      "text/markdown": [
       "**x:** 1.71431876109785"
      ],
      "text/plain": [
       "       x \n",
       "1.714319 "
      ]
     },
     "metadata": {},
     "output_type": "display_data"
    },
    {
     "data": {
      "text/html": [
       "<strong>x:</strong> 3.50307254324997"
      ],
      "text/latex": [
       "\\textbf{x:} 3.50307254324997"
      ],
      "text/markdown": [
       "**x:** 3.50307254324997"
      ],
      "text/plain": [
       "       x \n",
       "3.503073 "
      ]
     },
     "metadata": {},
     "output_type": "display_data"
    }
   ],
   "source": [
    "model$coef[2] + qt(0.025, length(dt$x)-2) * summary(model)$coef[2,2]\n",
    "model$coef[2] + qt(0.975, length(dt$x)-2) * summary(model)$coef[2,2]"
   ]
  },
  {
   "cell_type": "markdown",
   "id": "6bc4ffd9-ad29-4ed0-82cc-f2b0229169aa",
   "metadata": {},
   "source": [
    "함수를 이용하여 구하기"
   ]
  },
  {
   "cell_type": "code",
   "execution_count": 33,
   "id": "94a95287-b2f4-4a87-98dd-5a5918d4b6f8",
   "metadata": {},
   "outputs": [
    {
     "data": {
      "text/html": [
       "<table class=\"dataframe\">\n",
       "<caption>A matrix: 2 × 2 of type dbl</caption>\n",
       "<thead>\n",
       "\t<tr><th></th><th scope=col>2.5 %</th><th scope=col>97.5 %</th></tr>\n",
       "</thead>\n",
       "<tbody>\n",
       "\t<tr><th scope=row>(Intercept)</th><td>-9.677252</td><td>5.138122</td></tr>\n",
       "\t<tr><th scope=row>x</th><td> 1.714319</td><td>3.503073</td></tr>\n",
       "</tbody>\n",
       "</table>\n"
      ],
      "text/latex": [
       "A matrix: 2 × 2 of type dbl\n",
       "\\begin{tabular}{r|ll}\n",
       "  & 2.5 \\% & 97.5 \\%\\\\\n",
       "\\hline\n",
       "\t(Intercept) & -9.677252 & 5.138122\\\\\n",
       "\tx &  1.714319 & 3.503073\\\\\n",
       "\\end{tabular}\n"
      ],
      "text/markdown": [
       "\n",
       "A matrix: 2 × 2 of type dbl\n",
       "\n",
       "| <!--/--> | 2.5 % | 97.5 % |\n",
       "|---|---|---|\n",
       "| (Intercept) | -9.677252 | 5.138122 |\n",
       "| x |  1.714319 | 3.503073 |\n",
       "\n"
      ],
      "text/plain": [
       "            2.5 %     97.5 %  \n",
       "(Intercept) -9.677252 5.138122\n",
       "x            1.714319 3.503073"
      ]
     },
     "metadata": {},
     "output_type": "display_data"
    }
   ],
   "source": [
    "confint(model, level = 0.95)"
   ]
  },
  {
   "cell_type": "markdown",
   "id": "643aa987-aade-44cd-b667-0e6759f21a0d",
   "metadata": {},
   "source": [
    "* 가설 검정\n",
    "\n",
    "$H_0 : \\beta_1 = \\beta_{1_0} ~ vs. ~ H1 : \\beta_1 ≠ \\beta_{1_0}$\n",
    "\n",
    "ex) $\\beta_{1_0} = 2$라면"
   ]
  },
  {
   "cell_type": "code",
   "execution_count": 38,
   "id": "16009734-760d-4ec9-9d1e-b8cde03cb3e8",
   "metadata": {},
   "outputs": [
    {
     "data": {
      "text/html": [
       "<strong>x:</strong> 1.56942191261789"
      ],
      "text/latex": [
       "\\textbf{x:} 1.56942191261789"
      ],
      "text/markdown": [
       "**x:** 1.56942191261789"
      ],
      "text/plain": [
       "       x \n",
       "1.569422 "
      ]
     },
     "metadata": {},
     "output_type": "display_data"
    }
   ],
   "source": [
    "t = (model$coef[2] - 2)/summary(model)$coef[2,2]\n",
    "t"
   ]
  },
  {
   "cell_type": "code",
   "execution_count": 34,
   "id": "190bc366-e383-4375-9227-b5f14840b5ad",
   "metadata": {},
   "outputs": [
    {
     "data": {
      "text/html": [
       "2.30600413520417"
      ],
      "text/latex": [
       "2.30600413520417"
      ],
      "text/markdown": [
       "2.30600413520417"
      ],
      "text/plain": [
       "[1] 2.306004"
      ]
     },
     "metadata": {},
     "output_type": "display_data"
    }
   ],
   "source": [
    "qt(0.975, 10-2)"
   ]
  },
  {
   "cell_type": "markdown",
   "id": "3a04393a-a7ff-41b5-b295-68da69e2bb6f",
   "metadata": {},
   "source": [
    "> t값이 1.57로 기각역에 속하지 않는다. 따라서 유의수준 $\\alpha = 0.05$에서 $\\beta_1$은 2가 아니다."
   ]
  },
  {
   "cell_type": "markdown",
   "id": "15963eaf-c856-4ec2-8102-cf33dff61e7c",
   "metadata": {},
   "source": [
    "* $\\hat{\\beta_0}$에 대한 추론 : 동일"
   ]
  },
  {
   "cell_type": "code",
   "execution_count": 40,
   "id": "de8d605e-b03d-46ad-b8b0-bf60b2ac3ae4",
   "metadata": {},
   "outputs": [
    {
     "data": {
      "text/html": [
       "<style>\n",
       ".dl-inline {width: auto; margin:0; padding: 0}\n",
       ".dl-inline>dt, .dl-inline>dd {float: none; width: auto; display: inline-block}\n",
       ".dl-inline>dt::after {content: \":\\0020\"; padding-right: .5ex}\n",
       ".dl-inline>dt:not(:first-of-type) {padding-left: .5ex}\n",
       "</style><dl class=dl-inline><dt>2.5 %</dt><dd>-9.6772522786645</dd><dt>97.5 %</dt><dd>5.1381218438819</dd></dl>\n"
      ],
      "text/latex": [
       "\\begin{description*}\n",
       "\\item[2.5 \\textbackslash{}\\%] -9.6772522786645\n",
       "\\item[97.5 \\textbackslash{}\\%] 5.1381218438819\n",
       "\\end{description*}\n"
      ],
      "text/markdown": [
       "2.5 %\n",
       ":   -9.677252278664597.5 %\n",
       ":   5.1381218438819\n",
       "\n"
      ],
      "text/plain": [
       "    2.5 %    97.5 % \n",
       "-9.677252  5.138122 "
      ]
     },
     "metadata": {},
     "output_type": "display_data"
    }
   ],
   "source": [
    "confint(model, level = 0.95)[1,]"
   ]
  },
  {
   "cell_type": "markdown",
   "id": "981101bf-7e08-4798-9cd5-3f3e8eff9eec",
   "metadata": {},
   "source": [
    "`-` 평균반응, 개별 y값의 추정"
   ]
  },
  {
   "cell_type": "code",
   "execution_count": 44,
   "id": "e31486c9-1ea6-493b-9148-9c5610c5bfe6",
   "metadata": {},
   "outputs": [
    {
     "data": {
      "text/html": [
       "<strong>(Intercept):</strong> 9.46956521739131"
      ],
      "text/latex": [
       "\\textbf{(Intercept):} 9.46956521739131"
      ],
      "text/markdown": [
       "**(Intercept):** 9.46956521739131"
      ],
      "text/plain": [
       "(Intercept) \n",
       "   9.469565 "
      ]
     },
     "metadata": {},
     "output_type": "display_data"
    }
   ],
   "source": [
    "model$coefficients[1] + model$coef[2]*4.5  ## 점추정치"
   ]
  },
  {
   "cell_type": "code",
   "execution_count": 47,
   "id": "6aec5d21-4db9-42ff-afe8-8a5c6b7da800",
   "metadata": {},
   "outputs": [
    {
     "data": {
      "text/html": [
       "<strong>1:</strong> 9.46956521739131"
      ],
      "text/latex": [
       "\\textbf{1:} 9.46956521739131"
      ],
      "text/markdown": [
       "**1:** 9.46956521739131"
      ],
      "text/plain": [
       "       1 \n",
       "9.469565 "
      ]
     },
     "metadata": {},
     "output_type": "display_data"
    }
   ],
   "source": [
    "predict(model, newdata = data.frame(x = 4.5))"
   ]
  },
  {
   "cell_type": "markdown",
   "id": "29fee822-aa7a-42f9-a737-6c7b15a8e286",
   "metadata": {},
   "source": [
    "> 점추정치의 경우 오차의 기댓값이 0이기 때문에 동일하게 된다."
   ]
  },
  {
   "cell_type": "markdown",
   "id": "2c49cc4a-7e87-4e3f-bc58-3871b162664e",
   "metadata": {},
   "source": [
    "`-` 신뢰구간의 경우"
   ]
  },
  {
   "cell_type": "code",
   "execution_count": 52,
   "id": "0c8aa956-77c8-4dd9-b281-659defda1a58",
   "metadata": {},
   "outputs": [
    {
     "data": {
      "text/html": [
       "<table class=\"dataframe\">\n",
       "<caption>A matrix: 1 × 3 of type dbl</caption>\n",
       "<thead>\n",
       "\t<tr><th></th><th scope=col>fit</th><th scope=col>lwr</th><th scope=col>upr</th></tr>\n",
       "</thead>\n",
       "<tbody>\n",
       "\t<tr><th scope=row>1</th><td>9.469565</td><td>5.79826</td><td>13.14087</td></tr>\n",
       "</tbody>\n",
       "</table>\n"
      ],
      "text/latex": [
       "A matrix: 1 × 3 of type dbl\n",
       "\\begin{tabular}{r|lll}\n",
       "  & fit & lwr & upr\\\\\n",
       "\\hline\n",
       "\t1 & 9.469565 & 5.79826 & 13.14087\\\\\n",
       "\\end{tabular}\n"
      ],
      "text/markdown": [
       "\n",
       "A matrix: 1 × 3 of type dbl\n",
       "\n",
       "| <!--/--> | fit | lwr | upr |\n",
       "|---|---|---|---|\n",
       "| 1 | 9.469565 | 5.79826 | 13.14087 |\n",
       "\n"
      ],
      "text/plain": [
       "  fit      lwr     upr     \n",
       "1 9.469565 5.79826 13.14087"
      ]
     },
     "metadata": {},
     "output_type": "display_data"
    }
   ],
   "source": [
    "predict(model, newdata = data.frame(x = 4.5),\n",
    "       interval = \"confidence\",\n",
    "       level = 0.95)  ## 평균반응"
   ]
  },
  {
   "cell_type": "code",
   "execution_count": 66,
   "id": "ef93fde6-985d-427a-8cc1-2639b2365fb9",
   "metadata": {},
   "outputs": [
    {
     "data": {
      "text/html": [
       "<style>\n",
       ".dl-inline {width: auto; margin:0; padding: 0}\n",
       ".dl-inline>dt, .dl-inline>dd {float: none; width: auto; display: inline-block}\n",
       ".dl-inline>dt::after {content: \":\\0020\"; padding-right: .5ex}\n",
       ".dl-inline>dt:not(:first-of-type) {padding-left: .5ex}\n",
       "</style><dl class=dl-inline><dt>lwr</dt><dd>2.37912482459257</dd><dt>upr</dt><dd>16.56000561019</dd></dl>\n"
      ],
      "text/latex": [
       "\\begin{description*}\n",
       "\\item[lwr] 2.37912482459257\n",
       "\\item[upr] 16.56000561019\n",
       "\\end{description*}\n"
      ],
      "text/markdown": [
       "lwr\n",
       ":   2.37912482459257upr\n",
       ":   16.56000561019\n",
       "\n"
      ],
      "text/plain": [
       "      lwr       upr \n",
       " 2.379125 16.560006 "
      ]
     },
     "metadata": {},
     "output_type": "display_data"
    }
   ],
   "source": [
    "predict(model, newdata = data.frame(x = 4.5),\n",
    "       interval = \"prediction\",\n",
    "       level = 0.95)  ## 개별 y"
   ]
  },
  {
   "cell_type": "markdown",
   "id": "ca4213b4-ca57-4d9e-841f-bba652510dea",
   "metadata": {},
   "source": [
    "> 개별 y의 경우 오차까지 감안을 해야 하기 때문에 구간의 크기가 더 커진다."
   ]
  },
  {
   "cell_type": "code",
   "execution_count": 67,
   "id": "b7847412-e87f-4cf5-9f3f-cea96f63185b",
   "metadata": {},
   "outputs": [
    {
     "data": {
      "text/html": [
       "<table class=\"dataframe\">\n",
       "<caption>A data.frame: 15 × 6</caption>\n",
       "<thead>\n",
       "\t<tr><th></th><th scope=col>x</th><th scope=col>fit</th><th scope=col>lwr</th><th scope=col>upr</th><th scope=col>lwr.1</th><th scope=col>upr.1</th></tr>\n",
       "\t<tr><th></th><th scope=col>&lt;dbl&gt;</th><th scope=col>&lt;dbl&gt;</th><th scope=col>&lt;dbl&gt;</th><th scope=col>&lt;dbl&gt;</th><th scope=col>&lt;dbl&gt;</th><th scope=col>&lt;dbl&gt;</th></tr>\n",
       "</thead>\n",
       "<tbody>\n",
       "\t<tr><th scope=row>1</th><td> 1</td><td>  0.3391304</td><td>-6.2087835</td><td>  6.887044</td><td>-8.5867330</td><td>  9.264994</td></tr>\n",
       "\t<tr><th scope=row>2</th><td> 2</td><td>  2.9478261</td><td>-2.7509762</td><td>  8.646628</td><td>-5.3751666</td><td> 11.270819</td></tr>\n",
       "\t<tr><th scope=row>3</th><td> 3</td><td>  5.5565217</td><td> 0.6905854</td><td> 10.422458</td><td>-2.2199297</td><td> 13.332973</td></tr>\n",
       "\t<tr><th scope=row>4</th><td> 4</td><td>  8.1652174</td><td> 4.1058891</td><td> 12.224546</td><td> 0.8663128</td><td> 15.464122</td></tr>\n",
       "\t<tr><th scope=row>5</th><td> 5</td><td> 10.7739130</td><td> 7.4756140</td><td> 14.072212</td><td> 3.8692308</td><td> 17.678595</td></tr>\n",
       "\t<tr><th scope=row>6</th><td> 6</td><td> 13.3826087</td><td>10.7597808</td><td> 16.005437</td><td> 6.7738957</td><td> 19.991322</td></tr>\n",
       "\t<tr><th scope=row>7</th><td> 7</td><td> 15.9913043</td><td>13.8748223</td><td> 18.107786</td><td> 9.5667143</td><td> 22.415894</td></tr>\n",
       "\t<tr><th scope=row>8</th><td> 8</td><td> 18.6000000</td><td>16.6817753</td><td> 20.518225</td><td>12.2379683</td><td> 24.962032</td></tr>\n",
       "\t<tr><th scope=row>9</th><td> 9</td><td> 21.2086957</td><td>19.0922136</td><td> 23.325178</td><td>14.7841056</td><td> 27.633286</td></tr>\n",
       "\t<tr><th scope=row>10</th><td>10</td><td> 23.8173913</td><td>21.1945634</td><td> 26.440219</td><td>17.2086783</td><td> 30.426104</td></tr>\n",
       "\t<tr><th scope=row>11</th><td>11</td><td> 26.4260870</td><td>23.1277880</td><td> 29.724386</td><td>19.5214047</td><td> 33.330769</td></tr>\n",
       "\t<tr><th scope=row>12</th><td>12</td><td> 29.0347826</td><td>24.9754543</td><td> 33.094111</td><td>21.7358781</td><td> 36.333687</td></tr>\n",
       "\t<tr><th scope=row>13</th><td>20</td><td> 49.9043478</td><td>39.0017505</td><td> 60.806945</td><td>37.4278703</td><td> 62.380825</td></tr>\n",
       "\t<tr><th scope=row>14</th><td>25</td><td> 62.9478261</td><td>47.6228927</td><td> 78.272759</td><td>46.4660348</td><td> 79.429617</td></tr>\n",
       "\t<tr><th scope=row>15</th><td>50</td><td>128.1652174</td><td>90.5524421</td><td>165.777993</td><td>90.0664414</td><td>166.263993</td></tr>\n",
       "</tbody>\n",
       "</table>\n"
      ],
      "text/latex": [
       "A data.frame: 15 × 6\n",
       "\\begin{tabular}{r|llllll}\n",
       "  & x & fit & lwr & upr & lwr.1 & upr.1\\\\\n",
       "  & <dbl> & <dbl> & <dbl> & <dbl> & <dbl> & <dbl>\\\\\n",
       "\\hline\n",
       "\t1 &  1 &   0.3391304 & -6.2087835 &   6.887044 & -8.5867330 &   9.264994\\\\\n",
       "\t2 &  2 &   2.9478261 & -2.7509762 &   8.646628 & -5.3751666 &  11.270819\\\\\n",
       "\t3 &  3 &   5.5565217 &  0.6905854 &  10.422458 & -2.2199297 &  13.332973\\\\\n",
       "\t4 &  4 &   8.1652174 &  4.1058891 &  12.224546 &  0.8663128 &  15.464122\\\\\n",
       "\t5 &  5 &  10.7739130 &  7.4756140 &  14.072212 &  3.8692308 &  17.678595\\\\\n",
       "\t6 &  6 &  13.3826087 & 10.7597808 &  16.005437 &  6.7738957 &  19.991322\\\\\n",
       "\t7 &  7 &  15.9913043 & 13.8748223 &  18.107786 &  9.5667143 &  22.415894\\\\\n",
       "\t8 &  8 &  18.6000000 & 16.6817753 &  20.518225 & 12.2379683 &  24.962032\\\\\n",
       "\t9 &  9 &  21.2086957 & 19.0922136 &  23.325178 & 14.7841056 &  27.633286\\\\\n",
       "\t10 & 10 &  23.8173913 & 21.1945634 &  26.440219 & 17.2086783 &  30.426104\\\\\n",
       "\t11 & 11 &  26.4260870 & 23.1277880 &  29.724386 & 19.5214047 &  33.330769\\\\\n",
       "\t12 & 12 &  29.0347826 & 24.9754543 &  33.094111 & 21.7358781 &  36.333687\\\\\n",
       "\t13 & 20 &  49.9043478 & 39.0017505 &  60.806945 & 37.4278703 &  62.380825\\\\\n",
       "\t14 & 25 &  62.9478261 & 47.6228927 &  78.272759 & 46.4660348 &  79.429617\\\\\n",
       "\t15 & 50 & 128.1652174 & 90.5524421 & 165.777993 & 90.0664414 & 166.263993\\\\\n",
       "\\end{tabular}\n"
      ],
      "text/markdown": [
       "\n",
       "A data.frame: 15 × 6\n",
       "\n",
       "| <!--/--> | x &lt;dbl&gt; | fit &lt;dbl&gt; | lwr &lt;dbl&gt; | upr &lt;dbl&gt; | lwr.1 &lt;dbl&gt; | upr.1 &lt;dbl&gt; |\n",
       "|---|---|---|---|---|---|---|\n",
       "| 1 |  1 |   0.3391304 | -6.2087835 |   6.887044 | -8.5867330 |   9.264994 |\n",
       "| 2 |  2 |   2.9478261 | -2.7509762 |   8.646628 | -5.3751666 |  11.270819 |\n",
       "| 3 |  3 |   5.5565217 |  0.6905854 |  10.422458 | -2.2199297 |  13.332973 |\n",
       "| 4 |  4 |   8.1652174 |  4.1058891 |  12.224546 |  0.8663128 |  15.464122 |\n",
       "| 5 |  5 |  10.7739130 |  7.4756140 |  14.072212 |  3.8692308 |  17.678595 |\n",
       "| 6 |  6 |  13.3826087 | 10.7597808 |  16.005437 |  6.7738957 |  19.991322 |\n",
       "| 7 |  7 |  15.9913043 | 13.8748223 |  18.107786 |  9.5667143 |  22.415894 |\n",
       "| 8 |  8 |  18.6000000 | 16.6817753 |  20.518225 | 12.2379683 |  24.962032 |\n",
       "| 9 |  9 |  21.2086957 | 19.0922136 |  23.325178 | 14.7841056 |  27.633286 |\n",
       "| 10 | 10 |  23.8173913 | 21.1945634 |  26.440219 | 17.2086783 |  30.426104 |\n",
       "| 11 | 11 |  26.4260870 | 23.1277880 |  29.724386 | 19.5214047 |  33.330769 |\n",
       "| 12 | 12 |  29.0347826 | 24.9754543 |  33.094111 | 21.7358781 |  36.333687 |\n",
       "| 13 | 20 |  49.9043478 | 39.0017505 |  60.806945 | 37.4278703 |  62.380825 |\n",
       "| 14 | 25 |  62.9478261 | 47.6228927 |  78.272759 | 46.4660348 |  79.429617 |\n",
       "| 15 | 50 | 128.1652174 | 90.5524421 | 165.777993 | 90.0664414 | 166.263993 |\n",
       "\n"
      ],
      "text/plain": [
       "   x  fit         lwr        upr        lwr.1      upr.1     \n",
       "1   1   0.3391304 -6.2087835   6.887044 -8.5867330   9.264994\n",
       "2   2   2.9478261 -2.7509762   8.646628 -5.3751666  11.270819\n",
       "3   3   5.5565217  0.6905854  10.422458 -2.2199297  13.332973\n",
       "4   4   8.1652174  4.1058891  12.224546  0.8663128  15.464122\n",
       "5   5  10.7739130  7.4756140  14.072212  3.8692308  17.678595\n",
       "6   6  13.3826087 10.7597808  16.005437  6.7738957  19.991322\n",
       "7   7  15.9913043 13.8748223  18.107786  9.5667143  22.415894\n",
       "8   8  18.6000000 16.6817753  20.518225 12.2379683  24.962032\n",
       "9   9  21.2086957 19.0922136  23.325178 14.7841056  27.633286\n",
       "10 10  23.8173913 21.1945634  26.440219 17.2086783  30.426104\n",
       "11 11  26.4260870 23.1277880  29.724386 19.5214047  33.330769\n",
       "12 12  29.0347826 24.9754543  33.094111 21.7358781  36.333687\n",
       "13 20  49.9043478 39.0017505  60.806945 37.4278703  62.380825\n",
       "14 25  62.9478261 47.6228927  78.272759 46.4660348  79.429617\n",
       "15 50 128.1652174 90.5524421 165.777993 90.0664414 166.263993"
      ]
     },
     "metadata": {},
     "output_type": "display_data"
    }
   ],
   "source": [
    "dt_pred <- data.frame(x = c(1:12, 20, 25, 50),\n",
    "                     predict(model, newdata = data.frame(x = c(1:12, 20, 25, 50)),\n",
    "                            interval = \"confidence\", level = 0.95),\n",
    "                     predict(model, newdata = data.frame(x = c(1:12, 20, 25, 50)),\n",
    "                            interval = \"prediction\", level = 0.95)[,2:3])\n",
    "dt_pred"
   ]
  }
 ],
 "metadata": {
  "kernelspec": {
   "display_name": "R",
   "language": "R",
   "name": "ir"
  },
  "language_info": {
   "codemirror_mode": "r",
   "file_extension": ".r",
   "mimetype": "text/x-r-source",
   "name": "R",
   "pygments_lexer": "r",
   "version": "4.3.3"
  }
 },
 "nbformat": 4,
 "nbformat_minor": 5
}
