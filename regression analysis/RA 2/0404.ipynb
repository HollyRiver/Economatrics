{
 "cells": [
  {
   "cell_type": "code",
   "execution_count": 1,
   "id": "50a4c1c1-6452-4ec3-a803-a388d09fcf72",
   "metadata": {},
   "outputs": [
    {
     "name": "stderr",
     "output_type": "stream",
     "text": [
      "Loading required package: zoo\n",
      "\n",
      "\n",
      "Attaching package: ‘zoo’\n",
      "\n",
      "\n",
      "The following objects are masked from ‘package:base’:\n",
      "\n",
      "    as.Date, as.Date.numeric\n",
      "\n",
      "\n"
     ]
    }
   ],
   "source": [
    "library(MASS)\n",
    "library(lmtest)"
   ]
  },
  {
   "cell_type": "code",
   "execution_count": 2,
   "id": "8df28bb7-c3f5-43e4-bd8e-98417f20d055",
   "metadata": {},
   "outputs": [
    {
     "data": {
      "text/html": [
       "<table class=\"dataframe\">\n",
       "<caption>A data.frame: 6 × 14</caption>\n",
       "<thead>\n",
       "\t<tr><th></th><th scope=col>crim</th><th scope=col>zn</th><th scope=col>indus</th><th scope=col>chas</th><th scope=col>nox</th><th scope=col>rm</th><th scope=col>age</th><th scope=col>dis</th><th scope=col>rad</th><th scope=col>tax</th><th scope=col>ptratio</th><th scope=col>black</th><th scope=col>lstat</th><th scope=col>medv</th></tr>\n",
       "\t<tr><th></th><th scope=col>&lt;dbl&gt;</th><th scope=col>&lt;dbl&gt;</th><th scope=col>&lt;dbl&gt;</th><th scope=col>&lt;int&gt;</th><th scope=col>&lt;dbl&gt;</th><th scope=col>&lt;dbl&gt;</th><th scope=col>&lt;dbl&gt;</th><th scope=col>&lt;dbl&gt;</th><th scope=col>&lt;int&gt;</th><th scope=col>&lt;dbl&gt;</th><th scope=col>&lt;dbl&gt;</th><th scope=col>&lt;dbl&gt;</th><th scope=col>&lt;dbl&gt;</th><th scope=col>&lt;dbl&gt;</th></tr>\n",
       "</thead>\n",
       "<tbody>\n",
       "\t<tr><th scope=row>1</th><td>0.00632</td><td>18</td><td>2.31</td><td>0</td><td>0.538</td><td>6.575</td><td>65.2</td><td>4.0900</td><td>1</td><td>296</td><td>15.3</td><td>396.90</td><td>4.98</td><td>24.0</td></tr>\n",
       "\t<tr><th scope=row>2</th><td>0.02731</td><td> 0</td><td>7.07</td><td>0</td><td>0.469</td><td>6.421</td><td>78.9</td><td>4.9671</td><td>2</td><td>242</td><td>17.8</td><td>396.90</td><td>9.14</td><td>21.6</td></tr>\n",
       "\t<tr><th scope=row>3</th><td>0.02729</td><td> 0</td><td>7.07</td><td>0</td><td>0.469</td><td>7.185</td><td>61.1</td><td>4.9671</td><td>2</td><td>242</td><td>17.8</td><td>392.83</td><td>4.03</td><td>34.7</td></tr>\n",
       "\t<tr><th scope=row>4</th><td>0.03237</td><td> 0</td><td>2.18</td><td>0</td><td>0.458</td><td>6.998</td><td>45.8</td><td>6.0622</td><td>3</td><td>222</td><td>18.7</td><td>394.63</td><td>2.94</td><td>33.4</td></tr>\n",
       "\t<tr><th scope=row>5</th><td>0.06905</td><td> 0</td><td>2.18</td><td>0</td><td>0.458</td><td>7.147</td><td>54.2</td><td>6.0622</td><td>3</td><td>222</td><td>18.7</td><td>396.90</td><td>5.33</td><td>36.2</td></tr>\n",
       "\t<tr><th scope=row>6</th><td>0.02985</td><td> 0</td><td>2.18</td><td>0</td><td>0.458</td><td>6.430</td><td>58.7</td><td>6.0622</td><td>3</td><td>222</td><td>18.7</td><td>394.12</td><td>5.21</td><td>28.7</td></tr>\n",
       "</tbody>\n",
       "</table>\n"
      ],
      "text/latex": [
       "A data.frame: 6 × 14\n",
       "\\begin{tabular}{r|llllllllllllll}\n",
       "  & crim & zn & indus & chas & nox & rm & age & dis & rad & tax & ptratio & black & lstat & medv\\\\\n",
       "  & <dbl> & <dbl> & <dbl> & <int> & <dbl> & <dbl> & <dbl> & <dbl> & <int> & <dbl> & <dbl> & <dbl> & <dbl> & <dbl>\\\\\n",
       "\\hline\n",
       "\t1 & 0.00632 & 18 & 2.31 & 0 & 0.538 & 6.575 & 65.2 & 4.0900 & 1 & 296 & 15.3 & 396.90 & 4.98 & 24.0\\\\\n",
       "\t2 & 0.02731 &  0 & 7.07 & 0 & 0.469 & 6.421 & 78.9 & 4.9671 & 2 & 242 & 17.8 & 396.90 & 9.14 & 21.6\\\\\n",
       "\t3 & 0.02729 &  0 & 7.07 & 0 & 0.469 & 7.185 & 61.1 & 4.9671 & 2 & 242 & 17.8 & 392.83 & 4.03 & 34.7\\\\\n",
       "\t4 & 0.03237 &  0 & 2.18 & 0 & 0.458 & 6.998 & 45.8 & 6.0622 & 3 & 222 & 18.7 & 394.63 & 2.94 & 33.4\\\\\n",
       "\t5 & 0.06905 &  0 & 2.18 & 0 & 0.458 & 7.147 & 54.2 & 6.0622 & 3 & 222 & 18.7 & 396.90 & 5.33 & 36.2\\\\\n",
       "\t6 & 0.02985 &  0 & 2.18 & 0 & 0.458 & 6.430 & 58.7 & 6.0622 & 3 & 222 & 18.7 & 394.12 & 5.21 & 28.7\\\\\n",
       "\\end{tabular}\n"
      ],
      "text/markdown": [
       "\n",
       "A data.frame: 6 × 14\n",
       "\n",
       "| <!--/--> | crim &lt;dbl&gt; | zn &lt;dbl&gt; | indus &lt;dbl&gt; | chas &lt;int&gt; | nox &lt;dbl&gt; | rm &lt;dbl&gt; | age &lt;dbl&gt; | dis &lt;dbl&gt; | rad &lt;int&gt; | tax &lt;dbl&gt; | ptratio &lt;dbl&gt; | black &lt;dbl&gt; | lstat &lt;dbl&gt; | medv &lt;dbl&gt; |\n",
       "|---|---|---|---|---|---|---|---|---|---|---|---|---|---|---|\n",
       "| 1 | 0.00632 | 18 | 2.31 | 0 | 0.538 | 6.575 | 65.2 | 4.0900 | 1 | 296 | 15.3 | 396.90 | 4.98 | 24.0 |\n",
       "| 2 | 0.02731 |  0 | 7.07 | 0 | 0.469 | 6.421 | 78.9 | 4.9671 | 2 | 242 | 17.8 | 396.90 | 9.14 | 21.6 |\n",
       "| 3 | 0.02729 |  0 | 7.07 | 0 | 0.469 | 7.185 | 61.1 | 4.9671 | 2 | 242 | 17.8 | 392.83 | 4.03 | 34.7 |\n",
       "| 4 | 0.03237 |  0 | 2.18 | 0 | 0.458 | 6.998 | 45.8 | 6.0622 | 3 | 222 | 18.7 | 394.63 | 2.94 | 33.4 |\n",
       "| 5 | 0.06905 |  0 | 2.18 | 0 | 0.458 | 7.147 | 54.2 | 6.0622 | 3 | 222 | 18.7 | 396.90 | 5.33 | 36.2 |\n",
       "| 6 | 0.02985 |  0 | 2.18 | 0 | 0.458 | 6.430 | 58.7 | 6.0622 | 3 | 222 | 18.7 | 394.12 | 5.21 | 28.7 |\n",
       "\n"
      ],
      "text/plain": [
       "  crim    zn indus chas nox   rm    age  dis    rad tax ptratio black  lstat\n",
       "1 0.00632 18 2.31  0    0.538 6.575 65.2 4.0900 1   296 15.3    396.90 4.98 \n",
       "2 0.02731  0 7.07  0    0.469 6.421 78.9 4.9671 2   242 17.8    396.90 9.14 \n",
       "3 0.02729  0 7.07  0    0.469 7.185 61.1 4.9671 2   242 17.8    392.83 4.03 \n",
       "4 0.03237  0 2.18  0    0.458 6.998 45.8 6.0622 3   222 18.7    394.63 2.94 \n",
       "5 0.06905  0 2.18  0    0.458 7.147 54.2 6.0622 3   222 18.7    396.90 5.33 \n",
       "6 0.02985  0 2.18  0    0.458 6.430 58.7 6.0622 3   222 18.7    394.12 5.21 \n",
       "  medv\n",
       "1 24.0\n",
       "2 21.6\n",
       "3 34.7\n",
       "4 33.4\n",
       "5 36.2\n",
       "6 28.7"
      ]
     },
     "metadata": {},
     "output_type": "display_data"
    }
   ],
   "source": [
    "data(Boston)\n",
    "head(Boston)"
   ]
  },
  {
   "cell_type": "code",
   "execution_count": 16,
   "id": "5fdae159-f3f3-4e6d-8f94-cd946f262e20",
   "metadata": {},
   "outputs": [
    {
     "data": {
      "image/png": "[encoded data removed]",
      "text/plain": [
       "plot without title"
      ]
     },
     "metadata": {
      "image/png": {
       "height": 420,
       "width": 420
      }
     },
     "output_type": "display_data"
    }
   ],
   "source": [
    "pairs(Boston[, which(colnames(Boston) %in% c(\"medv\", \"rm\", \"lstat\"))], pch = 16, col = \"darkorange\", cex.axis = 1, cex = 1)"
   ]
  },
  {
   "cell_type": "code",
   "execution_count": 20,
   "id": "2f63deb5-caa8-4512-b67d-7208a8a15ebe",
   "metadata": {},
   "outputs": [
    {
     "data": {
      "text/html": [
       "<style>\n",
       ".list-inline {list-style: none; margin:0; padding: 0}\n",
       ".list-inline>li {display: inline-block}\n",
       ".list-inline>li:not(:last-child)::after {content: \"\\00b7\"; padding: 0 .5ex}\n",
       "</style>\n",
       "<ol class=list-inline><li>TRUE</li><li>TRUE</li></ol>\n"
      ],
      "text/latex": [
       "\\begin{enumerate*}\n",
       "\\item TRUE\n",
       "\\item TRUE\n",
       "\\end{enumerate*}\n"
      ],
      "text/markdown": [
       "1. TRUE\n",
       "2. TRUE\n",
       "\n",
       "\n"
      ],
      "text/plain": [
       "[1] TRUE TRUE"
      ]
     },
     "metadata": {},
     "output_type": "display_data"
    }
   ],
   "source": [
    "c('a','b') %in% c('a','b')"
   ]
  },
  {
   "cell_type": "code",
   "execution_count": 22,
   "id": "89e77fb8-ab28-4122-a01c-599cc513b565",
   "metadata": {},
   "outputs": [
    {
     "data": {
      "text/html": [
       "<table class=\"dataframe\">\n",
       "<caption>A matrix: 3 × 3 of type dbl</caption>\n",
       "<thead>\n",
       "\t<tr><th></th><th scope=col>rm</th><th scope=col>lstat</th><th scope=col>medv</th></tr>\n",
       "</thead>\n",
       "<tbody>\n",
       "\t<tr><th scope=row>rm</th><td> 1.0000000</td><td>-0.6138083</td><td> 0.6953599</td></tr>\n",
       "\t<tr><th scope=row>lstat</th><td>-0.6138083</td><td> 1.0000000</td><td>-0.7376627</td></tr>\n",
       "\t<tr><th scope=row>medv</th><td> 0.6953599</td><td>-0.7376627</td><td> 1.0000000</td></tr>\n",
       "</tbody>\n",
       "</table>\n"
      ],
      "text/latex": [
       "A matrix: 3 × 3 of type dbl\n",
       "\\begin{tabular}{r|lll}\n",
       "  & rm & lstat & medv\\\\\n",
       "\\hline\n",
       "\trm &  1.0000000 & -0.6138083 &  0.6953599\\\\\n",
       "\tlstat & -0.6138083 &  1.0000000 & -0.7376627\\\\\n",
       "\tmedv &  0.6953599 & -0.7376627 &  1.0000000\\\\\n",
       "\\end{tabular}\n"
      ],
      "text/markdown": [
       "\n",
       "A matrix: 3 × 3 of type dbl\n",
       "\n",
       "| <!--/--> | rm | lstat | medv |\n",
       "|---|---|---|---|\n",
       "| rm |  1.0000000 | -0.6138083 |  0.6953599 |\n",
       "| lstat | -0.6138083 |  1.0000000 | -0.7376627 |\n",
       "| medv |  0.6953599 | -0.7376627 |  1.0000000 |\n",
       "\n"
      ],
      "text/plain": [
       "      rm         lstat      medv      \n",
       "rm     1.0000000 -0.6138083  0.6953599\n",
       "lstat -0.6138083  1.0000000 -0.7376627\n",
       "medv   0.6953599 -0.7376627  1.0000000"
      ]
     },
     "metadata": {},
     "output_type": "display_data"
    }
   ],
   "source": [
    "cor(Boston[, which(colnames(Boston) %in% c(\"medv\", \"rm\", \"lstat\"))])  ## 순서대로 뽑아내기 위해서 이렇게 한듯"
   ]
  },
  {
   "cell_type": "code",
   "execution_count": 24,
   "id": "6684ab5e-00a6-438f-8e7d-c49d50cefced",
   "metadata": {},
   "outputs": [
    {
     "data": {
      "text/plain": [
       "\n",
       "Call:\n",
       "lm(formula = medv ~ rm + lstat, data = Boston)\n",
       "\n",
       "Residuals:\n",
       "    Min      1Q  Median      3Q     Max \n",
       "-18.076  -3.516  -1.010   1.909  28.131 \n",
       "\n",
       "Coefficients:\n",
       "            Estimate Std. Error t value Pr(>|t|)    \n",
       "(Intercept) -1.35827    3.17283  -0.428    0.669    \n",
       "rm           5.09479    0.44447  11.463   <2e-16 ***\n",
       "lstat       -0.64236    0.04373 -14.689   <2e-16 ***\n",
       "---\n",
       "Signif. codes:  0 ‘***’ 0.001 ‘**’ 0.01 ‘*’ 0.05 ‘.’ 0.1 ‘ ’ 1\n",
       "\n",
       "Residual standard error: 5.54 on 503 degrees of freedom\n",
       "Multiple R-squared:  0.6386,\tAdjusted R-squared:  0.6371 \n",
       "F-statistic: 444.3 on 2 and 503 DF,  p-value: < 2.2e-16\n"
      ]
     },
     "metadata": {},
     "output_type": "display_data"
    }
   ],
   "source": [
    "model <- lm(medv~rm+lstat, Boston)\n",
    "summary(model)"
   ]
  },
  {
   "cell_type": "code",
   "execution_count": 27,
   "id": "be8a14fc-ed88-4107-bef4-92188b55f926",
   "metadata": {},
   "outputs": [
    {
     "data": {
      "text/html": [
       "<style>\n",
       ".dl-inline {width: auto; margin:0; padding: 0}\n",
       ".dl-inline>dt, .dl-inline>dd {float: none; width: auto; display: inline-block}\n",
       ".dl-inline>dt::after {content: \":\\0020\"; padding-right: .5ex}\n",
       ".dl-inline>dt:not(:first-of-type) {padding-left: .5ex}\n",
       "</style><dl class=dl-inline><dt>1</dt><dd>28.9410136806023</dd><dt>2</dt><dd>25.4842056605592</dd><dt>3</dt><dd>32.6590747685798</dd><dt>4</dt><dd>32.4065199998349</dd><dt>5</dt><dd>31.6304069906576</dd><dt>6</dt><dd>28.0545270059976</dd></dl>\n"
      ],
      "text/latex": [
       "\\begin{description*}\n",
       "\\item[1] 28.9410136806023\n",
       "\\item[2] 25.4842056605592\n",
       "\\item[3] 32.6590747685798\n",
       "\\item[4] 32.4065199998349\n",
       "\\item[5] 31.6304069906576\n",
       "\\item[6] 28.0545270059976\n",
       "\\end{description*}\n"
      ],
      "text/markdown": [
       "1\n",
       ":   28.94101368060232\n",
       ":   25.48420566055923\n",
       ":   32.65907476857984\n",
       ":   32.40651999983495\n",
       ":   31.63040699065766\n",
       ":   28.0545270059976\n",
       "\n"
      ],
      "text/plain": [
       "       1        2        3        4        5        6 \n",
       "28.94101 25.48421 32.65907 32.40652 31.63041 28.05453 "
      ]
     },
     "metadata": {},
     "output_type": "display_data"
    }
   ],
   "source": [
    "fitted(model) |> head()"
   ]
  },
  {
   "cell_type": "code",
   "execution_count": 28,
   "id": "400b4313-c759-4772-bd11-c57910dbc612",
   "metadata": {},
   "outputs": [
    {
     "data": {
      "text/html": [
       "<table class=\"dataframe\">\n",
       "<caption>A anova: 3 × 5</caption>\n",
       "<thead>\n",
       "\t<tr><th></th><th scope=col>Df</th><th scope=col>Sum Sq</th><th scope=col>Mean Sq</th><th scope=col>F value</th><th scope=col>Pr(&gt;F)</th></tr>\n",
       "\t<tr><th></th><th scope=col>&lt;int&gt;</th><th scope=col>&lt;dbl&gt;</th><th scope=col>&lt;dbl&gt;</th><th scope=col>&lt;dbl&gt;</th><th scope=col>&lt;dbl&gt;</th></tr>\n",
       "</thead>\n",
       "<tbody>\n",
       "\t<tr><th scope=row>rm</th><td>  1</td><td>20654.42</td><td>20654.41622</td><td>672.9039</td><td>8.266887e-95</td></tr>\n",
       "\t<tr><th scope=row>lstat</th><td>  1</td><td> 6622.57</td><td> 6622.56999</td><td>215.7579</td><td>6.669365e-41</td></tr>\n",
       "\t<tr><th scope=row>Residuals</th><td>503</td><td>15439.31</td><td>   30.69445</td><td>      NA</td><td>          NA</td></tr>\n",
       "</tbody>\n",
       "</table>\n"
      ],
      "text/latex": [
       "A anova: 3 × 5\n",
       "\\begin{tabular}{r|lllll}\n",
       "  & Df & Sum Sq & Mean Sq & F value & Pr(>F)\\\\\n",
       "  & <int> & <dbl> & <dbl> & <dbl> & <dbl>\\\\\n",
       "\\hline\n",
       "\trm &   1 & 20654.42 & 20654.41622 & 672.9039 & 8.266887e-95\\\\\n",
       "\tlstat &   1 &  6622.57 &  6622.56999 & 215.7579 & 6.669365e-41\\\\\n",
       "\tResiduals & 503 & 15439.31 &    30.69445 &       NA &           NA\\\\\n",
       "\\end{tabular}\n"
      ],
      "text/markdown": [
       "\n",
       "A anova: 3 × 5\n",
       "\n",
       "| <!--/--> | Df &lt;int&gt; | Sum Sq &lt;dbl&gt; | Mean Sq &lt;dbl&gt; | F value &lt;dbl&gt; | Pr(&gt;F) &lt;dbl&gt; |\n",
       "|---|---|---|---|---|---|\n",
       "| rm |   1 | 20654.42 | 20654.41622 | 672.9039 | 8.266887e-95 |\n",
       "| lstat |   1 |  6622.57 |  6622.56999 | 215.7579 | 6.669365e-41 |\n",
       "| Residuals | 503 | 15439.31 |    30.69445 |       NA |           NA |\n",
       "\n"
      ],
      "text/plain": [
       "          Df  Sum Sq   Mean Sq     F value  Pr(>F)      \n",
       "rm          1 20654.42 20654.41622 672.9039 8.266887e-95\n",
       "lstat       1  6622.57  6622.56999 215.7579 6.669365e-41\n",
       "Residuals 503 15439.31    30.69445       NA           NA"
      ]
     },
     "metadata": {},
     "output_type": "display_data"
    }
   ],
   "source": [
    "anova(model)  ## SSR, SSE"
   ]
  },
  {
   "cell_type": "code",
   "execution_count": 29,
   "id": "1df9575f-85b1-4a36-b534-7f710b79209d",
   "metadata": {},
   "outputs": [
    {
     "data": {
      "text/html": [
       "<table class=\"dataframe\">\n",
       "<caption>A anova: 1 × 5</caption>\n",
       "<thead>\n",
       "\t<tr><th></th><th scope=col>Df</th><th scope=col>Sum Sq</th><th scope=col>Mean Sq</th><th scope=col>F value</th><th scope=col>Pr(&gt;F)</th></tr>\n",
       "\t<tr><th></th><th scope=col>&lt;int&gt;</th><th scope=col>&lt;dbl&gt;</th><th scope=col>&lt;dbl&gt;</th><th scope=col>&lt;dbl&gt;</th><th scope=col>&lt;dbl&gt;</th></tr>\n",
       "</thead>\n",
       "<tbody>\n",
       "\t<tr><th scope=row>Residuals</th><td>505</td><td>42716.3</td><td>84.58672</td><td>NA</td><td>NA</td></tr>\n",
       "</tbody>\n",
       "</table>\n"
      ],
      "text/latex": [
       "A anova: 1 × 5\n",
       "\\begin{tabular}{r|lllll}\n",
       "  & Df & Sum Sq & Mean Sq & F value & Pr(>F)\\\\\n",
       "  & <int> & <dbl> & <dbl> & <dbl> & <dbl>\\\\\n",
       "\\hline\n",
       "\tResiduals & 505 & 42716.3 & 84.58672 & NA & NA\\\\\n",
       "\\end{tabular}\n"
      ],
      "text/markdown": [
       "\n",
       "A anova: 1 × 5\n",
       "\n",
       "| <!--/--> | Df &lt;int&gt; | Sum Sq &lt;dbl&gt; | Mean Sq &lt;dbl&gt; | F value &lt;dbl&gt; | Pr(&gt;F) &lt;dbl&gt; |\n",
       "|---|---|---|---|---|---|\n",
       "| Residuals | 505 | 42716.3 | 84.58672 | NA | NA |\n",
       "\n"
      ],
      "text/plain": [
       "          Df  Sum Sq  Mean Sq  F value Pr(>F)\n",
       "Residuals 505 42716.3 84.58672 NA      NA    "
      ]
     },
     "metadata": {},
     "output_type": "display_data"
    }
   ],
   "source": [
    "Null_model <- lm(medv~1, Boston)\n",
    "anova(Null_model)  ## SST"
   ]
  },
  {
   "cell_type": "code",
   "execution_count": 30,
   "id": "7701c2c1-5f19-4745-b1b9-12af3022d0b9",
   "metadata": {},
   "outputs": [
    {
     "data": {
      "text/html": [
       "<table class=\"dataframe\">\n",
       "<caption>A anova: 2 × 6</caption>\n",
       "<thead>\n",
       "\t<tr><th></th><th scope=col>Res.Df</th><th scope=col>RSS</th><th scope=col>Df</th><th scope=col>Sum of Sq</th><th scope=col>F</th><th scope=col>Pr(&gt;F)</th></tr>\n",
       "\t<tr><th></th><th scope=col>&lt;dbl&gt;</th><th scope=col>&lt;dbl&gt;</th><th scope=col>&lt;dbl&gt;</th><th scope=col>&lt;dbl&gt;</th><th scope=col>&lt;dbl&gt;</th><th scope=col>&lt;dbl&gt;</th></tr>\n",
       "</thead>\n",
       "<tbody>\n",
       "\t<tr><th scope=row>1</th><td>505</td><td>42716.30</td><td>NA</td><td>      NA</td><td>      NA</td><td>           NA</td></tr>\n",
       "\t<tr><th scope=row>2</th><td>503</td><td>15439.31</td><td> 2</td><td>27276.99</td><td>444.3309</td><td>7.008455e-112</td></tr>\n",
       "</tbody>\n",
       "</table>\n"
      ],
      "text/latex": [
       "A anova: 2 × 6\n",
       "\\begin{tabular}{r|llllll}\n",
       "  & Res.Df & RSS & Df & Sum of Sq & F & Pr(>F)\\\\\n",
       "  & <dbl> & <dbl> & <dbl> & <dbl> & <dbl> & <dbl>\\\\\n",
       "\\hline\n",
       "\t1 & 505 & 42716.30 & NA &       NA &       NA &            NA\\\\\n",
       "\t2 & 503 & 15439.31 &  2 & 27276.99 & 444.3309 & 7.008455e-112\\\\\n",
       "\\end{tabular}\n"
      ],
      "text/markdown": [
       "\n",
       "A anova: 2 × 6\n",
       "\n",
       "| <!--/--> | Res.Df &lt;dbl&gt; | RSS &lt;dbl&gt; | Df &lt;dbl&gt; | Sum of Sq &lt;dbl&gt; | F &lt;dbl&gt; | Pr(&gt;F) &lt;dbl&gt; |\n",
       "|---|---|---|---|---|---|---|\n",
       "| 1 | 505 | 42716.30 | NA |       NA |       NA |            NA |\n",
       "| 2 | 503 | 15439.31 |  2 | 27276.99 | 444.3309 | 7.008455e-112 |\n",
       "\n"
      ],
      "text/plain": [
       "  Res.Df RSS      Df Sum of Sq F        Pr(>F)       \n",
       "1 505    42716.30 NA       NA        NA            NA\n",
       "2 503    15439.31  2 27276.99  444.3309 7.008455e-112"
      ]
     },
     "metadata": {},
     "output_type": "display_data"
    }
   ],
   "source": [
    "anova(Null_model, model)"
   ]
  },
  {
   "cell_type": "code",
   "execution_count": 32,
   "id": "bb0e651c-e4e8-4b37-9fc0-1ca3f486009f",
   "metadata": {},
   "outputs": [
    {
     "data": {
      "text/html": [
       "<table class=\"dataframe\">\n",
       "<caption>A matrix: 3 × 2 of type dbl</caption>\n",
       "<thead>\n",
       "\t<tr><th></th><th scope=col>2.5 %</th><th scope=col>97.5 %</th></tr>\n",
       "</thead>\n",
       "<tbody>\n",
       "\t<tr><th scope=row>(Intercept)</th><td>-7.5919003</td><td> 4.8753547</td></tr>\n",
       "\t<tr><th scope=row>rm</th><td> 4.2215504</td><td> 5.9680255</td></tr>\n",
       "\t<tr><th scope=row>lstat</th><td>-0.7282772</td><td>-0.5564395</td></tr>\n",
       "</tbody>\n",
       "</table>\n"
      ],
      "text/latex": [
       "A matrix: 3 × 2 of type dbl\n",
       "\\begin{tabular}{r|ll}\n",
       "  & 2.5 \\% & 97.5 \\%\\\\\n",
       "\\hline\n",
       "\t(Intercept) & -7.5919003 &  4.8753547\\\\\n",
       "\trm &  4.2215504 &  5.9680255\\\\\n",
       "\tlstat & -0.7282772 & -0.5564395\\\\\n",
       "\\end{tabular}\n"
      ],
      "text/markdown": [
       "\n",
       "A matrix: 3 × 2 of type dbl\n",
       "\n",
       "| <!--/--> | 2.5 % | 97.5 % |\n",
       "|---|---|---|\n",
       "| (Intercept) | -7.5919003 |  4.8753547 |\n",
       "| rm |  4.2215504 |  5.9680255 |\n",
       "| lstat | -0.7282772 | -0.5564395 |\n",
       "\n"
      ],
      "text/plain": [
       "            2.5 %      97.5 %    \n",
       "(Intercept) -7.5919003  4.8753547\n",
       "rm           4.2215504  5.9680255\n",
       "lstat       -0.7282772 -0.5564395"
      ]
     },
     "metadata": {},
     "output_type": "display_data"
    }
   ],
   "source": [
    "confint(model, level = 0.95)"
   ]
  },
  {
   "cell_type": "code",
   "execution_count": 33,
   "id": "9a03df19-cf50-481c-a5cf-c05cf1145916",
   "metadata": {},
   "outputs": [
    {
     "data": {
      "text/html": [
       "<table class=\"dataframe\">\n",
       "<caption>A matrix: 3 × 3 of type dbl</caption>\n",
       "<thead>\n",
       "\t<tr><th></th><th scope=col>(Intercept)</th><th scope=col>rm</th><th scope=col>lstat</th></tr>\n",
       "</thead>\n",
       "<tbody>\n",
       "\t<tr><th scope=row>(Intercept)</th><td>10.06683612</td><td>-1.39248641</td><td>-0.099178133</td></tr>\n",
       "\t<tr><th scope=row>rm</th><td>-1.39248641</td><td> 0.19754958</td><td> 0.011930670</td></tr>\n",
       "\t<tr><th scope=row>lstat</th><td>-0.09917813</td><td> 0.01193067</td><td> 0.001912441</td></tr>\n",
       "</tbody>\n",
       "</table>\n"
      ],
      "text/latex": [
       "A matrix: 3 × 3 of type dbl\n",
       "\\begin{tabular}{r|lll}\n",
       "  & (Intercept) & rm & lstat\\\\\n",
       "\\hline\n",
       "\t(Intercept) & 10.06683612 & -1.39248641 & -0.099178133\\\\\n",
       "\trm & -1.39248641 &  0.19754958 &  0.011930670\\\\\n",
       "\tlstat & -0.09917813 &  0.01193067 &  0.001912441\\\\\n",
       "\\end{tabular}\n"
      ],
      "text/markdown": [
       "\n",
       "A matrix: 3 × 3 of type dbl\n",
       "\n",
       "| <!--/--> | (Intercept) | rm | lstat |\n",
       "|---|---|---|---|\n",
       "| (Intercept) | 10.06683612 | -1.39248641 | -0.099178133 |\n",
       "| rm | -1.39248641 |  0.19754958 |  0.011930670 |\n",
       "| lstat | -0.09917813 |  0.01193067 |  0.001912441 |\n",
       "\n"
      ],
      "text/plain": [
       "            (Intercept) rm          lstat       \n",
       "(Intercept) 10.06683612 -1.39248641 -0.099178133\n",
       "rm          -1.39248641  0.19754958  0.011930670\n",
       "lstat       -0.09917813  0.01193067  0.001912441"
      ]
     },
     "metadata": {},
     "output_type": "display_data"
    }
   ],
   "source": [
    "vcov(model)  ## cov mat"
   ]
  },
  {
   "cell_type": "markdown",
   "id": "c025ff12-670a-4fa2-996d-ff7748800d99",
   "metadata": {},
   "source": [
    "평균반응 / 개별 y"
   ]
  },
  {
   "cell_type": "code",
   "execution_count": 34,
   "id": "d038274a-0e14-49f8-943d-fbbb9a9b0453",
   "metadata": {},
   "outputs": [
    {
     "data": {
      "text/html": [
       "<table class=\"dataframe\">\n",
       "<caption>A data.frame: 1 × 2</caption>\n",
       "<thead>\n",
       "\t<tr><th scope=col>rm</th><th scope=col>lstat</th></tr>\n",
       "\t<tr><th scope=col>&lt;dbl&gt;</th><th scope=col>&lt;dbl&gt;</th></tr>\n",
       "</thead>\n",
       "<tbody>\n",
       "\t<tr><td>7</td><td>10</td></tr>\n",
       "</tbody>\n",
       "</table>\n"
      ],
      "text/latex": [
       "A data.frame: 1 × 2\n",
       "\\begin{tabular}{ll}\n",
       " rm & lstat\\\\\n",
       " <dbl> & <dbl>\\\\\n",
       "\\hline\n",
       "\t 7 & 10\\\\\n",
       "\\end{tabular}\n"
      ],
      "text/markdown": [
       "\n",
       "A data.frame: 1 × 2\n",
       "\n",
       "| rm &lt;dbl&gt; | lstat &lt;dbl&gt; |\n",
       "|---|---|\n",
       "| 7 | 10 |\n",
       "\n"
      ],
      "text/plain": [
       "  rm lstat\n",
       "1 7  10   "
      ]
     },
     "metadata": {},
     "output_type": "display_data"
    }
   ],
   "source": [
    "new_dt <- data.frame(rm = 7, lstat = 10)\n",
    "new_dt"
   ]
  },
  {
   "cell_type": "code",
   "execution_count": 37,
   "id": "610a8a52-4832-4090-843d-2e2fcb5d88bb",
   "metadata": {},
   "outputs": [],
   "source": [
    "x_0 <- c(1,7,10)\n",
    "\n",
    "## t(x_0)%*%solve_XX%*%x_0*MSE"
   ]
  },
  {
   "cell_type": "code",
   "execution_count": 35,
   "id": "1e174b34-83e1-4c9a-b577-fa52928e2eac",
   "metadata": {},
   "outputs": [
    {
     "data": {
      "text/html": [
       "<table class=\"dataframe\">\n",
       "<caption>A matrix: 1 × 3 of type dbl</caption>\n",
       "<thead>\n",
       "\t<tr><th></th><th scope=col>fit</th><th scope=col>lwr</th><th scope=col>upr</th></tr>\n",
       "</thead>\n",
       "<tbody>\n",
       "\t<tr><th scope=row>1</th><td>27.88166</td><td>27.17347</td><td>28.58985</td></tr>\n",
       "</tbody>\n",
       "</table>\n"
      ],
      "text/latex": [
       "A matrix: 1 × 3 of type dbl\n",
       "\\begin{tabular}{r|lll}\n",
       "  & fit & lwr & upr\\\\\n",
       "\\hline\n",
       "\t1 & 27.88166 & 27.17347 & 28.58985\\\\\n",
       "\\end{tabular}\n"
      ],
      "text/markdown": [
       "\n",
       "A matrix: 1 × 3 of type dbl\n",
       "\n",
       "| <!--/--> | fit | lwr | upr |\n",
       "|---|---|---|---|\n",
       "| 1 | 27.88166 | 27.17347 | 28.58985 |\n",
       "\n"
      ],
      "text/plain": [
       "  fit      lwr      upr     \n",
       "1 27.88166 27.17347 28.58985"
      ]
     },
     "metadata": {},
     "output_type": "display_data"
    }
   ],
   "source": [
    "predict(model, new_dt, interval = \"confidence\", level = 0.95)"
   ]
  },
  {
   "cell_type": "code",
   "execution_count": 36,
   "id": "5d2522d0-1e16-47f0-a896-0445b0d6609b",
   "metadata": {},
   "outputs": [
    {
     "data": {
      "text/html": [
       "<table class=\"dataframe\">\n",
       "<caption>A matrix: 1 × 3 of type dbl</caption>\n",
       "<thead>\n",
       "\t<tr><th></th><th scope=col>fit</th><th scope=col>lwr</th><th scope=col>upr</th></tr>\n",
       "</thead>\n",
       "<tbody>\n",
       "\t<tr><th scope=row>1</th><td>27.88166</td><td>16.97375</td><td>38.78957</td></tr>\n",
       "</tbody>\n",
       "</table>\n"
      ],
      "text/latex": [
       "A matrix: 1 × 3 of type dbl\n",
       "\\begin{tabular}{r|lll}\n",
       "  & fit & lwr & upr\\\\\n",
       "\\hline\n",
       "\t1 & 27.88166 & 16.97375 & 38.78957\\\\\n",
       "\\end{tabular}\n"
      ],
      "text/markdown": [
       "\n",
       "A matrix: 1 × 3 of type dbl\n",
       "\n",
       "| <!--/--> | fit | lwr | upr |\n",
       "|---|---|---|---|\n",
       "| 1 | 27.88166 | 16.97375 | 38.78957 |\n",
       "\n"
      ],
      "text/plain": [
       "  fit      lwr      upr     \n",
       "1 27.88166 16.97375 38.78957"
      ]
     },
     "metadata": {},
     "output_type": "display_data"
    }
   ],
   "source": [
    "predict(model, new_dt, interval = \"prediction\", level = 0.95)"
   ]
  },
  {
   "cell_type": "code",
   "execution_count": 38,
   "id": "ab533629-988c-43f8-b4ab-65dadbd707f3",
   "metadata": {},
   "outputs": [],
   "source": [
    "resid <- model$residuals"
   ]
  },
  {
   "cell_type": "code",
   "execution_count": 39,
   "id": "3a3ea7d8-c87b-460c-b447-3300f81a2348",
   "metadata": {},
   "outputs": [
    {
     "data": {
      "text/plain": [
       "\n",
       "\tstudentized Breusch-Pagan test\n",
       "\n",
       "data:  model\n",
       "BP = 1.5297, df = 2, p-value = 0.4654\n"
      ]
     },
     "metadata": {},
     "output_type": "display_data"
    }
   ],
   "source": [
    "bptest(model)  ## 등분산성 검정"
   ]
  },
  {
   "cell_type": "code",
   "execution_count": 41,
   "id": "3138659f-8d07-44e7-8fbd-b65ce0fa250c",
   "metadata": {},
   "outputs": [
    {
     "data": {
      "text/plain": [
       "\n",
       "\tShapiro-Wilk normality test\n",
       "\n",
       "data:  resid\n",
       "W = 0.9098, p-value < 2.2e-16\n"
      ]
     },
     "metadata": {},
     "output_type": "display_data"
    }
   ],
   "source": [
    "shapiro.test(resid)  ## 정규성 검정"
   ]
  },
  {
   "cell_type": "code",
   "execution_count": 47,
   "id": "70bed883-3034-44fb-8b38-4dcac646a15a",
   "metadata": {},
   "outputs": [
    {
     "data": {
      "text/plain": [
       "\n",
       "\tDurbin-Watson test\n",
       "\n",
       "data:  model\n",
       "DW = 0.83421, p-value < 2.2e-16\n",
       "alternative hypothesis: true autocorrelation is not 0\n"
      ]
     },
     "metadata": {},
     "output_type": "display_data"
    }
   ],
   "source": [
    "dwtest(model, alternative = \"two.sided\")  ## 자기상관 검정"
   ]
  },
  {
   "cell_type": "code",
   "execution_count": 48,
   "id": "dd3c78f1-b4bb-4508-9d6e-c5a991536600",
   "metadata": {},
   "outputs": [
    {
     "data": {
      "text/plain": [
       "\n",
       "\tDurbin-Watson test\n",
       "\n",
       "data:  model\n",
       "DW = 0.83421, p-value < 2.2e-16\n",
       "alternative hypothesis: true autocorrelation is greater than 0\n"
      ]
     },
     "metadata": {},
     "output_type": "display_data"
    }
   ],
   "source": [
    "dwtest(model)"
   ]
  },
  {
   "cell_type": "markdown",
   "id": "28a9ac7c-6d71-4181-abce-349645c9af0a",
   "metadata": {},
   "source": [
    "> 양의 상관이 있음"
   ]
  },
  {
   "cell_type": "code",
   "execution_count": 50,
   "id": "78cd0487-e585-416f-a31b-16c518b70687",
   "metadata": {},
   "outputs": [
    {
     "data": {
      "image/png": "[encoded data removed]",
      "text/plain": [
       "plot without title"
      ]
     },
     "metadata": {
      "image/png": {
       "height": 420,
       "width": 420
      }
     },
     "output_type": "display_data"
    }
   ],
   "source": [
    "plot(fitted(model), resid, pch = 16, col = \"darkorange\")"
   ]
  },
  {
   "cell_type": "code",
   "execution_count": null,
   "id": "a7c7c30e-9d2f-41ac-8841-7358d9933c67",
   "metadata": {},
   "outputs": [],
   "source": []
  }
 ],
 "metadata": {
  "kernelspec": {
   "display_name": "R",
   "language": "R",
   "name": "ir"
  },
  "language_info": {
   "codemirror_mode": "r",
   "file_extension": ".r",
   "mimetype": "text/x-r-source",
   "name": "R",
   "pygments_lexer": "r",
   "version": "4.3.3"
  }
 },
 "nbformat": 4,
 "nbformat_minor": 5
}
