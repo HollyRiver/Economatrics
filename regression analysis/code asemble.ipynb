{
 "cells": [
  {
   "cell_type": "markdown",
   "id": "66ef2861-1974-43e0-a339-b307218d4460",
   "metadata": {},
   "source": [
    "## code assemble"
   ]
  },
  {
   "cell_type": "code",
   "execution_count": null,
   "id": "b65a9cde-ddf6-4415-ab7f-46945b85d613",
   "metadata": {},
   "outputs": [],
   "source": [
    "install.packages('')  ## library install\n",
    "library()  ## library import"
   ]
  },
  {
   "cell_type": "code",
   "execution_count": null,
   "id": "62b3cacd-8070-472d-82ba-61a67ebc1f14",
   "metadata": {},
   "outputs": [],
   "source": [
    "option(repr.plot.width = num, repr.plot.height = num)  ## representation."
   ]
  },
  {
   "cell_type": "code",
   "execution_count": null,
   "id": "de5908c3-0d3d-4f05-9c27-f75176a87bc0",
   "metadata": {},
   "outputs": [],
   "source": [
    "lm(formula = target ~ feature, data = DataFrame)  ## linear model\n",
    "summary(lm_fitted)  ## summary of fitted model. lm()으로 지정된 변수에 할당하여 사용가능하다."
   ]
  },
  {
   "cell_type": "code",
   "execution_count": null,
   "id": "4baba8bf-dff5-4af7-9d93-fbe0b43c8fc5",
   "metadata": {},
   "outputs": [],
   "source": [
    "data(dataframe)  ## load package dataframe or etc. 데이터셋을 불러온다.\n",
    "names(lm_fitted)  ## display that can be calling method or columns\n",
    "\n",
    "lm_fitted$coefficients  ## or lm_fitted['coefficients']\n",
    "\n",
    "plot(y~x, data = DataFrame,\n",
    "    pch = int, cex = num,\n",
    "    xlab = str, ylab = str, main = str, main.cex = num)\n",
    "abline(lm_fitted, col = 'red')  ## or abline(a = coefficient, b = intercept, h = horizon, v = vertical)"
   ]
  },
  {
   "cell_type": "code",
   "execution_count": null,
   "id": "cd2d6099-1368-4263-a469-98808f7db323",
   "metadata": {},
   "outputs": [],
   "source": [
    "set.seed(num)  ## set all random seed\n",
    "bquote(beta[0]~\"=\"~.(beta0))  ## 인용하다. 그래프 산출 시 수식이 보임. .()으로 .format()처럼 사용할 수 있는듯\n",
    "expression(beta[0])  ## 이게 뭔지는 정확히 모르겠음."
   ]
  },
  {
   "cell_type": "code",
   "execution_count": null,
   "id": "91e39374-1ab8-4e06-a54c-fb0b598fa4ad",
   "metadata": {},
   "outputs": [],
   "source": [
    "par(mfrow = c(n,m))  ## 그래프를 여러 개 그릴 수 있도록 한다. graphical PARameters. Multiple Function ROW or COL\n",
    "\n",
    "## 정해진 모수와 x값에 따른 beta1의 분포를 알기 위한 함수\n",
    "generation_slr = function(x, beta0, beta1, sigma) {\n",
    "    n = length(x)\n",
    "    epsilon = rnorm(n, mean = 0, sd = sigma)\n",
    "    y = beta0 + beta1*x + epsilon\n",
    "    data.frame(x, y)  ## return\n",
    "}\n",
    "\n",
    "for (i in 1:num_samples) {\n",
    "    temp_dt <- generation_slr(x, beta0, beta1, sigma)\n",
    "    sim_fit <- lm(y~x, data = temp_dt)\n",
    "    beta1_hats[i] = sim_fit$coefficients[2]  ## coefficients의 두 번째 값이니까 beta1이지롱\n",
    "}\n",
    "\n",
    "hist(beta1_hats, prob = bool, breaks = int, xlab = str, main = str, labels = str?, col = 'skyblue')\n",
    "curve(dnorm(x, mean = beta1, sd = sqrt))"
   ]
  },
  {
   "cell_type": "code",
   "execution_count": null,
   "id": "66fac90b-a02d-4047-83c2-da6ee9cc0843",
   "metadata": {},
   "outputs": [],
   "source": []
  }
 ],
 "metadata": {
  "kernelspec": {
   "display_name": "R",
   "language": "R",
   "name": "ir"
  },
  "language_info": {
   "codemirror_mode": "r",
   "file_extension": ".r",
   "mimetype": "text/x-r-source",
   "name": "R",
   "pygments_lexer": "r",
   "version": "4.1.3"
  }
 },
 "nbformat": 4,
 "nbformat_minor": 5
}
