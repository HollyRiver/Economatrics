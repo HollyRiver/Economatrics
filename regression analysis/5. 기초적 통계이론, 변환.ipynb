{
 "cells": [
  {
   "cell_type": "markdown",
   "id": "87ce2343-ce0a-4e9a-8b91-5ba9df5b1748",
   "metadata": {},
   "source": [
    "> 기초적 통계이론 : 적합결여검정 / 등"
   ]
  },
  {
   "cell_type": "code",
   "execution_count": 2,
   "id": "c15eb0e5-fc0b-4af1-b238-2a9b6cea8a68",
   "metadata": {
    "scrolled": true
   },
   "outputs": [
    {
     "name": "stderr",
     "output_type": "stream",
     "text": [
      "also installing the dependencies ‘crosstalk’, ‘rbibutils’, ‘gap.datasets’, ‘plotly’, ‘Rdpack’\n",
      "\n",
      "\n",
      "Updating HTML index of packages in '.Library'\n",
      "\n",
      "Making 'packages.html' ...\n",
      " done\n",
      "\n",
      "Loading required package: gap.datasets\n",
      "\n",
      "gap version 1.5-3\n",
      "\n"
     ]
    }
   ],
   "source": [
    "install.packages('gap')\n",
    "library(gap)"
   ]
  },
  {
   "cell_type": "code",
   "execution_count": 1,
   "id": "bf2d9c10-e96a-4261-91ab-2740ffce7721",
   "metadata": {},
   "outputs": [],
   "source": [
    "options(repr.plot.width = 15, repr.plot.height = 8)"
   ]
  },
  {
   "cell_type": "markdown",
   "id": "220333a4-97f9-49a8-9964-a537496f3572",
   "metadata": {},
   "source": [
    "## 1. 적합결여검정"
   ]
  },
  {
   "cell_type": "code",
   "execution_count": 2,
   "id": "c85a29f5-6196-46d6-8ba3-031337930ce0",
   "metadata": {},
   "outputs": [
    {
     "data": {
      "image/png": "[encoded data removed]",
      "text/plain": [
       "plot without title"
      ]
     },
     "metadata": {
      "image/png": {
       "height": 480,
       "width": 900
      }
     },
     "output_type": "display_data"
    }
   ],
   "source": [
    "x <- rep(c(75,100,125,150,175,200),2)\n",
    "y <- c(28,112,160,143,156,124,42,136,150,161,124,104)\n",
    "plot(x,y,col='steelblue',pch=16, cex=2)"
   ]
  },
  {
   "cell_type": "markdown",
   "id": "4d5eeae0-12a7-4f87-b838-ff67e8c8b6c9",
   "metadata": {},
   "source": [
    "> 그냥 적합"
   ]
  },
  {
   "cell_type": "code",
   "execution_count": 3,
   "id": "1f210ae6-9d00-4be4-af50-330cb56e0f95",
   "metadata": {},
   "outputs": [
    {
     "data": {
      "text/plain": [
       "\n",
       "Call:\n",
       "lm(formula = y ~ x)\n",
       "\n",
       "Residuals:\n",
       "   Min     1Q Median     3Q    Max \n",
       "-60.57 -32.21  13.79  34.75  46.29 \n",
       "\n",
       "Coefficients:\n",
       "            Estimate Std. Error t value Pr(>|t|)  \n",
       "(Intercept)  50.8571    38.4861   1.321   0.2158  \n",
       "x             0.5029     0.2673   1.881   0.0893 .\n",
       "---\n",
       "Signif. codes:  0 '***' 0.001 '**' 0.01 '*' 0.05 '.' 0.1 ' ' 1\n",
       "\n",
       "Residual standard error: 39.54 on 10 degrees of freedom\n",
       "Multiple R-squared:  0.2614,\tAdjusted R-squared:  0.1875 \n",
       "F-statistic: 3.539 on 1 and 10 DF,  p-value: 0.08935\n"
      ]
     },
     "metadata": {},
     "output_type": "display_data"
    }
   ],
   "source": [
    "lm_fit <- lm(y~x)\n",
    "summary(lm_fit)"
   ]
  },
  {
   "cell_type": "code",
   "execution_count": 4,
   "id": "4ec44160-b68c-43f6-b4ff-92a0697c4ea8",
   "metadata": {},
   "outputs": [
    {
     "data": {
      "text/html": [
       "<table class=\"dataframe\">\n",
       "<caption>A anova: 2 × 5</caption>\n",
       "<thead>\n",
       "\t<tr><th></th><th scope=col>Df</th><th scope=col>Sum Sq</th><th scope=col>Mean Sq</th><th scope=col>F value</th><th scope=col>Pr(&gt;F)</th></tr>\n",
       "\t<tr><th></th><th scope=col>&lt;int&gt;</th><th scope=col>&lt;dbl&gt;</th><th scope=col>&lt;dbl&gt;</th><th scope=col>&lt;dbl&gt;</th><th scope=col>&lt;dbl&gt;</th></tr>\n",
       "</thead>\n",
       "<tbody>\n",
       "\t<tr><th scope=row>x</th><td> 1</td><td> 5531.429</td><td>5531.429</td><td>3.538852</td><td>0.08934951</td></tr>\n",
       "\t<tr><th scope=row>Residuals</th><td>10</td><td>15630.571</td><td>1563.057</td><td>      NA</td><td>        NA</td></tr>\n",
       "</tbody>\n",
       "</table>\n"
      ],
      "text/latex": [
       "A anova: 2 × 5\n",
       "\\begin{tabular}{r|lllll}\n",
       "  & Df & Sum Sq & Mean Sq & F value & Pr(>F)\\\\\n",
       "  & <int> & <dbl> & <dbl> & <dbl> & <dbl>\\\\\n",
       "\\hline\n",
       "\tx &  1 &  5531.429 & 5531.429 & 3.538852 & 0.08934951\\\\\n",
       "\tResiduals & 10 & 15630.571 & 1563.057 &       NA &         NA\\\\\n",
       "\\end{tabular}\n"
      ],
      "text/markdown": [
       "\n",
       "A anova: 2 × 5\n",
       "\n",
       "| <!--/--> | Df &lt;int&gt; | Sum Sq &lt;dbl&gt; | Mean Sq &lt;dbl&gt; | F value &lt;dbl&gt; | Pr(&gt;F) &lt;dbl&gt; |\n",
       "|---|---|---|---|---|---|\n",
       "| x |  1 |  5531.429 | 5531.429 | 3.538852 | 0.08934951 |\n",
       "| Residuals | 10 | 15630.571 | 1563.057 |       NA |         NA |\n",
       "\n"
      ],
      "text/plain": [
       "          Df Sum Sq    Mean Sq  F value  Pr(>F)    \n",
       "x          1  5531.429 5531.429 3.538852 0.08934951\n",
       "Residuals 10 15630.571 1563.057       NA         NA"
      ]
     },
     "metadata": {},
     "output_type": "display_data"
    }
   ],
   "source": [
    "anova(lm_fit)"
   ]
  },
  {
   "cell_type": "markdown",
   "id": "7e02ea4e-fbd3-47e2-9e9d-496bd1c86e6c",
   "metadata": {},
   "source": [
    "* 적합결여검정의 가설 : $H_0 : E(Y|X = x) = \\beta_0 + \\beta_1 x, vs. H_1 : E(Y|X = x) ≠ \\beta_0 + \\beta_1 x$\n",
    "\n",
    "* 검정통계량 : $F_0 = \\frac{MSLF}{MSPE} ∼ _{H_0} F(k-2, n-k)$"
   ]
  },
  {
   "cell_type": "markdown",
   "id": "d9c3917b-40fb-429c-b394-fcafe3a63fd2",
   "metadata": {},
   "source": [
    "`-` SST 구하기"
   ]
  },
  {
   "cell_type": "code",
   "execution_count": 6,
   "id": "15b84346-e9ce-4c65-a121-01e7e74bddee",
   "metadata": {},
   "outputs": [
    {
     "data": {
      "text/html": [
       "<table class=\"dataframe\">\n",
       "<caption>A anova: 1 × 5</caption>\n",
       "<thead>\n",
       "\t<tr><th></th><th scope=col>Df</th><th scope=col>Sum Sq</th><th scope=col>Mean Sq</th><th scope=col>F value</th><th scope=col>Pr(&gt;F)</th></tr>\n",
       "\t<tr><th></th><th scope=col>&lt;int&gt;</th><th scope=col>&lt;dbl&gt;</th><th scope=col>&lt;dbl&gt;</th><th scope=col>&lt;dbl&gt;</th><th scope=col>&lt;dbl&gt;</th></tr>\n",
       "</thead>\n",
       "<tbody>\n",
       "\t<tr><th scope=row>Residuals</th><td>11</td><td>21162</td><td>1923.818</td><td>NA</td><td>NA</td></tr>\n",
       "</tbody>\n",
       "</table>\n"
      ],
      "text/latex": [
       "A anova: 1 × 5\n",
       "\\begin{tabular}{r|lllll}\n",
       "  & Df & Sum Sq & Mean Sq & F value & Pr(>F)\\\\\n",
       "  & <int> & <dbl> & <dbl> & <dbl> & <dbl>\\\\\n",
       "\\hline\n",
       "\tResiduals & 11 & 21162 & 1923.818 & NA & NA\\\\\n",
       "\\end{tabular}\n"
      ],
      "text/markdown": [
       "\n",
       "A anova: 1 × 5\n",
       "\n",
       "| <!--/--> | Df &lt;int&gt; | Sum Sq &lt;dbl&gt; | Mean Sq &lt;dbl&gt; | F value &lt;dbl&gt; | Pr(&gt;F) &lt;dbl&gt; |\n",
       "|---|---|---|---|---|---|\n",
       "| Residuals | 11 | 21162 | 1923.818 | NA | NA |\n",
       "\n"
      ],
      "text/plain": [
       "          Df Sum Sq Mean Sq  F value Pr(>F)\n",
       "Residuals 11 21162  1923.818 NA      NA    "
      ]
     },
     "metadata": {},
     "output_type": "display_data"
    },
    {
     "data": {
      "text/html": [
       "21162"
      ],
      "text/latex": [
       "21162"
      ],
      "text/markdown": [
       "21162"
      ],
      "text/plain": [
       "[1] 21162"
      ]
     },
     "metadata": {},
     "output_type": "display_data"
    }
   ],
   "source": [
    "anova(lm(y~1))  ## unconditional estimate와 동일하다. y_hat이 y_bar가 되니까.\n",
    "sum((y - mean(y))**2)"
   ]
  },
  {
   "cell_type": "markdown",
   "id": "7d9b3365-f611-439e-b7a4-17fe4676f8cc",
   "metadata": {},
   "source": [
    "> SST = 21162(직접 계산한 값과 동일)"
   ]
  },
  {
   "cell_type": "markdown",
   "id": "ca7a12b5-1acf-41c9-a26e-8bfa9f91a919",
   "metadata": {},
   "source": [
    "`-` SSPE 구하기(SSE = SSPE + SSLF)"
   ]
  },
  {
   "cell_type": "code",
   "execution_count": 8,
   "id": "85c754e1-2303-460e-8ffe-cff0095b415b",
   "metadata": {},
   "outputs": [
    {
     "data": {
      "text/html": [
       "<table class=\"dataframe\">\n",
       "<caption>A anova: 2 × 5</caption>\n",
       "<thead>\n",
       "\t<tr><th></th><th scope=col>Df</th><th scope=col>Sum Sq</th><th scope=col>Mean Sq</th><th scope=col>F value</th><th scope=col>Pr(&gt;F)</th></tr>\n",
       "\t<tr><th></th><th scope=col>&lt;int&gt;</th><th scope=col>&lt;dbl&gt;</th><th scope=col>&lt;dbl&gt;</th><th scope=col>&lt;dbl&gt;</th><th scope=col>&lt;dbl&gt;</th></tr>\n",
       "</thead>\n",
       "<tbody>\n",
       "\t<tr><th scope=row>factor(x)</th><td>5</td><td>19852</td><td>3970.4000</td><td>18.18504</td><td>0.00144967</td></tr>\n",
       "\t<tr><th scope=row>Residuals</th><td>6</td><td> 1310</td><td> 218.3333</td><td>      NA</td><td>        NA</td></tr>\n",
       "</tbody>\n",
       "</table>\n"
      ],
      "text/latex": [
       "A anova: 2 × 5\n",
       "\\begin{tabular}{r|lllll}\n",
       "  & Df & Sum Sq & Mean Sq & F value & Pr(>F)\\\\\n",
       "  & <int> & <dbl> & <dbl> & <dbl> & <dbl>\\\\\n",
       "\\hline\n",
       "\tfactor(x) & 5 & 19852 & 3970.4000 & 18.18504 & 0.00144967\\\\\n",
       "\tResiduals & 6 &  1310 &  218.3333 &       NA &         NA\\\\\n",
       "\\end{tabular}\n"
      ],
      "text/markdown": [
       "\n",
       "A anova: 2 × 5\n",
       "\n",
       "| <!--/--> | Df &lt;int&gt; | Sum Sq &lt;dbl&gt; | Mean Sq &lt;dbl&gt; | F value &lt;dbl&gt; | Pr(&gt;F) &lt;dbl&gt; |\n",
       "|---|---|---|---|---|---|\n",
       "| factor(x) | 5 | 19852 | 3970.4000 | 18.18504 | 0.00144967 |\n",
       "| Residuals | 6 |  1310 |  218.3333 |       NA |         NA |\n",
       "\n"
      ],
      "text/plain": [
       "          Df Sum Sq Mean Sq   F value  Pr(>F)    \n",
       "factor(x) 5  19852  3970.4000 18.18504 0.00144967\n",
       "Residuals 6   1310   218.3333       NA         NA"
      ]
     },
     "metadata": {},
     "output_type": "display_data"
    }
   ],
   "source": [
    "anova(lm(y~factor(x)))  ## factor, 그룹으로 나누어 넣겠다. 즉, 각각 그룹에서의 평균을 이용한 편차의 제곱을 구함\n",
    "## set()과 비슷한듯."
   ]
  },
  {
   "cell_type": "markdown",
   "id": "a611562a-08bc-42c6-8255-a057c75ea6eb",
   "metadata": {},
   "source": [
    "> SSPE = 1310, MSPE = 218.3, SSPE의 자유도 = 6"
   ]
  },
  {
   "cell_type": "code",
   "execution_count": 13,
   "id": "3e7c65ee-eaff-4616-bd10-2aa44386728c",
   "metadata": {},
   "outputs": [
    {
     "data": {
      "text/html": [
       "218.333333333333"
      ],
      "text/latex": [
       "218.333333333333"
      ],
      "text/markdown": [
       "218.333333333333"
      ],
      "text/plain": [
       "[1] 218.3333"
      ]
     },
     "metadata": {},
     "output_type": "display_data"
    }
   ],
   "source": [
    "SSPE <- anova(lm(y~factor(x)))$'Sum Sq'[2]\n",
    "MSPE = SSPE/6  ## n-k\n",
    "MSPE"
   ]
  },
  {
   "cell_type": "markdown",
   "id": "b15317a0-3816-403a-b48a-098ab75eb0ba",
   "metadata": {},
   "source": [
    "`-` SSLF 구하기"
   ]
  },
  {
   "cell_type": "code",
   "execution_count": 11,
   "id": "8f7a5574-7b5f-4116-800f-1a3fbdd45232",
   "metadata": {},
   "outputs": [
    {
     "data": {
      "text/html": [
       "<table class=\"dataframe\">\n",
       "<caption>A anova: 2 × 5</caption>\n",
       "<thead>\n",
       "\t<tr><th></th><th scope=col>Df</th><th scope=col>Sum Sq</th><th scope=col>Mean Sq</th><th scope=col>F value</th><th scope=col>Pr(&gt;F)</th></tr>\n",
       "\t<tr><th></th><th scope=col>&lt;int&gt;</th><th scope=col>&lt;dbl&gt;</th><th scope=col>&lt;dbl&gt;</th><th scope=col>&lt;dbl&gt;</th><th scope=col>&lt;dbl&gt;</th></tr>\n",
       "</thead>\n",
       "<tbody>\n",
       "\t<tr><th scope=row>x</th><td> 1</td><td> 5531.429</td><td>5531.429</td><td>3.538852</td><td>0.08934951</td></tr>\n",
       "\t<tr><th scope=row>Residuals</th><td>10</td><td>15630.571</td><td>1563.057</td><td>      NA</td><td>        NA</td></tr>\n",
       "</tbody>\n",
       "</table>\n"
      ],
      "text/latex": [
       "A anova: 2 × 5\n",
       "\\begin{tabular}{r|lllll}\n",
       "  & Df & Sum Sq & Mean Sq & F value & Pr(>F)\\\\\n",
       "  & <int> & <dbl> & <dbl> & <dbl> & <dbl>\\\\\n",
       "\\hline\n",
       "\tx &  1 &  5531.429 & 5531.429 & 3.538852 & 0.08934951\\\\\n",
       "\tResiduals & 10 & 15630.571 & 1563.057 &       NA &         NA\\\\\n",
       "\\end{tabular}\n"
      ],
      "text/markdown": [
       "\n",
       "A anova: 2 × 5\n",
       "\n",
       "| <!--/--> | Df &lt;int&gt; | Sum Sq &lt;dbl&gt; | Mean Sq &lt;dbl&gt; | F value &lt;dbl&gt; | Pr(&gt;F) &lt;dbl&gt; |\n",
       "|---|---|---|---|---|---|\n",
       "| x |  1 |  5531.429 | 5531.429 | 3.538852 | 0.08934951 |\n",
       "| Residuals | 10 | 15630.571 | 1563.057 |       NA |         NA |\n",
       "\n"
      ],
      "text/plain": [
       "          Df Sum Sq    Mean Sq  F value  Pr(>F)    \n",
       "x          1  5531.429 5531.429 3.538852 0.08934951\n",
       "Residuals 10 15630.571 1563.057       NA         NA"
      ]
     },
     "metadata": {},
     "output_type": "display_data"
    }
   ],
   "source": [
    "anova(lm_fit)"
   ]
  },
  {
   "cell_type": "code",
   "execution_count": 15,
   "id": "43fcc895-5c44-4c23-8b71-342fdf49f9ab",
   "metadata": {},
   "outputs": [
    {
     "data": {
      "text/html": [
       "3580.14285714286"
      ],
      "text/latex": [
       "3580.14285714286"
      ],
      "text/markdown": [
       "3580.14285714286"
      ],
      "text/plain": [
       "[1] 3580.143"
      ]
     },
     "metadata": {},
     "output_type": "display_data"
    }
   ],
   "source": [
    "SSE = anova(lm_fit)$'Sum Sq'[2]\n",
    "SSLF = SSE - SSPE\n",
    "MSLF = SSLF/4  ## k-2\n",
    "MSLF"
   ]
  },
  {
   "cell_type": "markdown",
   "id": "437f7547-6b9c-4f0b-8efd-e03ef2dc7fc9",
   "metadata": {},
   "source": [
    "`-` 검정통계량"
   ]
  },
  {
   "cell_type": "code",
   "execution_count": 16,
   "id": "4a808b41-11b5-42b6-801b-c8cfd513e146",
   "metadata": {},
   "outputs": [
    {
     "data": {
      "text/html": [
       "16.39760087241"
      ],
      "text/latex": [
       "16.39760087241"
      ],
      "text/markdown": [
       "16.39760087241"
      ],
      "text/plain": [
       "[1] 16.3976"
      ]
     },
     "metadata": {},
     "output_type": "display_data"
    }
   ],
   "source": [
    "F0 = MSLF/MSPE; F0"
   ]
  },
  {
   "cell_type": "markdown",
   "id": "210b4561-37a7-4528-b926-1988ff3db530",
   "metadata": {},
   "source": [
    "`-` 유의확률(p-value)"
   ]
  },
  {
   "cell_type": "code",
   "execution_count": 19,
   "id": "dda41268-930a-42eb-90e7-af058ede473b",
   "metadata": {},
   "outputs": [
    {
     "data": {
      "text/html": [
       "0.0022067589959257"
      ],
      "text/latex": [
       "0.0022067589959257"
      ],
      "text/markdown": [
       "0.0022067589959257"
      ],
      "text/plain": [
       "[1] 0.002206759"
      ]
     },
     "metadata": {},
     "output_type": "display_data"
    }
   ],
   "source": [
    "pf(q = F0, df1 = 4, df2 = 6, lower.tail = FALSE)  ## 유의확률, probability distribution function"
   ]
  },
  {
   "cell_type": "code",
   "execution_count": 20,
   "id": "d9d22946-0705-4d21-b102-766c4ef0dc8e",
   "metadata": {},
   "outputs": [
    {
     "data": {
      "text/html": [
       "4.53367695027524"
      ],
      "text/latex": [
       "4.53367695027524"
      ],
      "text/markdown": [
       "4.53367695027524"
      ],
      "text/plain": [
       "[1] 4.533677"
      ]
     },
     "metadata": {},
     "output_type": "display_data"
    }
   ],
   "source": [
    "qf(0.95, 4, 6)  ## 유의수준 0.05에서의 기각치, critical value"
   ]
  },
  {
   "cell_type": "markdown",
   "id": "a6bcad33-4893-4700-994b-cd41f834e2e5",
   "metadata": {},
   "source": [
    "> 결론 : $F_0 = 16.4 > F_{0.05}(4, 6) = 4.534$ 이므로 귀무가설을 기각. 즉, 선형 회귀 모형이 적합하지 않다."
   ]
  },
  {
   "cell_type": "markdown",
   "id": "2b7ba75c-d2be-4669-908d-6272ecaa1aa9",
   "metadata": {},
   "source": [
    "## 2. 두 회귀모형의 검정"
   ]
  },
  {
   "cell_type": "markdown",
   "id": "e082bd61-61a9-4d8f-8400-55952b99b819",
   "metadata": {},
   "source": [
    "두 회귀모형의 비교에 대한 가설 : $$H_0 : \\beta_{01} = \\beta_{02} ~ _{and} ~ \\beta_{11} = \\beta_{12}, ~~ vs. ~~ H_1 : \\beta_{01} ≠ \\beta_{02} ~ _{or} ~ \\beta_{11} ≠ \\beta_{12}$$"
   ]
  },
  {
   "cell_type": "code",
   "execution_count": 1,
   "id": "72210292-cfca-4998-8187-4daa6644c64c",
   "metadata": {},
   "outputs": [
    {
     "data": {
      "text/html": [
       "<table class=\"dataframe\">\n",
       "<caption>A data.frame: 6 × 3</caption>\n",
       "<thead>\n",
       "\t<tr><th></th><th scope=col>x</th><th scope=col>y</th><th scope=col>g</th></tr>\n",
       "\t<tr><th></th><th scope=col>&lt;dbl&gt;</th><th scope=col>&lt;dbl&gt;</th><th scope=col>&lt;chr&gt;</th></tr>\n",
       "</thead>\n",
       "<tbody>\n",
       "\t<tr><th scope=row>1</th><td>100</td><td>218</td><td>Line1</td></tr>\n",
       "\t<tr><th scope=row>2</th><td>125</td><td>248</td><td>Line1</td></tr>\n",
       "\t<tr><th scope=row>3</th><td>220</td><td>360</td><td>Line1</td></tr>\n",
       "\t<tr><th scope=row>4</th><td>205</td><td>351</td><td>Line1</td></tr>\n",
       "\t<tr><th scope=row>5</th><td>300</td><td>470</td><td>Line1</td></tr>\n",
       "\t<tr><th scope=row>6</th><td>255</td><td>394</td><td>Line1</td></tr>\n",
       "</tbody>\n",
       "</table>\n"
      ],
      "text/latex": [
       "A data.frame: 6 × 3\n",
       "\\begin{tabular}{r|lll}\n",
       "  & x & y & g\\\\\n",
       "  & <dbl> & <dbl> & <chr>\\\\\n",
       "\\hline\n",
       "\t1 & 100 & 218 & Line1\\\\\n",
       "\t2 & 125 & 248 & Line1\\\\\n",
       "\t3 & 220 & 360 & Line1\\\\\n",
       "\t4 & 205 & 351 & Line1\\\\\n",
       "\t5 & 300 & 470 & Line1\\\\\n",
       "\t6 & 255 & 394 & Line1\\\\\n",
       "\\end{tabular}\n"
      ],
      "text/markdown": [
       "\n",
       "A data.frame: 6 × 3\n",
       "\n",
       "| <!--/--> | x &lt;dbl&gt; | y &lt;dbl&gt; | g &lt;chr&gt; |\n",
       "|---|---|---|---|\n",
       "| 1 | 100 | 218 | Line1 |\n",
       "| 2 | 125 | 248 | Line1 |\n",
       "| 3 | 220 | 360 | Line1 |\n",
       "| 4 | 205 | 351 | Line1 |\n",
       "| 5 | 300 | 470 | Line1 |\n",
       "| 6 | 255 | 394 | Line1 |\n",
       "\n"
      ],
      "text/plain": [
       "  x   y   g    \n",
       "1 100 218 Line1\n",
       "2 125 248 Line1\n",
       "3 220 360 Line1\n",
       "4 205 351 Line1\n",
       "5 300 470 Line1\n",
       "6 255 394 Line1"
      ]
     },
     "metadata": {},
     "output_type": "display_data"
    }
   ],
   "source": [
    "dt <- data.frame(\n",
    "    x = c(100, 125, 220, 205, 300, 255, 225, 175, 270, 170, 155, 190, 140, 290, 265,\n",
    "         105, 215, 270, 255, 175, 135, 200, 275, 155, 320, 190, 295),\n",
    "    y = c(218, 248, 360, 351, 470, 394, 332, 321, 410, 260, 241, 331, 275, 425, 367,\n",
    "         140, 277, 384, 341, 215, 180, 260, 361, 252, 422, 273, 410),\n",
    "    g = c(rep('Line1', 15), rep('Line2', 12))\n",
    ")\n",
    "\n",
    "head(dt)"
   ]
  },
  {
   "cell_type": "code",
   "execution_count": 2,
   "id": "3046ee68-e7ce-43ca-830b-2d36e21cc024",
   "metadata": {},
   "outputs": [
    {
     "data": {
      "image/png": "[encoded data removed]",
      "text/plain": [
       "plot without title"
      ]
     },
     "metadata": {
      "image/png": {
       "height": 420,
       "width": 420
      }
     },
     "output_type": "display_data"
    }
   ],
   "source": [
    "plot(y~x, data = dt,\n",
    "    col = as.factor(dt$g), pch = 16)\n",
    "legend('topleft', legend = c('Line1', 'Line2'), col = 1:2, pch = 16)"
   ]
  },
  {
   "cell_type": "markdown",
   "id": "58eb7b55-432a-4b03-83b0-3fb8ee5ae255",
   "metadata": {},
   "source": [
    "`-` 각 모델을 적합하면..."
   ]
  },
  {
   "cell_type": "code",
   "execution_count": 6,
   "id": "75b182d4-e031-4f56-b36c-4eefeace080c",
   "metadata": {},
   "outputs": [],
   "source": [
    "full_model1 <- lm(y~x, data = dt[dt$g == \"Line1\",])  ## python과 다르게 인자 없이 쉼표만 넣어도...\n",
    "full_model2 <- lm(y~x, data = dt[dt$g == \"Line2\",])\n",
    "reduced_model <- lm(y~x, data = dt)"
   ]
  },
  {
   "cell_type": "code",
   "execution_count": 7,
   "id": "50002b1d-ef03-4317-9167-3b40703e0aea",
   "metadata": {},
   "outputs": [
    {
     "data": {
      "text/plain": [
       "\n",
       "Call:\n",
       "lm(formula = y ~ x, data = dt[dt$g == \"Line1\", ])\n",
       "\n",
       "Residuals:\n",
       "    Min      1Q  Median      3Q     Max \n",
       "-34.500 -14.403   5.496  16.046  28.418 \n",
       "\n",
       "Coefficients:\n",
       "            Estimate Std. Error t value Pr(>|t|)    \n",
       "(Intercept) 97.96533   20.51430   4.775 0.000362 ***\n",
       "x            1.14539    0.09578  11.959 2.18e-08 ***\n",
       "---\n",
       "Signif. codes:  0 '***' 0.001 '**' 0.01 '*' 0.05 '.' 0.1 ' ' 1\n",
       "\n",
       "Residual standard error: 22.19 on 13 degrees of freedom\n",
       "Multiple R-squared:  0.9167,\tAdjusted R-squared:  0.9103 \n",
       "F-statistic:   143 on 1 and 13 DF,  p-value: 2.177e-08\n"
      ]
     },
     "metadata": {},
     "output_type": "display_data"
    },
    {
     "data": {
      "text/plain": [
       "\n",
       "Call:\n",
       "lm(formula = y ~ x, data = dt[dt$g == \"Line2\", ])\n",
       "\n",
       "Residuals:\n",
       "   Min     1Q Median     3Q    Max \n",
       "-23.93 -10.60  -6.22  12.88  39.51 \n",
       "\n",
       "Coefficients:\n",
       "            Estimate Std. Error t value Pr(>|t|)    \n",
       "(Intercept)  7.57446   18.81855   0.402    0.696    \n",
       "x            1.32205    0.08352  15.829 2.08e-08 ***\n",
       "---\n",
       "Signif. codes:  0 '***' 0.001 '**' 0.01 '*' 0.05 '.' 0.1 ' ' 1\n",
       "\n",
       "Residual standard error: 18.71 on 10 degrees of freedom\n",
       "Multiple R-squared:  0.9616,\tAdjusted R-squared:  0.9578 \n",
       "F-statistic: 250.6 on 1 and 10 DF,  p-value: 2.083e-08\n"
      ]
     },
     "metadata": {},
     "output_type": "display_data"
    }
   ],
   "source": [
    "summary(full_model1)\n",
    "summary(full_model2)"
   ]
  },
  {
   "cell_type": "markdown",
   "id": "8d1ad33a-605f-4558-8824-2f5e75b02bec",
   "metadata": {},
   "source": [
    "`-` 개별 회귀직선(Full Model)과 전체 회귀직선(Reduced Model)을 산점도에 표기."
   ]
  },
  {
   "cell_type": "code",
   "execution_count": 12,
   "id": "9a4aee3d-78fe-4498-a399-64a4791656a6",
   "metadata": {},
   "outputs": [
    {
     "data": {
      "image/png": "[encoded data removed]",
      "text/plain": [
       "plot without title"
      ]
     },
     "metadata": {
      "image/png": {
       "height": 420,
       "width": 420
      }
     },
     "output_type": "display_data"
    }
   ],
   "source": [
    "plot(y ~ x, data = dt, col = as.factor(dt$g), pch = 16)\n",
    "legend('topleft', legend = c('Line1', 'Line2'), col = 1:2, pch = 16)\n",
    "abline(full_model1, col = 1, lty = 2)\n",
    "abline(full_model2, col = 2, lty = 2)\n",
    "abline(reduced_model, col = 3, lty = 2, lwd = 2)"
   ]
  },
  {
   "cell_type": "markdown",
   "id": "c15248e5-1fb9-4552-b57d-5973d13e5df9",
   "metadata": {},
   "source": [
    "`-` 설명변수와 반응변수를 그룹별로 분할..."
   ]
  },
  {
   "cell_type": "code",
   "execution_count": 18,
   "id": "666428c6-a180-4750-8e02-015806ca7c79",
   "metadata": {},
   "outputs": [],
   "source": [
    "y1 <- dt[dt$g=='Line1', 'y']\n",
    "y2 <- dt[dt$g=='Line2', 'y']\n",
    "\n",
    "x1 <- dt[dt$g=='Line1', 'x']\n",
    "x2 <- dt[dt$g=='Line2', 'x']"
   ]
  },
  {
   "cell_type": "markdown",
   "id": "7ddd3772-774a-4e1e-b96f-8d17342e3986",
   "metadata": {},
   "source": [
    "`-` 한번에 통계량 구하기 :  `gap::chow.test(y1, x1, y2, x2)`"
   ]
  },
  {
   "cell_type": "code",
   "execution_count": 25,
   "id": "3b47203c-1e78-4731-92f6-9a15eccb1347",
   "metadata": {},
   "outputs": [
    {
     "data": {
      "text/html": [
       "<style>\n",
       ".dl-inline {width: auto; margin:0; padding: 0}\n",
       ".dl-inline>dt, .dl-inline>dd {float: none; width: auto; display: inline-block}\n",
       ".dl-inline>dt::after {content: \":\\0020\"; padding-right: .5ex}\n",
       ".dl-inline>dt:not(:first-of-type) {padding-left: .5ex}\n",
       "</style><dl class=dl-inline><dt>F value</dt><dd>22.6465342967061</dd><dt>d.f.1</dt><dd>2</dd><dt>d.f.2</dt><dd>23</dd><dt>P value</dt><dd>3.66892557026e-06</dd></dl>\n"
      ],
      "text/latex": [
       "\\begin{description*}\n",
       "\\item[F value] 22.6465342967061\n",
       "\\item[d.f.1] 2\n",
       "\\item[d.f.2] 23\n",
       "\\item[P value] 3.66892557026e-06\n",
       "\\end{description*}\n"
      ],
      "text/markdown": [
       "F value\n",
       ":   22.6465342967061d.f.1\n",
       ":   2d.f.2\n",
       ":   23P value\n",
       ":   3.66892557026e-06\n",
       "\n"
      ],
      "text/plain": [
       "     F value        d.f.1        d.f.2      P value \n",
       "2.264653e+01 2.000000e+00 2.300000e+01 3.668926e-06 "
      ]
     },
     "metadata": {},
     "output_type": "display_data"
    }
   ],
   "source": [
    "gap::chow.test(y1, x1, y2, x2)  ## target1, feature1, target2, feature2"
   ]
  },
  {
   "cell_type": "markdown",
   "id": "72d0c56e-3f7b-41a1-b26f-6e6a662e770d",
   "metadata": {},
   "source": [
    "`-` 이론적으로 코드 구현하기"
   ]
  },
  {
   "cell_type": "code",
   "execution_count": 29,
   "id": "819ab572-29cc-4635-9bef-e28420d8db8c",
   "metadata": {},
   "outputs": [
    {
     "data": {
      "text/html": [
       "<table class=\"dataframe\">\n",
       "<caption>A anova: 2 × 5</caption>\n",
       "<thead>\n",
       "\t<tr><th></th><th scope=col>Df</th><th scope=col>Sum Sq</th><th scope=col>Mean Sq</th><th scope=col>F value</th><th scope=col>Pr(&gt;F)</th></tr>\n",
       "\t<tr><th></th><th scope=col>&lt;int&gt;</th><th scope=col>&lt;dbl&gt;</th><th scope=col>&lt;dbl&gt;</th><th scope=col>&lt;dbl&gt;</th><th scope=col>&lt;dbl&gt;</th></tr>\n",
       "</thead>\n",
       "<tbody>\n",
       "\t<tr><th scope=row>x</th><td> 1</td><td>70440.942</td><td>70440.9424</td><td>143.0208</td><td>2.177027e-08</td></tr>\n",
       "\t<tr><th scope=row>Residuals</th><td>13</td><td> 6402.791</td><td>  492.5224</td><td>      NA</td><td>          NA</td></tr>\n",
       "</tbody>\n",
       "</table>\n"
      ],
      "text/latex": [
       "A anova: 2 × 5\n",
       "\\begin{tabular}{r|lllll}\n",
       "  & Df & Sum Sq & Mean Sq & F value & Pr(>F)\\\\\n",
       "  & <int> & <dbl> & <dbl> & <dbl> & <dbl>\\\\\n",
       "\\hline\n",
       "\tx &  1 & 70440.942 & 70440.9424 & 143.0208 & 2.177027e-08\\\\\n",
       "\tResiduals & 13 &  6402.791 &   492.5224 &       NA &           NA\\\\\n",
       "\\end{tabular}\n"
      ],
      "text/markdown": [
       "\n",
       "A anova: 2 × 5\n",
       "\n",
       "| <!--/--> | Df &lt;int&gt; | Sum Sq &lt;dbl&gt; | Mean Sq &lt;dbl&gt; | F value &lt;dbl&gt; | Pr(&gt;F) &lt;dbl&gt; |\n",
       "|---|---|---|---|---|---|\n",
       "| x |  1 | 70440.942 | 70440.9424 | 143.0208 | 2.177027e-08 |\n",
       "| Residuals | 13 |  6402.791 |   492.5224 |       NA |           NA |\n",
       "\n"
      ],
      "text/plain": [
       "          Df Sum Sq    Mean Sq    F value  Pr(>F)      \n",
       "x          1 70440.942 70440.9424 143.0208 2.177027e-08\n",
       "Residuals 13  6402.791   492.5224       NA           NA"
      ]
     },
     "metadata": {},
     "output_type": "display_data"
    }
   ],
   "source": [
    "anova(full_model1)"
   ]
  },
  {
   "cell_type": "code",
   "execution_count": 32,
   "id": "465182c5-9001-4504-a0b8-5c339e09fb50",
   "metadata": {},
   "outputs": [],
   "source": [
    "SSE1 = anova(full_model1)[2,2]\n",
    "SSE2 = anova(full_model2)[2,2]\n",
    "\n",
    "SSE_full = SSE1 + SSE2\n",
    "SSE_reduced = anova(reduced_model)[2,2]"
   ]
  },
  {
   "cell_type": "code",
   "execution_count": 34,
   "id": "77c170f7-21b0-46fa-9ed2-b853fbb3d3cc",
   "metadata": {},
   "outputs": [
    {
     "data": {
      "text/html": [
       "22.646534296706"
      ],
      "text/latex": [
       "22.646534296706"
      ],
      "text/markdown": [
       "22.646534296706"
      ],
      "text/plain": [
       "[1] 22.64653"
      ]
     },
     "metadata": {},
     "output_type": "display_data"
    }
   ],
   "source": [
    "F0 = ((SSE_reduced - SSE_full)/2)/(SSE_full/(15+12-4))\n",
    "F0"
   ]
  },
  {
   "cell_type": "markdown",
   "id": "6c75a1ee-e906-4a2f-98e0-0f81a9f43429",
   "metadata": {},
   "source": [
    "> 모듈에서의 값(`gap::chow.test()`)과 동일함을 알 수 있다."
   ]
  },
  {
   "cell_type": "markdown",
   "id": "f176f2d8-0058-409a-98d1-45e99be93ba4",
   "metadata": {},
   "source": [
    "## 3. 기울기의 비교"
   ]
  },
  {
   "cell_type": "markdown",
   "id": "9e013159-d0f9-492d-bd48-4cb6d7f745e2",
   "metadata": {},
   "source": [
    "기울기 비교에 대한 가설 : $$H_0 : \\beta_{11} = \\beta_{12}, ~~ vs. ~~ H_1 : \\beta_{11} ≠ \\beta_{12}$$\n",
    "\n",
    "검정통계량 : $t_0$"
   ]
  },
  {
   "cell_type": "markdown",
   "id": "eefa3147-d6d9-47d9-b893-50671e4359a1",
   "metadata": {},
   "source": [
    "`-` `MSE_full` 계산 (귀무가설 하에서의 분산, 합동분산)"
   ]
  },
  {
   "cell_type": "code",
   "execution_count": 38,
   "id": "62319046-cfc4-414d-a4e8-95b3cb779588",
   "metadata": {},
   "outputs": [
    {
     "data": {
      "text/html": [
       "430.611170556405"
      ],
      "text/latex": [
       "430.611170556405"
      ],
      "text/markdown": [
       "430.611170556405"
      ],
      "text/plain": [
       "[1] 430.6112"
      ]
     },
     "metadata": {},
     "output_type": "display_data"
    }
   ],
   "source": [
    "MSE_full = SSE_full/(15+12-4)\n",
    "MSE_full"
   ]
  },
  {
   "cell_type": "markdown",
   "id": "fbf500f1-1c09-4dbe-af4e-2e85b9879f71",
   "metadata": {},
   "source": [
    "`-` 제곱합 계산"
   ]
  },
  {
   "cell_type": "code",
   "execution_count": 47,
   "id": "38d887e3-84c3-4e4e-8a5b-55cfc26d4ee2",
   "metadata": {},
   "outputs": [],
   "source": [
    "Sxx1 = sum(t(x1 - mean(x1))%*%(x1 - mean(x1)))  ## 또는 그냥 sum((x1 - mean(x1))**2)\n",
    "Sxx2 = sum((x2 - mean(x2))**2)  ## 솔직히 이게 더 짧긴 한데, 아무튼!"
   ]
  },
  {
   "cell_type": "markdown",
   "id": "441a6549-ba76-47ea-849f-838c7cc2a826",
   "metadata": {},
   "source": [
    "`-` $\\hat{Var}(\\hat{\\beta_{11}} - \\hat{\\beta_{12}})$ 계산"
   ]
  },
  {
   "cell_type": "code",
   "execution_count": 40,
   "id": "e736c60e-f174-4fef-a5c9-42f36fa0877e",
   "metadata": {},
   "outputs": [
    {
     "data": {
      "text/html": [
       "0.0165991615815918"
      ],
      "text/latex": [
       "0.0165991615815918"
      ],
      "text/markdown": [
       "0.0165991615815918"
      ],
      "text/plain": [
       "[1] 0.01659916"
      ]
     },
     "metadata": {},
     "output_type": "display_data"
    }
   ],
   "source": [
    "var_hat = MSE_full * (1/Sxx1 + 1/Sxx2)\n",
    "var_hat"
   ]
  },
  {
   "cell_type": "markdown",
   "id": "136ba363-4a15-4505-9b4f-7a9b13d0480b",
   "metadata": {},
   "source": [
    "`-` 검정통계량 산출"
   ]
  },
  {
   "cell_type": "code",
   "execution_count": 48,
   "id": "e5cbb9c3-c98a-49e6-b409-9b148644f716",
   "metadata": {},
   "outputs": [
    {
     "data": {
      "text/html": [
       "<strong>x:</strong> -1.37119322803213"
      ],
      "text/latex": [
       "\\textbf{x:} -1.37119322803213"
      ],
      "text/markdown": [
       "**x:** -1.37119322803213"
      ],
      "text/plain": [
       "        x \n",
       "-1.371193 "
      ]
     },
     "metadata": {},
     "output_type": "display_data"
    }
   ],
   "source": [
    "t0 = (full_model1$coefficients[2] - full_model2$coefficients[2])/sqrt(var_hat)  ## 귀무가설 하에서 t분포\n",
    "t0"
   ]
  },
  {
   "cell_type": "markdown",
   "id": "78895d4e-0b3d-41e2-ad88-347b2e8e1020",
   "metadata": {},
   "source": [
    "`-` `p-value` 산출"
   ]
  },
  {
   "cell_type": "code",
   "execution_count": 49,
   "id": "3e07a3bc-9199-4069-9c04-8294b5827924",
   "metadata": {},
   "outputs": [
    {
     "data": {
      "text/html": [
       "<strong>x:</strong> 0.183546301294593"
      ],
      "text/latex": [
       "\\textbf{x:} 0.183546301294593"
      ],
      "text/markdown": [
       "**x:** 0.183546301294593"
      ],
      "text/plain": [
       "        x \n",
       "0.1835463 "
      ]
     },
     "metadata": {},
     "output_type": "display_data"
    }
   ],
   "source": [
    "2*pt(t0, 15+12-4)  ## p-value, 더 극단적인 값이 나올 확률"
   ]
  },
  {
   "cell_type": "markdown",
   "id": "4810af85-1776-44d2-a6da-f72742c917ef",
   "metadata": {},
   "source": [
    "`-` `critical value` 산출"
   ]
  },
  {
   "cell_type": "code",
   "execution_count": 52,
   "id": "501bd990-5a38-45d2-a9c1-62d92322949d",
   "metadata": {},
   "outputs": [
    {
     "data": {
      "text/html": [
       "2.06865761041905"
      ],
      "text/latex": [
       "2.06865761041905"
      ],
      "text/markdown": [
       "2.06865761041905"
      ],
      "text/plain": [
       "[1] 2.068658"
      ]
     },
     "metadata": {},
     "output_type": "display_data"
    }
   ],
   "source": [
    "qt(0.025, 15+12-4, lower.tail = FALSE)  ## 유의수준 0.05에서의 critical value(양측검정)"
   ]
  },
  {
   "cell_type": "markdown",
   "id": "3b23c8f1-6938-4fbe-a4ce-f611a178b2d6",
   "metadata": {},
   "source": [
    "> 결론 : $|t_0| = 1.3712 < t_{0.025}(23) = 2.069$이므로, 유의수준 $\\alpha = 0.05$에서 귀무가설을 기각할 수 없다. 즉, 두 모델의 기울기가 다르다고 할 수 없다."
   ]
  },
  {
   "cell_type": "markdown",
   "id": "1d783507-8e46-4d94-8f03-a0f684947ec1",
   "metadata": {},
   "source": [
    "## 4. Box-Cox 변환"
   ]
  },
  {
   "cell_type": "markdown",
   "id": "70f9f45d-b833-44c3-945b-d48d4bad2e02",
   "metadata": {},
   "source": [
    "$y = exp(\\beta_0 + \\beta_1 x + \\epsilon) \\to log(y) = \\beta_0 + \\beta_1 x + \\epsilon$"
   ]
  },
  {
   "cell_type": "code",
   "execution_count": 53,
   "id": "c2e209db-063b-4db0-ae67-727de8fb9832",
   "metadata": {},
   "outputs": [
    {
     "data": {
      "image/png": "[encoded data removed]",
      "text/plain": [
       "plot without title"
      ]
     },
     "metadata": {
      "image/png": {
       "height": 480,
       "width": 900
      }
     },
     "output_type": "display_data"
    }
   ],
   "source": [
    "set.seed(1234)\n",
    "\n",
    "n = 100\n",
    "beta0 = 1\n",
    "beta1 = 0.7\n",
    "\n",
    "e = rnorm(n, 0, sqrt(0.1))\n",
    "x = runif(n, 0, 5)\n",
    "y = exp(beta0 + beta1 * x + e)\n",
    "\n",
    "plot(y~x, pch = 16)"
   ]
  },
  {
   "cell_type": "markdown",
   "id": "f5dbf72a-4db4-4d04-85c8-e1882c12e767",
   "metadata": {},
   "source": [
    "`-` Box Cox Transformation"
   ]
  },
  {
   "cell_type": "code",
   "execution_count": 54,
   "id": "88022403-2f84-4444-8512-33c37427745e",
   "metadata": {},
   "outputs": [
    {
     "data": {
      "image/png": "[encoded data removed]",
      "text/plain": [
       "plot without title"
      ]
     },
     "metadata": {
      "image/png": {
       "height": 480,
       "width": 900
      }
     },
     "output_type": "display_data"
    }
   ],
   "source": [
    "MASS::boxcox(y~x)"
   ]
  },
  {
   "cell_type": "markdown",
   "id": "b7f346f8-8981-4da1-8c13-1a792923b0f5",
   "metadata": {},
   "source": [
    "> LL의 값이 가장 높은 $\\lambda$를 택하여 변환해줘야 한다(양옆은 신뢰구간)\n",
    ">\n",
    "> 다만... 신뢰구간이 0을 포함하고 있어 로그변환을 해도 문제가 없다."
   ]
  },
  {
   "cell_type": "code",
   "execution_count": 58,
   "id": "ac1aea3b-5290-4ba8-b3e8-b95052fa925f",
   "metadata": {},
   "outputs": [
    {
     "data": {
      "text/html": [
       "<style>\n",
       ".list-inline {list-style: none; margin:0; padding: 0}\n",
       ".list-inline>li {display: inline-block}\n",
       ".list-inline>li:not(:last-child)::after {content: \"\\00b7\"; padding: 0 .5ex}\n",
       "</style>\n",
       "<ol class=list-inline><li>'x'</li><li>'y'</li></ol>\n"
      ],
      "text/latex": [
       "\\begin{enumerate*}\n",
       "\\item 'x'\n",
       "\\item 'y'\n",
       "\\end{enumerate*}\n"
      ],
      "text/markdown": [
       "1. 'x'\n",
       "2. 'y'\n",
       "\n",
       "\n"
      ],
      "text/plain": [
       "[1] \"x\" \"y\""
      ]
     },
     "metadata": {},
     "output_type": "display_data"
    }
   ],
   "source": [
    "a <- MASS::boxcox(y~x, plotit = F)\n",
    "ls(a)"
   ]
  },
  {
   "cell_type": "code",
   "execution_count": 59,
   "id": "7a0c73f0-eb10-4510-af09-e06cdea2db8c",
   "metadata": {},
   "outputs": [
    {
     "data": {
      "text/html": [
       "<style>\n",
       ".list-inline {list-style: none; margin:0; padding: 0}\n",
       ".list-inline>li {display: inline-block}\n",
       ".list-inline>li:not(:last-child)::after {content: \"\\00b7\"; padding: 0 .5ex}\n",
       "</style>\n",
       "<ol class=list-inline><li>-2</li><li>-1.9</li><li>-1.8</li><li>-1.7</li><li>-1.6</li><li>-1.5</li><li>-1.4</li><li>-1.3</li><li>-1.2</li><li>-1.1</li><li>-1</li><li>-0.9</li><li>-0.8</li><li>-0.7</li><li>-0.6</li><li>-0.5</li><li>-0.4</li><li>-0.3</li><li>-0.2</li><li>-0.0999999999999999</li><li>0</li><li>0.1</li><li>0.2</li><li>0.3</li><li>0.4</li><li>0.5</li><li>0.6</li><li>0.7</li><li>0.8</li><li>0.9</li><li>1</li><li>1.1</li><li>1.2</li><li>1.3</li><li>1.4</li><li>1.5</li><li>1.6</li><li>1.7</li><li>1.8</li><li>1.9</li><li>2</li></ol>\n"
      ],
      "text/latex": [
       "\\begin{enumerate*}\n",
       "\\item -2\n",
       "\\item -1.9\n",
       "\\item -1.8\n",
       "\\item -1.7\n",
       "\\item -1.6\n",
       "\\item -1.5\n",
       "\\item -1.4\n",
       "\\item -1.3\n",
       "\\item -1.2\n",
       "\\item -1.1\n",
       "\\item -1\n",
       "\\item -0.9\n",
       "\\item -0.8\n",
       "\\item -0.7\n",
       "\\item -0.6\n",
       "\\item -0.5\n",
       "\\item -0.4\n",
       "\\item -0.3\n",
       "\\item -0.2\n",
       "\\item -0.0999999999999999\n",
       "\\item 0\n",
       "\\item 0.1\n",
       "\\item 0.2\n",
       "\\item 0.3\n",
       "\\item 0.4\n",
       "\\item 0.5\n",
       "\\item 0.6\n",
       "\\item 0.7\n",
       "\\item 0.8\n",
       "\\item 0.9\n",
       "\\item 1\n",
       "\\item 1.1\n",
       "\\item 1.2\n",
       "\\item 1.3\n",
       "\\item 1.4\n",
       "\\item 1.5\n",
       "\\item 1.6\n",
       "\\item 1.7\n",
       "\\item 1.8\n",
       "\\item 1.9\n",
       "\\item 2\n",
       "\\end{enumerate*}\n"
      ],
      "text/markdown": [
       "1. -2\n",
       "2. -1.9\n",
       "3. -1.8\n",
       "4. -1.7\n",
       "5. -1.6\n",
       "6. -1.5\n",
       "7. -1.4\n",
       "8. -1.3\n",
       "9. -1.2\n",
       "10. -1.1\n",
       "11. -1\n",
       "12. -0.9\n",
       "13. -0.8\n",
       "14. -0.7\n",
       "15. -0.6\n",
       "16. -0.5\n",
       "17. -0.4\n",
       "18. -0.3\n",
       "19. -0.2\n",
       "20. -0.0999999999999999\n",
       "21. 0\n",
       "22. 0.1\n",
       "23. 0.2\n",
       "24. 0.3\n",
       "25. 0.4\n",
       "26. 0.5\n",
       "27. 0.6\n",
       "28. 0.7\n",
       "29. 0.8\n",
       "30. 0.9\n",
       "31. 1\n",
       "32. 1.1\n",
       "33. 1.2\n",
       "34. 1.3\n",
       "35. 1.4\n",
       "36. 1.5\n",
       "37. 1.6\n",
       "38. 1.7\n",
       "39. 1.8\n",
       "40. 1.9\n",
       "41. 2\n",
       "\n",
       "\n"
      ],
      "text/plain": [
       " [1] -2.0 -1.9 -1.8 -1.7 -1.6 -1.5 -1.4 -1.3 -1.2 -1.1 -1.0 -0.9 -0.8 -0.7 -0.6\n",
       "[16] -0.5 -0.4 -0.3 -0.2 -0.1  0.0  0.1  0.2  0.3  0.4  0.5  0.6  0.7  0.8  0.9\n",
       "[31]  1.0  1.1  1.2  1.3  1.4  1.5  1.6  1.7  1.8  1.9  2.0"
      ]
     },
     "metadata": {},
     "output_type": "display_data"
    }
   ],
   "source": [
    "a$x  ## 해당 간격으로 lambda 값을 검증했음."
   ]
  },
  {
   "cell_type": "code",
   "execution_count": 60,
   "id": "cf43070b-1b6d-49f6-9934-9b6cc7b6d9a9",
   "metadata": {},
   "outputs": [
    {
     "data": {
      "text/html": [
       "<style>\n",
       ".list-inline {list-style: none; margin:0; padding: 0}\n",
       ".list-inline>li {display: inline-block}\n",
       ".list-inline>li:not(:last-child)::after {content: \"\\00b7\"; padding: 0 .5ex}\n",
       "</style>\n",
       "<ol class=list-inline><li>-328.142528795994</li><li>-313.90841076915</li><li>-299.837871147177</li><li>-285.933106208397</li><li>-272.195687160744</li><li>-258.626749093787</li><li>-245.227431559462</li><li>-231.999735519829</li><li>-218.948057259791</li><li>-206.081807871738</li><li>-193.419747776864</li><li>-180.996972688044</li><li>-168.875849629765</li><li>-157.162444434787</li><li>-146.029561134826</li><li>-135.745137137347</li><li>-126.698182427396</li><li>-119.402156235604</li><li>-114.443195780829</li><li>-112.349652665819</li><li>-113.414882849998</li><li>-117.577085513408</li><li>-124.448749699359</li><li>-133.471563431934</li><li>-144.085157403294</li><li>-155.828256211652</li><li>-168.366053327749</li><li>-181.475159638869</li><li>-195.015107782098</li><li>-208.901441584045</li><li>-223.085163040242</li><li>-237.538568271011</li><li>-252.246052330273</li><li>-267.198383231103</li><li>-282.389267610983</li><li>-297.813381733325</li><li>-313.465317818076</li><li>-329.339089198631</li><li>-345.427966531063</li><li>-361.724500983105</li><li>-378.220644289132</li></ol>\n"
      ],
      "text/latex": [
       "\\begin{enumerate*}\n",
       "\\item -328.142528795994\n",
       "\\item -313.90841076915\n",
       "\\item -299.837871147177\n",
       "\\item -285.933106208397\n",
       "\\item -272.195687160744\n",
       "\\item -258.626749093787\n",
       "\\item -245.227431559462\n",
       "\\item -231.999735519829\n",
       "\\item -218.948057259791\n",
       "\\item -206.081807871738\n",
       "\\item -193.419747776864\n",
       "\\item -180.996972688044\n",
       "\\item -168.875849629765\n",
       "\\item -157.162444434787\n",
       "\\item -146.029561134826\n",
       "\\item -135.745137137347\n",
       "\\item -126.698182427396\n",
       "\\item -119.402156235604\n",
       "\\item -114.443195780829\n",
       "\\item -112.349652665819\n",
       "\\item -113.414882849998\n",
       "\\item -117.577085513408\n",
       "\\item -124.448749699359\n",
       "\\item -133.471563431934\n",
       "\\item -144.085157403294\n",
       "\\item -155.828256211652\n",
       "\\item -168.366053327749\n",
       "\\item -181.475159638869\n",
       "\\item -195.015107782098\n",
       "\\item -208.901441584045\n",
       "\\item -223.085163040242\n",
       "\\item -237.538568271011\n",
       "\\item -252.246052330273\n",
       "\\item -267.198383231103\n",
       "\\item -282.389267610983\n",
       "\\item -297.813381733325\n",
       "\\item -313.465317818076\n",
       "\\item -329.339089198631\n",
       "\\item -345.427966531063\n",
       "\\item -361.724500983105\n",
       "\\item -378.220644289132\n",
       "\\end{enumerate*}\n"
      ],
      "text/markdown": [
       "1. -328.142528795994\n",
       "2. -313.90841076915\n",
       "3. -299.837871147177\n",
       "4. -285.933106208397\n",
       "5. -272.195687160744\n",
       "6. -258.626749093787\n",
       "7. -245.227431559462\n",
       "8. -231.999735519829\n",
       "9. -218.948057259791\n",
       "10. -206.081807871738\n",
       "11. -193.419747776864\n",
       "12. -180.996972688044\n",
       "13. -168.875849629765\n",
       "14. -157.162444434787\n",
       "15. -146.029561134826\n",
       "16. -135.745137137347\n",
       "17. -126.698182427396\n",
       "18. -119.402156235604\n",
       "19. -114.443195780829\n",
       "20. -112.349652665819\n",
       "21. -113.414882849998\n",
       "22. -117.577085513408\n",
       "23. -124.448749699359\n",
       "24. -133.471563431934\n",
       "25. -144.085157403294\n",
       "26. -155.828256211652\n",
       "27. -168.366053327749\n",
       "28. -181.475159638869\n",
       "29. -195.015107782098\n",
       "30. -208.901441584045\n",
       "31. -223.085163040242\n",
       "32. -237.538568271011\n",
       "33. -252.246052330273\n",
       "34. -267.198383231103\n",
       "35. -282.389267610983\n",
       "36. -297.813381733325\n",
       "37. -313.465317818076\n",
       "38. -329.339089198631\n",
       "39. -345.427966531063\n",
       "40. -361.724500983105\n",
       "41. -378.220644289132\n",
       "\n",
       "\n"
      ],
      "text/plain": [
       " [1] -328.1425 -313.9084 -299.8379 -285.9331 -272.1957 -258.6267 -245.2274\n",
       " [8] -231.9997 -218.9481 -206.0818 -193.4197 -180.9970 -168.8758 -157.1624\n",
       "[15] -146.0296 -135.7451 -126.6982 -119.4022 -114.4432 -112.3497 -113.4149\n",
       "[22] -117.5771 -124.4487 -133.4716 -144.0852 -155.8283 -168.3661 -181.4752\n",
       "[29] -195.0151 -208.9014 -223.0852 -237.5386 -252.2461 -267.1984 -282.3893\n",
       "[36] -297.8134 -313.4653 -329.3391 -345.4280 -361.7245 -378.2206"
      ]
     },
     "metadata": {},
     "output_type": "display_data"
    }
   ],
   "source": [
    "a$y  ## likelihood"
   ]
  },
  {
   "cell_type": "code",
   "execution_count": 61,
   "id": "8c009385-0646-480f-9c5a-6dfd9a084db0",
   "metadata": {},
   "outputs": [],
   "source": [
    "lambda <- a$x[which.max(a$y)]"
   ]
  },
  {
   "cell_type": "code",
   "execution_count": 62,
   "id": "5a76de6b-84b8-4d96-8aad-6b96ed2d9141",
   "metadata": {},
   "outputs": [],
   "source": [
    "boxcox_y = (y**lambda - 1)/lambda  ## box cox transformation. when lambda is not 0"
   ]
  },
  {
   "cell_type": "markdown",
   "id": "0c64a3c1-718f-4199-acc7-c8c08372c0a3",
   "metadata": {},
   "source": [
    "`-` 자연로그 변환과의 비교"
   ]
  },
  {
   "cell_type": "code",
   "execution_count": 63,
   "id": "ab1f08ae-f328-40ff-816b-c967fb93248a",
   "metadata": {},
   "outputs": [
    {
     "data": {
      "image/png": "[encoded data removed]",
      "text/plain": [
       "plot without title"
      ]
     },
     "metadata": {
      "image/png": {
       "height": 480,
       "width": 900
      }
     },
     "output_type": "display_data"
    }
   ],
   "source": [
    "plot(y,log(y), pch=16, ylab=\"transformation\")\n",
    "points(y,boxcox_y, col='red', pch=16)\n",
    "legend(\"topleft\", c(\"log\", paste0(\"lambda=\",round(lambda,3))), pch=16, col=1:2)"
   ]
  },
  {
   "cell_type": "code",
   "execution_count": 64,
   "id": "f854f438-2f66-4916-995d-a855e1fac8b9",
   "metadata": {},
   "outputs": [
    {
     "data": {
      "image/png": "[encoded data removed]",
      "text/plain": [
       "plot without title"
      ]
     },
     "metadata": {
      "image/png": {
       "height": 480,
       "width": 900
      }
     },
     "output_type": "display_data"
    }
   ],
   "source": [
    "par(mfrow=c(1,3))\n",
    "plot(x,y,pch=16)\n",
    "plot(x,log(y),pch=16)\n",
    "plot(x, boxcox_y, pch=16)\n"
   ]
  },
  {
   "cell_type": "markdown",
   "id": "bc99f05e-c089-43fe-82ad-6178e12abb42",
   "metadata": {},
   "source": [
    "> 큰 차이는 없다."
   ]
  },
  {
   "cell_type": "markdown",
   "id": "f7e5f9e0-e00f-4481-bdea-3986888cd45f",
   "metadata": {},
   "source": [
    "`-` log 변환"
   ]
  },
  {
   "cell_type": "code",
   "execution_count": 65,
   "id": "3874f272-291b-4d37-8fa3-bee77cb95c16",
   "metadata": {},
   "outputs": [
    {
     "data": {
      "text/plain": [
       "\n",
       "Call:\n",
       "lm(formula = log_y ~ x)\n",
       "\n",
       "Residuals:\n",
       "     Min       1Q   Median       3Q      Max \n",
       "-0.63464 -0.25116 -0.04324  0.21480  0.88889 \n",
       "\n",
       "Coefficients:\n",
       "            Estimate Std. Error t value Pr(>|t|)    \n",
       "(Intercept)   1.0586     0.0674   15.71   <2e-16 ***\n",
       "x             0.6568     0.0238   27.60   <2e-16 ***\n",
       "---\n",
       "Signif. codes:  0 '***' 0.001 '**' 0.01 '*' 0.05 '.' 0.1 ' ' 1\n",
       "\n",
       "Residual standard error: 0.314 on 98 degrees of freedom\n",
       "Multiple R-squared:  0.886,\tAdjusted R-squared:  0.8848 \n",
       "F-statistic: 761.7 on 1 and 98 DF,  p-value: < 2.2e-16\n"
      ]
     },
     "metadata": {},
     "output_type": "display_data"
    }
   ],
   "source": [
    "log_y = log(y)\n",
    "fit <- lm(log_y ~ x)\n",
    "summary(fit)"
   ]
  },
  {
   "cell_type": "code",
   "execution_count": 66,
   "id": "7b56a166-741d-4541-8100-f13158a20b8b",
   "metadata": {},
   "outputs": [
    {
     "data": {
      "image/png": "[encoded data removed]",
      "text/plain": [
       "plot without title"
      ]
     },
     "metadata": {
      "image/png": {
       "height": 480,
       "width": 900
      }
     },
     "output_type": "display_data"
    }
   ],
   "source": [
    "fitted_logy = fitted(fit)  ## fitted() : 파이썬에서의 predict(X)와 유사\n",
    "plot(x,log_y, pch=16)\n",
    "abline(fit, col='red')"
   ]
  },
  {
   "cell_type": "markdown",
   "id": "35cb3265-b40b-4d30-bd0e-9fa41823c2e5",
   "metadata": {},
   "source": [
    "* 우리는 실제로 `y`를 알고 싶은 것이기에, 역변환을 해줘야 한다."
   ]
  },
  {
   "cell_type": "code",
   "execution_count": 67,
   "id": "bbbaa7c7-4518-4b13-accf-e03a127ccc2c",
   "metadata": {},
   "outputs": [
    {
     "data": {
      "text/html": [
       "<table class=\"dataframe\">\n",
       "<caption>A matrix: 6 × 5 of type dbl</caption>\n",
       "<thead>\n",
       "\t<tr><th></th><th scope=col>x</th><th scope=col>y</th><th scope=col>fitted_y</th><th scope=col>log_y</th><th scope=col>fitted_logy</th></tr>\n",
       "</thead>\n",
       "<tbody>\n",
       "\t<tr><th scope=row>1</th><td>3.303773</td><td>18.74512</td><td>25.244870</td><td>2.930934</td><td>3.228623</td></tr>\n",
       "\t<tr><th scope=row>2</th><td>2.641797</td><td>18.85897</td><td>16.343318</td><td>2.936989</td><td>2.793819</td></tr>\n",
       "\t<tr><th scope=row>3</th><td>1.587469</td><td>11.63664</td><td> 8.176861</td><td>2.454159</td><td>2.101308</td></tr>\n",
       "\t<tr><th scope=row>4</th><td>3.839277</td><td>19.02434</td><td>35.886332</td><td>2.945719</td><td>3.580357</td></tr>\n",
       "\t<tr><th scope=row>5</th><td>2.631542</td><td>19.64418</td><td>16.233609</td><td>2.977781</td><td>2.787084</td></tr>\n",
       "\t<tr><th scope=row>6</th><td>3.661509</td><td>41.39191</td><td>31.931525</td><td>3.723086</td><td>3.463594</td></tr>\n",
       "</tbody>\n",
       "</table>\n"
      ],
      "text/latex": [
       "A matrix: 6 × 5 of type dbl\n",
       "\\begin{tabular}{r|lllll}\n",
       "  & x & y & fitted\\_y & log\\_y & fitted\\_logy\\\\\n",
       "\\hline\n",
       "\t1 & 3.303773 & 18.74512 & 25.244870 & 2.930934 & 3.228623\\\\\n",
       "\t2 & 2.641797 & 18.85897 & 16.343318 & 2.936989 & 2.793819\\\\\n",
       "\t3 & 1.587469 & 11.63664 &  8.176861 & 2.454159 & 2.101308\\\\\n",
       "\t4 & 3.839277 & 19.02434 & 35.886332 & 2.945719 & 3.580357\\\\\n",
       "\t5 & 2.631542 & 19.64418 & 16.233609 & 2.977781 & 2.787084\\\\\n",
       "\t6 & 3.661509 & 41.39191 & 31.931525 & 3.723086 & 3.463594\\\\\n",
       "\\end{tabular}\n"
      ],
      "text/markdown": [
       "\n",
       "A matrix: 6 × 5 of type dbl\n",
       "\n",
       "| <!--/--> | x | y | fitted_y | log_y | fitted_logy |\n",
       "|---|---|---|---|---|---|\n",
       "| 1 | 3.303773 | 18.74512 | 25.244870 | 2.930934 | 3.228623 |\n",
       "| 2 | 2.641797 | 18.85897 | 16.343318 | 2.936989 | 2.793819 |\n",
       "| 3 | 1.587469 | 11.63664 |  8.176861 | 2.454159 | 2.101308 |\n",
       "| 4 | 3.839277 | 19.02434 | 35.886332 | 2.945719 | 3.580357 |\n",
       "| 5 | 2.631542 | 19.64418 | 16.233609 | 2.977781 | 2.787084 |\n",
       "| 6 | 3.661509 | 41.39191 | 31.931525 | 3.723086 | 3.463594 |\n",
       "\n"
      ],
      "text/plain": [
       "  x        y        fitted_y  log_y    fitted_logy\n",
       "1 3.303773 18.74512 25.244870 2.930934 3.228623   \n",
       "2 2.641797 18.85897 16.343318 2.936989 2.793819   \n",
       "3 1.587469 11.63664  8.176861 2.454159 2.101308   \n",
       "4 3.839277 19.02434 35.886332 2.945719 3.580357   \n",
       "5 2.631542 19.64418 16.233609 2.977781 2.787084   \n",
       "6 3.661509 41.39191 31.931525 3.723086 3.463594   "
      ]
     },
     "metadata": {},
     "output_type": "display_data"
    }
   ],
   "source": [
    "fitted_y = exp(fitted(fit))\n",
    "head(cbind(x,y,fitted_y, log_y, fitted_logy))"
   ]
  },
  {
   "cell_type": "code",
   "execution_count": 68,
   "id": "4d02b223-5831-4fa5-a7e6-c97f624a6f9b",
   "metadata": {},
   "outputs": [
    {
     "data": {
      "image/png": "[encoded data removed]",
      "text/plain": [
       "plot without title"
      ]
     },
     "metadata": {
      "image/png": {
       "height": 480,
       "width": 900
      }
     },
     "output_type": "display_data"
    }
   ],
   "source": [
    "plot_x = seq(0,5,0.01)\n",
    "plot_y = exp(predict(fit, newdata=data.frame(x=plot_x)))\n",
    "plot(x,y, pch=16)\n",
    "lines(plot_x, plot_y, col='red', lwd=2)"
   ]
  },
  {
   "cell_type": "markdown",
   "id": "70794f82-615d-42fe-9265-0f92ce4b4a1d",
   "metadata": {},
   "source": [
    "> 역변환한 예측값으로 회귀선을 그려보면 나름 잘 되어있다는 것을 알 수 있다."
   ]
  }
 ],
 "metadata": {
  "kernelspec": {
   "display_name": "R",
   "language": "R",
   "name": "ir"
  },
  "language_info": {
   "codemirror_mode": "r",
   "file_extension": ".r",
   "mimetype": "text/x-r-source",
   "name": "R",
   "pygments_lexer": "r",
   "version": "4.3.2"
  }
 },
 "nbformat": 4,
 "nbformat_minor": 5
}
