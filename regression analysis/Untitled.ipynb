{
 "cells": [
  {
   "cell_type": "markdown",
   "id": "6eb026fe-23e0-4cdc-8942-bdd2be77afbe",
   "metadata": {},
   "source": [
    "## 회귀분석 1 실습"
   ]
  },
  {
   "cell_type": "markdown",
   "id": "d15dbce7-8af7-42cb-b5e4-c97f4b5aa1fc",
   "metadata": {},
   "source": [
    "### **CH3 | 아버지와 아들의 키 데이터**"
   ]
  },
  {
   "cell_type": "code",
   "execution_count": 2,
   "id": "7d5c1c5e-f4f8-4257-ae06-cc6e10024804",
   "metadata": {},
   "outputs": [],
   "source": [
    "options(repr.plot.width = 12, repr.plot.height = 6)"
   ]
  },
  {
   "cell_type": "code",
   "execution_count": 1,
   "id": "5a5d608c-3f35-4276-a1ec-832d888d3e59",
   "metadata": {},
   "outputs": [
    {
     "name": "stdout",
     "output_type": "stream",
     "text": [
      "\n",
      "  There is a binary version available but the source version is later:\n",
      "       binary source needs_compilation\n",
      "UsingR  2.0-6  2.0-7             FALSE\n",
      "\n"
     ]
    },
    {
     "name": "stderr",
     "output_type": "stream",
     "text": [
      "installing the source package 'UsingR'\n",
      "\n",
      "Warning message in install.packages(\"UsingR\"):\n",
      "\"installation of package 'UsingR' had non-zero exit status\""
     ]
    }
   ],
   "source": [
    "install.packages('UsingR')"
   ]
  },
  {
   "cell_type": "code",
   "execution_count": 4,
   "id": "609830d1-383c-47a7-9495-b1acf4c53be8",
   "metadata": {},
   "outputs": [
    {
     "ename": "ERROR",
     "evalue": "Error in library(UsingR): there is no package called 'UsingR'\n",
     "output_type": "error",
     "traceback": [
      "Error in library(UsingR): there is no package called 'UsingR'\nTraceback:\n",
      "1. library(UsingR)"
     ]
    }
   ],
   "source": [
    "library(UsingR)"
   ]
  },
  {
   "cell_type": "code",
   "execution_count": null,
   "id": "096f38a8-f472-4c33-b621-526fb047298d",
   "metadata": {},
   "outputs": [],
   "source": []
  }
 ],
 "metadata": {
  "kernelspec": {
   "display_name": "R",
   "language": "R",
   "name": "ir"
  },
  "language_info": {
   "codemirror_mode": "r",
   "file_extension": ".r",
   "mimetype": "text/x-r-source",
   "name": "R",
   "pygments_lexer": "r",
   "version": "3.6.1"
  }
 },
 "nbformat": 4,
 "nbformat_minor": 5
}
