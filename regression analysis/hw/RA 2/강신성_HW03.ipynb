{
 "cells": [
  {
   "cell_type": "markdown",
   "id": "603415b3-8eaf-4af0-8801-d866ed224b1d",
   "metadata": {},
   "source": [
    "## <center>회귀분석 2 HW03</center>\n",
    "\n",
    "**<p style=\"text-align:right;font-size:15px\">202014107 <br> 통계학과 <br> 강신성</p>**\n",
    "\n",
    "### CH09, 10, 11"
   ]
  },
  {
   "cell_type": "markdown",
   "id": "ff6d9e8d-559c-4a4d-9e3b-873417a3d058",
   "metadata": {},
   "source": [
    "`-` 데이터 및 라이브러리 불러오기"
   ]
  },
  {
   "cell_type": "code",
   "execution_count": 19,
   "id": "802c4d2d-c62a-4872-8f65-7a12eaa80bfa",
   "metadata": {},
   "outputs": [],
   "source": [
    "setwd(\"~/R/regression analysis/data/\")\n",
    "library(ggplot2)\n",
    "library(lmtest)\n",
    "options(repr.plot.width = 15, repr.plot.height = 8)\n",
    "wine <- read.csv(\"wine38_2.csv\")\n",
    "dt1 <- read.csv(\"HW3_dt1.csv\")\n",
    "dt2 <- read.csv(\"HW3_dt2.csv\")"
   ]
  },
  {
   "cell_type": "markdown",
   "id": "351c975e-ea0c-474b-9670-0c715d5db714",
   "metadata": {},
   "source": [
    "**<p style=\"font-size:15px;text-indent:-15px;padding-left:15px\">  1. 피노 누아 와인의 품질은 투명도, 향, 바디, 맛, 오크향의 특성 그리고 지역과 관련이 있다고 생각된다. `wind38_2.csv` 파일은 38개 와인 데이터이다. Flavor와 Region변수를 이용하여 회귀 모형을 적합하려고 한다. 다음 물음에 답하여라. (주의 : Region 변수는 정수형 변수로 입력되어 있음.)</p>**"
   ]
  },
  {
   "cell_type": "markdown",
   "id": "d75880f6-5d9f-49ec-b80d-a591b2920545",
   "metadata": {},
   "source": [
    "<p style=\"text-indent:15px\">(1) 모형을 정의하여라. (회귀모형을 정의하고, 회귀모형에서 사용한 변수 설명 또는 정의)</p>"
   ]
  },
  {
   "cell_type": "code",
   "execution_count": 12,
   "id": "b371f797-a47a-47ac-b698-679eac982929",
   "metadata": {},
   "outputs": [
    {
     "data": {
      "text/html": [
       "<style>\n",
       ".list-inline {list-style: none; margin:0; padding: 0}\n",
       ".list-inline>li {display: inline-block}\n",
       ".list-inline>li:not(:last-child)::after {content: \"\\00b7\"; padding: 0 .5ex}\n",
       "</style>\n",
       "<ol class=list-inline><li>1</li><li>3</li><li>2</li></ol>\n"
      ],
      "text/latex": [
       "\\begin{enumerate*}\n",
       "\\item 1\n",
       "\\item 3\n",
       "\\item 2\n",
       "\\end{enumerate*}\n"
      ],
      "text/markdown": [
       "1. 1\n",
       "2. 3\n",
       "3. 2\n",
       "\n",
       "\n"
      ],
      "text/plain": [
       "[1] 1 3 2"
      ]
     },
     "metadata": {},
     "output_type": "display_data"
    }
   ],
   "source": [
    "unique(wine$Region)"
   ]
  },
  {
   "cell_type": "code",
   "execution_count": 16,
   "id": "a94bdd91-b602-49e8-9d9b-bced87475d92",
   "metadata": {},
   "outputs": [
    {
     "data": {
      "text/html": [
       "<table class=\"dataframe\">\n",
       "<caption>A matrix: 3 × 2 of type dbl</caption>\n",
       "<thead>\n",
       "\t<tr><th></th><th scope=col>2</th><th scope=col>3</th></tr>\n",
       "</thead>\n",
       "<tbody>\n",
       "\t<tr><th scope=row>1</th><td>0</td><td>0</td></tr>\n",
       "\t<tr><th scope=row>2</th><td>1</td><td>0</td></tr>\n",
       "\t<tr><th scope=row>3</th><td>0</td><td>1</td></tr>\n",
       "</tbody>\n",
       "</table>\n"
      ],
      "text/latex": [
       "A matrix: 3 × 2 of type dbl\n",
       "\\begin{tabular}{r|ll}\n",
       "  & 2 & 3\\\\\n",
       "\\hline\n",
       "\t1 & 0 & 0\\\\\n",
       "\t2 & 1 & 0\\\\\n",
       "\t3 & 0 & 1\\\\\n",
       "\\end{tabular}\n"
      ],
      "text/markdown": [
       "\n",
       "A matrix: 3 × 2 of type dbl\n",
       "\n",
       "| <!--/--> | 2 | 3 |\n",
       "|---|---|---|\n",
       "| 1 | 0 | 0 |\n",
       "| 2 | 1 | 0 |\n",
       "| 3 | 0 | 1 |\n",
       "\n"
      ],
      "text/plain": [
       "  2 3\n",
       "1 0 0\n",
       "2 1 0\n",
       "3 0 1"
      ]
     },
     "metadata": {},
     "output_type": "display_data"
    }
   ],
   "source": [
    "wine$Region = as.factor(wine$Region)\n",
    "contrasts(wine$Region)"
   ]
  },
  {
   "cell_type": "markdown",
   "id": "53a5429d-59d3-4215-9afc-53a7fb3d8284",
   "metadata": {},
   "source": [
    "> 위 관계를 바탕으로 회귀모형을 정의하면 아래와 같다."
   ]
  },
  {
   "cell_type": "markdown",
   "id": "1e4cbcb0-28c7-4ff6-9cc3-db046ef259db",
   "metadata": {},
   "source": [
    "$$\\begin{align} & y_i = \\beta_0 + \\beta_1 x_{i1} + \\beta_2 x_{i2} + \\beta_3 x_{i3} \\epsilon_i, ~ \\epsilon_i \\overset{i.i.d}{\\sim} N(0, \\sigma^2), ~ i = 1, 2, \\cdots, n \\\\ \\\\ \n",
    "    & y : Quanlity \\\\\n",
    "    & x_1 : Flavor \\\\\n",
    "    & x_2 = \\begin{cases}\n",
    "        1, ~ Region = 2 \\\\\n",
    "        0, ~ Region \\neq 2\n",
    "    \\end{cases} \\\\\n",
    "    & x_3 = \\begin{cases}\n",
    "        1, ~ Region = 3 \\\\\n",
    "        0, ~ Region \\neq 3 \\\\\n",
    "    \\end{cases}\n",
    "    \\end{align}$$"
   ]
  },
  {
   "cell_type": "markdown",
   "id": "b0b3d52b-cf7d-4a31-9db6-4cc69b68c855",
   "metadata": {},
   "source": [
    "<p style=\"text-indent:15px\">(2) 회귀 모형을 적합하여라.</p>"
   ]
  },
  {
   "cell_type": "code",
   "execution_count": 18,
   "id": "441dd972-6fed-46f5-8c7c-ccc68d516e3c",
   "metadata": {},
   "outputs": [
    {
     "data": {
      "text/plain": [
       "\n",
       "Call:\n",
       "lm(formula = Quality ~ Flavor + Region, data = wine)\n",
       "\n",
       "Residuals:\n",
       "     Min       1Q   Median       3Q      Max \n",
       "-1.97630 -0.58844  0.02184  0.51572  1.94232 \n",
       "\n",
       "Coefficients:\n",
       "            Estimate Std. Error t value Pr(>|t|)    \n",
       "(Intercept)   7.0943     0.7912   8.967 1.76e-10 ***\n",
       "Flavor        1.1155     0.1738   6.417 2.49e-07 ***\n",
       "Region2      -1.5335     0.3688  -4.158 0.000205 ***\n",
       "Region3       1.2234     0.4003   3.056 0.004346 ** \n",
       "---\n",
       "Signif. codes:  0 ‘***’ 0.001 ‘**’ 0.01 ‘*’ 0.05 ‘.’ 0.1 ‘ ’ 1\n",
       "\n",
       "Residual standard error: 0.8946 on 34 degrees of freedom\n",
       "Multiple R-squared:  0.8242,\tAdjusted R-squared:  0.8087 \n",
       "F-statistic: 53.13 on 3 and 34 DF,  p-value: 6.358e-13\n"
      ]
     },
     "metadata": {},
     "output_type": "display_data"
    }
   ],
   "source": [
    "wine_model <- lm(Quality~Flavor+Region, wine)\n",
    "summary(wine_model)"
   ]
  },
  {
   "cell_type": "markdown",
   "id": "10f10bf6-cef5-45b8-af8f-c5d8fef432a7",
   "metadata": {},
   "source": [
    "`-` 적합된 회귀모형 : $\\hat y = 7.0943 + 1.1155 x_1 - 1.5335 x_2 + 1.2234 x_3$\n",
    "\n",
    "> F-statistics와 개별 회귀계수의 t-value에 대한 p-value가 모두 0.05보다 작으므로 통계적으로 유의미하다."
   ]
  },
  {
   "cell_type": "markdown",
   "id": "d37148ac-4726-48b8-ad16-790b36cd36fa",
   "metadata": {},
   "source": [
    "<p style=\"text-indent:15px\">(3) 회귀 계수의 의미를 설명하여라.</p>"
   ]
  },
  {
   "cell_type": "markdown",
   "id": "56ca0cfe-94c1-4d30-b0f7-fb629e02859c",
   "metadata": {},
   "source": [
    "* $\\beta_0 = 7.0943$ : 지역(Region) 1에서 생산한 와인은, Flavor가 0이면 품질은 7.0943이다.\n",
    "* $\\beta_1 = 1.1155$ : 지역 1에서 생산한 와인은, Flavor가 1만큼 증가하면 품질은 1.1155만큼 상승한다.\n",
    "* $\\beta_2 = -1.5335$ : 지역 2에서 생산한 와인은, 지역 1에서 생산한 것보다 평균적으로 품질이 1.5335만큼 낮다.\n",
    "* $\\beta_3 = 1.2234$ : 지역 3에서 생산한 와인은, 지역 1에서 생산한 것보다 평균적으로 품질이 1.2234만큼 높다."
   ]
  },
  {
   "cell_type": "markdown",
   "id": "4830af87-ba20-448d-94dd-e726b93fa891",
   "metadata": {},
   "source": [
    "<p style=\"text-indent:15px\">(4) Region이 와인 품질에 영향을 미친다고 할 수 있는가?</p>"
   ]
  },
  {
   "cell_type": "markdown",
   "id": "8d99cd25-3d77-46cc-b23a-f2891e1fba53",
   "metadata": {},
   "source": [
    "> Region에 따른 절편 변화값이 통계적으로 유의미하므로, 와인 품질에 영향을 미친다고 할 수 있다."
   ]
  },
  {
   "cell_type": "markdown",
   "id": "9dea6fb6-d05e-485c-b6eb-b24c3f03b3aa",
   "metadata": {},
   "source": [
    "<p style=\"text-indent:15px\">(5) 교호작용을 고려한 모델을 정의하여라.</p>"
   ]
  },
  {
   "cell_type": "markdown",
   "id": "065c19f5-2259-4017-a56e-1376a398e432",
   "metadata": {},
   "source": [
    "`-` Flavor와 Region간의 교호작용을 고려하면 아래와 같이 정의할 수 있다."
   ]
  },
  {
   "cell_type": "markdown",
   "id": "b4ffcf07-ce59-41ea-b1d7-3233badafa26",
   "metadata": {},
   "source": [
    "$$\\begin{align} y_i = \\beta_0 + & \\beta_1 x_{i1} + \\beta_2 x_{i2} + \\beta_3 x_{i3} + \\beta_{12} x_{i1} x_{i2} + \\beta_{13} x_{i1} x_{i3} +  \\epsilon_i, ~ \\epsilon_i \\overset{i.i.d}{\\sim} N(0, \\sigma^2), ~ i = 1, 2, \\cdots, n \\\\ \\\\ \n",
    "    & y : Quanlity \\\\\n",
    "    & x_1 : Flavor \\\\\n",
    "    & x_2 = \\begin{cases}\n",
    "        1, ~ Region = 2 \\\\\n",
    "        0, ~ Region \\neq 2\n",
    "    \\end{cases} \\\\\n",
    "    & x_3 = \\begin{cases}\n",
    "        1, ~ Region = 3 \\\\\n",
    "        0, ~ Region \\neq 3 \\\\\n",
    "    \\end{cases}\n",
    "    \\end{align}$$"
   ]
  },
  {
   "cell_type": "markdown",
   "id": "780e785c-a93f-41d9-b109-a421907d2c5d",
   "metadata": {},
   "source": [
    "<p style=\"padding-left:30px;text-indent:-15px\">(6) 교호작용을 고려한 모델을 적합하고, 적합결과를 설명하여라. (1)의 모형보다 더 좋아졌다고 할 수 있는가?</p>"
   ]
  },
  {
   "cell_type": "code",
   "execution_count": 23,
   "id": "76fba574-dd57-4027-b575-d8b77a6edc1c",
   "metadata": {},
   "outputs": [
    {
     "data": {
      "text/plain": [
       "\n",
       "Call:\n",
       "lm(formula = Quality ~ Flavor * Region, data = wine)\n",
       "\n",
       "Residuals:\n",
       "     Min       1Q   Median       3Q      Max \n",
       "-1.94964 -0.58463  0.04393  0.49607  1.97295 \n",
       "\n",
       "Coefficients:\n",
       "               Estimate Std. Error t value Pr(>|t|)    \n",
       "(Intercept)      6.7311     1.1292   5.961 1.22e-06 ***\n",
       "Flavor           1.1985     0.2532   4.733 4.31e-05 ***\n",
       "Region2         -2.8942     2.1183  -1.366    0.181    \n",
       "Region3          3.3833     2.0153   1.679    0.103    \n",
       "Flavor:Region2   0.3108     0.4766   0.652    0.519    \n",
       "Flavor:Region3  -0.4029     0.3878  -1.039    0.307    \n",
       "---\n",
       "Signif. codes:  0 ‘***’ 0.001 ‘**’ 0.01 ‘*’ 0.05 ‘.’ 0.1 ‘ ’ 1\n",
       "\n",
       "Residual standard error: 0.8914 on 32 degrees of freedom\n",
       "Multiple R-squared:  0.8357,\tAdjusted R-squared:  0.8101 \n",
       "F-statistic: 32.56 on 5 and 32 DF,  p-value: 1.179e-11\n"
      ]
     },
     "metadata": {},
     "output_type": "display_data"
    }
   ],
   "source": [
    "wine_model_interact <- lm(Quality~Flavor*Region, wine)\n",
    "summary(wine_model_interact)"
   ]
  },
  {
   "cell_type": "markdown",
   "id": "7166d1d7-6ff4-4d8f-ab13-95d77d501201",
   "metadata": {},
   "source": [
    "`-` 적합된 회귀모형 : $\\hat y = 6.7311 + 1.1985 x_1 - 2.8942 x_2 + 3.3833 x_3 + 0.3108 x_1 x_2 - 0.4029 x_1 x_3$\n",
    "\n",
    "적합 결과를 지역에 따라서 분류하면 아래와 같다.\n",
    "\n",
    "* $\\widehat{E(y|Region = 1)} = 6.7311 + 1.1985 x_1$\n",
    "> 지역 1에서 생산된 와인은 Flavor가 0일 때 품질이 6.7311이고, Flavor가 1 증가할 때 품질은 1.1985만큼 높아진다.\n",
    "\n",
    "* $\\widehat{E(y|Region = 2)} = 6.7311 + 1.1985 x_1 - 2.8942 + 0.3108 x_1 = 3.8369 + 1.5093 x_1$\n",
    "> 지역 2에서 생산된 와인은 Flavor가 0일 때 지역 1에서 생산된 와인보다 품질이 2.8942만큼 더 낮고, Flavor가 1증가할 때 높아지는 품질의 정도는 0.3108만큼 더 커진다.\n",
    "\n",
    "* $\\widehat{E(y|Region = 3)} = 6.7311 + 1.1985 x_1 + 3.3833 - 0.4029 x_1 = 10.1144 + 0.7956 x_1$\n",
    "> 지역 3에서 생산된 와인은 Flavor가 0일 때 지역 1에서 생산된 와인보다 품질이 3.3833만큼 더 높고, Flavor가 1증가할 때 높아지는 품질의 정도는 0.4029만큼 더 작아진다.\n",
    "\n",
    "<div class=\"alert alert-info\">하지만 해당 모형의 경우 $\\beta_0$와 $\\beta_1$만 유의하고, 나머지 회귀계수는 유의하지 않게 산출되었기 때문에 위처럼 회귀계수를 해석하기 어렵다. 또한, (1)의 모형보다 수정된 결정계수는 조금 높아졌지만, 모형의 복잡도가 증가한 점과 회귀모형 자체의 p-value가 더 커졌다는 점에서 (1)의 모형보다 좋다고 말할 순 없다.</div>"
   ]
  },
  {
   "cell_type": "markdown",
   "id": "0d1797b8-6998-4333-b771-30b6ca20b3cc",
   "metadata": {},
   "source": [
    "**<p style=\"font-size:15px;text-indent:-15px;padding-left:15px\">  2. 위 문제에서 Region을 범주형 변수가 아닌 정수형 변수로 인식이 되었을 때의 차이는 무엇인지 회귀계수의 정의 및 적합 결과에 대하여 설명하여라.</p>**"
   ]
  },
  {
   "cell_type": "markdown",
   "id": "60024d21-5dad-45ba-be8a-352e5f324fbe",
   "metadata": {},
   "source": [
    "$$\\begin{align} & y_i = \\beta_0 + \\beta_1 x_{i1} + \\beta_2 x_{i2} + \\epsilon_i, ~ \\epsilon_i \\overset{i.i.d}{\\sim} N(0, \\sigma^2), ~ i = 1, 2, \\cdots, n \\\\ \\\\ \n",
    "    & y : Quanlity \\\\\n",
    "    & x_1 : Flavor \\\\\n",
    "    & x_2 ∈ \\{1, 2, 3\\}\n",
    "    \\end{align}$$\n",
    "\n",
    "> Region이 정수로 인식될 경우, 각 집단별 적당한 기울기를 찾는 것이 아닌 $\\beta_2$의 값에 따라 정렬된 순서만큼 계수가 할당되게 된다. 순서 없이 단순히 나열만 되었을 뿐인 명목형 자료를 정수로 받아들일 경우, 집단 간 차이가 뒤바뀌거나 전혀 다르게 추정될 수 있으며, 만약 순서가 있는 자료일지라도 계수가 균등하게 나뉘어 할당되므로 실제 집단을 구분했을 때의 결과와 다르게 된다."
   ]
  },
  {
   "cell_type": "code",
   "execution_count": 34,
   "id": "bda24e18-e93b-49f8-a310-761a1cf7d7b6",
   "metadata": {},
   "outputs": [
    {
     "data": {
      "text/plain": [
       "\n",
       "Call:\n",
       "lm(formula = Quality ~ Flavor + Region, data = wine_const)\n",
       "\n",
       "Residuals:\n",
       "     Min       1Q   Median       3Q      Max \n",
       "-2.62893 -0.71797  0.06707  0.62091  2.26558 \n",
       "\n",
       "Coefficients:\n",
       "            Estimate Std. Error t value Pr(>|t|)    \n",
       "(Intercept)   5.0039     0.9855   5.078 1.27e-05 ***\n",
       "Flavor        1.4267     0.2340   6.096 5.78e-07 ***\n",
       "Region        0.3372     0.2749   1.227    0.228    \n",
       "---\n",
       "Signif. codes:  0 ‘***’ 0.001 ‘**’ 0.01 ‘*’ 0.05 ‘.’ 0.1 ‘ ’ 1\n",
       "\n",
       "Residual standard error: 1.262 on 35 degrees of freedom\n",
       "Multiple R-squared:  0.6397,\tAdjusted R-squared:  0.6191 \n",
       "F-statistic: 31.07 on 2 and 35 DF,  p-value: 1.747e-08\n"
      ]
     },
     "metadata": {},
     "output_type": "display_data"
    }
   ],
   "source": [
    "wine_const <- read.csv(\"wine38_2.csv\")\n",
    "summary(lm(Quality~Flavor+Region, wine_const))"
   ]
  },
  {
   "cell_type": "markdown",
   "id": "3b4e5f24-c4fe-4c49-a938-a2f9d4e95fcb",
   "metadata": {},
   "source": [
    "`-` 적합된 회귀모형 : $\\hat{y} = 5.0039 + 1.4267 x_1 + 0.3371 x_2$"
   ]
  },
  {
   "cell_type": "code",
   "execution_count": 35,
   "id": "a0ca07a5-3e2d-4177-b86c-f3fa4b4e5112",
   "metadata": {},
   "outputs": [
    {
     "data": {
      "text/plain": [
       "\n",
       "Call:\n",
       "lm(formula = Quality ~ Flavor + Region, data = wine)\n",
       "\n",
       "Residuals:\n",
       "     Min       1Q   Median       3Q      Max \n",
       "-1.97630 -0.58844  0.02184  0.51572  1.94232 \n",
       "\n",
       "Coefficients:\n",
       "            Estimate Std. Error t value Pr(>|t|)    \n",
       "(Intercept)   7.0943     0.7912   8.967 1.76e-10 ***\n",
       "Flavor        1.1155     0.1738   6.417 2.49e-07 ***\n",
       "Region2      -1.5335     0.3688  -4.158 0.000205 ***\n",
       "Region3       1.2234     0.4003   3.056 0.004346 ** \n",
       "---\n",
       "Signif. codes:  0 ‘***’ 0.001 ‘**’ 0.01 ‘*’ 0.05 ‘.’ 0.1 ‘ ’ 1\n",
       "\n",
       "Residual standard error: 0.8946 on 34 degrees of freedom\n",
       "Multiple R-squared:  0.8242,\tAdjusted R-squared:  0.8087 \n",
       "F-statistic: 53.13 on 3 and 34 DF,  p-value: 6.358e-13\n"
      ]
     },
     "metadata": {},
     "output_type": "display_data"
    }
   ],
   "source": [
    "summary(wine_model)"
   ]
  },
  {
   "cell_type": "markdown",
   "id": "0ed47167-06f2-40c8-9276-72d897127c2c",
   "metadata": {},
   "source": [
    "> 위와 같이 자료형을 잘못 받아들여 적합한 회귀모형은 해당 설명변수가 유의하지 않게 됨과 동시에 모형의 설명력과 유의 정도도 상당히 떨어지며 RMSE 또한 높아졌다."
   ]
  },
  {
   "cell_type": "markdown",
   "id": "04584388-4892-4d9c-a844-9a71d6277781",
   "metadata": {},
   "source": [
    "**<p style=\"font-size:15px;text-indent:-15px;padding-left:15px\">3. 아래의 데이터에 대하여 다음 물음에 답하시오.</p>**\n",
    "\n",
    "|$x$|1|2|2|3|4|5|5|6|7|\n",
    "|-|-|-|-|-|-|-|-|-|-|\n",
    "|$y$|2.0|3.2|3.4|4.1|5.2|7.0|7.4|9.7|11.5|"
   ]
  },
  {
   "cell_type": "markdown",
   "id": "f293c7d0-af30-48fb-b869-bb39fabdaac8",
   "metadata": {},
   "source": [
    "<p style=\"padding-left:30px;text-indent:-15px\">(1) $x$와 $y$에 대한 산점도를 그려보고, 어떤 $x$의 값($x_w$)에서 구간을 두 개로 나누면 적절할지 논하시오.</p>"
   ]
  },
  {
   "cell_type": "code",
   "execution_count": 38,
   "id": "8e1d2c0a-5dc9-44db-9855-ecbf209bc726",
   "metadata": {},
   "outputs": [],
   "source": [
    "dt <- data.frame(x = c(1,2,2,3,4,5,5,6,7),\n",
    "                 y = c(2.0, 3.2, 3.4, 4.1, 5.2, 7.0, 7.4, 9.7, 11.5))"
   ]
  },
  {
   "cell_type": "code",
   "execution_count": 57,
   "id": "da1611cd-62ec-4c41-bae3-2f69b8911c96",
   "metadata": {},
   "outputs": [
    {
     "data": {
      "image/png": "[encoded data removed]",
      "text/plain": [
       "plot without title"
      ]
     },
     "metadata": {
      "image/png": {
       "height": 480,
       "width": 900
      }
     },
     "output_type": "display_data"
    }
   ],
   "source": [
    "ggplot(dt, aes(x, y)) +\n",
    "    geom_point(col = \"darkorange\", cex = 5) +\n",
    "    theme_grey()"
   ]
  },
  {
   "cell_type": "markdown",
   "id": "d5b6d468-a075-4b65-b1fd-3c4bf8033d1a",
   "metadata": {},
   "source": [
    "> 산점도가 4를 기준으로 기울기가 변화하는 추세인 것으로 볼 수 있다. 이에 따라 대충 직선을 그어보면 이를 확인해볼 수 있다."
   ]
  },
  {
   "cell_type": "code",
   "execution_count": 58,
   "id": "96fd1803-42e0-4204-a4e8-114a906e56f6",
   "metadata": {},
   "outputs": [
    {
     "data": {
      "text/html": [
       "<table class=\"dataframe\">\n",
       "<caption>A data.frame: 9 × 2</caption>\n",
       "<thead>\n",
       "\t<tr><th scope=col>x</th><th scope=col>y</th></tr>\n",
       "\t<tr><th scope=col>&lt;dbl&gt;</th><th scope=col>&lt;dbl&gt;</th></tr>\n",
       "</thead>\n",
       "<tbody>\n",
       "\t<tr><td>1</td><td> 2.0</td></tr>\n",
       "\t<tr><td>2</td><td> 3.2</td></tr>\n",
       "\t<tr><td>2</td><td> 3.4</td></tr>\n",
       "\t<tr><td>3</td><td> 4.1</td></tr>\n",
       "\t<tr><td>4</td><td> 5.2</td></tr>\n",
       "\t<tr><td>5</td><td> 7.0</td></tr>\n",
       "\t<tr><td>5</td><td> 7.4</td></tr>\n",
       "\t<tr><td>6</td><td> 9.7</td></tr>\n",
       "\t<tr><td>7</td><td>11.5</td></tr>\n",
       "</tbody>\n",
       "</table>\n"
      ],
      "text/latex": [
       "A data.frame: 9 × 2\n",
       "\\begin{tabular}{ll}\n",
       " x & y\\\\\n",
       " <dbl> & <dbl>\\\\\n",
       "\\hline\n",
       "\t 1 &  2.0\\\\\n",
       "\t 2 &  3.2\\\\\n",
       "\t 2 &  3.4\\\\\n",
       "\t 3 &  4.1\\\\\n",
       "\t 4 &  5.2\\\\\n",
       "\t 5 &  7.0\\\\\n",
       "\t 5 &  7.4\\\\\n",
       "\t 6 &  9.7\\\\\n",
       "\t 7 & 11.5\\\\\n",
       "\\end{tabular}\n"
      ],
      "text/markdown": [
       "\n",
       "A data.frame: 9 × 2\n",
       "\n",
       "| x &lt;dbl&gt; | y &lt;dbl&gt; |\n",
       "|---|---|\n",
       "| 1 |  2.0 |\n",
       "| 2 |  3.2 |\n",
       "| 2 |  3.4 |\n",
       "| 3 |  4.1 |\n",
       "| 4 |  5.2 |\n",
       "| 5 |  7.0 |\n",
       "| 5 |  7.4 |\n",
       "| 6 |  9.7 |\n",
       "| 7 | 11.5 |\n",
       "\n"
      ],
      "text/plain": [
       "  x y   \n",
       "1 1  2.0\n",
       "2 2  3.2\n",
       "3 2  3.4\n",
       "4 3  4.1\n",
       "5 4  5.2\n",
       "6 5  7.0\n",
       "7 5  7.4\n",
       "8 6  9.7\n",
       "9 7 11.5"
      ]
     },
     "metadata": {},
     "output_type": "display_data"
    }
   ],
   "source": [
    "dt"
   ]
  },
  {
   "cell_type": "code",
   "execution_count": 62,
   "id": "ce296699-ccdc-4883-8457-060f96a027fc",
   "metadata": {},
   "outputs": [],
   "source": [
    "dt2 <- data.frame(x = c(1, 4, 7), \n",
    "                  y = c(2, 5.2, 11.5))"
   ]
  },
  {
   "cell_type": "code",
   "execution_count": 76,
   "id": "b523a8b0-e021-489f-b7b8-b62383ae4503",
   "metadata": {},
   "outputs": [
    {
     "data": {
      "image/png": "[encoded data removed]",
      "text/plain": [
       "plot without title"
      ]
     },
     "metadata": {
      "image/png": {
       "height": 480,
       "width": 900
      }
     },
     "output_type": "display_data"
    }
   ],
   "source": [
    "ggplot(dt, aes(x, y)) +\n",
    "    geom_point(col = \"darkorange\", cex = 5) +\n",
    "    theme_grey() +\n",
    "    geom_line(aes(x, y), dt2, col = \"cadetblue\", lwd = 2) +\n",
    "    geom_vline(xintercept = 4, col = \"firebrick\", lwd = 1.5, lty = 2)"
   ]
  },
  {
   "cell_type": "markdown",
   "id": "816d96ee-f1d4-4e94-9cee-51419758aa37",
   "metadata": {},
   "source": [
    "<p style=\"padding-left:30px;text-indent:-15px\">(2) 위의 (1)에서 얻은 점을 경계로 구간별 단순선형회귀선을 추정하시오. 사용되는 모형은 $$x_{i2} = \\begin{cases}\n",
    "            1, ~ x_{i1} > x_w\\\\\n",
    "            0, ~ x_{i1} ≤ x_w\n",
    "            \\end{cases}$$\n",
    "과 같다.\n",
    "</p>"
   ]
  },
  {
   "cell_type": "markdown",
   "id": "031d74fe-5a03-4afe-97e5-e665cf083823",
   "metadata": {},
   "source": [
    "`-` 위와 같은 조건에서 $x_w = 4$이면, 구간별 단순선형회귀모형은 아래와 같이 정의할 수 있다.\n",
    "\n",
    "$$y_i = \\beta_0 + \\beta_1 x_{i1} + \\beta_2 (x_{i1} - 4) x_{i2} + \\epsilon_i, ~ \\epsilon_i \\overset{i.i.d}{\\sim} N(0, \\sigma^2), ~ i = 1, 2, \\cdots, n\n",
    "$$"
   ]
  },
  {
   "cell_type": "code",
   "execution_count": 81,
   "id": "4baabe41-f01b-45da-9b43-803553fe12d9",
   "metadata": {},
   "outputs": [
    {
     "data": {
      "text/html": [
       "<table class=\"dataframe\">\n",
       "<caption>A data.frame: 9 × 3</caption>\n",
       "<thead>\n",
       "\t<tr><th scope=col>x</th><th scope=col>y</th><th scope=col>x2</th></tr>\n",
       "\t<tr><th scope=col>&lt;dbl&gt;</th><th scope=col>&lt;dbl&gt;</th><th scope=col>&lt;dbl&gt;</th></tr>\n",
       "</thead>\n",
       "<tbody>\n",
       "\t<tr><td>1</td><td> 2.0</td><td>0</td></tr>\n",
       "\t<tr><td>2</td><td> 3.2</td><td>0</td></tr>\n",
       "\t<tr><td>2</td><td> 3.4</td><td>0</td></tr>\n",
       "\t<tr><td>3</td><td> 4.1</td><td>0</td></tr>\n",
       "\t<tr><td>4</td><td> 5.2</td><td>0</td></tr>\n",
       "\t<tr><td>5</td><td> 7.0</td><td>1</td></tr>\n",
       "\t<tr><td>5</td><td> 7.4</td><td>1</td></tr>\n",
       "\t<tr><td>6</td><td> 9.7</td><td>2</td></tr>\n",
       "\t<tr><td>7</td><td>11.5</td><td>3</td></tr>\n",
       "</tbody>\n",
       "</table>\n"
      ],
      "text/latex": [
       "A data.frame: 9 × 3\n",
       "\\begin{tabular}{lll}\n",
       " x & y & x2\\\\\n",
       " <dbl> & <dbl> & <dbl>\\\\\n",
       "\\hline\n",
       "\t 1 &  2.0 & 0\\\\\n",
       "\t 2 &  3.2 & 0\\\\\n",
       "\t 2 &  3.4 & 0\\\\\n",
       "\t 3 &  4.1 & 0\\\\\n",
       "\t 4 &  5.2 & 0\\\\\n",
       "\t 5 &  7.0 & 1\\\\\n",
       "\t 5 &  7.4 & 1\\\\\n",
       "\t 6 &  9.7 & 2\\\\\n",
       "\t 7 & 11.5 & 3\\\\\n",
       "\\end{tabular}\n"
      ],
      "text/markdown": [
       "\n",
       "A data.frame: 9 × 3\n",
       "\n",
       "| x &lt;dbl&gt; | y &lt;dbl&gt; | x2 &lt;dbl&gt; |\n",
       "|---|---|---|\n",
       "| 1 |  2.0 | 0 |\n",
       "| 2 |  3.2 | 0 |\n",
       "| 2 |  3.4 | 0 |\n",
       "| 3 |  4.1 | 0 |\n",
       "| 4 |  5.2 | 0 |\n",
       "| 5 |  7.0 | 1 |\n",
       "| 5 |  7.4 | 1 |\n",
       "| 6 |  9.7 | 2 |\n",
       "| 7 | 11.5 | 3 |\n",
       "\n"
      ],
      "text/plain": [
       "  x y    x2\n",
       "1 1  2.0 0 \n",
       "2 2  3.2 0 \n",
       "3 2  3.4 0 \n",
       "4 3  4.1 0 \n",
       "5 4  5.2 0 \n",
       "6 5  7.0 1 \n",
       "7 5  7.4 1 \n",
       "8 6  9.7 2 \n",
       "9 7 11.5 3 "
      ]
     },
     "metadata": {},
     "output_type": "display_data"
    }
   ],
   "source": [
    "dt$x2 <- sapply(dt$x, function(x) {max(0, x - 4)})\n",
    "dt"
   ]
  },
  {
   "cell_type": "markdown",
   "id": "3dd10d76-cf57-45b1-884a-e3d530a3a1a0",
   "metadata": {},
   "source": [
    "`-` 위 데이터를 기반으로 단순선형회귀모형을 추정하면 다음과 같다."
   ]
  },
  {
   "cell_type": "code",
   "execution_count": 83,
   "id": "791ad3f2-eed2-4bcd-b187-e23c6fa44cfe",
   "metadata": {},
   "outputs": [
    {
     "data": {
      "text/plain": [
       "\n",
       "Call:\n",
       "lm(formula = y ~ ., data = dt)\n",
       "\n",
       "Residuals:\n",
       "     Min       1Q   Median       3Q      Max \n",
       "-0.31361 -0.08980  0.02449  0.08639  0.24830 \n",
       "\n",
       "Coefficients:\n",
       "            Estimate Std. Error t value Pr(>|t|)    \n",
       "(Intercept)  1.15238    0.22615   5.096 0.002231 ** \n",
       "x            1.00578    0.08007  12.561 1.56e-05 ***\n",
       "x2           1.13231    0.14855   7.622 0.000266 ***\n",
       "---\n",
       "Signif. codes:  0 ‘***’ 0.001 ‘**’ 0.01 ‘*’ 0.05 ‘.’ 0.1 ‘ ’ 1\n",
       "\n",
       "Residual standard error: 0.2094 on 6 degrees of freedom\n",
       "Multiple R-squared:  0.9968,\tAdjusted R-squared:  0.9957 \n",
       "F-statistic: 929.1 on 2 and 6 DF,  p-value: 3.334e-08\n"
      ]
     },
     "metadata": {},
     "output_type": "display_data"
    }
   ],
   "source": [
    "model <- lm(y~., dt)\n",
    "summary(model)"
   ]
  },
  {
   "cell_type": "markdown",
   "id": "27a772f7-6c5b-476a-901d-616ef37941b1",
   "metadata": {},
   "source": [
    "추정된 회귀직선 : $\\hat y = 1.15238 + 1.00578 x_1 + 1.13231 (x_1 - 4) x_2$"
   ]
  },
  {
   "cell_type": "markdown",
   "id": "c594458d-aacc-4677-8d53-2105bf9d48cc",
   "metadata": {},
   "source": [
    "<p style=\"padding-left:30px;text-indent:-15px\">(3) 위의 (2)에 있는 모형에서 $\\beta_2$의 의미를 해석하고, 90% 신뢰구간을 구하여라.</p>"
   ]
  },
  {
   "cell_type": "markdown",
   "id": "d97823c2-6a0e-4cc0-aebc-e2e8400c034d",
   "metadata": {},
   "source": [
    "* $x_1$이 4 이상일 때, $x_1$이 $1$만큼 증가하면 $y$가 $\\beta_1$에 더해서 $\\beta_2$만큼 추가적으로 증가한다는 것을 의미한다. 해당 값의 신뢰구간은 아래와 같다."
   ]
  },
  {
   "cell_type": "code",
   "execution_count": 92,
   "id": "f4157b61-dc5d-4919-b615-871fe02cc025",
   "metadata": {},
   "outputs": [
    {
     "data": {
      "text/html": [
       "<table class=\"dataframe\">\n",
       "<caption>A matrix: 3 × 2 of type dbl</caption>\n",
       "<thead>\n",
       "\t<tr><th></th><th scope=col>5 %</th><th scope=col>95 %</th></tr>\n",
       "</thead>\n",
       "<tbody>\n",
       "\t<tr><th scope=row>(Intercept)</th><td>0.7129292</td><td>1.591833</td></tr>\n",
       "\t<tr><th scope=row>x</th><td>0.8501863</td><td>1.161378</td></tr>\n",
       "\t<tr><th scope=row>x2</th><td>0.8436473</td><td>1.420979</td></tr>\n",
       "</tbody>\n",
       "</table>\n"
      ],
      "text/latex": [
       "A matrix: 3 × 2 of type dbl\n",
       "\\begin{tabular}{r|ll}\n",
       "  & 5 \\% & 95 \\%\\\\\n",
       "\\hline\n",
       "\t(Intercept) & 0.7129292 & 1.591833\\\\\n",
       "\tx & 0.8501863 & 1.161378\\\\\n",
       "\tx2 & 0.8436473 & 1.420979\\\\\n",
       "\\end{tabular}\n"
      ],
      "text/markdown": [
       "\n",
       "A matrix: 3 × 2 of type dbl\n",
       "\n",
       "| <!--/--> | 5 % | 95 % |\n",
       "|---|---|---|\n",
       "| (Intercept) | 0.7129292 | 1.591833 |\n",
       "| x | 0.8501863 | 1.161378 |\n",
       "| x2 | 0.8436473 | 1.420979 |\n",
       "\n"
      ],
      "text/plain": [
       "            5 %       95 %    \n",
       "(Intercept) 0.7129292 1.591833\n",
       "x           0.8501863 1.161378\n",
       "x2          0.8436473 1.420979"
      ]
     },
     "metadata": {},
     "output_type": "display_data"
    }
   ],
   "source": [
    "confint(model, level = 0.9)"
   ]
  },
  {
   "cell_type": "code",
   "execution_count": 93,
   "id": "2e46ba15-5881-428f-8984-cdcfe8e7f840",
   "metadata": {},
   "outputs": [
    {
     "name": "stdout",
     "output_type": "stream",
     "text": [
      "[1] \"beta_2의 90% CI : (0.843647345609049, 1.42097850473109)\"\n"
     ]
    }
   ],
   "source": [
    "print(paste(\"beta_2의 90% CI : (\", confint(model, level = 0.9)[3, 1], \", \", confint(model, level = 0.9)[3,2], \")\", sep = \"\"))"
   ]
  },
  {
   "cell_type": "markdown",
   "id": "f475eff2-9d7c-4394-a54f-184bcefe955f",
   "metadata": {},
   "source": [
    "**<p style=\"font-size:15px;text-indent:-15px;padding-left:15px\">4. `HW3_dt1.csv`의 데이터를 이용하여 다음 물음에 답하여라.</p>**"
   ]
  },
  {
   "cell_type": "markdown",
   "id": "1de6877d-fabd-43eb-9941-e1857568732d",
   "metadata": {},
   "source": [
    "<p style=\"padding-left:30px;text-indent:-15px\">(1) 단순선형회귀모형을 적합하여라.</p>"
   ]
  },
  {
   "cell_type": "markdown",
   "id": "aaad78b8-6f09-4eaf-92ba-8bbe04683de1",
   "metadata": {},
   "source": [
    "$$y_i = \\beta_0 + \\beta_1 x_i + \\epsilon_i, ~ \\epsilon_i \\overset{i.i.d}{\\sim} N(0, \\sigma^2)$$"
   ]
  },
  {
   "cell_type": "code",
   "execution_count": 96,
   "id": "0ae5c42c-4198-4b9e-a47d-6779a924e6b0",
   "metadata": {},
   "outputs": [
    {
     "data": {
      "text/plain": [
       "\n",
       "Call:\n",
       "lm(formula = y ~ x, data = dt1)\n",
       "\n",
       "Residuals:\n",
       "    Min      1Q  Median      3Q     Max \n",
       "-4.7748 -1.4084  0.1664  1.4368  3.0207 \n",
       "\n",
       "Coefficients:\n",
       "            Estimate Std. Error t value Pr(>|t|)    \n",
       "(Intercept) -47.4207     3.0501  -15.55 2.48e-08 ***\n",
       "x            17.6808     0.5176   34.16 1.09e-11 ***\n",
       "---\n",
       "Signif. codes:  0 ‘***’ 0.001 ‘**’ 0.01 ‘*’ 0.05 ‘.’ 0.1 ‘ ’ 1\n",
       "\n",
       "Residual standard error: 2.213 on 10 degrees of freedom\n",
       "Multiple R-squared:  0.9915,\tAdjusted R-squared:  0.9907 \n",
       "F-statistic:  1167 on 1 and 10 DF,  p-value: 1.093e-11\n"
      ]
     },
     "metadata": {},
     "output_type": "display_data"
    }
   ],
   "source": [
    "dt1_model <- lm(y~x, dt1)\n",
    "summary(dt1_model)"
   ]
  },
  {
   "cell_type": "markdown",
   "id": "a04cc5e3-11c2-4a50-9c12-6e3a7c0a4f6e",
   "metadata": {},
   "source": [
    "`-` 적합된 회귀모형 : $\\hat y = -47.4207 + 17.6808 x$"
   ]
  },
  {
   "cell_type": "markdown",
   "id": "dc9b7ae8-3f26-42ae-a061-f97ce38ede52",
   "metadata": {},
   "source": [
    "<p style=\"padding-left:30px;text-indent:-15px\">(2) 잔차 검정을 통해 모형의 적합성을 논의하여라.</p>"
   ]
  },
  {
   "cell_type": "code",
   "execution_count": 86,
   "id": "b556cce7-91af-480b-8470-222019b90e82",
   "metadata": {},
   "outputs": [
    {
     "data": {
      "image/png": "[encoded data removed]",
      "text/plain": [
       "Plot with title “Standarized residual plot”"
      ]
     },
     "metadata": {
      "image/png": {
       "height": 480,
       "width": 900
      }
     },
     "output_type": "display_data"
    }
   ],
   "source": [
    "plot(predict(dt1_model), rstandard(dt1_model), pch = 16, col = \"darkorange\", cex = 2, xlab = expression(hat(y)), ylab = \"e\", main = \"Standarized residual plot\", cex.main = 2)\n",
    "abline(h = 0, lty = 2, lwd = 2)"
   ]
  },
  {
   "cell_type": "markdown",
   "id": "a208917e-b8b5-49f4-81b4-222a5b1e27b2",
   "metadata": {},
   "source": [
    "ⅰ) 선형성 : 0을 기준으로 위아래가 대칭인 개형이라고 보긴 어려울 것 같다. 또한 약간의 곡선이나 비선형 관계가 있어보인다.\n",
    "\n",
    "ⅱ) 등분산성 : 이상치를 제외한다면, $\\hat y$이 커진다고 해서 분산이 같이 커지거나 하진 않는 것 같다."
   ]
  },
  {
   "cell_type": "code",
   "execution_count": 44,
   "id": "91677edd-c7e7-4591-80fe-ef8184bebd77",
   "metadata": {},
   "outputs": [
    {
     "data": {
      "text/plain": [
       "\n",
       "\tstudentized Breusch-Pagan test\n",
       "\n",
       "data:  dt1_model\n",
       "BP = 1.8317, df = 1, p-value = 0.1759\n"
      ]
     },
     "metadata": {},
     "output_type": "display_data"
    }
   ],
   "source": [
    "bptest(dt1_model)"
   ]
  },
  {
   "cell_type": "markdown",
   "id": "a2e1e69b-c49e-424c-b6b3-ccb6088a3699",
   "metadata": {},
   "source": [
    "bptest의 결과에서도 귀무가설을 기각할 수 없으므로 등분산성을 가정하는 데 무리가 없다.\n",
    "\n",
    "ⅲ) 정규성 : 표준화된 잔차가 -3 이하인 값은 존재하지 않는다."
   ]
  },
  {
   "cell_type": "code",
   "execution_count": 45,
   "id": "38c6445b-1627-4ca6-b0eb-18d715c1f2b6",
   "metadata": {},
   "outputs": [
    {
     "data": {
      "text/plain": [
       "\n",
       "\tShapiro-Wilk normality test\n",
       "\n",
       "data:  dt1_model$residuals\n",
       "W = 0.93756, p-value = 0.4671\n"
      ]
     },
     "metadata": {},
     "output_type": "display_data"
    }
   ],
   "source": [
    "shapiro.test(dt1_model$residuals)"
   ]
  },
  {
   "cell_type": "markdown",
   "id": "49fb25df-54cb-4bd1-a744-029c1b220119",
   "metadata": {},
   "source": [
    "추가적으로 shapiro test 결과 정규성 가정을 위배하지 않는다고 말할 수 있다."
   ]
  },
  {
   "cell_type": "markdown",
   "id": "0d041c7e-4f08-49ca-86ac-0a3f94a88184",
   "metadata": {},
   "source": [
    "ⅳ) 독립성"
   ]
  },
  {
   "cell_type": "code",
   "execution_count": 21,
   "id": "a4a6a8d8-4e60-401b-bedb-a89199975aac",
   "metadata": {},
   "outputs": [
    {
     "data": {
      "text/plain": [
       "\n",
       "\tDurbin-Watson test\n",
       "\n",
       "data:  dt1_model\n",
       "DW = 1.3816, p-value = 0.1253\n",
       "alternative hypothesis: true autocorrelation is not 0\n"
      ]
     },
     "metadata": {},
     "output_type": "display_data"
    }
   ],
   "source": [
    "dwtest(dt1_model, alternative = \"two.sided\")"
   ]
  },
  {
   "cell_type": "markdown",
   "id": "c57bb9db-35f8-4cf5-8d3b-24724c333f47",
   "metadata": {},
   "source": [
    "Durbin-Watson 검정결과, 귀무가설을 기각할 수 없었으므로 오차 간 1차 자기상관은 없는 것으로 판단되어 독립성 가정에는 문제가 없다.\n",
    "\n",
    "<div class=\"alert alert-info\">따라서 선형회귀분석의 기본가정을 모두 충족하지 못하므로, 해당 회귀모형은 적합하지 한다.</div>"
   ]
  },
  {
   "cell_type": "markdown",
   "id": "1efd5d16-dbe0-4293-bcff-ad3ef59b9432",
   "metadata": {},
   "source": [
    "<p style=\"padding-left:30px;text-indent:-15px\">(3) 위의 잔차 검정 결과를 이용하여 적절한 모형을 적합하여라.</p>"
   ]
  },
  {
   "cell_type": "markdown",
   "id": "5107f927-71ac-4481-a463-33de912d93d0",
   "metadata": {},
   "source": [
    "`-` 잔차 그림이 약간의 곡선 형태를 띄고 있는 것 같으므로, 먼저 2차항을 포함한 다항회귀를 진행해보면 다음과 같다."
   ]
  },
  {
   "cell_type": "code",
   "execution_count": 46,
   "id": "a6548990-2658-44cc-8082-dd92fd94202a",
   "metadata": {},
   "outputs": [
    {
     "data": {
      "text/plain": [
       "\n",
       "Call:\n",
       "lm(formula = y ~ x + I(x^2), data = dt1)\n",
       "\n",
       "Residuals:\n",
       "    Min      1Q  Median      3Q     Max \n",
       "-4.5729  0.1344  0.4641  0.7315  0.8495 \n",
       "\n",
       "Coefficients:\n",
       "            Estimate Std. Error t value Pr(>|t|)  \n",
       "(Intercept)  -4.4595    14.6343  -0.305   0.7675  \n",
       "x             1.3837     5.4971   0.252   0.8069  \n",
       "I(x^2)        1.4670     0.4936   2.972   0.0156 *\n",
       "---\n",
       "Signif. codes:  0 ‘***’ 0.001 ‘**’ 0.01 ‘*’ 0.05 ‘.’ 0.1 ‘ ’ 1\n",
       "\n",
       "Residual standard error: 1.657 on 9 degrees of freedom\n",
       "Multiple R-squared:  0.9957,\tAdjusted R-squared:  0.9948 \n",
       "F-statistic:  1045 on 2 and 9 DF,  p-value: 2.213e-11\n"
      ]
     },
     "metadata": {},
     "output_type": "display_data"
    }
   ],
   "source": [
    "dt1_poly <- lm(y~x+I(x^2), dt1)\n",
    "summary(dt1_poly)"
   ]
  },
  {
   "cell_type": "code",
   "execution_count": 107,
   "id": "a39168a8-722c-4cfa-8809-dc52c7300752",
   "metadata": {},
   "outputs": [
    {
     "data": {
      "image/png": "[encoded data removed]",
      "text/plain": [
       "Plot with title “Standarized residual plot”"
      ]
     },
     "metadata": {
      "image/png": {
       "height": 480,
       "width": 900
      }
     },
     "output_type": "display_data"
    }
   ],
   "source": [
    "plot(predict(dt1_poly), rstandard(dt1_poly), pch = 16, col = \"darkorange\", cex = 2, xlab = expression(hat(y)), ylab = \"e\", main = \"Standarized residual plot\", cex.main = 2)\n",
    "abline(h = 0, lty = 2, lwd = 2)"
   ]
  },
  {
   "cell_type": "markdown",
   "id": "f76b53ff-b520-4716-8a23-7fe4c2bbc476",
   "metadata": {},
   "source": [
    "> 대칭이 아니고 위로 치우쳐진 회귀모형이 나왔다."
   ]
  },
  {
   "cell_type": "code",
   "execution_count": 112,
   "id": "68a96501-67af-4cc0-a1d4-0aa4b82a4e89",
   "metadata": {},
   "outputs": [
    {
     "data": {
      "text/plain": [
       "\n",
       "\tShapiro-Wilk normality test\n",
       "\n",
       "data:  resid(dt1_poly)\n",
       "W = 0.56068, p-value = 5.139e-05\n"
      ]
     },
     "metadata": {},
     "output_type": "display_data"
    }
   ],
   "source": [
    "shapiro.test(resid(dt1_poly))"
   ]
  },
  {
   "cell_type": "markdown",
   "id": "1f60903d-11fb-4215-a6c0-1ae11d60ec5f",
   "metadata": {},
   "source": [
    "> 샤피로 검정 결과, 정규분포를 따르지 않는다고 말할 수 있다. 해당 자료에서 이상치를 제거한다면 선형회귀모형의 기본가정을 따르게 할 수 있을 것으로 예상된다."
   ]
  },
  {
   "cell_type": "markdown",
   "id": "8d8bb065-d0d2-4740-b121-cc5418f122c5",
   "metadata": {},
   "source": [
    "`-` 이상치를 제거하고 모형을 적합"
   ]
  },
  {
   "cell_type": "code",
   "execution_count": 98,
   "id": "9e612d10-8906-4c96-99e7-2a31b86f55c8",
   "metadata": {},
   "outputs": [
    {
     "data": {
      "text/plain": [
       "\n",
       "Call:\n",
       "lm(formula = y ~ x, data = dt1_rm_out)\n",
       "\n",
       "Residuals:\n",
       "   Min     1Q Median     3Q    Max \n",
       "-2.076 -1.346  0.663  1.250  2.101 \n",
       "\n",
       "Coefficients:\n",
       "            Estimate Std. Error t value Pr(>|t|)    \n",
       "(Intercept) -48.6809     2.2170  -21.96 3.98e-09 ***\n",
       "x            17.9795     0.3816   47.11 4.38e-12 ***\n",
       "---\n",
       "Signif. codes:  0 ‘***’ 0.001 ‘**’ 0.01 ‘*’ 0.05 ‘.’ 0.1 ‘ ’ 1\n",
       "\n",
       "Residual standard error: 1.584 on 9 degrees of freedom\n",
       "Multiple R-squared:  0.996,\tAdjusted R-squared:  0.9955 \n",
       "F-statistic:  2219 on 1 and 9 DF,  p-value: 4.381e-12\n"
      ]
     },
     "metadata": {},
     "output_type": "display_data"
    }
   ],
   "source": [
    "dt1_rm_out <- dt1[!(abs(rstandard(dt1_model)) > 2),]\n",
    "dt1_rm_model <- lm(y~x, dt1_rm_out)\n",
    "summary(dt1_rm_model)"
   ]
  },
  {
   "cell_type": "code",
   "execution_count": 99,
   "id": "5f707d07-fc79-4a56-8cc2-6d9f7744dfe5",
   "metadata": {},
   "outputs": [
    {
     "data": {
      "image/png": "[encoded data removed]",
      "text/plain": [
       "Plot with title “Standarized residual plot”"
      ]
     },
     "metadata": {
      "image/png": {
       "height": 480,
       "width": 900
      }
     },
     "output_type": "display_data"
    }
   ],
   "source": [
    "plot(predict(dt1_rm_model), rstandard(dt1_rm_model), pch = 16, col = \"darkorange\", cex = 2, xlab = expression(hat(y)), ylab = \"e\", main = \"Standarized residual plot\", cex.main = 2)\n",
    "abline(h = 0, lty = 2, lwd = 2)"
   ]
  },
  {
   "cell_type": "markdown",
   "id": "3198a563-36d9-48f0-9291-29e7114ef0b2",
   "metadata": {},
   "source": [
    "> 이상치를 제거했더니 잔차 그림이 곡선 형태로 나타났다. 따라서 이상치를 제거하고, 다항회귀로 모형을 구성하는 것이 가장 적절한 모형이 될 것으로 예상된다."
   ]
  },
  {
   "cell_type": "markdown",
   "id": "ffaca079-ddc1-46fb-a4b7-b3a947c8b8a7",
   "metadata": {},
   "source": [
    "`-` 이상치 제거 & 다항회귀"
   ]
  },
  {
   "cell_type": "markdown",
   "id": "d0ab86e7-7f6a-471d-bf21-a1bc77a84b43",
   "metadata": {},
   "source": [
    "$$y_i = \\beta_0 + \\beta_1 x_i + \\beta_2 x_i^2 + \\epsilon, ~ \\epsilon_i \\overset{i.i.d}{\\sim} N(0, \\sigma^2)$$"
   ]
  },
  {
   "cell_type": "code",
   "execution_count": 104,
   "id": "49596e82-4883-434d-b878-91d61fe9a687",
   "metadata": {},
   "outputs": [
    {
     "data": {
      "text/plain": [
       "\n",
       "Call:\n",
       "lm(formula = y ~ x + I(x^2), data = dt1_rm_out)\n",
       "\n",
       "Residuals:\n",
       "     Min       1Q   Median       3Q      Max \n",
       "-0.53022 -0.05474  0.02539  0.11092  0.27978 \n",
       "\n",
       "Coefficients:\n",
       "            Estimate Std. Error t value Pr(>|t|)    \n",
       "(Intercept) -7.56617    2.10283  -3.598   0.0070 ** \n",
       "x            2.39007    0.78937   3.028   0.0164 *  \n",
       "I(x^2)       1.40226    0.07082  19.801 4.41e-08 ***\n",
       "---\n",
       "Signif. codes:  0 ‘***’ 0.001 ‘**’ 0.01 ‘*’ 0.05 ‘.’ 0.1 ‘ ’ 1\n",
       "\n",
       "Residual standard error: 0.2375 on 8 degrees of freedom\n",
       "Multiple R-squared:  0.9999,\tAdjusted R-squared:  0.9999 \n",
       "F-statistic: 4.953e+04 on 2 and 8 DF,  p-value: < 2.2e-16\n"
      ]
     },
     "metadata": {},
     "output_type": "display_data"
    }
   ],
   "source": [
    "dt1_rm_poly <- lm(y~x+I(x^2), dt1_rm_out)\n",
    "summary(dt1_rm_poly)"
   ]
  },
  {
   "cell_type": "markdown",
   "id": "8b5dd8b9-8c6f-4332-ae10-5156c91d142d",
   "metadata": {},
   "source": [
    "`-` 적합된 회귀모형 : $\\hat y = -7.56617 + 2.39007 x + 1.40226 x^2$"
   ]
  },
  {
   "cell_type": "markdown",
   "id": "be18a151-eaf8-4a5c-821d-3b3ce6614a5d",
   "metadata": {},
   "source": [
    "<p style=\"padding-left:30px;text-indent:-15px\">(4) (3)의 모형의 회귀계수에 대한 유의성 검정을 수행하여라.</p>"
   ]
  },
  {
   "cell_type": "code",
   "execution_count": 106,
   "id": "0815d2ff-9659-45aa-900c-aca38249be82",
   "metadata": {},
   "outputs": [
    {
     "data": {
      "text/html": [
       "<table class=\"dataframe\">\n",
       "<caption>A matrix: 3 × 4 of type dbl</caption>\n",
       "<thead>\n",
       "\t<tr><th></th><th scope=col>Estimate</th><th scope=col>Std. Error</th><th scope=col>t value</th><th scope=col>Pr(&gt;|t|)</th></tr>\n",
       "</thead>\n",
       "<tbody>\n",
       "\t<tr><th scope=row>(Intercept)</th><td>-7.566168</td><td>2.10283370</td><td>-3.598082</td><td>7.001775e-03</td></tr>\n",
       "\t<tr><th scope=row>x</th><td> 2.390074</td><td>0.78937497</td><td> 3.027806</td><td>1.636394e-02</td></tr>\n",
       "\t<tr><th scope=row>I(x^2)</th><td> 1.402255</td><td>0.07081672</td><td>19.801192</td><td>4.406593e-08</td></tr>\n",
       "</tbody>\n",
       "</table>\n"
      ],
      "text/latex": [
       "A matrix: 3 × 4 of type dbl\n",
       "\\begin{tabular}{r|llll}\n",
       "  & Estimate & Std. Error & t value & Pr(>\\textbar{}t\\textbar{})\\\\\n",
       "\\hline\n",
       "\t(Intercept) & -7.566168 & 2.10283370 & -3.598082 & 7.001775e-03\\\\\n",
       "\tx &  2.390074 & 0.78937497 &  3.027806 & 1.636394e-02\\\\\n",
       "\tI(x\\textasciicircum{}2) &  1.402255 & 0.07081672 & 19.801192 & 4.406593e-08\\\\\n",
       "\\end{tabular}\n"
      ],
      "text/markdown": [
       "\n",
       "A matrix: 3 × 4 of type dbl\n",
       "\n",
       "| <!--/--> | Estimate | Std. Error | t value | Pr(&gt;|t|) |\n",
       "|---|---|---|---|---|\n",
       "| (Intercept) | -7.566168 | 2.10283370 | -3.598082 | 7.001775e-03 |\n",
       "| x |  2.390074 | 0.78937497 |  3.027806 | 1.636394e-02 |\n",
       "| I(x^2) |  1.402255 | 0.07081672 | 19.801192 | 4.406593e-08 |\n",
       "\n"
      ],
      "text/plain": [
       "            Estimate  Std. Error t value   Pr(>|t|)    \n",
       "(Intercept) -7.566168 2.10283370 -3.598082 7.001775e-03\n",
       "x            2.390074 0.78937497  3.027806 1.636394e-02\n",
       "I(x^2)       1.402255 0.07081672 19.801192 4.406593e-08"
      ]
     },
     "metadata": {},
     "output_type": "display_data"
    }
   ],
   "source": [
    "summary(dt1_rm_poly)$coef"
   ]
  },
  {
   "cell_type": "markdown",
   "id": "887c5c6a-ff3f-47c9-a668-8435320bfac2",
   "metadata": {},
   "source": [
    "`-` $\\beta_0$에 대한 유의성 검정\n",
    "\n",
    "ⅰ) 가설 $H_0 : \\beta_0 = 0, ~ vs. ~ H_1 : \\beta_0 \\neq 0$\n",
    "\n",
    "ⅱ) 검정통계량\n",
    "\n",
    "$$T = \\frac{\\hat{\\beta_0}}{\\hat{\\sigma_{\\hat{\\beta_0}}}} \\sim_{H_0} t(8)$$\n",
    "\n",
    "ⅲ) $t = -3.598082, p-value = 0.007 < 0.05$\n",
    "\n",
    "따라서 유의수준 $\\alpha = 0.05$에서 귀무가설을 기각하고 대립가설을 수용한다. 즉, $\\beta_0$는 유의하다."
   ]
  },
  {
   "cell_type": "markdown",
   "id": "4ac29ba4-4f34-44a7-8316-bb6398eb1eeb",
   "metadata": {},
   "source": [
    "`-` $\\beta_1, \\beta_2$의 경우\n",
    "\n",
    "위와 동일한 방법으로 구해진 $p-value$를 테이블에서 구하면 전부 유의수준 $\\alpha = 0.05$보다 작으므로 모든 회귀계수는 유의하다."
   ]
  },
  {
   "cell_type": "markdown",
   "id": "2946fb1e-ca32-45ad-88c4-ee44d707c765",
   "metadata": {},
   "source": [
    "<p style=\"padding-left:30px;text-indent:-15px\">(5) (3)의 모형에 대하여 잔차검정을 통해 모형의 적합성을 논의하여라.</p>"
   ]
  },
  {
   "cell_type": "code",
   "execution_count": 108,
   "id": "006fc7fe-f973-4ef0-bc88-2f8cd2d454f1",
   "metadata": {},
   "outputs": [
    {
     "data": {
      "image/png": "[encoded data removed]",
      "text/plain": [
       "Plot with title “Standarized residual plot”"
      ]
     },
     "metadata": {
      "image/png": {
       "height": 480,
       "width": 900
      }
     },
     "output_type": "display_data"
    }
   ],
   "source": [
    "plot(predict(dt1_rm_poly), rstandard(dt1_rm_poly), pch = 16, col = \"darkorange\", cex = 2, xlab = expression(hat(y)), ylab = \"e\", main = \"Standarized residual plot\", cex.main = 2)\n",
    "abline(h = 0, lty = 2, lwd = 2)"
   ]
  },
  {
   "cell_type": "markdown",
   "id": "07caa45e-74c3-4ce9-8aef-c7edd8c7a5d6",
   "metadata": {},
   "source": [
    "ⅰ) 선형성 : 0을 기준으로 거의 대칭이므로 선형성을 위배하지 않는다.\n",
    "\n",
    "ⅱ) 등분산성 : 오차의 범위가 $\\hat y$의 값에 따라 변하지 않는 것 같다."
   ]
  },
  {
   "cell_type": "code",
   "execution_count": 113,
   "id": "d0d6a5ad-0ecf-4f18-bb57-9a964afe1080",
   "metadata": {},
   "outputs": [
    {
     "data": {
      "text/plain": [
       "\n",
       "\tstudentized Breusch-Pagan test\n",
       "\n",
       "data:  dt1_rm_poly\n",
       "BP = 4.9007, df = 2, p-value = 0.08626\n"
      ]
     },
     "metadata": {},
     "output_type": "display_data"
    }
   ],
   "source": [
    "bptest(dt1_rm_poly)"
   ]
  },
  {
   "cell_type": "markdown",
   "id": "51079ae1-1708-432e-9aba-b2526974dfa5",
   "metadata": {},
   "source": [
    "> 유의수준 $\\alpha = 0.05$에서 오차는 등분산이라는 가설을 기각할 수 없다."
   ]
  },
  {
   "cell_type": "markdown",
   "id": "9ffb0ef2-a616-4454-b18b-206e437957fb",
   "metadata": {},
   "source": [
    "ⅲ) 정규성 : 표준화된 잔차가 -3을 넘어가는 값이 존재하지 않으므로, 정규성 가정에는 문제가 없다."
   ]
  },
  {
   "cell_type": "code",
   "execution_count": 114,
   "id": "d1276bdc-3b0f-41e9-a2b8-8b7ee73659f2",
   "metadata": {},
   "outputs": [
    {
     "data": {
      "text/plain": [
       "\n",
       "\tShapiro-Wilk normality test\n",
       "\n",
       "data:  resid(dt1_rm_poly)\n",
       "W = 0.87078, p-value = 0.07933\n"
      ]
     },
     "metadata": {},
     "output_type": "display_data"
    }
   ],
   "source": [
    "shapiro.test(resid(dt1_rm_poly))"
   ]
  },
  {
   "cell_type": "markdown",
   "id": "69f57465-1d40-4cac-a766-58a63cb5f71e",
   "metadata": {},
   "source": [
    "> 유의수준 $\\alpha = 0.05$에서 오차가 정규분포를 따른다는 가설을 기각할 수 없다."
   ]
  },
  {
   "cell_type": "markdown",
   "id": "c81429a5-4b17-4f4d-8e7b-f53fcf9ef44a",
   "metadata": {},
   "source": [
    "ⅳ) 독립성"
   ]
  },
  {
   "cell_type": "code",
   "execution_count": 117,
   "id": "b4466519-f716-452b-9a3b-8b4292f4b3c4",
   "metadata": {},
   "outputs": [
    {
     "data": {
      "text/plain": [
       "\n",
       "\tDurbin-Watson test\n",
       "\n",
       "data:  dt1_rm_poly\n",
       "DW = 2.5123, p-value = 0.86\n",
       "alternative hypothesis: true autocorrelation is not 0\n"
      ]
     },
     "metadata": {},
     "output_type": "display_data"
    }
   ],
   "source": [
    "dwtest(dt1_rm_poly, alternative = \"two.sided\")"
   ]
  },
  {
   "cell_type": "markdown",
   "id": "153a2e6a-b223-499c-87fe-05021b0e2f82",
   "metadata": {},
   "source": [
    "> 더빈-왓슨 검정 결과, 잔차의 1차 자기상관이 없다는 귀무가설을 기각할 수 없었다. 따라서 독립성 가정에도 문제가 없다."
   ]
  },
  {
   "cell_type": "markdown",
   "id": "dfb5fa0d-9287-4958-8749-9225e2a94aec",
   "metadata": {},
   "source": [
    "<div class=\"alert alert-info\">따라서, 해당 선형회귀모형은 적합하다.</div>"
   ]
  },
  {
   "cell_type": "markdown",
   "id": "69336124-555d-4036-903a-f76c9f39e24d",
   "metadata": {},
   "source": [
    "**<p style=\"font-size:15px;text-indent:-15px;padding-left:15px\">5. `HW3_dt2.csv`는 화장품 제조업체 월별 판매량($y$)과 전체 산업의 해당 월별 판매량($x$) 데이터이다. (단위 : 백만 달러) 다음 물음에 답하여라.</p>**"
   ]
  },
  {
   "cell_type": "markdown",
   "id": "c0b08204-3da4-4e82-8af4-c818131596d0",
   "metadata": {},
   "source": [
    "<p style=\"padding-left:30px;text-indent:-15px\">(1) 단순선형회귀모형을 적합하여라.</p>"
   ]
  },
  {
   "cell_type": "markdown",
   "id": "5f80306f-1949-4046-acba-1c06a328418b",
   "metadata": {},
   "source": [
    "$$y_i = \\beta_0 + \\beta_1 x_i + \\epsilon_i, ~ \\epsilon_i \\overset{i.i.d}{\\sim} N(0, \\sigma^2)$$"
   ]
  },
  {
   "cell_type": "code",
   "execution_count": 119,
   "id": "8caf1b9d-5666-4601-81f8-79d0b3cc6984",
   "metadata": {},
   "outputs": [
    {
     "data": {
      "text/plain": [
       "\n",
       "Call:\n",
       "lm(formula = y ~ x, data = dt2)\n",
       "\n",
       "Residuals:\n",
       "       Min         1Q     Median         3Q        Max \n",
       "-0.0235865 -0.0151847 -0.0000263  0.0142397  0.0240685 \n",
       "\n",
       "Coefficients:\n",
       "             Estimate Std. Error t value Pr(>|t|)    \n",
       "(Intercept) -1.162107   0.035849  -32.42 5.06e-16 ***\n",
       "x            0.293350   0.005966   49.17  < 2e-16 ***\n",
       "---\n",
       "Signif. codes:  0 ‘***’ 0.001 ‘**’ 0.01 ‘*’ 0.05 ‘.’ 0.1 ‘ ’ 1\n",
       "\n",
       "Residual standard error: 0.01644 on 16 degrees of freedom\n",
       "Multiple R-squared:  0.9934,\tAdjusted R-squared:  0.993 \n",
       "F-statistic:  2418 on 1 and 16 DF,  p-value: < 2.2e-16\n"
      ]
     },
     "metadata": {},
     "output_type": "display_data"
    }
   ],
   "source": [
    "dt2_model <- lm(y~x, dt2)\n",
    "summary(dt2_model)"
   ]
  },
  {
   "cell_type": "markdown",
   "id": "8fadfd7f-296b-477b-913a-fb60692e64ec",
   "metadata": {},
   "source": [
    "`-` 적합된 회귀모형 : $\\hat y = -1.162107 + 0.293350 x$"
   ]
  },
  {
   "cell_type": "markdown",
   "id": "c7799204-a2d7-44f3-9d8d-91dc2f869c8f",
   "metadata": {},
   "source": [
    "<p style=\"padding-left:30px;text-indent:-15px\">(2) 잔차검정을 통해 모형의 적합성을 논의하여라.</p>"
   ]
  },
  {
   "cell_type": "code",
   "execution_count": 126,
   "id": "9292b5e1-e701-403e-bc17-2d9693b113ae",
   "metadata": {},
   "outputs": [
    {
     "data": {
      "image/png": "[encoded data removed]",
      "text/plain": [
       "Plot with title “Standarized residual plot”"
      ]
     },
     "metadata": {
      "image/png": {
       "height": 480,
       "width": 900
      }
     },
     "output_type": "display_data"
    }
   ],
   "source": [
    "plot(predict(dt2_model), rstandard(dt2_model),\n",
    "     pch = 16, cex = 2, col = \"darkorange\",\n",
    "     xlab = expression(hat(y)), ylab = \"e\", main = \"Standarized residual plot\", cex.main = 2)\n",
    "abline(h = 0, lwd = 2, lty = 2, col = \"grey\")"
   ]
  },
  {
   "cell_type": "markdown",
   "id": "36fbbfde-08fa-46ea-bf25-9486b650efaf",
   "metadata": {},
   "source": [
    "ⅰ) 선형성 : 3차 다항식과 같은 관계가 나타날 수도 있겠으나, 표준화된 잔차 그림이 0을 기준으로 어느정도는 대칭인 것으로 보인다.\n",
    "\n",
    "ⅱ) 등분산성 : $\\hat y$의 값이 커져도 잔차의 범위가 넓어지거나 하진 않아보인다. 따라서 등분산성 가정에는 문제가 없다."
   ]
  },
  {
   "cell_type": "code",
   "execution_count": 127,
   "id": "e313fc50-51fb-47b4-8997-abbb8333cf7b",
   "metadata": {},
   "outputs": [
    {
     "data": {
      "text/plain": [
       "\n",
       "\tstudentized Breusch-Pagan test\n",
       "\n",
       "data:  dt2_model\n",
       "BP = 0.0078249, df = 1, p-value = 0.9295\n"
      ]
     },
     "metadata": {},
     "output_type": "display_data"
    }
   ],
   "source": [
    "bptest(dt2_model)"
   ]
  },
  {
   "cell_type": "markdown",
   "id": "cf14d98c-5e75-4e8e-9132-9986176277af",
   "metadata": {},
   "source": [
    "ⅲ) 정규성 : 표준화된 잔차 중 그 절대값이 2 이상인 것은 존재하지 않는다. 따라서 정규성 가정에는 문제가 없다."
   ]
  },
  {
   "cell_type": "code",
   "execution_count": 128,
   "id": "e0d7b6a1-652e-4162-bfb5-9ae14c2443ab",
   "metadata": {},
   "outputs": [
    {
     "data": {
      "text/plain": [
       "\n",
       "\tShapiro-Wilk normality test\n",
       "\n",
       "data:  resid(dt2_model)\n",
       "W = 0.9292, p-value = 0.188\n"
      ]
     },
     "metadata": {},
     "output_type": "display_data"
    }
   ],
   "source": [
    "shapiro.test(resid(dt2_model))"
   ]
  },
  {
   "cell_type": "markdown",
   "id": "9c932150-ccfe-42dd-86eb-5d36b7d35532",
   "metadata": {},
   "source": [
    "ⅳ) 독립성 : 잔차 그림이 $\\hat y$의 값의 범위에 대하여 잔차가 양수면 양수끼리 몰려있고, 음수면 음수끼리 몰려있는 경향이 관찰된다. 따라서 잔차의 1차 양의 자기상관이 있는 것으로 추정되어 독립성 가정이 의심된다.\n",
    "\n",
    "<div class=\"alert alert-info\">위 결과에 따라 적합된 회귀모형의 적합성은 독립성의 성립 여부에 따라 재고해야할 가치가 있는 것으로 보인다.</div>"
   ]
  },
  {
   "cell_type": "markdown",
   "id": "f19c80d9-6257-4381-a312-9aad2888833a",
   "metadata": {},
   "source": [
    "<p style=\"padding-left:30px;text-indent:-15px\">(3) Durbin-Watson 검정을 통해, 오차간의 1차 자기상관이 있는지를 검정하여라.</p>"
   ]
  },
  {
   "cell_type": "code",
   "execution_count": 130,
   "id": "a018b23e-7bee-4c05-ab84-02cd32b02bac",
   "metadata": {},
   "outputs": [
    {
     "data": {
      "text/plain": [
       "\n",
       "\tDurbin-Watson test\n",
       "\n",
       "data:  dt2_model\n",
       "DW = 0.75686, p-value = 0.000733\n",
       "alternative hypothesis: true autocorrelation is not 0\n"
      ]
     },
     "metadata": {},
     "output_type": "display_data"
    }
   ],
   "source": [
    "dwtest(dt2_model, alternative = \"two.sided\")"
   ]
  },
  {
   "cell_type": "markdown",
   "id": "4c2eec20-f33a-4daa-91bf-ea1eaff207b2",
   "metadata": {},
   "source": [
    "> 더빈-왓슨 검정 결과, 오차간 1차 자기상관이 없다는 귀무가설을 기각한다. 이 경우 통계량이 0에 가까우므로, 오차는 양의 1차 자기상관이 있는 것으로 생각할 수 있다."
   ]
  },
  {
   "cell_type": "markdown",
   "id": "c4c38c6c-2865-4ecf-bf82-903fb7a81768",
   "metadata": {},
   "source": [
    "<p style=\"padding-left:30px;text-indent:-15px\">(4) 적당한 변수 변환을 통해 모형을 적합하여라.</p>"
   ]
  },
  {
   "cell_type": "markdown",
   "id": "2459810b-6ba3-449c-9605-732921d884fd",
   "metadata": {},
   "source": [
    "`-` 먼저 단순선형회귀에서의 결과를 통해 잔차의 1차 자기상관에 대한 표본상관계수를 산출해보자."
   ]
  },
  {
   "cell_type": "markdown",
   "id": "e47af5d7-502b-4774-8c68-a97ca197680c",
   "metadata": {},
   "source": [
    "$$\\begin{align}\\hat{\\rho} & = \\frac{\\displaystyle\\sum_{i = 2}^{n} (e_{i-1} - \\bar{e}_1)(e_i - \\bar{e}_2)}{\\displaystyle\\sum_{i = 2}^{n}(e_{i-1} - \\bar{e_1})^2}\\\\ \\\\\n",
    "& \\bar{e}_1 = \\frac{1}{n-1}\\displaystyle\\sum_{i = 2}^{n}e_{i-1} \\\\\n",
    "& \\bar{e}_2 = \\frac{1}{n-1}\\displaystyle\\sum_{i = 2}^{n}e_{i}\n",
    "\\end{align}$$"
   ]
  },
  {
   "cell_type": "code",
   "execution_count": 133,
   "id": "b9bba098-9f88-44dd-a466-4512486a0c83",
   "metadata": {},
   "outputs": [
    {
     "data": {
      "text/html": [
       "18"
      ],
      "text/latex": [
       "18"
      ],
      "text/markdown": [
       "18"
      ],
      "text/plain": [
       "[1] 18"
      ]
     },
     "metadata": {},
     "output_type": "display_data"
    }
   ],
   "source": [
    "length(resid(dt2_model))"
   ]
  },
  {
   "cell_type": "code",
   "execution_count": 138,
   "id": "46859866-e907-414f-b2d2-833ac3d23d56",
   "metadata": {},
   "outputs": [
    {
     "data": {
      "text/html": [
       "0.628098512537274"
      ],
      "text/latex": [
       "0.628098512537274"
      ],
      "text/markdown": [
       "0.628098512537274"
      ],
      "text/plain": [
       "[1] 0.6280985"
      ]
     },
     "metadata": {},
     "output_type": "display_data"
    }
   ],
   "source": [
    "e_1 <- resid(dt2_model)[-1]\n",
    "e_2 <- resid(dt2_model)[-18]\n",
    "\n",
    "rho_hat <- sum((e_1 - mean(e_1))*(e_2 - mean(e_2)))/(sum((e_1 - mean(e_1))^2))\n",
    "rho_hat"
   ]
  },
  {
   "cell_type": "markdown",
   "id": "db95cb39-646c-4aff-8e41-ec0c1d2c4c04",
   "metadata": {},
   "source": [
    "`-` 그러면, 이제 $y$와 $x$를 변환하여 잔차의 1차 자기상관에 해당하는 추세를 없애줄 수 있다.\n",
    "\n",
    "$$\\begin{align} y_i' & = y_i - \\hat{\\rho} y_{i-1} \\Rightarrow y_i' = \\beta_0 + \\beta_1 x_i + \\epsilon_i - \\hat{\\rho}(\\beta_0 + \\beta_1 x_{i-1} + \\epsilon_{i-1}) \\Rightarrow y_i' = \\beta_0' + \\beta_1 (x_i - \\hat{\\rho} x_{i-1}) + \\epsilon', \\epsilon' \\overset{i.i.d}{\\sim} N(0, \\sigma^2), ~ i = 2, 3, \\cdots, n \\\\ \\\\\n",
    "x_i' & = x_i - \\hat{\\rho} x_{i-1}\n",
    "\\end{align}$$"
   ]
  },
  {
   "cell_type": "code",
   "execution_count": 140,
   "id": "c968f09f-afb0-44f1-b23e-51544a602309",
   "metadata": {},
   "outputs": [],
   "source": [
    "x_t <- dt2$x[-1] - rho_hat*dt2$x[-18]\n",
    "y_t <- dt2$y[-1] - rho_hat*dt2$y[-18]"
   ]
  },
  {
   "cell_type": "code",
   "execution_count": 141,
   "id": "e8937adf-5111-4c7a-9d9c-0ca5eee4010f",
   "metadata": {},
   "outputs": [
    {
     "data": {
      "text/plain": [
       "\n",
       "Call:\n",
       "lm(formula = y_t ~ x_t)\n",
       "\n",
       "Residuals:\n",
       "       Min         1Q     Median         3Q        Max \n",
       "-0.0295400 -0.0053652 -0.0002024  0.0092768  0.0199910 \n",
       "\n",
       "Coefficients:\n",
       "            Estimate Std. Error t value Pr(>|t|)    \n",
       "(Intercept) -0.44451    0.03063  -14.51  3.1e-10 ***\n",
       "x_t          0.29829    0.01316   22.67  5.1e-13 ***\n",
       "---\n",
       "Signif. codes:  0 ‘***’ 0.001 ‘**’ 0.01 ‘*’ 0.05 ‘.’ 0.1 ‘ ’ 1\n",
       "\n",
       "Residual standard error: 0.01304 on 15 degrees of freedom\n",
       "Multiple R-squared:  0.9716,\tAdjusted R-squared:  0.9698 \n",
       "F-statistic:   514 on 1 and 15 DF,  p-value: 5.095e-13\n"
      ]
     },
     "metadata": {},
     "output_type": "display_data"
    }
   ],
   "source": [
    "dt2_model_trans <- lm(y_t~x_t)\n",
    "summary(dt2_model_trans)"
   ]
  },
  {
   "cell_type": "markdown",
   "id": "84f585a7-4ede-464c-9c2d-1f94a2c7e765",
   "metadata": {},
   "source": [
    "`-` 적합된 회귀모형 : $\\hat y = -0.44451 + 0.29829 x$"
   ]
  },
  {
   "cell_type": "markdown",
   "id": "5b545565-cdfb-42a5-82fe-33b3560d0232",
   "metadata": {},
   "source": [
    "<p style=\"padding-left:30px;text-indent:-15px\">(5) (4)의 모형에 대하여 Durbin-Watson 검정을 통해, 오차간의 1차 자기상관이 있는지를 검정하여라.</p>"
   ]
  },
  {
   "cell_type": "code",
   "execution_count": 143,
   "id": "87dbf6c6-ffa2-4cea-8a7a-979bdb9d6242",
   "metadata": {},
   "outputs": [
    {
     "data": {
      "text/plain": [
       "\n",
       "\tDurbin-Watson test\n",
       "\n",
       "data:  dt2_model_trans\n",
       "DW = 1.7538, p-value = 0.4257\n",
       "alternative hypothesis: true autocorrelation is not 0\n"
      ]
     },
     "metadata": {},
     "output_type": "display_data"
    }
   ],
   "source": [
    "dwtest(dt2_model_trans, alternative = \"two.sided\")"
   ]
  },
  {
   "cell_type": "markdown",
   "id": "611d16c7-618e-4665-b922-c06b2353c805",
   "metadata": {},
   "source": [
    "> 더빈-왓슨 검정 결과, 적당한 변수 변환을 거친 모형에서는 오차간의 1차 자기상관이 존재하지 않았다."
   ]
  },
  {
   "cell_type": "markdown",
   "id": "6f6ef8fc-d109-4c9e-9cc1-a667b086bcf7",
   "metadata": {},
   "source": [
    "<p style=\"padding-left:30px;text-indent:-15px\">(6) 모형 (1)에 의해서 구해진 최소제곱추정량과 모형 (4)에서 구한 최소제곱추정량의 표준오차를 비교하여라.</p>"
   ]
  },
  {
   "cell_type": "code",
   "execution_count": 153,
   "id": "a163b387-71ae-4c92-9761-d4a99c7a8013",
   "metadata": {},
   "outputs": [
    {
     "name": "stdout",
     "output_type": "stream",
     "text": [
      "[1] \"모형 (1)에 의해서 구해진 최소제곱추정량의 표준오차(RMSE) :  0.016437\"\n",
      "[1] \"모형 (4)에 의해서 구해진 최소제곱추정량의 표준오차(RMSE) :  0.013041\"\n"
     ]
    }
   ],
   "source": [
    "print(paste(\"모형 (1)에 의해서 구해진 최소제곱추정량의 표준오차(RMSE) : \", round(summary(dt2_model)$sigma, 6)))\n",
    "print(paste(\"모형 (4)에 의해서 구해진 최소제곱추정량의 표준오차(RMSE) : \", round(summary(dt2_model_trans)$sigma, 6)))"
   ]
  },
  {
   "cell_type": "markdown",
   "id": "5c179acd-4c5b-4600-b9f6-6d5ca94b3a52",
   "metadata": {},
   "source": [
    "> 모형 (4)에서 구한 최소제곱추정량의 표준오차가 더 작음을 알 수 있다."
   ]
  }
 ],
 "metadata": {
  "kernelspec": {
   "display_name": "R",
   "language": "R",
   "name": "ir"
  },
  "language_info": {
   "codemirror_mode": "r",
   "file_extension": ".r",
   "mimetype": "text/x-r-source",
   "name": "R",
   "pygments_lexer": "r",
   "version": "4.3.3"
  }
 },
 "nbformat": 4,
 "nbformat_minor": 5
}
