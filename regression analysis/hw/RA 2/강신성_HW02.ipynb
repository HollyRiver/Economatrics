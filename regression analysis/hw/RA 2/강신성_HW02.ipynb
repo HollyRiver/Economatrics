{
 "cells": [
  {
   "cell_type": "markdown",
   "id": "12d97945-e55d-449a-847d-4e4880a8b4e5",
   "metadata": {},
   "source": [
    "## <center>회귀분석2 HW 2</center>\n",
    "\n",
    "### **CH06, 07**"
   ]
  },
  {
   "cell_type": "markdown",
   "id": "7048984c-6feb-4353-a119-8fb77e1a338c",
   "metadata": {},
   "source": [
    "### 1. 어떤 공장에서 물의 소비량을 조사하기 위하여 매달의 물소비량($y$), 평균온도($x_1$), 작업일수($x_2$)와 작업량($x_3$)에 관한 데이터를 얻었다."
   ]
  },
  {
   "cell_type": "code",
   "execution_count": 99,
   "id": "11a5e148-86c4-4587-b325-b61a5d2b745f",
   "metadata": {},
   "outputs": [],
   "source": [
    "library(car)\n",
    "library(lmtest)"
   ]
  },
  {
   "cell_type": "code",
   "execution_count": 2,
   "id": "baf91b20-224f-4974-8509-69b5921470d7",
   "metadata": {},
   "outputs": [
    {
     "data": {
      "text/html": [
       "<table class=\"dataframe\">\n",
       "<caption>A data.frame: 10 × 4</caption>\n",
       "<thead>\n",
       "\t<tr><th scope=col>y</th><th scope=col>x1</th><th scope=col>x2</th><th scope=col>x3</th></tr>\n",
       "\t<tr><th scope=col>&lt;dbl&gt;</th><th scope=col>&lt;dbl&gt;</th><th scope=col>&lt;dbl&gt;</th><th scope=col>&lt;dbl&gt;</th></tr>\n",
       "</thead>\n",
       "<tbody>\n",
       "\t<tr><td>2.8</td><td>10</td><td>27</td><td>64</td></tr>\n",
       "\t<tr><td>3.9</td><td>24</td><td>26</td><td>72</td></tr>\n",
       "\t<tr><td>3.9</td><td>25</td><td>28</td><td>80</td></tr>\n",
       "\t<tr><td>4.4</td><td>28</td><td>26</td><td>88</td></tr>\n",
       "\t<tr><td>3.1</td><td>15</td><td>30</td><td>81</td></tr>\n",
       "\t<tr><td>3.1</td><td>18</td><td>24</td><td>45</td></tr>\n",
       "\t<tr><td>3.5</td><td>22</td><td>27</td><td>46</td></tr>\n",
       "\t<tr><td>3.6</td><td>22</td><td>25</td><td>69</td></tr>\n",
       "\t<tr><td>3.0</td><td>12</td><td>27</td><td>54</td></tr>\n",
       "\t<tr><td>3.3</td><td>15</td><td>25</td><td>39</td></tr>\n",
       "</tbody>\n",
       "</table>\n"
      ],
      "text/latex": [
       "A data.frame: 10 × 4\n",
       "\\begin{tabular}{llll}\n",
       " y & x1 & x2 & x3\\\\\n",
       " <dbl> & <dbl> & <dbl> & <dbl>\\\\\n",
       "\\hline\n",
       "\t 2.8 & 10 & 27 & 64\\\\\n",
       "\t 3.9 & 24 & 26 & 72\\\\\n",
       "\t 3.9 & 25 & 28 & 80\\\\\n",
       "\t 4.4 & 28 & 26 & 88\\\\\n",
       "\t 3.1 & 15 & 30 & 81\\\\\n",
       "\t 3.1 & 18 & 24 & 45\\\\\n",
       "\t 3.5 & 22 & 27 & 46\\\\\n",
       "\t 3.6 & 22 & 25 & 69\\\\\n",
       "\t 3.0 & 12 & 27 & 54\\\\\n",
       "\t 3.3 & 15 & 25 & 39\\\\\n",
       "\\end{tabular}\n"
      ],
      "text/markdown": [
       "\n",
       "A data.frame: 10 × 4\n",
       "\n",
       "| y &lt;dbl&gt; | x1 &lt;dbl&gt; | x2 &lt;dbl&gt; | x3 &lt;dbl&gt; |\n",
       "|---|---|---|---|\n",
       "| 2.8 | 10 | 27 | 64 |\n",
       "| 3.9 | 24 | 26 | 72 |\n",
       "| 3.9 | 25 | 28 | 80 |\n",
       "| 4.4 | 28 | 26 | 88 |\n",
       "| 3.1 | 15 | 30 | 81 |\n",
       "| 3.1 | 18 | 24 | 45 |\n",
       "| 3.5 | 22 | 27 | 46 |\n",
       "| 3.6 | 22 | 25 | 69 |\n",
       "| 3.0 | 12 | 27 | 54 |\n",
       "| 3.3 | 15 | 25 | 39 |\n",
       "\n"
      ],
      "text/plain": [
       "   y   x1 x2 x3\n",
       "1  2.8 10 27 64\n",
       "2  3.9 24 26 72\n",
       "3  3.9 25 28 80\n",
       "4  4.4 28 26 88\n",
       "5  3.1 15 30 81\n",
       "6  3.1 18 24 45\n",
       "7  3.5 22 27 46\n",
       "8  3.6 22 25 69\n",
       "9  3.0 12 27 54\n",
       "10 3.3 15 25 39"
      ]
     },
     "metadata": {},
     "output_type": "display_data"
    }
   ],
   "source": [
    "df = data.frame(y = c(2.8, 3.9, 3.9, 4.4, 3.1, 3.1, 3.5, 3.6, 3.0, 3.3),\n",
    "                x1 = c(10, 24, 25, 28, 15, 18, 22, 22, 12, 15),\n",
    "                x2 = c(27, 26, 28, 26, 30, 24, 27, 25, 27, 25),\n",
    "                x3 = c(64, 72, 80, 88, 81, 45, 46, 69, 54, 39))\n",
    "df"
   ]
  },
  {
   "cell_type": "markdown",
   "id": "3520388c-7115-4374-8f13-f51965e9aab8",
   "metadata": {},
   "source": [
    "**(1) 데이터로부터 회귀모형, $\\hat{y} = \\hat{\\beta_0} + \\hat{\\beta_1}x_1 + \\hat{\\beta_2}x_2 + \\hat{\\beta_3}x_3$을 구하여라.**"
   ]
  },
  {
   "cell_type": "code",
   "execution_count": 3,
   "id": "2b8869c4-5d91-451e-8b9e-854bd2fab453",
   "metadata": {},
   "outputs": [
    {
     "data": {
      "text/plain": [
       "\n",
       "Call:\n",
       "lm(formula = y ~ ., data = df)\n",
       "\n",
       "Coefficients:\n",
       "(Intercept)           x1           x2           x3  \n",
       "   2.409213     0.069788    -0.024767     0.005864  \n"
      ]
     },
     "metadata": {},
     "output_type": "display_data"
    }
   ],
   "source": [
    "model <- lm(y~., df)\n",
    "model"
   ]
  },
  {
   "cell_type": "markdown",
   "id": "d826f4ef-b573-45e9-b8a8-2d8f14d94214",
   "metadata": {},
   "source": [
    "적합된 회귀모형 : $\\hat{y} = 2.4092 + 0.0698x_1 - 0.0248x_2 + 0.0059x_3$"
   ]
  },
  {
   "cell_type": "markdown",
   "id": "060cae7f-cec2-43ab-99b6-a2b0437327e9",
   "metadata": {},
   "source": [
    "**(2) $\\hat{\\beta_1},~\\hat{\\beta_2},~\\hat{\\beta_3}$ 의 의미는 무엇인가?**"
   ]
  },
  {
   "cell_type": "markdown",
   "id": "c1136a11-8aa7-48be-8f7b-42ba5e184224",
   "metadata": {},
   "source": [
    "* $\\hat{\\beta_1}$ : 작업일수($x_2$)와 작업량($x_3$)이 고정되어 있을 때 평균온도를 1만큼 상승시키면 물 소비량이 0.0698만큼 증가한다.\n",
    "* $\\hat{\\beta_2}$ : 평균온도($x_1$)와 작업량($x_3$)이 고정되어 있을 때, 작업일수가 하루 늘어나면 물 소비량이 0.0248만큼 감소한다. (?)\n",
    "* $\\hat{\\beta_3}$ : 평균온도($x_1$)와 작업일수($x_2$)가 고정되어 있을 때, 작업량이 1만큼 늘어나면 물 소비량은 0.0059만큼 증가한다."
   ]
  },
  {
   "cell_type": "markdown",
   "id": "bf76d09e-b4fd-4f15-864b-69a17d83544e",
   "metadata": {},
   "source": [
    "**(3) 분산분석표를 작성하고, 결정계수 $R^2$를 구하시오.**"
   ]
  },
  {
   "cell_type": "markdown",
   "id": "28dfdcd3-6501-4144-a71f-45f6dfda9459",
   "metadata": {},
   "source": [
    "`-` 분산분석표 작성"
   ]
  },
  {
   "cell_type": "code",
   "execution_count": 4,
   "id": "716bb265-e0aa-4d77-9368-944aed96bf53",
   "metadata": {},
   "outputs": [
    {
     "data": {
      "text/html": [
       "<table class=\"dataframe\">\n",
       "<caption>A anova: 2 × 6</caption>\n",
       "<thead>\n",
       "\t<tr><th></th><th scope=col>Res.Df</th><th scope=col>RSS</th><th scope=col>Df</th><th scope=col>Sum of Sq</th><th scope=col>F</th><th scope=col>Pr(&gt;F)</th></tr>\n",
       "\t<tr><th></th><th scope=col>&lt;dbl&gt;</th><th scope=col>&lt;dbl&gt;</th><th scope=col>&lt;dbl&gt;</th><th scope=col>&lt;dbl&gt;</th><th scope=col>&lt;dbl&gt;</th><th scope=col>&lt;dbl&gt;</th></tr>\n",
       "</thead>\n",
       "<tbody>\n",
       "\t<tr><th scope=row>1</th><td>6</td><td>0.1775339</td><td>NA</td><td>       NA</td><td>      NA</td><td>         NA</td></tr>\n",
       "\t<tr><th scope=row>2</th><td>9</td><td>2.2240000</td><td>-3</td><td>-2.046466</td><td>23.05437</td><td>0.001078865</td></tr>\n",
       "</tbody>\n",
       "</table>\n"
      ],
      "text/latex": [
       "A anova: 2 × 6\n",
       "\\begin{tabular}{r|llllll}\n",
       "  & Res.Df & RSS & Df & Sum of Sq & F & Pr(>F)\\\\\n",
       "  & <dbl> & <dbl> & <dbl> & <dbl> & <dbl> & <dbl>\\\\\n",
       "\\hline\n",
       "\t1 & 6 & 0.1775339 & NA &        NA &       NA &          NA\\\\\n",
       "\t2 & 9 & 2.2240000 & -3 & -2.046466 & 23.05437 & 0.001078865\\\\\n",
       "\\end{tabular}\n"
      ],
      "text/markdown": [
       "\n",
       "A anova: 2 × 6\n",
       "\n",
       "| <!--/--> | Res.Df &lt;dbl&gt; | RSS &lt;dbl&gt; | Df &lt;dbl&gt; | Sum of Sq &lt;dbl&gt; | F &lt;dbl&gt; | Pr(&gt;F) &lt;dbl&gt; |\n",
       "|---|---|---|---|---|---|---|\n",
       "| 1 | 6 | 0.1775339 | NA |        NA |       NA |          NA |\n",
       "| 2 | 9 | 2.2240000 | -3 | -2.046466 | 23.05437 | 0.001078865 |\n",
       "\n"
      ],
      "text/plain": [
       "  Res.Df RSS       Df Sum of Sq F        Pr(>F)     \n",
       "1 6      0.1775339 NA        NA       NA          NA\n",
       "2 9      2.2240000 -3 -2.046466 23.05437 0.001078865"
      ]
     },
     "metadata": {},
     "output_type": "display_data"
    }
   ],
   "source": [
    "null_model = lm(y~1, df)\n",
    "anova(model, null_model)"
   ]
  },
  {
   "cell_type": "code",
   "execution_count": 5,
   "id": "55c4d46d-4d83-4268-9420-bc217a4edb84",
   "metadata": {},
   "outputs": [],
   "source": [
    "SSR <- apply(anova(model)[1:3, 1:2], 2, sum)\n",
    "SST <- SSR + anova(model)[4, 1:2]"
   ]
  },
  {
   "cell_type": "code",
   "execution_count": 6,
   "id": "4d072ad0-9c94-4dae-8cae-c3c9b1a675c9",
   "metadata": {},
   "outputs": [
    {
     "data": {
      "text/html": [
       "<table class=\"dataframe\">\n",
       "<caption>A data.frame: 3 × 5</caption>\n",
       "<thead>\n",
       "\t<tr><th></th><th scope=col>Df</th><th scope=col>Sum Sq</th><th scope=col>Mean Sq</th><th scope=col>F value</th><th scope=col>Pr(&gt;F)</th></tr>\n",
       "\t<tr><th></th><th scope=col>&lt;dbl&gt;</th><th scope=col>&lt;dbl&gt;</th><th scope=col>&lt;dbl&gt;</th><th scope=col>&lt;dbl&gt;</th><th scope=col>&lt;dbl&gt;</th></tr>\n",
       "</thead>\n",
       "<tbody>\n",
       "\t<tr><th scope=row>회귀</th><td>3</td><td>2.0464661</td><td>0.68215537</td><td>23.05437</td><td>0.001078865</td></tr>\n",
       "\t<tr><th scope=row>잔차</th><td>6</td><td>0.1775339</td><td>0.02958898</td><td>      NA</td><td>         NA</td></tr>\n",
       "\t<tr><th scope=row>총</th><td>9</td><td>2.2240000</td><td>        NA</td><td>      NA</td><td>         NA</td></tr>\n",
       "</tbody>\n",
       "</table>\n"
      ],
      "text/latex": [
       "A data.frame: 3 × 5\n",
       "\\begin{tabular}{r|lllll}\n",
       "  & Df & Sum Sq & Mean Sq & F value & Pr(>F)\\\\\n",
       "  & <dbl> & <dbl> & <dbl> & <dbl> & <dbl>\\\\\n",
       "\\hline\n",
       "\t회귀 & 3 & 2.0464661 & 0.68215537 & 23.05437 & 0.001078865\\\\\n",
       "\t잔차 & 6 & 0.1775339 & 0.02958898 &       NA &          NA\\\\\n",
       "\t총 & 9 & 2.2240000 &         NA &       NA &          NA\\\\\n",
       "\\end{tabular}\n"
      ],
      "text/markdown": [
       "\n",
       "A data.frame: 3 × 5\n",
       "\n",
       "| <!--/--> | Df &lt;dbl&gt; | Sum Sq &lt;dbl&gt; | Mean Sq &lt;dbl&gt; | F value &lt;dbl&gt; | Pr(&gt;F) &lt;dbl&gt; |\n",
       "|---|---|---|---|---|---|\n",
       "| 회귀 | 3 | 2.0464661 | 0.68215537 | 23.05437 | 0.001078865 |\n",
       "| 잔차 | 6 | 0.1775339 | 0.02958898 |       NA |          NA |\n",
       "| 총 | 9 | 2.2240000 |         NA |       NA |          NA |\n",
       "\n"
      ],
      "text/plain": [
       "     Df Sum Sq    Mean Sq    F value  Pr(>F)     \n",
       "회귀 3  2.0464661 0.68215537 23.05437 0.001078865\n",
       "잔차 6  0.1775339 0.02958898       NA          NA\n",
       "총   9  2.2240000         NA       NA          NA"
      ]
     },
     "metadata": {},
     "output_type": "display_data"
    }
   ],
   "source": [
    "anov = rbind(SSR, anova(model)[4, 1:2], SST)\n",
    "rownames(anov) <- c(\"회귀\", \"잔차\", \"총\")\n",
    "anov = cbind(anov, (anov[2] / anov[1]))\n",
    "anov = cbind(anov, anov[1,3] / anov[2,3], pf(anov[1,3] / anov[2,3], 3, 6, lower.tail = FALSE))\n",
    "colnames(anov) <- c(\"Df\", \"Sum Sq\", \"Mean Sq\", \"F value\", \"Pr(>F)\")\n",
    "anov[3, 3:5] <- NA\n",
    "anov[2, 4:5] <- NA\n",
    "anov"
   ]
  },
  {
   "cell_type": "markdown",
   "id": "7e55b284-8b07-4690-934c-0331e90042af",
   "metadata": {},
   "source": [
    "`-` $R^2$ 값 계산"
   ]
  },
  {
   "cell_type": "code",
   "execution_count": 7,
   "id": "9fee8ca3-136b-417a-a5e0-2a94ec39aeb4",
   "metadata": {},
   "outputs": [
    {
     "data": {
      "text/html": [
       "0.920173606300312"
      ],
      "text/latex": [
       "0.920173606300312"
      ],
      "text/markdown": [
       "0.920173606300312"
      ],
      "text/plain": [
       "[1] 0.9201736"
      ]
     },
     "metadata": {},
     "output_type": "display_data"
    }
   ],
   "source": [
    "summary(model)$r.squared"
   ]
  },
  {
   "cell_type": "markdown",
   "id": "c2cec689-b8b7-4046-96c6-58d6f441bca1",
   "metadata": {},
   "source": [
    "**(4) 수정된 결정계수를 구하여라.**"
   ]
  },
  {
   "cell_type": "code",
   "execution_count": 8,
   "id": "a607611d-1741-475d-80d1-b468bc850de7",
   "metadata": {},
   "outputs": [
    {
     "data": {
      "text/html": [
       "0.880260409450469"
      ],
      "text/latex": [
       "0.880260409450469"
      ],
      "text/markdown": [
       "0.880260409450469"
      ],
      "text/plain": [
       "[1] 0.8802604"
      ]
     },
     "metadata": {},
     "output_type": "display_data"
    }
   ],
   "source": [
    "summary(model)$adj.r.squared"
   ]
  },
  {
   "cell_type": "markdown",
   "id": "b43aa4b8-fd99-4b3c-9a4f-b6037653cfba",
   "metadata": {},
   "source": [
    "**(5) $Var(\\hat{\\beta_3})$ 을 구하시오. $\\sigma^2$을 MSE로 추정하면 $\\widehat{Var}(\\hat{\\beta_3})$ 은 무엇인가?**"
   ]
  },
  {
   "cell_type": "code",
   "execution_count": 9,
   "id": "1e8b02fd-d570-458a-8b42-883bb22bca22",
   "metadata": {},
   "outputs": [
    {
     "data": {
      "text/html": [
       "<table class=\"dataframe\">\n",
       "<caption>A matrix: 4 × 4 of type dbl</caption>\n",
       "<thead>\n",
       "\t<tr><th></th><th scope=col></th><th scope=col>x1</th><th scope=col>x2</th><th scope=col>x3</th></tr>\n",
       "</thead>\n",
       "<tbody>\n",
       "\t<tr><th scope=row></th><td>42.8460778</td><td>-0.274517258</td><td>-1.666784957</td><td> 0.1044984818</td></tr>\n",
       "\t<tr><th scope=row>x1</th><td>-0.2745173</td><td> 0.005399764</td><td> 0.009802163</td><td>-0.0013851965</td></tr>\n",
       "\t<tr><th scope=row>x2</th><td>-1.6667850</td><td> 0.009802163</td><td> 0.067921641</td><td>-0.0050213139</td></tr>\n",
       "\t<tr><th scope=row>x3</th><td> 0.1044985</td><td>-0.001385196</td><td>-0.005021314</td><td> 0.0008624387</td></tr>\n",
       "</tbody>\n",
       "</table>\n"
      ],
      "text/latex": [
       "A matrix: 4 × 4 of type dbl\n",
       "\\begin{tabular}{r|llll}\n",
       "  &  & x1 & x2 & x3\\\\\n",
       "\\hline\n",
       "\t & 42.8460778 & -0.274517258 & -1.666784957 &  0.1044984818\\\\\n",
       "\tx1 & -0.2745173 &  0.005399764 &  0.009802163 & -0.0013851965\\\\\n",
       "\tx2 & -1.6667850 &  0.009802163 &  0.067921641 & -0.0050213139\\\\\n",
       "\tx3 &  0.1044985 & -0.001385196 & -0.005021314 &  0.0008624387\\\\\n",
       "\\end{tabular}\n"
      ],
      "text/markdown": [
       "\n",
       "A matrix: 4 × 4 of type dbl\n",
       "\n",
       "| <!--/--> | <!----> | x1 | x2 | x3 |\n",
       "|---|---|---|---|---|\n",
       "| <!----> | 42.8460778 | -0.274517258 | -1.666784957 |  0.1044984818 |\n",
       "| x1 | -0.2745173 |  0.005399764 |  0.009802163 | -0.0013851965 |\n",
       "| x2 | -1.6667850 |  0.009802163 |  0.067921641 | -0.0050213139 |\n",
       "| x3 |  0.1044985 | -0.001385196 | -0.005021314 |  0.0008624387 |\n",
       "\n"
      ],
      "text/plain": [
       "              x1           x2           x3           \n",
       "   42.8460778 -0.274517258 -1.666784957  0.1044984818\n",
       "x1 -0.2745173  0.005399764  0.009802163 -0.0013851965\n",
       "x2 -1.6667850  0.009802163  0.067921641 -0.0050213139\n",
       "x3  0.1044985 -0.001385196 -0.005021314  0.0008624387"
      ]
     },
     "metadata": {},
     "output_type": "display_data"
    }
   ],
   "source": [
    "X <- cbind(1, as.matrix(df[2:4]))\n",
    "MSE <- (summary(model)$sigma)^2\n",
    "solve_XX <- solve(t(X)%*%X)\n",
    "solve_XX"
   ]
  },
  {
   "cell_type": "markdown",
   "id": "653cbfd2-78dd-4c67-82bb-848dbb98f0fc",
   "metadata": {},
   "source": [
    "`-` $Var(\\hat{\\beta_3})$ 의 값"
   ]
  },
  {
   "cell_type": "code",
   "execution_count": 10,
   "id": "5c1ee9f1-8a7f-43dd-a9f2-e2aba874ecb5",
   "metadata": {},
   "outputs": [
    {
     "name": "stdout",
     "output_type": "stream",
     "text": [
      "[1] \"0.0008624387021274 × Var(y)\"\n"
     ]
    }
   ],
   "source": [
    "print(paste(solve_XX[4,4], \"× Var(y)\"))"
   ]
  },
  {
   "cell_type": "markdown",
   "id": "fd4b8557-15b3-42a9-8fe4-dfba0df4a852",
   "metadata": {},
   "source": [
    "`-` $\\widehat{Var}(\\hat{\\beta_3})$ 의 값"
   ]
  },
  {
   "cell_type": "code",
   "execution_count": 11,
   "id": "b0c0dfeb-218c-4003-b3a2-eea8a5bac131",
   "metadata": {},
   "outputs": [
    {
     "data": {
      "text/html": [
       "2.55186843240636e-05"
      ],
      "text/latex": [
       "2.55186843240636e-05"
      ],
      "text/markdown": [
       "2.55186843240636e-05"
      ],
      "text/plain": [
       "[1] 2.551868e-05"
      ]
     },
     "metadata": {},
     "output_type": "display_data"
    }
   ],
   "source": [
    "solve_XX[4,4]*MSE"
   ]
  },
  {
   "cell_type": "code",
   "execution_count": 12,
   "id": "9efc6c0b-7317-4246-9b6b-0f4de0c69afd",
   "metadata": {},
   "outputs": [
    {
     "data": {
      "text/html": [
       "2.55186843240635e-05"
      ],
      "text/latex": [
       "2.55186843240635e-05"
      ],
      "text/markdown": [
       "2.55186843240635e-05"
      ],
      "text/plain": [
       "[1] 2.551868e-05"
      ]
     },
     "metadata": {},
     "output_type": "display_data"
    }
   ],
   "source": [
    "vcov(model)[4,4]"
   ]
  },
  {
   "cell_type": "markdown",
   "id": "63a3d0df-9db9-4653-a41e-09f9121b2927",
   "metadata": {},
   "source": [
    "**(6) $x_1 = 20,~x_2 = 27,~x_3 = 60$에서 평균 물소비량을 추정하시오. 이 추정된 소비량의 표준편차의 추정값을 구하시오.**"
   ]
  },
  {
   "cell_type": "markdown",
   "id": "345f589c-23d2-44b9-a9b9-8c97c1e11b41",
   "metadata": {},
   "source": [
    "`-` 평균 물 소비량 추정 : $\\widehat{E(Y | \\textbf{x})}$"
   ]
  },
  {
   "cell_type": "code",
   "execution_count": 13,
   "id": "8423f280-0733-4117-ad72-6b7b3d67e2c7",
   "metadata": {},
   "outputs": [
    {
     "data": {
      "text/html": [
       "<strong>1:</strong> 3.48814105556645"
      ],
      "text/latex": [
       "\\textbf{1:} 3.48814105556645"
      ],
      "text/markdown": [
       "**1:** 3.48814105556645"
      ],
      "text/plain": [
       "       1 \n",
       "3.488141 "
      ]
     },
     "metadata": {},
     "output_type": "display_data"
    }
   ],
   "source": [
    "predict(model, newdata = data.frame(x1 = 20, x2 = 27, x3 = 60))"
   ]
  },
  {
   "cell_type": "markdown",
   "id": "9151c344-9f89-4dbf-bed4-e1ebdabd90f7",
   "metadata": {},
   "source": [
    "`-` 추정된 평균 물 소비량의 표준편차 추정 : $\\widehat{Var(\\hat{\\mu_0})}$"
   ]
  },
  {
   "cell_type": "code",
   "execution_count": 14,
   "id": "a8596f88-8555-4df5-ad42-5ccdea4cee67",
   "metadata": {},
   "outputs": [],
   "source": [
    "x_0 <- c(1, 20, 27, 60)"
   ]
  },
  {
   "cell_type": "code",
   "execution_count": 15,
   "id": "5c70dc9b-b766-4b9e-aec1-210cd67c75a8",
   "metadata": {},
   "outputs": [
    {
     "data": {
      "text/html": [
       "0.00506520538195768"
      ],
      "text/latex": [
       "0.00506520538195768"
      ],
      "text/markdown": [
       "0.00506520538195768"
      ],
      "text/plain": [
       "[1] 0.005065205"
      ]
     },
     "metadata": {},
     "output_type": "display_data"
    }
   ],
   "source": [
    "as.numeric(t(x_0)%*%solve_XX%*%x_0*MSE)"
   ]
  },
  {
   "cell_type": "markdown",
   "id": "ebb82842-0dc8-48fa-9874-822d6537f2e5",
   "metadata": {},
   "source": [
    "**(7) $x_1 = 20,~x_2 = 27,~x_3 = 60$ 에서 어느 한 달의 물 소비량 $y_0$를 예측하여라. 이 예측된 물 소비량의 표준편차의 추정값을 구하시오.**"
   ]
  },
  {
   "cell_type": "markdown",
   "id": "c92797c5-2765-4a66-8a5d-dbfca0d17a0c",
   "metadata": {},
   "source": [
    "`-` 개별 물 소비량 추정 : $\\hat{y_0} = \\widehat{E(Y | \\textbf{x})}$"
   ]
  },
  {
   "cell_type": "code",
   "execution_count": 16,
   "id": "caf8fda0-fa70-4059-ad68-5820053cd07e",
   "metadata": {},
   "outputs": [
    {
     "data": {
      "text/html": [
       "<strong>1:</strong> 3.48814105556645"
      ],
      "text/latex": [
       "\\textbf{1:} 3.48814105556645"
      ],
      "text/markdown": [
       "**1:** 3.48814105556645"
      ],
      "text/plain": [
       "       1 \n",
       "3.488141 "
      ]
     },
     "metadata": {},
     "output_type": "display_data"
    }
   ],
   "source": [
    "predict(model, newdata = data.frame(x1 = 20, x2 = 27, x3 = 60))"
   ]
  },
  {
   "cell_type": "markdown",
   "id": "ba3dced9-db9b-4130-b4f9-70233e69c459",
   "metadata": {},
   "source": [
    "`-` 추정된 개별 물 소비량의 표준편차 추정 : $\\widehat{Var(\\hat{y_0}})$"
   ]
  },
  {
   "cell_type": "code",
   "execution_count": 17,
   "id": "4cb88f2c-0699-4b01-8a16-bc72b2497eab",
   "metadata": {},
   "outputs": [
    {
     "data": {
      "text/html": [
       "0.0346541886466419"
      ],
      "text/latex": [
       "0.0346541886466419"
      ],
      "text/markdown": [
       "0.0346541886466419"
      ],
      "text/plain": [
       "[1] 0.03465419"
      ]
     },
     "metadata": {},
     "output_type": "display_data"
    }
   ],
   "source": [
    "as.numeric((1 + t(x_0)%*%solve_XX%*%x_0)*MSE)"
   ]
  },
  {
   "cell_type": "markdown",
   "id": "c4c0ecd8-dd14-497d-bba4-81475e974f15",
   "metadata": {},
   "source": [
    "**(8) $\\beta_3$ 의 $95\\%$ 신뢰구간을 구하시오. 이 신뢰구간의 의미를 해석하시오.**"
   ]
  },
  {
   "cell_type": "code",
   "execution_count": 18,
   "id": "8ecdff32-0268-4b6e-b6c2-c9bb6914c3cc",
   "metadata": {},
   "outputs": [
    {
     "data": {
      "text/html": [
       "<table class=\"dataframe\">\n",
       "<caption>A matrix: 4 × 4 of type dbl</caption>\n",
       "<thead>\n",
       "\t<tr><th></th><th scope=col>Estimate</th><th scope=col>Std. Error</th><th scope=col>t value</th><th scope=col>Pr(&gt;|t|)</th></tr>\n",
       "</thead>\n",
       "<tbody>\n",
       "\t<tr><th scope=row>(Intercept)</th><td> 2.409213010</td><td>1.125953765</td><td> 2.1397087</td><td>0.076181015</td></tr>\n",
       "\t<tr><th scope=row>x1</th><td> 0.069788005</td><td>0.012640155</td><td> 5.5211353</td><td>0.001485354</td></tr>\n",
       "\t<tr><th scope=row>x2</th><td>-0.024766597</td><td>0.044830038</td><td>-0.5524554</td><td>0.600595338</td></tr>\n",
       "\t<tr><th scope=row>x3</th><td> 0.005864434</td><td>0.005051602</td><td> 1.1609058</td><td>0.289775583</td></tr>\n",
       "</tbody>\n",
       "</table>\n"
      ],
      "text/latex": [
       "A matrix: 4 × 4 of type dbl\n",
       "\\begin{tabular}{r|llll}\n",
       "  & Estimate & Std. Error & t value & Pr(>\\textbar{}t\\textbar{})\\\\\n",
       "\\hline\n",
       "\t(Intercept) &  2.409213010 & 1.125953765 &  2.1397087 & 0.076181015\\\\\n",
       "\tx1 &  0.069788005 & 0.012640155 &  5.5211353 & 0.001485354\\\\\n",
       "\tx2 & -0.024766597 & 0.044830038 & -0.5524554 & 0.600595338\\\\\n",
       "\tx3 &  0.005864434 & 0.005051602 &  1.1609058 & 0.289775583\\\\\n",
       "\\end{tabular}\n"
      ],
      "text/markdown": [
       "\n",
       "A matrix: 4 × 4 of type dbl\n",
       "\n",
       "| <!--/--> | Estimate | Std. Error | t value | Pr(&gt;|t|) |\n",
       "|---|---|---|---|---|\n",
       "| (Intercept) |  2.409213010 | 1.125953765 |  2.1397087 | 0.076181015 |\n",
       "| x1 |  0.069788005 | 0.012640155 |  5.5211353 | 0.001485354 |\n",
       "| x2 | -0.024766597 | 0.044830038 | -0.5524554 | 0.600595338 |\n",
       "| x3 |  0.005864434 | 0.005051602 |  1.1609058 | 0.289775583 |\n",
       "\n"
      ],
      "text/plain": [
       "            Estimate     Std. Error  t value    Pr(>|t|)   \n",
       "(Intercept)  2.409213010 1.125953765  2.1397087 0.076181015\n",
       "x1           0.069788005 0.012640155  5.5211353 0.001485354\n",
       "x2          -0.024766597 0.044830038 -0.5524554 0.600595338\n",
       "x3           0.005864434 0.005051602  1.1609058 0.289775583"
      ]
     },
     "metadata": {},
     "output_type": "display_data"
    }
   ],
   "source": [
    "summary(model)$coef"
   ]
  },
  {
   "cell_type": "code",
   "execution_count": 19,
   "id": "64e87aa1-4fa0-42a6-9460-bb0832c3e6af",
   "metadata": {},
   "outputs": [
    {
     "name": "stdout",
     "output_type": "stream",
     "text": [
      "[1] \"회귀계수에 대한 95% CI : (-0.00649639079638348, 0.0182252595602561)\"\n"
     ]
    }
   ],
   "source": [
    "sigma_3 <- summary(model)$coef[4,2]\n",
    "lwb <- model$coef[4] - qt(0.975, 10-4)*sigma_3\n",
    "upb <- model$coef[4] + qt(0.975, 10-4)*sigma_3\n",
    "\n",
    "print(paste(\"회귀계수에 대한 95% CI : (\", lwb, \", \", upb, \")\", sep = \"\"))"
   ]
  },
  {
   "cell_type": "markdown",
   "id": "d4f8e70a-705a-4e87-8649-2a54bc87c858",
   "metadata": {},
   "source": [
    "> 해당 신뢰구간이 $\\beta_3$ 를 포함할 확률이 95%라는 의미이다. 개별 회귀계수의 검정에서 귀무가설이 $H_0 : \\beta_3 = 0$ 인데, 0이 이 구간에 포함되어 있다. 따라서 해당 신뢰구간은 회귀계수가 유의하지 않다는 것을 뒷받침한다."
   ]
  },
  {
   "cell_type": "code",
   "execution_count": 20,
   "id": "0398af15-3ea3-41c1-bdae-5d665ec9e536",
   "metadata": {},
   "outputs": [
    {
     "data": {
      "text/html": [
       "<style>\n",
       ".dl-inline {width: auto; margin:0; padding: 0}\n",
       ".dl-inline>dt, .dl-inline>dd {float: none; width: auto; display: inline-block}\n",
       ".dl-inline>dt::after {content: \":\\0020\"; padding-right: .5ex}\n",
       ".dl-inline>dt:not(:first-of-type) {padding-left: .5ex}\n",
       "</style><dl class=dl-inline><dt>2.5 %</dt><dd>-0.00649639079638348</dd><dt>97.5 %</dt><dd>0.0182252595602561</dd></dl>\n"
      ],
      "text/latex": [
       "\\begin{description*}\n",
       "\\item[2.5 \\textbackslash{}\\%] -0.00649639079638348\n",
       "\\item[97.5 \\textbackslash{}\\%] 0.0182252595602561\n",
       "\\end{description*}\n"
      ],
      "text/markdown": [
       "2.5 %\n",
       ":   -0.0064963907963834897.5 %\n",
       ":   0.0182252595602561\n",
       "\n"
      ],
      "text/plain": [
       "       2.5 %       97.5 % \n",
       "-0.006496391  0.018225260 "
      ]
     },
     "metadata": {},
     "output_type": "display_data"
    }
   ],
   "source": [
    "confint(model, level = 0.95)[4,]"
   ]
  },
  {
   "cell_type": "markdown",
   "id": "f3d13dda-56ca-4ec8-a08d-34f398acfbc1",
   "metadata": {},
   "source": [
    "**(9) $\\beta_1$ 의 $99\\%$ 신뢰구간을 구하시오. 이 신뢰구간의 의미를 해석하시오.**"
   ]
  },
  {
   "cell_type": "code",
   "execution_count": 21,
   "id": "416f33b4-20fd-4329-b805-b4b099b1b1be",
   "metadata": {},
   "outputs": [
    {
     "name": "stdout",
     "output_type": "stream",
     "text": [
      "[1] \"회귀계수에 대한 99% CI : (0.0229255411545763, 0.116650469571381)\"\n"
     ]
    }
   ],
   "source": [
    "sigma_1 <- summary(model)$coef[2,2]\n",
    "lwb <- model$coef[2] - qt(0.995, 10-4)*sigma_1\n",
    "upb <- model$coef[2] + qt(0.995, 10-4)*sigma_1\n",
    "\n",
    "print(paste(\"회귀계수에 대한 99% CI : (\", lwb, \", \", upb, \")\", sep = \"\"))"
   ]
  },
  {
   "cell_type": "markdown",
   "id": "692726f3-77ac-4af8-b91c-f032ef368030",
   "metadata": {},
   "source": [
    "> 해당 신뢰구간이 $\\beta_1$ 를 포함할 확률이 99%라는 의미이다. 개별 회귀계수의 검정에서 귀무가설이 $H_0 : \\beta_1 = 0$ 인데, 0이 이 구간에 포함되어 있지 않으므로, 해당 신뢰구간은 회귀계수가 유의하다는 것을 뒷받침한다."
   ]
  },
  {
   "cell_type": "code",
   "execution_count": 22,
   "id": "7623f0c1-2d8a-495b-9ee1-572e3b72e3a7",
   "metadata": {},
   "outputs": [
    {
     "data": {
      "text/html": [
       "<style>\n",
       ".dl-inline {width: auto; margin:0; padding: 0}\n",
       ".dl-inline>dt, .dl-inline>dd {float: none; width: auto; display: inline-block}\n",
       ".dl-inline>dt::after {content: \":\\0020\"; padding-right: .5ex}\n",
       ".dl-inline>dt:not(:first-of-type) {padding-left: .5ex}\n",
       "</style><dl class=dl-inline><dt>0.5 %</dt><dd>0.0229255411545763</dd><dt>99.5 %</dt><dd>0.116650469571381</dd></dl>\n"
      ],
      "text/latex": [
       "\\begin{description*}\n",
       "\\item[0.5 \\textbackslash{}\\%] 0.0229255411545763\n",
       "\\item[99.5 \\textbackslash{}\\%] 0.116650469571381\n",
       "\\end{description*}\n"
      ],
      "text/markdown": [
       "0.5 %\n",
       ":   0.022925541154576399.5 %\n",
       ":   0.116650469571381\n",
       "\n"
      ],
      "text/plain": [
       "     0.5 %     99.5 % \n",
       "0.02292554 0.11665047 "
      ]
     },
     "metadata": {},
     "output_type": "display_data"
    }
   ],
   "source": [
    "confint(model, level = 0.99)[2,]"
   ]
  },
  {
   "cell_type": "markdown",
   "id": "d9f48c1b-917e-4609-a1cd-24429bf5580b",
   "metadata": {},
   "source": [
    "**(10) $x_1 = 20,~x_2 = 27,~x_3 = 60$ 에서 평균 물 소비량, $E(y)$ 의 $95\\%$ 신뢰구간을 구하시오.**"
   ]
  },
  {
   "cell_type": "code",
   "execution_count": 23,
   "id": "0f400238-3e5e-4166-8d9b-9bb0e6293321",
   "metadata": {},
   "outputs": [
    {
     "name": "stdout",
     "output_type": "stream",
     "text": [
      "[1] \"평균 물 소비량의 95% CI : (3.31399371197438, 3.66228839915852)\"\n"
     ]
    }
   ],
   "source": [
    "CI <- predict(model, newdata = data.frame(x1 = 20, x2 = 27, x3 = 60), interval = \"confidence\", level = 0.95)\n",
    "print(paste(\"평균 물 소비량의 95% CI : (\", CI[2], \", \", CI[3], \")\", sep = \"\"))"
   ]
  },
  {
   "cell_type": "markdown",
   "id": "ab516a11-40af-49f6-90f0-acda057b5e9e",
   "metadata": {},
   "source": [
    "**(11) 가설 $H_0 : \\beta_1 = 0,~ vs. ~ H_1 : \\beta_1 > 0$ 을 $\\alpha = 0.05$ 로 검정하시오.**"
   ]
  },
  {
   "cell_type": "markdown",
   "id": "72ca7916-6e72-4d15-a3bf-b7df36457661",
   "metadata": {},
   "source": [
    "ⅰ) 검정통계량 $T = \\frac{\\hat{\\beta_1}-0}{\\sigma_{\\hat{\\beta_1}}} \\sim N(\\beta_1, \\sigma_{\\hat{\\beta_1}}^2)$\n",
    "\n",
    "ⅱ) 검정통계량의 관측값"
   ]
  },
  {
   "cell_type": "code",
   "execution_count": 24,
   "id": "51fd7d9f-47da-43a5-9d34-9ad39d7af48c",
   "metadata": {},
   "outputs": [
    {
     "data": {
      "text/html": [
       "<strong>x1:</strong> 5.52113532665404"
      ],
      "text/latex": [
       "\\textbf{x1:} 5.52113532665404"
      ],
      "text/markdown": [
       "**x1:** 5.52113532665404"
      ],
      "text/plain": [
       "      x1 \n",
       "5.521135 "
      ]
     },
     "metadata": {},
     "output_type": "display_data"
    }
   ],
   "source": [
    "t_value = model$coef[2] / summary(model)$coef[2,2]\n",
    "t_value"
   ]
  },
  {
   "cell_type": "markdown",
   "id": "df783074-99a7-4e6a-a070-257acb21ad00",
   "metadata": {},
   "source": [
    "ⅲ) p-value"
   ]
  },
  {
   "cell_type": "code",
   "execution_count": 25,
   "id": "da18ef64-18bc-42c9-8174-c2a4858fee60",
   "metadata": {},
   "outputs": [
    {
     "data": {
      "text/html": [
       "<strong>x1:</strong> 0.000742677170321033"
      ],
      "text/latex": [
       "\\textbf{x1:} 0.000742677170321033"
      ],
      "text/markdown": [
       "**x1:** 0.000742677170321033"
      ],
      "text/plain": [
       "          x1 \n",
       "0.0007426772 "
      ]
     },
     "metadata": {},
     "output_type": "display_data"
    }
   ],
   "source": [
    "p_value = pt(t_value, 10-4, lower.tail = FALSE)\n",
    "p_value"
   ]
  },
  {
   "cell_type": "code",
   "execution_count": 26,
   "id": "a2918f78-6d01-4307-aea2-1120f4ecfdbd",
   "metadata": {},
   "outputs": [
    {
     "data": {
      "text/html": [
       "0.000742677170321033"
      ],
      "text/latex": [
       "0.000742677170321033"
      ],
      "text/markdown": [
       "0.000742677170321033"
      ],
      "text/plain": [
       "[1] 0.0007426772"
      ]
     },
     "metadata": {},
     "output_type": "display_data"
    }
   ],
   "source": [
    "summary(model)$coef[2,4]/2"
   ]
  },
  {
   "cell_type": "code",
   "execution_count": 27,
   "id": "2270e9a1-b9d8-43f1-aea0-3dfe8703bc14",
   "metadata": {},
   "outputs": [
    {
     "data": {
      "text/html": [
       "<strong>x1:</strong> TRUE"
      ],
      "text/latex": [
       "\\textbf{x1:} TRUE"
      ],
      "text/markdown": [
       "**x1:** TRUE"
      ],
      "text/plain": [
       "  x1 \n",
       "TRUE "
      ]
     },
     "metadata": {},
     "output_type": "display_data"
    }
   ],
   "source": [
    "p_value < 0.05"
   ]
  },
  {
   "cell_type": "markdown",
   "id": "d95f7430-f8d5-443d-8d28-dfe1c85f1166",
   "metadata": {},
   "source": [
    "> p-value가 유의수준 $\\alpha = 0.05$ 보다 작으므로, 귀무가설을 기각하고 대립가설을 수용한다. 즉, $\\beta_1$ 은 0보다 크다."
   ]
  },
  {
   "cell_type": "markdown",
   "id": "fe9cf77f-6b4a-4306-8bb0-2e902312e372",
   "metadata": {},
   "source": [
    "**(12) 가설 $H_0 : \\beta_1 = \\beta_2 = \\beta_3$ 을 $\\alpha = 0.05$ 로 검정하시오.**"
   ]
  },
  {
   "cell_type": "markdown",
   "id": "03d7bc6a-cf9f-45fd-a954-144a9d784669",
   "metadata": {},
   "source": [
    "$H_1 : ￢~H_0$"
   ]
  },
  {
   "cell_type": "markdown",
   "id": "461a6cb7-1300-49ca-8df7-3840d7c10b51",
   "metadata": {},
   "source": [
    "* $RM : y = \\gamma_0 + \\gamma_1(x_1+x_2+x_3) + \\epsilon$"
   ]
  },
  {
   "cell_type": "code",
   "execution_count": 28,
   "id": "e4245ab7-604c-43ce-9b26-480ac553267c",
   "metadata": {},
   "outputs": [
    {
     "data": {
      "text/html": [
       "<table class=\"dataframe\">\n",
       "<caption>A data.frame: 10 × 2</caption>\n",
       "<thead>\n",
       "\t<tr><th scope=col>y</th><th scope=col>x</th></tr>\n",
       "\t<tr><th scope=col>&lt;dbl&gt;</th><th scope=col>&lt;dbl&gt;</th></tr>\n",
       "</thead>\n",
       "<tbody>\n",
       "\t<tr><td>2.8</td><td>101</td></tr>\n",
       "\t<tr><td>3.9</td><td>122</td></tr>\n",
       "\t<tr><td>3.9</td><td>133</td></tr>\n",
       "\t<tr><td>4.4</td><td>142</td></tr>\n",
       "\t<tr><td>3.1</td><td>126</td></tr>\n",
       "\t<tr><td>3.1</td><td> 87</td></tr>\n",
       "\t<tr><td>3.5</td><td> 95</td></tr>\n",
       "\t<tr><td>3.6</td><td>116</td></tr>\n",
       "\t<tr><td>3.0</td><td> 93</td></tr>\n",
       "\t<tr><td>3.3</td><td> 79</td></tr>\n",
       "</tbody>\n",
       "</table>\n"
      ],
      "text/latex": [
       "A data.frame: 10 × 2\n",
       "\\begin{tabular}{ll}\n",
       " y & x\\\\\n",
       " <dbl> & <dbl>\\\\\n",
       "\\hline\n",
       "\t 2.8 & 101\\\\\n",
       "\t 3.9 & 122\\\\\n",
       "\t 3.9 & 133\\\\\n",
       "\t 4.4 & 142\\\\\n",
       "\t 3.1 & 126\\\\\n",
       "\t 3.1 &  87\\\\\n",
       "\t 3.5 &  95\\\\\n",
       "\t 3.6 & 116\\\\\n",
       "\t 3.0 &  93\\\\\n",
       "\t 3.3 &  79\\\\\n",
       "\\end{tabular}\n"
      ],
      "text/markdown": [
       "\n",
       "A data.frame: 10 × 2\n",
       "\n",
       "| y &lt;dbl&gt; | x &lt;dbl&gt; |\n",
       "|---|---|\n",
       "| 2.8 | 101 |\n",
       "| 3.9 | 122 |\n",
       "| 3.9 | 133 |\n",
       "| 4.4 | 142 |\n",
       "| 3.1 | 126 |\n",
       "| 3.1 |  87 |\n",
       "| 3.5 |  95 |\n",
       "| 3.6 | 116 |\n",
       "| 3.0 |  93 |\n",
       "| 3.3 |  79 |\n",
       "\n"
      ],
      "text/plain": [
       "   y   x  \n",
       "1  2.8 101\n",
       "2  3.9 122\n",
       "3  3.9 133\n",
       "4  4.4 142\n",
       "5  3.1 126\n",
       "6  3.1  87\n",
       "7  3.5  95\n",
       "8  3.6 116\n",
       "9  3.0  93\n",
       "10 3.3  79"
      ]
     },
     "metadata": {},
     "output_type": "display_data"
    }
   ],
   "source": [
    "df_rm = data.frame(df[,1], apply(df[,2:4], 1, sum))\n",
    "colnames(df_rm) = c(\"y\", \"x\")\n",
    "df_rm"
   ]
  },
  {
   "cell_type": "code",
   "execution_count": 29,
   "id": "9f323dcd-f54a-4dc1-95d8-cccfdef09f20",
   "metadata": {},
   "outputs": [
    {
     "data": {
      "text/html": [
       "<table class=\"dataframe\">\n",
       "<caption>A anova: 2 × 6</caption>\n",
       "<thead>\n",
       "\t<tr><th></th><th scope=col>Res.Df</th><th scope=col>RSS</th><th scope=col>Df</th><th scope=col>Sum of Sq</th><th scope=col>F</th><th scope=col>Pr(&gt;F)</th></tr>\n",
       "\t<tr><th></th><th scope=col>&lt;dbl&gt;</th><th scope=col>&lt;dbl&gt;</th><th scope=col>&lt;dbl&gt;</th><th scope=col>&lt;dbl&gt;</th><th scope=col>&lt;dbl&gt;</th><th scope=col>&lt;dbl&gt;</th></tr>\n",
       "</thead>\n",
       "<tbody>\n",
       "\t<tr><th scope=row>1</th><td>8</td><td>1.1224764</td><td>NA</td><td>       NA</td><td>      NA</td><td>         NA</td></tr>\n",
       "\t<tr><th scope=row>2</th><td>6</td><td>0.1775339</td><td> 2</td><td>0.9449425</td><td>15.96781</td><td>0.003956509</td></tr>\n",
       "</tbody>\n",
       "</table>\n"
      ],
      "text/latex": [
       "A anova: 2 × 6\n",
       "\\begin{tabular}{r|llllll}\n",
       "  & Res.Df & RSS & Df & Sum of Sq & F & Pr(>F)\\\\\n",
       "  & <dbl> & <dbl> & <dbl> & <dbl> & <dbl> & <dbl>\\\\\n",
       "\\hline\n",
       "\t1 & 8 & 1.1224764 & NA &        NA &       NA &          NA\\\\\n",
       "\t2 & 6 & 0.1775339 &  2 & 0.9449425 & 15.96781 & 0.003956509\\\\\n",
       "\\end{tabular}\n"
      ],
      "text/markdown": [
       "\n",
       "A anova: 2 × 6\n",
       "\n",
       "| <!--/--> | Res.Df &lt;dbl&gt; | RSS &lt;dbl&gt; | Df &lt;dbl&gt; | Sum of Sq &lt;dbl&gt; | F &lt;dbl&gt; | Pr(&gt;F) &lt;dbl&gt; |\n",
       "|---|---|---|---|---|---|---|\n",
       "| 1 | 8 | 1.1224764 | NA |        NA |       NA |          NA |\n",
       "| 2 | 6 | 0.1775339 |  2 | 0.9449425 | 15.96781 | 0.003956509 |\n",
       "\n"
      ],
      "text/plain": [
       "  Res.Df RSS       Df Sum of Sq F        Pr(>F)     \n",
       "1 8      1.1224764 NA        NA       NA          NA\n",
       "2 6      0.1775339  2 0.9449425 15.96781 0.003956509"
      ]
     },
     "metadata": {},
     "output_type": "display_data"
    }
   ],
   "source": [
    "model_rm = lm(y~x, df_rm)\n",
    "anova(model_rm, model)"
   ]
  },
  {
   "cell_type": "markdown",
   "id": "8ae8f4f0-d5db-40fb-9784-97d737ee06ce",
   "metadata": {},
   "source": [
    "$p-value$가 주어진 유의수준 $\\alpha = 0.05$보다 작으므로, 귀무가설을 기각한다. 즉, $\\beta_1,~ \\beta_2,~ \\beta_3$는 셋 중 하나라도 같지 않다."
   ]
  },
  {
   "cell_type": "markdown",
   "id": "6496bd48-d656-4448-b950-98b5a269352c",
   "metadata": {},
   "source": [
    "`-` 또는 아래의 방식을 사용\n",
    "\n",
    "\\begin{equation}\n",
    "T = \n",
    "   \\begin{pmatrix} \n",
    "   0 & 1 & -1 & 0  \\\\\n",
    "   0 & 1 & 0 & -1  \\\\\n",
    "   \\end{pmatrix} \n",
    ", ~ c = 0\n",
    "\\end{equation}"
   ]
  },
  {
   "cell_type": "code",
   "execution_count": 30,
   "id": "f8511695-9730-4d6b-944d-9a74f7928273",
   "metadata": {},
   "outputs": [
    {
     "data": {
      "text/html": [
       "<table class=\"dataframe\">\n",
       "<caption>A anova: 2 × 6</caption>\n",
       "<thead>\n",
       "\t<tr><th></th><th scope=col>Res.Df</th><th scope=col>RSS</th><th scope=col>Df</th><th scope=col>Sum of Sq</th><th scope=col>F</th><th scope=col>Pr(&gt;F)</th></tr>\n",
       "\t<tr><th></th><th scope=col>&lt;dbl&gt;</th><th scope=col>&lt;dbl&gt;</th><th scope=col>&lt;dbl&gt;</th><th scope=col>&lt;dbl&gt;</th><th scope=col>&lt;dbl&gt;</th><th scope=col>&lt;dbl&gt;</th></tr>\n",
       "</thead>\n",
       "<tbody>\n",
       "\t<tr><th scope=row>1</th><td>8</td><td>1.1224764</td><td>NA</td><td>       NA</td><td>      NA</td><td>         NA</td></tr>\n",
       "\t<tr><th scope=row>2</th><td>6</td><td>0.1775339</td><td> 2</td><td>0.9449425</td><td>15.96781</td><td>0.003956509</td></tr>\n",
       "</tbody>\n",
       "</table>\n"
      ],
      "text/latex": [
       "A anova: 2 × 6\n",
       "\\begin{tabular}{r|llllll}\n",
       "  & Res.Df & RSS & Df & Sum of Sq & F & Pr(>F)\\\\\n",
       "  & <dbl> & <dbl> & <dbl> & <dbl> & <dbl> & <dbl>\\\\\n",
       "\\hline\n",
       "\t1 & 8 & 1.1224764 & NA &        NA &       NA &          NA\\\\\n",
       "\t2 & 6 & 0.1775339 &  2 & 0.9449425 & 15.96781 & 0.003956509\\\\\n",
       "\\end{tabular}\n"
      ],
      "text/markdown": [
       "\n",
       "A anova: 2 × 6\n",
       "\n",
       "| <!--/--> | Res.Df &lt;dbl&gt; | RSS &lt;dbl&gt; | Df &lt;dbl&gt; | Sum of Sq &lt;dbl&gt; | F &lt;dbl&gt; | Pr(&gt;F) &lt;dbl&gt; |\n",
       "|---|---|---|---|---|---|---|\n",
       "| 1 | 8 | 1.1224764 | NA |        NA |       NA |          NA |\n",
       "| 2 | 6 | 0.1775339 |  2 | 0.9449425 | 15.96781 | 0.003956509 |\n",
       "\n"
      ],
      "text/plain": [
       "  Res.Df RSS       Df Sum of Sq F        Pr(>F)     \n",
       "1 8      1.1224764 NA        NA       NA          NA\n",
       "2 6      0.1775339  2 0.9449425 15.96781 0.003956509"
      ]
     },
     "metadata": {},
     "output_type": "display_data"
    }
   ],
   "source": [
    "linearHypothesis(model, matrix(c(0,1,-1,0,0,1,0,-1), nrow = 2, byrow = TRUE), 0)"
   ]
  },
  {
   "cell_type": "markdown",
   "id": "40904a29-6909-42c3-a371-d502d9825e3d",
   "metadata": {},
   "source": [
    "> 동일한 결과"
   ]
  },
  {
   "cell_type": "markdown",
   "id": "77dc695a-b0d7-4236-9767-e68d96d0e004",
   "metadata": {},
   "source": [
    "**(13) 가설 $H_0 : \\beta_1 = \\beta_2 + 3$ 을 $\\alpha = 0.05$ 로 검정하시오.**"
   ]
  },
  {
   "cell_type": "markdown",
   "id": "db5982fc-c875-4ff2-b9f1-0b1e417f17b3",
   "metadata": {},
   "source": [
    "$H_1 : ￢~H_0$"
   ]
  },
  {
   "cell_type": "code",
   "execution_count": 31,
   "id": "777e4417-d87b-4e3b-85e2-18dfad638282",
   "metadata": {},
   "outputs": [
    {
     "data": {
      "text/html": [
       "<table class=\"dataframe\">\n",
       "<caption>A anova: 2 × 6</caption>\n",
       "<thead>\n",
       "\t<tr><th></th><th scope=col>Res.Df</th><th scope=col>RSS</th><th scope=col>Df</th><th scope=col>Sum of Sq</th><th scope=col>F</th><th scope=col>Pr(&gt;F)</th></tr>\n",
       "\t<tr><th></th><th scope=col>&lt;dbl&gt;</th><th scope=col>&lt;dbl&gt;</th><th scope=col>&lt;dbl&gt;</th><th scope=col>&lt;dbl&gt;</th><th scope=col>&lt;dbl&gt;</th><th scope=col>&lt;dbl&gt;</th></tr>\n",
       "</thead>\n",
       "<tbody>\n",
       "\t<tr><th scope=row>1</th><td>7</td><td>157.3270492</td><td>NA</td><td>      NA</td><td>      NA</td><td>          NA</td></tr>\n",
       "\t<tr><th scope=row>2</th><td>6</td><td>  0.1775339</td><td> 1</td><td>157.1495</td><td>5311.082</td><td>4.492288e-10</td></tr>\n",
       "</tbody>\n",
       "</table>\n"
      ],
      "text/latex": [
       "A anova: 2 × 6\n",
       "\\begin{tabular}{r|llllll}\n",
       "  & Res.Df & RSS & Df & Sum of Sq & F & Pr(>F)\\\\\n",
       "  & <dbl> & <dbl> & <dbl> & <dbl> & <dbl> & <dbl>\\\\\n",
       "\\hline\n",
       "\t1 & 7 & 157.3270492 & NA &       NA &       NA &           NA\\\\\n",
       "\t2 & 6 &   0.1775339 &  1 & 157.1495 & 5311.082 & 4.492288e-10\\\\\n",
       "\\end{tabular}\n"
      ],
      "text/markdown": [
       "\n",
       "A anova: 2 × 6\n",
       "\n",
       "| <!--/--> | Res.Df &lt;dbl&gt; | RSS &lt;dbl&gt; | Df &lt;dbl&gt; | Sum of Sq &lt;dbl&gt; | F &lt;dbl&gt; | Pr(&gt;F) &lt;dbl&gt; |\n",
       "|---|---|---|---|---|---|---|\n",
       "| 1 | 7 | 157.3270492 | NA |       NA |       NA |           NA |\n",
       "| 2 | 6 |   0.1775339 |  1 | 157.1495 | 5311.082 | 4.492288e-10 |\n",
       "\n"
      ],
      "text/plain": [
       "  Res.Df RSS         Df Sum of Sq F        Pr(>F)      \n",
       "1 7      157.3270492 NA       NA        NA           NA\n",
       "2 6        0.1775339  1 157.1495  5311.082 4.492288e-10"
      ]
     },
     "metadata": {},
     "output_type": "display_data"
    }
   ],
   "source": [
    "linearHypothesis(model, c(0, 1, -1, 0), 3)"
   ]
  },
  {
   "cell_type": "markdown",
   "id": "12ef1d66-60e4-4582-bd97-a25ef5cd6ac7",
   "metadata": {},
   "source": [
    "> p-value가 주어진 유의수준 0.05보다 작으므로 귀무가설을 기각한다. 즉, $\\beta_1 \\neq \\beta_2+3$이다."
   ]
  },
  {
   "cell_type": "markdown",
   "id": "becbc0ce-3682-44f1-8c6c-7ab0ec47d2b7",
   "metadata": {},
   "source": [
    "**(14) $x_1 = 20, ~ x_2 = 27, ~ x_3 = 60$ 에서 $E(y)$에 관한 가설 $H_0 : E(y) = 3.5,~vs.~H_1 : E(y) \\neq 3.5$를 $\\alpha = 0.05$로 검정하시오.**"
   ]
  },
  {
   "cell_type": "markdown",
   "id": "cd810f84-7ebb-4672-a8d9-d2ac96e6d3e5",
   "metadata": {},
   "source": [
    "ⅰ) 검정통계량"
   ]
  },
  {
   "cell_type": "markdown",
   "id": "5c03eec4-8a87-4e8d-a1b5-e1d036f0bf11",
   "metadata": {},
   "source": [
    "$$\\widehat{E(y)} \\sim_{H_0} N(3.5, \\sigma^2)$$"
   ]
  },
  {
   "cell_type": "code",
   "execution_count": 32,
   "id": "3d0bd7fb-113a-41af-8d4b-fd6b89e2c1af",
   "metadata": {},
   "outputs": [],
   "source": [
    "x_0 <- c(1,20,27,60)\n",
    "y_hat <- predict(model, data.frame(x1 = 20, x2 = 27, x3 = 60))\n",
    "y_var <- t(x_0)%*%solve_XX%*%x_0*(summary(model)$sigma^2)"
   ]
  },
  {
   "cell_type": "code",
   "execution_count": 33,
   "id": "f13e5c23-15fa-433f-b719-942e91783e85",
   "metadata": {},
   "outputs": [
    {
     "data": {
      "text/html": [
       "<table class=\"dataframe\">\n",
       "<caption>A matrix: 1 × 1 of type dbl</caption>\n",
       "<tbody>\n",
       "\t<tr><td>0.07117026</td></tr>\n",
       "</tbody>\n",
       "</table>\n"
      ],
      "text/latex": [
       "A matrix: 1 × 1 of type dbl\n",
       "\\begin{tabular}{l}\n",
       "\t 0.07117026\\\\\n",
       "\\end{tabular}\n"
      ],
      "text/markdown": [
       "\n",
       "A matrix: 1 × 1 of type dbl\n",
       "\n",
       "| 0.07117026 |\n",
       "\n"
      ],
      "text/plain": [
       "     [,1]      \n",
       "[1,] 0.07117026"
      ]
     },
     "metadata": {},
     "output_type": "display_data"
    },
    {
     "data": {
      "text/html": [
       "<strong>1:</strong> 3.48814105556645"
      ],
      "text/latex": [
       "\\textbf{1:} 3.48814105556645"
      ],
      "text/markdown": [
       "**1:** 3.48814105556645"
      ],
      "text/plain": [
       "       1 \n",
       "3.488141 "
      ]
     },
     "metadata": {},
     "output_type": "display_data"
    }
   ],
   "source": [
    "sqrt(y_var)\n",
    "y_hat"
   ]
  },
  {
   "cell_type": "markdown",
   "id": "f4a93c60-8866-4580-b9e4-18aec7c5d106",
   "metadata": {},
   "source": [
    "$$\\therefore T = \\frac{\\widehat{E(y)} - 3.5}{0.07117} \\sim_{H_0} t(n-p-1)$$"
   ]
  },
  {
   "cell_type": "markdown",
   "id": "41d39114-fa0f-49c6-9beb-6649939a5912",
   "metadata": {},
   "source": [
    "ⅱ) 검정통계량 관측치"
   ]
  },
  {
   "cell_type": "code",
   "execution_count": 34,
   "id": "bbfc84bd-698c-4ba1-a87c-f5c6438d6aef",
   "metadata": {},
   "outputs": [
    {
     "data": {
      "text/html": [
       "<table class=\"dataframe\">\n",
       "<caption>A matrix: 1 × 1 of type dbl</caption>\n",
       "<tbody>\n",
       "\t<tr><td>-0.1666278</td></tr>\n",
       "</tbody>\n",
       "</table>\n"
      ],
      "text/latex": [
       "A matrix: 1 × 1 of type dbl\n",
       "\\begin{tabular}{l}\n",
       "\t -0.1666278\\\\\n",
       "\\end{tabular}\n"
      ],
      "text/markdown": [
       "\n",
       "A matrix: 1 × 1 of type dbl\n",
       "\n",
       "| -0.1666278 |\n",
       "\n"
      ],
      "text/plain": [
       "     [,1]      \n",
       "[1,] -0.1666278"
      ]
     },
     "metadata": {},
     "output_type": "display_data"
    }
   ],
   "source": [
    "t_value <- (y_hat - 3.5)/sqrt(y_var)\n",
    "t_value"
   ]
  },
  {
   "cell_type": "markdown",
   "id": "55300ded-241d-4ef2-a938-820296454113",
   "metadata": {},
   "source": [
    "ⅲ) $p-value$"
   ]
  },
  {
   "cell_type": "code",
   "execution_count": 35,
   "id": "6f81398a-ab36-454d-9736-3f511a0154b6",
   "metadata": {},
   "outputs": [
    {
     "data": {
      "text/html": [
       "<table class=\"dataframe\">\n",
       "<caption>A matrix: 1 × 1 of type dbl</caption>\n",
       "<tbody>\n",
       "\t<tr><td>0.8731365</td></tr>\n",
       "</tbody>\n",
       "</table>\n"
      ],
      "text/latex": [
       "A matrix: 1 × 1 of type dbl\n",
       "\\begin{tabular}{l}\n",
       "\t 0.8731365\\\\\n",
       "\\end{tabular}\n"
      ],
      "text/markdown": [
       "\n",
       "A matrix: 1 × 1 of type dbl\n",
       "\n",
       "| 0.8731365 |\n",
       "\n"
      ],
      "text/plain": [
       "     [,1]     \n",
       "[1,] 0.8731365"
      ]
     },
     "metadata": {},
     "output_type": "display_data"
    }
   ],
   "source": [
    "n = nrow(df)\n",
    "p_value <- pt(t_value, n-3-1)*2  ## 양측검정\n",
    "p_value"
   ]
  },
  {
   "cell_type": "markdown",
   "id": "82cdaf3a-f327-4be2-814d-8568d43412fe",
   "metadata": {},
   "source": [
    "> 따라서 p-value가 유의수준 $\\alpha = 0.05$보다 작으므로 귀무가설을 기각할 수 없다. 즉, $E(y) = 3.5$이다."
   ]
  },
  {
   "cell_type": "markdown",
   "id": "dd474036-0ee3-4034-8ee2-4b93091e6663",
   "metadata": {},
   "source": [
    "### 2. 피노 누아 와인의 품질은 투명도, 향, 바디, 맛, 그리고 오크향의 특성과 관련이 있다고 생각된다. 'wine38.csv'파일은 38개 와인 데이터이다. 다음 물음에 답하여라."
   ]
  },
  {
   "cell_type": "markdown",
   "id": "da6231ad-205f-4795-9c75-fbcdddfd0a75",
   "metadata": {},
   "source": [
    "**(1) 와인 품질과 이러한 예측변수들 사이의 관계를 나타내는 다중 선형 회귀 모델을 적합시켜라.**"
   ]
  },
  {
   "cell_type": "code",
   "execution_count": 36,
   "id": "a4c78c91-7bc1-495e-bb0b-33431ed79bf7",
   "metadata": {},
   "outputs": [
    {
     "data": {
      "text/html": [
       "<table class=\"dataframe\">\n",
       "<caption>A data.frame: 6 × 6</caption>\n",
       "<thead>\n",
       "\t<tr><th></th><th scope=col>Clarity</th><th scope=col>Aroma</th><th scope=col>Body</th><th scope=col>Flavor</th><th scope=col>Oakiness</th><th scope=col>Quality</th></tr>\n",
       "\t<tr><th></th><th scope=col>&lt;dbl&gt;</th><th scope=col>&lt;dbl&gt;</th><th scope=col>&lt;dbl&gt;</th><th scope=col>&lt;dbl&gt;</th><th scope=col>&lt;dbl&gt;</th><th scope=col>&lt;dbl&gt;</th></tr>\n",
       "</thead>\n",
       "<tbody>\n",
       "\t<tr><th scope=row>1</th><td>1</td><td>3.3</td><td>2.8</td><td>3.1</td><td>4.1</td><td> 9.8</td></tr>\n",
       "\t<tr><th scope=row>2</th><td>1</td><td>4.4</td><td>4.9</td><td>3.5</td><td>3.9</td><td>12.6</td></tr>\n",
       "\t<tr><th scope=row>3</th><td>1</td><td>3.9</td><td>5.3</td><td>4.8</td><td>4.7</td><td>11.9</td></tr>\n",
       "\t<tr><th scope=row>4</th><td>1</td><td>3.9</td><td>2.6</td><td>3.1</td><td>3.6</td><td>11.1</td></tr>\n",
       "\t<tr><th scope=row>5</th><td>1</td><td>5.6</td><td>5.1</td><td>5.5</td><td>5.1</td><td>13.3</td></tr>\n",
       "\t<tr><th scope=row>6</th><td>1</td><td>4.6</td><td>4.7</td><td>5.0</td><td>4.1</td><td>12.8</td></tr>\n",
       "</tbody>\n",
       "</table>\n"
      ],
      "text/latex": [
       "A data.frame: 6 × 6\n",
       "\\begin{tabular}{r|llllll}\n",
       "  & Clarity & Aroma & Body & Flavor & Oakiness & Quality\\\\\n",
       "  & <dbl> & <dbl> & <dbl> & <dbl> & <dbl> & <dbl>\\\\\n",
       "\\hline\n",
       "\t1 & 1 & 3.3 & 2.8 & 3.1 & 4.1 &  9.8\\\\\n",
       "\t2 & 1 & 4.4 & 4.9 & 3.5 & 3.9 & 12.6\\\\\n",
       "\t3 & 1 & 3.9 & 5.3 & 4.8 & 4.7 & 11.9\\\\\n",
       "\t4 & 1 & 3.9 & 2.6 & 3.1 & 3.6 & 11.1\\\\\n",
       "\t5 & 1 & 5.6 & 5.1 & 5.5 & 5.1 & 13.3\\\\\n",
       "\t6 & 1 & 4.6 & 4.7 & 5.0 & 4.1 & 12.8\\\\\n",
       "\\end{tabular}\n"
      ],
      "text/markdown": [
       "\n",
       "A data.frame: 6 × 6\n",
       "\n",
       "| <!--/--> | Clarity &lt;dbl&gt; | Aroma &lt;dbl&gt; | Body &lt;dbl&gt; | Flavor &lt;dbl&gt; | Oakiness &lt;dbl&gt; | Quality &lt;dbl&gt; |\n",
       "|---|---|---|---|---|---|---|\n",
       "| 1 | 1 | 3.3 | 2.8 | 3.1 | 4.1 |  9.8 |\n",
       "| 2 | 1 | 4.4 | 4.9 | 3.5 | 3.9 | 12.6 |\n",
       "| 3 | 1 | 3.9 | 5.3 | 4.8 | 4.7 | 11.9 |\n",
       "| 4 | 1 | 3.9 | 2.6 | 3.1 | 3.6 | 11.1 |\n",
       "| 5 | 1 | 5.6 | 5.1 | 5.5 | 5.1 | 13.3 |\n",
       "| 6 | 1 | 4.6 | 4.7 | 5.0 | 4.1 | 12.8 |\n",
       "\n"
      ],
      "text/plain": [
       "  Clarity Aroma Body Flavor Oakiness Quality\n",
       "1 1       3.3   2.8  3.1    4.1       9.8   \n",
       "2 1       4.4   4.9  3.5    3.9      12.6   \n",
       "3 1       3.9   5.3  4.8    4.7      11.9   \n",
       "4 1       3.9   2.6  3.1    3.6      11.1   \n",
       "5 1       5.6   5.1  5.5    5.1      13.3   \n",
       "6 1       4.6   4.7  5.0    4.1      12.8   "
      ]
     },
     "metadata": {},
     "output_type": "display_data"
    }
   ],
   "source": [
    "setwd(\"~/R/regression analysis/data/\")\n",
    "df <- read.csv(\"wine38.csv\", header = TRUE)\n",
    "head(df)"
   ]
  },
  {
   "cell_type": "code",
   "execution_count": 37,
   "id": "c730cbe2-3544-444d-b9dc-9a1e8eaa1da8",
   "metadata": {},
   "outputs": [
    {
     "data": {
      "text/plain": [
       "\n",
       "Call:\n",
       "lm(formula = Quality ~ ., data = df)\n",
       "\n",
       "Residuals:\n",
       "     Min       1Q   Median       3Q      Max \n",
       "-2.85552 -0.57448 -0.07092  0.67275  1.68093 \n",
       "\n",
       "Coefficients:\n",
       "            Estimate Std. Error t value Pr(>|t|)    \n",
       "(Intercept)   3.9969     2.2318   1.791 0.082775 .  \n",
       "Clarity       2.3395     1.7348   1.349 0.186958    \n",
       "Aroma         0.4826     0.2724   1.771 0.086058 .  \n",
       "Body          0.2732     0.3326   0.821 0.417503    \n",
       "Flavor        1.1683     0.3045   3.837 0.000552 ***\n",
       "Oakiness     -0.6840     0.2712  -2.522 0.016833 *  \n",
       "---\n",
       "Signif. codes:  0 ‘***’ 0.001 ‘**’ 0.01 ‘*’ 0.05 ‘.’ 0.1 ‘ ’ 1\n",
       "\n",
       "Residual standard error: 1.163 on 32 degrees of freedom\n",
       "Multiple R-squared:  0.7206,\tAdjusted R-squared:  0.6769 \n",
       "F-statistic: 16.51 on 5 and 32 DF,  p-value: 4.703e-08\n"
      ]
     },
     "metadata": {},
     "output_type": "display_data"
    }
   ],
   "source": [
    "predictr <- lm(Quality~., df)\n",
    "summary(predictr)"
   ]
  },
  {
   "cell_type": "markdown",
   "id": "54e06365-f778-4b24-bd2b-eb07eedf6c90",
   "metadata": {},
   "source": [
    "**(2) 회귀모형에 대한 유의성검정을 하여라. 어떤 결론을 도출할 수 있는가?**"
   ]
  },
  {
   "cell_type": "markdown",
   "id": "cfef7c1b-a08b-4734-9803-6839951c1965",
   "metadata": {},
   "source": [
    "ⅰ) 가설\n",
    "\n",
    "$$H_0 : \\beta_0 = \\beta_1 = \\dots = \\beta_5 = 0,~vs.~H_1 : ￢~H_0$$"
   ]
  },
  {
   "cell_type": "markdown",
   "id": "3f9ccad6-7da3-41e0-82b9-478289546310",
   "metadata": {},
   "source": [
    "ⅱ) ANOVA table"
   ]
  },
  {
   "cell_type": "code",
   "execution_count": 38,
   "id": "243014cb-dc76-4bfa-a961-039b7d659bb6",
   "metadata": {},
   "outputs": [
    {
     "data": {
      "text/html": [
       "<table class=\"dataframe\">\n",
       "<caption>A anova: 2 × 6</caption>\n",
       "<thead>\n",
       "\t<tr><th></th><th scope=col>Res.Df</th><th scope=col>RSS</th><th scope=col>Df</th><th scope=col>Sum of Sq</th><th scope=col>F</th><th scope=col>Pr(&gt;F)</th></tr>\n",
       "\t<tr><th></th><th scope=col>&lt;dbl&gt;</th><th scope=col>&lt;dbl&gt;</th><th scope=col>&lt;dbl&gt;</th><th scope=col>&lt;dbl&gt;</th><th scope=col>&lt;dbl&gt;</th><th scope=col>&lt;dbl&gt;</th></tr>\n",
       "</thead>\n",
       "<tbody>\n",
       "\t<tr><th scope=row>1</th><td>32</td><td> 43.24801</td><td>NA</td><td>       NA</td><td>      NA</td><td>         NA</td></tr>\n",
       "\t<tr><th scope=row>2</th><td>37</td><td>154.78842</td><td>-5</td><td>-111.5404</td><td>16.50616</td><td>4.70304e-08</td></tr>\n",
       "</tbody>\n",
       "</table>\n"
      ],
      "text/latex": [
       "A anova: 2 × 6\n",
       "\\begin{tabular}{r|llllll}\n",
       "  & Res.Df & RSS & Df & Sum of Sq & F & Pr(>F)\\\\\n",
       "  & <dbl> & <dbl> & <dbl> & <dbl> & <dbl> & <dbl>\\\\\n",
       "\\hline\n",
       "\t1 & 32 &  43.24801 & NA &        NA &       NA &          NA\\\\\n",
       "\t2 & 37 & 154.78842 & -5 & -111.5404 & 16.50616 & 4.70304e-08\\\\\n",
       "\\end{tabular}\n"
      ],
      "text/markdown": [
       "\n",
       "A anova: 2 × 6\n",
       "\n",
       "| <!--/--> | Res.Df &lt;dbl&gt; | RSS &lt;dbl&gt; | Df &lt;dbl&gt; | Sum of Sq &lt;dbl&gt; | F &lt;dbl&gt; | Pr(&gt;F) &lt;dbl&gt; |\n",
       "|---|---|---|---|---|---|---|\n",
       "| 1 | 32 |  43.24801 | NA |        NA |       NA |          NA |\n",
       "| 2 | 37 | 154.78842 | -5 | -111.5404 | 16.50616 | 4.70304e-08 |\n",
       "\n"
      ],
      "text/plain": [
       "  Res.Df RSS       Df Sum of Sq F        Pr(>F)     \n",
       "1 32      43.24801 NA        NA       NA          NA\n",
       "2 37     154.78842 -5 -111.5404 16.50616 4.70304e-08"
      ]
     },
     "metadata": {},
     "output_type": "display_data"
    }
   ],
   "source": [
    "null_predictr <- lm(Quality~1, df)\n",
    "anova(predictr, null_predictr)"
   ]
  },
  {
   "cell_type": "markdown",
   "id": "60e469e4-340d-4eae-887a-1d62c94a8e94",
   "metadata": {},
   "source": [
    "> p-value가 주어진 유의수준 $\\alpha = 0.05$보다 작으므로 귀무가설을 기각하고 대립가설을 수용한다. 즉, 적합된 회귀모형은 유의하다."
   ]
  },
  {
   "cell_type": "markdown",
   "id": "1e30d5b6-8577-442d-a735-d6425bb4a026",
   "metadata": {},
   "source": [
    "**(3) 각 예측변수가 모델에 미치는 기여도를 평가하기 위해 t 검정을 수행하고, 발견한 내용에 대해 논의하시오.**"
   ]
  },
  {
   "cell_type": "markdown",
   "id": "97098f68-8437-4bc2-8203-c537479ce7e5",
   "metadata": {},
   "source": [
    "$$H_0 : \\beta_i = 0,~i=1,3,5$$"
   ]
  },
  {
   "cell_type": "code",
   "execution_count": 39,
   "id": "6a1c41b9-c06f-4cb8-aa20-4598fd2189b3",
   "metadata": {},
   "outputs": [
    {
     "data": {
      "text/plain": [
       "\n",
       "Call:\n",
       "lm(formula = Quality ~ ., data = df)\n",
       "\n",
       "Residuals:\n",
       "     Min       1Q   Median       3Q      Max \n",
       "-2.85552 -0.57448 -0.07092  0.67275  1.68093 \n",
       "\n",
       "Coefficients:\n",
       "            Estimate Std. Error t value Pr(>|t|)    \n",
       "(Intercept)   3.9969     2.2318   1.791 0.082775 .  \n",
       "Clarity       2.3395     1.7348   1.349 0.186958    \n",
       "Aroma         0.4826     0.2724   1.771 0.086058 .  \n",
       "Body          0.2732     0.3326   0.821 0.417503    \n",
       "Flavor        1.1683     0.3045   3.837 0.000552 ***\n",
       "Oakiness     -0.6840     0.2712  -2.522 0.016833 *  \n",
       "---\n",
       "Signif. codes:  0 ‘***’ 0.001 ‘**’ 0.01 ‘*’ 0.05 ‘.’ 0.1 ‘ ’ 1\n",
       "\n",
       "Residual standard error: 1.163 on 32 degrees of freedom\n",
       "Multiple R-squared:  0.7206,\tAdjusted R-squared:  0.6769 \n",
       "F-statistic: 16.51 on 5 and 32 DF,  p-value: 4.703e-08\n"
      ]
     },
     "metadata": {},
     "output_type": "display_data"
    }
   ],
   "source": [
    "summary(predictr)"
   ]
  },
  {
   "cell_type": "code",
   "execution_count": 40,
   "id": "72c7560a-e364-4f0e-8b74-25b14612e105",
   "metadata": {},
   "outputs": [
    {
     "data": {
      "text/html": [
       "<style>\n",
       ".dl-inline {width: auto; margin:0; padding: 0}\n",
       ".dl-inline>dt, .dl-inline>dd {float: none; width: auto; display: inline-block}\n",
       ".dl-inline>dt::after {content: \":\\0020\"; padding-right: .5ex}\n",
       ".dl-inline>dt:not(:first-of-type) {padding-left: .5ex}\n",
       "</style><dl class=dl-inline><dt>Clarity</dt><dd>FALSE</dd><dt>Aroma</dt><dd>FALSE</dd><dt>Body</dt><dd>FALSE</dd><dt>Flavor</dt><dd>TRUE</dd><dt>Oakiness</dt><dd>TRUE</dd></dl>\n"
      ],
      "text/latex": [
       "\\begin{description*}\n",
       "\\item[Clarity] FALSE\n",
       "\\item[Aroma] FALSE\n",
       "\\item[Body] FALSE\n",
       "\\item[Flavor] TRUE\n",
       "\\item[Oakiness] TRUE\n",
       "\\end{description*}\n"
      ],
      "text/markdown": [
       "Clarity\n",
       ":   FALSEAroma\n",
       ":   FALSEBody\n",
       ":   FALSEFlavor\n",
       ":   TRUEOakiness\n",
       ":   TRUE\n",
       "\n"
      ],
      "text/plain": [
       " Clarity    Aroma     Body   Flavor Oakiness \n",
       "   FALSE    FALSE    FALSE     TRUE     TRUE "
      ]
     },
     "metadata": {},
     "output_type": "display_data"
    }
   ],
   "source": [
    "summary(predictr)$coef[-1,4] < 0.05"
   ]
  },
  {
   "cell_type": "markdown",
   "id": "4abc6d84-2fd1-4bca-8946-81e066d98ed5",
   "metadata": {},
   "source": [
    "> 각 예측변수에 대해서 t 검정을 수행하면, p-value가 주어진 유의수준인 $\\alpha = 0.05$보다 작았던 것은 맛(Flavor)과 오크향(Oakiness)이었다. 즉, 와인의 품질에 맛과 오크향만 통계적으로 유의하게 영향을 미치고 다른 변수들은 그러지 못했다."
   ]
  },
  {
   "cell_type": "code",
   "execution_count": 41,
   "id": "a9096b57-6f9b-48c7-b3af-fa1308bd6709",
   "metadata": {},
   "outputs": [
    {
     "data": {
      "image/png": "[encoded data removed]",
      "text/plain": [
       "plot without title"
      ]
     },
     "metadata": {
      "image/png": {
       "height": 420,
       "width": 420
      }
     },
     "output_type": "display_data"
    }
   ],
   "source": [
    "pairs(df)"
   ]
  },
  {
   "cell_type": "code",
   "execution_count": 42,
   "id": "5db7d404-d664-4f3e-8068-02371db84708",
   "metadata": {},
   "outputs": [
    {
     "data": {
      "text/html": [
       "<table class=\"dataframe\">\n",
       "<caption>A matrix: 6 × 6 of type dbl</caption>\n",
       "<thead>\n",
       "\t<tr><th></th><th scope=col>Clarity</th><th scope=col>Aroma</th><th scope=col>Body</th><th scope=col>Flavor</th><th scope=col>Oakiness</th><th scope=col>Quality</th></tr>\n",
       "</thead>\n",
       "<tbody>\n",
       "\t<tr><th scope=row>Clarity</th><td> 1.00000000</td><td>0.0619021</td><td>-0.3083783</td><td>-0.08515993</td><td> 0.18321471</td><td> 0.02844131</td></tr>\n",
       "\t<tr><th scope=row>Aroma</th><td> 0.06190210</td><td>1.0000000</td><td> 0.5489102</td><td> 0.73656121</td><td> 0.20164445</td><td> 0.70732432</td></tr>\n",
       "\t<tr><th scope=row>Body</th><td>-0.30837826</td><td>0.5489102</td><td> 1.0000000</td><td> 0.64665917</td><td> 0.15210591</td><td> 0.54870219</td></tr>\n",
       "\t<tr><th scope=row>Flavor</th><td>-0.08515993</td><td>0.7365612</td><td> 0.6466592</td><td> 1.00000000</td><td> 0.17976051</td><td> 0.79004713</td></tr>\n",
       "\t<tr><th scope=row>Oakiness</th><td> 0.18321471</td><td>0.2016444</td><td> 0.1521059</td><td> 0.17976051</td><td> 1.00000000</td><td>-0.04704047</td></tr>\n",
       "\t<tr><th scope=row>Quality</th><td> 0.02844131</td><td>0.7073243</td><td> 0.5487022</td><td> 0.79004713</td><td>-0.04704047</td><td> 1.00000000</td></tr>\n",
       "</tbody>\n",
       "</table>\n"
      ],
      "text/latex": [
       "A matrix: 6 × 6 of type dbl\n",
       "\\begin{tabular}{r|llllll}\n",
       "  & Clarity & Aroma & Body & Flavor & Oakiness & Quality\\\\\n",
       "\\hline\n",
       "\tClarity &  1.00000000 & 0.0619021 & -0.3083783 & -0.08515993 &  0.18321471 &  0.02844131\\\\\n",
       "\tAroma &  0.06190210 & 1.0000000 &  0.5489102 &  0.73656121 &  0.20164445 &  0.70732432\\\\\n",
       "\tBody & -0.30837826 & 0.5489102 &  1.0000000 &  0.64665917 &  0.15210591 &  0.54870219\\\\\n",
       "\tFlavor & -0.08515993 & 0.7365612 &  0.6466592 &  1.00000000 &  0.17976051 &  0.79004713\\\\\n",
       "\tOakiness &  0.18321471 & 0.2016444 &  0.1521059 &  0.17976051 &  1.00000000 & -0.04704047\\\\\n",
       "\tQuality &  0.02844131 & 0.7073243 &  0.5487022 &  0.79004713 & -0.04704047 &  1.00000000\\\\\n",
       "\\end{tabular}\n"
      ],
      "text/markdown": [
       "\n",
       "A matrix: 6 × 6 of type dbl\n",
       "\n",
       "| <!--/--> | Clarity | Aroma | Body | Flavor | Oakiness | Quality |\n",
       "|---|---|---|---|---|---|---|\n",
       "| Clarity |  1.00000000 | 0.0619021 | -0.3083783 | -0.08515993 |  0.18321471 |  0.02844131 |\n",
       "| Aroma |  0.06190210 | 1.0000000 |  0.5489102 |  0.73656121 |  0.20164445 |  0.70732432 |\n",
       "| Body | -0.30837826 | 0.5489102 |  1.0000000 |  0.64665917 |  0.15210591 |  0.54870219 |\n",
       "| Flavor | -0.08515993 | 0.7365612 |  0.6466592 |  1.00000000 |  0.17976051 |  0.79004713 |\n",
       "| Oakiness |  0.18321471 | 0.2016444 |  0.1521059 |  0.17976051 |  1.00000000 | -0.04704047 |\n",
       "| Quality |  0.02844131 | 0.7073243 |  0.5487022 |  0.79004713 | -0.04704047 |  1.00000000 |\n",
       "\n"
      ],
      "text/plain": [
       "         Clarity     Aroma     Body       Flavor      Oakiness    Quality    \n",
       "Clarity   1.00000000 0.0619021 -0.3083783 -0.08515993  0.18321471  0.02844131\n",
       "Aroma     0.06190210 1.0000000  0.5489102  0.73656121  0.20164445  0.70732432\n",
       "Body     -0.30837826 0.5489102  1.0000000  0.64665917  0.15210591  0.54870219\n",
       "Flavor   -0.08515993 0.7365612  0.6466592  1.00000000  0.17976051  0.79004713\n",
       "Oakiness  0.18321471 0.2016444  0.1521059  0.17976051  1.00000000 -0.04704047\n",
       "Quality   0.02844131 0.7073243  0.5487022  0.79004713 -0.04704047  1.00000000"
      ]
     },
     "metadata": {},
     "output_type": "display_data"
    }
   ],
   "source": [
    "cor(df)"
   ]
  },
  {
   "cell_type": "markdown",
   "id": "753932f2-adb1-43fb-aa2c-ef1cf6d92872",
   "metadata": {},
   "source": [
    "> Oakiness와 Quality간의 산점도는 별다른 관계가 없는 것처럼 보이는데다, Aroma와 Body는 일부 우상향하는 관계가 보임에도 불구하고 이례적인 결과가 나왔다.\n",
    ">\n",
    "> Aroma와 Body, Quality간 상관관계가 높기 때문에 발생하는 문제인 것으로 추정된다."
   ]
  },
  {
   "cell_type": "markdown",
   "id": "fa7333da-5f87-4f9a-9fcb-2cb90eb1f46e",
   "metadata": {},
   "source": [
    "**(4) 이 모델에 대해 $R^2$와 수정된 $R^2$를 계산하여라. 이 값들을 향(Aroma)과 맛(Flavor)에 대한 선형 회귀 모델의 $R^2$와 수정된 $R^2$ 값과 비교하여라. 이 결과에 대해 논의하여라.**"
   ]
  },
  {
   "cell_type": "code",
   "execution_count": 43,
   "id": "86124c8f-c3d1-44c8-9aa8-b0851094dcb0",
   "metadata": {},
   "outputs": [
    {
     "name": "stdout",
     "output_type": "stream",
     "text": [
      "[1] \"R squared : 0.720599218128954, adjustied R squared : 0.676942845961603\"\n"
     ]
    }
   ],
   "source": [
    "print(paste(\"R squared : \", summary(predictr)$r.squared, \", adjustied R squared : \", summary(predictr)$adj.r.squared, sep = \"\"))"
   ]
  },
  {
   "cell_type": "code",
   "execution_count": 44,
   "id": "d4e883bd-c87a-4a14-9ae6-b5e0257a77e3",
   "metadata": {},
   "outputs": [
    {
     "name": "stdout",
     "output_type": "stream",
     "text": [
      "[1] \"R squared : 0.658551520887921, adjustied R squared : 0.639040179224374\"\n"
     ]
    }
   ],
   "source": [
    "rm_predictr <- lm(Quality~Aroma+Flavor, df)\n",
    "print(paste(\"R squared : \", summary(rm_predictr)$r.squared, \", adjustied R squared : \", summary(rm_predictr)$adj.r.squared, sep = \"\"))"
   ]
  },
  {
   "cell_type": "markdown",
   "id": "a24da28a-2a9e-4ded-88d1-1e7a21739dc4",
   "metadata": {},
   "source": [
    "> 설명변수 세개를 제외한 회귀모형을 적합했을 때, $R^2$와 $R^2_{adj}$의 값은 크게 줄어들지 않았다. 이는 $SSR_RM$과 $SSR_FM$의 값이 크게 차이가 나지 않는다는 것으로, 축소모형으로도 회귀모형을 설명하는 데에 충분할 수 있다는 가능성을 시사한다. 즉, 나머지 변수의 중요성이 그다지 크지 않을 수 있다. 이를 검정해보면 아래와 같다."
   ]
  },
  {
   "cell_type": "code",
   "execution_count": 45,
   "id": "4ea81190-45c4-4f74-9237-4792c563b2c8",
   "metadata": {},
   "outputs": [
    {
     "data": {
      "text/html": [
       "<table class=\"dataframe\">\n",
       "<caption>A anova: 2 × 6</caption>\n",
       "<thead>\n",
       "\t<tr><th></th><th scope=col>Res.Df</th><th scope=col>RSS</th><th scope=col>Df</th><th scope=col>Sum of Sq</th><th scope=col>F</th><th scope=col>Pr(&gt;F)</th></tr>\n",
       "\t<tr><th></th><th scope=col>&lt;dbl&gt;</th><th scope=col>&lt;dbl&gt;</th><th scope=col>&lt;dbl&gt;</th><th scope=col>&lt;dbl&gt;</th><th scope=col>&lt;dbl&gt;</th><th scope=col>&lt;dbl&gt;</th></tr>\n",
       "</thead>\n",
       "<tbody>\n",
       "\t<tr><th scope=row>1</th><td>35</td><td>52.85227</td><td>NA</td><td>      NA</td><td>      NA</td><td>        NA</td></tr>\n",
       "\t<tr><th scope=row>2</th><td>32</td><td>43.24801</td><td> 3</td><td>9.604265</td><td>2.368791</td><td>0.08907669</td></tr>\n",
       "</tbody>\n",
       "</table>\n"
      ],
      "text/latex": [
       "A anova: 2 × 6\n",
       "\\begin{tabular}{r|llllll}\n",
       "  & Res.Df & RSS & Df & Sum of Sq & F & Pr(>F)\\\\\n",
       "  & <dbl> & <dbl> & <dbl> & <dbl> & <dbl> & <dbl>\\\\\n",
       "\\hline\n",
       "\t1 & 35 & 52.85227 & NA &       NA &       NA &         NA\\\\\n",
       "\t2 & 32 & 43.24801 &  3 & 9.604265 & 2.368791 & 0.08907669\\\\\n",
       "\\end{tabular}\n"
      ],
      "text/markdown": [
       "\n",
       "A anova: 2 × 6\n",
       "\n",
       "| <!--/--> | Res.Df &lt;dbl&gt; | RSS &lt;dbl&gt; | Df &lt;dbl&gt; | Sum of Sq &lt;dbl&gt; | F &lt;dbl&gt; | Pr(&gt;F) &lt;dbl&gt; |\n",
       "|---|---|---|---|---|---|---|\n",
       "| 1 | 35 | 52.85227 | NA |       NA |       NA |         NA |\n",
       "| 2 | 32 | 43.24801 |  3 | 9.604265 | 2.368791 | 0.08907669 |\n",
       "\n"
      ],
      "text/plain": [
       "  Res.Df RSS      Df Sum of Sq F        Pr(>F)    \n",
       "1 35     52.85227 NA       NA        NA         NA\n",
       "2 32     43.24801  3 9.604265  2.368791 0.08907669"
      ]
     },
     "metadata": {},
     "output_type": "display_data"
    }
   ],
   "source": [
    "anova(rm_predictr, predictr)"
   ]
  },
  {
   "cell_type": "markdown",
   "id": "de684c2a-1e64-4291-9c42-488b66f73a2d",
   "metadata": {},
   "source": [
    "> $H_0 : \\beta_1 = \\beta_3 = \\beta_5 = 0 ~ vs. ~ H_1 : ￢~H_0~;~\\beta_1 : Clarity,~\\beta_3 : Body,~\\beta_5 : Oakiness$\n",
    ">\n",
    "> 유의수준 $\\alpha = 0.05$일 때, p-value가 유의수준보다 크기 때문에 귀무가설을 기각할 수 없다. 즉, 세 회귀계수는 통계적으로 유의하지 않다. 따라서 축소모형을 사용하는 것이 더 적합하다."
   ]
  },
  {
   "cell_type": "markdown",
   "id": "b2e876e4-851e-43be-8aa0-861032000cb1",
   "metadata": {},
   "source": [
    "**(5) (4)의 두 모델에 대해 맛(Flavor)의 회귀계수에 대한 $95\\%$ 신뢰 구간을 구하여라. 차이점에 대해 예측의 정확도의 관점에서 논의하여라.**"
   ]
  },
  {
   "cell_type": "code",
   "execution_count": 46,
   "id": "c391788f-2157-42b1-9f20-1285a33419b2",
   "metadata": {},
   "outputs": [
    {
     "data": {
      "text/html": [
       "<table class=\"dataframe\">\n",
       "<caption>A matrix: 3 × 2 of type dbl</caption>\n",
       "<thead>\n",
       "\t<tr><th></th><th scope=col>2.5 %</th><th scope=col>97.5 %</th></tr>\n",
       "</thead>\n",
       "<tbody>\n",
       "\t<tr><th scope=row>(Intercept)</th><td> 2.29756233</td><td>6.394896</td></tr>\n",
       "\t<tr><th scope=row>Aroma</th><td>-0.04219724</td><td>1.078127</td></tr>\n",
       "\t<tr><th scope=row>Flavor</th><td> 0.58032952</td><td>1.760003</td></tr>\n",
       "</tbody>\n",
       "</table>\n"
      ],
      "text/latex": [
       "A matrix: 3 × 2 of type dbl\n",
       "\\begin{tabular}{r|ll}\n",
       "  & 2.5 \\% & 97.5 \\%\\\\\n",
       "\\hline\n",
       "\t(Intercept) &  2.29756233 & 6.394896\\\\\n",
       "\tAroma & -0.04219724 & 1.078127\\\\\n",
       "\tFlavor &  0.58032952 & 1.760003\\\\\n",
       "\\end{tabular}\n"
      ],
      "text/markdown": [
       "\n",
       "A matrix: 3 × 2 of type dbl\n",
       "\n",
       "| <!--/--> | 2.5 % | 97.5 % |\n",
       "|---|---|---|\n",
       "| (Intercept) |  2.29756233 | 6.394896 |\n",
       "| Aroma | -0.04219724 | 1.078127 |\n",
       "| Flavor |  0.58032952 | 1.760003 |\n",
       "\n"
      ],
      "text/plain": [
       "            2.5 %       97.5 %  \n",
       "(Intercept)  2.29756233 6.394896\n",
       "Aroma       -0.04219724 1.078127\n",
       "Flavor       0.58032952 1.760003"
      ]
     },
     "metadata": {},
     "output_type": "display_data"
    }
   ],
   "source": [
    "confint(rm_predictr)"
   ]
  },
  {
   "cell_type": "code",
   "execution_count": 47,
   "id": "0f580305-1999-4eb8-bc7f-12b214d33c61",
   "metadata": {},
   "outputs": [
    {
     "name": "stdout",
     "output_type": "stream",
     "text": [
      "[1] \"FM에서 맛의 회귀계수에 대한 95% CI : (0.548116814222366, 1.78853071807131)\"\n",
      "[1] \"RM에서 맛의 회귀계수에 대한 95% CI : (0.58032951679562, 1.7600033503455)\"\n"
     ]
    }
   ],
   "source": [
    "lwb <- confint(predictr, level = 0.95)[5,1]\n",
    "upb <- confint(predictr, level = 0.95)[5,2]\n",
    "lwb_rm <- confint(rm_predictr, level = 0.95)[3,1]\n",
    "upb_rm <- confint(rm_predictr, level = 0.95)[3,2]\n",
    "\n",
    "print(paste(\"FM에서 맛의 회귀계수에 대한 95% CI : (\", lwb, \", \", upb, \")\", sep=\"\"))\n",
    "print(paste(\"RM에서 맛의 회귀계수에 대한 95% CI : (\", lwb_rm, \", \", upb_rm, \")\", sep=\"\"))"
   ]
  },
  {
   "cell_type": "markdown",
   "id": "35922a8c-bc66-4275-8578-4482a72be50a",
   "metadata": {},
   "source": [
    "> 모형을 축소시켰을 때의 신뢰구간이 더 줄어들었음을 알 수 있다. 이는 분산이 줄어들었다는 것에서 기인하여 회귀계수가 더 정확히 예측될 수 있도록 한다."
   ]
  },
  {
   "cell_type": "markdown",
   "id": "03a038c3-d407-497d-96db-f11b6804ffc4",
   "metadata": {},
   "source": [
    "### 3. 'NFL14.csv'는 1976년 National Football League 1976에서 각 팀의 실적을 기록한 데이터이다. 다음 물음에 답하여라."
   ]
  },
  {
   "cell_type": "markdown",
   "id": "3facb2ed-9c83-4064-9cf1-c9fcb3b1be68",
   "metadata": {},
   "source": [
    "**(1) $y$(the number of games won)에 대하여 $x_2$(the team's passing yardage), $x_7$(the percentage of rushing plays)과 $x_8$(the opponent's yards rushing)의 세 변수를 사용하여 회귀모형을 적합하여라.**"
   ]
  },
  {
   "cell_type": "code",
   "execution_count": 52,
   "id": "b7da822e-e4f3-4b48-956d-8bc9a33c11fb",
   "metadata": {},
   "outputs": [
    {
     "data": {
      "text/html": [
       "<table class=\"dataframe\">\n",
       "<caption>A data.frame: 6 × 10</caption>\n",
       "<thead>\n",
       "\t<tr><th></th><th scope=col>y</th><th scope=col>x1</th><th scope=col>x2</th><th scope=col>x3</th><th scope=col>x4</th><th scope=col>x5</th><th scope=col>x6</th><th scope=col>x7</th><th scope=col>x8</th><th scope=col>x9</th></tr>\n",
       "\t<tr><th></th><th scope=col>&lt;int&gt;</th><th scope=col>&lt;int&gt;</th><th scope=col>&lt;int&gt;</th><th scope=col>&lt;dbl&gt;</th><th scope=col>&lt;dbl&gt;</th><th scope=col>&lt;int&gt;</th><th scope=col>&lt;int&gt;</th><th scope=col>&lt;dbl&gt;</th><th scope=col>&lt;int&gt;</th><th scope=col>&lt;int&gt;</th></tr>\n",
       "</thead>\n",
       "<tbody>\n",
       "\t<tr><th scope=row>1</th><td>10</td><td>2113</td><td>1985</td><td>38.9</td><td>64.7</td><td> 4</td><td>868</td><td>59.7</td><td>2205</td><td>1917</td></tr>\n",
       "\t<tr><th scope=row>2</th><td>11</td><td>2003</td><td>2855</td><td>38.8</td><td>61.3</td><td> 3</td><td>615</td><td>55.0</td><td>2096</td><td>1575</td></tr>\n",
       "\t<tr><th scope=row>3</th><td>11</td><td>2957</td><td>1737</td><td>40.1</td><td>60.0</td><td>14</td><td>914</td><td>65.6</td><td>1847</td><td>2175</td></tr>\n",
       "\t<tr><th scope=row>4</th><td>13</td><td>2285</td><td>2905</td><td>41.6</td><td>45.3</td><td>-4</td><td>957</td><td>61.4</td><td>1903</td><td>2476</td></tr>\n",
       "\t<tr><th scope=row>5</th><td>10</td><td>2971</td><td>1666</td><td>39.2</td><td>53.8</td><td>15</td><td>836</td><td>66.1</td><td>1457</td><td>1866</td></tr>\n",
       "\t<tr><th scope=row>6</th><td>11</td><td>2309</td><td>2927</td><td>39.7</td><td>74.1</td><td> 8</td><td>786</td><td>61.0</td><td>1848</td><td>2339</td></tr>\n",
       "</tbody>\n",
       "</table>\n"
      ],
      "text/latex": [
       "A data.frame: 6 × 10\n",
       "\\begin{tabular}{r|llllllllll}\n",
       "  & y & x1 & x2 & x3 & x4 & x5 & x6 & x7 & x8 & x9\\\\\n",
       "  & <int> & <int> & <int> & <dbl> & <dbl> & <int> & <int> & <dbl> & <int> & <int>\\\\\n",
       "\\hline\n",
       "\t1 & 10 & 2113 & 1985 & 38.9 & 64.7 &  4 & 868 & 59.7 & 2205 & 1917\\\\\n",
       "\t2 & 11 & 2003 & 2855 & 38.8 & 61.3 &  3 & 615 & 55.0 & 2096 & 1575\\\\\n",
       "\t3 & 11 & 2957 & 1737 & 40.1 & 60.0 & 14 & 914 & 65.6 & 1847 & 2175\\\\\n",
       "\t4 & 13 & 2285 & 2905 & 41.6 & 45.3 & -4 & 957 & 61.4 & 1903 & 2476\\\\\n",
       "\t5 & 10 & 2971 & 1666 & 39.2 & 53.8 & 15 & 836 & 66.1 & 1457 & 1866\\\\\n",
       "\t6 & 11 & 2309 & 2927 & 39.7 & 74.1 &  8 & 786 & 61.0 & 1848 & 2339\\\\\n",
       "\\end{tabular}\n"
      ],
      "text/markdown": [
       "\n",
       "A data.frame: 6 × 10\n",
       "\n",
       "| <!--/--> | y &lt;int&gt; | x1 &lt;int&gt; | x2 &lt;int&gt; | x3 &lt;dbl&gt; | x4 &lt;dbl&gt; | x5 &lt;int&gt; | x6 &lt;int&gt; | x7 &lt;dbl&gt; | x8 &lt;int&gt; | x9 &lt;int&gt; |\n",
       "|---|---|---|---|---|---|---|---|---|---|---|\n",
       "| 1 | 10 | 2113 | 1985 | 38.9 | 64.7 |  4 | 868 | 59.7 | 2205 | 1917 |\n",
       "| 2 | 11 | 2003 | 2855 | 38.8 | 61.3 |  3 | 615 | 55.0 | 2096 | 1575 |\n",
       "| 3 | 11 | 2957 | 1737 | 40.1 | 60.0 | 14 | 914 | 65.6 | 1847 | 2175 |\n",
       "| 4 | 13 | 2285 | 2905 | 41.6 | 45.3 | -4 | 957 | 61.4 | 1903 | 2476 |\n",
       "| 5 | 10 | 2971 | 1666 | 39.2 | 53.8 | 15 | 836 | 66.1 | 1457 | 1866 |\n",
       "| 6 | 11 | 2309 | 2927 | 39.7 | 74.1 |  8 | 786 | 61.0 | 1848 | 2339 |\n",
       "\n"
      ],
      "text/plain": [
       "  y  x1   x2   x3   x4   x5 x6  x7   x8   x9  \n",
       "1 10 2113 1985 38.9 64.7  4 868 59.7 2205 1917\n",
       "2 11 2003 2855 38.8 61.3  3 615 55.0 2096 1575\n",
       "3 11 2957 1737 40.1 60.0 14 914 65.6 1847 2175\n",
       "4 13 2285 2905 41.6 45.3 -4 957 61.4 1903 2476\n",
       "5 10 2971 1666 39.2 53.8 15 836 66.1 1457 1866\n",
       "6 11 2309 2927 39.7 74.1  8 786 61.0 1848 2339"
      ]
     },
     "metadata": {},
     "output_type": "display_data"
    }
   ],
   "source": [
    "NFL <- read.csv(\"NFL14.csv\", header = TRUE)\n",
    "head(NFL)"
   ]
  },
  {
   "cell_type": "code",
   "execution_count": 54,
   "id": "3a49b68b-47ed-4dc0-82fe-a517b5744054",
   "metadata": {},
   "outputs": [
    {
     "data": {
      "text/plain": [
       "\n",
       "Call:\n",
       "lm(formula = y ~ x2 + x7 + x8, data = NFL)\n",
       "\n",
       "Residuals:\n",
       "    Min      1Q  Median      3Q     Max \n",
       "-3.0370 -0.7129 -0.2043  1.1101  3.7049 \n",
       "\n",
       "Coefficients:\n",
       "             Estimate Std. Error t value Pr(>|t|)    \n",
       "(Intercept) -1.808372   7.900859  -0.229 0.820899    \n",
       "x2           0.003598   0.000695   5.177 2.66e-05 ***\n",
       "x7           0.193960   0.088233   2.198 0.037815 *  \n",
       "x8          -0.004816   0.001277  -3.771 0.000938 ***\n",
       "---\n",
       "Signif. codes:  0 ‘***’ 0.001 ‘**’ 0.01 ‘*’ 0.05 ‘.’ 0.1 ‘ ’ 1\n",
       "\n",
       "Residual standard error: 1.706 on 24 degrees of freedom\n",
       "Multiple R-squared:  0.7863,\tAdjusted R-squared:  0.7596 \n",
       "F-statistic: 29.44 on 3 and 24 DF,  p-value: 3.273e-08\n"
      ]
     },
     "metadata": {},
     "output_type": "display_data"
    }
   ],
   "source": [
    "NFL_model <- lm(y~x2+x7+x8, NFL)\n",
    "summary(NFL_model)"
   ]
  },
  {
   "cell_type": "markdown",
   "id": "e30fe6b1-32a1-489c-8c72-df7c0825dae2",
   "metadata": {},
   "source": [
    "**(2) 분산분석표를 작성하고, 회귀직선에 대한 유의성 검정을 수행하여라.**"
   ]
  },
  {
   "cell_type": "code",
   "execution_count": 61,
   "id": "4c83fd59-0732-4fcd-b1f0-b2fde3e54a96",
   "metadata": {},
   "outputs": [
    {
     "data": {
      "text/html": [
       "<table class=\"dataframe\">\n",
       "<caption>A anova: 2 × 6</caption>\n",
       "<thead>\n",
       "\t<tr><th></th><th scope=col>Res.Df</th><th scope=col>RSS</th><th scope=col>Df</th><th scope=col>Sum of Sq</th><th scope=col>F</th><th scope=col>Pr(&gt;F)</th></tr>\n",
       "\t<tr><th></th><th scope=col>&lt;dbl&gt;</th><th scope=col>&lt;dbl&gt;</th><th scope=col>&lt;dbl&gt;</th><th scope=col>&lt;dbl&gt;</th><th scope=col>&lt;dbl&gt;</th><th scope=col>&lt;dbl&gt;</th></tr>\n",
       "</thead>\n",
       "<tbody>\n",
       "\t<tr><th scope=row>1</th><td>27</td><td>326.9643</td><td>NA</td><td>      NA</td><td>      NA</td><td>          NA</td></tr>\n",
       "\t<tr><th scope=row>2</th><td>24</td><td> 69.8700</td><td> 3</td><td>257.0943</td><td>29.43687</td><td>3.273458e-08</td></tr>\n",
       "</tbody>\n",
       "</table>\n"
      ],
      "text/latex": [
       "A anova: 2 × 6\n",
       "\\begin{tabular}{r|llllll}\n",
       "  & Res.Df & RSS & Df & Sum of Sq & F & Pr(>F)\\\\\n",
       "  & <dbl> & <dbl> & <dbl> & <dbl> & <dbl> & <dbl>\\\\\n",
       "\\hline\n",
       "\t1 & 27 & 326.9643 & NA &       NA &       NA &           NA\\\\\n",
       "\t2 & 24 &  69.8700 &  3 & 257.0943 & 29.43687 & 3.273458e-08\\\\\n",
       "\\end{tabular}\n"
      ],
      "text/markdown": [
       "\n",
       "A anova: 2 × 6\n",
       "\n",
       "| <!--/--> | Res.Df &lt;dbl&gt; | RSS &lt;dbl&gt; | Df &lt;dbl&gt; | Sum of Sq &lt;dbl&gt; | F &lt;dbl&gt; | Pr(&gt;F) &lt;dbl&gt; |\n",
       "|---|---|---|---|---|---|---|\n",
       "| 1 | 27 | 326.9643 | NA |       NA |       NA |           NA |\n",
       "| 2 | 24 |  69.8700 |  3 | 257.0943 | 29.43687 | 3.273458e-08 |\n",
       "\n"
      ],
      "text/plain": [
       "  Res.Df RSS      Df Sum of Sq F        Pr(>F)      \n",
       "1 27     326.9643 NA       NA        NA           NA\n",
       "2 24      69.8700  3 257.0943  29.43687 3.273458e-08"
      ]
     },
     "metadata": {},
     "output_type": "display_data"
    }
   ],
   "source": [
    "null_NFL <- lm(y~1, NFL)\n",
    "\n",
    "anova(null_NFL, NFL_model)"
   ]
  },
  {
   "cell_type": "markdown",
   "id": "06ce0c2f-f653-4ebb-b039-19c33fe5a4ed",
   "metadata": {},
   "source": [
    "ⅰ) $H_0 : \\beta_0 = \\beta_2 = \\beta_7 = \\beta_8 = 0 ~ vs. ~ H_1 : ￢~H_0$"
   ]
  },
  {
   "cell_type": "markdown",
   "id": "ec114ead-6d77-4d69-b1d0-7ab21644bb43",
   "metadata": {},
   "source": [
    "ⅱ) $F = \\frac{MSR}{MSE} \\sim_{H_0} F(3, 24)$"
   ]
  },
  {
   "cell_type": "markdown",
   "id": "3f3b68e2-96ee-4743-86f6-3b21972336df",
   "metadata": {},
   "source": [
    "ⅲ) $P(X ≥ f) = p-value ≤ \\alpha = 0.05$이므로, 귀무가설을 기각하고 대립가설을 수용한다. 즉, 적합된 회귀직선은 유의하다."
   ]
  },
  {
   "cell_type": "markdown",
   "id": "33352249-e3ad-410d-be38-d721b80bd80f",
   "metadata": {},
   "source": [
    "**(3) 개별 회귀계수에 대한 유의성 검정을 수행하여라. $$H_0 : \\beta_i = 0,~i=2,7,8$$ 그리고 각 변수의 역할에 대해 설명하여라.**"
   ]
  },
  {
   "cell_type": "code",
   "execution_count": 65,
   "id": "8ed210a8-42f3-4ba6-91d0-12633aa35e7e",
   "metadata": {},
   "outputs": [
    {
     "data": {
      "text/html": [
       "<table class=\"dataframe\">\n",
       "<caption>A matrix: 4 × 4 of type dbl</caption>\n",
       "<thead>\n",
       "\t<tr><th></th><th scope=col>Estimate</th><th scope=col>Std. Error</th><th scope=col>t value</th><th scope=col>Pr(&gt;|t|)</th></tr>\n",
       "</thead>\n",
       "<tbody>\n",
       "\t<tr><th scope=row>(Intercept)</th><td>-1.808372059</td><td>7.9008594002</td><td>-0.228883</td><td>8.208990e-01</td></tr>\n",
       "\t<tr><th scope=row>x2</th><td> 0.003598070</td><td>0.0006949986</td><td> 5.177090</td><td>2.655723e-05</td></tr>\n",
       "\t<tr><th scope=row>x7</th><td> 0.193960210</td><td>0.0882334488</td><td> 2.198262</td><td>3.781516e-02</td></tr>\n",
       "\t<tr><th scope=row>x8</th><td>-0.004815494</td><td>0.0012769683</td><td>-3.771036</td><td>9.377699e-04</td></tr>\n",
       "</tbody>\n",
       "</table>\n"
      ],
      "text/latex": [
       "A matrix: 4 × 4 of type dbl\n",
       "\\begin{tabular}{r|llll}\n",
       "  & Estimate & Std. Error & t value & Pr(>\\textbar{}t\\textbar{})\\\\\n",
       "\\hline\n",
       "\t(Intercept) & -1.808372059 & 7.9008594002 & -0.228883 & 8.208990e-01\\\\\n",
       "\tx2 &  0.003598070 & 0.0006949986 &  5.177090 & 2.655723e-05\\\\\n",
       "\tx7 &  0.193960210 & 0.0882334488 &  2.198262 & 3.781516e-02\\\\\n",
       "\tx8 & -0.004815494 & 0.0012769683 & -3.771036 & 9.377699e-04\\\\\n",
       "\\end{tabular}\n"
      ],
      "text/markdown": [
       "\n",
       "A matrix: 4 × 4 of type dbl\n",
       "\n",
       "| <!--/--> | Estimate | Std. Error | t value | Pr(&gt;|t|) |\n",
       "|---|---|---|---|---|\n",
       "| (Intercept) | -1.808372059 | 7.9008594002 | -0.228883 | 8.208990e-01 |\n",
       "| x2 |  0.003598070 | 0.0006949986 |  5.177090 | 2.655723e-05 |\n",
       "| x7 |  0.193960210 | 0.0882334488 |  2.198262 | 3.781516e-02 |\n",
       "| x8 | -0.004815494 | 0.0012769683 | -3.771036 | 9.377699e-04 |\n",
       "\n"
      ],
      "text/plain": [
       "            Estimate     Std. Error   t value   Pr(>|t|)    \n",
       "(Intercept) -1.808372059 7.9008594002 -0.228883 8.208990e-01\n",
       "x2           0.003598070 0.0006949986  5.177090 2.655723e-05\n",
       "x7           0.193960210 0.0882334488  2.198262 3.781516e-02\n",
       "x8          -0.004815494 0.0012769683 -3.771036 9.377699e-04"
      ]
     },
     "metadata": {},
     "output_type": "display_data"
    }
   ],
   "source": [
    "summary(NFL_model)$coef"
   ]
  },
  {
   "cell_type": "markdown",
   "id": "aabf34df-cc23-4f12-a33b-0808e0ef2578",
   "metadata": {},
   "source": [
    "a)\n",
    "\n",
    "가설 설정 $H_0 : \\beta_2 = 0~vs.~\\beta_2 \\neq 0$\n",
    "\n",
    "검정통계량 $T = \\frac{\\hat{\\beta_2}-0}{\\sigma_{\\hat{\\beta_2}}} \\sim_{H_0} t(24)$\n",
    "\n",
    "$P(X ≥ t) = 0.000027 ≤ \\alpha = 0.05$ 이므로, 귀무가설을 기각하고 대립가설을 수용한다. 즉, 회귀계수는 유의하다.\n",
    "\n",
    "> 경기의 플레이 중 러시를 행한 비율($x_7$)과 적이 러시해온 거리($x_8$)가 일정할 때, 아군이 패스를 통해 전진한 야드거리($x_2$)가 1 늘어나면 승리한 게임 수가 0.0036 정도 늘어난다고 예측할 수 있다."
   ]
  },
  {
   "cell_type": "markdown",
   "id": "1fde707e-8c51-4fdc-bb88-860147b0a913",
   "metadata": {},
   "source": [
    "b)\n",
    "\n",
    "가설 설정 $H_0 : \\beta_7 = 0~vs.~\\beta_7 \\neq 0$\n",
    "\n",
    "검정통계량 $T = \\frac{\\hat{\\beta_7}-0}{\\sigma_{\\hat{\\beta_7}}} \\sim_{H_0} t(24)$\n",
    "\n",
    "$P(X ≥ t) = 0.0378 ≤ \\alpha = 0.05$ 이므로, 귀무가설을 기각하고 대립가설을 수용한다. 즉, 회귀계수는 유의하다.\n",
    "\n",
    "> 다른 설명변수의 값이 일정할 때, 경기 플레이 중 러시를 행한 비율이 1 증가하면 승리한 게임 수는 0.194정도 늘어난다."
   ]
  },
  {
   "cell_type": "markdown",
   "id": "a8d30eb9-e5a3-40fe-8b74-3c00abe49772",
   "metadata": {},
   "source": [
    "c)\n",
    "\n",
    "가설 설정 $H_0 : \\beta_9 = 0~vs.~\\beta_9 \\neq 0$\n",
    "\n",
    "검정통계량 $T = \\frac{\\hat{\\beta_9}-0}{\\sigma_{\\hat{\\beta_9}}} \\sim_{H_0} t(24)$\n",
    "\n",
    "$P(X ≥ t) = 0.0009378 ≤ \\alpha = 0.05$ 이므로, 귀무가설을 기각하고 대립가설을 수용한다. 즉, 회귀계수는 유의하다.\n",
    "\n",
    "> 다른 설명변수의 값이 일정할 때, 상대 팀이 러시를 해온 야드거리가 1 늘어나면, 승리한 게임 수가 -0.0048정도 감소한다고 예측할 수 있다."
   ]
  },
  {
   "cell_type": "markdown",
   "id": "1a0a013d-0f04-4e63-821b-12f0364b2fb0",
   "metadata": {},
   "source": [
    "**(4) $R^2$와 수정된 $R^2$를 구하여라.**"
   ]
  },
  {
   "cell_type": "code",
   "execution_count": 70,
   "id": "4e300de0-c7a7-4e79-9d6a-bf62c70f2446",
   "metadata": {},
   "outputs": [
    {
     "name": "stdout",
     "output_type": "stream",
     "text": [
      "[1] \"R squared : 0.786306923310954, Adjusted R squared : 0.759595288724823\"\n"
     ]
    }
   ],
   "source": [
    "print(paste(\"R squared : \", summary(NFL_model)$r.squared, \", \", \"Adjusted R squared : \", summary(NFL_model)$adj.r.squared, sep = \"\"))"
   ]
  },
  {
   "cell_type": "markdown",
   "id": "440653c5-81e8-4c52-8a10-6152e02605d2",
   "metadata": {},
   "source": [
    "**(5) 부분 F검정을 이용하여 $\\beta_7$의 유의성에 대해 판단하여라. 부분 F검정 통계량과 (3)번에서의 t검정 통계량 사이에는 어떤 관계가 있는가?**"
   ]
  },
  {
   "cell_type": "markdown",
   "id": "30ae411a-7515-4dcc-8daf-02bfe2049e1b",
   "metadata": {},
   "source": [
    "$H_0 : \\beta_7 = 0 ~ vs. ~ H_1 : \\beta_7 \\neq 0$"
   ]
  },
  {
   "cell_type": "code",
   "execution_count": 71,
   "id": "a926fae0-69ed-4a7e-affd-d9db8a4bd2a5",
   "metadata": {},
   "outputs": [
    {
     "data": {
      "text/html": [
       "<table class=\"dataframe\">\n",
       "<caption>A anova: 2 × 6</caption>\n",
       "<thead>\n",
       "\t<tr><th></th><th scope=col>Res.Df</th><th scope=col>RSS</th><th scope=col>Df</th><th scope=col>Sum of Sq</th><th scope=col>F</th><th scope=col>Pr(&gt;F)</th></tr>\n",
       "\t<tr><th></th><th scope=col>&lt;dbl&gt;</th><th scope=col>&lt;dbl&gt;</th><th scope=col>&lt;dbl&gt;</th><th scope=col>&lt;dbl&gt;</th><th scope=col>&lt;dbl&gt;</th><th scope=col>&lt;dbl&gt;</th></tr>\n",
       "</thead>\n",
       "<tbody>\n",
       "\t<tr><th scope=row>1</th><td>25</td><td>83.9382</td><td>NA</td><td>      NA</td><td>      NA</td><td>        NA</td></tr>\n",
       "\t<tr><th scope=row>2</th><td>24</td><td>69.8700</td><td> 1</td><td>14.06819</td><td>4.832354</td><td>0.03781516</td></tr>\n",
       "</tbody>\n",
       "</table>\n"
      ],
      "text/latex": [
       "A anova: 2 × 6\n",
       "\\begin{tabular}{r|llllll}\n",
       "  & Res.Df & RSS & Df & Sum of Sq & F & Pr(>F)\\\\\n",
       "  & <dbl> & <dbl> & <dbl> & <dbl> & <dbl> & <dbl>\\\\\n",
       "\\hline\n",
       "\t1 & 25 & 83.9382 & NA &       NA &       NA &         NA\\\\\n",
       "\t2 & 24 & 69.8700 &  1 & 14.06819 & 4.832354 & 0.03781516\\\\\n",
       "\\end{tabular}\n"
      ],
      "text/markdown": [
       "\n",
       "A anova: 2 × 6\n",
       "\n",
       "| <!--/--> | Res.Df &lt;dbl&gt; | RSS &lt;dbl&gt; | Df &lt;dbl&gt; | Sum of Sq &lt;dbl&gt; | F &lt;dbl&gt; | Pr(&gt;F) &lt;dbl&gt; |\n",
       "|---|---|---|---|---|---|---|\n",
       "| 1 | 25 | 83.9382 | NA |       NA |       NA |         NA |\n",
       "| 2 | 24 | 69.8700 |  1 | 14.06819 | 4.832354 | 0.03781516 |\n",
       "\n"
      ],
      "text/plain": [
       "  Res.Df RSS     Df Sum of Sq F        Pr(>F)    \n",
       "1 25     83.9382 NA       NA        NA         NA\n",
       "2 24     69.8700  1 14.06819  4.832354 0.03781516"
      ]
     },
     "metadata": {},
     "output_type": "display_data"
    }
   ],
   "source": [
    "NFL_rm <- lm(y~x2+x8, NFL)\n",
    "\n",
    "anova(NFL_rm, NFL_model)"
   ]
  },
  {
   "cell_type": "markdown",
   "id": "592cdc81-9329-4210-9a73-ec5d86e4b0df",
   "metadata": {},
   "source": [
    "$P(X ≥ f) = 0.0378 ≤ \\alpha = 0.05$ 이므로, 귀무가설을 기각하고 대립가설을 수용한다. 즉, 회귀계수는 유의하다."
   ]
  },
  {
   "cell_type": "code",
   "execution_count": 76,
   "id": "512e3503-a184-4b15-853e-684c16e4a96a",
   "metadata": {},
   "outputs": [
    {
     "data": {
      "text/html": [
       "4.83235442598813"
      ],
      "text/latex": [
       "4.83235442598813"
      ],
      "text/markdown": [
       "4.83235442598813"
      ],
      "text/plain": [
       "[1] 4.832354"
      ]
     },
     "metadata": {},
     "output_type": "display_data"
    },
    {
     "data": {
      "text/html": [
       "4.83235442598816"
      ],
      "text/latex": [
       "4.83235442598816"
      ],
      "text/markdown": [
       "4.83235442598816"
      ],
      "text/plain": [
       "[1] 4.832354"
      ]
     },
     "metadata": {},
     "output_type": "display_data"
    }
   ],
   "source": [
    "summary(NFL_model)$coef[3,3]^2\n",
    "anova(NFL_rm, NFL_model)[2,5]"
   ]
  },
  {
   "cell_type": "markdown",
   "id": "c356a998-8fb3-4bd9-9199-ba076a300912",
   "metadata": {},
   "source": [
    "> $F(1, 24)$를 따르는 확률변수를 제곱근하면 $t(24)$를 따르게 되므로 부분 F검정 통계량은 (3)번에서의 t검정 통계량의 제곱이라는 관계가 있다."
   ]
  },
  {
   "cell_type": "markdown",
   "id": "b698e6a2-81e8-4328-a186-89fb6cfdf2e2",
   "metadata": {},
   "source": [
    "**(6) $\\beta_7$의 $95\\%$ 신뢰구간을 구하여라.**"
   ]
  },
  {
   "cell_type": "code",
   "execution_count": 82,
   "id": "d4f3d7a8-4fb0-43a2-84f0-6ef5be5d5f97",
   "metadata": {},
   "outputs": [
    {
     "name": "stdout",
     "output_type": "stream",
     "text": [
      "[1] \"beta7의 95% CI : (0.0118553215676868, 0.376065097598759)\"\n"
     ]
    }
   ],
   "source": [
    "lwb <- confint(NFL_model)[3,1]\n",
    "upb <- confint(NFL_model)[3,2]\n",
    "\n",
    "print(paste(\"beta7의 95% CI : (\", lwb, \", \", upb, \")\", sep = \"\"))"
   ]
  },
  {
   "cell_type": "markdown",
   "id": "9a99ce81-5101-45c9-9f83-2f52992e9f29",
   "metadata": {},
   "source": [
    "**(7) $x_2 = 2300, x_7 = 56, x_8 = 2100$일 때 평균반응에 대한 $95\\%$ 신뢰구간을 구하여라.**"
   ]
  },
  {
   "cell_type": "code",
   "execution_count": 92,
   "id": "4f258998-ce6e-4419-b143-1016c6d9c8c2",
   "metadata": {},
   "outputs": [
    {
     "name": "stdout",
     "output_type": "stream",
     "text": [
      "[1] \"평균반응에 대한 95% CI : (6.43620277665723, 7.99664488933469)\"\n"
     ]
    }
   ],
   "source": [
    "new_data <- data.frame(x2 = 2300, x7 = 56, x8 = 2100)\n",
    "mean_rsp <- predict(NFL_model, new_data, interval = \"confidence\", level = 0.95)\n",
    "lwb <- mean_rsp[1,2]\n",
    "upb <- mean_rsp[1,3]\n",
    "\n",
    "print(paste(\"평균반응에 대한 95% CI : (\", lwb, \", \", upb, \")\", sep = \"\"))"
   ]
  },
  {
   "cell_type": "markdown",
   "id": "81c7f66f-c924-4545-b256-5aa9cd973b15",
   "metadata": {},
   "source": [
    "**(8) $x_7$과 $x_8$만을 이용한 회귀모형을 적합하고, 회귀모형의 유의성 검정을 수행하여라.**"
   ]
  },
  {
   "cell_type": "code",
   "execution_count": 85,
   "id": "577d6c85-da5f-407f-bae6-cf70f16d532a",
   "metadata": {},
   "outputs": [
    {
     "data": {
      "text/plain": [
       "\n",
       "Call:\n",
       "lm(formula = y ~ x7 + x8, data = NFL)\n",
       "\n",
       "Residuals:\n",
       "    Min      1Q  Median      3Q     Max \n",
       "-3.7985 -1.5166 -0.5792  1.9927  4.5248 \n",
       "\n",
       "Coefficients:\n",
       "             Estimate Std. Error t value Pr(>|t|)   \n",
       "(Intercept) 17.944319   9.862484   1.819  0.08084 . \n",
       "x7           0.048371   0.119219   0.406  0.68839   \n",
       "x8          -0.006537   0.001758  -3.719  0.00102 **\n",
       "---\n",
       "Signif. codes:  0 ‘***’ 0.001 ‘**’ 0.01 ‘*’ 0.05 ‘.’ 0.1 ‘ ’ 1\n",
       "\n",
       "Residual standard error: 2.432 on 25 degrees of freedom\n",
       "Multiple R-squared:  0.5477,\tAdjusted R-squared:  0.5115 \n",
       "F-statistic: 15.13 on 2 and 25 DF,  p-value: 4.935e-05\n"
      ]
     },
     "metadata": {},
     "output_type": "display_data"
    }
   ],
   "source": [
    "NFL_rm2 <- lm(y~x7+x8, NFL)\n",
    "summary(NFL_rm2)"
   ]
  },
  {
   "cell_type": "markdown",
   "id": "d3ad5695-edbe-4f02-8dfa-2a2f33676910",
   "metadata": {},
   "source": [
    "가설 $H_0 : \\beta_1 = \\beta_7 = \\beta_8 = 0 ~ vs. ~ H_1 : ￢~H_0$"
   ]
  },
  {
   "cell_type": "code",
   "execution_count": 87,
   "id": "c08253a8-969b-417f-a9d1-6cf95260061e",
   "metadata": {},
   "outputs": [
    {
     "data": {
      "text/html": [
       "<table class=\"dataframe\">\n",
       "<caption>A anova: 2 × 6</caption>\n",
       "<thead>\n",
       "\t<tr><th></th><th scope=col>Res.Df</th><th scope=col>RSS</th><th scope=col>Df</th><th scope=col>Sum of Sq</th><th scope=col>F</th><th scope=col>Pr(&gt;F)</th></tr>\n",
       "\t<tr><th></th><th scope=col>&lt;dbl&gt;</th><th scope=col>&lt;dbl&gt;</th><th scope=col>&lt;dbl&gt;</th><th scope=col>&lt;dbl&gt;</th><th scope=col>&lt;dbl&gt;</th><th scope=col>&lt;dbl&gt;</th></tr>\n",
       "</thead>\n",
       "<tbody>\n",
       "\t<tr><th scope=row>1</th><td>27</td><td>326.9643</td><td>NA</td><td>      NA</td><td>      NA</td><td>        NA</td></tr>\n",
       "\t<tr><th scope=row>2</th><td>25</td><td>147.8981</td><td> 2</td><td>179.0662</td><td>15.13425</td><td>4.9349e-05</td></tr>\n",
       "</tbody>\n",
       "</table>\n"
      ],
      "text/latex": [
       "A anova: 2 × 6\n",
       "\\begin{tabular}{r|llllll}\n",
       "  & Res.Df & RSS & Df & Sum of Sq & F & Pr(>F)\\\\\n",
       "  & <dbl> & <dbl> & <dbl> & <dbl> & <dbl> & <dbl>\\\\\n",
       "\\hline\n",
       "\t1 & 27 & 326.9643 & NA &       NA &       NA &         NA\\\\\n",
       "\t2 & 25 & 147.8981 &  2 & 179.0662 & 15.13425 & 4.9349e-05\\\\\n",
       "\\end{tabular}\n"
      ],
      "text/markdown": [
       "\n",
       "A anova: 2 × 6\n",
       "\n",
       "| <!--/--> | Res.Df &lt;dbl&gt; | RSS &lt;dbl&gt; | Df &lt;dbl&gt; | Sum of Sq &lt;dbl&gt; | F &lt;dbl&gt; | Pr(&gt;F) &lt;dbl&gt; |\n",
       "|---|---|---|---|---|---|---|\n",
       "| 1 | 27 | 326.9643 | NA |       NA |       NA |         NA |\n",
       "| 2 | 25 | 147.8981 |  2 | 179.0662 | 15.13425 | 4.9349e-05 |\n",
       "\n"
      ],
      "text/plain": [
       "  Res.Df RSS      Df Sum of Sq F        Pr(>F)    \n",
       "1 27     326.9643 NA       NA        NA         NA\n",
       "2 25     147.8981  2 179.0662  15.13425 4.9349e-05"
      ]
     },
     "metadata": {},
     "output_type": "display_data"
    }
   ],
   "source": [
    "anova(null_NFL, NFL_rm2)"
   ]
  },
  {
   "cell_type": "markdown",
   "id": "12c23930-79d4-4617-a8a2-e61b41c75018",
   "metadata": {},
   "source": [
    "$P(X ≥ f) = 0.000049 ≤ \\alpha = 0.05$ 이므로, 귀무가설을 기각하고 대립가설을 수용한다. 즉, 적합된 회귀모형은 통계적으로 유의하다."
   ]
  },
  {
   "cell_type": "markdown",
   "id": "32b84e28-0121-4ec4-9ed8-d8b3e473986f",
   "metadata": {},
   "source": [
    "**(9) (8)의 모형에서 $R^2$와 수정된 $R^2$를 구하고, (4)의 결과와 비교하여 설명하여라.**"
   ]
  },
  {
   "cell_type": "markdown",
   "id": "7ba6ce02-fa0f-4e03-bc37-780079810e96",
   "metadata": {},
   "source": [
    "`-` (8) 모형에서의 결정계수"
   ]
  },
  {
   "cell_type": "code",
   "execution_count": 88,
   "id": "20a2180e-ef62-4692-a9fa-86abc7af0de4",
   "metadata": {},
   "outputs": [
    {
     "name": "stdout",
     "output_type": "stream",
     "text": [
      "[1] \"R squared : 0.547662835055794, Adjusted R squared : 0.511475861860258\"\n"
     ]
    }
   ],
   "source": [
    "print(paste(\"R squared : \", summary(NFL_rm2)$r.squared, \", \", \"Adjusted R squared : \", summary(NFL_rm2)$adj.r.squared, sep = \"\"))"
   ]
  },
  {
   "cell_type": "code",
   "execution_count": 89,
   "id": "f7708e8c-022a-4189-9a89-7c169a61f4ae",
   "metadata": {},
   "outputs": [
    {
     "name": "stdout",
     "output_type": "stream",
     "text": [
      "[1] \"R squared : 0.786306923310954, Adjusted R squared : 0.759595288724823\"\n"
     ]
    }
   ],
   "source": [
    "print(paste(\"R squared : \", summary(NFL_model)$r.squared, \", \", \"Adjusted R squared : \", summary(NFL_model)$adj.r.squared, sep = \"\"))"
   ]
  },
  {
   "cell_type": "markdown",
   "id": "2fb0cd22-5e5c-483a-954f-95e4c6130d58",
   "metadata": {},
   "source": [
    "> 축소된 모형에서의 결정계수는 기존 모델에서의 결정계수보다 0.24가량 낮았으며, 수정된 결정계수 또한 비슷하게 낮았다. 즉, $x_2$라는 변수가 회귀모형에 기여하는 정도가 0.24인 것으로 해당 변수를 배제하고 회귀모형을 적합하기에는 부적절할 것으로 예상된다."
   ]
  },
  {
   "cell_type": "markdown",
   "id": "f77ac59e-6190-43b4-aa07-4ad74b822ceb",
   "metadata": {},
   "source": [
    "**(11) (8)의 모형에서 $x_7 = 56, x_8 = 2100$일 때 평균반응에 대한 $95\\%$ 신뢰구간을 구하고, (7)의 결과와 비교하여 설명하여라.**"
   ]
  },
  {
   "cell_type": "code",
   "execution_count": 96,
   "id": "55f64974-2cea-4a19-b131-313e95729ee6",
   "metadata": {},
   "outputs": [
    {
     "name": "stdout",
     "output_type": "stream",
     "text": [
      "[1] \"(축소 모형) 평균반응에 대한 95% CI : (5.82864349972586, 8.02384163277886)\"\n"
     ]
    }
   ],
   "source": [
    "new_data_rm <- data.frame(x7 = 56, x8 = 2100)\n",
    "predict(NFL_rm2, new_data_rm, interval = \"confidence\", level = 0.95) -> mean_rsp_rm\n",
    "lwb_rm <- mean_rsp_rm[1,2]\n",
    "upb_rm <- mean_rsp_rm[1,3]\n",
    "\n",
    "print(paste(\"(축소 모형) 평균반응에 대한 95% CI : (\", lwb_rm, \", \", upb_rm, \")\", sep = \"\"))"
   ]
  },
  {
   "cell_type": "code",
   "execution_count": 98,
   "id": "6d2b8f32-493b-4f3e-8459-151b114c28ed",
   "metadata": {},
   "outputs": [
    {
     "name": "stdout",
     "output_type": "stream",
     "text": [
      "[1] \"(전체 모형) 평균반응에 대한 95% CI : (6.43620277665723, 7.99664488933469)\"\n"
     ]
    }
   ],
   "source": [
    "print(paste(\"(전체 모형) 평균반응에 대한 95% CI : (\", lwb, \", \", upb, \")\", sep = \"\"))"
   ]
  },
  {
   "cell_type": "markdown",
   "id": "4971b00b-2831-4712-910b-4bb79ce9a611",
   "metadata": {},
   "source": [
    "> 설명변수를 하나 생략했을 때의 모형은 그렇지 않은 모형에 비해 신뢰구간이 넓었다."
   ]
  },
  {
   "cell_type": "markdown",
   "id": "59cb5aa2-fb9d-4fe6-8a34-c3984997fbe8",
   "metadata": {},
   "source": [
    "**(12) 이 문제로부터 모델에서 중요한 예측변수를 생략했을 때의 결과에 대해 어떤 결론을 도출할 수 있는가?**"
   ]
  },
  {
   "cell_type": "markdown",
   "id": "aa08774f-101e-4d75-85b9-28de13fac21e",
   "metadata": {},
   "source": [
    "> 모델에서 중요한 예측변수를 생략할 경우 모형의 분산이 증가하고, 이에 따라 설명력이 감소하는 손실이 모형을 단순화함으로써 얻는 이득보다 심했다. 따라서 모형을 단순화할 때 예측변수의 중요도를 상관계수나 p-value로 먼저 파악하여 중요하지 않은 예측변수를 먼저 제거해야 한다."
   ]
  }
 ],
 "metadata": {
  "kernelspec": {
   "display_name": "R",
   "language": "R",
   "name": "ir"
  },
  "language_info": {
   "codemirror_mode": "r",
   "file_extension": ".r",
   "mimetype": "text/x-r-source",
   "name": "R",
   "pygments_lexer": "r",
   "version": "4.3.3"
  }
 },
 "nbformat": 4,
 "nbformat_minor": 5
}
