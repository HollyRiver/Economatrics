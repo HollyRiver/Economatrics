{
 "cells": [
  {
   "cell_type": "markdown",
   "id": "12d97945-e55d-449a-847d-4e4880a8b4e5",
   "metadata": {},
   "source": [
    "## <center>회귀분석2 HW 2</center>\n",
    "\n",
    "### **CH06, 07**"
   ]
  },
  {
   "cell_type": "markdown",
   "id": "7048984c-6feb-4353-a119-8fb77e1a338c",
   "metadata": {},
   "source": [
    "### 1. 어떤 공장에서 물의 소비량을 조사하기 위하여 매달의 물소비량($y$), 평균온도($x_1$), 작업일수($x_2$)와 작업량($x_3$)에 관한 데이터를 얻었다."
   ]
  },
  {
   "cell_type": "code",
   "execution_count": 52,
   "id": "11a5e148-86c4-4587-b325-b61a5d2b745f",
   "metadata": {},
   "outputs": [],
   "source": [
    "library(dplyr)"
   ]
  },
  {
   "cell_type": "code",
   "execution_count": 1,
   "id": "baf91b20-224f-4974-8509-69b5921470d7",
   "metadata": {},
   "outputs": [
    {
     "data": {
      "text/html": [
       "<table class=\"dataframe\">\n",
       "<caption>A data.frame: 10 × 4</caption>\n",
       "<thead>\n",
       "\t<tr><th scope=col>y</th><th scope=col>x1</th><th scope=col>x2</th><th scope=col>x3</th></tr>\n",
       "\t<tr><th scope=col>&lt;dbl&gt;</th><th scope=col>&lt;dbl&gt;</th><th scope=col>&lt;dbl&gt;</th><th scope=col>&lt;dbl&gt;</th></tr>\n",
       "</thead>\n",
       "<tbody>\n",
       "\t<tr><td>2.8</td><td>10</td><td>27</td><td>64</td></tr>\n",
       "\t<tr><td>3.9</td><td>24</td><td>26</td><td>72</td></tr>\n",
       "\t<tr><td>3.9</td><td>25</td><td>28</td><td>80</td></tr>\n",
       "\t<tr><td>4.4</td><td>28</td><td>26</td><td>88</td></tr>\n",
       "\t<tr><td>3.1</td><td>15</td><td>30</td><td>81</td></tr>\n",
       "\t<tr><td>3.1</td><td>18</td><td>24</td><td>45</td></tr>\n",
       "\t<tr><td>3.5</td><td>22</td><td>27</td><td>46</td></tr>\n",
       "\t<tr><td>3.6</td><td>22</td><td>25</td><td>69</td></tr>\n",
       "\t<tr><td>3.0</td><td>12</td><td>27</td><td>54</td></tr>\n",
       "\t<tr><td>3.3</td><td>15</td><td>25</td><td>39</td></tr>\n",
       "</tbody>\n",
       "</table>\n"
      ],
      "text/latex": [
       "A data.frame: 10 × 4\n",
       "\\begin{tabular}{llll}\n",
       " y & x1 & x2 & x3\\\\\n",
       " <dbl> & <dbl> & <dbl> & <dbl>\\\\\n",
       "\\hline\n",
       "\t 2.8 & 10 & 27 & 64\\\\\n",
       "\t 3.9 & 24 & 26 & 72\\\\\n",
       "\t 3.9 & 25 & 28 & 80\\\\\n",
       "\t 4.4 & 28 & 26 & 88\\\\\n",
       "\t 3.1 & 15 & 30 & 81\\\\\n",
       "\t 3.1 & 18 & 24 & 45\\\\\n",
       "\t 3.5 & 22 & 27 & 46\\\\\n",
       "\t 3.6 & 22 & 25 & 69\\\\\n",
       "\t 3.0 & 12 & 27 & 54\\\\\n",
       "\t 3.3 & 15 & 25 & 39\\\\\n",
       "\\end{tabular}\n"
      ],
      "text/markdown": [
       "\n",
       "A data.frame: 10 × 4\n",
       "\n",
       "| y &lt;dbl&gt; | x1 &lt;dbl&gt; | x2 &lt;dbl&gt; | x3 &lt;dbl&gt; |\n",
       "|---|---|---|---|\n",
       "| 2.8 | 10 | 27 | 64 |\n",
       "| 3.9 | 24 | 26 | 72 |\n",
       "| 3.9 | 25 | 28 | 80 |\n",
       "| 4.4 | 28 | 26 | 88 |\n",
       "| 3.1 | 15 | 30 | 81 |\n",
       "| 3.1 | 18 | 24 | 45 |\n",
       "| 3.5 | 22 | 27 | 46 |\n",
       "| 3.6 | 22 | 25 | 69 |\n",
       "| 3.0 | 12 | 27 | 54 |\n",
       "| 3.3 | 15 | 25 | 39 |\n",
       "\n"
      ],
      "text/plain": [
       "   y   x1 x2 x3\n",
       "1  2.8 10 27 64\n",
       "2  3.9 24 26 72\n",
       "3  3.9 25 28 80\n",
       "4  4.4 28 26 88\n",
       "5  3.1 15 30 81\n",
       "6  3.1 18 24 45\n",
       "7  3.5 22 27 46\n",
       "8  3.6 22 25 69\n",
       "9  3.0 12 27 54\n",
       "10 3.3 15 25 39"
      ]
     },
     "metadata": {},
     "output_type": "display_data"
    }
   ],
   "source": [
    "df = data.frame(y = c(2.8, 3.9, 3.9, 4.4, 3.1, 3.1, 3.5, 3.6, 3.0, 3.3),\n",
    "                x1 = c(10, 24, 25, 28, 15, 18, 22, 22, 12, 15),\n",
    "                x2 = c(27, 26, 28, 26, 30, 24, 27, 25, 27, 25),\n",
    "                x3 = c(64, 72, 80, 88, 81, 45, 46, 69, 54, 39))\n",
    "df"
   ]
  },
  {
   "cell_type": "markdown",
   "id": "3520388c-7115-4374-8f13-f51965e9aab8",
   "metadata": {},
   "source": [
    "**(1) 데이터로부터 회귀모형, $\\hat{y} = \\hat{\\beta_0} + \\hat{\\beta_1}x_1 + \\hat{\\beta_2}x_2 + \\hat{\\beta_3}x_3$을 구하여라.**"
   ]
  },
  {
   "cell_type": "code",
   "execution_count": 3,
   "id": "2b8869c4-5d91-451e-8b9e-854bd2fab453",
   "metadata": {},
   "outputs": [
    {
     "data": {
      "text/plain": [
       "\n",
       "Call:\n",
       "lm(formula = y ~ ., data = df)\n",
       "\n",
       "Coefficients:\n",
       "(Intercept)           x1           x2           x3  \n",
       "   2.409213     0.069788    -0.024767     0.005864  \n"
      ]
     },
     "metadata": {},
     "output_type": "display_data"
    }
   ],
   "source": [
    "model <- lm(y~., df)\n",
    "model"
   ]
  },
  {
   "cell_type": "markdown",
   "id": "d826f4ef-b573-45e9-b8a8-2d8f14d94214",
   "metadata": {},
   "source": [
    "적합된 회귀모형 : $\\hat{y} = 2.4092 + 0.0698x_1 - 0.0248x_2 + 0.0059x_3$"
   ]
  },
  {
   "cell_type": "markdown",
   "id": "060cae7f-cec2-43ab-99b6-a2b0437327e9",
   "metadata": {},
   "source": [
    "**(2) $\\hat{\\beta_1},~\\hat{\\beta_2},~\\hat{\\beta_3}$ 의 의미는 무엇인가?**"
   ]
  },
  {
   "cell_type": "markdown",
   "id": "c1136a11-8aa7-48be-8f7b-42ba5e184224",
   "metadata": {},
   "source": [
    "* $\\hat{\\beta_1}$ : 작업일수($x_2$)와 작업량($x_3$)이 고정되어 있을 때 평균온도를 1만큼 상승시키면 물 소비량이 0.0698만큼 증가한다.\n",
    "* $\\hat{\\beta_2}$ : 평균온도($x_1$)와 작업량($x_3$)이 고정되어 있을 때, 작업일수가 하루 늘어나면 물 소비량이 0.0248만큼 감소한다. (?)\n",
    "* $\\hat{\\beta_3}$ : 평균온도($x_1$)와 작업일수($x_2$)가 고정되어 있을 때, 작업량이 1만큼 늘어나면 물 소비량은 0.0059만큼 증가한다."
   ]
  },
  {
   "cell_type": "markdown",
   "id": "bf76d09e-b4fd-4f15-864b-69a17d83544e",
   "metadata": {},
   "source": [
    "**(3) 분산분석표를 작성하고, 결정계수 $R^2$를 구하시오.**"
   ]
  },
  {
   "cell_type": "markdown",
   "id": "28dfdcd3-6501-4144-a71f-45f6dfda9459",
   "metadata": {},
   "source": [
    "`-` 분산분석표 작성"
   ]
  },
  {
   "cell_type": "code",
   "execution_count": 55,
   "id": "7c9f6eef-0f08-43b9-b9c4-e5f6ce944a3a",
   "metadata": {},
   "outputs": [
    {
     "data": {
      "text/html": [
       "<table class=\"dataframe\">\n",
       "<caption>A anova: 4 × 5</caption>\n",
       "<thead>\n",
       "\t<tr><th></th><th scope=col>Df</th><th scope=col>Sum Sq</th><th scope=col>Mean Sq</th><th scope=col>F value</th><th scope=col>Pr(&gt;F)</th></tr>\n",
       "\t<tr><th></th><th scope=col>&lt;int&gt;</th><th scope=col>&lt;dbl&gt;</th><th scope=col>&lt;dbl&gt;</th><th scope=col>&lt;dbl&gt;</th><th scope=col>&lt;dbl&gt;</th></tr>\n",
       "</thead>\n",
       "<tbody>\n",
       "\t<tr><th scope=row>x1</th><td>1</td><td>2.004315887</td><td>2.004315887</td><td>67.73858599</td><td>0.0001737553</td></tr>\n",
       "\t<tr><th scope=row>x2</th><td>1</td><td>0.002273071</td><td>0.002273071</td><td> 0.07682153</td><td>0.7909535228</td></tr>\n",
       "\t<tr><th scope=row>x3</th><td>1</td><td>0.039877142</td><td>0.039877142</td><td> 1.34770234</td><td>0.2897755827</td></tr>\n",
       "\t<tr><th scope=row>Residuals</th><td>6</td><td>0.177533900</td><td>0.029588983</td><td>         NA</td><td>          NA</td></tr>\n",
       "</tbody>\n",
       "</table>\n"
      ],
      "text/latex": [
       "A anova: 4 × 5\n",
       "\\begin{tabular}{r|lllll}\n",
       "  & Df & Sum Sq & Mean Sq & F value & Pr(>F)\\\\\n",
       "  & <int> & <dbl> & <dbl> & <dbl> & <dbl>\\\\\n",
       "\\hline\n",
       "\tx1 & 1 & 2.004315887 & 2.004315887 & 67.73858599 & 0.0001737553\\\\\n",
       "\tx2 & 1 & 0.002273071 & 0.002273071 &  0.07682153 & 0.7909535228\\\\\n",
       "\tx3 & 1 & 0.039877142 & 0.039877142 &  1.34770234 & 0.2897755827\\\\\n",
       "\tResiduals & 6 & 0.177533900 & 0.029588983 &          NA &           NA\\\\\n",
       "\\end{tabular}\n"
      ],
      "text/markdown": [
       "\n",
       "A anova: 4 × 5\n",
       "\n",
       "| <!--/--> | Df &lt;int&gt; | Sum Sq &lt;dbl&gt; | Mean Sq &lt;dbl&gt; | F value &lt;dbl&gt; | Pr(&gt;F) &lt;dbl&gt; |\n",
       "|---|---|---|---|---|---|\n",
       "| x1 | 1 | 2.004315887 | 2.004315887 | 67.73858599 | 0.0001737553 |\n",
       "| x2 | 1 | 0.002273071 | 0.002273071 |  0.07682153 | 0.7909535228 |\n",
       "| x3 | 1 | 0.039877142 | 0.039877142 |  1.34770234 | 0.2897755827 |\n",
       "| Residuals | 6 | 0.177533900 | 0.029588983 |          NA |           NA |\n",
       "\n"
      ],
      "text/plain": [
       "          Df Sum Sq      Mean Sq     F value     Pr(>F)      \n",
       "x1        1  2.004315887 2.004315887 67.73858599 0.0001737553\n",
       "x2        1  0.002273071 0.002273071  0.07682153 0.7909535228\n",
       "x3        1  0.039877142 0.039877142  1.34770234 0.2897755827\n",
       "Residuals 6  0.177533900 0.029588983          NA           NA"
      ]
     },
     "metadata": {},
     "output_type": "display_data"
    }
   ],
   "source": [
    "anova(model)"
   ]
  },
  {
   "cell_type": "code",
   "execution_count": 63,
   "id": "55c4d46d-4d83-4268-9420-bc217a4edb84",
   "metadata": {},
   "outputs": [],
   "source": [
    "SSR <- apply(anova(model)[1:3, 1:2], 2, sum)\n",
    "SST <- SSR + anova(model)[4, 1:2]"
   ]
  },
  {
   "cell_type": "code",
   "execution_count": 74,
   "id": "4d072ad0-9c94-4dae-8cae-c3c9b1a675c9",
   "metadata": {},
   "outputs": [
    {
     "data": {
      "text/html": [
       "<table class=\"dataframe\">\n",
       "<caption>A data.frame: 3 × 5</caption>\n",
       "<thead>\n",
       "\t<tr><th></th><th scope=col>Df</th><th scope=col>Sum Sq</th><th scope=col>Mean Sq</th><th scope=col>F value</th><th scope=col>Pr(&gt;F)</th></tr>\n",
       "\t<tr><th></th><th scope=col>&lt;dbl&gt;</th><th scope=col>&lt;dbl&gt;</th><th scope=col>&lt;dbl&gt;</th><th scope=col>&lt;dbl&gt;</th><th scope=col>&lt;dbl&gt;</th></tr>\n",
       "</thead>\n",
       "<tbody>\n",
       "\t<tr><th scope=row>회귀</th><td>3</td><td>2.0464661</td><td>0.68215537</td><td>23.05437</td><td>0.001078865</td></tr>\n",
       "\t<tr><th scope=row>잔차</th><td>6</td><td>0.1775339</td><td>0.02958898</td><td>      NA</td><td>         NA</td></tr>\n",
       "\t<tr><th scope=row>총</th><td>9</td><td>2.2240000</td><td>        NA</td><td>      NA</td><td>         NA</td></tr>\n",
       "</tbody>\n",
       "</table>\n"
      ],
      "text/latex": [
       "A data.frame: 3 × 5\n",
       "\\begin{tabular}{r|lllll}\n",
       "  & Df & Sum Sq & Mean Sq & F value & Pr(>F)\\\\\n",
       "  & <dbl> & <dbl> & <dbl> & <dbl> & <dbl>\\\\\n",
       "\\hline\n",
       "\t회귀 & 3 & 2.0464661 & 0.68215537 & 23.05437 & 0.001078865\\\\\n",
       "\t잔차 & 6 & 0.1775339 & 0.02958898 &       NA &          NA\\\\\n",
       "\t총 & 9 & 2.2240000 &         NA &       NA &          NA\\\\\n",
       "\\end{tabular}\n"
      ],
      "text/markdown": [
       "\n",
       "A data.frame: 3 × 5\n",
       "\n",
       "| <!--/--> | Df &lt;dbl&gt; | Sum Sq &lt;dbl&gt; | Mean Sq &lt;dbl&gt; | F value &lt;dbl&gt; | Pr(&gt;F) &lt;dbl&gt; |\n",
       "|---|---|---|---|---|---|\n",
       "| 회귀 | 3 | 2.0464661 | 0.68215537 | 23.05437 | 0.001078865 |\n",
       "| 잔차 | 6 | 0.1775339 | 0.02958898 |       NA |          NA |\n",
       "| 총 | 9 | 2.2240000 |         NA |       NA |          NA |\n",
       "\n"
      ],
      "text/plain": [
       "     Df Sum Sq    Mean Sq    F value  Pr(>F)     \n",
       "회귀 3  2.0464661 0.68215537 23.05437 0.001078865\n",
       "잔차 6  0.1775339 0.02958898       NA          NA\n",
       "총   9  2.2240000         NA       NA          NA"
      ]
     },
     "metadata": {},
     "output_type": "display_data"
    }
   ],
   "source": [
    "anov = rbind(SSR, anova(model)[4, 1:2], SST)\n",
    "rownames(anov) <- c(\"회귀\", \"잔차\", \"총\")\n",
    "anov = cbind(anov, (anov[2] / anov[1]))\n",
    "anov = cbind(anov, anov[1,3] / anov[2,3], pf(anov[1,3] / anov[2,3], 3, 6, lower.tail = FALSE))\n",
    "colnames(anov) <- c(\"Df\", \"Sum Sq\", \"Mean Sq\", \"F value\", \"Pr(>F)\")\n",
    "anov[3, 3:5] <- NA\n",
    "anov[2, 4:5] <- NA\n",
    "anov"
   ]
  },
  {
   "cell_type": "markdown",
   "id": "7e55b284-8b07-4690-934c-0331e90042af",
   "metadata": {},
   "source": [
    "`-` $R^2$ 값 계산"
   ]
  },
  {
   "cell_type": "code",
   "execution_count": 76,
   "id": "9fee8ca3-136b-417a-a5e0-2a94ec39aeb4",
   "metadata": {},
   "outputs": [
    {
     "data": {
      "text/html": [
       "0.920173606300312"
      ],
      "text/latex": [
       "0.920173606300312"
      ],
      "text/markdown": [
       "0.920173606300312"
      ],
      "text/plain": [
       "[1] 0.9201736"
      ]
     },
     "metadata": {},
     "output_type": "display_data"
    }
   ],
   "source": [
    "summary(model)$r.squared"
   ]
  },
  {
   "cell_type": "markdown",
   "id": "c2cec689-b8b7-4046-96c6-58d6f441bca1",
   "metadata": {},
   "source": [
    "**(4) 수정된 결정계수를 구하여라.**"
   ]
  },
  {
   "cell_type": "code",
   "execution_count": 77,
   "id": "a607611d-1741-475d-80d1-b468bc850de7",
   "metadata": {},
   "outputs": [
    {
     "data": {
      "text/html": [
       "0.880260409450469"
      ],
      "text/latex": [
       "0.880260409450469"
      ],
      "text/markdown": [
       "0.880260409450469"
      ],
      "text/plain": [
       "[1] 0.8802604"
      ]
     },
     "metadata": {},
     "output_type": "display_data"
    }
   ],
   "source": [
    "summary(model)$adj.r.squared"
   ]
  },
  {
   "cell_type": "markdown",
   "id": "b43aa4b8-fd99-4b3c-9a4f-b6037653cfba",
   "metadata": {},
   "source": [
    "**(5) $Var(\\hat{\\beta_3})$ 을 구하시오. $\\sigma^2$을 MSE로 추정하면 $\\widehat{Var}(\\hat{\\beta_3})$ 은 무엇인가?**"
   ]
  },
  {
   "cell_type": "code",
   "execution_count": 105,
   "id": "1e8b02fd-d570-458a-8b42-883bb22bca22",
   "metadata": {},
   "outputs": [
    {
     "data": {
      "text/html": [
       "<table class=\"dataframe\">\n",
       "<caption>A matrix: 4 × 4 of type dbl</caption>\n",
       "<thead>\n",
       "\t<tr><th></th><th scope=col></th><th scope=col>x1</th><th scope=col>x2</th><th scope=col>x3</th></tr>\n",
       "</thead>\n",
       "<tbody>\n",
       "\t<tr><th scope=row></th><td>42.8460778</td><td>-0.274517258</td><td>-1.666784957</td><td> 0.1044984818</td></tr>\n",
       "\t<tr><th scope=row>x1</th><td>-0.2745173</td><td> 0.005399764</td><td> 0.009802163</td><td>-0.0013851965</td></tr>\n",
       "\t<tr><th scope=row>x2</th><td>-1.6667850</td><td> 0.009802163</td><td> 0.067921641</td><td>-0.0050213139</td></tr>\n",
       "\t<tr><th scope=row>x3</th><td> 0.1044985</td><td>-0.001385196</td><td>-0.005021314</td><td> 0.0008624387</td></tr>\n",
       "</tbody>\n",
       "</table>\n"
      ],
      "text/latex": [
       "A matrix: 4 × 4 of type dbl\n",
       "\\begin{tabular}{r|llll}\n",
       "  &  & x1 & x2 & x3\\\\\n",
       "\\hline\n",
       "\t & 42.8460778 & -0.274517258 & -1.666784957 &  0.1044984818\\\\\n",
       "\tx1 & -0.2745173 &  0.005399764 &  0.009802163 & -0.0013851965\\\\\n",
       "\tx2 & -1.6667850 &  0.009802163 &  0.067921641 & -0.0050213139\\\\\n",
       "\tx3 &  0.1044985 & -0.001385196 & -0.005021314 &  0.0008624387\\\\\n",
       "\\end{tabular}\n"
      ],
      "text/markdown": [
       "\n",
       "A matrix: 4 × 4 of type dbl\n",
       "\n",
       "| <!--/--> | <!----> | x1 | x2 | x3 |\n",
       "|---|---|---|---|---|\n",
       "| <!----> | 42.8460778 | -0.274517258 | -1.666784957 |  0.1044984818 |\n",
       "| x1 | -0.2745173 |  0.005399764 |  0.009802163 | -0.0013851965 |\n",
       "| x2 | -1.6667850 |  0.009802163 |  0.067921641 | -0.0050213139 |\n",
       "| x3 |  0.1044985 | -0.001385196 | -0.005021314 |  0.0008624387 |\n",
       "\n"
      ],
      "text/plain": [
       "              x1           x2           x3           \n",
       "   42.8460778 -0.274517258 -1.666784957  0.1044984818\n",
       "x1 -0.2745173  0.005399764  0.009802163 -0.0013851965\n",
       "x2 -1.6667850  0.009802163  0.067921641 -0.0050213139\n",
       "x3  0.1044985 -0.001385196 -0.005021314  0.0008624387"
      ]
     },
     "metadata": {},
     "output_type": "display_data"
    }
   ],
   "source": [
    "X <- cbind(1, as.matrix(df[2:4]))\n",
    "MSE <- (summary(model)$sigma)^2\n",
    "solve_XX <- solve(t(X)%*%X)\n",
    "solve_XX"
   ]
  },
  {
   "cell_type": "markdown",
   "id": "653cbfd2-78dd-4c67-82bb-848dbb98f0fc",
   "metadata": {},
   "source": [
    "`-` $Var(\\hat{\\beta_3})$ 의 값"
   ]
  },
  {
   "cell_type": "code",
   "execution_count": 93,
   "id": "5c1ee9f1-8a7f-43dd-a9f2-e2aba874ecb5",
   "metadata": {},
   "outputs": [
    {
     "name": "stdout",
     "output_type": "stream",
     "text": [
      "[1] \"0.0008624387021274 × Var(y)\"\n"
     ]
    }
   ],
   "source": [
    "print(paste(solve_XX[4,4], \"× Var(y)\"))"
   ]
  },
  {
   "cell_type": "markdown",
   "id": "fd4b8557-15b3-42a9-8fe4-dfba0df4a852",
   "metadata": {},
   "source": [
    "`-` $\\widehat{Var}(\\hat{\\beta_3})$ 의 값"
   ]
  },
  {
   "cell_type": "code",
   "execution_count": 102,
   "id": "b0c0dfeb-218c-4003-b3a2-eea8a5bac131",
   "metadata": {},
   "outputs": [
    {
     "data": {
      "text/html": [
       "2.55186843240636e-05"
      ],
      "text/latex": [
       "2.55186843240636e-05"
      ],
      "text/markdown": [
       "2.55186843240636e-05"
      ],
      "text/plain": [
       "[1] 2.551868e-05"
      ]
     },
     "metadata": {},
     "output_type": "display_data"
    }
   ],
   "source": [
    "solve_XX[4,4]*MSE"
   ]
  },
  {
   "cell_type": "code",
   "execution_count": 104,
   "id": "9efc6c0b-7317-4246-9b6b-0f4de0c69afd",
   "metadata": {},
   "outputs": [
    {
     "data": {
      "text/html": [
       "2.55186843240635e-05"
      ],
      "text/latex": [
       "2.55186843240635e-05"
      ],
      "text/markdown": [
       "2.55186843240635e-05"
      ],
      "text/plain": [
       "[1] 2.551868e-05"
      ]
     },
     "metadata": {},
     "output_type": "display_data"
    }
   ],
   "source": [
    "summary(model)$coef[4,2]^2"
   ]
  },
  {
   "cell_type": "markdown",
   "id": "63a3d0df-9db9-4653-a41e-09f9121b2927",
   "metadata": {},
   "source": [
    "**(6) $x_1 = 20,~x_2 = 27,~x_3 = 60$에서 평균 물소비량을 추정하시오. 이 추정된 소비량의 표준편차의 추정값을 구하시오.**"
   ]
  },
  {
   "cell_type": "markdown",
   "id": "345f589c-23d2-44b9-a9b9-8c97c1e11b41",
   "metadata": {},
   "source": [
    "`-` 평균 물 소비량 추정 : $\\hat{\\mu_0} = \\widehat{E(Y | \\textbf{x})}$"
   ]
  },
  {
   "cell_type": "code",
   "execution_count": 124,
   "id": "8423f280-0733-4117-ad72-6b7b3d67e2c7",
   "metadata": {},
   "outputs": [
    {
     "data": {
      "text/html": [
       "<strong>1:</strong> 3.48814105556645"
      ],
      "text/latex": [
       "\\textbf{1:} 3.48814105556645"
      ],
      "text/markdown": [
       "**1:** 3.48814105556645"
      ],
      "text/plain": [
       "       1 \n",
       "3.488141 "
      ]
     },
     "metadata": {},
     "output_type": "display_data"
    }
   ],
   "source": [
    "predict(model, newdata = data.frame(x1 = 20, x2 = 27, x3 = 60))"
   ]
  },
  {
   "cell_type": "markdown",
   "id": "9151c344-9f89-4dbf-bed4-e1ebdabd90f7",
   "metadata": {},
   "source": [
    "`-` 추정된 평균 물 소비량의 표준편차 추정 : $\\widehat{Var(\\hat{\\mu_0})}$"
   ]
  },
  {
   "cell_type": "code",
   "execution_count": 122,
   "id": "a8596f88-8555-4df5-ad42-5ccdea4cee67",
   "metadata": {},
   "outputs": [],
   "source": [
    "x_0 <- c(1, 20, 27, 60)"
   ]
  },
  {
   "cell_type": "code",
   "execution_count": 121,
   "id": "5c70dc9b-b766-4b9e-aec1-210cd67c75a8",
   "metadata": {},
   "outputs": [
    {
     "data": {
      "text/html": [
       "0.00506520538195768"
      ],
      "text/latex": [
       "0.00506520538195768"
      ],
      "text/markdown": [
       "0.00506520538195768"
      ],
      "text/plain": [
       "[1] 0.005065205"
      ]
     },
     "metadata": {},
     "output_type": "display_data"
    }
   ],
   "source": [
    "as.numeric(t(x_0)%*%solve_XX%*%x_0*MSE)"
   ]
  },
  {
   "cell_type": "markdown",
   "id": "ebb82842-0dc8-48fa-9874-822d6537f2e5",
   "metadata": {},
   "source": [
    "**(7) $x_1 = 20,~x_2 = 27,~x_3 = 60$ 에서 어느 한 달의 물 소비량 $y_s$를 예측하여라. 이 예측된 물 소비량의 표준편차의 추정값을 구하시오.**"
   ]
  },
  {
   "cell_type": "markdown",
   "id": "c92797c5-2765-4a66-8a5d-dbfca0d17a0c",
   "metadata": {},
   "source": [
    "`-` 개별 물 소비량 추정 : $\\hat{y_s} = \\hat{\\mu_0}$"
   ]
  },
  {
   "cell_type": "code",
   "execution_count": 141,
   "id": "caf8fda0-fa70-4059-ad68-5820053cd07e",
   "metadata": {},
   "outputs": [
    {
     "data": {
      "text/html": [
       "<strong>1:</strong> 3.48814105556645"
      ],
      "text/latex": [
       "\\textbf{1:} 3.48814105556645"
      ],
      "text/markdown": [
       "**1:** 3.48814105556645"
      ],
      "text/plain": [
       "       1 \n",
       "3.488141 "
      ]
     },
     "metadata": {},
     "output_type": "display_data"
    }
   ],
   "source": [
    "predict(model, newdata = data.frame(x1 = 20, x2 = 27, x3 = 60))"
   ]
  },
  {
   "cell_type": "markdown",
   "id": "ba3dced9-db9b-4130-b4f9-70233e69c459",
   "metadata": {},
   "source": [
    "`-` 추정된 개별 물 소비량의 표준편차 추정 : $\\widehat{Var(\\hat{y_s}})$"
   ]
  },
  {
   "cell_type": "code",
   "execution_count": 125,
   "id": "4cb88f2c-0699-4b01-8a16-bc72b2497eab",
   "metadata": {},
   "outputs": [
    {
     "data": {
      "text/html": [
       "0.0346541886466419"
      ],
      "text/latex": [
       "0.0346541886466419"
      ],
      "text/markdown": [
       "0.0346541886466419"
      ],
      "text/plain": [
       "[1] 0.03465419"
      ]
     },
     "metadata": {},
     "output_type": "display_data"
    }
   ],
   "source": [
    "as.numeric((1 + t(x_0)%*%solve_XX%*%x_0)*MSE)"
   ]
  },
  {
   "cell_type": "markdown",
   "id": "c4c0ecd8-dd14-497d-bba4-81475e974f15",
   "metadata": {},
   "source": [
    "**(8) $\\beta_3$ 의 $95\\%$ 신뢰구간을 구하시오. 이 신뢰구간의 의미를 해석하시오.**"
   ]
  },
  {
   "cell_type": "code",
   "execution_count": 133,
   "id": "8ecdff32-0268-4b6e-b6c2-c9bb6914c3cc",
   "metadata": {},
   "outputs": [
    {
     "data": {
      "text/html": [
       "<table class=\"dataframe\">\n",
       "<caption>A matrix: 4 × 4 of type dbl</caption>\n",
       "<thead>\n",
       "\t<tr><th></th><th scope=col>Estimate</th><th scope=col>Std. Error</th><th scope=col>t value</th><th scope=col>Pr(&gt;|t|)</th></tr>\n",
       "</thead>\n",
       "<tbody>\n",
       "\t<tr><th scope=row>(Intercept)</th><td> 2.409213010</td><td>1.125953765</td><td> 2.1397087</td><td>0.076181015</td></tr>\n",
       "\t<tr><th scope=row>x1</th><td> 0.069788005</td><td>0.012640155</td><td> 5.5211353</td><td>0.001485354</td></tr>\n",
       "\t<tr><th scope=row>x2</th><td>-0.024766597</td><td>0.044830038</td><td>-0.5524554</td><td>0.600595338</td></tr>\n",
       "\t<tr><th scope=row>x3</th><td> 0.005864434</td><td>0.005051602</td><td> 1.1609058</td><td>0.289775583</td></tr>\n",
       "</tbody>\n",
       "</table>\n"
      ],
      "text/latex": [
       "A matrix: 4 × 4 of type dbl\n",
       "\\begin{tabular}{r|llll}\n",
       "  & Estimate & Std. Error & t value & Pr(>\\textbar{}t\\textbar{})\\\\\n",
       "\\hline\n",
       "\t(Intercept) &  2.409213010 & 1.125953765 &  2.1397087 & 0.076181015\\\\\n",
       "\tx1 &  0.069788005 & 0.012640155 &  5.5211353 & 0.001485354\\\\\n",
       "\tx2 & -0.024766597 & 0.044830038 & -0.5524554 & 0.600595338\\\\\n",
       "\tx3 &  0.005864434 & 0.005051602 &  1.1609058 & 0.289775583\\\\\n",
       "\\end{tabular}\n"
      ],
      "text/markdown": [
       "\n",
       "A matrix: 4 × 4 of type dbl\n",
       "\n",
       "| <!--/--> | Estimate | Std. Error | t value | Pr(&gt;|t|) |\n",
       "|---|---|---|---|---|\n",
       "| (Intercept) |  2.409213010 | 1.125953765 |  2.1397087 | 0.076181015 |\n",
       "| x1 |  0.069788005 | 0.012640155 |  5.5211353 | 0.001485354 |\n",
       "| x2 | -0.024766597 | 0.044830038 | -0.5524554 | 0.600595338 |\n",
       "| x3 |  0.005864434 | 0.005051602 |  1.1609058 | 0.289775583 |\n",
       "\n"
      ],
      "text/plain": [
       "            Estimate     Std. Error  t value    Pr(>|t|)   \n",
       "(Intercept)  2.409213010 1.125953765  2.1397087 0.076181015\n",
       "x1           0.069788005 0.012640155  5.5211353 0.001485354\n",
       "x2          -0.024766597 0.044830038 -0.5524554 0.600595338\n",
       "x3           0.005864434 0.005051602  1.1609058 0.289775583"
      ]
     },
     "metadata": {},
     "output_type": "display_data"
    }
   ],
   "source": [
    "summary(model)$coef"
   ]
  },
  {
   "cell_type": "code",
   "execution_count": 140,
   "id": "64e87aa1-4fa0-42a6-9460-bb0832c3e6af",
   "metadata": {},
   "outputs": [
    {
     "name": "stdout",
     "output_type": "stream",
     "text": [
      "[1] \"회귀계수에 대한 95% CI : (-0.00649639079638348, 0.0182252595602561)\"\n"
     ]
    }
   ],
   "source": [
    "sigma_3 <- summary(model)$coef[4,2]\n",
    "lwb <- model$coef[4] - qt(0.975, 10-4)*sigma_3\n",
    "upb <- model$coef[4] + qt(0.975, 10-4)*sigma_3\n",
    "\n",
    "print(paste(\"회귀계수에 대한 95% CI : (\", lwb, \", \", upb, \")\", sep = \"\"))"
   ]
  },
  {
   "cell_type": "markdown",
   "id": "d4f8e70a-705a-4e87-8649-2a54bc87c858",
   "metadata": {},
   "source": [
    "> 해당 신뢰구간이 $\\beta_3$ 를 포함할 확률이 95%라는 의미이다. 개별 회귀계수의 검정에서 귀무가설이 $H_0 : \\beta_3 = 0$ 인데, 0이 이 구간에 포함되어 있다. 따라서 해당 신뢰구간은 회귀계수가 유의하지 않다는 것을 뒷받침한다."
   ]
  },
  {
   "cell_type": "markdown",
   "id": "f3d13dda-56ca-4ec8-a08d-34f398acfbc1",
   "metadata": {},
   "source": [
    "**(9) $\\beta_1$ 의 $99\\%$ 신뢰구간을 구하시오. 이 신뢰구간의 의미를 해석하시오.**"
   ]
  },
  {
   "cell_type": "code",
   "execution_count": 142,
   "id": "416f33b4-20fd-4329-b805-b4b099b1b1be",
   "metadata": {},
   "outputs": [
    {
     "name": "stdout",
     "output_type": "stream",
     "text": [
      "[1] \"회귀계수에 대한 95% CI : (0.057427180184659, 0.0821488305412985)\"\n"
     ]
    }
   ],
   "source": [
    "sigma_1 <- summary(model)$coef[2,2]\n",
    "lwb <- model$coef[2] - qt(0.975, 10-4)*sigma_3\n",
    "upb <- model$coef[2] + qt(0.975, 10-4)*sigma_3\n",
    "\n",
    "print(paste(\"회귀계수에 대한 95% CI : (\", lwb, \", \", upb, \")\", sep = \"\"))"
   ]
  },
  {
   "cell_type": "markdown",
   "id": "692726f3-77ac-4af8-b91c-f032ef368030",
   "metadata": {},
   "source": [
    "> 해당 신뢰구간이 $\\beta_1$ 를 포함할 확률이 99%라는 의미이다. 개별 회귀계수의 검정에서 귀무가설이 $H_0 : \\beta_1 = 0$ 인데, 0이 이 구간에 포함되어 있지 않으므로, 해당 신뢰구간은 회귀계수가 유의하다는 것을 뒷받침한다."
   ]
  },
  {
   "cell_type": "markdown",
   "id": "d9f48c1b-917e-4609-a1cd-24429bf5580b",
   "metadata": {},
   "source": [
    "**(10) $x_1 = 20,~x_2 = 27,~x_3 = 60$ 에서 평균 물 소비량, $E(y)$ 의 $95\\%$ 신뢰구간을 구하시오.**"
   ]
  },
  {
   "cell_type": "code",
   "execution_count": 156,
   "id": "0f400238-3e5e-4166-8d9b-9bb0e6293321",
   "metadata": {},
   "outputs": [
    {
     "name": "stdout",
     "output_type": "stream",
     "text": [
      "[1] \"평균 물 소비량의 95% CI : (3.31399371197438, 3.66228839915852)\"\n"
     ]
    }
   ],
   "source": [
    "CI <- predict(model, newdata = data.frame(x1 = 20, x2 = 27, x3 = 60), interval = \"confidence\", level = 0.95)\n",
    "print(paste(\"평균 물 소비량의 95% CI : (\", CI[2], \", \", CI[3], \")\", sep = \"\"))"
   ]
  },
  {
   "cell_type": "markdown",
   "id": "ab516a11-40af-49f6-90f0-acda057b5e9e",
   "metadata": {},
   "source": [
    "**(11) 가설 $H_0 : \\beta_1 = 0,~ vs. ~ H_1 : \\beta_1 > 0$ 을 $\\alpha = 0.05$ 로 검정하시오.**"
   ]
  },
  {
   "cell_type": "markdown",
   "id": "72ca7916-6e72-4d15-a3bf-b7df36457661",
   "metadata": {},
   "source": [
    "ⅰ) 검정통계량 $T = \\frac{\\hat{\\beta_1}-0}{\\sigma_{\\hat{\\beta_1}}} \\sim N(\\beta_1, \\sigma_{\\hat{\\beta_1}}^2)$\n",
    "\n",
    "ⅱ) 검정통계량의 관측값"
   ]
  },
  {
   "cell_type": "code",
   "execution_count": 164,
   "id": "51fd7d9f-47da-43a5-9d34-9ad39d7af48c",
   "metadata": {},
   "outputs": [
    {
     "data": {
      "text/html": [
       "<strong>x1:</strong> 5.52113532665404"
      ],
      "text/latex": [
       "\\textbf{x1:} 5.52113532665404"
      ],
      "text/markdown": [
       "**x1:** 5.52113532665404"
      ],
      "text/plain": [
       "      x1 \n",
       "5.521135 "
      ]
     },
     "metadata": {},
     "output_type": "display_data"
    }
   ],
   "source": [
    "t_value = model$coef[2] / summary(model)$coef[2,2]\n",
    "t_value"
   ]
  },
  {
   "cell_type": "markdown",
   "id": "df783074-99a7-4e6a-a070-257acb21ad00",
   "metadata": {},
   "source": [
    "ⅲ) p-value"
   ]
  },
  {
   "cell_type": "code",
   "execution_count": 172,
   "id": "da18ef64-18bc-42c9-8174-c2a4858fee60",
   "metadata": {},
   "outputs": [
    {
     "data": {
      "text/html": [
       "<strong>x1:</strong> 0.000742677170321033"
      ],
      "text/latex": [
       "\\textbf{x1:} 0.000742677170321033"
      ],
      "text/markdown": [
       "**x1:** 0.000742677170321033"
      ],
      "text/plain": [
       "          x1 \n",
       "0.0007426772 "
      ]
     },
     "metadata": {},
     "output_type": "display_data"
    }
   ],
   "source": [
    "p_value = pt(t_value, 10-4, lower.tail = FALSE)\n",
    "p_value"
   ]
  },
  {
   "cell_type": "code",
   "execution_count": 171,
   "id": "a2918f78-6d01-4307-aea2-1120f4ecfdbd",
   "metadata": {},
   "outputs": [
    {
     "data": {
      "text/html": [
       "0.000742677170321033"
      ],
      "text/latex": [
       "0.000742677170321033"
      ],
      "text/markdown": [
       "0.000742677170321033"
      ],
      "text/plain": [
       "[1] 0.0007426772"
      ]
     },
     "metadata": {},
     "output_type": "display_data"
    }
   ],
   "source": [
    "summary(model)$coef[2,4]/2"
   ]
  },
  {
   "cell_type": "code",
   "execution_count": 173,
   "id": "2270e9a1-b9d8-43f1-aea0-3dfe8703bc14",
   "metadata": {},
   "outputs": [
    {
     "data": {
      "text/html": [
       "<strong>x1:</strong> TRUE"
      ],
      "text/latex": [
       "\\textbf{x1:} TRUE"
      ],
      "text/markdown": [
       "**x1:** TRUE"
      ],
      "text/plain": [
       "  x1 \n",
       "TRUE "
      ]
     },
     "metadata": {},
     "output_type": "display_data"
    }
   ],
   "source": [
    "p_value < 0.05"
   ]
  },
  {
   "cell_type": "markdown",
   "id": "d95f7430-f8d5-443d-8d28-dfe1c85f1166",
   "metadata": {},
   "source": [
    "> p-value가 유의수준 $\\alpha = 0.05$ 보다 작으므로, 귀무가설을 기각하고 대립가설을 수용한다. 즉, $\\beta_1$ 은 0보다 크다."
   ]
  },
  {
   "cell_type": "markdown",
   "id": "fe9cf77f-6b4a-4306-8bb0-2e902312e372",
   "metadata": {},
   "source": [
    "**(12) 가설 $H_0 : \\beta_1 = \\beta_2 = \\beta_3$ 을 $\\alpha = 0.05$ 로 검정하시오.**"
   ]
  },
  {
   "cell_type": "code",
   "execution_count": null,
   "id": "9ce7f5d3-e5e1-463c-88b2-18922b4ef724",
   "metadata": {},
   "outputs": [],
   "source": []
  }
 ],
 "metadata": {
  "kernelspec": {
   "display_name": "R",
   "language": "R",
   "name": "ir"
  },
  "language_info": {
   "codemirror_mode": "r",
   "file_extension": ".r",
   "mimetype": "text/x-r-source",
   "name": "R",
   "pygments_lexer": "r",
   "version": "4.3.3"
  }
 },
 "nbformat": 4,
 "nbformat_minor": 5
}
