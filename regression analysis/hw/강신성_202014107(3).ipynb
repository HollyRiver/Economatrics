{
 "cells": [
  {
   "cell_type": "markdown",
   "id": "1fd13e3a-d550-4041-baf4-9ea4df15c4db",
   "metadata": {},
   "source": [
    "5. **R 실습**. 메이저 리그 야구선수 연봉 문제.\n",
    "\n",
    "    Hitters 데이터는 다음과 같이 ISLR 패키지를 설치한 후 얻을 수 있다. 그런데 이 데이터에는 결측치가 존재하기 때문에 `na.omit()`함수를 사용하여 결측치를 제외하기로 한다. 실제 분석에 사용할 데이터는 263명의 야구선수에 대한 20가지의 기록으로 구성되어 있다."
   ]
  },
  {
   "cell_type": "code",
   "execution_count": 2,
   "id": "a1579c0a-8636-43af-bfdc-58f35205bee7",
   "metadata": {},
   "outputs": [
    {
     "name": "stderr",
     "output_type": "stream",
     "text": [
      "Updating HTML index of packages in '.Library'\n",
      "\n",
      "Making 'packages.html' ...\n",
      " done\n",
      "\n"
     ]
    },
    {
     "data": {
      "text/html": [
       "<style>\n",
       ".list-inline {list-style: none; margin:0; padding: 0}\n",
       ".list-inline>li {display: inline-block}\n",
       ".list-inline>li:not(:last-child)::after {content: \"\\00b7\"; padding: 0 .5ex}\n",
       "</style>\n",
       "<ol class=list-inline><li>263</li><li>20</li></ol>\n"
      ],
      "text/latex": [
       "\\begin{enumerate*}\n",
       "\\item 263\n",
       "\\item 20\n",
       "\\end{enumerate*}\n"
      ],
      "text/markdown": [
       "1. 263\n",
       "2. 20\n",
       "\n",
       "\n"
      ],
      "text/plain": [
       "[1] 263  20"
      ]
     },
     "metadata": {},
     "output_type": "display_data"
    }
   ],
   "source": [
    "install.packages('ISLR')\n",
    "library(ISLR)\n",
    "Hitters <- na.omit(Hitters)\n",
    "dim(Hitters)"
   ]
  },
  {
   "cell_type": "markdown",
   "id": "7d9a569f-8a5e-483a-b6ab-21f21ff4a215",
   "metadata": {},
   "source": [
    "    다음 질문에 답하여라"
   ]
  },
  {
   "cell_type": "markdown",
   "id": "e9d3542b-d0cc-4d7c-a9e5-38cf345434b8",
   "metadata": {},
   "source": [
    "(1) 반응변수 `Salary`에 대하여 설명변수 `AtBat`, `Hits`, `HmRun`을 사용하여 중회귀 모형을 적합하고 분산분석표를 작성한 후 모형의 유의성을 유의수준 $\\alpha = 0.01$에서 검정하여라. 변수의 자세한 내용은 다음과 같다.\n",
    "\n",
    "* `Salary` : 1987년 계약 연봉(단위 : 1,000달러)\n",
    "* `AtBat` : 1987년 타수\n",
    "* `Hits` : 1987년 안타 수\n",
    "* `HmRun` : 1987년 홈런 개수"
   ]
  },
  {
   "cell_type": "markdown",
   "id": "e868f837-d208-45c4-9172-dc9a421ed908",
   "metadata": {},
   "source": [
    "`-` `model`에 중회귀 모형을 적합"
   ]
  },
  {
   "cell_type": "code",
   "execution_count": 6,
   "id": "60383294-5660-4dfe-966b-648038140ffd",
   "metadata": {},
   "outputs": [
    {
     "data": {
      "text/plain": [
       "\n",
       "Call:\n",
       "lm(formula = Salary ~ AtBat + Hits + HmRun, data = Hitters)\n",
       "\n",
       "Residuals:\n",
       "    Min      1Q  Median      3Q     Max \n",
       "-884.75 -214.97  -58.05  175.88 1991.53 \n",
       "\n",
       "Coefficients:\n",
       "            Estimate Std. Error t value Pr(>|t|)    \n",
       "(Intercept)  158.754     75.815   2.094  0.03724 *  \n",
       "AtBat         -1.564      0.641  -2.440  0.01536 *  \n",
       "Hits           8.329      2.053   4.056 6.61e-05 ***\n",
       "HmRun          9.502      3.384   2.808  0.00536 ** \n",
       "---\n",
       "Signif. codes:  0 ‘***’ 0.001 ‘**’ 0.01 ‘*’ 0.05 ‘.’ 0.1 ‘ ’ 1\n",
       "\n",
       "Residual standard error: 398.9 on 259 degrees of freedom\n",
       "Multiple R-squared:  0.2271,\tAdjusted R-squared:  0.2182 \n",
       "F-statistic: 25.37 on 3 and 259 DF,  p-value: 2.013e-14\n"
      ]
     },
     "metadata": {},
     "output_type": "display_data"
    }
   ],
   "source": [
    "model <- lm(Salary ~ AtBat + Hits + HmRun, data = Hitters)\n",
    "summary(model)"
   ]
  },
  {
   "cell_type": "code",
   "execution_count": null,
   "id": "1d937f2e-6017-4c0d-a069-e20445aa369b",
   "metadata": {},
   "outputs": [],
   "source": []
  }
 ],
 "metadata": {
  "kernelspec": {
   "display_name": "R",
   "language": "R",
   "name": "ir"
  },
  "language_info": {
   "codemirror_mode": "r",
   "file_extension": ".r",
   "mimetype": "text/x-r-source",
   "name": "R",
   "pygments_lexer": "r",
   "version": "4.3.2"
  }
 },
 "nbformat": 4,
 "nbformat_minor": 5
}
