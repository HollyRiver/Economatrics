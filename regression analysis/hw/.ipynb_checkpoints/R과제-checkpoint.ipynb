{
 "cells": [
  {
   "cell_type": "markdown",
   "id": "90b1d4ec-0d82-4d23-92eb-800942578360",
   "metadata": {},
   "source": [
    "> 과제를 하자!"
   ]
  },
  {
   "cell_type": "code",
   "execution_count": 5,
   "id": "f65bdcfe-d885-40fa-9eb5-a775c744d2d0",
   "metadata": {},
   "outputs": [],
   "source": [
    "df <- data.frame(\n",
    "    x1 = c(195, 179, 205, 204, 201, 184, 210, 209),\n",
    "    x2 = c(57, 61, 60, 62, 61, 54, 58, 61),\n",
    "    y = c(81.4, 122.2, 101.7, 175.6, 150.3, 64.8, 92.1, 113.8)\n",
    ")"
   ]
  },
  {
   "cell_type": "code",
   "execution_count": 9,
   "id": "4886b196-5216-4bf5-ba55-5025e02f2b8a",
   "metadata": {},
   "outputs": [],
   "source": [
    "x1 <- df$x1\n",
    "x2 <- df$x2\n",
    "y <- df$y"
   ]
  },
  {
   "cell_type": "code",
   "execution_count": 11,
   "id": "3d2cb1d7-fa66-4a7a-9e49-099bc67abebf",
   "metadata": {},
   "outputs": [
    {
     "data": {
      "text/html": [
       "<table class=\"dataframe\">\n",
       "<caption>A matrix: 8 × 3 of type dbl</caption>\n",
       "<thead>\n",
       "\t<tr><th scope=col></th><th scope=col>x1</th><th scope=col>x2</th></tr>\n",
       "</thead>\n",
       "<tbody>\n",
       "\t<tr><td>1</td><td>195</td><td>57</td></tr>\n",
       "\t<tr><td>1</td><td>179</td><td>61</td></tr>\n",
       "\t<tr><td>1</td><td>205</td><td>60</td></tr>\n",
       "\t<tr><td>1</td><td>204</td><td>62</td></tr>\n",
       "\t<tr><td>1</td><td>201</td><td>61</td></tr>\n",
       "\t<tr><td>1</td><td>184</td><td>54</td></tr>\n",
       "\t<tr><td>1</td><td>210</td><td>58</td></tr>\n",
       "\t<tr><td>1</td><td>209</td><td>61</td></tr>\n",
       "</tbody>\n",
       "</table>\n"
      ],
      "text/latex": [
       "A matrix: 8 × 3 of type dbl\n",
       "\\begin{tabular}{lll}\n",
       "  & x1 & x2\\\\\n",
       "\\hline\n",
       "\t 1 & 195 & 57\\\\\n",
       "\t 1 & 179 & 61\\\\\n",
       "\t 1 & 205 & 60\\\\\n",
       "\t 1 & 204 & 62\\\\\n",
       "\t 1 & 201 & 61\\\\\n",
       "\t 1 & 184 & 54\\\\\n",
       "\t 1 & 210 & 58\\\\\n",
       "\t 1 & 209 & 61\\\\\n",
       "\\end{tabular}\n"
      ],
      "text/markdown": [
       "\n",
       "A matrix: 8 × 3 of type dbl\n",
       "\n",
       "| <!----> | x1 | x2 |\n",
       "|---|---|---|\n",
       "| 1 | 195 | 57 |\n",
       "| 1 | 179 | 61 |\n",
       "| 1 | 205 | 60 |\n",
       "| 1 | 204 | 62 |\n",
       "| 1 | 201 | 61 |\n",
       "| 1 | 184 | 54 |\n",
       "| 1 | 210 | 58 |\n",
       "| 1 | 209 | 61 |\n",
       "\n"
      ],
      "text/plain": [
       "       x1  x2\n",
       "[1,] 1 195 57\n",
       "[2,] 1 179 61\n",
       "[3,] 1 205 60\n",
       "[4,] 1 204 62\n",
       "[5,] 1 201 61\n",
       "[6,] 1 184 54\n",
       "[7,] 1 210 58\n",
       "[8,] 1 209 61"
      ]
     },
     "metadata": {},
     "output_type": "display_data"
    }
   ],
   "source": [
    "X <- cbind(1, x1, x2)\n",
    "X"
   ]
  },
  {
   "cell_type": "code",
   "execution_count": 22,
   "id": "70d5bedb-03da-4af9-a9d0-ea9fcc4ff396",
   "metadata": {},
   "outputs": [],
   "source": [
    "XX <- t(X)%*%X"
   ]
  },
  {
   "cell_type": "code",
   "execution_count": 23,
   "id": "c6845cf1-36ce-4133-9e7d-e6a746636c9c",
   "metadata": {},
   "outputs": [],
   "source": [
    "Xy <- t(X)%*%y"
   ]
  },
  {
   "cell_type": "code",
   "execution_count": 24,
   "id": "97277eca-19d3-4531-933c-ff902f1058ff",
   "metadata": {},
   "outputs": [],
   "source": [
    "yy <- t(y)%*%y"
   ]
  },
  {
   "cell_type": "code",
   "execution_count": 25,
   "id": "f15665a9-e887-4a4a-8617-5125ef53f5cb",
   "metadata": {},
   "outputs": [],
   "source": [
    "XX_reverse <- solve(t(X)%*%X)"
   ]
  },
  {
   "cell_type": "code",
   "execution_count": 29,
   "id": "b2cdd821-5964-4157-8790-ce8d2fe4279d",
   "metadata": {},
   "outputs": [],
   "source": [
    "betas <- XX_reverse%*%t(X)%*%y"
   ]
  },
  {
   "cell_type": "code",
   "execution_count": 28,
   "id": "43d6ad7f-a954-4d7b-a42d-6fb83672582b",
   "metadata": {},
   "outputs": [
    {
     "data": {
      "text/html": [
       "<table class=\"dataframe\">\n",
       "<caption>A matrix: 3 × 3 of type dbl</caption>\n",
       "<thead>\n",
       "\t<tr><th></th><th scope=col></th><th scope=col>x1</th><th scope=col>x2</th></tr>\n",
       "</thead>\n",
       "<tbody>\n",
       "\t<tr><th scope=row></th><td>248.6249683</td><td>-0.403796751</td><td>-2.837920471</td></tr>\n",
       "\t<tr><th scope=row>x1</th><td> -0.4037968</td><td> 0.003726798</td><td>-0.005662562</td></tr>\n",
       "\t<tr><th scope=row>x2</th><td> -2.8379205</td><td>-0.005662562</td><td> 0.066856223</td></tr>\n",
       "</tbody>\n",
       "</table>\n"
      ],
      "text/latex": [
       "A matrix: 3 × 3 of type dbl\n",
       "\\begin{tabular}{r|lll}\n",
       "  &  & x1 & x2\\\\\n",
       "\\hline\n",
       "\t & 248.6249683 & -0.403796751 & -2.837920471\\\\\n",
       "\tx1 &  -0.4037968 &  0.003726798 & -0.005662562\\\\\n",
       "\tx2 &  -2.8379205 & -0.005662562 &  0.066856223\\\\\n",
       "\\end{tabular}\n"
      ],
      "text/markdown": [
       "\n",
       "A matrix: 3 × 3 of type dbl\n",
       "\n",
       "| <!--/--> | <!----> | x1 | x2 |\n",
       "|---|---|---|---|\n",
       "| <!----> | 248.6249683 | -0.403796751 | -2.837920471 |\n",
       "| x1 |  -0.4037968 |  0.003726798 | -0.005662562 |\n",
       "| x2 |  -2.8379205 | -0.005662562 |  0.066856223 |\n",
       "\n"
      ],
      "text/plain": [
       "               x1           x2          \n",
       "   248.6249683 -0.403796751 -2.837920471\n",
       "x1  -0.4037968  0.003726798 -0.005662562\n",
       "x2  -2.8379205 -0.005662562  0.066856223"
      ]
     },
     "metadata": {},
     "output_type": "display_data"
    }
   ],
   "source": [
    "XX_reverse*3"
   ]
  },
  {
   "cell_type": "code",
   "execution_count": 30,
   "id": "5765c758-d563-45d4-8b8e-3b7465822e01",
   "metadata": {},
   "outputs": [
    {
     "data": {
      "text/html": [
       "<table class=\"dataframe\">\n",
       "<caption>A matrix: 3 × 1 of type dbl</caption>\n",
       "<tbody>\n",
       "\t<tr><th scope=row></th><td>-554.3112232</td></tr>\n",
       "\t<tr><th scope=row>x1</th><td>  -0.1797396</td></tr>\n",
       "\t<tr><th scope=row>x2</th><td>  11.8599927</td></tr>\n",
       "</tbody>\n",
       "</table>\n"
      ],
      "text/latex": [
       "A matrix: 3 × 1 of type dbl\n",
       "\\begin{tabular}{r|l}\n",
       "\t & -554.3112232\\\\\n",
       "\tx1 &   -0.1797396\\\\\n",
       "\tx2 &   11.8599927\\\\\n",
       "\\end{tabular}\n"
      ],
      "text/markdown": [
       "\n",
       "A matrix: 3 × 1 of type dbl\n",
       "\n",
       "| <!----> | -554.3112232 |\n",
       "| x1 |   -0.1797396 |\n",
       "| x2 |   11.8599927 |\n",
       "\n"
      ],
      "text/plain": [
       "   [,1]        \n",
       "   -554.3112232\n",
       "x1   -0.1797396\n",
       "x2   11.8599927"
      ]
     },
     "metadata": {},
     "output_type": "display_data"
    }
   ],
   "source": [
    "betas"
   ]
  },
  {
   "cell_type": "code",
   "execution_count": 31,
   "id": "fa02c9a2-c14b-4322-bcfb-44094dd7366f",
   "metadata": {},
   "outputs": [
    {
     "data": {
      "text/html": [
       "109.429"
      ],
      "text/latex": [
       "109.429"
      ],
      "text/markdown": [
       "109.429"
      ],
      "text/plain": [
       "[1] 109.429"
      ]
     },
     "metadata": {},
     "output_type": "display_data"
    }
   ],
   "source": [
    "-554.311 - 0.18*200 + 11.86*59"
   ]
  },
  {
   "cell_type": "code",
   "execution_count": 36,
   "id": "b7a64438-f068-4ee5-a70e-38e16591b2ab",
   "metadata": {},
   "outputs": [
    {
     "data": {
      "text/html": [
       "9281.07875"
      ],
      "text/latex": [
       "9281.07875"
      ],
      "text/markdown": [
       "9281.07875"
      ],
      "text/plain": [
       "[1] 9281.079"
      ]
     },
     "metadata": {},
     "output_type": "display_data"
    }
   ],
   "source": [
    "sum((y - mean(y))**2)"
   ]
  },
  {
   "cell_type": "code",
   "execution_count": 39,
   "id": "6c842f90-03ea-46e4-8ad4-81dd75cf2542",
   "metadata": {},
   "outputs": [
    {
     "data": {
      "text/html": [
       "<table class=\"dataframe\">\n",
       "<caption>A matrix: 1 × 1 of type dbl</caption>\n",
       "<tbody>\n",
       "\t<tr><td>2340.884</td></tr>\n",
       "</tbody>\n",
       "</table>\n"
      ],
      "text/latex": [
       "A matrix: 1 × 1 of type dbl\n",
       "\\begin{tabular}{l}\n",
       "\t 2340.884\\\\\n",
       "\\end{tabular}\n"
      ],
      "text/markdown": [
       "\n",
       "A matrix: 1 × 1 of type dbl\n",
       "\n",
       "| 2340.884 |\n",
       "\n"
      ],
      "text/plain": [
       "     [,1]    \n",
       "[1,] 2340.884"
      ]
     },
     "metadata": {},
     "output_type": "display_data"
    }
   ],
   "source": [
    "t(y - X%*%betas)%*%(y - X%*%betas)"
   ]
  },
  {
   "cell_type": "code",
   "execution_count": 67,
   "id": "d511164f-a684-4dad-b91e-2f7f642cac6f",
   "metadata": {},
   "outputs": [
    {
     "data": {
      "text/html": [
       "<style>\n",
       ".list-inline {list-style: none; margin:0; padding: 0}\n",
       ".list-inline>li {display: inline-block}\n",
       ".list-inline>li:not(:last-child)::after {content: \"\\00b7\"; padding: 0 .5ex}\n",
       "</style>\n",
       "<ol class=list-inline><li>'adj.r.squared'</li><li>'aliased'</li><li>'call'</li><li>'coefficients'</li><li>'cov.unscaled'</li><li>'df'</li><li>'fstatistic'</li><li>'r.squared'</li><li>'residuals'</li><li>'sigma'</li><li>'terms'</li></ol>\n"
      ],
      "text/latex": [
       "\\begin{enumerate*}\n",
       "\\item 'adj.r.squared'\n",
       "\\item 'aliased'\n",
       "\\item 'call'\n",
       "\\item 'coefficients'\n",
       "\\item 'cov.unscaled'\n",
       "\\item 'df'\n",
       "\\item 'fstatistic'\n",
       "\\item 'r.squared'\n",
       "\\item 'residuals'\n",
       "\\item 'sigma'\n",
       "\\item 'terms'\n",
       "\\end{enumerate*}\n"
      ],
      "text/markdown": [
       "1. 'adj.r.squared'\n",
       "2. 'aliased'\n",
       "3. 'call'\n",
       "4. 'coefficients'\n",
       "5. 'cov.unscaled'\n",
       "6. 'df'\n",
       "7. 'fstatistic'\n",
       "8. 'r.squared'\n",
       "9. 'residuals'\n",
       "10. 'sigma'\n",
       "11. 'terms'\n",
       "\n",
       "\n"
      ],
      "text/plain": [
       " [1] \"adj.r.squared\" \"aliased\"       \"call\"          \"coefficients\" \n",
       " [5] \"cov.unscaled\"  \"df\"            \"fstatistic\"    \"r.squared\"    \n",
       " [9] \"residuals\"     \"sigma\"         \"terms\"        "
      ]
     },
     "metadata": {},
     "output_type": "display_data"
    }
   ],
   "source": [
    "ls(summary(lm(y~x1+x2, data = df)))"
   ]
  },
  {
   "cell_type": "code",
   "execution_count": 65,
   "id": "b2e83b36-2ead-4391-9cd0-d77507292219",
   "metadata": {},
   "outputs": [
    {
     "data": {
      "text/html": [
       "6940.19475"
      ],
      "text/latex": [
       "6940.19475"
      ],
      "text/markdown": [
       "6940.19475"
      ],
      "text/plain": [
       "[1] 6940.195"
      ]
     },
     "metadata": {},
     "output_type": "display_data"
    }
   ],
   "source": [
    "9281.07875 - 2340.884"
   ]
  },
  {
   "cell_type": "code",
   "execution_count": 78,
   "id": "a0172197-b28b-4e06-ab8e-9a26fbace0e1",
   "metadata": {},
   "outputs": [
    {
     "data": {
      "text/html": [
       "468.1768"
      ],
      "text/latex": [
       "468.1768"
      ],
      "text/markdown": [
       "468.1768"
      ],
      "text/plain": [
       "[1] 468.1768"
      ]
     },
     "metadata": {},
     "output_type": "display_data"
    }
   ],
   "source": [
    "2340.884/5"
   ]
  },
  {
   "cell_type": "code",
   "execution_count": 77,
   "id": "6c10dd28-6ae0-4f57-8752-d4e5955ed73b",
   "metadata": {},
   "outputs": [
    {
     "data": {
      "text/html": [
       "0.646890443635122"
      ],
      "text/latex": [
       "0.646890443635122"
      ],
      "text/markdown": [
       "0.646890443635122"
      ],
      "text/plain": [
       "[1] 0.6468904"
      ]
     },
     "metadata": {},
     "output_type": "display_data"
    }
   ],
   "source": [
    "1 - 2340.884/9281.07875*7/5"
   ]
  },
  {
   "cell_type": "code",
   "execution_count": 69,
   "id": "78cc4e27-d112-47aa-af21-4c5c19e8c4f0",
   "metadata": {},
   "outputs": [],
   "source": [
    "model <- lm(y~x1+x2, data = df)\n",
    "tot <- lm(y~1, data = df)"
   ]
  },
  {
   "cell_type": "code",
   "execution_count": 70,
   "id": "98464625-57c2-4dc8-b1f3-f8d84fd5b9e4",
   "metadata": {},
   "outputs": [
    {
     "data": {
      "text/html": [
       "<table class=\"dataframe\">\n",
       "<caption>A anova: 2 × 6</caption>\n",
       "<thead>\n",
       "\t<tr><th></th><th scope=col>Res.Df</th><th scope=col>RSS</th><th scope=col>Df</th><th scope=col>Sum of Sq</th><th scope=col>F</th><th scope=col>Pr(&gt;F)</th></tr>\n",
       "\t<tr><th></th><th scope=col>&lt;dbl&gt;</th><th scope=col>&lt;dbl&gt;</th><th scope=col>&lt;dbl&gt;</th><th scope=col>&lt;dbl&gt;</th><th scope=col>&lt;dbl&gt;</th><th scope=col>&lt;dbl&gt;</th></tr>\n",
       "</thead>\n",
       "<tbody>\n",
       "\t<tr><th scope=row>1</th><td>7</td><td>9281.079</td><td>NA</td><td>      NA</td><td>      NA</td><td>        NA</td></tr>\n",
       "\t<tr><th scope=row>2</th><td>5</td><td>2340.884</td><td> 2</td><td>6940.195</td><td>7.411938</td><td>0.03194873</td></tr>\n",
       "</tbody>\n",
       "</table>\n"
      ],
      "text/latex": [
       "A anova: 2 × 6\n",
       "\\begin{tabular}{r|llllll}\n",
       "  & Res.Df & RSS & Df & Sum of Sq & F & Pr(>F)\\\\\n",
       "  & <dbl> & <dbl> & <dbl> & <dbl> & <dbl> & <dbl>\\\\\n",
       "\\hline\n",
       "\t1 & 7 & 9281.079 & NA &       NA &       NA &         NA\\\\\n",
       "\t2 & 5 & 2340.884 &  2 & 6940.195 & 7.411938 & 0.03194873\\\\\n",
       "\\end{tabular}\n"
      ],
      "text/markdown": [
       "\n",
       "A anova: 2 × 6\n",
       "\n",
       "| <!--/--> | Res.Df &lt;dbl&gt; | RSS &lt;dbl&gt; | Df &lt;dbl&gt; | Sum of Sq &lt;dbl&gt; | F &lt;dbl&gt; | Pr(&gt;F) &lt;dbl&gt; |\n",
       "|---|---|---|---|---|---|---|\n",
       "| 1 | 7 | 9281.079 | NA |       NA |       NA |         NA |\n",
       "| 2 | 5 | 2340.884 |  2 | 6940.195 | 7.411938 | 0.03194873 |\n",
       "\n"
      ],
      "text/plain": [
       "  Res.Df RSS      Df Sum of Sq F        Pr(>F)    \n",
       "1 7      9281.079 NA       NA        NA         NA\n",
       "2 5      2340.884  2 6940.195  7.411938 0.03194873"
      ]
     },
     "metadata": {},
     "output_type": "display_data"
    }
   ],
   "source": [
    "anova(object = tot, model)"
   ]
  },
  {
   "cell_type": "code",
   "execution_count": 71,
   "id": "dfa47175-f95b-4cc9-8e35-359d4177e8b5",
   "metadata": {},
   "outputs": [
    {
     "data": {
      "text/html": [
       "3470.097375"
      ],
      "text/latex": [
       "3470.097375"
      ],
      "text/markdown": [
       "3470.097375"
      ],
      "text/plain": [
       "[1] 3470.097"
      ]
     },
     "metadata": {},
     "output_type": "display_data"
    }
   ],
   "source": [
    "6940.19475/2"
   ]
  },
  {
   "cell_type": "code",
   "execution_count": 72,
   "id": "c76fa092-8a94-4b19-a840-ca001abfd5de",
   "metadata": {},
   "outputs": [
    {
     "data": {
      "text/html": [
       "468.1768"
      ],
      "text/latex": [
       "468.1768"
      ],
      "text/markdown": [
       "468.1768"
      ],
      "text/plain": [
       "[1] 468.1768"
      ]
     },
     "metadata": {},
     "output_type": "display_data"
    }
   ],
   "source": [
    "2340.884/5"
   ]
  },
  {
   "cell_type": "code",
   "execution_count": 73,
   "id": "0de1e10b-e4a7-4cbe-84d3-2f5ffa471fa5",
   "metadata": {},
   "outputs": [
    {
     "data": {
      "text/html": [
       "7.41193791533455"
      ],
      "text/latex": [
       "7.41193791533455"
      ],
      "text/markdown": [
       "7.41193791533455"
      ],
      "text/plain": [
       "[1] 7.411938"
      ]
     },
     "metadata": {},
     "output_type": "display_data"
    }
   ],
   "source": [
    "(6940.19475/2)/(2340.884/5)"
   ]
  },
  {
   "cell_type": "code",
   "execution_count": 75,
   "id": "ef84c45e-2fa0-40e2-b026-64eb5887d01d",
   "metadata": {},
   "outputs": [
    {
     "data": {
      "text/html": [
       "5.78613504334997"
      ],
      "text/latex": [
       "5.78613504334997"
      ],
      "text/markdown": [
       "5.78613504334997"
      ],
      "text/plain": [
       "[1] 5.786135"
      ]
     },
     "metadata": {},
     "output_type": "display_data"
    }
   ],
   "source": [
    "qf(0.05, df1 = 2, df2 = 5, lower.tail = FALSE)"
   ]
  },
  {
   "cell_type": "code",
   "execution_count": null,
   "id": "65fd0668-d630-4126-9846-ccc82a44aa12",
   "metadata": {},
   "outputs": [],
   "source": []
  }
 ],
 "metadata": {
  "kernelspec": {
   "display_name": "R",
   "language": "R",
   "name": "ir"
  },
  "language_info": {
   "codemirror_mode": "r",
   "file_extension": ".r",
   "mimetype": "text/x-r-source",
   "name": "R",
   "pygments_lexer": "r",
   "version": "4.3.2"
  }
 },
 "nbformat": 4,
 "nbformat_minor": 5
}
