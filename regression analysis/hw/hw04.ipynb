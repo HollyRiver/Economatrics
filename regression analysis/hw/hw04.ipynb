{
 "cells": [
  {
   "cell_type": "markdown",
   "id": "3e8ef447-cb2c-4b76-b124-6cf7a0ada566",
   "metadata": {},
   "source": [
    "---\n",
    "\n",
    "\n",
    "`4`. **R 실습**. 어떤 슈퍼마켓에서 고객이 구입하는 상품의 금액과 카운터에서 값을 치르는 데 걸리는 시간 사이에\r\n",
    "회귀함수관계가 있는가를 알아보기 위하여 10명의 고객을 임의로 추출하여 다음의 데이터를 얻었다\n",
    "\n",
    "|구매 상품의 금액 $x$ <br> (단위 : 천원)|소요되는 시간 $y$ <br> (단위 : 분)|구매 상품의 금액 $x$ <br> (단위 : 천원)|소요되는 시간 $y$ <br> (단위 : 분)|\n",
    "|:-:|:-:|:-:|:-:|\n",
    "|6.4|1.7|32.1|4.1|\n",
    "|16.1|2.7|7.2|1.2|\n",
    "|42.1|4.9|3.4|0.5|\n",
    "|2.1|0.3|20.8|3.3|\n",
    "|30.7|3.9|1.5|0.2|\n",
    "\n",
    "\n",
    "---\n",
    "\n",
    "\n",
    "\r"
   ]
  },
  {
   "cell_type": "markdown",
   "id": "cb69d143-d763-4d84-ac3f-6638ddd15bb0",
   "metadata": {},
   "source": [
    "(1) 데이터의 산점도를 그려라.\n",
    "\n",
    "`-` 먼저 데이터프레임을 정의하면 아래와 같다."
   ]
  },
  {
   "cell_type": "code",
   "execution_count": 2,
   "id": "4982b11e-1579-4ff1-8e70-a0fbcc7e633b",
   "metadata": {},
   "outputs": [
    {
     "data": {
      "text/html": [
       "<table class=\"dataframe\">\n",
       "<caption>A data.frame: 10 × 2</caption>\n",
       "<thead>\n",
       "\t<tr><th scope=col>x</th><th scope=col>y</th></tr>\n",
       "\t<tr><th scope=col>&lt;dbl&gt;</th><th scope=col>&lt;dbl&gt;</th></tr>\n",
       "</thead>\n",
       "<tbody>\n",
       "\t<tr><td> 6.4</td><td>1.7</td></tr>\n",
       "\t<tr><td>16.1</td><td>2.7</td></tr>\n",
       "\t<tr><td>42.1</td><td>4.9</td></tr>\n",
       "\t<tr><td> 2.1</td><td>0.3</td></tr>\n",
       "\t<tr><td>30.7</td><td>3.9</td></tr>\n",
       "\t<tr><td>32.1</td><td>4.1</td></tr>\n",
       "\t<tr><td> 7.2</td><td>1.2</td></tr>\n",
       "\t<tr><td> 3.4</td><td>0.5</td></tr>\n",
       "\t<tr><td>20.8</td><td>3.3</td></tr>\n",
       "\t<tr><td> 1.5</td><td>0.2</td></tr>\n",
       "</tbody>\n",
       "</table>\n"
      ],
      "text/latex": [
       "A data.frame: 10 × 2\n",
       "\\begin{tabular}{ll}\n",
       " x & y\\\\\n",
       " <dbl> & <dbl>\\\\\n",
       "\\hline\n",
       "\t  6.4 & 1.7\\\\\n",
       "\t 16.1 & 2.7\\\\\n",
       "\t 42.1 & 4.9\\\\\n",
       "\t  2.1 & 0.3\\\\\n",
       "\t 30.7 & 3.9\\\\\n",
       "\t 32.1 & 4.1\\\\\n",
       "\t  7.2 & 1.2\\\\\n",
       "\t  3.4 & 0.5\\\\\n",
       "\t 20.8 & 3.3\\\\\n",
       "\t  1.5 & 0.2\\\\\n",
       "\\end{tabular}\n"
      ],
      "text/markdown": [
       "\n",
       "A data.frame: 10 × 2\n",
       "\n",
       "| x &lt;dbl&gt; | y &lt;dbl&gt; |\n",
       "|---|---|\n",
       "|  6.4 | 1.7 |\n",
       "| 16.1 | 2.7 |\n",
       "| 42.1 | 4.9 |\n",
       "|  2.1 | 0.3 |\n",
       "| 30.7 | 3.9 |\n",
       "| 32.1 | 4.1 |\n",
       "|  7.2 | 1.2 |\n",
       "|  3.4 | 0.5 |\n",
       "| 20.8 | 3.3 |\n",
       "|  1.5 | 0.2 |\n",
       "\n"
      ],
      "text/plain": [
       "   x    y  \n",
       "1   6.4 1.7\n",
       "2  16.1 2.7\n",
       "3  42.1 4.9\n",
       "4   2.1 0.3\n",
       "5  30.7 3.9\n",
       "6  32.1 4.1\n",
       "7   7.2 1.2\n",
       "8   3.4 0.5\n",
       "9  20.8 3.3\n",
       "10  1.5 0.2"
      ]
     },
     "metadata": {},
     "output_type": "display_data"
    }
   ],
   "source": [
    "x <- c(6.4, 16.1, 42.1, 2.1, 30.7, 32.1, 7.2, 3.4, 20.8, 1.5)\n",
    "y <- c(1.7, 2.7, 4.9, 0.3, 3.9, 4.1, 1.2, 0.5, 3.3, 0.2)\n",
    "\n",
    "df <- data.frame(\n",
    "    x,\n",
    "    y\n",
    ")\n",
    "\n",
    "df"
   ]
  },
  {
   "cell_type": "markdown",
   "id": "c3dfe392-ad11-4723-b63f-4f6ecae0d509",
   "metadata": {},
   "source": [
    "`-` 데이터의 산점도"
   ]
  },
  {
   "cell_type": "code",
   "execution_count": 4,
   "id": "07e091a5-e94d-44b9-879a-29119bbfbd55",
   "metadata": {},
   "outputs": [
    {
     "data": {
      "image/png": "[encoded data removed]",
      "text/plain": [
       "plot without title"
      ]
     },
     "metadata": {
      "image/png": {
       "height": 420,
       "width": 420
      }
     },
     "output_type": "display_data"
    }
   ],
   "source": [
    "plot(y~x, df, pch = 16, col = 'darkorange', xlab = '금액(천 원)', ylab = '소요시간(분)')"
   ]
  },
  {
   "cell_type": "markdown",
   "id": "f6f73769-3f4a-4af5-a525-23675ef10ecd",
   "metadata": {},
   "source": [
    "> 데이터가 약간의 비선형성이 존재하는 것으로 보인다.\n",
    "\n",
    "---\n",
    "\n",
    "\n"
   ]
  },
  {
   "cell_type": "markdown",
   "id": "dc6053ab-31be-4a44-a0ce-a92ecf20ce6b",
   "metadata": {},
   "source": [
    "(2) 단순회귀모형, $y = β_0 + β_1x + ϵ$을 가정하고, 이를 적합한 경우에 결정계수 $R^2$의 값은 얼마인가? 만족할 만큼 충분히 큰가?"
   ]
  },
  {
   "cell_type": "code",
   "execution_count": 8,
   "id": "e434def4-7d87-421b-97c8-10fe18e0f99a",
   "metadata": {},
   "outputs": [
    {
     "name": "stdout",
     "output_type": "stream",
     "text": [
      "[1] \"R-squared =  0.954247030991951\"\n"
     ]
    }
   ],
   "source": [
    "model <- lm(y~x, data = df)\n",
    "print(paste('R-squared = ',summary(model)$r.squared))"
   ]
  },
  {
   "cell_type": "markdown",
   "id": "d8463d08-092b-47b6-85fd-2833d97dcaef",
   "metadata": {},
   "source": [
    "> 결정계수의 값을 더 높일 수 있을 것 같다.\n",
    "\n",
    "---\n",
    "\n",
    "\n"
   ]
  },
  {
   "cell_type": "markdown",
   "id": "d8511a5c-eb94-4351-a5db-c1af73b16f37",
   "metadata": {},
   "source": [
    "(3) 다음의 비선형모형을 고려하자.\n",
    "\n",
    "<div class=\"div-box\">\n",
    "&nbsp &nbsp &nbsp (a) $y = e^{\\beta_0 + \\beta_1 x + \\epsilon}$\n",
    "<br><br>\n",
    "&nbsp &nbsp &nbsp (b) $y = \\beta_0 + \\beta_1 \\sqrt{x} + \\epsilon$\n",
    "<br><br>\n",
    "&nbsp &nbsp &nbsp (c) $y = \\beta_0 x^{\\beta_1} \\epsilon$\n",
    "<br><br>\n",
    "&nbsp &nbsp &nbsp (d) $y = \\beta_0ㆍ{\\beta_1}^x \\epsilon$\n",
    "<br><br>\n",
    "&nbsp &nbsp &nbsp (e) $y = \\beta_0 + \\beta_1 (\\frac{1}{x}) + \\epsilon$\n",
    "</div>\n",
    "\n",
    "<br>\n",
    "위의 모형을 적절한 모형변환을 통하여 선형모형으로 만든 후 회귀모형을 적합하고 각각 $R^2$을 구하시오. 어떤 모형이 가장 큰 $R^2$의 값을 가지는가?"
   ]
  },
  {
   "cell_type": "code",
   "execution_count": null,
   "id": "32f1d0ca-e3a8-4b8b-997c-4ca1ae74f463",
   "metadata": {},
   "outputs": [],
   "source": []
  }
 ],
 "metadata": {
  "kernelspec": {
   "display_name": "R",
   "language": "R",
   "name": "ir"
  },
  "language_info": {
   "codemirror_mode": "r",
   "file_extension": ".r",
   "mimetype": "text/x-r-source",
   "name": "R",
   "pygments_lexer": "r",
   "version": "4.1.3"
  }
 },
 "nbformat": 4,
 "nbformat_minor": 5
}
