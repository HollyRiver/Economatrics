{
 "cells": [
  {
   "cell_type": "markdown",
   "id": "1fd13e3a-d550-4041-baf4-9ea4df15c4db",
   "metadata": {},
   "source": [
    "### 5. **R 실습**. 메이저 리그 야구선수 연봉 문제.\n",
    "\n",
    "    Hitters 데이터는 다음과 같이 ISLR 패키지를 설치한 후 얻을 수 있다. 그런데 이 데이터에는 결측치가 존재하기 때문에 `na.omit()`함수를 사용하여 결측치를 제외하기로 한다. 실제 분석에 사용할 데이터는 263명의 야구선수에 대한 20가지의 기록으로 구성되어 있다."
   ]
  },
  {
   "cell_type": "code",
   "execution_count": 2,
   "id": "a1579c0a-8636-43af-bfdc-58f35205bee7",
   "metadata": {},
   "outputs": [
    {
     "name": "stderr",
     "output_type": "stream",
     "text": [
      "Updating HTML index of packages in '.Library'\n",
      "\n",
      "Making 'packages.html' ...\n",
      " done\n",
      "\n"
     ]
    },
    {
     "data": {
      "text/html": [
       "<style>\n",
       ".list-inline {list-style: none; margin:0; padding: 0}\n",
       ".list-inline>li {display: inline-block}\n",
       ".list-inline>li:not(:last-child)::after {content: \"\\00b7\"; padding: 0 .5ex}\n",
       "</style>\n",
       "<ol class=list-inline><li>263</li><li>20</li></ol>\n"
      ],
      "text/latex": [
       "\\begin{enumerate*}\n",
       "\\item 263\n",
       "\\item 20\n",
       "\\end{enumerate*}\n"
      ],
      "text/markdown": [
       "1. 263\n",
       "2. 20\n",
       "\n",
       "\n"
      ],
      "text/plain": [
       "[1] 263  20"
      ]
     },
     "metadata": {},
     "output_type": "display_data"
    }
   ],
   "source": [
    "install.packages('ISLR')\n",
    "library(ISLR)\n",
    "Hitters <- na.omit(Hitters)\n",
    "dim(Hitters)"
   ]
  },
  {
   "cell_type": "markdown",
   "id": "7d9a569f-8a5e-483a-b6ab-21f21ff4a215",
   "metadata": {},
   "source": [
    "    다음 질문에 답하여라"
   ]
  },
  {
   "cell_type": "markdown",
   "id": "e9d3542b-d0cc-4d7c-a9e5-38cf345434b8",
   "metadata": {},
   "source": [
    "#### (1) 반응변수 `Salary`에 대하여 설명변수 `AtBat`, `Hits`, `HmRun`을 사용하여 중회귀 모형을 적합하고 분산분석표를 작성한 후 모형의 유의성을 유의수준 $\\alpha = 0.01$에서 검정하여라. 변수의 자세한 내용은 다음과 같다.\n",
    "\n",
    "* `Salary` : 1987년 계약 연봉(단위 : 1,000달러)\n",
    "* `AtBat` : 1987년 타수\n",
    "* `Hits` : 1987년 안타 수\n",
    "* `HmRun` : 1987년 홈런 개수"
   ]
  },
  {
   "cell_type": "markdown",
   "id": "e868f837-d208-45c4-9172-dc9a421ed908",
   "metadata": {},
   "source": [
    "`-` `model`에 중회귀 모형을 적합"
   ]
  },
  {
   "cell_type": "code",
   "execution_count": 6,
   "id": "60383294-5660-4dfe-966b-648038140ffd",
   "metadata": {},
   "outputs": [
    {
     "data": {
      "text/plain": [
       "\n",
       "Call:\n",
       "lm(formula = Salary ~ AtBat + Hits + HmRun, data = Hitters)\n",
       "\n",
       "Residuals:\n",
       "    Min      1Q  Median      3Q     Max \n",
       "-884.75 -214.97  -58.05  175.88 1991.53 \n",
       "\n",
       "Coefficients:\n",
       "            Estimate Std. Error t value Pr(>|t|)    \n",
       "(Intercept)  158.754     75.815   2.094  0.03724 *  \n",
       "AtBat         -1.564      0.641  -2.440  0.01536 *  \n",
       "Hits           8.329      2.053   4.056 6.61e-05 ***\n",
       "HmRun          9.502      3.384   2.808  0.00536 ** \n",
       "---\n",
       "Signif. codes:  0 ‘***’ 0.001 ‘**’ 0.01 ‘*’ 0.05 ‘.’ 0.1 ‘ ’ 1\n",
       "\n",
       "Residual standard error: 398.9 on 259 degrees of freedom\n",
       "Multiple R-squared:  0.2271,\tAdjusted R-squared:  0.2182 \n",
       "F-statistic: 25.37 on 3 and 259 DF,  p-value: 2.013e-14\n"
      ]
     },
     "metadata": {},
     "output_type": "display_data"
    }
   ],
   "source": [
    "model <- lm(Salary ~ AtBat + Hits + HmRun, data = Hitters)\n",
    "summary(model)"
   ]
  },
  {
   "cell_type": "markdown",
   "id": "20a23523-6881-46b4-87be-04526e8b2616",
   "metadata": {},
   "source": [
    "`-` ANOVA table 호출"
   ]
  },
  {
   "cell_type": "code",
   "execution_count": 8,
   "id": "90a67f4d-6478-48b8-9754-26f7da0437d4",
   "metadata": {},
   "outputs": [
    {
     "data": {
      "text/html": [
       "<table class=\"dataframe\">\n",
       "<caption>A anova: 4 × 5</caption>\n",
       "<thead>\n",
       "\t<tr><th></th><th scope=col>Df</th><th scope=col>Sum Sq</th><th scope=col>Mean Sq</th><th scope=col>F value</th><th scope=col>Pr(&gt;F)</th></tr>\n",
       "\t<tr><th></th><th scope=col>&lt;int&gt;</th><th scope=col>&lt;dbl&gt;</th><th scope=col>&lt;dbl&gt;</th><th scope=col>&lt;dbl&gt;</th><th scope=col>&lt;dbl&gt;</th></tr>\n",
       "</thead>\n",
       "<tbody>\n",
       "\t<tr><th scope=row>AtBat</th><td>  1</td><td> 8309469</td><td>8309469.1</td><td>52.225108</td><td>5.542791e-12</td></tr>\n",
       "\t<tr><th scope=row>Hits</th><td>  1</td><td> 2545894</td><td>2545893.8</td><td>16.000972</td><td>8.266399e-05</td></tr>\n",
       "\t<tr><th scope=row>HmRun</th><td>  1</td><td> 1254597</td><td>1254596.7</td><td> 7.885154</td><td>5.363637e-03</td></tr>\n",
       "\t<tr><th scope=row>Residuals</th><td>259</td><td>41209153</td><td> 159108.7</td><td>       NA</td><td>          NA</td></tr>\n",
       "</tbody>\n",
       "</table>\n"
      ],
      "text/latex": [
       "A anova: 4 × 5\n",
       "\\begin{tabular}{r|lllll}\n",
       "  & Df & Sum Sq & Mean Sq & F value & Pr(>F)\\\\\n",
       "  & <int> & <dbl> & <dbl> & <dbl> & <dbl>\\\\\n",
       "\\hline\n",
       "\tAtBat &   1 &  8309469 & 8309469.1 & 52.225108 & 5.542791e-12\\\\\n",
       "\tHits &   1 &  2545894 & 2545893.8 & 16.000972 & 8.266399e-05\\\\\n",
       "\tHmRun &   1 &  1254597 & 1254596.7 &  7.885154 & 5.363637e-03\\\\\n",
       "\tResiduals & 259 & 41209153 &  159108.7 &        NA &           NA\\\\\n",
       "\\end{tabular}\n"
      ],
      "text/markdown": [
       "\n",
       "A anova: 4 × 5\n",
       "\n",
       "| <!--/--> | Df &lt;int&gt; | Sum Sq &lt;dbl&gt; | Mean Sq &lt;dbl&gt; | F value &lt;dbl&gt; | Pr(&gt;F) &lt;dbl&gt; |\n",
       "|---|---|---|---|---|---|\n",
       "| AtBat |   1 |  8309469 | 8309469.1 | 52.225108 | 5.542791e-12 |\n",
       "| Hits |   1 |  2545894 | 2545893.8 | 16.000972 | 8.266399e-05 |\n",
       "| HmRun |   1 |  1254597 | 1254596.7 |  7.885154 | 5.363637e-03 |\n",
       "| Residuals | 259 | 41209153 |  159108.7 |        NA |           NA |\n",
       "\n"
      ],
      "text/plain": [
       "          Df  Sum Sq   Mean Sq   F value   Pr(>F)      \n",
       "AtBat       1  8309469 8309469.1 52.225108 5.542791e-12\n",
       "Hits        1  2545894 2545893.8 16.000972 8.266399e-05\n",
       "HmRun       1  1254597 1254596.7  7.885154 5.363637e-03\n",
       "Residuals 259 41209153  159108.7        NA           NA"
      ]
     },
     "metadata": {},
     "output_type": "display_data"
    }
   ],
   "source": [
    "anova(model)"
   ]
  },
  {
   "cell_type": "code",
   "execution_count": 7,
   "id": "286f0715-dfe2-4d49-b4f2-6548cdc891db",
   "metadata": {},
   "outputs": [
    {
     "data": {
      "text/html": [
       "<table class=\"dataframe\">\n",
       "<caption>A anova: 2 × 6</caption>\n",
       "<thead>\n",
       "\t<tr><th></th><th scope=col>Res.Df</th><th scope=col>RSS</th><th scope=col>Df</th><th scope=col>Sum of Sq</th><th scope=col>F</th><th scope=col>Pr(&gt;F)</th></tr>\n",
       "\t<tr><th></th><th scope=col>&lt;dbl&gt;</th><th scope=col>&lt;dbl&gt;</th><th scope=col>&lt;dbl&gt;</th><th scope=col>&lt;dbl&gt;</th><th scope=col>&lt;dbl&gt;</th><th scope=col>&lt;dbl&gt;</th></tr>\n",
       "</thead>\n",
       "<tbody>\n",
       "\t<tr><th scope=row>1</th><td>262</td><td>53319113</td><td>NA</td><td>      NA</td><td>      NA</td><td>          NA</td></tr>\n",
       "\t<tr><th scope=row>2</th><td>259</td><td>41209153</td><td> 3</td><td>12109960</td><td>25.37041</td><td>2.013148e-14</td></tr>\n",
       "</tbody>\n",
       "</table>\n"
      ],
      "text/latex": [
       "A anova: 2 × 6\n",
       "\\begin{tabular}{r|llllll}\n",
       "  & Res.Df & RSS & Df & Sum of Sq & F & Pr(>F)\\\\\n",
       "  & <dbl> & <dbl> & <dbl> & <dbl> & <dbl> & <dbl>\\\\\n",
       "\\hline\n",
       "\t1 & 262 & 53319113 & NA &       NA &       NA &           NA\\\\\n",
       "\t2 & 259 & 41209153 &  3 & 12109960 & 25.37041 & 2.013148e-14\\\\\n",
       "\\end{tabular}\n"
      ],
      "text/markdown": [
       "\n",
       "A anova: 2 × 6\n",
       "\n",
       "| <!--/--> | Res.Df &lt;dbl&gt; | RSS &lt;dbl&gt; | Df &lt;dbl&gt; | Sum of Sq &lt;dbl&gt; | F &lt;dbl&gt; | Pr(&gt;F) &lt;dbl&gt; |\n",
       "|---|---|---|---|---|---|---|\n",
       "| 1 | 262 | 53319113 | NA |       NA |       NA |           NA |\n",
       "| 2 | 259 | 41209153 |  3 | 12109960 | 25.37041 | 2.013148e-14 |\n",
       "\n"
      ],
      "text/plain": [
       "  Res.Df RSS      Df Sum of Sq F        Pr(>F)      \n",
       "1 262    53319113 NA       NA        NA           NA\n",
       "2 259    41209153  3 12109960  25.37041 2.013148e-14"
      ]
     },
     "metadata": {},
     "output_type": "display_data"
    }
   ],
   "source": [
    "null_model <- lm(Salary ~ 1, data = Hitters)  ## 귀무가설 하의 모형\n",
    "\n",
    "anova(null_model, model)"
   ]
  },
  {
   "cell_type": "code",
   "execution_count": 13,
   "id": "4b737c99-a745-4653-b731-093653cb5e67",
   "metadata": {},
   "outputs": [],
   "source": [
    "MSE <- anova(model)[4,3]\n",
    "MSR <- anova(null_model, model)[2,4]/3"
   ]
  },
  {
   "cell_type": "markdown",
   "id": "13f5df72-5002-428f-aa7d-9dd4f5829f34",
   "metadata": {},
   "source": [
    "`-` 가설검정\n",
    "\n",
    "ⅰ) $H_0 : \\beta_1 = \\beta_2 = 0 ~~ vs. ~~ H_1 : not ~ H_0$\n",
    "\n",
    "ⅱ) 검정통계량 : $F_0 = \\frac{MSR}{MSE} $ ~ $F(3, 259) ~~ under ~ H_0$\n",
    "\n",
    "ⅲ) 검정통계량의 관측치"
   ]
  },
  {
   "cell_type": "code",
   "execution_count": 15,
   "id": "3bf3c6bb-a6ba-47e2-8cb1-ac4925d5997d",
   "metadata": {},
   "outputs": [
    {
     "data": {
      "text/html": [
       "25.3704114840611"
      ],
      "text/latex": [
       "25.3704114840611"
      ],
      "text/markdown": [
       "25.3704114840611"
      ],
      "text/plain": [
       "[1] 25.37041"
      ]
     },
     "metadata": {},
     "output_type": "display_data"
    }
   ],
   "source": [
    "f_0 <- MSR/MSE\n",
    "f_0"
   ]
  },
  {
   "cell_type": "markdown",
   "id": "109b3d41-3fe1-465b-bb2b-e1380c8cb0f1",
   "metadata": {},
   "source": [
    "ⅳ) 유의확률"
   ]
  },
  {
   "cell_type": "code",
   "execution_count": 17,
   "id": "e9736234-b1ed-4823-a0fd-ef5a8904b77b",
   "metadata": {},
   "outputs": [
    {
     "data": {
      "text/html": [
       "2.0131484192189e-14"
      ],
      "text/latex": [
       "2.0131484192189e-14"
      ],
      "text/markdown": [
       "2.0131484192189e-14"
      ],
      "text/plain": [
       "[1] 2.013148e-14"
      ]
     },
     "metadata": {},
     "output_type": "display_data"
    }
   ],
   "source": [
    "pf(f_0, df1 = 3, df2 = 259, lower.tail = FALSE)"
   ]
  },
  {
   "cell_type": "markdown",
   "id": "34487998-aaef-4fdf-9ecc-2a7f68361479",
   "metadata": {},
   "source": [
    "결론 : 유의확률이 유의수준 $\\alpha = 0.01$보다 작으므로 귀무가설을 기각하고 대립가설을 수용한다. 즉, 해당 회귀모형은 유의하다."
   ]
  },
  {
   "cell_type": "markdown",
   "id": "5b13fdef-36c8-478c-bd30-c655fc2aec17",
   "metadata": {},
   "source": [
    "#### (2) (1)에서 구한 회귀계수 추정량의 분산-공분산 행렬을 추정하여라."
   ]
  },
  {
   "cell_type": "markdown",
   "id": "613564d2-2e8e-47a4-939f-a8d38d41b161",
   "metadata": {},
   "source": [
    "회귀계수 추정량의 분산-공분산 행렬은 아래와 같이 추정할 수 있다."
   ]
  },
  {
   "cell_type": "code",
   "execution_count": 20,
   "id": "be4682e9-280e-45f4-8812-8921691504ea",
   "metadata": {},
   "outputs": [
    {
     "data": {
      "text/html": [
       "<table class=\"dataframe\">\n",
       "<caption>A matrix: 4 × 4 of type dbl</caption>\n",
       "<thead>\n",
       "\t<tr><th></th><th scope=col>(Intercept)</th><th scope=col>AtBat</th><th scope=col>Hits</th><th scope=col>HmRun</th></tr>\n",
       "</thead>\n",
       "<tbody>\n",
       "\t<tr><th scope=row>(Intercept)</th><td>5747.87524</td><td>-26.2127535</td><td>48.158691</td><td>21.0663196</td></tr>\n",
       "\t<tr><th scope=row>AtBat</th><td> -26.21275</td><td>  0.4108477</td><td>-1.249666</td><td>-0.4193544</td></tr>\n",
       "\t<tr><th scope=row>Hits</th><td>  48.15869</td><td> -1.2496656</td><td> 4.216189</td><td> 0.1404930</td></tr>\n",
       "\t<tr><th scope=row>HmRun</th><td>  21.06632</td><td> -0.4193544</td><td> 0.140493</td><td>11.4506363</td></tr>\n",
       "</tbody>\n",
       "</table>\n"
      ],
      "text/latex": [
       "A matrix: 4 × 4 of type dbl\n",
       "\\begin{tabular}{r|llll}\n",
       "  & (Intercept) & AtBat & Hits & HmRun\\\\\n",
       "\\hline\n",
       "\t(Intercept) & 5747.87524 & -26.2127535 & 48.158691 & 21.0663196\\\\\n",
       "\tAtBat &  -26.21275 &   0.4108477 & -1.249666 & -0.4193544\\\\\n",
       "\tHits &   48.15869 &  -1.2496656 &  4.216189 &  0.1404930\\\\\n",
       "\tHmRun &   21.06632 &  -0.4193544 &  0.140493 & 11.4506363\\\\\n",
       "\\end{tabular}\n"
      ],
      "text/markdown": [
       "\n",
       "A matrix: 4 × 4 of type dbl\n",
       "\n",
       "| <!--/--> | (Intercept) | AtBat | Hits | HmRun |\n",
       "|---|---|---|---|---|\n",
       "| (Intercept) | 5747.87524 | -26.2127535 | 48.158691 | 21.0663196 |\n",
       "| AtBat |  -26.21275 |   0.4108477 | -1.249666 | -0.4193544 |\n",
       "| Hits |   48.15869 |  -1.2496656 |  4.216189 |  0.1404930 |\n",
       "| HmRun |   21.06632 |  -0.4193544 |  0.140493 | 11.4506363 |\n",
       "\n"
      ],
      "text/plain": [
       "            (Intercept) AtBat       Hits      HmRun     \n",
       "(Intercept) 5747.87524  -26.2127535 48.158691 21.0663196\n",
       "AtBat        -26.21275    0.4108477 -1.249666 -0.4193544\n",
       "Hits          48.15869   -1.2496656  4.216189  0.1404930\n",
       "HmRun         21.06632   -0.4193544  0.140493 11.4506363"
      ]
     },
     "metadata": {},
     "output_type": "display_data"
    }
   ],
   "source": [
    "cov_mat <- vcov(model)\n",
    "cov_mat"
   ]
  },
  {
   "cell_type": "markdown",
   "id": "0de27189-5471-4443-b87e-d49333142540",
   "metadata": {},
   "source": [
    "`-` 또는 다른 방법으로..."
   ]
  },
  {
   "cell_type": "code",
   "execution_count": 26,
   "id": "0098d680-beee-466d-8d96-5b93fca2972e",
   "metadata": {},
   "outputs": [
    {
     "data": {
      "text/html": [
       "<table class=\"dataframe\">\n",
       "<caption>A matrix: 4 × 4 of type dbl</caption>\n",
       "<thead>\n",
       "\t<tr><th></th><th scope=col></th><th scope=col>X1</th><th scope=col>X2</th><th scope=col>X3</th></tr>\n",
       "</thead>\n",
       "<tbody>\n",
       "\t<tr><th scope=row></th><td>5747.87524</td><td>-26.2127535</td><td>48.158691</td><td>21.0663196</td></tr>\n",
       "\t<tr><th scope=row>X1</th><td> -26.21275</td><td>  0.4108477</td><td>-1.249666</td><td>-0.4193544</td></tr>\n",
       "\t<tr><th scope=row>X2</th><td>  48.15869</td><td> -1.2496656</td><td> 4.216189</td><td> 0.1404930</td></tr>\n",
       "\t<tr><th scope=row>X3</th><td>  21.06632</td><td> -0.4193544</td><td> 0.140493</td><td>11.4506363</td></tr>\n",
       "</tbody>\n",
       "</table>\n"
      ],
      "text/latex": [
       "A matrix: 4 × 4 of type dbl\n",
       "\\begin{tabular}{r|llll}\n",
       "  &  & X1 & X2 & X3\\\\\n",
       "\\hline\n",
       "\t & 5747.87524 & -26.2127535 & 48.158691 & 21.0663196\\\\\n",
       "\tX1 &  -26.21275 &   0.4108477 & -1.249666 & -0.4193544\\\\\n",
       "\tX2 &   48.15869 &  -1.2496656 &  4.216189 &  0.1404930\\\\\n",
       "\tX3 &   21.06632 &  -0.4193544 &  0.140493 & 11.4506363\\\\\n",
       "\\end{tabular}\n"
      ],
      "text/markdown": [
       "\n",
       "A matrix: 4 × 4 of type dbl\n",
       "\n",
       "| <!--/--> | <!----> | X1 | X2 | X3 |\n",
       "|---|---|---|---|---|\n",
       "| <!----> | 5747.87524 | -26.2127535 | 48.158691 | 21.0663196 |\n",
       "| X1 |  -26.21275 |   0.4108477 | -1.249666 | -0.4193544 |\n",
       "| X2 |   48.15869 |  -1.2496656 |  4.216189 |  0.1404930 |\n",
       "| X3 |   21.06632 |  -0.4193544 |  0.140493 | 11.4506363 |\n",
       "\n"
      ],
      "text/plain": [
       "              X1          X2        X3        \n",
       "   5747.87524 -26.2127535 48.158691 21.0663196\n",
       "X1  -26.21275   0.4108477 -1.249666 -0.4193544\n",
       "X2   48.15869  -1.2496656  4.216189  0.1404930\n",
       "X3   21.06632  -0.4193544  0.140493 11.4506363"
      ]
     },
     "metadata": {},
     "output_type": "display_data"
    }
   ],
   "source": [
    "X1 = Hitters$AtBat\n",
    "X2 = Hitters$Hits\n",
    "X3 = Hitters$HmRun\n",
    "X = cbind(1, X1, X2, X3)\n",
    "y = Hitters$Salary\n",
    "\n",
    "cov_mat2 <- solve(t(X)%*%X)*MSE\n",
    "cov_mat2"
   ]
  },
  {
   "cell_type": "markdown",
   "id": "47b7d3b7-2dbb-46ce-9125-c73c622db54d",
   "metadata": {},
   "source": [
    "**끝**"
   ]
  }
 ],
 "metadata": {
  "kernelspec": {
   "display_name": "R",
   "language": "R",
   "name": "ir"
  },
  "language_info": {
   "codemirror_mode": "r",
   "file_extension": ".r",
   "mimetype": "text/x-r-source",
   "name": "R",
   "pygments_lexer": "r",
   "version": "4.1.3"
  }
 },
 "nbformat": 4,
 "nbformat_minor": 5
}
