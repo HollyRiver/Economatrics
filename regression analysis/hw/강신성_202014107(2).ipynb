{
 "cells": [
  {
   "cell_type": "markdown",
   "id": "3e8ef447-cb2c-4b76-b124-6cf7a0ada566",
   "metadata": {},
   "source": [
    "---\n",
    "\n",
    "\n",
    "\n",
    "4. **R 실습**. 어떤 슈퍼마켓에서 고객이 구입하는 상품의 금액과 카운터에서 값을 치르는 데 걸리는 시간 사이에 회귀함수관계가 있는가를 알아보기 위하여 10명의 고객을 임의로 추출하여 다음의 데이터를 얻었다.\n",
    "\n",
    "|구매 상품의 금액 $x$<br>(단위 : 천원)|소요되는 시간 $y$<br>(단위 : 분)||구매 상품의 금액 $x$<br>(단위 : 천원)|소요되는 시간 $y$<br>(단위 : 분)|\n",
    "|:-:|:-:|:-:|:-:|:-:|\n",
    "|6.4|1.7||32.1|4.1|\n",
    "|16.1|2.7||7.2|1.2|\n",
    "|42.1|4.9||3.4|0.5|\n",
    "|2.1|0.3||20.8|3.3|\n",
    "|30.7|3.9||1.5|0.2|\n",
    "\n",
    "\n",
    "\n",
    "---\r"
   ]
  },
  {
   "cell_type": "markdown",
   "id": "cb69d143-d763-4d84-ac3f-6638ddd15bb0",
   "metadata": {},
   "source": [
    "(1) 데이터의 산점도를 그려라.\n",
    "\n",
    "`-` 먼저 데이터프레임을 정의하면 아래와 같다."
   ]
  },
  {
   "cell_type": "code",
   "execution_count": 1,
   "id": "4982b11e-1579-4ff1-8e70-a0fbcc7e633b",
   "metadata": {},
   "outputs": [
    {
     "data": {
      "text/html": [
       "<table class=\"dataframe\">\n",
       "<caption>A data.frame: 10 × 2</caption>\n",
       "<thead>\n",
       "\t<tr><th scope=col>x</th><th scope=col>y</th></tr>\n",
       "\t<tr><th scope=col>&lt;dbl&gt;</th><th scope=col>&lt;dbl&gt;</th></tr>\n",
       "</thead>\n",
       "<tbody>\n",
       "\t<tr><td> 6.4</td><td>1.7</td></tr>\n",
       "\t<tr><td>16.1</td><td>2.7</td></tr>\n",
       "\t<tr><td>42.1</td><td>4.9</td></tr>\n",
       "\t<tr><td> 2.1</td><td>0.3</td></tr>\n",
       "\t<tr><td>30.7</td><td>3.9</td></tr>\n",
       "\t<tr><td>32.1</td><td>4.1</td></tr>\n",
       "\t<tr><td> 7.2</td><td>1.2</td></tr>\n",
       "\t<tr><td> 3.4</td><td>0.5</td></tr>\n",
       "\t<tr><td>20.8</td><td>3.3</td></tr>\n",
       "\t<tr><td> 1.5</td><td>0.2</td></tr>\n",
       "</tbody>\n",
       "</table>\n"
      ],
      "text/latex": [
       "A data.frame: 10 × 2\n",
       "\\begin{tabular}{ll}\n",
       " x & y\\\\\n",
       " <dbl> & <dbl>\\\\\n",
       "\\hline\n",
       "\t  6.4 & 1.7\\\\\n",
       "\t 16.1 & 2.7\\\\\n",
       "\t 42.1 & 4.9\\\\\n",
       "\t  2.1 & 0.3\\\\\n",
       "\t 30.7 & 3.9\\\\\n",
       "\t 32.1 & 4.1\\\\\n",
       "\t  7.2 & 1.2\\\\\n",
       "\t  3.4 & 0.5\\\\\n",
       "\t 20.8 & 3.3\\\\\n",
       "\t  1.5 & 0.2\\\\\n",
       "\\end{tabular}\n"
      ],
      "text/markdown": [
       "\n",
       "A data.frame: 10 × 2\n",
       "\n",
       "| x &lt;dbl&gt; | y &lt;dbl&gt; |\n",
       "|---|---|\n",
       "|  6.4 | 1.7 |\n",
       "| 16.1 | 2.7 |\n",
       "| 42.1 | 4.9 |\n",
       "|  2.1 | 0.3 |\n",
       "| 30.7 | 3.9 |\n",
       "| 32.1 | 4.1 |\n",
       "|  7.2 | 1.2 |\n",
       "|  3.4 | 0.5 |\n",
       "| 20.8 | 3.3 |\n",
       "|  1.5 | 0.2 |\n",
       "\n"
      ],
      "text/plain": [
       "   x    y  \n",
       "1   6.4 1.7\n",
       "2  16.1 2.7\n",
       "3  42.1 4.9\n",
       "4   2.1 0.3\n",
       "5  30.7 3.9\n",
       "6  32.1 4.1\n",
       "7   7.2 1.2\n",
       "8   3.4 0.5\n",
       "9  20.8 3.3\n",
       "10  1.5 0.2"
      ]
     },
     "metadata": {},
     "output_type": "display_data"
    }
   ],
   "source": [
    "x <- c(6.4, 16.1, 42.1, 2.1, 30.7, 32.1, 7.2, 3.4, 20.8, 1.5)\n",
    "y <- c(1.7, 2.7, 4.9, 0.3, 3.9, 4.1, 1.2, 0.5, 3.3, 0.2)\n",
    "\n",
    "df <- data.frame(x, y)\n",
    "df"
   ]
  },
  {
   "cell_type": "markdown",
   "id": "c3dfe392-ad11-4723-b63f-4f6ecae0d509",
   "metadata": {},
   "source": [
    "`-` 데이터의 산점도"
   ]
  },
  {
   "cell_type": "code",
   "execution_count": 2,
   "id": "07e091a5-e94d-44b9-879a-29119bbfbd55",
   "metadata": {},
   "outputs": [
    {
     "data": {
      "image/png": "[encoded data removed]",
      "text/plain": [
       "plot without title"
      ]
     },
     "metadata": {
      "image/png": {
       "height": 420,
       "width": 420
      }
     },
     "output_type": "display_data"
    }
   ],
   "source": [
    "plot(y~x, df, pch = 16, col = 'darkorange', xlab = '금액(천 원)', ylab = '소요시간(분)')"
   ]
  },
  {
   "cell_type": "markdown",
   "id": "f6f73769-3f4a-4af5-a525-23675ef10ecd",
   "metadata": {},
   "source": [
    "> 데이터가 약간의 비선형성이 존재하는 것으로 보인다.\n",
    "\n",
    "---\n",
    "\n",
    "\n"
   ]
  },
  {
   "cell_type": "markdown",
   "id": "dc6053ab-31be-4a44-a0ce-a92ecf20ce6b",
   "metadata": {},
   "source": [
    "(2) 단순회귀모형, $y = β_0 + β_1x + ϵ$을 가정하고, 이를 적합한 경우에 결정계수 $R^2$의 값은 얼마인가? 만족할 만큼 충분히 큰가?"
   ]
  },
  {
   "cell_type": "code",
   "execution_count": 3,
   "id": "e434def4-7d87-421b-97c8-10fe18e0f99a",
   "metadata": {},
   "outputs": [
    {
     "name": "stdout",
     "output_type": "stream",
     "text": [
      "[1] \"R-squared =  0.954247030991951\"\n"
     ]
    }
   ],
   "source": [
    "model <- lm(y~x, data = df)\n",
    "print(paste('R-squared = ',summary(model)$r.squared))"
   ]
  },
  {
   "cell_type": "markdown",
   "id": "d8463d08-092b-47b6-85fd-2833d97dcaef",
   "metadata": {},
   "source": [
    "> 결정계수의 값을 더 높일 수 있을 것 같다.\n",
    "\n",
    "---\n",
    "\n",
    "\n"
   ]
  },
  {
   "cell_type": "markdown",
   "id": "d8511a5c-eb94-4351-a5db-c1af73b16f37",
   "metadata": {},
   "source": [
    "(3) 다음의 비선형모형을 고려하자.\n",
    "\n",
    "<div class=\"div-box\">\n",
    "&nbsp &nbsp &nbsp (a) $y = e^{\\beta_0 + \\beta_1 x + \\epsilon}$\n",
    "<br><br>\n",
    "&nbsp &nbsp &nbsp (b) $y = \\beta_0 + \\beta_1 \\sqrt{x} + \\epsilon$\n",
    "<br><br>\n",
    "&nbsp &nbsp &nbsp (c) $y = \\beta_0 x^{\\beta_1} \\epsilon$\n",
    "<br><br>\n",
    "&nbsp &nbsp &nbsp (d) $y = \\beta_0ㆍ{\\beta_1}^x \\epsilon$\n",
    "<br><br>\n",
    "&nbsp &nbsp &nbsp (e) $y = \\beta_0 + \\beta_1 (\\frac{1}{x}) + \\epsilon$\n",
    "</div>\n",
    "\n",
    "<br>\n",
    "위의 모형을 적절한 모형변환을 통하여 선형모형으로 만든 후 회귀모형을 적합하고 각각 $R^2$을 구하시오. 어떤 모형이 가장 큰 $R^2$의 값을 가지는가?"
   ]
  },
  {
   "cell_type": "markdown",
   "id": "ca377979-22b1-4f00-b473-5d8286dd4f90",
   "metadata": {},
   "source": [
    "`-` 각각 변환 후 적합"
   ]
  },
  {
   "cell_type": "code",
   "execution_count": 22,
   "id": "32f1d0ca-e3a8-4b8b-997c-4ca1ae74f463",
   "metadata": {},
   "outputs": [],
   "source": [
    "## (a)\n",
    "log_y <- log(y)\n",
    "model_a <- lm(log_y~x)\n",
    "\n",
    "## (b)\n",
    "sqrt_x <- sqrt(x)\n",
    "model_b <- lm(y~sqrt_x)\n",
    "\n",
    "## (c)\n",
    "log_x <- log(x)\n",
    "model_c <- lm(log_y~log_x)  ## _beta0 = log(beta0), _epsilon = log(epsilon)\n",
    "\n",
    "## (d)\n",
    "model_d <- lm(log_y~x)  ## _beta0 = log(beta0), _beta1 = log(beta1), _epsilon = log(epsilon)\n",
    "\n",
    "## (e)\n",
    "inv_x <- 1/x\n",
    "model_e <- lm(y~inv_x)"
   ]
  },
  {
   "cell_type": "markdown",
   "id": "ca599261-73ed-4628-88c9-eaf43dfc97fa",
   "metadata": {},
   "source": [
    "`-` 각각의 R-squared 산출"
   ]
  },
  {
   "cell_type": "code",
   "execution_count": 34,
   "id": "4a033c45-1e9b-4a87-9863-c3e7bce7c674",
   "metadata": {},
   "outputs": [
    {
     "data": {
      "text/html": [
       "<table class=\"dataframe\">\n",
       "<caption>A data.frame: 5 × 2</caption>\n",
       "<thead>\n",
       "\t<tr><th scope=col>Model</th><th scope=col>R.squared</th></tr>\n",
       "\t<tr><th scope=col>&lt;chr&gt;</th><th scope=col>&lt;dbl&gt;</th></tr>\n",
       "</thead>\n",
       "<tbody>\n",
       "\t<tr><td>a</td><td>0.7384658</td></tr>\n",
       "\t<tr><td>b</td><td>0.9888110</td></tr>\n",
       "\t<tr><td>c</td><td>0.9624502</td></tr>\n",
       "\t<tr><td>d</td><td>0.7384658</td></tr>\n",
       "\t<tr><td>e</td><td>0.6873067</td></tr>\n",
       "</tbody>\n",
       "</table>\n"
      ],
      "text/latex": [
       "A data.frame: 5 × 2\n",
       "\\begin{tabular}{ll}\n",
       " Model & R.squared\\\\\n",
       " <chr> & <dbl>\\\\\n",
       "\\hline\n",
       "\t a & 0.7384658\\\\\n",
       "\t b & 0.9888110\\\\\n",
       "\t c & 0.9624502\\\\\n",
       "\t d & 0.7384658\\\\\n",
       "\t e & 0.6873067\\\\\n",
       "\\end{tabular}\n"
      ],
      "text/markdown": [
       "\n",
       "A data.frame: 5 × 2\n",
       "\n",
       "| Model &lt;chr&gt; | R.squared &lt;dbl&gt; |\n",
       "|---|---|\n",
       "| a | 0.7384658 |\n",
       "| b | 0.9888110 |\n",
       "| c | 0.9624502 |\n",
       "| d | 0.7384658 |\n",
       "| e | 0.6873067 |\n",
       "\n"
      ],
      "text/plain": [
       "  Model R.squared\n",
       "1 a     0.7384658\n",
       "2 b     0.9888110\n",
       "3 c     0.9624502\n",
       "4 d     0.7384658\n",
       "5 e     0.6873067"
      ]
     },
     "metadata": {},
     "output_type": "display_data"
    }
   ],
   "source": [
    "data.frame(\n",
    "    'Model' = c('a', 'b', 'c', 'd', 'e'),\n",
    "    'R-squared' = c(summary(model_a)$r.squared, summary(model_b)$r.squared,\n",
    "                    summary(model_c)$r.squared, summary(model_d)$r.squared,\n",
    "                    summary(model_e)$r.squared)\n",
    ")"
   ]
  },
  {
   "cell_type": "markdown",
   "id": "26ab2db5-a820-4338-9961-dffb6b5e38c9",
   "metadata": {},
   "source": [
    "> (b)의 경우가 가장 큰 $R^2$값을 가진다.\n",
    "\n",
    "\n",
    "---\n",
    "\n",
    "\n"
   ]
  },
  {
   "cell_type": "markdown",
   "id": "7351dcdb-dd48-4042-8a96-1a0616f46bb7",
   "metadata": {},
   "source": [
    "(4) 위의 (3)에서 $R^2$의 값이 가장 큰 모형이 선택되었을 경우, 이 모형의 추정식을 사용하여 구매상품의 총 금액이 $10,000$원인 경우에, 카운터에서 값을 치르는 데 평균 몇 분이 소요되리라고 예측하는가?"
   ]
  },
  {
   "cell_type": "markdown",
   "id": "bf1a9432-6be4-401c-a526-24ec2ea58942",
   "metadata": {},
   "source": [
    "`-` `model_b`를 사용하여 예측하면..."
   ]
  },
  {
   "cell_type": "code",
   "execution_count": 49,
   "id": "16441564-5f78-4e82-897e-fb0bf9b1566d",
   "metadata": {},
   "outputs": [
    {
     "data": {
      "text/html": [
       "<strong>1:</strong> 1.88569333051879"
      ],
      "text/latex": [
       "\\textbf{1:} 1.88569333051879"
      ],
      "text/markdown": [
       "**1:** 1.88569333051879"
      ],
      "text/plain": [
       "       1 \n",
       "1.885693 "
      ]
     },
     "metadata": {},
     "output_type": "display_data"
    }
   ],
   "source": [
    "predict(model_b, newdata = data.frame(sqrt_x = sqrt(10)))  ## x값에 10을 넣어줘야 하므로, 해당 모델에는 sqrt(10)을 넣는다."
   ]
  },
  {
   "cell_type": "markdown",
   "id": "053606d5-e4b7-4b16-9ddf-7dfb21b6142a",
   "metadata": {},
   "source": [
    "> 따라서 카운터에서 값을 치르는 데 평균 1.89분이 필요하다고 예측된다.\n",
    "\n",
    "\n",
    "---\n",
    "\n",
    "\n"
   ]
  },
  {
   "cell_type": "markdown",
   "id": "81a3f3be-39ea-4175-a68d-549e7edb11d9",
   "metadata": {},
   "source": [
    "5. **R 실습**. 아마존 강 수위 문제 (문제의 출처 : 참고문헌(3.8)) 아마존 강 유역은 지구상의 가장 큰 열대우림 지역이지만, 대부분의 다른 자연자원과 마찬가지로 개발의 손길이 미치면서 열대림이 급속히 파괴됐다. 1970년대 이후 아마존 상류 지역에 도로가 건설되면서 인구가 빠르게 증가되었고 대규모의 삼림파괴가 이뤄졌다. 강수량과 유수량이 모두 영향을 받을 수 있기 때문에 이것은 결국 아마존 강 전체에 영향을 미치는 심각한 기후학적 및 수문학적 변화를 가져왔다. 다음의 표는 페루 이키토스(Iquitos)에서 1962년부터 1978년까지 기록한 아마존 강 최고수위(High)와, 최저수위(Low)를 기록한 것이다. (단위 : 미터)\n",
    "\n",
    "<div style=\"text-align: center\">Table 1 : 아마존 강 데이터 (Amazom River data)</div>\n",
    "\n",
    "|Year|High (m)|Low (m)||Year|High (m)|Low (m)|\n",
    "|:-:|:-:|:-:|:-:|:-:|:-:|:-:|\n",
    "|1962|25.82|18.24||1971|27.36|21.91|\n",
    "|1963|25.35|16.50||1972|26.65|22.51|\n",
    "|1964|24.29|20.26||1973|27.13|18.81|\n",
    "|1965|24.05|20.97||1974|27.49|19.42|\n",
    "|1966|24.89|19.43||1975|27.08|19.10|\n",
    "|1967|25.35|19.31||1976|27.51|18.80|\n",
    "|1968|25.23|20.85||1977|27.54|18.80|\n",
    "|1969|25.06|19.54||1978|26.21|17.57|\n",
    "|1970|27.13|20.49||\n",
    "\n",
    "    1962년부터 1969년까지의 데이터는 개발 이전에 수집된 데이터이고, 1970년부터 1978년까지의 데이터는 개발 이후에 관측된 데이터를 나타낸다. 이 데이터는 아마존 상류지역의 삼림파괴가 아마존 유역의 강 수위에 변화를 일으켰는지 분석하고자 한다. 우리의 관심은 시간에 따른 아마존 강 수위 변화여부이다. 예를 들어 우리가 다음을 적합한다면,\n",
    "\n",
    "$$High = \\beta_0 + \\beta_1 × Year + \\epsilon$$"
   ]
  },
  {
   "cell_type": "markdown",
   "id": "7473462b-77a5-470b-b396-2be77a12febc",
   "metadata": {},
   "source": [
    "(1) $\\beta_1 = 0$은 시간에 따른 아마존 강의 최고수위에 아무런 (선형)변화가 없다는 것을 의미하고, (2) $\\beta_1 > 0$은 아마존 강의 최고수위가 증가된 것을 의미하는데, 이것은 해마다 아마존 강에 흐르는 물이 늘어난 것을 나타낼 수 있다. (3) $\\beta_1 < 0$는 시간에 따라 아마존 강의 최고수위가 낮아 진 것을 의미하는데, 이것은 해마나 아마존 강의 흐르는 물이 줄어든 것을 의미한다.\n",
    "\n",
    "\n",
    "---\n",
    "\n",
    "\n"
   ]
  },
  {
   "cell_type": "markdown",
   "id": "445fb5b9-d1d3-4168-a494-739e97dbbfbc",
   "metadata": {},
   "source": [
    "(1) $High$와 $Year$, $Low$와 $Year$, 그리고 $High$와 $Low$에 대해 산점도를 그리시오."
   ]
  },
  {
   "cell_type": "markdown",
   "id": "52559252-0ad6-4bc8-8b32-0043eb6f472e",
   "metadata": {},
   "source": [
    "`-` 데이터를 데이터프레임으로 입력"
   ]
  },
  {
   "cell_type": "code",
   "execution_count": 1,
   "id": "20752e9f-7c94-45b6-acbe-c67f62bb7258",
   "metadata": {},
   "outputs": [
    {
     "data": {
      "text/html": [
       "<table class=\"dataframe\">\n",
       "<caption>A data.frame: 6 × 3</caption>\n",
       "<thead>\n",
       "\t<tr><th></th><th scope=col>Year</th><th scope=col>High</th><th scope=col>Low</th></tr>\n",
       "\t<tr><th></th><th scope=col>&lt;int&gt;</th><th scope=col>&lt;dbl&gt;</th><th scope=col>&lt;dbl&gt;</th></tr>\n",
       "</thead>\n",
       "<tbody>\n",
       "\t<tr><th scope=row>1</th><td>1962</td><td>25.82</td><td>18.24</td></tr>\n",
       "\t<tr><th scope=row>2</th><td>1963</td><td>25.35</td><td>16.50</td></tr>\n",
       "\t<tr><th scope=row>3</th><td>1964</td><td>24.29</td><td>20.26</td></tr>\n",
       "\t<tr><th scope=row>4</th><td>1965</td><td>24.05</td><td>20.97</td></tr>\n",
       "\t<tr><th scope=row>5</th><td>1966</td><td>24.89</td><td>19.43</td></tr>\n",
       "\t<tr><th scope=row>6</th><td>1967</td><td>25.35</td><td>19.31</td></tr>\n",
       "</tbody>\n",
       "</table>\n"
      ],
      "text/latex": [
       "A data.frame: 6 × 3\n",
       "\\begin{tabular}{r|lll}\n",
       "  & Year & High & Low\\\\\n",
       "  & <int> & <dbl> & <dbl>\\\\\n",
       "\\hline\n",
       "\t1 & 1962 & 25.82 & 18.24\\\\\n",
       "\t2 & 1963 & 25.35 & 16.50\\\\\n",
       "\t3 & 1964 & 24.29 & 20.26\\\\\n",
       "\t4 & 1965 & 24.05 & 20.97\\\\\n",
       "\t5 & 1966 & 24.89 & 19.43\\\\\n",
       "\t6 & 1967 & 25.35 & 19.31\\\\\n",
       "\\end{tabular}\n"
      ],
      "text/markdown": [
       "\n",
       "A data.frame: 6 × 3\n",
       "\n",
       "| <!--/--> | Year &lt;int&gt; | High &lt;dbl&gt; | Low &lt;dbl&gt; |\n",
       "|---|---|---|---|\n",
       "| 1 | 1962 | 25.82 | 18.24 |\n",
       "| 2 | 1963 | 25.35 | 16.50 |\n",
       "| 3 | 1964 | 24.29 | 20.26 |\n",
       "| 4 | 1965 | 24.05 | 20.97 |\n",
       "| 5 | 1966 | 24.89 | 19.43 |\n",
       "| 6 | 1967 | 25.35 | 19.31 |\n",
       "\n"
      ],
      "text/plain": [
       "  Year High  Low  \n",
       "1 1962 25.82 18.24\n",
       "2 1963 25.35 16.50\n",
       "3 1964 24.29 20.26\n",
       "4 1965 24.05 20.97\n",
       "5 1966 24.89 19.43\n",
       "6 1967 25.35 19.31"
      ]
     },
     "metadata": {},
     "output_type": "display_data"
    }
   ],
   "source": [
    "df <- data.frame(\n",
    "    Year = seq(1962, 1978),\n",
    "    High = c(25.82, 25.35, 24.29, 24.05, 24.89, 25.35, 25.23, 25.06, 27.13,\n",
    "             27.36, 26.65, 27.13, 27.49, 27.08, 27.51, 27.54, 26.21),\n",
    "    Low = c(18.24, 16.50, 20.26, 20.97, 19.43, 19.31, 20.85, 19.54, 20.49,\n",
    "           21.91, 22.51, 18.81, 19.42, 19.10, 18.80, 18.80, 17.57)\n",
    ")\n",
    "\n",
    "head(df)"
   ]
  },
  {
   "cell_type": "markdown",
   "id": "1a2da555-e808-47b4-9c97-a6dba8869221",
   "metadata": {},
   "source": [
    "`-` 개별 산점도 산출"
   ]
  },
  {
   "cell_type": "code",
   "execution_count": 2,
   "id": "fead84d2-00f7-42e7-820b-bc69c0d39416",
   "metadata": {},
   "outputs": [
    {
     "data": {
      "image/png": "[encoded data removed]",
      "text/plain": [
       "Plot with title \"High(x1) and Low(x2)\""
      ]
     },
     "metadata": {
      "image/png": {
       "height": 420,
       "width": 420
      }
     },
     "output_type": "display_data"
    }
   ],
   "source": [
    "par(mfrow = c(2,2))\n",
    "plot(High ~ Year, data = df, pch = 16, col = 'darkorange', main = bquote('High(x1) and Year(y)'))\n",
    "plot(Low ~ Year, data = df, pch = 16, col = 'darkorange', main = 'Low(x2) and Year(y)')\n",
    "plot(High ~ Low, data = df, pch = 16, col = 'darkorange', main = 'High(x1) and Low(x2)')"
   ]
  },
  {
   "cell_type": "markdown",
   "id": "30daadfb-f231-42b2-abf0-04a513ab6e61",
   "metadata": {},
   "source": [
    "(2) $Year$에 대한 $High$, $Year$에 대한 $Low$, 그리고 $Low$에 대한 $High$의 회귀모형을 구하시오. 3개 모형의 결과를 요약하고, 각 모형별로 회귀계수의 의미를 설명하시오."
   ]
  },
  {
   "cell_type": "markdown",
   "id": "bcd92547-ea66-488e-8648-35f5e443cdd6",
   "metadata": {},
   "source": [
    "`-` `Year`에 대한 `High`"
   ]
  },
  {
   "cell_type": "code",
   "execution_count": 11,
   "id": "0a7220ef-5d96-469a-84dd-e17f28351d4a",
   "metadata": {},
   "outputs": [
    {
     "data": {
      "text/plain": [
       "\n",
       "Call:\n",
       "lm(formula = High ~ Year, data = df)\n",
       "\n",
       "Residuals:\n",
       "    Min      1Q  Median      3Q     Max \n",
       "-1.3629 -0.5341  0.1479  0.4903  1.1412 \n",
       "\n",
       "Coefficients:\n",
       "              Estimate Std. Error t value Pr(>|t|)    \n",
       "(Intercept) -330.21235   78.03319  -4.232 0.000725 ***\n",
       "Year           0.18088    0.03961   4.567 0.000371 ***\n",
       "---\n",
       "Signif. codes:  0 '***' 0.001 '**' 0.01 '*' 0.05 '.' 0.1 ' ' 1\n",
       "\n",
       "Residual standard error: 0.8001 on 15 degrees of freedom\n",
       "Multiple R-squared:  0.5816,\tAdjusted R-squared:  0.5537 \n",
       "F-statistic: 20.85 on 1 and 15 DF,  p-value: 0.0003708\n"
      ]
     },
     "metadata": {},
     "output_type": "display_data"
    }
   ],
   "source": [
    "model_1 <- lm(High ~ Year, data = df)\n",
    "summary(model_1)"
   ]
  },
  {
   "cell_type": "code",
   "execution_count": 9,
   "id": "c695ac33-46fc-4d79-a499-b9fbf005fc91",
   "metadata": {},
   "outputs": [
    {
     "data": {
      "text/html": [
       "<strong>Year:</strong> 0.180882352941173"
      ],
      "text/latex": [
       "\\textbf{Year:} 0.180882352941173"
      ],
      "text/markdown": [
       "**Year:** 0.180882352941173"
      ],
      "text/plain": [
       "     Year \n",
       "0.1808824 "
      ]
     },
     "metadata": {},
     "output_type": "display_data"
    }
   ],
   "source": [
    "model_1$coefficients[2]"
   ]
  },
  {
   "cell_type": "markdown",
   "id": "4055e07f-ec9e-41af-994d-675954cd7daf",
   "metadata": {},
   "source": [
    "* 모형의 F값에 대한 `p-value`가 0.01보다 작으므로 해당 모형은 유의수준 0.01에서 통계적으로 유의하다.\n",
    "* 회귀계수의 경우 `p-value`가 0.01보다 작으므로 통계적으로 유의하고, 해당 값이 양수이므로, 시간이 지남에 따라 아마존 강의 최고수위가 증가함을 의미한다."
   ]
  },
  {
   "cell_type": "markdown",
   "id": "a34d4aef-139f-4c47-b434-8542b039ed42",
   "metadata": {},
   "source": [
    "`-` `Year`에 대한 `Low`"
   ]
  },
  {
   "cell_type": "code",
   "execution_count": 12,
   "id": "ed711f3a-36f8-45aa-ae76-6f556736d159",
   "metadata": {},
   "outputs": [
    {
     "data": {
      "text/plain": [
       "\n",
       "Call:\n",
       "lm(formula = Low ~ Year, data = df)\n",
       "\n",
       "Residuals:\n",
       "    Min      1Q  Median      3Q     Max \n",
       "-3.1147 -0.7121 -0.1610  0.9306  2.9664 \n",
       "\n",
       "Coefficients:\n",
       "              Estimate Std. Error t value Pr(>|t|)\n",
       "(Intercept)  35.106961 151.723912   0.231     0.82\n",
       "Year         -0.007892   0.077017  -0.102     0.92\n",
       "\n",
       "Residual standard error: 1.556 on 15 degrees of freedom\n",
       "Multiple R-squared:  0.0006996,\tAdjusted R-squared:  -0.06592 \n",
       "F-statistic: 0.0105 on 1 and 15 DF,  p-value: 0.9197\n"
      ]
     },
     "metadata": {},
     "output_type": "display_data"
    }
   ],
   "source": [
    "model_2 <- lm(Low ~ Year, data = df)\n",
    "summary(model_2)"
   ]
  },
  {
   "cell_type": "markdown",
   "id": "45e34d5e-9ee6-4062-9d5f-f67013c28089",
   "metadata": {},
   "source": [
    "* 모형의 F값에 대한 `p-value`가 0.9197로 해당 모형은 통계적으로 유의미하지 않다.\n",
    "* 회귀계수는 시간이 지남에 따라 아마존 강의 최저수위가 얼마나 변하는지를 의미한다."
   ]
  },
  {
   "cell_type": "markdown",
   "id": "fe01cd52-7a69-4e23-8e4e-df1f12109a7f",
   "metadata": {},
   "source": [
    "`-` `Low`에 대한 `High`"
   ]
  },
  {
   "cell_type": "code",
   "execution_count": 16,
   "id": "50ed6b20-874b-4d8a-a8fc-1b645185cd2a",
   "metadata": {},
   "outputs": [
    {
     "data": {
      "text/plain": [
       "\n",
       "Call:\n",
       "lm(formula = High ~ Low, data = df)\n",
       "\n",
       "Residuals:\n",
       "     Min       1Q   Median       3Q      Max \n",
       "-2.05605 -0.87774  0.05615  1.01720  1.40344 \n",
       "\n",
       "Coefficients:\n",
       "            Estimate Std. Error t value Pr(>|t|)    \n",
       "(Intercept) 26.40088    4.02478   6.560 9.05e-06 ***\n",
       "Low         -0.01406    0.20520  -0.069    0.946    \n",
       "---\n",
       "Signif. codes:  0 '***' 0.001 '**' 0.01 '*' 0.05 '.' 0.1 ' ' 1\n",
       "\n",
       "Residual standard error: 1.237 on 15 degrees of freedom\n",
       "Multiple R-squared:  0.0003129,\tAdjusted R-squared:  -0.06633 \n",
       "F-statistic: 0.004695 on 1 and 15 DF,  p-value: 0.9463\n"
      ]
     },
     "metadata": {},
     "output_type": "display_data"
    }
   ],
   "source": [
    "model_3 <- lm(High ~ Low, data = df)\n",
    "summary(model_3)"
   ]
  },
  {
   "cell_type": "markdown",
   "id": "9fd0cf72-2567-44ba-b2c9-4b1f95fbe238",
   "metadata": {},
   "source": [
    "* 모형의 F값에 대한 `p-value`가 0.9463으로, 해당 모형은 통계적으로 유의미하지 않다.\n",
    "* 회귀계수는 아마존 강의 최저수위가 증가함에 따라 최고수위가 얼마나 변하는지를 의미한다."
   ]
  },
  {
   "cell_type": "markdown",
   "id": "3bb9babf-f3e1-4638-9d59-bc022ccb0427",
   "metadata": {},
   "source": [
    "(3) 이 자료를 근거로 우리는 삼림파괴가 아마존 강 수위의 변화를 일으킨다고 할 수 있는가? 이용가능하다면 이러한 인과관계를 추론하는 데 사용될 수 있는 추가 정보는 무엇이 있겠는가?"
   ]
  },
  {
   "cell_type": "markdown",
   "id": "49446bb2-a7c6-49c1-903a-400ac6a073a5",
   "metadata": {},
   "source": [
    "<div class=\"div-box\">\n",
    "&nbsp 시간에 따라 아마존 강 최고수위가 올라간다는 것은 통계적으로 유의미했다. 다만, 이를 삼림파괴와 직접적으로 연결할 수는 없다. 삼림파괴의 정도가 시간에 따라 얼마나 많이 변했느냐에 따른 정보도 없으며, 삼림파괴가 아닌 이외의 요인이 아마존 강 수위의 변화를 일으켰을 수도 있다.\n",
    "<br>\n",
    "&nbsp 이에 따라 아마존 삼림지역의 면적을 연도에 따라 추가적으로 기재하여 이러한 인과관계를 추론하는 데 사용할 수 있을 것이다.\n",
    "</div>"
   ]
  },
  {
   "cell_type": "markdown",
   "id": "222c6737-22a6-47a8-860a-c017bd4b0bdc",
   "metadata": {},
   "source": [
    "(4) 아마존 강의 최저수위와 최고수위와의 산점도를 1960년대, 1970년대 자료별로 다르게 그리고, 각각의 회귀선을 적합하시오."
   ]
  },
  {
   "cell_type": "markdown",
   "id": "a4b745cb-216d-4003-8b44-8cff0797f4c0",
   "metadata": {},
   "source": [
    "`-` 데이터 분할"
   ]
  },
  {
   "cell_type": "code",
   "execution_count": 55,
   "id": "a1ee1b72-42db-4997-acfd-b69265ce074d",
   "metadata": {},
   "outputs": [],
   "source": [
    "df_60 <- df[which(substr(df$Year, 1, 3) == 196),]\n",
    "df_70 <- df[which(substr(df$Year, 1, 3) == 197),]"
   ]
  },
  {
   "cell_type": "code",
   "execution_count": null,
   "id": "c1022aa2-503d-48a7-b3f9-e3ef835059de",
   "metadata": {},
   "outputs": [],
   "source": []
  }
 ],
 "metadata": {
  "kernelspec": {
   "display_name": "R",
   "language": "R",
   "name": "ir"
  },
  "language_info": {
   "codemirror_mode": "r",
   "file_extension": ".r",
   "mimetype": "text/x-r-source",
   "name": "R",
   "pygments_lexer": "r",
   "version": "4.1.3"
  }
 },
 "nbformat": 4,
 "nbformat_minor": 5
}
